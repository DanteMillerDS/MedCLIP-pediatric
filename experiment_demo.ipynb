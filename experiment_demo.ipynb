{
  "cells": [
    {
      "cell_type": "code",
      "execution_count": null,
      "metadata": {
        "colab": {
          "base_uri": "https://localhost:8080/"
        },
        "id": "NyK5zRwvHIK6",
        "outputId": "ab7f2cf3-98de-4fac-c967-82c1829d0a7b"
      },
      "outputs": [
        {
          "name": "stdout",
          "output_type": "stream",
          "text": [
            "Cloning into 'MedCLIP-pediatric'...\n",
            "remote: Enumerating objects: 370, done.\u001b[K\n",
            "remote: Counting objects: 100% (97/97), done.\u001b[K\n",
            "remote: Compressing objects: 100% (65/65), done.\u001b[K\n",
            "remote: Total 370 (delta 64), reused 65 (delta 32), pack-reused 273\u001b[K\n",
            "Receiving objects: 100% (370/370), 104.12 KiB | 11.57 MiB/s, done.\n",
            "Resolving deltas: 100% (226/226), done.\n"
          ]
        }
      ],
      "source": [
        "!git clone https://github.com/DanteMillerDS/MedCLIP-pediatric.git"
      ]
    },
    {
      "cell_type": "code",
      "execution_count": null,
      "metadata": {
        "colab": {
          "base_uri": "https://localhost:8080/"
        },
        "id": "OV264rRAK4wZ",
        "outputId": "083876d3-facf-4395-f384-aa69d5014321"
      },
      "outputs": [
        {
          "name": "stdout",
          "output_type": "stream",
          "text": [
            "Collecting git+https://github.com/openai/CLIP.git (from -r MedCLIP-pediatric/requirements.txt (line 4))\n",
            "  Cloning https://github.com/openai/CLIP.git to /tmp/pip-req-build-fklewm1z\n",
            "  Running command git clone --filter=blob:none --quiet https://github.com/openai/CLIP.git /tmp/pip-req-build-fklewm1z\n",
            "  Resolved https://github.com/openai/CLIP.git to commit a1d071733d7111c9c014f024669f959182114e33\n",
            "  Preparing metadata (setup.py) ... \u001b[?25l\u001b[?25hdone\n",
            "Collecting git+https://github.com/RyanWangZf/MedCLIP.git (from -r MedCLIP-pediatric/requirements.txt (line 5))\n",
            "  Cloning https://github.com/RyanWangZf/MedCLIP.git to /tmp/pip-req-build-1519axe5\n",
            "  Running command git clone --filter=blob:none --quiet https://github.com/RyanWangZf/MedCLIP.git /tmp/pip-req-build-1519axe5\n",
            "  Resolved https://github.com/RyanWangZf/MedCLIP.git to commit 9c3396f20d5d54e4fae241b8cb06ca45848e98c9\n",
            "  Preparing metadata (setup.py) ... \u001b[?25l\u001b[?25hdone\n",
            "Collecting ftfy (from -r MedCLIP-pediatric/requirements.txt (line 1))\n",
            "  Downloading ftfy-6.2.0-py3-none-any.whl (54 kB)\n",
            "\u001b[2K     \u001b[90m━━━━━━━━━━━━━━━━━━━━━━━━━━━━━━━━━━━━━━━━\u001b[0m \u001b[32m54.4/54.4 kB\u001b[0m \u001b[31m1.8 MB/s\u001b[0m eta \u001b[36m0:00:00\u001b[0m\n",
            "\u001b[?25hRequirement already satisfied: regex in /usr/local/lib/python3.10/dist-packages (from -r MedCLIP-pediatric/requirements.txt (line 2)) (2023.12.25)\n",
            "Requirement already satisfied: tqdm in /usr/local/lib/python3.10/dist-packages (from -r MedCLIP-pediatric/requirements.txt (line 3)) (4.66.2)\n",
            "Requirement already satisfied: wcwidth<0.3.0,>=0.2.12 in /usr/local/lib/python3.10/dist-packages (from ftfy->-r MedCLIP-pediatric/requirements.txt (line 1)) (0.2.13)\n",
            "Requirement already satisfied: torch in /usr/local/lib/python3.10/dist-packages (from clip==1.0->-r MedCLIP-pediatric/requirements.txt (line 4)) (2.2.1+cu121)\n",
            "Requirement already satisfied: torchvision in /usr/local/lib/python3.10/dist-packages (from clip==1.0->-r MedCLIP-pediatric/requirements.txt (line 4)) (0.17.1+cu121)\n",
            "Requirement already satisfied: numpy in /usr/local/lib/python3.10/dist-packages (from MedCLIP==0.0.3->-r MedCLIP-pediatric/requirements.txt (line 5)) (1.25.2)\n",
            "Requirement already satisfied: pandas in /usr/local/lib/python3.10/dist-packages (from MedCLIP==0.0.3->-r MedCLIP-pediatric/requirements.txt (line 5)) (1.5.3)\n",
            "Requirement already satisfied: Pillow in /usr/local/lib/python3.10/dist-packages (from MedCLIP==0.0.3->-r MedCLIP-pediatric/requirements.txt (line 5)) (9.4.0)\n",
            "Requirement already satisfied: requests in /usr/local/lib/python3.10/dist-packages (from MedCLIP==0.0.3->-r MedCLIP-pediatric/requirements.txt (line 5)) (2.31.0)\n",
            "Collecting wget (from MedCLIP==0.0.3->-r MedCLIP-pediatric/requirements.txt (line 5))\n",
            "  Downloading wget-3.2.zip (10 kB)\n",
            "  Preparing metadata (setup.py) ... \u001b[?25l\u001b[?25hdone\n",
            "Requirement already satisfied: nltk>=3.7 in /usr/local/lib/python3.10/dist-packages (from MedCLIP==0.0.3->-r MedCLIP-pediatric/requirements.txt (line 5)) (3.8.1)\n",
            "Requirement already satisfied: scikit_learn>=1.1.2 in /usr/local/lib/python3.10/dist-packages (from MedCLIP==0.0.3->-r MedCLIP-pediatric/requirements.txt (line 5)) (1.2.2)\n",
            "Collecting textaugment>=1.3.4 (from MedCLIP==0.0.3->-r MedCLIP-pediatric/requirements.txt (line 5))\n",
            "  Downloading textaugment-2.0.0-py3-none-any.whl (19 kB)\n",
            "Collecting timm>=0.6.11 (from MedCLIP==0.0.3->-r MedCLIP-pediatric/requirements.txt (line 5))\n",
            "  Downloading timm-0.9.16-py3-none-any.whl (2.2 MB)\n",
            "\u001b[2K     \u001b[90m━━━━━━━━━━━━━━━━━━━━━━━━━━━━━━━━━━━━━━━━\u001b[0m \u001b[32m2.2/2.2 MB\u001b[0m \u001b[31m52.3 MB/s\u001b[0m eta \u001b[36m0:00:00\u001b[0m\n",
            "\u001b[?25hCollecting transformers<=4.24.0,>=4.23.1 (from MedCLIP==0.0.3->-r MedCLIP-pediatric/requirements.txt (line 5))\n",
            "  Downloading transformers-4.24.0-py3-none-any.whl (5.5 MB)\n",
            "\u001b[2K     \u001b[90m━━━━━━━━━━━━━━━━━━━━━━━━━━━━━━━━━━━━━━━━\u001b[0m \u001b[32m5.5/5.5 MB\u001b[0m \u001b[31m83.2 MB/s\u001b[0m eta \u001b[36m0:00:00\u001b[0m\n",
            "\u001b[?25hRequirement already satisfied: click in /usr/local/lib/python3.10/dist-packages (from nltk>=3.7->MedCLIP==0.0.3->-r MedCLIP-pediatric/requirements.txt (line 5)) (8.1.7)\n",
            "Requirement already satisfied: joblib in /usr/local/lib/python3.10/dist-packages (from nltk>=3.7->MedCLIP==0.0.3->-r MedCLIP-pediatric/requirements.txt (line 5)) (1.3.2)\n",
            "Requirement already satisfied: scipy>=1.3.2 in /usr/local/lib/python3.10/dist-packages (from scikit_learn>=1.1.2->MedCLIP==0.0.3->-r MedCLIP-pediatric/requirements.txt (line 5)) (1.11.4)\n",
            "Requirement already satisfied: threadpoolctl>=2.0.0 in /usr/local/lib/python3.10/dist-packages (from scikit_learn>=1.1.2->MedCLIP==0.0.3->-r MedCLIP-pediatric/requirements.txt (line 5)) (3.4.0)\n",
            "Requirement already satisfied: gensim>=4.0 in /usr/local/lib/python3.10/dist-packages (from textaugment>=1.3.4->MedCLIP==0.0.3->-r MedCLIP-pediatric/requirements.txt (line 5)) (4.3.2)\n",
            "Requirement already satisfied: textblob in /usr/local/lib/python3.10/dist-packages (from textaugment>=1.3.4->MedCLIP==0.0.3->-r MedCLIP-pediatric/requirements.txt (line 5)) (0.17.1)\n",
            "Collecting googletrans>=2 (from textaugment>=1.3.4->MedCLIP==0.0.3->-r MedCLIP-pediatric/requirements.txt (line 5))\n",
            "  Downloading googletrans-3.0.0.tar.gz (17 kB)\n",
            "  Preparing metadata (setup.py) ... \u001b[?25l\u001b[?25hdone\n",
            "Requirement already satisfied: pyyaml in /usr/local/lib/python3.10/dist-packages (from timm>=0.6.11->MedCLIP==0.0.3->-r MedCLIP-pediatric/requirements.txt (line 5)) (6.0.1)\n",
            "Requirement already satisfied: huggingface_hub in /usr/local/lib/python3.10/dist-packages (from timm>=0.6.11->MedCLIP==0.0.3->-r MedCLIP-pediatric/requirements.txt (line 5)) (0.20.3)\n",
            "Requirement already satisfied: safetensors in /usr/local/lib/python3.10/dist-packages (from timm>=0.6.11->MedCLIP==0.0.3->-r MedCLIP-pediatric/requirements.txt (line 5)) (0.4.2)\n",
            "Requirement already satisfied: filelock in /usr/local/lib/python3.10/dist-packages (from torch->clip==1.0->-r MedCLIP-pediatric/requirements.txt (line 4)) (3.13.3)\n",
            "Requirement already satisfied: typing-extensions>=4.8.0 in /usr/local/lib/python3.10/dist-packages (from torch->clip==1.0->-r MedCLIP-pediatric/requirements.txt (line 4)) (4.10.0)\n",
            "Requirement already satisfied: sympy in /usr/local/lib/python3.10/dist-packages (from torch->clip==1.0->-r MedCLIP-pediatric/requirements.txt (line 4)) (1.12)\n",
            "Requirement already satisfied: networkx in /usr/local/lib/python3.10/dist-packages (from torch->clip==1.0->-r MedCLIP-pediatric/requirements.txt (line 4)) (3.2.1)\n",
            "Requirement already satisfied: jinja2 in /usr/local/lib/python3.10/dist-packages (from torch->clip==1.0->-r MedCLIP-pediatric/requirements.txt (line 4)) (3.1.3)\n",
            "Requirement already satisfied: fsspec in /usr/local/lib/python3.10/dist-packages (from torch->clip==1.0->-r MedCLIP-pediatric/requirements.txt (line 4)) (2023.6.0)\n",
            "Collecting nvidia-cuda-nvrtc-cu12==12.1.105 (from torch->clip==1.0->-r MedCLIP-pediatric/requirements.txt (line 4))\n",
            "  Downloading nvidia_cuda_nvrtc_cu12-12.1.105-py3-none-manylinux1_x86_64.whl (23.7 MB)\n",
            "\u001b[2K     \u001b[90m━━━━━━━━━━━━━━━━━━━━━━━━━━━━━━━━━━━━━━━━\u001b[0m \u001b[32m23.7/23.7 MB\u001b[0m \u001b[31m66.8 MB/s\u001b[0m eta \u001b[36m0:00:00\u001b[0m\n",
            "\u001b[?25hCollecting nvidia-cuda-runtime-cu12==12.1.105 (from torch->clip==1.0->-r MedCLIP-pediatric/requirements.txt (line 4))\n",
            "  Downloading nvidia_cuda_runtime_cu12-12.1.105-py3-none-manylinux1_x86_64.whl (823 kB)\n",
            "\u001b[2K     \u001b[90m━━━━━━━━━━━━━━━━━━━━━━━━━━━━━━━━━━━━━━━━\u001b[0m \u001b[32m823.6/823.6 kB\u001b[0m \u001b[31m58.8 MB/s\u001b[0m eta \u001b[36m0:00:00\u001b[0m\n",
            "\u001b[?25hCollecting nvidia-cuda-cupti-cu12==12.1.105 (from torch->clip==1.0->-r MedCLIP-pediatric/requirements.txt (line 4))\n",
            "  Downloading nvidia_cuda_cupti_cu12-12.1.105-py3-none-manylinux1_x86_64.whl (14.1 MB)\n",
            "\u001b[2K     \u001b[90m━━━━━━━━━━━━━━━━━━━━━━━━━━━━━━━━━━━━━━━━\u001b[0m \u001b[32m14.1/14.1 MB\u001b[0m \u001b[31m86.5 MB/s\u001b[0m eta \u001b[36m0:00:00\u001b[0m\n",
            "\u001b[?25hCollecting nvidia-cudnn-cu12==8.9.2.26 (from torch->clip==1.0->-r MedCLIP-pediatric/requirements.txt (line 4))\n",
            "  Downloading nvidia_cudnn_cu12-8.9.2.26-py3-none-manylinux1_x86_64.whl (731.7 MB)\n",
            "\u001b[2K     \u001b[90m━━━━━━━━━━━━━━━━━━━━━━━━━━━━━━━━━━━━━━━━\u001b[0m \u001b[32m731.7/731.7 MB\u001b[0m \u001b[31m1.7 MB/s\u001b[0m eta \u001b[36m0:00:00\u001b[0m\n",
            "\u001b[?25hCollecting nvidia-cublas-cu12==12.1.3.1 (from torch->clip==1.0->-r MedCLIP-pediatric/requirements.txt (line 4))\n",
            "  Downloading nvidia_cublas_cu12-12.1.3.1-py3-none-manylinux1_x86_64.whl (410.6 MB)\n",
            "\u001b[2K     \u001b[90m━━━━━━━━━━━━━━━━━━━━━━━━━━━━━━━━━━━━━━━━\u001b[0m \u001b[32m410.6/410.6 MB\u001b[0m \u001b[31m2.2 MB/s\u001b[0m eta \u001b[36m0:00:00\u001b[0m\n",
            "\u001b[?25hCollecting nvidia-cufft-cu12==11.0.2.54 (from torch->clip==1.0->-r MedCLIP-pediatric/requirements.txt (line 4))\n",
            "  Downloading nvidia_cufft_cu12-11.0.2.54-py3-none-manylinux1_x86_64.whl (121.6 MB)\n",
            "\u001b[2K     \u001b[90m━━━━━━━━━━━━━━━━━━━━━━━━━━━━━━━━━━━━━━━━\u001b[0m \u001b[32m121.6/121.6 MB\u001b[0m \u001b[31m13.8 MB/s\u001b[0m eta \u001b[36m0:00:00\u001b[0m\n",
            "\u001b[?25hCollecting nvidia-curand-cu12==10.3.2.106 (from torch->clip==1.0->-r MedCLIP-pediatric/requirements.txt (line 4))\n",
            "  Downloading nvidia_curand_cu12-10.3.2.106-py3-none-manylinux1_x86_64.whl (56.5 MB)\n",
            "\u001b[2K     \u001b[90m━━━━━━━━━━━━━━━━━━━━━━━━━━━━━━━━━━━━━━━━\u001b[0m \u001b[32m56.5/56.5 MB\u001b[0m \u001b[31m29.7 MB/s\u001b[0m eta \u001b[36m0:00:00\u001b[0m\n",
            "\u001b[?25hCollecting nvidia-cusolver-cu12==11.4.5.107 (from torch->clip==1.0->-r MedCLIP-pediatric/requirements.txt (line 4))\n",
            "  Downloading nvidia_cusolver_cu12-11.4.5.107-py3-none-manylinux1_x86_64.whl (124.2 MB)\n",
            "\u001b[2K     \u001b[90m━━━━━━━━━━━━━━━━━━━━━━━━━━━━━━━━━━━━━━━━\u001b[0m \u001b[32m124.2/124.2 MB\u001b[0m \u001b[31m8.8 MB/s\u001b[0m eta \u001b[36m0:00:00\u001b[0m\n",
            "\u001b[?25hCollecting nvidia-cusparse-cu12==12.1.0.106 (from torch->clip==1.0->-r MedCLIP-pediatric/requirements.txt (line 4))\n",
            "  Downloading nvidia_cusparse_cu12-12.1.0.106-py3-none-manylinux1_x86_64.whl (196.0 MB)\n",
            "\u001b[2K     \u001b[90m━━━━━━━━━━━━━━━━━━━━━━━━━━━━━━━━━━━━━━━━\u001b[0m \u001b[32m196.0/196.0 MB\u001b[0m \u001b[31m8.7 MB/s\u001b[0m eta \u001b[36m0:00:00\u001b[0m\n",
            "\u001b[?25hCollecting nvidia-nccl-cu12==2.19.3 (from torch->clip==1.0->-r MedCLIP-pediatric/requirements.txt (line 4))\n",
            "  Downloading nvidia_nccl_cu12-2.19.3-py3-none-manylinux1_x86_64.whl (166.0 MB)\n",
            "\u001b[2K     \u001b[90m━━━━━━━━━━━━━━━━━━━━━━━━━━━━━━━━━━━━━━━━\u001b[0m \u001b[32m166.0/166.0 MB\u001b[0m \u001b[31m7.8 MB/s\u001b[0m eta \u001b[36m0:00:00\u001b[0m\n",
            "\u001b[?25hCollecting nvidia-nvtx-cu12==12.1.105 (from torch->clip==1.0->-r MedCLIP-pediatric/requirements.txt (line 4))\n",
            "  Downloading nvidia_nvtx_cu12-12.1.105-py3-none-manylinux1_x86_64.whl (99 kB)\n",
            "\u001b[2K     \u001b[90m━━━━━━━━━━━━━━━━━━━━━━━━━━━━━━━━━━━━━━━━\u001b[0m \u001b[32m99.1/99.1 kB\u001b[0m \u001b[31m16.1 MB/s\u001b[0m eta \u001b[36m0:00:00\u001b[0m\n",
            "\u001b[?25hRequirement already satisfied: triton==2.2.0 in /usr/local/lib/python3.10/dist-packages (from torch->clip==1.0->-r MedCLIP-pediatric/requirements.txt (line 4)) (2.2.0)\n",
            "Collecting nvidia-nvjitlink-cu12 (from nvidia-cusolver-cu12==11.4.5.107->torch->clip==1.0->-r MedCLIP-pediatric/requirements.txt (line 4))\n",
            "  Downloading nvidia_nvjitlink_cu12-12.4.99-py3-none-manylinux2014_x86_64.whl (21.1 MB)\n",
            "\u001b[2K     \u001b[90m━━━━━━━━━━━━━━━━━━━━━━━━━━━━━━━━━━━━━━━━\u001b[0m \u001b[32m21.1/21.1 MB\u001b[0m \u001b[31m85.1 MB/s\u001b[0m eta \u001b[36m0:00:00\u001b[0m\n",
            "\u001b[?25hRequirement already satisfied: packaging>=20.0 in /usr/local/lib/python3.10/dist-packages (from transformers<=4.24.0,>=4.23.1->MedCLIP==0.0.3->-r MedCLIP-pediatric/requirements.txt (line 5)) (24.0)\n",
            "Collecting tokenizers!=0.11.3,<0.14,>=0.11.1 (from transformers<=4.24.0,>=4.23.1->MedCLIP==0.0.3->-r MedCLIP-pediatric/requirements.txt (line 5))\n",
            "  Downloading tokenizers-0.13.3-cp310-cp310-manylinux_2_17_x86_64.manylinux2014_x86_64.whl (7.8 MB)\n",
            "\u001b[2K     \u001b[90m━━━━━━━━━━━━━━━━━━━━━━━━━━━━━━━━━━━━━━━━\u001b[0m \u001b[32m7.8/7.8 MB\u001b[0m \u001b[31m118.7 MB/s\u001b[0m eta \u001b[36m0:00:00\u001b[0m\n",
            "\u001b[?25hRequirement already satisfied: python-dateutil>=2.8.1 in /usr/local/lib/python3.10/dist-packages (from pandas->MedCLIP==0.0.3->-r MedCLIP-pediatric/requirements.txt (line 5)) (2.8.2)\n",
            "Requirement already satisfied: pytz>=2020.1 in /usr/local/lib/python3.10/dist-packages (from pandas->MedCLIP==0.0.3->-r MedCLIP-pediatric/requirements.txt (line 5)) (2023.4)\n",
            "Requirement already satisfied: charset-normalizer<4,>=2 in /usr/local/lib/python3.10/dist-packages (from requests->MedCLIP==0.0.3->-r MedCLIP-pediatric/requirements.txt (line 5)) (3.3.2)\n",
            "Requirement already satisfied: idna<4,>=2.5 in /usr/local/lib/python3.10/dist-packages (from requests->MedCLIP==0.0.3->-r MedCLIP-pediatric/requirements.txt (line 5)) (3.6)\n",
            "Requirement already satisfied: urllib3<3,>=1.21.1 in /usr/local/lib/python3.10/dist-packages (from requests->MedCLIP==0.0.3->-r MedCLIP-pediatric/requirements.txt (line 5)) (2.0.7)\n",
            "Requirement already satisfied: certifi>=2017.4.17 in /usr/local/lib/python3.10/dist-packages (from requests->MedCLIP==0.0.3->-r MedCLIP-pediatric/requirements.txt (line 5)) (2024.2.2)\n",
            "Requirement already satisfied: smart-open>=1.8.1 in /usr/local/lib/python3.10/dist-packages (from gensim>=4.0->textaugment>=1.3.4->MedCLIP==0.0.3->-r MedCLIP-pediatric/requirements.txt (line 5)) (6.4.0)\n",
            "Collecting httpx==0.13.3 (from googletrans>=2->textaugment>=1.3.4->MedCLIP==0.0.3->-r MedCLIP-pediatric/requirements.txt (line 5))\n",
            "  Downloading httpx-0.13.3-py3-none-any.whl (55 kB)\n",
            "\u001b[2K     \u001b[90m━━━━━━━━━━━━━━━━━━━━━━━━━━━━━━━━━━━━━━━━\u001b[0m \u001b[32m55.1/55.1 kB\u001b[0m \u001b[31m8.1 MB/s\u001b[0m eta \u001b[36m0:00:00\u001b[0m\n",
            "\u001b[?25hCollecting hstspreload (from httpx==0.13.3->googletrans>=2->textaugment>=1.3.4->MedCLIP==0.0.3->-r MedCLIP-pediatric/requirements.txt (line 5))\n",
            "  Downloading hstspreload-2024.3.1-py3-none-any.whl (1.1 MB)\n",
            "\u001b[2K     \u001b[90m━━━━━━━━━━━━━━━━━━━━━━━━━━━━━━━━━━━━━━━━\u001b[0m \u001b[32m1.1/1.1 MB\u001b[0m \u001b[31m84.4 MB/s\u001b[0m eta \u001b[36m0:00:00\u001b[0m\n",
            "\u001b[?25hRequirement already satisfied: sniffio in /usr/local/lib/python3.10/dist-packages (from httpx==0.13.3->googletrans>=2->textaugment>=1.3.4->MedCLIP==0.0.3->-r MedCLIP-pediatric/requirements.txt (line 5)) (1.3.1)\n",
            "Collecting chardet==3.* (from httpx==0.13.3->googletrans>=2->textaugment>=1.3.4->MedCLIP==0.0.3->-r MedCLIP-pediatric/requirements.txt (line 5))\n",
            "  Downloading chardet-3.0.4-py2.py3-none-any.whl (133 kB)\n",
            "\u001b[2K     \u001b[90m━━━━━━━━━━━━━━━━━━━━━━━━━━━━━━━━━━━━━━━━\u001b[0m \u001b[32m133.4/133.4 kB\u001b[0m \u001b[31m21.9 MB/s\u001b[0m eta \u001b[36m0:00:00\u001b[0m\n",
            "\u001b[?25hCollecting idna<4,>=2.5 (from requests->MedCLIP==0.0.3->-r MedCLIP-pediatric/requirements.txt (line 5))\n",
            "  Downloading idna-2.10-py2.py3-none-any.whl (58 kB)\n",
            "\u001b[2K     \u001b[90m━━━━━━━━━━━━━━━━━━━━━━━━━━━━━━━━━━━━━━━━\u001b[0m \u001b[32m58.8/58.8 kB\u001b[0m \u001b[31m9.4 MB/s\u001b[0m eta \u001b[36m0:00:00\u001b[0m\n",
            "\u001b[?25hCollecting rfc3986<2,>=1.3 (from httpx==0.13.3->googletrans>=2->textaugment>=1.3.4->MedCLIP==0.0.3->-r MedCLIP-pediatric/requirements.txt (line 5))\n",
            "  Downloading rfc3986-1.5.0-py2.py3-none-any.whl (31 kB)\n",
            "Collecting httpcore==0.9.* (from httpx==0.13.3->googletrans>=2->textaugment>=1.3.4->MedCLIP==0.0.3->-r MedCLIP-pediatric/requirements.txt (line 5))\n",
            "  Downloading httpcore-0.9.1-py3-none-any.whl (42 kB)\n",
            "\u001b[2K     \u001b[90m━━━━━━━━━━━━━━━━━━━━━━━━━━━━━━━━━━━━━━━━\u001b[0m \u001b[32m42.6/42.6 kB\u001b[0m \u001b[31m6.4 MB/s\u001b[0m eta \u001b[36m0:00:00\u001b[0m\n",
            "\u001b[?25hCollecting h11<0.10,>=0.8 (from httpcore==0.9.*->httpx==0.13.3->googletrans>=2->textaugment>=1.3.4->MedCLIP==0.0.3->-r MedCLIP-pediatric/requirements.txt (line 5))\n",
            "  Downloading h11-0.9.0-py2.py3-none-any.whl (53 kB)\n",
            "\u001b[2K     \u001b[90m━━━━━━━━━━━━━━━━━━━━━━━━━━━━━━━━━━━━━━━━\u001b[0m \u001b[32m53.6/53.6 kB\u001b[0m \u001b[31m8.5 MB/s\u001b[0m eta \u001b[36m0:00:00\u001b[0m\n",
            "\u001b[?25hCollecting h2==3.* (from httpcore==0.9.*->httpx==0.13.3->googletrans>=2->textaugment>=1.3.4->MedCLIP==0.0.3->-r MedCLIP-pediatric/requirements.txt (line 5))\n",
            "  Downloading h2-3.2.0-py2.py3-none-any.whl (65 kB)\n",
            "\u001b[2K     \u001b[90m━━━━━━━━━━━━━━━━━━━━━━━━━━━━━━━━━━━━━━━━\u001b[0m \u001b[32m65.0/65.0 kB\u001b[0m \u001b[31m11.3 MB/s\u001b[0m eta \u001b[36m0:00:00\u001b[0m\n",
            "\u001b[?25hCollecting hyperframe<6,>=5.2.0 (from h2==3.*->httpcore==0.9.*->httpx==0.13.3->googletrans>=2->textaugment>=1.3.4->MedCLIP==0.0.3->-r MedCLIP-pediatric/requirements.txt (line 5))\n",
            "  Downloading hyperframe-5.2.0-py2.py3-none-any.whl (12 kB)\n",
            "Collecting hpack<4,>=3.0 (from h2==3.*->httpcore==0.9.*->httpx==0.13.3->googletrans>=2->textaugment>=1.3.4->MedCLIP==0.0.3->-r MedCLIP-pediatric/requirements.txt (line 5))\n",
            "  Downloading hpack-3.0.0-py2.py3-none-any.whl (38 kB)\n",
            "Requirement already satisfied: six>=1.5 in /usr/local/lib/python3.10/dist-packages (from python-dateutil>=2.8.1->pandas->MedCLIP==0.0.3->-r MedCLIP-pediatric/requirements.txt (line 5)) (1.16.0)\n",
            "Requirement already satisfied: MarkupSafe>=2.0 in /usr/local/lib/python3.10/dist-packages (from jinja2->torch->clip==1.0->-r MedCLIP-pediatric/requirements.txt (line 4)) (2.1.5)\n",
            "Requirement already satisfied: mpmath>=0.19 in /usr/local/lib/python3.10/dist-packages (from sympy->torch->clip==1.0->-r MedCLIP-pediatric/requirements.txt (line 4)) (1.3.0)\n",
            "Building wheels for collected packages: clip, MedCLIP, wget, googletrans\n",
            "  Building wheel for clip (setup.py) ... \u001b[?25l\u001b[?25hdone\n",
            "  Created wheel for clip: filename=clip-1.0-py3-none-any.whl size=1369499 sha256=2ad4beb52e43201a284e00fd9a86193664329979b9de658d9aadcf96bbd467ad\n",
            "  Stored in directory: /tmp/pip-ephem-wheel-cache-5lzxb9n3/wheels/da/2b/4c/d6691fa9597aac8bb85d2ac13b112deb897d5b50f5ad9a37e4\n",
            "  Building wheel for MedCLIP (setup.py) ... \u001b[?25l\u001b[?25hdone\n",
            "  Created wheel for MedCLIP: filename=MedCLIP-0.0.3-py3-none-any.whl size=28013 sha256=c43d1610792c2a7a29b9ad7b38abc4f606e8e9173b6e6a56e46ee4f21c9b21dd\n",
            "  Stored in directory: /tmp/pip-ephem-wheel-cache-5lzxb9n3/wheels/d5/ed/0c/c230538eb930e829193f90161c97b1781f48f07e2c7ea66053\n",
            "  Building wheel for wget (setup.py) ... \u001b[?25l\u001b[?25hdone\n",
            "  Created wheel for wget: filename=wget-3.2-py3-none-any.whl size=9656 sha256=8f5aba02f447dea7c316833a6f62aa36c0dd2afd9f492619a12226790bded71b\n",
            "  Stored in directory: /root/.cache/pip/wheels/8b/f1/7f/5c94f0a7a505ca1c81cd1d9208ae2064675d97582078e6c769\n",
            "  Building wheel for googletrans (setup.py) ... \u001b[?25l\u001b[?25hdone\n",
            "  Created wheel for googletrans: filename=googletrans-3.0.0-py3-none-any.whl size=15718 sha256=71ea7f800030664a27393bbfc132b5689dc7c26eb64be2c7ef5050a22f0f7ddb\n",
            "  Stored in directory: /root/.cache/pip/wheels/b3/81/ea/8b030407f8ebfc2f857814e086bb22ca2d4fea1a7be63652ab\n",
            "Successfully built clip MedCLIP wget googletrans\n",
            "Installing collected packages: wget, tokenizers, rfc3986, hyperframe, hpack, h11, chardet, nvidia-nvtx-cu12, nvidia-nvjitlink-cu12, nvidia-nccl-cu12, nvidia-curand-cu12, nvidia-cufft-cu12, nvidia-cuda-runtime-cu12, nvidia-cuda-nvrtc-cu12, nvidia-cuda-cupti-cu12, nvidia-cublas-cu12, idna, hstspreload, h2, ftfy, nvidia-cusparse-cu12, nvidia-cudnn-cu12, httpcore, nvidia-cusolver-cu12, httpx, transformers, googletrans, textaugment, timm, clip, MedCLIP\n",
            "  Attempting uninstall: tokenizers\n",
            "    Found existing installation: tokenizers 0.15.2\n",
            "    Uninstalling tokenizers-0.15.2:\n",
            "      Successfully uninstalled tokenizers-0.15.2\n",
            "  Attempting uninstall: chardet\n",
            "    Found existing installation: chardet 5.2.0\n",
            "    Uninstalling chardet-5.2.0:\n",
            "      Successfully uninstalled chardet-5.2.0\n",
            "  Attempting uninstall: idna\n",
            "    Found existing installation: idna 3.6\n",
            "    Uninstalling idna-3.6:\n",
            "      Successfully uninstalled idna-3.6\n",
            "  Attempting uninstall: transformers\n",
            "    Found existing installation: transformers 4.38.2\n",
            "    Uninstalling transformers-4.38.2:\n",
            "      Successfully uninstalled transformers-4.38.2\n",
            "Successfully installed MedCLIP-0.0.3 chardet-3.0.4 clip-1.0 ftfy-6.2.0 googletrans-3.0.0 h11-0.9.0 h2-3.2.0 hpack-3.0.0 hstspreload-2024.3.1 httpcore-0.9.1 httpx-0.13.3 hyperframe-5.2.0 idna-2.10 nvidia-cublas-cu12-12.1.3.1 nvidia-cuda-cupti-cu12-12.1.105 nvidia-cuda-nvrtc-cu12-12.1.105 nvidia-cuda-runtime-cu12-12.1.105 nvidia-cudnn-cu12-8.9.2.26 nvidia-cufft-cu12-11.0.2.54 nvidia-curand-cu12-10.3.2.106 nvidia-cusolver-cu12-11.4.5.107 nvidia-cusparse-cu12-12.1.0.106 nvidia-nccl-cu12-2.19.3 nvidia-nvjitlink-cu12-12.4.99 nvidia-nvtx-cu12-12.1.105 rfc3986-1.5.0 textaugment-2.0.0 timm-0.9.16 tokenizers-0.13.3 transformers-4.24.0 wget-3.2\n"
          ]
        }
      ],
      "source": [
        "!pip install -r MedCLIP-pediatric/requirements.txt"
      ]
    },
    {
      "cell_type": "code",
      "execution_count": null,
      "metadata": {
        "colab": {
          "base_uri": "https://localhost:8080/",
          "height": 1000,
          "referenced_widgets": [
            "7c7f333ffd0347e886d7f48d83a4b8d4",
            "2527ed93e39c4a22b289d0af4f388eb5",
            "1fe1a65c4e0040a5894b15167d6d8f44",
            "d626b19efac040a78cb47b78af1b8cf6",
            "306acf906c0b421f9b4e68e857a755e6",
            "d57a633d9a9e4f48a91140c1b62f8c49",
            "082e7f59f374450a9c8a954c0b287e4b",
            "bc7f4472342947c99aa49a3689214efb",
            "7efd30f7013f4f2abec30459232a908b",
            "88972caa0d8943859c856b6109d36025",
            "79df43b55d974db6aa19babce2b073b5",
            "1ab05a5a42ea4399a705d3f1d1f41482",
            "c707d97cc09b4e309c42468cd90f65c1",
            "88755ad1b9674617a4233a7379aef77e",
            "ec0fc3108a4c4ba997bd75590f21c68d",
            "13833c040a3f42dfb4c2b605de722612",
            "e39ce7736f624ebbb902c5ba5ccc5d2f",
            "a479e6b9a93241fb85e35d87043d08da",
            "993e218ee8a24f9cb620e684bf4d18b9",
            "0da43d6c58054158b62e91a0716c0416",
            "7cac3f75ddf64d76893bbbe0e0441dc6",
            "061f92b4f609423e8b796c46e3b0aa42"
          ]
        },
        "id": "tdzX2HwKHO60",
        "outputId": "cef48be1-7278-4c0a-c0e7-ba827a970434"
      },
      "outputs": [
        {
          "name": "stdout",
          "output_type": "stream",
          "text": [
            "Mounting Google Drive...\n",
            "Mounted at /content/drive\n",
            "Copying files from Google Drive...\n",
            "Extracting zip files...\n",
            "\n",
            "7-Zip [64] 16.02 : Copyright (c) 1999-2016 Igor Pavlov : 2016-05-21\n",
            "p7zip Version 16.02 (locale=en_US.UTF-8,Utf16=on,HugeFiles=on,64 bits,12 CPUs Intel(R) Xeon(R) CPU @ 2.20GHz (50657),ASM,AES-NI)\n",
            "\n",
            "Scanning the drive for archives:\n",
            "  0M Scan /content/\b\b\b\b\b\b\b\b\b\b\b\b\b\b\b\b\b\b\b                   \b\b\b\b\b\b\b\b\b\b\b\b\b\b\b\b\b\b\b1 file, 22471493 bytes (22 MiB)\n",
            "\n",
            "Extracting archive: /content/ucsd.zip\n",
            " 66% 4096 Open\b\b\b\b\b\b\b\b\b\b\b\b\b\b              \b\b\b\b\b\b\b\b\b\b\b\b\b\b--\n",
            "Path = /content/ucsd.zip\n",
            "Type = zip\n",
            "Physical Size = 22471493\n",
            "\n",
            "  0%\b\b\b\b    \b\b\b\b 23% 1457 - __MACOSX/ucsd/Train/Positive/._VIRUS-4719778-0004.jpeg\b\b\b\b\b\b\b\b\b\b\b\b\b\b\b\b\b\b\b\b\b\b\b\b\b\b\b\b\b\b\b\b\b\b\b\b\b\b\b\b\b\b\b\b\b\b\b\b\b\b\b\b\b\b\b\b\b\b\b\b\b\b\b\b\b\b                                                                  \b\b\b\b\b\b\b\b\b\b\b\b\b\b\b\b\b\b\b\b\b\b\b\b\b\b\b\b\b\b\b\b\b\b\b\b\b\b\b\b\b\b\b\b\b\b\b\b\b\b\b\b\b\b\b\b\b\b\b\b\b\b\b\b\b\b 37% 2407 - __MACOSX/ucsd/Train/Positive/._VIRUS-3826195-0001.jpeg\b\b\b\b\b\b\b\b\b\b\b\b\b\b\b\b\b\b\b\b\b\b\b\b\b\b\b\b\b\b\b\b\b\b\b\b\b\b\b\b\b\b\b\b\b\b\b\b\b\b\b\b\b\b\b\b\b\b\b\b\b\b\b\b\b\b                                                                  \b\b\b\b\b\b\b\b\b\b\b\b\b\b\b\b\b\b\b\b\b\b\b\b\b\b\b\b\b\b\b\b\b\b\b\b\b\b\b\b\b\b\b\b\b\b\b\b\b\b\b\b\b\b\b\b\b\b\b\b\b\b\b\b\b\b 46% 2994 - ucsd/Train/Positive/VIRUS-3004188-0002.jpeg\b\b\b\b\b\b\b\b\b\b\b\b\b\b\b\b\b\b\b\b\b\b\b\b\b\b\b\b\b\b\b\b\b\b\b\b\b\b\b\b\b\b\b\b\b\b\b\b\b\b\b\b\b\b\b                                                       \b\b\b\b\b\b\b\b\b\b\b\b\b\b\b\b\b\b\b\b\b\b\b\b\b\b\b\b\b\b\b\b\b\b\b\b\b\b\b\b\b\b\b\b\b\b\b\b\b\b\b\b\b\b\b 62% 3973 - __MACOSX/ucsd/Train/Negative/._NORMAL-2257508-0001.jpeg\b\b\b\b\b\b\b\b\b\b\b\b\b\b\b\b\b\b\b\b\b\b\b\b\b\b\b\b\b\b\b\b\b\b\b\b\b\b\b\b\b\b\b\b\b\b\b\b\b\b\b\b\b\b\b\b\b\b\b\b\b\b\b\b\b\b\b                                                                   \b\b\b\b\b\b\b\b\b\b\b\b\b\b\b\b\b\b\b\b\b\b\b\b\b\b\b\b\b\b\b\b\b\b\b\b\b\b\b\b\b\b\b\b\b\b\b\b\b\b\b\b\b\b\b\b\b\b\b\b\b\b\b\b\b\b\b 74% 4653 - __MACOSX/ucsd/Train/Negative/._NORMAL-2597757-0001.jpeg\b\b\b\b\b\b\b\b\b\b\b\b\b\b\b\b\b\b\b\b\b\b\b\b\b\b\b\b\b\b\b\b\b\b\b\b\b\b\b\b\b\b\b\b\b\b\b\b\b\b\b\b\b\b\b\b\b\b\b\b\b\b\b\b\b\b\b                                                                   \b\b\b\b\b\b\b\b\b\b\b\b\b\b\b\b\b\b\b\b\b\b\b\b\b\b\b\b\b\b\b\b\b\b\b\b\b\b\b\b\b\b\b\b\b\b\b\b\b\b\b\b\b\b\b\b\b\b\b\b\b\b\b\b\b\b\b 83% 5157 - __MACOSX/ucsd/Train/Negative/._NORMAL-2010074-0002.jpeg\b\b\b\b\b\b\b\b\b\b\b\b\b\b\b\b\b\b\b\b\b\b\b\b\b\b\b\b\b\b\b\b\b\b\b\b\b\b\b\b\b\b\b\b\b\b\b\b\b\b\b\b\b\b\b\b\b\b\b\b\b\b\b\b\b\b\b                                                                   \b\b\b\b\b\b\b\b\b\b\b\b\b\b\b\b\b\b\b\b\b\b\b\b\b\b\b\b\b\b\b\b\b\b\b\b\b\b\b\b\b\b\b\b\b\b\b\b\b\b\b\b\b\b\b\b\b\b\b\b\b\b\b\b\b\b\bEverything is Ok\n",
            "\n",
            "Folders: 10\n",
            "Files: 6162\n",
            "Size:       21151375\n",
            "Compressed: 22471493\n",
            "\n",
            "7-Zip [64] 16.02 : Copyright (c) 1999-2016 Igor Pavlov : 2016-05-21\n",
            "p7zip Version 16.02 (locale=en_US.UTF-8,Utf16=on,HugeFiles=on,64 bits,12 CPUs Intel(R) Xeon(R) CPU @ 2.20GHz (50657),ASM,AES-NI)\n",
            "\n",
            "Scanning the drive for archives:\n",
            "  0M Scan /content/\b\b\b\b\b\b\b\b\b\b\b\b\b\b\b\b\b\b\b                   \b\b\b\b\b\b\b\b\b\b\b\b\b\b\b\b\b\b\b1 file, 19842873 bytes (19 MiB)\n",
            "\n",
            "Extracting archive: /content/ori.zip\n",
            "--\n",
            "Path = /content/ori.zip\n",
            "Type = zip\n",
            "Physical Size = 19842873\n",
            "\n",
            "  0%\b\b\b\b    \b\b\b\b 78% 1317\b\b\b\b\b\b\b\b\b         \b\b\b\b\b\b\b\b\bEverything is Ok\n",
            "\n",
            "Folders: 10\n",
            "Files: 1662\n",
            "Size:       19522791\n",
            "Compressed: 19842873\n",
            "Files extracted successfully.\n"
          ]
        },
        {
          "name": "stderr",
          "output_type": "stream",
          "text": [
            "/usr/local/lib/python3.10/dist-packages/huggingface_hub/utils/_token.py:88: UserWarning: \n",
            "The secret `HF_TOKEN` does not exist in your Colab secrets.\n",
            "To authenticate with the Hugging Face Hub, create a token in your settings tab (https://huggingface.co/settings/tokens), set it as secret in your Google Colab and restart your session.\n",
            "You will be able to reuse this secret in all of your notebooks.\n",
            "Please note that authentication is recommended but still optional to access public models or datasets.\n",
            "  warnings.warn(\n"
          ]
        },
        {
          "data": {
            "application/vnd.jupyter.widget-view+json": {
              "model_id": "7c7f333ffd0347e886d7f48d83a4b8d4",
              "version_major": 2,
              "version_minor": 0
            },
            "text/plain": [
              "config.json:   0%|          | 0.00/385 [00:00<?, ?B/s]"
            ]
          },
          "metadata": {},
          "output_type": "display_data"
        },
        {
          "data": {
            "application/vnd.jupyter.widget-view+json": {
              "model_id": "1ab05a5a42ea4399a705d3f1d1f41482",
              "version_major": 2,
              "version_minor": 0
            },
            "text/plain": [
              "vocab.txt:   0%|          | 0.00/213k [00:00<?, ?B/s]"
            ]
          },
          "metadata": {},
          "output_type": "display_data"
        },
        {
          "name": "stderr",
          "output_type": "stream",
          "text": [
            "100%|███████████████████████████████████████| 338M/338M [00:04<00:00, 82.7MiB/s]\n",
            "/usr/local/lib/python3.10/dist-packages/keras/src/preprocessing/image.py:766: UserWarning: NumpyArrayIterator is set to use the data format convention \"channels_last\" (channels on axis 3), i.e. expected either 1, 3, or 4 channels on axis 3. However, it was passed an array with shape (1967, 3, 224, 224) (224 channels).\n",
            "  warnings.warn(\n",
            "/usr/local/lib/python3.10/dist-packages/keras/src/preprocessing/image.py:766: UserWarning: NumpyArrayIterator is set to use the data format convention \"channels_last\" (channels on axis 3), i.e. expected either 1, 3, or 4 channels on axis 3. However, it was passed an array with shape (493, 3, 224, 224) (224 channels).\n",
            "  warnings.warn(\n",
            "/usr/local/lib/python3.10/dist-packages/keras/src/preprocessing/image.py:766: UserWarning: NumpyArrayIterator is set to use the data format convention \"channels_last\" (channels on axis 3), i.e. expected either 1, 3, or 4 channels on axis 3. However, it was passed an array with shape (616, 3, 224, 224) (224 channels).\n",
            "  warnings.warn(\n",
            "WARNING:matplotlib.image:Clipping input data to the valid range for imshow with RGB data ([0..1] for floats or [0..255] for integers).\n",
            "WARNING:matplotlib.image:Clipping input data to the valid range for imshow with RGB data ([0..1] for floats or [0..255] for integers).\n",
            "WARNING:matplotlib.image:Clipping input data to the valid range for imshow with RGB data ([0..1] for floats or [0..255] for integers).\n",
            "WARNING:matplotlib.image:Clipping input data to the valid range for imshow with RGB data ([0..1] for floats or [0..255] for integers).\n",
            "WARNING:matplotlib.image:Clipping input data to the valid range for imshow with RGB data ([0..1] for floats or [0..255] for integers).\n",
            "WARNING:matplotlib.image:Clipping input data to the valid range for imshow with RGB data ([0..1] for floats or [0..255] for integers).\n"
          ]
        },
        {
          "name": "stdout",
          "output_type": "stream",
          "text": [
            "Results saved to results/visualization/zs_clip_base/ucsd/clip/images/cxr_images.png\n",
            "NVIDIA library configured successfully.\n"
          ]
        },
        {
          "name": "stderr",
          "output_type": "stream",
          "text": [
            "Evaluate Train: 100%|██████████| 8/8 [00:02<00:00,  2.69it/s]\n",
            "Evaluate Validation: 100%|██████████| 2/2 [00:01<00:00,  1.90it/s]\n",
            "Evaluate Test: 100%|██████████| 3/3 [00:01<00:00,  2.24it/s]\n"
          ]
        },
        {
          "name": "stdout",
          "output_type": "stream",
          "text": [
            "\n",
            "Accuracy: 0.6765, Precision: 0.6976, Recall: 0.5887, AUC: 0.4647\n",
            "Results saved to results/zs_clip_base/ucsd/clip/classification_results.txt\n"
          ]
        },
        {
          "name": "stderr",
          "output_type": "stream",
          "text": [
            "/usr/local/lib/python3.10/dist-packages/keras/src/preprocessing/image.py:766: UserWarning: NumpyArrayIterator is set to use the data format convention \"channels_last\" (channels on axis 3), i.e. expected either 1, 3, or 4 channels on axis 3. However, it was passed an array with shape (526, 3, 224, 224) (224 channels).\n",
            "  warnings.warn(\n",
            "/usr/local/lib/python3.10/dist-packages/keras/src/preprocessing/image.py:766: UserWarning: NumpyArrayIterator is set to use the data format convention \"channels_last\" (channels on axis 3), i.e. expected either 1, 3, or 4 channels on axis 3. However, it was passed an array with shape (132, 3, 224, 224) (224 channels).\n",
            "  warnings.warn(\n",
            "/usr/local/lib/python3.10/dist-packages/keras/src/preprocessing/image.py:766: UserWarning: NumpyArrayIterator is set to use the data format convention \"channels_last\" (channels on axis 3), i.e. expected either 1, 3, or 4 channels on axis 3. However, it was passed an array with shape (165, 3, 224, 224) (224 channels).\n",
            "  warnings.warn(\n",
            "WARNING:matplotlib.image:Clipping input data to the valid range for imshow with RGB data ([0..1] for floats or [0..255] for integers).\n",
            "WARNING:matplotlib.image:Clipping input data to the valid range for imshow with RGB data ([0..1] for floats or [0..255] for integers).\n",
            "WARNING:matplotlib.image:Clipping input data to the valid range for imshow with RGB data ([0..1] for floats or [0..255] for integers).\n",
            "WARNING:matplotlib.image:Clipping input data to the valid range for imshow with RGB data ([0..1] for floats or [0..255] for integers).\n",
            "WARNING:matplotlib.image:Clipping input data to the valid range for imshow with RGB data ([0..1] for floats or [0..255] for integers).\n",
            "WARNING:matplotlib.image:Clipping input data to the valid range for imshow with RGB data ([0..1] for floats or [0..255] for integers).\n"
          ]
        },
        {
          "name": "stdout",
          "output_type": "stream",
          "text": [
            "Results saved to results/visualization/zs_clip_base/ori/clip/images/cxr_images.png\n",
            "NVIDIA library configured successfully.\n"
          ]
        },
        {
          "name": "stderr",
          "output_type": "stream",
          "text": [
            "Evaluate Train: 100%|██████████| 3/3 [00:00<00:00,  5.87it/s]\n",
            "Evaluate Validation: 100%|██████████| 1/1 [00:00<00:00, 12.88it/s]\n",
            "Evaluate Test: 100%|██████████| 1/1 [00:00<00:00, 10.39it/s]\n"
          ]
        },
        {
          "name": "stdout",
          "output_type": "stream",
          "text": [
            "\n",
            "Accuracy: 0.5747, Precision: 0.5622, Recall: 0.6040, AUC: 0.5154\n",
            "Results saved to results/zs_clip_base/ori/clip/classification_results.txt\n"
          ]
        },
        {
          "data": {
            "text/plain": [
              "<Figure size 640x480 with 0 Axes>"
            ]
          },
          "metadata": {},
          "output_type": "display_data"
        }
      ],
      "source": [
        "%run MedCLIP-pediatric/scripts/zs_clip_base.py"
      ]
    },
    {
      "cell_type": "code",
      "execution_count": null,
      "metadata": {
        "colab": {
          "background_save": true,
          "base_uri": "https://localhost:8080/",
          "height": 1000,
          "referenced_widgets": [
            "8bc61778480d4ccf8873ee6a5950083a",
            "bc5dde57d2444916abdfafd3bcc2011f",
            "3e86a678078c425993cd391f16765798",
            "c6c342cfc29149e597c6ba6643d26212",
            "702ad5d2d6ff4e27a7dae3ade034e381",
            "1b27f03517234fc1a1e30399903a30b1",
            "d72028f83a8c4d5fa084dc05deb17e4a",
            "8ff04a3ade324136941dc2fa8ee6de65",
            "f4e5b7ff23da4d5991d5864143d53c9e",
            "d138fea02eb84b65bfad1286e7971a6f",
            "a622872e1d564ee48e2ee84e65d79c68",
            "a193a5a18a5447b1b52af1a273d8c023",
            "89de5283a3914b33b52dd3ca17c9bdda",
            "d0ad6fd0e33b4af58447849da69ebdf8",
            "79b88959cf174868835f2b4448100ec0",
            "990294096c994fac8eff155c3a5038af",
            "8044ab2415b94a2488b21e3e39ce0686",
            "3bd9f6b3064844f9ad800386f922d33a",
            "ec542560a6c648e988971b14d91a5445",
            "1845cfe130464f648c95458773801fe2",
            "f333da887a1647278c0aab567653250a",
            "34ba4d01af834ab79fff927a25240f82",
            "4add8eb18c4247c2bfb26b42950b45bf",
            "aee02d1d1e774c98a776730b339c264f",
            "e8b876343d7e47f5ad0e54d29c2ec447",
            "43dffed16cd94d978379a7ea9fbce95d",
            "878123ef26f5410cacaf3e4c054a06d0",
            "ff7a29d6ab5442fca023cc328f501425",
            "64465df1b66646dcab0b58249f580127",
            "4bcb7353a1c4416380acfbfc8a90e9b6",
            "a65ecd2dac71428f943049f9e04e070f",
            "acaf7b65bb184615a93a7f9a275b996b",
            "d20e4885299442a78d7b8917faffc37e"
          ]
        },
        "id": "FzCs7t8nErwu",
        "outputId": "bbb85e09-fa87-4888-a992-b1109ce4c6de"
      },
      "outputs": [
        {
          "name": "stdout",
          "output_type": "stream",
          "text": [
            "Google Drive is already mounted.\n"
          ]
        },
        {
          "name": "stderr",
          "output_type": "stream",
          "text": [
            "/usr/local/lib/python3.10/dist-packages/keras/src/preprocessing/image.py:766: UserWarning: NumpyArrayIterator is set to use the data format convention \"channels_last\" (channels on axis 3), i.e. expected either 1, 3, or 4 channels on axis 3. However, it was passed an array with shape (1967, 1, 224, 224) (224 channels).\n",
            "  warnings.warn(\n",
            "/usr/local/lib/python3.10/dist-packages/keras/src/preprocessing/image.py:766: UserWarning: NumpyArrayIterator is set to use the data format convention \"channels_last\" (channels on axis 3), i.e. expected either 1, 3, or 4 channels on axis 3. However, it was passed an array with shape (493, 1, 224, 224) (224 channels).\n",
            "  warnings.warn(\n",
            "/usr/local/lib/python3.10/dist-packages/keras/src/preprocessing/image.py:766: UserWarning: NumpyArrayIterator is set to use the data format convention \"channels_last\" (channels on axis 3), i.e. expected either 1, 3, or 4 channels on axis 3. However, it was passed an array with shape (616, 1, 224, 224) (224 channels).\n",
            "  warnings.warn(\n"
          ]
        },
        {
          "name": "stdout",
          "output_type": "stream",
          "text": [
            "Results saved to results/visualization/zs_medclip_base/ucsd/medclip/images/cxr_images.png\n",
            "NVIDIA library configured successfully.\n"
          ]
        },
        {
          "data": {
            "application/vnd.jupyter.widget-view+json": {
              "model_id": "8bc61778480d4ccf8873ee6a5950083a",
              "version_major": 2,
              "version_minor": 0
            },
            "text/plain": [
              "config.json:   0%|          | 0.00/71.8k [00:00<?, ?B/s]"
            ]
          },
          "metadata": {},
          "output_type": "display_data"
        },
        {
          "data": {
            "application/vnd.jupyter.widget-view+json": {
              "model_id": "a193a5a18a5447b1b52af1a273d8c023",
              "version_major": 2,
              "version_minor": 0
            },
            "text/plain": [
              "model.safetensors:   0%|          | 0.00/113M [00:00<?, ?B/s]"
            ]
          },
          "metadata": {},
          "output_type": "display_data"
        },
        {
          "name": "stderr",
          "output_type": "stream",
          "text": [
            "/usr/local/lib/python3.10/dist-packages/torch/functional.py:507: UserWarning: torch.meshgrid: in an upcoming release, it will be required to pass the indexing argument. (Triggered internally at ../aten/src/ATen/native/TensorShape.cpp:3549.)\n",
            "  return _VF.meshgrid(tensors, **kwargs)  # type: ignore[attr-defined]\n",
            "Some weights of the model checkpoint at microsoft/swin-tiny-patch4-window7-224 were not used when initializing SwinModel: ['classifier.weight', 'classifier.bias']\n",
            "- This IS expected if you are initializing SwinModel from the checkpoint of a model trained on another task or with another architecture (e.g. initializing a BertForSequenceClassification model from a BertForPreTraining model).\n",
            "- This IS NOT expected if you are initializing SwinModel from the checkpoint of a model that you expect to be exactly identical (initializing a BertForSequenceClassification model from a BertForSequenceClassification model).\n"
          ]
        },
        {
          "data": {
            "application/vnd.jupyter.widget-view+json": {
              "model_id": "4add8eb18c4247c2bfb26b42950b45bf",
              "version_major": 2,
              "version_minor": 0
            },
            "text/plain": [
              "pytorch_model.bin:   0%|          | 0.00/436M [00:00<?, ?B/s]"
            ]
          },
          "metadata": {},
          "output_type": "display_data"
        },
        {
          "name": "stderr",
          "output_type": "stream",
          "text": [
            "Some weights of the model checkpoint at emilyalsentzer/Bio_ClinicalBERT were not used when initializing BertModel: ['cls.seq_relationship.bias', 'cls.predictions.transform.LayerNorm.weight', 'cls.predictions.decoder.weight', 'cls.predictions.bias', 'cls.seq_relationship.weight', 'cls.predictions.transform.dense.weight', 'cls.predictions.transform.LayerNorm.bias', 'cls.predictions.transform.dense.bias']\n",
            "- This IS expected if you are initializing BertModel from the checkpoint of a model trained on another task or with another architecture (e.g. initializing a BertForSequenceClassification model from a BertForPreTraining model).\n",
            "- This IS NOT expected if you are initializing BertModel from the checkpoint of a model that you expect to be exactly identical (initializing a BertForSequenceClassification model from a BertForSequenceClassification model).\n"
          ]
        },
        {
          "name": "stdout",
          "output_type": "stream",
          "text": [
            "\n",
            " Download pretrained model from: https://storage.googleapis.com/pytrial/medclip-vit-pretrained.zip\n",
            "load model weight from: ./pretrained/medclip-vit\n"
          ]
        },
        {
          "name": "stderr",
          "output_type": "stream",
          "text": [
            "\rEvaluate Train:   0%|          | 0/8 [00:00<?, ?it/s]"
          ]
        },
        {
          "name": "stdout",
          "output_type": "stream",
          "text": [
            "sample 1 num of prompts for COVID from total 12\n"
          ]
        },
        {
          "name": "stderr",
          "output_type": "stream",
          "text": [
            "\rEvaluate Train:  12%|█▎        | 1/8 [00:01<00:11,  1.69s/it]"
          ]
        },
        {
          "name": "stdout",
          "output_type": "stream",
          "text": [
            "sample 1 num of prompts for COVID from total 12\n"
          ]
        },
        {
          "name": "stderr",
          "output_type": "stream",
          "text": [
            "\rEvaluate Train:  25%|██▌       | 2/8 [00:03<00:10,  1.74s/it]"
          ]
        },
        {
          "name": "stdout",
          "output_type": "stream",
          "text": [
            "sample 1 num of prompts for COVID from total 12\n"
          ]
        },
        {
          "name": "stderr",
          "output_type": "stream",
          "text": [
            "\rEvaluate Train:  38%|███▊      | 3/8 [00:04<00:08,  1.63s/it]"
          ]
        },
        {
          "name": "stdout",
          "output_type": "stream",
          "text": [
            "sample 1 num of prompts for COVID from total 12\n"
          ]
        },
        {
          "name": "stderr",
          "output_type": "stream",
          "text": [
            "\rEvaluate Train:  50%|█████     | 4/8 [00:06<00:06,  1.60s/it]"
          ]
        },
        {
          "name": "stdout",
          "output_type": "stream",
          "text": [
            "sample 1 num of prompts for COVID from total 12\n"
          ]
        },
        {
          "name": "stderr",
          "output_type": "stream",
          "text": [
            "\rEvaluate Train:  62%|██████▎   | 5/8 [00:07<00:04,  1.53s/it]"
          ]
        },
        {
          "name": "stdout",
          "output_type": "stream",
          "text": [
            "sample 1 num of prompts for COVID from total 12\n"
          ]
        },
        {
          "name": "stderr",
          "output_type": "stream",
          "text": [
            "\rEvaluate Train:  75%|███████▌  | 6/8 [00:09<00:03,  1.56s/it]"
          ]
        },
        {
          "name": "stdout",
          "output_type": "stream",
          "text": [
            "sample 1 num of prompts for COVID from total 12\n"
          ]
        },
        {
          "name": "stderr",
          "output_type": "stream",
          "text": [
            "\rEvaluate Train:  88%|████████▊ | 7/8 [00:10<00:01,  1.49s/it]"
          ]
        },
        {
          "name": "stdout",
          "output_type": "stream",
          "text": [
            "sample 1 num of prompts for COVID from total 12\n"
          ]
        },
        {
          "name": "stderr",
          "output_type": "stream",
          "text": [
            "Evaluate Train: 100%|██████████| 8/8 [00:12<00:00,  1.56s/it]\n",
            "Evaluate Validation:   0%|          | 0/2 [00:00<?, ?it/s]"
          ]
        },
        {
          "name": "stdout",
          "output_type": "stream",
          "text": [
            "sample 1 num of prompts for COVID from total 12\n"
          ]
        },
        {
          "name": "stderr",
          "output_type": "stream",
          "text": [
            "\rEvaluate Validation:  50%|█████     | 1/2 [00:01<00:01,  1.37s/it]"
          ]
        },
        {
          "name": "stdout",
          "output_type": "stream",
          "text": [
            "sample 1 num of prompts for COVID from total 12\n"
          ]
        },
        {
          "name": "stderr",
          "output_type": "stream",
          "text": [
            "Evaluate Validation: 100%|██████████| 2/2 [00:02<00:00,  1.49s/it]\n",
            "Evaluate Test:   0%|          | 0/3 [00:00<?, ?it/s]"
          ]
        },
        {
          "name": "stdout",
          "output_type": "stream",
          "text": [
            "sample 1 num of prompts for COVID from total 12\n"
          ]
        },
        {
          "name": "stderr",
          "output_type": "stream",
          "text": [
            "\rEvaluate Test:  33%|███▎      | 1/3 [00:01<00:03,  1.52s/it]"
          ]
        },
        {
          "name": "stdout",
          "output_type": "stream",
          "text": [
            "sample 1 num of prompts for COVID from total 12\n"
          ]
        },
        {
          "name": "stderr",
          "output_type": "stream",
          "text": [
            "\rEvaluate Test:  67%|██████▋   | 2/3 [00:02<00:01,  1.49s/it]"
          ]
        },
        {
          "name": "stdout",
          "output_type": "stream",
          "text": [
            "sample 1 num of prompts for COVID from total 12\n"
          ]
        },
        {
          "name": "stderr",
          "output_type": "stream",
          "text": [
            "Evaluate Test: 100%|██████████| 3/3 [00:04<00:00,  1.54s/it]\n"
          ]
        },
        {
          "name": "stdout",
          "output_type": "stream",
          "text": [
            "\n",
            "Accuracy: 0.6957, Precision: 0.6996, Recall: 0.6537, AUC: 0.7781\n"
          ]
        },
        {
          "name": "stderr",
          "output_type": "stream",
          "text": [
            "\rEvaluate Train:   0%|          | 0/8 [00:00<?, ?it/s]"
          ]
        },
        {
          "name": "stdout",
          "output_type": "stream",
          "text": [
            "sample 2 num of prompts for COVID from total 12\n"
          ]
        },
        {
          "name": "stderr",
          "output_type": "stream",
          "text": [
            "\rEvaluate Train:  12%|█▎        | 1/8 [00:01<00:11,  1.66s/it]"
          ]
        },
        {
          "name": "stdout",
          "output_type": "stream",
          "text": [
            "sample 2 num of prompts for COVID from total 12\n"
          ]
        },
        {
          "name": "stderr",
          "output_type": "stream",
          "text": [
            "\rEvaluate Train:  25%|██▌       | 2/8 [00:03<00:10,  1.75s/it]"
          ]
        },
        {
          "name": "stdout",
          "output_type": "stream",
          "text": [
            "sample 2 num of prompts for COVID from total 12\n"
          ]
        },
        {
          "name": "stderr",
          "output_type": "stream",
          "text": [
            "\rEvaluate Train:  38%|███▊      | 3/8 [00:04<00:07,  1.57s/it]"
          ]
        },
        {
          "name": "stdout",
          "output_type": "stream",
          "text": [
            "sample 2 num of prompts for COVID from total 12\n"
          ]
        },
        {
          "name": "stderr",
          "output_type": "stream",
          "text": [
            "\rEvaluate Train:  50%|█████     | 4/8 [00:06<00:06,  1.51s/it]"
          ]
        },
        {
          "name": "stdout",
          "output_type": "stream",
          "text": [
            "sample 2 num of prompts for COVID from total 12\n"
          ]
        },
        {
          "name": "stderr",
          "output_type": "stream",
          "text": [
            "\rEvaluate Train:  62%|██████▎   | 5/8 [00:08<00:05,  1.72s/it]"
          ]
        },
        {
          "name": "stdout",
          "output_type": "stream",
          "text": [
            "sample 2 num of prompts for COVID from total 12\n"
          ]
        },
        {
          "name": "stderr",
          "output_type": "stream",
          "text": [
            "\rEvaluate Train:  75%|███████▌  | 6/8 [00:09<00:03,  1.64s/it]"
          ]
        },
        {
          "name": "stdout",
          "output_type": "stream",
          "text": [
            "sample 2 num of prompts for COVID from total 12\n"
          ]
        },
        {
          "name": "stderr",
          "output_type": "stream",
          "text": [
            "\rEvaluate Train:  88%|████████▊ | 7/8 [00:11<00:01,  1.65s/it]"
          ]
        },
        {
          "name": "stdout",
          "output_type": "stream",
          "text": [
            "sample 2 num of prompts for COVID from total 12\n"
          ]
        },
        {
          "name": "stderr",
          "output_type": "stream",
          "text": [
            "Evaluate Train: 100%|██████████| 8/8 [00:13<00:00,  1.66s/it]\n",
            "Evaluate Validation:   0%|          | 0/2 [00:00<?, ?it/s]"
          ]
        },
        {
          "name": "stdout",
          "output_type": "stream",
          "text": [
            "sample 2 num of prompts for COVID from total 12\n"
          ]
        },
        {
          "name": "stderr",
          "output_type": "stream",
          "text": [
            "\rEvaluate Validation:  50%|█████     | 1/2 [00:01<00:01,  1.53s/it]"
          ]
        },
        {
          "name": "stdout",
          "output_type": "stream",
          "text": [
            "sample 2 num of prompts for COVID from total 12\n"
          ]
        },
        {
          "name": "stderr",
          "output_type": "stream",
          "text": [
            "Evaluate Validation: 100%|██████████| 2/2 [00:03<00:00,  1.88s/it]\n",
            "Evaluate Test:   0%|          | 0/3 [00:00<?, ?it/s]"
          ]
        },
        {
          "name": "stdout",
          "output_type": "stream",
          "text": [
            "sample 2 num of prompts for COVID from total 12\n"
          ]
        },
        {
          "name": "stderr",
          "output_type": "stream",
          "text": [
            "\rEvaluate Test:  33%|███▎      | 1/3 [00:01<00:02,  1.38s/it]"
          ]
        },
        {
          "name": "stdout",
          "output_type": "stream",
          "text": [
            "sample 2 num of prompts for COVID from total 12\n"
          ]
        },
        {
          "name": "stderr",
          "output_type": "stream",
          "text": [
            "\rEvaluate Test:  67%|██████▋   | 2/3 [00:03<00:01,  1.85s/it]"
          ]
        },
        {
          "name": "stdout",
          "output_type": "stream",
          "text": [
            "sample 2 num of prompts for COVID from total 12\n"
          ]
        },
        {
          "name": "stderr",
          "output_type": "stream",
          "text": [
            "Evaluate Test: 100%|██████████| 3/3 [00:04<00:00,  1.61s/it]\n"
          ]
        },
        {
          "name": "stdout",
          "output_type": "stream",
          "text": [
            "\n",
            "Accuracy: 0.7110, Precision: 0.6919, Recall: 0.7294, AUC: 0.7923\n"
          ]
        },
        {
          "name": "stderr",
          "output_type": "stream",
          "text": [
            "\rEvaluate Train:   0%|          | 0/8 [00:00<?, ?it/s]"
          ]
        },
        {
          "name": "stdout",
          "output_type": "stream",
          "text": [
            "sample 3 num of prompts for COVID from total 12\n"
          ]
        },
        {
          "name": "stderr",
          "output_type": "stream",
          "text": [
            "\rEvaluate Train:  12%|█▎        | 1/8 [00:01<00:09,  1.37s/it]"
          ]
        },
        {
          "name": "stdout",
          "output_type": "stream",
          "text": [
            "sample 3 num of prompts for COVID from total 12\n"
          ]
        },
        {
          "name": "stderr",
          "output_type": "stream",
          "text": [
            "\rEvaluate Train:  25%|██▌       | 2/8 [00:03<00:10,  1.83s/it]"
          ]
        },
        {
          "name": "stdout",
          "output_type": "stream",
          "text": [
            "sample 3 num of prompts for COVID from total 12\n"
          ]
        },
        {
          "name": "stderr",
          "output_type": "stream",
          "text": [
            "\rEvaluate Train:  38%|███▊      | 3/8 [00:04<00:08,  1.61s/it]"
          ]
        },
        {
          "name": "stdout",
          "output_type": "stream",
          "text": [
            "sample 3 num of prompts for COVID from total 12\n"
          ]
        },
        {
          "name": "stderr",
          "output_type": "stream",
          "text": [
            "\rEvaluate Train:  50%|█████     | 4/8 [00:06<00:06,  1.59s/it]"
          ]
        },
        {
          "name": "stdout",
          "output_type": "stream",
          "text": [
            "sample 3 num of prompts for COVID from total 12\n"
          ]
        },
        {
          "name": "stderr",
          "output_type": "stream",
          "text": [
            "\rEvaluate Train:  62%|██████▎   | 5/8 [00:07<00:04,  1.51s/it]"
          ]
        },
        {
          "name": "stdout",
          "output_type": "stream",
          "text": [
            "sample 3 num of prompts for COVID from total 12\n"
          ]
        },
        {
          "name": "stderr",
          "output_type": "stream",
          "text": [
            "\rEvaluate Train:  75%|███████▌  | 6/8 [00:09<00:03,  1.54s/it]"
          ]
        },
        {
          "name": "stdout",
          "output_type": "stream",
          "text": [
            "sample 3 num of prompts for COVID from total 12\n"
          ]
        },
        {
          "name": "stderr",
          "output_type": "stream",
          "text": [
            "\rEvaluate Train:  88%|████████▊ | 7/8 [00:10<00:01,  1.48s/it]"
          ]
        },
        {
          "name": "stdout",
          "output_type": "stream",
          "text": [
            "sample 3 num of prompts for COVID from total 12\n"
          ]
        },
        {
          "name": "stderr",
          "output_type": "stream",
          "text": [
            "Evaluate Train: 100%|██████████| 8/8 [00:12<00:00,  1.62s/it]\n",
            "Evaluate Validation:   0%|          | 0/2 [00:00<?, ?it/s]"
          ]
        },
        {
          "name": "stdout",
          "output_type": "stream",
          "text": [
            "sample 3 num of prompts for COVID from total 12\n"
          ]
        },
        {
          "name": "stderr",
          "output_type": "stream",
          "text": [
            "\rEvaluate Validation:  50%|█████     | 1/2 [00:01<00:01,  1.40s/it]"
          ]
        },
        {
          "name": "stdout",
          "output_type": "stream",
          "text": [
            "sample 3 num of prompts for COVID from total 12\n"
          ]
        },
        {
          "name": "stderr",
          "output_type": "stream",
          "text": [
            "Evaluate Validation: 100%|██████████| 2/2 [00:03<00:00,  1.77s/it]\n",
            "Evaluate Test:   0%|          | 0/3 [00:00<?, ?it/s]"
          ]
        },
        {
          "name": "stdout",
          "output_type": "stream",
          "text": [
            "sample 3 num of prompts for COVID from total 12\n"
          ]
        },
        {
          "name": "stderr",
          "output_type": "stream",
          "text": [
            "\rEvaluate Test:  33%|███▎      | 1/3 [00:01<00:02,  1.37s/it]"
          ]
        },
        {
          "name": "stdout",
          "output_type": "stream",
          "text": [
            "sample 3 num of prompts for COVID from total 12\n"
          ]
        },
        {
          "name": "stderr",
          "output_type": "stream",
          "text": [
            "\rEvaluate Test:  67%|██████▋   | 2/3 [00:02<00:01,  1.43s/it]"
          ]
        },
        {
          "name": "stdout",
          "output_type": "stream",
          "text": [
            "sample 3 num of prompts for COVID from total 12\n"
          ]
        },
        {
          "name": "stderr",
          "output_type": "stream",
          "text": [
            "Evaluate Test: 100%|██████████| 3/3 [00:04<00:00,  1.50s/it]\n"
          ]
        },
        {
          "name": "stdout",
          "output_type": "stream",
          "text": [
            "\n",
            "Accuracy: 0.7396, Precision: 0.6825, Recall: 0.8667, AUC: 0.8410\n"
          ]
        },
        {
          "name": "stderr",
          "output_type": "stream",
          "text": [
            "\rEvaluate Train:   0%|          | 0/8 [00:00<?, ?it/s]"
          ]
        },
        {
          "name": "stdout",
          "output_type": "stream",
          "text": [
            "sample 4 num of prompts for COVID from total 12\n"
          ]
        },
        {
          "name": "stderr",
          "output_type": "stream",
          "text": [
            "\rEvaluate Train:  12%|█▎        | 1/8 [00:01<00:10,  1.55s/it]"
          ]
        },
        {
          "name": "stdout",
          "output_type": "stream",
          "text": [
            "sample 4 num of prompts for COVID from total 12\n"
          ]
        },
        {
          "name": "stderr",
          "output_type": "stream",
          "text": [
            "\rEvaluate Train:  25%|██▌       | 2/8 [00:03<00:09,  1.52s/it]"
          ]
        },
        {
          "name": "stdout",
          "output_type": "stream",
          "text": [
            "sample 4 num of prompts for COVID from total 12\n"
          ]
        },
        {
          "name": "stderr",
          "output_type": "stream",
          "text": [
            "\rEvaluate Train:  38%|███▊      | 3/8 [00:04<00:07,  1.57s/it]"
          ]
        },
        {
          "name": "stdout",
          "output_type": "stream",
          "text": [
            "sample 4 num of prompts for COVID from total 12\n"
          ]
        },
        {
          "name": "stderr",
          "output_type": "stream",
          "text": [
            "\rEvaluate Train:  50%|█████     | 4/8 [00:06<00:05,  1.49s/it]"
          ]
        },
        {
          "name": "stdout",
          "output_type": "stream",
          "text": [
            "sample 4 num of prompts for COVID from total 12\n"
          ]
        },
        {
          "name": "stderr",
          "output_type": "stream",
          "text": [
            "\rEvaluate Train:  62%|██████▎   | 5/8 [00:07<00:04,  1.54s/it]"
          ]
        },
        {
          "name": "stdout",
          "output_type": "stream",
          "text": [
            "sample 4 num of prompts for COVID from total 12\n"
          ]
        },
        {
          "name": "stderr",
          "output_type": "stream",
          "text": [
            "\rEvaluate Train:  75%|███████▌  | 6/8 [00:09<00:02,  1.48s/it]"
          ]
        },
        {
          "name": "stdout",
          "output_type": "stream",
          "text": [
            "sample 4 num of prompts for COVID from total 12\n"
          ]
        },
        {
          "name": "stderr",
          "output_type": "stream",
          "text": [
            "\rEvaluate Train:  88%|████████▊ | 7/8 [00:10<00:01,  1.54s/it]"
          ]
        },
        {
          "name": "stdout",
          "output_type": "stream",
          "text": [
            "sample 4 num of prompts for COVID from total 12\n"
          ]
        },
        {
          "name": "stderr",
          "output_type": "stream",
          "text": [
            "Evaluate Train: 100%|██████████| 8/8 [00:12<00:00,  1.50s/it]\n",
            "Evaluate Validation:   0%|          | 0/2 [00:00<?, ?it/s]"
          ]
        },
        {
          "name": "stdout",
          "output_type": "stream",
          "text": [
            "sample 4 num of prompts for COVID from total 12\n"
          ]
        },
        {
          "name": "stderr",
          "output_type": "stream",
          "text": [
            "\rEvaluate Validation:  50%|█████     | 1/2 [00:01<00:01,  1.37s/it]"
          ]
        },
        {
          "name": "stdout",
          "output_type": "stream",
          "text": [
            "sample 4 num of prompts for COVID from total 12\n"
          ]
        },
        {
          "name": "stderr",
          "output_type": "stream",
          "text": [
            "Evaluate Validation: 100%|██████████| 2/2 [00:02<00:00,  1.45s/it]\n",
            "Evaluate Test:   0%|          | 0/3 [00:00<?, ?it/s]"
          ]
        },
        {
          "name": "stdout",
          "output_type": "stream",
          "text": [
            "sample 4 num of prompts for COVID from total 12\n"
          ]
        },
        {
          "name": "stderr",
          "output_type": "stream",
          "text": [
            "\rEvaluate Test:  33%|███▎      | 1/3 [00:01<00:02,  1.37s/it]"
          ]
        },
        {
          "name": "stdout",
          "output_type": "stream",
          "text": [
            "sample 4 num of prompts for COVID from total 12\n"
          ]
        },
        {
          "name": "stderr",
          "output_type": "stream",
          "text": [
            "\rEvaluate Test:  67%|██████▋   | 2/3 [00:02<00:01,  1.39s/it]"
          ]
        },
        {
          "name": "stdout",
          "output_type": "stream",
          "text": [
            "sample 4 num of prompts for COVID from total 12\n"
          ]
        },
        {
          "name": "stderr",
          "output_type": "stream",
          "text": [
            "Evaluate Test: 100%|██████████| 3/3 [00:04<00:00,  1.46s/it]\n"
          ]
        },
        {
          "name": "stdout",
          "output_type": "stream",
          "text": [
            "\n",
            "Accuracy: 0.7520, Precision: 0.6821, Recall: 0.9156, AUC: 0.8594\n"
          ]
        },
        {
          "name": "stderr",
          "output_type": "stream",
          "text": [
            "\rEvaluate Train:   0%|          | 0/8 [00:00<?, ?it/s]"
          ]
        },
        {
          "name": "stdout",
          "output_type": "stream",
          "text": [
            "sample 5 num of prompts for COVID from total 12\n"
          ]
        },
        {
          "name": "stderr",
          "output_type": "stream",
          "text": [
            "\rEvaluate Train:  12%|█▎        | 1/8 [00:01<00:10,  1.46s/it]"
          ]
        },
        {
          "name": "stdout",
          "output_type": "stream",
          "text": [
            "sample 5 num of prompts for COVID from total 12\n"
          ]
        },
        {
          "name": "stderr",
          "output_type": "stream",
          "text": [
            "\rEvaluate Train:  25%|██▌       | 2/8 [00:02<00:08,  1.47s/it]"
          ]
        },
        {
          "name": "stdout",
          "output_type": "stream",
          "text": [
            "sample 5 num of prompts for COVID from total 12\n"
          ]
        },
        {
          "name": "stderr",
          "output_type": "stream",
          "text": [
            "\rEvaluate Train:  38%|███▊      | 3/8 [00:04<00:07,  1.43s/it]"
          ]
        },
        {
          "name": "stdout",
          "output_type": "stream",
          "text": [
            "sample 5 num of prompts for COVID from total 12\n"
          ]
        },
        {
          "name": "stderr",
          "output_type": "stream",
          "text": [
            "\rEvaluate Train:  50%|█████     | 4/8 [00:06<00:06,  1.54s/it]"
          ]
        },
        {
          "name": "stdout",
          "output_type": "stream",
          "text": [
            "sample 5 num of prompts for COVID from total 12\n"
          ]
        },
        {
          "name": "stderr",
          "output_type": "stream",
          "text": [
            "\rEvaluate Train:  62%|██████▎   | 5/8 [00:07<00:04,  1.66s/it]"
          ]
        },
        {
          "name": "stdout",
          "output_type": "stream",
          "text": [
            "sample 5 num of prompts for COVID from total 12\n"
          ]
        },
        {
          "name": "stderr",
          "output_type": "stream",
          "text": [
            "\rEvaluate Train:  75%|███████▌  | 6/8 [00:10<00:03,  1.87s/it]"
          ]
        },
        {
          "name": "stdout",
          "output_type": "stream",
          "text": [
            "sample 5 num of prompts for COVID from total 12\n"
          ]
        },
        {
          "name": "stderr",
          "output_type": "stream",
          "text": [
            "\rEvaluate Train:  88%|████████▊ | 7/8 [00:11<00:01,  1.71s/it]"
          ]
        },
        {
          "name": "stdout",
          "output_type": "stream",
          "text": [
            "sample 5 num of prompts for COVID from total 12\n"
          ]
        },
        {
          "name": "stderr",
          "output_type": "stream",
          "text": [
            "Evaluate Train: 100%|██████████| 8/8 [00:12<00:00,  1.61s/it]\n",
            "Evaluate Validation:   0%|          | 0/2 [00:00<?, ?it/s]"
          ]
        },
        {
          "name": "stdout",
          "output_type": "stream",
          "text": [
            "sample 5 num of prompts for COVID from total 12\n"
          ]
        },
        {
          "name": "stderr",
          "output_type": "stream",
          "text": [
            "\rEvaluate Validation:  50%|█████     | 1/2 [00:01<00:01,  1.36s/it]"
          ]
        },
        {
          "name": "stdout",
          "output_type": "stream",
          "text": [
            "sample 5 num of prompts for COVID from total 12\n"
          ]
        },
        {
          "name": "stderr",
          "output_type": "stream",
          "text": [
            "Evaluate Validation: 100%|██████████| 2/2 [00:03<00:00,  1.76s/it]\n",
            "Evaluate Test:   0%|          | 0/3 [00:00<?, ?it/s]"
          ]
        },
        {
          "name": "stdout",
          "output_type": "stream",
          "text": [
            "sample 5 num of prompts for COVID from total 12\n"
          ]
        },
        {
          "name": "stderr",
          "output_type": "stream",
          "text": [
            "\rEvaluate Test:  33%|███▎      | 1/3 [00:01<00:02,  1.38s/it]"
          ]
        },
        {
          "name": "stdout",
          "output_type": "stream",
          "text": [
            "sample 5 num of prompts for COVID from total 12\n"
          ]
        },
        {
          "name": "stderr",
          "output_type": "stream",
          "text": [
            "\rEvaluate Test:  67%|██████▋   | 2/3 [00:02<00:01,  1.42s/it]"
          ]
        },
        {
          "name": "stdout",
          "output_type": "stream",
          "text": [
            "sample 5 num of prompts for COVID from total 12\n"
          ]
        },
        {
          "name": "stderr",
          "output_type": "stream",
          "text": [
            "Evaluate Test: 100%|██████████| 3/3 [00:04<00:00,  1.38s/it]\n"
          ]
        },
        {
          "name": "stdout",
          "output_type": "stream",
          "text": [
            "\n",
            "Accuracy: 0.7520, Precision: 0.6816, Recall: 0.9176, AUC: 0.8596\n"
          ]
        },
        {
          "name": "stderr",
          "output_type": "stream",
          "text": [
            "\rEvaluate Train:   0%|          | 0/8 [00:00<?, ?it/s]"
          ]
        },
        {
          "name": "stdout",
          "output_type": "stream",
          "text": [
            "sample 6 num of prompts for COVID from total 12\n"
          ]
        },
        {
          "name": "stderr",
          "output_type": "stream",
          "text": [
            "\rEvaluate Train:  12%|█▎        | 1/8 [00:01<00:10,  1.48s/it]"
          ]
        },
        {
          "name": "stdout",
          "output_type": "stream",
          "text": [
            "sample 6 num of prompts for COVID from total 12\n"
          ]
        },
        {
          "name": "stderr",
          "output_type": "stream",
          "text": [
            "\rEvaluate Train:  25%|██▌       | 2/8 [00:02<00:08,  1.46s/it]"
          ]
        },
        {
          "name": "stdout",
          "output_type": "stream",
          "text": [
            "sample 6 num of prompts for COVID from total 12\n"
          ]
        },
        {
          "name": "stderr",
          "output_type": "stream",
          "text": [
            "\rEvaluate Train:  38%|███▊      | 3/8 [00:04<00:07,  1.48s/it]"
          ]
        },
        {
          "name": "stdout",
          "output_type": "stream",
          "text": [
            "sample 6 num of prompts for COVID from total 12\n"
          ]
        },
        {
          "name": "stderr",
          "output_type": "stream",
          "text": [
            "\rEvaluate Train:  50%|█████     | 4/8 [00:05<00:05,  1.44s/it]"
          ]
        },
        {
          "name": "stdout",
          "output_type": "stream",
          "text": [
            "sample 6 num of prompts for COVID from total 12\n"
          ]
        },
        {
          "name": "stderr",
          "output_type": "stream",
          "text": [
            "\rEvaluate Train:  62%|██████▎   | 5/8 [00:07<00:05,  1.71s/it]"
          ]
        },
        {
          "name": "stdout",
          "output_type": "stream",
          "text": [
            "sample 6 num of prompts for COVID from total 12\n"
          ]
        },
        {
          "name": "stderr",
          "output_type": "stream",
          "text": [
            "\rEvaluate Train:  75%|███████▌  | 6/8 [00:09<00:03,  1.67s/it]"
          ]
        },
        {
          "name": "stdout",
          "output_type": "stream",
          "text": [
            "sample 6 num of prompts for COVID from total 12\n"
          ]
        },
        {
          "name": "stderr",
          "output_type": "stream",
          "text": [
            "\rEvaluate Train:  88%|████████▊ | 7/8 [00:10<00:01,  1.57s/it]"
          ]
        },
        {
          "name": "stdout",
          "output_type": "stream",
          "text": [
            "sample 6 num of prompts for COVID from total 12\n"
          ]
        },
        {
          "name": "stderr",
          "output_type": "stream",
          "text": [
            "Evaluate Train: 100%|██████████| 8/8 [00:12<00:00,  1.53s/it]\n",
            "Evaluate Validation:   0%|          | 0/2 [00:00<?, ?it/s]"
          ]
        },
        {
          "name": "stdout",
          "output_type": "stream",
          "text": [
            "sample 6 num of prompts for COVID from total 12\n"
          ]
        },
        {
          "name": "stderr",
          "output_type": "stream",
          "text": [
            "\rEvaluate Validation:  50%|█████     | 1/2 [00:01<00:01,  1.42s/it]"
          ]
        },
        {
          "name": "stdout",
          "output_type": "stream",
          "text": [
            "sample 6 num of prompts for COVID from total 12\n"
          ]
        },
        {
          "name": "stderr",
          "output_type": "stream",
          "text": [
            "Evaluate Validation: 100%|██████████| 2/2 [00:03<00:00,  1.50s/it]\n",
            "Evaluate Test:   0%|          | 0/3 [00:00<?, ?it/s]"
          ]
        },
        {
          "name": "stdout",
          "output_type": "stream",
          "text": [
            "sample 6 num of prompts for COVID from total 12\n"
          ]
        },
        {
          "name": "stderr",
          "output_type": "stream",
          "text": [
            "\rEvaluate Test:  33%|███▎      | 1/3 [00:01<00:02,  1.36s/it]"
          ]
        },
        {
          "name": "stdout",
          "output_type": "stream",
          "text": [
            "sample 6 num of prompts for COVID from total 12\n"
          ]
        },
        {
          "name": "stderr",
          "output_type": "stream",
          "text": [
            "\rEvaluate Test:  67%|██████▋   | 2/3 [00:02<00:01,  1.41s/it]"
          ]
        },
        {
          "name": "stdout",
          "output_type": "stream",
          "text": [
            "sample 6 num of prompts for COVID from total 12\n"
          ]
        },
        {
          "name": "stderr",
          "output_type": "stream",
          "text": [
            "Evaluate Test: 100%|██████████| 3/3 [00:04<00:00,  1.59s/it]\n"
          ]
        },
        {
          "name": "stdout",
          "output_type": "stream",
          "text": [
            "\n",
            "Accuracy: 0.7493, Precision: 0.6778, Recall: 0.9216, AUC: 0.8597\n"
          ]
        },
        {
          "name": "stderr",
          "output_type": "stream",
          "text": [
            "\rEvaluate Train:   0%|          | 0/8 [00:00<?, ?it/s]"
          ]
        },
        {
          "name": "stdout",
          "output_type": "stream",
          "text": [
            "sample 7 num of prompts for COVID from total 12\n"
          ]
        },
        {
          "name": "stderr",
          "output_type": "stream",
          "text": [
            "\rEvaluate Train:  12%|█▎        | 1/8 [00:01<00:09,  1.42s/it]"
          ]
        },
        {
          "name": "stdout",
          "output_type": "stream",
          "text": [
            "sample 7 num of prompts for COVID from total 12\n"
          ]
        },
        {
          "name": "stderr",
          "output_type": "stream",
          "text": [
            "\rEvaluate Train:  25%|██▌       | 2/8 [00:02<00:08,  1.46s/it]"
          ]
        },
        {
          "name": "stdout",
          "output_type": "stream",
          "text": [
            "sample 7 num of prompts for COVID from total 12\n"
          ]
        },
        {
          "name": "stderr",
          "output_type": "stream",
          "text": [
            "\rEvaluate Train:  38%|███▊      | 3/8 [00:04<00:07,  1.50s/it]"
          ]
        },
        {
          "name": "stdout",
          "output_type": "stream",
          "text": [
            "sample 7 num of prompts for COVID from total 12\n"
          ]
        },
        {
          "name": "stderr",
          "output_type": "stream",
          "text": [
            "\rEvaluate Train:  50%|█████     | 4/8 [00:05<00:05,  1.45s/it]"
          ]
        },
        {
          "name": "stdout",
          "output_type": "stream",
          "text": [
            "sample 7 num of prompts for COVID from total 12\n"
          ]
        },
        {
          "name": "stderr",
          "output_type": "stream",
          "text": [
            "\rEvaluate Train:  62%|██████▎   | 5/8 [00:07<00:04,  1.42s/it]"
          ]
        },
        {
          "name": "stdout",
          "output_type": "stream",
          "text": [
            "sample 7 num of prompts for COVID from total 12\n"
          ]
        },
        {
          "name": "stderr",
          "output_type": "stream",
          "text": [
            "\rEvaluate Train:  75%|███████▌  | 6/8 [00:09<00:03,  1.64s/it]"
          ]
        },
        {
          "name": "stdout",
          "output_type": "stream",
          "text": [
            "sample 7 num of prompts for COVID from total 12\n"
          ]
        },
        {
          "name": "stderr",
          "output_type": "stream",
          "text": [
            "\rEvaluate Train:  88%|████████▊ | 7/8 [00:10<00:01,  1.55s/it]"
          ]
        },
        {
          "name": "stdout",
          "output_type": "stream",
          "text": [
            "sample 7 num of prompts for COVID from total 12\n"
          ]
        },
        {
          "name": "stderr",
          "output_type": "stream",
          "text": [
            "Evaluate Train: 100%|██████████| 8/8 [00:12<00:00,  1.52s/it]\n",
            "Evaluate Validation:   0%|          | 0/2 [00:00<?, ?it/s]"
          ]
        },
        {
          "name": "stdout",
          "output_type": "stream",
          "text": [
            "sample 7 num of prompts for COVID from total 12\n"
          ]
        },
        {
          "name": "stderr",
          "output_type": "stream",
          "text": [
            "\rEvaluate Validation:  50%|█████     | 1/2 [00:01<00:01,  1.38s/it]"
          ]
        },
        {
          "name": "stdout",
          "output_type": "stream",
          "text": [
            "sample 7 num of prompts for COVID from total 12\n"
          ]
        },
        {
          "name": "stderr",
          "output_type": "stream",
          "text": [
            "Evaluate Validation: 100%|██████████| 2/2 [00:03<00:00,  1.60s/it]\n",
            "Evaluate Test:   0%|          | 0/3 [00:00<?, ?it/s]"
          ]
        },
        {
          "name": "stdout",
          "output_type": "stream",
          "text": [
            "sample 7 num of prompts for COVID from total 12\n"
          ]
        },
        {
          "name": "stderr",
          "output_type": "stream",
          "text": [
            "\rEvaluate Test:  33%|███▎      | 1/3 [00:01<00:02,  1.45s/it]"
          ]
        },
        {
          "name": "stdout",
          "output_type": "stream",
          "text": [
            "sample 7 num of prompts for COVID from total 12\n"
          ]
        },
        {
          "name": "stderr",
          "output_type": "stream",
          "text": [
            "\rEvaluate Test:  67%|██████▋   | 2/3 [00:02<00:01,  1.48s/it]"
          ]
        },
        {
          "name": "stdout",
          "output_type": "stream",
          "text": [
            "sample 7 num of prompts for COVID from total 12\n"
          ]
        },
        {
          "name": "stderr",
          "output_type": "stream",
          "text": [
            "Evaluate Test: 100%|██████████| 3/3 [00:04<00:00,  1.47s/it]\n"
          ]
        },
        {
          "name": "stdout",
          "output_type": "stream",
          "text": [
            "\n",
            "Accuracy: 0.7510, Precision: 0.6800, Recall: 0.9196, AUC: 0.8596\n"
          ]
        },
        {
          "name": "stderr",
          "output_type": "stream",
          "text": [
            "\rEvaluate Train:   0%|          | 0/8 [00:00<?, ?it/s]"
          ]
        },
        {
          "name": "stdout",
          "output_type": "stream",
          "text": [
            "sample 8 num of prompts for COVID from total 12\n"
          ]
        },
        {
          "name": "stderr",
          "output_type": "stream",
          "text": [
            "\rEvaluate Train:  12%|█▎        | 1/8 [00:01<00:09,  1.38s/it]"
          ]
        },
        {
          "name": "stdout",
          "output_type": "stream",
          "text": [
            "sample 8 num of prompts for COVID from total 12\n"
          ]
        },
        {
          "name": "stderr",
          "output_type": "stream",
          "text": [
            "\rEvaluate Train:  25%|██▌       | 2/8 [00:03<00:10,  1.72s/it]"
          ]
        },
        {
          "name": "stdout",
          "output_type": "stream",
          "text": [
            "sample 8 num of prompts for COVID from total 12\n"
          ]
        },
        {
          "name": "stderr",
          "output_type": "stream",
          "text": [
            "\rEvaluate Train:  38%|███▊      | 3/8 [00:04<00:07,  1.56s/it]"
          ]
        },
        {
          "name": "stdout",
          "output_type": "stream",
          "text": [
            "sample 8 num of prompts for COVID from total 12\n"
          ]
        },
        {
          "name": "stderr",
          "output_type": "stream",
          "text": [
            "\rEvaluate Train:  50%|█████     | 4/8 [00:06<00:05,  1.50s/it]"
          ]
        },
        {
          "name": "stdout",
          "output_type": "stream",
          "text": [
            "sample 8 num of prompts for COVID from total 12\n"
          ]
        },
        {
          "name": "stderr",
          "output_type": "stream",
          "text": [
            "\rEvaluate Train:  62%|██████▎   | 5/8 [00:07<00:04,  1.54s/it]"
          ]
        },
        {
          "name": "stdout",
          "output_type": "stream",
          "text": [
            "sample 8 num of prompts for COVID from total 12\n"
          ]
        },
        {
          "name": "stderr",
          "output_type": "stream",
          "text": [
            "\rEvaluate Train:  75%|███████▌  | 6/8 [00:09<00:03,  1.56s/it]"
          ]
        },
        {
          "name": "stdout",
          "output_type": "stream",
          "text": [
            "sample 8 num of prompts for COVID from total 12\n"
          ]
        },
        {
          "name": "stderr",
          "output_type": "stream",
          "text": [
            "\rEvaluate Train:  88%|████████▊ | 7/8 [00:10<00:01,  1.54s/it]"
          ]
        },
        {
          "name": "stdout",
          "output_type": "stream",
          "text": [
            "sample 8 num of prompts for COVID from total 12\n"
          ]
        },
        {
          "name": "stderr",
          "output_type": "stream",
          "text": [
            "Evaluate Train: 100%|██████████| 8/8 [00:12<00:00,  1.54s/it]\n",
            "Evaluate Validation:   0%|          | 0/2 [00:00<?, ?it/s]"
          ]
        },
        {
          "name": "stdout",
          "output_type": "stream",
          "text": [
            "sample 8 num of prompts for COVID from total 12\n"
          ]
        },
        {
          "name": "stderr",
          "output_type": "stream",
          "text": [
            "\rEvaluate Validation:  50%|█████     | 1/2 [00:01<00:01,  1.36s/it]"
          ]
        },
        {
          "name": "stdout",
          "output_type": "stream",
          "text": [
            "sample 8 num of prompts for COVID from total 12\n"
          ]
        },
        {
          "name": "stderr",
          "output_type": "stream",
          "text": [
            "Evaluate Validation: 100%|██████████| 2/2 [00:02<00:00,  1.45s/it]\n",
            "Evaluate Test:   0%|          | 0/3 [00:00<?, ?it/s]"
          ]
        },
        {
          "name": "stdout",
          "output_type": "stream",
          "text": [
            "sample 8 num of prompts for COVID from total 12\n"
          ]
        },
        {
          "name": "stderr",
          "output_type": "stream",
          "text": [
            "\rEvaluate Test:  33%|███▎      | 1/3 [00:01<00:02,  1.36s/it]"
          ]
        },
        {
          "name": "stdout",
          "output_type": "stream",
          "text": [
            "sample 8 num of prompts for COVID from total 12\n"
          ]
        },
        {
          "name": "stderr",
          "output_type": "stream",
          "text": [
            "\rEvaluate Test:  67%|██████▋   | 2/3 [00:02<00:01,  1.44s/it]"
          ]
        },
        {
          "name": "stdout",
          "output_type": "stream",
          "text": [
            "sample 8 num of prompts for COVID from total 12\n"
          ]
        },
        {
          "name": "stderr",
          "output_type": "stream",
          "text": [
            "Evaluate Test: 100%|██████████| 3/3 [00:04<00:00,  1.41s/it]\n"
          ]
        },
        {
          "name": "stdout",
          "output_type": "stream",
          "text": [
            "\n",
            "Accuracy: 0.7497, Precision: 0.6785, Recall: 0.9203, AUC: 0.8597\n"
          ]
        },
        {
          "name": "stderr",
          "output_type": "stream",
          "text": [
            "\rEvaluate Train:   0%|          | 0/8 [00:00<?, ?it/s]"
          ]
        },
        {
          "name": "stdout",
          "output_type": "stream",
          "text": [
            "sample 9 num of prompts for COVID from total 12\n"
          ]
        },
        {
          "name": "stderr",
          "output_type": "stream",
          "text": [
            "\rEvaluate Train:  12%|█▎        | 1/8 [00:01<00:09,  1.38s/it]"
          ]
        },
        {
          "name": "stdout",
          "output_type": "stream",
          "text": [
            "sample 9 num of prompts for COVID from total 12\n"
          ]
        },
        {
          "name": "stderr",
          "output_type": "stream",
          "text": [
            "\rEvaluate Train:  25%|██▌       | 2/8 [00:03<00:09,  1.59s/it]"
          ]
        },
        {
          "name": "stdout",
          "output_type": "stream",
          "text": [
            "sample 9 num of prompts for COVID from total 12\n"
          ]
        },
        {
          "name": "stderr",
          "output_type": "stream",
          "text": [
            "\rEvaluate Train:  38%|███▊      | 3/8 [00:04<00:08,  1.69s/it]"
          ]
        },
        {
          "name": "stdout",
          "output_type": "stream",
          "text": [
            "sample 9 num of prompts for COVID from total 12\n"
          ]
        },
        {
          "name": "stderr",
          "output_type": "stream",
          "text": [
            "\rEvaluate Train:  50%|█████     | 4/8 [00:06<00:06,  1.56s/it]"
          ]
        },
        {
          "name": "stdout",
          "output_type": "stream",
          "text": [
            "sample 9 num of prompts for COVID from total 12\n"
          ]
        },
        {
          "name": "stderr",
          "output_type": "stream",
          "text": [
            "\rEvaluate Train:  62%|██████▎   | 5/8 [00:07<00:04,  1.54s/it]"
          ]
        },
        {
          "name": "stdout",
          "output_type": "stream",
          "text": [
            "sample 9 num of prompts for COVID from total 12\n"
          ]
        },
        {
          "name": "stderr",
          "output_type": "stream",
          "text": [
            "\rEvaluate Train:  75%|███████▌  | 6/8 [00:09<00:02,  1.48s/it]"
          ]
        },
        {
          "name": "stdout",
          "output_type": "stream",
          "text": [
            "sample 9 num of prompts for COVID from total 12\n"
          ]
        },
        {
          "name": "stderr",
          "output_type": "stream",
          "text": [
            "\rEvaluate Train:  88%|████████▊ | 7/8 [00:11<00:01,  1.63s/it]"
          ]
        },
        {
          "name": "stdout",
          "output_type": "stream",
          "text": [
            "sample 9 num of prompts for COVID from total 12\n"
          ]
        },
        {
          "name": "stderr",
          "output_type": "stream",
          "text": [
            "Evaluate Train: 100%|██████████| 8/8 [00:12<00:00,  1.61s/it]\n",
            "Evaluate Validation:   0%|          | 0/2 [00:00<?, ?it/s]"
          ]
        },
        {
          "name": "stdout",
          "output_type": "stream",
          "text": [
            "sample 9 num of prompts for COVID from total 12\n"
          ]
        },
        {
          "name": "stderr",
          "output_type": "stream",
          "text": [
            "\rEvaluate Validation:  50%|█████     | 1/2 [00:01<00:01,  1.37s/it]"
          ]
        },
        {
          "name": "stdout",
          "output_type": "stream",
          "text": [
            "sample 9 num of prompts for COVID from total 12\n"
          ]
        },
        {
          "name": "stderr",
          "output_type": "stream",
          "text": [
            "Evaluate Validation: 100%|██████████| 2/2 [00:02<00:00,  1.49s/it]\n",
            "Evaluate Test:   0%|          | 0/3 [00:00<?, ?it/s]"
          ]
        },
        {
          "name": "stdout",
          "output_type": "stream",
          "text": [
            "sample 9 num of prompts for COVID from total 12\n"
          ]
        },
        {
          "name": "stderr",
          "output_type": "stream",
          "text": [
            "\rEvaluate Test:  33%|███▎      | 1/3 [00:01<00:02,  1.36s/it]"
          ]
        },
        {
          "name": "stdout",
          "output_type": "stream",
          "text": [
            "sample 9 num of prompts for COVID from total 12\n"
          ]
        },
        {
          "name": "stderr",
          "output_type": "stream",
          "text": [
            "\rEvaluate Test:  67%|██████▋   | 2/3 [00:03<00:01,  1.53s/it]"
          ]
        },
        {
          "name": "stdout",
          "output_type": "stream",
          "text": [
            "sample 9 num of prompts for COVID from total 12\n"
          ]
        },
        {
          "name": "stderr",
          "output_type": "stream",
          "text": [
            "Evaluate Test: 100%|██████████| 3/3 [00:04<00:00,  1.42s/it]\n"
          ]
        },
        {
          "name": "stdout",
          "output_type": "stream",
          "text": [
            "\n",
            "Accuracy: 0.7500, Precision: 0.6785, Recall: 0.9216, AUC: 0.8600\n"
          ]
        },
        {
          "name": "stderr",
          "output_type": "stream",
          "text": [
            "\rEvaluate Train:   0%|          | 0/8 [00:00<?, ?it/s]"
          ]
        },
        {
          "name": "stdout",
          "output_type": "stream",
          "text": [
            "sample 10 num of prompts for COVID from total 12\n"
          ]
        },
        {
          "name": "stderr",
          "output_type": "stream",
          "text": [
            "\rEvaluate Train:  12%|█▎        | 1/8 [00:01<00:09,  1.36s/it]"
          ]
        },
        {
          "name": "stdout",
          "output_type": "stream",
          "text": [
            "sample 10 num of prompts for COVID from total 12\n"
          ]
        },
        {
          "name": "stderr",
          "output_type": "stream",
          "text": [
            "\rEvaluate Train:  25%|██▌       | 2/8 [00:02<00:08,  1.37s/it]"
          ]
        },
        {
          "name": "stdout",
          "output_type": "stream",
          "text": [
            "sample 10 num of prompts for COVID from total 12\n"
          ]
        },
        {
          "name": "stderr",
          "output_type": "stream",
          "text": [
            "\rEvaluate Train:  38%|███▊      | 3/8 [00:04<00:06,  1.36s/it]"
          ]
        },
        {
          "name": "stdout",
          "output_type": "stream",
          "text": [
            "sample 10 num of prompts for COVID from total 12\n"
          ]
        },
        {
          "name": "stderr",
          "output_type": "stream",
          "text": [
            "\rEvaluate Train:  50%|█████     | 4/8 [00:05<00:05,  1.45s/it]"
          ]
        },
        {
          "name": "stdout",
          "output_type": "stream",
          "text": [
            "sample 10 num of prompts for COVID from total 12\n"
          ]
        },
        {
          "name": "stderr",
          "output_type": "stream",
          "text": [
            "\rEvaluate Train:  62%|██████▎   | 5/8 [00:07<00:04,  1.43s/it]"
          ]
        },
        {
          "name": "stdout",
          "output_type": "stream",
          "text": [
            "sample 10 num of prompts for COVID from total 12\n"
          ]
        },
        {
          "name": "stderr",
          "output_type": "stream",
          "text": [
            "\rEvaluate Train:  75%|███████▌  | 6/8 [00:09<00:03,  1.65s/it]"
          ]
        },
        {
          "name": "stdout",
          "output_type": "stream",
          "text": [
            "sample 10 num of prompts for COVID from total 12\n"
          ]
        },
        {
          "name": "stderr",
          "output_type": "stream",
          "text": [
            "\rEvaluate Train:  88%|████████▊ | 7/8 [00:10<00:01,  1.56s/it]"
          ]
        },
        {
          "name": "stdout",
          "output_type": "stream",
          "text": [
            "sample 10 num of prompts for COVID from total 12\n"
          ]
        },
        {
          "name": "stderr",
          "output_type": "stream",
          "text": [
            "Evaluate Train: 100%|██████████| 8/8 [00:12<00:00,  1.50s/it]\n",
            "Evaluate Validation:   0%|          | 0/2 [00:00<?, ?it/s]"
          ]
        },
        {
          "name": "stdout",
          "output_type": "stream",
          "text": [
            "sample 10 num of prompts for COVID from total 12\n"
          ]
        },
        {
          "name": "stderr",
          "output_type": "stream",
          "text": [
            "\rEvaluate Validation:  50%|█████     | 1/2 [00:01<00:01,  1.42s/it]"
          ]
        },
        {
          "name": "stdout",
          "output_type": "stream",
          "text": [
            "sample 10 num of prompts for COVID from total 12\n"
          ]
        },
        {
          "name": "stderr",
          "output_type": "stream",
          "text": [
            "Evaluate Validation: 100%|██████████| 2/2 [00:03<00:00,  1.51s/it]\n",
            "Evaluate Test:   0%|          | 0/3 [00:00<?, ?it/s]"
          ]
        },
        {
          "name": "stdout",
          "output_type": "stream",
          "text": [
            "sample 10 num of prompts for COVID from total 12\n"
          ]
        },
        {
          "name": "stderr",
          "output_type": "stream",
          "text": [
            "\rEvaluate Test:  33%|███▎      | 1/3 [00:01<00:02,  1.38s/it]"
          ]
        },
        {
          "name": "stdout",
          "output_type": "stream",
          "text": [
            "sample 10 num of prompts for COVID from total 12\n"
          ]
        },
        {
          "name": "stderr",
          "output_type": "stream",
          "text": [
            "\rEvaluate Test:  67%|██████▋   | 2/3 [00:03<00:01,  1.55s/it]"
          ]
        },
        {
          "name": "stdout",
          "output_type": "stream",
          "text": [
            "sample 10 num of prompts for COVID from total 12\n"
          ]
        },
        {
          "name": "stderr",
          "output_type": "stream",
          "text": [
            "Evaluate Test: 100%|██████████| 3/3 [00:04<00:00,  1.42s/it]\n"
          ]
        },
        {
          "name": "stdout",
          "output_type": "stream",
          "text": [
            "\n",
            "Accuracy: 0.7497, Precision: 0.6780, Recall: 0.9223, AUC: 0.8602\n"
          ]
        },
        {
          "name": "stderr",
          "output_type": "stream",
          "text": [
            "\rEvaluate Train:   0%|          | 0/8 [00:00<?, ?it/s]"
          ]
        },
        {
          "name": "stdout",
          "output_type": "stream",
          "text": [
            "sample 11 num of prompts for COVID from total 12\n"
          ]
        },
        {
          "name": "stderr",
          "output_type": "stream",
          "text": [
            "\rEvaluate Train:  12%|█▎        | 1/8 [00:01<00:10,  1.44s/it]"
          ]
        },
        {
          "name": "stdout",
          "output_type": "stream",
          "text": [
            "sample 11 num of prompts for COVID from total 12\n"
          ]
        },
        {
          "name": "stderr",
          "output_type": "stream",
          "text": [
            "\rEvaluate Train:  25%|██▌       | 2/8 [00:02<00:08,  1.40s/it]"
          ]
        },
        {
          "name": "stdout",
          "output_type": "stream",
          "text": [
            "sample 11 num of prompts for COVID from total 12\n"
          ]
        },
        {
          "name": "stderr",
          "output_type": "stream",
          "text": [
            "\rEvaluate Train:  38%|███▊      | 3/8 [00:04<00:07,  1.45s/it]"
          ]
        },
        {
          "name": "stdout",
          "output_type": "stream",
          "text": [
            "sample 11 num of prompts for COVID from total 12\n"
          ]
        },
        {
          "name": "stderr",
          "output_type": "stream",
          "text": [
            "\rEvaluate Train:  50%|█████     | 4/8 [00:05<00:05,  1.45s/it]"
          ]
        },
        {
          "name": "stdout",
          "output_type": "stream",
          "text": [
            "sample 11 num of prompts for COVID from total 12\n"
          ]
        },
        {
          "name": "stderr",
          "output_type": "stream",
          "text": [
            "\rEvaluate Train:  62%|██████▎   | 5/8 [00:07<00:04,  1.53s/it]"
          ]
        },
        {
          "name": "stdout",
          "output_type": "stream",
          "text": [
            "sample 11 num of prompts for COVID from total 12\n"
          ]
        },
        {
          "name": "stderr",
          "output_type": "stream",
          "text": [
            "\rEvaluate Train:  75%|███████▌  | 6/8 [00:08<00:02,  1.47s/it]"
          ]
        },
        {
          "name": "stdout",
          "output_type": "stream",
          "text": [
            "sample 11 num of prompts for COVID from total 12\n"
          ]
        },
        {
          "name": "stderr",
          "output_type": "stream",
          "text": [
            "\rEvaluate Train:  88%|████████▊ | 7/8 [00:10<00:01,  1.48s/it]"
          ]
        },
        {
          "name": "stdout",
          "output_type": "stream",
          "text": [
            "sample 11 num of prompts for COVID from total 12\n"
          ]
        },
        {
          "name": "stderr",
          "output_type": "stream",
          "text": [
            "Evaluate Train: 100%|██████████| 8/8 [00:11<00:00,  1.49s/it]\n",
            "Evaluate Validation:   0%|          | 0/2 [00:00<?, ?it/s]"
          ]
        },
        {
          "name": "stdout",
          "output_type": "stream",
          "text": [
            "sample 11 num of prompts for COVID from total 12\n"
          ]
        },
        {
          "name": "stderr",
          "output_type": "stream",
          "text": [
            "\rEvaluate Validation:  50%|█████     | 1/2 [00:01<00:01,  1.42s/it]"
          ]
        },
        {
          "name": "stdout",
          "output_type": "stream",
          "text": [
            "sample 11 num of prompts for COVID from total 12\n"
          ]
        },
        {
          "name": "stderr",
          "output_type": "stream",
          "text": [
            "Evaluate Validation: 100%|██████████| 2/2 [00:03<00:00,  1.50s/it]\n",
            "Evaluate Test:   0%|          | 0/3 [00:00<?, ?it/s]"
          ]
        },
        {
          "name": "stdout",
          "output_type": "stream",
          "text": [
            "sample 11 num of prompts for COVID from total 12\n"
          ]
        },
        {
          "name": "stderr",
          "output_type": "stream",
          "text": [
            "\rEvaluate Test:  33%|███▎      | 1/3 [00:01<00:03,  1.51s/it]"
          ]
        },
        {
          "name": "stdout",
          "output_type": "stream",
          "text": [
            "sample 11 num of prompts for COVID from total 12\n"
          ]
        },
        {
          "name": "stderr",
          "output_type": "stream",
          "text": [
            "\rEvaluate Test:  67%|██████▋   | 2/3 [00:02<00:01,  1.42s/it]"
          ]
        },
        {
          "name": "stdout",
          "output_type": "stream",
          "text": [
            "sample 11 num of prompts for COVID from total 12\n"
          ]
        },
        {
          "name": "stderr",
          "output_type": "stream",
          "text": [
            "Evaluate Test: 100%|██████████| 3/3 [00:04<00:00,  1.57s/it]\n"
          ]
        },
        {
          "name": "stdout",
          "output_type": "stream",
          "text": [
            "\n",
            "Accuracy: 0.7493, Precision: 0.6777, Recall: 0.9223, AUC: 0.8600\n"
          ]
        },
        {
          "name": "stderr",
          "output_type": "stream",
          "text": [
            "\rEvaluate Train:   0%|          | 0/8 [00:00<?, ?it/s]"
          ]
        },
        {
          "name": "stdout",
          "output_type": "stream",
          "text": [
            "sample 12 num of prompts for COVID from total 12\n"
          ]
        },
        {
          "name": "stderr",
          "output_type": "stream",
          "text": [
            "\rEvaluate Train:  12%|█▎        | 1/8 [00:01<00:09,  1.40s/it]"
          ]
        },
        {
          "name": "stdout",
          "output_type": "stream",
          "text": [
            "sample 12 num of prompts for COVID from total 12\n"
          ]
        },
        {
          "name": "stderr",
          "output_type": "stream",
          "text": [
            "\rEvaluate Train:  25%|██▌       | 2/8 [00:03<00:11,  1.87s/it]"
          ]
        },
        {
          "name": "stdout",
          "output_type": "stream",
          "text": [
            "sample 12 num of prompts for COVID from total 12\n"
          ]
        },
        {
          "name": "stderr",
          "output_type": "stream",
          "text": [
            "\rEvaluate Train:  38%|███▊      | 3/8 [00:05<00:08,  1.68s/it]"
          ]
        },
        {
          "name": "stdout",
          "output_type": "stream",
          "text": [
            "sample 12 num of prompts for COVID from total 12\n"
          ]
        },
        {
          "name": "stderr",
          "output_type": "stream",
          "text": [
            "\rEvaluate Train:  50%|█████     | 4/8 [00:06<00:06,  1.63s/it]"
          ]
        },
        {
          "name": "stdout",
          "output_type": "stream",
          "text": [
            "sample 12 num of prompts for COVID from total 12\n"
          ]
        },
        {
          "name": "stderr",
          "output_type": "stream",
          "text": [
            "\rEvaluate Train:  62%|██████▎   | 5/8 [00:07<00:04,  1.54s/it]"
          ]
        },
        {
          "name": "stdout",
          "output_type": "stream",
          "text": [
            "sample 12 num of prompts for COVID from total 12\n"
          ]
        },
        {
          "name": "stderr",
          "output_type": "stream",
          "text": [
            "\rEvaluate Train:  75%|███████▌  | 6/8 [00:09<00:03,  1.54s/it]"
          ]
        },
        {
          "name": "stdout",
          "output_type": "stream",
          "text": [
            "sample 12 num of prompts for COVID from total 12\n"
          ]
        },
        {
          "name": "stderr",
          "output_type": "stream",
          "text": [
            "\rEvaluate Train:  88%|████████▊ | 7/8 [00:10<00:01,  1.49s/it]"
          ]
        },
        {
          "name": "stdout",
          "output_type": "stream",
          "text": [
            "sample 12 num of prompts for COVID from total 12\n"
          ]
        },
        {
          "name": "stderr",
          "output_type": "stream",
          "text": [
            "Evaluate Train: 100%|██████████| 8/8 [00:12<00:00,  1.56s/it]\n",
            "Evaluate Validation:   0%|          | 0/2 [00:00<?, ?it/s]"
          ]
        },
        {
          "name": "stdout",
          "output_type": "stream",
          "text": [
            "sample 12 num of prompts for COVID from total 12\n"
          ]
        },
        {
          "name": "stderr",
          "output_type": "stream",
          "text": [
            "\rEvaluate Validation:  50%|█████     | 1/2 [00:01<00:01,  1.36s/it]"
          ]
        },
        {
          "name": "stdout",
          "output_type": "stream",
          "text": [
            "sample 12 num of prompts for COVID from total 12\n"
          ]
        },
        {
          "name": "stderr",
          "output_type": "stream",
          "text": [
            "Evaluate Validation: 100%|██████████| 2/2 [00:03<00:00,  1.58s/it]\n",
            "Evaluate Test:   0%|          | 0/3 [00:00<?, ?it/s]"
          ]
        },
        {
          "name": "stdout",
          "output_type": "stream",
          "text": [
            "sample 12 num of prompts for COVID from total 12\n"
          ]
        },
        {
          "name": "stderr",
          "output_type": "stream",
          "text": [
            "\rEvaluate Test:  33%|███▎      | 1/3 [00:01<00:02,  1.39s/it]"
          ]
        },
        {
          "name": "stdout",
          "output_type": "stream",
          "text": [
            "sample 12 num of prompts for COVID from total 12\n"
          ]
        },
        {
          "name": "stderr",
          "output_type": "stream",
          "text": [
            "\rEvaluate Test:  67%|██████▋   | 2/3 [00:02<00:01,  1.48s/it]"
          ]
        },
        {
          "name": "stdout",
          "output_type": "stream",
          "text": [
            "sample 12 num of prompts for COVID from total 12\n"
          ]
        },
        {
          "name": "stderr",
          "output_type": "stream",
          "text": [
            "Evaluate Test: 100%|██████████| 3/3 [00:04<00:00,  1.52s/it]\n"
          ]
        },
        {
          "name": "stdout",
          "output_type": "stream",
          "text": [
            "\n",
            "Accuracy: 0.7493, Precision: 0.6777, Recall: 0.9223, AUC: 0.8601\n",
            "Best AUC for covid_task with 10 prompts: 0.8602\n",
            "Results saved to results/zs_medclip_base/ucsd/medclip/classification_results.txt\n"
          ]
        },
        {
          "name": "stderr",
          "output_type": "stream",
          "text": [
            "\rEvaluate Train:   0%|          | 0/8 [00:00<?, ?it/s]"
          ]
        },
        {
          "name": "stdout",
          "output_type": "stream",
          "text": [
            "sample 1 num of prompts for Pneumonia from total 312\n"
          ]
        },
        {
          "name": "stderr",
          "output_type": "stream",
          "text": [
            "\rEvaluate Train:  12%|█▎        | 1/8 [00:01<00:10,  1.48s/it]"
          ]
        },
        {
          "name": "stdout",
          "output_type": "stream",
          "text": [
            "sample 1 num of prompts for Pneumonia from total 312\n"
          ]
        },
        {
          "name": "stderr",
          "output_type": "stream",
          "text": [
            "\rEvaluate Train:  25%|██▌       | 2/8 [00:03<00:09,  1.51s/it]"
          ]
        },
        {
          "name": "stdout",
          "output_type": "stream",
          "text": [
            "sample 1 num of prompts for Pneumonia from total 312\n"
          ]
        },
        {
          "name": "stderr",
          "output_type": "stream",
          "text": [
            "\rEvaluate Train:  38%|███▊      | 3/8 [00:04<00:07,  1.54s/it]"
          ]
        },
        {
          "name": "stdout",
          "output_type": "stream",
          "text": [
            "sample 1 num of prompts for Pneumonia from total 312\n"
          ]
        },
        {
          "name": "stderr",
          "output_type": "stream",
          "text": [
            "\rEvaluate Train:  50%|█████     | 4/8 [00:05<00:05,  1.47s/it]"
          ]
        },
        {
          "name": "stdout",
          "output_type": "stream",
          "text": [
            "sample 1 num of prompts for Pneumonia from total 312\n"
          ]
        },
        {
          "name": "stderr",
          "output_type": "stream",
          "text": [
            "\rEvaluate Train:  62%|██████▎   | 5/8 [00:07<00:04,  1.52s/it]"
          ]
        },
        {
          "name": "stdout",
          "output_type": "stream",
          "text": [
            "sample 1 num of prompts for Pneumonia from total 312\n"
          ]
        },
        {
          "name": "stderr",
          "output_type": "stream",
          "text": [
            "\rEvaluate Train:  75%|███████▌  | 6/8 [00:08<00:02,  1.49s/it]"
          ]
        },
        {
          "name": "stdout",
          "output_type": "stream",
          "text": [
            "sample 1 num of prompts for Pneumonia from total 312\n"
          ]
        },
        {
          "name": "stderr",
          "output_type": "stream",
          "text": [
            "\rEvaluate Train:  88%|████████▊ | 7/8 [00:10<00:01,  1.61s/it]"
          ]
        },
        {
          "name": "stdout",
          "output_type": "stream",
          "text": [
            "sample 1 num of prompts for Pneumonia from total 312\n"
          ]
        },
        {
          "name": "stderr",
          "output_type": "stream",
          "text": [
            "Evaluate Train: 100%|██████████| 8/8 [00:12<00:00,  1.52s/it]\n",
            "Evaluate Validation:   0%|          | 0/2 [00:00<?, ?it/s]"
          ]
        },
        {
          "name": "stdout",
          "output_type": "stream",
          "text": [
            "sample 1 num of prompts for Pneumonia from total 312\n"
          ]
        },
        {
          "name": "stderr",
          "output_type": "stream",
          "text": [
            "\rEvaluate Validation:  50%|█████     | 1/2 [00:01<00:01,  1.38s/it]"
          ]
        },
        {
          "name": "stdout",
          "output_type": "stream",
          "text": [
            "sample 1 num of prompts for Pneumonia from total 312\n"
          ]
        },
        {
          "name": "stderr",
          "output_type": "stream",
          "text": [
            "Evaluate Validation: 100%|██████████| 2/2 [00:02<00:00,  1.37s/it]\n",
            "Evaluate Test:   0%|          | 0/3 [00:00<?, ?it/s]"
          ]
        },
        {
          "name": "stdout",
          "output_type": "stream",
          "text": [
            "sample 1 num of prompts for Pneumonia from total 312\n"
          ]
        },
        {
          "name": "stderr",
          "output_type": "stream",
          "text": [
            "\rEvaluate Test:  33%|███▎      | 1/3 [00:01<00:02,  1.36s/it]"
          ]
        },
        {
          "name": "stdout",
          "output_type": "stream",
          "text": [
            "sample 1 num of prompts for Pneumonia from total 312\n"
          ]
        },
        {
          "name": "stderr",
          "output_type": "stream",
          "text": [
            "\rEvaluate Test:  67%|██████▋   | 2/3 [00:02<00:01,  1.39s/it]"
          ]
        },
        {
          "name": "stdout",
          "output_type": "stream",
          "text": [
            "sample 1 num of prompts for Pneumonia from total 312\n"
          ]
        },
        {
          "name": "stderr",
          "output_type": "stream",
          "text": [
            "Evaluate Test: 100%|██████████| 3/3 [00:03<00:00,  1.33s/it]\n"
          ]
        },
        {
          "name": "stdout",
          "output_type": "stream",
          "text": [
            "\n",
            "Accuracy: 0.5816, Precision: 0.6115, Recall: 0.3784, AUC: 0.5687\n"
          ]
        },
        {
          "name": "stderr",
          "output_type": "stream",
          "text": [
            "\rEvaluate Train:   0%|          | 0/8 [00:00<?, ?it/s]"
          ]
        },
        {
          "name": "stdout",
          "output_type": "stream",
          "text": [
            "sample 2 num of prompts for Pneumonia from total 312\n"
          ]
        },
        {
          "name": "stderr",
          "output_type": "stream",
          "text": [
            "\rEvaluate Train:  12%|█▎        | 1/8 [00:01<00:10,  1.46s/it]"
          ]
        },
        {
          "name": "stdout",
          "output_type": "stream",
          "text": [
            "sample 2 num of prompts for Pneumonia from total 312\n"
          ]
        },
        {
          "name": "stderr",
          "output_type": "stream",
          "text": [
            "\rEvaluate Train:  25%|██▌       | 2/8 [00:02<00:08,  1.45s/it]"
          ]
        },
        {
          "name": "stdout",
          "output_type": "stream",
          "text": [
            "sample 2 num of prompts for Pneumonia from total 312\n"
          ]
        },
        {
          "name": "stderr",
          "output_type": "stream",
          "text": [
            "\rEvaluate Train:  38%|███▊      | 3/8 [00:04<00:07,  1.41s/it]"
          ]
        },
        {
          "name": "stdout",
          "output_type": "stream",
          "text": [
            "sample 2 num of prompts for Pneumonia from total 312\n"
          ]
        },
        {
          "name": "stderr",
          "output_type": "stream",
          "text": [
            "\rEvaluate Train:  50%|█████     | 4/8 [00:05<00:05,  1.40s/it]"
          ]
        },
        {
          "name": "stdout",
          "output_type": "stream",
          "text": [
            "sample 2 num of prompts for Pneumonia from total 312\n"
          ]
        },
        {
          "name": "stderr",
          "output_type": "stream",
          "text": [
            "\rEvaluate Train:  62%|██████▎   | 5/8 [00:07<00:04,  1.39s/it]"
          ]
        },
        {
          "name": "stdout",
          "output_type": "stream",
          "text": [
            "sample 2 num of prompts for Pneumonia from total 312\n"
          ]
        },
        {
          "name": "stderr",
          "output_type": "stream",
          "text": [
            "\rEvaluate Train:  75%|███████▌  | 6/8 [00:08<00:02,  1.38s/it]"
          ]
        },
        {
          "name": "stdout",
          "output_type": "stream",
          "text": [
            "sample 2 num of prompts for Pneumonia from total 312\n"
          ]
        },
        {
          "name": "stderr",
          "output_type": "stream",
          "text": [
            "\rEvaluate Train:  88%|████████▊ | 7/8 [00:09<00:01,  1.45s/it]"
          ]
        },
        {
          "name": "stdout",
          "output_type": "stream",
          "text": [
            "sample 2 num of prompts for Pneumonia from total 312\n"
          ]
        },
        {
          "name": "stderr",
          "output_type": "stream",
          "text": [
            "Evaluate Train: 100%|██████████| 8/8 [00:11<00:00,  1.46s/it]\n",
            "Evaluate Validation:   0%|          | 0/2 [00:00<?, ?it/s]"
          ]
        },
        {
          "name": "stdout",
          "output_type": "stream",
          "text": [
            "sample 2 num of prompts for Pneumonia from total 312\n"
          ]
        },
        {
          "name": "stderr",
          "output_type": "stream",
          "text": [
            "\rEvaluate Validation:  50%|█████     | 1/2 [00:01<00:01,  1.38s/it]"
          ]
        },
        {
          "name": "stdout",
          "output_type": "stream",
          "text": [
            "sample 2 num of prompts for Pneumonia from total 312\n"
          ]
        },
        {
          "name": "stderr",
          "output_type": "stream",
          "text": [
            "Evaluate Validation: 100%|██████████| 2/2 [00:03<00:00,  1.50s/it]\n",
            "Evaluate Test:   0%|          | 0/3 [00:00<?, ?it/s]"
          ]
        },
        {
          "name": "stdout",
          "output_type": "stream",
          "text": [
            "sample 2 num of prompts for Pneumonia from total 312\n"
          ]
        },
        {
          "name": "stderr",
          "output_type": "stream",
          "text": [
            "\rEvaluate Test:  33%|███▎      | 1/3 [00:01<00:02,  1.43s/it]"
          ]
        },
        {
          "name": "stdout",
          "output_type": "stream",
          "text": [
            "sample 2 num of prompts for Pneumonia from total 312\n"
          ]
        },
        {
          "name": "stderr",
          "output_type": "stream",
          "text": [
            "\rEvaluate Test:  67%|██████▋   | 2/3 [00:02<00:01,  1.39s/it]"
          ]
        },
        {
          "name": "stdout",
          "output_type": "stream",
          "text": [
            "sample 2 num of prompts for Pneumonia from total 312\n"
          ]
        },
        {
          "name": "stderr",
          "output_type": "stream",
          "text": [
            "Evaluate Test: 100%|██████████| 3/3 [00:04<00:00,  1.40s/it]\n"
          ]
        },
        {
          "name": "stdout",
          "output_type": "stream",
          "text": [
            "\n",
            "Accuracy: 0.5501, Precision: 0.5373, Recall: 0.5265, AUC: 0.5725\n"
          ]
        },
        {
          "name": "stderr",
          "output_type": "stream",
          "text": [
            "\rEvaluate Train:   0%|          | 0/8 [00:00<?, ?it/s]"
          ]
        },
        {
          "name": "stdout",
          "output_type": "stream",
          "text": [
            "sample 3 num of prompts for Pneumonia from total 312\n"
          ]
        },
        {
          "name": "stderr",
          "output_type": "stream",
          "text": [
            "\rEvaluate Train:  12%|█▎        | 1/8 [00:01<00:10,  1.48s/it]"
          ]
        },
        {
          "name": "stdout",
          "output_type": "stream",
          "text": [
            "sample 3 num of prompts for Pneumonia from total 312\n"
          ]
        },
        {
          "name": "stderr",
          "output_type": "stream",
          "text": [
            "\rEvaluate Train:  25%|██▌       | 2/8 [00:03<00:09,  1.57s/it]"
          ]
        },
        {
          "name": "stdout",
          "output_type": "stream",
          "text": [
            "sample 3 num of prompts for Pneumonia from total 312\n"
          ]
        },
        {
          "name": "stderr",
          "output_type": "stream",
          "text": [
            "\rEvaluate Train:  38%|███▊      | 3/8 [00:04<00:07,  1.48s/it]"
          ]
        },
        {
          "name": "stdout",
          "output_type": "stream",
          "text": [
            "sample 3 num of prompts for Pneumonia from total 312\n"
          ]
        },
        {
          "name": "stderr",
          "output_type": "stream",
          "text": [
            "\rEvaluate Train:  50%|█████     | 4/8 [00:06<00:06,  1.56s/it]"
          ]
        },
        {
          "name": "stdout",
          "output_type": "stream",
          "text": [
            "sample 3 num of prompts for Pneumonia from total 312\n"
          ]
        },
        {
          "name": "stderr",
          "output_type": "stream",
          "text": [
            "\rEvaluate Train:  62%|██████▎   | 5/8 [00:07<00:04,  1.49s/it]"
          ]
        },
        {
          "name": "stdout",
          "output_type": "stream",
          "text": [
            "sample 3 num of prompts for Pneumonia from total 312\n"
          ]
        },
        {
          "name": "stderr",
          "output_type": "stream",
          "text": [
            "\rEvaluate Train:  75%|███████▌  | 6/8 [00:09<00:03,  1.57s/it]"
          ]
        },
        {
          "name": "stdout",
          "output_type": "stream",
          "text": [
            "sample 3 num of prompts for Pneumonia from total 312\n"
          ]
        },
        {
          "name": "stderr",
          "output_type": "stream",
          "text": [
            "\rEvaluate Train:  88%|████████▊ | 7/8 [00:11<00:01,  1.64s/it]"
          ]
        },
        {
          "name": "stdout",
          "output_type": "stream",
          "text": [
            "sample 3 num of prompts for Pneumonia from total 312\n"
          ]
        },
        {
          "name": "stderr",
          "output_type": "stream",
          "text": [
            "Evaluate Train: 100%|██████████| 8/8 [00:12<00:00,  1.58s/it]\n",
            "Evaluate Validation:   0%|          | 0/2 [00:00<?, ?it/s]"
          ]
        },
        {
          "name": "stdout",
          "output_type": "stream",
          "text": [
            "sample 3 num of prompts for Pneumonia from total 312\n"
          ]
        },
        {
          "name": "stderr",
          "output_type": "stream",
          "text": [
            "\rEvaluate Validation:  50%|█████     | 1/2 [00:02<00:02,  2.28s/it]"
          ]
        },
        {
          "name": "stdout",
          "output_type": "stream",
          "text": [
            "sample 3 num of prompts for Pneumonia from total 312\n"
          ]
        },
        {
          "name": "stderr",
          "output_type": "stream",
          "text": [
            "Evaluate Validation: 100%|██████████| 2/2 [00:03<00:00,  1.99s/it]\n",
            "Evaluate Test:   0%|          | 0/3 [00:00<?, ?it/s]"
          ]
        },
        {
          "name": "stdout",
          "output_type": "stream",
          "text": [
            "sample 3 num of prompts for Pneumonia from total 312\n"
          ]
        },
        {
          "name": "stderr",
          "output_type": "stream",
          "text": [
            "\rEvaluate Test:  33%|███▎      | 1/3 [00:01<00:02,  1.36s/it]"
          ]
        },
        {
          "name": "stdout",
          "output_type": "stream",
          "text": [
            "sample 3 num of prompts for Pneumonia from total 312\n"
          ]
        },
        {
          "name": "stderr",
          "output_type": "stream",
          "text": [
            "\rEvaluate Test:  67%|██████▋   | 2/3 [00:02<00:01,  1.38s/it]"
          ]
        },
        {
          "name": "stdout",
          "output_type": "stream",
          "text": [
            "sample 3 num of prompts for Pneumonia from total 312\n"
          ]
        },
        {
          "name": "stderr",
          "output_type": "stream",
          "text": [
            "Evaluate Test: 100%|██████████| 3/3 [00:04<00:00,  1.33s/it]\n"
          ]
        },
        {
          "name": "stdout",
          "output_type": "stream",
          "text": [
            "\n",
            "Accuracy: 0.6460, Precision: 0.6149, Recall: 0.7240, AUC: 0.6951\n"
          ]
        },
        {
          "name": "stderr",
          "output_type": "stream",
          "text": [
            "\rEvaluate Train:   0%|          | 0/8 [00:00<?, ?it/s]"
          ]
        },
        {
          "name": "stdout",
          "output_type": "stream",
          "text": [
            "sample 4 num of prompts for Pneumonia from total 312\n"
          ]
        },
        {
          "name": "stderr",
          "output_type": "stream",
          "text": [
            "\rEvaluate Train:  12%|█▎        | 1/8 [00:01<00:09,  1.39s/it]"
          ]
        },
        {
          "name": "stdout",
          "output_type": "stream",
          "text": [
            "sample 4 num of prompts for Pneumonia from total 312\n"
          ]
        },
        {
          "name": "stderr",
          "output_type": "stream",
          "text": [
            "\rEvaluate Train:  25%|██▌       | 2/8 [00:02<00:08,  1.38s/it]"
          ]
        },
        {
          "name": "stdout",
          "output_type": "stream",
          "text": [
            "sample 4 num of prompts for Pneumonia from total 312\n"
          ]
        },
        {
          "name": "stderr",
          "output_type": "stream",
          "text": [
            "\rEvaluate Train:  38%|███▊      | 3/8 [00:04<00:07,  1.46s/it]"
          ]
        },
        {
          "name": "stdout",
          "output_type": "stream",
          "text": [
            "sample 4 num of prompts for Pneumonia from total 312\n"
          ]
        },
        {
          "name": "stderr",
          "output_type": "stream",
          "text": [
            "\rEvaluate Train:  50%|█████     | 4/8 [00:05<00:05,  1.45s/it]"
          ]
        },
        {
          "name": "stdout",
          "output_type": "stream",
          "text": [
            "sample 4 num of prompts for Pneumonia from total 312\n"
          ]
        },
        {
          "name": "stderr",
          "output_type": "stream",
          "text": [
            "\rEvaluate Train:  62%|██████▎   | 5/8 [00:07<00:04,  1.57s/it]"
          ]
        },
        {
          "name": "stdout",
          "output_type": "stream",
          "text": [
            "sample 4 num of prompts for Pneumonia from total 312\n"
          ]
        },
        {
          "name": "stderr",
          "output_type": "stream",
          "text": [
            "\rEvaluate Train:  75%|███████▌  | 6/8 [00:08<00:03,  1.51s/it]"
          ]
        },
        {
          "name": "stdout",
          "output_type": "stream",
          "text": [
            "sample 4 num of prompts for Pneumonia from total 312\n"
          ]
        },
        {
          "name": "stderr",
          "output_type": "stream",
          "text": [
            "\rEvaluate Train:  88%|████████▊ | 7/8 [00:10<00:01,  1.47s/it]"
          ]
        },
        {
          "name": "stdout",
          "output_type": "stream",
          "text": [
            "sample 4 num of prompts for Pneumonia from total 312\n"
          ]
        },
        {
          "name": "stderr",
          "output_type": "stream",
          "text": [
            "Evaluate Train: 100%|██████████| 8/8 [00:11<00:00,  1.45s/it]\n",
            "Evaluate Validation:   0%|          | 0/2 [00:00<?, ?it/s]"
          ]
        },
        {
          "name": "stdout",
          "output_type": "stream",
          "text": [
            "sample 4 num of prompts for Pneumonia from total 312\n"
          ]
        },
        {
          "name": "stderr",
          "output_type": "stream",
          "text": [
            "\rEvaluate Validation:  50%|█████     | 1/2 [00:01<00:01,  1.38s/it]"
          ]
        },
        {
          "name": "stdout",
          "output_type": "stream",
          "text": [
            "sample 4 num of prompts for Pneumonia from total 312\n"
          ]
        },
        {
          "name": "stderr",
          "output_type": "stream",
          "text": [
            "Evaluate Validation: 100%|██████████| 2/2 [00:02<00:00,  1.41s/it]\n",
            "Evaluate Test:   0%|          | 0/3 [00:00<?, ?it/s]"
          ]
        },
        {
          "name": "stdout",
          "output_type": "stream",
          "text": [
            "sample 4 num of prompts for Pneumonia from total 312\n"
          ]
        },
        {
          "name": "stderr",
          "output_type": "stream",
          "text": [
            "\rEvaluate Test:  33%|███▎      | 1/3 [00:01<00:03,  1.94s/it]"
          ]
        },
        {
          "name": "stdout",
          "output_type": "stream",
          "text": [
            "sample 4 num of prompts for Pneumonia from total 312\n"
          ]
        },
        {
          "name": "stderr",
          "output_type": "stream",
          "text": [
            "\rEvaluate Test:  67%|██████▋   | 2/3 [00:03<00:01,  1.60s/it]"
          ]
        },
        {
          "name": "stdout",
          "output_type": "stream",
          "text": [
            "sample 4 num of prompts for Pneumonia from total 312\n"
          ]
        },
        {
          "name": "stderr",
          "output_type": "stream",
          "text": [
            "Evaluate Test: 100%|██████████| 3/3 [00:04<00:00,  1.56s/it]\n"
          ]
        },
        {
          "name": "stdout",
          "output_type": "stream",
          "text": [
            "\n",
            "Accuracy: 0.5722, Precision: 0.5370, Recall: 0.8614, AUC: 0.6432\n"
          ]
        },
        {
          "name": "stderr",
          "output_type": "stream",
          "text": [
            "\rEvaluate Train:   0%|          | 0/8 [00:00<?, ?it/s]"
          ]
        },
        {
          "name": "stdout",
          "output_type": "stream",
          "text": [
            "sample 5 num of prompts for Pneumonia from total 312\n"
          ]
        },
        {
          "name": "stderr",
          "output_type": "stream",
          "text": [
            "\rEvaluate Train:  12%|█▎        | 1/8 [00:01<00:09,  1.37s/it]"
          ]
        },
        {
          "name": "stdout",
          "output_type": "stream",
          "text": [
            "sample 5 num of prompts for Pneumonia from total 312\n"
          ]
        },
        {
          "name": "stderr",
          "output_type": "stream",
          "text": [
            "\rEvaluate Train:  25%|██▌       | 2/8 [00:02<00:08,  1.38s/it]"
          ]
        },
        {
          "name": "stdout",
          "output_type": "stream",
          "text": [
            "sample 5 num of prompts for Pneumonia from total 312\n"
          ]
        },
        {
          "name": "stderr",
          "output_type": "stream",
          "text": [
            "\rEvaluate Train:  38%|███▊      | 3/8 [00:04<00:07,  1.43s/it]"
          ]
        },
        {
          "name": "stdout",
          "output_type": "stream",
          "text": [
            "sample 5 num of prompts for Pneumonia from total 312\n"
          ]
        },
        {
          "name": "stderr",
          "output_type": "stream",
          "text": [
            "\rEvaluate Train:  50%|█████     | 4/8 [00:05<00:05,  1.41s/it]"
          ]
        },
        {
          "name": "stdout",
          "output_type": "stream",
          "text": [
            "sample 5 num of prompts for Pneumonia from total 312\n"
          ]
        },
        {
          "name": "stderr",
          "output_type": "stream",
          "text": [
            "\rEvaluate Train:  62%|██████▎   | 5/8 [00:07<00:04,  1.43s/it]"
          ]
        },
        {
          "name": "stdout",
          "output_type": "stream",
          "text": [
            "sample 5 num of prompts for Pneumonia from total 312\n"
          ]
        },
        {
          "name": "stderr",
          "output_type": "stream",
          "text": [
            "\rEvaluate Train:  75%|███████▌  | 6/8 [00:08<00:02,  1.41s/it]"
          ]
        },
        {
          "name": "stdout",
          "output_type": "stream",
          "text": [
            "sample 5 num of prompts for Pneumonia from total 312\n"
          ]
        },
        {
          "name": "stderr",
          "output_type": "stream",
          "text": [
            "\rEvaluate Train:  88%|████████▊ | 7/8 [00:09<00:01,  1.40s/it]"
          ]
        },
        {
          "name": "stdout",
          "output_type": "stream",
          "text": [
            "sample 5 num of prompts for Pneumonia from total 312\n"
          ]
        },
        {
          "name": "stderr",
          "output_type": "stream",
          "text": [
            "Evaluate Train: 100%|██████████| 8/8 [00:11<00:00,  1.39s/it]\n",
            "Evaluate Validation:   0%|          | 0/2 [00:00<?, ?it/s]"
          ]
        },
        {
          "name": "stdout",
          "output_type": "stream",
          "text": [
            "sample 5 num of prompts for Pneumonia from total 312\n"
          ]
        },
        {
          "name": "stderr",
          "output_type": "stream",
          "text": [
            "\rEvaluate Validation:  50%|█████     | 1/2 [00:01<00:01,  1.36s/it]"
          ]
        },
        {
          "name": "stdout",
          "output_type": "stream",
          "text": [
            "sample 5 num of prompts for Pneumonia from total 312\n"
          ]
        },
        {
          "name": "stderr",
          "output_type": "stream",
          "text": [
            "Evaluate Validation: 100%|██████████| 2/2 [00:02<00:00,  1.46s/it]\n",
            "Evaluate Test:   0%|          | 0/3 [00:00<?, ?it/s]"
          ]
        },
        {
          "name": "stdout",
          "output_type": "stream",
          "text": [
            "sample 5 num of prompts for Pneumonia from total 312\n"
          ]
        },
        {
          "name": "stderr",
          "output_type": "stream",
          "text": [
            "\rEvaluate Test:  33%|███▎      | 1/3 [00:01<00:02,  1.36s/it]"
          ]
        },
        {
          "name": "stdout",
          "output_type": "stream",
          "text": [
            "sample 5 num of prompts for Pneumonia from total 312\n"
          ]
        },
        {
          "name": "stderr",
          "output_type": "stream",
          "text": [
            "\rEvaluate Test:  67%|██████▋   | 2/3 [00:02<00:01,  1.39s/it]"
          ]
        },
        {
          "name": "stdout",
          "output_type": "stream",
          "text": [
            "sample 5 num of prompts for Pneumonia from total 312\n"
          ]
        },
        {
          "name": "stderr",
          "output_type": "stream",
          "text": [
            "Evaluate Test: 100%|██████████| 3/3 [00:04<00:00,  1.37s/it]\n"
          ]
        },
        {
          "name": "stdout",
          "output_type": "stream",
          "text": [
            "\n",
            "Accuracy: 0.6164, Precision: 0.5771, Recall: 0.7843, AUC: 0.6619\n"
          ]
        },
        {
          "name": "stderr",
          "output_type": "stream",
          "text": [
            "\rEvaluate Train:   0%|          | 0/8 [00:00<?, ?it/s]"
          ]
        },
        {
          "name": "stdout",
          "output_type": "stream",
          "text": [
            "sample 6 num of prompts for Pneumonia from total 312\n"
          ]
        },
        {
          "name": "stderr",
          "output_type": "stream",
          "text": [
            "\rEvaluate Train:  12%|█▎        | 1/8 [00:01<00:09,  1.41s/it]"
          ]
        },
        {
          "name": "stdout",
          "output_type": "stream",
          "text": [
            "sample 6 num of prompts for Pneumonia from total 312\n"
          ]
        },
        {
          "name": "stderr",
          "output_type": "stream",
          "text": [
            "\rEvaluate Train:  25%|██▌       | 2/8 [00:02<00:08,  1.49s/it]"
          ]
        },
        {
          "name": "stdout",
          "output_type": "stream",
          "text": [
            "sample 6 num of prompts for Pneumonia from total 312\n"
          ]
        },
        {
          "name": "stderr",
          "output_type": "stream",
          "text": [
            "\rEvaluate Train:  38%|███▊      | 3/8 [00:04<00:07,  1.43s/it]"
          ]
        },
        {
          "name": "stdout",
          "output_type": "stream",
          "text": [
            "sample 6 num of prompts for Pneumonia from total 312\n"
          ]
        },
        {
          "name": "stderr",
          "output_type": "stream",
          "text": [
            "\rEvaluate Train:  50%|█████     | 4/8 [00:05<00:05,  1.41s/it]"
          ]
        },
        {
          "name": "stdout",
          "output_type": "stream",
          "text": [
            "sample 6 num of prompts for Pneumonia from total 312\n"
          ]
        },
        {
          "name": "stderr",
          "output_type": "stream",
          "text": [
            "\rEvaluate Train:  62%|██████▎   | 5/8 [00:07<00:04,  1.39s/it]"
          ]
        },
        {
          "name": "stdout",
          "output_type": "stream",
          "text": [
            "sample 6 num of prompts for Pneumonia from total 312\n"
          ]
        },
        {
          "name": "stderr",
          "output_type": "stream",
          "text": [
            "\rEvaluate Train:  75%|███████▌  | 6/8 [00:08<00:02,  1.46s/it]"
          ]
        },
        {
          "name": "stdout",
          "output_type": "stream",
          "text": [
            "sample 6 num of prompts for Pneumonia from total 312\n"
          ]
        },
        {
          "name": "stderr",
          "output_type": "stream",
          "text": [
            "\rEvaluate Train:  88%|████████▊ | 7/8 [00:10<00:01,  1.43s/it]"
          ]
        },
        {
          "name": "stdout",
          "output_type": "stream",
          "text": [
            "sample 6 num of prompts for Pneumonia from total 312\n"
          ]
        },
        {
          "name": "stderr",
          "output_type": "stream",
          "text": [
            "Evaluate Train: 100%|██████████| 8/8 [00:11<00:00,  1.46s/it]\n",
            "Evaluate Validation:   0%|          | 0/2 [00:00<?, ?it/s]"
          ]
        },
        {
          "name": "stdout",
          "output_type": "stream",
          "text": [
            "sample 6 num of prompts for Pneumonia from total 312\n"
          ]
        },
        {
          "name": "stderr",
          "output_type": "stream",
          "text": [
            "\rEvaluate Validation:  50%|█████     | 1/2 [00:01<00:01,  1.37s/it]"
          ]
        },
        {
          "name": "stdout",
          "output_type": "stream",
          "text": [
            "sample 6 num of prompts for Pneumonia from total 312\n"
          ]
        },
        {
          "name": "stderr",
          "output_type": "stream",
          "text": [
            "Evaluate Validation: 100%|██████████| 2/2 [00:02<00:00,  1.44s/it]\n",
            "Evaluate Test:   0%|          | 0/3 [00:00<?, ?it/s]"
          ]
        },
        {
          "name": "stdout",
          "output_type": "stream",
          "text": [
            "sample 6 num of prompts for Pneumonia from total 312\n"
          ]
        },
        {
          "name": "stderr",
          "output_type": "stream",
          "text": [
            "\rEvaluate Test:  33%|███▎      | 1/3 [00:01<00:02,  1.36s/it]"
          ]
        },
        {
          "name": "stdout",
          "output_type": "stream",
          "text": [
            "sample 6 num of prompts for Pneumonia from total 312\n"
          ]
        },
        {
          "name": "stderr",
          "output_type": "stream",
          "text": [
            "\rEvaluate Test:  67%|██████▋   | 2/3 [00:02<00:01,  1.36s/it]"
          ]
        },
        {
          "name": "stdout",
          "output_type": "stream",
          "text": [
            "sample 6 num of prompts for Pneumonia from total 312\n"
          ]
        },
        {
          "name": "stderr",
          "output_type": "stream",
          "text": [
            "Evaluate Test: 100%|██████████| 3/3 [00:03<00:00,  1.33s/it]\n"
          ]
        },
        {
          "name": "stdout",
          "output_type": "stream",
          "text": [
            "\n",
            "Accuracy: 0.5881, Precision: 0.5449, Recall: 0.9190, AUC: 0.7071\n"
          ]
        },
        {
          "name": "stderr",
          "output_type": "stream",
          "text": [
            "\rEvaluate Train:   0%|          | 0/8 [00:00<?, ?it/s]"
          ]
        },
        {
          "name": "stdout",
          "output_type": "stream",
          "text": [
            "sample 7 num of prompts for Pneumonia from total 312\n"
          ]
        },
        {
          "name": "stderr",
          "output_type": "stream",
          "text": [
            "\rEvaluate Train:  12%|█▎        | 1/8 [00:01<00:09,  1.39s/it]"
          ]
        },
        {
          "name": "stdout",
          "output_type": "stream",
          "text": [
            "sample 7 num of prompts for Pneumonia from total 312\n"
          ]
        },
        {
          "name": "stderr",
          "output_type": "stream",
          "text": [
            "\rEvaluate Train:  25%|██▌       | 2/8 [00:02<00:08,  1.44s/it]"
          ]
        },
        {
          "name": "stdout",
          "output_type": "stream",
          "text": [
            "sample 7 num of prompts for Pneumonia from total 312\n"
          ]
        },
        {
          "name": "stderr",
          "output_type": "stream",
          "text": [
            "\rEvaluate Train:  38%|███▊      | 3/8 [00:04<00:07,  1.47s/it]"
          ]
        },
        {
          "name": "stdout",
          "output_type": "stream",
          "text": [
            "sample 7 num of prompts for Pneumonia from total 312\n"
          ]
        },
        {
          "name": "stderr",
          "output_type": "stream",
          "text": [
            "\rEvaluate Train:  50%|█████     | 4/8 [00:05<00:05,  1.43s/it]"
          ]
        },
        {
          "name": "stdout",
          "output_type": "stream",
          "text": [
            "sample 7 num of prompts for Pneumonia from total 312\n"
          ]
        },
        {
          "name": "stderr",
          "output_type": "stream",
          "text": [
            "\rEvaluate Train:  62%|██████▎   | 5/8 [00:07<00:04,  1.51s/it]"
          ]
        },
        {
          "name": "stdout",
          "output_type": "stream",
          "text": [
            "sample 7 num of prompts for Pneumonia from total 312\n"
          ]
        },
        {
          "name": "stderr",
          "output_type": "stream",
          "text": [
            "\rEvaluate Train:  75%|███████▌  | 6/8 [00:08<00:02,  1.47s/it]"
          ]
        },
        {
          "name": "stdout",
          "output_type": "stream",
          "text": [
            "sample 7 num of prompts for Pneumonia from total 312\n"
          ]
        },
        {
          "name": "stderr",
          "output_type": "stream",
          "text": [
            "\rEvaluate Train:  88%|████████▊ | 7/8 [00:10<00:01,  1.54s/it]"
          ]
        },
        {
          "name": "stdout",
          "output_type": "stream",
          "text": [
            "sample 7 num of prompts for Pneumonia from total 312\n"
          ]
        },
        {
          "name": "stderr",
          "output_type": "stream",
          "text": [
            "Evaluate Train: 100%|██████████| 8/8 [00:11<00:00,  1.49s/it]\n",
            "Evaluate Validation:   0%|          | 0/2 [00:00<?, ?it/s]"
          ]
        },
        {
          "name": "stdout",
          "output_type": "stream",
          "text": [
            "sample 7 num of prompts for Pneumonia from total 312\n"
          ]
        },
        {
          "name": "stderr",
          "output_type": "stream",
          "text": [
            "\rEvaluate Validation:  50%|█████     | 1/2 [00:01<00:01,  1.37s/it]"
          ]
        },
        {
          "name": "stdout",
          "output_type": "stream",
          "text": [
            "sample 7 num of prompts for Pneumonia from total 312\n"
          ]
        },
        {
          "name": "stderr",
          "output_type": "stream",
          "text": [
            "Evaluate Validation: 100%|██████████| 2/2 [00:02<00:00,  1.37s/it]\n",
            "Evaluate Test:   0%|          | 0/3 [00:00<?, ?it/s]"
          ]
        },
        {
          "name": "stdout",
          "output_type": "stream",
          "text": [
            "sample 7 num of prompts for Pneumonia from total 312\n"
          ]
        },
        {
          "name": "stderr",
          "output_type": "stream",
          "text": [
            "\rEvaluate Test:  33%|███▎      | 1/3 [00:01<00:03,  1.57s/it]"
          ]
        },
        {
          "name": "stdout",
          "output_type": "stream",
          "text": [
            "sample 7 num of prompts for Pneumonia from total 312\n"
          ]
        },
        {
          "name": "stderr",
          "output_type": "stream",
          "text": [
            "\rEvaluate Test:  67%|██████▋   | 2/3 [00:02<00:01,  1.45s/it]"
          ]
        },
        {
          "name": "stdout",
          "output_type": "stream",
          "text": [
            "sample 7 num of prompts for Pneumonia from total 312\n"
          ]
        },
        {
          "name": "stderr",
          "output_type": "stream",
          "text": [
            "Evaluate Test: 100%|██████████| 3/3 [00:04<00:00,  1.61s/it]\n"
          ]
        },
        {
          "name": "stdout",
          "output_type": "stream",
          "text": [
            "\n",
            "Accuracy: 0.5904, Precision: 0.5480, Recall: 0.8908, AUC: 0.6852\n"
          ]
        },
        {
          "name": "stderr",
          "output_type": "stream",
          "text": [
            "\rEvaluate Train:   0%|          | 0/8 [00:00<?, ?it/s]"
          ]
        },
        {
          "name": "stdout",
          "output_type": "stream",
          "text": [
            "sample 8 num of prompts for Pneumonia from total 312\n"
          ]
        },
        {
          "name": "stderr",
          "output_type": "stream",
          "text": [
            "\rEvaluate Train:  12%|█▎        | 1/8 [00:01<00:09,  1.36s/it]"
          ]
        },
        {
          "name": "stdout",
          "output_type": "stream",
          "text": [
            "sample 8 num of prompts for Pneumonia from total 312\n"
          ]
        },
        {
          "name": "stderr",
          "output_type": "stream",
          "text": [
            "\rEvaluate Train:  25%|██▌       | 2/8 [00:03<00:09,  1.60s/it]"
          ]
        },
        {
          "name": "stdout",
          "output_type": "stream",
          "text": [
            "sample 8 num of prompts for Pneumonia from total 312\n"
          ]
        },
        {
          "name": "stderr",
          "output_type": "stream",
          "text": [
            "\rEvaluate Train:  38%|███▊      | 3/8 [00:04<00:07,  1.50s/it]"
          ]
        },
        {
          "name": "stdout",
          "output_type": "stream",
          "text": [
            "sample 8 num of prompts for Pneumonia from total 312\n"
          ]
        },
        {
          "name": "stderr",
          "output_type": "stream",
          "text": [
            "\rEvaluate Train:  50%|█████     | 4/8 [00:06<00:06,  1.50s/it]"
          ]
        },
        {
          "name": "stdout",
          "output_type": "stream",
          "text": [
            "sample 8 num of prompts for Pneumonia from total 312\n"
          ]
        },
        {
          "name": "stderr",
          "output_type": "stream",
          "text": [
            "\rEvaluate Train:  62%|██████▎   | 5/8 [00:07<00:04,  1.46s/it]"
          ]
        },
        {
          "name": "stdout",
          "output_type": "stream",
          "text": [
            "sample 8 num of prompts for Pneumonia from total 312\n"
          ]
        },
        {
          "name": "stderr",
          "output_type": "stream",
          "text": [
            "\rEvaluate Train:  75%|███████▌  | 6/8 [00:08<00:02,  1.43s/it]"
          ]
        },
        {
          "name": "stdout",
          "output_type": "stream",
          "text": [
            "sample 8 num of prompts for Pneumonia from total 312\n"
          ]
        },
        {
          "name": "stderr",
          "output_type": "stream",
          "text": [
            "\rEvaluate Train:  88%|████████▊ | 7/8 [00:10<00:01,  1.41s/it]"
          ]
        },
        {
          "name": "stdout",
          "output_type": "stream",
          "text": [
            "sample 8 num of prompts for Pneumonia from total 312\n"
          ]
        },
        {
          "name": "stderr",
          "output_type": "stream",
          "text": [
            "Evaluate Train: 100%|██████████| 8/8 [00:11<00:00,  1.44s/it]\n",
            "Evaluate Validation:   0%|          | 0/2 [00:00<?, ?it/s]"
          ]
        },
        {
          "name": "stdout",
          "output_type": "stream",
          "text": [
            "sample 8 num of prompts for Pneumonia from total 312\n"
          ]
        },
        {
          "name": "stderr",
          "output_type": "stream",
          "text": [
            "\rEvaluate Validation:  50%|█████     | 1/2 [00:01<00:01,  1.37s/it]"
          ]
        },
        {
          "name": "stdout",
          "output_type": "stream",
          "text": [
            "sample 8 num of prompts for Pneumonia from total 312\n"
          ]
        },
        {
          "name": "stderr",
          "output_type": "stream",
          "text": [
            "Evaluate Validation: 100%|██████████| 2/2 [00:02<00:00,  1.42s/it]\n",
            "Evaluate Test:   0%|          | 0/3 [00:00<?, ?it/s]"
          ]
        },
        {
          "name": "stdout",
          "output_type": "stream",
          "text": [
            "sample 8 num of prompts for Pneumonia from total 312\n"
          ]
        },
        {
          "name": "stderr",
          "output_type": "stream",
          "text": [
            "\rEvaluate Test:  33%|███▎      | 1/3 [00:01<00:02,  1.41s/it]"
          ]
        },
        {
          "name": "stdout",
          "output_type": "stream",
          "text": [
            "sample 8 num of prompts for Pneumonia from total 312\n"
          ]
        },
        {
          "name": "stderr",
          "output_type": "stream",
          "text": [
            "\rEvaluate Test:  67%|██████▋   | 2/3 [00:02<00:01,  1.39s/it]"
          ]
        },
        {
          "name": "stdout",
          "output_type": "stream",
          "text": [
            "sample 8 num of prompts for Pneumonia from total 312\n"
          ]
        },
        {
          "name": "stderr",
          "output_type": "stream",
          "text": [
            "Evaluate Test: 100%|██████████| 3/3 [00:03<00:00,  1.33s/it]\n"
          ]
        },
        {
          "name": "stdout",
          "output_type": "stream",
          "text": [
            "\n",
            "Accuracy: 0.5270, Precision: 0.5070, Recall: 0.9196, AUC: 0.6439\n"
          ]
        },
        {
          "name": "stderr",
          "output_type": "stream",
          "text": [
            "\rEvaluate Train:   0%|          | 0/8 [00:00<?, ?it/s]"
          ]
        },
        {
          "name": "stdout",
          "output_type": "stream",
          "text": [
            "sample 9 num of prompts for Pneumonia from total 312\n"
          ]
        },
        {
          "name": "stderr",
          "output_type": "stream",
          "text": [
            "\rEvaluate Train:  12%|█▎        | 1/8 [00:01<00:09,  1.41s/it]"
          ]
        },
        {
          "name": "stdout",
          "output_type": "stream",
          "text": [
            "sample 9 num of prompts for Pneumonia from total 312\n"
          ]
        },
        {
          "name": "stderr",
          "output_type": "stream",
          "text": [
            "\rEvaluate Train:  25%|██▌       | 2/8 [00:02<00:08,  1.38s/it]"
          ]
        },
        {
          "name": "stdout",
          "output_type": "stream",
          "text": [
            "sample 9 num of prompts for Pneumonia from total 312\n"
          ]
        },
        {
          "name": "stderr",
          "output_type": "stream",
          "text": [
            "\rEvaluate Train:  38%|███▊      | 3/8 [00:04<00:07,  1.45s/it]"
          ]
        },
        {
          "name": "stdout",
          "output_type": "stream",
          "text": [
            "sample 9 num of prompts for Pneumonia from total 312\n"
          ]
        },
        {
          "name": "stderr",
          "output_type": "stream",
          "text": [
            "\rEvaluate Train:  50%|█████     | 4/8 [00:05<00:05,  1.45s/it]"
          ]
        },
        {
          "name": "stdout",
          "output_type": "stream",
          "text": [
            "sample 9 num of prompts for Pneumonia from total 312\n"
          ]
        },
        {
          "name": "stderr",
          "output_type": "stream",
          "text": [
            "\rEvaluate Train:  62%|██████▎   | 5/8 [00:07<00:04,  1.42s/it]"
          ]
        },
        {
          "name": "stdout",
          "output_type": "stream",
          "text": [
            "sample 9 num of prompts for Pneumonia from total 312\n"
          ]
        },
        {
          "name": "stderr",
          "output_type": "stream",
          "text": [
            "\rEvaluate Train:  75%|███████▌  | 6/8 [00:08<00:02,  1.40s/it]"
          ]
        },
        {
          "name": "stdout",
          "output_type": "stream",
          "text": [
            "sample 9 num of prompts for Pneumonia from total 312\n"
          ]
        },
        {
          "name": "stderr",
          "output_type": "stream",
          "text": [
            "\rEvaluate Train:  88%|████████▊ | 7/8 [00:09<00:01,  1.39s/it]"
          ]
        },
        {
          "name": "stdout",
          "output_type": "stream",
          "text": [
            "sample 9 num of prompts for Pneumonia from total 312\n"
          ]
        },
        {
          "name": "stderr",
          "output_type": "stream",
          "text": [
            "Evaluate Train: 100%|██████████| 8/8 [00:11<00:00,  1.41s/it]\n",
            "Evaluate Validation:   0%|          | 0/2 [00:00<?, ?it/s]"
          ]
        },
        {
          "name": "stdout",
          "output_type": "stream",
          "text": [
            "sample 9 num of prompts for Pneumonia from total 312\n"
          ]
        },
        {
          "name": "stderr",
          "output_type": "stream",
          "text": [
            "\rEvaluate Validation:  50%|█████     | 1/2 [00:01<00:01,  1.37s/it]"
          ]
        },
        {
          "name": "stdout",
          "output_type": "stream",
          "text": [
            "sample 9 num of prompts for Pneumonia from total 312\n"
          ]
        },
        {
          "name": "stderr",
          "output_type": "stream",
          "text": [
            "Evaluate Validation: 100%|██████████| 2/2 [00:02<00:00,  1.36s/it]\n",
            "Evaluate Test:   0%|          | 0/3 [00:00<?, ?it/s]"
          ]
        },
        {
          "name": "stdout",
          "output_type": "stream",
          "text": [
            "sample 9 num of prompts for Pneumonia from total 312\n"
          ]
        },
        {
          "name": "stderr",
          "output_type": "stream",
          "text": [
            "\rEvaluate Test:  33%|███▎      | 1/3 [00:01<00:02,  1.36s/it]"
          ]
        },
        {
          "name": "stdout",
          "output_type": "stream",
          "text": [
            "sample 9 num of prompts for Pneumonia from total 312\n"
          ]
        },
        {
          "name": "stderr",
          "output_type": "stream",
          "text": [
            "\rEvaluate Test:  67%|██████▋   | 2/3 [00:02<00:01,  1.37s/it]"
          ]
        },
        {
          "name": "stdout",
          "output_type": "stream",
          "text": [
            "sample 9 num of prompts for Pneumonia from total 312\n"
          ]
        },
        {
          "name": "stderr",
          "output_type": "stream",
          "text": [
            "Evaluate Test: 100%|██████████| 3/3 [00:04<00:00,  1.36s/it]\n"
          ]
        },
        {
          "name": "stdout",
          "output_type": "stream",
          "text": [
            "\n",
            "Accuracy: 0.5231, Precision: 0.5047, Recall: 0.9297, AUC: 0.6152\n"
          ]
        },
        {
          "name": "stderr",
          "output_type": "stream",
          "text": [
            "\rEvaluate Train:   0%|          | 0/8 [00:00<?, ?it/s]"
          ]
        },
        {
          "name": "stdout",
          "output_type": "stream",
          "text": [
            "sample 10 num of prompts for Pneumonia from total 312\n"
          ]
        },
        {
          "name": "stderr",
          "output_type": "stream",
          "text": [
            "\rEvaluate Train:  12%|█▎        | 1/8 [00:01<00:10,  1.57s/it]"
          ]
        },
        {
          "name": "stdout",
          "output_type": "stream",
          "text": [
            "sample 10 num of prompts for Pneumonia from total 312\n"
          ]
        },
        {
          "name": "stderr",
          "output_type": "stream",
          "text": [
            "\rEvaluate Train:  25%|██▌       | 2/8 [00:02<00:08,  1.45s/it]"
          ]
        },
        {
          "name": "stdout",
          "output_type": "stream",
          "text": [
            "sample 10 num of prompts for Pneumonia from total 312\n"
          ]
        },
        {
          "name": "stderr",
          "output_type": "stream",
          "text": [
            "\rEvaluate Train:  38%|███▊      | 3/8 [00:04<00:07,  1.41s/it]"
          ]
        },
        {
          "name": "stdout",
          "output_type": "stream",
          "text": [
            "sample 10 num of prompts for Pneumonia from total 312\n"
          ]
        },
        {
          "name": "stderr",
          "output_type": "stream",
          "text": [
            "\rEvaluate Train:  50%|█████     | 4/8 [00:05<00:05,  1.40s/it]"
          ]
        },
        {
          "name": "stdout",
          "output_type": "stream",
          "text": [
            "sample 10 num of prompts for Pneumonia from total 312\n"
          ]
        },
        {
          "name": "stderr",
          "output_type": "stream",
          "text": [
            "\rEvaluate Train:  62%|██████▎   | 5/8 [00:07<00:04,  1.48s/it]"
          ]
        },
        {
          "name": "stdout",
          "output_type": "stream",
          "text": [
            "sample 10 num of prompts for Pneumonia from total 312\n"
          ]
        },
        {
          "name": "stderr",
          "output_type": "stream",
          "text": [
            "\rEvaluate Train:  75%|███████▌  | 6/8 [00:08<00:02,  1.44s/it]"
          ]
        },
        {
          "name": "stdout",
          "output_type": "stream",
          "text": [
            "sample 10 num of prompts for Pneumonia from total 312\n"
          ]
        },
        {
          "name": "stderr",
          "output_type": "stream",
          "text": [
            "\rEvaluate Train:  88%|████████▊ | 7/8 [00:10<00:01,  1.49s/it]"
          ]
        },
        {
          "name": "stdout",
          "output_type": "stream",
          "text": [
            "sample 10 num of prompts for Pneumonia from total 312\n"
          ]
        },
        {
          "name": "stderr",
          "output_type": "stream",
          "text": [
            "Evaluate Train: 100%|██████████| 8/8 [00:11<00:00,  1.45s/it]\n",
            "Evaluate Validation:   0%|          | 0/2 [00:00<?, ?it/s]"
          ]
        },
        {
          "name": "stdout",
          "output_type": "stream",
          "text": [
            "sample 10 num of prompts for Pneumonia from total 312\n"
          ]
        },
        {
          "name": "stderr",
          "output_type": "stream",
          "text": [
            "\rEvaluate Validation:  50%|█████     | 1/2 [00:01<00:01,  1.37s/it]"
          ]
        },
        {
          "name": "stdout",
          "output_type": "stream",
          "text": [
            "sample 10 num of prompts for Pneumonia from total 312\n"
          ]
        },
        {
          "name": "stderr",
          "output_type": "stream",
          "text": [
            "Evaluate Validation: 100%|██████████| 2/2 [00:02<00:00,  1.36s/it]\n",
            "Evaluate Test:   0%|          | 0/3 [00:00<?, ?it/s]"
          ]
        },
        {
          "name": "stdout",
          "output_type": "stream",
          "text": [
            "sample 10 num of prompts for Pneumonia from total 312\n"
          ]
        },
        {
          "name": "stderr",
          "output_type": "stream",
          "text": [
            "\rEvaluate Test:  33%|███▎      | 1/3 [00:01<00:03,  1.71s/it]"
          ]
        },
        {
          "name": "stdout",
          "output_type": "stream",
          "text": [
            "sample 10 num of prompts for Pneumonia from total 312\n"
          ]
        },
        {
          "name": "stderr",
          "output_type": "stream",
          "text": [
            "\rEvaluate Test:  67%|██████▋   | 2/3 [00:03<00:01,  1.51s/it]"
          ]
        },
        {
          "name": "stdout",
          "output_type": "stream",
          "text": [
            "sample 10 num of prompts for Pneumonia from total 312\n"
          ]
        },
        {
          "name": "stderr",
          "output_type": "stream",
          "text": [
            "Evaluate Test: 100%|██████████| 3/3 [00:04<00:00,  1.44s/it]\n"
          ]
        },
        {
          "name": "stdout",
          "output_type": "stream",
          "text": [
            "\n",
            "Accuracy: 0.5416, Precision: 0.5153, Recall: 0.9337, AUC: 0.6359\n"
          ]
        },
        {
          "name": "stderr",
          "output_type": "stream",
          "text": [
            "\rEvaluate Train:   0%|          | 0/8 [00:00<?, ?it/s]"
          ]
        },
        {
          "name": "stdout",
          "output_type": "stream",
          "text": [
            "sample 11 num of prompts for Pneumonia from total 312\n"
          ]
        },
        {
          "name": "stderr",
          "output_type": "stream",
          "text": [
            "\rEvaluate Train:  12%|█▎        | 1/8 [00:01<00:10,  1.51s/it]"
          ]
        },
        {
          "name": "stdout",
          "output_type": "stream",
          "text": [
            "sample 11 num of prompts for Pneumonia from total 312\n"
          ]
        },
        {
          "name": "stderr",
          "output_type": "stream",
          "text": [
            "\rEvaluate Train:  25%|██▌       | 2/8 [00:02<00:08,  1.49s/it]"
          ]
        },
        {
          "name": "stdout",
          "output_type": "stream",
          "text": [
            "sample 11 num of prompts for Pneumonia from total 312\n"
          ]
        },
        {
          "name": "stderr",
          "output_type": "stream",
          "text": [
            "\rEvaluate Train:  38%|███▊      | 3/8 [00:04<00:07,  1.47s/it]"
          ]
        },
        {
          "name": "stdout",
          "output_type": "stream",
          "text": [
            "sample 11 num of prompts for Pneumonia from total 312\n"
          ]
        },
        {
          "name": "stderr",
          "output_type": "stream",
          "text": [
            "\rEvaluate Train:  50%|█████     | 4/8 [00:05<00:05,  1.43s/it]"
          ]
        },
        {
          "name": "stdout",
          "output_type": "stream",
          "text": [
            "sample 11 num of prompts for Pneumonia from total 312\n"
          ]
        },
        {
          "name": "stderr",
          "output_type": "stream",
          "text": [
            "\rEvaluate Train:  62%|██████▎   | 5/8 [00:07<00:04,  1.41s/it]"
          ]
        },
        {
          "name": "stdout",
          "output_type": "stream",
          "text": [
            "sample 11 num of prompts for Pneumonia from total 312\n"
          ]
        },
        {
          "name": "stderr",
          "output_type": "stream",
          "text": [
            "\rEvaluate Train:  75%|███████▌  | 6/8 [00:08<00:02,  1.40s/it]"
          ]
        },
        {
          "name": "stdout",
          "output_type": "stream",
          "text": [
            "sample 11 num of prompts for Pneumonia from total 312\n"
          ]
        },
        {
          "name": "stderr",
          "output_type": "stream",
          "text": [
            "\rEvaluate Train:  88%|████████▊ | 7/8 [00:09<00:01,  1.40s/it]"
          ]
        },
        {
          "name": "stdout",
          "output_type": "stream",
          "text": [
            "sample 11 num of prompts for Pneumonia from total 312\n"
          ]
        },
        {
          "name": "stderr",
          "output_type": "stream",
          "text": [
            "Evaluate Train: 100%|██████████| 8/8 [00:11<00:00,  1.42s/it]\n",
            "Evaluate Validation:   0%|          | 0/2 [00:00<?, ?it/s]"
          ]
        },
        {
          "name": "stdout",
          "output_type": "stream",
          "text": [
            "sample 11 num of prompts for Pneumonia from total 312\n"
          ]
        },
        {
          "name": "stderr",
          "output_type": "stream",
          "text": [
            "\rEvaluate Validation:  50%|█████     | 1/2 [00:01<00:01,  1.36s/it]"
          ]
        },
        {
          "name": "stdout",
          "output_type": "stream",
          "text": [
            "sample 11 num of prompts for Pneumonia from total 312\n"
          ]
        },
        {
          "name": "stderr",
          "output_type": "stream",
          "text": [
            "Evaluate Validation: 100%|██████████| 2/2 [00:02<00:00,  1.36s/it]\n",
            "Evaluate Test:   0%|          | 0/3 [00:00<?, ?it/s]"
          ]
        },
        {
          "name": "stdout",
          "output_type": "stream",
          "text": [
            "sample 11 num of prompts for Pneumonia from total 312\n"
          ]
        },
        {
          "name": "stderr",
          "output_type": "stream",
          "text": [
            "\rEvaluate Test:  33%|███▎      | 1/3 [00:01<00:02,  1.42s/it]"
          ]
        },
        {
          "name": "stdout",
          "output_type": "stream",
          "text": [
            "sample 11 num of prompts for Pneumonia from total 312\n"
          ]
        },
        {
          "name": "stderr",
          "output_type": "stream",
          "text": [
            "\rEvaluate Test:  67%|██████▋   | 2/3 [00:02<00:01,  1.38s/it]"
          ]
        },
        {
          "name": "stdout",
          "output_type": "stream",
          "text": [
            "sample 11 num of prompts for Pneumonia from total 312\n"
          ]
        },
        {
          "name": "stderr",
          "output_type": "stream",
          "text": [
            "Evaluate Test: 100%|██████████| 3/3 [00:04<00:00,  1.39s/it]\n"
          ]
        },
        {
          "name": "stdout",
          "output_type": "stream",
          "text": [
            "\n",
            "Accuracy: 0.5361, Precision: 0.5117, Recall: 0.9645, AUC: 0.6489\n"
          ]
        },
        {
          "name": "stderr",
          "output_type": "stream",
          "text": [
            "\rEvaluate Train:   0%|          | 0/8 [00:00<?, ?it/s]"
          ]
        },
        {
          "name": "stdout",
          "output_type": "stream",
          "text": [
            "sample 12 num of prompts for Pneumonia from total 312\n"
          ]
        },
        {
          "name": "stderr",
          "output_type": "stream",
          "text": [
            "\rEvaluate Train:  12%|█▎        | 1/8 [00:01<00:10,  1.54s/it]"
          ]
        },
        {
          "name": "stdout",
          "output_type": "stream",
          "text": [
            "sample 12 num of prompts for Pneumonia from total 312\n"
          ]
        },
        {
          "name": "stderr",
          "output_type": "stream",
          "text": [
            "\rEvaluate Train:  25%|██▌       | 2/8 [00:03<00:09,  1.57s/it]"
          ]
        },
        {
          "name": "stdout",
          "output_type": "stream",
          "text": [
            "sample 12 num of prompts for Pneumonia from total 312\n"
          ]
        },
        {
          "name": "stderr",
          "output_type": "stream",
          "text": [
            "\rEvaluate Train:  38%|███▊      | 3/8 [00:04<00:07,  1.48s/it]"
          ]
        },
        {
          "name": "stdout",
          "output_type": "stream",
          "text": [
            "sample 12 num of prompts for Pneumonia from total 312\n"
          ]
        },
        {
          "name": "stderr",
          "output_type": "stream",
          "text": [
            "\rEvaluate Train:  50%|█████     | 4/8 [00:06<00:06,  1.53s/it]"
          ]
        },
        {
          "name": "stdout",
          "output_type": "stream",
          "text": [
            "sample 12 num of prompts for Pneumonia from total 312\n"
          ]
        },
        {
          "name": "stderr",
          "output_type": "stream",
          "text": [
            "\rEvaluate Train:  62%|██████▎   | 5/8 [00:07<00:04,  1.50s/it]"
          ]
        },
        {
          "name": "stdout",
          "output_type": "stream",
          "text": [
            "sample 12 num of prompts for Pneumonia from total 312\n"
          ]
        },
        {
          "name": "stderr",
          "output_type": "stream",
          "text": [
            "\rEvaluate Train:  75%|███████▌  | 6/8 [00:09<00:03,  1.55s/it]"
          ]
        },
        {
          "name": "stdout",
          "output_type": "stream",
          "text": [
            "sample 12 num of prompts for Pneumonia from total 312\n"
          ]
        },
        {
          "name": "stderr",
          "output_type": "stream",
          "text": [
            "\rEvaluate Train:  88%|████████▊ | 7/8 [00:10<00:01,  1.49s/it]"
          ]
        },
        {
          "name": "stdout",
          "output_type": "stream",
          "text": [
            "sample 12 num of prompts for Pneumonia from total 312\n"
          ]
        },
        {
          "name": "stderr",
          "output_type": "stream",
          "text": [
            "Evaluate Train: 100%|██████████| 8/8 [00:11<00:00,  1.50s/it]\n",
            "Evaluate Validation:   0%|          | 0/2 [00:00<?, ?it/s]"
          ]
        },
        {
          "name": "stdout",
          "output_type": "stream",
          "text": [
            "sample 12 num of prompts for Pneumonia from total 312\n"
          ]
        },
        {
          "name": "stderr",
          "output_type": "stream",
          "text": [
            "\rEvaluate Validation:  50%|█████     | 1/2 [00:01<00:01,  1.40s/it]"
          ]
        },
        {
          "name": "stdout",
          "output_type": "stream",
          "text": [
            "sample 12 num of prompts for Pneumonia from total 312\n"
          ]
        },
        {
          "name": "stderr",
          "output_type": "stream",
          "text": [
            "Evaluate Validation: 100%|██████████| 2/2 [00:02<00:00,  1.38s/it]\n",
            "Evaluate Test:   0%|          | 0/3 [00:00<?, ?it/s]"
          ]
        },
        {
          "name": "stdout",
          "output_type": "stream",
          "text": [
            "sample 12 num of prompts for Pneumonia from total 312\n"
          ]
        },
        {
          "name": "stderr",
          "output_type": "stream",
          "text": [
            "\rEvaluate Test:  33%|███▎      | 1/3 [00:01<00:02,  1.36s/it]"
          ]
        },
        {
          "name": "stdout",
          "output_type": "stream",
          "text": [
            "sample 12 num of prompts for Pneumonia from total 312\n"
          ]
        },
        {
          "name": "stderr",
          "output_type": "stream",
          "text": [
            "\rEvaluate Test:  67%|██████▋   | 2/3 [00:02<00:01,  1.37s/it]"
          ]
        },
        {
          "name": "stdout",
          "output_type": "stream",
          "text": [
            "sample 12 num of prompts for Pneumonia from total 312\n"
          ]
        },
        {
          "name": "stderr",
          "output_type": "stream",
          "text": [
            "Evaluate Test: 100%|██████████| 3/3 [00:04<00:00,  1.38s/it]\n"
          ]
        },
        {
          "name": "stdout",
          "output_type": "stream",
          "text": [
            "\n",
            "Accuracy: 0.5787, Precision: 0.5369, Recall: 0.9605, AUC: 0.7516\n",
            "Best AUC for rsna_task with 12 prompts: 0.7516\n",
            "Results saved to results/zs_medclip_base/ucsd/medclip/classification_results.txt\n"
          ]
        },
        {
          "name": "stderr",
          "output_type": "stream",
          "text": [
            "\rEvaluate Train:   0%|          | 0/8 [00:00<?, ?it/s]"
          ]
        },
        {
          "name": "stdout",
          "output_type": "stream",
          "text": [
            "sample 1 num of prompts for COVID from total 12\n"
          ]
        },
        {
          "name": "stderr",
          "output_type": "stream",
          "text": [
            "\rEvaluate Train:  12%|█▎        | 1/8 [00:01<00:09,  1.41s/it]"
          ]
        },
        {
          "name": "stdout",
          "output_type": "stream",
          "text": [
            "sample 1 num of prompts for COVID from total 12\n"
          ]
        },
        {
          "name": "stderr",
          "output_type": "stream",
          "text": [
            "\rEvaluate Train:  25%|██▌       | 2/8 [00:03<00:11,  1.87s/it]"
          ]
        },
        {
          "name": "stdout",
          "output_type": "stream",
          "text": [
            "sample 1 num of prompts for COVID from total 12\n"
          ]
        },
        {
          "name": "stderr",
          "output_type": "stream",
          "text": [
            "\rEvaluate Train:  38%|███▊      | 3/8 [00:05<00:08,  1.70s/it]"
          ]
        },
        {
          "name": "stdout",
          "output_type": "stream",
          "text": [
            "sample 1 num of prompts for COVID from total 12\n"
          ]
        },
        {
          "name": "stderr",
          "output_type": "stream",
          "text": [
            "\rEvaluate Train:  50%|█████     | 4/8 [00:06<00:06,  1.59s/it]"
          ]
        },
        {
          "name": "stdout",
          "output_type": "stream",
          "text": [
            "sample 1 num of prompts for COVID from total 12\n"
          ]
        },
        {
          "name": "stderr",
          "output_type": "stream",
          "text": [
            "\rEvaluate Train:  62%|██████▎   | 5/8 [00:07<00:04,  1.53s/it]"
          ]
        },
        {
          "name": "stdout",
          "output_type": "stream",
          "text": [
            "sample 1 num of prompts for COVID from total 12\n"
          ]
        },
        {
          "name": "stderr",
          "output_type": "stream",
          "text": [
            "\rEvaluate Train:  75%|███████▌  | 6/8 [00:09<00:02,  1.48s/it]"
          ]
        },
        {
          "name": "stdout",
          "output_type": "stream",
          "text": [
            "sample 1 num of prompts for COVID from total 12\n"
          ]
        },
        {
          "name": "stderr",
          "output_type": "stream",
          "text": [
            "\rEvaluate Train:  88%|████████▊ | 7/8 [00:10<00:01,  1.48s/it]"
          ]
        },
        {
          "name": "stdout",
          "output_type": "stream",
          "text": [
            "sample 1 num of prompts for COVID from total 12\n"
          ]
        },
        {
          "name": "stderr",
          "output_type": "stream",
          "text": [
            "Evaluate Train: 100%|██████████| 8/8 [00:12<00:00,  1.52s/it]\n",
            "Evaluate Validation:   0%|          | 0/2 [00:00<?, ?it/s]"
          ]
        },
        {
          "name": "stdout",
          "output_type": "stream",
          "text": [
            "sample 1 num of prompts for COVID from total 12\n"
          ]
        },
        {
          "name": "stderr",
          "output_type": "stream",
          "text": [
            "\rEvaluate Validation:  50%|█████     | 1/2 [00:01<00:01,  1.38s/it]"
          ]
        },
        {
          "name": "stdout",
          "output_type": "stream",
          "text": [
            "sample 1 num of prompts for COVID from total 12\n"
          ]
        },
        {
          "name": "stderr",
          "output_type": "stream",
          "text": [
            "Evaluate Validation: 100%|██████████| 2/2 [00:02<00:00,  1.36s/it]\n",
            "Evaluate Test:   0%|          | 0/3 [00:00<?, ?it/s]"
          ]
        },
        {
          "name": "stdout",
          "output_type": "stream",
          "text": [
            "sample 1 num of prompts for COVID from total 12\n"
          ]
        },
        {
          "name": "stderr",
          "output_type": "stream",
          "text": [
            "\rEvaluate Test:  33%|███▎      | 1/3 [00:01<00:02,  1.38s/it]"
          ]
        },
        {
          "name": "stdout",
          "output_type": "stream",
          "text": [
            "sample 1 num of prompts for COVID from total 12\n"
          ]
        },
        {
          "name": "stderr",
          "output_type": "stream",
          "text": [
            "\rEvaluate Test:  67%|██████▋   | 2/3 [00:02<00:01,  1.39s/it]"
          ]
        },
        {
          "name": "stdout",
          "output_type": "stream",
          "text": [
            "sample 1 num of prompts for COVID from total 12\n"
          ]
        },
        {
          "name": "stderr",
          "output_type": "stream",
          "text": [
            "Evaluate Test: 100%|██████████| 3/3 [00:04<00:00,  1.39s/it]\n"
          ]
        },
        {
          "name": "stdout",
          "output_type": "stream",
          "text": [
            "\n",
            "Accuracy: 0.6980, Precision: 0.7092, Recall: 0.6403, AUC: 0.7825\n"
          ]
        },
        {
          "name": "stderr",
          "output_type": "stream",
          "text": [
            "\rEvaluate Train:   0%|          | 0/8 [00:00<?, ?it/s]"
          ]
        },
        {
          "name": "stdout",
          "output_type": "stream",
          "text": [
            "sample 2 num of prompts for COVID from total 12\n"
          ]
        },
        {
          "name": "stderr",
          "output_type": "stream",
          "text": [
            "\rEvaluate Train:  12%|█▎        | 1/8 [00:01<00:09,  1.36s/it]"
          ]
        },
        {
          "name": "stdout",
          "output_type": "stream",
          "text": [
            "sample 2 num of prompts for COVID from total 12\n"
          ]
        },
        {
          "name": "stderr",
          "output_type": "stream",
          "text": [
            "\rEvaluate Train:  25%|██▌       | 2/8 [00:02<00:08,  1.37s/it]"
          ]
        },
        {
          "name": "stdout",
          "output_type": "stream",
          "text": [
            "sample 2 num of prompts for COVID from total 12\n"
          ]
        },
        {
          "name": "stderr",
          "output_type": "stream",
          "text": [
            "\rEvaluate Train:  38%|███▊      | 3/8 [00:04<00:06,  1.39s/it]"
          ]
        },
        {
          "name": "stdout",
          "output_type": "stream",
          "text": [
            "sample 2 num of prompts for COVID from total 12\n"
          ]
        },
        {
          "name": "stderr",
          "output_type": "stream",
          "text": [
            "\rEvaluate Train:  50%|█████     | 4/8 [00:05<00:05,  1.38s/it]"
          ]
        },
        {
          "name": "stdout",
          "output_type": "stream",
          "text": [
            "sample 2 num of prompts for COVID from total 12\n"
          ]
        },
        {
          "name": "stderr",
          "output_type": "stream",
          "text": [
            "\rEvaluate Train:  62%|██████▎   | 5/8 [00:07<00:04,  1.50s/it]"
          ]
        },
        {
          "name": "stdout",
          "output_type": "stream",
          "text": [
            "sample 2 num of prompts for COVID from total 12\n"
          ]
        },
        {
          "name": "stderr",
          "output_type": "stream",
          "text": [
            "\rEvaluate Train:  75%|███████▌  | 6/8 [00:08<00:03,  1.50s/it]"
          ]
        },
        {
          "name": "stdout",
          "output_type": "stream",
          "text": [
            "sample 2 num of prompts for COVID from total 12\n"
          ]
        },
        {
          "name": "stderr",
          "output_type": "stream",
          "text": [
            "\rEvaluate Train:  88%|████████▊ | 7/8 [00:10<00:01,  1.48s/it]"
          ]
        },
        {
          "name": "stdout",
          "output_type": "stream",
          "text": [
            "sample 2 num of prompts for COVID from total 12\n"
          ]
        },
        {
          "name": "stderr",
          "output_type": "stream",
          "text": [
            "Evaluate Train: 100%|██████████| 8/8 [00:11<00:00,  1.46s/it]\n",
            "Evaluate Validation:   0%|          | 0/2 [00:00<?, ?it/s]"
          ]
        },
        {
          "name": "stdout",
          "output_type": "stream",
          "text": [
            "sample 2 num of prompts for COVID from total 12\n"
          ]
        },
        {
          "name": "stderr",
          "output_type": "stream",
          "text": [
            "\rEvaluate Validation:  50%|█████     | 1/2 [00:01<00:01,  1.37s/it]"
          ]
        },
        {
          "name": "stdout",
          "output_type": "stream",
          "text": [
            "sample 2 num of prompts for COVID from total 12\n"
          ]
        },
        {
          "name": "stderr",
          "output_type": "stream",
          "text": [
            "Evaluate Validation: 100%|██████████| 2/2 [00:02<00:00,  1.36s/it]\n",
            "Evaluate Test:   0%|          | 0/3 [00:00<?, ?it/s]"
          ]
        },
        {
          "name": "stdout",
          "output_type": "stream",
          "text": [
            "sample 2 num of prompts for COVID from total 12\n"
          ]
        },
        {
          "name": "stderr",
          "output_type": "stream",
          "text": [
            "\rEvaluate Test:  33%|███▎      | 1/3 [00:01<00:02,  1.39s/it]"
          ]
        },
        {
          "name": "stdout",
          "output_type": "stream",
          "text": [
            "sample 2 num of prompts for COVID from total 12\n"
          ]
        },
        {
          "name": "stderr",
          "output_type": "stream",
          "text": [
            "\rEvaluate Test:  67%|██████▋   | 2/3 [00:02<00:01,  1.42s/it]"
          ]
        },
        {
          "name": "stdout",
          "output_type": "stream",
          "text": [
            "sample 2 num of prompts for COVID from total 12\n"
          ]
        },
        {
          "name": "stderr",
          "output_type": "stream",
          "text": [
            "Evaluate Test: 100%|██████████| 3/3 [00:04<00:00,  1.36s/it]\n"
          ]
        },
        {
          "name": "stdout",
          "output_type": "stream",
          "text": [
            "\n",
            "Accuracy: 0.7097, Precision: 0.6940, Recall: 0.7187, AUC: 0.7988\n"
          ]
        },
        {
          "name": "stderr",
          "output_type": "stream",
          "text": [
            "\rEvaluate Train:   0%|          | 0/8 [00:00<?, ?it/s]"
          ]
        },
        {
          "name": "stdout",
          "output_type": "stream",
          "text": [
            "sample 3 num of prompts for COVID from total 12\n"
          ]
        },
        {
          "name": "stderr",
          "output_type": "stream",
          "text": [
            "\rEvaluate Train:  12%|█▎        | 1/8 [00:01<00:09,  1.37s/it]"
          ]
        },
        {
          "name": "stdout",
          "output_type": "stream",
          "text": [
            "sample 3 num of prompts for COVID from total 12\n"
          ]
        },
        {
          "name": "stderr",
          "output_type": "stream",
          "text": [
            "\rEvaluate Train:  25%|██▌       | 2/8 [00:02<00:08,  1.39s/it]"
          ]
        },
        {
          "name": "stdout",
          "output_type": "stream",
          "text": [
            "sample 3 num of prompts for COVID from total 12\n"
          ]
        },
        {
          "name": "stderr",
          "output_type": "stream",
          "text": [
            "\rEvaluate Train:  38%|███▊      | 3/8 [00:04<00:08,  1.60s/it]"
          ]
        },
        {
          "name": "stdout",
          "output_type": "stream",
          "text": [
            "sample 3 num of prompts for COVID from total 12\n"
          ]
        },
        {
          "name": "stderr",
          "output_type": "stream",
          "text": [
            "\rEvaluate Train:  50%|█████     | 4/8 [00:05<00:06,  1.51s/it]"
          ]
        },
        {
          "name": "stdout",
          "output_type": "stream",
          "text": [
            "sample 3 num of prompts for COVID from total 12\n"
          ]
        },
        {
          "name": "stderr",
          "output_type": "stream",
          "text": [
            "\rEvaluate Train:  62%|██████▎   | 5/8 [00:07<00:04,  1.48s/it]"
          ]
        },
        {
          "name": "stdout",
          "output_type": "stream",
          "text": [
            "sample 3 num of prompts for COVID from total 12\n"
          ]
        },
        {
          "name": "stderr",
          "output_type": "stream",
          "text": [
            "\rEvaluate Train:  75%|███████▌  | 6/8 [00:08<00:02,  1.49s/it]"
          ]
        },
        {
          "name": "stdout",
          "output_type": "stream",
          "text": [
            "sample 3 num of prompts for COVID from total 12\n"
          ]
        },
        {
          "name": "stderr",
          "output_type": "stream",
          "text": [
            "\rEvaluate Train:  88%|████████▊ | 7/8 [00:11<00:01,  1.68s/it]"
          ]
        },
        {
          "name": "stdout",
          "output_type": "stream",
          "text": [
            "sample 3 num of prompts for COVID from total 12\n"
          ]
        },
        {
          "name": "stderr",
          "output_type": "stream",
          "text": [
            "Evaluate Train: 100%|██████████| 8/8 [00:12<00:00,  1.54s/it]\n",
            "Evaluate Validation:   0%|          | 0/2 [00:00<?, ?it/s]"
          ]
        },
        {
          "name": "stdout",
          "output_type": "stream",
          "text": [
            "sample 3 num of prompts for COVID from total 12\n"
          ]
        },
        {
          "name": "stderr",
          "output_type": "stream",
          "text": [
            "\rEvaluate Validation:  50%|█████     | 1/2 [00:01<00:01,  1.37s/it]"
          ]
        },
        {
          "name": "stdout",
          "output_type": "stream",
          "text": [
            "sample 3 num of prompts for COVID from total 12\n"
          ]
        },
        {
          "name": "stderr",
          "output_type": "stream",
          "text": [
            "Evaluate Validation: 100%|██████████| 2/2 [00:02<00:00,  1.36s/it]\n",
            "Evaluate Test:   0%|          | 0/3 [00:00<?, ?it/s]"
          ]
        },
        {
          "name": "stdout",
          "output_type": "stream",
          "text": [
            "sample 3 num of prompts for COVID from total 12\n"
          ]
        },
        {
          "name": "stderr",
          "output_type": "stream",
          "text": [
            "\rEvaluate Test:  33%|███▎      | 1/3 [00:01<00:02,  1.37s/it]"
          ]
        },
        {
          "name": "stdout",
          "output_type": "stream",
          "text": [
            "sample 3 num of prompts for COVID from total 12\n"
          ]
        },
        {
          "name": "stderr",
          "output_type": "stream",
          "text": [
            "\rEvaluate Test:  67%|██████▋   | 2/3 [00:02<00:01,  1.37s/it]"
          ]
        },
        {
          "name": "stdout",
          "output_type": "stream",
          "text": [
            "sample 3 num of prompts for COVID from total 12\n"
          ]
        },
        {
          "name": "stderr",
          "output_type": "stream",
          "text": [
            "Evaluate Test: 100%|██████████| 3/3 [00:04<00:00,  1.47s/it]\n"
          ]
        },
        {
          "name": "stdout",
          "output_type": "stream",
          "text": [
            "\n",
            "Accuracy: 0.7523, Precision: 0.6821, Recall: 0.9169, AUC: 0.8593\n"
          ]
        },
        {
          "name": "stderr",
          "output_type": "stream",
          "text": [
            "\rEvaluate Train:   0%|          | 0/8 [00:00<?, ?it/s]"
          ]
        },
        {
          "name": "stdout",
          "output_type": "stream",
          "text": [
            "sample 4 num of prompts for COVID from total 12\n"
          ]
        },
        {
          "name": "stderr",
          "output_type": "stream",
          "text": [
            "\rEvaluate Train:  12%|█▎        | 1/8 [00:01<00:09,  1.40s/it]"
          ]
        },
        {
          "name": "stdout",
          "output_type": "stream",
          "text": [
            "sample 4 num of prompts for COVID from total 12\n"
          ]
        },
        {
          "name": "stderr",
          "output_type": "stream",
          "text": [
            "\rEvaluate Train:  25%|██▌       | 2/8 [00:02<00:08,  1.46s/it]"
          ]
        },
        {
          "name": "stdout",
          "output_type": "stream",
          "text": [
            "sample 4 num of prompts for COVID from total 12\n"
          ]
        },
        {
          "name": "stderr",
          "output_type": "stream",
          "text": [
            "\rEvaluate Train:  38%|███▊      | 3/8 [00:04<00:07,  1.42s/it]"
          ]
        },
        {
          "name": "stdout",
          "output_type": "stream",
          "text": [
            "sample 4 num of prompts for COVID from total 12\n"
          ]
        },
        {
          "name": "stderr",
          "output_type": "stream",
          "text": [
            "\rEvaluate Train:  50%|█████     | 4/8 [00:05<00:06,  1.51s/it]"
          ]
        },
        {
          "name": "stdout",
          "output_type": "stream",
          "text": [
            "sample 4 num of prompts for COVID from total 12\n"
          ]
        },
        {
          "name": "stderr",
          "output_type": "stream",
          "text": [
            "\rEvaluate Train:  62%|██████▎   | 5/8 [00:07<00:04,  1.46s/it]"
          ]
        },
        {
          "name": "stdout",
          "output_type": "stream",
          "text": [
            "sample 4 num of prompts for COVID from total 12\n"
          ]
        },
        {
          "name": "stderr",
          "output_type": "stream",
          "text": [
            "\rEvaluate Train:  75%|███████▌  | 6/8 [00:08<00:03,  1.52s/it]"
          ]
        },
        {
          "name": "stdout",
          "output_type": "stream",
          "text": [
            "sample 4 num of prompts for COVID from total 12\n"
          ]
        },
        {
          "name": "stderr",
          "output_type": "stream",
          "text": [
            "\rEvaluate Train:  88%|████████▊ | 7/8 [00:10<00:01,  1.47s/it]"
          ]
        },
        {
          "name": "stdout",
          "output_type": "stream",
          "text": [
            "sample 4 num of prompts for COVID from total 12\n"
          ]
        },
        {
          "name": "stderr",
          "output_type": "stream",
          "text": [
            "Evaluate Train: 100%|██████████| 8/8 [00:11<00:00,  1.48s/it]\n",
            "Evaluate Validation:   0%|          | 0/2 [00:00<?, ?it/s]"
          ]
        },
        {
          "name": "stdout",
          "output_type": "stream",
          "text": [
            "sample 4 num of prompts for COVID from total 12\n"
          ]
        },
        {
          "name": "stderr",
          "output_type": "stream",
          "text": [
            "\rEvaluate Validation:  50%|█████     | 1/2 [00:01<00:01,  1.37s/it]"
          ]
        },
        {
          "name": "stdout",
          "output_type": "stream",
          "text": [
            "sample 4 num of prompts for COVID from total 12\n"
          ]
        },
        {
          "name": "stderr",
          "output_type": "stream",
          "text": [
            "Evaluate Validation: 100%|██████████| 2/2 [00:02<00:00,  1.37s/it]\n",
            "Evaluate Test:   0%|          | 0/3 [00:00<?, ?it/s]"
          ]
        },
        {
          "name": "stdout",
          "output_type": "stream",
          "text": [
            "sample 4 num of prompts for COVID from total 12\n"
          ]
        },
        {
          "name": "stderr",
          "output_type": "stream",
          "text": [
            "\rEvaluate Test:  33%|███▎      | 1/3 [00:01<00:02,  1.36s/it]"
          ]
        },
        {
          "name": "stdout",
          "output_type": "stream",
          "text": [
            "sample 4 num of prompts for COVID from total 12\n"
          ]
        },
        {
          "name": "stderr",
          "output_type": "stream",
          "text": [
            "\rEvaluate Test:  67%|██████▋   | 2/3 [00:02<00:01,  1.37s/it]"
          ]
        },
        {
          "name": "stdout",
          "output_type": "stream",
          "text": [
            "sample 4 num of prompts for COVID from total 12\n"
          ]
        },
        {
          "name": "stderr",
          "output_type": "stream",
          "text": [
            "Evaluate Test: 100%|██████████| 3/3 [00:04<00:00,  1.42s/it]\n"
          ]
        },
        {
          "name": "stdout",
          "output_type": "stream",
          "text": [
            "\n",
            "Accuracy: 0.7526, Precision: 0.6815, Recall: 0.9203, AUC: 0.8588\n"
          ]
        },
        {
          "name": "stderr",
          "output_type": "stream",
          "text": [
            "\rEvaluate Train:   0%|          | 0/8 [00:00<?, ?it/s]"
          ]
        },
        {
          "name": "stdout",
          "output_type": "stream",
          "text": [
            "sample 5 num of prompts for COVID from total 12\n"
          ]
        },
        {
          "name": "stderr",
          "output_type": "stream",
          "text": [
            "\rEvaluate Train:  12%|█▎        | 1/8 [00:01<00:09,  1.42s/it]"
          ]
        },
        {
          "name": "stdout",
          "output_type": "stream",
          "text": [
            "sample 5 num of prompts for COVID from total 12\n"
          ]
        },
        {
          "name": "stderr",
          "output_type": "stream",
          "text": [
            "\rEvaluate Train:  25%|██▌       | 2/8 [00:03<00:09,  1.53s/it]"
          ]
        },
        {
          "name": "stdout",
          "output_type": "stream",
          "text": [
            "sample 5 num of prompts for COVID from total 12\n"
          ]
        },
        {
          "name": "stderr",
          "output_type": "stream",
          "text": [
            "\rEvaluate Train:  38%|███▊      | 3/8 [00:04<00:07,  1.51s/it]"
          ]
        },
        {
          "name": "stdout",
          "output_type": "stream",
          "text": [
            "sample 5 num of prompts for COVID from total 12\n"
          ]
        },
        {
          "name": "stderr",
          "output_type": "stream",
          "text": [
            "\rEvaluate Train:  50%|█████     | 4/8 [00:06<00:06,  1.51s/it]"
          ]
        },
        {
          "name": "stdout",
          "output_type": "stream",
          "text": [
            "sample 5 num of prompts for COVID from total 12\n"
          ]
        },
        {
          "name": "stderr",
          "output_type": "stream",
          "text": [
            "\rEvaluate Train:  62%|██████▎   | 5/8 [00:07<00:04,  1.46s/it]"
          ]
        },
        {
          "name": "stdout",
          "output_type": "stream",
          "text": [
            "sample 5 num of prompts for COVID from total 12\n"
          ]
        },
        {
          "name": "stderr",
          "output_type": "stream",
          "text": [
            "\rEvaluate Train:  75%|███████▌  | 6/8 [00:09<00:03,  1.52s/it]"
          ]
        },
        {
          "name": "stdout",
          "output_type": "stream",
          "text": [
            "sample 5 num of prompts for COVID from total 12\n"
          ]
        },
        {
          "name": "stderr",
          "output_type": "stream",
          "text": [
            "\rEvaluate Train:  88%|████████▊ | 7/8 [00:10<00:01,  1.47s/it]"
          ]
        },
        {
          "name": "stdout",
          "output_type": "stream",
          "text": [
            "sample 5 num of prompts for COVID from total 12\n"
          ]
        },
        {
          "name": "stderr",
          "output_type": "stream",
          "text": [
            "Evaluate Train: 100%|██████████| 8/8 [00:12<00:00,  1.51s/it]\n",
            "Evaluate Validation:   0%|          | 0/2 [00:00<?, ?it/s]"
          ]
        },
        {
          "name": "stdout",
          "output_type": "stream",
          "text": [
            "sample 5 num of prompts for COVID from total 12\n"
          ]
        },
        {
          "name": "stderr",
          "output_type": "stream",
          "text": [
            "\rEvaluate Validation:  50%|█████     | 1/2 [00:01<00:01,  1.41s/it]"
          ]
        },
        {
          "name": "stdout",
          "output_type": "stream",
          "text": [
            "sample 5 num of prompts for COVID from total 12\n"
          ]
        },
        {
          "name": "stderr",
          "output_type": "stream",
          "text": [
            "Evaluate Validation: 100%|██████████| 2/2 [00:03<00:00,  1.51s/it]\n",
            "Evaluate Test:   0%|          | 0/3 [00:00<?, ?it/s]"
          ]
        },
        {
          "name": "stdout",
          "output_type": "stream",
          "text": [
            "sample 5 num of prompts for COVID from total 12\n"
          ]
        },
        {
          "name": "stderr",
          "output_type": "stream",
          "text": [
            "\rEvaluate Test:  33%|███▎      | 1/3 [00:01<00:02,  1.37s/it]"
          ]
        },
        {
          "name": "stdout",
          "output_type": "stream",
          "text": [
            "sample 5 num of prompts for COVID from total 12\n"
          ]
        },
        {
          "name": "stderr",
          "output_type": "stream",
          "text": [
            "\rEvaluate Test:  67%|██████▋   | 2/3 [00:02<00:01,  1.41s/it]"
          ]
        },
        {
          "name": "stdout",
          "output_type": "stream",
          "text": [
            "sample 5 num of prompts for COVID from total 12\n"
          ]
        },
        {
          "name": "stderr",
          "output_type": "stream",
          "text": [
            "Evaluate Test: 100%|██████████| 3/3 [00:04<00:00,  1.41s/it]\n"
          ]
        },
        {
          "name": "stdout",
          "output_type": "stream",
          "text": [
            "\n",
            "Accuracy: 0.7529, Precision: 0.6821, Recall: 0.9196, AUC: 0.8602\n"
          ]
        },
        {
          "name": "stderr",
          "output_type": "stream",
          "text": [
            "\rEvaluate Train:   0%|          | 0/8 [00:00<?, ?it/s]"
          ]
        },
        {
          "name": "stdout",
          "output_type": "stream",
          "text": [
            "sample 6 num of prompts for COVID from total 12\n"
          ]
        },
        {
          "name": "stderr",
          "output_type": "stream",
          "text": [
            "\rEvaluate Train:  12%|█▎        | 1/8 [00:01<00:13,  1.89s/it]"
          ]
        },
        {
          "name": "stdout",
          "output_type": "stream",
          "text": [
            "sample 6 num of prompts for COVID from total 12\n"
          ]
        },
        {
          "name": "stderr",
          "output_type": "stream",
          "text": [
            "\rEvaluate Train:  25%|██▌       | 2/8 [00:03<00:10,  1.69s/it]"
          ]
        },
        {
          "name": "stdout",
          "output_type": "stream",
          "text": [
            "sample 6 num of prompts for COVID from total 12\n"
          ]
        },
        {
          "name": "stderr",
          "output_type": "stream",
          "text": [
            "\rEvaluate Train:  38%|███▊      | 3/8 [00:04<00:07,  1.54s/it]"
          ]
        },
        {
          "name": "stdout",
          "output_type": "stream",
          "text": [
            "sample 6 num of prompts for COVID from total 12\n"
          ]
        },
        {
          "name": "stderr",
          "output_type": "stream",
          "text": [
            "\rEvaluate Train:  50%|█████     | 4/8 [00:06<00:06,  1.73s/it]"
          ]
        },
        {
          "name": "stdout",
          "output_type": "stream",
          "text": [
            "sample 6 num of prompts for COVID from total 12\n"
          ]
        },
        {
          "name": "stderr",
          "output_type": "stream",
          "text": [
            "\rEvaluate Train:  62%|██████▎   | 5/8 [00:08<00:05,  1.68s/it]"
          ]
        },
        {
          "name": "stdout",
          "output_type": "stream",
          "text": [
            "sample 6 num of prompts for COVID from total 12\n"
          ]
        },
        {
          "name": "stderr",
          "output_type": "stream",
          "text": [
            "\rEvaluate Train:  75%|███████▌  | 6/8 [00:09<00:03,  1.58s/it]"
          ]
        },
        {
          "name": "stdout",
          "output_type": "stream",
          "text": [
            "sample 6 num of prompts for COVID from total 12\n"
          ]
        },
        {
          "name": "stderr",
          "output_type": "stream",
          "text": [
            "\rEvaluate Train:  88%|████████▊ | 7/8 [00:11<00:01,  1.51s/it]"
          ]
        },
        {
          "name": "stdout",
          "output_type": "stream",
          "text": [
            "sample 6 num of prompts for COVID from total 12\n"
          ]
        },
        {
          "name": "stderr",
          "output_type": "stream",
          "text": [
            "Evaluate Train: 100%|██████████| 8/8 [00:12<00:00,  1.57s/it]\n",
            "Evaluate Validation:   0%|          | 0/2 [00:00<?, ?it/s]"
          ]
        },
        {
          "name": "stdout",
          "output_type": "stream",
          "text": [
            "sample 6 num of prompts for COVID from total 12\n"
          ]
        },
        {
          "name": "stderr",
          "output_type": "stream",
          "text": [
            "\rEvaluate Validation:  50%|█████     | 1/2 [00:01<00:01,  1.47s/it]"
          ]
        },
        {
          "name": "stdout",
          "output_type": "stream",
          "text": [
            "sample 6 num of prompts for COVID from total 12\n"
          ]
        },
        {
          "name": "stderr",
          "output_type": "stream",
          "text": [
            "Evaluate Validation: 100%|██████████| 2/2 [00:02<00:00,  1.45s/it]\n",
            "Evaluate Test:   0%|          | 0/3 [00:00<?, ?it/s]"
          ]
        },
        {
          "name": "stdout",
          "output_type": "stream",
          "text": [
            "sample 6 num of prompts for COVID from total 12\n"
          ]
        },
        {
          "name": "stderr",
          "output_type": "stream",
          "text": [
            "\rEvaluate Test:  33%|███▎      | 1/3 [00:01<00:02,  1.50s/it]"
          ]
        },
        {
          "name": "stdout",
          "output_type": "stream",
          "text": [
            "sample 6 num of prompts for COVID from total 12\n"
          ]
        },
        {
          "name": "stderr",
          "output_type": "stream",
          "text": [
            "\rEvaluate Test:  67%|██████▋   | 2/3 [00:02<00:01,  1.42s/it]"
          ]
        },
        {
          "name": "stdout",
          "output_type": "stream",
          "text": [
            "sample 6 num of prompts for COVID from total 12\n"
          ]
        },
        {
          "name": "stderr",
          "output_type": "stream",
          "text": [
            "Evaluate Test: 100%|██████████| 3/3 [00:04<00:00,  1.37s/it]\n"
          ]
        },
        {
          "name": "stdout",
          "output_type": "stream",
          "text": [
            "\n",
            "Accuracy: 0.7487, Precision: 0.6779, Recall: 0.9190, AUC: 0.8595\n"
          ]
        },
        {
          "name": "stderr",
          "output_type": "stream",
          "text": [
            "\rEvaluate Train:   0%|          | 0/8 [00:00<?, ?it/s]"
          ]
        },
        {
          "name": "stdout",
          "output_type": "stream",
          "text": [
            "sample 7 num of prompts for COVID from total 12\n"
          ]
        },
        {
          "name": "stderr",
          "output_type": "stream",
          "text": [
            "\rEvaluate Train:  12%|█▎        | 1/8 [00:01<00:09,  1.40s/it]"
          ]
        },
        {
          "name": "stdout",
          "output_type": "stream",
          "text": [
            "sample 7 num of prompts for COVID from total 12\n"
          ]
        },
        {
          "name": "stderr",
          "output_type": "stream",
          "text": [
            "\rEvaluate Train:  25%|██▌       | 2/8 [00:02<00:08,  1.48s/it]"
          ]
        },
        {
          "name": "stdout",
          "output_type": "stream",
          "text": [
            "sample 7 num of prompts for COVID from total 12\n"
          ]
        },
        {
          "name": "stderr",
          "output_type": "stream",
          "text": [
            "\rEvaluate Train:  38%|███▊      | 3/8 [00:04<00:07,  1.49s/it]"
          ]
        },
        {
          "name": "stdout",
          "output_type": "stream",
          "text": [
            "sample 7 num of prompts for COVID from total 12\n"
          ]
        },
        {
          "name": "stderr",
          "output_type": "stream",
          "text": [
            "\rEvaluate Train:  50%|█████     | 4/8 [00:05<00:05,  1.46s/it]"
          ]
        },
        {
          "name": "stdout",
          "output_type": "stream",
          "text": [
            "sample 7 num of prompts for COVID from total 12\n"
          ]
        },
        {
          "name": "stderr",
          "output_type": "stream",
          "text": [
            "\rEvaluate Train:  62%|██████▎   | 5/8 [00:07<00:04,  1.43s/it]"
          ]
        },
        {
          "name": "stdout",
          "output_type": "stream",
          "text": [
            "sample 7 num of prompts for COVID from total 12\n"
          ]
        },
        {
          "name": "stderr",
          "output_type": "stream",
          "text": [
            "\rEvaluate Train:  75%|███████▌  | 6/8 [00:08<00:02,  1.47s/it]"
          ]
        },
        {
          "name": "stdout",
          "output_type": "stream",
          "text": [
            "sample 7 num of prompts for COVID from total 12\n"
          ]
        },
        {
          "name": "stderr",
          "output_type": "stream",
          "text": [
            "\rEvaluate Train:  88%|████████▊ | 7/8 [00:10<00:01,  1.44s/it]"
          ]
        },
        {
          "name": "stdout",
          "output_type": "stream",
          "text": [
            "sample 7 num of prompts for COVID from total 12\n"
          ]
        },
        {
          "name": "stderr",
          "output_type": "stream",
          "text": [
            "Evaluate Train: 100%|██████████| 8/8 [00:11<00:00,  1.44s/it]\n",
            "Evaluate Validation:   0%|          | 0/2 [00:00<?, ?it/s]"
          ]
        },
        {
          "name": "stdout",
          "output_type": "stream",
          "text": [
            "sample 7 num of prompts for COVID from total 12\n"
          ]
        },
        {
          "name": "stderr",
          "output_type": "stream",
          "text": [
            "\rEvaluate Validation:  50%|█████     | 1/2 [00:01<00:01,  1.39s/it]"
          ]
        },
        {
          "name": "stdout",
          "output_type": "stream",
          "text": [
            "sample 7 num of prompts for COVID from total 12\n"
          ]
        },
        {
          "name": "stderr",
          "output_type": "stream",
          "text": [
            "Evaluate Validation: 100%|██████████| 2/2 [00:03<00:00,  1.60s/it]\n",
            "Evaluate Test:   0%|          | 0/3 [00:00<?, ?it/s]"
          ]
        },
        {
          "name": "stdout",
          "output_type": "stream",
          "text": [
            "sample 7 num of prompts for COVID from total 12\n"
          ]
        },
        {
          "name": "stderr",
          "output_type": "stream",
          "text": [
            "\rEvaluate Test:  33%|███▎      | 1/3 [00:01<00:02,  1.37s/it]"
          ]
        },
        {
          "name": "stdout",
          "output_type": "stream",
          "text": [
            "sample 7 num of prompts for COVID from total 12\n"
          ]
        },
        {
          "name": "stderr",
          "output_type": "stream",
          "text": [
            "\rEvaluate Test:  67%|██████▋   | 2/3 [00:02<00:01,  1.37s/it]"
          ]
        },
        {
          "name": "stdout",
          "output_type": "stream",
          "text": [
            "sample 7 num of prompts for COVID from total 12\n"
          ]
        },
        {
          "name": "stderr",
          "output_type": "stream",
          "text": [
            "Evaluate Test: 100%|██████████| 3/3 [00:04<00:00,  1.35s/it]\n"
          ]
        },
        {
          "name": "stdout",
          "output_type": "stream",
          "text": [
            "\n",
            "Accuracy: 0.7500, Precision: 0.6785, Recall: 0.9216, AUC: 0.8599\n"
          ]
        },
        {
          "name": "stderr",
          "output_type": "stream",
          "text": [
            "\rEvaluate Train:   0%|          | 0/8 [00:00<?, ?it/s]"
          ]
        },
        {
          "name": "stdout",
          "output_type": "stream",
          "text": [
            "sample 8 num of prompts for COVID from total 12\n"
          ]
        },
        {
          "name": "stderr",
          "output_type": "stream",
          "text": [
            "\rEvaluate Train:  12%|█▎        | 1/8 [00:01<00:09,  1.42s/it]"
          ]
        },
        {
          "name": "stdout",
          "output_type": "stream",
          "text": [
            "sample 8 num of prompts for COVID from total 12\n"
          ]
        },
        {
          "name": "stderr",
          "output_type": "stream",
          "text": [
            "\rEvaluate Train:  25%|██▌       | 2/8 [00:03<00:09,  1.53s/it]"
          ]
        },
        {
          "name": "stdout",
          "output_type": "stream",
          "text": [
            "sample 8 num of prompts for COVID from total 12\n"
          ]
        },
        {
          "name": "stderr",
          "output_type": "stream",
          "text": [
            "\rEvaluate Train:  38%|███▊      | 3/8 [00:04<00:07,  1.50s/it]"
          ]
        },
        {
          "name": "stdout",
          "output_type": "stream",
          "text": [
            "sample 8 num of prompts for COVID from total 12\n"
          ]
        },
        {
          "name": "stderr",
          "output_type": "stream",
          "text": [
            "\rEvaluate Train:  50%|█████     | 4/8 [00:06<00:06,  1.53s/it]"
          ]
        },
        {
          "name": "stdout",
          "output_type": "stream",
          "text": [
            "sample 8 num of prompts for COVID from total 12\n"
          ]
        },
        {
          "name": "stderr",
          "output_type": "stream",
          "text": [
            "\rEvaluate Train:  62%|██████▎   | 5/8 [00:07<00:04,  1.50s/it]"
          ]
        },
        {
          "name": "stdout",
          "output_type": "stream",
          "text": [
            "sample 8 num of prompts for COVID from total 12\n"
          ]
        },
        {
          "name": "stderr",
          "output_type": "stream",
          "text": [
            "\rEvaluate Train:  75%|███████▌  | 6/8 [00:08<00:02,  1.47s/it]"
          ]
        },
        {
          "name": "stdout",
          "output_type": "stream",
          "text": [
            "sample 8 num of prompts for COVID from total 12\n"
          ]
        },
        {
          "name": "stderr",
          "output_type": "stream",
          "text": [
            "\rEvaluate Train:  88%|████████▊ | 7/8 [00:10<00:01,  1.46s/it]"
          ]
        },
        {
          "name": "stdout",
          "output_type": "stream",
          "text": [
            "sample 8 num of prompts for COVID from total 12\n"
          ]
        },
        {
          "name": "stderr",
          "output_type": "stream",
          "text": [
            "Evaluate Train: 100%|██████████| 8/8 [00:11<00:00,  1.46s/it]\n",
            "Evaluate Validation:   0%|          | 0/2 [00:00<?, ?it/s]"
          ]
        },
        {
          "name": "stdout",
          "output_type": "stream",
          "text": [
            "sample 8 num of prompts for COVID from total 12\n"
          ]
        },
        {
          "name": "stderr",
          "output_type": "stream",
          "text": [
            "\rEvaluate Validation:  50%|█████     | 1/2 [00:01<00:01,  1.46s/it]"
          ]
        },
        {
          "name": "stdout",
          "output_type": "stream",
          "text": [
            "sample 8 num of prompts for COVID from total 12\n"
          ]
        },
        {
          "name": "stderr",
          "output_type": "stream",
          "text": [
            "Evaluate Validation: 100%|██████████| 2/2 [00:02<00:00,  1.50s/it]\n",
            "Evaluate Test:   0%|          | 0/3 [00:00<?, ?it/s]"
          ]
        },
        {
          "name": "stdout",
          "output_type": "stream",
          "text": [
            "sample 8 num of prompts for COVID from total 12\n"
          ]
        },
        {
          "name": "stderr",
          "output_type": "stream",
          "text": [
            "\rEvaluate Test:  33%|███▎      | 1/3 [00:01<00:02,  1.49s/it]"
          ]
        },
        {
          "name": "stdout",
          "output_type": "stream",
          "text": [
            "sample 8 num of prompts for COVID from total 12\n"
          ]
        },
        {
          "name": "stderr",
          "output_type": "stream",
          "text": [
            "\rEvaluate Test:  67%|██████▋   | 2/3 [00:02<00:01,  1.43s/it]"
          ]
        },
        {
          "name": "stdout",
          "output_type": "stream",
          "text": [
            "sample 8 num of prompts for COVID from total 12\n"
          ]
        },
        {
          "name": "stderr",
          "output_type": "stream",
          "text": [
            "Evaluate Test: 100%|██████████| 3/3 [00:04<00:00,  1.40s/it]\n"
          ]
        },
        {
          "name": "stdout",
          "output_type": "stream",
          "text": [
            "\n",
            "Accuracy: 0.7490, Precision: 0.6780, Recall: 0.9196, AUC: 0.8603\n"
          ]
        },
        {
          "name": "stderr",
          "output_type": "stream",
          "text": [
            "\rEvaluate Train:   0%|          | 0/8 [00:00<?, ?it/s]"
          ]
        },
        {
          "name": "stdout",
          "output_type": "stream",
          "text": [
            "sample 9 num of prompts for COVID from total 12\n"
          ]
        },
        {
          "name": "stderr",
          "output_type": "stream",
          "text": [
            "\rEvaluate Train:  12%|█▎        | 1/8 [00:01<00:10,  1.52s/it]"
          ]
        },
        {
          "name": "stdout",
          "output_type": "stream",
          "text": [
            "sample 9 num of prompts for COVID from total 12\n"
          ]
        },
        {
          "name": "stderr",
          "output_type": "stream",
          "text": [
            "\rEvaluate Train:  25%|██▌       | 2/8 [00:02<00:08,  1.48s/it]"
          ]
        },
        {
          "name": "stdout",
          "output_type": "stream",
          "text": [
            "sample 9 num of prompts for COVID from total 12\n"
          ]
        },
        {
          "name": "stderr",
          "output_type": "stream",
          "text": [
            "\rEvaluate Train:  38%|███▊      | 3/8 [00:04<00:07,  1.43s/it]"
          ]
        },
        {
          "name": "stdout",
          "output_type": "stream",
          "text": [
            "sample 9 num of prompts for COVID from total 12\n"
          ]
        },
        {
          "name": "stderr",
          "output_type": "stream",
          "text": [
            "\rEvaluate Train:  50%|█████     | 4/8 [00:05<00:05,  1.43s/it]"
          ]
        },
        {
          "name": "stdout",
          "output_type": "stream",
          "text": [
            "sample 9 num of prompts for COVID from total 12\n"
          ]
        },
        {
          "name": "stderr",
          "output_type": "stream",
          "text": [
            "\rEvaluate Train:  62%|██████▎   | 5/8 [00:07<00:04,  1.58s/it]"
          ]
        },
        {
          "name": "stdout",
          "output_type": "stream",
          "text": [
            "sample 9 num of prompts for COVID from total 12\n"
          ]
        },
        {
          "name": "stderr",
          "output_type": "stream",
          "text": [
            "\rEvaluate Train:  75%|███████▌  | 6/8 [00:09<00:03,  1.56s/it]"
          ]
        },
        {
          "name": "stdout",
          "output_type": "stream",
          "text": [
            "sample 9 num of prompts for COVID from total 12\n"
          ]
        },
        {
          "name": "stderr",
          "output_type": "stream",
          "text": [
            "\rEvaluate Train:  88%|████████▊ | 7/8 [00:10<00:01,  1.50s/it]"
          ]
        },
        {
          "name": "stdout",
          "output_type": "stream",
          "text": [
            "sample 9 num of prompts for COVID from total 12\n"
          ]
        },
        {
          "name": "stderr",
          "output_type": "stream",
          "text": [
            "Evaluate Train: 100%|██████████| 8/8 [00:11<00:00,  1.48s/it]\n",
            "Evaluate Validation:   0%|          | 0/2 [00:00<?, ?it/s]"
          ]
        },
        {
          "name": "stdout",
          "output_type": "stream",
          "text": [
            "sample 9 num of prompts for COVID from total 12\n"
          ]
        },
        {
          "name": "stderr",
          "output_type": "stream",
          "text": [
            "\rEvaluate Validation:  50%|█████     | 1/2 [00:01<00:01,  1.50s/it]"
          ]
        },
        {
          "name": "stdout",
          "output_type": "stream",
          "text": [
            "sample 9 num of prompts for COVID from total 12\n"
          ]
        },
        {
          "name": "stderr",
          "output_type": "stream",
          "text": [
            "Evaluate Validation: 100%|██████████| 2/2 [00:02<00:00,  1.43s/it]\n",
            "Evaluate Test:   0%|          | 0/3 [00:00<?, ?it/s]"
          ]
        },
        {
          "name": "stdout",
          "output_type": "stream",
          "text": [
            "sample 9 num of prompts for COVID from total 12\n"
          ]
        },
        {
          "name": "stderr",
          "output_type": "stream",
          "text": [
            "\rEvaluate Test:  33%|███▎      | 1/3 [00:01<00:02,  1.48s/it]"
          ]
        },
        {
          "name": "stdout",
          "output_type": "stream",
          "text": [
            "sample 9 num of prompts for COVID from total 12\n"
          ]
        },
        {
          "name": "stderr",
          "output_type": "stream",
          "text": [
            "\rEvaluate Test:  67%|██████▋   | 2/3 [00:02<00:01,  1.48s/it]"
          ]
        },
        {
          "name": "stdout",
          "output_type": "stream",
          "text": [
            "sample 9 num of prompts for COVID from total 12\n"
          ]
        },
        {
          "name": "stderr",
          "output_type": "stream",
          "text": [
            "Evaluate Test: 100%|██████████| 3/3 [00:04<00:00,  1.41s/it]\n"
          ]
        },
        {
          "name": "stdout",
          "output_type": "stream",
          "text": [
            "\n",
            "Accuracy: 0.7493, Precision: 0.6782, Recall: 0.9203, AUC: 0.8594\n"
          ]
        },
        {
          "name": "stderr",
          "output_type": "stream",
          "text": [
            "\rEvaluate Train:   0%|          | 0/8 [00:00<?, ?it/s]"
          ]
        },
        {
          "name": "stdout",
          "output_type": "stream",
          "text": [
            "sample 10 num of prompts for COVID from total 12\n"
          ]
        },
        {
          "name": "stderr",
          "output_type": "stream",
          "text": [
            "\rEvaluate Train:  12%|█▎        | 1/8 [00:01<00:09,  1.37s/it]"
          ]
        },
        {
          "name": "stdout",
          "output_type": "stream",
          "text": [
            "sample 10 num of prompts for COVID from total 12\n"
          ]
        },
        {
          "name": "stderr",
          "output_type": "stream",
          "text": [
            "\rEvaluate Train:  25%|██▌       | 2/8 [00:02<00:08,  1.37s/it]"
          ]
        },
        {
          "name": "stdout",
          "output_type": "stream",
          "text": [
            "sample 10 num of prompts for COVID from total 12\n"
          ]
        },
        {
          "name": "stderr",
          "output_type": "stream",
          "text": [
            "\rEvaluate Train:  38%|███▊      | 3/8 [00:04<00:06,  1.37s/it]"
          ]
        },
        {
          "name": "stdout",
          "output_type": "stream",
          "text": [
            "sample 10 num of prompts for COVID from total 12\n"
          ]
        },
        {
          "name": "stderr",
          "output_type": "stream",
          "text": [
            "\rEvaluate Train:  50%|█████     | 4/8 [00:05<00:05,  1.37s/it]"
          ]
        },
        {
          "name": "stdout",
          "output_type": "stream",
          "text": [
            "sample 10 num of prompts for COVID from total 12\n"
          ]
        },
        {
          "name": "stderr",
          "output_type": "stream",
          "text": [
            "\rEvaluate Train:  62%|██████▎   | 5/8 [00:06<00:04,  1.41s/it]"
          ]
        },
        {
          "name": "stdout",
          "output_type": "stream",
          "text": [
            "sample 10 num of prompts for COVID from total 12\n"
          ]
        },
        {
          "name": "stderr",
          "output_type": "stream",
          "text": [
            "\rEvaluate Train:  75%|███████▌  | 6/8 [00:08<00:02,  1.44s/it]"
          ]
        },
        {
          "name": "stdout",
          "output_type": "stream",
          "text": [
            "sample 10 num of prompts for COVID from total 12\n"
          ]
        },
        {
          "name": "stderr",
          "output_type": "stream",
          "text": [
            "\rEvaluate Train:  88%|████████▊ | 7/8 [00:10<00:01,  1.48s/it]"
          ]
        },
        {
          "name": "stdout",
          "output_type": "stream",
          "text": [
            "sample 10 num of prompts for COVID from total 12\n"
          ]
        },
        {
          "name": "stderr",
          "output_type": "stream",
          "text": [
            "Evaluate Train: 100%|██████████| 8/8 [00:11<00:00,  1.41s/it]\n",
            "Evaluate Validation:   0%|          | 0/2 [00:00<?, ?it/s]"
          ]
        },
        {
          "name": "stdout",
          "output_type": "stream",
          "text": [
            "sample 10 num of prompts for COVID from total 12\n"
          ]
        },
        {
          "name": "stderr",
          "output_type": "stream",
          "text": [
            "\rEvaluate Validation:  50%|█████     | 1/2 [00:01<00:01,  1.40s/it]"
          ]
        },
        {
          "name": "stdout",
          "output_type": "stream",
          "text": [
            "sample 10 num of prompts for COVID from total 12\n"
          ]
        },
        {
          "name": "stderr",
          "output_type": "stream",
          "text": [
            "Evaluate Validation: 100%|██████████| 2/2 [00:02<00:00,  1.43s/it]\n",
            "Evaluate Test:   0%|          | 0/3 [00:00<?, ?it/s]"
          ]
        },
        {
          "name": "stdout",
          "output_type": "stream",
          "text": [
            "sample 10 num of prompts for COVID from total 12\n"
          ]
        },
        {
          "name": "stderr",
          "output_type": "stream",
          "text": [
            "\rEvaluate Test:  33%|███▎      | 1/3 [00:01<00:02,  1.36s/it]"
          ]
        },
        {
          "name": "stdout",
          "output_type": "stream",
          "text": [
            "sample 10 num of prompts for COVID from total 12\n"
          ]
        },
        {
          "name": "stderr",
          "output_type": "stream",
          "text": [
            "\rEvaluate Test:  67%|██████▋   | 2/3 [00:02<00:01,  1.47s/it]"
          ]
        },
        {
          "name": "stdout",
          "output_type": "stream",
          "text": [
            "sample 10 num of prompts for COVID from total 12\n"
          ]
        },
        {
          "name": "stderr",
          "output_type": "stream",
          "text": [
            "Evaluate Test: 100%|██████████| 3/3 [00:04<00:00,  1.37s/it]\n"
          ]
        },
        {
          "name": "stdout",
          "output_type": "stream",
          "text": [
            "\n",
            "Accuracy: 0.7497, Precision: 0.6783, Recall: 0.9210, AUC: 0.8601\n"
          ]
        },
        {
          "name": "stderr",
          "output_type": "stream",
          "text": [
            "\rEvaluate Train:   0%|          | 0/8 [00:00<?, ?it/s]"
          ]
        },
        {
          "name": "stdout",
          "output_type": "stream",
          "text": [
            "sample 11 num of prompts for COVID from total 12\n"
          ]
        },
        {
          "name": "stderr",
          "output_type": "stream",
          "text": [
            "\rEvaluate Train:  12%|█▎        | 1/8 [00:01<00:09,  1.42s/it]"
          ]
        },
        {
          "name": "stdout",
          "output_type": "stream",
          "text": [
            "sample 11 num of prompts for COVID from total 12\n"
          ]
        },
        {
          "name": "stderr",
          "output_type": "stream",
          "text": [
            "\rEvaluate Train:  25%|██▌       | 2/8 [00:02<00:08,  1.47s/it]"
          ]
        },
        {
          "name": "stdout",
          "output_type": "stream",
          "text": [
            "sample 11 num of prompts for COVID from total 12\n"
          ]
        },
        {
          "name": "stderr",
          "output_type": "stream",
          "text": [
            "\rEvaluate Train:  38%|███▊      | 3/8 [00:04<00:07,  1.43s/it]"
          ]
        },
        {
          "name": "stdout",
          "output_type": "stream",
          "text": [
            "sample 11 num of prompts for COVID from total 12\n"
          ]
        },
        {
          "name": "stderr",
          "output_type": "stream",
          "text": [
            "\rEvaluate Train:  50%|█████     | 4/8 [00:05<00:05,  1.43s/it]"
          ]
        },
        {
          "name": "stdout",
          "output_type": "stream",
          "text": [
            "sample 11 num of prompts for COVID from total 12\n"
          ]
        },
        {
          "name": "stderr",
          "output_type": "stream",
          "text": [
            "\rEvaluate Train:  62%|██████▎   | 5/8 [00:07<00:04,  1.46s/it]"
          ]
        },
        {
          "name": "stdout",
          "output_type": "stream",
          "text": [
            "sample 11 num of prompts for COVID from total 12\n"
          ]
        },
        {
          "name": "stderr",
          "output_type": "stream",
          "text": [
            "\rEvaluate Train:  75%|███████▌  | 6/8 [00:08<00:02,  1.47s/it]"
          ]
        },
        {
          "name": "stdout",
          "output_type": "stream",
          "text": [
            "sample 11 num of prompts for COVID from total 12\n"
          ]
        },
        {
          "name": "stderr",
          "output_type": "stream",
          "text": [
            "\rEvaluate Train:  88%|████████▊ | 7/8 [00:10<00:01,  1.44s/it]"
          ]
        },
        {
          "name": "stdout",
          "output_type": "stream",
          "text": [
            "sample 11 num of prompts for COVID from total 12\n"
          ]
        },
        {
          "name": "stderr",
          "output_type": "stream",
          "text": [
            "Evaluate Train: 100%|██████████| 8/8 [00:11<00:00,  1.45s/it]\n",
            "Evaluate Validation:   0%|          | 0/2 [00:00<?, ?it/s]"
          ]
        },
        {
          "name": "stdout",
          "output_type": "stream",
          "text": [
            "sample 11 num of prompts for COVID from total 12\n"
          ]
        },
        {
          "name": "stderr",
          "output_type": "stream",
          "text": [
            "\rEvaluate Validation:  50%|█████     | 1/2 [00:01<00:01,  1.53s/it]"
          ]
        },
        {
          "name": "stdout",
          "output_type": "stream",
          "text": [
            "sample 11 num of prompts for COVID from total 12\n"
          ]
        },
        {
          "name": "stderr",
          "output_type": "stream",
          "text": [
            "Evaluate Validation: 100%|██████████| 2/2 [00:03<00:00,  1.53s/it]\n",
            "Evaluate Test:   0%|          | 0/3 [00:00<?, ?it/s]"
          ]
        },
        {
          "name": "stdout",
          "output_type": "stream",
          "text": [
            "sample 11 num of prompts for COVID from total 12\n"
          ]
        },
        {
          "name": "stderr",
          "output_type": "stream",
          "text": [
            "\rEvaluate Test:  33%|███▎      | 1/3 [00:01<00:03,  1.52s/it]"
          ]
        },
        {
          "name": "stdout",
          "output_type": "stream",
          "text": [
            "sample 11 num of prompts for COVID from total 12\n"
          ]
        },
        {
          "name": "stderr",
          "output_type": "stream",
          "text": [
            "\rEvaluate Test:  67%|██████▋   | 2/3 [00:03<00:01,  1.54s/it]"
          ]
        },
        {
          "name": "stdout",
          "output_type": "stream",
          "text": [
            "sample 11 num of prompts for COVID from total 12\n"
          ]
        },
        {
          "name": "stderr",
          "output_type": "stream",
          "text": [
            "Evaluate Test: 100%|██████████| 3/3 [00:04<00:00,  1.43s/it]\n"
          ]
        },
        {
          "name": "stdout",
          "output_type": "stream",
          "text": [
            "\n",
            "Accuracy: 0.7497, Precision: 0.6780, Recall: 0.9223, AUC: 0.8601\n"
          ]
        },
        {
          "name": "stderr",
          "output_type": "stream",
          "text": [
            "\rEvaluate Train:   0%|          | 0/8 [00:00<?, ?it/s]"
          ]
        },
        {
          "name": "stdout",
          "output_type": "stream",
          "text": [
            "sample 12 num of prompts for COVID from total 12\n"
          ]
        },
        {
          "name": "stderr",
          "output_type": "stream",
          "text": [
            "\rEvaluate Train:  12%|█▎        | 1/8 [00:01<00:10,  1.44s/it]"
          ]
        },
        {
          "name": "stdout",
          "output_type": "stream",
          "text": [
            "sample 12 num of prompts for COVID from total 12\n"
          ]
        },
        {
          "name": "stderr",
          "output_type": "stream",
          "text": [
            "\rEvaluate Train:  25%|██▌       | 2/8 [00:02<00:08,  1.40s/it]"
          ]
        },
        {
          "name": "stdout",
          "output_type": "stream",
          "text": [
            "sample 12 num of prompts for COVID from total 12\n"
          ]
        },
        {
          "name": "stderr",
          "output_type": "stream",
          "text": [
            "\rEvaluate Train:  38%|███▊      | 3/8 [00:04<00:07,  1.45s/it]"
          ]
        },
        {
          "name": "stdout",
          "output_type": "stream",
          "text": [
            "sample 12 num of prompts for COVID from total 12\n"
          ]
        },
        {
          "name": "stderr",
          "output_type": "stream",
          "text": [
            "\rEvaluate Train:  50%|█████     | 4/8 [00:05<00:05,  1.43s/it]"
          ]
        },
        {
          "name": "stdout",
          "output_type": "stream",
          "text": [
            "sample 12 num of prompts for COVID from total 12\n"
          ]
        },
        {
          "name": "stderr",
          "output_type": "stream",
          "text": [
            "\rEvaluate Train:  62%|██████▎   | 5/8 [00:07<00:04,  1.42s/it]"
          ]
        },
        {
          "name": "stdout",
          "output_type": "stream",
          "text": [
            "sample 12 num of prompts for COVID from total 12\n"
          ]
        },
        {
          "name": "stderr",
          "output_type": "stream",
          "text": [
            "\rEvaluate Train:  75%|███████▌  | 6/8 [00:08<00:02,  1.46s/it]"
          ]
        },
        {
          "name": "stdout",
          "output_type": "stream",
          "text": [
            "sample 12 num of prompts for COVID from total 12\n"
          ]
        },
        {
          "name": "stderr",
          "output_type": "stream",
          "text": [
            "\rEvaluate Train:  88%|████████▊ | 7/8 [00:10<00:01,  1.43s/it]"
          ]
        },
        {
          "name": "stdout",
          "output_type": "stream",
          "text": [
            "sample 12 num of prompts for COVID from total 12\n"
          ]
        },
        {
          "name": "stderr",
          "output_type": "stream",
          "text": [
            "Evaluate Train: 100%|██████████| 8/8 [00:11<00:00,  1.42s/it]\n",
            "Evaluate Validation:   0%|          | 0/2 [00:00<?, ?it/s]"
          ]
        },
        {
          "name": "stdout",
          "output_type": "stream",
          "text": [
            "sample 12 num of prompts for COVID from total 12\n"
          ]
        },
        {
          "name": "stderr",
          "output_type": "stream",
          "text": [
            "\rEvaluate Validation:  50%|█████     | 1/2 [00:01<00:01,  1.37s/it]"
          ]
        },
        {
          "name": "stdout",
          "output_type": "stream",
          "text": [
            "sample 12 num of prompts for COVID from total 12\n"
          ]
        },
        {
          "name": "stderr",
          "output_type": "stream",
          "text": [
            "Evaluate Validation: 100%|██████████| 2/2 [00:03<00:00,  1.60s/it]\n",
            "Evaluate Test:   0%|          | 0/3 [00:00<?, ?it/s]"
          ]
        },
        {
          "name": "stdout",
          "output_type": "stream",
          "text": [
            "sample 12 num of prompts for COVID from total 12\n"
          ]
        },
        {
          "name": "stderr",
          "output_type": "stream",
          "text": [
            "\rEvaluate Test:  33%|███▎      | 1/3 [00:01<00:02,  1.36s/it]"
          ]
        },
        {
          "name": "stdout",
          "output_type": "stream",
          "text": [
            "sample 12 num of prompts for COVID from total 12\n"
          ]
        },
        {
          "name": "stderr",
          "output_type": "stream",
          "text": [
            "\rEvaluate Test:  67%|██████▋   | 2/3 [00:02<00:01,  1.36s/it]"
          ]
        },
        {
          "name": "stdout",
          "output_type": "stream",
          "text": [
            "sample 12 num of prompts for COVID from total 12\n"
          ]
        },
        {
          "name": "stderr",
          "output_type": "stream",
          "text": [
            "Evaluate Test: 100%|██████████| 3/3 [00:03<00:00,  1.32s/it]\n"
          ]
        },
        {
          "name": "stdout",
          "output_type": "stream",
          "text": [
            "\n",
            "Accuracy: 0.7493, Precision: 0.6777, Recall: 0.9223, AUC: 0.8601\n",
            "Best AUC for  with 8 prompts: 0.8603\n",
            "Results saved to results/zs_medclip_base/ucsd/medclip/classification_results.txt\n"
          ]
        },
        {
          "name": "stderr",
          "output_type": "stream",
          "text": [
            "/usr/local/lib/python3.10/dist-packages/keras/src/preprocessing/image.py:766: UserWarning: NumpyArrayIterator is set to use the data format convention \"channels_last\" (channels on axis 3), i.e. expected either 1, 3, or 4 channels on axis 3. However, it was passed an array with shape (526, 1, 224, 224) (224 channels).\n",
            "  warnings.warn(\n",
            "/usr/local/lib/python3.10/dist-packages/keras/src/preprocessing/image.py:766: UserWarning: NumpyArrayIterator is set to use the data format convention \"channels_last\" (channels on axis 3), i.e. expected either 1, 3, or 4 channels on axis 3. However, it was passed an array with shape (132, 1, 224, 224) (224 channels).\n",
            "  warnings.warn(\n",
            "/usr/local/lib/python3.10/dist-packages/keras/src/preprocessing/image.py:766: UserWarning: NumpyArrayIterator is set to use the data format convention \"channels_last\" (channels on axis 3), i.e. expected either 1, 3, or 4 channels on axis 3. However, it was passed an array with shape (165, 1, 224, 224) (224 channels).\n",
            "  warnings.warn(\n"
          ]
        },
        {
          "name": "stdout",
          "output_type": "stream",
          "text": [
            "Results saved to results/visualization/zs_medclip_base/ori/medclip/images/cxr_images.png\n",
            "NVIDIA library configured successfully.\n"
          ]
        },
        {
          "name": "stderr",
          "output_type": "stream",
          "text": [
            "Some weights of the model checkpoint at microsoft/swin-tiny-patch4-window7-224 were not used when initializing SwinModel: ['classifier.weight', 'classifier.bias']\n",
            "- This IS expected if you are initializing SwinModel from the checkpoint of a model trained on another task or with another architecture (e.g. initializing a BertForSequenceClassification model from a BertForPreTraining model).\n",
            "- This IS NOT expected if you are initializing SwinModel from the checkpoint of a model that you expect to be exactly identical (initializing a BertForSequenceClassification model from a BertForSequenceClassification model).\n",
            "Some weights of the model checkpoint at emilyalsentzer/Bio_ClinicalBERT were not used when initializing BertModel: ['cls.seq_relationship.bias', 'cls.predictions.transform.LayerNorm.weight', 'cls.predictions.decoder.weight', 'cls.predictions.bias', 'cls.seq_relationship.weight', 'cls.predictions.transform.dense.weight', 'cls.predictions.transform.LayerNorm.bias', 'cls.predictions.transform.dense.bias']\n",
            "- This IS expected if you are initializing BertModel from the checkpoint of a model trained on another task or with another architecture (e.g. initializing a BertForSequenceClassification model from a BertForPreTraining model).\n",
            "- This IS NOT expected if you are initializing BertModel from the checkpoint of a model that you expect to be exactly identical (initializing a BertForSequenceClassification model from a BertForSequenceClassification model).\n"
          ]
        },
        {
          "name": "stdout",
          "output_type": "stream",
          "text": [
            "load model weight from: ./pretrained/medclip-vit\n"
          ]
        },
        {
          "name": "stderr",
          "output_type": "stream",
          "text": [
            "\rEvaluate Train:   0%|          | 0/3 [00:00<?, ?it/s]"
          ]
        },
        {
          "name": "stdout",
          "output_type": "stream",
          "text": [
            "sample 1 num of prompts for COVID from total 12\n"
          ]
        },
        {
          "name": "stderr",
          "output_type": "stream",
          "text": [
            "\rEvaluate Train:  33%|███▎      | 1/3 [00:01<00:02,  1.41s/it]"
          ]
        },
        {
          "name": "stdout",
          "output_type": "stream",
          "text": [
            "sample 1 num of prompts for COVID from total 12\n"
          ]
        },
        {
          "name": "stderr",
          "output_type": "stream",
          "text": [
            "\rEvaluate Train:  67%|██████▋   | 2/3 [00:03<00:01,  1.57s/it]"
          ]
        },
        {
          "name": "stdout",
          "output_type": "stream",
          "text": [
            "sample 1 num of prompts for COVID from total 12\n"
          ]
        },
        {
          "name": "stderr",
          "output_type": "stream",
          "text": [
            "Evaluate Train: 100%|██████████| 3/3 [00:04<00:00,  1.40s/it]\n",
            "Evaluate Validation:   0%|          | 0/1 [00:00<?, ?it/s]"
          ]
        },
        {
          "name": "stdout",
          "output_type": "stream",
          "text": [
            "sample 1 num of prompts for COVID from total 12\n"
          ]
        },
        {
          "name": "stderr",
          "output_type": "stream",
          "text": [
            "Evaluate Validation: 100%|██████████| 1/1 [00:01<00:00,  1.43s/it]\n",
            "Evaluate Test:   0%|          | 0/1 [00:00<?, ?it/s]"
          ]
        },
        {
          "name": "stdout",
          "output_type": "stream",
          "text": [
            "sample 1 num of prompts for COVID from total 12\n"
          ]
        },
        {
          "name": "stderr",
          "output_type": "stream",
          "text": [
            "Evaluate Test: 100%|██████████| 1/1 [00:01<00:00,  1.27s/it]\n"
          ]
        },
        {
          "name": "stdout",
          "output_type": "stream",
          "text": [
            "\n",
            "Accuracy: 0.5735, Precision: 0.5957, Recall: 0.4084, AUC: 0.5960\n"
          ]
        },
        {
          "name": "stderr",
          "output_type": "stream",
          "text": [
            "\rEvaluate Train:   0%|          | 0/3 [00:00<?, ?it/s]"
          ]
        },
        {
          "name": "stdout",
          "output_type": "stream",
          "text": [
            "sample 2 num of prompts for COVID from total 12\n"
          ]
        },
        {
          "name": "stderr",
          "output_type": "stream",
          "text": [
            "\rEvaluate Train:  33%|███▎      | 1/3 [00:01<00:02,  1.38s/it]"
          ]
        },
        {
          "name": "stdout",
          "output_type": "stream",
          "text": [
            "sample 2 num of prompts for COVID from total 12\n"
          ]
        },
        {
          "name": "stderr",
          "output_type": "stream",
          "text": [
            "\rEvaluate Train:  67%|██████▋   | 2/3 [00:02<00:01,  1.38s/it]"
          ]
        },
        {
          "name": "stdout",
          "output_type": "stream",
          "text": [
            "sample 2 num of prompts for COVID from total 12\n"
          ]
        },
        {
          "name": "stderr",
          "output_type": "stream",
          "text": [
            "Evaluate Train: 100%|██████████| 3/3 [00:04<00:00,  1.40s/it]\n",
            "Evaluate Validation:   0%|          | 0/1 [00:00<?, ?it/s]"
          ]
        },
        {
          "name": "stdout",
          "output_type": "stream",
          "text": [
            "sample 2 num of prompts for COVID from total 12\n"
          ]
        },
        {
          "name": "stderr",
          "output_type": "stream",
          "text": [
            "Evaluate Validation: 100%|██████████| 1/1 [00:01<00:00,  1.51s/it]\n",
            "Evaluate Test:   0%|          | 0/1 [00:00<?, ?it/s]"
          ]
        },
        {
          "name": "stdout",
          "output_type": "stream",
          "text": [
            "sample 2 num of prompts for COVID from total 12\n"
          ]
        },
        {
          "name": "stderr",
          "output_type": "stream",
          "text": [
            "Evaluate Test: 100%|██████████| 1/1 [00:01<00:00,  1.29s/it]\n"
          ]
        },
        {
          "name": "stdout",
          "output_type": "stream",
          "text": [
            "\n",
            "Accuracy: 0.5565, Precision: 0.5867, Recall: 0.3267, AUC: 0.5994\n"
          ]
        },
        {
          "name": "stderr",
          "output_type": "stream",
          "text": [
            "\rEvaluate Train:   0%|          | 0/3 [00:00<?, ?it/s]"
          ]
        },
        {
          "name": "stdout",
          "output_type": "stream",
          "text": [
            "sample 3 num of prompts for COVID from total 12\n"
          ]
        },
        {
          "name": "stderr",
          "output_type": "stream",
          "text": [
            "\rEvaluate Train:  33%|███▎      | 1/3 [00:01<00:02,  1.37s/it]"
          ]
        },
        {
          "name": "stdout",
          "output_type": "stream",
          "text": [
            "sample 3 num of prompts for COVID from total 12\n"
          ]
        },
        {
          "name": "stderr",
          "output_type": "stream",
          "text": [
            "\rEvaluate Train:  67%|██████▋   | 2/3 [00:02<00:01,  1.46s/it]"
          ]
        },
        {
          "name": "stdout",
          "output_type": "stream",
          "text": [
            "sample 3 num of prompts for COVID from total 12\n"
          ]
        },
        {
          "name": "stderr",
          "output_type": "stream",
          "text": [
            "Evaluate Train: 100%|██████████| 3/3 [00:04<00:00,  1.34s/it]\n",
            "Evaluate Validation:   0%|          | 0/1 [00:00<?, ?it/s]"
          ]
        },
        {
          "name": "stdout",
          "output_type": "stream",
          "text": [
            "sample 3 num of prompts for COVID from total 12\n"
          ]
        },
        {
          "name": "stderr",
          "output_type": "stream",
          "text": [
            "Evaluate Validation: 100%|██████████| 1/1 [00:01<00:00,  1.25s/it]\n",
            "Evaluate Test:   0%|          | 0/1 [00:00<?, ?it/s]"
          ]
        },
        {
          "name": "stdout",
          "output_type": "stream",
          "text": [
            "sample 3 num of prompts for COVID from total 12\n"
          ]
        },
        {
          "name": "stderr",
          "output_type": "stream",
          "text": [
            "Evaluate Test: 100%|██████████| 1/1 [00:01<00:00,  1.39s/it]\n"
          ]
        },
        {
          "name": "stdout",
          "output_type": "stream",
          "text": [
            "\n",
            "Accuracy: 0.5832, Precision: 0.5968, Recall: 0.4653, AUC: 0.6038\n"
          ]
        },
        {
          "name": "stderr",
          "output_type": "stream",
          "text": [
            "\rEvaluate Train:   0%|          | 0/3 [00:00<?, ?it/s]"
          ]
        },
        {
          "name": "stdout",
          "output_type": "stream",
          "text": [
            "sample 4 num of prompts for COVID from total 12\n"
          ]
        },
        {
          "name": "stderr",
          "output_type": "stream",
          "text": [
            "\rEvaluate Train:  33%|███▎      | 1/3 [00:01<00:03,  1.61s/it]"
          ]
        },
        {
          "name": "stdout",
          "output_type": "stream",
          "text": [
            "sample 4 num of prompts for COVID from total 12\n"
          ]
        },
        {
          "name": "stderr",
          "output_type": "stream",
          "text": [
            "\rEvaluate Train:  67%|██████▋   | 2/3 [00:02<00:01,  1.47s/it]"
          ]
        },
        {
          "name": "stdout",
          "output_type": "stream",
          "text": [
            "sample 4 num of prompts for COVID from total 12\n"
          ]
        },
        {
          "name": "stderr",
          "output_type": "stream",
          "text": [
            "Evaluate Train: 100%|██████████| 3/3 [00:04<00:00,  1.38s/it]\n",
            "Evaluate Validation:   0%|          | 0/1 [00:00<?, ?it/s]"
          ]
        },
        {
          "name": "stdout",
          "output_type": "stream",
          "text": [
            "sample 4 num of prompts for COVID from total 12\n"
          ]
        },
        {
          "name": "stderr",
          "output_type": "stream",
          "text": [
            "Evaluate Validation: 100%|██████████| 1/1 [00:01<00:00,  1.25s/it]\n",
            "Evaluate Test:   0%|          | 0/1 [00:00<?, ?it/s]"
          ]
        },
        {
          "name": "stdout",
          "output_type": "stream",
          "text": [
            "sample 4 num of prompts for COVID from total 12\n"
          ]
        },
        {
          "name": "stderr",
          "output_type": "stream",
          "text": [
            "Evaluate Test: 100%|██████████| 1/1 [00:01<00:00,  1.57s/it]\n"
          ]
        },
        {
          "name": "stdout",
          "output_type": "stream",
          "text": [
            "\n",
            "Accuracy: 0.5808, Precision: 0.5942, Recall: 0.4604, AUC: 0.6007\n"
          ]
        },
        {
          "name": "stderr",
          "output_type": "stream",
          "text": [
            "\rEvaluate Train:   0%|          | 0/3 [00:00<?, ?it/s]"
          ]
        },
        {
          "name": "stdout",
          "output_type": "stream",
          "text": [
            "sample 5 num of prompts for COVID from total 12\n"
          ]
        },
        {
          "name": "stderr",
          "output_type": "stream",
          "text": [
            "\rEvaluate Train:  33%|███▎      | 1/3 [00:01<00:03,  1.53s/it]"
          ]
        },
        {
          "name": "stdout",
          "output_type": "stream",
          "text": [
            "sample 5 num of prompts for COVID from total 12\n"
          ]
        },
        {
          "name": "stderr",
          "output_type": "stream",
          "text": [
            "\rEvaluate Train:  67%|██████▋   | 2/3 [00:02<00:01,  1.43s/it]"
          ]
        },
        {
          "name": "stdout",
          "output_type": "stream",
          "text": [
            "sample 5 num of prompts for COVID from total 12\n"
          ]
        },
        {
          "name": "stderr",
          "output_type": "stream",
          "text": [
            "Evaluate Train: 100%|██████████| 3/3 [00:04<00:00,  1.34s/it]\n",
            "Evaluate Validation:   0%|          | 0/1 [00:00<?, ?it/s]"
          ]
        },
        {
          "name": "stdout",
          "output_type": "stream",
          "text": [
            "sample 5 num of prompts for COVID from total 12\n"
          ]
        },
        {
          "name": "stderr",
          "output_type": "stream",
          "text": [
            "Evaluate Validation: 100%|██████████| 1/1 [00:01<00:00,  1.85s/it]\n",
            "Evaluate Test:   0%|          | 0/1 [00:00<?, ?it/s]"
          ]
        },
        {
          "name": "stdout",
          "output_type": "stream",
          "text": [
            "sample 5 num of prompts for COVID from total 12\n"
          ]
        },
        {
          "name": "stderr",
          "output_type": "stream",
          "text": [
            "Evaluate Test: 100%|██████████| 1/1 [00:01<00:00,  1.27s/it]\n"
          ]
        },
        {
          "name": "stdout",
          "output_type": "stream",
          "text": [
            "\n",
            "Accuracy: 0.5784, Precision: 0.5911, Recall: 0.4579, AUC: 0.6016\n"
          ]
        },
        {
          "name": "stderr",
          "output_type": "stream",
          "text": [
            "\rEvaluate Train:   0%|          | 0/3 [00:00<?, ?it/s]"
          ]
        },
        {
          "name": "stdout",
          "output_type": "stream",
          "text": [
            "sample 6 num of prompts for COVID from total 12\n"
          ]
        },
        {
          "name": "stderr",
          "output_type": "stream",
          "text": [
            "\rEvaluate Train:  33%|███▎      | 1/3 [00:01<00:02,  1.36s/it]"
          ]
        },
        {
          "name": "stdout",
          "output_type": "stream",
          "text": [
            "sample 6 num of prompts for COVID from total 12\n"
          ]
        },
        {
          "name": "stderr",
          "output_type": "stream",
          "text": [
            "\rEvaluate Train:  67%|██████▋   | 2/3 [00:02<00:01,  1.36s/it]"
          ]
        },
        {
          "name": "stdout",
          "output_type": "stream",
          "text": [
            "sample 6 num of prompts for COVID from total 12\n"
          ]
        },
        {
          "name": "stderr",
          "output_type": "stream",
          "text": [
            "Evaluate Train: 100%|██████████| 3/3 [00:03<00:00,  1.28s/it]\n",
            "Evaluate Validation:   0%|          | 0/1 [00:00<?, ?it/s]"
          ]
        },
        {
          "name": "stdout",
          "output_type": "stream",
          "text": [
            "sample 6 num of prompts for COVID from total 12\n"
          ]
        },
        {
          "name": "stderr",
          "output_type": "stream",
          "text": [
            "Evaluate Validation: 100%|██████████| 1/1 [00:01<00:00,  1.25s/it]\n",
            "Evaluate Test:   0%|          | 0/1 [00:00<?, ?it/s]"
          ]
        },
        {
          "name": "stdout",
          "output_type": "stream",
          "text": [
            "sample 6 num of prompts for COVID from total 12\n"
          ]
        },
        {
          "name": "stderr",
          "output_type": "stream",
          "text": [
            "Evaluate Test: 100%|██████████| 1/1 [00:01<00:00,  1.55s/it]\n"
          ]
        },
        {
          "name": "stdout",
          "output_type": "stream",
          "text": [
            "\n",
            "Accuracy: 0.5808, Precision: 0.5931, Recall: 0.4653, AUC: 0.6038\n"
          ]
        },
        {
          "name": "stderr",
          "output_type": "stream",
          "text": [
            "\rEvaluate Train:   0%|          | 0/3 [00:00<?, ?it/s]"
          ]
        },
        {
          "name": "stdout",
          "output_type": "stream",
          "text": [
            "sample 7 num of prompts for COVID from total 12\n"
          ]
        },
        {
          "name": "stderr",
          "output_type": "stream",
          "text": [
            "\rEvaluate Train:  33%|███▎      | 1/3 [00:01<00:03,  1.57s/it]"
          ]
        },
        {
          "name": "stdout",
          "output_type": "stream",
          "text": [
            "sample 7 num of prompts for COVID from total 12\n"
          ]
        },
        {
          "name": "stderr",
          "output_type": "stream",
          "text": [
            "\rEvaluate Train:  67%|██████▋   | 2/3 [00:03<00:01,  1.50s/it]"
          ]
        },
        {
          "name": "stdout",
          "output_type": "stream",
          "text": [
            "sample 7 num of prompts for COVID from total 12\n"
          ]
        },
        {
          "name": "stderr",
          "output_type": "stream",
          "text": [
            "Evaluate Train: 100%|██████████| 3/3 [00:04<00:00,  1.38s/it]\n",
            "Evaluate Validation:   0%|          | 0/1 [00:00<?, ?it/s]"
          ]
        },
        {
          "name": "stdout",
          "output_type": "stream",
          "text": [
            "sample 7 num of prompts for COVID from total 12\n"
          ]
        },
        {
          "name": "stderr",
          "output_type": "stream",
          "text": [
            "Evaluate Validation: 100%|██████████| 1/1 [00:01<00:00,  1.27s/it]\n",
            "Evaluate Test:   0%|          | 0/1 [00:00<?, ?it/s]"
          ]
        },
        {
          "name": "stdout",
          "output_type": "stream",
          "text": [
            "sample 7 num of prompts for COVID from total 12\n"
          ]
        },
        {
          "name": "stderr",
          "output_type": "stream",
          "text": [
            "Evaluate Test: 100%|██████████| 1/1 [00:01<00:00,  1.32s/it]\n"
          ]
        },
        {
          "name": "stdout",
          "output_type": "stream",
          "text": [
            "\n",
            "Accuracy: 0.5820, Precision: 0.5943, Recall: 0.4678, AUC: 0.6019\n"
          ]
        },
        {
          "name": "stderr",
          "output_type": "stream",
          "text": [
            "\rEvaluate Train:   0%|          | 0/3 [00:00<?, ?it/s]"
          ]
        },
        {
          "name": "stdout",
          "output_type": "stream",
          "text": [
            "sample 8 num of prompts for COVID from total 12\n"
          ]
        },
        {
          "name": "stderr",
          "output_type": "stream",
          "text": [
            "\rEvaluate Train:  33%|███▎      | 1/3 [00:01<00:02,  1.35s/it]"
          ]
        },
        {
          "name": "stdout",
          "output_type": "stream",
          "text": [
            "sample 8 num of prompts for COVID from total 12\n"
          ]
        },
        {
          "name": "stderr",
          "output_type": "stream",
          "text": [
            "\rEvaluate Train:  67%|██████▋   | 2/3 [00:02<00:01,  1.36s/it]"
          ]
        },
        {
          "name": "stdout",
          "output_type": "stream",
          "text": [
            "sample 8 num of prompts for COVID from total 12\n"
          ]
        },
        {
          "name": "stderr",
          "output_type": "stream",
          "text": [
            "Evaluate Train: 100%|██████████| 3/3 [00:03<00:00,  1.28s/it]\n",
            "Evaluate Validation:   0%|          | 0/1 [00:00<?, ?it/s]"
          ]
        },
        {
          "name": "stdout",
          "output_type": "stream",
          "text": [
            "sample 8 num of prompts for COVID from total 12\n"
          ]
        },
        {
          "name": "stderr",
          "output_type": "stream",
          "text": [
            "Evaluate Validation: 100%|██████████| 1/1 [00:01<00:00,  1.49s/it]\n",
            "Evaluate Test:   0%|          | 0/1 [00:00<?, ?it/s]"
          ]
        },
        {
          "name": "stdout",
          "output_type": "stream",
          "text": [
            "sample 8 num of prompts for COVID from total 12\n"
          ]
        },
        {
          "name": "stderr",
          "output_type": "stream",
          "text": [
            "Evaluate Test: 100%|██████████| 1/1 [00:01<00:00,  1.29s/it]\n"
          ]
        },
        {
          "name": "stdout",
          "output_type": "stream",
          "text": [
            "\n",
            "Accuracy: 0.5808, Precision: 0.5925, Recall: 0.4678, AUC: 0.6020\n"
          ]
        },
        {
          "name": "stderr",
          "output_type": "stream",
          "text": [
            "\rEvaluate Train:   0%|          | 0/3 [00:00<?, ?it/s]"
          ]
        },
        {
          "name": "stdout",
          "output_type": "stream",
          "text": [
            "sample 9 num of prompts for COVID from total 12\n"
          ]
        },
        {
          "name": "stderr",
          "output_type": "stream",
          "text": [
            "\rEvaluate Train:  33%|███▎      | 1/3 [00:01<00:02,  1.37s/it]"
          ]
        },
        {
          "name": "stdout",
          "output_type": "stream",
          "text": [
            "sample 9 num of prompts for COVID from total 12\n"
          ]
        },
        {
          "name": "stderr",
          "output_type": "stream",
          "text": [
            "\rEvaluate Train:  67%|██████▋   | 2/3 [00:02<00:01,  1.45s/it]"
          ]
        },
        {
          "name": "stdout",
          "output_type": "stream",
          "text": [
            "sample 9 num of prompts for COVID from total 12\n"
          ]
        },
        {
          "name": "stderr",
          "output_type": "stream",
          "text": [
            "Evaluate Train: 100%|██████████| 3/3 [00:04<00:00,  1.36s/it]\n",
            "Evaluate Validation:   0%|          | 0/1 [00:00<?, ?it/s]"
          ]
        },
        {
          "name": "stdout",
          "output_type": "stream",
          "text": [
            "sample 9 num of prompts for COVID from total 12\n"
          ]
        },
        {
          "name": "stderr",
          "output_type": "stream",
          "text": [
            "Evaluate Validation: 100%|██████████| 1/1 [00:01<00:00,  1.43s/it]\n",
            "Evaluate Test:   0%|          | 0/1 [00:00<?, ?it/s]"
          ]
        },
        {
          "name": "stdout",
          "output_type": "stream",
          "text": [
            "sample 9 num of prompts for COVID from total 12\n"
          ]
        },
        {
          "name": "stderr",
          "output_type": "stream",
          "text": [
            "Evaluate Test: 100%|██████████| 1/1 [00:01<00:00,  1.45s/it]\n"
          ]
        },
        {
          "name": "stdout",
          "output_type": "stream",
          "text": [
            "\n",
            "Accuracy: 0.5820, Precision: 0.5943, Recall: 0.4678, AUC: 0.6022\n"
          ]
        },
        {
          "name": "stderr",
          "output_type": "stream",
          "text": [
            "\rEvaluate Train:   0%|          | 0/3 [00:00<?, ?it/s]"
          ]
        },
        {
          "name": "stdout",
          "output_type": "stream",
          "text": [
            "sample 10 num of prompts for COVID from total 12\n"
          ]
        },
        {
          "name": "stderr",
          "output_type": "stream",
          "text": [
            "\rEvaluate Train:  33%|███▎      | 1/3 [00:01<00:02,  1.37s/it]"
          ]
        },
        {
          "name": "stdout",
          "output_type": "stream",
          "text": [
            "sample 10 num of prompts for COVID from total 12\n"
          ]
        },
        {
          "name": "stderr",
          "output_type": "stream",
          "text": [
            "\rEvaluate Train:  67%|██████▋   | 2/3 [00:02<00:01,  1.47s/it]"
          ]
        },
        {
          "name": "stdout",
          "output_type": "stream",
          "text": [
            "sample 10 num of prompts for COVID from total 12\n"
          ]
        },
        {
          "name": "stderr",
          "output_type": "stream",
          "text": [
            "Evaluate Train: 100%|██████████| 3/3 [00:04<00:00,  1.34s/it]\n",
            "Evaluate Validation:   0%|          | 0/1 [00:00<?, ?it/s]"
          ]
        },
        {
          "name": "stdout",
          "output_type": "stream",
          "text": [
            "sample 10 num of prompts for COVID from total 12\n"
          ]
        },
        {
          "name": "stderr",
          "output_type": "stream",
          "text": [
            "Evaluate Validation: 100%|██████████| 1/1 [00:01<00:00,  1.47s/it]\n",
            "Evaluate Test:   0%|          | 0/1 [00:00<?, ?it/s]"
          ]
        },
        {
          "name": "stdout",
          "output_type": "stream",
          "text": [
            "sample 10 num of prompts for COVID from total 12\n"
          ]
        },
        {
          "name": "stderr",
          "output_type": "stream",
          "text": [
            "Evaluate Test: 100%|██████████| 1/1 [00:01<00:00,  1.31s/it]\n"
          ]
        },
        {
          "name": "stdout",
          "output_type": "stream",
          "text": [
            "\n",
            "Accuracy: 0.5820, Precision: 0.5943, Recall: 0.4678, AUC: 0.6025\n"
          ]
        },
        {
          "name": "stderr",
          "output_type": "stream",
          "text": [
            "\rEvaluate Train:   0%|          | 0/3 [00:00<?, ?it/s]"
          ]
        },
        {
          "name": "stdout",
          "output_type": "stream",
          "text": [
            "sample 11 num of prompts for COVID from total 12\n"
          ]
        },
        {
          "name": "stderr",
          "output_type": "stream",
          "text": [
            "\rEvaluate Train:  33%|███▎      | 1/3 [00:01<00:03,  1.53s/it]"
          ]
        },
        {
          "name": "stdout",
          "output_type": "stream",
          "text": [
            "sample 11 num of prompts for COVID from total 12\n"
          ]
        },
        {
          "name": "stderr",
          "output_type": "stream",
          "text": [
            "\rEvaluate Train:  67%|██████▋   | 2/3 [00:03<00:01,  1.58s/it]"
          ]
        },
        {
          "name": "stdout",
          "output_type": "stream",
          "text": [
            "sample 11 num of prompts for COVID from total 12\n"
          ]
        },
        {
          "name": "stderr",
          "output_type": "stream",
          "text": [
            "Evaluate Train: 100%|██████████| 3/3 [00:04<00:00,  1.45s/it]\n",
            "Evaluate Validation:   0%|          | 0/1 [00:00<?, ?it/s]"
          ]
        },
        {
          "name": "stdout",
          "output_type": "stream",
          "text": [
            "sample 11 num of prompts for COVID from total 12\n"
          ]
        },
        {
          "name": "stderr",
          "output_type": "stream",
          "text": [
            "Evaluate Validation: 100%|██████████| 1/1 [00:01<00:00,  1.36s/it]\n",
            "Evaluate Test:   0%|          | 0/1 [00:00<?, ?it/s]"
          ]
        },
        {
          "name": "stdout",
          "output_type": "stream",
          "text": [
            "sample 11 num of prompts for COVID from total 12\n"
          ]
        },
        {
          "name": "stderr",
          "output_type": "stream",
          "text": [
            "Evaluate Test: 100%|██████████| 1/1 [00:01<00:00,  1.57s/it]\n"
          ]
        },
        {
          "name": "stdout",
          "output_type": "stream",
          "text": [
            "\n",
            "Accuracy: 0.5808, Precision: 0.5925, Recall: 0.4678, AUC: 0.6019\n"
          ]
        },
        {
          "name": "stderr",
          "output_type": "stream",
          "text": [
            "\rEvaluate Train:   0%|          | 0/3 [00:00<?, ?it/s]"
          ]
        },
        {
          "name": "stdout",
          "output_type": "stream",
          "text": [
            "sample 12 num of prompts for COVID from total 12\n"
          ]
        },
        {
          "name": "stderr",
          "output_type": "stream",
          "text": [
            "\rEvaluate Train:  33%|███▎      | 1/3 [00:01<00:02,  1.45s/it]"
          ]
        },
        {
          "name": "stdout",
          "output_type": "stream",
          "text": [
            "sample 12 num of prompts for COVID from total 12\n"
          ]
        },
        {
          "name": "stderr",
          "output_type": "stream",
          "text": [
            "\rEvaluate Train:  67%|██████▋   | 2/3 [00:02<00:01,  1.40s/it]"
          ]
        },
        {
          "name": "stdout",
          "output_type": "stream",
          "text": [
            "sample 12 num of prompts for COVID from total 12\n"
          ]
        },
        {
          "name": "stderr",
          "output_type": "stream",
          "text": [
            "Evaluate Train: 100%|██████████| 3/3 [00:04<00:00,  1.35s/it]\n",
            "Evaluate Validation:   0%|          | 0/1 [00:00<?, ?it/s]"
          ]
        },
        {
          "name": "stdout",
          "output_type": "stream",
          "text": [
            "sample 12 num of prompts for COVID from total 12\n"
          ]
        },
        {
          "name": "stderr",
          "output_type": "stream",
          "text": [
            "Evaluate Validation: 100%|██████████| 1/1 [00:01<00:00,  1.38s/it]\n",
            "Evaluate Test:   0%|          | 0/1 [00:00<?, ?it/s]"
          ]
        },
        {
          "name": "stdout",
          "output_type": "stream",
          "text": [
            "sample 12 num of prompts for COVID from total 12\n"
          ]
        },
        {
          "name": "stderr",
          "output_type": "stream",
          "text": [
            "Evaluate Test: 100%|██████████| 1/1 [00:01<00:00,  1.38s/it]\n"
          ]
        },
        {
          "name": "stdout",
          "output_type": "stream",
          "text": [
            "\n",
            "Accuracy: 0.5808, Precision: 0.5925, Recall: 0.4678, AUC: 0.6018\n",
            "Best AUC for covid_task with 6 prompts: 0.6038\n",
            "Results saved to results/zs_medclip_base/ori/medclip/classification_results.txt\n"
          ]
        },
        {
          "name": "stderr",
          "output_type": "stream",
          "text": [
            "\rEvaluate Train:   0%|          | 0/3 [00:00<?, ?it/s]"
          ]
        },
        {
          "name": "stdout",
          "output_type": "stream",
          "text": [
            "sample 1 num of prompts for Pneumonia from total 312\n"
          ]
        },
        {
          "name": "stderr",
          "output_type": "stream",
          "text": [
            "\rEvaluate Train:  33%|███▎      | 1/3 [00:01<00:02,  1.41s/it]"
          ]
        },
        {
          "name": "stdout",
          "output_type": "stream",
          "text": [
            "sample 1 num of prompts for Pneumonia from total 312\n"
          ]
        },
        {
          "name": "stderr",
          "output_type": "stream",
          "text": [
            "\rEvaluate Train:  67%|██████▋   | 2/3 [00:03<00:01,  1.62s/it]"
          ]
        },
        {
          "name": "stdout",
          "output_type": "stream",
          "text": [
            "sample 1 num of prompts for Pneumonia from total 312\n"
          ]
        },
        {
          "name": "stderr",
          "output_type": "stream",
          "text": [
            "Evaluate Train: 100%|██████████| 3/3 [00:04<00:00,  1.49s/it]\n",
            "Evaluate Validation:   0%|          | 0/1 [00:00<?, ?it/s]"
          ]
        },
        {
          "name": "stdout",
          "output_type": "stream",
          "text": [
            "sample 1 num of prompts for Pneumonia from total 312\n"
          ]
        },
        {
          "name": "stderr",
          "output_type": "stream",
          "text": [
            "Evaluate Validation: 100%|██████████| 1/1 [00:01<00:00,  1.27s/it]\n",
            "Evaluate Test:   0%|          | 0/1 [00:00<?, ?it/s]"
          ]
        },
        {
          "name": "stdout",
          "output_type": "stream",
          "text": [
            "sample 1 num of prompts for Pneumonia from total 312\n"
          ]
        },
        {
          "name": "stderr",
          "output_type": "stream",
          "text": [
            "Evaluate Test: 100%|██████████| 1/1 [00:01<00:00,  1.27s/it]\n"
          ]
        },
        {
          "name": "stdout",
          "output_type": "stream",
          "text": [
            "\n",
            "Accuracy: 0.5674, Precision: 0.6765, Recall: 0.2277, AUC: 0.5338\n"
          ]
        },
        {
          "name": "stderr",
          "output_type": "stream",
          "text": [
            "\rEvaluate Train:   0%|          | 0/3 [00:00<?, ?it/s]"
          ]
        },
        {
          "name": "stdout",
          "output_type": "stream",
          "text": [
            "sample 2 num of prompts for Pneumonia from total 312\n"
          ]
        },
        {
          "name": "stderr",
          "output_type": "stream",
          "text": [
            "\rEvaluate Train:  33%|███▎      | 1/3 [00:01<00:02,  1.42s/it]"
          ]
        },
        {
          "name": "stdout",
          "output_type": "stream",
          "text": [
            "sample 2 num of prompts for Pneumonia from total 312\n"
          ]
        },
        {
          "name": "stderr",
          "output_type": "stream",
          "text": [
            "\rEvaluate Train:  67%|██████▋   | 2/3 [00:02<00:01,  1.39s/it]"
          ]
        },
        {
          "name": "stdout",
          "output_type": "stream",
          "text": [
            "sample 2 num of prompts for Pneumonia from total 312\n"
          ]
        },
        {
          "name": "stderr",
          "output_type": "stream",
          "text": [
            "Evaluate Train: 100%|██████████| 3/3 [00:03<00:00,  1.30s/it]\n",
            "Evaluate Validation:   0%|          | 0/1 [00:00<?, ?it/s]"
          ]
        },
        {
          "name": "stdout",
          "output_type": "stream",
          "text": [
            "sample 2 num of prompts for Pneumonia from total 312\n"
          ]
        },
        {
          "name": "stderr",
          "output_type": "stream",
          "text": [
            "Evaluate Validation: 100%|██████████| 1/1 [00:01<00:00,  1.26s/it]\n",
            "Evaluate Test:   0%|          | 0/1 [00:00<?, ?it/s]"
          ]
        },
        {
          "name": "stdout",
          "output_type": "stream",
          "text": [
            "sample 2 num of prompts for Pneumonia from total 312\n"
          ]
        },
        {
          "name": "stderr",
          "output_type": "stream",
          "text": [
            "Evaluate Test: 100%|██████████| 1/1 [00:01<00:00,  1.39s/it]\n"
          ]
        },
        {
          "name": "stdout",
          "output_type": "stream",
          "text": [
            "\n",
            "Accuracy: 0.4484, Precision: 0.4214, Recall: 0.3317, AUC: 0.4385\n"
          ]
        },
        {
          "name": "stderr",
          "output_type": "stream",
          "text": [
            "\rEvaluate Train:   0%|          | 0/3 [00:00<?, ?it/s]"
          ]
        },
        {
          "name": "stdout",
          "output_type": "stream",
          "text": [
            "sample 3 num of prompts for Pneumonia from total 312\n"
          ]
        },
        {
          "name": "stderr",
          "output_type": "stream",
          "text": [
            "\rEvaluate Train:  33%|███▎      | 1/3 [00:01<00:02,  1.36s/it]"
          ]
        },
        {
          "name": "stdout",
          "output_type": "stream",
          "text": [
            "sample 3 num of prompts for Pneumonia from total 312\n"
          ]
        },
        {
          "name": "stderr",
          "output_type": "stream",
          "text": [
            "\rEvaluate Train:  67%|██████▋   | 2/3 [00:02<00:01,  1.42s/it]"
          ]
        },
        {
          "name": "stdout",
          "output_type": "stream",
          "text": [
            "sample 3 num of prompts for Pneumonia from total 312\n"
          ]
        },
        {
          "name": "stderr",
          "output_type": "stream",
          "text": [
            "Evaluate Train: 100%|██████████| 3/3 [00:03<00:00,  1.33s/it]\n",
            "Evaluate Validation:   0%|          | 0/1 [00:00<?, ?it/s]"
          ]
        },
        {
          "name": "stdout",
          "output_type": "stream",
          "text": [
            "sample 3 num of prompts for Pneumonia from total 312\n"
          ]
        },
        {
          "name": "stderr",
          "output_type": "stream",
          "text": [
            "Evaluate Validation: 100%|██████████| 1/1 [00:01<00:00,  1.26s/it]\n",
            "Evaluate Test:   0%|          | 0/1 [00:00<?, ?it/s]"
          ]
        },
        {
          "name": "stdout",
          "output_type": "stream",
          "text": [
            "sample 3 num of prompts for Pneumonia from total 312\n"
          ]
        },
        {
          "name": "stderr",
          "output_type": "stream",
          "text": [
            "Evaluate Test: 100%|██████████| 1/1 [00:01<00:00,  1.27s/it]\n"
          ]
        },
        {
          "name": "stdout",
          "output_type": "stream",
          "text": [
            "\n",
            "Accuracy: 0.4982, Precision: 0.4893, Recall: 0.5099, AUC: 0.5104\n"
          ]
        },
        {
          "name": "stderr",
          "output_type": "stream",
          "text": [
            "\rEvaluate Train:   0%|          | 0/3 [00:00<?, ?it/s]"
          ]
        },
        {
          "name": "stdout",
          "output_type": "stream",
          "text": [
            "sample 4 num of prompts for Pneumonia from total 312\n"
          ]
        },
        {
          "name": "stderr",
          "output_type": "stream",
          "text": [
            "\rEvaluate Train:  33%|███▎      | 1/3 [00:01<00:02,  1.37s/it]"
          ]
        },
        {
          "name": "stdout",
          "output_type": "stream",
          "text": [
            "sample 4 num of prompts for Pneumonia from total 312\n"
          ]
        },
        {
          "name": "stderr",
          "output_type": "stream",
          "text": [
            "\rEvaluate Train:  67%|██████▋   | 2/3 [00:02<00:01,  1.39s/it]"
          ]
        },
        {
          "name": "stdout",
          "output_type": "stream",
          "text": [
            "sample 4 num of prompts for Pneumonia from total 312\n"
          ]
        },
        {
          "name": "stderr",
          "output_type": "stream",
          "text": [
            "Evaluate Train: 100%|██████████| 3/3 [00:03<00:00,  1.32s/it]\n",
            "Evaluate Validation:   0%|          | 0/1 [00:00<?, ?it/s]"
          ]
        },
        {
          "name": "stdout",
          "output_type": "stream",
          "text": [
            "sample 4 num of prompts for Pneumonia from total 312\n"
          ]
        },
        {
          "name": "stderr",
          "output_type": "stream",
          "text": [
            "Evaluate Validation: 100%|██████████| 1/1 [00:01<00:00,  1.45s/it]\n",
            "Evaluate Test:   0%|          | 0/1 [00:00<?, ?it/s]"
          ]
        },
        {
          "name": "stdout",
          "output_type": "stream",
          "text": [
            "sample 4 num of prompts for Pneumonia from total 312\n"
          ]
        },
        {
          "name": "stderr",
          "output_type": "stream",
          "text": [
            "Evaluate Test: 100%|██████████| 1/1 [00:01<00:00,  1.45s/it]\n"
          ]
        },
        {
          "name": "stdout",
          "output_type": "stream",
          "text": [
            "\n",
            "Accuracy: 0.5456, Precision: 0.5298, Recall: 0.6609, AUC: 0.5525\n"
          ]
        },
        {
          "name": "stderr",
          "output_type": "stream",
          "text": [
            "\rEvaluate Train:   0%|          | 0/3 [00:00<?, ?it/s]"
          ]
        },
        {
          "name": "stdout",
          "output_type": "stream",
          "text": [
            "sample 5 num of prompts for Pneumonia from total 312\n"
          ]
        },
        {
          "name": "stderr",
          "output_type": "stream",
          "text": [
            "\rEvaluate Train:  33%|███▎      | 1/3 [00:01<00:02,  1.41s/it]"
          ]
        },
        {
          "name": "stdout",
          "output_type": "stream",
          "text": [
            "sample 5 num of prompts for Pneumonia from total 312\n"
          ]
        },
        {
          "name": "stderr",
          "output_type": "stream",
          "text": [
            "\rEvaluate Train:  67%|██████▋   | 2/3 [00:02<00:01,  1.46s/it]"
          ]
        },
        {
          "name": "stdout",
          "output_type": "stream",
          "text": [
            "sample 5 num of prompts for Pneumonia from total 312\n"
          ]
        },
        {
          "name": "stderr",
          "output_type": "stream",
          "text": [
            "Evaluate Train: 100%|██████████| 3/3 [00:04<00:00,  1.34s/it]\n",
            "Evaluate Validation:   0%|          | 0/1 [00:00<?, ?it/s]"
          ]
        },
        {
          "name": "stdout",
          "output_type": "stream",
          "text": [
            "sample 5 num of prompts for Pneumonia from total 312\n"
          ]
        },
        {
          "name": "stderr",
          "output_type": "stream",
          "text": [
            "Evaluate Validation: 100%|██████████| 1/1 [00:01<00:00,  1.49s/it]\n",
            "Evaluate Test:   0%|          | 0/1 [00:00<?, ?it/s]"
          ]
        },
        {
          "name": "stdout",
          "output_type": "stream",
          "text": [
            "sample 5 num of prompts for Pneumonia from total 312\n"
          ]
        },
        {
          "name": "stderr",
          "output_type": "stream",
          "text": [
            "Evaluate Test: 100%|██████████| 1/1 [00:01<00:00,  1.36s/it]\n"
          ]
        },
        {
          "name": "stdout",
          "output_type": "stream",
          "text": [
            "\n",
            "Accuracy: 0.5213, Precision: 0.5095, Recall: 0.6609, AUC: 0.5474\n"
          ]
        },
        {
          "name": "stderr",
          "output_type": "stream",
          "text": [
            "\rEvaluate Train:   0%|          | 0/3 [00:00<?, ?it/s]"
          ]
        },
        {
          "name": "stdout",
          "output_type": "stream",
          "text": [
            "sample 6 num of prompts for Pneumonia from total 312\n"
          ]
        },
        {
          "name": "stderr",
          "output_type": "stream",
          "text": [
            "\rEvaluate Train:  33%|███▎      | 1/3 [00:01<00:02,  1.36s/it]"
          ]
        },
        {
          "name": "stdout",
          "output_type": "stream",
          "text": [
            "sample 6 num of prompts for Pneumonia from total 312\n"
          ]
        },
        {
          "name": "stderr",
          "output_type": "stream",
          "text": [
            "\rEvaluate Train:  67%|██████▋   | 2/3 [00:02<00:01,  1.42s/it]"
          ]
        },
        {
          "name": "stdout",
          "output_type": "stream",
          "text": [
            "sample 6 num of prompts for Pneumonia from total 312\n"
          ]
        },
        {
          "name": "stderr",
          "output_type": "stream",
          "text": [
            "Evaluate Train: 100%|██████████| 3/3 [00:04<00:00,  1.35s/it]\n",
            "Evaluate Validation:   0%|          | 0/1 [00:00<?, ?it/s]"
          ]
        },
        {
          "name": "stdout",
          "output_type": "stream",
          "text": [
            "sample 6 num of prompts for Pneumonia from total 312\n"
          ]
        },
        {
          "name": "stderr",
          "output_type": "stream",
          "text": [
            "Evaluate Validation: 100%|██████████| 1/1 [00:01<00:00,  1.41s/it]\n",
            "Evaluate Test:   0%|          | 0/1 [00:00<?, ?it/s]"
          ]
        },
        {
          "name": "stdout",
          "output_type": "stream",
          "text": [
            "sample 6 num of prompts for Pneumonia from total 312\n"
          ]
        },
        {
          "name": "stderr",
          "output_type": "stream",
          "text": [
            "Evaluate Test: 100%|██████████| 1/1 [00:01<00:00,  1.28s/it]\n"
          ]
        },
        {
          "name": "stdout",
          "output_type": "stream",
          "text": [
            "\n",
            "Accuracy: 0.5334, Precision: 0.5163, Recall: 0.7822, AUC: 0.5219\n"
          ]
        },
        {
          "name": "stderr",
          "output_type": "stream",
          "text": [
            "\rEvaluate Train:   0%|          | 0/3 [00:00<?, ?it/s]"
          ]
        },
        {
          "name": "stdout",
          "output_type": "stream",
          "text": [
            "sample 7 num of prompts for Pneumonia from total 312\n"
          ]
        },
        {
          "name": "stderr",
          "output_type": "stream",
          "text": [
            "\rEvaluate Train:  33%|███▎      | 1/3 [00:01<00:02,  1.37s/it]"
          ]
        },
        {
          "name": "stdout",
          "output_type": "stream",
          "text": [
            "sample 7 num of prompts for Pneumonia from total 312\n"
          ]
        },
        {
          "name": "stderr",
          "output_type": "stream",
          "text": [
            "\rEvaluate Train:  67%|██████▋   | 2/3 [00:02<00:01,  1.37s/it]"
          ]
        },
        {
          "name": "stdout",
          "output_type": "stream",
          "text": [
            "sample 7 num of prompts for Pneumonia from total 312\n"
          ]
        },
        {
          "name": "stderr",
          "output_type": "stream",
          "text": [
            "Evaluate Train: 100%|██████████| 3/3 [00:04<00:00,  1.38s/it]\n",
            "Evaluate Validation:   0%|          | 0/1 [00:00<?, ?it/s]"
          ]
        },
        {
          "name": "stdout",
          "output_type": "stream",
          "text": [
            "sample 7 num of prompts for Pneumonia from total 312\n"
          ]
        },
        {
          "name": "stderr",
          "output_type": "stream",
          "text": [
            "Evaluate Validation: 100%|██████████| 1/1 [00:01<00:00,  1.30s/it]\n",
            "Evaluate Test:   0%|          | 0/1 [00:00<?, ?it/s]"
          ]
        },
        {
          "name": "stdout",
          "output_type": "stream",
          "text": [
            "sample 7 num of prompts for Pneumonia from total 312\n"
          ]
        },
        {
          "name": "stderr",
          "output_type": "stream",
          "text": [
            "Evaluate Test: 100%|██████████| 1/1 [00:01<00:00,  1.31s/it]\n"
          ]
        },
        {
          "name": "stdout",
          "output_type": "stream",
          "text": [
            "\n",
            "Accuracy: 0.5140, Precision: 0.5032, Recall: 0.7698, AUC: 0.5691\n"
          ]
        },
        {
          "name": "stderr",
          "output_type": "stream",
          "text": [
            "\rEvaluate Train:   0%|          | 0/3 [00:00<?, ?it/s]"
          ]
        },
        {
          "name": "stdout",
          "output_type": "stream",
          "text": [
            "sample 8 num of prompts for Pneumonia from total 312\n"
          ]
        },
        {
          "name": "stderr",
          "output_type": "stream",
          "text": [
            "\rEvaluate Train:  33%|███▎      | 1/3 [00:01<00:02,  1.38s/it]"
          ]
        },
        {
          "name": "stdout",
          "output_type": "stream",
          "text": [
            "sample 8 num of prompts for Pneumonia from total 312\n"
          ]
        },
        {
          "name": "stderr",
          "output_type": "stream",
          "text": [
            "\rEvaluate Train:  67%|██████▋   | 2/3 [00:02<00:01,  1.37s/it]"
          ]
        },
        {
          "name": "stdout",
          "output_type": "stream",
          "text": [
            "sample 8 num of prompts for Pneumonia from total 312\n"
          ]
        },
        {
          "name": "stderr",
          "output_type": "stream",
          "text": [
            "Evaluate Train: 100%|██████████| 3/3 [00:04<00:00,  1.43s/it]\n",
            "Evaluate Validation:   0%|          | 0/1 [00:00<?, ?it/s]"
          ]
        },
        {
          "name": "stdout",
          "output_type": "stream",
          "text": [
            "sample 8 num of prompts for Pneumonia from total 312\n"
          ]
        },
        {
          "name": "stderr",
          "output_type": "stream",
          "text": [
            "Evaluate Validation: 100%|██████████| 1/1 [00:01<00:00,  1.27s/it]\n",
            "Evaluate Test:   0%|          | 0/1 [00:00<?, ?it/s]"
          ]
        },
        {
          "name": "stdout",
          "output_type": "stream",
          "text": [
            "sample 8 num of prompts for Pneumonia from total 312\n"
          ]
        },
        {
          "name": "stderr",
          "output_type": "stream",
          "text": [
            "Evaluate Test: 100%|██████████| 1/1 [00:01<00:00,  1.31s/it]\n"
          ]
        },
        {
          "name": "stdout",
          "output_type": "stream",
          "text": [
            "\n",
            "Accuracy: 0.5043, Precision: 0.4971, Recall: 0.8416, AUC: 0.5461\n"
          ]
        },
        {
          "name": "stderr",
          "output_type": "stream",
          "text": [
            "\rEvaluate Train:   0%|          | 0/3 [00:00<?, ?it/s]"
          ]
        },
        {
          "name": "stdout",
          "output_type": "stream",
          "text": [
            "sample 9 num of prompts for Pneumonia from total 312\n"
          ]
        },
        {
          "name": "stderr",
          "output_type": "stream",
          "text": [
            "\rEvaluate Train:  33%|███▎      | 1/3 [00:01<00:03,  1.72s/it]"
          ]
        },
        {
          "name": "stdout",
          "output_type": "stream",
          "text": [
            "sample 9 num of prompts for Pneumonia from total 312\n"
          ]
        },
        {
          "name": "stderr",
          "output_type": "stream",
          "text": [
            "\rEvaluate Train:  67%|██████▋   | 2/3 [00:03<00:01,  1.52s/it]"
          ]
        },
        {
          "name": "stdout",
          "output_type": "stream",
          "text": [
            "sample 9 num of prompts for Pneumonia from total 312\n"
          ]
        },
        {
          "name": "stderr",
          "output_type": "stream",
          "text": [
            "Evaluate Train: 100%|██████████| 3/3 [00:04<00:00,  1.43s/it]\n",
            "Evaluate Validation:   0%|          | 0/1 [00:00<?, ?it/s]"
          ]
        },
        {
          "name": "stdout",
          "output_type": "stream",
          "text": [
            "sample 9 num of prompts for Pneumonia from total 312\n"
          ]
        },
        {
          "name": "stderr",
          "output_type": "stream",
          "text": [
            "Evaluate Validation: 100%|██████████| 1/1 [00:01<00:00,  1.28s/it]\n",
            "Evaluate Test:   0%|          | 0/1 [00:00<?, ?it/s]"
          ]
        },
        {
          "name": "stdout",
          "output_type": "stream",
          "text": [
            "sample 9 num of prompts for Pneumonia from total 312\n"
          ]
        },
        {
          "name": "stderr",
          "output_type": "stream",
          "text": [
            "Evaluate Test: 100%|██████████| 1/1 [00:01<00:00,  1.77s/it]\n"
          ]
        },
        {
          "name": "stdout",
          "output_type": "stream",
          "text": [
            "\n",
            "Accuracy: 0.4885, Precision: 0.4873, Recall: 0.8069, AUC: 0.5501\n"
          ]
        },
        {
          "name": "stderr",
          "output_type": "stream",
          "text": [
            "\rEvaluate Train:   0%|          | 0/3 [00:00<?, ?it/s]"
          ]
        },
        {
          "name": "stdout",
          "output_type": "stream",
          "text": [
            "sample 10 num of prompts for Pneumonia from total 312\n"
          ]
        },
        {
          "name": "stderr",
          "output_type": "stream",
          "text": [
            "\rEvaluate Train:  33%|███▎      | 1/3 [00:01<00:02,  1.38s/it]"
          ]
        },
        {
          "name": "stdout",
          "output_type": "stream",
          "text": [
            "sample 10 num of prompts for Pneumonia from total 312\n"
          ]
        },
        {
          "name": "stderr",
          "output_type": "stream",
          "text": [
            "\rEvaluate Train:  67%|██████▋   | 2/3 [00:02<00:01,  1.39s/it]"
          ]
        },
        {
          "name": "stdout",
          "output_type": "stream",
          "text": [
            "sample 10 num of prompts for Pneumonia from total 312\n"
          ]
        },
        {
          "name": "stderr",
          "output_type": "stream",
          "text": [
            "Evaluate Train: 100%|██████████| 3/3 [00:03<00:00,  1.32s/it]\n",
            "Evaluate Validation:   0%|          | 0/1 [00:00<?, ?it/s]"
          ]
        },
        {
          "name": "stdout",
          "output_type": "stream",
          "text": [
            "sample 10 num of prompts for Pneumonia from total 312\n"
          ]
        },
        {
          "name": "stderr",
          "output_type": "stream",
          "text": [
            "Evaluate Validation: 100%|██████████| 1/1 [00:01<00:00,  1.27s/it]\n",
            "Evaluate Test:   0%|          | 0/1 [00:00<?, ?it/s]"
          ]
        },
        {
          "name": "stdout",
          "output_type": "stream",
          "text": [
            "sample 10 num of prompts for Pneumonia from total 312\n"
          ]
        },
        {
          "name": "stderr",
          "output_type": "stream",
          "text": [
            "Evaluate Test: 100%|██████████| 1/1 [00:01<00:00,  1.34s/it]\n"
          ]
        },
        {
          "name": "stdout",
          "output_type": "stream",
          "text": [
            "\n",
            "Accuracy: 0.5188, Precision: 0.5074, Recall: 0.6782, AUC: 0.5473\n"
          ]
        },
        {
          "name": "stderr",
          "output_type": "stream",
          "text": [
            "\rEvaluate Train:   0%|          | 0/3 [00:00<?, ?it/s]"
          ]
        },
        {
          "name": "stdout",
          "output_type": "stream",
          "text": [
            "sample 11 num of prompts for Pneumonia from total 312\n"
          ]
        },
        {
          "name": "stderr",
          "output_type": "stream",
          "text": [
            "\rEvaluate Train:  33%|███▎      | 1/3 [00:01<00:02,  1.42s/it]"
          ]
        },
        {
          "name": "stdout",
          "output_type": "stream",
          "text": [
            "sample 11 num of prompts for Pneumonia from total 312\n"
          ]
        },
        {
          "name": "stderr",
          "output_type": "stream",
          "text": [
            "\rEvaluate Train:  67%|██████▋   | 2/3 [00:02<00:01,  1.39s/it]"
          ]
        },
        {
          "name": "stdout",
          "output_type": "stream",
          "text": [
            "sample 11 num of prompts for Pneumonia from total 312\n"
          ]
        },
        {
          "name": "stderr",
          "output_type": "stream",
          "text": [
            "Evaluate Train: 100%|██████████| 3/3 [00:04<00:00,  1.41s/it]\n",
            "Evaluate Validation:   0%|          | 0/1 [00:00<?, ?it/s]"
          ]
        },
        {
          "name": "stdout",
          "output_type": "stream",
          "text": [
            "sample 11 num of prompts for Pneumonia from total 312\n"
          ]
        },
        {
          "name": "stderr",
          "output_type": "stream",
          "text": [
            "Evaluate Validation: 100%|██████████| 1/1 [00:01<00:00,  1.32s/it]\n",
            "Evaluate Test:   0%|          | 0/1 [00:00<?, ?it/s]"
          ]
        },
        {
          "name": "stdout",
          "output_type": "stream",
          "text": [
            "sample 11 num of prompts for Pneumonia from total 312\n"
          ]
        },
        {
          "name": "stderr",
          "output_type": "stream",
          "text": [
            "Evaluate Test: 100%|██████████| 1/1 [00:01<00:00,  1.46s/it]\n"
          ]
        },
        {
          "name": "stdout",
          "output_type": "stream",
          "text": [
            "\n",
            "Accuracy: 0.4933, Precision: 0.4910, Recall: 0.8812, AUC: 0.4921\n"
          ]
        },
        {
          "name": "stderr",
          "output_type": "stream",
          "text": [
            "\rEvaluate Train:   0%|          | 0/3 [00:00<?, ?it/s]"
          ]
        },
        {
          "name": "stdout",
          "output_type": "stream",
          "text": [
            "sample 12 num of prompts for Pneumonia from total 312\n"
          ]
        },
        {
          "name": "stderr",
          "output_type": "stream",
          "text": [
            "\rEvaluate Train:  33%|███▎      | 1/3 [00:01<00:02,  1.36s/it]"
          ]
        },
        {
          "name": "stdout",
          "output_type": "stream",
          "text": [
            "sample 12 num of prompts for Pneumonia from total 312\n"
          ]
        },
        {
          "name": "stderr",
          "output_type": "stream",
          "text": [
            "\rEvaluate Train:  67%|██████▋   | 2/3 [00:02<00:01,  1.36s/it]"
          ]
        },
        {
          "name": "stdout",
          "output_type": "stream",
          "text": [
            "sample 12 num of prompts for Pneumonia from total 312\n"
          ]
        },
        {
          "name": "stderr",
          "output_type": "stream",
          "text": [
            "Evaluate Train: 100%|██████████| 3/3 [00:04<00:00,  1.34s/it]\n",
            "Evaluate Validation:   0%|          | 0/1 [00:00<?, ?it/s]"
          ]
        },
        {
          "name": "stdout",
          "output_type": "stream",
          "text": [
            "sample 12 num of prompts for Pneumonia from total 312\n"
          ]
        },
        {
          "name": "stderr",
          "output_type": "stream",
          "text": [
            "Evaluate Validation: 100%|██████████| 1/1 [00:01<00:00,  1.28s/it]\n",
            "Evaluate Test:   0%|          | 0/1 [00:00<?, ?it/s]"
          ]
        },
        {
          "name": "stdout",
          "output_type": "stream",
          "text": [
            "sample 12 num of prompts for Pneumonia from total 312\n"
          ]
        },
        {
          "name": "stderr",
          "output_type": "stream",
          "text": [
            "Evaluate Test: 100%|██████████| 1/1 [00:01<00:00,  1.40s/it]\n"
          ]
        },
        {
          "name": "stdout",
          "output_type": "stream",
          "text": [
            "\n",
            "Accuracy: 0.4860, Precision: 0.4864, Recall: 0.8441, AUC: 0.5343\n",
            "Best AUC for rsna_task with 7 prompts: 0.5691\n",
            "Results saved to results/zs_medclip_base/ori/medclip/classification_results.txt\n"
          ]
        },
        {
          "name": "stderr",
          "output_type": "stream",
          "text": [
            "\rEvaluate Train:   0%|          | 0/3 [00:00<?, ?it/s]"
          ]
        },
        {
          "name": "stdout",
          "output_type": "stream",
          "text": [
            "sample 1 num of prompts for COVID from total 12\n"
          ]
        },
        {
          "name": "stderr",
          "output_type": "stream",
          "text": [
            "\rEvaluate Train:  33%|███▎      | 1/3 [00:01<00:02,  1.40s/it]"
          ]
        },
        {
          "name": "stdout",
          "output_type": "stream",
          "text": [
            "sample 1 num of prompts for COVID from total 12\n"
          ]
        },
        {
          "name": "stderr",
          "output_type": "stream",
          "text": [
            "\rEvaluate Train:  67%|██████▋   | 2/3 [00:02<00:01,  1.49s/it]"
          ]
        },
        {
          "name": "stdout",
          "output_type": "stream",
          "text": [
            "sample 1 num of prompts for COVID from total 12\n"
          ]
        },
        {
          "name": "stderr",
          "output_type": "stream",
          "text": [
            "Evaluate Train: 100%|██████████| 3/3 [00:04<00:00,  1.43s/it]\n",
            "Evaluate Validation:   0%|          | 0/1 [00:00<?, ?it/s]"
          ]
        },
        {
          "name": "stdout",
          "output_type": "stream",
          "text": [
            "sample 1 num of prompts for COVID from total 12\n"
          ]
        },
        {
          "name": "stderr",
          "output_type": "stream",
          "text": [
            "Evaluate Validation: 100%|██████████| 1/1 [00:01<00:00,  1.60s/it]\n",
            "Evaluate Test:   0%|          | 0/1 [00:00<?, ?it/s]"
          ]
        },
        {
          "name": "stdout",
          "output_type": "stream",
          "text": [
            "sample 1 num of prompts for COVID from total 12\n"
          ]
        },
        {
          "name": "stderr",
          "output_type": "stream",
          "text": [
            "Evaluate Test: 100%|██████████| 1/1 [00:01<00:00,  1.46s/it]\n"
          ]
        },
        {
          "name": "stdout",
          "output_type": "stream",
          "text": [
            "\n",
            "Accuracy: 0.5638, Precision: 0.5869, Recall: 0.3762, AUC: 0.5984\n"
          ]
        },
        {
          "name": "stderr",
          "output_type": "stream",
          "text": [
            "\rEvaluate Train:   0%|          | 0/3 [00:00<?, ?it/s]"
          ]
        },
        {
          "name": "stdout",
          "output_type": "stream",
          "text": [
            "sample 2 num of prompts for COVID from total 12\n"
          ]
        },
        {
          "name": "stderr",
          "output_type": "stream",
          "text": [
            "\rEvaluate Train:  33%|███▎      | 1/3 [00:01<00:02,  1.36s/it]"
          ]
        },
        {
          "name": "stdout",
          "output_type": "stream",
          "text": [
            "sample 2 num of prompts for COVID from total 12\n"
          ]
        },
        {
          "name": "stderr",
          "output_type": "stream",
          "text": [
            "\rEvaluate Train:  67%|██████▋   | 2/3 [00:02<00:01,  1.36s/it]"
          ]
        },
        {
          "name": "stdout",
          "output_type": "stream",
          "text": [
            "sample 2 num of prompts for COVID from total 12\n"
          ]
        },
        {
          "name": "stderr",
          "output_type": "stream",
          "text": [
            "Evaluate Train: 100%|██████████| 3/3 [00:04<00:00,  1.36s/it]\n",
            "Evaluate Validation:   0%|          | 0/1 [00:00<?, ?it/s]"
          ]
        },
        {
          "name": "stdout",
          "output_type": "stream",
          "text": [
            "sample 2 num of prompts for COVID from total 12\n"
          ]
        },
        {
          "name": "stderr",
          "output_type": "stream",
          "text": [
            "Evaluate Validation: 100%|██████████| 1/1 [00:01<00:00,  1.27s/it]\n",
            "Evaluate Test:   0%|          | 0/1 [00:00<?, ?it/s]"
          ]
        },
        {
          "name": "stdout",
          "output_type": "stream",
          "text": [
            "sample 2 num of prompts for COVID from total 12\n"
          ]
        },
        {
          "name": "stderr",
          "output_type": "stream",
          "text": [
            "Evaluate Test: 100%|██████████| 1/1 [00:01<00:00,  1.47s/it]\n"
          ]
        },
        {
          "name": "stdout",
          "output_type": "stream",
          "text": [
            "\n",
            "Accuracy: 0.5699, Precision: 0.6050, Recall: 0.3564, AUC: 0.5924\n"
          ]
        },
        {
          "name": "stderr",
          "output_type": "stream",
          "text": [
            "\rEvaluate Train:   0%|          | 0/3 [00:00<?, ?it/s]"
          ]
        },
        {
          "name": "stdout",
          "output_type": "stream",
          "text": [
            "sample 3 num of prompts for COVID from total 12\n"
          ]
        },
        {
          "name": "stderr",
          "output_type": "stream",
          "text": [
            "\rEvaluate Train:  33%|███▎      | 1/3 [00:01<00:02,  1.45s/it]"
          ]
        },
        {
          "name": "stdout",
          "output_type": "stream",
          "text": [
            "sample 3 num of prompts for COVID from total 12\n"
          ]
        },
        {
          "name": "stderr",
          "output_type": "stream",
          "text": [
            "\rEvaluate Train:  67%|██████▋   | 2/3 [00:03<00:01,  1.69s/it]"
          ]
        },
        {
          "name": "stdout",
          "output_type": "stream",
          "text": [
            "sample 3 num of prompts for COVID from total 12\n"
          ]
        },
        {
          "name": "stderr",
          "output_type": "stream",
          "text": [
            "Evaluate Train: 100%|██████████| 3/3 [00:04<00:00,  1.48s/it]\n",
            "Evaluate Validation:   0%|          | 0/1 [00:00<?, ?it/s]"
          ]
        },
        {
          "name": "stdout",
          "output_type": "stream",
          "text": [
            "sample 3 num of prompts for COVID from total 12\n"
          ]
        },
        {
          "name": "stderr",
          "output_type": "stream",
          "text": [
            "Evaluate Validation: 100%|██████████| 1/1 [00:01<00:00,  1.63s/it]\n",
            "Evaluate Test:   0%|          | 0/1 [00:00<?, ?it/s]"
          ]
        },
        {
          "name": "stdout",
          "output_type": "stream",
          "text": [
            "sample 3 num of prompts for COVID from total 12\n"
          ]
        },
        {
          "name": "stderr",
          "output_type": "stream",
          "text": [
            "Evaluate Test: 100%|██████████| 1/1 [00:01<00:00,  1.29s/it]\n"
          ]
        },
        {
          "name": "stdout",
          "output_type": "stream",
          "text": [
            "\n",
            "Accuracy: 0.5772, Precision: 0.6000, Recall: 0.4158, AUC: 0.5974\n"
          ]
        },
        {
          "name": "stderr",
          "output_type": "stream",
          "text": [
            "\rEvaluate Train:   0%|          | 0/3 [00:00<?, ?it/s]"
          ]
        },
        {
          "name": "stdout",
          "output_type": "stream",
          "text": [
            "sample 4 num of prompts for COVID from total 12\n"
          ]
        },
        {
          "name": "stderr",
          "output_type": "stream",
          "text": [
            "\rEvaluate Train:  33%|███▎      | 1/3 [00:01<00:02,  1.37s/it]"
          ]
        },
        {
          "name": "stdout",
          "output_type": "stream",
          "text": [
            "sample 4 num of prompts for COVID from total 12\n"
          ]
        },
        {
          "name": "stderr",
          "output_type": "stream",
          "text": [
            "\rEvaluate Train:  67%|██████▋   | 2/3 [00:02<00:01,  1.47s/it]"
          ]
        },
        {
          "name": "stdout",
          "output_type": "stream",
          "text": [
            "sample 4 num of prompts for COVID from total 12\n"
          ]
        },
        {
          "name": "stderr",
          "output_type": "stream",
          "text": [
            "Evaluate Train: 100%|██████████| 3/3 [00:04<00:00,  1.42s/it]\n",
            "Evaluate Validation:   0%|          | 0/1 [00:00<?, ?it/s]"
          ]
        },
        {
          "name": "stdout",
          "output_type": "stream",
          "text": [
            "sample 4 num of prompts for COVID from total 12\n"
          ]
        },
        {
          "name": "stderr",
          "output_type": "stream",
          "text": [
            "Evaluate Validation: 100%|██████████| 1/1 [00:01<00:00,  1.32s/it]\n",
            "Evaluate Test:   0%|          | 0/1 [00:00<?, ?it/s]"
          ]
        },
        {
          "name": "stdout",
          "output_type": "stream",
          "text": [
            "sample 4 num of prompts for COVID from total 12\n"
          ]
        },
        {
          "name": "stderr",
          "output_type": "stream",
          "text": [
            "Evaluate Test: 100%|██████████| 1/1 [00:01<00:00,  1.28s/it]\n"
          ]
        },
        {
          "name": "stdout",
          "output_type": "stream",
          "text": [
            "\n",
            "Accuracy: 0.5808, Precision: 0.5931, Recall: 0.4653, AUC: 0.6019\n"
          ]
        },
        {
          "name": "stderr",
          "output_type": "stream",
          "text": [
            "\rEvaluate Train:   0%|          | 0/3 [00:00<?, ?it/s]"
          ]
        },
        {
          "name": "stdout",
          "output_type": "stream",
          "text": [
            "sample 5 num of prompts for COVID from total 12\n"
          ]
        },
        {
          "name": "stderr",
          "output_type": "stream",
          "text": [
            "\rEvaluate Train:  33%|███▎      | 1/3 [00:01<00:02,  1.37s/it]"
          ]
        },
        {
          "name": "stdout",
          "output_type": "stream",
          "text": [
            "sample 5 num of prompts for COVID from total 12\n"
          ]
        },
        {
          "name": "stderr",
          "output_type": "stream",
          "text": [
            "\rEvaluate Train:  67%|██████▋   | 2/3 [00:02<00:01,  1.41s/it]"
          ]
        },
        {
          "name": "stdout",
          "output_type": "stream",
          "text": [
            "sample 5 num of prompts for COVID from total 12\n"
          ]
        },
        {
          "name": "stderr",
          "output_type": "stream",
          "text": [
            "Evaluate Train: 100%|██████████| 3/3 [00:04<00:00,  1.37s/it]\n",
            "Evaluate Validation:   0%|          | 0/1 [00:00<?, ?it/s]"
          ]
        },
        {
          "name": "stdout",
          "output_type": "stream",
          "text": [
            "sample 5 num of prompts for COVID from total 12\n"
          ]
        },
        {
          "name": "stderr",
          "output_type": "stream",
          "text": [
            "Evaluate Validation: 100%|██████████| 1/1 [00:01<00:00,  1.32s/it]\n",
            "Evaluate Test:   0%|          | 0/1 [00:00<?, ?it/s]"
          ]
        },
        {
          "name": "stdout",
          "output_type": "stream",
          "text": [
            "sample 5 num of prompts for COVID from total 12\n"
          ]
        },
        {
          "name": "stderr",
          "output_type": "stream",
          "text": [
            "Evaluate Test: 100%|██████████| 1/1 [00:01<00:00,  1.31s/it]\n"
          ]
        },
        {
          "name": "stdout",
          "output_type": "stream",
          "text": [
            "\n",
            "Accuracy: 0.5808, Precision: 0.5931, Recall: 0.4653, AUC: 0.6021\n"
          ]
        },
        {
          "name": "stderr",
          "output_type": "stream",
          "text": [
            "\rEvaluate Train:   0%|          | 0/3 [00:00<?, ?it/s]"
          ]
        },
        {
          "name": "stdout",
          "output_type": "stream",
          "text": [
            "sample 6 num of prompts for COVID from total 12\n"
          ]
        },
        {
          "name": "stderr",
          "output_type": "stream",
          "text": [
            "\rEvaluate Train:  33%|███▎      | 1/3 [00:01<00:02,  1.37s/it]"
          ]
        },
        {
          "name": "stdout",
          "output_type": "stream",
          "text": [
            "sample 6 num of prompts for COVID from total 12\n"
          ]
        },
        {
          "name": "stderr",
          "output_type": "stream",
          "text": [
            "\rEvaluate Train:  67%|██████▋   | 2/3 [00:02<00:01,  1.37s/it]"
          ]
        },
        {
          "name": "stdout",
          "output_type": "stream",
          "text": [
            "sample 6 num of prompts for COVID from total 12\n"
          ]
        },
        {
          "name": "stderr",
          "output_type": "stream",
          "text": [
            "Evaluate Train: 100%|██████████| 3/3 [00:04<00:00,  1.54s/it]\n",
            "Evaluate Validation:   0%|          | 0/1 [00:00<?, ?it/s]"
          ]
        },
        {
          "name": "stdout",
          "output_type": "stream",
          "text": [
            "sample 6 num of prompts for COVID from total 12\n"
          ]
        },
        {
          "name": "stderr",
          "output_type": "stream",
          "text": [
            "Evaluate Validation: 100%|██████████| 1/1 [00:01<00:00,  1.39s/it]\n",
            "Evaluate Test:   0%|          | 0/1 [00:00<?, ?it/s]"
          ]
        },
        {
          "name": "stdout",
          "output_type": "stream",
          "text": [
            "sample 6 num of prompts for COVID from total 12\n"
          ]
        },
        {
          "name": "stderr",
          "output_type": "stream",
          "text": [
            "Evaluate Test: 100%|██████████| 1/1 [00:01<00:00,  1.27s/it]\n"
          ]
        },
        {
          "name": "stdout",
          "output_type": "stream",
          "text": [
            "\n",
            "Accuracy: 0.5808, Precision: 0.5937, Recall: 0.4629, AUC: 0.6023\n"
          ]
        },
        {
          "name": "stderr",
          "output_type": "stream",
          "text": [
            "\rEvaluate Train:   0%|          | 0/3 [00:00<?, ?it/s]"
          ]
        },
        {
          "name": "stdout",
          "output_type": "stream",
          "text": [
            "sample 7 num of prompts for COVID from total 12\n"
          ]
        },
        {
          "name": "stderr",
          "output_type": "stream",
          "text": [
            "\rEvaluate Train:  33%|███▎      | 1/3 [00:01<00:02,  1.39s/it]"
          ]
        },
        {
          "name": "stdout",
          "output_type": "stream",
          "text": [
            "sample 7 num of prompts for COVID from total 12\n"
          ]
        },
        {
          "name": "stderr",
          "output_type": "stream",
          "text": [
            "\rEvaluate Train:  67%|██████▋   | 2/3 [00:02<00:01,  1.47s/it]"
          ]
        },
        {
          "name": "stdout",
          "output_type": "stream",
          "text": [
            "sample 7 num of prompts for COVID from total 12\n"
          ]
        },
        {
          "name": "stderr",
          "output_type": "stream",
          "text": [
            "Evaluate Train: 100%|██████████| 3/3 [00:04<00:00,  1.35s/it]\n",
            "Evaluate Validation:   0%|          | 0/1 [00:00<?, ?it/s]"
          ]
        },
        {
          "name": "stdout",
          "output_type": "stream",
          "text": [
            "sample 7 num of prompts for COVID from total 12\n"
          ]
        },
        {
          "name": "stderr",
          "output_type": "stream",
          "text": [
            "Evaluate Validation: 100%|██████████| 1/1 [00:01<00:00,  1.76s/it]\n",
            "Evaluate Test:   0%|          | 0/1 [00:00<?, ?it/s]"
          ]
        },
        {
          "name": "stdout",
          "output_type": "stream",
          "text": [
            "sample 7 num of prompts for COVID from total 12\n"
          ]
        },
        {
          "name": "stderr",
          "output_type": "stream",
          "text": [
            "Evaluate Test: 100%|██████████| 1/1 [00:01<00:00,  1.27s/it]\n"
          ]
        },
        {
          "name": "stdout",
          "output_type": "stream",
          "text": [
            "\n",
            "Accuracy: 0.5808, Precision: 0.5925, Recall: 0.4678, AUC: 0.6015\n"
          ]
        },
        {
          "name": "stderr",
          "output_type": "stream",
          "text": [
            "\rEvaluate Train:   0%|          | 0/3 [00:00<?, ?it/s]"
          ]
        },
        {
          "name": "stdout",
          "output_type": "stream",
          "text": [
            "sample 8 num of prompts for COVID from total 12\n"
          ]
        },
        {
          "name": "stderr",
          "output_type": "stream",
          "text": [
            "\rEvaluate Train:  33%|███▎      | 1/3 [00:01<00:02,  1.44s/it]"
          ]
        },
        {
          "name": "stdout",
          "output_type": "stream",
          "text": [
            "sample 8 num of prompts for COVID from total 12\n"
          ]
        },
        {
          "name": "stderr",
          "output_type": "stream",
          "text": [
            "\rEvaluate Train:  67%|██████▋   | 2/3 [00:02<00:01,  1.45s/it]"
          ]
        },
        {
          "name": "stdout",
          "output_type": "stream",
          "text": [
            "sample 8 num of prompts for COVID from total 12\n"
          ]
        },
        {
          "name": "stderr",
          "output_type": "stream",
          "text": [
            "Evaluate Train: 100%|██████████| 3/3 [00:04<00:00,  1.35s/it]\n",
            "Evaluate Validation:   0%|          | 0/1 [00:00<?, ?it/s]"
          ]
        },
        {
          "name": "stdout",
          "output_type": "stream",
          "text": [
            "sample 8 num of prompts for COVID from total 12\n"
          ]
        },
        {
          "name": "stderr",
          "output_type": "stream",
          "text": [
            "Evaluate Validation: 100%|██████████| 1/1 [00:01<00:00,  1.44s/it]\n",
            "Evaluate Test:   0%|          | 0/1 [00:00<?, ?it/s]"
          ]
        },
        {
          "name": "stdout",
          "output_type": "stream",
          "text": [
            "sample 8 num of prompts for COVID from total 12\n"
          ]
        },
        {
          "name": "stderr",
          "output_type": "stream",
          "text": [
            "Evaluate Test: 100%|██████████| 1/1 [00:01<00:00,  1.27s/it]\n"
          ]
        },
        {
          "name": "stdout",
          "output_type": "stream",
          "text": [
            "\n",
            "Accuracy: 0.5820, Precision: 0.5943, Recall: 0.4678, AUC: 0.6016\n"
          ]
        },
        {
          "name": "stderr",
          "output_type": "stream",
          "text": [
            "\rEvaluate Train:   0%|          | 0/3 [00:00<?, ?it/s]"
          ]
        },
        {
          "name": "stdout",
          "output_type": "stream",
          "text": [
            "sample 9 num of prompts for COVID from total 12\n"
          ]
        },
        {
          "name": "stderr",
          "output_type": "stream",
          "text": [
            "\rEvaluate Train:  33%|███▎      | 1/3 [00:01<00:02,  1.37s/it]"
          ]
        },
        {
          "name": "stdout",
          "output_type": "stream",
          "text": [
            "sample 9 num of prompts for COVID from total 12\n"
          ]
        },
        {
          "name": "stderr",
          "output_type": "stream",
          "text": [
            "\rEvaluate Train:  67%|██████▋   | 2/3 [00:02<00:01,  1.37s/it]"
          ]
        },
        {
          "name": "stdout",
          "output_type": "stream",
          "text": [
            "sample 9 num of prompts for COVID from total 12\n"
          ]
        },
        {
          "name": "stderr",
          "output_type": "stream",
          "text": [
            "Evaluate Train: 100%|██████████| 3/3 [00:03<00:00,  1.33s/it]\n",
            "Evaluate Validation:   0%|          | 0/1 [00:00<?, ?it/s]"
          ]
        },
        {
          "name": "stdout",
          "output_type": "stream",
          "text": [
            "sample 9 num of prompts for COVID from total 12\n"
          ]
        },
        {
          "name": "stderr",
          "output_type": "stream",
          "text": [
            "Evaluate Validation: 100%|██████████| 1/1 [00:01<00:00,  1.26s/it]\n",
            "Evaluate Test:   0%|          | 0/1 [00:00<?, ?it/s]"
          ]
        },
        {
          "name": "stdout",
          "output_type": "stream",
          "text": [
            "sample 9 num of prompts for COVID from total 12\n"
          ]
        },
        {
          "name": "stderr",
          "output_type": "stream",
          "text": [
            "Evaluate Test: 100%|██████████| 1/1 [00:01<00:00,  1.39s/it]\n"
          ]
        },
        {
          "name": "stdout",
          "output_type": "stream",
          "text": [
            "\n",
            "Accuracy: 0.5808, Precision: 0.5925, Recall: 0.4678, AUC: 0.6012\n"
          ]
        },
        {
          "name": "stderr",
          "output_type": "stream",
          "text": [
            "\rEvaluate Train:   0%|          | 0/3 [00:00<?, ?it/s]"
          ]
        },
        {
          "name": "stdout",
          "output_type": "stream",
          "text": [
            "sample 10 num of prompts for COVID from total 12\n"
          ]
        },
        {
          "name": "stderr",
          "output_type": "stream",
          "text": [
            "\rEvaluate Train:  33%|███▎      | 1/3 [00:01<00:02,  1.40s/it]"
          ]
        },
        {
          "name": "stdout",
          "output_type": "stream",
          "text": [
            "sample 10 num of prompts for COVID from total 12\n"
          ]
        },
        {
          "name": "stderr",
          "output_type": "stream",
          "text": [
            "\rEvaluate Train:  67%|██████▋   | 2/3 [00:02<00:01,  1.37s/it]"
          ]
        },
        {
          "name": "stdout",
          "output_type": "stream",
          "text": [
            "sample 10 num of prompts for COVID from total 12\n"
          ]
        },
        {
          "name": "stderr",
          "output_type": "stream",
          "text": [
            "Evaluate Train: 100%|██████████| 3/3 [00:03<00:00,  1.32s/it]\n",
            "Evaluate Validation:   0%|          | 0/1 [00:00<?, ?it/s]"
          ]
        },
        {
          "name": "stdout",
          "output_type": "stream",
          "text": [
            "sample 10 num of prompts for COVID from total 12\n"
          ]
        },
        {
          "name": "stderr",
          "output_type": "stream",
          "text": [
            "Evaluate Validation: 100%|██████████| 1/1 [00:01<00:00,  1.30s/it]\n",
            "Evaluate Test:   0%|          | 0/1 [00:00<?, ?it/s]"
          ]
        },
        {
          "name": "stdout",
          "output_type": "stream",
          "text": [
            "sample 10 num of prompts for COVID from total 12\n"
          ]
        },
        {
          "name": "stderr",
          "output_type": "stream",
          "text": [
            "Evaluate Test: 100%|██████████| 1/1 [00:01<00:00,  1.28s/it]\n"
          ]
        },
        {
          "name": "stdout",
          "output_type": "stream",
          "text": [
            "\n",
            "Accuracy: 0.5808, Precision: 0.5925, Recall: 0.4678, AUC: 0.6026\n"
          ]
        },
        {
          "name": "stderr",
          "output_type": "stream",
          "text": [
            "\rEvaluate Train:   0%|          | 0/3 [00:00<?, ?it/s]"
          ]
        },
        {
          "name": "stdout",
          "output_type": "stream",
          "text": [
            "sample 11 num of prompts for COVID from total 12\n"
          ]
        },
        {
          "name": "stderr",
          "output_type": "stream",
          "text": [
            "\rEvaluate Train:  33%|███▎      | 1/3 [00:01<00:03,  1.69s/it]"
          ]
        },
        {
          "name": "stdout",
          "output_type": "stream",
          "text": [
            "sample 11 num of prompts for COVID from total 12\n"
          ]
        },
        {
          "name": "stderr",
          "output_type": "stream",
          "text": [
            "\rEvaluate Train:  67%|██████▋   | 2/3 [00:03<00:01,  1.79s/it]"
          ]
        },
        {
          "name": "stdout",
          "output_type": "stream",
          "text": [
            "sample 11 num of prompts for COVID from total 12\n"
          ]
        },
        {
          "name": "stderr",
          "output_type": "stream",
          "text": [
            "Evaluate Train: 100%|██████████| 3/3 [00:04<00:00,  1.56s/it]\n",
            "Evaluate Validation:   0%|          | 0/1 [00:00<?, ?it/s]"
          ]
        },
        {
          "name": "stdout",
          "output_type": "stream",
          "text": [
            "sample 11 num of prompts for COVID from total 12\n"
          ]
        },
        {
          "name": "stderr",
          "output_type": "stream",
          "text": [
            "Evaluate Validation: 100%|██████████| 1/1 [00:01<00:00,  1.41s/it]\n",
            "Evaluate Test:   0%|          | 0/1 [00:00<?, ?it/s]"
          ]
        },
        {
          "name": "stdout",
          "output_type": "stream",
          "text": [
            "sample 11 num of prompts for COVID from total 12\n"
          ]
        },
        {
          "name": "stderr",
          "output_type": "stream",
          "text": [
            "Evaluate Test: 100%|██████████| 1/1 [00:01<00:00,  1.38s/it]\n"
          ]
        },
        {
          "name": "stdout",
          "output_type": "stream",
          "text": [
            "\n",
            "Accuracy: 0.5808, Precision: 0.5925, Recall: 0.4678, AUC: 0.6021\n"
          ]
        },
        {
          "name": "stderr",
          "output_type": "stream",
          "text": [
            "\rEvaluate Train:   0%|          | 0/3 [00:00<?, ?it/s]"
          ]
        },
        {
          "name": "stdout",
          "output_type": "stream",
          "text": [
            "sample 12 num of prompts for COVID from total 12\n"
          ]
        },
        {
          "name": "stderr",
          "output_type": "stream",
          "text": [
            "\rEvaluate Train:  33%|███▎      | 1/3 [00:01<00:02,  1.36s/it]"
          ]
        },
        {
          "name": "stdout",
          "output_type": "stream",
          "text": [
            "sample 12 num of prompts for COVID from total 12\n"
          ]
        },
        {
          "name": "stderr",
          "output_type": "stream",
          "text": [
            "\rEvaluate Train:  67%|██████▋   | 2/3 [00:02<00:01,  1.37s/it]"
          ]
        },
        {
          "name": "stdout",
          "output_type": "stream",
          "text": [
            "sample 12 num of prompts for COVID from total 12\n"
          ]
        },
        {
          "name": "stderr",
          "output_type": "stream",
          "text": [
            "Evaluate Train: 100%|██████████| 3/3 [00:04<00:00,  1.35s/it]\n",
            "Evaluate Validation:   0%|          | 0/1 [00:00<?, ?it/s]"
          ]
        },
        {
          "name": "stdout",
          "output_type": "stream",
          "text": [
            "sample 12 num of prompts for COVID from total 12\n"
          ]
        },
        {
          "name": "stderr",
          "output_type": "stream",
          "text": [
            "Evaluate Validation: 100%|██████████| 1/1 [00:01<00:00,  1.27s/it]\n",
            "Evaluate Test:   0%|          | 0/1 [00:00<?, ?it/s]"
          ]
        },
        {
          "name": "stdout",
          "output_type": "stream",
          "text": [
            "sample 12 num of prompts for COVID from total 12\n"
          ]
        },
        {
          "name": "stderr",
          "output_type": "stream",
          "text": [
            "Evaluate Test: 100%|██████████| 1/1 [00:01<00:00,  1.35s/it]"
          ]
        },
        {
          "name": "stdout",
          "output_type": "stream",
          "text": [
            "\n",
            "Accuracy: 0.5808, Precision: 0.5925, Recall: 0.4678, AUC: 0.6018\n",
            "Best AUC for  with 10 prompts: 0.6026\n",
            "Results saved to results/zs_medclip_base/ori/medclip/classification_results.txt\n"
          ]
        },
        {
          "name": "stderr",
          "output_type": "stream",
          "text": [
            "\n"
          ]
        },
        {
          "data": {
            "text/plain": [
              "<Figure size 640x480 with 0 Axes>"
            ]
          },
          "metadata": {},
          "output_type": "display_data"
        }
      ],
      "source": [
        "%run MedCLIP-pediatric/scripts/zs_medclip_base.py"
      ]
    },
    {
      "cell_type": "code",
      "execution_count": 6,
      "metadata": {
        "id": "-c3lTRyAfXb6",
        "colab": {
          "base_uri": "https://localhost:8080/",
          "height": 1000
        },
        "outputId": "34e986d6-9e06-4b24-f67a-6a5e7f10147b"
      },
      "outputs": [
        {
          "output_type": "stream",
          "name": "stdout",
          "text": [
            "Google Drive is already mounted.\n"
          ]
        },
        {
          "output_type": "stream",
          "name": "stderr",
          "text": [
            "/usr/local/lib/python3.10/dist-packages/keras/src/preprocessing/image.py:766: UserWarning: NumpyArrayIterator is set to use the data format convention \"channels_last\" (channels on axis 3), i.e. expected either 1, 3, or 4 channels on axis 3. However, it was passed an array with shape (1967, 3, 224, 224) (224 channels).\n",
            "  warnings.warn(\n",
            "/usr/local/lib/python3.10/dist-packages/keras/src/preprocessing/image.py:766: UserWarning: NumpyArrayIterator is set to use the data format convention \"channels_last\" (channels on axis 3), i.e. expected either 1, 3, or 4 channels on axis 3. However, it was passed an array with shape (493, 3, 224, 224) (224 channels).\n",
            "  warnings.warn(\n",
            "/usr/local/lib/python3.10/dist-packages/keras/src/preprocessing/image.py:766: UserWarning: NumpyArrayIterator is set to use the data format convention \"channels_last\" (channels on axis 3), i.e. expected either 1, 3, or 4 channels on axis 3. However, it was passed an array with shape (616, 3, 224, 224) (224 channels).\n",
            "  warnings.warn(\n",
            "WARNING:matplotlib.image:Clipping input data to the valid range for imshow with RGB data ([0..1] for floats or [0..255] for integers).\n",
            "WARNING:matplotlib.image:Clipping input data to the valid range for imshow with RGB data ([0..1] for floats or [0..255] for integers).\n",
            "WARNING:matplotlib.image:Clipping input data to the valid range for imshow with RGB data ([0..1] for floats or [0..255] for integers).\n",
            "WARNING:matplotlib.image:Clipping input data to the valid range for imshow with RGB data ([0..1] for floats or [0..255] for integers).\n",
            "WARNING:matplotlib.image:Clipping input data to the valid range for imshow with RGB data ([0..1] for floats or [0..255] for integers).\n",
            "WARNING:matplotlib.image:Clipping input data to the valid range for imshow with RGB data ([0..1] for floats or [0..255] for integers).\n"
          ]
        },
        {
          "output_type": "stream",
          "name": "stdout",
          "text": [
            "Results saved to results/visualization/t_pretrained/ucsd/clip/images/cxr_images.png\n",
            "NVIDIA library configured successfully.\n"
          ]
        },
        {
          "output_type": "stream",
          "name": "stderr",
          "text": [
            "Epoch 1/50, Train: 100%|██████████| 8/8 [00:04<00:00,  1.60it/s]\n",
            "Epoch 1/50, Validation: 100%|██████████| 2/2 [00:00<00:00,  4.51it/s]\n",
            "Evaluate Train: 100%|██████████| 8/8 [00:01<00:00,  6.34it/s]\n",
            "Evaluate Validation: 100%|██████████| 2/2 [00:01<00:00,  1.09it/s]\n"
          ]
        },
        {
          "output_type": "stream",
          "name": "stdout",
          "text": [
            "Epoch 1/50\n",
            "Train - Loss: 5.9136, Accuracy: 0.6634, Precision: 0.9966, Recall: 0.3079, AUC: 0.0190\n",
            "Val - Loss: 5.3184, Accuracy: 0.6349, Precision: 0.9683, Recall: 0.2552, AUC: 0.0317\n"
          ]
        },
        {
          "output_type": "stream",
          "name": "stderr",
          "text": [
            "Epoch 2/50, Train: 100%|██████████| 8/8 [00:03<00:00,  2.03it/s]\n",
            "Epoch 2/50, Validation: 100%|██████████| 2/2 [00:01<00:00,  1.58it/s]\n",
            "Evaluate Train: 100%|██████████| 8/8 [00:02<00:00,  3.85it/s]\n",
            "Evaluate Validation: 100%|██████████| 2/2 [00:00<00:00,  7.62it/s]\n"
          ]
        },
        {
          "output_type": "stream",
          "name": "stdout",
          "text": [
            "Epoch 2/50\n",
            "Train - Loss: 5.0874, Accuracy: 0.9400, Precision: 0.9655, Recall: 0.9089, AUC: 0.6293\n",
            "Val - Loss: 5.0371, Accuracy: 0.9331, Precision: 0.9682, Recall: 0.8912, AUC: 0.5874\n"
          ]
        },
        {
          "output_type": "stream",
          "name": "stderr",
          "text": [
            "Epoch 3/50, Train: 100%|██████████| 8/8 [00:04<00:00,  1.65it/s]\n",
            "Epoch 3/50, Validation: 100%|██████████| 2/2 [00:00<00:00,  4.77it/s]\n",
            "Evaluate Train: 100%|██████████| 8/8 [00:02<00:00,  2.85it/s]\n",
            "Evaluate Validation: 100%|██████████| 2/2 [00:00<00:00,  7.41it/s]\n"
          ]
        },
        {
          "output_type": "stream",
          "name": "stdout",
          "text": [
            "Epoch 3/50\n",
            "Train - Loss: 4.9844, Accuracy: 0.9471, Precision: 0.9852, Recall: 0.9047, AUC: 0.4593\n",
            "Val - Loss: 5.0254, Accuracy: 0.9331, Precision: 0.9858, Recall: 0.8745, AUC: 0.3987\n"
          ]
        },
        {
          "output_type": "stream",
          "name": "stderr",
          "text": [
            "Epoch 4/50, Train: 100%|██████████| 8/8 [00:04<00:00,  1.77it/s]\n",
            "Epoch 4/50, Validation: 100%|██████████| 2/2 [00:00<00:00,  4.72it/s]\n",
            "Evaluate Train: 100%|██████████| 8/8 [00:03<00:00,  2.66it/s]\n",
            "Evaluate Validation: 100%|██████████| 2/2 [00:01<00:00,  1.05it/s]\n"
          ]
        },
        {
          "output_type": "stream",
          "name": "stdout",
          "text": [
            "Epoch 4/50\n",
            "Train - Loss: 4.9414, Accuracy: 0.9659, Precision: 0.9847, Recall: 0.9445, AUC: 0.6923\n",
            "Val - Loss: 4.9766, Accuracy: 0.9473, Precision: 0.9733, Recall: 0.9163, AUC: 0.6467\n"
          ]
        },
        {
          "output_type": "stream",
          "name": "stderr",
          "text": [
            "Epoch 5/50, Train: 100%|██████████| 8/8 [00:03<00:00,  2.11it/s]\n",
            "Epoch 5/50, Validation: 100%|██████████| 2/2 [00:00<00:00,  3.82it/s]\n",
            "Evaluate Train: 100%|██████████| 8/8 [00:02<00:00,  2.97it/s]\n",
            "Evaluate Validation: 100%|██████████| 2/2 [00:00<00:00,  7.34it/s]\n"
          ]
        },
        {
          "output_type": "stream",
          "name": "stdout",
          "text": [
            "Epoch 5/50\n",
            "Train - Loss: 4.9033, Accuracy: 0.9776, Precision: 0.9872, Recall: 0.9665, AUC: 0.7134\n",
            "Val - Loss: 4.9570, Accuracy: 0.9493, Precision: 0.9693, Recall: 0.9247, AUC: 0.6707\n"
          ]
        },
        {
          "output_type": "stream",
          "name": "stderr",
          "text": [
            "Epoch 6/50, Train: 100%|██████████| 8/8 [00:04<00:00,  1.98it/s]\n",
            "Epoch 6/50, Validation: 100%|██████████| 2/2 [00:00<00:00,  4.79it/s]\n",
            "Evaluate Train: 100%|██████████| 8/8 [00:02<00:00,  3.40it/s]\n",
            "Evaluate Validation: 100%|██████████| 2/2 [00:00<00:00,  7.50it/s]\n"
          ]
        },
        {
          "output_type": "stream",
          "name": "stdout",
          "text": [
            "Epoch 6/50\n",
            "Train - Loss: 4.8716, Accuracy: 0.9888, Precision: 0.9895, Recall: 0.9874, AUC: 0.7783\n",
            "Val - Loss: 4.9492, Accuracy: 0.9574, Precision: 0.9658, Recall: 0.9456, AUC: 0.7390\n"
          ]
        },
        {
          "output_type": "stream",
          "name": "stderr",
          "text": [
            "Epoch 7/50, Train: 100%|██████████| 8/8 [00:05<00:00,  1.52it/s]\n",
            "Epoch 7/50, Validation: 100%|██████████| 2/2 [00:00<00:00,  4.84it/s]\n",
            "Evaluate Train: 100%|██████████| 8/8 [00:01<00:00,  6.46it/s]\n",
            "Evaluate Validation: 100%|██████████| 2/2 [00:01<00:00,  1.55it/s]\n"
          ]
        },
        {
          "output_type": "stream",
          "name": "stdout",
          "text": [
            "Epoch 7/50\n",
            "Train - Loss: 4.8521, Accuracy: 0.9964, Precision: 0.9979, Recall: 0.9948, AUC: 0.6670\n",
            "Val - Loss: 4.9688, Accuracy: 0.9554, Precision: 0.9738, Recall: 0.9331, AUC: 0.6207\n"
          ]
        },
        {
          "output_type": "stream",
          "name": "stderr",
          "text": [
            "Epoch 8/50, Train: 100%|██████████| 8/8 [00:04<00:00,  1.72it/s]\n",
            "Epoch 8/50, Validation: 100%|██████████| 2/2 [00:01<00:00,  1.52it/s]\n",
            "Evaluate Train: 100%|██████████| 8/8 [00:02<00:00,  3.99it/s]\n",
            "Evaluate Validation: 100%|██████████| 2/2 [00:00<00:00,  7.38it/s]\n"
          ]
        },
        {
          "output_type": "stream",
          "name": "stdout",
          "text": [
            "Epoch 8/50\n",
            "Train - Loss: 4.8247, Accuracy: 0.9985, Precision: 0.9969, Recall: 1.0000, AUC: 0.8352\n",
            "Val - Loss: 4.9707, Accuracy: 0.9615, Precision: 0.9583, Recall: 0.9623, AUC: 0.7814\n"
          ]
        },
        {
          "output_type": "stream",
          "name": "stderr",
          "text": [
            "Epoch 9/50, Train: 100%|██████████| 8/8 [00:05<00:00,  1.50it/s]\n",
            "Epoch 9/50, Validation: 100%|██████████| 2/2 [00:00<00:00,  3.98it/s]\n",
            "Evaluate Train: 100%|██████████| 8/8 [00:01<00:00,  6.50it/s]\n",
            "Evaluate Validation: 100%|██████████| 2/2 [00:00<00:00,  7.61it/s]\n"
          ]
        },
        {
          "output_type": "stream",
          "name": "stdout",
          "text": [
            "Epoch 9/50\n",
            "Train - Loss: 4.8169, Accuracy: 0.9995, Precision: 0.9990, Recall: 1.0000, AUC: 0.8006\n",
            "Val - Loss: 4.9883, Accuracy: 0.9615, Precision: 0.9622, Recall: 0.9582, AUC: 0.7408\n"
          ]
        },
        {
          "output_type": "stream",
          "name": "stderr",
          "text": [
            "Epoch 10/50, Train: 100%|██████████| 8/8 [00:04<00:00,  1.84it/s]\n",
            "Epoch 10/50, Validation: 100%|██████████| 2/2 [00:00<00:00,  4.75it/s]\n",
            "Evaluate Train: 100%|██████████| 8/8 [00:03<00:00,  2.23it/s]\n",
            "Evaluate Validation: 100%|██████████| 2/2 [00:00<00:00,  7.31it/s]\n"
          ]
        },
        {
          "output_type": "stream",
          "name": "stdout",
          "text": [
            "Epoch 10/50\n",
            "Train - Loss: 4.8135, Accuracy: 1.0000, Precision: 1.0000, Recall: 1.0000, AUC: 0.7189\n",
            "Val - Loss: 5.0078, Accuracy: 0.9574, Precision: 0.9698, Recall: 0.9414, AUC: 0.6692\n"
          ]
        },
        {
          "output_type": "stream",
          "name": "stderr",
          "text": [
            "Epoch 11/50, Train: 100%|██████████| 8/8 [00:03<00:00,  2.02it/s]\n",
            "Epoch 11/50, Validation: 100%|██████████| 2/2 [00:01<00:00,  1.94it/s]\n",
            "Evaluate Train: 100%|██████████| 8/8 [00:01<00:00,  5.50it/s]\n",
            "Evaluate Validation: 100%|██████████| 2/2 [00:00<00:00,  7.65it/s]\n"
          ]
        },
        {
          "output_type": "stream",
          "name": "stdout",
          "text": [
            "Epoch 11/50\n",
            "Train - Loss: 4.8135, Accuracy: 1.0000, Precision: 1.0000, Recall: 1.0000, AUC: 0.6830\n",
            "Val - Loss: 5.0293, Accuracy: 0.9574, Precision: 0.9739, Recall: 0.9372, AUC: 0.6470\n"
          ]
        },
        {
          "output_type": "stream",
          "name": "stderr",
          "text": [
            "Epoch 12/50, Train: 100%|██████████| 8/8 [00:03<00:00,  2.21it/s]\n",
            "Epoch 12/50, Validation: 100%|██████████| 2/2 [00:00<00:00,  4.77it/s]\n",
            "Evaluate Train: 100%|██████████| 8/8 [00:01<00:00,  5.60it/s]\n",
            "Evaluate Validation: 100%|██████████| 2/2 [00:00<00:00,  7.70it/s]\n"
          ]
        },
        {
          "output_type": "stream",
          "name": "stdout",
          "text": [
            "Epoch 12/50\n",
            "Train - Loss: 4.8115, Accuracy: 1.0000, Precision: 1.0000, Recall: 1.0000, AUC: 0.6622\n",
            "Val - Loss: 5.0352, Accuracy: 0.9533, Precision: 0.9737, Recall: 0.9289, AUC: 0.6373\n"
          ]
        },
        {
          "output_type": "stream",
          "name": "stderr",
          "text": [
            "Epoch 13/50, Train: 100%|██████████| 8/8 [00:03<00:00,  2.02it/s]\n",
            "Epoch 13/50, Validation: 100%|██████████| 2/2 [00:00<00:00,  4.05it/s]\n",
            "Evaluate Train: 100%|██████████| 8/8 [00:01<00:00,  4.00it/s]\n",
            "Evaluate Validation: 100%|██████████| 2/2 [00:00<00:00,  7.66it/s]\n"
          ]
        },
        {
          "output_type": "stream",
          "name": "stdout",
          "text": [
            "Epoch 13/50\n",
            "Train - Loss: 4.8076, Accuracy: 1.0000, Precision: 1.0000, Recall: 1.0000, AUC: 0.6773\n",
            "Val - Loss: 5.0352, Accuracy: 0.9533, Precision: 0.9737, Recall: 0.9289, AUC: 0.6502\n"
          ]
        },
        {
          "output_type": "stream",
          "name": "stderr",
          "text": [
            "Epoch 14/50, Train: 100%|██████████| 8/8 [00:05<00:00,  1.51it/s]\n",
            "Epoch 14/50, Validation: 100%|██████████| 2/2 [00:00<00:00,  3.44it/s]\n",
            "Evaluate Train: 100%|██████████| 8/8 [00:02<00:00,  2.75it/s]\n",
            "Evaluate Validation: 100%|██████████| 2/2 [00:00<00:00,  7.35it/s]\n"
          ]
        },
        {
          "output_type": "stream",
          "name": "stdout",
          "text": [
            "Epoch 14/50\n",
            "Train - Loss: 4.8101, Accuracy: 1.0000, Precision: 1.0000, Recall: 1.0000, AUC: 0.6638\n",
            "Val - Loss: 5.0332, Accuracy: 0.9554, Precision: 0.9738, Recall: 0.9331, AUC: 0.6334\n"
          ]
        },
        {
          "output_type": "stream",
          "name": "stderr",
          "text": [
            "Epoch 15/50, Train: 100%|██████████| 8/8 [00:04<00:00,  1.82it/s]\n",
            "Epoch 15/50, Validation: 100%|██████████| 2/2 [00:00<00:00,  4.72it/s]\n",
            "Evaluate Train: 100%|██████████| 8/8 [00:02<00:00,  2.88it/s]\n",
            "Evaluate Validation: 100%|██████████| 2/2 [00:00<00:00,  7.28it/s]\n"
          ]
        },
        {
          "output_type": "stream",
          "name": "stdout",
          "text": [
            "Epoch 15/50\n",
            "Train - Loss: 4.8110, Accuracy: 1.0000, Precision: 1.0000, Recall: 1.0000, AUC: 0.6498\n",
            "Val - Loss: 5.0371, Accuracy: 0.9533, Precision: 0.9737, Recall: 0.9289, AUC: 0.6137\n"
          ]
        },
        {
          "output_type": "stream",
          "name": "stderr",
          "text": [
            "Epoch 16/50, Train: 100%|██████████| 8/8 [00:04<00:00,  1.84it/s]\n",
            "Epoch 16/50, Validation: 100%|██████████| 2/2 [00:00<00:00,  4.74it/s]\n",
            "Evaluate Train: 100%|██████████| 8/8 [00:01<00:00,  6.47it/s]\n",
            "Evaluate Validation: 100%|██████████| 2/2 [00:01<00:00,  1.55it/s]\n"
          ]
        },
        {
          "output_type": "stream",
          "name": "stdout",
          "text": [
            "Epoch 16/50\n",
            "Train - Loss: 4.8096, Accuracy: 1.0000, Precision: 1.0000, Recall: 1.0000, AUC: 0.6560\n",
            "Val - Loss: 5.0273, Accuracy: 0.9574, Precision: 0.9698, Recall: 0.9414, AUC: 0.6244\n"
          ]
        },
        {
          "output_type": "stream",
          "name": "stderr",
          "text": [
            "Epoch 17/50, Train: 100%|██████████| 8/8 [00:04<00:00,  1.71it/s]\n",
            "Epoch 17/50, Validation: 100%|██████████| 2/2 [00:00<00:00,  3.38it/s]\n",
            "Evaluate Train: 100%|██████████| 8/8 [00:01<00:00,  6.25it/s]\n",
            "Evaluate Validation: 100%|██████████| 2/2 [00:00<00:00,  7.57it/s]\n"
          ]
        },
        {
          "output_type": "stream",
          "name": "stdout",
          "text": [
            "Epoch 17/50\n",
            "Train - Loss: 4.8101, Accuracy: 1.0000, Precision: 1.0000, Recall: 1.0000, AUC: 0.5920\n",
            "Val - Loss: 5.0332, Accuracy: 0.9554, Precision: 0.9738, Recall: 0.9331, AUC: 0.5744\n"
          ]
        },
        {
          "output_type": "stream",
          "name": "stderr",
          "text": [
            "Epoch 18/50, Train: 100%|██████████| 8/8 [00:05<00:00,  1.37it/s]\n",
            "Epoch 18/50, Validation: 100%|██████████| 2/2 [00:00<00:00,  3.44it/s]\n",
            "Evaluate Train: 100%|██████████| 8/8 [00:02<00:00,  2.76it/s]\n",
            "Evaluate Validation: 100%|██████████| 2/2 [00:00<00:00,  7.36it/s]\n"
          ]
        },
        {
          "output_type": "stream",
          "name": "stdout",
          "text": [
            "Epoch 18/50\n",
            "Train - Loss: 4.8086, Accuracy: 1.0000, Precision: 1.0000, Recall: 1.0000, AUC: 0.5574\n",
            "Val - Loss: 5.0410, Accuracy: 0.9554, Precision: 0.9738, Recall: 0.9331, AUC: 0.5468\n"
          ]
        },
        {
          "output_type": "stream",
          "name": "stderr",
          "text": [
            "Epoch 19/50, Train: 100%|██████████| 8/8 [00:04<00:00,  1.86it/s]\n",
            "Epoch 19/50, Validation: 100%|██████████| 2/2 [00:00<00:00,  4.70it/s]\n",
            "Evaluate Train: 100%|██████████| 8/8 [00:02<00:00,  2.85it/s]\n",
            "Evaluate Validation: 100%|██████████| 2/2 [00:00<00:00,  7.32it/s]\n"
          ]
        },
        {
          "output_type": "stream",
          "name": "stdout",
          "text": [
            "Epoch 19/50\n",
            "Train - Loss: 4.8096, Accuracy: 1.0000, Precision: 1.0000, Recall: 1.0000, AUC: 0.5372\n",
            "Val - Loss: 5.0547, Accuracy: 0.9513, Precision: 0.9736, Recall: 0.9247, AUC: 0.5211\n"
          ]
        },
        {
          "output_type": "stream",
          "name": "stderr",
          "text": [
            "Epoch 20/50, Train: 100%|██████████| 8/8 [00:03<00:00,  2.40it/s]\n",
            "Epoch 20/50, Validation: 100%|██████████| 2/2 [00:00<00:00,  4.75it/s]\n",
            "Evaluate Train: 100%|██████████| 8/8 [00:01<00:00,  7.19it/s]\n",
            "Evaluate Validation: 100%|██████████| 2/2 [00:00<00:00,  5.23it/s]\n"
          ]
        },
        {
          "output_type": "stream",
          "name": "stdout",
          "text": [
            "Epoch 20/50\n",
            "Train - Loss: 4.8086, Accuracy: 1.0000, Precision: 1.0000, Recall: 1.0000, AUC: 0.5632\n",
            "Val - Loss: 5.0508, Accuracy: 0.9574, Precision: 0.9739, Recall: 0.9372, AUC: 0.5459\n"
          ]
        },
        {
          "output_type": "stream",
          "name": "stderr",
          "text": [
            "Epoch 21/50, Train: 100%|██████████| 8/8 [00:02<00:00,  2.76it/s]\n",
            "Epoch 21/50, Validation: 100%|██████████| 2/2 [00:00<00:00,  4.54it/s]\n",
            "Evaluate Train: 100%|██████████| 8/8 [00:01<00:00,  6.71it/s]\n",
            "/usr/local/lib/python3.10/dist-packages/sklearn/metrics/_classification.py:1344: UndefinedMetricWarning: Precision is ill-defined and being set to 0.0 due to no predicted samples. Use `zero_division` parameter to control this behavior.\n",
            "  _warn_prf(average, modifier, msg_start, len(result))\n",
            "/usr/local/lib/python3.10/dist-packages/sklearn/metrics/_classification.py:1344: UndefinedMetricWarning: Precision and F-score are ill-defined and being set to 0.0 in labels with no predicted samples. Use `zero_division` parameter to control this behavior.\n",
            "  _warn_prf(average, modifier, msg_start, len(result))\n",
            "/usr/local/lib/python3.10/dist-packages/sklearn/metrics/_classification.py:1344: UndefinedMetricWarning: Precision and F-score are ill-defined and being set to 0.0 in labels with no predicted samples. Use `zero_division` parameter to control this behavior.\n",
            "  _warn_prf(average, modifier, msg_start, len(result))\n",
            "/usr/local/lib/python3.10/dist-packages/sklearn/metrics/_classification.py:1344: UndefinedMetricWarning: Precision and F-score are ill-defined and being set to 0.0 in labels with no predicted samples. Use `zero_division` parameter to control this behavior.\n",
            "  _warn_prf(average, modifier, msg_start, len(result))\n",
            "Evaluate Validation: 100%|██████████| 2/2 [00:00<00:00,  3.87it/s]\n",
            "/usr/local/lib/python3.10/dist-packages/sklearn/metrics/_classification.py:1344: UndefinedMetricWarning: Precision is ill-defined and being set to 0.0 due to no predicted samples. Use `zero_division` parameter to control this behavior.\n",
            "  _warn_prf(average, modifier, msg_start, len(result))\n",
            "/usr/local/lib/python3.10/dist-packages/sklearn/metrics/_classification.py:1344: UndefinedMetricWarning: Precision and F-score are ill-defined and being set to 0.0 in labels with no predicted samples. Use `zero_division` parameter to control this behavior.\n",
            "  _warn_prf(average, modifier, msg_start, len(result))\n",
            "/usr/local/lib/python3.10/dist-packages/sklearn/metrics/_classification.py:1344: UndefinedMetricWarning: Precision and F-score are ill-defined and being set to 0.0 in labels with no predicted samples. Use `zero_division` parameter to control this behavior.\n",
            "  _warn_prf(average, modifier, msg_start, len(result))\n",
            "/usr/local/lib/python3.10/dist-packages/sklearn/metrics/_classification.py:1344: UndefinedMetricWarning: Precision and F-score are ill-defined and being set to 0.0 in labels with no predicted samples. Use `zero_division` parameter to control this behavior.\n",
            "  _warn_prf(average, modifier, msg_start, len(result))\n"
          ]
        },
        {
          "output_type": "stream",
          "name": "stdout",
          "text": [
            "Epoch 21/50\n",
            "Train - Loss: 5.6523, Accuracy: 0.5145, Precision: 0.0000, Recall: 0.0000, AUC: 0.0281\n",
            "Val - Loss: 5.5586, Accuracy: 0.5152, Precision: 0.0000, Recall: 0.0000, AUC: 0.0564\n"
          ]
        },
        {
          "output_type": "stream",
          "name": "stderr",
          "text": [
            "Epoch 22/50, Train: 100%|██████████| 8/8 [00:03<00:00,  2.26it/s]\n",
            "Epoch 22/50, Validation: 100%|██████████| 2/2 [00:00<00:00,  4.74it/s]\n",
            "Evaluate Train: 100%|██████████| 8/8 [00:01<00:00,  6.87it/s]\n",
            "Evaluate Validation: 100%|██████████| 2/2 [00:00<00:00,  5.43it/s]\n"
          ]
        },
        {
          "output_type": "stream",
          "name": "stdout",
          "text": [
            "Epoch 22/50\n",
            "Train - Loss: 5.2051, Accuracy: 0.9339, Precision: 0.9393, Recall: 0.9236, AUC: 0.3545\n",
            "Val - Loss: 5.1309, Accuracy: 0.9026, Precision: 0.9064, Recall: 0.8912, AUC: 0.3600\n"
          ]
        },
        {
          "output_type": "stream",
          "name": "stderr",
          "text": [
            "Epoch 23/50, Train: 100%|██████████| 8/8 [00:04<00:00,  1.99it/s]\n",
            "Epoch 23/50, Validation: 100%|██████████| 2/2 [00:00<00:00,  2.02it/s]\n",
            "Evaluate Train: 100%|██████████| 8/8 [00:01<00:00,  5.80it/s]\n",
            "Evaluate Validation: 100%|██████████| 2/2 [00:00<00:00,  7.47it/s]\n"
          ]
        },
        {
          "output_type": "stream",
          "name": "stdout",
          "text": [
            "Epoch 23/50\n",
            "Train - Loss: 5.0137, Accuracy: 0.9512, Precision: 0.9799, Recall: 0.9183, AUC: 0.4840\n",
            "Val - Loss: 5.0352, Accuracy: 0.9331, Precision: 0.9769, Recall: 0.8828, AUC: 0.4757\n"
          ]
        },
        {
          "output_type": "stream",
          "name": "stderr",
          "text": [
            "Epoch 24/50, Train: 100%|██████████| 8/8 [00:04<00:00,  1.83it/s]\n",
            "Epoch 24/50, Validation: 100%|██████████| 2/2 [00:00<00:00,  4.69it/s]\n",
            "Evaluate Train: 100%|██████████| 8/8 [00:02<00:00,  2.84it/s]\n",
            "Evaluate Validation: 100%|██████████| 2/2 [00:00<00:00,  7.34it/s]\n"
          ]
        },
        {
          "output_type": "stream",
          "name": "stdout",
          "text": [
            "Epoch 24/50\n",
            "Train - Loss: 4.9561, Accuracy: 0.9695, Precision: 0.9807, Recall: 0.9560, AUC: 0.7425\n",
            "Val - Loss: 5.0137, Accuracy: 0.9391, Precision: 0.9524, Recall: 0.9205, AUC: 0.7244\n"
          ]
        },
        {
          "output_type": "stream",
          "name": "stderr",
          "text": [
            "Epoch 25/50, Train: 100%|██████████| 8/8 [00:04<00:00,  1.86it/s]\n",
            "Epoch 25/50, Validation: 100%|██████████| 2/2 [00:00<00:00,  4.69it/s]\n",
            "Evaluate Train: 100%|██████████| 8/8 [00:02<00:00,  2.80it/s]\n",
            "Evaluate Validation: 100%|██████████| 2/2 [00:00<00:00,  7.29it/s]\n"
          ]
        },
        {
          "output_type": "stream",
          "name": "stdout",
          "text": [
            "Epoch 25/50\n",
            "Train - Loss: 4.9204, Accuracy: 0.9746, Precision: 0.9881, Recall: 0.9592, AUC: 0.8035\n",
            "Val - Loss: 5.0000, Accuracy: 0.9391, Precision: 0.9644, Recall: 0.9079, AUC: 0.7782\n"
          ]
        },
        {
          "output_type": "stream",
          "name": "stderr",
          "text": [
            "Epoch 26/50, Train: 100%|██████████| 8/8 [00:03<00:00,  2.19it/s]\n",
            "Epoch 26/50, Validation: 100%|██████████| 2/2 [00:00<00:00,  3.07it/s]\n",
            "Evaluate Train: 100%|██████████| 8/8 [00:02<00:00,  3.85it/s]\n",
            "Evaluate Validation: 100%|██████████| 2/2 [00:00<00:00,  7.63it/s]\n"
          ]
        },
        {
          "output_type": "stream",
          "name": "stdout",
          "text": [
            "Epoch 26/50\n",
            "Train - Loss: 4.8921, Accuracy: 0.9807, Precision: 0.9914, Recall: 0.9686, AUC: 0.6330\n",
            "Val - Loss: 5.0020, Accuracy: 0.9412, Precision: 0.9688, Recall: 0.9079, AUC: 0.6062\n",
            "Early stopping triggered.\n"
          ]
        },
        {
          "output_type": "stream",
          "name": "stderr",
          "text": [
            "Evaluate Test: 100%|██████████| 3/3 [00:00<00:00,  8.39it/s]\n"
          ]
        },
        {
          "output_type": "stream",
          "name": "stdout",
          "text": [
            "\n",
            "Accuracy: 0.9562, Precision: 0.9789, Recall: 0.9298, AUC: 0.7301\n",
            "Results saved to results/t_pretrained/ucsd/clip/classification_results.txt\n"
          ]
        },
        {
          "output_type": "stream",
          "name": "stderr",
          "text": [
            "/usr/local/lib/python3.10/dist-packages/keras/src/preprocessing/image.py:766: UserWarning: NumpyArrayIterator is set to use the data format convention \"channels_last\" (channels on axis 3), i.e. expected either 1, 3, or 4 channels on axis 3. However, it was passed an array with shape (526, 3, 224, 224) (224 channels).\n",
            "  warnings.warn(\n",
            "/usr/local/lib/python3.10/dist-packages/keras/src/preprocessing/image.py:766: UserWarning: NumpyArrayIterator is set to use the data format convention \"channels_last\" (channels on axis 3), i.e. expected either 1, 3, or 4 channels on axis 3. However, it was passed an array with shape (132, 3, 224, 224) (224 channels).\n",
            "  warnings.warn(\n",
            "/usr/local/lib/python3.10/dist-packages/keras/src/preprocessing/image.py:766: UserWarning: NumpyArrayIterator is set to use the data format convention \"channels_last\" (channels on axis 3), i.e. expected either 1, 3, or 4 channels on axis 3. However, it was passed an array with shape (165, 3, 224, 224) (224 channels).\n",
            "  warnings.warn(\n",
            "WARNING:matplotlib.image:Clipping input data to the valid range for imshow with RGB data ([0..1] for floats or [0..255] for integers).\n",
            "WARNING:matplotlib.image:Clipping input data to the valid range for imshow with RGB data ([0..1] for floats or [0..255] for integers).\n",
            "WARNING:matplotlib.image:Clipping input data to the valid range for imshow with RGB data ([0..1] for floats or [0..255] for integers).\n",
            "WARNING:matplotlib.image:Clipping input data to the valid range for imshow with RGB data ([0..1] for floats or [0..255] for integers).\n",
            "WARNING:matplotlib.image:Clipping input data to the valid range for imshow with RGB data ([0..1] for floats or [0..255] for integers).\n",
            "WARNING:matplotlib.image:Clipping input data to the valid range for imshow with RGB data ([0..1] for floats or [0..255] for integers).\n"
          ]
        },
        {
          "output_type": "stream",
          "name": "stdout",
          "text": [
            "Results saved to results/visualization/t_pretrained/ori/clip/images/cxr_images.png\n",
            "NVIDIA library configured successfully.\n"
          ]
        },
        {
          "output_type": "stream",
          "name": "stderr",
          "text": [
            "Epoch 1/50, Train: 100%|██████████| 3/3 [00:00<00:00,  3.59it/s]\n",
            "Epoch 1/50, Validation: 100%|██████████| 1/1 [00:00<00:00,  1.14it/s]\n",
            "Evaluate Train: 100%|██████████| 3/3 [00:01<00:00,  1.59it/s]\n",
            "/usr/local/lib/python3.10/dist-packages/sklearn/metrics/_classification.py:1344: UndefinedMetricWarning: Precision and F-score are ill-defined and being set to 0.0 in labels with no predicted samples. Use `zero_division` parameter to control this behavior.\n",
            "  _warn_prf(average, modifier, msg_start, len(result))\n",
            "/usr/local/lib/python3.10/dist-packages/sklearn/metrics/_classification.py:1344: UndefinedMetricWarning: Precision and F-score are ill-defined and being set to 0.0 in labels with no predicted samples. Use `zero_division` parameter to control this behavior.\n",
            "  _warn_prf(average, modifier, msg_start, len(result))\n",
            "/usr/local/lib/python3.10/dist-packages/sklearn/metrics/_classification.py:1344: UndefinedMetricWarning: Precision and F-score are ill-defined and being set to 0.0 in labels with no predicted samples. Use `zero_division` parameter to control this behavior.\n",
            "  _warn_prf(average, modifier, msg_start, len(result))\n",
            "Evaluate Validation: 100%|██████████| 1/1 [00:00<00:00, 13.18it/s]\n",
            "/usr/local/lib/python3.10/dist-packages/sklearn/metrics/_classification.py:1344: UndefinedMetricWarning: Precision and F-score are ill-defined and being set to 0.0 in labels with no predicted samples. Use `zero_division` parameter to control this behavior.\n",
            "  _warn_prf(average, modifier, msg_start, len(result))\n",
            "/usr/local/lib/python3.10/dist-packages/sklearn/metrics/_classification.py:1344: UndefinedMetricWarning: Precision and F-score are ill-defined and being set to 0.0 in labels with no predicted samples. Use `zero_division` parameter to control this behavior.\n",
            "  _warn_prf(average, modifier, msg_start, len(result))\n",
            "/usr/local/lib/python3.10/dist-packages/sklearn/metrics/_classification.py:1344: UndefinedMetricWarning: Precision and F-score are ill-defined and being set to 0.0 in labels with no predicted samples. Use `zero_division` parameter to control this behavior.\n",
            "  _warn_prf(average, modifier, msg_start, len(result))\n"
          ]
        },
        {
          "output_type": "stream",
          "name": "stdout",
          "text": [
            "Epoch 1/50\n",
            "Train - Loss: 5.1081, Accuracy: 0.4905, Precision: 0.4905, Recall: 1.0000, AUC: 0.7151\n",
            "Val - Loss: 5.0039, Accuracy: 0.4924, Precision: 0.4924, Recall: 1.0000, AUC: 0.7312\n"
          ]
        },
        {
          "output_type": "stream",
          "name": "stderr",
          "text": [
            "Epoch 2/50, Train: 100%|██████████| 3/3 [00:01<00:00,  1.69it/s]\n",
            "Epoch 2/50, Validation: 100%|██████████| 1/1 [00:00<00:00,  8.38it/s]\n",
            "Evaluate Train: 100%|██████████| 3/3 [00:00<00:00, 10.06it/s]\n",
            "/usr/local/lib/python3.10/dist-packages/sklearn/metrics/_classification.py:1344: UndefinedMetricWarning: Precision is ill-defined and being set to 0.0 due to no predicted samples. Use `zero_division` parameter to control this behavior.\n",
            "  _warn_prf(average, modifier, msg_start, len(result))\n",
            "/usr/local/lib/python3.10/dist-packages/sklearn/metrics/_classification.py:1344: UndefinedMetricWarning: Precision and F-score are ill-defined and being set to 0.0 in labels with no predicted samples. Use `zero_division` parameter to control this behavior.\n",
            "  _warn_prf(average, modifier, msg_start, len(result))\n",
            "/usr/local/lib/python3.10/dist-packages/sklearn/metrics/_classification.py:1344: UndefinedMetricWarning: Precision and F-score are ill-defined and being set to 0.0 in labels with no predicted samples. Use `zero_division` parameter to control this behavior.\n",
            "  _warn_prf(average, modifier, msg_start, len(result))\n",
            "/usr/local/lib/python3.10/dist-packages/sklearn/metrics/_classification.py:1344: UndefinedMetricWarning: Precision and F-score are ill-defined and being set to 0.0 in labels with no predicted samples. Use `zero_division` parameter to control this behavior.\n",
            "  _warn_prf(average, modifier, msg_start, len(result))\n",
            "Evaluate Validation: 100%|██████████| 1/1 [00:00<00:00, 13.78it/s]\n",
            "/usr/local/lib/python3.10/dist-packages/sklearn/metrics/_classification.py:1344: UndefinedMetricWarning: Precision is ill-defined and being set to 0.0 due to no predicted samples. Use `zero_division` parameter to control this behavior.\n",
            "  _warn_prf(average, modifier, msg_start, len(result))\n",
            "/usr/local/lib/python3.10/dist-packages/sklearn/metrics/_classification.py:1344: UndefinedMetricWarning: Precision and F-score are ill-defined and being set to 0.0 in labels with no predicted samples. Use `zero_division` parameter to control this behavior.\n",
            "  _warn_prf(average, modifier, msg_start, len(result))\n",
            "/usr/local/lib/python3.10/dist-packages/sklearn/metrics/_classification.py:1344: UndefinedMetricWarning: Precision and F-score are ill-defined and being set to 0.0 in labels with no predicted samples. Use `zero_division` parameter to control this behavior.\n",
            "  _warn_prf(average, modifier, msg_start, len(result))\n",
            "/usr/local/lib/python3.10/dist-packages/sklearn/metrics/_classification.py:1344: UndefinedMetricWarning: Precision and F-score are ill-defined and being set to 0.0 in labels with no predicted samples. Use `zero_division` parameter to control this behavior.\n",
            "  _warn_prf(average, modifier, msg_start, len(result))\n"
          ]
        },
        {
          "output_type": "stream",
          "name": "stdout",
          "text": [
            "Epoch 2/50\n",
            "Train - Loss: 4.6484, Accuracy: 0.5095, Precision: 0.0000, Recall: 0.0000, AUC: 0.1604\n",
            "Val - Loss: 4.8867, Accuracy: 0.5076, Precision: 0.0000, Recall: 0.0000, AUC: 0.1216\n"
          ]
        },
        {
          "output_type": "stream",
          "name": "stderr",
          "text": [
            "Epoch 3/50, Train: 100%|██████████| 3/3 [00:00<00:00,  3.68it/s]\n",
            "Epoch 3/50, Validation: 100%|██████████| 1/1 [00:00<00:00,  1.15it/s]\n",
            "Evaluate Train: 100%|██████████| 3/3 [00:01<00:00,  2.23it/s]\n",
            "/usr/local/lib/python3.10/dist-packages/sklearn/metrics/_classification.py:1344: UndefinedMetricWarning: Precision and F-score are ill-defined and being set to 0.0 in labels with no predicted samples. Use `zero_division` parameter to control this behavior.\n",
            "  _warn_prf(average, modifier, msg_start, len(result))\n",
            "/usr/local/lib/python3.10/dist-packages/sklearn/metrics/_classification.py:1344: UndefinedMetricWarning: Precision and F-score are ill-defined and being set to 0.0 in labels with no predicted samples. Use `zero_division` parameter to control this behavior.\n",
            "  _warn_prf(average, modifier, msg_start, len(result))\n",
            "/usr/local/lib/python3.10/dist-packages/sklearn/metrics/_classification.py:1344: UndefinedMetricWarning: Precision and F-score are ill-defined and being set to 0.0 in labels with no predicted samples. Use `zero_division` parameter to control this behavior.\n",
            "  _warn_prf(average, modifier, msg_start, len(result))\n",
            "Evaluate Validation: 100%|██████████| 1/1 [00:00<00:00, 13.13it/s]\n",
            "/usr/local/lib/python3.10/dist-packages/sklearn/metrics/_classification.py:1344: UndefinedMetricWarning: Precision and F-score are ill-defined and being set to 0.0 in labels with no predicted samples. Use `zero_division` parameter to control this behavior.\n",
            "  _warn_prf(average, modifier, msg_start, len(result))\n",
            "/usr/local/lib/python3.10/dist-packages/sklearn/metrics/_classification.py:1344: UndefinedMetricWarning: Precision and F-score are ill-defined and being set to 0.0 in labels with no predicted samples. Use `zero_division` parameter to control this behavior.\n",
            "  _warn_prf(average, modifier, msg_start, len(result))\n",
            "/usr/local/lib/python3.10/dist-packages/sklearn/metrics/_classification.py:1344: UndefinedMetricWarning: Precision and F-score are ill-defined and being set to 0.0 in labels with no predicted samples. Use `zero_division` parameter to control this behavior.\n",
            "  _warn_prf(average, modifier, msg_start, len(result))\n"
          ]
        },
        {
          "output_type": "stream",
          "name": "stdout",
          "text": [
            "Epoch 3/50\n",
            "Train - Loss: 4.5638, Accuracy: 0.4905, Precision: 0.4905, Recall: 1.0000, AUC: 0.8668\n",
            "Val - Loss: 4.8594, Accuracy: 0.4924, Precision: 0.4924, Recall: 1.0000, AUC: 0.8659\n"
          ]
        },
        {
          "output_type": "stream",
          "name": "stderr",
          "text": [
            "Epoch 4/50, Train: 100%|██████████| 3/3 [00:01<00:00,  2.17it/s]\n",
            "Epoch 4/50, Validation: 100%|██████████| 1/1 [00:00<00:00,  8.69it/s]\n",
            "Evaluate Train: 100%|██████████| 3/3 [00:00<00:00, 10.12it/s]\n",
            "Evaluate Validation: 100%|██████████| 1/1 [00:00<00:00, 13.83it/s]\n",
            "/usr/local/lib/python3.10/dist-packages/sklearn/metrics/_classification.py:1344: UndefinedMetricWarning: Precision and F-score are ill-defined and being set to 0.0 in labels with no predicted samples. Use `zero_division` parameter to control this behavior.\n",
            "  _warn_prf(average, modifier, msg_start, len(result))\n",
            "/usr/local/lib/python3.10/dist-packages/sklearn/metrics/_classification.py:1344: UndefinedMetricWarning: Precision and F-score are ill-defined and being set to 0.0 in labels with no predicted samples. Use `zero_division` parameter to control this behavior.\n",
            "  _warn_prf(average, modifier, msg_start, len(result))\n",
            "/usr/local/lib/python3.10/dist-packages/sklearn/metrics/_classification.py:1344: UndefinedMetricWarning: Precision and F-score are ill-defined and being set to 0.0 in labels with no predicted samples. Use `zero_division` parameter to control this behavior.\n",
            "  _warn_prf(average, modifier, msg_start, len(result))\n"
          ]
        },
        {
          "output_type": "stream",
          "name": "stdout",
          "text": [
            "Epoch 4/50\n",
            "Train - Loss: 4.5553, Accuracy: 0.4962, Precision: 0.4933, Recall: 1.0000, AUC: 0.8661\n",
            "Val - Loss: 4.8281, Accuracy: 0.4924, Precision: 0.4924, Recall: 1.0000, AUC: 0.8682\n"
          ]
        },
        {
          "output_type": "stream",
          "name": "stderr",
          "text": [
            "Epoch 5/50, Train: 100%|██████████| 3/3 [00:00<00:00,  3.63it/s]\n",
            "Epoch 5/50, Validation: 100%|██████████| 1/1 [00:00<00:00,  8.56it/s]\n",
            "Evaluate Train: 100%|██████████| 3/3 [00:00<00:00, 10.14it/s]\n",
            "Evaluate Validation: 100%|██████████| 1/1 [00:00<00:00, 13.71it/s]\n"
          ]
        },
        {
          "output_type": "stream",
          "name": "stdout",
          "text": [
            "Epoch 5/50\n",
            "Train - Loss: 4.5039, Accuracy: 0.8137, Precision: 0.9762, Recall: 0.6357, AUC: 0.3232\n",
            "Val - Loss: 4.7891, Accuracy: 0.8258, Precision: 0.9773, Recall: 0.6615, AUC: 0.3522\n"
          ]
        },
        {
          "output_type": "stream",
          "name": "stderr",
          "text": [
            "Epoch 6/50, Train: 100%|██████████| 3/3 [00:01<00:00,  2.36it/s]\n",
            "Epoch 6/50, Validation: 100%|██████████| 1/1 [00:00<00:00,  8.77it/s]\n",
            "Evaluate Train: 100%|██████████| 3/3 [00:00<00:00,  6.69it/s]\n",
            "Evaluate Validation: 100%|██████████| 1/1 [00:00<00:00, 13.43it/s]\n"
          ]
        },
        {
          "output_type": "stream",
          "name": "stdout",
          "text": [
            "Epoch 6/50\n",
            "Train - Loss: 4.4440, Accuracy: 0.8251, Precision: 0.9560, Recall: 0.6744, AUC: 0.4908\n",
            "Val - Loss: 4.6914, Accuracy: 0.8333, Precision: 0.9778, Recall: 0.6769, AUC: 0.4830\n"
          ]
        },
        {
          "output_type": "stream",
          "name": "stderr",
          "text": [
            "Epoch 7/50, Train: 100%|██████████| 3/3 [00:02<00:00,  1.46it/s]\n",
            "Epoch 7/50, Validation: 100%|██████████| 1/1 [00:00<00:00,  8.49it/s]\n",
            "Evaluate Train: 100%|██████████| 3/3 [00:00<00:00, 10.09it/s]\n",
            "Evaluate Validation: 100%|██████████| 1/1 [00:00<00:00, 13.74it/s]\n"
          ]
        },
        {
          "output_type": "stream",
          "name": "stdout",
          "text": [
            "Epoch 7/50\n",
            "Train - Loss: 4.3672, Accuracy: 0.8099, Precision: 0.8990, Recall: 0.6899, AUC: 0.7002\n",
            "Val - Loss: 4.6484, Accuracy: 0.8409, Precision: 0.9400, Recall: 0.7231, AUC: 0.7313\n"
          ]
        },
        {
          "output_type": "stream",
          "name": "stderr",
          "text": [
            "Epoch 8/50, Train: 100%|██████████| 3/3 [00:02<00:00,  1.48it/s]\n",
            "Epoch 8/50, Validation: 100%|██████████| 1/1 [00:00<00:00,  8.60it/s]\n",
            "Evaluate Train: 100%|██████████| 3/3 [00:00<00:00, 10.07it/s]\n",
            "Evaluate Validation: 100%|██████████| 1/1 [00:00<00:00, 13.43it/s]\n"
          ]
        },
        {
          "output_type": "stream",
          "name": "stdout",
          "text": [
            "Epoch 8/50\n",
            "Train - Loss: 4.3893, Accuracy: 0.8308, Precision: 0.8930, Recall: 0.7442, AUC: 0.7480\n",
            "Val - Loss: 4.6250, Accuracy: 0.8258, Precision: 0.8750, Recall: 0.7538, AUC: 0.7990\n"
          ]
        },
        {
          "output_type": "stream",
          "name": "stderr",
          "text": [
            "Epoch 9/50, Train: 100%|██████████| 3/3 [00:01<00:00,  2.12it/s]\n",
            "Epoch 9/50, Validation: 100%|██████████| 1/1 [00:00<00:00,  8.57it/s]\n",
            "Evaluate Train: 100%|██████████| 3/3 [00:00<00:00,  9.73it/s]\n",
            "Evaluate Validation: 100%|██████████| 1/1 [00:00<00:00, 13.41it/s]\n"
          ]
        },
        {
          "output_type": "stream",
          "name": "stdout",
          "text": [
            "Epoch 9/50\n",
            "Train - Loss: 4.3398, Accuracy: 0.8365, Precision: 0.8468, Recall: 0.8140, AUC: 0.7842\n",
            "Val - Loss: 4.6094, Accuracy: 0.7803, Precision: 0.7727, Recall: 0.7846, AUC: 0.8129\n"
          ]
        },
        {
          "output_type": "stream",
          "name": "stderr",
          "text": [
            "Epoch 10/50, Train: 100%|██████████| 3/3 [00:01<00:00,  2.31it/s]\n",
            "Epoch 10/50, Validation: 100%|██████████| 1/1 [00:00<00:00,  8.58it/s]\n",
            "Evaluate Train: 100%|██████████| 3/3 [00:00<00:00,  9.91it/s]\n",
            "Evaluate Validation: 100%|██████████| 1/1 [00:00<00:00, 13.57it/s]\n"
          ]
        },
        {
          "output_type": "stream",
          "name": "stdout",
          "text": [
            "Epoch 10/50\n",
            "Train - Loss: 4.2826, Accuracy: 0.8555, Precision: 0.8991, Recall: 0.7946, AUC: 0.7691\n",
            "Val - Loss: 4.5938, Accuracy: 0.8258, Precision: 0.8500, Recall: 0.7846, AUC: 0.8166\n"
          ]
        },
        {
          "output_type": "stream",
          "name": "stderr",
          "text": [
            "Epoch 11/50, Train: 100%|██████████| 3/3 [00:01<00:00,  2.12it/s]\n",
            "Epoch 11/50, Validation: 100%|██████████| 1/1 [00:00<00:00,  8.42it/s]\n",
            "Evaluate Train: 100%|██████████| 3/3 [00:00<00:00,  9.95it/s]\n",
            "Evaluate Validation: 100%|██████████| 1/1 [00:00<00:00, 13.49it/s]\n"
          ]
        },
        {
          "output_type": "stream",
          "name": "stdout",
          "text": [
            "Epoch 11/50\n",
            "Train - Loss: 4.2513, Accuracy: 0.8631, Precision: 0.9515, Recall: 0.7597, AUC: 0.7278\n",
            "Val - Loss: 4.5625, Accuracy: 0.8561, Precision: 0.9600, Recall: 0.7385, AUC: 0.7599\n"
          ]
        },
        {
          "output_type": "stream",
          "name": "stderr",
          "text": [
            "Epoch 12/50, Train: 100%|██████████| 3/3 [00:01<00:00,  2.18it/s]\n",
            "Epoch 12/50, Validation: 100%|██████████| 1/1 [00:00<00:00,  8.65it/s]\n",
            "Evaluate Train: 100%|██████████| 3/3 [00:00<00:00,  9.92it/s]\n",
            "Evaluate Validation: 100%|██████████| 1/1 [00:00<00:00, 13.14it/s]\n"
          ]
        },
        {
          "output_type": "stream",
          "name": "stdout",
          "text": [
            "Epoch 12/50\n",
            "Train - Loss: 4.1654, Accuracy: 0.8536, Precision: 0.9945, Recall: 0.7054, AUC: 0.6241\n",
            "Val - Loss: 4.6172, Accuracy: 0.8409, Precision: 0.9783, Recall: 0.6923, AUC: 0.6666\n"
          ]
        },
        {
          "output_type": "stream",
          "name": "stderr",
          "text": [
            "Epoch 13/50, Train: 100%|██████████| 3/3 [00:00<00:00,  3.60it/s]\n",
            "Epoch 13/50, Validation: 100%|██████████| 1/1 [00:00<00:00,  8.17it/s]\n",
            "Evaluate Train: 100%|██████████| 3/3 [00:00<00:00, 10.15it/s]\n",
            "Evaluate Validation: 100%|██████████| 1/1 [00:00<00:00, 13.26it/s]\n"
          ]
        },
        {
          "output_type": "stream",
          "name": "stdout",
          "text": [
            "Epoch 13/50\n",
            "Train - Loss: 4.2520, Accuracy: 0.7928, Precision: 0.7159, Recall: 0.9574, AUC: 0.9104\n",
            "Val - Loss: 4.7070, Accuracy: 0.7348, Precision: 0.6667, Recall: 0.9231, AUC: 0.8549\n"
          ]
        },
        {
          "output_type": "stream",
          "name": "stderr",
          "text": [
            "Epoch 14/50, Train: 100%|██████████| 3/3 [00:00<00:00,  3.51it/s]\n",
            "Epoch 14/50, Validation: 100%|██████████| 1/1 [00:00<00:00,  8.73it/s]\n",
            "Evaluate Train: 100%|██████████| 3/3 [00:00<00:00, 10.13it/s]\n",
            "Evaluate Validation: 100%|██████████| 1/1 [00:00<00:00, 13.56it/s]\n"
          ]
        },
        {
          "output_type": "stream",
          "name": "stdout",
          "text": [
            "Epoch 14/50\n",
            "Train - Loss: 4.1790, Accuracy: 0.8251, Precision: 0.9940, Recall: 0.6473, AUC: 0.2389\n",
            "Val - Loss: 4.6562, Accuracy: 0.8258, Precision: 1.0000, Recall: 0.6462, AUC: 0.4048\n"
          ]
        },
        {
          "output_type": "stream",
          "name": "stderr",
          "text": [
            "Epoch 15/50, Train: 100%|██████████| 3/3 [00:00<00:00,  3.63it/s]\n",
            "Epoch 15/50, Validation: 100%|██████████| 1/1 [00:00<00:00,  8.55it/s]\n",
            "Evaluate Train: 100%|██████████| 3/3 [00:00<00:00, 10.10it/s]\n",
            "Evaluate Validation: 100%|██████████| 1/1 [00:00<00:00, 13.34it/s]\n"
          ]
        },
        {
          "output_type": "stream",
          "name": "stdout",
          "text": [
            "Epoch 15/50\n",
            "Train - Loss: 4.2344, Accuracy: 0.8213, Precision: 0.7455, Recall: 0.9651, AUC: 0.9356\n",
            "Val - Loss: 4.6641, Accuracy: 0.7121, Precision: 0.6517, Recall: 0.8923, AUC: 0.8656\n"
          ]
        },
        {
          "output_type": "stream",
          "name": "stderr",
          "text": [
            "Epoch 16/50, Train: 100%|██████████| 3/3 [00:00<00:00,  3.62it/s]\n",
            "Epoch 16/50, Validation: 100%|██████████| 1/1 [00:00<00:00,  8.57it/s]\n",
            "Evaluate Train: 100%|██████████| 3/3 [00:00<00:00,  9.83it/s]\n",
            "Evaluate Validation: 100%|██████████| 1/1 [00:00<00:00, 12.96it/s]\n"
          ]
        },
        {
          "output_type": "stream",
          "name": "stdout",
          "text": [
            "Epoch 16/50\n",
            "Train - Loss: 4.1693, Accuracy: 0.8916, Precision: 0.9951, Recall: 0.7829, AUC: 0.6375\n",
            "Val - Loss: 4.5938, Accuracy: 0.8409, Precision: 0.9583, Recall: 0.7077, AUC: 0.7279\n"
          ]
        },
        {
          "output_type": "stream",
          "name": "stderr",
          "text": [
            "Epoch 17/50, Train: 100%|██████████| 3/3 [00:00<00:00,  3.68it/s]\n",
            "Epoch 17/50, Validation: 100%|██████████| 1/1 [00:00<00:00,  8.47it/s]\n",
            "Evaluate Train: 100%|██████████| 3/3 [00:01<00:00,  1.73it/s]\n",
            "Evaluate Validation: 100%|██████████| 1/1 [00:00<00:00, 12.73it/s]\n"
          ]
        },
        {
          "output_type": "stream",
          "name": "stdout",
          "text": [
            "Epoch 17/50\n",
            "Train - Loss: 4.1829, Accuracy: 0.9373, Precision: 0.9956, Recall: 0.8760, AUC: 0.7218\n",
            "Val - Loss: 4.5820, Accuracy: 0.8409, Precision: 0.9074, Recall: 0.7538, AUC: 0.7644\n"
          ]
        },
        {
          "output_type": "stream",
          "name": "stderr",
          "text": [
            "Epoch 18/50, Train: 100%|██████████| 3/3 [00:01<00:00,  2.90it/s]\n",
            "Epoch 18/50, Validation: 100%|██████████| 1/1 [00:00<00:00,  8.63it/s]\n",
            "Evaluate Train: 100%|██████████| 3/3 [00:00<00:00, 10.09it/s]\n",
            "Evaluate Validation: 100%|██████████| 1/1 [00:00<00:00, 13.53it/s]\n"
          ]
        },
        {
          "output_type": "stream",
          "name": "stdout",
          "text": [
            "Epoch 18/50\n",
            "Train - Loss: 4.1276, Accuracy: 0.9430, Precision: 0.9222, Recall: 0.9651, AUC: 0.8879\n",
            "Val - Loss: 4.6406, Accuracy: 0.8030, Precision: 0.7671, Recall: 0.8615, AUC: 0.8388\n"
          ]
        },
        {
          "output_type": "stream",
          "name": "stderr",
          "text": [
            "Epoch 19/50, Train: 100%|██████████| 3/3 [00:01<00:00,  2.05it/s]\n",
            "Epoch 19/50, Validation: 100%|██████████| 1/1 [00:00<00:00,  8.69it/s]\n",
            "Evaluate Train: 100%|██████████| 3/3 [00:00<00:00, 10.10it/s]\n",
            "Evaluate Validation: 100%|██████████| 1/1 [00:00<00:00, 13.65it/s]\n"
          ]
        },
        {
          "output_type": "stream",
          "name": "stdout",
          "text": [
            "Epoch 19/50\n",
            "Train - Loss: 4.0326, Accuracy: 0.8840, Precision: 0.9950, Recall: 0.7674, AUC: 0.3939\n",
            "Val - Loss: 4.7344, Accuracy: 0.8333, Precision: 0.9778, Recall: 0.6769, AUC: 0.5727\n"
          ]
        },
        {
          "output_type": "stream",
          "name": "stderr",
          "text": [
            "Epoch 20/50, Train: 100%|██████████| 3/3 [00:01<00:00,  2.39it/s]\n",
            "Epoch 20/50, Validation: 100%|██████████| 1/1 [00:00<00:00,  8.62it/s]\n",
            "Evaluate Train: 100%|██████████| 3/3 [00:00<00:00, 10.11it/s]\n",
            "Evaluate Validation: 100%|██████████| 1/1 [00:00<00:00, 13.30it/s]\n"
          ]
        },
        {
          "output_type": "stream",
          "name": "stdout",
          "text": [
            "Epoch 20/50\n",
            "Train - Loss: 4.0664, Accuracy: 0.8422, Precision: 0.7566, Recall: 1.0000, AUC: 0.9905\n",
            "Val - Loss: 4.8984, Accuracy: 0.6439, Precision: 0.5900, Recall: 0.9077, AUC: 0.8596\n"
          ]
        },
        {
          "output_type": "stream",
          "name": "stderr",
          "text": [
            "Epoch 21/50, Train: 100%|██████████| 3/3 [00:00<00:00,  3.50it/s]\n",
            "Epoch 21/50, Validation: 100%|██████████| 1/1 [00:00<00:00,  8.66it/s]\n",
            "Evaluate Train: 100%|██████████| 3/3 [00:00<00:00, 10.04it/s]\n",
            "Evaluate Validation: 100%|██████████| 1/1 [00:00<00:00, 13.43it/s]\n"
          ]
        },
        {
          "output_type": "stream",
          "name": "stdout",
          "text": [
            "Epoch 21/50\n",
            "Train - Loss: 4.0443, Accuracy: 0.9125, Precision: 1.0000, Recall: 0.8217, AUC: 0.3149\n",
            "Val - Loss: 4.7617, Accuracy: 0.8409, Precision: 0.9783, Recall: 0.6923, AUC: 0.5279\n"
          ]
        },
        {
          "output_type": "stream",
          "name": "stderr",
          "text": [
            "Epoch 22/50, Train: 100%|██████████| 3/3 [00:00<00:00,  3.37it/s]\n",
            "Epoch 22/50, Validation: 100%|██████████| 1/1 [00:00<00:00,  8.57it/s]\n",
            "Evaluate Train: 100%|██████████| 3/3 [00:00<00:00,  9.95it/s]\n",
            "Evaluate Validation: 100%|██████████| 1/1 [00:00<00:00, 13.24it/s]\n"
          ]
        },
        {
          "output_type": "stream",
          "name": "stdout",
          "text": [
            "Epoch 22/50\n",
            "Train - Loss: 4.0221, Accuracy: 0.9848, Precision: 0.9960, Recall: 0.9729, AUC: 0.8614\n",
            "Val - Loss: 4.6484, Accuracy: 0.8258, Precision: 0.8281, Recall: 0.8154, AUC: 0.8197\n"
          ]
        },
        {
          "output_type": "stream",
          "name": "stderr",
          "text": [
            "Epoch 23/50, Train: 100%|██████████| 3/3 [00:00<00:00,  3.58it/s]\n",
            "Epoch 23/50, Validation: 100%|██████████| 1/1 [00:00<00:00,  8.65it/s]\n",
            "Evaluate Train: 100%|██████████| 3/3 [00:00<00:00, 10.00it/s]\n",
            "Evaluate Validation: 100%|██████████| 1/1 [00:00<00:00, 13.38it/s]\n"
          ]
        },
        {
          "output_type": "stream",
          "name": "stdout",
          "text": [
            "Epoch 23/50\n",
            "Train - Loss: 3.9935, Accuracy: 0.9905, Precision: 1.0000, Recall: 0.9806, AUC: 0.8833\n",
            "Val - Loss: 4.6641, Accuracy: 0.8258, Precision: 0.8281, Recall: 0.8154, AUC: 0.8096\n"
          ]
        },
        {
          "output_type": "stream",
          "name": "stderr",
          "text": [
            "Epoch 24/50, Train: 100%|██████████| 3/3 [00:00<00:00,  3.66it/s]\n",
            "Epoch 24/50, Validation: 100%|██████████| 1/1 [00:00<00:00,  8.60it/s]\n",
            "Evaluate Train: 100%|██████████| 3/3 [00:00<00:00,  9.95it/s]\n",
            "Evaluate Validation: 100%|██████████| 1/1 [00:00<00:00, 13.31it/s]\n"
          ]
        },
        {
          "output_type": "stream",
          "name": "stdout",
          "text": [
            "Epoch 24/50\n",
            "Train - Loss: 3.9473, Accuracy: 0.9791, Precision: 1.0000, Recall: 0.9574, AUC: 0.6206\n",
            "Val - Loss: 4.8047, Accuracy: 0.8258, Precision: 0.9200, Recall: 0.7077, AUC: 0.6855\n"
          ]
        },
        {
          "output_type": "stream",
          "name": "stderr",
          "text": [
            "Epoch 25/50, Train: 100%|██████████| 3/3 [00:00<00:00,  3.66it/s]\n",
            "Epoch 25/50, Validation: 100%|██████████| 1/1 [00:00<00:00,  8.58it/s]\n",
            "Evaluate Train: 100%|██████████| 3/3 [00:00<00:00, 10.08it/s]\n",
            "Evaluate Validation: 100%|██████████| 1/1 [00:00<00:00, 13.39it/s]\n"
          ]
        },
        {
          "output_type": "stream",
          "name": "stdout",
          "text": [
            "Epoch 25/50\n",
            "Train - Loss: 3.9430, Accuracy: 0.9981, Precision: 1.0000, Recall: 0.9961, AUC: 0.8779\n",
            "Val - Loss: 4.7539, Accuracy: 0.8258, Precision: 0.8750, Recall: 0.7538, AUC: 0.7785\n"
          ]
        },
        {
          "output_type": "stream",
          "name": "stderr",
          "text": [
            "Epoch 26/50, Train: 100%|██████████| 3/3 [00:00<00:00,  3.64it/s]\n",
            "Epoch 26/50, Validation: 100%|██████████| 1/1 [00:00<00:00,  8.50it/s]\n",
            "Evaluate Train: 100%|██████████| 3/3 [00:00<00:00, 10.03it/s]\n",
            "Evaluate Validation: 100%|██████████| 1/1 [00:00<00:00, 13.47it/s]\n"
          ]
        },
        {
          "output_type": "stream",
          "name": "stdout",
          "text": [
            "Epoch 26/50\n",
            "Train - Loss: 3.9167, Accuracy: 1.0000, Precision: 1.0000, Recall: 1.0000, AUC: 0.9771\n",
            "Val - Loss: 4.8125, Accuracy: 0.7500, Precision: 0.7222, Recall: 0.8000, AUC: 0.8000\n"
          ]
        },
        {
          "output_type": "stream",
          "name": "stderr",
          "text": [
            "Epoch 27/50, Train: 100%|██████████| 3/3 [00:01<00:00,  2.23it/s]\n",
            "Epoch 27/50, Validation: 100%|██████████| 1/1 [00:00<00:00,  8.29it/s]\n",
            "Evaluate Train: 100%|██████████| 3/3 [00:00<00:00, 10.02it/s]\n",
            "Evaluate Validation: 100%|██████████| 1/1 [00:00<00:00, 13.41it/s]\n"
          ]
        },
        {
          "output_type": "stream",
          "name": "stdout",
          "text": [
            "Epoch 27/50\n",
            "Train - Loss: 3.9124, Accuracy: 1.0000, Precision: 1.0000, Recall: 1.0000, AUC: 0.8047\n",
            "Val - Loss: 4.8672, Accuracy: 0.8258, Precision: 0.9200, Recall: 0.7077, AUC: 0.7549\n"
          ]
        },
        {
          "output_type": "stream",
          "name": "stderr",
          "text": [
            "Epoch 28/50, Train: 100%|██████████| 3/3 [00:00<00:00,  3.57it/s]\n",
            "Epoch 28/50, Validation: 100%|██████████| 1/1 [00:00<00:00,  8.63it/s]\n",
            "Evaluate Train: 100%|██████████| 3/3 [00:00<00:00,  5.33it/s]\n",
            "Evaluate Validation: 100%|██████████| 1/1 [00:00<00:00, 13.47it/s]\n"
          ]
        },
        {
          "output_type": "stream",
          "name": "stdout",
          "text": [
            "Epoch 28/50\n",
            "Train - Loss: 3.9115, Accuracy: 0.9981, Precision: 1.0000, Recall: 0.9961, AUC: 0.4369\n",
            "Val - Loss: 5.0469, Accuracy: 0.8106, Precision: 0.9167, Recall: 0.6769, AUC: 0.6414\n"
          ]
        },
        {
          "output_type": "stream",
          "name": "stderr",
          "text": [
            "Epoch 29/50, Train: 100%|██████████| 3/3 [00:02<00:00,  1.39it/s]\n",
            "Epoch 29/50, Validation: 100%|██████████| 1/1 [00:00<00:00,  8.11it/s]\n",
            "Evaluate Train: 100%|██████████| 3/3 [00:00<00:00,  9.93it/s]\n",
            "Evaluate Validation: 100%|██████████| 1/1 [00:00<00:00, 13.52it/s]\n"
          ]
        },
        {
          "output_type": "stream",
          "name": "stdout",
          "text": [
            "Epoch 29/50\n",
            "Train - Loss: 3.9043, Accuracy: 1.0000, Precision: 1.0000, Recall: 1.0000, AUC: 0.5219\n",
            "Val - Loss: 5.0195, Accuracy: 0.8182, Precision: 0.9184, Recall: 0.6923, AUC: 0.6661\n"
          ]
        },
        {
          "output_type": "stream",
          "name": "stderr",
          "text": [
            "Epoch 30/50, Train: 100%|██████████| 3/3 [00:00<00:00,  3.62it/s]\n",
            "Epoch 30/50, Validation: 100%|██████████| 1/1 [00:00<00:00,  8.60it/s]\n",
            "Evaluate Train: 100%|██████████| 3/3 [00:00<00:00,  6.09it/s]\n",
            "Evaluate Validation: 100%|██████████| 1/1 [00:00<00:00, 13.29it/s]\n"
          ]
        },
        {
          "output_type": "stream",
          "name": "stdout",
          "text": [
            "Epoch 30/50\n",
            "Train - Loss: 3.9245, Accuracy: 1.0000, Precision: 1.0000, Recall: 1.0000, AUC: 0.7063\n",
            "Val - Loss: 4.9531, Accuracy: 0.8258, Precision: 0.9038, Recall: 0.7231, AUC: 0.7309\n"
          ]
        },
        {
          "output_type": "stream",
          "name": "stderr",
          "text": [
            "Epoch 31/50, Train: 100%|██████████| 3/3 [00:00<00:00,  3.64it/s]\n",
            "Epoch 31/50, Validation: 100%|██████████| 1/1 [00:00<00:00,  7.89it/s]\n",
            "Evaluate Train: 100%|██████████| 3/3 [00:00<00:00,  6.20it/s]\n",
            "Evaluate Validation: 100%|██████████| 1/1 [00:00<00:00, 13.41it/s]\n"
          ]
        },
        {
          "output_type": "stream",
          "name": "stdout",
          "text": [
            "Epoch 31/50\n",
            "Train - Loss: 3.9466, Accuracy: 1.0000, Precision: 1.0000, Recall: 1.0000, AUC: 0.7868\n",
            "Val - Loss: 4.9336, Accuracy: 0.8333, Precision: 0.8909, Recall: 0.7538, AUC: 0.7573\n",
            "Early stopping triggered.\n"
          ]
        },
        {
          "output_type": "stream",
          "name": "stderr",
          "text": [
            "Evaluate Test: 100%|██████████| 1/1 [00:00<00:00, 10.73it/s]"
          ]
        },
        {
          "output_type": "stream",
          "name": "stdout",
          "text": [
            "\n",
            "Accuracy: 0.7758, Precision: 0.8667, Recall: 0.6420, AUC: 0.7204\n",
            "Results saved to results/t_pretrained/ori/clip/classification_results.txt\n"
          ]
        },
        {
          "output_type": "stream",
          "name": "stderr",
          "text": [
            "\n"
          ]
        },
        {
          "output_type": "display_data",
          "data": {
            "text/plain": [
              "<Figure size 640x480 with 0 Axes>"
            ]
          },
          "metadata": {}
        }
      ],
      "source": [
        "%run MedCLIP-pediatric/scripts/t_clip.py"
      ]
    },
    {
      "cell_type": "code",
      "execution_count": 1,
      "metadata": {
        "id": "XL4amIgw6aaP",
        "colab": {
          "base_uri": "https://localhost:8080/",
          "height": 1000
        },
        "outputId": "ea25b5a5-b595-4a68-9477-bda131bb8454"
      },
      "outputs": [
        {
          "output_type": "stream",
          "name": "stdout",
          "text": [
            "Google Drive is already mounted.\n"
          ]
        },
        {
          "output_type": "stream",
          "name": "stderr",
          "text": [
            "/usr/local/lib/python3.10/dist-packages/huggingface_hub/utils/_token.py:88: UserWarning: \n",
            "The secret `HF_TOKEN` does not exist in your Colab secrets.\n",
            "To authenticate with the Hugging Face Hub, create a token in your settings tab (https://huggingface.co/settings/tokens), set it as secret in your Google Colab and restart your session.\n",
            "You will be able to reuse this secret in all of your notebooks.\n",
            "Please note that authentication is recommended but still optional to access public models or datasets.\n",
            "  warnings.warn(\n",
            "/usr/local/lib/python3.10/dist-packages/keras/src/preprocessing/image.py:766: UserWarning: NumpyArrayIterator is set to use the data format convention \"channels_last\" (channels on axis 3), i.e. expected either 1, 3, or 4 channels on axis 3. However, it was passed an array with shape (1967, 1, 224, 224) (224 channels).\n",
            "  warnings.warn(\n",
            "/usr/local/lib/python3.10/dist-packages/keras/src/preprocessing/image.py:766: UserWarning: NumpyArrayIterator is set to use the data format convention \"channels_last\" (channels on axis 3), i.e. expected either 1, 3, or 4 channels on axis 3. However, it was passed an array with shape (493, 1, 224, 224) (224 channels).\n",
            "  warnings.warn(\n",
            "/usr/local/lib/python3.10/dist-packages/keras/src/preprocessing/image.py:766: UserWarning: NumpyArrayIterator is set to use the data format convention \"channels_last\" (channels on axis 3), i.e. expected either 1, 3, or 4 channels on axis 3. However, it was passed an array with shape (616, 1, 224, 224) (224 channels).\n",
            "  warnings.warn(\n"
          ]
        },
        {
          "output_type": "stream",
          "name": "stdout",
          "text": [
            "Results saved to results/visualization/t_pretrained/ucsd/medclip/images/cxr_images.png\n",
            "NVIDIA library configured successfully.\n"
          ]
        },
        {
          "output_type": "stream",
          "name": "stderr",
          "text": [
            "/usr/local/lib/python3.10/dist-packages/torch/functional.py:507: UserWarning: torch.meshgrid: in an upcoming release, it will be required to pass the indexing argument. (Triggered internally at ../aten/src/ATen/native/TensorShape.cpp:3549.)\n",
            "  return _VF.meshgrid(tensors, **kwargs)  # type: ignore[attr-defined]\n",
            "Some weights of the model checkpoint at microsoft/swin-tiny-patch4-window7-224 were not used when initializing SwinModel: ['classifier.weight', 'classifier.bias']\n",
            "- This IS expected if you are initializing SwinModel from the checkpoint of a model trained on another task or with another architecture (e.g. initializing a BertForSequenceClassification model from a BertForPreTraining model).\n",
            "- This IS NOT expected if you are initializing SwinModel from the checkpoint of a model that you expect to be exactly identical (initializing a BertForSequenceClassification model from a BertForSequenceClassification model).\n",
            "Some weights of the model checkpoint at emilyalsentzer/Bio_ClinicalBERT were not used when initializing BertModel: ['cls.seq_relationship.bias', 'cls.predictions.bias', 'cls.seq_relationship.weight', 'cls.predictions.transform.dense.bias', 'cls.predictions.decoder.weight', 'cls.predictions.transform.LayerNorm.bias', 'cls.predictions.transform.LayerNorm.weight', 'cls.predictions.transform.dense.weight']\n",
            "- This IS expected if you are initializing BertModel from the checkpoint of a model trained on another task or with another architecture (e.g. initializing a BertForSequenceClassification model from a BertForPreTraining model).\n",
            "- This IS NOT expected if you are initializing BertModel from the checkpoint of a model that you expect to be exactly identical (initializing a BertForSequenceClassification model from a BertForSequenceClassification model).\n"
          ]
        },
        {
          "output_type": "stream",
          "name": "stdout",
          "text": [
            "load model weight from: ./pretrained/medclip-vit\n"
          ]
        },
        {
          "output_type": "stream",
          "name": "stderr",
          "text": [
            "Epoch 1/50, Train: 100%|██████████| 8/8 [00:12<00:00,  1.62s/it]\n",
            "Epoch 1/50, Validation: 100%|██████████| 2/2 [00:02<00:00,  1.37s/it]\n",
            "Evaluate Train: 100%|██████████| 8/8 [00:11<00:00,  1.48s/it]\n",
            "Evaluate Validation: 100%|██████████| 2/2 [00:02<00:00,  1.35s/it]\n"
          ]
        },
        {
          "output_type": "stream",
          "name": "stdout",
          "text": [
            "Epoch 1/50\n",
            "Train - Loss: 5.5039, Accuracy: 0.3142, Precision: 0.2428, Recall: 0.1948, AUC: 0.2940\n",
            "Val - Loss: 5.5082, Accuracy: 0.3387, Precision: 0.2486, Recall: 0.1799, AUC: 0.3064\n"
          ]
        },
        {
          "output_type": "stream",
          "name": "stderr",
          "text": [
            "Epoch 2/50, Train: 100%|██████████| 8/8 [00:13<00:00,  1.69s/it]\n",
            "Epoch 2/50, Validation: 100%|██████████| 2/2 [00:02<00:00,  1.32s/it]\n",
            "Evaluate Train: 100%|██████████| 8/8 [00:11<00:00,  1.40s/it]\n",
            "Evaluate Validation: 100%|██████████| 2/2 [00:03<00:00,  1.52s/it]\n"
          ]
        },
        {
          "output_type": "stream",
          "name": "stdout",
          "text": [
            "Epoch 2/50\n",
            "Train - Loss: 5.4966, Accuracy: 0.3854, Precision: 0.3099, Recall: 0.2168, AUC: 0.4029\n",
            "Val - Loss: 5.5033, Accuracy: 0.4057, Precision: 0.3099, Recall: 0.1841, AUC: 0.4302\n"
          ]
        },
        {
          "output_type": "stream",
          "name": "stderr",
          "text": [
            "Epoch 3/50, Train: 100%|██████████| 8/8 [00:14<00:00,  1.79s/it]\n",
            "Epoch 3/50, Validation: 100%|██████████| 2/2 [00:02<00:00,  1.32s/it]\n",
            "Evaluate Train: 100%|██████████| 8/8 [00:11<00:00,  1.38s/it]\n",
            "Evaluate Validation: 100%|██████████| 2/2 [00:02<00:00,  1.48s/it]\n"
          ]
        },
        {
          "output_type": "stream",
          "name": "stdout",
          "text": [
            "Epoch 3/50\n",
            "Train - Loss: 5.4931, Accuracy: 0.4001, Precision: 0.3409, Recall: 0.2524, AUC: 0.4201\n",
            "Val - Loss: 5.4999, Accuracy: 0.4341, Precision: 0.3718, Recall: 0.2427, AUC: 0.4513\n"
          ]
        },
        {
          "output_type": "stream",
          "name": "stderr",
          "text": [
            "Epoch 4/50, Train: 100%|██████████| 8/8 [00:13<00:00,  1.73s/it]\n",
            "Epoch 4/50, Validation: 100%|██████████| 2/2 [00:02<00:00,  1.48s/it]\n",
            "Evaluate Train: 100%|██████████| 8/8 [00:11<00:00,  1.50s/it]\n",
            "Evaluate Validation: 100%|██████████| 2/2 [00:02<00:00,  1.48s/it]\n"
          ]
        },
        {
          "output_type": "stream",
          "name": "stdout",
          "text": [
            "Epoch 4/50\n",
            "Train - Loss: 5.4900, Accuracy: 0.3798, Precision: 0.3346, Recall: 0.2806, AUC: 0.3754\n",
            "Val - Loss: 5.4957, Accuracy: 0.4057, Precision: 0.3579, Recall: 0.2845, AUC: 0.4038\n"
          ]
        },
        {
          "output_type": "stream",
          "name": "stderr",
          "text": [
            "Epoch 5/50, Train: 100%|██████████| 8/8 [00:12<00:00,  1.52s/it]\n",
            "Epoch 5/50, Validation: 100%|██████████| 2/2 [00:02<00:00,  1.30s/it]\n",
            "Evaluate Train: 100%|██████████| 8/8 [00:12<00:00,  1.62s/it]\n",
            "Evaluate Validation: 100%|██████████| 2/2 [00:03<00:00,  1.51s/it]\n"
          ]
        },
        {
          "output_type": "stream",
          "name": "stdout",
          "text": [
            "Epoch 5/50\n",
            "Train - Loss: 5.4851, Accuracy: 0.3625, Precision: 0.3506, Recall: 0.3675, AUC: 0.3132\n",
            "Val - Loss: 5.4890, Accuracy: 0.3712, Precision: 0.3551, Recall: 0.3640, AUC: 0.3294\n"
          ]
        },
        {
          "output_type": "stream",
          "name": "stderr",
          "text": [
            "Epoch 6/50, Train: 100%|██████████| 8/8 [00:12<00:00,  1.59s/it]\n",
            "Epoch 6/50, Validation: 100%|██████████| 2/2 [00:03<00:00,  1.50s/it]\n",
            "Evaluate Train: 100%|██████████| 8/8 [00:11<00:00,  1.50s/it]\n",
            "Evaluate Validation: 100%|██████████| 2/2 [00:02<00:00,  1.48s/it]\n"
          ]
        },
        {
          "output_type": "stream",
          "name": "stdout",
          "text": [
            "Epoch 6/50\n",
            "Train - Loss: 5.4775, Accuracy: 0.3920, Precision: 0.4068, Recall: 0.5508, AUC: 0.2711\n",
            "Val - Loss: 5.4776, Accuracy: 0.4016, Precision: 0.4146, Recall: 0.5690, AUC: 0.2831\n"
          ]
        },
        {
          "output_type": "stream",
          "name": "stderr",
          "text": [
            "Epoch 7/50, Train: 100%|██████████| 8/8 [00:13<00:00,  1.74s/it]\n",
            "Epoch 7/50, Validation: 100%|██████████| 2/2 [00:03<00:00,  1.97s/it]\n",
            "Evaluate Train: 100%|██████████| 8/8 [00:11<00:00,  1.50s/it]\n",
            "Evaluate Validation: 100%|██████████| 2/2 [00:02<00:00,  1.49s/it]\n"
          ]
        },
        {
          "output_type": "stream",
          "name": "stdout",
          "text": [
            "Epoch 7/50\n",
            "Train - Loss: 5.4641, Accuracy: 0.4738, Precision: 0.4748, Recall: 0.7906, AUC: 0.3364\n",
            "Val - Loss: 5.4568, Accuracy: 0.4767, Precision: 0.4759, Recall: 0.7866, AUC: 0.3486\n"
          ]
        },
        {
          "output_type": "stream",
          "name": "stderr",
          "text": [
            "Epoch 8/50, Train: 100%|██████████| 8/8 [00:12<00:00,  1.60s/it]\n",
            "Epoch 8/50, Validation: 100%|██████████| 2/2 [00:03<00:00,  1.63s/it]\n",
            "Evaluate Train: 100%|██████████| 8/8 [00:12<00:00,  1.51s/it]\n",
            "Evaluate Validation: 100%|██████████| 2/2 [00:02<00:00,  1.48s/it]\n"
          ]
        },
        {
          "output_type": "stream",
          "name": "stdout",
          "text": [
            "Epoch 8/50\n",
            "Train - Loss: 5.4387, Accuracy: 0.5948, Precision: 0.5491, Recall: 0.9257, AUC: 0.7303\n",
            "Val - Loss: 5.4160, Accuracy: 0.5963, Precision: 0.5503, Recall: 0.9163, AUC: 0.7294\n"
          ]
        },
        {
          "output_type": "stream",
          "name": "stderr",
          "text": [
            "Epoch 9/50, Train: 100%|██████████| 8/8 [00:12<00:00,  1.54s/it]\n",
            "Epoch 9/50, Validation: 100%|██████████| 2/2 [00:02<00:00,  1.40s/it]\n",
            "Evaluate Train: 100%|██████████| 8/8 [00:11<00:00,  1.46s/it]\n",
            "Evaluate Validation: 100%|██████████| 2/2 [00:03<00:00,  1.64s/it]\n"
          ]
        },
        {
          "output_type": "stream",
          "name": "stdout",
          "text": [
            "Epoch 9/50\n",
            "Train - Loss: 5.3882, Accuracy: 0.8943, Precision: 0.8716, Recall: 0.9173, AUC: 0.9644\n",
            "Val - Loss: 5.3307, Accuracy: 0.9087, Precision: 0.8849, Recall: 0.9331, AUC: 0.9626\n"
          ]
        },
        {
          "output_type": "stream",
          "name": "stderr",
          "text": [
            "Epoch 10/50, Train: 100%|██████████| 8/8 [00:13<00:00,  1.72s/it]\n",
            "Epoch 10/50, Validation: 100%|██████████| 2/2 [00:03<00:00,  1.59s/it]\n",
            "Evaluate Train: 100%|██████████| 8/8 [00:12<00:00,  1.50s/it]\n",
            "Evaluate Validation: 100%|██████████| 2/2 [00:03<00:00,  1.53s/it]\n"
          ]
        },
        {
          "output_type": "stream",
          "name": "stdout",
          "text": [
            "Epoch 10/50\n",
            "Train - Loss: 5.2901, Accuracy: 0.9390, Precision: 0.9326, Recall: 0.9424, AUC: 0.9790\n",
            "Val - Loss: 5.1969, Accuracy: 0.9391, Precision: 0.9336, Recall: 0.9414, AUC: 0.9787\n"
          ]
        },
        {
          "output_type": "stream",
          "name": "stderr",
          "text": [
            "Epoch 11/50, Train: 100%|██████████| 8/8 [00:13<00:00,  1.74s/it]\n",
            "Epoch 11/50, Validation: 100%|██████████| 2/2 [00:02<00:00,  1.49s/it]\n",
            "Evaluate Train: 100%|██████████| 8/8 [00:11<00:00,  1.48s/it]\n",
            "Evaluate Validation: 100%|██████████| 2/2 [00:03<00:00,  1.50s/it]\n"
          ]
        },
        {
          "output_type": "stream",
          "name": "stdout",
          "text": [
            "Epoch 11/50\n",
            "Train - Loss: 5.1705, Accuracy: 0.9542, Precision: 0.9596, Recall: 0.9455, AUC: 0.9815\n",
            "Val - Loss: 5.0909, Accuracy: 0.9473, Precision: 0.9419, Recall: 0.9498, AUC: 0.9800\n"
          ]
        },
        {
          "output_type": "stream",
          "name": "stderr",
          "text": [
            "Epoch 12/50, Train: 100%|██████████| 8/8 [00:12<00:00,  1.61s/it]\n",
            "Epoch 12/50, Validation: 100%|██████████| 2/2 [00:02<00:00,  1.28s/it]\n",
            "Evaluate Train: 100%|██████████| 8/8 [00:12<00:00,  1.54s/it]\n",
            "Evaluate Validation: 100%|██████████| 2/2 [00:03<00:00,  1.65s/it]\n"
          ]
        },
        {
          "output_type": "stream",
          "name": "stdout",
          "text": [
            "Epoch 12/50\n",
            "Train - Loss: 5.0734, Accuracy: 0.9649, Precision: 0.9733, Recall: 0.9539, AUC: 0.9878\n",
            "Val - Loss: 5.0011, Accuracy: 0.9615, Precision: 0.9622, Recall: 0.9582, AUC: 0.9813\n"
          ]
        },
        {
          "output_type": "stream",
          "name": "stderr",
          "text": [
            "Epoch 13/50, Train: 100%|██████████| 8/8 [00:13<00:00,  1.70s/it]\n",
            "Epoch 13/50, Validation: 100%|██████████| 2/2 [00:02<00:00,  1.29s/it]\n",
            "Evaluate Train: 100%|██████████| 8/8 [00:12<00:00,  1.58s/it]\n",
            "Evaluate Validation: 100%|██████████| 2/2 [00:02<00:00,  1.49s/it]\n"
          ]
        },
        {
          "output_type": "stream",
          "name": "stdout",
          "text": [
            "Epoch 13/50\n",
            "Train - Loss: 4.9886, Accuracy: 0.9670, Precision: 0.9588, Recall: 0.9738, AUC: 0.9896\n",
            "Val - Loss: 4.9657, Accuracy: 0.9655, Precision: 0.9549, Recall: 0.9749, AUC: 0.9838\n"
          ]
        },
        {
          "output_type": "stream",
          "name": "stderr",
          "text": [
            "Epoch 14/50, Train: 100%|██████████| 8/8 [00:15<00:00,  1.94s/it]\n",
            "Epoch 14/50, Validation: 100%|██████████| 2/2 [00:03<00:00,  1.54s/it]\n",
            "Evaluate Train: 100%|██████████| 8/8 [00:11<00:00,  1.49s/it]\n",
            "Evaluate Validation: 100%|██████████| 2/2 [00:03<00:00,  1.75s/it]\n"
          ]
        },
        {
          "output_type": "stream",
          "name": "stdout",
          "text": [
            "Epoch 14/50\n",
            "Train - Loss: 4.9555, Accuracy: 0.9725, Precision: 0.9698, Recall: 0.9738, AUC: 0.9927\n",
            "Val - Loss: 4.9499, Accuracy: 0.9716, Precision: 0.9668, Recall: 0.9749, AUC: 0.9866\n"
          ]
        },
        {
          "output_type": "stream",
          "name": "stderr",
          "text": [
            "Epoch 15/50, Train: 100%|██████████| 8/8 [00:14<00:00,  1.80s/it]\n",
            "Epoch 15/50, Validation: 100%|██████████| 2/2 [00:03<00:00,  1.70s/it]\n",
            "Evaluate Train: 100%|██████████| 8/8 [00:11<00:00,  1.46s/it]\n",
            "Evaluate Validation: 100%|██████████| 2/2 [00:02<00:00,  1.46s/it]\n"
          ]
        },
        {
          "output_type": "stream",
          "name": "stdout",
          "text": [
            "Epoch 15/50\n",
            "Train - Loss: 4.9354, Accuracy: 0.9786, Precision: 0.9800, Recall: 0.9759, AUC: 0.9940\n",
            "Val - Loss: 4.9455, Accuracy: 0.9675, Precision: 0.9665, Recall: 0.9665, AUC: 0.9869\n"
          ]
        },
        {
          "output_type": "stream",
          "name": "stderr",
          "text": [
            "Epoch 16/50, Train: 100%|██████████| 8/8 [00:13<00:00,  1.73s/it]\n",
            "Epoch 16/50, Validation: 100%|██████████| 2/2 [00:03<00:00,  1.53s/it]\n",
            "Evaluate Train: 100%|██████████| 8/8 [00:12<00:00,  1.62s/it]\n",
            "Evaluate Validation: 100%|██████████| 2/2 [00:03<00:00,  1.51s/it]\n"
          ]
        },
        {
          "output_type": "stream",
          "name": "stdout",
          "text": [
            "Epoch 16/50\n",
            "Train - Loss: 4.9207, Accuracy: 0.9797, Precision: 0.9781, Recall: 0.9801, AUC: 0.9944\n",
            "Val - Loss: 4.9335, Accuracy: 0.9757, Precision: 0.9671, Recall: 0.9833, AUC: 0.9870\n"
          ]
        },
        {
          "output_type": "stream",
          "name": "stderr",
          "text": [
            "Epoch 17/50, Train: 100%|██████████| 8/8 [00:13<00:00,  1.71s/it]\n",
            "Epoch 17/50, Validation: 100%|██████████| 2/2 [00:02<00:00,  1.37s/it]\n",
            "Evaluate Train: 100%|██████████| 8/8 [00:10<00:00,  1.36s/it]\n",
            "Evaluate Validation: 100%|██████████| 2/2 [00:02<00:00,  1.38s/it]\n"
          ]
        },
        {
          "output_type": "stream",
          "name": "stdout",
          "text": [
            "Epoch 17/50\n",
            "Train - Loss: 4.9147, Accuracy: 0.9792, Precision: 0.9731, Recall: 0.9843, AUC: 0.9952\n",
            "Val - Loss: 4.9287, Accuracy: 0.9716, Precision: 0.9592, Recall: 0.9833, AUC: 0.9873\n"
          ]
        },
        {
          "output_type": "stream",
          "name": "stderr",
          "text": [
            "Epoch 18/50, Train: 100%|██████████| 8/8 [00:14<00:00,  1.86s/it]\n",
            "Epoch 18/50, Validation: 100%|██████████| 2/2 [00:03<00:00,  1.81s/it]\n",
            "Evaluate Train: 100%|██████████| 8/8 [00:11<00:00,  1.43s/it]\n",
            "Evaluate Validation: 100%|██████████| 2/2 [00:03<00:00,  1.78s/it]\n"
          ]
        },
        {
          "output_type": "stream",
          "name": "stdout",
          "text": [
            "Epoch 18/50\n",
            "Train - Loss: 4.9003, Accuracy: 0.9858, Precision: 0.9833, Recall: 0.9874, AUC: 0.9961\n",
            "Val - Loss: 4.9282, Accuracy: 0.9736, Precision: 0.9669, Recall: 0.9791, AUC: 0.9882\n"
          ]
        },
        {
          "output_type": "stream",
          "name": "stderr",
          "text": [
            "Epoch 19/50, Train: 100%|██████████| 8/8 [00:13<00:00,  1.65s/it]\n",
            "Epoch 19/50, Validation: 100%|██████████| 2/2 [00:02<00:00,  1.26s/it]\n",
            "Evaluate Train: 100%|██████████| 8/8 [00:12<00:00,  1.56s/it]\n",
            "Evaluate Validation: 100%|██████████| 2/2 [00:02<00:00,  1.46s/it]\n"
          ]
        },
        {
          "output_type": "stream",
          "name": "stdout",
          "text": [
            "Epoch 19/50\n",
            "Train - Loss: 4.8904, Accuracy: 0.9878, Precision: 0.9854, Recall: 0.9895, AUC: 0.9967\n",
            "Val - Loss: 4.9278, Accuracy: 0.9716, Precision: 0.9630, Recall: 0.9791, AUC: 0.9892\n"
          ]
        },
        {
          "output_type": "stream",
          "name": "stderr",
          "text": [
            "Epoch 20/50, Train: 100%|██████████| 8/8 [00:13<00:00,  1.64s/it]\n",
            "Epoch 20/50, Validation: 100%|██████████| 2/2 [00:02<00:00,  1.41s/it]\n",
            "Evaluate Train: 100%|██████████| 8/8 [00:11<00:00,  1.45s/it]\n",
            "Evaluate Validation: 100%|██████████| 2/2 [00:02<00:00,  1.49s/it]\n"
          ]
        },
        {
          "output_type": "stream",
          "name": "stdout",
          "text": [
            "Epoch 20/50\n",
            "Train - Loss: 4.8802, Accuracy: 0.9883, Precision: 0.9834, Recall: 0.9927, AUC: 0.9969\n",
            "Val - Loss: 4.9244, Accuracy: 0.9696, Precision: 0.9590, Recall: 0.9791, AUC: 0.9893\n"
          ]
        },
        {
          "output_type": "stream",
          "name": "stderr",
          "text": [
            "Epoch 21/50, Train: 100%|██████████| 8/8 [00:13<00:00,  1.73s/it]\n",
            "Epoch 21/50, Validation: 100%|██████████| 2/2 [00:03<00:00,  1.98s/it]\n",
            "Evaluate Train: 100%|██████████| 8/8 [00:11<00:00,  1.49s/it]\n",
            "Evaluate Validation: 100%|██████████| 2/2 [00:03<00:00,  1.67s/it]\n"
          ]
        },
        {
          "output_type": "stream",
          "name": "stdout",
          "text": [
            "Epoch 21/50\n",
            "Train - Loss: 4.8746, Accuracy: 0.9893, Precision: 0.9854, Recall: 0.9927, AUC: 0.9973\n",
            "Val - Loss: 4.9298, Accuracy: 0.9736, Precision: 0.9669, Recall: 0.9791, AUC: 0.9900\n"
          ]
        },
        {
          "output_type": "stream",
          "name": "stderr",
          "text": [
            "Epoch 22/50, Train: 100%|██████████| 8/8 [00:13<00:00,  1.67s/it]\n",
            "Epoch 22/50, Validation: 100%|██████████| 2/2 [00:03<00:00,  1.65s/it]\n",
            "Evaluate Train: 100%|██████████| 8/8 [00:12<00:00,  1.61s/it]\n",
            "Evaluate Validation: 100%|██████████| 2/2 [00:02<00:00,  1.48s/it]\n"
          ]
        },
        {
          "output_type": "stream",
          "name": "stdout",
          "text": [
            "Epoch 22/50\n",
            "Train - Loss: 4.8777, Accuracy: 0.9893, Precision: 0.9854, Recall: 0.9927, AUC: 0.9976\n",
            "Val - Loss: 4.9260, Accuracy: 0.9675, Precision: 0.9551, Recall: 0.9791, AUC: 0.9899\n"
          ]
        },
        {
          "output_type": "stream",
          "name": "stderr",
          "text": [
            "Epoch 23/50, Train: 100%|██████████| 8/8 [00:14<00:00,  1.76s/it]\n",
            "Epoch 23/50, Validation: 100%|██████████| 2/2 [00:02<00:00,  1.30s/it]\n",
            "Evaluate Train: 100%|██████████| 8/8 [00:12<00:00,  1.56s/it]\n",
            "Evaluate Validation: 100%|██████████| 2/2 [00:03<00:00,  1.68s/it]\n"
          ]
        },
        {
          "output_type": "stream",
          "name": "stdout",
          "text": [
            "Epoch 23/50\n",
            "Train - Loss: 4.8704, Accuracy: 0.9934, Precision: 0.9916, Recall: 0.9948, AUC: 0.9979\n",
            "Val - Loss: 4.9266, Accuracy: 0.9696, Precision: 0.9590, Recall: 0.9791, AUC: 0.9904\n"
          ]
        },
        {
          "output_type": "stream",
          "name": "stderr",
          "text": [
            "Epoch 24/50, Train: 100%|██████████| 8/8 [00:12<00:00,  1.60s/it]\n",
            "Epoch 24/50, Validation: 100%|██████████| 2/2 [00:03<00:00,  1.62s/it]\n",
            "Evaluate Train: 100%|██████████| 8/8 [00:11<00:00,  1.40s/it]\n",
            "Evaluate Validation: 100%|██████████| 2/2 [00:03<00:00,  1.54s/it]\n"
          ]
        },
        {
          "output_type": "stream",
          "name": "stdout",
          "text": [
            "Epoch 24/50\n",
            "Train - Loss: 4.8720, Accuracy: 0.9934, Precision: 0.9906, Recall: 0.9958, AUC: 0.9982\n",
            "Val - Loss: 4.9242, Accuracy: 0.9675, Precision: 0.9551, Recall: 0.9791, AUC: 0.9907\n"
          ]
        },
        {
          "output_type": "stream",
          "name": "stderr",
          "text": [
            "Epoch 25/50, Train: 100%|██████████| 8/8 [00:14<00:00,  1.85s/it]\n",
            "Epoch 25/50, Validation: 100%|██████████| 2/2 [00:02<00:00,  1.47s/it]\n",
            "Evaluate Train: 100%|██████████| 8/8 [00:12<00:00,  1.62s/it]\n",
            "Evaluate Validation: 100%|██████████| 2/2 [00:02<00:00,  1.48s/it]\n"
          ]
        },
        {
          "output_type": "stream",
          "name": "stdout",
          "text": [
            "Epoch 25/50\n",
            "Train - Loss: 4.8626, Accuracy: 0.9934, Precision: 0.9906, Recall: 0.9958, AUC: 0.9984\n",
            "Val - Loss: 4.9221, Accuracy: 0.9696, Precision: 0.9553, Recall: 0.9833, AUC: 0.9910\n"
          ]
        },
        {
          "output_type": "stream",
          "name": "stderr",
          "text": [
            "Epoch 26/50, Train: 100%|██████████| 8/8 [00:14<00:00,  1.86s/it]\n",
            "Epoch 26/50, Validation: 100%|██████████| 2/2 [00:03<00:00,  1.54s/it]\n",
            "Evaluate Train: 100%|██████████| 8/8 [00:11<00:00,  1.49s/it]\n",
            "Evaluate Validation: 100%|██████████| 2/2 [00:02<00:00,  1.48s/it]\n"
          ]
        },
        {
          "output_type": "stream",
          "name": "stdout",
          "text": [
            "Epoch 26/50\n",
            "Train - Loss: 4.8553, Accuracy: 0.9959, Precision: 0.9948, Recall: 0.9969, AUC: 0.9988\n",
            "Val - Loss: 4.9303, Accuracy: 0.9675, Precision: 0.9551, Recall: 0.9791, AUC: 0.9914\n"
          ]
        },
        {
          "output_type": "stream",
          "name": "stderr",
          "text": [
            "Epoch 27/50, Train: 100%|██████████| 8/8 [00:13<00:00,  1.73s/it]\n",
            "Epoch 27/50, Validation: 100%|██████████| 2/2 [00:03<00:00,  1.66s/it]\n",
            "Evaluate Train: 100%|██████████| 8/8 [00:11<00:00,  1.40s/it]\n",
            "Evaluate Validation: 100%|██████████| 2/2 [00:02<00:00,  1.48s/it]\n"
          ]
        },
        {
          "output_type": "stream",
          "name": "stdout",
          "text": [
            "Epoch 27/50\n",
            "Train - Loss: 4.8536, Accuracy: 0.9959, Precision: 0.9948, Recall: 0.9969, AUC: 0.9988\n",
            "Val - Loss: 4.9248, Accuracy: 0.9696, Precision: 0.9516, Recall: 0.9874, AUC: 0.9906\n"
          ]
        },
        {
          "output_type": "stream",
          "name": "stderr",
          "text": [
            "Epoch 28/50, Train: 100%|██████████| 8/8 [00:13<00:00,  1.69s/it]\n",
            "Epoch 28/50, Validation: 100%|██████████| 2/2 [00:02<00:00,  1.41s/it]\n",
            "Evaluate Train: 100%|██████████| 8/8 [00:12<00:00,  1.61s/it]\n",
            "Evaluate Validation: 100%|██████████| 2/2 [00:02<00:00,  1.49s/it]\n"
          ]
        },
        {
          "output_type": "stream",
          "name": "stdout",
          "text": [
            "Epoch 28/50\n",
            "Train - Loss: 4.8484, Accuracy: 0.9964, Precision: 0.9948, Recall: 0.9979, AUC: 0.9991\n",
            "Val - Loss: 4.9271, Accuracy: 0.9675, Precision: 0.9478, Recall: 0.9874, AUC: 0.9903\n"
          ]
        },
        {
          "output_type": "stream",
          "name": "stderr",
          "text": [
            "Epoch 29/50, Train: 100%|██████████| 8/8 [00:12<00:00,  1.61s/it]\n",
            "Epoch 29/50, Validation: 100%|██████████| 2/2 [00:02<00:00,  1.49s/it]\n",
            "Evaluate Train: 100%|██████████| 8/8 [00:11<00:00,  1.42s/it]\n",
            "Evaluate Validation: 100%|██████████| 2/2 [00:03<00:00,  1.50s/it]\n"
          ]
        },
        {
          "output_type": "stream",
          "name": "stdout",
          "text": [
            "Epoch 29/50\n",
            "Train - Loss: 4.8453, Accuracy: 0.9969, Precision: 0.9958, Recall: 0.9979, AUC: 0.9992\n",
            "Val - Loss: 4.9268, Accuracy: 0.9696, Precision: 0.9516, Recall: 0.9874, AUC: 0.9908\n"
          ]
        },
        {
          "output_type": "stream",
          "name": "stderr",
          "text": [
            "Epoch 30/50, Train: 100%|██████████| 8/8 [00:14<00:00,  1.82s/it]\n",
            "Epoch 30/50, Validation: 100%|██████████| 2/2 [00:02<00:00,  1.36s/it]\n",
            "Evaluate Train: 100%|██████████| 8/8 [00:12<00:00,  1.62s/it]\n",
            "Evaluate Validation: 100%|██████████| 2/2 [00:03<00:00,  1.56s/it]\n"
          ]
        },
        {
          "output_type": "stream",
          "name": "stdout",
          "text": [
            "Epoch 30/50\n",
            "Train - Loss: 4.8458, Accuracy: 0.9975, Precision: 0.9969, Recall: 0.9979, AUC: 0.9994\n",
            "Val - Loss: 4.9302, Accuracy: 0.9675, Precision: 0.9514, Recall: 0.9833, AUC: 0.9912\n",
            "Early stopping triggered.\n"
          ]
        },
        {
          "output_type": "stream",
          "name": "stderr",
          "text": [
            "Evaluate Test: 100%|██████████| 3/3 [00:04<00:00,  1.44s/it]\n"
          ]
        },
        {
          "output_type": "stream",
          "name": "stdout",
          "text": [
            "\n",
            "Accuracy: 0.9659, Precision: 0.9542, Recall: 0.9766, AUC: 0.9928\n",
            "Results saved to results/t_pretrained/ucsd/medclip/classification_results.txt\n"
          ]
        },
        {
          "output_type": "stream",
          "name": "stderr",
          "text": [
            "/usr/local/lib/python3.10/dist-packages/keras/src/preprocessing/image.py:766: UserWarning: NumpyArrayIterator is set to use the data format convention \"channels_last\" (channels on axis 3), i.e. expected either 1, 3, or 4 channels on axis 3. However, it was passed an array with shape (526, 1, 224, 224) (224 channels).\n",
            "  warnings.warn(\n",
            "/usr/local/lib/python3.10/dist-packages/keras/src/preprocessing/image.py:766: UserWarning: NumpyArrayIterator is set to use the data format convention \"channels_last\" (channels on axis 3), i.e. expected either 1, 3, or 4 channels on axis 3. However, it was passed an array with shape (132, 1, 224, 224) (224 channels).\n",
            "  warnings.warn(\n",
            "/usr/local/lib/python3.10/dist-packages/keras/src/preprocessing/image.py:766: UserWarning: NumpyArrayIterator is set to use the data format convention \"channels_last\" (channels on axis 3), i.e. expected either 1, 3, or 4 channels on axis 3. However, it was passed an array with shape (165, 1, 224, 224) (224 channels).\n",
            "  warnings.warn(\n"
          ]
        },
        {
          "output_type": "stream",
          "name": "stdout",
          "text": [
            "Results saved to results/visualization/t_pretrained/ori/medclip/images/cxr_images.png\n",
            "NVIDIA library configured successfully.\n"
          ]
        },
        {
          "output_type": "stream",
          "name": "stderr",
          "text": [
            "Some weights of the model checkpoint at microsoft/swin-tiny-patch4-window7-224 were not used when initializing SwinModel: ['classifier.weight', 'classifier.bias']\n",
            "- This IS expected if you are initializing SwinModel from the checkpoint of a model trained on another task or with another architecture (e.g. initializing a BertForSequenceClassification model from a BertForPreTraining model).\n",
            "- This IS NOT expected if you are initializing SwinModel from the checkpoint of a model that you expect to be exactly identical (initializing a BertForSequenceClassification model from a BertForSequenceClassification model).\n",
            "Some weights of the model checkpoint at emilyalsentzer/Bio_ClinicalBERT were not used when initializing BertModel: ['cls.seq_relationship.bias', 'cls.predictions.bias', 'cls.seq_relationship.weight', 'cls.predictions.transform.dense.bias', 'cls.predictions.decoder.weight', 'cls.predictions.transform.LayerNorm.bias', 'cls.predictions.transform.LayerNorm.weight', 'cls.predictions.transform.dense.weight']\n",
            "- This IS expected if you are initializing BertModel from the checkpoint of a model trained on another task or with another architecture (e.g. initializing a BertForSequenceClassification model from a BertForPreTraining model).\n",
            "- This IS NOT expected if you are initializing BertModel from the checkpoint of a model that you expect to be exactly identical (initializing a BertForSequenceClassification model from a BertForSequenceClassification model).\n"
          ]
        },
        {
          "output_type": "stream",
          "name": "stdout",
          "text": [
            "load model weight from: ./pretrained/medclip-vit\n"
          ]
        },
        {
          "output_type": "stream",
          "name": "stderr",
          "text": [
            "Epoch 1/50, Train: 100%|██████████| 3/3 [00:04<00:00,  1.47s/it]\n",
            "Epoch 1/50, Validation: 100%|██████████| 1/1 [00:01<00:00,  1.53s/it]\n",
            "Evaluate Train: 100%|██████████| 3/3 [00:04<00:00,  1.42s/it]\n",
            "Evaluate Validation: 100%|██████████| 1/1 [00:01<00:00,  1.26s/it]\n"
          ]
        },
        {
          "output_type": "stream",
          "name": "stdout",
          "text": [
            "Epoch 1/50\n",
            "Train - Loss: 4.5955, Accuracy: 0.4163, Precision: 0.4158, Recall: 0.4690, AUC: 0.3798\n",
            "Val - Loss: 4.8954, Accuracy: 0.4545, Precision: 0.4478, Recall: 0.4615, AUC: 0.4146\n"
          ]
        },
        {
          "output_type": "stream",
          "name": "stderr",
          "text": [
            "Epoch 2/50, Train: 100%|██████████| 3/3 [00:05<00:00,  1.75s/it]\n",
            "Epoch 2/50, Validation: 100%|██████████| 1/1 [00:01<00:00,  1.54s/it]\n",
            "Evaluate Train: 100%|██████████| 3/3 [00:04<00:00,  1.46s/it]\n",
            "Evaluate Validation: 100%|██████████| 1/1 [00:01<00:00,  1.59s/it]\n"
          ]
        },
        {
          "output_type": "stream",
          "name": "stdout",
          "text": [
            "Epoch 2/50\n",
            "Train - Loss: 4.5847, Accuracy: 0.4297, Precision: 0.4167, Recall: 0.4070, AUC: 0.4020\n",
            "Val - Loss: 4.8862, Accuracy: 0.4394, Precision: 0.4262, Recall: 0.4000, AUC: 0.4380\n"
          ]
        },
        {
          "output_type": "stream",
          "name": "stderr",
          "text": [
            "Epoch 3/50, Train: 100%|██████████| 3/3 [00:04<00:00,  1.50s/it]\n",
            "Epoch 3/50, Validation: 100%|██████████| 1/1 [00:01<00:00,  1.51s/it]\n",
            "Evaluate Train: 100%|██████████| 3/3 [00:03<00:00,  1.22s/it]\n",
            "Evaluate Validation: 100%|██████████| 1/1 [00:01<00:00,  1.23s/it]\n"
          ]
        },
        {
          "output_type": "stream",
          "name": "stdout",
          "text": [
            "Epoch 3/50\n",
            "Train - Loss: 4.5786, Accuracy: 0.4525, Precision: 0.4227, Recall: 0.3178, AUC: 0.4349\n",
            "Val - Loss: 4.8814, Accuracy: 0.4697, Precision: 0.4444, Recall: 0.3077, AUC: 0.4887\n"
          ]
        },
        {
          "output_type": "stream",
          "name": "stderr",
          "text": [
            "Epoch 4/50, Train: 100%|██████████| 3/3 [00:04<00:00,  1.53s/it]\n",
            "Epoch 4/50, Validation: 100%|██████████| 1/1 [00:01<00:00,  1.36s/it]\n",
            "Evaluate Train: 100%|██████████| 3/3 [00:04<00:00,  1.54s/it]\n",
            "Evaluate Validation: 100%|██████████| 1/1 [00:01<00:00,  1.36s/it]\n"
          ]
        },
        {
          "output_type": "stream",
          "name": "stdout",
          "text": [
            "Epoch 4/50\n",
            "Train - Loss: 4.5729, Accuracy: 0.4867, Precision: 0.4524, Recall: 0.2209, AUC: 0.5038\n",
            "Val - Loss: 4.8787, Accuracy: 0.5303, Precision: 0.5484, Recall: 0.2615, AUC: 0.5506\n"
          ]
        },
        {
          "output_type": "stream",
          "name": "stderr",
          "text": [
            "Epoch 5/50, Train: 100%|██████████| 3/3 [00:04<00:00,  1.49s/it]\n",
            "Epoch 5/50, Validation: 100%|██████████| 1/1 [00:01<00:00,  1.21s/it]\n",
            "Evaluate Train: 100%|██████████| 3/3 [00:05<00:00,  1.69s/it]\n",
            "Evaluate Validation: 100%|██████████| 1/1 [00:01<00:00,  1.72s/it]\n"
          ]
        },
        {
          "output_type": "stream",
          "name": "stdout",
          "text": [
            "Epoch 5/50\n",
            "Train - Loss: 4.5701, Accuracy: 0.5418, Precision: 0.5739, Recall: 0.2558, AUC: 0.5693\n",
            "Val - Loss: 4.8766, Accuracy: 0.5076, Precision: 0.5000, Recall: 0.2000, AUC: 0.5963\n"
          ]
        },
        {
          "output_type": "stream",
          "name": "stderr",
          "text": [
            "Epoch 6/50, Train: 100%|██████████| 3/3 [00:04<00:00,  1.51s/it]\n",
            "Epoch 6/50, Validation: 100%|██████████| 1/1 [00:01<00:00,  1.54s/it]\n",
            "Evaluate Train: 100%|██████████| 3/3 [00:04<00:00,  1.59s/it]\n",
            "Evaluate Validation: 100%|██████████| 1/1 [00:01<00:00,  1.45s/it]\n"
          ]
        },
        {
          "output_type": "stream",
          "name": "stdout",
          "text": [
            "Epoch 6/50\n",
            "Train - Loss: 4.5714, Accuracy: 0.5741, Precision: 0.6417, Recall: 0.2984, AUC: 0.6180\n",
            "Val - Loss: 4.8737, Accuracy: 0.5985, Precision: 0.7000, Recall: 0.3231, AUC: 0.6330\n"
          ]
        },
        {
          "output_type": "stream",
          "name": "stderr",
          "text": [
            "Epoch 7/50, Train: 100%|██████████| 3/3 [00:05<00:00,  1.70s/it]\n",
            "Epoch 7/50, Validation: 100%|██████████| 1/1 [00:01<00:00,  1.63s/it]\n",
            "Evaluate Train: 100%|██████████| 3/3 [00:04<00:00,  1.60s/it]\n",
            "Evaluate Validation: 100%|██████████| 1/1 [00:01<00:00,  1.68s/it]\n"
          ]
        },
        {
          "output_type": "stream",
          "name": "stdout",
          "text": [
            "Epoch 7/50\n",
            "Train - Loss: 4.5670, Accuracy: 0.6198, Precision: 0.7071, Recall: 0.3837, AUC: 0.6590\n",
            "Val - Loss: 4.8693, Accuracy: 0.6136, Precision: 0.6944, Recall: 0.3846, AUC: 0.6628\n"
          ]
        },
        {
          "output_type": "stream",
          "name": "stderr",
          "text": [
            "Epoch 8/50, Train: 100%|██████████| 3/3 [00:05<00:00,  1.85s/it]\n",
            "Epoch 8/50, Validation: 100%|██████████| 1/1 [00:01<00:00,  1.26s/it]\n",
            "Evaluate Train: 100%|██████████| 3/3 [00:04<00:00,  1.63s/it]\n",
            "Evaluate Validation: 100%|██████████| 1/1 [00:01<00:00,  1.73s/it]\n"
          ]
        },
        {
          "output_type": "stream",
          "name": "stdout",
          "text": [
            "Epoch 8/50\n",
            "Train - Loss: 4.5653, Accuracy: 0.6939, Precision: 0.7680, Recall: 0.5388, AUC: 0.7227\n",
            "Val - Loss: 4.8564, Accuracy: 0.6970, Precision: 0.7660, Recall: 0.5538, AUC: 0.7258\n"
          ]
        },
        {
          "output_type": "stream",
          "name": "stderr",
          "text": [
            "Epoch 9/50, Train: 100%|██████████| 3/3 [00:05<00:00,  1.97s/it]\n",
            "Epoch 9/50, Validation: 100%|██████████| 1/1 [00:01<00:00,  1.20s/it]\n",
            "Evaluate Train: 100%|██████████| 3/3 [00:04<00:00,  1.36s/it]\n",
            "Evaluate Validation: 100%|██████████| 1/1 [00:01<00:00,  1.77s/it]\n"
          ]
        },
        {
          "output_type": "stream",
          "name": "stdout",
          "text": [
            "Epoch 9/50\n",
            "Train - Loss: 4.5570, Accuracy: 0.6787, Precision: 0.6529, Recall: 0.7364, AUC: 0.7477\n",
            "Val - Loss: 4.8265, Accuracy: 0.6970, Precision: 0.6712, Recall: 0.7538, AUC: 0.7592\n"
          ]
        },
        {
          "output_type": "stream",
          "name": "stderr",
          "text": [
            "Epoch 10/50, Train: 100%|██████████| 3/3 [00:05<00:00,  1.68s/it]\n",
            "Epoch 10/50, Validation: 100%|██████████| 1/1 [00:01<00:00,  1.29s/it]\n",
            "Evaluate Train: 100%|██████████| 3/3 [00:04<00:00,  1.57s/it]\n",
            "Evaluate Validation: 100%|██████████| 1/1 [00:01<00:00,  1.27s/it]\n"
          ]
        },
        {
          "output_type": "stream",
          "name": "stdout",
          "text": [
            "Epoch 10/50\n",
            "Train - Loss: 4.5272, Accuracy: 0.6901, Precision: 0.6715, Recall: 0.7209, AUC: 0.7789\n",
            "Val - Loss: 4.8040, Accuracy: 0.6894, Precision: 0.6765, Recall: 0.7077, AUC: 0.7637\n"
          ]
        },
        {
          "output_type": "stream",
          "name": "stderr",
          "text": [
            "Epoch 11/50, Train: 100%|██████████| 3/3 [00:05<00:00,  1.95s/it]\n",
            "Epoch 11/50, Validation: 100%|██████████| 1/1 [00:01<00:00,  1.42s/it]\n",
            "Evaluate Train: 100%|██████████| 3/3 [00:04<00:00,  1.40s/it]\n",
            "Evaluate Validation: 100%|██████████| 1/1 [00:01<00:00,  1.44s/it]\n"
          ]
        },
        {
          "output_type": "stream",
          "name": "stdout",
          "text": [
            "Epoch 11/50\n",
            "Train - Loss: 4.4853, Accuracy: 0.7167, Precision: 0.7300, Recall: 0.6705, AUC: 0.7967\n",
            "Val - Loss: 4.7988, Accuracy: 0.6439, Precision: 0.6607, Recall: 0.5692, AUC: 0.7315\n"
          ]
        },
        {
          "output_type": "stream",
          "name": "stderr",
          "text": [
            "Epoch 12/50, Train: 100%|██████████| 3/3 [00:04<00:00,  1.63s/it]\n",
            "Epoch 12/50, Validation: 100%|██████████| 1/1 [00:01<00:00,  1.37s/it]\n",
            "Evaluate Train: 100%|██████████| 3/3 [00:04<00:00,  1.54s/it]\n",
            "Evaluate Validation: 100%|██████████| 1/1 [00:01<00:00,  1.46s/it]\n"
          ]
        },
        {
          "output_type": "stream",
          "name": "stdout",
          "text": [
            "Epoch 12/50\n",
            "Train - Loss: 4.4430, Accuracy: 0.7529, Precision: 0.8019, Recall: 0.6589, AUC: 0.8297\n",
            "Val - Loss: 4.7676, Accuracy: 0.7273, Precision: 0.7736, Recall: 0.6308, AUC: 0.7860\n"
          ]
        },
        {
          "output_type": "stream",
          "name": "stderr",
          "text": [
            "Epoch 13/50, Train: 100%|██████████| 3/3 [00:04<00:00,  1.62s/it]\n",
            "Epoch 13/50, Validation: 100%|██████████| 1/1 [00:01<00:00,  1.36s/it]\n",
            "Evaluate Train: 100%|██████████| 3/3 [00:06<00:00,  2.31s/it]\n",
            "Evaluate Validation: 100%|██████████| 1/1 [00:02<00:00,  2.17s/it]\n"
          ]
        },
        {
          "output_type": "stream",
          "name": "stdout",
          "text": [
            "Epoch 13/50\n",
            "Train - Loss: 4.4454, Accuracy: 0.7928, Precision: 0.8706, Recall: 0.6783, AUC: 0.8511\n",
            "Val - Loss: 4.7387, Accuracy: 0.7652, Precision: 0.8400, Recall: 0.6462, AUC: 0.8200\n"
          ]
        },
        {
          "output_type": "stream",
          "name": "stderr",
          "text": [
            "Epoch 14/50, Train: 100%|██████████| 3/3 [00:04<00:00,  1.46s/it]\n",
            "Epoch 14/50, Validation: 100%|██████████| 1/1 [00:01<00:00,  1.21s/it]\n",
            "Evaluate Train: 100%|██████████| 3/3 [00:05<00:00,  1.73s/it]\n",
            "Evaluate Validation: 100%|██████████| 1/1 [00:01<00:00,  1.29s/it]\n"
          ]
        },
        {
          "output_type": "stream",
          "name": "stdout",
          "text": [
            "Epoch 14/50\n",
            "Train - Loss: 4.3930, Accuracy: 0.8099, Precision: 0.8559, Recall: 0.7364, AUC: 0.8686\n",
            "Val - Loss: 4.7130, Accuracy: 0.8030, Precision: 0.8679, Recall: 0.7077, AUC: 0.8375\n"
          ]
        },
        {
          "output_type": "stream",
          "name": "stderr",
          "text": [
            "Epoch 15/50, Train: 100%|██████████| 3/3 [00:05<00:00,  1.69s/it]\n",
            "Epoch 15/50, Validation: 100%|██████████| 1/1 [00:01<00:00,  1.22s/it]\n",
            "Evaluate Train: 100%|██████████| 3/3 [00:04<00:00,  1.36s/it]\n",
            "Evaluate Validation: 100%|██████████| 1/1 [00:01<00:00,  1.30s/it]\n"
          ]
        },
        {
          "output_type": "stream",
          "name": "stdout",
          "text": [
            "Epoch 15/50\n",
            "Train - Loss: 4.3931, Accuracy: 0.8270, Precision: 0.8436, Recall: 0.7946, AUC: 0.8824\n",
            "Val - Loss: 4.6966, Accuracy: 0.7879, Precision: 0.7937, Recall: 0.7692, AUC: 0.8459\n"
          ]
        },
        {
          "output_type": "stream",
          "name": "stderr",
          "text": [
            "Epoch 16/50, Train: 100%|██████████| 3/3 [00:05<00:00,  1.76s/it]\n",
            "Epoch 16/50, Validation: 100%|██████████| 1/1 [00:01<00:00,  1.31s/it]\n",
            "Evaluate Train: 100%|██████████| 3/3 [00:04<00:00,  1.45s/it]\n",
            "Evaluate Validation: 100%|██████████| 1/1 [00:02<00:00,  2.05s/it]\n"
          ]
        },
        {
          "output_type": "stream",
          "name": "stdout",
          "text": [
            "Epoch 16/50\n",
            "Train - Loss: 4.3402, Accuracy: 0.8346, Precision: 0.8406, Recall: 0.8178, AUC: 0.8946\n",
            "Val - Loss: 4.6790, Accuracy: 0.7803, Precision: 0.7647, Recall: 0.8000, AUC: 0.8537\n"
          ]
        },
        {
          "output_type": "stream",
          "name": "stderr",
          "text": [
            "Epoch 17/50, Train: 100%|██████████| 3/3 [00:05<00:00,  1.91s/it]\n",
            "Epoch 17/50, Validation: 100%|██████████| 1/1 [00:01<00:00,  1.29s/it]\n",
            "Evaluate Train: 100%|██████████| 3/3 [00:04<00:00,  1.58s/it]\n",
            "Evaluate Validation: 100%|██████████| 1/1 [00:01<00:00,  1.34s/it]\n"
          ]
        },
        {
          "output_type": "stream",
          "name": "stdout",
          "text": [
            "Epoch 17/50\n",
            "Train - Loss: 4.3805, Accuracy: 0.8517, Precision: 0.8782, Recall: 0.8101, AUC: 0.9070\n",
            "Val - Loss: 4.6640, Accuracy: 0.7879, Precision: 0.7761, Recall: 0.8000, AUC: 0.8572\n"
          ]
        },
        {
          "output_type": "stream",
          "name": "stderr",
          "text": [
            "Epoch 18/50, Train: 100%|██████████| 3/3 [00:04<00:00,  1.63s/it]\n",
            "Epoch 18/50, Validation: 100%|██████████| 1/1 [00:01<00:00,  1.37s/it]\n",
            "Evaluate Train: 100%|██████████| 3/3 [00:04<00:00,  1.55s/it]\n",
            "Evaluate Validation: 100%|██████████| 1/1 [00:01<00:00,  1.35s/it]\n"
          ]
        },
        {
          "output_type": "stream",
          "name": "stdout",
          "text": [
            "Epoch 18/50\n",
            "Train - Loss: 4.3263, Accuracy: 0.8688, Precision: 0.8987, Recall: 0.8256, AUC: 0.9195\n",
            "Val - Loss: 4.6457, Accuracy: 0.8106, Precision: 0.8125, Recall: 0.8000, AUC: 0.8626\n"
          ]
        },
        {
          "output_type": "stream",
          "name": "stderr",
          "text": [
            "Epoch 19/50, Train: 100%|██████████| 3/3 [00:04<00:00,  1.62s/it]\n",
            "Epoch 19/50, Validation: 100%|██████████| 1/1 [00:01<00:00,  1.36s/it]\n",
            "Evaluate Train: 100%|██████████| 3/3 [00:04<00:00,  1.54s/it]\n",
            "Evaluate Validation: 100%|██████████| 1/1 [00:01<00:00,  1.34s/it]\n"
          ]
        },
        {
          "output_type": "stream",
          "name": "stdout",
          "text": [
            "Epoch 19/50\n",
            "Train - Loss: 4.2181, Accuracy: 0.8745, Precision: 0.9068, Recall: 0.8295, AUC: 0.9310\n",
            "Val - Loss: 4.6329, Accuracy: 0.8106, Precision: 0.8125, Recall: 0.8000, AUC: 0.8684\n"
          ]
        },
        {
          "output_type": "stream",
          "name": "stderr",
          "text": [
            "Epoch 20/50, Train: 100%|██████████| 3/3 [00:05<00:00,  1.85s/it]\n",
            "Epoch 20/50, Validation: 100%|██████████| 1/1 [00:01<00:00,  1.49s/it]\n",
            "Evaluate Train: 100%|██████████| 3/3 [00:04<00:00,  1.51s/it]\n",
            "Evaluate Validation: 100%|██████████| 1/1 [00:01<00:00,  1.31s/it]\n"
          ]
        },
        {
          "output_type": "stream",
          "name": "stdout",
          "text": [
            "Epoch 20/50\n",
            "Train - Loss: 4.2451, Accuracy: 0.8821, Precision: 0.9083, Recall: 0.8450, AUC: 0.9402\n",
            "Val - Loss: 4.6275, Accuracy: 0.8182, Precision: 0.8254, Recall: 0.8000, AUC: 0.8730\n"
          ]
        },
        {
          "output_type": "stream",
          "name": "stderr",
          "text": [
            "Epoch 21/50, Train: 100%|██████████| 3/3 [00:04<00:00,  1.61s/it]\n",
            "Epoch 21/50, Validation: 100%|██████████| 1/1 [00:02<00:00,  2.18s/it]\n",
            "Evaluate Train: 100%|██████████| 3/3 [00:04<00:00,  1.38s/it]\n",
            "Evaluate Validation: 100%|██████████| 1/1 [00:01<00:00,  1.59s/it]\n"
          ]
        },
        {
          "output_type": "stream",
          "name": "stdout",
          "text": [
            "Epoch 21/50\n",
            "Train - Loss: 4.2444, Accuracy: 0.8878, Precision: 0.9028, Recall: 0.8643, AUC: 0.9496\n",
            "Val - Loss: 4.6239, Accuracy: 0.8182, Precision: 0.8254, Recall: 0.8000, AUC: 0.8760\n"
          ]
        },
        {
          "output_type": "stream",
          "name": "stderr",
          "text": [
            "Epoch 22/50, Train: 100%|██████████| 3/3 [00:05<00:00,  1.94s/it]\n",
            "Epoch 22/50, Validation: 100%|██████████| 1/1 [00:01<00:00,  1.29s/it]\n",
            "Evaluate Train: 100%|██████████| 3/3 [00:04<00:00,  1.57s/it]\n",
            "Evaluate Validation: 100%|██████████| 1/1 [00:01<00:00,  1.26s/it]\n"
          ]
        },
        {
          "output_type": "stream",
          "name": "stdout",
          "text": [
            "Epoch 22/50\n",
            "Train - Loss: 4.2006, Accuracy: 0.8992, Precision: 0.8927, Recall: 0.9031, AUC: 0.9585\n",
            "Val - Loss: 4.6215, Accuracy: 0.7879, Precision: 0.7606, Recall: 0.8308, AUC: 0.8786\n"
          ]
        },
        {
          "output_type": "stream",
          "name": "stderr",
          "text": [
            "Epoch 23/50, Train: 100%|██████████| 3/3 [00:05<00:00,  1.92s/it]\n",
            "Epoch 23/50, Validation: 100%|██████████| 1/1 [00:01<00:00,  1.21s/it]\n",
            "Evaluate Train: 100%|██████████| 3/3 [00:04<00:00,  1.37s/it]\n",
            "Evaluate Validation: 100%|██████████| 1/1 [00:01<00:00,  1.19s/it]\n"
          ]
        },
        {
          "output_type": "stream",
          "name": "stdout",
          "text": [
            "Epoch 23/50\n",
            "Train - Loss: 4.1472, Accuracy: 0.8973, Precision: 0.8778, Recall: 0.9186, AUC: 0.9667\n",
            "Val - Loss: 4.6218, Accuracy: 0.7652, Precision: 0.7237, Recall: 0.8462, AUC: 0.8803\n"
          ]
        },
        {
          "output_type": "stream",
          "name": "stderr",
          "text": [
            "Epoch 24/50, Train: 100%|██████████| 3/3 [00:05<00:00,  1.79s/it]\n",
            "Epoch 24/50, Validation: 100%|██████████| 1/1 [00:01<00:00,  1.56s/it]\n",
            "Evaluate Train: 100%|██████████| 3/3 [00:04<00:00,  1.45s/it]\n",
            "Evaluate Validation: 100%|██████████| 1/1 [00:01<00:00,  1.62s/it]\n"
          ]
        },
        {
          "output_type": "stream",
          "name": "stdout",
          "text": [
            "Epoch 24/50\n",
            "Train - Loss: 4.1474, Accuracy: 0.9163, Precision: 0.9053, Recall: 0.9264, AUC: 0.9734\n",
            "Val - Loss: 4.6220, Accuracy: 0.7803, Precision: 0.7432, Recall: 0.8462, AUC: 0.8840\n"
          ]
        },
        {
          "output_type": "stream",
          "name": "stderr",
          "text": [
            "Epoch 25/50, Train: 100%|██████████| 3/3 [00:05<00:00,  1.73s/it]\n",
            "Epoch 25/50, Validation: 100%|██████████| 1/1 [00:01<00:00,  1.43s/it]\n",
            "Evaluate Train: 100%|██████████| 3/3 [00:04<00:00,  1.51s/it]\n",
            "Evaluate Validation: 100%|██████████| 1/1 [00:01<00:00,  1.55s/it]\n"
          ]
        },
        {
          "output_type": "stream",
          "name": "stdout",
          "text": [
            "Epoch 25/50\n",
            "Train - Loss: 4.1200, Accuracy: 0.9163, Precision: 0.9053, Recall: 0.9264, AUC: 0.9785\n",
            "Val - Loss: 4.6265, Accuracy: 0.7727, Precision: 0.7333, Recall: 0.8462, AUC: 0.8848\n"
          ]
        },
        {
          "output_type": "stream",
          "name": "stderr",
          "text": [
            "Epoch 26/50, Train: 100%|██████████| 3/3 [00:05<00:00,  1.76s/it]\n",
            "Epoch 26/50, Validation: 100%|██████████| 1/1 [00:01<00:00,  1.69s/it]\n",
            "Evaluate Train: 100%|██████████| 3/3 [00:05<00:00,  1.68s/it]\n",
            "Evaluate Validation: 100%|██████████| 1/1 [00:01<00:00,  1.42s/it]\n"
          ]
        },
        {
          "output_type": "stream",
          "name": "stdout",
          "text": [
            "Epoch 26/50\n",
            "Train - Loss: 4.1418, Accuracy: 0.9354, Precision: 0.9341, Recall: 0.9341, AUC: 0.9836\n",
            "Val - Loss: 4.6344, Accuracy: 0.7727, Precision: 0.7397, Recall: 0.8308, AUC: 0.8845\n"
          ]
        },
        {
          "output_type": "stream",
          "name": "stderr",
          "text": [
            "Epoch 27/50, Train: 100%|██████████| 3/3 [00:04<00:00,  1.55s/it]\n",
            "Epoch 27/50, Validation: 100%|██████████| 1/1 [00:01<00:00,  1.30s/it]\n",
            "Evaluate Train: 100%|██████████| 3/3 [00:04<00:00,  1.54s/it]\n",
            "Evaluate Validation: 100%|██████████| 1/1 [00:01<00:00,  1.35s/it]\n"
          ]
        },
        {
          "output_type": "stream",
          "name": "stdout",
          "text": [
            "Epoch 27/50\n",
            "Train - Loss: 4.0829, Accuracy: 0.9563, Precision: 0.9572, Recall: 0.9535, AUC: 0.9878\n",
            "Val - Loss: 4.6547, Accuracy: 0.7803, Precision: 0.7432, Recall: 0.8462, AUC: 0.8834\n",
            "Early stopping triggered.\n"
          ]
        },
        {
          "output_type": "stream",
          "name": "stderr",
          "text": [
            "Evaluate Test: 100%|██████████| 1/1 [00:01<00:00,  1.30s/it]"
          ]
        },
        {
          "output_type": "stream",
          "name": "stdout",
          "text": [
            "\n",
            "Accuracy: 0.7515, Precision: 0.7500, Recall: 0.7407, AUC: 0.8178\n",
            "Results saved to results/t_pretrained/ori/medclip/classification_results.txt\n"
          ]
        },
        {
          "output_type": "stream",
          "name": "stderr",
          "text": [
            "\n"
          ]
        },
        {
          "output_type": "display_data",
          "data": {
            "text/plain": [
              "<Figure size 640x480 with 0 Axes>"
            ]
          },
          "metadata": {}
        }
      ],
      "source": [
        "%run MedCLIP-pediatric/scripts/t_medclip.py"
      ]
    },
    {
      "cell_type": "code",
      "execution_count": 2,
      "metadata": {
        "id": "yEJjZBwxabMy",
        "colab": {
          "base_uri": "https://localhost:8080/",
          "height": 766
        },
        "outputId": "14b32caa-43be-485f-b128-636de65aa563"
      },
      "outputs": [
        {
          "output_type": "stream",
          "name": "stdout",
          "text": [
            "Google Drive is already mounted.\n"
          ]
        },
        {
          "output_type": "stream",
          "name": "stderr",
          "text": [
            "/usr/local/lib/python3.10/dist-packages/keras/src/preprocessing/image.py:766: UserWarning: NumpyArrayIterator is set to use the data format convention \"channels_last\" (channels on axis 3), i.e. expected either 1, 3, or 4 channels on axis 3. However, it was passed an array with shape (1967, 3, 224, 224) (224 channels).\n",
            "  warnings.warn(\n",
            "/usr/local/lib/python3.10/dist-packages/keras/src/preprocessing/image.py:766: UserWarning: NumpyArrayIterator is set to use the data format convention \"channels_last\" (channels on axis 3), i.e. expected either 1, 3, or 4 channels on axis 3. However, it was passed an array with shape (493, 3, 224, 224) (224 channels).\n",
            "  warnings.warn(\n",
            "/usr/local/lib/python3.10/dist-packages/keras/src/preprocessing/image.py:766: UserWarning: NumpyArrayIterator is set to use the data format convention \"channels_last\" (channels on axis 3), i.e. expected either 1, 3, or 4 channels on axis 3. However, it was passed an array with shape (616, 3, 224, 224) (224 channels).\n",
            "  warnings.warn(\n",
            "WARNING:matplotlib.image:Clipping input data to the valid range for imshow with RGB data ([0..1] for floats or [0..255] for integers).\n",
            "WARNING:matplotlib.image:Clipping input data to the valid range for imshow with RGB data ([0..1] for floats or [0..255] for integers).\n",
            "WARNING:matplotlib.image:Clipping input data to the valid range for imshow with RGB data ([0..1] for floats or [0..255] for integers).\n",
            "WARNING:matplotlib.image:Clipping input data to the valid range for imshow with RGB data ([0..1] for floats or [0..255] for integers).\n",
            "WARNING:matplotlib.image:Clipping input data to the valid range for imshow with RGB data ([0..1] for floats or [0..255] for integers).\n",
            "WARNING:matplotlib.image:Clipping input data to the valid range for imshow with RGB data ([0..1] for floats or [0..255] for integers).\n"
          ]
        },
        {
          "output_type": "stream",
          "name": "stdout",
          "text": [
            "Results saved to results/visualization/zero_shot_finetune/ucsd/clip/images/cxr_images.png\n",
            "NVIDIA library configured successfully.\n"
          ]
        },
        {
          "output_type": "stream",
          "name": "stderr",
          "text": [
            "Evaluate Train: 100%|██████████| 8/8 [00:01<00:00,  5.45it/s]\n",
            "Evaluate Validation: 100%|██████████| 2/2 [00:00<00:00,  7.42it/s]\n",
            "Evaluate Test: 100%|██████████| 3/3 [00:00<00:00,  8.88it/s]\n"
          ]
        },
        {
          "output_type": "stream",
          "name": "stdout",
          "text": [
            "\n",
            "Accuracy: 0.7480, Precision: 0.7152, Recall: 0.7991, AUC: 0.6809\n",
            "Results saved to results/zs_clip_finetune/ucsd/clip/classification_results.txt\n"
          ]
        },
        {
          "output_type": "stream",
          "name": "stderr",
          "text": [
            "/usr/local/lib/python3.10/dist-packages/keras/src/preprocessing/image.py:766: UserWarning: NumpyArrayIterator is set to use the data format convention \"channels_last\" (channels on axis 3), i.e. expected either 1, 3, or 4 channels on axis 3. However, it was passed an array with shape (526, 3, 224, 224) (224 channels).\n",
            "  warnings.warn(\n",
            "/usr/local/lib/python3.10/dist-packages/keras/src/preprocessing/image.py:766: UserWarning: NumpyArrayIterator is set to use the data format convention \"channels_last\" (channels on axis 3), i.e. expected either 1, 3, or 4 channels on axis 3. However, it was passed an array with shape (132, 3, 224, 224) (224 channels).\n",
            "  warnings.warn(\n",
            "/usr/local/lib/python3.10/dist-packages/keras/src/preprocessing/image.py:766: UserWarning: NumpyArrayIterator is set to use the data format convention \"channels_last\" (channels on axis 3), i.e. expected either 1, 3, or 4 channels on axis 3. However, it was passed an array with shape (165, 3, 224, 224) (224 channels).\n",
            "  warnings.warn(\n",
            "WARNING:matplotlib.image:Clipping input data to the valid range for imshow with RGB data ([0..1] for floats or [0..255] for integers).\n",
            "WARNING:matplotlib.image:Clipping input data to the valid range for imshow with RGB data ([0..1] for floats or [0..255] for integers).\n",
            "WARNING:matplotlib.image:Clipping input data to the valid range for imshow with RGB data ([0..1] for floats or [0..255] for integers).\n",
            "WARNING:matplotlib.image:Clipping input data to the valid range for imshow with RGB data ([0..1] for floats or [0..255] for integers).\n",
            "WARNING:matplotlib.image:Clipping input data to the valid range for imshow with RGB data ([0..1] for floats or [0..255] for integers).\n",
            "WARNING:matplotlib.image:Clipping input data to the valid range for imshow with RGB data ([0..1] for floats or [0..255] for integers).\n"
          ]
        },
        {
          "output_type": "stream",
          "name": "stdout",
          "text": [
            "Results saved to results/visualization/zero_shot_finetune/ori/clip/images/cxr_images.png\n",
            "NVIDIA library configured successfully.\n"
          ]
        },
        {
          "output_type": "stream",
          "name": "stderr",
          "text": [
            "Evaluate Train: 100%|██████████| 3/3 [00:01<00:00,  2.30it/s]\n",
            "Evaluate Validation: 100%|██████████| 1/1 [00:00<00:00, 12.81it/s]\n",
            "Evaluate Test: 100%|██████████| 1/1 [00:00<00:00, 10.35it/s]\n"
          ]
        },
        {
          "output_type": "stream",
          "name": "stdout",
          "text": [
            "\n",
            "Accuracy: 0.6731, Precision: 0.6829, Recall: 0.6238, AUC: 0.5810\n",
            "Results saved to results/zs_clip_finetune/ori/clip/classification_results.txt\n"
          ]
        },
        {
          "output_type": "display_data",
          "data": {
            "text/plain": [
              "<Figure size 640x480 with 0 Axes>"
            ]
          },
          "metadata": {}
        }
      ],
      "source": [
        "%run MedCLIP-pediatric/scripts/zs_clip_finetune.py"
      ]
    },
    {
      "cell_type": "code",
      "execution_count": 3,
      "metadata": {
        "id": "UQZ80mayaHMz",
        "colab": {
          "base_uri": "https://localhost:8080/",
          "height": 1000
        },
        "outputId": "97b0467f-0557-4c3a-9b33-bef40ede090a"
      },
      "outputs": [
        {
          "output_type": "stream",
          "name": "stdout",
          "text": [
            "Google Drive is already mounted.\n"
          ]
        },
        {
          "output_type": "stream",
          "name": "stderr",
          "text": [
            "/usr/local/lib/python3.10/dist-packages/keras/src/preprocessing/image.py:766: UserWarning: NumpyArrayIterator is set to use the data format convention \"channels_last\" (channels on axis 3), i.e. expected either 1, 3, or 4 channels on axis 3. However, it was passed an array with shape (1967, 1, 224, 224) (224 channels).\n",
            "  warnings.warn(\n",
            "/usr/local/lib/python3.10/dist-packages/keras/src/preprocessing/image.py:766: UserWarning: NumpyArrayIterator is set to use the data format convention \"channels_last\" (channels on axis 3), i.e. expected either 1, 3, or 4 channels on axis 3. However, it was passed an array with shape (493, 1, 224, 224) (224 channels).\n",
            "  warnings.warn(\n",
            "/usr/local/lib/python3.10/dist-packages/keras/src/preprocessing/image.py:766: UserWarning: NumpyArrayIterator is set to use the data format convention \"channels_last\" (channels on axis 3), i.e. expected either 1, 3, or 4 channels on axis 3. However, it was passed an array with shape (616, 1, 224, 224) (224 channels).\n",
            "  warnings.warn(\n"
          ]
        },
        {
          "output_type": "stream",
          "name": "stdout",
          "text": [
            "Results saved to results/visualization/zero_shot_finetune/ucsd/medclip/images/cxr_images.png\n",
            "NVIDIA library configured successfully.\n"
          ]
        },
        {
          "output_type": "stream",
          "name": "stderr",
          "text": [
            "Some weights of the model checkpoint at microsoft/swin-tiny-patch4-window7-224 were not used when initializing SwinModel: ['classifier.weight', 'classifier.bias']\n",
            "- This IS expected if you are initializing SwinModel from the checkpoint of a model trained on another task or with another architecture (e.g. initializing a BertForSequenceClassification model from a BertForPreTraining model).\n",
            "- This IS NOT expected if you are initializing SwinModel from the checkpoint of a model that you expect to be exactly identical (initializing a BertForSequenceClassification model from a BertForSequenceClassification model).\n",
            "Some weights of the model checkpoint at emilyalsentzer/Bio_ClinicalBERT were not used when initializing BertModel: ['cls.seq_relationship.bias', 'cls.predictions.bias', 'cls.seq_relationship.weight', 'cls.predictions.transform.dense.bias', 'cls.predictions.decoder.weight', 'cls.predictions.transform.LayerNorm.bias', 'cls.predictions.transform.LayerNorm.weight', 'cls.predictions.transform.dense.weight']\n",
            "- This IS expected if you are initializing BertModel from the checkpoint of a model trained on another task or with another architecture (e.g. initializing a BertForSequenceClassification model from a BertForPreTraining model).\n",
            "- This IS NOT expected if you are initializing BertModel from the checkpoint of a model that you expect to be exactly identical (initializing a BertForSequenceClassification model from a BertForSequenceClassification model).\n"
          ]
        },
        {
          "output_type": "stream",
          "name": "stdout",
          "text": [
            "load model weight from: ./pretrained/medclip-vit\n"
          ]
        },
        {
          "output_type": "stream",
          "name": "stderr",
          "text": [
            "\rEvaluate Train:   0%|          | 0/8 [00:00<?, ?it/s]"
          ]
        },
        {
          "output_type": "stream",
          "name": "stdout",
          "text": [
            "sample 1 num of prompts for COVID from total 12\n"
          ]
        },
        {
          "output_type": "stream",
          "name": "stderr",
          "text": [
            "\rEvaluate Train:  12%|█▎        | 1/8 [00:01<00:10,  1.44s/it]"
          ]
        },
        {
          "output_type": "stream",
          "name": "stdout",
          "text": [
            "sample 1 num of prompts for COVID from total 12\n"
          ]
        },
        {
          "output_type": "stream",
          "name": "stderr",
          "text": [
            "\rEvaluate Train:  25%|██▌       | 2/8 [00:02<00:08,  1.48s/it]"
          ]
        },
        {
          "output_type": "stream",
          "name": "stdout",
          "text": [
            "sample 1 num of prompts for COVID from total 12\n"
          ]
        },
        {
          "output_type": "stream",
          "name": "stderr",
          "text": [
            "\rEvaluate Train:  38%|███▊      | 3/8 [00:04<00:07,  1.49s/it]"
          ]
        },
        {
          "output_type": "stream",
          "name": "stdout",
          "text": [
            "sample 1 num of prompts for COVID from total 12\n"
          ]
        },
        {
          "output_type": "stream",
          "name": "stderr",
          "text": [
            "\rEvaluate Train:  50%|█████     | 4/8 [00:05<00:05,  1.45s/it]"
          ]
        },
        {
          "output_type": "stream",
          "name": "stdout",
          "text": [
            "sample 1 num of prompts for COVID from total 12\n"
          ]
        },
        {
          "output_type": "stream",
          "name": "stderr",
          "text": [
            "\rEvaluate Train:  62%|██████▎   | 5/8 [00:07<00:04,  1.48s/it]"
          ]
        },
        {
          "output_type": "stream",
          "name": "stdout",
          "text": [
            "sample 1 num of prompts for COVID from total 12\n"
          ]
        },
        {
          "output_type": "stream",
          "name": "stderr",
          "text": [
            "\rEvaluate Train:  75%|███████▌  | 6/8 [00:08<00:02,  1.45s/it]"
          ]
        },
        {
          "output_type": "stream",
          "name": "stdout",
          "text": [
            "sample 1 num of prompts for COVID from total 12\n"
          ]
        },
        {
          "output_type": "stream",
          "name": "stderr",
          "text": [
            "\rEvaluate Train:  88%|████████▊ | 7/8 [00:10<00:01,  1.47s/it]"
          ]
        },
        {
          "output_type": "stream",
          "name": "stdout",
          "text": [
            "sample 1 num of prompts for COVID from total 12\n"
          ]
        },
        {
          "output_type": "stream",
          "name": "stderr",
          "text": [
            "Evaluate Train: 100%|██████████| 8/8 [00:11<00:00,  1.48s/it]\n",
            "Evaluate Validation:   0%|          | 0/2 [00:00<?, ?it/s]"
          ]
        },
        {
          "output_type": "stream",
          "name": "stdout",
          "text": [
            "sample 1 num of prompts for COVID from total 12\n"
          ]
        },
        {
          "output_type": "stream",
          "name": "stderr",
          "text": [
            "\rEvaluate Validation:  50%|█████     | 1/2 [00:01<00:01,  1.36s/it]"
          ]
        },
        {
          "output_type": "stream",
          "name": "stdout",
          "text": [
            "sample 1 num of prompts for COVID from total 12\n"
          ]
        },
        {
          "output_type": "stream",
          "name": "stderr",
          "text": [
            "Evaluate Validation: 100%|██████████| 2/2 [00:02<00:00,  1.39s/it]\n",
            "Evaluate Test:   0%|          | 0/3 [00:00<?, ?it/s]"
          ]
        },
        {
          "output_type": "stream",
          "name": "stdout",
          "text": [
            "sample 1 num of prompts for COVID from total 12\n"
          ]
        },
        {
          "output_type": "stream",
          "name": "stderr",
          "text": [
            "\rEvaluate Test:  33%|███▎      | 1/3 [00:01<00:02,  1.38s/it]"
          ]
        },
        {
          "output_type": "stream",
          "name": "stdout",
          "text": [
            "sample 1 num of prompts for COVID from total 12\n"
          ]
        },
        {
          "output_type": "stream",
          "name": "stderr",
          "text": [
            "\rEvaluate Test:  67%|██████▋   | 2/3 [00:03<00:01,  1.63s/it]"
          ]
        },
        {
          "output_type": "stream",
          "name": "stdout",
          "text": [
            "sample 1 num of prompts for COVID from total 12\n"
          ]
        },
        {
          "output_type": "stream",
          "name": "stderr",
          "text": [
            "Evaluate Test: 100%|██████████| 3/3 [00:04<00:00,  1.54s/it]\n"
          ]
        },
        {
          "output_type": "stream",
          "name": "stdout",
          "text": [
            "\n",
            "Accuracy: 0.9743, Precision: 0.9573, Recall: 0.9913, AUC: 0.9923\n"
          ]
        },
        {
          "output_type": "stream",
          "name": "stderr",
          "text": [
            "\rEvaluate Train:   0%|          | 0/8 [00:00<?, ?it/s]"
          ]
        },
        {
          "output_type": "stream",
          "name": "stdout",
          "text": [
            "sample 2 num of prompts for COVID from total 12\n"
          ]
        },
        {
          "output_type": "stream",
          "name": "stderr",
          "text": [
            "\rEvaluate Train:  12%|█▎        | 1/8 [00:01<00:09,  1.38s/it]"
          ]
        },
        {
          "output_type": "stream",
          "name": "stdout",
          "text": [
            "sample 2 num of prompts for COVID from total 12\n"
          ]
        },
        {
          "output_type": "stream",
          "name": "stderr",
          "text": [
            "\rEvaluate Train:  25%|██▌       | 2/8 [00:02<00:08,  1.38s/it]"
          ]
        },
        {
          "output_type": "stream",
          "name": "stdout",
          "text": [
            "sample 2 num of prompts for COVID from total 12\n"
          ]
        },
        {
          "output_type": "stream",
          "name": "stderr",
          "text": [
            "\rEvaluate Train:  38%|███▊      | 3/8 [00:04<00:07,  1.48s/it]"
          ]
        },
        {
          "output_type": "stream",
          "name": "stdout",
          "text": [
            "sample 2 num of prompts for COVID from total 12\n"
          ]
        },
        {
          "output_type": "stream",
          "name": "stderr",
          "text": [
            "\rEvaluate Train:  50%|█████     | 4/8 [00:05<00:06,  1.52s/it]"
          ]
        },
        {
          "output_type": "stream",
          "name": "stdout",
          "text": [
            "sample 2 num of prompts for COVID from total 12\n"
          ]
        },
        {
          "output_type": "stream",
          "name": "stderr",
          "text": [
            "\rEvaluate Train:  62%|██████▎   | 5/8 [00:07<00:04,  1.47s/it]"
          ]
        },
        {
          "output_type": "stream",
          "name": "stdout",
          "text": [
            "sample 2 num of prompts for COVID from total 12\n"
          ]
        },
        {
          "output_type": "stream",
          "name": "stderr",
          "text": [
            "\rEvaluate Train:  75%|███████▌  | 6/8 [00:08<00:02,  1.44s/it]"
          ]
        },
        {
          "output_type": "stream",
          "name": "stdout",
          "text": [
            "sample 2 num of prompts for COVID from total 12\n"
          ]
        },
        {
          "output_type": "stream",
          "name": "stderr",
          "text": [
            "\rEvaluate Train:  88%|████████▊ | 7/8 [00:10<00:01,  1.68s/it]"
          ]
        },
        {
          "output_type": "stream",
          "name": "stdout",
          "text": [
            "sample 2 num of prompts for COVID from total 12\n"
          ]
        },
        {
          "output_type": "stream",
          "name": "stderr",
          "text": [
            "Evaluate Train: 100%|██████████| 8/8 [00:13<00:00,  1.64s/it]\n",
            "Evaluate Validation:   0%|          | 0/2 [00:00<?, ?it/s]"
          ]
        },
        {
          "output_type": "stream",
          "name": "stdout",
          "text": [
            "sample 2 num of prompts for COVID from total 12\n"
          ]
        },
        {
          "output_type": "stream",
          "name": "stderr",
          "text": [
            "\rEvaluate Validation:  50%|█████     | 1/2 [00:01<00:01,  1.48s/it]"
          ]
        },
        {
          "output_type": "stream",
          "name": "stdout",
          "text": [
            "sample 2 num of prompts for COVID from total 12\n"
          ]
        },
        {
          "output_type": "stream",
          "name": "stderr",
          "text": [
            "Evaluate Validation: 100%|██████████| 2/2 [00:02<00:00,  1.44s/it]\n",
            "Evaluate Test:   0%|          | 0/3 [00:00<?, ?it/s]"
          ]
        },
        {
          "output_type": "stream",
          "name": "stdout",
          "text": [
            "sample 2 num of prompts for COVID from total 12\n"
          ]
        },
        {
          "output_type": "stream",
          "name": "stderr",
          "text": [
            "\rEvaluate Test:  33%|███▎      | 1/3 [00:01<00:02,  1.40s/it]"
          ]
        },
        {
          "output_type": "stream",
          "name": "stdout",
          "text": [
            "sample 2 num of prompts for COVID from total 12\n"
          ]
        },
        {
          "output_type": "stream",
          "name": "stderr",
          "text": [
            "\rEvaluate Test:  67%|██████▋   | 2/3 [00:03<00:01,  1.68s/it]"
          ]
        },
        {
          "output_type": "stream",
          "name": "stdout",
          "text": [
            "sample 2 num of prompts for COVID from total 12\n"
          ]
        },
        {
          "output_type": "stream",
          "name": "stderr",
          "text": [
            "Evaluate Test: 100%|██████████| 3/3 [00:04<00:00,  1.60s/it]\n"
          ]
        },
        {
          "output_type": "stream",
          "name": "stdout",
          "text": [
            "\n",
            "Accuracy: 0.9701, Precision: 0.9488, Recall: 0.9920, AUC: 0.9923\n"
          ]
        },
        {
          "output_type": "stream",
          "name": "stderr",
          "text": [
            "\rEvaluate Train:   0%|          | 0/8 [00:00<?, ?it/s]"
          ]
        },
        {
          "output_type": "stream",
          "name": "stdout",
          "text": [
            "sample 3 num of prompts for COVID from total 12\n"
          ]
        },
        {
          "output_type": "stream",
          "name": "stderr",
          "text": [
            "\rEvaluate Train:  12%|█▎        | 1/8 [00:02<00:17,  2.44s/it]"
          ]
        },
        {
          "output_type": "stream",
          "name": "stdout",
          "text": [
            "sample 3 num of prompts for COVID from total 12\n"
          ]
        },
        {
          "output_type": "stream",
          "name": "stderr",
          "text": [
            "\rEvaluate Train:  25%|██▌       | 2/8 [00:04<00:12,  2.12s/it]"
          ]
        },
        {
          "output_type": "stream",
          "name": "stdout",
          "text": [
            "sample 3 num of prompts for COVID from total 12\n"
          ]
        },
        {
          "output_type": "stream",
          "name": "stderr",
          "text": [
            "\rEvaluate Train:  38%|███▊      | 3/8 [00:06<00:10,  2.10s/it]"
          ]
        },
        {
          "output_type": "stream",
          "name": "stdout",
          "text": [
            "sample 3 num of prompts for COVID from total 12\n"
          ]
        },
        {
          "output_type": "stream",
          "name": "stderr",
          "text": [
            "\rEvaluate Train:  50%|█████     | 4/8 [00:07<00:07,  1.85s/it]"
          ]
        },
        {
          "output_type": "stream",
          "name": "stdout",
          "text": [
            "sample 3 num of prompts for COVID from total 12\n"
          ]
        },
        {
          "output_type": "stream",
          "name": "stderr",
          "text": [
            "\rEvaluate Train:  62%|██████▎   | 5/8 [00:09<00:05,  1.69s/it]"
          ]
        },
        {
          "output_type": "stream",
          "name": "stdout",
          "text": [
            "sample 3 num of prompts for COVID from total 12\n"
          ]
        },
        {
          "output_type": "stream",
          "name": "stderr",
          "text": [
            "\rEvaluate Train:  75%|███████▌  | 6/8 [00:10<00:03,  1.59s/it]"
          ]
        },
        {
          "output_type": "stream",
          "name": "stdout",
          "text": [
            "sample 3 num of prompts for COVID from total 12\n"
          ]
        },
        {
          "output_type": "stream",
          "name": "stderr",
          "text": [
            "\rEvaluate Train:  88%|████████▊ | 7/8 [00:12<00:01,  1.54s/it]"
          ]
        },
        {
          "output_type": "stream",
          "name": "stdout",
          "text": [
            "sample 3 num of prompts for COVID from total 12\n"
          ]
        },
        {
          "output_type": "stream",
          "name": "stderr",
          "text": [
            "Evaluate Train: 100%|██████████| 8/8 [00:13<00:00,  1.75s/it]\n",
            "Evaluate Validation:   0%|          | 0/2 [00:00<?, ?it/s]"
          ]
        },
        {
          "output_type": "stream",
          "name": "stdout",
          "text": [
            "sample 3 num of prompts for COVID from total 12\n"
          ]
        },
        {
          "output_type": "stream",
          "name": "stderr",
          "text": [
            "\rEvaluate Validation:  50%|█████     | 1/2 [00:01<00:01,  1.59s/it]"
          ]
        },
        {
          "output_type": "stream",
          "name": "stdout",
          "text": [
            "sample 3 num of prompts for COVID from total 12\n"
          ]
        },
        {
          "output_type": "stream",
          "name": "stderr",
          "text": [
            "Evaluate Validation: 100%|██████████| 2/2 [00:03<00:00,  1.94s/it]\n",
            "Evaluate Test:   0%|          | 0/3 [00:00<?, ?it/s]"
          ]
        },
        {
          "output_type": "stream",
          "name": "stdout",
          "text": [
            "sample 3 num of prompts for COVID from total 12\n"
          ]
        },
        {
          "output_type": "stream",
          "name": "stderr",
          "text": [
            "\rEvaluate Test:  33%|███▎      | 1/3 [00:01<00:03,  1.54s/it]"
          ]
        },
        {
          "output_type": "stream",
          "name": "stdout",
          "text": [
            "sample 3 num of prompts for COVID from total 12\n"
          ]
        },
        {
          "output_type": "stream",
          "name": "stderr",
          "text": [
            "\rEvaluate Test:  67%|██████▋   | 2/3 [00:02<00:01,  1.46s/it]"
          ]
        },
        {
          "output_type": "stream",
          "name": "stdout",
          "text": [
            "sample 3 num of prompts for COVID from total 12\n"
          ]
        },
        {
          "output_type": "stream",
          "name": "stderr",
          "text": [
            "Evaluate Test: 100%|██████████| 3/3 [00:04<00:00,  1.47s/it]\n"
          ]
        },
        {
          "output_type": "stream",
          "name": "stdout",
          "text": [
            "\n",
            "Accuracy: 0.9694, Precision: 0.9470, Recall: 0.9926, AUC: 0.9932\n"
          ]
        },
        {
          "output_type": "stream",
          "name": "stderr",
          "text": [
            "\rEvaluate Train:   0%|          | 0/8 [00:00<?, ?it/s]"
          ]
        },
        {
          "output_type": "stream",
          "name": "stdout",
          "text": [
            "sample 4 num of prompts for COVID from total 12\n"
          ]
        },
        {
          "output_type": "stream",
          "name": "stderr",
          "text": [
            "\rEvaluate Train:  12%|█▎        | 1/8 [00:01<00:09,  1.37s/it]"
          ]
        },
        {
          "output_type": "stream",
          "name": "stdout",
          "text": [
            "sample 4 num of prompts for COVID from total 12\n"
          ]
        },
        {
          "output_type": "stream",
          "name": "stderr",
          "text": [
            "\rEvaluate Train:  25%|██▌       | 2/8 [00:03<00:09,  1.67s/it]"
          ]
        },
        {
          "output_type": "stream",
          "name": "stdout",
          "text": [
            "sample 4 num of prompts for COVID from total 12\n"
          ]
        },
        {
          "output_type": "stream",
          "name": "stderr",
          "text": [
            "\rEvaluate Train:  38%|███▊      | 3/8 [00:04<00:07,  1.55s/it]"
          ]
        },
        {
          "output_type": "stream",
          "name": "stdout",
          "text": [
            "sample 4 num of prompts for COVID from total 12\n"
          ]
        },
        {
          "output_type": "stream",
          "name": "stderr",
          "text": [
            "\rEvaluate Train:  50%|█████     | 4/8 [00:06<00:06,  1.53s/it]"
          ]
        },
        {
          "output_type": "stream",
          "name": "stdout",
          "text": [
            "sample 4 num of prompts for COVID from total 12\n"
          ]
        },
        {
          "output_type": "stream",
          "name": "stderr",
          "text": [
            "\rEvaluate Train:  62%|██████▎   | 5/8 [00:07<00:04,  1.47s/it]"
          ]
        },
        {
          "output_type": "stream",
          "name": "stdout",
          "text": [
            "sample 4 num of prompts for COVID from total 12\n"
          ]
        },
        {
          "output_type": "stream",
          "name": "stderr",
          "text": [
            "\rEvaluate Train:  75%|███████▌  | 6/8 [00:09<00:03,  1.75s/it]"
          ]
        },
        {
          "output_type": "stream",
          "name": "stdout",
          "text": [
            "sample 4 num of prompts for COVID from total 12\n"
          ]
        },
        {
          "output_type": "stream",
          "name": "stderr",
          "text": [
            "\rEvaluate Train:  88%|████████▊ | 7/8 [00:12<00:01,  1.91s/it]"
          ]
        },
        {
          "output_type": "stream",
          "name": "stdout",
          "text": [
            "sample 4 num of prompts for COVID from total 12\n"
          ]
        },
        {
          "output_type": "stream",
          "name": "stderr",
          "text": [
            "Evaluate Train: 100%|██████████| 8/8 [00:13<00:00,  1.70s/it]\n",
            "Evaluate Validation:   0%|          | 0/2 [00:00<?, ?it/s]"
          ]
        },
        {
          "output_type": "stream",
          "name": "stdout",
          "text": [
            "sample 4 num of prompts for COVID from total 12\n"
          ]
        },
        {
          "output_type": "stream",
          "name": "stderr",
          "text": [
            "\rEvaluate Validation:  50%|█████     | 1/2 [00:01<00:01,  1.44s/it]"
          ]
        },
        {
          "output_type": "stream",
          "name": "stdout",
          "text": [
            "sample 4 num of prompts for COVID from total 12\n"
          ]
        },
        {
          "output_type": "stream",
          "name": "stderr",
          "text": [
            "Evaluate Validation: 100%|██████████| 2/2 [00:02<00:00,  1.49s/it]\n",
            "Evaluate Test:   0%|          | 0/3 [00:00<?, ?it/s]"
          ]
        },
        {
          "output_type": "stream",
          "name": "stdout",
          "text": [
            "sample 4 num of prompts for COVID from total 12\n"
          ]
        },
        {
          "output_type": "stream",
          "name": "stderr",
          "text": [
            "\rEvaluate Test:  33%|███▎      | 1/3 [00:01<00:02,  1.37s/it]"
          ]
        },
        {
          "output_type": "stream",
          "name": "stdout",
          "text": [
            "sample 4 num of prompts for COVID from total 12\n"
          ]
        },
        {
          "output_type": "stream",
          "name": "stderr",
          "text": [
            "\rEvaluate Test:  67%|██████▋   | 2/3 [00:02<00:01,  1.41s/it]"
          ]
        },
        {
          "output_type": "stream",
          "name": "stdout",
          "text": [
            "sample 4 num of prompts for COVID from total 12\n"
          ]
        },
        {
          "output_type": "stream",
          "name": "stderr",
          "text": [
            "Evaluate Test: 100%|██████████| 3/3 [00:04<00:00,  1.46s/it]\n"
          ]
        },
        {
          "output_type": "stream",
          "name": "stdout",
          "text": [
            "\n",
            "Accuracy: 0.9668, Precision: 0.9421, Recall: 0.9926, AUC: 0.9927\n"
          ]
        },
        {
          "output_type": "stream",
          "name": "stderr",
          "text": [
            "\rEvaluate Train:   0%|          | 0/8 [00:00<?, ?it/s]"
          ]
        },
        {
          "output_type": "stream",
          "name": "stdout",
          "text": [
            "sample 5 num of prompts for COVID from total 12\n"
          ]
        },
        {
          "output_type": "stream",
          "name": "stderr",
          "text": [
            "\rEvaluate Train:  12%|█▎        | 1/8 [00:01<00:09,  1.43s/it]"
          ]
        },
        {
          "output_type": "stream",
          "name": "stdout",
          "text": [
            "sample 5 num of prompts for COVID from total 12\n"
          ]
        },
        {
          "output_type": "stream",
          "name": "stderr",
          "text": [
            "\rEvaluate Train:  25%|██▌       | 2/8 [00:03<00:10,  1.72s/it]"
          ]
        },
        {
          "output_type": "stream",
          "name": "stdout",
          "text": [
            "sample 5 num of prompts for COVID from total 12\n"
          ]
        },
        {
          "output_type": "stream",
          "name": "stderr",
          "text": [
            "\rEvaluate Train:  38%|███▊      | 3/8 [00:04<00:08,  1.61s/it]"
          ]
        },
        {
          "output_type": "stream",
          "name": "stdout",
          "text": [
            "sample 5 num of prompts for COVID from total 12\n"
          ]
        },
        {
          "output_type": "stream",
          "name": "stderr",
          "text": [
            "\rEvaluate Train:  50%|█████     | 4/8 [00:06<00:06,  1.57s/it]"
          ]
        },
        {
          "output_type": "stream",
          "name": "stdout",
          "text": [
            "sample 5 num of prompts for COVID from total 12\n"
          ]
        },
        {
          "output_type": "stream",
          "name": "stderr",
          "text": [
            "\rEvaluate Train:  62%|██████▎   | 5/8 [00:07<00:04,  1.51s/it]"
          ]
        },
        {
          "output_type": "stream",
          "name": "stdout",
          "text": [
            "sample 5 num of prompts for COVID from total 12\n"
          ]
        },
        {
          "output_type": "stream",
          "name": "stderr",
          "text": [
            "\rEvaluate Train:  75%|███████▌  | 6/8 [00:09<00:03,  1.76s/it]"
          ]
        },
        {
          "output_type": "stream",
          "name": "stdout",
          "text": [
            "sample 5 num of prompts for COVID from total 12\n"
          ]
        },
        {
          "output_type": "stream",
          "name": "stderr",
          "text": [
            "\rEvaluate Train:  88%|████████▊ | 7/8 [00:11<00:01,  1.65s/it]"
          ]
        },
        {
          "output_type": "stream",
          "name": "stdout",
          "text": [
            "sample 5 num of prompts for COVID from total 12\n"
          ]
        },
        {
          "output_type": "stream",
          "name": "stderr",
          "text": [
            "Evaluate Train: 100%|██████████| 8/8 [00:12<00:00,  1.59s/it]\n",
            "Evaluate Validation:   0%|          | 0/2 [00:00<?, ?it/s]"
          ]
        },
        {
          "output_type": "stream",
          "name": "stdout",
          "text": [
            "sample 5 num of prompts for COVID from total 12\n"
          ]
        },
        {
          "output_type": "stream",
          "name": "stderr",
          "text": [
            "\rEvaluate Validation:  50%|█████     | 1/2 [00:01<00:01,  1.54s/it]"
          ]
        },
        {
          "output_type": "stream",
          "name": "stdout",
          "text": [
            "sample 5 num of prompts for COVID from total 12\n"
          ]
        },
        {
          "output_type": "stream",
          "name": "stderr",
          "text": [
            "Evaluate Validation: 100%|██████████| 2/2 [00:03<00:00,  1.96s/it]\n",
            "Evaluate Test:   0%|          | 0/3 [00:00<?, ?it/s]"
          ]
        },
        {
          "output_type": "stream",
          "name": "stdout",
          "text": [
            "sample 5 num of prompts for COVID from total 12\n"
          ]
        },
        {
          "output_type": "stream",
          "name": "stderr",
          "text": [
            "\rEvaluate Test:  33%|███▎      | 1/3 [00:01<00:03,  1.51s/it]"
          ]
        },
        {
          "output_type": "stream",
          "name": "stdout",
          "text": [
            "sample 5 num of prompts for COVID from total 12\n"
          ]
        },
        {
          "output_type": "stream",
          "name": "stderr",
          "text": [
            "\rEvaluate Test:  67%|██████▋   | 2/3 [00:02<00:01,  1.49s/it]"
          ]
        },
        {
          "output_type": "stream",
          "name": "stdout",
          "text": [
            "sample 5 num of prompts for COVID from total 12\n"
          ]
        },
        {
          "output_type": "stream",
          "name": "stderr",
          "text": [
            "Evaluate Test: 100%|██████████| 3/3 [00:04<00:00,  1.40s/it]\n"
          ]
        },
        {
          "output_type": "stream",
          "name": "stdout",
          "text": [
            "\n",
            "Accuracy: 0.9672, Precision: 0.9427, Recall: 0.9926, AUC: 0.9934\n"
          ]
        },
        {
          "output_type": "stream",
          "name": "stderr",
          "text": [
            "\rEvaluate Train:   0%|          | 0/8 [00:00<?, ?it/s]"
          ]
        },
        {
          "output_type": "stream",
          "name": "stdout",
          "text": [
            "sample 6 num of prompts for COVID from total 12\n"
          ]
        },
        {
          "output_type": "stream",
          "name": "stderr",
          "text": [
            "\rEvaluate Train:  12%|█▎        | 1/8 [00:01<00:09,  1.40s/it]"
          ]
        },
        {
          "output_type": "stream",
          "name": "stdout",
          "text": [
            "sample 6 num of prompts for COVID from total 12\n"
          ]
        },
        {
          "output_type": "stream",
          "name": "stderr",
          "text": [
            "\rEvaluate Train:  25%|██▌       | 2/8 [00:02<00:08,  1.41s/it]"
          ]
        },
        {
          "output_type": "stream",
          "name": "stdout",
          "text": [
            "sample 6 num of prompts for COVID from total 12\n"
          ]
        },
        {
          "output_type": "stream",
          "name": "stderr",
          "text": [
            "\rEvaluate Train:  38%|███▊      | 3/8 [00:04<00:07,  1.48s/it]"
          ]
        },
        {
          "output_type": "stream",
          "name": "stdout",
          "text": [
            "sample 6 num of prompts for COVID from total 12\n"
          ]
        },
        {
          "output_type": "stream",
          "name": "stderr",
          "text": [
            "\rEvaluate Train:  50%|█████     | 4/8 [00:05<00:06,  1.51s/it]"
          ]
        },
        {
          "output_type": "stream",
          "name": "stdout",
          "text": [
            "sample 6 num of prompts for COVID from total 12\n"
          ]
        },
        {
          "output_type": "stream",
          "name": "stderr",
          "text": [
            "\rEvaluate Train:  62%|██████▎   | 5/8 [00:07<00:04,  1.51s/it]"
          ]
        },
        {
          "output_type": "stream",
          "name": "stdout",
          "text": [
            "sample 6 num of prompts for COVID from total 12\n"
          ]
        },
        {
          "output_type": "stream",
          "name": "stderr",
          "text": [
            "\rEvaluate Train:  75%|███████▌  | 6/8 [00:08<00:02,  1.47s/it]"
          ]
        },
        {
          "output_type": "stream",
          "name": "stdout",
          "text": [
            "sample 6 num of prompts for COVID from total 12\n"
          ]
        },
        {
          "output_type": "stream",
          "name": "stderr",
          "text": [
            "\rEvaluate Train:  88%|████████▊ | 7/8 [00:10<00:01,  1.52s/it]"
          ]
        },
        {
          "output_type": "stream",
          "name": "stdout",
          "text": [
            "sample 6 num of prompts for COVID from total 12\n"
          ]
        },
        {
          "output_type": "stream",
          "name": "stderr",
          "text": [
            "Evaluate Train: 100%|██████████| 8/8 [00:11<00:00,  1.47s/it]\n",
            "Evaluate Validation:   0%|          | 0/2 [00:00<?, ?it/s]"
          ]
        },
        {
          "output_type": "stream",
          "name": "stdout",
          "text": [
            "sample 6 num of prompts for COVID from total 12\n"
          ]
        },
        {
          "output_type": "stream",
          "name": "stderr",
          "text": [
            "\rEvaluate Validation:  50%|█████     | 1/2 [00:01<00:01,  1.63s/it]"
          ]
        },
        {
          "output_type": "stream",
          "name": "stdout",
          "text": [
            "sample 6 num of prompts for COVID from total 12\n"
          ]
        },
        {
          "output_type": "stream",
          "name": "stderr",
          "text": [
            "Evaluate Validation: 100%|██████████| 2/2 [00:03<00:00,  1.97s/it]\n",
            "Evaluate Test:   0%|          | 0/3 [00:00<?, ?it/s]"
          ]
        },
        {
          "output_type": "stream",
          "name": "stdout",
          "text": [
            "sample 6 num of prompts for COVID from total 12\n"
          ]
        },
        {
          "output_type": "stream",
          "name": "stderr",
          "text": [
            "\rEvaluate Test:  33%|███▎      | 1/3 [00:01<00:02,  1.39s/it]"
          ]
        },
        {
          "output_type": "stream",
          "name": "stdout",
          "text": [
            "sample 6 num of prompts for COVID from total 12\n"
          ]
        },
        {
          "output_type": "stream",
          "name": "stderr",
          "text": [
            "\rEvaluate Test:  67%|██████▋   | 2/3 [00:02<00:01,  1.39s/it]"
          ]
        },
        {
          "output_type": "stream",
          "name": "stdout",
          "text": [
            "sample 6 num of prompts for COVID from total 12\n"
          ]
        },
        {
          "output_type": "stream",
          "name": "stderr",
          "text": [
            "Evaluate Test: 100%|██████████| 3/3 [00:04<00:00,  1.34s/it]\n"
          ]
        },
        {
          "output_type": "stream",
          "name": "stdout",
          "text": [
            "\n",
            "Accuracy: 0.9678, Precision: 0.9439, Recall: 0.9926, AUC: 0.9934\n"
          ]
        },
        {
          "output_type": "stream",
          "name": "stderr",
          "text": [
            "\rEvaluate Train:   0%|          | 0/8 [00:00<?, ?it/s]"
          ]
        },
        {
          "output_type": "stream",
          "name": "stdout",
          "text": [
            "sample 7 num of prompts for COVID from total 12\n"
          ]
        },
        {
          "output_type": "stream",
          "name": "stderr",
          "text": [
            "\rEvaluate Train:  12%|█▎        | 1/8 [00:01<00:09,  1.38s/it]"
          ]
        },
        {
          "output_type": "stream",
          "name": "stdout",
          "text": [
            "sample 7 num of prompts for COVID from total 12\n"
          ]
        },
        {
          "output_type": "stream",
          "name": "stderr",
          "text": [
            "\rEvaluate Train:  25%|██▌       | 2/8 [00:03<00:11,  1.88s/it]"
          ]
        },
        {
          "output_type": "stream",
          "name": "stdout",
          "text": [
            "sample 7 num of prompts for COVID from total 12\n"
          ]
        },
        {
          "output_type": "stream",
          "name": "stderr",
          "text": [
            "\rEvaluate Train:  38%|███▊      | 3/8 [00:05<00:08,  1.79s/it]"
          ]
        },
        {
          "output_type": "stream",
          "name": "stdout",
          "text": [
            "sample 7 num of prompts for COVID from total 12\n"
          ]
        },
        {
          "output_type": "stream",
          "name": "stderr",
          "text": [
            "\rEvaluate Train:  50%|█████     | 4/8 [00:06<00:06,  1.71s/it]"
          ]
        },
        {
          "output_type": "stream",
          "name": "stdout",
          "text": [
            "sample 7 num of prompts for COVID from total 12\n"
          ]
        },
        {
          "output_type": "stream",
          "name": "stderr",
          "text": [
            "\rEvaluate Train:  62%|██████▎   | 5/8 [00:08<00:04,  1.63s/it]"
          ]
        },
        {
          "output_type": "stream",
          "name": "stdout",
          "text": [
            "sample 7 num of prompts for COVID from total 12\n"
          ]
        },
        {
          "output_type": "stream",
          "name": "stderr",
          "text": [
            "\rEvaluate Train:  75%|███████▌  | 6/8 [00:09<00:03,  1.54s/it]"
          ]
        },
        {
          "output_type": "stream",
          "name": "stdout",
          "text": [
            "sample 7 num of prompts for COVID from total 12\n"
          ]
        },
        {
          "output_type": "stream",
          "name": "stderr",
          "text": [
            "\rEvaluate Train:  88%|████████▊ | 7/8 [00:11<00:01,  1.58s/it]"
          ]
        },
        {
          "output_type": "stream",
          "name": "stdout",
          "text": [
            "sample 7 num of prompts for COVID from total 12\n"
          ]
        },
        {
          "output_type": "stream",
          "name": "stderr",
          "text": [
            "Evaluate Train: 100%|██████████| 8/8 [00:12<00:00,  1.62s/it]\n",
            "Evaluate Validation:   0%|          | 0/2 [00:00<?, ?it/s]"
          ]
        },
        {
          "output_type": "stream",
          "name": "stdout",
          "text": [
            "sample 7 num of prompts for COVID from total 12\n"
          ]
        },
        {
          "output_type": "stream",
          "name": "stderr",
          "text": [
            "\rEvaluate Validation:  50%|█████     | 1/2 [00:01<00:01,  1.46s/it]"
          ]
        },
        {
          "output_type": "stream",
          "name": "stdout",
          "text": [
            "sample 7 num of prompts for COVID from total 12\n"
          ]
        },
        {
          "output_type": "stream",
          "name": "stderr",
          "text": [
            "Evaluate Validation: 100%|██████████| 2/2 [00:02<00:00,  1.49s/it]\n",
            "Evaluate Test:   0%|          | 0/3 [00:00<?, ?it/s]"
          ]
        },
        {
          "output_type": "stream",
          "name": "stdout",
          "text": [
            "sample 7 num of prompts for COVID from total 12\n"
          ]
        },
        {
          "output_type": "stream",
          "name": "stderr",
          "text": [
            "\rEvaluate Test:  33%|███▎      | 1/3 [00:01<00:03,  1.63s/it]"
          ]
        },
        {
          "output_type": "stream",
          "name": "stdout",
          "text": [
            "sample 7 num of prompts for COVID from total 12\n"
          ]
        },
        {
          "output_type": "stream",
          "name": "stderr",
          "text": [
            "\rEvaluate Test:  67%|██████▋   | 2/3 [00:03<00:01,  1.49s/it]"
          ]
        },
        {
          "output_type": "stream",
          "name": "stdout",
          "text": [
            "sample 7 num of prompts for COVID from total 12\n"
          ]
        },
        {
          "output_type": "stream",
          "name": "stderr",
          "text": [
            "Evaluate Test: 100%|██████████| 3/3 [00:04<00:00,  1.46s/it]\n"
          ]
        },
        {
          "output_type": "stream",
          "name": "stdout",
          "text": [
            "\n",
            "Accuracy: 0.9668, Precision: 0.9421, Recall: 0.9926, AUC: 0.9936\n"
          ]
        },
        {
          "output_type": "stream",
          "name": "stderr",
          "text": [
            "\rEvaluate Train:   0%|          | 0/8 [00:00<?, ?it/s]"
          ]
        },
        {
          "output_type": "stream",
          "name": "stdout",
          "text": [
            "sample 8 num of prompts for COVID from total 12\n"
          ]
        },
        {
          "output_type": "stream",
          "name": "stderr",
          "text": [
            "\rEvaluate Train:  12%|█▎        | 1/8 [00:01<00:09,  1.42s/it]"
          ]
        },
        {
          "output_type": "stream",
          "name": "stdout",
          "text": [
            "sample 8 num of prompts for COVID from total 12\n"
          ]
        },
        {
          "output_type": "stream",
          "name": "stderr",
          "text": [
            "\rEvaluate Train:  25%|██▌       | 2/8 [00:02<00:09,  1.51s/it]"
          ]
        },
        {
          "output_type": "stream",
          "name": "stdout",
          "text": [
            "sample 8 num of prompts for COVID from total 12\n"
          ]
        },
        {
          "output_type": "stream",
          "name": "stderr",
          "text": [
            "\rEvaluate Train:  38%|███▊      | 3/8 [00:04<00:07,  1.44s/it]"
          ]
        },
        {
          "output_type": "stream",
          "name": "stdout",
          "text": [
            "sample 8 num of prompts for COVID from total 12\n"
          ]
        },
        {
          "output_type": "stream",
          "name": "stderr",
          "text": [
            "\rEvaluate Train:  50%|█████     | 4/8 [00:06<00:06,  1.53s/it]"
          ]
        },
        {
          "output_type": "stream",
          "name": "stdout",
          "text": [
            "sample 8 num of prompts for COVID from total 12\n"
          ]
        },
        {
          "output_type": "stream",
          "name": "stderr",
          "text": [
            "\rEvaluate Train:  62%|██████▎   | 5/8 [00:07<00:04,  1.48s/it]"
          ]
        },
        {
          "output_type": "stream",
          "name": "stdout",
          "text": [
            "sample 8 num of prompts for COVID from total 12\n"
          ]
        },
        {
          "output_type": "stream",
          "name": "stderr",
          "text": [
            "\rEvaluate Train:  75%|███████▌  | 6/8 [00:08<00:03,  1.51s/it]"
          ]
        },
        {
          "output_type": "stream",
          "name": "stdout",
          "text": [
            "sample 8 num of prompts for COVID from total 12\n"
          ]
        },
        {
          "output_type": "stream",
          "name": "stderr",
          "text": [
            "\rEvaluate Train:  88%|████████▊ | 7/8 [00:10<00:01,  1.65s/it]"
          ]
        },
        {
          "output_type": "stream",
          "name": "stdout",
          "text": [
            "sample 8 num of prompts for COVID from total 12\n"
          ]
        },
        {
          "output_type": "stream",
          "name": "stderr",
          "text": [
            "Evaluate Train: 100%|██████████| 8/8 [00:13<00:00,  1.70s/it]\n",
            "Evaluate Validation:   0%|          | 0/2 [00:00<?, ?it/s]"
          ]
        },
        {
          "output_type": "stream",
          "name": "stdout",
          "text": [
            "sample 8 num of prompts for COVID from total 12\n"
          ]
        },
        {
          "output_type": "stream",
          "name": "stderr",
          "text": [
            "\rEvaluate Validation:  50%|█████     | 1/2 [00:01<00:01,  1.43s/it]"
          ]
        },
        {
          "output_type": "stream",
          "name": "stdout",
          "text": [
            "sample 8 num of prompts for COVID from total 12\n"
          ]
        },
        {
          "output_type": "stream",
          "name": "stderr",
          "text": [
            "Evaluate Validation: 100%|██████████| 2/2 [00:03<00:00,  1.54s/it]\n",
            "Evaluate Test:   0%|          | 0/3 [00:00<?, ?it/s]"
          ]
        },
        {
          "output_type": "stream",
          "name": "stdout",
          "text": [
            "sample 8 num of prompts for COVID from total 12\n"
          ]
        },
        {
          "output_type": "stream",
          "name": "stderr",
          "text": [
            "\rEvaluate Test:  33%|███▎      | 1/3 [00:01<00:02,  1.49s/it]"
          ]
        },
        {
          "output_type": "stream",
          "name": "stdout",
          "text": [
            "sample 8 num of prompts for COVID from total 12\n"
          ]
        },
        {
          "output_type": "stream",
          "name": "stderr",
          "text": [
            "\rEvaluate Test:  67%|██████▋   | 2/3 [00:03<00:01,  1.62s/it]"
          ]
        },
        {
          "output_type": "stream",
          "name": "stdout",
          "text": [
            "sample 8 num of prompts for COVID from total 12\n"
          ]
        },
        {
          "output_type": "stream",
          "name": "stderr",
          "text": [
            "Evaluate Test: 100%|██████████| 3/3 [00:05<00:00,  1.70s/it]\n"
          ]
        },
        {
          "output_type": "stream",
          "name": "stdout",
          "text": [
            "\n",
            "Accuracy: 0.9659, Precision: 0.9404, Recall: 0.9926, AUC: 0.9940\n"
          ]
        },
        {
          "output_type": "stream",
          "name": "stderr",
          "text": [
            "\rEvaluate Train:   0%|          | 0/8 [00:00<?, ?it/s]"
          ]
        },
        {
          "output_type": "stream",
          "name": "stdout",
          "text": [
            "sample 9 num of prompts for COVID from total 12\n"
          ]
        },
        {
          "output_type": "stream",
          "name": "stderr",
          "text": [
            "\rEvaluate Train:  12%|█▎        | 1/8 [00:01<00:09,  1.40s/it]"
          ]
        },
        {
          "output_type": "stream",
          "name": "stdout",
          "text": [
            "sample 9 num of prompts for COVID from total 12\n"
          ]
        },
        {
          "output_type": "stream",
          "name": "stderr",
          "text": [
            "\rEvaluate Train:  25%|██▌       | 2/8 [00:02<00:08,  1.39s/it]"
          ]
        },
        {
          "output_type": "stream",
          "name": "stdout",
          "text": [
            "sample 9 num of prompts for COVID from total 12\n"
          ]
        },
        {
          "output_type": "stream",
          "name": "stderr",
          "text": [
            "\rEvaluate Train:  38%|███▊      | 3/8 [00:04<00:06,  1.40s/it]"
          ]
        },
        {
          "output_type": "stream",
          "name": "stdout",
          "text": [
            "sample 9 num of prompts for COVID from total 12\n"
          ]
        },
        {
          "output_type": "stream",
          "name": "stderr",
          "text": [
            "\rEvaluate Train:  50%|█████     | 4/8 [00:06<00:06,  1.59s/it]"
          ]
        },
        {
          "output_type": "stream",
          "name": "stdout",
          "text": [
            "sample 9 num of prompts for COVID from total 12\n"
          ]
        },
        {
          "output_type": "stream",
          "name": "stderr",
          "text": [
            "\rEvaluate Train:  62%|██████▎   | 5/8 [00:07<00:04,  1.57s/it]"
          ]
        },
        {
          "output_type": "stream",
          "name": "stdout",
          "text": [
            "sample 9 num of prompts for COVID from total 12\n"
          ]
        },
        {
          "output_type": "stream",
          "name": "stderr",
          "text": [
            "\rEvaluate Train:  75%|███████▌  | 6/8 [00:09<00:03,  1.54s/it]"
          ]
        },
        {
          "output_type": "stream",
          "name": "stdout",
          "text": [
            "sample 9 num of prompts for COVID from total 12\n"
          ]
        },
        {
          "output_type": "stream",
          "name": "stderr",
          "text": [
            "\rEvaluate Train:  88%|████████▊ | 7/8 [00:10<00:01,  1.48s/it]"
          ]
        },
        {
          "output_type": "stream",
          "name": "stdout",
          "text": [
            "sample 9 num of prompts for COVID from total 12\n"
          ]
        },
        {
          "output_type": "stream",
          "name": "stderr",
          "text": [
            "Evaluate Train: 100%|██████████| 8/8 [00:12<00:00,  1.51s/it]\n",
            "Evaluate Validation:   0%|          | 0/2 [00:00<?, ?it/s]"
          ]
        },
        {
          "output_type": "stream",
          "name": "stdout",
          "text": [
            "sample 9 num of prompts for COVID from total 12\n"
          ]
        },
        {
          "output_type": "stream",
          "name": "stderr",
          "text": [
            "\rEvaluate Validation:  50%|█████     | 1/2 [00:01<00:01,  1.46s/it]"
          ]
        },
        {
          "output_type": "stream",
          "name": "stdout",
          "text": [
            "sample 9 num of prompts for COVID from total 12\n"
          ]
        },
        {
          "output_type": "stream",
          "name": "stderr",
          "text": [
            "Evaluate Validation: 100%|██████████| 2/2 [00:03<00:00,  1.63s/it]\n",
            "Evaluate Test:   0%|          | 0/3 [00:00<?, ?it/s]"
          ]
        },
        {
          "output_type": "stream",
          "name": "stdout",
          "text": [
            "sample 9 num of prompts for COVID from total 12\n"
          ]
        },
        {
          "output_type": "stream",
          "name": "stderr",
          "text": [
            "\rEvaluate Test:  33%|███▎      | 1/3 [00:01<00:02,  1.39s/it]"
          ]
        },
        {
          "output_type": "stream",
          "name": "stdout",
          "text": [
            "sample 9 num of prompts for COVID from total 12\n"
          ]
        },
        {
          "output_type": "stream",
          "name": "stderr",
          "text": [
            "\rEvaluate Test:  67%|██████▋   | 2/3 [00:02<00:01,  1.45s/it]"
          ]
        },
        {
          "output_type": "stream",
          "name": "stdout",
          "text": [
            "sample 9 num of prompts for COVID from total 12\n"
          ]
        },
        {
          "output_type": "stream",
          "name": "stderr",
          "text": [
            "Evaluate Test: 100%|██████████| 3/3 [00:04<00:00,  1.45s/it]\n"
          ]
        },
        {
          "output_type": "stream",
          "name": "stdout",
          "text": [
            "\n",
            "Accuracy: 0.9659, Precision: 0.9404, Recall: 0.9926, AUC: 0.9940\n"
          ]
        },
        {
          "output_type": "stream",
          "name": "stderr",
          "text": [
            "\rEvaluate Train:   0%|          | 0/8 [00:00<?, ?it/s]"
          ]
        },
        {
          "output_type": "stream",
          "name": "stdout",
          "text": [
            "sample 10 num of prompts for COVID from total 12\n"
          ]
        },
        {
          "output_type": "stream",
          "name": "stderr",
          "text": [
            "\rEvaluate Train:  12%|█▎        | 1/8 [00:01<00:09,  1.37s/it]"
          ]
        },
        {
          "output_type": "stream",
          "name": "stdout",
          "text": [
            "sample 10 num of prompts for COVID from total 12\n"
          ]
        },
        {
          "output_type": "stream",
          "name": "stderr",
          "text": [
            "\rEvaluate Train:  25%|██▌       | 2/8 [00:02<00:08,  1.38s/it]"
          ]
        },
        {
          "output_type": "stream",
          "name": "stdout",
          "text": [
            "sample 10 num of prompts for COVID from total 12\n"
          ]
        },
        {
          "output_type": "stream",
          "name": "stderr",
          "text": [
            "\rEvaluate Train:  38%|███▊      | 3/8 [00:04<00:06,  1.38s/it]"
          ]
        },
        {
          "output_type": "stream",
          "name": "stdout",
          "text": [
            "sample 10 num of prompts for COVID from total 12\n"
          ]
        },
        {
          "output_type": "stream",
          "name": "stderr",
          "text": [
            "\rEvaluate Train:  50%|█████     | 4/8 [00:05<00:05,  1.46s/it]"
          ]
        },
        {
          "output_type": "stream",
          "name": "stdout",
          "text": [
            "sample 10 num of prompts for COVID from total 12\n"
          ]
        },
        {
          "output_type": "stream",
          "name": "stderr",
          "text": [
            "\rEvaluate Train:  62%|██████▎   | 5/8 [00:07<00:04,  1.58s/it]"
          ]
        },
        {
          "output_type": "stream",
          "name": "stdout",
          "text": [
            "sample 10 num of prompts for COVID from total 12\n"
          ]
        },
        {
          "output_type": "stream",
          "name": "stderr",
          "text": [
            "\rEvaluate Train:  75%|███████▌  | 6/8 [00:08<00:03,  1.55s/it]"
          ]
        },
        {
          "output_type": "stream",
          "name": "stdout",
          "text": [
            "sample 10 num of prompts for COVID from total 12\n"
          ]
        },
        {
          "output_type": "stream",
          "name": "stderr",
          "text": [
            "\rEvaluate Train:  88%|████████▊ | 7/8 [00:10<00:01,  1.50s/it]"
          ]
        },
        {
          "output_type": "stream",
          "name": "stdout",
          "text": [
            "sample 10 num of prompts for COVID from total 12\n"
          ]
        },
        {
          "output_type": "stream",
          "name": "stderr",
          "text": [
            "Evaluate Train: 100%|██████████| 8/8 [00:12<00:00,  1.50s/it]\n",
            "Evaluate Validation:   0%|          | 0/2 [00:00<?, ?it/s]"
          ]
        },
        {
          "output_type": "stream",
          "name": "stdout",
          "text": [
            "sample 10 num of prompts for COVID from total 12\n"
          ]
        },
        {
          "output_type": "stream",
          "name": "stderr",
          "text": [
            "\rEvaluate Validation:  50%|█████     | 1/2 [00:01<00:01,  1.37s/it]"
          ]
        },
        {
          "output_type": "stream",
          "name": "stdout",
          "text": [
            "sample 10 num of prompts for COVID from total 12\n"
          ]
        },
        {
          "output_type": "stream",
          "name": "stderr",
          "text": [
            "Evaluate Validation: 100%|██████████| 2/2 [00:02<00:00,  1.48s/it]\n",
            "Evaluate Test:   0%|          | 0/3 [00:00<?, ?it/s]"
          ]
        },
        {
          "output_type": "stream",
          "name": "stdout",
          "text": [
            "sample 10 num of prompts for COVID from total 12\n"
          ]
        },
        {
          "output_type": "stream",
          "name": "stderr",
          "text": [
            "\rEvaluate Test:  33%|███▎      | 1/3 [00:01<00:02,  1.38s/it]"
          ]
        },
        {
          "output_type": "stream",
          "name": "stdout",
          "text": [
            "sample 10 num of prompts for COVID from total 12\n"
          ]
        },
        {
          "output_type": "stream",
          "name": "stderr",
          "text": [
            "\rEvaluate Test:  67%|██████▋   | 2/3 [00:02<00:01,  1.44s/it]"
          ]
        },
        {
          "output_type": "stream",
          "name": "stdout",
          "text": [
            "sample 10 num of prompts for COVID from total 12\n"
          ]
        },
        {
          "output_type": "stream",
          "name": "stderr",
          "text": [
            "Evaluate Test: 100%|██████████| 3/3 [00:04<00:00,  1.44s/it]\n"
          ]
        },
        {
          "output_type": "stream",
          "name": "stdout",
          "text": [
            "\n",
            "Accuracy: 0.9649, Precision: 0.9386, Recall: 0.9926, AUC: 0.9940\n"
          ]
        },
        {
          "output_type": "stream",
          "name": "stderr",
          "text": [
            "\rEvaluate Train:   0%|          | 0/8 [00:00<?, ?it/s]"
          ]
        },
        {
          "output_type": "stream",
          "name": "stdout",
          "text": [
            "sample 11 num of prompts for COVID from total 12\n"
          ]
        },
        {
          "output_type": "stream",
          "name": "stderr",
          "text": [
            "\rEvaluate Train:  12%|█▎        | 1/8 [00:01<00:10,  1.57s/it]"
          ]
        },
        {
          "output_type": "stream",
          "name": "stdout",
          "text": [
            "sample 11 num of prompts for COVID from total 12\n"
          ]
        },
        {
          "output_type": "stream",
          "name": "stderr",
          "text": [
            "\rEvaluate Train:  25%|██▌       | 2/8 [00:03<00:10,  1.78s/it]"
          ]
        },
        {
          "output_type": "stream",
          "name": "stdout",
          "text": [
            "sample 11 num of prompts for COVID from total 12\n"
          ]
        },
        {
          "output_type": "stream",
          "name": "stderr",
          "text": [
            "\rEvaluate Train:  38%|███▊      | 3/8 [00:04<00:08,  1.64s/it]"
          ]
        },
        {
          "output_type": "stream",
          "name": "stdout",
          "text": [
            "sample 11 num of prompts for COVID from total 12\n"
          ]
        },
        {
          "output_type": "stream",
          "name": "stderr",
          "text": [
            "\rEvaluate Train:  50%|█████     | 4/8 [00:06<00:07,  1.76s/it]"
          ]
        },
        {
          "output_type": "stream",
          "name": "stdout",
          "text": [
            "sample 11 num of prompts for COVID from total 12\n"
          ]
        },
        {
          "output_type": "stream",
          "name": "stderr",
          "text": [
            "\rEvaluate Train:  62%|██████▎   | 5/8 [00:08<00:04,  1.62s/it]"
          ]
        },
        {
          "output_type": "stream",
          "name": "stdout",
          "text": [
            "sample 11 num of prompts for COVID from total 12\n"
          ]
        },
        {
          "output_type": "stream",
          "name": "stderr",
          "text": [
            "\rEvaluate Train:  75%|███████▌  | 6/8 [00:10<00:03,  1.67s/it]"
          ]
        },
        {
          "output_type": "stream",
          "name": "stdout",
          "text": [
            "sample 11 num of prompts for COVID from total 12\n"
          ]
        },
        {
          "output_type": "stream",
          "name": "stderr",
          "text": [
            "\rEvaluate Train:  88%|████████▊ | 7/8 [00:12<00:01,  1.80s/it]"
          ]
        },
        {
          "output_type": "stream",
          "name": "stdout",
          "text": [
            "sample 11 num of prompts for COVID from total 12\n"
          ]
        },
        {
          "output_type": "stream",
          "name": "stderr",
          "text": [
            "Evaluate Train: 100%|██████████| 8/8 [00:13<00:00,  1.74s/it]\n",
            "Evaluate Validation:   0%|          | 0/2 [00:00<?, ?it/s]"
          ]
        },
        {
          "output_type": "stream",
          "name": "stdout",
          "text": [
            "sample 11 num of prompts for COVID from total 12\n"
          ]
        },
        {
          "output_type": "stream",
          "name": "stderr",
          "text": [
            "\rEvaluate Validation:  50%|█████     | 1/2 [00:01<00:01,  1.38s/it]"
          ]
        },
        {
          "output_type": "stream",
          "name": "stdout",
          "text": [
            "sample 11 num of prompts for COVID from total 12\n"
          ]
        },
        {
          "output_type": "stream",
          "name": "stderr",
          "text": [
            "Evaluate Validation: 100%|██████████| 2/2 [00:03<00:00,  1.54s/it]\n",
            "Evaluate Test:   0%|          | 0/3 [00:00<?, ?it/s]"
          ]
        },
        {
          "output_type": "stream",
          "name": "stdout",
          "text": [
            "sample 11 num of prompts for COVID from total 12\n"
          ]
        },
        {
          "output_type": "stream",
          "name": "stderr",
          "text": [
            "\rEvaluate Test:  33%|███▎      | 1/3 [00:01<00:02,  1.41s/it]"
          ]
        },
        {
          "output_type": "stream",
          "name": "stdout",
          "text": [
            "sample 11 num of prompts for COVID from total 12\n"
          ]
        },
        {
          "output_type": "stream",
          "name": "stderr",
          "text": [
            "\rEvaluate Test:  67%|██████▋   | 2/3 [00:02<00:01,  1.49s/it]"
          ]
        },
        {
          "output_type": "stream",
          "name": "stdout",
          "text": [
            "sample 11 num of prompts for COVID from total 12\n"
          ]
        },
        {
          "output_type": "stream",
          "name": "stderr",
          "text": [
            "Evaluate Test: 100%|██████████| 3/3 [00:04<00:00,  1.65s/it]\n"
          ]
        },
        {
          "output_type": "stream",
          "name": "stdout",
          "text": [
            "\n",
            "Accuracy: 0.9652, Precision: 0.9392, Recall: 0.9926, AUC: 0.9940\n"
          ]
        },
        {
          "output_type": "stream",
          "name": "stderr",
          "text": [
            "\rEvaluate Train:   0%|          | 0/8 [00:00<?, ?it/s]"
          ]
        },
        {
          "output_type": "stream",
          "name": "stdout",
          "text": [
            "sample 12 num of prompts for COVID from total 12\n"
          ]
        },
        {
          "output_type": "stream",
          "name": "stderr",
          "text": [
            "\rEvaluate Train:  12%|█▎        | 1/8 [00:01<00:10,  1.44s/it]"
          ]
        },
        {
          "output_type": "stream",
          "name": "stdout",
          "text": [
            "sample 12 num of prompts for COVID from total 12\n"
          ]
        },
        {
          "output_type": "stream",
          "name": "stderr",
          "text": [
            "\rEvaluate Train:  25%|██▌       | 2/8 [00:02<00:08,  1.48s/it]"
          ]
        },
        {
          "output_type": "stream",
          "name": "stdout",
          "text": [
            "sample 12 num of prompts for COVID from total 12\n"
          ]
        },
        {
          "output_type": "stream",
          "name": "stderr",
          "text": [
            "\rEvaluate Train:  38%|███▊      | 3/8 [00:04<00:07,  1.56s/it]"
          ]
        },
        {
          "output_type": "stream",
          "name": "stdout",
          "text": [
            "sample 12 num of prompts for COVID from total 12\n"
          ]
        },
        {
          "output_type": "stream",
          "name": "stderr",
          "text": [
            "\rEvaluate Train:  50%|█████     | 4/8 [00:05<00:05,  1.49s/it]"
          ]
        },
        {
          "output_type": "stream",
          "name": "stdout",
          "text": [
            "sample 12 num of prompts for COVID from total 12\n"
          ]
        },
        {
          "output_type": "stream",
          "name": "stderr",
          "text": [
            "\rEvaluate Train:  62%|██████▎   | 5/8 [00:07<00:04,  1.45s/it]"
          ]
        },
        {
          "output_type": "stream",
          "name": "stdout",
          "text": [
            "sample 12 num of prompts for COVID from total 12\n"
          ]
        },
        {
          "output_type": "stream",
          "name": "stderr",
          "text": [
            "\rEvaluate Train:  75%|███████▌  | 6/8 [00:09<00:03,  1.51s/it]"
          ]
        },
        {
          "output_type": "stream",
          "name": "stdout",
          "text": [
            "sample 12 num of prompts for COVID from total 12\n"
          ]
        },
        {
          "output_type": "stream",
          "name": "stderr",
          "text": [
            "\rEvaluate Train:  88%|████████▊ | 7/8 [00:10<00:01,  1.47s/it]"
          ]
        },
        {
          "output_type": "stream",
          "name": "stdout",
          "text": [
            "sample 12 num of prompts for COVID from total 12\n"
          ]
        },
        {
          "output_type": "stream",
          "name": "stderr",
          "text": [
            "Evaluate Train: 100%|██████████| 8/8 [00:11<00:00,  1.49s/it]\n",
            "Evaluate Validation:   0%|          | 0/2 [00:00<?, ?it/s]"
          ]
        },
        {
          "output_type": "stream",
          "name": "stdout",
          "text": [
            "sample 12 num of prompts for COVID from total 12\n"
          ]
        },
        {
          "output_type": "stream",
          "name": "stderr",
          "text": [
            "\rEvaluate Validation:  50%|█████     | 1/2 [00:01<00:01,  1.43s/it]"
          ]
        },
        {
          "output_type": "stream",
          "name": "stdout",
          "text": [
            "sample 12 num of prompts for COVID from total 12\n"
          ]
        },
        {
          "output_type": "stream",
          "name": "stderr",
          "text": [
            "Evaluate Validation: 100%|██████████| 2/2 [00:03<00:00,  1.53s/it]\n",
            "Evaluate Test:   0%|          | 0/3 [00:00<?, ?it/s]"
          ]
        },
        {
          "output_type": "stream",
          "name": "stdout",
          "text": [
            "sample 12 num of prompts for COVID from total 12\n"
          ]
        },
        {
          "output_type": "stream",
          "name": "stderr",
          "text": [
            "\rEvaluate Test:  33%|███▎      | 1/3 [00:01<00:02,  1.39s/it]"
          ]
        },
        {
          "output_type": "stream",
          "name": "stdout",
          "text": [
            "sample 12 num of prompts for COVID from total 12\n"
          ]
        },
        {
          "output_type": "stream",
          "name": "stderr",
          "text": [
            "\rEvaluate Test:  67%|██████▋   | 2/3 [00:03<00:01,  1.59s/it]"
          ]
        },
        {
          "output_type": "stream",
          "name": "stdout",
          "text": [
            "sample 12 num of prompts for COVID from total 12\n"
          ]
        },
        {
          "output_type": "stream",
          "name": "stderr",
          "text": [
            "Evaluate Test: 100%|██████████| 3/3 [00:04<00:00,  1.45s/it]\n"
          ]
        },
        {
          "output_type": "stream",
          "name": "stdout",
          "text": [
            "\n",
            "Accuracy: 0.9649, Precision: 0.9386, Recall: 0.9926, AUC: 0.9940\n",
            "Best AUC for covid_task with 9 prompts: 0.9940\n",
            "Results saved to results/zs_medclip_finetune/ucsd/medclip/classification_results.txt\n"
          ]
        },
        {
          "output_type": "stream",
          "name": "stderr",
          "text": [
            "\rEvaluate Train:   0%|          | 0/8 [00:00<?, ?it/s]"
          ]
        },
        {
          "output_type": "stream",
          "name": "stdout",
          "text": [
            "sample 1 num of prompts for Pneumonia from total 312\n"
          ]
        },
        {
          "output_type": "stream",
          "name": "stderr",
          "text": [
            "\rEvaluate Train:  12%|█▎        | 1/8 [00:01<00:09,  1.38s/it]"
          ]
        },
        {
          "output_type": "stream",
          "name": "stdout",
          "text": [
            "sample 1 num of prompts for Pneumonia from total 312\n"
          ]
        },
        {
          "output_type": "stream",
          "name": "stderr",
          "text": [
            "\rEvaluate Train:  25%|██▌       | 2/8 [00:03<00:09,  1.53s/it]"
          ]
        },
        {
          "output_type": "stream",
          "name": "stdout",
          "text": [
            "sample 1 num of prompts for Pneumonia from total 312\n"
          ]
        },
        {
          "output_type": "stream",
          "name": "stderr",
          "text": [
            "\rEvaluate Train:  38%|███▊      | 3/8 [00:04<00:07,  1.51s/it]"
          ]
        },
        {
          "output_type": "stream",
          "name": "stdout",
          "text": [
            "sample 1 num of prompts for Pneumonia from total 312\n"
          ]
        },
        {
          "output_type": "stream",
          "name": "stderr",
          "text": [
            "\rEvaluate Train:  50%|█████     | 4/8 [00:06<00:06,  1.58s/it]"
          ]
        },
        {
          "output_type": "stream",
          "name": "stdout",
          "text": [
            "sample 1 num of prompts for Pneumonia from total 312\n"
          ]
        },
        {
          "output_type": "stream",
          "name": "stderr",
          "text": [
            "\rEvaluate Train:  62%|██████▎   | 5/8 [00:07<00:04,  1.51s/it]"
          ]
        },
        {
          "output_type": "stream",
          "name": "stdout",
          "text": [
            "sample 1 num of prompts for Pneumonia from total 312\n"
          ]
        },
        {
          "output_type": "stream",
          "name": "stderr",
          "text": [
            "\rEvaluate Train:  75%|███████▌  | 6/8 [00:08<00:02,  1.47s/it]"
          ]
        },
        {
          "output_type": "stream",
          "name": "stdout",
          "text": [
            "sample 1 num of prompts for Pneumonia from total 312\n"
          ]
        },
        {
          "output_type": "stream",
          "name": "stderr",
          "text": [
            "\rEvaluate Train:  88%|████████▊ | 7/8 [00:10<00:01,  1.52s/it]"
          ]
        },
        {
          "output_type": "stream",
          "name": "stdout",
          "text": [
            "sample 1 num of prompts for Pneumonia from total 312\n"
          ]
        },
        {
          "output_type": "stream",
          "name": "stderr",
          "text": [
            "Evaluate Train: 100%|██████████| 8/8 [00:11<00:00,  1.48s/it]\n",
            "Evaluate Validation:   0%|          | 0/2 [00:00<?, ?it/s]"
          ]
        },
        {
          "output_type": "stream",
          "name": "stdout",
          "text": [
            "sample 1 num of prompts for Pneumonia from total 312\n"
          ]
        },
        {
          "output_type": "stream",
          "name": "stderr",
          "text": [
            "\rEvaluate Validation:  50%|█████     | 1/2 [00:01<00:01,  1.42s/it]"
          ]
        },
        {
          "output_type": "stream",
          "name": "stdout",
          "text": [
            "sample 1 num of prompts for Pneumonia from total 312\n"
          ]
        },
        {
          "output_type": "stream",
          "name": "stderr",
          "text": [
            "Evaluate Validation: 100%|██████████| 2/2 [00:02<00:00,  1.49s/it]\n",
            "Evaluate Test:   0%|          | 0/3 [00:00<?, ?it/s]"
          ]
        },
        {
          "output_type": "stream",
          "name": "stdout",
          "text": [
            "sample 1 num of prompts for Pneumonia from total 312\n"
          ]
        },
        {
          "output_type": "stream",
          "name": "stderr",
          "text": [
            "\rEvaluate Test:  33%|███▎      | 1/3 [00:01<00:02,  1.43s/it]"
          ]
        },
        {
          "output_type": "stream",
          "name": "stdout",
          "text": [
            "sample 1 num of prompts for Pneumonia from total 312\n"
          ]
        },
        {
          "output_type": "stream",
          "name": "stderr",
          "text": [
            "\rEvaluate Test:  67%|██████▋   | 2/3 [00:02<00:01,  1.50s/it]"
          ]
        },
        {
          "output_type": "stream",
          "name": "stdout",
          "text": [
            "sample 1 num of prompts for Pneumonia from total 312\n"
          ]
        },
        {
          "output_type": "stream",
          "name": "stderr",
          "text": [
            "Evaluate Test: 100%|██████████| 3/3 [00:05<00:00,  1.78s/it]\n"
          ]
        },
        {
          "output_type": "stream",
          "name": "stdout",
          "text": [
            "\n",
            "Accuracy: 0.9701, Precision: 0.9482, Recall: 0.9926, AUC: 0.9905\n"
          ]
        },
        {
          "output_type": "stream",
          "name": "stderr",
          "text": [
            "\rEvaluate Train:   0%|          | 0/8 [00:00<?, ?it/s]"
          ]
        },
        {
          "output_type": "stream",
          "name": "stdout",
          "text": [
            "sample 2 num of prompts for Pneumonia from total 312\n"
          ]
        },
        {
          "output_type": "stream",
          "name": "stderr",
          "text": [
            "\rEvaluate Train:  12%|█▎        | 1/8 [00:01<00:10,  1.43s/it]"
          ]
        },
        {
          "output_type": "stream",
          "name": "stdout",
          "text": [
            "sample 2 num of prompts for Pneumonia from total 312\n"
          ]
        },
        {
          "output_type": "stream",
          "name": "stderr",
          "text": [
            "\rEvaluate Train:  25%|██▌       | 2/8 [00:03<00:10,  1.70s/it]"
          ]
        },
        {
          "output_type": "stream",
          "name": "stdout",
          "text": [
            "sample 2 num of prompts for Pneumonia from total 312\n"
          ]
        },
        {
          "output_type": "stream",
          "name": "stderr",
          "text": [
            "\rEvaluate Train:  38%|███▊      | 3/8 [00:04<00:07,  1.55s/it]"
          ]
        },
        {
          "output_type": "stream",
          "name": "stdout",
          "text": [
            "sample 2 num of prompts for Pneumonia from total 312\n"
          ]
        },
        {
          "output_type": "stream",
          "name": "stderr",
          "text": [
            "\rEvaluate Train:  50%|█████     | 4/8 [00:06<00:07,  1.75s/it]"
          ]
        },
        {
          "output_type": "stream",
          "name": "stdout",
          "text": [
            "sample 2 num of prompts for Pneumonia from total 312\n"
          ]
        },
        {
          "output_type": "stream",
          "name": "stderr",
          "text": [
            "\rEvaluate Train:  62%|██████▎   | 5/8 [00:08<00:04,  1.63s/it]"
          ]
        },
        {
          "output_type": "stream",
          "name": "stdout",
          "text": [
            "sample 2 num of prompts for Pneumonia from total 312\n"
          ]
        },
        {
          "output_type": "stream",
          "name": "stderr",
          "text": [
            "\rEvaluate Train:  75%|███████▌  | 6/8 [00:10<00:03,  1.80s/it]"
          ]
        },
        {
          "output_type": "stream",
          "name": "stdout",
          "text": [
            "sample 2 num of prompts for Pneumonia from total 312\n"
          ]
        },
        {
          "output_type": "stream",
          "name": "stderr",
          "text": [
            "\rEvaluate Train:  88%|████████▊ | 7/8 [00:12<00:01,  1.89s/it]"
          ]
        },
        {
          "output_type": "stream",
          "name": "stdout",
          "text": [
            "sample 2 num of prompts for Pneumonia from total 312\n"
          ]
        },
        {
          "output_type": "stream",
          "name": "stderr",
          "text": [
            "Evaluate Train: 100%|██████████| 8/8 [00:13<00:00,  1.74s/it]\n",
            "Evaluate Validation:   0%|          | 0/2 [00:00<?, ?it/s]"
          ]
        },
        {
          "output_type": "stream",
          "name": "stdout",
          "text": [
            "sample 2 num of prompts for Pneumonia from total 312\n"
          ]
        },
        {
          "output_type": "stream",
          "name": "stderr",
          "text": [
            "\rEvaluate Validation:  50%|█████     | 1/2 [00:01<00:01,  1.59s/it]"
          ]
        },
        {
          "output_type": "stream",
          "name": "stdout",
          "text": [
            "sample 2 num of prompts for Pneumonia from total 312\n"
          ]
        },
        {
          "output_type": "stream",
          "name": "stderr",
          "text": [
            "Evaluate Validation: 100%|██████████| 2/2 [00:03<00:00,  2.00s/it]\n",
            "Evaluate Test:   0%|          | 0/3 [00:00<?, ?it/s]"
          ]
        },
        {
          "output_type": "stream",
          "name": "stdout",
          "text": [
            "sample 2 num of prompts for Pneumonia from total 312\n"
          ]
        },
        {
          "output_type": "stream",
          "name": "stderr",
          "text": [
            "\rEvaluate Test:  33%|███▎      | 1/3 [00:01<00:03,  1.52s/it]"
          ]
        },
        {
          "output_type": "stream",
          "name": "stdout",
          "text": [
            "sample 2 num of prompts for Pneumonia from total 312\n"
          ]
        },
        {
          "output_type": "stream",
          "name": "stderr",
          "text": [
            "\rEvaluate Test:  67%|██████▋   | 2/3 [00:03<00:01,  1.79s/it]"
          ]
        },
        {
          "output_type": "stream",
          "name": "stdout",
          "text": [
            "sample 2 num of prompts for Pneumonia from total 312\n"
          ]
        },
        {
          "output_type": "stream",
          "name": "stderr",
          "text": [
            "Evaluate Test: 100%|██████████| 3/3 [00:04<00:00,  1.57s/it]\n"
          ]
        },
        {
          "output_type": "stream",
          "name": "stdout",
          "text": [
            "\n",
            "Accuracy: 0.8869, Precision: 0.8130, Recall: 0.9960, AUC: 0.9301\n"
          ]
        },
        {
          "output_type": "stream",
          "name": "stderr",
          "text": [
            "\rEvaluate Train:   0%|          | 0/8 [00:00<?, ?it/s]"
          ]
        },
        {
          "output_type": "stream",
          "name": "stdout",
          "text": [
            "sample 3 num of prompts for Pneumonia from total 312\n"
          ]
        },
        {
          "output_type": "stream",
          "name": "stderr",
          "text": [
            "\rEvaluate Train:  12%|█▎        | 1/8 [00:01<00:09,  1.41s/it]"
          ]
        },
        {
          "output_type": "stream",
          "name": "stdout",
          "text": [
            "sample 3 num of prompts for Pneumonia from total 312\n"
          ]
        },
        {
          "output_type": "stream",
          "name": "stderr",
          "text": [
            "\rEvaluate Train:  25%|██▌       | 2/8 [00:03<00:09,  1.60s/it]"
          ]
        },
        {
          "output_type": "stream",
          "name": "stdout",
          "text": [
            "sample 3 num of prompts for Pneumonia from total 312\n"
          ]
        },
        {
          "output_type": "stream",
          "name": "stderr",
          "text": [
            "\rEvaluate Train:  38%|███▊      | 3/8 [00:04<00:07,  1.52s/it]"
          ]
        },
        {
          "output_type": "stream",
          "name": "stdout",
          "text": [
            "sample 3 num of prompts for Pneumonia from total 312\n"
          ]
        },
        {
          "output_type": "stream",
          "name": "stderr",
          "text": [
            "\rEvaluate Train:  50%|█████     | 4/8 [00:06<00:06,  1.62s/it]"
          ]
        },
        {
          "output_type": "stream",
          "name": "stdout",
          "text": [
            "sample 3 num of prompts for Pneumonia from total 312\n"
          ]
        },
        {
          "output_type": "stream",
          "name": "stderr",
          "text": [
            "\rEvaluate Train:  62%|██████▎   | 5/8 [00:07<00:04,  1.63s/it]"
          ]
        },
        {
          "output_type": "stream",
          "name": "stdout",
          "text": [
            "sample 3 num of prompts for Pneumonia from total 312\n"
          ]
        },
        {
          "output_type": "stream",
          "name": "stderr",
          "text": [
            "\rEvaluate Train:  75%|███████▌  | 6/8 [00:09<00:03,  1.62s/it]"
          ]
        },
        {
          "output_type": "stream",
          "name": "stdout",
          "text": [
            "sample 3 num of prompts for Pneumonia from total 312\n"
          ]
        },
        {
          "output_type": "stream",
          "name": "stderr",
          "text": [
            "\rEvaluate Train:  88%|████████▊ | 7/8 [00:11<00:01,  1.74s/it]"
          ]
        },
        {
          "output_type": "stream",
          "name": "stdout",
          "text": [
            "sample 3 num of prompts for Pneumonia from total 312\n"
          ]
        },
        {
          "output_type": "stream",
          "name": "stderr",
          "text": [
            "Evaluate Train: 100%|██████████| 8/8 [00:13<00:00,  1.65s/it]\n",
            "Evaluate Validation:   0%|          | 0/2 [00:00<?, ?it/s]"
          ]
        },
        {
          "output_type": "stream",
          "name": "stdout",
          "text": [
            "sample 3 num of prompts for Pneumonia from total 312\n"
          ]
        },
        {
          "output_type": "stream",
          "name": "stderr",
          "text": [
            "\rEvaluate Validation:  50%|█████     | 1/2 [00:01<00:01,  1.40s/it]"
          ]
        },
        {
          "output_type": "stream",
          "name": "stdout",
          "text": [
            "sample 3 num of prompts for Pneumonia from total 312\n"
          ]
        },
        {
          "output_type": "stream",
          "name": "stderr",
          "text": [
            "Evaluate Validation: 100%|██████████| 2/2 [00:02<00:00,  1.49s/it]\n",
            "Evaluate Test:   0%|          | 0/3 [00:00<?, ?it/s]"
          ]
        },
        {
          "output_type": "stream",
          "name": "stdout",
          "text": [
            "sample 3 num of prompts for Pneumonia from total 312\n"
          ]
        },
        {
          "output_type": "stream",
          "name": "stderr",
          "text": [
            "\rEvaluate Test:  33%|███▎      | 1/3 [00:01<00:02,  1.37s/it]"
          ]
        },
        {
          "output_type": "stream",
          "name": "stdout",
          "text": [
            "sample 3 num of prompts for Pneumonia from total 312\n"
          ]
        },
        {
          "output_type": "stream",
          "name": "stderr",
          "text": [
            "\rEvaluate Test:  67%|██████▋   | 2/3 [00:02<00:01,  1.37s/it]"
          ]
        },
        {
          "output_type": "stream",
          "name": "stdout",
          "text": [
            "sample 3 num of prompts for Pneumonia from total 312\n"
          ]
        },
        {
          "output_type": "stream",
          "name": "stderr",
          "text": [
            "Evaluate Test: 100%|██████████| 3/3 [00:04<00:00,  1.48s/it]\n"
          ]
        },
        {
          "output_type": "stream",
          "name": "stdout",
          "text": [
            "\n",
            "Accuracy: 0.9613, Precision: 0.9315, Recall: 0.9933, AUC: 0.9910\n"
          ]
        },
        {
          "output_type": "stream",
          "name": "stderr",
          "text": [
            "\rEvaluate Train:   0%|          | 0/8 [00:00<?, ?it/s]"
          ]
        },
        {
          "output_type": "stream",
          "name": "stdout",
          "text": [
            "sample 4 num of prompts for Pneumonia from total 312\n"
          ]
        },
        {
          "output_type": "stream",
          "name": "stderr",
          "text": [
            "\rEvaluate Train:  12%|█▎        | 1/8 [00:01<00:09,  1.37s/it]"
          ]
        },
        {
          "output_type": "stream",
          "name": "stdout",
          "text": [
            "sample 4 num of prompts for Pneumonia from total 312\n"
          ]
        },
        {
          "output_type": "stream",
          "name": "stderr",
          "text": [
            "\rEvaluate Train:  25%|██▌       | 2/8 [00:02<00:08,  1.48s/it]"
          ]
        },
        {
          "output_type": "stream",
          "name": "stdout",
          "text": [
            "sample 4 num of prompts for Pneumonia from total 312\n"
          ]
        },
        {
          "output_type": "stream",
          "name": "stderr",
          "text": [
            "\rEvaluate Train:  38%|███▊      | 3/8 [00:04<00:07,  1.43s/it]"
          ]
        },
        {
          "output_type": "stream",
          "name": "stdout",
          "text": [
            "sample 4 num of prompts for Pneumonia from total 312\n"
          ]
        },
        {
          "output_type": "stream",
          "name": "stderr",
          "text": [
            "\rEvaluate Train:  50%|█████     | 4/8 [00:05<00:06,  1.51s/it]"
          ]
        },
        {
          "output_type": "stream",
          "name": "stdout",
          "text": [
            "sample 4 num of prompts for Pneumonia from total 312\n"
          ]
        },
        {
          "output_type": "stream",
          "name": "stderr",
          "text": [
            "\rEvaluate Train:  62%|██████▎   | 5/8 [00:07<00:04,  1.46s/it]"
          ]
        },
        {
          "output_type": "stream",
          "name": "stdout",
          "text": [
            "sample 4 num of prompts for Pneumonia from total 312\n"
          ]
        },
        {
          "output_type": "stream",
          "name": "stderr",
          "text": [
            "\rEvaluate Train:  75%|███████▌  | 6/8 [00:08<00:03,  1.51s/it]"
          ]
        },
        {
          "output_type": "stream",
          "name": "stdout",
          "text": [
            "sample 4 num of prompts for Pneumonia from total 312\n"
          ]
        },
        {
          "output_type": "stream",
          "name": "stderr",
          "text": [
            "\rEvaluate Train:  88%|████████▊ | 7/8 [00:10<00:01,  1.47s/it]"
          ]
        },
        {
          "output_type": "stream",
          "name": "stdout",
          "text": [
            "sample 4 num of prompts for Pneumonia from total 312\n"
          ]
        },
        {
          "output_type": "stream",
          "name": "stderr",
          "text": [
            "Evaluate Train: 100%|██████████| 8/8 [00:11<00:00,  1.49s/it]\n",
            "Evaluate Validation:   0%|          | 0/2 [00:00<?, ?it/s]"
          ]
        },
        {
          "output_type": "stream",
          "name": "stdout",
          "text": [
            "sample 4 num of prompts for Pneumonia from total 312\n"
          ]
        },
        {
          "output_type": "stream",
          "name": "stderr",
          "text": [
            "\rEvaluate Validation:  50%|█████     | 1/2 [00:01<00:01,  1.46s/it]"
          ]
        },
        {
          "output_type": "stream",
          "name": "stdout",
          "text": [
            "sample 4 num of prompts for Pneumonia from total 312\n"
          ]
        },
        {
          "output_type": "stream",
          "name": "stderr",
          "text": [
            "Evaluate Validation: 100%|██████████| 2/2 [00:02<00:00,  1.50s/it]\n",
            "Evaluate Test:   0%|          | 0/3 [00:00<?, ?it/s]"
          ]
        },
        {
          "output_type": "stream",
          "name": "stdout",
          "text": [
            "sample 4 num of prompts for Pneumonia from total 312\n"
          ]
        },
        {
          "output_type": "stream",
          "name": "stderr",
          "text": [
            "\rEvaluate Test:  33%|███▎      | 1/3 [00:01<00:02,  1.38s/it]"
          ]
        },
        {
          "output_type": "stream",
          "name": "stdout",
          "text": [
            "sample 4 num of prompts for Pneumonia from total 312\n"
          ]
        },
        {
          "output_type": "stream",
          "name": "stderr",
          "text": [
            "\rEvaluate Test:  67%|██████▋   | 2/3 [00:03<00:01,  1.53s/it]"
          ]
        },
        {
          "output_type": "stream",
          "name": "stdout",
          "text": [
            "sample 4 num of prompts for Pneumonia from total 312\n"
          ]
        },
        {
          "output_type": "stream",
          "name": "stderr",
          "text": [
            "Evaluate Test: 100%|██████████| 3/3 [00:04<00:00,  1.55s/it]\n"
          ]
        },
        {
          "output_type": "stream",
          "name": "stdout",
          "text": [
            "\n",
            "Accuracy: 0.8956, Precision: 0.8248, Recall: 0.9967, AUC: 0.9891\n"
          ]
        },
        {
          "output_type": "stream",
          "name": "stderr",
          "text": [
            "\rEvaluate Train:   0%|          | 0/8 [00:00<?, ?it/s]"
          ]
        },
        {
          "output_type": "stream",
          "name": "stdout",
          "text": [
            "sample 5 num of prompts for Pneumonia from total 312\n"
          ]
        },
        {
          "output_type": "stream",
          "name": "stderr",
          "text": [
            "\rEvaluate Train:  12%|█▎        | 1/8 [00:01<00:09,  1.37s/it]"
          ]
        },
        {
          "output_type": "stream",
          "name": "stdout",
          "text": [
            "sample 5 num of prompts for Pneumonia from total 312\n"
          ]
        },
        {
          "output_type": "stream",
          "name": "stderr",
          "text": [
            "\rEvaluate Train:  25%|██▌       | 2/8 [00:02<00:08,  1.38s/it]"
          ]
        },
        {
          "output_type": "stream",
          "name": "stdout",
          "text": [
            "sample 5 num of prompts for Pneumonia from total 312\n"
          ]
        },
        {
          "output_type": "stream",
          "name": "stderr",
          "text": [
            "\rEvaluate Train:  38%|███▊      | 3/8 [00:04<00:07,  1.48s/it]"
          ]
        },
        {
          "output_type": "stream",
          "name": "stdout",
          "text": [
            "sample 5 num of prompts for Pneumonia from total 312\n"
          ]
        },
        {
          "output_type": "stream",
          "name": "stderr",
          "text": [
            "\rEvaluate Train:  50%|█████     | 4/8 [00:05<00:05,  1.44s/it]"
          ]
        },
        {
          "output_type": "stream",
          "name": "stdout",
          "text": [
            "sample 5 num of prompts for Pneumonia from total 312\n"
          ]
        },
        {
          "output_type": "stream",
          "name": "stderr",
          "text": [
            "\rEvaluate Train:  62%|██████▎   | 5/8 [00:07<00:04,  1.45s/it]"
          ]
        },
        {
          "output_type": "stream",
          "name": "stdout",
          "text": [
            "sample 5 num of prompts for Pneumonia from total 312\n"
          ]
        },
        {
          "output_type": "stream",
          "name": "stderr",
          "text": [
            "\rEvaluate Train:  75%|███████▌  | 6/8 [00:08<00:02,  1.47s/it]"
          ]
        },
        {
          "output_type": "stream",
          "name": "stdout",
          "text": [
            "sample 5 num of prompts for Pneumonia from total 312\n"
          ]
        },
        {
          "output_type": "stream",
          "name": "stderr",
          "text": [
            "\rEvaluate Train:  88%|████████▊ | 7/8 [00:10<00:01,  1.43s/it]"
          ]
        },
        {
          "output_type": "stream",
          "name": "stdout",
          "text": [
            "sample 5 num of prompts for Pneumonia from total 312\n"
          ]
        },
        {
          "output_type": "stream",
          "name": "stderr",
          "text": [
            "Evaluate Train: 100%|██████████| 8/8 [00:11<00:00,  1.45s/it]\n",
            "Evaluate Validation:   0%|          | 0/2 [00:00<?, ?it/s]"
          ]
        },
        {
          "output_type": "stream",
          "name": "stdout",
          "text": [
            "sample 5 num of prompts for Pneumonia from total 312\n"
          ]
        },
        {
          "output_type": "stream",
          "name": "stderr",
          "text": [
            "\rEvaluate Validation:  50%|█████     | 1/2 [00:01<00:01,  1.37s/it]"
          ]
        },
        {
          "output_type": "stream",
          "name": "stdout",
          "text": [
            "sample 5 num of prompts for Pneumonia from total 312\n"
          ]
        },
        {
          "output_type": "stream",
          "name": "stderr",
          "text": [
            "Evaluate Validation: 100%|██████████| 2/2 [00:03<00:00,  1.54s/it]\n",
            "Evaluate Test:   0%|          | 0/3 [00:00<?, ?it/s]"
          ]
        },
        {
          "output_type": "stream",
          "name": "stdout",
          "text": [
            "sample 5 num of prompts for Pneumonia from total 312\n"
          ]
        },
        {
          "output_type": "stream",
          "name": "stderr",
          "text": [
            "\rEvaluate Test:  33%|███▎      | 1/3 [00:01<00:03,  1.55s/it]"
          ]
        },
        {
          "output_type": "stream",
          "name": "stdout",
          "text": [
            "sample 5 num of prompts for Pneumonia from total 312\n"
          ]
        },
        {
          "output_type": "stream",
          "name": "stderr",
          "text": [
            "\rEvaluate Test:  67%|██████▋   | 2/3 [00:02<00:01,  1.48s/it]"
          ]
        },
        {
          "output_type": "stream",
          "name": "stdout",
          "text": [
            "sample 5 num of prompts for Pneumonia from total 312\n"
          ]
        },
        {
          "output_type": "stream",
          "name": "stderr",
          "text": [
            "Evaluate Test: 100%|██████████| 3/3 [00:04<00:00,  1.41s/it]\n"
          ]
        },
        {
          "output_type": "stream",
          "name": "stdout",
          "text": [
            "\n",
            "Accuracy: 0.8849, Precision: 0.8107, Recall: 0.9953, AUC: 0.9877\n"
          ]
        },
        {
          "output_type": "stream",
          "name": "stderr",
          "text": [
            "\rEvaluate Train:   0%|          | 0/8 [00:00<?, ?it/s]"
          ]
        },
        {
          "output_type": "stream",
          "name": "stdout",
          "text": [
            "sample 6 num of prompts for Pneumonia from total 312\n"
          ]
        },
        {
          "output_type": "stream",
          "name": "stderr",
          "text": [
            "\rEvaluate Train:  12%|█▎        | 1/8 [00:02<00:14,  2.02s/it]"
          ]
        },
        {
          "output_type": "stream",
          "name": "stdout",
          "text": [
            "sample 6 num of prompts for Pneumonia from total 312\n"
          ]
        },
        {
          "output_type": "stream",
          "name": "stderr",
          "text": [
            "\rEvaluate Train:  25%|██▌       | 2/8 [00:03<00:09,  1.64s/it]"
          ]
        },
        {
          "output_type": "stream",
          "name": "stdout",
          "text": [
            "sample 6 num of prompts for Pneumonia from total 312\n"
          ]
        },
        {
          "output_type": "stream",
          "name": "stderr",
          "text": [
            "\rEvaluate Train:  38%|███▊      | 3/8 [00:04<00:07,  1.52s/it]"
          ]
        },
        {
          "output_type": "stream",
          "name": "stdout",
          "text": [
            "sample 6 num of prompts for Pneumonia from total 312\n"
          ]
        },
        {
          "output_type": "stream",
          "name": "stderr",
          "text": [
            "\rEvaluate Train:  50%|█████     | 4/8 [00:06<00:05,  1.47s/it]"
          ]
        },
        {
          "output_type": "stream",
          "name": "stdout",
          "text": [
            "sample 6 num of prompts for Pneumonia from total 312\n"
          ]
        },
        {
          "output_type": "stream",
          "name": "stderr",
          "text": [
            "\rEvaluate Train:  62%|██████▎   | 5/8 [00:07<00:04,  1.50s/it]"
          ]
        },
        {
          "output_type": "stream",
          "name": "stdout",
          "text": [
            "sample 6 num of prompts for Pneumonia from total 312\n"
          ]
        },
        {
          "output_type": "stream",
          "name": "stderr",
          "text": [
            "\rEvaluate Train:  75%|███████▌  | 6/8 [00:09<00:03,  1.50s/it]"
          ]
        },
        {
          "output_type": "stream",
          "name": "stdout",
          "text": [
            "sample 6 num of prompts for Pneumonia from total 312\n"
          ]
        },
        {
          "output_type": "stream",
          "name": "stderr",
          "text": [
            "\rEvaluate Train:  88%|████████▊ | 7/8 [00:10<00:01,  1.50s/it]"
          ]
        },
        {
          "output_type": "stream",
          "name": "stdout",
          "text": [
            "sample 6 num of prompts for Pneumonia from total 312\n"
          ]
        },
        {
          "output_type": "stream",
          "name": "stderr",
          "text": [
            "Evaluate Train: 100%|██████████| 8/8 [00:12<00:00,  1.50s/it]\n",
            "Evaluate Validation:   0%|          | 0/2 [00:00<?, ?it/s]"
          ]
        },
        {
          "output_type": "stream",
          "name": "stdout",
          "text": [
            "sample 6 num of prompts for Pneumonia from total 312\n"
          ]
        },
        {
          "output_type": "stream",
          "name": "stderr",
          "text": [
            "\rEvaluate Validation:  50%|█████     | 1/2 [00:01<00:01,  1.39s/it]"
          ]
        },
        {
          "output_type": "stream",
          "name": "stdout",
          "text": [
            "sample 6 num of prompts for Pneumonia from total 312\n"
          ]
        },
        {
          "output_type": "stream",
          "name": "stderr",
          "text": [
            "Evaluate Validation: 100%|██████████| 2/2 [00:02<00:00,  1.49s/it]\n",
            "Evaluate Test:   0%|          | 0/3 [00:00<?, ?it/s]"
          ]
        },
        {
          "output_type": "stream",
          "name": "stdout",
          "text": [
            "sample 6 num of prompts for Pneumonia from total 312\n"
          ]
        },
        {
          "output_type": "stream",
          "name": "stderr",
          "text": [
            "\rEvaluate Test:  33%|███▎      | 1/3 [00:01<00:02,  1.37s/it]"
          ]
        },
        {
          "output_type": "stream",
          "name": "stdout",
          "text": [
            "sample 6 num of prompts for Pneumonia from total 312\n"
          ]
        },
        {
          "output_type": "stream",
          "name": "stderr",
          "text": [
            "\rEvaluate Test:  67%|██████▋   | 2/3 [00:02<00:01,  1.37s/it]"
          ]
        },
        {
          "output_type": "stream",
          "name": "stdout",
          "text": [
            "sample 6 num of prompts for Pneumonia from total 312\n"
          ]
        },
        {
          "output_type": "stream",
          "name": "stderr",
          "text": [
            "Evaluate Test: 100%|██████████| 3/3 [00:04<00:00,  1.45s/it]\n"
          ]
        },
        {
          "output_type": "stream",
          "name": "stdout",
          "text": [
            "\n",
            "Accuracy: 0.8979, Precision: 0.8280, Recall: 0.9967, AUC: 0.9818\n"
          ]
        },
        {
          "output_type": "stream",
          "name": "stderr",
          "text": [
            "\rEvaluate Train:   0%|          | 0/8 [00:00<?, ?it/s]"
          ]
        },
        {
          "output_type": "stream",
          "name": "stdout",
          "text": [
            "sample 7 num of prompts for Pneumonia from total 312\n"
          ]
        },
        {
          "output_type": "stream",
          "name": "stderr",
          "text": [
            "\rEvaluate Train:  12%|█▎        | 1/8 [00:01<00:11,  1.57s/it]"
          ]
        },
        {
          "output_type": "stream",
          "name": "stdout",
          "text": [
            "sample 7 num of prompts for Pneumonia from total 312\n"
          ]
        },
        {
          "output_type": "stream",
          "name": "stderr",
          "text": [
            "\rEvaluate Train:  25%|██▌       | 2/8 [00:02<00:08,  1.45s/it]"
          ]
        },
        {
          "output_type": "stream",
          "name": "stdout",
          "text": [
            "sample 7 num of prompts for Pneumonia from total 312\n"
          ]
        },
        {
          "output_type": "stream",
          "name": "stderr",
          "text": [
            "\rEvaluate Train:  38%|███▊      | 3/8 [00:04<00:07,  1.43s/it]"
          ]
        },
        {
          "output_type": "stream",
          "name": "stdout",
          "text": [
            "sample 7 num of prompts for Pneumonia from total 312\n"
          ]
        },
        {
          "output_type": "stream",
          "name": "stderr",
          "text": [
            "\rEvaluate Train:  50%|█████     | 4/8 [00:06<00:06,  1.52s/it]"
          ]
        },
        {
          "output_type": "stream",
          "name": "stdout",
          "text": [
            "sample 7 num of prompts for Pneumonia from total 312\n"
          ]
        },
        {
          "output_type": "stream",
          "name": "stderr",
          "text": [
            "\rEvaluate Train:  62%|██████▎   | 5/8 [00:07<00:04,  1.47s/it]"
          ]
        },
        {
          "output_type": "stream",
          "name": "stdout",
          "text": [
            "sample 7 num of prompts for Pneumonia from total 312\n"
          ]
        },
        {
          "output_type": "stream",
          "name": "stderr",
          "text": [
            "\rEvaluate Train:  75%|███████▌  | 6/8 [00:09<00:03,  1.54s/it]"
          ]
        },
        {
          "output_type": "stream",
          "name": "stdout",
          "text": [
            "sample 7 num of prompts for Pneumonia from total 312\n"
          ]
        },
        {
          "output_type": "stream",
          "name": "stderr",
          "text": [
            "\rEvaluate Train:  88%|████████▊ | 7/8 [00:10<00:01,  1.55s/it]"
          ]
        },
        {
          "output_type": "stream",
          "name": "stdout",
          "text": [
            "sample 7 num of prompts for Pneumonia from total 312\n"
          ]
        },
        {
          "output_type": "stream",
          "name": "stderr",
          "text": [
            "Evaluate Train: 100%|██████████| 8/8 [00:12<00:00,  1.57s/it]\n",
            "Evaluate Validation:   0%|          | 0/2 [00:00<?, ?it/s]"
          ]
        },
        {
          "output_type": "stream",
          "name": "stdout",
          "text": [
            "sample 7 num of prompts for Pneumonia from total 312\n"
          ]
        },
        {
          "output_type": "stream",
          "name": "stderr",
          "text": [
            "\rEvaluate Validation:  50%|█████     | 1/2 [00:01<00:01,  1.61s/it]"
          ]
        },
        {
          "output_type": "stream",
          "name": "stdout",
          "text": [
            "sample 7 num of prompts for Pneumonia from total 312\n"
          ]
        },
        {
          "output_type": "stream",
          "name": "stderr",
          "text": [
            "Evaluate Validation: 100%|██████████| 2/2 [00:03<00:00,  1.77s/it]\n",
            "Evaluate Test:   0%|          | 0/3 [00:00<?, ?it/s]"
          ]
        },
        {
          "output_type": "stream",
          "name": "stdout",
          "text": [
            "sample 7 num of prompts for Pneumonia from total 312\n"
          ]
        },
        {
          "output_type": "stream",
          "name": "stderr",
          "text": [
            "\rEvaluate Test:  33%|███▎      | 1/3 [00:01<00:02,  1.42s/it]"
          ]
        },
        {
          "output_type": "stream",
          "name": "stdout",
          "text": [
            "sample 7 num of prompts for Pneumonia from total 312\n"
          ]
        },
        {
          "output_type": "stream",
          "name": "stderr",
          "text": [
            "\rEvaluate Test:  67%|██████▋   | 2/3 [00:02<00:01,  1.40s/it]"
          ]
        },
        {
          "output_type": "stream",
          "name": "stdout",
          "text": [
            "sample 7 num of prompts for Pneumonia from total 312\n"
          ]
        },
        {
          "output_type": "stream",
          "name": "stderr",
          "text": [
            "Evaluate Test: 100%|██████████| 3/3 [00:04<00:00,  1.47s/it]\n"
          ]
        },
        {
          "output_type": "stream",
          "name": "stdout",
          "text": [
            "\n",
            "Accuracy: 0.8804, Precision: 0.8052, Recall: 0.9940, AUC: 0.9634\n"
          ]
        },
        {
          "output_type": "stream",
          "name": "stderr",
          "text": [
            "\rEvaluate Train:   0%|          | 0/8 [00:00<?, ?it/s]"
          ]
        },
        {
          "output_type": "stream",
          "name": "stdout",
          "text": [
            "sample 8 num of prompts for Pneumonia from total 312\n"
          ]
        },
        {
          "output_type": "stream",
          "name": "stderr",
          "text": [
            "\rEvaluate Train:  12%|█▎        | 1/8 [00:01<00:09,  1.41s/it]"
          ]
        },
        {
          "output_type": "stream",
          "name": "stdout",
          "text": [
            "sample 8 num of prompts for Pneumonia from total 312\n"
          ]
        },
        {
          "output_type": "stream",
          "name": "stderr",
          "text": [
            "\rEvaluate Train:  25%|██▌       | 2/8 [00:02<00:08,  1.39s/it]"
          ]
        },
        {
          "output_type": "stream",
          "name": "stdout",
          "text": [
            "sample 8 num of prompts for Pneumonia from total 312\n"
          ]
        },
        {
          "output_type": "stream",
          "name": "stderr",
          "text": [
            "\rEvaluate Train:  38%|███▊      | 3/8 [00:04<00:07,  1.46s/it]"
          ]
        },
        {
          "output_type": "stream",
          "name": "stdout",
          "text": [
            "sample 8 num of prompts for Pneumonia from total 312\n"
          ]
        },
        {
          "output_type": "stream",
          "name": "stderr",
          "text": [
            "\rEvaluate Train:  50%|█████     | 4/8 [00:05<00:05,  1.46s/it]"
          ]
        },
        {
          "output_type": "stream",
          "name": "stdout",
          "text": [
            "sample 8 num of prompts for Pneumonia from total 312\n"
          ]
        },
        {
          "output_type": "stream",
          "name": "stderr",
          "text": [
            "\rEvaluate Train:  62%|██████▎   | 5/8 [00:07<00:04,  1.52s/it]"
          ]
        },
        {
          "output_type": "stream",
          "name": "stdout",
          "text": [
            "sample 8 num of prompts for Pneumonia from total 312\n"
          ]
        },
        {
          "output_type": "stream",
          "name": "stderr",
          "text": [
            "\rEvaluate Train:  75%|███████▌  | 6/8 [00:08<00:02,  1.47s/it]"
          ]
        },
        {
          "output_type": "stream",
          "name": "stdout",
          "text": [
            "sample 8 num of prompts for Pneumonia from total 312\n"
          ]
        },
        {
          "output_type": "stream",
          "name": "stderr",
          "text": [
            "\rEvaluate Train:  88%|████████▊ | 7/8 [00:10<00:01,  1.49s/it]"
          ]
        },
        {
          "output_type": "stream",
          "name": "stdout",
          "text": [
            "sample 8 num of prompts for Pneumonia from total 312\n"
          ]
        },
        {
          "output_type": "stream",
          "name": "stderr",
          "text": [
            "Evaluate Train: 100%|██████████| 8/8 [00:11<00:00,  1.50s/it]\n",
            "Evaluate Validation:   0%|          | 0/2 [00:00<?, ?it/s]"
          ]
        },
        {
          "output_type": "stream",
          "name": "stdout",
          "text": [
            "sample 8 num of prompts for Pneumonia from total 312\n"
          ]
        },
        {
          "output_type": "stream",
          "name": "stderr",
          "text": [
            "\rEvaluate Validation:  50%|█████     | 1/2 [00:01<00:01,  1.37s/it]"
          ]
        },
        {
          "output_type": "stream",
          "name": "stdout",
          "text": [
            "sample 8 num of prompts for Pneumonia from total 312\n"
          ]
        },
        {
          "output_type": "stream",
          "name": "stderr",
          "text": [
            "Evaluate Validation: 100%|██████████| 2/2 [00:02<00:00,  1.49s/it]\n",
            "Evaluate Test:   0%|          | 0/3 [00:00<?, ?it/s]"
          ]
        },
        {
          "output_type": "stream",
          "name": "stdout",
          "text": [
            "sample 8 num of prompts for Pneumonia from total 312\n"
          ]
        },
        {
          "output_type": "stream",
          "name": "stderr",
          "text": [
            "\rEvaluate Test:  33%|███▎      | 1/3 [00:01<00:02,  1.37s/it]"
          ]
        },
        {
          "output_type": "stream",
          "name": "stdout",
          "text": [
            "sample 8 num of prompts for Pneumonia from total 312\n"
          ]
        },
        {
          "output_type": "stream",
          "name": "stderr",
          "text": [
            "\rEvaluate Test:  67%|██████▋   | 2/3 [00:02<00:01,  1.37s/it]"
          ]
        },
        {
          "output_type": "stream",
          "name": "stdout",
          "text": [
            "sample 8 num of prompts for Pneumonia from total 312\n"
          ]
        },
        {
          "output_type": "stream",
          "name": "stderr",
          "text": [
            "Evaluate Test: 100%|██████████| 3/3 [00:04<00:00,  1.43s/it]\n"
          ]
        },
        {
          "output_type": "stream",
          "name": "stdout",
          "text": [
            "\n",
            "Accuracy: 0.8518, Precision: 0.7682, Recall: 0.9946, AUC: 0.9785\n"
          ]
        },
        {
          "output_type": "stream",
          "name": "stderr",
          "text": [
            "\rEvaluate Train:   0%|          | 0/8 [00:00<?, ?it/s]"
          ]
        },
        {
          "output_type": "stream",
          "name": "stdout",
          "text": [
            "sample 9 num of prompts for Pneumonia from total 312\n"
          ]
        },
        {
          "output_type": "stream",
          "name": "stderr",
          "text": [
            "\rEvaluate Train:  12%|█▎        | 1/8 [00:01<00:09,  1.37s/it]"
          ]
        },
        {
          "output_type": "stream",
          "name": "stdout",
          "text": [
            "sample 9 num of prompts for Pneumonia from total 312\n"
          ]
        },
        {
          "output_type": "stream",
          "name": "stderr",
          "text": [
            "\rEvaluate Train:  25%|██▌       | 2/8 [00:03<00:09,  1.61s/it]"
          ]
        },
        {
          "output_type": "stream",
          "name": "stdout",
          "text": [
            "sample 9 num of prompts for Pneumonia from total 312\n"
          ]
        },
        {
          "output_type": "stream",
          "name": "stderr",
          "text": [
            "\rEvaluate Train:  38%|███▊      | 3/8 [00:04<00:07,  1.50s/it]"
          ]
        },
        {
          "output_type": "stream",
          "name": "stdout",
          "text": [
            "sample 9 num of prompts for Pneumonia from total 312\n"
          ]
        },
        {
          "output_type": "stream",
          "name": "stderr",
          "text": [
            "\rEvaluate Train:  50%|█████     | 4/8 [00:06<00:06,  1.52s/it]"
          ]
        },
        {
          "output_type": "stream",
          "name": "stdout",
          "text": [
            "sample 9 num of prompts for Pneumonia from total 312\n"
          ]
        },
        {
          "output_type": "stream",
          "name": "stderr",
          "text": [
            "\rEvaluate Train:  62%|██████▎   | 5/8 [00:07<00:04,  1.52s/it]"
          ]
        },
        {
          "output_type": "stream",
          "name": "stdout",
          "text": [
            "sample 9 num of prompts for Pneumonia from total 312\n"
          ]
        },
        {
          "output_type": "stream",
          "name": "stderr",
          "text": [
            "\rEvaluate Train:  75%|███████▌  | 6/8 [00:08<00:02,  1.47s/it]"
          ]
        },
        {
          "output_type": "stream",
          "name": "stdout",
          "text": [
            "sample 9 num of prompts for Pneumonia from total 312\n"
          ]
        },
        {
          "output_type": "stream",
          "name": "stderr",
          "text": [
            "\rEvaluate Train:  88%|████████▊ | 7/8 [00:10<00:01,  1.46s/it]"
          ]
        },
        {
          "output_type": "stream",
          "name": "stdout",
          "text": [
            "sample 9 num of prompts for Pneumonia from total 312\n"
          ]
        },
        {
          "output_type": "stream",
          "name": "stderr",
          "text": [
            "Evaluate Train: 100%|██████████| 8/8 [00:11<00:00,  1.49s/it]\n",
            "Evaluate Validation:   0%|          | 0/2 [00:00<?, ?it/s]"
          ]
        },
        {
          "output_type": "stream",
          "name": "stdout",
          "text": [
            "sample 9 num of prompts for Pneumonia from total 312\n"
          ]
        },
        {
          "output_type": "stream",
          "name": "stderr",
          "text": [
            "\rEvaluate Validation:  50%|█████     | 1/2 [00:01<00:01,  1.37s/it]"
          ]
        },
        {
          "output_type": "stream",
          "name": "stdout",
          "text": [
            "sample 9 num of prompts for Pneumonia from total 312\n"
          ]
        },
        {
          "output_type": "stream",
          "name": "stderr",
          "text": [
            "Evaluate Validation: 100%|██████████| 2/2 [00:03<00:00,  1.51s/it]\n",
            "Evaluate Test:   0%|          | 0/3 [00:00<?, ?it/s]"
          ]
        },
        {
          "output_type": "stream",
          "name": "stdout",
          "text": [
            "sample 9 num of prompts for Pneumonia from total 312\n"
          ]
        },
        {
          "output_type": "stream",
          "name": "stderr",
          "text": [
            "\rEvaluate Test:  33%|███▎      | 1/3 [00:01<00:02,  1.37s/it]"
          ]
        },
        {
          "output_type": "stream",
          "name": "stdout",
          "text": [
            "sample 9 num of prompts for Pneumonia from total 312\n"
          ]
        },
        {
          "output_type": "stream",
          "name": "stderr",
          "text": [
            "\rEvaluate Test:  67%|██████▋   | 2/3 [00:03<00:01,  1.59s/it]"
          ]
        },
        {
          "output_type": "stream",
          "name": "stdout",
          "text": [
            "sample 9 num of prompts for Pneumonia from total 312\n"
          ]
        },
        {
          "output_type": "stream",
          "name": "stderr",
          "text": [
            "Evaluate Test: 100%|██████████| 3/3 [00:04<00:00,  1.45s/it]\n"
          ]
        },
        {
          "output_type": "stream",
          "name": "stdout",
          "text": [
            "\n",
            "Accuracy: 0.8059, Precision: 0.7150, Recall: 0.9980, AUC: 0.9819\n"
          ]
        },
        {
          "output_type": "stream",
          "name": "stderr",
          "text": [
            "\rEvaluate Train:   0%|          | 0/8 [00:00<?, ?it/s]"
          ]
        },
        {
          "output_type": "stream",
          "name": "stdout",
          "text": [
            "sample 10 num of prompts for Pneumonia from total 312\n"
          ]
        },
        {
          "output_type": "stream",
          "name": "stderr",
          "text": [
            "\rEvaluate Train:  12%|█▎        | 1/8 [00:01<00:13,  1.96s/it]"
          ]
        },
        {
          "output_type": "stream",
          "name": "stdout",
          "text": [
            "sample 10 num of prompts for Pneumonia from total 312\n"
          ]
        },
        {
          "output_type": "stream",
          "name": "stderr",
          "text": [
            "\rEvaluate Train:  25%|██▌       | 2/8 [00:03<00:09,  1.62s/it]"
          ]
        },
        {
          "output_type": "stream",
          "name": "stdout",
          "text": [
            "sample 10 num of prompts for Pneumonia from total 312\n"
          ]
        },
        {
          "output_type": "stream",
          "name": "stderr",
          "text": [
            "\rEvaluate Train:  38%|███▊      | 3/8 [00:04<00:08,  1.60s/it]"
          ]
        },
        {
          "output_type": "stream",
          "name": "stdout",
          "text": [
            "sample 10 num of prompts for Pneumonia from total 312\n"
          ]
        },
        {
          "output_type": "stream",
          "name": "stderr",
          "text": [
            "\rEvaluate Train:  50%|█████     | 4/8 [00:06<00:06,  1.66s/it]"
          ]
        },
        {
          "output_type": "stream",
          "name": "stdout",
          "text": [
            "sample 10 num of prompts for Pneumonia from total 312\n"
          ]
        },
        {
          "output_type": "stream",
          "name": "stderr",
          "text": [
            "\rEvaluate Train:  62%|██████▎   | 5/8 [00:08<00:05,  1.84s/it]"
          ]
        },
        {
          "output_type": "stream",
          "name": "stdout",
          "text": [
            "sample 10 num of prompts for Pneumonia from total 312\n"
          ]
        },
        {
          "output_type": "stream",
          "name": "stderr",
          "text": [
            "\rEvaluate Train:  75%|███████▌  | 6/8 [00:10<00:03,  1.68s/it]"
          ]
        },
        {
          "output_type": "stream",
          "name": "stdout",
          "text": [
            "sample 10 num of prompts for Pneumonia from total 312\n"
          ]
        },
        {
          "output_type": "stream",
          "name": "stderr",
          "text": [
            "\rEvaluate Train:  88%|████████▊ | 7/8 [00:11<00:01,  1.61s/it]"
          ]
        },
        {
          "output_type": "stream",
          "name": "stdout",
          "text": [
            "sample 10 num of prompts for Pneumonia from total 312\n"
          ]
        },
        {
          "output_type": "stream",
          "name": "stderr",
          "text": [
            "Evaluate Train: 100%|██████████| 8/8 [00:13<00:00,  1.66s/it]\n",
            "Evaluate Validation:   0%|          | 0/2 [00:00<?, ?it/s]"
          ]
        },
        {
          "output_type": "stream",
          "name": "stdout",
          "text": [
            "sample 10 num of prompts for Pneumonia from total 312\n"
          ]
        },
        {
          "output_type": "stream",
          "name": "stderr",
          "text": [
            "\rEvaluate Validation:  50%|█████     | 1/2 [00:01<00:01,  1.37s/it]"
          ]
        },
        {
          "output_type": "stream",
          "name": "stdout",
          "text": [
            "sample 10 num of prompts for Pneumonia from total 312\n"
          ]
        },
        {
          "output_type": "stream",
          "name": "stderr",
          "text": [
            "Evaluate Validation: 100%|██████████| 2/2 [00:03<00:00,  1.50s/it]\n",
            "Evaluate Test:   0%|          | 0/3 [00:00<?, ?it/s]"
          ]
        },
        {
          "output_type": "stream",
          "name": "stdout",
          "text": [
            "sample 10 num of prompts for Pneumonia from total 312\n"
          ]
        },
        {
          "output_type": "stream",
          "name": "stderr",
          "text": [
            "\rEvaluate Test:  33%|███▎      | 1/3 [00:01<00:02,  1.37s/it]"
          ]
        },
        {
          "output_type": "stream",
          "name": "stdout",
          "text": [
            "sample 10 num of prompts for Pneumonia from total 312\n"
          ]
        },
        {
          "output_type": "stream",
          "name": "stderr",
          "text": [
            "\rEvaluate Test:  67%|██████▋   | 2/3 [00:02<00:01,  1.37s/it]"
          ]
        },
        {
          "output_type": "stream",
          "name": "stdout",
          "text": [
            "sample 10 num of prompts for Pneumonia from total 312\n"
          ]
        },
        {
          "output_type": "stream",
          "name": "stderr",
          "text": [
            "Evaluate Test: 100%|██████████| 3/3 [00:04<00:00,  1.45s/it]\n"
          ]
        },
        {
          "output_type": "stream",
          "name": "stdout",
          "text": [
            "\n",
            "Accuracy: 0.7952, Precision: 0.7042, Recall: 0.9967, AUC: 0.9234\n"
          ]
        },
        {
          "output_type": "stream",
          "name": "stderr",
          "text": [
            "\rEvaluate Train:   0%|          | 0/8 [00:00<?, ?it/s]"
          ]
        },
        {
          "output_type": "stream",
          "name": "stdout",
          "text": [
            "sample 11 num of prompts for Pneumonia from total 312\n"
          ]
        },
        {
          "output_type": "stream",
          "name": "stderr",
          "text": [
            "\rEvaluate Train:  12%|█▎        | 1/8 [00:01<00:09,  1.41s/it]"
          ]
        },
        {
          "output_type": "stream",
          "name": "stdout",
          "text": [
            "sample 11 num of prompts for Pneumonia from total 312\n"
          ]
        },
        {
          "output_type": "stream",
          "name": "stderr",
          "text": [
            "\rEvaluate Train:  25%|██▌       | 2/8 [00:02<00:08,  1.49s/it]"
          ]
        },
        {
          "output_type": "stream",
          "name": "stdout",
          "text": [
            "sample 11 num of prompts for Pneumonia from total 312\n"
          ]
        },
        {
          "output_type": "stream",
          "name": "stderr",
          "text": [
            "\rEvaluate Train:  38%|███▊      | 3/8 [00:04<00:07,  1.56s/it]"
          ]
        },
        {
          "output_type": "stream",
          "name": "stdout",
          "text": [
            "sample 11 num of prompts for Pneumonia from total 312\n"
          ]
        },
        {
          "output_type": "stream",
          "name": "stderr",
          "text": [
            "\rEvaluate Train:  50%|█████     | 4/8 [00:06<00:06,  1.51s/it]"
          ]
        },
        {
          "output_type": "stream",
          "name": "stdout",
          "text": [
            "sample 11 num of prompts for Pneumonia from total 312\n"
          ]
        },
        {
          "output_type": "stream",
          "name": "stderr",
          "text": [
            "\rEvaluate Train:  62%|██████▎   | 5/8 [00:07<00:04,  1.46s/it]"
          ]
        },
        {
          "output_type": "stream",
          "name": "stdout",
          "text": [
            "sample 11 num of prompts for Pneumonia from total 312\n"
          ]
        },
        {
          "output_type": "stream",
          "name": "stderr",
          "text": [
            "\rEvaluate Train:  75%|███████▌  | 6/8 [00:08<00:03,  1.50s/it]"
          ]
        },
        {
          "output_type": "stream",
          "name": "stdout",
          "text": [
            "sample 11 num of prompts for Pneumonia from total 312\n"
          ]
        },
        {
          "output_type": "stream",
          "name": "stderr",
          "text": [
            "\rEvaluate Train:  88%|████████▊ | 7/8 [00:10<00:01,  1.46s/it]"
          ]
        },
        {
          "output_type": "stream",
          "name": "stdout",
          "text": [
            "sample 11 num of prompts for Pneumonia from total 312\n"
          ]
        },
        {
          "output_type": "stream",
          "name": "stderr",
          "text": [
            "Evaluate Train: 100%|██████████| 8/8 [00:12<00:00,  1.58s/it]\n",
            "Evaluate Validation:   0%|          | 0/2 [00:00<?, ?it/s]"
          ]
        },
        {
          "output_type": "stream",
          "name": "stdout",
          "text": [
            "sample 11 num of prompts for Pneumonia from total 312\n"
          ]
        },
        {
          "output_type": "stream",
          "name": "stderr",
          "text": [
            "\rEvaluate Validation:  50%|█████     | 1/2 [00:01<00:01,  1.54s/it]"
          ]
        },
        {
          "output_type": "stream",
          "name": "stdout",
          "text": [
            "sample 11 num of prompts for Pneumonia from total 312\n"
          ]
        },
        {
          "output_type": "stream",
          "name": "stderr",
          "text": [
            "Evaluate Validation: 100%|██████████| 2/2 [00:03<00:00,  1.72s/it]\n",
            "Evaluate Test:   0%|          | 0/3 [00:00<?, ?it/s]"
          ]
        },
        {
          "output_type": "stream",
          "name": "stdout",
          "text": [
            "sample 11 num of prompts for Pneumonia from total 312\n"
          ]
        },
        {
          "output_type": "stream",
          "name": "stderr",
          "text": [
            "\rEvaluate Test:  33%|███▎      | 1/3 [00:01<00:02,  1.39s/it]"
          ]
        },
        {
          "output_type": "stream",
          "name": "stdout",
          "text": [
            "sample 11 num of prompts for Pneumonia from total 312\n"
          ]
        },
        {
          "output_type": "stream",
          "name": "stderr",
          "text": [
            "\rEvaluate Test:  67%|██████▋   | 2/3 [00:02<00:01,  1.44s/it]"
          ]
        },
        {
          "output_type": "stream",
          "name": "stdout",
          "text": [
            "sample 11 num of prompts for Pneumonia from total 312\n"
          ]
        },
        {
          "output_type": "stream",
          "name": "stderr",
          "text": [
            "Evaluate Test: 100%|██████████| 3/3 [00:04<00:00,  1.49s/it]\n"
          ]
        },
        {
          "output_type": "stream",
          "name": "stdout",
          "text": [
            "\n",
            "Accuracy: 0.7633, Precision: 0.6730, Recall: 0.9967, AUC: 0.9527\n"
          ]
        },
        {
          "output_type": "stream",
          "name": "stderr",
          "text": [
            "\rEvaluate Train:   0%|          | 0/8 [00:00<?, ?it/s]"
          ]
        },
        {
          "output_type": "stream",
          "name": "stdout",
          "text": [
            "sample 12 num of prompts for Pneumonia from total 312\n"
          ]
        },
        {
          "output_type": "stream",
          "name": "stderr",
          "text": [
            "\rEvaluate Train:  12%|█▎        | 1/8 [00:01<00:09,  1.38s/it]"
          ]
        },
        {
          "output_type": "stream",
          "name": "stdout",
          "text": [
            "sample 12 num of prompts for Pneumonia from total 312\n"
          ]
        },
        {
          "output_type": "stream",
          "name": "stderr",
          "text": [
            "\rEvaluate Train:  25%|██▌       | 2/8 [00:03<00:10,  1.79s/it]"
          ]
        },
        {
          "output_type": "stream",
          "name": "stdout",
          "text": [
            "sample 12 num of prompts for Pneumonia from total 312\n"
          ]
        },
        {
          "output_type": "stream",
          "name": "stderr",
          "text": [
            "\rEvaluate Train:  38%|███▊      | 3/8 [00:05<00:09,  1.87s/it]"
          ]
        },
        {
          "output_type": "stream",
          "name": "stdout",
          "text": [
            "sample 12 num of prompts for Pneumonia from total 312\n"
          ]
        },
        {
          "output_type": "stream",
          "name": "stderr",
          "text": [
            "\rEvaluate Train:  50%|█████     | 4/8 [00:07<00:07,  1.92s/it]"
          ]
        },
        {
          "output_type": "stream",
          "name": "stdout",
          "text": [
            "sample 12 num of prompts for Pneumonia from total 312\n"
          ]
        },
        {
          "output_type": "stream",
          "name": "stderr",
          "text": [
            "\rEvaluate Train:  62%|██████▎   | 5/8 [00:09<00:06,  2.00s/it]"
          ]
        },
        {
          "output_type": "stream",
          "name": "stdout",
          "text": [
            "sample 12 num of prompts for Pneumonia from total 312\n"
          ]
        },
        {
          "output_type": "stream",
          "name": "stderr",
          "text": [
            "\rEvaluate Train:  75%|███████▌  | 6/8 [00:11<00:03,  1.94s/it]"
          ]
        },
        {
          "output_type": "stream",
          "name": "stdout",
          "text": [
            "sample 12 num of prompts for Pneumonia from total 312\n"
          ]
        },
        {
          "output_type": "stream",
          "name": "stderr",
          "text": [
            "\rEvaluate Train:  88%|████████▊ | 7/8 [00:13<00:01,  1.99s/it]"
          ]
        },
        {
          "output_type": "stream",
          "name": "stdout",
          "text": [
            "sample 12 num of prompts for Pneumonia from total 312\n"
          ]
        },
        {
          "output_type": "stream",
          "name": "stderr",
          "text": [
            "Evaluate Train: 100%|██████████| 8/8 [00:15<00:00,  1.88s/it]\n",
            "Evaluate Validation:   0%|          | 0/2 [00:00<?, ?it/s]"
          ]
        },
        {
          "output_type": "stream",
          "name": "stdout",
          "text": [
            "sample 12 num of prompts for Pneumonia from total 312\n"
          ]
        },
        {
          "output_type": "stream",
          "name": "stderr",
          "text": [
            "\rEvaluate Validation:  50%|█████     | 1/2 [00:01<00:01,  1.69s/it]"
          ]
        },
        {
          "output_type": "stream",
          "name": "stdout",
          "text": [
            "sample 12 num of prompts for Pneumonia from total 312\n"
          ]
        },
        {
          "output_type": "stream",
          "name": "stderr",
          "text": [
            "Evaluate Validation: 100%|██████████| 2/2 [00:03<00:00,  1.84s/it]\n",
            "Evaluate Test:   0%|          | 0/3 [00:00<?, ?it/s]"
          ]
        },
        {
          "output_type": "stream",
          "name": "stdout",
          "text": [
            "sample 12 num of prompts for Pneumonia from total 312\n"
          ]
        },
        {
          "output_type": "stream",
          "name": "stderr",
          "text": [
            "\rEvaluate Test:  33%|███▎      | 1/3 [00:02<00:04,  2.19s/it]"
          ]
        },
        {
          "output_type": "stream",
          "name": "stdout",
          "text": [
            "sample 12 num of prompts for Pneumonia from total 312\n"
          ]
        },
        {
          "output_type": "stream",
          "name": "stderr",
          "text": [
            "\rEvaluate Test:  67%|██████▋   | 2/3 [00:04<00:02,  2.10s/it]"
          ]
        },
        {
          "output_type": "stream",
          "name": "stdout",
          "text": [
            "sample 12 num of prompts for Pneumonia from total 312\n"
          ]
        },
        {
          "output_type": "stream",
          "name": "stderr",
          "text": [
            "Evaluate Test: 100%|██████████| 3/3 [00:05<00:00,  1.88s/it]\n"
          ]
        },
        {
          "output_type": "stream",
          "name": "stdout",
          "text": [
            "\n",
            "Accuracy: 0.8309, Precision: 0.7426, Recall: 0.9973, AUC: 0.9781\n",
            "Best AUC for rsna_task with 3 prompts: 0.9910\n",
            "Results saved to results/zs_medclip_finetune/ucsd/medclip/classification_results.txt\n"
          ]
        },
        {
          "output_type": "stream",
          "name": "stderr",
          "text": [
            "\rEvaluate Train:   0%|          | 0/8 [00:00<?, ?it/s]"
          ]
        },
        {
          "output_type": "stream",
          "name": "stdout",
          "text": [
            "sample 1 num of prompts for COVID from total 12\n"
          ]
        },
        {
          "output_type": "stream",
          "name": "stderr",
          "text": [
            "\rEvaluate Train:  12%|█▎        | 1/8 [00:01<00:09,  1.37s/it]"
          ]
        },
        {
          "output_type": "stream",
          "name": "stdout",
          "text": [
            "sample 1 num of prompts for COVID from total 12\n"
          ]
        },
        {
          "output_type": "stream",
          "name": "stderr",
          "text": [
            "\rEvaluate Train:  25%|██▌       | 2/8 [00:02<00:08,  1.40s/it]"
          ]
        },
        {
          "output_type": "stream",
          "name": "stdout",
          "text": [
            "sample 1 num of prompts for COVID from total 12\n"
          ]
        },
        {
          "output_type": "stream",
          "name": "stderr",
          "text": [
            "\rEvaluate Train:  38%|███▊      | 3/8 [00:04<00:07,  1.46s/it]"
          ]
        },
        {
          "output_type": "stream",
          "name": "stdout",
          "text": [
            "sample 1 num of prompts for COVID from total 12\n"
          ]
        },
        {
          "output_type": "stream",
          "name": "stderr",
          "text": [
            "\rEvaluate Train:  50%|█████     | 4/8 [00:05<00:05,  1.45s/it]"
          ]
        },
        {
          "output_type": "stream",
          "name": "stdout",
          "text": [
            "sample 1 num of prompts for COVID from total 12\n"
          ]
        },
        {
          "output_type": "stream",
          "name": "stderr",
          "text": [
            "\rEvaluate Train:  62%|██████▎   | 5/8 [00:07<00:04,  1.54s/it]"
          ]
        },
        {
          "output_type": "stream",
          "name": "stdout",
          "text": [
            "sample 1 num of prompts for COVID from total 12\n"
          ]
        },
        {
          "output_type": "stream",
          "name": "stderr",
          "text": [
            "\rEvaluate Train:  75%|███████▌  | 6/8 [00:08<00:02,  1.49s/it]"
          ]
        },
        {
          "output_type": "stream",
          "name": "stdout",
          "text": [
            "sample 1 num of prompts for COVID from total 12\n"
          ]
        },
        {
          "output_type": "stream",
          "name": "stderr",
          "text": [
            "\rEvaluate Train:  88%|████████▊ | 7/8 [00:10<00:01,  1.68s/it]"
          ]
        },
        {
          "output_type": "stream",
          "name": "stdout",
          "text": [
            "sample 1 num of prompts for COVID from total 12\n"
          ]
        },
        {
          "output_type": "stream",
          "name": "stderr",
          "text": [
            "Evaluate Train: 100%|██████████| 8/8 [00:12<00:00,  1.62s/it]\n",
            "Evaluate Validation:   0%|          | 0/2 [00:00<?, ?it/s]"
          ]
        },
        {
          "output_type": "stream",
          "name": "stdout",
          "text": [
            "sample 1 num of prompts for COVID from total 12\n"
          ]
        },
        {
          "output_type": "stream",
          "name": "stderr",
          "text": [
            "\rEvaluate Validation:  50%|█████     | 1/2 [00:01<00:01,  1.47s/it]"
          ]
        },
        {
          "output_type": "stream",
          "name": "stdout",
          "text": [
            "sample 1 num of prompts for COVID from total 12\n"
          ]
        },
        {
          "output_type": "stream",
          "name": "stderr",
          "text": [
            "Evaluate Validation: 100%|██████████| 2/2 [00:03<00:00,  1.52s/it]\n",
            "Evaluate Test:   0%|          | 0/3 [00:00<?, ?it/s]"
          ]
        },
        {
          "output_type": "stream",
          "name": "stdout",
          "text": [
            "sample 1 num of prompts for COVID from total 12\n"
          ]
        },
        {
          "output_type": "stream",
          "name": "stderr",
          "text": [
            "\rEvaluate Test:  33%|███▎      | 1/3 [00:01<00:02,  1.37s/it]"
          ]
        },
        {
          "output_type": "stream",
          "name": "stdout",
          "text": [
            "sample 1 num of prompts for COVID from total 12\n"
          ]
        },
        {
          "output_type": "stream",
          "name": "stderr",
          "text": [
            "\rEvaluate Test:  67%|██████▋   | 2/3 [00:02<00:01,  1.37s/it]"
          ]
        },
        {
          "output_type": "stream",
          "name": "stdout",
          "text": [
            "sample 1 num of prompts for COVID from total 12\n"
          ]
        },
        {
          "output_type": "stream",
          "name": "stderr",
          "text": [
            "Evaluate Test: 100%|██████████| 3/3 [00:04<00:00,  1.40s/it]\n"
          ]
        },
        {
          "output_type": "stream",
          "name": "stdout",
          "text": [
            "\n",
            "Accuracy: 0.9733, Precision: 0.9560, Recall: 0.9906, AUC: 0.9926\n"
          ]
        },
        {
          "output_type": "stream",
          "name": "stderr",
          "text": [
            "\rEvaluate Train:   0%|          | 0/8 [00:00<?, ?it/s]"
          ]
        },
        {
          "output_type": "stream",
          "name": "stdout",
          "text": [
            "sample 2 num of prompts for COVID from total 12\n"
          ]
        },
        {
          "output_type": "stream",
          "name": "stderr",
          "text": [
            "\rEvaluate Train:  12%|█▎        | 1/8 [00:01<00:09,  1.40s/it]"
          ]
        },
        {
          "output_type": "stream",
          "name": "stdout",
          "text": [
            "sample 2 num of prompts for COVID from total 12\n"
          ]
        },
        {
          "output_type": "stream",
          "name": "stderr",
          "text": [
            "\rEvaluate Train:  25%|██▌       | 2/8 [00:02<00:09,  1.51s/it]"
          ]
        },
        {
          "output_type": "stream",
          "name": "stdout",
          "text": [
            "sample 2 num of prompts for COVID from total 12\n"
          ]
        },
        {
          "output_type": "stream",
          "name": "stderr",
          "text": [
            "\rEvaluate Train:  38%|███▊      | 3/8 [00:04<00:08,  1.63s/it]"
          ]
        },
        {
          "output_type": "stream",
          "name": "stdout",
          "text": [
            "sample 2 num of prompts for COVID from total 12\n"
          ]
        },
        {
          "output_type": "stream",
          "name": "stderr",
          "text": [
            "\rEvaluate Train:  50%|█████     | 4/8 [00:06<00:06,  1.56s/it]"
          ]
        },
        {
          "output_type": "stream",
          "name": "stdout",
          "text": [
            "sample 2 num of prompts for COVID from total 12\n"
          ]
        },
        {
          "output_type": "stream",
          "name": "stderr",
          "text": [
            "\rEvaluate Train:  62%|██████▎   | 5/8 [00:07<00:04,  1.55s/it]"
          ]
        },
        {
          "output_type": "stream",
          "name": "stdout",
          "text": [
            "sample 2 num of prompts for COVID from total 12\n"
          ]
        },
        {
          "output_type": "stream",
          "name": "stderr",
          "text": [
            "\rEvaluate Train:  75%|███████▌  | 6/8 [00:09<00:03,  1.69s/it]"
          ]
        },
        {
          "output_type": "stream",
          "name": "stdout",
          "text": [
            "sample 2 num of prompts for COVID from total 12\n"
          ]
        },
        {
          "output_type": "stream",
          "name": "stderr",
          "text": [
            "\rEvaluate Train:  88%|████████▊ | 7/8 [00:11<00:01,  1.81s/it]"
          ]
        },
        {
          "output_type": "stream",
          "name": "stdout",
          "text": [
            "sample 2 num of prompts for COVID from total 12\n"
          ]
        },
        {
          "output_type": "stream",
          "name": "stderr",
          "text": [
            "Evaluate Train: 100%|██████████| 8/8 [00:13<00:00,  1.67s/it]\n",
            "Evaluate Validation:   0%|          | 0/2 [00:00<?, ?it/s]"
          ]
        },
        {
          "output_type": "stream",
          "name": "stdout",
          "text": [
            "sample 2 num of prompts for COVID from total 12\n"
          ]
        },
        {
          "output_type": "stream",
          "name": "stderr",
          "text": [
            "\rEvaluate Validation:  50%|█████     | 1/2 [00:01<00:01,  1.43s/it]"
          ]
        },
        {
          "output_type": "stream",
          "name": "stdout",
          "text": [
            "sample 2 num of prompts for COVID from total 12\n"
          ]
        },
        {
          "output_type": "stream",
          "name": "stderr",
          "text": [
            "Evaluate Validation: 100%|██████████| 2/2 [00:02<00:00,  1.50s/it]\n",
            "Evaluate Test:   0%|          | 0/3 [00:00<?, ?it/s]"
          ]
        },
        {
          "output_type": "stream",
          "name": "stdout",
          "text": [
            "sample 2 num of prompts for COVID from total 12\n"
          ]
        },
        {
          "output_type": "stream",
          "name": "stderr",
          "text": [
            "\rEvaluate Test:  33%|███▎      | 1/3 [00:01<00:02,  1.37s/it]"
          ]
        },
        {
          "output_type": "stream",
          "name": "stdout",
          "text": [
            "sample 2 num of prompts for COVID from total 12\n"
          ]
        },
        {
          "output_type": "stream",
          "name": "stderr",
          "text": [
            "\rEvaluate Test:  67%|██████▋   | 2/3 [00:02<00:01,  1.44s/it]"
          ]
        },
        {
          "output_type": "stream",
          "name": "stdout",
          "text": [
            "sample 2 num of prompts for COVID from total 12\n"
          ]
        },
        {
          "output_type": "stream",
          "name": "stderr",
          "text": [
            "Evaluate Test: 100%|██████████| 3/3 [00:04<00:00,  1.45s/it]\n"
          ]
        },
        {
          "output_type": "stream",
          "name": "stdout",
          "text": [
            "\n",
            "Accuracy: 0.9701, Precision: 0.9493, Recall: 0.9913, AUC: 0.9933\n"
          ]
        },
        {
          "output_type": "stream",
          "name": "stderr",
          "text": [
            "\rEvaluate Train:   0%|          | 0/8 [00:00<?, ?it/s]"
          ]
        },
        {
          "output_type": "stream",
          "name": "stdout",
          "text": [
            "sample 3 num of prompts for COVID from total 12\n"
          ]
        },
        {
          "output_type": "stream",
          "name": "stderr",
          "text": [
            "\rEvaluate Train:  12%|█▎        | 1/8 [00:01<00:13,  1.88s/it]"
          ]
        },
        {
          "output_type": "stream",
          "name": "stdout",
          "text": [
            "sample 3 num of prompts for COVID from total 12\n"
          ]
        },
        {
          "output_type": "stream",
          "name": "stderr",
          "text": [
            "\rEvaluate Train:  25%|██▌       | 2/8 [00:03<00:09,  1.64s/it]"
          ]
        },
        {
          "output_type": "stream",
          "name": "stdout",
          "text": [
            "sample 3 num of prompts for COVID from total 12\n"
          ]
        },
        {
          "output_type": "stream",
          "name": "stderr",
          "text": [
            "\rEvaluate Train:  38%|███▊      | 3/8 [00:04<00:07,  1.52s/it]"
          ]
        },
        {
          "output_type": "stream",
          "name": "stdout",
          "text": [
            "sample 3 num of prompts for COVID from total 12\n"
          ]
        },
        {
          "output_type": "stream",
          "name": "stderr",
          "text": [
            "\rEvaluate Train:  50%|█████     | 4/8 [00:06<00:06,  1.56s/it]"
          ]
        },
        {
          "output_type": "stream",
          "name": "stdout",
          "text": [
            "sample 3 num of prompts for COVID from total 12\n"
          ]
        },
        {
          "output_type": "stream",
          "name": "stderr",
          "text": [
            "\rEvaluate Train:  62%|██████▎   | 5/8 [00:07<00:04,  1.49s/it]"
          ]
        },
        {
          "output_type": "stream",
          "name": "stdout",
          "text": [
            "sample 3 num of prompts for COVID from total 12\n"
          ]
        },
        {
          "output_type": "stream",
          "name": "stderr",
          "text": [
            "\rEvaluate Train:  75%|███████▌  | 6/8 [00:09<00:03,  1.54s/it]"
          ]
        },
        {
          "output_type": "stream",
          "name": "stdout",
          "text": [
            "sample 3 num of prompts for COVID from total 12\n"
          ]
        },
        {
          "output_type": "stream",
          "name": "stderr",
          "text": [
            "\rEvaluate Train:  88%|████████▊ | 7/8 [00:10<00:01,  1.53s/it]"
          ]
        },
        {
          "output_type": "stream",
          "name": "stdout",
          "text": [
            "sample 3 num of prompts for COVID from total 12\n"
          ]
        },
        {
          "output_type": "stream",
          "name": "stderr",
          "text": [
            "Evaluate Train: 100%|██████████| 8/8 [00:12<00:00,  1.53s/it]\n",
            "Evaluate Validation:   0%|          | 0/2 [00:00<?, ?it/s]"
          ]
        },
        {
          "output_type": "stream",
          "name": "stdout",
          "text": [
            "sample 3 num of prompts for COVID from total 12\n"
          ]
        },
        {
          "output_type": "stream",
          "name": "stderr",
          "text": [
            "\rEvaluate Validation:  50%|█████     | 1/2 [00:01<00:01,  1.37s/it]"
          ]
        },
        {
          "output_type": "stream",
          "name": "stdout",
          "text": [
            "sample 3 num of prompts for COVID from total 12\n"
          ]
        },
        {
          "output_type": "stream",
          "name": "stderr",
          "text": [
            "Evaluate Validation: 100%|██████████| 2/2 [00:02<00:00,  1.36s/it]\n",
            "Evaluate Test:   0%|          | 0/3 [00:00<?, ?it/s]"
          ]
        },
        {
          "output_type": "stream",
          "name": "stdout",
          "text": [
            "sample 3 num of prompts for COVID from total 12\n"
          ]
        },
        {
          "output_type": "stream",
          "name": "stderr",
          "text": [
            "\rEvaluate Test:  33%|███▎      | 1/3 [00:01<00:03,  1.87s/it]"
          ]
        },
        {
          "output_type": "stream",
          "name": "stdout",
          "text": [
            "sample 3 num of prompts for COVID from total 12\n"
          ]
        },
        {
          "output_type": "stream",
          "name": "stderr",
          "text": [
            "\rEvaluate Test:  67%|██████▋   | 2/3 [00:04<00:02,  2.03s/it]"
          ]
        },
        {
          "output_type": "stream",
          "name": "stdout",
          "text": [
            "sample 3 num of prompts for COVID from total 12\n"
          ]
        },
        {
          "output_type": "stream",
          "name": "stderr",
          "text": [
            "Evaluate Test: 100%|██████████| 3/3 [00:05<00:00,  1.87s/it]\n"
          ]
        },
        {
          "output_type": "stream",
          "name": "stdout",
          "text": [
            "\n",
            "Accuracy: 0.9694, Precision: 0.9475, Recall: 0.9920, AUC: 0.9923\n"
          ]
        },
        {
          "output_type": "stream",
          "name": "stderr",
          "text": [
            "\rEvaluate Train:   0%|          | 0/8 [00:00<?, ?it/s]"
          ]
        },
        {
          "output_type": "stream",
          "name": "stdout",
          "text": [
            "sample 4 num of prompts for COVID from total 12\n"
          ]
        },
        {
          "output_type": "stream",
          "name": "stderr",
          "text": [
            "\rEvaluate Train:  12%|█▎        | 1/8 [00:01<00:09,  1.39s/it]"
          ]
        },
        {
          "output_type": "stream",
          "name": "stdout",
          "text": [
            "sample 4 num of prompts for COVID from total 12\n"
          ]
        },
        {
          "output_type": "stream",
          "name": "stderr",
          "text": [
            "\rEvaluate Train:  25%|██▌       | 2/8 [00:03<00:10,  1.78s/it]"
          ]
        },
        {
          "output_type": "stream",
          "name": "stdout",
          "text": [
            "sample 4 num of prompts for COVID from total 12\n"
          ]
        },
        {
          "output_type": "stream",
          "name": "stderr",
          "text": [
            "\rEvaluate Train:  38%|███▊      | 3/8 [00:05<00:08,  1.79s/it]"
          ]
        },
        {
          "output_type": "stream",
          "name": "stdout",
          "text": [
            "sample 4 num of prompts for COVID from total 12\n"
          ]
        },
        {
          "output_type": "stream",
          "name": "stderr",
          "text": [
            "\rEvaluate Train:  50%|█████     | 4/8 [00:07<00:07,  1.90s/it]"
          ]
        },
        {
          "output_type": "stream",
          "name": "stdout",
          "text": [
            "sample 4 num of prompts for COVID from total 12\n"
          ]
        },
        {
          "output_type": "stream",
          "name": "stderr",
          "text": [
            "\rEvaluate Train:  62%|██████▎   | 5/8 [00:08<00:05,  1.71s/it]"
          ]
        },
        {
          "output_type": "stream",
          "name": "stdout",
          "text": [
            "sample 4 num of prompts for COVID from total 12\n"
          ]
        },
        {
          "output_type": "stream",
          "name": "stderr",
          "text": [
            "\rEvaluate Train:  75%|███████▌  | 6/8 [00:10<00:03,  1.67s/it]"
          ]
        },
        {
          "output_type": "stream",
          "name": "stdout",
          "text": [
            "sample 4 num of prompts for COVID from total 12\n"
          ]
        },
        {
          "output_type": "stream",
          "name": "stderr",
          "text": [
            "\rEvaluate Train:  88%|████████▊ | 7/8 [00:11<00:01,  1.57s/it]"
          ]
        },
        {
          "output_type": "stream",
          "name": "stdout",
          "text": [
            "sample 4 num of prompts for COVID from total 12\n"
          ]
        },
        {
          "output_type": "stream",
          "name": "stderr",
          "text": [
            "Evaluate Train: 100%|██████████| 8/8 [00:13<00:00,  1.66s/it]\n",
            "Evaluate Validation:   0%|          | 0/2 [00:00<?, ?it/s]"
          ]
        },
        {
          "output_type": "stream",
          "name": "stdout",
          "text": [
            "sample 4 num of prompts for COVID from total 12\n"
          ]
        },
        {
          "output_type": "stream",
          "name": "stderr",
          "text": [
            "\rEvaluate Validation:  50%|█████     | 1/2 [00:01<00:01,  1.55s/it]"
          ]
        },
        {
          "output_type": "stream",
          "name": "stdout",
          "text": [
            "sample 4 num of prompts for COVID from total 12\n"
          ]
        },
        {
          "output_type": "stream",
          "name": "stderr",
          "text": [
            "Evaluate Validation: 100%|██████████| 2/2 [00:03<00:00,  1.51s/it]\n",
            "Evaluate Test:   0%|          | 0/3 [00:00<?, ?it/s]"
          ]
        },
        {
          "output_type": "stream",
          "name": "stdout",
          "text": [
            "sample 4 num of prompts for COVID from total 12\n"
          ]
        },
        {
          "output_type": "stream",
          "name": "stderr",
          "text": [
            "\rEvaluate Test:  33%|███▎      | 1/3 [00:01<00:03,  1.59s/it]"
          ]
        },
        {
          "output_type": "stream",
          "name": "stdout",
          "text": [
            "sample 4 num of prompts for COVID from total 12\n"
          ]
        },
        {
          "output_type": "stream",
          "name": "stderr",
          "text": [
            "\rEvaluate Test:  67%|██████▋   | 2/3 [00:02<00:01,  1.47s/it]"
          ]
        },
        {
          "output_type": "stream",
          "name": "stdout",
          "text": [
            "sample 4 num of prompts for COVID from total 12\n"
          ]
        },
        {
          "output_type": "stream",
          "name": "stderr",
          "text": [
            "Evaluate Test: 100%|██████████| 3/3 [00:04<00:00,  1.52s/it]\n"
          ]
        },
        {
          "output_type": "stream",
          "name": "stdout",
          "text": [
            "\n",
            "Accuracy: 0.9681, Precision: 0.9446, Recall: 0.9926, AUC: 0.9938\n"
          ]
        },
        {
          "output_type": "stream",
          "name": "stderr",
          "text": [
            "\rEvaluate Train:   0%|          | 0/8 [00:00<?, ?it/s]"
          ]
        },
        {
          "output_type": "stream",
          "name": "stdout",
          "text": [
            "sample 5 num of prompts for COVID from total 12\n"
          ]
        },
        {
          "output_type": "stream",
          "name": "stderr",
          "text": [
            "\rEvaluate Train:  12%|█▎        | 1/8 [00:01<00:09,  1.43s/it]"
          ]
        },
        {
          "output_type": "stream",
          "name": "stdout",
          "text": [
            "sample 5 num of prompts for COVID from total 12\n"
          ]
        },
        {
          "output_type": "stream",
          "name": "stderr",
          "text": [
            "\rEvaluate Train:  25%|██▌       | 2/8 [00:02<00:08,  1.40s/it]"
          ]
        },
        {
          "output_type": "stream",
          "name": "stdout",
          "text": [
            "sample 5 num of prompts for COVID from total 12\n"
          ]
        },
        {
          "output_type": "stream",
          "name": "stderr",
          "text": [
            "\rEvaluate Train:  38%|███▊      | 3/8 [00:04<00:07,  1.45s/it]"
          ]
        },
        {
          "output_type": "stream",
          "name": "stdout",
          "text": [
            "sample 5 num of prompts for COVID from total 12\n"
          ]
        },
        {
          "output_type": "stream",
          "name": "stderr",
          "text": [
            "\rEvaluate Train:  50%|█████     | 4/8 [00:05<00:05,  1.43s/it]"
          ]
        },
        {
          "output_type": "stream",
          "name": "stdout",
          "text": [
            "sample 5 num of prompts for COVID from total 12\n"
          ]
        },
        {
          "output_type": "stream",
          "name": "stderr",
          "text": [
            "\rEvaluate Train:  62%|██████▎   | 5/8 [00:07<00:04,  1.52s/it]"
          ]
        },
        {
          "output_type": "stream",
          "name": "stdout",
          "text": [
            "sample 5 num of prompts for COVID from total 12\n"
          ]
        },
        {
          "output_type": "stream",
          "name": "stderr",
          "text": [
            "\rEvaluate Train:  75%|███████▌  | 6/8 [00:08<00:02,  1.47s/it]"
          ]
        },
        {
          "output_type": "stream",
          "name": "stdout",
          "text": [
            "sample 5 num of prompts for COVID from total 12\n"
          ]
        },
        {
          "output_type": "stream",
          "name": "stderr",
          "text": [
            "\rEvaluate Train:  88%|████████▊ | 7/8 [00:10<00:01,  1.51s/it]"
          ]
        },
        {
          "output_type": "stream",
          "name": "stdout",
          "text": [
            "sample 5 num of prompts for COVID from total 12\n"
          ]
        },
        {
          "output_type": "stream",
          "name": "stderr",
          "text": [
            "Evaluate Train: 100%|██████████| 8/8 [00:11<00:00,  1.50s/it]\n",
            "Evaluate Validation:   0%|          | 0/2 [00:00<?, ?it/s]"
          ]
        },
        {
          "output_type": "stream",
          "name": "stdout",
          "text": [
            "sample 5 num of prompts for COVID from total 12\n"
          ]
        },
        {
          "output_type": "stream",
          "name": "stderr",
          "text": [
            "\rEvaluate Validation:  50%|█████     | 1/2 [00:01<00:01,  1.37s/it]"
          ]
        },
        {
          "output_type": "stream",
          "name": "stdout",
          "text": [
            "sample 5 num of prompts for COVID from total 12\n"
          ]
        },
        {
          "output_type": "stream",
          "name": "stderr",
          "text": [
            "Evaluate Validation: 100%|██████████| 2/2 [00:02<00:00,  1.37s/it]\n",
            "Evaluate Test:   0%|          | 0/3 [00:00<?, ?it/s]"
          ]
        },
        {
          "output_type": "stream",
          "name": "stdout",
          "text": [
            "sample 5 num of prompts for COVID from total 12\n"
          ]
        },
        {
          "output_type": "stream",
          "name": "stderr",
          "text": [
            "\rEvaluate Test:  33%|███▎      | 1/3 [00:01<00:02,  1.37s/it]"
          ]
        },
        {
          "output_type": "stream",
          "name": "stdout",
          "text": [
            "sample 5 num of prompts for COVID from total 12\n"
          ]
        },
        {
          "output_type": "stream",
          "name": "stderr",
          "text": [
            "\rEvaluate Test:  67%|██████▋   | 2/3 [00:03<00:01,  1.90s/it]"
          ]
        },
        {
          "output_type": "stream",
          "name": "stdout",
          "text": [
            "sample 5 num of prompts for COVID from total 12\n"
          ]
        },
        {
          "output_type": "stream",
          "name": "stderr",
          "text": [
            "Evaluate Test: 100%|██████████| 3/3 [00:05<00:00,  1.86s/it]\n"
          ]
        },
        {
          "output_type": "stream",
          "name": "stdout",
          "text": [
            "\n",
            "Accuracy: 0.9688, Precision: 0.9458, Recall: 0.9926, AUC: 0.9938\n"
          ]
        },
        {
          "output_type": "stream",
          "name": "stderr",
          "text": [
            "\rEvaluate Train:   0%|          | 0/8 [00:00<?, ?it/s]"
          ]
        },
        {
          "output_type": "stream",
          "name": "stdout",
          "text": [
            "sample 6 num of prompts for COVID from total 12\n"
          ]
        },
        {
          "output_type": "stream",
          "name": "stderr",
          "text": [
            "\rEvaluate Train:  12%|█▎        | 1/8 [00:01<00:09,  1.36s/it]"
          ]
        },
        {
          "output_type": "stream",
          "name": "stdout",
          "text": [
            "sample 6 num of prompts for COVID from total 12\n"
          ]
        },
        {
          "output_type": "stream",
          "name": "stderr",
          "text": [
            "\rEvaluate Train:  25%|██▌       | 2/8 [00:02<00:08,  1.50s/it]"
          ]
        },
        {
          "output_type": "stream",
          "name": "stdout",
          "text": [
            "sample 6 num of prompts for COVID from total 12\n"
          ]
        },
        {
          "output_type": "stream",
          "name": "stderr",
          "text": [
            "\rEvaluate Train:  38%|███▊      | 3/8 [00:04<00:07,  1.44s/it]"
          ]
        },
        {
          "output_type": "stream",
          "name": "stdout",
          "text": [
            "sample 6 num of prompts for COVID from total 12\n"
          ]
        },
        {
          "output_type": "stream",
          "name": "stderr",
          "text": [
            "\rEvaluate Train:  50%|█████     | 4/8 [00:05<00:06,  1.52s/it]"
          ]
        },
        {
          "output_type": "stream",
          "name": "stdout",
          "text": [
            "sample 6 num of prompts for COVID from total 12\n"
          ]
        },
        {
          "output_type": "stream",
          "name": "stderr",
          "text": [
            "\rEvaluate Train:  62%|██████▎   | 5/8 [00:07<00:04,  1.49s/it]"
          ]
        },
        {
          "output_type": "stream",
          "name": "stdout",
          "text": [
            "sample 6 num of prompts for COVID from total 12\n"
          ]
        },
        {
          "output_type": "stream",
          "name": "stderr",
          "text": [
            "\rEvaluate Train:  75%|███████▌  | 6/8 [00:08<00:03,  1.51s/it]"
          ]
        },
        {
          "output_type": "stream",
          "name": "stdout",
          "text": [
            "sample 6 num of prompts for COVID from total 12\n"
          ]
        },
        {
          "output_type": "stream",
          "name": "stderr",
          "text": [
            "\rEvaluate Train:  88%|████████▊ | 7/8 [00:10<00:01,  1.46s/it]"
          ]
        },
        {
          "output_type": "stream",
          "name": "stdout",
          "text": [
            "sample 6 num of prompts for COVID from total 12\n"
          ]
        },
        {
          "output_type": "stream",
          "name": "stderr",
          "text": [
            "Evaluate Train: 100%|██████████| 8/8 [00:11<00:00,  1.50s/it]\n",
            "Evaluate Validation:   0%|          | 0/2 [00:00<?, ?it/s]"
          ]
        },
        {
          "output_type": "stream",
          "name": "stdout",
          "text": [
            "sample 6 num of prompts for COVID from total 12\n"
          ]
        },
        {
          "output_type": "stream",
          "name": "stderr",
          "text": [
            "\rEvaluate Validation:  50%|█████     | 1/2 [00:01<00:01,  1.38s/it]"
          ]
        },
        {
          "output_type": "stream",
          "name": "stdout",
          "text": [
            "sample 6 num of prompts for COVID from total 12\n"
          ]
        },
        {
          "output_type": "stream",
          "name": "stderr",
          "text": [
            "Evaluate Validation: 100%|██████████| 2/2 [00:02<00:00,  1.49s/it]\n",
            "Evaluate Test:   0%|          | 0/3 [00:00<?, ?it/s]"
          ]
        },
        {
          "output_type": "stream",
          "name": "stdout",
          "text": [
            "sample 6 num of prompts for COVID from total 12\n"
          ]
        },
        {
          "output_type": "stream",
          "name": "stderr",
          "text": [
            "\rEvaluate Test:  33%|███▎      | 1/3 [00:01<00:02,  1.42s/it]"
          ]
        },
        {
          "output_type": "stream",
          "name": "stdout",
          "text": [
            "sample 6 num of prompts for COVID from total 12\n"
          ]
        },
        {
          "output_type": "stream",
          "name": "stderr",
          "text": [
            "\rEvaluate Test:  67%|██████▋   | 2/3 [00:02<00:01,  1.50s/it]"
          ]
        },
        {
          "output_type": "stream",
          "name": "stdout",
          "text": [
            "sample 6 num of prompts for COVID from total 12\n"
          ]
        },
        {
          "output_type": "stream",
          "name": "stderr",
          "text": [
            "Evaluate Test: 100%|██████████| 3/3 [00:04<00:00,  1.54s/it]\n"
          ]
        },
        {
          "output_type": "stream",
          "name": "stdout",
          "text": [
            "\n",
            "Accuracy: 0.9655, Precision: 0.9398, Recall: 0.9926, AUC: 0.9939\n"
          ]
        },
        {
          "output_type": "stream",
          "name": "stderr",
          "text": [
            "\rEvaluate Train:   0%|          | 0/8 [00:00<?, ?it/s]"
          ]
        },
        {
          "output_type": "stream",
          "name": "stdout",
          "text": [
            "sample 7 num of prompts for COVID from total 12\n"
          ]
        },
        {
          "output_type": "stream",
          "name": "stderr",
          "text": [
            "\rEvaluate Train:  12%|█▎        | 1/8 [00:01<00:09,  1.41s/it]"
          ]
        },
        {
          "output_type": "stream",
          "name": "stdout",
          "text": [
            "sample 7 num of prompts for COVID from total 12\n"
          ]
        },
        {
          "output_type": "stream",
          "name": "stderr",
          "text": [
            "\rEvaluate Train:  25%|██▌       | 2/8 [00:02<00:08,  1.43s/it]"
          ]
        },
        {
          "output_type": "stream",
          "name": "stdout",
          "text": [
            "sample 7 num of prompts for COVID from total 12\n"
          ]
        },
        {
          "output_type": "stream",
          "name": "stderr",
          "text": [
            "\rEvaluate Train:  38%|███▊      | 3/8 [00:04<00:07,  1.47s/it]"
          ]
        },
        {
          "output_type": "stream",
          "name": "stdout",
          "text": [
            "sample 7 num of prompts for COVID from total 12\n"
          ]
        },
        {
          "output_type": "stream",
          "name": "stderr",
          "text": [
            "\rEvaluate Train:  50%|█████     | 4/8 [00:05<00:05,  1.43s/it]"
          ]
        },
        {
          "output_type": "stream",
          "name": "stdout",
          "text": [
            "sample 7 num of prompts for COVID from total 12\n"
          ]
        },
        {
          "output_type": "stream",
          "name": "stderr",
          "text": [
            "\rEvaluate Train:  62%|██████▎   | 5/8 [00:07<00:04,  1.49s/it]"
          ]
        },
        {
          "output_type": "stream",
          "name": "stdout",
          "text": [
            "sample 7 num of prompts for COVID from total 12\n"
          ]
        },
        {
          "output_type": "stream",
          "name": "stderr",
          "text": [
            "\rEvaluate Train:  75%|███████▌  | 6/8 [00:08<00:02,  1.45s/it]"
          ]
        },
        {
          "output_type": "stream",
          "name": "stdout",
          "text": [
            "sample 7 num of prompts for COVID from total 12\n"
          ]
        },
        {
          "output_type": "stream",
          "name": "stderr",
          "text": [
            "\rEvaluate Train:  88%|████████▊ | 7/8 [00:10<00:01,  1.51s/it]"
          ]
        },
        {
          "output_type": "stream",
          "name": "stdout",
          "text": [
            "sample 7 num of prompts for COVID from total 12\n"
          ]
        },
        {
          "output_type": "stream",
          "name": "stderr",
          "text": [
            "Evaluate Train: 100%|██████████| 8/8 [00:13<00:00,  1.63s/it]\n",
            "Evaluate Validation:   0%|          | 0/2 [00:00<?, ?it/s]"
          ]
        },
        {
          "output_type": "stream",
          "name": "stdout",
          "text": [
            "sample 7 num of prompts for COVID from total 12\n"
          ]
        },
        {
          "output_type": "stream",
          "name": "stderr",
          "text": [
            "\rEvaluate Validation:  50%|█████     | 1/2 [00:01<00:01,  1.43s/it]"
          ]
        },
        {
          "output_type": "stream",
          "name": "stdout",
          "text": [
            "sample 7 num of prompts for COVID from total 12\n"
          ]
        },
        {
          "output_type": "stream",
          "name": "stderr",
          "text": [
            "Evaluate Validation: 100%|██████████| 2/2 [00:03<00:00,  1.73s/it]\n",
            "Evaluate Test:   0%|          | 0/3 [00:00<?, ?it/s]"
          ]
        },
        {
          "output_type": "stream",
          "name": "stdout",
          "text": [
            "sample 7 num of prompts for COVID from total 12\n"
          ]
        },
        {
          "output_type": "stream",
          "name": "stderr",
          "text": [
            "\rEvaluate Test:  33%|███▎      | 1/3 [00:01<00:02,  1.39s/it]"
          ]
        },
        {
          "output_type": "stream",
          "name": "stdout",
          "text": [
            "sample 7 num of prompts for COVID from total 12\n"
          ]
        },
        {
          "output_type": "stream",
          "name": "stderr",
          "text": [
            "\rEvaluate Test:  67%|██████▋   | 2/3 [00:02<00:01,  1.38s/it]"
          ]
        },
        {
          "output_type": "stream",
          "name": "stdout",
          "text": [
            "sample 7 num of prompts for COVID from total 12\n"
          ]
        },
        {
          "output_type": "stream",
          "name": "stderr",
          "text": [
            "Evaluate Test: 100%|██████████| 3/3 [00:04<00:00,  1.35s/it]\n"
          ]
        },
        {
          "output_type": "stream",
          "name": "stdout",
          "text": [
            "\n",
            "Accuracy: 0.9668, Precision: 0.9421, Recall: 0.9926, AUC: 0.9938\n"
          ]
        },
        {
          "output_type": "stream",
          "name": "stderr",
          "text": [
            "\rEvaluate Train:   0%|          | 0/8 [00:00<?, ?it/s]"
          ]
        },
        {
          "output_type": "stream",
          "name": "stdout",
          "text": [
            "sample 8 num of prompts for COVID from total 12\n"
          ]
        },
        {
          "output_type": "stream",
          "name": "stderr",
          "text": [
            "\rEvaluate Train:  12%|█▎        | 1/8 [00:01<00:11,  1.71s/it]"
          ]
        },
        {
          "output_type": "stream",
          "name": "stdout",
          "text": [
            "sample 8 num of prompts for COVID from total 12\n"
          ]
        },
        {
          "output_type": "stream",
          "name": "stderr",
          "text": [
            "\rEvaluate Train:  25%|██▌       | 2/8 [00:03<00:09,  1.53s/it]"
          ]
        },
        {
          "output_type": "stream",
          "name": "stdout",
          "text": [
            "sample 8 num of prompts for COVID from total 12\n"
          ]
        },
        {
          "output_type": "stream",
          "name": "stderr",
          "text": [
            "\rEvaluate Train:  38%|███▊      | 3/8 [00:04<00:07,  1.49s/it]"
          ]
        },
        {
          "output_type": "stream",
          "name": "stdout",
          "text": [
            "sample 8 num of prompts for COVID from total 12\n"
          ]
        },
        {
          "output_type": "stream",
          "name": "stderr",
          "text": [
            "\rEvaluate Train:  50%|█████     | 4/8 [00:06<00:05,  1.47s/it]"
          ]
        },
        {
          "output_type": "stream",
          "name": "stdout",
          "text": [
            "sample 8 num of prompts for COVID from total 12\n"
          ]
        },
        {
          "output_type": "stream",
          "name": "stderr",
          "text": [
            "\rEvaluate Train:  62%|██████▎   | 5/8 [00:07<00:04,  1.44s/it]"
          ]
        },
        {
          "output_type": "stream",
          "name": "stdout",
          "text": [
            "sample 8 num of prompts for COVID from total 12\n"
          ]
        },
        {
          "output_type": "stream",
          "name": "stderr",
          "text": [
            "\rEvaluate Train:  75%|███████▌  | 6/8 [00:08<00:02,  1.42s/it]"
          ]
        },
        {
          "output_type": "stream",
          "name": "stdout",
          "text": [
            "sample 8 num of prompts for COVID from total 12\n"
          ]
        },
        {
          "output_type": "stream",
          "name": "stderr",
          "text": [
            "\rEvaluate Train:  88%|████████▊ | 7/8 [00:10<00:01,  1.64s/it]"
          ]
        },
        {
          "output_type": "stream",
          "name": "stdout",
          "text": [
            "sample 8 num of prompts for COVID from total 12\n"
          ]
        },
        {
          "output_type": "stream",
          "name": "stderr",
          "text": [
            "Evaluate Train: 100%|██████████| 8/8 [00:13<00:00,  1.67s/it]\n",
            "Evaluate Validation:   0%|          | 0/2 [00:00<?, ?it/s]"
          ]
        },
        {
          "output_type": "stream",
          "name": "stdout",
          "text": [
            "sample 8 num of prompts for COVID from total 12\n"
          ]
        },
        {
          "output_type": "stream",
          "name": "stderr",
          "text": [
            "\rEvaluate Validation:  50%|█████     | 1/2 [00:01<00:01,  1.43s/it]"
          ]
        },
        {
          "output_type": "stream",
          "name": "stdout",
          "text": [
            "sample 8 num of prompts for COVID from total 12\n"
          ]
        },
        {
          "output_type": "stream",
          "name": "stderr",
          "text": [
            "Evaluate Validation: 100%|██████████| 2/2 [00:02<00:00,  1.48s/it]\n",
            "Evaluate Test:   0%|          | 0/3 [00:00<?, ?it/s]"
          ]
        },
        {
          "output_type": "stream",
          "name": "stdout",
          "text": [
            "sample 8 num of prompts for COVID from total 12\n"
          ]
        },
        {
          "output_type": "stream",
          "name": "stderr",
          "text": [
            "\rEvaluate Test:  33%|███▎      | 1/3 [00:01<00:02,  1.41s/it]"
          ]
        },
        {
          "output_type": "stream",
          "name": "stdout",
          "text": [
            "sample 8 num of prompts for COVID from total 12\n"
          ]
        },
        {
          "output_type": "stream",
          "name": "stderr",
          "text": [
            "\rEvaluate Test:  67%|██████▋   | 2/3 [00:02<00:01,  1.39s/it]"
          ]
        },
        {
          "output_type": "stream",
          "name": "stdout",
          "text": [
            "sample 8 num of prompts for COVID from total 12\n"
          ]
        },
        {
          "output_type": "stream",
          "name": "stderr",
          "text": [
            "Evaluate Test: 100%|██████████| 3/3 [00:04<00:00,  1.46s/it]\n"
          ]
        },
        {
          "output_type": "stream",
          "name": "stdout",
          "text": [
            "\n",
            "Accuracy: 0.9659, Precision: 0.9404, Recall: 0.9926, AUC: 0.9940\n"
          ]
        },
        {
          "output_type": "stream",
          "name": "stderr",
          "text": [
            "\rEvaluate Train:   0%|          | 0/8 [00:00<?, ?it/s]"
          ]
        },
        {
          "output_type": "stream",
          "name": "stdout",
          "text": [
            "sample 9 num of prompts for COVID from total 12\n"
          ]
        },
        {
          "output_type": "stream",
          "name": "stderr",
          "text": [
            "\rEvaluate Train:  12%|█▎        | 1/8 [00:01<00:09,  1.37s/it]"
          ]
        },
        {
          "output_type": "stream",
          "name": "stdout",
          "text": [
            "sample 9 num of prompts for COVID from total 12\n"
          ]
        },
        {
          "output_type": "stream",
          "name": "stderr",
          "text": [
            "\rEvaluate Train:  25%|██▌       | 2/8 [00:03<00:09,  1.58s/it]"
          ]
        },
        {
          "output_type": "stream",
          "name": "stdout",
          "text": [
            "sample 9 num of prompts for COVID from total 12\n"
          ]
        },
        {
          "output_type": "stream",
          "name": "stderr",
          "text": [
            "\rEvaluate Train:  38%|███▊      | 3/8 [00:04<00:07,  1.54s/it]"
          ]
        },
        {
          "output_type": "stream",
          "name": "stdout",
          "text": [
            "sample 9 num of prompts for COVID from total 12\n"
          ]
        },
        {
          "output_type": "stream",
          "name": "stderr",
          "text": [
            "\rEvaluate Train:  50%|█████     | 4/8 [00:05<00:05,  1.48s/it]"
          ]
        },
        {
          "output_type": "stream",
          "name": "stdout",
          "text": [
            "sample 9 num of prompts for COVID from total 12\n"
          ]
        },
        {
          "output_type": "stream",
          "name": "stderr",
          "text": [
            "\rEvaluate Train:  62%|██████▎   | 5/8 [00:08<00:05,  1.73s/it]"
          ]
        },
        {
          "output_type": "stream",
          "name": "stdout",
          "text": [
            "sample 9 num of prompts for COVID from total 12\n"
          ]
        },
        {
          "output_type": "stream",
          "name": "stderr",
          "text": [
            "\rEvaluate Train:  75%|███████▌  | 6/8 [00:09<00:03,  1.74s/it]"
          ]
        },
        {
          "output_type": "stream",
          "name": "stdout",
          "text": [
            "sample 9 num of prompts for COVID from total 12\n"
          ]
        },
        {
          "output_type": "stream",
          "name": "stderr",
          "text": [
            "\rEvaluate Train:  88%|████████▊ | 7/8 [00:11<00:01,  1.62s/it]"
          ]
        },
        {
          "output_type": "stream",
          "name": "stdout",
          "text": [
            "sample 9 num of prompts for COVID from total 12\n"
          ]
        },
        {
          "output_type": "stream",
          "name": "stderr",
          "text": [
            "Evaluate Train: 100%|██████████| 8/8 [00:13<00:00,  1.71s/it]\n",
            "Evaluate Validation:   0%|          | 0/2 [00:00<?, ?it/s]"
          ]
        },
        {
          "output_type": "stream",
          "name": "stdout",
          "text": [
            "sample 9 num of prompts for COVID from total 12\n"
          ]
        },
        {
          "output_type": "stream",
          "name": "stderr",
          "text": [
            "\rEvaluate Validation:  50%|█████     | 1/2 [00:02<00:02,  2.11s/it]"
          ]
        },
        {
          "output_type": "stream",
          "name": "stdout",
          "text": [
            "sample 9 num of prompts for COVID from total 12\n"
          ]
        },
        {
          "output_type": "stream",
          "name": "stderr",
          "text": [
            "Evaluate Validation: 100%|██████████| 2/2 [00:03<00:00,  1.95s/it]\n",
            "Evaluate Test:   0%|          | 0/3 [00:00<?, ?it/s]"
          ]
        },
        {
          "output_type": "stream",
          "name": "stdout",
          "text": [
            "sample 9 num of prompts for COVID from total 12\n"
          ]
        },
        {
          "output_type": "stream",
          "name": "stderr",
          "text": [
            "\rEvaluate Test:  33%|███▎      | 1/3 [00:01<00:02,  1.38s/it]"
          ]
        },
        {
          "output_type": "stream",
          "name": "stdout",
          "text": [
            "sample 9 num of prompts for COVID from total 12\n"
          ]
        },
        {
          "output_type": "stream",
          "name": "stderr",
          "text": [
            "\rEvaluate Test:  67%|██████▋   | 2/3 [00:02<00:01,  1.41s/it]"
          ]
        },
        {
          "output_type": "stream",
          "name": "stdout",
          "text": [
            "sample 9 num of prompts for COVID from total 12\n"
          ]
        },
        {
          "output_type": "stream",
          "name": "stderr",
          "text": [
            "Evaluate Test: 100%|██████████| 3/3 [00:04<00:00,  1.46s/it]\n"
          ]
        },
        {
          "output_type": "stream",
          "name": "stdout",
          "text": [
            "\n",
            "Accuracy: 0.9662, Precision: 0.9410, Recall: 0.9926, AUC: 0.9940\n"
          ]
        },
        {
          "output_type": "stream",
          "name": "stderr",
          "text": [
            "\rEvaluate Train:   0%|          | 0/8 [00:00<?, ?it/s]"
          ]
        },
        {
          "output_type": "stream",
          "name": "stdout",
          "text": [
            "sample 10 num of prompts for COVID from total 12\n"
          ]
        },
        {
          "output_type": "stream",
          "name": "stderr",
          "text": [
            "\rEvaluate Train:  12%|█▎        | 1/8 [00:01<00:09,  1.37s/it]"
          ]
        },
        {
          "output_type": "stream",
          "name": "stdout",
          "text": [
            "sample 10 num of prompts for COVID from total 12\n"
          ]
        },
        {
          "output_type": "stream",
          "name": "stderr",
          "text": [
            "\rEvaluate Train:  25%|██▌       | 2/8 [00:02<00:08,  1.47s/it]"
          ]
        },
        {
          "output_type": "stream",
          "name": "stdout",
          "text": [
            "sample 10 num of prompts for COVID from total 12\n"
          ]
        },
        {
          "output_type": "stream",
          "name": "stderr",
          "text": [
            "\rEvaluate Train:  38%|███▊      | 3/8 [00:04<00:08,  1.65s/it]"
          ]
        },
        {
          "output_type": "stream",
          "name": "stdout",
          "text": [
            "sample 10 num of prompts for COVID from total 12\n"
          ]
        },
        {
          "output_type": "stream",
          "name": "stderr",
          "text": [
            "\rEvaluate Train:  50%|█████     | 4/8 [00:06<00:06,  1.57s/it]"
          ]
        },
        {
          "output_type": "stream",
          "name": "stdout",
          "text": [
            "sample 10 num of prompts for COVID from total 12\n"
          ]
        },
        {
          "output_type": "stream",
          "name": "stderr",
          "text": [
            "\rEvaluate Train:  62%|██████▎   | 5/8 [00:07<00:04,  1.53s/it]"
          ]
        },
        {
          "output_type": "stream",
          "name": "stdout",
          "text": [
            "sample 10 num of prompts for COVID from total 12\n"
          ]
        },
        {
          "output_type": "stream",
          "name": "stderr",
          "text": [
            "\rEvaluate Train:  75%|███████▌  | 6/8 [00:09<00:03,  1.54s/it]"
          ]
        },
        {
          "output_type": "stream",
          "name": "stdout",
          "text": [
            "sample 10 num of prompts for COVID from total 12\n"
          ]
        },
        {
          "output_type": "stream",
          "name": "stderr",
          "text": [
            "\rEvaluate Train:  88%|████████▊ | 7/8 [00:11<00:01,  1.78s/it]"
          ]
        },
        {
          "output_type": "stream",
          "name": "stdout",
          "text": [
            "sample 10 num of prompts for COVID from total 12\n"
          ]
        },
        {
          "output_type": "stream",
          "name": "stderr",
          "text": [
            "Evaluate Train: 100%|██████████| 8/8 [00:13<00:00,  1.70s/it]\n",
            "Evaluate Validation:   0%|          | 0/2 [00:00<?, ?it/s]"
          ]
        },
        {
          "output_type": "stream",
          "name": "stdout",
          "text": [
            "sample 10 num of prompts for COVID from total 12\n"
          ]
        },
        {
          "output_type": "stream",
          "name": "stderr",
          "text": [
            "\rEvaluate Validation:  50%|█████     | 1/2 [00:01<00:01,  1.48s/it]"
          ]
        },
        {
          "output_type": "stream",
          "name": "stdout",
          "text": [
            "sample 10 num of prompts for COVID from total 12\n"
          ]
        },
        {
          "output_type": "stream",
          "name": "stderr",
          "text": [
            "Evaluate Validation: 100%|██████████| 2/2 [00:02<00:00,  1.49s/it]\n",
            "Evaluate Test:   0%|          | 0/3 [00:00<?, ?it/s]"
          ]
        },
        {
          "output_type": "stream",
          "name": "stdout",
          "text": [
            "sample 10 num of prompts for COVID from total 12\n"
          ]
        },
        {
          "output_type": "stream",
          "name": "stderr",
          "text": [
            "\rEvaluate Test:  33%|███▎      | 1/3 [00:01<00:02,  1.38s/it]"
          ]
        },
        {
          "output_type": "stream",
          "name": "stdout",
          "text": [
            "sample 10 num of prompts for COVID from total 12\n"
          ]
        },
        {
          "output_type": "stream",
          "name": "stderr",
          "text": [
            "\rEvaluate Test:  67%|██████▋   | 2/3 [00:02<00:01,  1.39s/it]"
          ]
        },
        {
          "output_type": "stream",
          "name": "stdout",
          "text": [
            "sample 10 num of prompts for COVID from total 12\n"
          ]
        },
        {
          "output_type": "stream",
          "name": "stderr",
          "text": [
            "Evaluate Test: 100%|██████████| 3/3 [00:04<00:00,  1.46s/it]\n"
          ]
        },
        {
          "output_type": "stream",
          "name": "stdout",
          "text": [
            "\n",
            "Accuracy: 0.9659, Precision: 0.9404, Recall: 0.9926, AUC: 0.9940\n"
          ]
        },
        {
          "output_type": "stream",
          "name": "stderr",
          "text": [
            "\rEvaluate Train:   0%|          | 0/8 [00:00<?, ?it/s]"
          ]
        },
        {
          "output_type": "stream",
          "name": "stdout",
          "text": [
            "sample 11 num of prompts for COVID from total 12\n"
          ]
        },
        {
          "output_type": "stream",
          "name": "stderr",
          "text": [
            "\rEvaluate Train:  12%|█▎        | 1/8 [00:01<00:09,  1.37s/it]"
          ]
        },
        {
          "output_type": "stream",
          "name": "stdout",
          "text": [
            "sample 11 num of prompts for COVID from total 12\n"
          ]
        },
        {
          "output_type": "stream",
          "name": "stderr",
          "text": [
            "\rEvaluate Train:  25%|██▌       | 2/8 [00:02<00:09,  1.52s/it]"
          ]
        },
        {
          "output_type": "stream",
          "name": "stdout",
          "text": [
            "sample 11 num of prompts for COVID from total 12\n"
          ]
        },
        {
          "output_type": "stream",
          "name": "stderr",
          "text": [
            "\rEvaluate Train:  38%|███▊      | 3/8 [00:04<00:07,  1.49s/it]"
          ]
        },
        {
          "output_type": "stream",
          "name": "stdout",
          "text": [
            "sample 11 num of prompts for COVID from total 12\n"
          ]
        },
        {
          "output_type": "stream",
          "name": "stderr",
          "text": [
            "\rEvaluate Train:  50%|█████     | 4/8 [00:05<00:05,  1.49s/it]"
          ]
        },
        {
          "output_type": "stream",
          "name": "stdout",
          "text": [
            "sample 11 num of prompts for COVID from total 12\n"
          ]
        },
        {
          "output_type": "stream",
          "name": "stderr",
          "text": [
            "\rEvaluate Train:  62%|██████▎   | 5/8 [00:07<00:04,  1.45s/it]"
          ]
        },
        {
          "output_type": "stream",
          "name": "stdout",
          "text": [
            "sample 11 num of prompts for COVID from total 12\n"
          ]
        },
        {
          "output_type": "stream",
          "name": "stderr",
          "text": [
            "\rEvaluate Train:  75%|███████▌  | 6/8 [00:08<00:03,  1.52s/it]"
          ]
        },
        {
          "output_type": "stream",
          "name": "stdout",
          "text": [
            "sample 11 num of prompts for COVID from total 12\n"
          ]
        },
        {
          "output_type": "stream",
          "name": "stderr",
          "text": [
            "\rEvaluate Train:  88%|████████▊ | 7/8 [00:10<00:01,  1.47s/it]"
          ]
        },
        {
          "output_type": "stream",
          "name": "stdout",
          "text": [
            "sample 11 num of prompts for COVID from total 12\n"
          ]
        },
        {
          "output_type": "stream",
          "name": "stderr",
          "text": [
            "Evaluate Train: 100%|██████████| 8/8 [00:11<00:00,  1.50s/it]\n",
            "Evaluate Validation:   0%|          | 0/2 [00:00<?, ?it/s]"
          ]
        },
        {
          "output_type": "stream",
          "name": "stdout",
          "text": [
            "sample 11 num of prompts for COVID from total 12\n"
          ]
        },
        {
          "output_type": "stream",
          "name": "stderr",
          "text": [
            "\rEvaluate Validation:  50%|█████     | 1/2 [00:01<00:01,  1.37s/it]"
          ]
        },
        {
          "output_type": "stream",
          "name": "stdout",
          "text": [
            "sample 11 num of prompts for COVID from total 12\n"
          ]
        },
        {
          "output_type": "stream",
          "name": "stderr",
          "text": [
            "Evaluate Validation: 100%|██████████| 2/2 [00:03<00:00,  1.58s/it]\n",
            "Evaluate Test:   0%|          | 0/3 [00:00<?, ?it/s]"
          ]
        },
        {
          "output_type": "stream",
          "name": "stdout",
          "text": [
            "sample 11 num of prompts for COVID from total 12\n"
          ]
        },
        {
          "output_type": "stream",
          "name": "stderr",
          "text": [
            "\rEvaluate Test:  33%|███▎      | 1/3 [00:01<00:02,  1.38s/it]"
          ]
        },
        {
          "output_type": "stream",
          "name": "stdout",
          "text": [
            "sample 11 num of prompts for COVID from total 12\n"
          ]
        },
        {
          "output_type": "stream",
          "name": "stderr",
          "text": [
            "\rEvaluate Test:  67%|██████▋   | 2/3 [00:03<00:01,  1.69s/it]"
          ]
        },
        {
          "output_type": "stream",
          "name": "stdout",
          "text": [
            "sample 11 num of prompts for COVID from total 12\n"
          ]
        },
        {
          "output_type": "stream",
          "name": "stderr",
          "text": [
            "Evaluate Test: 100%|██████████| 3/3 [00:04<00:00,  1.50s/it]\n"
          ]
        },
        {
          "output_type": "stream",
          "name": "stdout",
          "text": [
            "\n",
            "Accuracy: 0.9649, Precision: 0.9386, Recall: 0.9926, AUC: 0.9940\n"
          ]
        },
        {
          "output_type": "stream",
          "name": "stderr",
          "text": [
            "\rEvaluate Train:   0%|          | 0/8 [00:00<?, ?it/s]"
          ]
        },
        {
          "output_type": "stream",
          "name": "stdout",
          "text": [
            "sample 12 num of prompts for COVID from total 12\n"
          ]
        },
        {
          "output_type": "stream",
          "name": "stderr",
          "text": [
            "\rEvaluate Train:  12%|█▎        | 1/8 [00:01<00:10,  1.44s/it]"
          ]
        },
        {
          "output_type": "stream",
          "name": "stdout",
          "text": [
            "sample 12 num of prompts for COVID from total 12\n"
          ]
        },
        {
          "output_type": "stream",
          "name": "stderr",
          "text": [
            "\rEvaluate Train:  25%|██▌       | 2/8 [00:03<00:09,  1.60s/it]"
          ]
        },
        {
          "output_type": "stream",
          "name": "stdout",
          "text": [
            "sample 12 num of prompts for COVID from total 12\n"
          ]
        },
        {
          "output_type": "stream",
          "name": "stderr",
          "text": [
            "\rEvaluate Train:  38%|███▊      | 3/8 [00:04<00:08,  1.69s/it]"
          ]
        },
        {
          "output_type": "stream",
          "name": "stdout",
          "text": [
            "sample 12 num of prompts for COVID from total 12\n"
          ]
        },
        {
          "output_type": "stream",
          "name": "stderr",
          "text": [
            "\rEvaluate Train:  50%|█████     | 4/8 [00:06<00:06,  1.57s/it]"
          ]
        },
        {
          "output_type": "stream",
          "name": "stdout",
          "text": [
            "sample 12 num of prompts for COVID from total 12\n"
          ]
        },
        {
          "output_type": "stream",
          "name": "stderr",
          "text": [
            "\rEvaluate Train:  62%|██████▎   | 5/8 [00:08<00:05,  1.69s/it]"
          ]
        },
        {
          "output_type": "stream",
          "name": "stdout",
          "text": [
            "sample 12 num of prompts for COVID from total 12\n"
          ]
        },
        {
          "output_type": "stream",
          "name": "stderr",
          "text": [
            "\rEvaluate Train:  75%|███████▌  | 6/8 [00:10<00:03,  1.72s/it]"
          ]
        },
        {
          "output_type": "stream",
          "name": "stdout",
          "text": [
            "sample 12 num of prompts for COVID from total 12\n"
          ]
        },
        {
          "output_type": "stream",
          "name": "stderr",
          "text": [
            "\rEvaluate Train:  88%|████████▊ | 7/8 [00:11<00:01,  1.61s/it]"
          ]
        },
        {
          "output_type": "stream",
          "name": "stdout",
          "text": [
            "sample 12 num of prompts for COVID from total 12\n"
          ]
        },
        {
          "output_type": "stream",
          "name": "stderr",
          "text": [
            "Evaluate Train: 100%|██████████| 8/8 [00:13<00:00,  1.70s/it]\n",
            "Evaluate Validation:   0%|          | 0/2 [00:00<?, ?it/s]"
          ]
        },
        {
          "output_type": "stream",
          "name": "stdout",
          "text": [
            "sample 12 num of prompts for COVID from total 12\n"
          ]
        },
        {
          "output_type": "stream",
          "name": "stderr",
          "text": [
            "\rEvaluate Validation:  50%|█████     | 1/2 [00:01<00:01,  1.50s/it]"
          ]
        },
        {
          "output_type": "stream",
          "name": "stdout",
          "text": [
            "sample 12 num of prompts for COVID from total 12\n"
          ]
        },
        {
          "output_type": "stream",
          "name": "stderr",
          "text": [
            "Evaluate Validation: 100%|██████████| 2/2 [00:03<00:00,  1.67s/it]\n",
            "Evaluate Test:   0%|          | 0/3 [00:00<?, ?it/s]"
          ]
        },
        {
          "output_type": "stream",
          "name": "stdout",
          "text": [
            "sample 12 num of prompts for COVID from total 12\n"
          ]
        },
        {
          "output_type": "stream",
          "name": "stderr",
          "text": [
            "\rEvaluate Test:  33%|███▎      | 1/3 [00:01<00:02,  1.37s/it]"
          ]
        },
        {
          "output_type": "stream",
          "name": "stdout",
          "text": [
            "sample 12 num of prompts for COVID from total 12\n"
          ]
        },
        {
          "output_type": "stream",
          "name": "stderr",
          "text": [
            "\rEvaluate Test:  67%|██████▋   | 2/3 [00:03<00:01,  1.55s/it]"
          ]
        },
        {
          "output_type": "stream",
          "name": "stdout",
          "text": [
            "sample 12 num of prompts for COVID from total 12\n"
          ]
        },
        {
          "output_type": "stream",
          "name": "stderr",
          "text": [
            "Evaluate Test: 100%|██████████| 3/3 [00:04<00:00,  1.55s/it]\n"
          ]
        },
        {
          "output_type": "stream",
          "name": "stdout",
          "text": [
            "\n",
            "Accuracy: 0.9649, Precision: 0.9386, Recall: 0.9926, AUC: 0.9940\n",
            "Best AUC for  with 10 prompts: 0.9940\n",
            "Results saved to results/zs_medclip_finetune/ucsd/medclip/classification_results.txt\n"
          ]
        },
        {
          "output_type": "stream",
          "name": "stderr",
          "text": [
            "/usr/local/lib/python3.10/dist-packages/keras/src/preprocessing/image.py:766: UserWarning: NumpyArrayIterator is set to use the data format convention \"channels_last\" (channels on axis 3), i.e. expected either 1, 3, or 4 channels on axis 3. However, it was passed an array with shape (526, 1, 224, 224) (224 channels).\n",
            "  warnings.warn(\n",
            "/usr/local/lib/python3.10/dist-packages/keras/src/preprocessing/image.py:766: UserWarning: NumpyArrayIterator is set to use the data format convention \"channels_last\" (channels on axis 3), i.e. expected either 1, 3, or 4 channels on axis 3. However, it was passed an array with shape (132, 1, 224, 224) (224 channels).\n",
            "  warnings.warn(\n",
            "/usr/local/lib/python3.10/dist-packages/keras/src/preprocessing/image.py:766: UserWarning: NumpyArrayIterator is set to use the data format convention \"channels_last\" (channels on axis 3), i.e. expected either 1, 3, or 4 channels on axis 3. However, it was passed an array with shape (165, 1, 224, 224) (224 channels).\n",
            "  warnings.warn(\n"
          ]
        },
        {
          "output_type": "stream",
          "name": "stdout",
          "text": [
            "Results saved to results/visualization/zero_shot_finetune/ori/medclip/images/cxr_images.png\n",
            "NVIDIA library configured successfully.\n"
          ]
        },
        {
          "output_type": "stream",
          "name": "stderr",
          "text": [
            "Some weights of the model checkpoint at microsoft/swin-tiny-patch4-window7-224 were not used when initializing SwinModel: ['classifier.weight', 'classifier.bias']\n",
            "- This IS expected if you are initializing SwinModel from the checkpoint of a model trained on another task or with another architecture (e.g. initializing a BertForSequenceClassification model from a BertForPreTraining model).\n",
            "- This IS NOT expected if you are initializing SwinModel from the checkpoint of a model that you expect to be exactly identical (initializing a BertForSequenceClassification model from a BertForSequenceClassification model).\n",
            "Some weights of the model checkpoint at emilyalsentzer/Bio_ClinicalBERT were not used when initializing BertModel: ['cls.seq_relationship.bias', 'cls.predictions.bias', 'cls.seq_relationship.weight', 'cls.predictions.transform.dense.bias', 'cls.predictions.decoder.weight', 'cls.predictions.transform.LayerNorm.bias', 'cls.predictions.transform.LayerNorm.weight', 'cls.predictions.transform.dense.weight']\n",
            "- This IS expected if you are initializing BertModel from the checkpoint of a model trained on another task or with another architecture (e.g. initializing a BertForSequenceClassification model from a BertForPreTraining model).\n",
            "- This IS NOT expected if you are initializing BertModel from the checkpoint of a model that you expect to be exactly identical (initializing a BertForSequenceClassification model from a BertForSequenceClassification model).\n"
          ]
        },
        {
          "output_type": "stream",
          "name": "stdout",
          "text": [
            "load model weight from: ./pretrained/medclip-vit\n"
          ]
        },
        {
          "output_type": "stream",
          "name": "stderr",
          "text": [
            "\rEvaluate Train:   0%|          | 0/3 [00:00<?, ?it/s]"
          ]
        },
        {
          "output_type": "stream",
          "name": "stdout",
          "text": [
            "sample 1 num of prompts for COVID from total 12\n"
          ]
        },
        {
          "output_type": "stream",
          "name": "stderr",
          "text": [
            "\rEvaluate Train:  33%|███▎      | 1/3 [00:01<00:02,  1.45s/it]"
          ]
        },
        {
          "output_type": "stream",
          "name": "stdout",
          "text": [
            "sample 1 num of prompts for COVID from total 12\n"
          ]
        },
        {
          "output_type": "stream",
          "name": "stderr",
          "text": [
            "\rEvaluate Train:  67%|██████▋   | 2/3 [00:02<00:01,  1.41s/it]"
          ]
        },
        {
          "output_type": "stream",
          "name": "stdout",
          "text": [
            "sample 1 num of prompts for COVID from total 12\n"
          ]
        },
        {
          "output_type": "stream",
          "name": "stderr",
          "text": [
            "Evaluate Train: 100%|██████████| 3/3 [00:04<00:00,  1.46s/it]\n",
            "Evaluate Validation:   0%|          | 0/1 [00:00<?, ?it/s]"
          ]
        },
        {
          "output_type": "stream",
          "name": "stdout",
          "text": [
            "sample 1 num of prompts for COVID from total 12\n"
          ]
        },
        {
          "output_type": "stream",
          "name": "stderr",
          "text": [
            "Evaluate Validation: 100%|██████████| 1/1 [00:01<00:00,  1.86s/it]\n",
            "Evaluate Test:   0%|          | 0/1 [00:00<?, ?it/s]"
          ]
        },
        {
          "output_type": "stream",
          "name": "stdout",
          "text": [
            "sample 1 num of prompts for COVID from total 12\n"
          ]
        },
        {
          "output_type": "stream",
          "name": "stderr",
          "text": [
            "Evaluate Test: 100%|██████████| 1/1 [00:02<00:00,  2.07s/it]\n"
          ]
        },
        {
          "output_type": "stream",
          "name": "stdout",
          "text": [
            "\n",
            "Accuracy: 0.5699, Precision: 0.5408, Recall: 0.8193, AUC: 0.6367\n"
          ]
        },
        {
          "output_type": "stream",
          "name": "stderr",
          "text": [
            "\rEvaluate Train:   0%|          | 0/3 [00:00<?, ?it/s]"
          ]
        },
        {
          "output_type": "stream",
          "name": "stdout",
          "text": [
            "sample 2 num of prompts for COVID from total 12\n"
          ]
        },
        {
          "output_type": "stream",
          "name": "stderr",
          "text": [
            "\rEvaluate Train:  33%|███▎      | 1/3 [00:01<00:02,  1.42s/it]"
          ]
        },
        {
          "output_type": "stream",
          "name": "stdout",
          "text": [
            "sample 2 num of prompts for COVID from total 12\n"
          ]
        },
        {
          "output_type": "stream",
          "name": "stderr",
          "text": [
            "\rEvaluate Train:  67%|██████▋   | 2/3 [00:03<00:01,  1.71s/it]"
          ]
        },
        {
          "output_type": "stream",
          "name": "stdout",
          "text": [
            "sample 2 num of prompts for COVID from total 12\n"
          ]
        },
        {
          "output_type": "stream",
          "name": "stderr",
          "text": [
            "Evaluate Train: 100%|██████████| 3/3 [00:05<00:00,  1.68s/it]\n",
            "Evaluate Validation:   0%|          | 0/1 [00:00<?, ?it/s]"
          ]
        },
        {
          "output_type": "stream",
          "name": "stdout",
          "text": [
            "sample 2 num of prompts for COVID from total 12\n"
          ]
        },
        {
          "output_type": "stream",
          "name": "stderr",
          "text": [
            "Evaluate Validation: 100%|██████████| 1/1 [00:01<00:00,  1.28s/it]\n",
            "Evaluate Test:   0%|          | 0/1 [00:00<?, ?it/s]"
          ]
        },
        {
          "output_type": "stream",
          "name": "stdout",
          "text": [
            "sample 2 num of prompts for COVID from total 12\n"
          ]
        },
        {
          "output_type": "stream",
          "name": "stderr",
          "text": [
            "Evaluate Test: 100%|██████████| 1/1 [00:01<00:00,  1.28s/it]\n"
          ]
        },
        {
          "output_type": "stream",
          "name": "stdout",
          "text": [
            "\n",
            "Accuracy: 0.5079, Precision: 0.4993, Recall: 0.9109, AUC: 0.6292\n"
          ]
        },
        {
          "output_type": "stream",
          "name": "stderr",
          "text": [
            "\rEvaluate Train:   0%|          | 0/3 [00:00<?, ?it/s]"
          ]
        },
        {
          "output_type": "stream",
          "name": "stdout",
          "text": [
            "sample 3 num of prompts for COVID from total 12\n"
          ]
        },
        {
          "output_type": "stream",
          "name": "stderr",
          "text": [
            "\rEvaluate Train:  33%|███▎      | 1/3 [00:01<00:02,  1.38s/it]"
          ]
        },
        {
          "output_type": "stream",
          "name": "stdout",
          "text": [
            "sample 3 num of prompts for COVID from total 12\n"
          ]
        },
        {
          "output_type": "stream",
          "name": "stderr",
          "text": [
            "\rEvaluate Train:  67%|██████▋   | 2/3 [00:02<00:01,  1.52s/it]"
          ]
        },
        {
          "output_type": "stream",
          "name": "stdout",
          "text": [
            "sample 3 num of prompts for COVID from total 12\n"
          ]
        },
        {
          "output_type": "stream",
          "name": "stderr",
          "text": [
            "Evaluate Train: 100%|██████████| 3/3 [00:04<00:00,  1.42s/it]\n",
            "Evaluate Validation:   0%|          | 0/1 [00:00<?, ?it/s]"
          ]
        },
        {
          "output_type": "stream",
          "name": "stdout",
          "text": [
            "sample 3 num of prompts for COVID from total 12\n"
          ]
        },
        {
          "output_type": "stream",
          "name": "stderr",
          "text": [
            "Evaluate Validation: 100%|██████████| 1/1 [00:01<00:00,  1.36s/it]\n",
            "Evaluate Test:   0%|          | 0/1 [00:00<?, ?it/s]"
          ]
        },
        {
          "output_type": "stream",
          "name": "stdout",
          "text": [
            "sample 3 num of prompts for COVID from total 12\n"
          ]
        },
        {
          "output_type": "stream",
          "name": "stderr",
          "text": [
            "Evaluate Test: 100%|██████████| 1/1 [00:01<00:00,  1.63s/it]\n"
          ]
        },
        {
          "output_type": "stream",
          "name": "stdout",
          "text": [
            "\n",
            "Accuracy: 0.5055, Precision: 0.4980, Recall: 0.9282, AUC: 0.6272\n"
          ]
        },
        {
          "output_type": "stream",
          "name": "stderr",
          "text": [
            "\rEvaluate Train:   0%|          | 0/3 [00:00<?, ?it/s]"
          ]
        },
        {
          "output_type": "stream",
          "name": "stdout",
          "text": [
            "sample 4 num of prompts for COVID from total 12\n"
          ]
        },
        {
          "output_type": "stream",
          "name": "stderr",
          "text": [
            "\rEvaluate Train:  33%|███▎      | 1/3 [00:01<00:02,  1.37s/it]"
          ]
        },
        {
          "output_type": "stream",
          "name": "stdout",
          "text": [
            "sample 4 num of prompts for COVID from total 12\n"
          ]
        },
        {
          "output_type": "stream",
          "name": "stderr",
          "text": [
            "\rEvaluate Train:  67%|██████▋   | 2/3 [00:02<00:01,  1.45s/it]"
          ]
        },
        {
          "output_type": "stream",
          "name": "stdout",
          "text": [
            "sample 4 num of prompts for COVID from total 12\n"
          ]
        },
        {
          "output_type": "stream",
          "name": "stderr",
          "text": [
            "Evaluate Train: 100%|██████████| 3/3 [00:04<00:00,  1.45s/it]\n",
            "Evaluate Validation:   0%|          | 0/1 [00:00<?, ?it/s]"
          ]
        },
        {
          "output_type": "stream",
          "name": "stdout",
          "text": [
            "sample 4 num of prompts for COVID from total 12\n"
          ]
        },
        {
          "output_type": "stream",
          "name": "stderr",
          "text": [
            "Evaluate Validation: 100%|██████████| 1/1 [00:01<00:00,  1.63s/it]\n",
            "Evaluate Test:   0%|          | 0/1 [00:00<?, ?it/s]"
          ]
        },
        {
          "output_type": "stream",
          "name": "stdout",
          "text": [
            "sample 4 num of prompts for COVID from total 12\n"
          ]
        },
        {
          "output_type": "stream",
          "name": "stderr",
          "text": [
            "Evaluate Test: 100%|██████████| 1/1 [00:01<00:00,  1.81s/it]\n"
          ]
        },
        {
          "output_type": "stream",
          "name": "stdout",
          "text": [
            "\n",
            "Accuracy: 0.5200, Precision: 0.5063, Recall: 0.8911, AUC: 0.6272\n"
          ]
        },
        {
          "output_type": "stream",
          "name": "stderr",
          "text": [
            "\rEvaluate Train:   0%|          | 0/3 [00:00<?, ?it/s]"
          ]
        },
        {
          "output_type": "stream",
          "name": "stdout",
          "text": [
            "sample 5 num of prompts for COVID from total 12\n"
          ]
        },
        {
          "output_type": "stream",
          "name": "stderr",
          "text": [
            "\rEvaluate Train:  33%|███▎      | 1/3 [00:01<00:02,  1.38s/it]"
          ]
        },
        {
          "output_type": "stream",
          "name": "stdout",
          "text": [
            "sample 5 num of prompts for COVID from total 12\n"
          ]
        },
        {
          "output_type": "stream",
          "name": "stderr",
          "text": [
            "\rEvaluate Train:  67%|██████▋   | 2/3 [00:04<00:02,  2.12s/it]"
          ]
        },
        {
          "output_type": "stream",
          "name": "stdout",
          "text": [
            "sample 5 num of prompts for COVID from total 12\n"
          ]
        },
        {
          "output_type": "stream",
          "name": "stderr",
          "text": [
            "Evaluate Train: 100%|██████████| 3/3 [00:05<00:00,  1.83s/it]\n",
            "Evaluate Validation:   0%|          | 0/1 [00:00<?, ?it/s]"
          ]
        },
        {
          "output_type": "stream",
          "name": "stdout",
          "text": [
            "sample 5 num of prompts for COVID from total 12\n"
          ]
        },
        {
          "output_type": "stream",
          "name": "stderr",
          "text": [
            "Evaluate Validation: 100%|██████████| 1/1 [00:01<00:00,  1.71s/it]\n",
            "Evaluate Test:   0%|          | 0/1 [00:00<?, ?it/s]"
          ]
        },
        {
          "output_type": "stream",
          "name": "stdout",
          "text": [
            "sample 5 num of prompts for COVID from total 12\n"
          ]
        },
        {
          "output_type": "stream",
          "name": "stderr",
          "text": [
            "Evaluate Test: 100%|██████████| 1/1 [00:01<00:00,  1.97s/it]\n"
          ]
        },
        {
          "output_type": "stream",
          "name": "stdout",
          "text": [
            "\n",
            "Accuracy: 0.5030, Precision: 0.4967, Recall: 0.9332, AUC: 0.6273\n"
          ]
        },
        {
          "output_type": "stream",
          "name": "stderr",
          "text": [
            "\rEvaluate Train:   0%|          | 0/3 [00:00<?, ?it/s]"
          ]
        },
        {
          "output_type": "stream",
          "name": "stdout",
          "text": [
            "sample 6 num of prompts for COVID from total 12\n"
          ]
        },
        {
          "output_type": "stream",
          "name": "stderr",
          "text": [
            "\rEvaluate Train:  33%|███▎      | 1/3 [00:01<00:02,  1.38s/it]"
          ]
        },
        {
          "output_type": "stream",
          "name": "stdout",
          "text": [
            "sample 6 num of prompts for COVID from total 12\n"
          ]
        },
        {
          "output_type": "stream",
          "name": "stderr",
          "text": [
            "\rEvaluate Train:  67%|██████▋   | 2/3 [00:02<00:01,  1.39s/it]"
          ]
        },
        {
          "output_type": "stream",
          "name": "stdout",
          "text": [
            "sample 6 num of prompts for COVID from total 12\n"
          ]
        },
        {
          "output_type": "stream",
          "name": "stderr",
          "text": [
            "Evaluate Train: 100%|██████████| 3/3 [00:04<00:00,  1.66s/it]\n",
            "Evaluate Validation:   0%|          | 0/1 [00:00<?, ?it/s]"
          ]
        },
        {
          "output_type": "stream",
          "name": "stdout",
          "text": [
            "sample 6 num of prompts for COVID from total 12\n"
          ]
        },
        {
          "output_type": "stream",
          "name": "stderr",
          "text": [
            "Evaluate Validation: 100%|██████████| 1/1 [00:01<00:00,  1.78s/it]\n",
            "Evaluate Test:   0%|          | 0/1 [00:00<?, ?it/s]"
          ]
        },
        {
          "output_type": "stream",
          "name": "stdout",
          "text": [
            "sample 6 num of prompts for COVID from total 12\n"
          ]
        },
        {
          "output_type": "stream",
          "name": "stderr",
          "text": [
            "Evaluate Test: 100%|██████████| 1/1 [00:01<00:00,  1.44s/it]\n"
          ]
        },
        {
          "output_type": "stream",
          "name": "stdout",
          "text": [
            "\n",
            "Accuracy: 0.4994, Precision: 0.4947, Recall: 0.9307, AUC: 0.6270\n"
          ]
        },
        {
          "output_type": "stream",
          "name": "stderr",
          "text": [
            "\rEvaluate Train:   0%|          | 0/3 [00:00<?, ?it/s]"
          ]
        },
        {
          "output_type": "stream",
          "name": "stdout",
          "text": [
            "sample 7 num of prompts for COVID from total 12\n"
          ]
        },
        {
          "output_type": "stream",
          "name": "stderr",
          "text": [
            "\rEvaluate Train:  33%|███▎      | 1/3 [00:01<00:02,  1.37s/it]"
          ]
        },
        {
          "output_type": "stream",
          "name": "stdout",
          "text": [
            "sample 7 num of prompts for COVID from total 12\n"
          ]
        },
        {
          "output_type": "stream",
          "name": "stderr",
          "text": [
            "\rEvaluate Train:  67%|██████▋   | 2/3 [00:03<00:01,  1.61s/it]"
          ]
        },
        {
          "output_type": "stream",
          "name": "stdout",
          "text": [
            "sample 7 num of prompts for COVID from total 12\n"
          ]
        },
        {
          "output_type": "stream",
          "name": "stderr",
          "text": [
            "Evaluate Train: 100%|██████████| 3/3 [00:04<00:00,  1.60s/it]\n",
            "Evaluate Validation:   0%|          | 0/1 [00:00<?, ?it/s]"
          ]
        },
        {
          "output_type": "stream",
          "name": "stdout",
          "text": [
            "sample 7 num of prompts for COVID from total 12\n"
          ]
        },
        {
          "output_type": "stream",
          "name": "stderr",
          "text": [
            "Evaluate Validation: 100%|██████████| 1/1 [00:01<00:00,  1.27s/it]\n",
            "Evaluate Test:   0%|          | 0/1 [00:00<?, ?it/s]"
          ]
        },
        {
          "output_type": "stream",
          "name": "stdout",
          "text": [
            "sample 7 num of prompts for COVID from total 12\n"
          ]
        },
        {
          "output_type": "stream",
          "name": "stderr",
          "text": [
            "Evaluate Test: 100%|██████████| 1/1 [00:01<00:00,  1.33s/it]\n"
          ]
        },
        {
          "output_type": "stream",
          "name": "stdout",
          "text": [
            "\n",
            "Accuracy: 0.4994, Precision: 0.4947, Recall: 0.9307, AUC: 0.6275\n"
          ]
        },
        {
          "output_type": "stream",
          "name": "stderr",
          "text": [
            "\rEvaluate Train:   0%|          | 0/3 [00:00<?, ?it/s]"
          ]
        },
        {
          "output_type": "stream",
          "name": "stdout",
          "text": [
            "sample 8 num of prompts for COVID from total 12\n"
          ]
        },
        {
          "output_type": "stream",
          "name": "stderr",
          "text": [
            "\rEvaluate Train:  33%|███▎      | 1/3 [00:01<00:03,  1.53s/it]"
          ]
        },
        {
          "output_type": "stream",
          "name": "stdout",
          "text": [
            "sample 8 num of prompts for COVID from total 12\n"
          ]
        },
        {
          "output_type": "stream",
          "name": "stderr",
          "text": [
            "\rEvaluate Train:  67%|██████▋   | 2/3 [00:03<00:01,  1.52s/it]"
          ]
        },
        {
          "output_type": "stream",
          "name": "stdout",
          "text": [
            "sample 8 num of prompts for COVID from total 12\n"
          ]
        },
        {
          "output_type": "stream",
          "name": "stderr",
          "text": [
            "Evaluate Train: 100%|██████████| 3/3 [00:04<00:00,  1.41s/it]\n",
            "Evaluate Validation:   0%|          | 0/1 [00:00<?, ?it/s]"
          ]
        },
        {
          "output_type": "stream",
          "name": "stdout",
          "text": [
            "sample 8 num of prompts for COVID from total 12\n"
          ]
        },
        {
          "output_type": "stream",
          "name": "stderr",
          "text": [
            "Evaluate Validation: 100%|██████████| 1/1 [00:01<00:00,  1.33s/it]\n",
            "Evaluate Test:   0%|          | 0/1 [00:00<?, ?it/s]"
          ]
        },
        {
          "output_type": "stream",
          "name": "stdout",
          "text": [
            "sample 8 num of prompts for COVID from total 12\n"
          ]
        },
        {
          "output_type": "stream",
          "name": "stderr",
          "text": [
            "Evaluate Test: 100%|██████████| 1/1 [00:01<00:00,  1.64s/it]\n"
          ]
        },
        {
          "output_type": "stream",
          "name": "stdout",
          "text": [
            "\n",
            "Accuracy: 0.5030, Precision: 0.4967, Recall: 0.9381, AUC: 0.6273\n"
          ]
        },
        {
          "output_type": "stream",
          "name": "stderr",
          "text": [
            "\rEvaluate Train:   0%|          | 0/3 [00:00<?, ?it/s]"
          ]
        },
        {
          "output_type": "stream",
          "name": "stdout",
          "text": [
            "sample 9 num of prompts for COVID from total 12\n"
          ]
        },
        {
          "output_type": "stream",
          "name": "stderr",
          "text": [
            "\rEvaluate Train:  33%|███▎      | 1/3 [00:01<00:02,  1.37s/it]"
          ]
        },
        {
          "output_type": "stream",
          "name": "stdout",
          "text": [
            "sample 9 num of prompts for COVID from total 12\n"
          ]
        },
        {
          "output_type": "stream",
          "name": "stderr",
          "text": [
            "\rEvaluate Train:  67%|██████▋   | 2/3 [00:02<00:01,  1.41s/it]"
          ]
        },
        {
          "output_type": "stream",
          "name": "stdout",
          "text": [
            "sample 9 num of prompts for COVID from total 12\n"
          ]
        },
        {
          "output_type": "stream",
          "name": "stderr",
          "text": [
            "Evaluate Train: 100%|██████████| 3/3 [00:04<00:00,  1.45s/it]\n",
            "Evaluate Validation:   0%|          | 0/1 [00:00<?, ?it/s]"
          ]
        },
        {
          "output_type": "stream",
          "name": "stdout",
          "text": [
            "sample 9 num of prompts for COVID from total 12\n"
          ]
        },
        {
          "output_type": "stream",
          "name": "stderr",
          "text": [
            "Evaluate Validation: 100%|██████████| 1/1 [00:01<00:00,  1.63s/it]\n",
            "Evaluate Test:   0%|          | 0/1 [00:00<?, ?it/s]"
          ]
        },
        {
          "output_type": "stream",
          "name": "stdout",
          "text": [
            "sample 9 num of prompts for COVID from total 12\n"
          ]
        },
        {
          "output_type": "stream",
          "name": "stderr",
          "text": [
            "Evaluate Test: 100%|██████████| 1/1 [00:01<00:00,  1.37s/it]\n"
          ]
        },
        {
          "output_type": "stream",
          "name": "stdout",
          "text": [
            "\n",
            "Accuracy: 0.5018, Precision: 0.4961, Recall: 0.9381, AUC: 0.6268\n"
          ]
        },
        {
          "output_type": "stream",
          "name": "stderr",
          "text": [
            "\rEvaluate Train:   0%|          | 0/3 [00:00<?, ?it/s]"
          ]
        },
        {
          "output_type": "stream",
          "name": "stdout",
          "text": [
            "sample 10 num of prompts for COVID from total 12\n"
          ]
        },
        {
          "output_type": "stream",
          "name": "stderr",
          "text": [
            "\rEvaluate Train:  33%|███▎      | 1/3 [00:01<00:02,  1.43s/it]"
          ]
        },
        {
          "output_type": "stream",
          "name": "stdout",
          "text": [
            "sample 10 num of prompts for COVID from total 12\n"
          ]
        },
        {
          "output_type": "stream",
          "name": "stderr",
          "text": [
            "\rEvaluate Train:  67%|██████▋   | 2/3 [00:02<00:01,  1.50s/it]"
          ]
        },
        {
          "output_type": "stream",
          "name": "stdout",
          "text": [
            "sample 10 num of prompts for COVID from total 12\n"
          ]
        },
        {
          "output_type": "stream",
          "name": "stderr",
          "text": [
            "Evaluate Train: 100%|██████████| 3/3 [00:04<00:00,  1.54s/it]\n",
            "Evaluate Validation:   0%|          | 0/1 [00:00<?, ?it/s]"
          ]
        },
        {
          "output_type": "stream",
          "name": "stdout",
          "text": [
            "sample 10 num of prompts for COVID from total 12\n"
          ]
        },
        {
          "output_type": "stream",
          "name": "stderr",
          "text": [
            "Evaluate Validation: 100%|██████████| 1/1 [00:01<00:00,  1.33s/it]\n",
            "Evaluate Test:   0%|          | 0/1 [00:00<?, ?it/s]"
          ]
        },
        {
          "output_type": "stream",
          "name": "stdout",
          "text": [
            "sample 10 num of prompts for COVID from total 12\n"
          ]
        },
        {
          "output_type": "stream",
          "name": "stderr",
          "text": [
            "Evaluate Test: 100%|██████████| 1/1 [00:01<00:00,  1.28s/it]\n"
          ]
        },
        {
          "output_type": "stream",
          "name": "stdout",
          "text": [
            "\n",
            "Accuracy: 0.5018, Precision: 0.4961, Recall: 0.9381, AUC: 0.6271\n"
          ]
        },
        {
          "output_type": "stream",
          "name": "stderr",
          "text": [
            "\rEvaluate Train:   0%|          | 0/3 [00:00<?, ?it/s]"
          ]
        },
        {
          "output_type": "stream",
          "name": "stdout",
          "text": [
            "sample 11 num of prompts for COVID from total 12\n"
          ]
        },
        {
          "output_type": "stream",
          "name": "stderr",
          "text": [
            "\rEvaluate Train:  33%|███▎      | 1/3 [00:01<00:02,  1.38s/it]"
          ]
        },
        {
          "output_type": "stream",
          "name": "stdout",
          "text": [
            "sample 11 num of prompts for COVID from total 12\n"
          ]
        },
        {
          "output_type": "stream",
          "name": "stderr",
          "text": [
            "\rEvaluate Train:  67%|██████▋   | 2/3 [00:02<00:01,  1.38s/it]"
          ]
        },
        {
          "output_type": "stream",
          "name": "stdout",
          "text": [
            "sample 11 num of prompts for COVID from total 12\n"
          ]
        },
        {
          "output_type": "stream",
          "name": "stderr",
          "text": [
            "Evaluate Train: 100%|██████████| 3/3 [00:04<00:00,  1.56s/it]\n",
            "Evaluate Validation:   0%|          | 0/1 [00:00<?, ?it/s]"
          ]
        },
        {
          "output_type": "stream",
          "name": "stdout",
          "text": [
            "sample 11 num of prompts for COVID from total 12\n"
          ]
        },
        {
          "output_type": "stream",
          "name": "stderr",
          "text": [
            "Evaluate Validation: 100%|██████████| 1/1 [00:01<00:00,  1.35s/it]\n",
            "Evaluate Test:   0%|          | 0/1 [00:00<?, ?it/s]"
          ]
        },
        {
          "output_type": "stream",
          "name": "stdout",
          "text": [
            "sample 11 num of prompts for COVID from total 12\n"
          ]
        },
        {
          "output_type": "stream",
          "name": "stderr",
          "text": [
            "Evaluate Test: 100%|██████████| 1/1 [00:01<00:00,  1.30s/it]\n"
          ]
        },
        {
          "output_type": "stream",
          "name": "stdout",
          "text": [
            "\n",
            "Accuracy: 0.5018, Precision: 0.4961, Recall: 0.9381, AUC: 0.6272\n"
          ]
        },
        {
          "output_type": "stream",
          "name": "stderr",
          "text": [
            "\rEvaluate Train:   0%|          | 0/3 [00:00<?, ?it/s]"
          ]
        },
        {
          "output_type": "stream",
          "name": "stdout",
          "text": [
            "sample 12 num of prompts for COVID from total 12\n"
          ]
        },
        {
          "output_type": "stream",
          "name": "stderr",
          "text": [
            "\rEvaluate Train:  33%|███▎      | 1/3 [00:01<00:03,  1.52s/it]"
          ]
        },
        {
          "output_type": "stream",
          "name": "stdout",
          "text": [
            "sample 12 num of prompts for COVID from total 12\n"
          ]
        },
        {
          "output_type": "stream",
          "name": "stderr",
          "text": [
            "\rEvaluate Train:  67%|██████▋   | 2/3 [00:03<00:01,  1.73s/it]"
          ]
        },
        {
          "output_type": "stream",
          "name": "stdout",
          "text": [
            "sample 12 num of prompts for COVID from total 12\n"
          ]
        },
        {
          "output_type": "stream",
          "name": "stderr",
          "text": [
            "Evaluate Train: 100%|██████████| 3/3 [00:05<00:00,  1.71s/it]\n",
            "Evaluate Validation:   0%|          | 0/1 [00:00<?, ?it/s]"
          ]
        },
        {
          "output_type": "stream",
          "name": "stdout",
          "text": [
            "sample 12 num of prompts for COVID from total 12\n"
          ]
        },
        {
          "output_type": "stream",
          "name": "stderr",
          "text": [
            "Evaluate Validation: 100%|██████████| 1/1 [00:01<00:00,  1.31s/it]\n",
            "Evaluate Test:   0%|          | 0/1 [00:00<?, ?it/s]"
          ]
        },
        {
          "output_type": "stream",
          "name": "stdout",
          "text": [
            "sample 12 num of prompts for COVID from total 12\n"
          ]
        },
        {
          "output_type": "stream",
          "name": "stderr",
          "text": [
            "Evaluate Test: 100%|██████████| 1/1 [00:01<00:00,  1.32s/it]\n"
          ]
        },
        {
          "output_type": "stream",
          "name": "stdout",
          "text": [
            "\n",
            "Accuracy: 0.5018, Precision: 0.4961, Recall: 0.9381, AUC: 0.6272\n",
            "Best AUC for covid_task with 1 prompts: 0.6367\n",
            "Results saved to results/zs_medclip_finetune/ori/medclip/classification_results.txt\n"
          ]
        },
        {
          "output_type": "stream",
          "name": "stderr",
          "text": [
            "\rEvaluate Train:   0%|          | 0/3 [00:00<?, ?it/s]"
          ]
        },
        {
          "output_type": "stream",
          "name": "stdout",
          "text": [
            "sample 1 num of prompts for Pneumonia from total 312\n"
          ]
        },
        {
          "output_type": "stream",
          "name": "stderr",
          "text": [
            "\rEvaluate Train:  33%|███▎      | 1/3 [00:01<00:02,  1.42s/it]"
          ]
        },
        {
          "output_type": "stream",
          "name": "stdout",
          "text": [
            "sample 1 num of prompts for Pneumonia from total 312\n"
          ]
        },
        {
          "output_type": "stream",
          "name": "stderr",
          "text": [
            "\rEvaluate Train:  67%|██████▋   | 2/3 [00:02<00:01,  1.48s/it]"
          ]
        },
        {
          "output_type": "stream",
          "name": "stdout",
          "text": [
            "sample 1 num of prompts for Pneumonia from total 312\n"
          ]
        },
        {
          "output_type": "stream",
          "name": "stderr",
          "text": [
            "Evaluate Train: 100%|██████████| 3/3 [00:04<00:00,  1.40s/it]\n",
            "Evaluate Validation:   0%|          | 0/1 [00:00<?, ?it/s]"
          ]
        },
        {
          "output_type": "stream",
          "name": "stdout",
          "text": [
            "sample 1 num of prompts for Pneumonia from total 312\n"
          ]
        },
        {
          "output_type": "stream",
          "name": "stderr",
          "text": [
            "Evaluate Validation: 100%|██████████| 1/1 [00:01<00:00,  1.28s/it]\n",
            "Evaluate Test:   0%|          | 0/1 [00:00<?, ?it/s]"
          ]
        },
        {
          "output_type": "stream",
          "name": "stdout",
          "text": [
            "sample 1 num of prompts for Pneumonia from total 312\n"
          ]
        },
        {
          "output_type": "stream",
          "name": "stderr",
          "text": [
            "Evaluate Test: 100%|██████████| 1/1 [00:01<00:00,  1.63s/it]\n"
          ]
        },
        {
          "output_type": "stream",
          "name": "stdout",
          "text": [
            "\n",
            "Accuracy: 0.5152, Precision: 0.5034, Recall: 0.9109, AUC: 0.6175\n"
          ]
        },
        {
          "output_type": "stream",
          "name": "stderr",
          "text": [
            "\rEvaluate Train:   0%|          | 0/3 [00:00<?, ?it/s]"
          ]
        },
        {
          "output_type": "stream",
          "name": "stdout",
          "text": [
            "sample 2 num of prompts for Pneumonia from total 312\n"
          ]
        },
        {
          "output_type": "stream",
          "name": "stderr",
          "text": [
            "\rEvaluate Train:  33%|███▎      | 1/3 [00:01<00:02,  1.37s/it]"
          ]
        },
        {
          "output_type": "stream",
          "name": "stdout",
          "text": [
            "sample 2 num of prompts for Pneumonia from total 312\n"
          ]
        },
        {
          "output_type": "stream",
          "name": "stderr",
          "text": [
            "\rEvaluate Train:  67%|██████▋   | 2/3 [00:02<00:01,  1.38s/it]"
          ]
        },
        {
          "output_type": "stream",
          "name": "stdout",
          "text": [
            "sample 2 num of prompts for Pneumonia from total 312\n"
          ]
        },
        {
          "output_type": "stream",
          "name": "stderr",
          "text": [
            "Evaluate Train: 100%|██████████| 3/3 [00:04<00:00,  1.42s/it]\n",
            "Evaluate Validation:   0%|          | 0/1 [00:00<?, ?it/s]"
          ]
        },
        {
          "output_type": "stream",
          "name": "stdout",
          "text": [
            "sample 2 num of prompts for Pneumonia from total 312\n"
          ]
        },
        {
          "output_type": "stream",
          "name": "stderr",
          "text": [
            "Evaluate Validation: 100%|██████████| 1/1 [00:01<00:00,  1.84s/it]\n",
            "Evaluate Test:   0%|          | 0/1 [00:00<?, ?it/s]"
          ]
        },
        {
          "output_type": "stream",
          "name": "stdout",
          "text": [
            "sample 2 num of prompts for Pneumonia from total 312\n"
          ]
        },
        {
          "output_type": "stream",
          "name": "stderr",
          "text": [
            "Evaluate Test: 100%|██████████| 1/1 [00:01<00:00,  1.99s/it]\n"
          ]
        },
        {
          "output_type": "stream",
          "name": "stdout",
          "text": [
            "\n",
            "Accuracy: 0.5043, Precision: 0.4974, Recall: 0.9604, AUC: 0.6230\n"
          ]
        },
        {
          "output_type": "stream",
          "name": "stderr",
          "text": [
            "\rEvaluate Train:   0%|          | 0/3 [00:00<?, ?it/s]"
          ]
        },
        {
          "output_type": "stream",
          "name": "stdout",
          "text": [
            "sample 3 num of prompts for Pneumonia from total 312\n"
          ]
        },
        {
          "output_type": "stream",
          "name": "stderr",
          "text": [
            "\rEvaluate Train:  33%|███▎      | 1/3 [00:01<00:02,  1.43s/it]"
          ]
        },
        {
          "output_type": "stream",
          "name": "stdout",
          "text": [
            "sample 3 num of prompts for Pneumonia from total 312\n"
          ]
        },
        {
          "output_type": "stream",
          "name": "stderr",
          "text": [
            "\rEvaluate Train:  67%|██████▋   | 2/3 [00:03<00:01,  1.67s/it]"
          ]
        },
        {
          "output_type": "stream",
          "name": "stdout",
          "text": [
            "sample 3 num of prompts for Pneumonia from total 312\n"
          ]
        },
        {
          "output_type": "stream",
          "name": "stderr",
          "text": [
            "Evaluate Train: 100%|██████████| 3/3 [00:04<00:00,  1.64s/it]\n",
            "Evaluate Validation:   0%|          | 0/1 [00:00<?, ?it/s]"
          ]
        },
        {
          "output_type": "stream",
          "name": "stdout",
          "text": [
            "sample 3 num of prompts for Pneumonia from total 312\n"
          ]
        },
        {
          "output_type": "stream",
          "name": "stderr",
          "text": [
            "Evaluate Validation: 100%|██████████| 1/1 [00:01<00:00,  1.32s/it]\n",
            "Evaluate Test:   0%|          | 0/1 [00:00<?, ?it/s]"
          ]
        },
        {
          "output_type": "stream",
          "name": "stdout",
          "text": [
            "sample 3 num of prompts for Pneumonia from total 312\n"
          ]
        },
        {
          "output_type": "stream",
          "name": "stderr",
          "text": [
            "Evaluate Test: 100%|██████████| 1/1 [00:01<00:00,  1.59s/it]\n"
          ]
        },
        {
          "output_type": "stream",
          "name": "stdout",
          "text": [
            "\n",
            "Accuracy: 0.4970, Precision: 0.4937, Recall: 0.9678, AUC: 0.5932\n"
          ]
        },
        {
          "output_type": "stream",
          "name": "stderr",
          "text": [
            "\rEvaluate Train:   0%|          | 0/3 [00:00<?, ?it/s]"
          ]
        },
        {
          "output_type": "stream",
          "name": "stdout",
          "text": [
            "sample 4 num of prompts for Pneumonia from total 312\n"
          ]
        },
        {
          "output_type": "stream",
          "name": "stderr",
          "text": [
            "\rEvaluate Train:  33%|███▎      | 1/3 [00:01<00:02,  1.38s/it]"
          ]
        },
        {
          "output_type": "stream",
          "name": "stdout",
          "text": [
            "sample 4 num of prompts for Pneumonia from total 312\n"
          ]
        },
        {
          "output_type": "stream",
          "name": "stderr",
          "text": [
            "\rEvaluate Train:  67%|██████▋   | 2/3 [00:03<00:01,  1.78s/it]"
          ]
        },
        {
          "output_type": "stream",
          "name": "stdout",
          "text": [
            "sample 4 num of prompts for Pneumonia from total 312\n"
          ]
        },
        {
          "output_type": "stream",
          "name": "stderr",
          "text": [
            "Evaluate Train: 100%|██████████| 3/3 [00:05<00:00,  1.68s/it]\n",
            "Evaluate Validation:   0%|          | 0/1 [00:00<?, ?it/s]"
          ]
        },
        {
          "output_type": "stream",
          "name": "stdout",
          "text": [
            "sample 4 num of prompts for Pneumonia from total 312\n"
          ]
        },
        {
          "output_type": "stream",
          "name": "stderr",
          "text": [
            "Evaluate Validation: 100%|██████████| 1/1 [00:01<00:00,  1.37s/it]\n",
            "Evaluate Test:   0%|          | 0/1 [00:00<?, ?it/s]"
          ]
        },
        {
          "output_type": "stream",
          "name": "stdout",
          "text": [
            "sample 4 num of prompts for Pneumonia from total 312\n"
          ]
        },
        {
          "output_type": "stream",
          "name": "stderr",
          "text": [
            "Evaluate Test: 100%|██████████| 1/1 [00:01<00:00,  1.63s/it]\n"
          ]
        },
        {
          "output_type": "stream",
          "name": "stdout",
          "text": [
            "\n",
            "Accuracy: 0.5030, Precision: 0.4968, Recall: 0.9728, AUC: 0.6279\n"
          ]
        },
        {
          "output_type": "stream",
          "name": "stderr",
          "text": [
            "\rEvaluate Train:   0%|          | 0/3 [00:00<?, ?it/s]"
          ]
        },
        {
          "output_type": "stream",
          "name": "stdout",
          "text": [
            "sample 5 num of prompts for Pneumonia from total 312\n"
          ]
        },
        {
          "output_type": "stream",
          "name": "stderr",
          "text": [
            "\rEvaluate Train:  33%|███▎      | 1/3 [00:01<00:02,  1.41s/it]"
          ]
        },
        {
          "output_type": "stream",
          "name": "stdout",
          "text": [
            "sample 5 num of prompts for Pneumonia from total 312\n"
          ]
        },
        {
          "output_type": "stream",
          "name": "stderr",
          "text": [
            "\rEvaluate Train:  67%|██████▋   | 2/3 [00:02<00:01,  1.39s/it]"
          ]
        },
        {
          "output_type": "stream",
          "name": "stdout",
          "text": [
            "sample 5 num of prompts for Pneumonia from total 312\n"
          ]
        },
        {
          "output_type": "stream",
          "name": "stderr",
          "text": [
            "Evaluate Train: 100%|██████████| 3/3 [00:04<00:00,  1.42s/it]\n",
            "Evaluate Validation:   0%|          | 0/1 [00:00<?, ?it/s]"
          ]
        },
        {
          "output_type": "stream",
          "name": "stdout",
          "text": [
            "sample 5 num of prompts for Pneumonia from total 312\n"
          ]
        },
        {
          "output_type": "stream",
          "name": "stderr",
          "text": [
            "Evaluate Validation: 100%|██████████| 1/1 [00:01<00:00,  1.73s/it]\n",
            "Evaluate Test:   0%|          | 0/1 [00:00<?, ?it/s]"
          ]
        },
        {
          "output_type": "stream",
          "name": "stdout",
          "text": [
            "sample 5 num of prompts for Pneumonia from total 312\n"
          ]
        },
        {
          "output_type": "stream",
          "name": "stderr",
          "text": [
            "Evaluate Test: 100%|██████████| 1/1 [00:01<00:00,  1.32s/it]\n"
          ]
        },
        {
          "output_type": "stream",
          "name": "stdout",
          "text": [
            "\n",
            "Accuracy: 0.4994, Precision: 0.4949, Recall: 0.9579, AUC: 0.6176\n"
          ]
        },
        {
          "output_type": "stream",
          "name": "stderr",
          "text": [
            "\rEvaluate Train:   0%|          | 0/3 [00:00<?, ?it/s]"
          ]
        },
        {
          "output_type": "stream",
          "name": "stdout",
          "text": [
            "sample 6 num of prompts for Pneumonia from total 312\n"
          ]
        },
        {
          "output_type": "stream",
          "name": "stderr",
          "text": [
            "\rEvaluate Train:  33%|███▎      | 1/3 [00:01<00:03,  1.66s/it]"
          ]
        },
        {
          "output_type": "stream",
          "name": "stdout",
          "text": [
            "sample 6 num of prompts for Pneumonia from total 312\n"
          ]
        },
        {
          "output_type": "stream",
          "name": "stderr",
          "text": [
            "\rEvaluate Train:  67%|██████▋   | 2/3 [00:03<00:01,  1.51s/it]"
          ]
        },
        {
          "output_type": "stream",
          "name": "stdout",
          "text": [
            "sample 6 num of prompts for Pneumonia from total 312\n"
          ]
        },
        {
          "output_type": "stream",
          "name": "stderr",
          "text": [
            "Evaluate Train: 100%|██████████| 3/3 [00:04<00:00,  1.40s/it]\n",
            "Evaluate Validation:   0%|          | 0/1 [00:00<?, ?it/s]"
          ]
        },
        {
          "output_type": "stream",
          "name": "stdout",
          "text": [
            "sample 6 num of prompts for Pneumonia from total 312\n"
          ]
        },
        {
          "output_type": "stream",
          "name": "stderr",
          "text": [
            "Evaluate Validation: 100%|██████████| 1/1 [00:01<00:00,  1.46s/it]\n",
            "Evaluate Test:   0%|          | 0/1 [00:00<?, ?it/s]"
          ]
        },
        {
          "output_type": "stream",
          "name": "stdout",
          "text": [
            "sample 6 num of prompts for Pneumonia from total 312\n"
          ]
        },
        {
          "output_type": "stream",
          "name": "stderr",
          "text": [
            "Evaluate Test: 100%|██████████| 1/1 [00:01<00:00,  1.30s/it]\n"
          ]
        },
        {
          "output_type": "stream",
          "name": "stdout",
          "text": [
            "\n",
            "Accuracy: 0.4921, Precision: 0.4914, Recall: 0.9876, AUC: 0.6135\n"
          ]
        },
        {
          "output_type": "stream",
          "name": "stderr",
          "text": [
            "\rEvaluate Train:   0%|          | 0/3 [00:00<?, ?it/s]"
          ]
        },
        {
          "output_type": "stream",
          "name": "stdout",
          "text": [
            "sample 7 num of prompts for Pneumonia from total 312\n"
          ]
        },
        {
          "output_type": "stream",
          "name": "stderr",
          "text": [
            "\rEvaluate Train:  33%|███▎      | 1/3 [00:01<00:02,  1.37s/it]"
          ]
        },
        {
          "output_type": "stream",
          "name": "stdout",
          "text": [
            "sample 7 num of prompts for Pneumonia from total 312\n"
          ]
        },
        {
          "output_type": "stream",
          "name": "stderr",
          "text": [
            "\rEvaluate Train:  67%|██████▋   | 2/3 [00:03<00:01,  1.53s/it]"
          ]
        },
        {
          "output_type": "stream",
          "name": "stdout",
          "text": [
            "sample 7 num of prompts for Pneumonia from total 312\n"
          ]
        },
        {
          "output_type": "stream",
          "name": "stderr",
          "text": [
            "Evaluate Train: 100%|██████████| 3/3 [00:05<00:00,  1.67s/it]\n",
            "Evaluate Validation:   0%|          | 0/1 [00:00<?, ?it/s]"
          ]
        },
        {
          "output_type": "stream",
          "name": "stdout",
          "text": [
            "sample 7 num of prompts for Pneumonia from total 312\n"
          ]
        },
        {
          "output_type": "stream",
          "name": "stderr",
          "text": [
            "Evaluate Validation: 100%|██████████| 1/1 [00:01<00:00,  1.66s/it]\n",
            "Evaluate Test:   0%|          | 0/1 [00:00<?, ?it/s]"
          ]
        },
        {
          "output_type": "stream",
          "name": "stdout",
          "text": [
            "sample 7 num of prompts for Pneumonia from total 312\n"
          ]
        },
        {
          "output_type": "stream",
          "name": "stderr",
          "text": [
            "Evaluate Test: 100%|██████████| 1/1 [00:01<00:00,  1.93s/it]\n"
          ]
        },
        {
          "output_type": "stream",
          "name": "stdout",
          "text": [
            "\n",
            "Accuracy: 0.4945, Precision: 0.4926, Recall: 0.9950, AUC: 0.6159\n"
          ]
        },
        {
          "output_type": "stream",
          "name": "stderr",
          "text": [
            "\rEvaluate Train:   0%|          | 0/3 [00:00<?, ?it/s]"
          ]
        },
        {
          "output_type": "stream",
          "name": "stdout",
          "text": [
            "sample 8 num of prompts for Pneumonia from total 312\n"
          ]
        },
        {
          "output_type": "stream",
          "name": "stderr",
          "text": [
            "\rEvaluate Train:  33%|███▎      | 1/3 [00:01<00:03,  1.70s/it]"
          ]
        },
        {
          "output_type": "stream",
          "name": "stdout",
          "text": [
            "sample 8 num of prompts for Pneumonia from total 312\n"
          ]
        },
        {
          "output_type": "stream",
          "name": "stderr",
          "text": [
            "\rEvaluate Train:  67%|██████▋   | 2/3 [00:03<00:01,  1.65s/it]"
          ]
        },
        {
          "output_type": "stream",
          "name": "stdout",
          "text": [
            "sample 8 num of prompts for Pneumonia from total 312\n"
          ]
        },
        {
          "output_type": "stream",
          "name": "stderr",
          "text": [
            "Evaluate Train: 100%|██████████| 3/3 [00:04<00:00,  1.65s/it]\n",
            "Evaluate Validation:   0%|          | 0/1 [00:00<?, ?it/s]"
          ]
        },
        {
          "output_type": "stream",
          "name": "stdout",
          "text": [
            "sample 8 num of prompts for Pneumonia from total 312\n"
          ]
        },
        {
          "output_type": "stream",
          "name": "stderr",
          "text": [
            "Evaluate Validation: 100%|██████████| 1/1 [00:01<00:00,  1.36s/it]\n",
            "Evaluate Test:   0%|          | 0/1 [00:00<?, ?it/s]"
          ]
        },
        {
          "output_type": "stream",
          "name": "stdout",
          "text": [
            "sample 8 num of prompts for Pneumonia from total 312\n"
          ]
        },
        {
          "output_type": "stream",
          "name": "stderr",
          "text": [
            "Evaluate Test: 100%|██████████| 1/1 [00:01<00:00,  1.63s/it]\n"
          ]
        },
        {
          "output_type": "stream",
          "name": "stdout",
          "text": [
            "\n",
            "Accuracy: 0.4909, Precision: 0.4909, Recall: 0.9975, AUC: 0.6168\n"
          ]
        },
        {
          "output_type": "stream",
          "name": "stderr",
          "text": [
            "\rEvaluate Train:   0%|          | 0/3 [00:00<?, ?it/s]"
          ]
        },
        {
          "output_type": "stream",
          "name": "stdout",
          "text": [
            "sample 9 num of prompts for Pneumonia from total 312\n"
          ]
        },
        {
          "output_type": "stream",
          "name": "stderr",
          "text": [
            "\rEvaluate Train:  33%|███▎      | 1/3 [00:01<00:02,  1.44s/it]"
          ]
        },
        {
          "output_type": "stream",
          "name": "stdout",
          "text": [
            "sample 9 num of prompts for Pneumonia from total 312\n"
          ]
        },
        {
          "output_type": "stream",
          "name": "stderr",
          "text": [
            "\rEvaluate Train:  67%|██████▋   | 2/3 [00:02<00:01,  1.40s/it]"
          ]
        },
        {
          "output_type": "stream",
          "name": "stdout",
          "text": [
            "sample 9 num of prompts for Pneumonia from total 312\n"
          ]
        },
        {
          "output_type": "stream",
          "name": "stderr",
          "text": [
            "Evaluate Train: 100%|██████████| 3/3 [00:04<00:00,  1.45s/it]\n",
            "Evaluate Validation:   0%|          | 0/1 [00:00<?, ?it/s]"
          ]
        },
        {
          "output_type": "stream",
          "name": "stdout",
          "text": [
            "sample 9 num of prompts for Pneumonia from total 312\n"
          ]
        },
        {
          "output_type": "stream",
          "name": "stderr",
          "text": [
            "Evaluate Validation: 100%|██████████| 1/1 [00:01<00:00,  1.62s/it]\n",
            "Evaluate Test:   0%|          | 0/1 [00:00<?, ?it/s]"
          ]
        },
        {
          "output_type": "stream",
          "name": "stdout",
          "text": [
            "sample 9 num of prompts for Pneumonia from total 312\n"
          ]
        },
        {
          "output_type": "stream",
          "name": "stderr",
          "text": [
            "Evaluate Test: 100%|██████████| 1/1 [00:01<00:00,  1.37s/it]\n"
          ]
        },
        {
          "output_type": "stream",
          "name": "stdout",
          "text": [
            "\n",
            "Accuracy: 0.4957, Precision: 0.4933, Recall: 0.9950, AUC: 0.6282\n"
          ]
        },
        {
          "output_type": "stream",
          "name": "stderr",
          "text": [
            "\rEvaluate Train:   0%|          | 0/3 [00:00<?, ?it/s]"
          ]
        },
        {
          "output_type": "stream",
          "name": "stdout",
          "text": [
            "sample 10 num of prompts for Pneumonia from total 312\n"
          ]
        },
        {
          "output_type": "stream",
          "name": "stderr",
          "text": [
            "\rEvaluate Train:  33%|███▎      | 1/3 [00:01<00:02,  1.38s/it]"
          ]
        },
        {
          "output_type": "stream",
          "name": "stdout",
          "text": [
            "sample 10 num of prompts for Pneumonia from total 312\n"
          ]
        },
        {
          "output_type": "stream",
          "name": "stderr",
          "text": [
            "\rEvaluate Train:  67%|██████▋   | 2/3 [00:02<00:01,  1.51s/it]"
          ]
        },
        {
          "output_type": "stream",
          "name": "stdout",
          "text": [
            "sample 10 num of prompts for Pneumonia from total 312\n"
          ]
        },
        {
          "output_type": "stream",
          "name": "stderr",
          "text": [
            "Evaluate Train: 100%|██████████| 3/3 [00:04<00:00,  1.54s/it]\n",
            "Evaluate Validation:   0%|          | 0/1 [00:00<?, ?it/s]"
          ]
        },
        {
          "output_type": "stream",
          "name": "stdout",
          "text": [
            "sample 10 num of prompts for Pneumonia from total 312\n"
          ]
        },
        {
          "output_type": "stream",
          "name": "stderr",
          "text": [
            "Evaluate Validation: 100%|██████████| 1/1 [00:01<00:00,  1.36s/it]\n",
            "Evaluate Test:   0%|          | 0/1 [00:00<?, ?it/s]"
          ]
        },
        {
          "output_type": "stream",
          "name": "stdout",
          "text": [
            "sample 10 num of prompts for Pneumonia from total 312\n"
          ]
        },
        {
          "output_type": "stream",
          "name": "stderr",
          "text": [
            "Evaluate Test: 100%|██████████| 1/1 [00:01<00:00,  1.63s/it]\n"
          ]
        },
        {
          "output_type": "stream",
          "name": "stdout",
          "text": [
            "\n",
            "Accuracy: 0.4945, Precision: 0.4927, Recall: 1.0000, AUC: 0.6005\n"
          ]
        },
        {
          "output_type": "stream",
          "name": "stderr",
          "text": [
            "\rEvaluate Train:   0%|          | 0/3 [00:00<?, ?it/s]"
          ]
        },
        {
          "output_type": "stream",
          "name": "stdout",
          "text": [
            "sample 11 num of prompts for Pneumonia from total 312\n"
          ]
        },
        {
          "output_type": "stream",
          "name": "stderr",
          "text": [
            "\rEvaluate Train:  33%|███▎      | 1/3 [00:01<00:02,  1.47s/it]"
          ]
        },
        {
          "output_type": "stream",
          "name": "stdout",
          "text": [
            "sample 11 num of prompts for Pneumonia from total 312\n"
          ]
        },
        {
          "output_type": "stream",
          "name": "stderr",
          "text": [
            "\rEvaluate Train:  67%|██████▋   | 2/3 [00:02<00:01,  1.41s/it]"
          ]
        },
        {
          "output_type": "stream",
          "name": "stdout",
          "text": [
            "sample 11 num of prompts for Pneumonia from total 312\n"
          ]
        },
        {
          "output_type": "stream",
          "name": "stderr",
          "text": [
            "Evaluate Train: 100%|██████████| 3/3 [00:04<00:00,  1.40s/it]\n",
            "Evaluate Validation:   0%|          | 0/1 [00:00<?, ?it/s]"
          ]
        },
        {
          "output_type": "stream",
          "name": "stdout",
          "text": [
            "sample 11 num of prompts for Pneumonia from total 312\n"
          ]
        },
        {
          "output_type": "stream",
          "name": "stderr",
          "text": [
            "Evaluate Validation: 100%|██████████| 1/1 [00:01<00:00,  1.78s/it]\n",
            "Evaluate Test:   0%|          | 0/1 [00:00<?, ?it/s]"
          ]
        },
        {
          "output_type": "stream",
          "name": "stdout",
          "text": [
            "sample 11 num of prompts for Pneumonia from total 312\n"
          ]
        },
        {
          "output_type": "stream",
          "name": "stderr",
          "text": [
            "Evaluate Test: 100%|██████████| 1/1 [00:01<00:00,  1.28s/it]\n",
            "/usr/local/lib/python3.10/dist-packages/sklearn/metrics/_classification.py:1344: UndefinedMetricWarning: Precision and F-score are ill-defined and being set to 0.0 in labels with no predicted samples. Use `zero_division` parameter to control this behavior.\n",
            "  _warn_prf(average, modifier, msg_start, len(result))\n",
            "/usr/local/lib/python3.10/dist-packages/sklearn/metrics/_classification.py:1344: UndefinedMetricWarning: Precision and F-score are ill-defined and being set to 0.0 in labels with no predicted samples. Use `zero_division` parameter to control this behavior.\n",
            "  _warn_prf(average, modifier, msg_start, len(result))\n",
            "/usr/local/lib/python3.10/dist-packages/sklearn/metrics/_classification.py:1344: UndefinedMetricWarning: Precision and F-score are ill-defined and being set to 0.0 in labels with no predicted samples. Use `zero_division` parameter to control this behavior.\n",
            "  _warn_prf(average, modifier, msg_start, len(result))\n"
          ]
        },
        {
          "output_type": "stream",
          "name": "stdout",
          "text": [
            "\n",
            "Accuracy: 0.4909, Precision: 0.4909, Recall: 1.0000, AUC: 0.6032\n"
          ]
        },
        {
          "output_type": "stream",
          "name": "stderr",
          "text": [
            "\rEvaluate Train:   0%|          | 0/3 [00:00<?, ?it/s]"
          ]
        },
        {
          "output_type": "stream",
          "name": "stdout",
          "text": [
            "sample 12 num of prompts for Pneumonia from total 312\n"
          ]
        },
        {
          "output_type": "stream",
          "name": "stderr",
          "text": [
            "\rEvaluate Train:  33%|███▎      | 1/3 [00:01<00:02,  1.39s/it]"
          ]
        },
        {
          "output_type": "stream",
          "name": "stdout",
          "text": [
            "sample 12 num of prompts for Pneumonia from total 312\n"
          ]
        },
        {
          "output_type": "stream",
          "name": "stderr",
          "text": [
            "\rEvaluate Train:  67%|██████▋   | 2/3 [00:03<00:01,  1.72s/it]"
          ]
        },
        {
          "output_type": "stream",
          "name": "stdout",
          "text": [
            "sample 12 num of prompts for Pneumonia from total 312\n"
          ]
        },
        {
          "output_type": "stream",
          "name": "stderr",
          "text": [
            "Evaluate Train: 100%|██████████| 3/3 [00:04<00:00,  1.49s/it]\n",
            "Evaluate Validation:   0%|          | 0/1 [00:00<?, ?it/s]"
          ]
        },
        {
          "output_type": "stream",
          "name": "stdout",
          "text": [
            "sample 12 num of prompts for Pneumonia from total 312\n"
          ]
        },
        {
          "output_type": "stream",
          "name": "stderr",
          "text": [
            "Evaluate Validation: 100%|██████████| 1/1 [00:01<00:00,  1.31s/it]\n",
            "Evaluate Test:   0%|          | 0/1 [00:00<?, ?it/s]"
          ]
        },
        {
          "output_type": "stream",
          "name": "stdout",
          "text": [
            "sample 12 num of prompts for Pneumonia from total 312\n"
          ]
        },
        {
          "output_type": "stream",
          "name": "stderr",
          "text": [
            "Evaluate Test: 100%|██████████| 1/1 [00:02<00:00,  2.17s/it]\n"
          ]
        },
        {
          "output_type": "stream",
          "name": "stdout",
          "text": [
            "\n",
            "Accuracy: 0.4982, Precision: 0.4945, Recall: 0.9975, AUC: 0.6299\n",
            "Best AUC for rsna_task with 12 prompts: 0.6299\n",
            "Results saved to results/zs_medclip_finetune/ori/medclip/classification_results.txt\n"
          ]
        },
        {
          "output_type": "stream",
          "name": "stderr",
          "text": [
            "\rEvaluate Train:   0%|          | 0/3 [00:00<?, ?it/s]"
          ]
        },
        {
          "output_type": "stream",
          "name": "stdout",
          "text": [
            "sample 1 num of prompts for COVID from total 12\n"
          ]
        },
        {
          "output_type": "stream",
          "name": "stderr",
          "text": [
            "\rEvaluate Train:  33%|███▎      | 1/3 [00:01<00:02,  1.40s/it]"
          ]
        },
        {
          "output_type": "stream",
          "name": "stdout",
          "text": [
            "sample 1 num of prompts for COVID from total 12\n"
          ]
        },
        {
          "output_type": "stream",
          "name": "stderr",
          "text": [
            "\rEvaluate Train:  67%|██████▋   | 2/3 [00:02<00:01,  1.40s/it]"
          ]
        },
        {
          "output_type": "stream",
          "name": "stdout",
          "text": [
            "sample 1 num of prompts for COVID from total 12\n"
          ]
        },
        {
          "output_type": "stream",
          "name": "stderr",
          "text": [
            "Evaluate Train: 100%|██████████| 3/3 [00:04<00:00,  1.38s/it]\n",
            "Evaluate Validation:   0%|          | 0/1 [00:00<?, ?it/s]"
          ]
        },
        {
          "output_type": "stream",
          "name": "stdout",
          "text": [
            "sample 1 num of prompts for COVID from total 12\n"
          ]
        },
        {
          "output_type": "stream",
          "name": "stderr",
          "text": [
            "Evaluate Validation: 100%|██████████| 1/1 [00:01<00:00,  1.78s/it]\n",
            "Evaluate Test:   0%|          | 0/1 [00:00<?, ?it/s]"
          ]
        },
        {
          "output_type": "stream",
          "name": "stdout",
          "text": [
            "sample 1 num of prompts for COVID from total 12\n"
          ]
        },
        {
          "output_type": "stream",
          "name": "stderr",
          "text": [
            "Evaluate Test: 100%|██████████| 1/1 [00:01<00:00,  1.36s/it]\n"
          ]
        },
        {
          "output_type": "stream",
          "name": "stdout",
          "text": [
            "\n",
            "Accuracy: 0.5188, Precision: 0.5058, Recall: 0.8639, AUC: 0.6263\n"
          ]
        },
        {
          "output_type": "stream",
          "name": "stderr",
          "text": [
            "\rEvaluate Train:   0%|          | 0/3 [00:00<?, ?it/s]"
          ]
        },
        {
          "output_type": "stream",
          "name": "stdout",
          "text": [
            "sample 2 num of prompts for COVID from total 12\n"
          ]
        },
        {
          "output_type": "stream",
          "name": "stderr",
          "text": [
            "\rEvaluate Train:  33%|███▎      | 1/3 [00:01<00:02,  1.43s/it]"
          ]
        },
        {
          "output_type": "stream",
          "name": "stdout",
          "text": [
            "sample 2 num of prompts for COVID from total 12\n"
          ]
        },
        {
          "output_type": "stream",
          "name": "stderr",
          "text": [
            "\rEvaluate Train:  67%|██████▋   | 2/3 [00:03<00:01,  1.58s/it]"
          ]
        },
        {
          "output_type": "stream",
          "name": "stdout",
          "text": [
            "sample 2 num of prompts for COVID from total 12\n"
          ]
        },
        {
          "output_type": "stream",
          "name": "stderr",
          "text": [
            "Evaluate Train: 100%|██████████| 3/3 [00:04<00:00,  1.53s/it]\n",
            "Evaluate Validation:   0%|          | 0/1 [00:00<?, ?it/s]"
          ]
        },
        {
          "output_type": "stream",
          "name": "stdout",
          "text": [
            "sample 2 num of prompts for COVID from total 12\n"
          ]
        },
        {
          "output_type": "stream",
          "name": "stderr",
          "text": [
            "Evaluate Validation: 100%|██████████| 1/1 [00:01<00:00,  1.47s/it]\n",
            "Evaluate Test:   0%|          | 0/1 [00:00<?, ?it/s]"
          ]
        },
        {
          "output_type": "stream",
          "name": "stdout",
          "text": [
            "sample 2 num of prompts for COVID from total 12\n"
          ]
        },
        {
          "output_type": "stream",
          "name": "stderr",
          "text": [
            "Evaluate Test: 100%|██████████| 1/1 [00:01<00:00,  1.52s/it]\n"
          ]
        },
        {
          "output_type": "stream",
          "name": "stdout",
          "text": [
            "\n",
            "Accuracy: 0.5249, Precision: 0.5094, Recall: 0.8738, AUC: 0.6245\n"
          ]
        },
        {
          "output_type": "stream",
          "name": "stderr",
          "text": [
            "\rEvaluate Train:   0%|          | 0/3 [00:00<?, ?it/s]"
          ]
        },
        {
          "output_type": "stream",
          "name": "stdout",
          "text": [
            "sample 3 num of prompts for COVID from total 12\n"
          ]
        },
        {
          "output_type": "stream",
          "name": "stderr",
          "text": [
            "\rEvaluate Train:  33%|███▎      | 1/3 [00:01<00:02,  1.37s/it]"
          ]
        },
        {
          "output_type": "stream",
          "name": "stdout",
          "text": [
            "sample 3 num of prompts for COVID from total 12\n"
          ]
        },
        {
          "output_type": "stream",
          "name": "stderr",
          "text": [
            "\rEvaluate Train:  67%|██████▋   | 2/3 [00:02<00:01,  1.37s/it]"
          ]
        },
        {
          "output_type": "stream",
          "name": "stdout",
          "text": [
            "sample 3 num of prompts for COVID from total 12\n"
          ]
        },
        {
          "output_type": "stream",
          "name": "stderr",
          "text": [
            "Evaluate Train: 100%|██████████| 3/3 [00:04<00:00,  1.45s/it]\n",
            "Evaluate Validation:   0%|          | 0/1 [00:00<?, ?it/s]"
          ]
        },
        {
          "output_type": "stream",
          "name": "stdout",
          "text": [
            "sample 3 num of prompts for COVID from total 12\n"
          ]
        },
        {
          "output_type": "stream",
          "name": "stderr",
          "text": [
            "Evaluate Validation: 100%|██████████| 1/1 [00:01<00:00,  1.63s/it]\n",
            "Evaluate Test:   0%|          | 0/1 [00:00<?, ?it/s]"
          ]
        },
        {
          "output_type": "stream",
          "name": "stdout",
          "text": [
            "sample 3 num of prompts for COVID from total 12\n"
          ]
        },
        {
          "output_type": "stream",
          "name": "stderr",
          "text": [
            "Evaluate Test: 100%|██████████| 1/1 [00:01<00:00,  1.37s/it]\n"
          ]
        },
        {
          "output_type": "stream",
          "name": "stdout",
          "text": [
            "\n",
            "Accuracy: 0.5213, Precision: 0.5070, Recall: 0.8936, AUC: 0.6253\n"
          ]
        },
        {
          "output_type": "stream",
          "name": "stderr",
          "text": [
            "\rEvaluate Train:   0%|          | 0/3 [00:00<?, ?it/s]"
          ]
        },
        {
          "output_type": "stream",
          "name": "stdout",
          "text": [
            "sample 4 num of prompts for COVID from total 12\n"
          ]
        },
        {
          "output_type": "stream",
          "name": "stderr",
          "text": [
            "\rEvaluate Train:  33%|███▎      | 1/3 [00:01<00:02,  1.38s/it]"
          ]
        },
        {
          "output_type": "stream",
          "name": "stdout",
          "text": [
            "sample 4 num of prompts for COVID from total 12\n"
          ]
        },
        {
          "output_type": "stream",
          "name": "stderr",
          "text": [
            "\rEvaluate Train:  67%|██████▋   | 2/3 [00:02<00:01,  1.50s/it]"
          ]
        },
        {
          "output_type": "stream",
          "name": "stdout",
          "text": [
            "sample 4 num of prompts for COVID from total 12\n"
          ]
        },
        {
          "output_type": "stream",
          "name": "stderr",
          "text": [
            "Evaluate Train: 100%|██████████| 3/3 [00:04<00:00,  1.53s/it]\n",
            "Evaluate Validation:   0%|          | 0/1 [00:00<?, ?it/s]"
          ]
        },
        {
          "output_type": "stream",
          "name": "stdout",
          "text": [
            "sample 4 num of prompts for COVID from total 12\n"
          ]
        },
        {
          "output_type": "stream",
          "name": "stderr",
          "text": [
            "Evaluate Validation: 100%|██████████| 1/1 [00:01<00:00,  1.77s/it]\n",
            "Evaluate Test:   0%|          | 0/1 [00:00<?, ?it/s]"
          ]
        },
        {
          "output_type": "stream",
          "name": "stdout",
          "text": [
            "sample 4 num of prompts for COVID from total 12\n"
          ]
        },
        {
          "output_type": "stream",
          "name": "stderr",
          "text": [
            "Evaluate Test: 100%|██████████| 1/1 [00:01<00:00,  1.29s/it]\n"
          ]
        },
        {
          "output_type": "stream",
          "name": "stdout",
          "text": [
            "\n",
            "Accuracy: 0.5006, Precision: 0.4954, Recall: 0.9233, AUC: 0.6243\n"
          ]
        },
        {
          "output_type": "stream",
          "name": "stderr",
          "text": [
            "\rEvaluate Train:   0%|          | 0/3 [00:00<?, ?it/s]"
          ]
        },
        {
          "output_type": "stream",
          "name": "stdout",
          "text": [
            "sample 5 num of prompts for COVID from total 12\n"
          ]
        },
        {
          "output_type": "stream",
          "name": "stderr",
          "text": [
            "\rEvaluate Train:  33%|███▎      | 1/3 [00:01<00:02,  1.37s/it]"
          ]
        },
        {
          "output_type": "stream",
          "name": "stdout",
          "text": [
            "sample 5 num of prompts for COVID from total 12\n"
          ]
        },
        {
          "output_type": "stream",
          "name": "stderr",
          "text": [
            "\rEvaluate Train:  67%|██████▋   | 2/3 [00:02<00:01,  1.40s/it]"
          ]
        },
        {
          "output_type": "stream",
          "name": "stdout",
          "text": [
            "sample 5 num of prompts for COVID from total 12\n"
          ]
        },
        {
          "output_type": "stream",
          "name": "stderr",
          "text": [
            "Evaluate Train: 100%|██████████| 3/3 [00:04<00:00,  1.43s/it]\n",
            "Evaluate Validation:   0%|          | 0/1 [00:00<?, ?it/s]"
          ]
        },
        {
          "output_type": "stream",
          "name": "stdout",
          "text": [
            "sample 5 num of prompts for COVID from total 12\n"
          ]
        },
        {
          "output_type": "stream",
          "name": "stderr",
          "text": [
            "Evaluate Validation: 100%|██████████| 1/1 [00:01<00:00,  1.63s/it]\n",
            "Evaluate Test:   0%|          | 0/1 [00:00<?, ?it/s]"
          ]
        },
        {
          "output_type": "stream",
          "name": "stdout",
          "text": [
            "sample 5 num of prompts for COVID from total 12\n"
          ]
        },
        {
          "output_type": "stream",
          "name": "stderr",
          "text": [
            "Evaluate Test: 100%|██████████| 1/1 [00:01<00:00,  1.37s/it]\n"
          ]
        },
        {
          "output_type": "stream",
          "name": "stdout",
          "text": [
            "\n",
            "Accuracy: 0.5018, Precision: 0.4960, Recall: 0.9307, AUC: 0.6265\n"
          ]
        },
        {
          "output_type": "stream",
          "name": "stderr",
          "text": [
            "\rEvaluate Train:   0%|          | 0/3 [00:00<?, ?it/s]"
          ]
        },
        {
          "output_type": "stream",
          "name": "stdout",
          "text": [
            "sample 6 num of prompts for COVID from total 12\n"
          ]
        },
        {
          "output_type": "stream",
          "name": "stderr",
          "text": [
            "\rEvaluate Train:  33%|███▎      | 1/3 [00:01<00:02,  1.39s/it]"
          ]
        },
        {
          "output_type": "stream",
          "name": "stdout",
          "text": [
            "sample 6 num of prompts for COVID from total 12\n"
          ]
        },
        {
          "output_type": "stream",
          "name": "stderr",
          "text": [
            "\rEvaluate Train:  67%|██████▋   | 2/3 [00:03<00:01,  1.53s/it]"
          ]
        },
        {
          "output_type": "stream",
          "name": "stdout",
          "text": [
            "sample 6 num of prompts for COVID from total 12\n"
          ]
        },
        {
          "output_type": "stream",
          "name": "stderr",
          "text": [
            "Evaluate Train: 100%|██████████| 3/3 [00:04<00:00,  1.54s/it]\n",
            "Evaluate Validation:   0%|          | 0/1 [00:00<?, ?it/s]"
          ]
        },
        {
          "output_type": "stream",
          "name": "stdout",
          "text": [
            "sample 6 num of prompts for COVID from total 12\n"
          ]
        },
        {
          "output_type": "stream",
          "name": "stderr",
          "text": [
            "Evaluate Validation: 100%|██████████| 1/1 [00:01<00:00,  1.79s/it]\n",
            "Evaluate Test:   0%|          | 0/1 [00:00<?, ?it/s]"
          ]
        },
        {
          "output_type": "stream",
          "name": "stdout",
          "text": [
            "sample 6 num of prompts for COVID from total 12\n"
          ]
        },
        {
          "output_type": "stream",
          "name": "stderr",
          "text": [
            "Evaluate Test: 100%|██████████| 1/1 [00:01<00:00,  1.29s/it]\n"
          ]
        },
        {
          "output_type": "stream",
          "name": "stdout",
          "text": [
            "\n",
            "Accuracy: 0.5043, Precision: 0.4974, Recall: 0.9332, AUC: 0.6247\n"
          ]
        },
        {
          "output_type": "stream",
          "name": "stderr",
          "text": [
            "\rEvaluate Train:   0%|          | 0/3 [00:00<?, ?it/s]"
          ]
        },
        {
          "output_type": "stream",
          "name": "stdout",
          "text": [
            "sample 7 num of prompts for COVID from total 12\n"
          ]
        },
        {
          "output_type": "stream",
          "name": "stderr",
          "text": [
            "\rEvaluate Train:  33%|███▎      | 1/3 [00:01<00:02,  1.45s/it]"
          ]
        },
        {
          "output_type": "stream",
          "name": "stdout",
          "text": [
            "sample 7 num of prompts for COVID from total 12\n"
          ]
        },
        {
          "output_type": "stream",
          "name": "stderr",
          "text": [
            "\rEvaluate Train:  67%|██████▋   | 2/3 [00:03<00:01,  1.69s/it]"
          ]
        },
        {
          "output_type": "stream",
          "name": "stdout",
          "text": [
            "sample 7 num of prompts for COVID from total 12\n"
          ]
        },
        {
          "output_type": "stream",
          "name": "stderr",
          "text": [
            "Evaluate Train: 100%|██████████| 3/3 [00:05<00:00,  1.70s/it]\n",
            "Evaluate Validation:   0%|          | 0/1 [00:00<?, ?it/s]"
          ]
        },
        {
          "output_type": "stream",
          "name": "stdout",
          "text": [
            "sample 7 num of prompts for COVID from total 12\n"
          ]
        },
        {
          "output_type": "stream",
          "name": "stderr",
          "text": [
            "Evaluate Validation: 100%|██████████| 1/1 [00:01<00:00,  1.81s/it]\n",
            "Evaluate Test:   0%|          | 0/1 [00:00<?, ?it/s]"
          ]
        },
        {
          "output_type": "stream",
          "name": "stdout",
          "text": [
            "sample 7 num of prompts for COVID from total 12\n"
          ]
        },
        {
          "output_type": "stream",
          "name": "stderr",
          "text": [
            "Evaluate Test: 100%|██████████| 1/1 [00:01<00:00,  1.29s/it]\n"
          ]
        },
        {
          "output_type": "stream",
          "name": "stdout",
          "text": [
            "\n",
            "Accuracy: 0.5018, Precision: 0.4961, Recall: 0.9356, AUC: 0.6282\n"
          ]
        },
        {
          "output_type": "stream",
          "name": "stderr",
          "text": [
            "\rEvaluate Train:   0%|          | 0/3 [00:00<?, ?it/s]"
          ]
        },
        {
          "output_type": "stream",
          "name": "stdout",
          "text": [
            "sample 8 num of prompts for COVID from total 12\n"
          ]
        },
        {
          "output_type": "stream",
          "name": "stderr",
          "text": [
            "\rEvaluate Train:  33%|███▎      | 1/3 [00:02<00:04,  2.14s/it]"
          ]
        },
        {
          "output_type": "stream",
          "name": "stdout",
          "text": [
            "sample 8 num of prompts for COVID from total 12\n"
          ]
        },
        {
          "output_type": "stream",
          "name": "stderr",
          "text": [
            "\rEvaluate Train:  67%|██████▋   | 2/3 [00:03<00:01,  1.69s/it]"
          ]
        },
        {
          "output_type": "stream",
          "name": "stdout",
          "text": [
            "sample 8 num of prompts for COVID from total 12\n"
          ]
        },
        {
          "output_type": "stream",
          "name": "stderr",
          "text": [
            "Evaluate Train: 100%|██████████| 3/3 [00:04<00:00,  1.56s/it]\n",
            "Evaluate Validation:   0%|          | 0/1 [00:00<?, ?it/s]"
          ]
        },
        {
          "output_type": "stream",
          "name": "stdout",
          "text": [
            "sample 8 num of prompts for COVID from total 12\n"
          ]
        },
        {
          "output_type": "stream",
          "name": "stderr",
          "text": [
            "Evaluate Validation: 100%|██████████| 1/1 [00:01<00:00,  1.31s/it]\n",
            "Evaluate Test:   0%|          | 0/1 [00:00<?, ?it/s]"
          ]
        },
        {
          "output_type": "stream",
          "name": "stdout",
          "text": [
            "sample 8 num of prompts for COVID from total 12\n"
          ]
        },
        {
          "output_type": "stream",
          "name": "stderr",
          "text": [
            "Evaluate Test: 100%|██████████| 1/1 [00:01<00:00,  1.58s/it]\n"
          ]
        },
        {
          "output_type": "stream",
          "name": "stdout",
          "text": [
            "\n",
            "Accuracy: 0.5018, Precision: 0.4961, Recall: 0.9356, AUC: 0.6264\n"
          ]
        },
        {
          "output_type": "stream",
          "name": "stderr",
          "text": [
            "\rEvaluate Train:   0%|          | 0/3 [00:00<?, ?it/s]"
          ]
        },
        {
          "output_type": "stream",
          "name": "stdout",
          "text": [
            "sample 9 num of prompts for COVID from total 12\n"
          ]
        },
        {
          "output_type": "stream",
          "name": "stderr",
          "text": [
            "\rEvaluate Train:  33%|███▎      | 1/3 [00:01<00:03,  1.51s/it]"
          ]
        },
        {
          "output_type": "stream",
          "name": "stdout",
          "text": [
            "sample 9 num of prompts for COVID from total 12\n"
          ]
        },
        {
          "output_type": "stream",
          "name": "stderr",
          "text": [
            "\rEvaluate Train:  67%|██████▋   | 2/3 [00:03<00:01,  1.75s/it]"
          ]
        },
        {
          "output_type": "stream",
          "name": "stdout",
          "text": [
            "sample 9 num of prompts for COVID from total 12\n"
          ]
        },
        {
          "output_type": "stream",
          "name": "stderr",
          "text": [
            "Evaluate Train: 100%|██████████| 3/3 [00:06<00:00,  2.02s/it]\n",
            "Evaluate Validation:   0%|          | 0/1 [00:00<?, ?it/s]"
          ]
        },
        {
          "output_type": "stream",
          "name": "stdout",
          "text": [
            "sample 9 num of prompts for COVID from total 12\n"
          ]
        },
        {
          "output_type": "stream",
          "name": "stderr",
          "text": [
            "Evaluate Validation: 100%|██████████| 1/1 [00:01<00:00,  1.32s/it]\n",
            "Evaluate Test:   0%|          | 0/1 [00:00<?, ?it/s]"
          ]
        },
        {
          "output_type": "stream",
          "name": "stdout",
          "text": [
            "sample 9 num of prompts for COVID from total 12\n"
          ]
        },
        {
          "output_type": "stream",
          "name": "stderr",
          "text": [
            "Evaluate Test: 100%|██████████| 1/1 [00:02<00:00,  2.01s/it]\n"
          ]
        },
        {
          "output_type": "stream",
          "name": "stdout",
          "text": [
            "\n",
            "Accuracy: 0.5018, Precision: 0.4961, Recall: 0.9381, AUC: 0.6270\n"
          ]
        },
        {
          "output_type": "stream",
          "name": "stderr",
          "text": [
            "\rEvaluate Train:   0%|          | 0/3 [00:00<?, ?it/s]"
          ]
        },
        {
          "output_type": "stream",
          "name": "stdout",
          "text": [
            "sample 10 num of prompts for COVID from total 12\n"
          ]
        },
        {
          "output_type": "stream",
          "name": "stderr",
          "text": [
            "\rEvaluate Train:  33%|███▎      | 1/3 [00:01<00:02,  1.38s/it]"
          ]
        },
        {
          "output_type": "stream",
          "name": "stdout",
          "text": [
            "sample 10 num of prompts for COVID from total 12\n"
          ]
        },
        {
          "output_type": "stream",
          "name": "stderr",
          "text": [
            "\rEvaluate Train:  67%|██████▋   | 2/3 [00:02<00:01,  1.39s/it]"
          ]
        },
        {
          "output_type": "stream",
          "name": "stdout",
          "text": [
            "sample 10 num of prompts for COVID from total 12\n"
          ]
        },
        {
          "output_type": "stream",
          "name": "stderr",
          "text": [
            "Evaluate Train: 100%|██████████| 3/3 [00:04<00:00,  1.57s/it]\n",
            "Evaluate Validation:   0%|          | 0/1 [00:00<?, ?it/s]"
          ]
        },
        {
          "output_type": "stream",
          "name": "stdout",
          "text": [
            "sample 10 num of prompts for COVID from total 12\n"
          ]
        },
        {
          "output_type": "stream",
          "name": "stderr",
          "text": [
            "Evaluate Validation: 100%|██████████| 1/1 [00:01<00:00,  1.83s/it]\n",
            "Evaluate Test:   0%|          | 0/1 [00:00<?, ?it/s]"
          ]
        },
        {
          "output_type": "stream",
          "name": "stdout",
          "text": [
            "sample 10 num of prompts for COVID from total 12\n"
          ]
        },
        {
          "output_type": "stream",
          "name": "stderr",
          "text": [
            "Evaluate Test: 100%|██████████| 1/1 [00:02<00:00,  2.04s/it]\n"
          ]
        },
        {
          "output_type": "stream",
          "name": "stdout",
          "text": [
            "\n",
            "Accuracy: 0.5018, Precision: 0.4961, Recall: 0.9381, AUC: 0.6270\n"
          ]
        },
        {
          "output_type": "stream",
          "name": "stderr",
          "text": [
            "\rEvaluate Train:   0%|          | 0/3 [00:00<?, ?it/s]"
          ]
        },
        {
          "output_type": "stream",
          "name": "stdout",
          "text": [
            "sample 11 num of prompts for COVID from total 12\n"
          ]
        },
        {
          "output_type": "stream",
          "name": "stderr",
          "text": [
            "\rEvaluate Train:  33%|███▎      | 1/3 [00:01<00:02,  1.43s/it]"
          ]
        },
        {
          "output_type": "stream",
          "name": "stdout",
          "text": [
            "sample 11 num of prompts for COVID from total 12\n"
          ]
        },
        {
          "output_type": "stream",
          "name": "stderr",
          "text": [
            "\rEvaluate Train:  67%|██████▋   | 2/3 [00:02<00:01,  1.41s/it]"
          ]
        },
        {
          "output_type": "stream",
          "name": "stdout",
          "text": [
            "sample 11 num of prompts for COVID from total 12\n"
          ]
        },
        {
          "output_type": "stream",
          "name": "stderr",
          "text": [
            "Evaluate Train: 100%|██████████| 3/3 [00:04<00:00,  1.44s/it]\n",
            "Evaluate Validation:   0%|          | 0/1 [00:00<?, ?it/s]"
          ]
        },
        {
          "output_type": "stream",
          "name": "stdout",
          "text": [
            "sample 11 num of prompts for COVID from total 12\n"
          ]
        },
        {
          "output_type": "stream",
          "name": "stderr",
          "text": [
            "Evaluate Validation: 100%|██████████| 1/1 [00:01<00:00,  1.63s/it]\n",
            "Evaluate Test:   0%|          | 0/1 [00:00<?, ?it/s]"
          ]
        },
        {
          "output_type": "stream",
          "name": "stdout",
          "text": [
            "sample 11 num of prompts for COVID from total 12\n"
          ]
        },
        {
          "output_type": "stream",
          "name": "stderr",
          "text": [
            "Evaluate Test: 100%|██████████| 1/1 [00:01<00:00,  1.54s/it]\n"
          ]
        },
        {
          "output_type": "stream",
          "name": "stdout",
          "text": [
            "\n",
            "Accuracy: 0.5018, Precision: 0.4961, Recall: 0.9381, AUC: 0.6270\n"
          ]
        },
        {
          "output_type": "stream",
          "name": "stderr",
          "text": [
            "\rEvaluate Train:   0%|          | 0/3 [00:00<?, ?it/s]"
          ]
        },
        {
          "output_type": "stream",
          "name": "stdout",
          "text": [
            "sample 12 num of prompts for COVID from total 12\n"
          ]
        },
        {
          "output_type": "stream",
          "name": "stderr",
          "text": [
            "\rEvaluate Train:  33%|███▎      | 1/3 [00:01<00:02,  1.38s/it]"
          ]
        },
        {
          "output_type": "stream",
          "name": "stdout",
          "text": [
            "sample 12 num of prompts for COVID from total 12\n"
          ]
        },
        {
          "output_type": "stream",
          "name": "stderr",
          "text": [
            "\rEvaluate Train:  67%|██████▋   | 2/3 [00:02<00:01,  1.51s/it]"
          ]
        },
        {
          "output_type": "stream",
          "name": "stdout",
          "text": [
            "sample 12 num of prompts for COVID from total 12\n"
          ]
        },
        {
          "output_type": "stream",
          "name": "stderr",
          "text": [
            "Evaluate Train: 100%|██████████| 3/3 [00:04<00:00,  1.48s/it]\n",
            "Evaluate Validation:   0%|          | 0/1 [00:00<?, ?it/s]"
          ]
        },
        {
          "output_type": "stream",
          "name": "stdout",
          "text": [
            "sample 12 num of prompts for COVID from total 12\n"
          ]
        },
        {
          "output_type": "stream",
          "name": "stderr",
          "text": [
            "Evaluate Validation: 100%|██████████| 1/1 [00:01<00:00,  1.43s/it]\n",
            "Evaluate Test:   0%|          | 0/1 [00:00<?, ?it/s]"
          ]
        },
        {
          "output_type": "stream",
          "name": "stdout",
          "text": [
            "sample 12 num of prompts for COVID from total 12\n"
          ]
        },
        {
          "output_type": "stream",
          "name": "stderr",
          "text": [
            "Evaluate Test: 100%|██████████| 1/1 [00:01<00:00,  1.57s/it]"
          ]
        },
        {
          "output_type": "stream",
          "name": "stdout",
          "text": [
            "\n",
            "Accuracy: 0.5018, Precision: 0.4961, Recall: 0.9381, AUC: 0.6272\n",
            "Best AUC for  with 7 prompts: 0.6282\n",
            "Results saved to results/zs_medclip_finetune/ori/medclip/classification_results.txt\n"
          ]
        },
        {
          "output_type": "stream",
          "name": "stderr",
          "text": [
            "\n"
          ]
        },
        {
          "output_type": "display_data",
          "data": {
            "text/plain": [
              "<Figure size 640x480 with 0 Axes>"
            ]
          },
          "metadata": {}
        }
      ],
      "source": [
        "%run MedCLIP-pediatric/scripts/zs_medclip_finetune.py"
      ]
    },
    {
      "cell_type": "code",
      "execution_count": 4,
      "metadata": {
        "id": "aec9YhFzfP-6",
        "colab": {
          "base_uri": "https://localhost:8080/"
        },
        "outputId": "fd2c414b-dd66-45c9-fb7a-e5b51bccc6a1"
      },
      "outputs": [
        {
          "output_type": "stream",
          "name": "stdout",
          "text": [
            "  adding: results/ (stored 0%)\n",
            "  adding: results/zs_clip_base/ (stored 0%)\n",
            "  adding: results/zs_clip_base/ori/ (stored 0%)\n",
            "  adding: results/zs_clip_base/ori/clip/ (stored 0%)\n",
            "  adding: results/zs_clip_base/ori/clip/classification_results.txt (deflated 55%)\n",
            "  adding: results/zs_clip_base/ucsd/ (stored 0%)\n",
            "  adding: results/zs_clip_base/ucsd/clip/ (stored 0%)\n",
            "  adding: results/zs_clip_base/ucsd/clip/classification_results.txt (deflated 53%)\n",
            "  adding: results/visualization/ (stored 0%)\n",
            "  adding: results/visualization/zero_shot_finetune/ (stored 0%)\n",
            "  adding: results/visualization/zero_shot_finetune/ori/ (stored 0%)\n",
            "  adding: results/visualization/zero_shot_finetune/ori/clip/ (stored 0%)\n",
            "  adding: results/visualization/zero_shot_finetune/ori/clip/images/ (stored 0%)\n",
            "  adding: results/visualization/zero_shot_finetune/ori/clip/images/cxr_images.png (deflated 2%)\n",
            "  adding: results/visualization/zero_shot_finetune/ori/medclip/ (stored 0%)\n",
            "  adding: results/visualization/zero_shot_finetune/ori/medclip/images/ (stored 0%)\n",
            "  adding: results/visualization/zero_shot_finetune/ori/medclip/images/cxr_images.png (deflated 1%)\n",
            "  adding: results/visualization/zero_shot_finetune/ucsd/ (stored 0%)\n",
            "  adding: results/visualization/zero_shot_finetune/ucsd/clip/ (stored 0%)\n",
            "  adding: results/visualization/zero_shot_finetune/ucsd/clip/images/ (stored 0%)\n",
            "  adding: results/visualization/zero_shot_finetune/ucsd/clip/images/cxr_images.png (deflated 2%)\n",
            "  adding: results/visualization/zero_shot_finetune/ucsd/medclip/ (stored 0%)\n",
            "  adding: results/visualization/zero_shot_finetune/ucsd/medclip/images/ (stored 0%)\n",
            "  adding: results/visualization/zero_shot_finetune/ucsd/medclip/images/cxr_images.png (deflated 1%)\n",
            "  adding: results/visualization/zs_clip_base/ (stored 0%)\n",
            "  adding: results/visualization/zs_clip_base/ori/ (stored 0%)\n",
            "  adding: results/visualization/zs_clip_base/ori/clip/ (stored 0%)\n",
            "  adding: results/visualization/zs_clip_base/ori/clip/images/ (stored 0%)\n",
            "  adding: results/visualization/zs_clip_base/ori/clip/images/cxr_images.png (deflated 2%)\n",
            "  adding: results/visualization/zs_clip_base/ucsd/ (stored 0%)\n",
            "  adding: results/visualization/zs_clip_base/ucsd/clip/ (stored 0%)\n",
            "  adding: results/visualization/zs_clip_base/ucsd/clip/images/ (stored 0%)\n",
            "  adding: results/visualization/zs_clip_base/ucsd/clip/images/cxr_images.png (deflated 2%)\n",
            "  adding: results/visualization/zs_medclip_base/ (stored 0%)\n",
            "  adding: results/visualization/zs_medclip_base/ori/ (stored 0%)\n",
            "  adding: results/visualization/zs_medclip_base/ori/medclip/ (stored 0%)\n",
            "  adding: results/visualization/zs_medclip_base/ori/medclip/images/ (stored 0%)\n",
            "  adding: results/visualization/zs_medclip_base/ori/medclip/images/cxr_images.png (deflated 1%)\n",
            "  adding: results/visualization/zs_medclip_base/ucsd/ (stored 0%)\n",
            "  adding: results/visualization/zs_medclip_base/ucsd/medclip/ (stored 0%)\n",
            "  adding: results/visualization/zs_medclip_base/ucsd/medclip/images/ (stored 0%)\n",
            "  adding: results/visualization/zs_medclip_base/ucsd/medclip/images/cxr_images.png (deflated 1%)\n",
            "  adding: results/visualization/t_pretrained/ (stored 0%)\n",
            "  adding: results/visualization/t_pretrained/ori/ (stored 0%)\n",
            "  adding: results/visualization/t_pretrained/ori/clip/ (stored 0%)\n",
            "  adding: results/visualization/t_pretrained/ori/clip/images/ (stored 0%)\n",
            "  adding: results/visualization/t_pretrained/ori/clip/images/cxr_images.png (deflated 2%)\n",
            "  adding: results/visualization/t_pretrained/ori/medclip/ (stored 0%)\n",
            "  adding: results/visualization/t_pretrained/ori/medclip/images/ (stored 0%)\n",
            "  adding: results/visualization/t_pretrained/ori/medclip/images/cxr_images.png (deflated 1%)\n",
            "  adding: results/visualization/t_pretrained/ucsd/ (stored 0%)\n",
            "  adding: results/visualization/t_pretrained/ucsd/clip/ (stored 0%)\n",
            "  adding: results/visualization/t_pretrained/ucsd/clip/images/ (stored 0%)\n",
            "  adding: results/visualization/t_pretrained/ucsd/clip/images/cxr_images.png (deflated 2%)\n",
            "  adding: results/visualization/t_pretrained/ucsd/medclip/ (stored 0%)\n",
            "  adding: results/visualization/t_pretrained/ucsd/medclip/images/ (stored 0%)\n",
            "  adding: results/visualization/t_pretrained/ucsd/medclip/images/cxr_images.png (deflated 1%)\n",
            "  adding: results/zs_medclip_finetune/ (stored 0%)\n",
            "  adding: results/zs_medclip_finetune/ori/ (stored 0%)\n",
            "  adding: results/zs_medclip_finetune/ori/medclip/ (stored 0%)\n",
            "  adding: results/zs_medclip_finetune/ori/medclip/classification_results.txt (deflated 51%)\n",
            "  adding: results/zs_medclip_finetune/ucsd/ (stored 0%)\n",
            "  adding: results/zs_medclip_finetune/ucsd/medclip/ (stored 0%)\n",
            "  adding: results/zs_medclip_finetune/ucsd/medclip/classification_results.txt (deflated 54%)\n",
            "  adding: results/zs_medclip_base/ (stored 0%)\n",
            "  adding: results/zs_medclip_base/ori/ (stored 0%)\n",
            "  adding: results/zs_medclip_base/ori/medclip/ (stored 0%)\n",
            "  adding: results/zs_medclip_base/ori/medclip/classification_results.txt (deflated 52%)\n",
            "  adding: results/zs_medclip_base/ucsd/ (stored 0%)\n",
            "  adding: results/zs_medclip_base/ucsd/medclip/ (stored 0%)\n",
            "  adding: results/zs_medclip_base/ucsd/medclip/classification_results.txt (deflated 51%)\n",
            "  adding: results/zs_clip_finetune/ (stored 0%)\n",
            "  adding: results/zs_clip_finetune/ori/ (stored 0%)\n",
            "  adding: results/zs_clip_finetune/ori/clip/ (stored 0%)\n",
            "  adding: results/zs_clip_finetune/ori/clip/classification_results.txt (deflated 55%)\n",
            "  adding: results/zs_clip_finetune/ucsd/ (stored 0%)\n",
            "  adding: results/zs_clip_finetune/ucsd/clip/ (stored 0%)\n",
            "  adding: results/zs_clip_finetune/ucsd/clip/classification_results.txt (deflated 54%)\n",
            "  adding: results/t_pretrained/ (stored 0%)\n",
            "  adding: results/t_pretrained/ori/ (stored 0%)\n",
            "  adding: results/t_pretrained/ori/clip/ (stored 0%)\n",
            "  adding: results/t_pretrained/ori/clip/best_model.pth (deflated 8%)\n",
            "  adding: results/t_pretrained/ori/clip/metrics_loss_epoch.png (deflated 6%)\n",
            "  adding: results/t_pretrained/ori/clip/classification_results.txt (deflated 53%)\n",
            "  adding: results/t_pretrained/ori/clip/metrics_recall_epoch.png (deflated 5%)\n",
            "  adding: results/t_pretrained/ori/clip/metrics_accuracy_epoch.png (deflated 6%)\n",
            "  adding: results/t_pretrained/ori/clip/metrics_auc_epoch.png (deflated 3%)\n",
            "  adding: results/t_pretrained/ori/clip/metrics_precision_epoch.png (deflated 5%)\n",
            "  adding: results/t_pretrained/ori/medclip/ (stored 0%)\n",
            "  adding: results/t_pretrained/ori/medclip/best_model.pth (deflated 7%)\n",
            "  adding: results/t_pretrained/ori/medclip/metrics_loss_epoch.png (deflated 8%)\n",
            "  adding: results/t_pretrained/ori/medclip/classification_results.txt (deflated 57%)\n",
            "  adding: results/t_pretrained/ori/medclip/metrics_recall_epoch.png (deflated 7%)\n",
            "  adding: results/t_pretrained/ori/medclip/metrics_accuracy_epoch.png (deflated 7%)\n",
            "  adding: results/t_pretrained/ori/medclip/metrics_auc_epoch.png (deflated 7%)\n",
            "  adding: results/t_pretrained/ori/medclip/metrics_precision_epoch.png (deflated 6%)\n",
            "  adding: results/t_pretrained/ucsd/ (stored 0%)\n",
            "  adding: results/t_pretrained/ucsd/clip/ (stored 0%)\n",
            "  adding: results/t_pretrained/ucsd/clip/best_model.pth (deflated 8%)\n",
            "  adding: results/t_pretrained/ucsd/clip/metrics_loss_epoch.png (deflated 7%)\n",
            "  adding: results/t_pretrained/ucsd/clip/classification_results.txt (deflated 56%)\n",
            "  adding: results/t_pretrained/ucsd/clip/metrics_recall_epoch.png (deflated 6%)\n",
            "  adding: results/t_pretrained/ucsd/clip/metrics_accuracy_epoch.png (deflated 6%)\n",
            "  adding: results/t_pretrained/ucsd/clip/metrics_auc_epoch.png (deflated 5%)\n",
            "  adding: results/t_pretrained/ucsd/clip/metrics_precision_epoch.png (deflated 9%)\n",
            "  adding: results/t_pretrained/ucsd/medclip/ (stored 0%)\n",
            "  adding: results/t_pretrained/ucsd/medclip/best_model.pth (deflated 7%)\n",
            "  adding: results/t_pretrained/ucsd/medclip/metrics_loss_epoch.png (deflated 8%)\n",
            "  adding: results/t_pretrained/ucsd/medclip/classification_results.txt (deflated 56%)\n",
            "  adding: results/t_pretrained/ucsd/medclip/metrics_recall_epoch.png (deflated 9%)\n",
            "  adding: results/t_pretrained/ucsd/medclip/metrics_accuracy_epoch.png (deflated 8%)\n",
            "  adding: results/t_pretrained/ucsd/medclip/metrics_auc_epoch.png (deflated 9%)\n",
            "  adding: results/t_pretrained/ucsd/medclip/metrics_precision_epoch.png (deflated 9%)\n"
          ]
        }
      ],
      "source": [
        "!zip -r results.zip results"
      ]
    },
    {
      "cell_type": "code",
      "execution_count": null,
      "metadata": {
        "id": "sOJO1XZafLl8"
      },
      "outputs": [],
      "source": [
        "# import torch\n",
        "# torch.cuda.empty_cache()\n",
        "# !nvidia-smi"
      ]
    }
  ],
  "metadata": {
    "accelerator": "GPU",
    "colab": {
      "gpuType": "A100",
      "machine_shape": "hm",
      "provenance": []
    },
    "kernelspec": {
      "display_name": "Python 3",
      "name": "python3"
    },
    "language_info": {
      "name": "python"
    },
    "widgets": {
      "application/vnd.jupyter.widget-state+json": {
        "061f92b4f609423e8b796c46e3b0aa42": {
          "model_module": "@jupyter-widgets/controls",
          "model_module_version": "1.5.0",
          "model_name": "DescriptionStyleModel",
          "state": {
            "_model_module": "@jupyter-widgets/controls",
            "_model_module_version": "1.5.0",
            "_model_name": "DescriptionStyleModel",
            "_view_count": null,
            "_view_module": "@jupyter-widgets/base",
            "_view_module_version": "1.2.0",
            "_view_name": "StyleView",
            "description_width": ""
          }
        },
        "082e7f59f374450a9c8a954c0b287e4b": {
          "model_module": "@jupyter-widgets/controls",
          "model_module_version": "1.5.0",
          "model_name": "DescriptionStyleModel",
          "state": {
            "_model_module": "@jupyter-widgets/controls",
            "_model_module_version": "1.5.0",
            "_model_name": "DescriptionStyleModel",
            "_view_count": null,
            "_view_module": "@jupyter-widgets/base",
            "_view_module_version": "1.2.0",
            "_view_name": "StyleView",
            "description_width": ""
          }
        },
        "0da43d6c58054158b62e91a0716c0416": {
          "model_module": "@jupyter-widgets/controls",
          "model_module_version": "1.5.0",
          "model_name": "ProgressStyleModel",
          "state": {
            "_model_module": "@jupyter-widgets/controls",
            "_model_module_version": "1.5.0",
            "_model_name": "ProgressStyleModel",
            "_view_count": null,
            "_view_module": "@jupyter-widgets/base",
            "_view_module_version": "1.2.0",
            "_view_name": "StyleView",
            "bar_color": null,
            "description_width": ""
          }
        },
        "13833c040a3f42dfb4c2b605de722612": {
          "model_module": "@jupyter-widgets/base",
          "model_module_version": "1.2.0",
          "model_name": "LayoutModel",
          "state": {
            "_model_module": "@jupyter-widgets/base",
            "_model_module_version": "1.2.0",
            "_model_name": "LayoutModel",
            "_view_count": null,
            "_view_module": "@jupyter-widgets/base",
            "_view_module_version": "1.2.0",
            "_view_name": "LayoutView",
            "align_content": null,
            "align_items": null,
            "align_self": null,
            "border": null,
            "bottom": null,
            "display": null,
            "flex": null,
            "flex_flow": null,
            "grid_area": null,
            "grid_auto_columns": null,
            "grid_auto_flow": null,
            "grid_auto_rows": null,
            "grid_column": null,
            "grid_gap": null,
            "grid_row": null,
            "grid_template_areas": null,
            "grid_template_columns": null,
            "grid_template_rows": null,
            "height": null,
            "justify_content": null,
            "justify_items": null,
            "left": null,
            "margin": null,
            "max_height": null,
            "max_width": null,
            "min_height": null,
            "min_width": null,
            "object_fit": null,
            "object_position": null,
            "order": null,
            "overflow": null,
            "overflow_x": null,
            "overflow_y": null,
            "padding": null,
            "right": null,
            "top": null,
            "visibility": null,
            "width": null
          }
        },
        "1845cfe130464f648c95458773801fe2": {
          "model_module": "@jupyter-widgets/controls",
          "model_module_version": "1.5.0",
          "model_name": "ProgressStyleModel",
          "state": {
            "_model_module": "@jupyter-widgets/controls",
            "_model_module_version": "1.5.0",
            "_model_name": "ProgressStyleModel",
            "_view_count": null,
            "_view_module": "@jupyter-widgets/base",
            "_view_module_version": "1.2.0",
            "_view_name": "StyleView",
            "bar_color": null,
            "description_width": ""
          }
        },
        "1ab05a5a42ea4399a705d3f1d1f41482": {
          "model_module": "@jupyter-widgets/controls",
          "model_module_version": "1.5.0",
          "model_name": "HBoxModel",
          "state": {
            "_dom_classes": [],
            "_model_module": "@jupyter-widgets/controls",
            "_model_module_version": "1.5.0",
            "_model_name": "HBoxModel",
            "_view_count": null,
            "_view_module": "@jupyter-widgets/controls",
            "_view_module_version": "1.5.0",
            "_view_name": "HBoxView",
            "box_style": "",
            "children": [
              "IPY_MODEL_c707d97cc09b4e309c42468cd90f65c1",
              "IPY_MODEL_88755ad1b9674617a4233a7379aef77e",
              "IPY_MODEL_ec0fc3108a4c4ba997bd75590f21c68d"
            ],
            "layout": "IPY_MODEL_13833c040a3f42dfb4c2b605de722612"
          }
        },
        "1b27f03517234fc1a1e30399903a30b1": {
          "model_module": "@jupyter-widgets/base",
          "model_module_version": "1.2.0",
          "model_name": "LayoutModel",
          "state": {
            "_model_module": "@jupyter-widgets/base",
            "_model_module_version": "1.2.0",
            "_model_name": "LayoutModel",
            "_view_count": null,
            "_view_module": "@jupyter-widgets/base",
            "_view_module_version": "1.2.0",
            "_view_name": "LayoutView",
            "align_content": null,
            "align_items": null,
            "align_self": null,
            "border": null,
            "bottom": null,
            "display": null,
            "flex": null,
            "flex_flow": null,
            "grid_area": null,
            "grid_auto_columns": null,
            "grid_auto_flow": null,
            "grid_auto_rows": null,
            "grid_column": null,
            "grid_gap": null,
            "grid_row": null,
            "grid_template_areas": null,
            "grid_template_columns": null,
            "grid_template_rows": null,
            "height": null,
            "justify_content": null,
            "justify_items": null,
            "left": null,
            "margin": null,
            "max_height": null,
            "max_width": null,
            "min_height": null,
            "min_width": null,
            "object_fit": null,
            "object_position": null,
            "order": null,
            "overflow": null,
            "overflow_x": null,
            "overflow_y": null,
            "padding": null,
            "right": null,
            "top": null,
            "visibility": null,
            "width": null
          }
        },
        "1fe1a65c4e0040a5894b15167d6d8f44": {
          "model_module": "@jupyter-widgets/controls",
          "model_module_version": "1.5.0",
          "model_name": "FloatProgressModel",
          "state": {
            "_dom_classes": [],
            "_model_module": "@jupyter-widgets/controls",
            "_model_module_version": "1.5.0",
            "_model_name": "FloatProgressModel",
            "_view_count": null,
            "_view_module": "@jupyter-widgets/controls",
            "_view_module_version": "1.5.0",
            "_view_name": "ProgressView",
            "bar_style": "success",
            "description": "",
            "description_tooltip": null,
            "layout": "IPY_MODEL_bc7f4472342947c99aa49a3689214efb",
            "max": 385,
            "min": 0,
            "orientation": "horizontal",
            "style": "IPY_MODEL_7efd30f7013f4f2abec30459232a908b",
            "value": 385
          }
        },
        "2527ed93e39c4a22b289d0af4f388eb5": {
          "model_module": "@jupyter-widgets/controls",
          "model_module_version": "1.5.0",
          "model_name": "HTMLModel",
          "state": {
            "_dom_classes": [],
            "_model_module": "@jupyter-widgets/controls",
            "_model_module_version": "1.5.0",
            "_model_name": "HTMLModel",
            "_view_count": null,
            "_view_module": "@jupyter-widgets/controls",
            "_view_module_version": "1.5.0",
            "_view_name": "HTMLView",
            "description": "",
            "description_tooltip": null,
            "layout": "IPY_MODEL_d57a633d9a9e4f48a91140c1b62f8c49",
            "placeholder": "​",
            "style": "IPY_MODEL_082e7f59f374450a9c8a954c0b287e4b",
            "value": "config.json: 100%"
          }
        },
        "306acf906c0b421f9b4e68e857a755e6": {
          "model_module": "@jupyter-widgets/base",
          "model_module_version": "1.2.0",
          "model_name": "LayoutModel",
          "state": {
            "_model_module": "@jupyter-widgets/base",
            "_model_module_version": "1.2.0",
            "_model_name": "LayoutModel",
            "_view_count": null,
            "_view_module": "@jupyter-widgets/base",
            "_view_module_version": "1.2.0",
            "_view_name": "LayoutView",
            "align_content": null,
            "align_items": null,
            "align_self": null,
            "border": null,
            "bottom": null,
            "display": null,
            "flex": null,
            "flex_flow": null,
            "grid_area": null,
            "grid_auto_columns": null,
            "grid_auto_flow": null,
            "grid_auto_rows": null,
            "grid_column": null,
            "grid_gap": null,
            "grid_row": null,
            "grid_template_areas": null,
            "grid_template_columns": null,
            "grid_template_rows": null,
            "height": null,
            "justify_content": null,
            "justify_items": null,
            "left": null,
            "margin": null,
            "max_height": null,
            "max_width": null,
            "min_height": null,
            "min_width": null,
            "object_fit": null,
            "object_position": null,
            "order": null,
            "overflow": null,
            "overflow_x": null,
            "overflow_y": null,
            "padding": null,
            "right": null,
            "top": null,
            "visibility": null,
            "width": null
          }
        },
        "34ba4d01af834ab79fff927a25240f82": {
          "model_module": "@jupyter-widgets/controls",
          "model_module_version": "1.5.0",
          "model_name": "DescriptionStyleModel",
          "state": {
            "_model_module": "@jupyter-widgets/controls",
            "_model_module_version": "1.5.0",
            "_model_name": "DescriptionStyleModel",
            "_view_count": null,
            "_view_module": "@jupyter-widgets/base",
            "_view_module_version": "1.2.0",
            "_view_name": "StyleView",
            "description_width": ""
          }
        },
        "3bd9f6b3064844f9ad800386f922d33a": {
          "model_module": "@jupyter-widgets/controls",
          "model_module_version": "1.5.0",
          "model_name": "DescriptionStyleModel",
          "state": {
            "_model_module": "@jupyter-widgets/controls",
            "_model_module_version": "1.5.0",
            "_model_name": "DescriptionStyleModel",
            "_view_count": null,
            "_view_module": "@jupyter-widgets/base",
            "_view_module_version": "1.2.0",
            "_view_name": "StyleView",
            "description_width": ""
          }
        },
        "3e86a678078c425993cd391f16765798": {
          "model_module": "@jupyter-widgets/controls",
          "model_module_version": "1.5.0",
          "model_name": "FloatProgressModel",
          "state": {
            "_dom_classes": [],
            "_model_module": "@jupyter-widgets/controls",
            "_model_module_version": "1.5.0",
            "_model_name": "FloatProgressModel",
            "_view_count": null,
            "_view_module": "@jupyter-widgets/controls",
            "_view_module_version": "1.5.0",
            "_view_name": "ProgressView",
            "bar_style": "success",
            "description": "",
            "description_tooltip": null,
            "layout": "IPY_MODEL_8ff04a3ade324136941dc2fa8ee6de65",
            "max": 71813,
            "min": 0,
            "orientation": "horizontal",
            "style": "IPY_MODEL_f4e5b7ff23da4d5991d5864143d53c9e",
            "value": 71813
          }
        },
        "43dffed16cd94d978379a7ea9fbce95d": {
          "model_module": "@jupyter-widgets/controls",
          "model_module_version": "1.5.0",
          "model_name": "HTMLModel",
          "state": {
            "_dom_classes": [],
            "_model_module": "@jupyter-widgets/controls",
            "_model_module_version": "1.5.0",
            "_model_name": "HTMLModel",
            "_view_count": null,
            "_view_module": "@jupyter-widgets/controls",
            "_view_module_version": "1.5.0",
            "_view_name": "HTMLView",
            "description": "",
            "description_tooltip": null,
            "layout": "IPY_MODEL_acaf7b65bb184615a93a7f9a275b996b",
            "placeholder": "​",
            "style": "IPY_MODEL_d20e4885299442a78d7b8917faffc37e",
            "value": " 436M/436M [00:01&lt;00:00, 445MB/s]"
          }
        },
        "4add8eb18c4247c2bfb26b42950b45bf": {
          "model_module": "@jupyter-widgets/controls",
          "model_module_version": "1.5.0",
          "model_name": "HBoxModel",
          "state": {
            "_dom_classes": [],
            "_model_module": "@jupyter-widgets/controls",
            "_model_module_version": "1.5.0",
            "_model_name": "HBoxModel",
            "_view_count": null,
            "_view_module": "@jupyter-widgets/controls",
            "_view_module_version": "1.5.0",
            "_view_name": "HBoxView",
            "box_style": "",
            "children": [
              "IPY_MODEL_aee02d1d1e774c98a776730b339c264f",
              "IPY_MODEL_e8b876343d7e47f5ad0e54d29c2ec447",
              "IPY_MODEL_43dffed16cd94d978379a7ea9fbce95d"
            ],
            "layout": "IPY_MODEL_878123ef26f5410cacaf3e4c054a06d0"
          }
        },
        "4bcb7353a1c4416380acfbfc8a90e9b6": {
          "model_module": "@jupyter-widgets/base",
          "model_module_version": "1.2.0",
          "model_name": "LayoutModel",
          "state": {
            "_model_module": "@jupyter-widgets/base",
            "_model_module_version": "1.2.0",
            "_model_name": "LayoutModel",
            "_view_count": null,
            "_view_module": "@jupyter-widgets/base",
            "_view_module_version": "1.2.0",
            "_view_name": "LayoutView",
            "align_content": null,
            "align_items": null,
            "align_self": null,
            "border": null,
            "bottom": null,
            "display": null,
            "flex": null,
            "flex_flow": null,
            "grid_area": null,
            "grid_auto_columns": null,
            "grid_auto_flow": null,
            "grid_auto_rows": null,
            "grid_column": null,
            "grid_gap": null,
            "grid_row": null,
            "grid_template_areas": null,
            "grid_template_columns": null,
            "grid_template_rows": null,
            "height": null,
            "justify_content": null,
            "justify_items": null,
            "left": null,
            "margin": null,
            "max_height": null,
            "max_width": null,
            "min_height": null,
            "min_width": null,
            "object_fit": null,
            "object_position": null,
            "order": null,
            "overflow": null,
            "overflow_x": null,
            "overflow_y": null,
            "padding": null,
            "right": null,
            "top": null,
            "visibility": null,
            "width": null
          }
        },
        "64465df1b66646dcab0b58249f580127": {
          "model_module": "@jupyter-widgets/controls",
          "model_module_version": "1.5.0",
          "model_name": "DescriptionStyleModel",
          "state": {
            "_model_module": "@jupyter-widgets/controls",
            "_model_module_version": "1.5.0",
            "_model_name": "DescriptionStyleModel",
            "_view_count": null,
            "_view_module": "@jupyter-widgets/base",
            "_view_module_version": "1.2.0",
            "_view_name": "StyleView",
            "description_width": ""
          }
        },
        "702ad5d2d6ff4e27a7dae3ade034e381": {
          "model_module": "@jupyter-widgets/base",
          "model_module_version": "1.2.0",
          "model_name": "LayoutModel",
          "state": {
            "_model_module": "@jupyter-widgets/base",
            "_model_module_version": "1.2.0",
            "_model_name": "LayoutModel",
            "_view_count": null,
            "_view_module": "@jupyter-widgets/base",
            "_view_module_version": "1.2.0",
            "_view_name": "LayoutView",
            "align_content": null,
            "align_items": null,
            "align_self": null,
            "border": null,
            "bottom": null,
            "display": null,
            "flex": null,
            "flex_flow": null,
            "grid_area": null,
            "grid_auto_columns": null,
            "grid_auto_flow": null,
            "grid_auto_rows": null,
            "grid_column": null,
            "grid_gap": null,
            "grid_row": null,
            "grid_template_areas": null,
            "grid_template_columns": null,
            "grid_template_rows": null,
            "height": null,
            "justify_content": null,
            "justify_items": null,
            "left": null,
            "margin": null,
            "max_height": null,
            "max_width": null,
            "min_height": null,
            "min_width": null,
            "object_fit": null,
            "object_position": null,
            "order": null,
            "overflow": null,
            "overflow_x": null,
            "overflow_y": null,
            "padding": null,
            "right": null,
            "top": null,
            "visibility": null,
            "width": null
          }
        },
        "79b88959cf174868835f2b4448100ec0": {
          "model_module": "@jupyter-widgets/controls",
          "model_module_version": "1.5.0",
          "model_name": "HTMLModel",
          "state": {
            "_dom_classes": [],
            "_model_module": "@jupyter-widgets/controls",
            "_model_module_version": "1.5.0",
            "_model_name": "HTMLModel",
            "_view_count": null,
            "_view_module": "@jupyter-widgets/controls",
            "_view_module_version": "1.5.0",
            "_view_name": "HTMLView",
            "description": "",
            "description_tooltip": null,
            "layout": "IPY_MODEL_f333da887a1647278c0aab567653250a",
            "placeholder": "​",
            "style": "IPY_MODEL_34ba4d01af834ab79fff927a25240f82",
            "value": " 113M/113M [00:00&lt;00:00, 491MB/s]"
          }
        },
        "79df43b55d974db6aa19babce2b073b5": {
          "model_module": "@jupyter-widgets/controls",
          "model_module_version": "1.5.0",
          "model_name": "DescriptionStyleModel",
          "state": {
            "_model_module": "@jupyter-widgets/controls",
            "_model_module_version": "1.5.0",
            "_model_name": "DescriptionStyleModel",
            "_view_count": null,
            "_view_module": "@jupyter-widgets/base",
            "_view_module_version": "1.2.0",
            "_view_name": "StyleView",
            "description_width": ""
          }
        },
        "7c7f333ffd0347e886d7f48d83a4b8d4": {
          "model_module": "@jupyter-widgets/controls",
          "model_module_version": "1.5.0",
          "model_name": "HBoxModel",
          "state": {
            "_dom_classes": [],
            "_model_module": "@jupyter-widgets/controls",
            "_model_module_version": "1.5.0",
            "_model_name": "HBoxModel",
            "_view_count": null,
            "_view_module": "@jupyter-widgets/controls",
            "_view_module_version": "1.5.0",
            "_view_name": "HBoxView",
            "box_style": "",
            "children": [
              "IPY_MODEL_2527ed93e39c4a22b289d0af4f388eb5",
              "IPY_MODEL_1fe1a65c4e0040a5894b15167d6d8f44",
              "IPY_MODEL_d626b19efac040a78cb47b78af1b8cf6"
            ],
            "layout": "IPY_MODEL_306acf906c0b421f9b4e68e857a755e6"
          }
        },
        "7cac3f75ddf64d76893bbbe0e0441dc6": {
          "model_module": "@jupyter-widgets/base",
          "model_module_version": "1.2.0",
          "model_name": "LayoutModel",
          "state": {
            "_model_module": "@jupyter-widgets/base",
            "_model_module_version": "1.2.0",
            "_model_name": "LayoutModel",
            "_view_count": null,
            "_view_module": "@jupyter-widgets/base",
            "_view_module_version": "1.2.0",
            "_view_name": "LayoutView",
            "align_content": null,
            "align_items": null,
            "align_self": null,
            "border": null,
            "bottom": null,
            "display": null,
            "flex": null,
            "flex_flow": null,
            "grid_area": null,
            "grid_auto_columns": null,
            "grid_auto_flow": null,
            "grid_auto_rows": null,
            "grid_column": null,
            "grid_gap": null,
            "grid_row": null,
            "grid_template_areas": null,
            "grid_template_columns": null,
            "grid_template_rows": null,
            "height": null,
            "justify_content": null,
            "justify_items": null,
            "left": null,
            "margin": null,
            "max_height": null,
            "max_width": null,
            "min_height": null,
            "min_width": null,
            "object_fit": null,
            "object_position": null,
            "order": null,
            "overflow": null,
            "overflow_x": null,
            "overflow_y": null,
            "padding": null,
            "right": null,
            "top": null,
            "visibility": null,
            "width": null
          }
        },
        "7efd30f7013f4f2abec30459232a908b": {
          "model_module": "@jupyter-widgets/controls",
          "model_module_version": "1.5.0",
          "model_name": "ProgressStyleModel",
          "state": {
            "_model_module": "@jupyter-widgets/controls",
            "_model_module_version": "1.5.0",
            "_model_name": "ProgressStyleModel",
            "_view_count": null,
            "_view_module": "@jupyter-widgets/base",
            "_view_module_version": "1.2.0",
            "_view_name": "StyleView",
            "bar_color": null,
            "description_width": ""
          }
        },
        "8044ab2415b94a2488b21e3e39ce0686": {
          "model_module": "@jupyter-widgets/base",
          "model_module_version": "1.2.0",
          "model_name": "LayoutModel",
          "state": {
            "_model_module": "@jupyter-widgets/base",
            "_model_module_version": "1.2.0",
            "_model_name": "LayoutModel",
            "_view_count": null,
            "_view_module": "@jupyter-widgets/base",
            "_view_module_version": "1.2.0",
            "_view_name": "LayoutView",
            "align_content": null,
            "align_items": null,
            "align_self": null,
            "border": null,
            "bottom": null,
            "display": null,
            "flex": null,
            "flex_flow": null,
            "grid_area": null,
            "grid_auto_columns": null,
            "grid_auto_flow": null,
            "grid_auto_rows": null,
            "grid_column": null,
            "grid_gap": null,
            "grid_row": null,
            "grid_template_areas": null,
            "grid_template_columns": null,
            "grid_template_rows": null,
            "height": null,
            "justify_content": null,
            "justify_items": null,
            "left": null,
            "margin": null,
            "max_height": null,
            "max_width": null,
            "min_height": null,
            "min_width": null,
            "object_fit": null,
            "object_position": null,
            "order": null,
            "overflow": null,
            "overflow_x": null,
            "overflow_y": null,
            "padding": null,
            "right": null,
            "top": null,
            "visibility": null,
            "width": null
          }
        },
        "878123ef26f5410cacaf3e4c054a06d0": {
          "model_module": "@jupyter-widgets/base",
          "model_module_version": "1.2.0",
          "model_name": "LayoutModel",
          "state": {
            "_model_module": "@jupyter-widgets/base",
            "_model_module_version": "1.2.0",
            "_model_name": "LayoutModel",
            "_view_count": null,
            "_view_module": "@jupyter-widgets/base",
            "_view_module_version": "1.2.0",
            "_view_name": "LayoutView",
            "align_content": null,
            "align_items": null,
            "align_self": null,
            "border": null,
            "bottom": null,
            "display": null,
            "flex": null,
            "flex_flow": null,
            "grid_area": null,
            "grid_auto_columns": null,
            "grid_auto_flow": null,
            "grid_auto_rows": null,
            "grid_column": null,
            "grid_gap": null,
            "grid_row": null,
            "grid_template_areas": null,
            "grid_template_columns": null,
            "grid_template_rows": null,
            "height": null,
            "justify_content": null,
            "justify_items": null,
            "left": null,
            "margin": null,
            "max_height": null,
            "max_width": null,
            "min_height": null,
            "min_width": null,
            "object_fit": null,
            "object_position": null,
            "order": null,
            "overflow": null,
            "overflow_x": null,
            "overflow_y": null,
            "padding": null,
            "right": null,
            "top": null,
            "visibility": null,
            "width": null
          }
        },
        "88755ad1b9674617a4233a7379aef77e": {
          "model_module": "@jupyter-widgets/controls",
          "model_module_version": "1.5.0",
          "model_name": "FloatProgressModel",
          "state": {
            "_dom_classes": [],
            "_model_module": "@jupyter-widgets/controls",
            "_model_module_version": "1.5.0",
            "_model_name": "FloatProgressModel",
            "_view_count": null,
            "_view_module": "@jupyter-widgets/controls",
            "_view_module_version": "1.5.0",
            "_view_name": "ProgressView",
            "bar_style": "success",
            "description": "",
            "description_tooltip": null,
            "layout": "IPY_MODEL_993e218ee8a24f9cb620e684bf4d18b9",
            "max": 213450,
            "min": 0,
            "orientation": "horizontal",
            "style": "IPY_MODEL_0da43d6c58054158b62e91a0716c0416",
            "value": 213450
          }
        },
        "88972caa0d8943859c856b6109d36025": {
          "model_module": "@jupyter-widgets/base",
          "model_module_version": "1.2.0",
          "model_name": "LayoutModel",
          "state": {
            "_model_module": "@jupyter-widgets/base",
            "_model_module_version": "1.2.0",
            "_model_name": "LayoutModel",
            "_view_count": null,
            "_view_module": "@jupyter-widgets/base",
            "_view_module_version": "1.2.0",
            "_view_name": "LayoutView",
            "align_content": null,
            "align_items": null,
            "align_self": null,
            "border": null,
            "bottom": null,
            "display": null,
            "flex": null,
            "flex_flow": null,
            "grid_area": null,
            "grid_auto_columns": null,
            "grid_auto_flow": null,
            "grid_auto_rows": null,
            "grid_column": null,
            "grid_gap": null,
            "grid_row": null,
            "grid_template_areas": null,
            "grid_template_columns": null,
            "grid_template_rows": null,
            "height": null,
            "justify_content": null,
            "justify_items": null,
            "left": null,
            "margin": null,
            "max_height": null,
            "max_width": null,
            "min_height": null,
            "min_width": null,
            "object_fit": null,
            "object_position": null,
            "order": null,
            "overflow": null,
            "overflow_x": null,
            "overflow_y": null,
            "padding": null,
            "right": null,
            "top": null,
            "visibility": null,
            "width": null
          }
        },
        "89de5283a3914b33b52dd3ca17c9bdda": {
          "model_module": "@jupyter-widgets/controls",
          "model_module_version": "1.5.0",
          "model_name": "HTMLModel",
          "state": {
            "_dom_classes": [],
            "_model_module": "@jupyter-widgets/controls",
            "_model_module_version": "1.5.0",
            "_model_name": "HTMLModel",
            "_view_count": null,
            "_view_module": "@jupyter-widgets/controls",
            "_view_module_version": "1.5.0",
            "_view_name": "HTMLView",
            "description": "",
            "description_tooltip": null,
            "layout": "IPY_MODEL_8044ab2415b94a2488b21e3e39ce0686",
            "placeholder": "​",
            "style": "IPY_MODEL_3bd9f6b3064844f9ad800386f922d33a",
            "value": "model.safetensors: 100%"
          }
        },
        "8bc61778480d4ccf8873ee6a5950083a": {
          "model_module": "@jupyter-widgets/controls",
          "model_module_version": "1.5.0",
          "model_name": "HBoxModel",
          "state": {
            "_dom_classes": [],
            "_model_module": "@jupyter-widgets/controls",
            "_model_module_version": "1.5.0",
            "_model_name": "HBoxModel",
            "_view_count": null,
            "_view_module": "@jupyter-widgets/controls",
            "_view_module_version": "1.5.0",
            "_view_name": "HBoxView",
            "box_style": "",
            "children": [
              "IPY_MODEL_bc5dde57d2444916abdfafd3bcc2011f",
              "IPY_MODEL_3e86a678078c425993cd391f16765798",
              "IPY_MODEL_c6c342cfc29149e597c6ba6643d26212"
            ],
            "layout": "IPY_MODEL_702ad5d2d6ff4e27a7dae3ade034e381"
          }
        },
        "8ff04a3ade324136941dc2fa8ee6de65": {
          "model_module": "@jupyter-widgets/base",
          "model_module_version": "1.2.0",
          "model_name": "LayoutModel",
          "state": {
            "_model_module": "@jupyter-widgets/base",
            "_model_module_version": "1.2.0",
            "_model_name": "LayoutModel",
            "_view_count": null,
            "_view_module": "@jupyter-widgets/base",
            "_view_module_version": "1.2.0",
            "_view_name": "LayoutView",
            "align_content": null,
            "align_items": null,
            "align_self": null,
            "border": null,
            "bottom": null,
            "display": null,
            "flex": null,
            "flex_flow": null,
            "grid_area": null,
            "grid_auto_columns": null,
            "grid_auto_flow": null,
            "grid_auto_rows": null,
            "grid_column": null,
            "grid_gap": null,
            "grid_row": null,
            "grid_template_areas": null,
            "grid_template_columns": null,
            "grid_template_rows": null,
            "height": null,
            "justify_content": null,
            "justify_items": null,
            "left": null,
            "margin": null,
            "max_height": null,
            "max_width": null,
            "min_height": null,
            "min_width": null,
            "object_fit": null,
            "object_position": null,
            "order": null,
            "overflow": null,
            "overflow_x": null,
            "overflow_y": null,
            "padding": null,
            "right": null,
            "top": null,
            "visibility": null,
            "width": null
          }
        },
        "990294096c994fac8eff155c3a5038af": {
          "model_module": "@jupyter-widgets/base",
          "model_module_version": "1.2.0",
          "model_name": "LayoutModel",
          "state": {
            "_model_module": "@jupyter-widgets/base",
            "_model_module_version": "1.2.0",
            "_model_name": "LayoutModel",
            "_view_count": null,
            "_view_module": "@jupyter-widgets/base",
            "_view_module_version": "1.2.0",
            "_view_name": "LayoutView",
            "align_content": null,
            "align_items": null,
            "align_self": null,
            "border": null,
            "bottom": null,
            "display": null,
            "flex": null,
            "flex_flow": null,
            "grid_area": null,
            "grid_auto_columns": null,
            "grid_auto_flow": null,
            "grid_auto_rows": null,
            "grid_column": null,
            "grid_gap": null,
            "grid_row": null,
            "grid_template_areas": null,
            "grid_template_columns": null,
            "grid_template_rows": null,
            "height": null,
            "justify_content": null,
            "justify_items": null,
            "left": null,
            "margin": null,
            "max_height": null,
            "max_width": null,
            "min_height": null,
            "min_width": null,
            "object_fit": null,
            "object_position": null,
            "order": null,
            "overflow": null,
            "overflow_x": null,
            "overflow_y": null,
            "padding": null,
            "right": null,
            "top": null,
            "visibility": null,
            "width": null
          }
        },
        "993e218ee8a24f9cb620e684bf4d18b9": {
          "model_module": "@jupyter-widgets/base",
          "model_module_version": "1.2.0",
          "model_name": "LayoutModel",
          "state": {
            "_model_module": "@jupyter-widgets/base",
            "_model_module_version": "1.2.0",
            "_model_name": "LayoutModel",
            "_view_count": null,
            "_view_module": "@jupyter-widgets/base",
            "_view_module_version": "1.2.0",
            "_view_name": "LayoutView",
            "align_content": null,
            "align_items": null,
            "align_self": null,
            "border": null,
            "bottom": null,
            "display": null,
            "flex": null,
            "flex_flow": null,
            "grid_area": null,
            "grid_auto_columns": null,
            "grid_auto_flow": null,
            "grid_auto_rows": null,
            "grid_column": null,
            "grid_gap": null,
            "grid_row": null,
            "grid_template_areas": null,
            "grid_template_columns": null,
            "grid_template_rows": null,
            "height": null,
            "justify_content": null,
            "justify_items": null,
            "left": null,
            "margin": null,
            "max_height": null,
            "max_width": null,
            "min_height": null,
            "min_width": null,
            "object_fit": null,
            "object_position": null,
            "order": null,
            "overflow": null,
            "overflow_x": null,
            "overflow_y": null,
            "padding": null,
            "right": null,
            "top": null,
            "visibility": null,
            "width": null
          }
        },
        "a193a5a18a5447b1b52af1a273d8c023": {
          "model_module": "@jupyter-widgets/controls",
          "model_module_version": "1.5.0",
          "model_name": "HBoxModel",
          "state": {
            "_dom_classes": [],
            "_model_module": "@jupyter-widgets/controls",
            "_model_module_version": "1.5.0",
            "_model_name": "HBoxModel",
            "_view_count": null,
            "_view_module": "@jupyter-widgets/controls",
            "_view_module_version": "1.5.0",
            "_view_name": "HBoxView",
            "box_style": "",
            "children": [
              "IPY_MODEL_89de5283a3914b33b52dd3ca17c9bdda",
              "IPY_MODEL_d0ad6fd0e33b4af58447849da69ebdf8",
              "IPY_MODEL_79b88959cf174868835f2b4448100ec0"
            ],
            "layout": "IPY_MODEL_990294096c994fac8eff155c3a5038af"
          }
        },
        "a479e6b9a93241fb85e35d87043d08da": {
          "model_module": "@jupyter-widgets/controls",
          "model_module_version": "1.5.0",
          "model_name": "DescriptionStyleModel",
          "state": {
            "_model_module": "@jupyter-widgets/controls",
            "_model_module_version": "1.5.0",
            "_model_name": "DescriptionStyleModel",
            "_view_count": null,
            "_view_module": "@jupyter-widgets/base",
            "_view_module_version": "1.2.0",
            "_view_name": "StyleView",
            "description_width": ""
          }
        },
        "a622872e1d564ee48e2ee84e65d79c68": {
          "model_module": "@jupyter-widgets/controls",
          "model_module_version": "1.5.0",
          "model_name": "DescriptionStyleModel",
          "state": {
            "_model_module": "@jupyter-widgets/controls",
            "_model_module_version": "1.5.0",
            "_model_name": "DescriptionStyleModel",
            "_view_count": null,
            "_view_module": "@jupyter-widgets/base",
            "_view_module_version": "1.2.0",
            "_view_name": "StyleView",
            "description_width": ""
          }
        },
        "a65ecd2dac71428f943049f9e04e070f": {
          "model_module": "@jupyter-widgets/controls",
          "model_module_version": "1.5.0",
          "model_name": "ProgressStyleModel",
          "state": {
            "_model_module": "@jupyter-widgets/controls",
            "_model_module_version": "1.5.0",
            "_model_name": "ProgressStyleModel",
            "_view_count": null,
            "_view_module": "@jupyter-widgets/base",
            "_view_module_version": "1.2.0",
            "_view_name": "StyleView",
            "bar_color": null,
            "description_width": ""
          }
        },
        "acaf7b65bb184615a93a7f9a275b996b": {
          "model_module": "@jupyter-widgets/base",
          "model_module_version": "1.2.0",
          "model_name": "LayoutModel",
          "state": {
            "_model_module": "@jupyter-widgets/base",
            "_model_module_version": "1.2.0",
            "_model_name": "LayoutModel",
            "_view_count": null,
            "_view_module": "@jupyter-widgets/base",
            "_view_module_version": "1.2.0",
            "_view_name": "LayoutView",
            "align_content": null,
            "align_items": null,
            "align_self": null,
            "border": null,
            "bottom": null,
            "display": null,
            "flex": null,
            "flex_flow": null,
            "grid_area": null,
            "grid_auto_columns": null,
            "grid_auto_flow": null,
            "grid_auto_rows": null,
            "grid_column": null,
            "grid_gap": null,
            "grid_row": null,
            "grid_template_areas": null,
            "grid_template_columns": null,
            "grid_template_rows": null,
            "height": null,
            "justify_content": null,
            "justify_items": null,
            "left": null,
            "margin": null,
            "max_height": null,
            "max_width": null,
            "min_height": null,
            "min_width": null,
            "object_fit": null,
            "object_position": null,
            "order": null,
            "overflow": null,
            "overflow_x": null,
            "overflow_y": null,
            "padding": null,
            "right": null,
            "top": null,
            "visibility": null,
            "width": null
          }
        },
        "aee02d1d1e774c98a776730b339c264f": {
          "model_module": "@jupyter-widgets/controls",
          "model_module_version": "1.5.0",
          "model_name": "HTMLModel",
          "state": {
            "_dom_classes": [],
            "_model_module": "@jupyter-widgets/controls",
            "_model_module_version": "1.5.0",
            "_model_name": "HTMLModel",
            "_view_count": null,
            "_view_module": "@jupyter-widgets/controls",
            "_view_module_version": "1.5.0",
            "_view_name": "HTMLView",
            "description": "",
            "description_tooltip": null,
            "layout": "IPY_MODEL_ff7a29d6ab5442fca023cc328f501425",
            "placeholder": "​",
            "style": "IPY_MODEL_64465df1b66646dcab0b58249f580127",
            "value": "pytorch_model.bin: 100%"
          }
        },
        "bc5dde57d2444916abdfafd3bcc2011f": {
          "model_module": "@jupyter-widgets/controls",
          "model_module_version": "1.5.0",
          "model_name": "HTMLModel",
          "state": {
            "_dom_classes": [],
            "_model_module": "@jupyter-widgets/controls",
            "_model_module_version": "1.5.0",
            "_model_name": "HTMLModel",
            "_view_count": null,
            "_view_module": "@jupyter-widgets/controls",
            "_view_module_version": "1.5.0",
            "_view_name": "HTMLView",
            "description": "",
            "description_tooltip": null,
            "layout": "IPY_MODEL_1b27f03517234fc1a1e30399903a30b1",
            "placeholder": "​",
            "style": "IPY_MODEL_d72028f83a8c4d5fa084dc05deb17e4a",
            "value": "config.json: 100%"
          }
        },
        "bc7f4472342947c99aa49a3689214efb": {
          "model_module": "@jupyter-widgets/base",
          "model_module_version": "1.2.0",
          "model_name": "LayoutModel",
          "state": {
            "_model_module": "@jupyter-widgets/base",
            "_model_module_version": "1.2.0",
            "_model_name": "LayoutModel",
            "_view_count": null,
            "_view_module": "@jupyter-widgets/base",
            "_view_module_version": "1.2.0",
            "_view_name": "LayoutView",
            "align_content": null,
            "align_items": null,
            "align_self": null,
            "border": null,
            "bottom": null,
            "display": null,
            "flex": null,
            "flex_flow": null,
            "grid_area": null,
            "grid_auto_columns": null,
            "grid_auto_flow": null,
            "grid_auto_rows": null,
            "grid_column": null,
            "grid_gap": null,
            "grid_row": null,
            "grid_template_areas": null,
            "grid_template_columns": null,
            "grid_template_rows": null,
            "height": null,
            "justify_content": null,
            "justify_items": null,
            "left": null,
            "margin": null,
            "max_height": null,
            "max_width": null,
            "min_height": null,
            "min_width": null,
            "object_fit": null,
            "object_position": null,
            "order": null,
            "overflow": null,
            "overflow_x": null,
            "overflow_y": null,
            "padding": null,
            "right": null,
            "top": null,
            "visibility": null,
            "width": null
          }
        },
        "c6c342cfc29149e597c6ba6643d26212": {
          "model_module": "@jupyter-widgets/controls",
          "model_module_version": "1.5.0",
          "model_name": "HTMLModel",
          "state": {
            "_dom_classes": [],
            "_model_module": "@jupyter-widgets/controls",
            "_model_module_version": "1.5.0",
            "_model_name": "HTMLModel",
            "_view_count": null,
            "_view_module": "@jupyter-widgets/controls",
            "_view_module_version": "1.5.0",
            "_view_name": "HTMLView",
            "description": "",
            "description_tooltip": null,
            "layout": "IPY_MODEL_d138fea02eb84b65bfad1286e7971a6f",
            "placeholder": "​",
            "style": "IPY_MODEL_a622872e1d564ee48e2ee84e65d79c68",
            "value": " 71.8k/71.8k [00:00&lt;00:00, 137kB/s]"
          }
        },
        "c707d97cc09b4e309c42468cd90f65c1": {
          "model_module": "@jupyter-widgets/controls",
          "model_module_version": "1.5.0",
          "model_name": "HTMLModel",
          "state": {
            "_dom_classes": [],
            "_model_module": "@jupyter-widgets/controls",
            "_model_module_version": "1.5.0",
            "_model_name": "HTMLModel",
            "_view_count": null,
            "_view_module": "@jupyter-widgets/controls",
            "_view_module_version": "1.5.0",
            "_view_name": "HTMLView",
            "description": "",
            "description_tooltip": null,
            "layout": "IPY_MODEL_e39ce7736f624ebbb902c5ba5ccc5d2f",
            "placeholder": "​",
            "style": "IPY_MODEL_a479e6b9a93241fb85e35d87043d08da",
            "value": "vocab.txt: 100%"
          }
        },
        "d0ad6fd0e33b4af58447849da69ebdf8": {
          "model_module": "@jupyter-widgets/controls",
          "model_module_version": "1.5.0",
          "model_name": "FloatProgressModel",
          "state": {
            "_dom_classes": [],
            "_model_module": "@jupyter-widgets/controls",
            "_model_module_version": "1.5.0",
            "_model_name": "FloatProgressModel",
            "_view_count": null,
            "_view_module": "@jupyter-widgets/controls",
            "_view_module_version": "1.5.0",
            "_view_name": "ProgressView",
            "bar_style": "success",
            "description": "",
            "description_tooltip": null,
            "layout": "IPY_MODEL_ec542560a6c648e988971b14d91a5445",
            "max": 113412768,
            "min": 0,
            "orientation": "horizontal",
            "style": "IPY_MODEL_1845cfe130464f648c95458773801fe2",
            "value": 113412768
          }
        },
        "d138fea02eb84b65bfad1286e7971a6f": {
          "model_module": "@jupyter-widgets/base",
          "model_module_version": "1.2.0",
          "model_name": "LayoutModel",
          "state": {
            "_model_module": "@jupyter-widgets/base",
            "_model_module_version": "1.2.0",
            "_model_name": "LayoutModel",
            "_view_count": null,
            "_view_module": "@jupyter-widgets/base",
            "_view_module_version": "1.2.0",
            "_view_name": "LayoutView",
            "align_content": null,
            "align_items": null,
            "align_self": null,
            "border": null,
            "bottom": null,
            "display": null,
            "flex": null,
            "flex_flow": null,
            "grid_area": null,
            "grid_auto_columns": null,
            "grid_auto_flow": null,
            "grid_auto_rows": null,
            "grid_column": null,
            "grid_gap": null,
            "grid_row": null,
            "grid_template_areas": null,
            "grid_template_columns": null,
            "grid_template_rows": null,
            "height": null,
            "justify_content": null,
            "justify_items": null,
            "left": null,
            "margin": null,
            "max_height": null,
            "max_width": null,
            "min_height": null,
            "min_width": null,
            "object_fit": null,
            "object_position": null,
            "order": null,
            "overflow": null,
            "overflow_x": null,
            "overflow_y": null,
            "padding": null,
            "right": null,
            "top": null,
            "visibility": null,
            "width": null
          }
        },
        "d20e4885299442a78d7b8917faffc37e": {
          "model_module": "@jupyter-widgets/controls",
          "model_module_version": "1.5.0",
          "model_name": "DescriptionStyleModel",
          "state": {
            "_model_module": "@jupyter-widgets/controls",
            "_model_module_version": "1.5.0",
            "_model_name": "DescriptionStyleModel",
            "_view_count": null,
            "_view_module": "@jupyter-widgets/base",
            "_view_module_version": "1.2.0",
            "_view_name": "StyleView",
            "description_width": ""
          }
        },
        "d57a633d9a9e4f48a91140c1b62f8c49": {
          "model_module": "@jupyter-widgets/base",
          "model_module_version": "1.2.0",
          "model_name": "LayoutModel",
          "state": {
            "_model_module": "@jupyter-widgets/base",
            "_model_module_version": "1.2.0",
            "_model_name": "LayoutModel",
            "_view_count": null,
            "_view_module": "@jupyter-widgets/base",
            "_view_module_version": "1.2.0",
            "_view_name": "LayoutView",
            "align_content": null,
            "align_items": null,
            "align_self": null,
            "border": null,
            "bottom": null,
            "display": null,
            "flex": null,
            "flex_flow": null,
            "grid_area": null,
            "grid_auto_columns": null,
            "grid_auto_flow": null,
            "grid_auto_rows": null,
            "grid_column": null,
            "grid_gap": null,
            "grid_row": null,
            "grid_template_areas": null,
            "grid_template_columns": null,
            "grid_template_rows": null,
            "height": null,
            "justify_content": null,
            "justify_items": null,
            "left": null,
            "margin": null,
            "max_height": null,
            "max_width": null,
            "min_height": null,
            "min_width": null,
            "object_fit": null,
            "object_position": null,
            "order": null,
            "overflow": null,
            "overflow_x": null,
            "overflow_y": null,
            "padding": null,
            "right": null,
            "top": null,
            "visibility": null,
            "width": null
          }
        },
        "d626b19efac040a78cb47b78af1b8cf6": {
          "model_module": "@jupyter-widgets/controls",
          "model_module_version": "1.5.0",
          "model_name": "HTMLModel",
          "state": {
            "_dom_classes": [],
            "_model_module": "@jupyter-widgets/controls",
            "_model_module_version": "1.5.0",
            "_model_name": "HTMLModel",
            "_view_count": null,
            "_view_module": "@jupyter-widgets/controls",
            "_view_module_version": "1.5.0",
            "_view_name": "HTMLView",
            "description": "",
            "description_tooltip": null,
            "layout": "IPY_MODEL_88972caa0d8943859c856b6109d36025",
            "placeholder": "​",
            "style": "IPY_MODEL_79df43b55d974db6aa19babce2b073b5",
            "value": " 385/385 [00:00&lt;00:00, 2.93kB/s]"
          }
        },
        "d72028f83a8c4d5fa084dc05deb17e4a": {
          "model_module": "@jupyter-widgets/controls",
          "model_module_version": "1.5.0",
          "model_name": "DescriptionStyleModel",
          "state": {
            "_model_module": "@jupyter-widgets/controls",
            "_model_module_version": "1.5.0",
            "_model_name": "DescriptionStyleModel",
            "_view_count": null,
            "_view_module": "@jupyter-widgets/base",
            "_view_module_version": "1.2.0",
            "_view_name": "StyleView",
            "description_width": ""
          }
        },
        "e39ce7736f624ebbb902c5ba5ccc5d2f": {
          "model_module": "@jupyter-widgets/base",
          "model_module_version": "1.2.0",
          "model_name": "LayoutModel",
          "state": {
            "_model_module": "@jupyter-widgets/base",
            "_model_module_version": "1.2.0",
            "_model_name": "LayoutModel",
            "_view_count": null,
            "_view_module": "@jupyter-widgets/base",
            "_view_module_version": "1.2.0",
            "_view_name": "LayoutView",
            "align_content": null,
            "align_items": null,
            "align_self": null,
            "border": null,
            "bottom": null,
            "display": null,
            "flex": null,
            "flex_flow": null,
            "grid_area": null,
            "grid_auto_columns": null,
            "grid_auto_flow": null,
            "grid_auto_rows": null,
            "grid_column": null,
            "grid_gap": null,
            "grid_row": null,
            "grid_template_areas": null,
            "grid_template_columns": null,
            "grid_template_rows": null,
            "height": null,
            "justify_content": null,
            "justify_items": null,
            "left": null,
            "margin": null,
            "max_height": null,
            "max_width": null,
            "min_height": null,
            "min_width": null,
            "object_fit": null,
            "object_position": null,
            "order": null,
            "overflow": null,
            "overflow_x": null,
            "overflow_y": null,
            "padding": null,
            "right": null,
            "top": null,
            "visibility": null,
            "width": null
          }
        },
        "e8b876343d7e47f5ad0e54d29c2ec447": {
          "model_module": "@jupyter-widgets/controls",
          "model_module_version": "1.5.0",
          "model_name": "FloatProgressModel",
          "state": {
            "_dom_classes": [],
            "_model_module": "@jupyter-widgets/controls",
            "_model_module_version": "1.5.0",
            "_model_name": "FloatProgressModel",
            "_view_count": null,
            "_view_module": "@jupyter-widgets/controls",
            "_view_module_version": "1.5.0",
            "_view_name": "ProgressView",
            "bar_style": "success",
            "description": "",
            "description_tooltip": null,
            "layout": "IPY_MODEL_4bcb7353a1c4416380acfbfc8a90e9b6",
            "max": 435778770,
            "min": 0,
            "orientation": "horizontal",
            "style": "IPY_MODEL_a65ecd2dac71428f943049f9e04e070f",
            "value": 435778770
          }
        },
        "ec0fc3108a4c4ba997bd75590f21c68d": {
          "model_module": "@jupyter-widgets/controls",
          "model_module_version": "1.5.0",
          "model_name": "HTMLModel",
          "state": {
            "_dom_classes": [],
            "_model_module": "@jupyter-widgets/controls",
            "_model_module_version": "1.5.0",
            "_model_name": "HTMLModel",
            "_view_count": null,
            "_view_module": "@jupyter-widgets/controls",
            "_view_module_version": "1.5.0",
            "_view_name": "HTMLView",
            "description": "",
            "description_tooltip": null,
            "layout": "IPY_MODEL_7cac3f75ddf64d76893bbbe0e0441dc6",
            "placeholder": "​",
            "style": "IPY_MODEL_061f92b4f609423e8b796c46e3b0aa42",
            "value": " 213k/213k [00:00&lt;00:00, 12.4MB/s]"
          }
        },
        "ec542560a6c648e988971b14d91a5445": {
          "model_module": "@jupyter-widgets/base",
          "model_module_version": "1.2.0",
          "model_name": "LayoutModel",
          "state": {
            "_model_module": "@jupyter-widgets/base",
            "_model_module_version": "1.2.0",
            "_model_name": "LayoutModel",
            "_view_count": null,
            "_view_module": "@jupyter-widgets/base",
            "_view_module_version": "1.2.0",
            "_view_name": "LayoutView",
            "align_content": null,
            "align_items": null,
            "align_self": null,
            "border": null,
            "bottom": null,
            "display": null,
            "flex": null,
            "flex_flow": null,
            "grid_area": null,
            "grid_auto_columns": null,
            "grid_auto_flow": null,
            "grid_auto_rows": null,
            "grid_column": null,
            "grid_gap": null,
            "grid_row": null,
            "grid_template_areas": null,
            "grid_template_columns": null,
            "grid_template_rows": null,
            "height": null,
            "justify_content": null,
            "justify_items": null,
            "left": null,
            "margin": null,
            "max_height": null,
            "max_width": null,
            "min_height": null,
            "min_width": null,
            "object_fit": null,
            "object_position": null,
            "order": null,
            "overflow": null,
            "overflow_x": null,
            "overflow_y": null,
            "padding": null,
            "right": null,
            "top": null,
            "visibility": null,
            "width": null
          }
        },
        "f333da887a1647278c0aab567653250a": {
          "model_module": "@jupyter-widgets/base",
          "model_module_version": "1.2.0",
          "model_name": "LayoutModel",
          "state": {
            "_model_module": "@jupyter-widgets/base",
            "_model_module_version": "1.2.0",
            "_model_name": "LayoutModel",
            "_view_count": null,
            "_view_module": "@jupyter-widgets/base",
            "_view_module_version": "1.2.0",
            "_view_name": "LayoutView",
            "align_content": null,
            "align_items": null,
            "align_self": null,
            "border": null,
            "bottom": null,
            "display": null,
            "flex": null,
            "flex_flow": null,
            "grid_area": null,
            "grid_auto_columns": null,
            "grid_auto_flow": null,
            "grid_auto_rows": null,
            "grid_column": null,
            "grid_gap": null,
            "grid_row": null,
            "grid_template_areas": null,
            "grid_template_columns": null,
            "grid_template_rows": null,
            "height": null,
            "justify_content": null,
            "justify_items": null,
            "left": null,
            "margin": null,
            "max_height": null,
            "max_width": null,
            "min_height": null,
            "min_width": null,
            "object_fit": null,
            "object_position": null,
            "order": null,
            "overflow": null,
            "overflow_x": null,
            "overflow_y": null,
            "padding": null,
            "right": null,
            "top": null,
            "visibility": null,
            "width": null
          }
        },
        "f4e5b7ff23da4d5991d5864143d53c9e": {
          "model_module": "@jupyter-widgets/controls",
          "model_module_version": "1.5.0",
          "model_name": "ProgressStyleModel",
          "state": {
            "_model_module": "@jupyter-widgets/controls",
            "_model_module_version": "1.5.0",
            "_model_name": "ProgressStyleModel",
            "_view_count": null,
            "_view_module": "@jupyter-widgets/base",
            "_view_module_version": "1.2.0",
            "_view_name": "StyleView",
            "bar_color": null,
            "description_width": ""
          }
        },
        "ff7a29d6ab5442fca023cc328f501425": {
          "model_module": "@jupyter-widgets/base",
          "model_module_version": "1.2.0",
          "model_name": "LayoutModel",
          "state": {
            "_model_module": "@jupyter-widgets/base",
            "_model_module_version": "1.2.0",
            "_model_name": "LayoutModel",
            "_view_count": null,
            "_view_module": "@jupyter-widgets/base",
            "_view_module_version": "1.2.0",
            "_view_name": "LayoutView",
            "align_content": null,
            "align_items": null,
            "align_self": null,
            "border": null,
            "bottom": null,
            "display": null,
            "flex": null,
            "flex_flow": null,
            "grid_area": null,
            "grid_auto_columns": null,
            "grid_auto_flow": null,
            "grid_auto_rows": null,
            "grid_column": null,
            "grid_gap": null,
            "grid_row": null,
            "grid_template_areas": null,
            "grid_template_columns": null,
            "grid_template_rows": null,
            "height": null,
            "justify_content": null,
            "justify_items": null,
            "left": null,
            "margin": null,
            "max_height": null,
            "max_width": null,
            "min_height": null,
            "min_width": null,
            "object_fit": null,
            "object_position": null,
            "order": null,
            "overflow": null,
            "overflow_x": null,
            "overflow_y": null,
            "padding": null,
            "right": null,
            "top": null,
            "visibility": null,
            "width": null
          }
        }
      }
    }
  },
  "nbformat": 4,
  "nbformat_minor": 0
}