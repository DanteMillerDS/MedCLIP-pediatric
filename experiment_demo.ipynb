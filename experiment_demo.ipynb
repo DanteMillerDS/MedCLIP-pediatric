{
  "cells": [
    {
      "cell_type": "code",
      "execution_count": null,
      "metadata": {
        "colab": {
          "base_uri": "https://localhost:8080/"
        },
        "id": "NyK5zRwvHIK6",
        "outputId": "2b3db613-7af9-4900-ec74-5c220517bf70"
      },
      "outputs": [
        {
          "output_type": "stream",
          "name": "stdout",
          "text": [
            "Cloning into 'MedCLIP-pediatric'...\n",
            "remote: Enumerating objects: 557, done.\u001b[K\n",
            "remote: Counting objects: 100% (284/284), done.\u001b[K\n",
            "remote: Compressing objects: 100% (189/189), done.\u001b[K\n",
            "remote: Total 557 (delta 121), reused 229 (delta 68), pack-reused 273\u001b[K\n",
            "Receiving objects: 100% (557/557), 2.67 MiB | 5.19 MiB/s, done.\n",
            "Resolving deltas: 100% (283/283), done.\n"
          ]
        }
      ],
      "source": [
        "!git clone https://github.com/DanteMillerDS/MedCLIP-pediatric.git"
      ]
    },
    {
      "cell_type": "code",
      "execution_count": null,
      "metadata": {
        "colab": {
          "base_uri": "https://localhost:8080/"
        },
        "id": "OV264rRAK4wZ",
        "outputId": "8c6be2ed-89ff-4831-9083-5130fc7ee2a4"
      },
      "outputs": [
        {
          "output_type": "stream",
          "name": "stdout",
          "text": [
            "Collecting git+https://github.com/openai/CLIP.git (from -r MedCLIP-pediatric/requirements.txt (line 4))\n",
            "  Cloning https://github.com/openai/CLIP.git to /tmp/pip-req-build-lmw3vetg\n",
            "  Running command git clone --filter=blob:none --quiet https://github.com/openai/CLIP.git /tmp/pip-req-build-lmw3vetg\n",
            "  Resolved https://github.com/openai/CLIP.git to commit a1d071733d7111c9c014f024669f959182114e33\n",
            "  Preparing metadata (setup.py) ... \u001b[?25l\u001b[?25hdone\n",
            "Collecting git+https://github.com/RyanWangZf/MedCLIP.git (from -r MedCLIP-pediatric/requirements.txt (line 5))\n",
            "  Cloning https://github.com/RyanWangZf/MedCLIP.git to /tmp/pip-req-build-0s8kd4le\n",
            "  Running command git clone --filter=blob:none --quiet https://github.com/RyanWangZf/MedCLIP.git /tmp/pip-req-build-0s8kd4le\n",
            "  Resolved https://github.com/RyanWangZf/MedCLIP.git to commit 9c3396f20d5d54e4fae241b8cb06ca45848e98c9\n",
            "  Preparing metadata (setup.py) ... \u001b[?25l\u001b[?25hdone\n",
            "Collecting ftfy (from -r MedCLIP-pediatric/requirements.txt (line 1))\n",
            "  Downloading ftfy-6.2.0-py3-none-any.whl (54 kB)\n",
            "\u001b[2K     \u001b[90m━━━━━━━━━━━━━━━━━━━━━━━━━━━━━━━━━━━━━━━━\u001b[0m \u001b[32m54.4/54.4 kB\u001b[0m \u001b[31m1.9 MB/s\u001b[0m eta \u001b[36m0:00:00\u001b[0m\n",
            "\u001b[?25hRequirement already satisfied: regex in /usr/local/lib/python3.10/dist-packages (from -r MedCLIP-pediatric/requirements.txt (line 2)) (2023.12.25)\n",
            "Requirement already satisfied: tqdm in /usr/local/lib/python3.10/dist-packages (from -r MedCLIP-pediatric/requirements.txt (line 3)) (4.66.2)\n",
            "Requirement already satisfied: wcwidth<0.3.0,>=0.2.12 in /usr/local/lib/python3.10/dist-packages (from ftfy->-r MedCLIP-pediatric/requirements.txt (line 1)) (0.2.13)\n",
            "Requirement already satisfied: torch in /usr/local/lib/python3.10/dist-packages (from clip==1.0->-r MedCLIP-pediatric/requirements.txt (line 4)) (2.2.1+cu121)\n",
            "Requirement already satisfied: torchvision in /usr/local/lib/python3.10/dist-packages (from clip==1.0->-r MedCLIP-pediatric/requirements.txt (line 4)) (0.17.1+cu121)\n",
            "Requirement already satisfied: numpy in /usr/local/lib/python3.10/dist-packages (from MedCLIP==0.0.3->-r MedCLIP-pediatric/requirements.txt (line 5)) (1.25.2)\n",
            "Requirement already satisfied: pandas in /usr/local/lib/python3.10/dist-packages (from MedCLIP==0.0.3->-r MedCLIP-pediatric/requirements.txt (line 5)) (2.0.3)\n",
            "Requirement already satisfied: Pillow in /usr/local/lib/python3.10/dist-packages (from MedCLIP==0.0.3->-r MedCLIP-pediatric/requirements.txt (line 5)) (9.4.0)\n",
            "Requirement already satisfied: requests in /usr/local/lib/python3.10/dist-packages (from MedCLIP==0.0.3->-r MedCLIP-pediatric/requirements.txt (line 5)) (2.31.0)\n",
            "Collecting wget (from MedCLIP==0.0.3->-r MedCLIP-pediatric/requirements.txt (line 5))\n",
            "  Downloading wget-3.2.zip (10 kB)\n",
            "  Preparing metadata (setup.py) ... \u001b[?25l\u001b[?25hdone\n",
            "Requirement already satisfied: nltk>=3.7 in /usr/local/lib/python3.10/dist-packages (from MedCLIP==0.0.3->-r MedCLIP-pediatric/requirements.txt (line 5)) (3.8.1)\n",
            "Requirement already satisfied: scikit_learn>=1.1.2 in /usr/local/lib/python3.10/dist-packages (from MedCLIP==0.0.3->-r MedCLIP-pediatric/requirements.txt (line 5)) (1.2.2)\n",
            "Collecting textaugment>=1.3.4 (from MedCLIP==0.0.3->-r MedCLIP-pediatric/requirements.txt (line 5))\n",
            "  Downloading textaugment-2.0.0-py3-none-any.whl (19 kB)\n",
            "Collecting timm>=0.6.11 (from MedCLIP==0.0.3->-r MedCLIP-pediatric/requirements.txt (line 5))\n",
            "  Downloading timm-0.9.16-py3-none-any.whl (2.2 MB)\n",
            "\u001b[2K     \u001b[90m━━━━━━━━━━━━━━━━━━━━━━━━━━━━━━━━━━━━━━━━\u001b[0m \u001b[32m2.2/2.2 MB\u001b[0m \u001b[31m59.2 MB/s\u001b[0m eta \u001b[36m0:00:00\u001b[0m\n",
            "\u001b[?25hCollecting transformers<=4.24.0,>=4.23.1 (from MedCLIP==0.0.3->-r MedCLIP-pediatric/requirements.txt (line 5))\n",
            "  Downloading transformers-4.24.0-py3-none-any.whl (5.5 MB)\n",
            "\u001b[2K     \u001b[90m━━━━━━━━━━━━━━━━━━━━━━━━━━━━━━━━━━━━━━━━\u001b[0m \u001b[32m5.5/5.5 MB\u001b[0m \u001b[31m63.6 MB/s\u001b[0m eta \u001b[36m0:00:00\u001b[0m\n",
            "\u001b[?25hRequirement already satisfied: click in /usr/local/lib/python3.10/dist-packages (from nltk>=3.7->MedCLIP==0.0.3->-r MedCLIP-pediatric/requirements.txt (line 5)) (8.1.7)\n",
            "Requirement already satisfied: joblib in /usr/local/lib/python3.10/dist-packages (from nltk>=3.7->MedCLIP==0.0.3->-r MedCLIP-pediatric/requirements.txt (line 5)) (1.4.0)\n",
            "Requirement already satisfied: scipy>=1.3.2 in /usr/local/lib/python3.10/dist-packages (from scikit_learn>=1.1.2->MedCLIP==0.0.3->-r MedCLIP-pediatric/requirements.txt (line 5)) (1.11.4)\n",
            "Requirement already satisfied: threadpoolctl>=2.0.0 in /usr/local/lib/python3.10/dist-packages (from scikit_learn>=1.1.2->MedCLIP==0.0.3->-r MedCLIP-pediatric/requirements.txt (line 5)) (3.4.0)\n",
            "Requirement already satisfied: gensim>=4.0 in /usr/local/lib/python3.10/dist-packages (from textaugment>=1.3.4->MedCLIP==0.0.3->-r MedCLIP-pediatric/requirements.txt (line 5)) (4.3.2)\n",
            "Requirement already satisfied: textblob in /usr/local/lib/python3.10/dist-packages (from textaugment>=1.3.4->MedCLIP==0.0.3->-r MedCLIP-pediatric/requirements.txt (line 5)) (0.17.1)\n",
            "Collecting googletrans>=2 (from textaugment>=1.3.4->MedCLIP==0.0.3->-r MedCLIP-pediatric/requirements.txt (line 5))\n",
            "  Downloading googletrans-3.0.0.tar.gz (17 kB)\n",
            "  Preparing metadata (setup.py) ... \u001b[?25l\u001b[?25hdone\n",
            "Requirement already satisfied: pyyaml in /usr/local/lib/python3.10/dist-packages (from timm>=0.6.11->MedCLIP==0.0.3->-r MedCLIP-pediatric/requirements.txt (line 5)) (6.0.1)\n",
            "Requirement already satisfied: huggingface_hub in /usr/local/lib/python3.10/dist-packages (from timm>=0.6.11->MedCLIP==0.0.3->-r MedCLIP-pediatric/requirements.txt (line 5)) (0.20.3)\n",
            "Requirement already satisfied: safetensors in /usr/local/lib/python3.10/dist-packages (from timm>=0.6.11->MedCLIP==0.0.3->-r MedCLIP-pediatric/requirements.txt (line 5)) (0.4.2)\n",
            "Requirement already satisfied: filelock in /usr/local/lib/python3.10/dist-packages (from torch->clip==1.0->-r MedCLIP-pediatric/requirements.txt (line 4)) (3.13.4)\n",
            "Requirement already satisfied: typing-extensions>=4.8.0 in /usr/local/lib/python3.10/dist-packages (from torch->clip==1.0->-r MedCLIP-pediatric/requirements.txt (line 4)) (4.11.0)\n",
            "Requirement already satisfied: sympy in /usr/local/lib/python3.10/dist-packages (from torch->clip==1.0->-r MedCLIP-pediatric/requirements.txt (line 4)) (1.12)\n",
            "Requirement already satisfied: networkx in /usr/local/lib/python3.10/dist-packages (from torch->clip==1.0->-r MedCLIP-pediatric/requirements.txt (line 4)) (3.3)\n",
            "Requirement already satisfied: jinja2 in /usr/local/lib/python3.10/dist-packages (from torch->clip==1.0->-r MedCLIP-pediatric/requirements.txt (line 4)) (3.1.3)\n",
            "Requirement already satisfied: fsspec in /usr/local/lib/python3.10/dist-packages (from torch->clip==1.0->-r MedCLIP-pediatric/requirements.txt (line 4)) (2023.6.0)\n",
            "Collecting nvidia-cuda-nvrtc-cu12==12.1.105 (from torch->clip==1.0->-r MedCLIP-pediatric/requirements.txt (line 4))\n",
            "  Using cached nvidia_cuda_nvrtc_cu12-12.1.105-py3-none-manylinux1_x86_64.whl (23.7 MB)\n",
            "Collecting nvidia-cuda-runtime-cu12==12.1.105 (from torch->clip==1.0->-r MedCLIP-pediatric/requirements.txt (line 4))\n",
            "  Using cached nvidia_cuda_runtime_cu12-12.1.105-py3-none-manylinux1_x86_64.whl (823 kB)\n",
            "Collecting nvidia-cuda-cupti-cu12==12.1.105 (from torch->clip==1.0->-r MedCLIP-pediatric/requirements.txt (line 4))\n",
            "  Using cached nvidia_cuda_cupti_cu12-12.1.105-py3-none-manylinux1_x86_64.whl (14.1 MB)\n",
            "Collecting nvidia-cudnn-cu12==8.9.2.26 (from torch->clip==1.0->-r MedCLIP-pediatric/requirements.txt (line 4))\n",
            "  Using cached nvidia_cudnn_cu12-8.9.2.26-py3-none-manylinux1_x86_64.whl (731.7 MB)\n",
            "Collecting nvidia-cublas-cu12==12.1.3.1 (from torch->clip==1.0->-r MedCLIP-pediatric/requirements.txt (line 4))\n",
            "  Using cached nvidia_cublas_cu12-12.1.3.1-py3-none-manylinux1_x86_64.whl (410.6 MB)\n",
            "Collecting nvidia-cufft-cu12==11.0.2.54 (from torch->clip==1.0->-r MedCLIP-pediatric/requirements.txt (line 4))\n",
            "  Using cached nvidia_cufft_cu12-11.0.2.54-py3-none-manylinux1_x86_64.whl (121.6 MB)\n",
            "Collecting nvidia-curand-cu12==10.3.2.106 (from torch->clip==1.0->-r MedCLIP-pediatric/requirements.txt (line 4))\n",
            "  Using cached nvidia_curand_cu12-10.3.2.106-py3-none-manylinux1_x86_64.whl (56.5 MB)\n",
            "Collecting nvidia-cusolver-cu12==11.4.5.107 (from torch->clip==1.0->-r MedCLIP-pediatric/requirements.txt (line 4))\n",
            "  Using cached nvidia_cusolver_cu12-11.4.5.107-py3-none-manylinux1_x86_64.whl (124.2 MB)\n",
            "Collecting nvidia-cusparse-cu12==12.1.0.106 (from torch->clip==1.0->-r MedCLIP-pediatric/requirements.txt (line 4))\n",
            "  Using cached nvidia_cusparse_cu12-12.1.0.106-py3-none-manylinux1_x86_64.whl (196.0 MB)\n",
            "Collecting nvidia-nccl-cu12==2.19.3 (from torch->clip==1.0->-r MedCLIP-pediatric/requirements.txt (line 4))\n",
            "  Using cached nvidia_nccl_cu12-2.19.3-py3-none-manylinux1_x86_64.whl (166.0 MB)\n",
            "Collecting nvidia-nvtx-cu12==12.1.105 (from torch->clip==1.0->-r MedCLIP-pediatric/requirements.txt (line 4))\n",
            "  Using cached nvidia_nvtx_cu12-12.1.105-py3-none-manylinux1_x86_64.whl (99 kB)\n",
            "Requirement already satisfied: triton==2.2.0 in /usr/local/lib/python3.10/dist-packages (from torch->clip==1.0->-r MedCLIP-pediatric/requirements.txt (line 4)) (2.2.0)\n",
            "Collecting nvidia-nvjitlink-cu12 (from nvidia-cusolver-cu12==11.4.5.107->torch->clip==1.0->-r MedCLIP-pediatric/requirements.txt (line 4))\n",
            "  Using cached nvidia_nvjitlink_cu12-12.4.127-py3-none-manylinux2014_x86_64.whl (21.1 MB)\n",
            "Requirement already satisfied: packaging>=20.0 in /usr/local/lib/python3.10/dist-packages (from transformers<=4.24.0,>=4.23.1->MedCLIP==0.0.3->-r MedCLIP-pediatric/requirements.txt (line 5)) (24.0)\n",
            "Collecting tokenizers!=0.11.3,<0.14,>=0.11.1 (from transformers<=4.24.0,>=4.23.1->MedCLIP==0.0.3->-r MedCLIP-pediatric/requirements.txt (line 5))\n",
            "  Downloading tokenizers-0.13.3-cp310-cp310-manylinux_2_17_x86_64.manylinux2014_x86_64.whl (7.8 MB)\n",
            "\u001b[2K     \u001b[90m━━━━━━━━━━━━━━━━━━━━━━━━━━━━━━━━━━━━━━━━\u001b[0m \u001b[32m7.8/7.8 MB\u001b[0m \u001b[31m92.5 MB/s\u001b[0m eta \u001b[36m0:00:00\u001b[0m\n",
            "\u001b[?25hRequirement already satisfied: python-dateutil>=2.8.2 in /usr/local/lib/python3.10/dist-packages (from pandas->MedCLIP==0.0.3->-r MedCLIP-pediatric/requirements.txt (line 5)) (2.8.2)\n",
            "Requirement already satisfied: pytz>=2020.1 in /usr/local/lib/python3.10/dist-packages (from pandas->MedCLIP==0.0.3->-r MedCLIP-pediatric/requirements.txt (line 5)) (2023.4)\n",
            "Requirement already satisfied: tzdata>=2022.1 in /usr/local/lib/python3.10/dist-packages (from pandas->MedCLIP==0.0.3->-r MedCLIP-pediatric/requirements.txt (line 5)) (2024.1)\n",
            "Requirement already satisfied: charset-normalizer<4,>=2 in /usr/local/lib/python3.10/dist-packages (from requests->MedCLIP==0.0.3->-r MedCLIP-pediatric/requirements.txt (line 5)) (3.3.2)\n",
            "Requirement already satisfied: idna<4,>=2.5 in /usr/local/lib/python3.10/dist-packages (from requests->MedCLIP==0.0.3->-r MedCLIP-pediatric/requirements.txt (line 5)) (3.6)\n",
            "Requirement already satisfied: urllib3<3,>=1.21.1 in /usr/local/lib/python3.10/dist-packages (from requests->MedCLIP==0.0.3->-r MedCLIP-pediatric/requirements.txt (line 5)) (2.0.7)\n",
            "Requirement already satisfied: certifi>=2017.4.17 in /usr/local/lib/python3.10/dist-packages (from requests->MedCLIP==0.0.3->-r MedCLIP-pediatric/requirements.txt (line 5)) (2024.2.2)\n",
            "Requirement already satisfied: smart-open>=1.8.1 in /usr/local/lib/python3.10/dist-packages (from gensim>=4.0->textaugment>=1.3.4->MedCLIP==0.0.3->-r MedCLIP-pediatric/requirements.txt (line 5)) (6.4.0)\n",
            "Collecting httpx==0.13.3 (from googletrans>=2->textaugment>=1.3.4->MedCLIP==0.0.3->-r MedCLIP-pediatric/requirements.txt (line 5))\n",
            "  Downloading httpx-0.13.3-py3-none-any.whl (55 kB)\n",
            "\u001b[2K     \u001b[90m━━━━━━━━━━━━━━━━━━━━━━━━━━━━━━━━━━━━━━━━\u001b[0m \u001b[32m55.1/55.1 kB\u001b[0m \u001b[31m7.5 MB/s\u001b[0m eta \u001b[36m0:00:00\u001b[0m\n",
            "\u001b[?25hCollecting hstspreload (from httpx==0.13.3->googletrans>=2->textaugment>=1.3.4->MedCLIP==0.0.3->-r MedCLIP-pediatric/requirements.txt (line 5))\n",
            "  Downloading hstspreload-2024.4.1-py3-none-any.whl (1.1 MB)\n",
            "\u001b[2K     \u001b[90m━━━━━━━━━━━━━━━━━━━━━━━━━━━━━━━━━━━━━━━━\u001b[0m \u001b[32m1.1/1.1 MB\u001b[0m \u001b[31m75.7 MB/s\u001b[0m eta \u001b[36m0:00:00\u001b[0m\n",
            "\u001b[?25hRequirement already satisfied: sniffio in /usr/local/lib/python3.10/dist-packages (from httpx==0.13.3->googletrans>=2->textaugment>=1.3.4->MedCLIP==0.0.3->-r MedCLIP-pediatric/requirements.txt (line 5)) (1.3.1)\n",
            "Collecting chardet==3.* (from httpx==0.13.3->googletrans>=2->textaugment>=1.3.4->MedCLIP==0.0.3->-r MedCLIP-pediatric/requirements.txt (line 5))\n",
            "  Downloading chardet-3.0.4-py2.py3-none-any.whl (133 kB)\n",
            "\u001b[2K     \u001b[90m━━━━━━━━━━━━━━━━━━━━━━━━━━━━━━━━━━━━━━━━\u001b[0m \u001b[32m133.4/133.4 kB\u001b[0m \u001b[31m17.6 MB/s\u001b[0m eta \u001b[36m0:00:00\u001b[0m\n",
            "\u001b[?25hCollecting idna<4,>=2.5 (from requests->MedCLIP==0.0.3->-r MedCLIP-pediatric/requirements.txt (line 5))\n",
            "  Downloading idna-2.10-py2.py3-none-any.whl (58 kB)\n",
            "\u001b[2K     \u001b[90m━━━━━━━━━━━━━━━━━━━━━━━━━━━━━━━━━━━━━━━━\u001b[0m \u001b[32m58.8/58.8 kB\u001b[0m \u001b[31m8.8 MB/s\u001b[0m eta \u001b[36m0:00:00\u001b[0m\n",
            "\u001b[?25hCollecting rfc3986<2,>=1.3 (from httpx==0.13.3->googletrans>=2->textaugment>=1.3.4->MedCLIP==0.0.3->-r MedCLIP-pediatric/requirements.txt (line 5))\n",
            "  Downloading rfc3986-1.5.0-py2.py3-none-any.whl (31 kB)\n",
            "Collecting httpcore==0.9.* (from httpx==0.13.3->googletrans>=2->textaugment>=1.3.4->MedCLIP==0.0.3->-r MedCLIP-pediatric/requirements.txt (line 5))\n",
            "  Downloading httpcore-0.9.1-py3-none-any.whl (42 kB)\n",
            "\u001b[2K     \u001b[90m━━━━━━━━━━━━━━━━━━━━━━━━━━━━━━━━━━━━━━━━\u001b[0m \u001b[32m42.6/42.6 kB\u001b[0m \u001b[31m6.0 MB/s\u001b[0m eta \u001b[36m0:00:00\u001b[0m\n",
            "\u001b[?25hCollecting h11<0.10,>=0.8 (from httpcore==0.9.*->httpx==0.13.3->googletrans>=2->textaugment>=1.3.4->MedCLIP==0.0.3->-r MedCLIP-pediatric/requirements.txt (line 5))\n",
            "  Downloading h11-0.9.0-py2.py3-none-any.whl (53 kB)\n",
            "\u001b[2K     \u001b[90m━━━━━━━━━━━━━━━━━━━━━━━━━━━━━━━━━━━━━━━━\u001b[0m \u001b[32m53.6/53.6 kB\u001b[0m \u001b[31m8.6 MB/s\u001b[0m eta \u001b[36m0:00:00\u001b[0m\n",
            "\u001b[?25hCollecting h2==3.* (from httpcore==0.9.*->httpx==0.13.3->googletrans>=2->textaugment>=1.3.4->MedCLIP==0.0.3->-r MedCLIP-pediatric/requirements.txt (line 5))\n",
            "  Downloading h2-3.2.0-py2.py3-none-any.whl (65 kB)\n",
            "\u001b[2K     \u001b[90m━━━━━━━━━━━━━━━━━━━━━━━━━━━━━━━━━━━━━━━━\u001b[0m \u001b[32m65.0/65.0 kB\u001b[0m \u001b[31m10.5 MB/s\u001b[0m eta \u001b[36m0:00:00\u001b[0m\n",
            "\u001b[?25hCollecting hyperframe<6,>=5.2.0 (from h2==3.*->httpcore==0.9.*->httpx==0.13.3->googletrans>=2->textaugment>=1.3.4->MedCLIP==0.0.3->-r MedCLIP-pediatric/requirements.txt (line 5))\n",
            "  Downloading hyperframe-5.2.0-py2.py3-none-any.whl (12 kB)\n",
            "Collecting hpack<4,>=3.0 (from h2==3.*->httpcore==0.9.*->httpx==0.13.3->googletrans>=2->textaugment>=1.3.4->MedCLIP==0.0.3->-r MedCLIP-pediatric/requirements.txt (line 5))\n",
            "  Downloading hpack-3.0.0-py2.py3-none-any.whl (38 kB)\n",
            "Requirement already satisfied: six>=1.5 in /usr/local/lib/python3.10/dist-packages (from python-dateutil>=2.8.2->pandas->MedCLIP==0.0.3->-r MedCLIP-pediatric/requirements.txt (line 5)) (1.16.0)\n",
            "Requirement already satisfied: MarkupSafe>=2.0 in /usr/local/lib/python3.10/dist-packages (from jinja2->torch->clip==1.0->-r MedCLIP-pediatric/requirements.txt (line 4)) (2.1.5)\n",
            "Requirement already satisfied: mpmath>=0.19 in /usr/local/lib/python3.10/dist-packages (from sympy->torch->clip==1.0->-r MedCLIP-pediatric/requirements.txt (line 4)) (1.3.0)\n",
            "Building wheels for collected packages: clip, MedCLIP, wget, googletrans\n",
            "  Building wheel for clip (setup.py) ... \u001b[?25l\u001b[?25hdone\n",
            "  Created wheel for clip: filename=clip-1.0-py3-none-any.whl size=1369499 sha256=e9fd077a0ccfb434955e8969398439d70413c89dda2d19047c9350055f49217c\n",
            "  Stored in directory: /tmp/pip-ephem-wheel-cache-lhvb5ibh/wheels/da/2b/4c/d6691fa9597aac8bb85d2ac13b112deb897d5b50f5ad9a37e4\n",
            "  Building wheel for MedCLIP (setup.py) ... \u001b[?25l\u001b[?25hdone\n",
            "  Created wheel for MedCLIP: filename=MedCLIP-0.0.3-py3-none-any.whl size=28013 sha256=64fc54597c1bc3b1d150844f4b1f6da187581df75bfb79f4c49967bdd7ef8e26\n",
            "  Stored in directory: /tmp/pip-ephem-wheel-cache-lhvb5ibh/wheels/d5/ed/0c/c230538eb930e829193f90161c97b1781f48f07e2c7ea66053\n",
            "  Building wheel for wget (setup.py) ... \u001b[?25l\u001b[?25hdone\n",
            "  Created wheel for wget: filename=wget-3.2-py3-none-any.whl size=9656 sha256=5f2a730bc167fe106897ae01d8c8c4db35ff1f2410728de95b7a07ae81a70adc\n",
            "  Stored in directory: /root/.cache/pip/wheels/8b/f1/7f/5c94f0a7a505ca1c81cd1d9208ae2064675d97582078e6c769\n",
            "  Building wheel for googletrans (setup.py) ... \u001b[?25l\u001b[?25hdone\n",
            "  Created wheel for googletrans: filename=googletrans-3.0.0-py3-none-any.whl size=15718 sha256=ec380d2b968840a4e6a61587cfb1d6e4dc64aa56bbc58a5051ab91b6c4f329a1\n",
            "  Stored in directory: /root/.cache/pip/wheels/b3/81/ea/8b030407f8ebfc2f857814e086bb22ca2d4fea1a7be63652ab\n",
            "Successfully built clip MedCLIP wget googletrans\n",
            "Installing collected packages: wget, tokenizers, rfc3986, hyperframe, hpack, h11, chardet, nvidia-nvtx-cu12, nvidia-nvjitlink-cu12, nvidia-nccl-cu12, nvidia-curand-cu12, nvidia-cufft-cu12, nvidia-cuda-runtime-cu12, nvidia-cuda-nvrtc-cu12, nvidia-cuda-cupti-cu12, nvidia-cublas-cu12, idna, hstspreload, h2, ftfy, nvidia-cusparse-cu12, nvidia-cudnn-cu12, httpcore, nvidia-cusolver-cu12, httpx, transformers, googletrans, textaugment, timm, clip, MedCLIP\n",
            "  Attempting uninstall: tokenizers\n",
            "    Found existing installation: tokenizers 0.15.2\n",
            "    Uninstalling tokenizers-0.15.2:\n",
            "      Successfully uninstalled tokenizers-0.15.2\n",
            "  Attempting uninstall: chardet\n",
            "    Found existing installation: chardet 5.2.0\n",
            "    Uninstalling chardet-5.2.0:\n",
            "      Successfully uninstalled chardet-5.2.0\n",
            "  Attempting uninstall: idna\n",
            "    Found existing installation: idna 3.6\n",
            "    Uninstalling idna-3.6:\n",
            "      Successfully uninstalled idna-3.6\n",
            "  Attempting uninstall: transformers\n",
            "    Found existing installation: transformers 4.38.2\n",
            "    Uninstalling transformers-4.38.2:\n",
            "      Successfully uninstalled transformers-4.38.2\n",
            "Successfully installed MedCLIP-0.0.3 chardet-3.0.4 clip-1.0 ftfy-6.2.0 googletrans-3.0.0 h11-0.9.0 h2-3.2.0 hpack-3.0.0 hstspreload-2024.4.1 httpcore-0.9.1 httpx-0.13.3 hyperframe-5.2.0 idna-2.10 nvidia-cublas-cu12-12.1.3.1 nvidia-cuda-cupti-cu12-12.1.105 nvidia-cuda-nvrtc-cu12-12.1.105 nvidia-cuda-runtime-cu12-12.1.105 nvidia-cudnn-cu12-8.9.2.26 nvidia-cufft-cu12-11.0.2.54 nvidia-curand-cu12-10.3.2.106 nvidia-cusolver-cu12-11.4.5.107 nvidia-cusparse-cu12-12.1.0.106 nvidia-nccl-cu12-2.19.3 nvidia-nvjitlink-cu12-12.4.127 nvidia-nvtx-cu12-12.1.105 rfc3986-1.5.0 textaugment-2.0.0 timm-0.9.16 tokenizers-0.13.3 transformers-4.24.0 wget-3.2\n"
          ]
        }
      ],
      "source": [
        "!pip install -r MedCLIP-pediatric/requirements.txt"
      ]
    },
    {
      "cell_type": "code",
      "execution_count": null,
      "metadata": {
        "colab": {
          "base_uri": "https://localhost:8080/",
          "height": 1000,
          "referenced_widgets": [
            "c0dbe47fc2614597a98e93c8528e4f5a",
            "6cd98e4373834c3fbb7986f5295bb818",
            "3ac6030a01c64ad298e4c1c03417777f",
            "06cadaa66644407db84737f883a3d955",
            "7ea1a8d7c54d42eea0b0ed5f1295125f",
            "4e8c4b5783014795b390a7baf89aa43c",
            "605057b6d2fa40829ba336a823a3b4bb",
            "8177d6dde2144daf9e0071672bb0372d",
            "6e2579fa341446b081bbe076d8c1ed54",
            "c2210afe9be84155b9b8d1391500873f",
            "1565c939a7fd4c519e1151649d3f6451",
            "8de26dd5dfbe4e678466f5bd740b8fd5",
            "ceb30ca129f74ef09e7821eb1ed6f8a1",
            "e94fd83d89c347deb53b77925224a2a1",
            "d64c7ded2c3f4448bfe4feae7521b4f0",
            "5d7acbc5ac0b49e2bb5676117da33469",
            "98559eaa32434d4c95be14c72b39a81c",
            "b886afe68fcb4e6d8af7f490198e0273",
            "b2ede4473768465a988978dbd4c4a8c8",
            "b623ebb0b326485bb9d00258031fc5e9",
            "b7726758ac354ab8881646f8501e29c0",
            "e6526cbcd76e4529a9a077e7c5e867fe"
          ]
        },
        "id": "tdzX2HwKHO60",
        "outputId": "dea2259c-fa8e-465b-8088-2ae02fc8c493"
      },
      "outputs": [
        {
          "output_type": "stream",
          "name": "stdout",
          "text": [
            "Mounting Google Drive...\n",
            "Mounted at /content/drive\n",
            "Copying files from Google Drive...\n",
            "Extracting zip files...\n",
            "\n",
            "7-Zip [64] 16.02 : Copyright (c) 1999-2016 Igor Pavlov : 2016-05-21\n",
            "p7zip Version 16.02 (locale=en_US.UTF-8,Utf16=on,HugeFiles=on,64 bits,12 CPUs Intel(R) Xeon(R) CPU @ 2.20GHz (50657),ASM,AES-NI)\n",
            "\n",
            "Scanning the drive for archives:\n",
            "  0M Scan /content/\b\b\b\b\b\b\b\b\b\b\b\b\b\b\b\b\b\b\b                   \b\b\b\b\b\b\b\b\b\b\b\b\b\b\b\b\b\b\b1 file, 22471493 bytes (22 MiB)\n",
            "\n",
            "Extracting archive: /content/ucsd.zip\n",
            " 66% 4096 Open\b\b\b\b\b\b\b\b\b\b\b\b\b\b              \b\b\b\b\b\b\b\b\b\b\b\b\b\b--\n",
            "Path = /content/ucsd.zip\n",
            "Type = zip\n",
            "Physical Size = 22471493\n",
            "\n",
            "  0%\b\b\b\b    \b\b\b\b 23% 1478 - ucsd/Train/Positive/VIRUS-9783315-0001.jpeg\b\b\b\b\b\b\b\b\b\b\b\b\b\b\b\b\b\b\b\b\b\b\b\b\b\b\b\b\b\b\b\b\b\b\b\b\b\b\b\b\b\b\b\b\b\b\b\b\b\b\b\b\b\b\b                                                       \b\b\b\b\b\b\b\b\b\b\b\b\b\b\b\b\b\b\b\b\b\b\b\b\b\b\b\b\b\b\b\b\b\b\b\b\b\b\b\b\b\b\b\b\b\b\b\b\b\b\b\b\b\b\b 37% 2422 - ucsd/Train/Positive/VIRUS-9539563-0001.jpeg\b\b\b\b\b\b\b\b\b\b\b\b\b\b\b\b\b\b\b\b\b\b\b\b\b\b\b\b\b\b\b\b\b\b\b\b\b\b\b\b\b\b\b\b\b\b\b\b\b\b\b\b\b\b\b                                                       \b\b\b\b\b\b\b\b\b\b\b\b\b\b\b\b\b\b\b\b\b\b\b\b\b\b\b\b\b\b\b\b\b\b\b\b\b\b\b\b\b\b\b\b\b\b\b\b\b\b\b\b\b\b\b 46% 3002 - ucsd/Train/Positive/VIRUS-990412-0008.jpeg\b\b\b\b\b\b\b\b\b\b\b\b\b\b\b\b\b\b\b\b\b\b\b\b\b\b\b\b\b\b\b\b\b\b\b\b\b\b\b\b\b\b\b\b\b\b\b\b\b\b\b\b\b\b                                                      \b\b\b\b\b\b\b\b\b\b\b\b\b\b\b\b\b\b\b\b\b\b\b\b\b\b\b\b\b\b\b\b\b\b\b\b\b\b\b\b\b\b\b\b\b\b\b\b\b\b\b\b\b\b 62% 3975 - __MACOSX/ucsd/Train/Negative/._NORMAL-9756687-0001.jpeg\b\b\b\b\b\b\b\b\b\b\b\b\b\b\b\b\b\b\b\b\b\b\b\b\b\b\b\b\b\b\b\b\b\b\b\b\b\b\b\b\b\b\b\b\b\b\b\b\b\b\b\b\b\b\b\b\b\b\b\b\b\b\b\b\b\b\b                                                                   \b\b\b\b\b\b\b\b\b\b\b\b\b\b\b\b\b\b\b\b\b\b\b\b\b\b\b\b\b\b\b\b\b\b\b\b\b\b\b\b\b\b\b\b\b\b\b\b\b\b\b\b\b\b\b\b\b\b\b\b\b\b\b\b\b\b\b 74% 4649 - __MACOSX/ucsd/Train/Negative/._NORMAL-3220570-0001.jpeg\b\b\b\b\b\b\b\b\b\b\b\b\b\b\b\b\b\b\b\b\b\b\b\b\b\b\b\b\b\b\b\b\b\b\b\b\b\b\b\b\b\b\b\b\b\b\b\b\b\b\b\b\b\b\b\b\b\b\b\b\b\b\b\b\b\b\b                                                                   \b\b\b\b\b\b\b\b\b\b\b\b\b\b\b\b\b\b\b\b\b\b\b\b\b\b\b\b\b\b\b\b\b\b\b\b\b\b\b\b\b\b\b\b\b\b\b\b\b\b\b\b\b\b\b\b\b\b\b\b\b\b\b\b\b\b\b 83% 5158 - ucsd/Train/Negative/NORMAL-7834085-0001.jpeg\b\b\b\b\b\b\b\b\b\b\b\b\b\b\b\b\b\b\b\b\b\b\b\b\b\b\b\b\b\b\b\b\b\b\b\b\b\b\b\b\b\b\b\b\b\b\b\b\b\b\b\b\b\b\b\b                                                        \b\b\b\b\b\b\b\b\b\b\b\b\b\b\b\b\b\b\b\b\b\b\b\b\b\b\b\b\b\b\b\b\b\b\b\b\b\b\b\b\b\b\b\b\b\b\b\b\b\b\b\b\b\b\b\bEverything is Ok\n",
            "\n",
            "Folders: 10\n",
            "Files: 6162\n",
            "Size:       21151375\n",
            "Compressed: 22471493\n",
            "\n",
            "7-Zip [64] 16.02 : Copyright (c) 1999-2016 Igor Pavlov : 2016-05-21\n",
            "p7zip Version 16.02 (locale=en_US.UTF-8,Utf16=on,HugeFiles=on,64 bits,12 CPUs Intel(R) Xeon(R) CPU @ 2.20GHz (50657),ASM,AES-NI)\n",
            "\n",
            "Scanning the drive for archives:\n",
            "  0M Scan /content/\b\b\b\b\b\b\b\b\b\b\b\b\b\b\b\b\b\b\b                   \b\b\b\b\b\b\b\b\b\b\b\b\b\b\b\b\b\b\b1 file, 19842873 bytes (19 MiB)\n",
            "\n",
            "Extracting archive: /content/ori.zip\n",
            "--\n",
            "Path = /content/ori.zip\n",
            "Type = zip\n",
            "Physical Size = 19842873\n",
            "\n",
            "  0%\b\b\b\b    \b\b\b\b 78% 1317 - __MACOSX/ori/Train/Negative/._ISZZSIZMAVA6.png\b\b\b\b\b\b\b\b\b\b\b\b\b\b\b\b\b\b\b\b\b\b\b\b\b\b\b\b\b\b\b\b\b\b\b\b\b\b\b\b\b\b\b\b\b\b\b\b\b\b\b\b\b\b\b\b\b\b                                                          \b\b\b\b\b\b\b\b\b\b\b\b\b\b\b\b\b\b\b\b\b\b\b\b\b\b\b\b\b\b\b\b\b\b\b\b\b\b\b\b\b\b\b\b\b\b\b\b\b\b\b\b\b\b\b\b\b\bEverything is Ok\n",
            "\n",
            "Folders: 10\n",
            "Files: 1662\n",
            "Size:       19522791\n",
            "Compressed: 19842873\n",
            "Files extracted successfully.\n"
          ]
        },
        {
          "output_type": "stream",
          "name": "stderr",
          "text": [
            "/usr/local/lib/python3.10/dist-packages/huggingface_hub/utils/_token.py:88: UserWarning: \n",
            "The secret `HF_TOKEN` does not exist in your Colab secrets.\n",
            "To authenticate with the Hugging Face Hub, create a token in your settings tab (https://huggingface.co/settings/tokens), set it as secret in your Google Colab and restart your session.\n",
            "You will be able to reuse this secret in all of your notebooks.\n",
            "Please note that authentication is recommended but still optional to access public models or datasets.\n",
            "  warnings.warn(\n"
          ]
        },
        {
          "output_type": "display_data",
          "data": {
            "text/plain": [
              "config.json:   0%|          | 0.00/385 [00:00<?, ?B/s]"
            ],
            "application/vnd.jupyter.widget-view+json": {
              "version_major": 2,
              "version_minor": 0,
              "model_id": "c0dbe47fc2614597a98e93c8528e4f5a"
            }
          },
          "metadata": {}
        },
        {
          "output_type": "display_data",
          "data": {
            "text/plain": [
              "vocab.txt:   0%|          | 0.00/213k [00:00<?, ?B/s]"
            ],
            "application/vnd.jupyter.widget-view+json": {
              "version_major": 2,
              "version_minor": 0,
              "model_id": "8de26dd5dfbe4e678466f5bd740b8fd5"
            }
          },
          "metadata": {}
        },
        {
          "output_type": "stream",
          "name": "stderr",
          "text": [
            "100%|████████████████████████████████████████| 338M/338M [00:03<00:00, 109MiB/s]\n",
            "/usr/local/lib/python3.10/dist-packages/keras/src/preprocessing/image.py:766: UserWarning: NumpyArrayIterator is set to use the data format convention \"channels_last\" (channels on axis 3), i.e. expected either 1, 3, or 4 channels on axis 3. However, it was passed an array with shape (1967, 3, 224, 224) (224 channels).\n",
            "  warnings.warn(\n",
            "/usr/local/lib/python3.10/dist-packages/keras/src/preprocessing/image.py:766: UserWarning: NumpyArrayIterator is set to use the data format convention \"channels_last\" (channels on axis 3), i.e. expected either 1, 3, or 4 channels on axis 3. However, it was passed an array with shape (493, 3, 224, 224) (224 channels).\n",
            "  warnings.warn(\n",
            "/usr/local/lib/python3.10/dist-packages/keras/src/preprocessing/image.py:766: UserWarning: NumpyArrayIterator is set to use the data format convention \"channels_last\" (channels on axis 3), i.e. expected either 1, 3, or 4 channels on axis 3. However, it was passed an array with shape (616, 3, 224, 224) (224 channels).\n",
            "  warnings.warn(\n",
            "WARNING:matplotlib.image:Clipping input data to the valid range for imshow with RGB data ([0..1] for floats or [0..255] for integers).\n",
            "WARNING:matplotlib.image:Clipping input data to the valid range for imshow with RGB data ([0..1] for floats or [0..255] for integers).\n",
            "WARNING:matplotlib.image:Clipping input data to the valid range for imshow with RGB data ([0..1] for floats or [0..255] for integers).\n",
            "WARNING:matplotlib.image:Clipping input data to the valid range for imshow with RGB data ([0..1] for floats or [0..255] for integers).\n",
            "WARNING:matplotlib.image:Clipping input data to the valid range for imshow with RGB data ([0..1] for floats or [0..255] for integers).\n",
            "WARNING:matplotlib.image:Clipping input data to the valid range for imshow with RGB data ([0..1] for floats or [0..255] for integers).\n"
          ]
        },
        {
          "output_type": "stream",
          "name": "stdout",
          "text": [
            "Results saved to results/visualization/zs_clip_base/ucsd/clip/images/cxr_images.pdf\n",
            "NVIDIA library configured successfully.\n"
          ]
        },
        {
          "output_type": "stream",
          "name": "stderr",
          "text": [
            "Evaluate Train: 100%|██████████| 8/8 [00:03<00:00,  2.61it/s]\n",
            "Evaluate Validation: 100%|██████████| 2/2 [00:01<00:00,  1.18it/s]\n",
            "Evaluate Test: 100%|██████████| 3/3 [00:00<00:00,  4.32it/s]\n",
            "WARNING:matplotlib.image:Clipping input data to the valid range for imshow with RGB data ([0..1] for floats or [0..255] for integers).\n",
            "WARNING:matplotlib.image:Clipping input data to the valid range for imshow with RGB data ([0..1] for floats or [0..255] for integers).\n",
            "WARNING:matplotlib.image:Clipping input data to the valid range for imshow with RGB data ([0..1] for floats or [0..255] for integers).\n",
            "WARNING:matplotlib.image:Clipping input data to the valid range for imshow with RGB data ([0..1] for floats or [0..255] for integers).\n",
            "WARNING:matplotlib.image:Clipping input data to the valid range for imshow with RGB data ([0..1] for floats or [0..255] for integers).\n",
            "WARNING:matplotlib.image:Clipping input data to the valid range for imshow with RGB data ([0..1] for floats or [0..255] for integers).\n",
            "WARNING:matplotlib.image:Clipping input data to the valid range for imshow with RGB data ([0..1] for floats or [0..255] for integers).\n",
            "WARNING:matplotlib.image:Clipping input data to the valid range for imshow with RGB data ([0..1] for floats or [0..255] for integers).\n",
            "WARNING:matplotlib.image:Clipping input data to the valid range for imshow with RGB data ([0..1] for floats or [0..255] for integers).\n",
            "WARNING:matplotlib.image:Clipping input data to the valid range for imshow with RGB data ([0..1] for floats or [0..255] for integers).\n",
            "WARNING:matplotlib.image:Clipping input data to the valid range for imshow with RGB data ([0..1] for floats or [0..255] for integers).\n",
            "WARNING:matplotlib.image:Clipping input data to the valid range for imshow with RGB data ([0..1] for floats or [0..255] for integers).\n"
          ]
        },
        {
          "output_type": "stream",
          "name": "stdout",
          "text": [
            "Results saved to results/visualization/zs_clip_base/ucsd/clip/images/prediction_images.pdf\n",
            "\n",
            "Accuracy: 0.6752, Precision: 0.6963, Recall: 0.5867, AUC: 0.4645\n",
            "Results saved to results/zs_clip_base/ucsd/clip/classification_results.txt\n"
          ]
        },
        {
          "output_type": "stream",
          "name": "stderr",
          "text": [
            "/usr/local/lib/python3.10/dist-packages/keras/src/preprocessing/image.py:766: UserWarning: NumpyArrayIterator is set to use the data format convention \"channels_last\" (channels on axis 3), i.e. expected either 1, 3, or 4 channels on axis 3. However, it was passed an array with shape (526, 3, 224, 224) (224 channels).\n",
            "  warnings.warn(\n",
            "/usr/local/lib/python3.10/dist-packages/keras/src/preprocessing/image.py:766: UserWarning: NumpyArrayIterator is set to use the data format convention \"channels_last\" (channels on axis 3), i.e. expected either 1, 3, or 4 channels on axis 3. However, it was passed an array with shape (132, 3, 224, 224) (224 channels).\n",
            "  warnings.warn(\n",
            "/usr/local/lib/python3.10/dist-packages/keras/src/preprocessing/image.py:766: UserWarning: NumpyArrayIterator is set to use the data format convention \"channels_last\" (channels on axis 3), i.e. expected either 1, 3, or 4 channels on axis 3. However, it was passed an array with shape (165, 3, 224, 224) (224 channels).\n",
            "  warnings.warn(\n",
            "WARNING:matplotlib.image:Clipping input data to the valid range for imshow with RGB data ([0..1] for floats or [0..255] for integers).\n",
            "WARNING:matplotlib.image:Clipping input data to the valid range for imshow with RGB data ([0..1] for floats or [0..255] for integers).\n",
            "WARNING:matplotlib.image:Clipping input data to the valid range for imshow with RGB data ([0..1] for floats or [0..255] for integers).\n",
            "WARNING:matplotlib.image:Clipping input data to the valid range for imshow with RGB data ([0..1] for floats or [0..255] for integers).\n",
            "WARNING:matplotlib.image:Clipping input data to the valid range for imshow with RGB data ([0..1] for floats or [0..255] for integers).\n",
            "WARNING:matplotlib.image:Clipping input data to the valid range for imshow with RGB data ([0..1] for floats or [0..255] for integers).\n"
          ]
        },
        {
          "output_type": "stream",
          "name": "stdout",
          "text": [
            "Results saved to results/visualization/zs_clip_base/ori/clip/images/cxr_images.pdf\n",
            "NVIDIA library configured successfully.\n"
          ]
        },
        {
          "output_type": "stream",
          "name": "stderr",
          "text": [
            "Evaluate Train: 100%|██████████| 3/3 [00:00<00:00,  5.17it/s]\n",
            "Evaluate Validation: 100%|██████████| 1/1 [00:00<00:00, 10.68it/s]\n",
            "Evaluate Test: 100%|██████████| 1/1 [00:00<00:00,  8.57it/s]\n",
            "WARNING:matplotlib.image:Clipping input data to the valid range for imshow with RGB data ([0..1] for floats or [0..255] for integers).\n",
            "WARNING:matplotlib.image:Clipping input data to the valid range for imshow with RGB data ([0..1] for floats or [0..255] for integers).\n",
            "WARNING:matplotlib.image:Clipping input data to the valid range for imshow with RGB data ([0..1] for floats or [0..255] for integers).\n",
            "WARNING:matplotlib.image:Clipping input data to the valid range for imshow with RGB data ([0..1] for floats or [0..255] for integers).\n",
            "WARNING:matplotlib.image:Clipping input data to the valid range for imshow with RGB data ([0..1] for floats or [0..255] for integers).\n",
            "WARNING:matplotlib.image:Clipping input data to the valid range for imshow with RGB data ([0..1] for floats or [0..255] for integers).\n",
            "WARNING:matplotlib.image:Clipping input data to the valid range for imshow with RGB data ([0..1] for floats or [0..255] for integers).\n",
            "WARNING:matplotlib.image:Clipping input data to the valid range for imshow with RGB data ([0..1] for floats or [0..255] for integers).\n",
            "WARNING:matplotlib.image:Clipping input data to the valid range for imshow with RGB data ([0..1] for floats or [0..255] for integers).\n",
            "WARNING:matplotlib.image:Clipping input data to the valid range for imshow with RGB data ([0..1] for floats or [0..255] for integers).\n",
            "WARNING:matplotlib.image:Clipping input data to the valid range for imshow with RGB data ([0..1] for floats or [0..255] for integers).\n",
            "WARNING:matplotlib.image:Clipping input data to the valid range for imshow with RGB data ([0..1] for floats or [0..255] for integers).\n"
          ]
        },
        {
          "output_type": "stream",
          "name": "stdout",
          "text": [
            "Results saved to results/visualization/zs_clip_base/ori/clip/images/prediction_images.pdf\n",
            "\n",
            "Accuracy: 0.5747, Precision: 0.5622, Recall: 0.6040, AUC: 0.5153\n",
            "Results saved to results/zs_clip_base/ori/clip/classification_results.txt\n"
          ]
        },
        {
          "output_type": "display_data",
          "data": {
            "text/plain": [
              "<Figure size 640x480 with 0 Axes>"
            ]
          },
          "metadata": {}
        }
      ],
      "source": [
        "%run MedCLIP-pediatric/scripts/zs_clip_base.py"
      ]
    },
    {
      "cell_type": "code",
      "execution_count": null,
      "metadata": {
        "colab": {
          "base_uri": "https://localhost:8080/",
          "height": 1000,
          "referenced_widgets": [
            "bbeb5956dd2c4d98bbdf5de023dfdea6",
            "130ae70b135f447a88ade28e5b51a2c7",
            "2ddc7c901bf6428894c6faad5a8d6c52",
            "515196446597438197fbb98cac39c87c",
            "4f4a3f67b9e54979af9f121a8e872e19",
            "82bda45d6db84afd94aa19a3b0a3f821",
            "0c6c43908eb944d993afc149e7bc9471",
            "bda4be8d3c4d4542a999e3242253fb38",
            "eaabe81db7024c7e86ee21aa64c2a93b",
            "fe4041a9ece342c5a98ad9c044585042",
            "21ecc69a32274d1488cc5d1b06fee7bf",
            "c8fa7ae68cbf40a48e241edea07a7db6",
            "98e0efa053d849a1bfb2e8db91044fd8",
            "f6076086e0574aecbfa5af475d5fb4f6",
            "094bc7faa1054e8b89193a4317aa78de",
            "d0dce183806644c2b34df9d09967c1bc",
            "30d3b88ea8d94091876931ce7aa30556",
            "b164440ea5be44c8baa1af18b78d528f",
            "b3e799a899b24e6d8dcfdb6f86b9529f",
            "97cece4a634647a3a259f0d8a1998270",
            "ed2e785c23034a8f85b540bab92be5eb",
            "74174b0af5ee45c7aaa4892191ebe63c",
            "5b3ab24bd3c04f9986bfd23f4cad9c86",
            "73de83ff39f4454e909b08efa4343201",
            "8361cd574a354ae8894bc9e6698962a8",
            "aa24d9309e8f41599e9235223083e7bd",
            "0078a8a6100144c0a2ee733247eaf40c",
            "20dc810fc4a24080b4adc2fa7e1b068b",
            "7d11bafd01d54f61b8f3d4779dfc5e18",
            "c89bc1e328484b5a9bd96a3dd5b1bf00",
            "f8afcc1885364cd7a61cdf88fdbe992b",
            "133863d6c1ef4c309f0df6263150e9b0",
            "9cfd8faaa4444d1fa43be60022d6c46a"
          ]
        },
        "id": "FzCs7t8nErwu",
        "outputId": "fadde6a2-a324-4bdb-fbfb-cf9b425dc372"
      },
      "outputs": [
        {
          "output_type": "stream",
          "name": "stdout",
          "text": [
            "Google Drive is already mounted.\n"
          ]
        },
        {
          "output_type": "stream",
          "name": "stderr",
          "text": [
            "/usr/local/lib/python3.10/dist-packages/keras/src/preprocessing/image.py:766: UserWarning: NumpyArrayIterator is set to use the data format convention \"channels_last\" (channels on axis 3), i.e. expected either 1, 3, or 4 channels on axis 3. However, it was passed an array with shape (1967, 1, 224, 224) (224 channels).\n",
            "  warnings.warn(\n",
            "/usr/local/lib/python3.10/dist-packages/keras/src/preprocessing/image.py:766: UserWarning: NumpyArrayIterator is set to use the data format convention \"channels_last\" (channels on axis 3), i.e. expected either 1, 3, or 4 channels on axis 3. However, it was passed an array with shape (493, 1, 224, 224) (224 channels).\n",
            "  warnings.warn(\n",
            "/usr/local/lib/python3.10/dist-packages/keras/src/preprocessing/image.py:766: UserWarning: NumpyArrayIterator is set to use the data format convention \"channels_last\" (channels on axis 3), i.e. expected either 1, 3, or 4 channels on axis 3. However, it was passed an array with shape (616, 1, 224, 224) (224 channels).\n",
            "  warnings.warn(\n"
          ]
        },
        {
          "output_type": "stream",
          "name": "stdout",
          "text": [
            "Results saved to results/visualization/zs_medclip_base/ucsd/medclip/images/cxr_images.pdf\n",
            "NVIDIA library configured successfully.\n"
          ]
        },
        {
          "output_type": "display_data",
          "data": {
            "text/plain": [
              "config.json:   0%|          | 0.00/71.8k [00:00<?, ?B/s]"
            ],
            "application/vnd.jupyter.widget-view+json": {
              "version_major": 2,
              "version_minor": 0,
              "model_id": "bbeb5956dd2c4d98bbdf5de023dfdea6"
            }
          },
          "metadata": {}
        },
        {
          "output_type": "display_data",
          "data": {
            "text/plain": [
              "model.safetensors:   0%|          | 0.00/113M [00:00<?, ?B/s]"
            ],
            "application/vnd.jupyter.widget-view+json": {
              "version_major": 2,
              "version_minor": 0,
              "model_id": "c8fa7ae68cbf40a48e241edea07a7db6"
            }
          },
          "metadata": {}
        },
        {
          "output_type": "stream",
          "name": "stderr",
          "text": [
            "/usr/local/lib/python3.10/dist-packages/torch/functional.py:507: UserWarning: torch.meshgrid: in an upcoming release, it will be required to pass the indexing argument. (Triggered internally at ../aten/src/ATen/native/TensorShape.cpp:3549.)\n",
            "  return _VF.meshgrid(tensors, **kwargs)  # type: ignore[attr-defined]\n",
            "Some weights of the model checkpoint at microsoft/swin-tiny-patch4-window7-224 were not used when initializing SwinModel: ['classifier.bias', 'classifier.weight']\n",
            "- This IS expected if you are initializing SwinModel from the checkpoint of a model trained on another task or with another architecture (e.g. initializing a BertForSequenceClassification model from a BertForPreTraining model).\n",
            "- This IS NOT expected if you are initializing SwinModel from the checkpoint of a model that you expect to be exactly identical (initializing a BertForSequenceClassification model from a BertForSequenceClassification model).\n"
          ]
        },
        {
          "output_type": "display_data",
          "data": {
            "text/plain": [
              "pytorch_model.bin:   0%|          | 0.00/436M [00:00<?, ?B/s]"
            ],
            "application/vnd.jupyter.widget-view+json": {
              "version_major": 2,
              "version_minor": 0,
              "model_id": "5b3ab24bd3c04f9986bfd23f4cad9c86"
            }
          },
          "metadata": {}
        },
        {
          "output_type": "stream",
          "name": "stderr",
          "text": [
            "Some weights of the model checkpoint at emilyalsentzer/Bio_ClinicalBERT were not used when initializing BertModel: ['cls.predictions.transform.LayerNorm.weight', 'cls.seq_relationship.weight', 'cls.predictions.transform.dense.weight', 'cls.predictions.transform.LayerNorm.bias', 'cls.predictions.bias', 'cls.seq_relationship.bias', 'cls.predictions.decoder.weight', 'cls.predictions.transform.dense.bias']\n",
            "- This IS expected if you are initializing BertModel from the checkpoint of a model trained on another task or with another architecture (e.g. initializing a BertForSequenceClassification model from a BertForPreTraining model).\n",
            "- This IS NOT expected if you are initializing BertModel from the checkpoint of a model that you expect to be exactly identical (initializing a BertForSequenceClassification model from a BertForSequenceClassification model).\n"
          ]
        },
        {
          "output_type": "stream",
          "name": "stdout",
          "text": [
            "\n",
            " Download pretrained model from: https://storage.googleapis.com/pytrial/medclip-vit-pretrained.zip\n",
            "load model weight from: ./pretrained/medclip-vit\n"
          ]
        },
        {
          "output_type": "stream",
          "name": "stderr",
          "text": [
            "\rEvaluate Train:   0%|          | 0/8 [00:00<?, ?it/s]"
          ]
        },
        {
          "output_type": "stream",
          "name": "stdout",
          "text": [
            "sample 1 num of prompts for COVID from total 12\n"
          ]
        },
        {
          "output_type": "stream",
          "name": "stderr",
          "text": [
            "\rEvaluate Train:  12%|█▎        | 1/8 [00:01<00:11,  1.70s/it]"
          ]
        },
        {
          "output_type": "stream",
          "name": "stdout",
          "text": [
            "sample 1 num of prompts for COVID from total 12\n"
          ]
        },
        {
          "output_type": "stream",
          "name": "stderr",
          "text": [
            "\rEvaluate Train:  25%|██▌       | 2/8 [00:03<00:10,  1.80s/it]"
          ]
        },
        {
          "output_type": "stream",
          "name": "stdout",
          "text": [
            "sample 1 num of prompts for COVID from total 12\n"
          ]
        },
        {
          "output_type": "stream",
          "name": "stderr",
          "text": [
            "\rEvaluate Train:  38%|███▊      | 3/8 [00:05<00:08,  1.63s/it]"
          ]
        },
        {
          "output_type": "stream",
          "name": "stdout",
          "text": [
            "sample 1 num of prompts for COVID from total 12\n"
          ]
        },
        {
          "output_type": "stream",
          "name": "stderr",
          "text": [
            "\rEvaluate Train:  50%|█████     | 4/8 [00:06<00:06,  1.56s/it]"
          ]
        },
        {
          "output_type": "stream",
          "name": "stdout",
          "text": [
            "sample 1 num of prompts for COVID from total 12\n"
          ]
        },
        {
          "output_type": "stream",
          "name": "stderr",
          "text": [
            "\rEvaluate Train:  62%|██████▎   | 5/8 [00:07<00:04,  1.52s/it]"
          ]
        },
        {
          "output_type": "stream",
          "name": "stdout",
          "text": [
            "sample 1 num of prompts for COVID from total 12\n"
          ]
        },
        {
          "output_type": "stream",
          "name": "stderr",
          "text": [
            "\rEvaluate Train:  75%|███████▌  | 6/8 [00:10<00:03,  1.84s/it]"
          ]
        },
        {
          "output_type": "stream",
          "name": "stdout",
          "text": [
            "sample 1 num of prompts for COVID from total 12\n"
          ]
        },
        {
          "output_type": "stream",
          "name": "stderr",
          "text": [
            "\rEvaluate Train:  88%|████████▊ | 7/8 [00:11<00:01,  1.76s/it]"
          ]
        },
        {
          "output_type": "stream",
          "name": "stdout",
          "text": [
            "sample 1 num of prompts for COVID from total 12\n"
          ]
        },
        {
          "output_type": "stream",
          "name": "stderr",
          "text": [
            "Evaluate Train: 100%|██████████| 8/8 [00:14<00:00,  1.75s/it]\n",
            "Evaluate Validation:   0%|          | 0/2 [00:00<?, ?it/s]"
          ]
        },
        {
          "output_type": "stream",
          "name": "stdout",
          "text": [
            "sample 1 num of prompts for COVID from total 12\n"
          ]
        },
        {
          "output_type": "stream",
          "name": "stderr",
          "text": [
            "\rEvaluate Validation:  50%|█████     | 1/2 [00:01<00:01,  1.41s/it]"
          ]
        },
        {
          "output_type": "stream",
          "name": "stdout",
          "text": [
            "sample 1 num of prompts for COVID from total 12\n"
          ]
        },
        {
          "output_type": "stream",
          "name": "stderr",
          "text": [
            "Evaluate Validation: 100%|██████████| 2/2 [00:03<00:00,  1.51s/it]\n",
            "Evaluate Test:   0%|          | 0/3 [00:00<?, ?it/s]"
          ]
        },
        {
          "output_type": "stream",
          "name": "stdout",
          "text": [
            "sample 1 num of prompts for COVID from total 12\n"
          ]
        },
        {
          "output_type": "stream",
          "name": "stderr",
          "text": [
            "\rEvaluate Test:  33%|███▎      | 1/3 [00:01<00:02,  1.42s/it]"
          ]
        },
        {
          "output_type": "stream",
          "name": "stdout",
          "text": [
            "sample 1 num of prompts for COVID from total 12\n"
          ]
        },
        {
          "output_type": "stream",
          "name": "stderr",
          "text": [
            "\rEvaluate Test:  67%|██████▋   | 2/3 [00:02<00:01,  1.46s/it]"
          ]
        },
        {
          "output_type": "stream",
          "name": "stdout",
          "text": [
            "sample 1 num of prompts for COVID from total 12\n"
          ]
        },
        {
          "output_type": "stream",
          "name": "stderr",
          "text": [
            "Evaluate Test: 100%|██████████| 3/3 [00:04<00:00,  1.50s/it]\n"
          ]
        },
        {
          "output_type": "stream",
          "name": "stdout",
          "text": [
            "\n",
            "Accuracy: 0.6905, Precision: 0.7038, Recall: 0.6256, AUC: 0.7730\n"
          ]
        },
        {
          "output_type": "stream",
          "name": "stderr",
          "text": [
            "\rEvaluate Train:   0%|          | 0/8 [00:00<?, ?it/s]"
          ]
        },
        {
          "output_type": "stream",
          "name": "stdout",
          "text": [
            "sample 2 num of prompts for COVID from total 12\n"
          ]
        },
        {
          "output_type": "stream",
          "name": "stderr",
          "text": [
            "\rEvaluate Train:  12%|█▎        | 1/8 [00:01<00:09,  1.38s/it]"
          ]
        },
        {
          "output_type": "stream",
          "name": "stdout",
          "text": [
            "sample 2 num of prompts for COVID from total 12\n"
          ]
        },
        {
          "output_type": "stream",
          "name": "stderr",
          "text": [
            "\rEvaluate Train:  25%|██▌       | 2/8 [00:02<00:08,  1.48s/it]"
          ]
        },
        {
          "output_type": "stream",
          "name": "stdout",
          "text": [
            "sample 2 num of prompts for COVID from total 12\n"
          ]
        },
        {
          "output_type": "stream",
          "name": "stderr",
          "text": [
            "\rEvaluate Train:  38%|███▊      | 3/8 [00:04<00:07,  1.43s/it]"
          ]
        },
        {
          "output_type": "stream",
          "name": "stdout",
          "text": [
            "sample 2 num of prompts for COVID from total 12\n"
          ]
        },
        {
          "output_type": "stream",
          "name": "stderr",
          "text": [
            "\rEvaluate Train:  50%|█████     | 4/8 [00:05<00:05,  1.46s/it]"
          ]
        },
        {
          "output_type": "stream",
          "name": "stdout",
          "text": [
            "sample 2 num of prompts for COVID from total 12\n"
          ]
        },
        {
          "output_type": "stream",
          "name": "stderr",
          "text": [
            "\rEvaluate Train:  62%|██████▎   | 5/8 [00:07<00:04,  1.58s/it]"
          ]
        },
        {
          "output_type": "stream",
          "name": "stdout",
          "text": [
            "sample 2 num of prompts for COVID from total 12\n"
          ]
        },
        {
          "output_type": "stream",
          "name": "stderr",
          "text": [
            "\rEvaluate Train:  75%|███████▌  | 6/8 [00:09<00:03,  1.53s/it]"
          ]
        },
        {
          "output_type": "stream",
          "name": "stdout",
          "text": [
            "sample 2 num of prompts for COVID from total 12\n"
          ]
        },
        {
          "output_type": "stream",
          "name": "stderr",
          "text": [
            "\rEvaluate Train:  88%|████████▊ | 7/8 [00:10<00:01,  1.49s/it]"
          ]
        },
        {
          "output_type": "stream",
          "name": "stdout",
          "text": [
            "sample 2 num of prompts for COVID from total 12\n"
          ]
        },
        {
          "output_type": "stream",
          "name": "stderr",
          "text": [
            "Evaluate Train: 100%|██████████| 8/8 [00:12<00:00,  1.54s/it]\n",
            "Evaluate Validation:   0%|          | 0/2 [00:00<?, ?it/s]"
          ]
        },
        {
          "output_type": "stream",
          "name": "stdout",
          "text": [
            "sample 2 num of prompts for COVID from total 12\n"
          ]
        },
        {
          "output_type": "stream",
          "name": "stderr",
          "text": [
            "\rEvaluate Validation:  50%|█████     | 1/2 [00:01<00:01,  1.37s/it]"
          ]
        },
        {
          "output_type": "stream",
          "name": "stdout",
          "text": [
            "sample 2 num of prompts for COVID from total 12\n"
          ]
        },
        {
          "output_type": "stream",
          "name": "stderr",
          "text": [
            "Evaluate Validation: 100%|██████████| 2/2 [00:03<00:00,  1.60s/it]\n",
            "Evaluate Test:   0%|          | 0/3 [00:00<?, ?it/s]"
          ]
        },
        {
          "output_type": "stream",
          "name": "stdout",
          "text": [
            "sample 2 num of prompts for COVID from total 12\n"
          ]
        },
        {
          "output_type": "stream",
          "name": "stderr",
          "text": [
            "\rEvaluate Test:  33%|███▎      | 1/3 [00:01<00:02,  1.48s/it]"
          ]
        },
        {
          "output_type": "stream",
          "name": "stdout",
          "text": [
            "sample 2 num of prompts for COVID from total 12\n"
          ]
        },
        {
          "output_type": "stream",
          "name": "stderr",
          "text": [
            "\rEvaluate Test:  67%|██████▋   | 2/3 [00:02<00:01,  1.45s/it]"
          ]
        },
        {
          "output_type": "stream",
          "name": "stdout",
          "text": [
            "sample 2 num of prompts for COVID from total 12\n"
          ]
        },
        {
          "output_type": "stream",
          "name": "stderr",
          "text": [
            "Evaluate Test: 100%|██████████| 3/3 [00:04<00:00,  1.50s/it]\n"
          ]
        },
        {
          "output_type": "stream",
          "name": "stdout",
          "text": [
            "\n",
            "Accuracy: 0.6775, Precision: 0.7042, Recall: 0.5787, AUC: 0.7656\n"
          ]
        },
        {
          "output_type": "stream",
          "name": "stderr",
          "text": [
            "\rEvaluate Train:   0%|          | 0/8 [00:00<?, ?it/s]"
          ]
        },
        {
          "output_type": "stream",
          "name": "stdout",
          "text": [
            "sample 3 num of prompts for COVID from total 12\n"
          ]
        },
        {
          "output_type": "stream",
          "name": "stderr",
          "text": [
            "\rEvaluate Train:  12%|█▎        | 1/8 [00:01<00:09,  1.39s/it]"
          ]
        },
        {
          "output_type": "stream",
          "name": "stdout",
          "text": [
            "sample 3 num of prompts for COVID from total 12\n"
          ]
        },
        {
          "output_type": "stream",
          "name": "stderr",
          "text": [
            "\rEvaluate Train:  25%|██▌       | 2/8 [00:02<00:08,  1.39s/it]"
          ]
        },
        {
          "output_type": "stream",
          "name": "stdout",
          "text": [
            "sample 3 num of prompts for COVID from total 12\n"
          ]
        },
        {
          "output_type": "stream",
          "name": "stderr",
          "text": [
            "\rEvaluate Train:  38%|███▊      | 3/8 [00:04<00:07,  1.45s/it]"
          ]
        },
        {
          "output_type": "stream",
          "name": "stdout",
          "text": [
            "sample 3 num of prompts for COVID from total 12\n"
          ]
        },
        {
          "output_type": "stream",
          "name": "stderr",
          "text": [
            "\rEvaluate Train:  50%|█████     | 4/8 [00:05<00:05,  1.42s/it]"
          ]
        },
        {
          "output_type": "stream",
          "name": "stdout",
          "text": [
            "sample 3 num of prompts for COVID from total 12\n"
          ]
        },
        {
          "output_type": "stream",
          "name": "stderr",
          "text": [
            "\rEvaluate Train:  62%|██████▎   | 5/8 [00:07<00:04,  1.52s/it]"
          ]
        },
        {
          "output_type": "stream",
          "name": "stdout",
          "text": [
            "sample 3 num of prompts for COVID from total 12\n"
          ]
        },
        {
          "output_type": "stream",
          "name": "stderr",
          "text": [
            "\rEvaluate Train:  75%|███████▌  | 6/8 [00:08<00:03,  1.53s/it]"
          ]
        },
        {
          "output_type": "stream",
          "name": "stdout",
          "text": [
            "sample 3 num of prompts for COVID from total 12\n"
          ]
        },
        {
          "output_type": "stream",
          "name": "stderr",
          "text": [
            "\rEvaluate Train:  88%|████████▊ | 7/8 [00:10<00:01,  1.48s/it]"
          ]
        },
        {
          "output_type": "stream",
          "name": "stdout",
          "text": [
            "sample 3 num of prompts for COVID from total 12\n"
          ]
        },
        {
          "output_type": "stream",
          "name": "stderr",
          "text": [
            "Evaluate Train: 100%|██████████| 8/8 [00:11<00:00,  1.49s/it]\n",
            "Evaluate Validation:   0%|          | 0/2 [00:00<?, ?it/s]"
          ]
        },
        {
          "output_type": "stream",
          "name": "stdout",
          "text": [
            "sample 3 num of prompts for COVID from total 12\n"
          ]
        },
        {
          "output_type": "stream",
          "name": "stderr",
          "text": [
            "\rEvaluate Validation:  50%|█████     | 1/2 [00:01<00:01,  1.54s/it]"
          ]
        },
        {
          "output_type": "stream",
          "name": "stdout",
          "text": [
            "sample 3 num of prompts for COVID from total 12\n"
          ]
        },
        {
          "output_type": "stream",
          "name": "stderr",
          "text": [
            "Evaluate Validation: 100%|██████████| 2/2 [00:03<00:00,  1.71s/it]\n",
            "Evaluate Test:   0%|          | 0/3 [00:00<?, ?it/s]"
          ]
        },
        {
          "output_type": "stream",
          "name": "stdout",
          "text": [
            "sample 3 num of prompts for COVID from total 12\n"
          ]
        },
        {
          "output_type": "stream",
          "name": "stderr",
          "text": [
            "\rEvaluate Test:  33%|███▎      | 1/3 [00:01<00:03,  1.86s/it]"
          ]
        },
        {
          "output_type": "stream",
          "name": "stdout",
          "text": [
            "sample 3 num of prompts for COVID from total 12\n"
          ]
        },
        {
          "output_type": "stream",
          "name": "stderr",
          "text": [
            "\rEvaluate Test:  67%|██████▋   | 2/3 [00:04<00:02,  2.08s/it]"
          ]
        },
        {
          "output_type": "stream",
          "name": "stdout",
          "text": [
            "sample 3 num of prompts for COVID from total 12\n"
          ]
        },
        {
          "output_type": "stream",
          "name": "stderr",
          "text": [
            "Evaluate Test: 100%|██████████| 3/3 [00:05<00:00,  1.86s/it]\n"
          ]
        },
        {
          "output_type": "stream",
          "name": "stdout",
          "text": [
            "\n",
            "Accuracy: 0.7546, Precision: 0.6841, Recall: 0.9183, AUC: 0.8580\n"
          ]
        },
        {
          "output_type": "stream",
          "name": "stderr",
          "text": [
            "\rEvaluate Train:   0%|          | 0/8 [00:00<?, ?it/s]"
          ]
        },
        {
          "output_type": "stream",
          "name": "stdout",
          "text": [
            "sample 4 num of prompts for COVID from total 12\n"
          ]
        },
        {
          "output_type": "stream",
          "name": "stderr",
          "text": [
            "\rEvaluate Train:  12%|█▎        | 1/8 [00:01<00:09,  1.39s/it]"
          ]
        },
        {
          "output_type": "stream",
          "name": "stdout",
          "text": [
            "sample 4 num of prompts for COVID from total 12\n"
          ]
        },
        {
          "output_type": "stream",
          "name": "stderr",
          "text": [
            "\rEvaluate Train:  25%|██▌       | 2/8 [00:03<00:10,  1.77s/it]"
          ]
        },
        {
          "output_type": "stream",
          "name": "stdout",
          "text": [
            "sample 4 num of prompts for COVID from total 12\n"
          ]
        },
        {
          "output_type": "stream",
          "name": "stderr",
          "text": [
            "\rEvaluate Train:  38%|███▊      | 3/8 [00:05<00:09,  1.91s/it]"
          ]
        },
        {
          "output_type": "stream",
          "name": "stdout",
          "text": [
            "sample 4 num of prompts for COVID from total 12\n"
          ]
        },
        {
          "output_type": "stream",
          "name": "stderr",
          "text": [
            "\rEvaluate Train:  50%|█████     | 4/8 [00:06<00:06,  1.70s/it]"
          ]
        },
        {
          "output_type": "stream",
          "name": "stdout",
          "text": [
            "sample 4 num of prompts for COVID from total 12\n"
          ]
        },
        {
          "output_type": "stream",
          "name": "stderr",
          "text": [
            "\rEvaluate Train:  62%|██████▎   | 5/8 [00:08<00:04,  1.60s/it]"
          ]
        },
        {
          "output_type": "stream",
          "name": "stdout",
          "text": [
            "sample 4 num of prompts for COVID from total 12\n"
          ]
        },
        {
          "output_type": "stream",
          "name": "stderr",
          "text": [
            "\rEvaluate Train:  75%|███████▌  | 6/8 [00:10<00:03,  1.81s/it]"
          ]
        },
        {
          "output_type": "stream",
          "name": "stdout",
          "text": [
            "sample 4 num of prompts for COVID from total 12\n"
          ]
        },
        {
          "output_type": "stream",
          "name": "stderr",
          "text": [
            "\rEvaluate Train:  88%|████████▊ | 7/8 [00:12<00:01,  1.72s/it]"
          ]
        },
        {
          "output_type": "stream",
          "name": "stdout",
          "text": [
            "sample 4 num of prompts for COVID from total 12\n"
          ]
        },
        {
          "output_type": "stream",
          "name": "stderr",
          "text": [
            "Evaluate Train: 100%|██████████| 8/8 [00:13<00:00,  1.67s/it]\n",
            "Evaluate Validation:   0%|          | 0/2 [00:00<?, ?it/s]"
          ]
        },
        {
          "output_type": "stream",
          "name": "stdout",
          "text": [
            "sample 4 num of prompts for COVID from total 12\n"
          ]
        },
        {
          "output_type": "stream",
          "name": "stderr",
          "text": [
            "\rEvaluate Validation:  50%|█████     | 1/2 [00:01<00:01,  1.39s/it]"
          ]
        },
        {
          "output_type": "stream",
          "name": "stdout",
          "text": [
            "sample 4 num of prompts for COVID from total 12\n"
          ]
        },
        {
          "output_type": "stream",
          "name": "stderr",
          "text": [
            "Evaluate Validation: 100%|██████████| 2/2 [00:02<00:00,  1.49s/it]\n",
            "Evaluate Test:   0%|          | 0/3 [00:00<?, ?it/s]"
          ]
        },
        {
          "output_type": "stream",
          "name": "stdout",
          "text": [
            "sample 4 num of prompts for COVID from total 12\n"
          ]
        },
        {
          "output_type": "stream",
          "name": "stderr",
          "text": [
            "\rEvaluate Test:  33%|███▎      | 1/3 [00:01<00:02,  1.42s/it]"
          ]
        },
        {
          "output_type": "stream",
          "name": "stdout",
          "text": [
            "sample 4 num of prompts for COVID from total 12\n"
          ]
        },
        {
          "output_type": "stream",
          "name": "stderr",
          "text": [
            "\rEvaluate Test:  67%|██████▋   | 2/3 [00:02<00:01,  1.44s/it]"
          ]
        },
        {
          "output_type": "stream",
          "name": "stdout",
          "text": [
            "sample 4 num of prompts for COVID from total 12\n"
          ]
        },
        {
          "output_type": "stream",
          "name": "stderr",
          "text": [
            "Evaluate Test: 100%|██████████| 3/3 [00:04<00:00,  1.37s/it]\n"
          ]
        },
        {
          "output_type": "stream",
          "name": "stdout",
          "text": [
            "\n",
            "Accuracy: 0.7428, Precision: 0.6875, Recall: 0.8620, AUC: 0.8411\n"
          ]
        },
        {
          "output_type": "stream",
          "name": "stderr",
          "text": [
            "\rEvaluate Train:   0%|          | 0/8 [00:00<?, ?it/s]"
          ]
        },
        {
          "output_type": "stream",
          "name": "stdout",
          "text": [
            "sample 5 num of prompts for COVID from total 12\n"
          ]
        },
        {
          "output_type": "stream",
          "name": "stderr",
          "text": [
            "\rEvaluate Train:  12%|█▎        | 1/8 [00:01<00:09,  1.42s/it]"
          ]
        },
        {
          "output_type": "stream",
          "name": "stdout",
          "text": [
            "sample 5 num of prompts for COVID from total 12\n"
          ]
        },
        {
          "output_type": "stream",
          "name": "stderr",
          "text": [
            "\rEvaluate Train:  25%|██▌       | 2/8 [00:02<00:08,  1.40s/it]"
          ]
        },
        {
          "output_type": "stream",
          "name": "stdout",
          "text": [
            "sample 5 num of prompts for COVID from total 12\n"
          ]
        },
        {
          "output_type": "stream",
          "name": "stderr",
          "text": [
            "\rEvaluate Train:  38%|███▊      | 3/8 [00:04<00:06,  1.40s/it]"
          ]
        },
        {
          "output_type": "stream",
          "name": "stdout",
          "text": [
            "sample 5 num of prompts for COVID from total 12\n"
          ]
        },
        {
          "output_type": "stream",
          "name": "stderr",
          "text": [
            "\rEvaluate Train:  50%|█████     | 4/8 [00:05<00:05,  1.48s/it]"
          ]
        },
        {
          "output_type": "stream",
          "name": "stdout",
          "text": [
            "sample 5 num of prompts for COVID from total 12\n"
          ]
        },
        {
          "output_type": "stream",
          "name": "stderr",
          "text": [
            "\rEvaluate Train:  62%|██████▎   | 5/8 [00:07<00:04,  1.44s/it]"
          ]
        },
        {
          "output_type": "stream",
          "name": "stdout",
          "text": [
            "sample 5 num of prompts for COVID from total 12\n"
          ]
        },
        {
          "output_type": "stream",
          "name": "stderr",
          "text": [
            "\rEvaluate Train:  75%|███████▌  | 6/8 [00:08<00:03,  1.50s/it]"
          ]
        },
        {
          "output_type": "stream",
          "name": "stdout",
          "text": [
            "sample 5 num of prompts for COVID from total 12\n"
          ]
        },
        {
          "output_type": "stream",
          "name": "stderr",
          "text": [
            "\rEvaluate Train:  88%|████████▊ | 7/8 [00:10<00:01,  1.46s/it]"
          ]
        },
        {
          "output_type": "stream",
          "name": "stdout",
          "text": [
            "sample 5 num of prompts for COVID from total 12\n"
          ]
        },
        {
          "output_type": "stream",
          "name": "stderr",
          "text": [
            "Evaluate Train: 100%|██████████| 8/8 [00:11<00:00,  1.47s/it]\n",
            "Evaluate Validation:   0%|          | 0/2 [00:00<?, ?it/s]"
          ]
        },
        {
          "output_type": "stream",
          "name": "stdout",
          "text": [
            "sample 5 num of prompts for COVID from total 12\n"
          ]
        },
        {
          "output_type": "stream",
          "name": "stderr",
          "text": [
            "\rEvaluate Validation:  50%|█████     | 1/2 [00:01<00:01,  1.38s/it]"
          ]
        },
        {
          "output_type": "stream",
          "name": "stdout",
          "text": [
            "sample 5 num of prompts for COVID from total 12\n"
          ]
        },
        {
          "output_type": "stream",
          "name": "stderr",
          "text": [
            "Evaluate Validation: 100%|██████████| 2/2 [00:03<00:00,  1.57s/it]\n",
            "Evaluate Test:   0%|          | 0/3 [00:00<?, ?it/s]"
          ]
        },
        {
          "output_type": "stream",
          "name": "stdout",
          "text": [
            "sample 5 num of prompts for COVID from total 12\n"
          ]
        },
        {
          "output_type": "stream",
          "name": "stderr",
          "text": [
            "\rEvaluate Test:  33%|███▎      | 1/3 [00:01<00:02,  1.48s/it]"
          ]
        },
        {
          "output_type": "stream",
          "name": "stdout",
          "text": [
            "sample 5 num of prompts for COVID from total 12\n"
          ]
        },
        {
          "output_type": "stream",
          "name": "stderr",
          "text": [
            "\rEvaluate Test:  67%|██████▋   | 2/3 [00:02<00:01,  1.46s/it]"
          ]
        },
        {
          "output_type": "stream",
          "name": "stdout",
          "text": [
            "sample 5 num of prompts for COVID from total 12\n"
          ]
        },
        {
          "output_type": "stream",
          "name": "stderr",
          "text": [
            "Evaluate Test: 100%|██████████| 3/3 [00:04<00:00,  1.50s/it]\n"
          ]
        },
        {
          "output_type": "stream",
          "name": "stdout",
          "text": [
            "\n",
            "Accuracy: 0.7503, Precision: 0.6794, Recall: 0.9196, AUC: 0.8596\n"
          ]
        },
        {
          "output_type": "stream",
          "name": "stderr",
          "text": [
            "\rEvaluate Train:   0%|          | 0/8 [00:00<?, ?it/s]"
          ]
        },
        {
          "output_type": "stream",
          "name": "stdout",
          "text": [
            "sample 6 num of prompts for COVID from total 12\n"
          ]
        },
        {
          "output_type": "stream",
          "name": "stderr",
          "text": [
            "\rEvaluate Train:  12%|█▎        | 1/8 [00:01<00:10,  1.43s/it]"
          ]
        },
        {
          "output_type": "stream",
          "name": "stdout",
          "text": [
            "sample 6 num of prompts for COVID from total 12\n"
          ]
        },
        {
          "output_type": "stream",
          "name": "stderr",
          "text": [
            "\rEvaluate Train:  25%|██▌       | 2/8 [00:03<00:10,  1.76s/it]"
          ]
        },
        {
          "output_type": "stream",
          "name": "stdout",
          "text": [
            "sample 6 num of prompts for COVID from total 12\n"
          ]
        },
        {
          "output_type": "stream",
          "name": "stderr",
          "text": [
            "\rEvaluate Train:  38%|███▊      | 3/8 [00:05<00:09,  1.85s/it]"
          ]
        },
        {
          "output_type": "stream",
          "name": "stdout",
          "text": [
            "sample 6 num of prompts for COVID from total 12\n"
          ]
        },
        {
          "output_type": "stream",
          "name": "stderr",
          "text": [
            "\rEvaluate Train:  50%|█████     | 4/8 [00:06<00:06,  1.67s/it]"
          ]
        },
        {
          "output_type": "stream",
          "name": "stdout",
          "text": [
            "sample 6 num of prompts for COVID from total 12\n"
          ]
        },
        {
          "output_type": "stream",
          "name": "stderr",
          "text": [
            "\rEvaluate Train:  62%|██████▎   | 5/8 [00:08<00:04,  1.56s/it]"
          ]
        },
        {
          "output_type": "stream",
          "name": "stdout",
          "text": [
            "sample 6 num of prompts for COVID from total 12\n"
          ]
        },
        {
          "output_type": "stream",
          "name": "stderr",
          "text": [
            "\rEvaluate Train:  75%|███████▌  | 6/8 [00:09<00:03,  1.55s/it]"
          ]
        },
        {
          "output_type": "stream",
          "name": "stdout",
          "text": [
            "sample 6 num of prompts for COVID from total 12\n"
          ]
        },
        {
          "output_type": "stream",
          "name": "stderr",
          "text": [
            "\rEvaluate Train:  88%|████████▊ | 7/8 [00:11<00:01,  1.59s/it]"
          ]
        },
        {
          "output_type": "stream",
          "name": "stdout",
          "text": [
            "sample 6 num of prompts for COVID from total 12\n"
          ]
        },
        {
          "output_type": "stream",
          "name": "stderr",
          "text": [
            "Evaluate Train: 100%|██████████| 8/8 [00:13<00:00,  1.69s/it]\n",
            "Evaluate Validation:   0%|          | 0/2 [00:00<?, ?it/s]"
          ]
        },
        {
          "output_type": "stream",
          "name": "stdout",
          "text": [
            "sample 6 num of prompts for COVID from total 12\n"
          ]
        },
        {
          "output_type": "stream",
          "name": "stderr",
          "text": [
            "\rEvaluate Validation:  50%|█████     | 1/2 [00:01<00:01,  1.39s/it]"
          ]
        },
        {
          "output_type": "stream",
          "name": "stdout",
          "text": [
            "sample 6 num of prompts for COVID from total 12\n"
          ]
        },
        {
          "output_type": "stream",
          "name": "stderr",
          "text": [
            "Evaluate Validation: 100%|██████████| 2/2 [00:02<00:00,  1.41s/it]\n",
            "Evaluate Test:   0%|          | 0/3 [00:00<?, ?it/s]"
          ]
        },
        {
          "output_type": "stream",
          "name": "stdout",
          "text": [
            "sample 6 num of prompts for COVID from total 12\n"
          ]
        },
        {
          "output_type": "stream",
          "name": "stderr",
          "text": [
            "\rEvaluate Test:  33%|███▎      | 1/3 [00:01<00:02,  1.44s/it]"
          ]
        },
        {
          "output_type": "stream",
          "name": "stdout",
          "text": [
            "sample 6 num of prompts for COVID from total 12\n"
          ]
        },
        {
          "output_type": "stream",
          "name": "stderr",
          "text": [
            "\rEvaluate Test:  67%|██████▋   | 2/3 [00:02<00:01,  1.45s/it]"
          ]
        },
        {
          "output_type": "stream",
          "name": "stdout",
          "text": [
            "sample 6 num of prompts for COVID from total 12\n"
          ]
        },
        {
          "output_type": "stream",
          "name": "stderr",
          "text": [
            "Evaluate Test: 100%|██████████| 3/3 [00:04<00:00,  1.55s/it]\n"
          ]
        },
        {
          "output_type": "stream",
          "name": "stdout",
          "text": [
            "\n",
            "Accuracy: 0.7503, Precision: 0.6797, Recall: 0.9183, AUC: 0.8597\n"
          ]
        },
        {
          "output_type": "stream",
          "name": "stderr",
          "text": [
            "\rEvaluate Train:   0%|          | 0/8 [00:00<?, ?it/s]"
          ]
        },
        {
          "output_type": "stream",
          "name": "stdout",
          "text": [
            "sample 7 num of prompts for COVID from total 12\n"
          ]
        },
        {
          "output_type": "stream",
          "name": "stderr",
          "text": [
            "\rEvaluate Train:  12%|█▎        | 1/8 [00:01<00:09,  1.39s/it]"
          ]
        },
        {
          "output_type": "stream",
          "name": "stdout",
          "text": [
            "sample 7 num of prompts for COVID from total 12\n"
          ]
        },
        {
          "output_type": "stream",
          "name": "stderr",
          "text": [
            "\rEvaluate Train:  25%|██▌       | 2/8 [00:02<00:08,  1.39s/it]"
          ]
        },
        {
          "output_type": "stream",
          "name": "stdout",
          "text": [
            "sample 7 num of prompts for COVID from total 12\n"
          ]
        },
        {
          "output_type": "stream",
          "name": "stderr",
          "text": [
            "\rEvaluate Train:  38%|███▊      | 3/8 [00:04<00:07,  1.40s/it]"
          ]
        },
        {
          "output_type": "stream",
          "name": "stdout",
          "text": [
            "sample 7 num of prompts for COVID from total 12\n"
          ]
        },
        {
          "output_type": "stream",
          "name": "stderr",
          "text": [
            "\rEvaluate Train:  50%|█████     | 4/8 [00:06<00:06,  1.67s/it]"
          ]
        },
        {
          "output_type": "stream",
          "name": "stdout",
          "text": [
            "sample 7 num of prompts for COVID from total 12\n"
          ]
        },
        {
          "output_type": "stream",
          "name": "stderr",
          "text": [
            "\rEvaluate Train:  62%|██████▎   | 5/8 [00:08<00:05,  1.79s/it]"
          ]
        },
        {
          "output_type": "stream",
          "name": "stdout",
          "text": [
            "sample 7 num of prompts for COVID from total 12\n"
          ]
        },
        {
          "output_type": "stream",
          "name": "stderr",
          "text": [
            "\rEvaluate Train:  75%|███████▌  | 6/8 [00:09<00:03,  1.66s/it]"
          ]
        },
        {
          "output_type": "stream",
          "name": "stdout",
          "text": [
            "sample 7 num of prompts for COVID from total 12\n"
          ]
        },
        {
          "output_type": "stream",
          "name": "stderr",
          "text": [
            "\rEvaluate Train:  88%|████████▊ | 7/8 [00:11<00:01,  1.63s/it]"
          ]
        },
        {
          "output_type": "stream",
          "name": "stdout",
          "text": [
            "sample 7 num of prompts for COVID from total 12\n"
          ]
        },
        {
          "output_type": "stream",
          "name": "stderr",
          "text": [
            "Evaluate Train: 100%|██████████| 8/8 [00:12<00:00,  1.61s/it]\n",
            "Evaluate Validation:   0%|          | 0/2 [00:00<?, ?it/s]"
          ]
        },
        {
          "output_type": "stream",
          "name": "stdout",
          "text": [
            "sample 7 num of prompts for COVID from total 12\n"
          ]
        },
        {
          "output_type": "stream",
          "name": "stderr",
          "text": [
            "\rEvaluate Validation:  50%|█████     | 1/2 [00:01<00:01,  1.37s/it]"
          ]
        },
        {
          "output_type": "stream",
          "name": "stdout",
          "text": [
            "sample 7 num of prompts for COVID from total 12\n"
          ]
        },
        {
          "output_type": "stream",
          "name": "stderr",
          "text": [
            "Evaluate Validation: 100%|██████████| 2/2 [00:02<00:00,  1.49s/it]\n",
            "Evaluate Test:   0%|          | 0/3 [00:00<?, ?it/s]"
          ]
        },
        {
          "output_type": "stream",
          "name": "stdout",
          "text": [
            "sample 7 num of prompts for COVID from total 12\n"
          ]
        },
        {
          "output_type": "stream",
          "name": "stderr",
          "text": [
            "\rEvaluate Test:  33%|███▎      | 1/3 [00:01<00:02,  1.45s/it]"
          ]
        },
        {
          "output_type": "stream",
          "name": "stdout",
          "text": [
            "sample 7 num of prompts for COVID from total 12\n"
          ]
        },
        {
          "output_type": "stream",
          "name": "stderr",
          "text": [
            "\rEvaluate Test:  67%|██████▋   | 2/3 [00:02<00:01,  1.44s/it]"
          ]
        },
        {
          "output_type": "stream",
          "name": "stdout",
          "text": [
            "sample 7 num of prompts for COVID from total 12\n"
          ]
        },
        {
          "output_type": "stream",
          "name": "stderr",
          "text": [
            "Evaluate Test: 100%|██████████| 3/3 [00:05<00:00,  2.00s/it]\n"
          ]
        },
        {
          "output_type": "stream",
          "name": "stdout",
          "text": [
            "\n",
            "Accuracy: 0.7500, Precision: 0.6785, Recall: 0.9216, AUC: 0.8604\n"
          ]
        },
        {
          "output_type": "stream",
          "name": "stderr",
          "text": [
            "\rEvaluate Train:   0%|          | 0/8 [00:00<?, ?it/s]"
          ]
        },
        {
          "output_type": "stream",
          "name": "stdout",
          "text": [
            "sample 8 num of prompts for COVID from total 12\n"
          ]
        },
        {
          "output_type": "stream",
          "name": "stderr",
          "text": [
            "\rEvaluate Train:  12%|█▎        | 1/8 [00:01<00:09,  1.41s/it]"
          ]
        },
        {
          "output_type": "stream",
          "name": "stdout",
          "text": [
            "sample 8 num of prompts for COVID from total 12\n"
          ]
        },
        {
          "output_type": "stream",
          "name": "stderr",
          "text": [
            "\rEvaluate Train:  25%|██▌       | 2/8 [00:03<00:10,  1.75s/it]"
          ]
        },
        {
          "output_type": "stream",
          "name": "stdout",
          "text": [
            "sample 8 num of prompts for COVID from total 12\n"
          ]
        },
        {
          "output_type": "stream",
          "name": "stderr",
          "text": [
            "\rEvaluate Train:  38%|███▊      | 3/8 [00:05<00:09,  1.85s/it]"
          ]
        },
        {
          "output_type": "stream",
          "name": "stdout",
          "text": [
            "sample 8 num of prompts for COVID from total 12\n"
          ]
        },
        {
          "output_type": "stream",
          "name": "stderr",
          "text": [
            "\rEvaluate Train:  50%|█████     | 4/8 [00:07<00:07,  1.91s/it]"
          ]
        },
        {
          "output_type": "stream",
          "name": "stdout",
          "text": [
            "sample 8 num of prompts for COVID from total 12\n"
          ]
        },
        {
          "output_type": "stream",
          "name": "stderr",
          "text": [
            "\rEvaluate Train:  62%|██████▎   | 5/8 [00:08<00:05,  1.75s/it]"
          ]
        },
        {
          "output_type": "stream",
          "name": "stdout",
          "text": [
            "sample 8 num of prompts for COVID from total 12\n"
          ]
        },
        {
          "output_type": "stream",
          "name": "stderr",
          "text": [
            "\rEvaluate Train:  75%|███████▌  | 6/8 [00:10<00:03,  1.81s/it]"
          ]
        },
        {
          "output_type": "stream",
          "name": "stdout",
          "text": [
            "sample 8 num of prompts for COVID from total 12\n"
          ]
        },
        {
          "output_type": "stream",
          "name": "stderr",
          "text": [
            "\rEvaluate Train:  88%|████████▊ | 7/8 [00:12<00:01,  1.69s/it]"
          ]
        },
        {
          "output_type": "stream",
          "name": "stdout",
          "text": [
            "sample 8 num of prompts for COVID from total 12\n"
          ]
        },
        {
          "output_type": "stream",
          "name": "stderr",
          "text": [
            "Evaluate Train: 100%|██████████| 8/8 [00:14<00:00,  1.87s/it]\n",
            "Evaluate Validation:   0%|          | 0/2 [00:00<?, ?it/s]"
          ]
        },
        {
          "output_type": "stream",
          "name": "stdout",
          "text": [
            "sample 8 num of prompts for COVID from total 12\n"
          ]
        },
        {
          "output_type": "stream",
          "name": "stderr",
          "text": [
            "\rEvaluate Validation:  50%|█████     | 1/2 [00:01<00:01,  1.43s/it]"
          ]
        },
        {
          "output_type": "stream",
          "name": "stdout",
          "text": [
            "sample 8 num of prompts for COVID from total 12\n"
          ]
        },
        {
          "output_type": "stream",
          "name": "stderr",
          "text": [
            "Evaluate Validation: 100%|██████████| 2/2 [00:02<00:00,  1.48s/it]\n",
            "Evaluate Test:   0%|          | 0/3 [00:00<?, ?it/s]"
          ]
        },
        {
          "output_type": "stream",
          "name": "stdout",
          "text": [
            "sample 8 num of prompts for COVID from total 12\n"
          ]
        },
        {
          "output_type": "stream",
          "name": "stderr",
          "text": [
            "\rEvaluate Test:  33%|███▎      | 1/3 [00:01<00:02,  1.45s/it]"
          ]
        },
        {
          "output_type": "stream",
          "name": "stdout",
          "text": [
            "sample 8 num of prompts for COVID from total 12\n"
          ]
        },
        {
          "output_type": "stream",
          "name": "stderr",
          "text": [
            "\rEvaluate Test:  67%|██████▋   | 2/3 [00:03<00:01,  1.62s/it]"
          ]
        },
        {
          "output_type": "stream",
          "name": "stdout",
          "text": [
            "sample 8 num of prompts for COVID from total 12\n"
          ]
        },
        {
          "output_type": "stream",
          "name": "stderr",
          "text": [
            "Evaluate Test: 100%|██████████| 3/3 [00:04<00:00,  1.51s/it]\n"
          ]
        },
        {
          "output_type": "stream",
          "name": "stdout",
          "text": [
            "\n",
            "Accuracy: 0.7503, Precision: 0.6788, Recall: 0.9216, AUC: 0.8597\n"
          ]
        },
        {
          "output_type": "stream",
          "name": "stderr",
          "text": [
            "\rEvaluate Train:   0%|          | 0/8 [00:00<?, ?it/s]"
          ]
        },
        {
          "output_type": "stream",
          "name": "stdout",
          "text": [
            "sample 9 num of prompts for COVID from total 12\n"
          ]
        },
        {
          "output_type": "stream",
          "name": "stderr",
          "text": [
            "\rEvaluate Train:  12%|█▎        | 1/8 [00:01<00:09,  1.38s/it]"
          ]
        },
        {
          "output_type": "stream",
          "name": "stdout",
          "text": [
            "sample 9 num of prompts for COVID from total 12\n"
          ]
        },
        {
          "output_type": "stream",
          "name": "stderr",
          "text": [
            "\rEvaluate Train:  25%|██▌       | 2/8 [00:03<00:09,  1.62s/it]"
          ]
        },
        {
          "output_type": "stream",
          "name": "stdout",
          "text": [
            "sample 9 num of prompts for COVID from total 12\n"
          ]
        },
        {
          "output_type": "stream",
          "name": "stderr",
          "text": [
            "\rEvaluate Train:  38%|███▊      | 3/8 [00:04<00:07,  1.54s/it]"
          ]
        },
        {
          "output_type": "stream",
          "name": "stdout",
          "text": [
            "sample 9 num of prompts for COVID from total 12\n"
          ]
        },
        {
          "output_type": "stream",
          "name": "stderr",
          "text": [
            "\rEvaluate Train:  50%|█████     | 4/8 [00:07<00:07,  1.95s/it]"
          ]
        },
        {
          "output_type": "stream",
          "name": "stdout",
          "text": [
            "sample 9 num of prompts for COVID from total 12\n"
          ]
        },
        {
          "output_type": "stream",
          "name": "stderr",
          "text": [
            "\rEvaluate Train:  62%|██████▎   | 5/8 [00:08<00:05,  1.84s/it]"
          ]
        },
        {
          "output_type": "stream",
          "name": "stdout",
          "text": [
            "sample 9 num of prompts for COVID from total 12\n"
          ]
        },
        {
          "output_type": "stream",
          "name": "stderr",
          "text": [
            "\rEvaluate Train:  75%|███████▌  | 6/8 [00:10<00:03,  1.78s/it]"
          ]
        },
        {
          "output_type": "stream",
          "name": "stdout",
          "text": [
            "sample 9 num of prompts for COVID from total 12\n"
          ]
        },
        {
          "output_type": "stream",
          "name": "stderr",
          "text": [
            "\rEvaluate Train:  88%|████████▊ | 7/8 [00:11<00:01,  1.65s/it]"
          ]
        },
        {
          "output_type": "stream",
          "name": "stdout",
          "text": [
            "sample 9 num of prompts for COVID from total 12\n"
          ]
        },
        {
          "output_type": "stream",
          "name": "stderr",
          "text": [
            "Evaluate Train: 100%|██████████| 8/8 [00:13<00:00,  1.65s/it]\n",
            "Evaluate Validation:   0%|          | 0/2 [00:00<?, ?it/s]"
          ]
        },
        {
          "output_type": "stream",
          "name": "stdout",
          "text": [
            "sample 9 num of prompts for COVID from total 12\n"
          ]
        },
        {
          "output_type": "stream",
          "name": "stderr",
          "text": [
            "\rEvaluate Validation:  50%|█████     | 1/2 [00:01<00:01,  1.48s/it]"
          ]
        },
        {
          "output_type": "stream",
          "name": "stdout",
          "text": [
            "sample 9 num of prompts for COVID from total 12\n"
          ]
        },
        {
          "output_type": "stream",
          "name": "stderr",
          "text": [
            "Evaluate Validation: 100%|██████████| 2/2 [00:03<00:00,  1.64s/it]\n",
            "Evaluate Test:   0%|          | 0/3 [00:00<?, ?it/s]"
          ]
        },
        {
          "output_type": "stream",
          "name": "stdout",
          "text": [
            "sample 9 num of prompts for COVID from total 12\n"
          ]
        },
        {
          "output_type": "stream",
          "name": "stderr",
          "text": [
            "\rEvaluate Test:  33%|███▎      | 1/3 [00:01<00:03,  1.56s/it]"
          ]
        },
        {
          "output_type": "stream",
          "name": "stdout",
          "text": [
            "sample 9 num of prompts for COVID from total 12\n"
          ]
        },
        {
          "output_type": "stream",
          "name": "stderr",
          "text": [
            "\rEvaluate Test:  67%|██████▋   | 2/3 [00:03<00:01,  1.93s/it]"
          ]
        },
        {
          "output_type": "stream",
          "name": "stdout",
          "text": [
            "sample 9 num of prompts for COVID from total 12\n"
          ]
        },
        {
          "output_type": "stream",
          "name": "stderr",
          "text": [
            "Evaluate Test: 100%|██████████| 3/3 [00:05<00:00,  1.77s/it]\n"
          ]
        },
        {
          "output_type": "stream",
          "name": "stdout",
          "text": [
            "\n",
            "Accuracy: 0.7493, Precision: 0.6780, Recall: 0.9210, AUC: 0.8600\n"
          ]
        },
        {
          "output_type": "stream",
          "name": "stderr",
          "text": [
            "\rEvaluate Train:   0%|          | 0/8 [00:00<?, ?it/s]"
          ]
        },
        {
          "output_type": "stream",
          "name": "stdout",
          "text": [
            "sample 10 num of prompts for COVID from total 12\n"
          ]
        },
        {
          "output_type": "stream",
          "name": "stderr",
          "text": [
            "\rEvaluate Train:  12%|█▎        | 1/8 [00:01<00:09,  1.37s/it]"
          ]
        },
        {
          "output_type": "stream",
          "name": "stdout",
          "text": [
            "sample 10 num of prompts for COVID from total 12\n"
          ]
        },
        {
          "output_type": "stream",
          "name": "stderr",
          "text": [
            "\rEvaluate Train:  25%|██▌       | 2/8 [00:03<00:09,  1.57s/it]"
          ]
        },
        {
          "output_type": "stream",
          "name": "stdout",
          "text": [
            "sample 10 num of prompts for COVID from total 12\n"
          ]
        },
        {
          "output_type": "stream",
          "name": "stderr",
          "text": [
            "\rEvaluate Train:  38%|███▊      | 3/8 [00:04<00:07,  1.48s/it]"
          ]
        },
        {
          "output_type": "stream",
          "name": "stdout",
          "text": [
            "sample 10 num of prompts for COVID from total 12\n"
          ]
        },
        {
          "output_type": "stream",
          "name": "stderr",
          "text": [
            "\rEvaluate Train:  50%|█████     | 4/8 [00:06<00:06,  1.54s/it]"
          ]
        },
        {
          "output_type": "stream",
          "name": "stdout",
          "text": [
            "sample 10 num of prompts for COVID from total 12\n"
          ]
        },
        {
          "output_type": "stream",
          "name": "stderr",
          "text": [
            "\rEvaluate Train:  62%|██████▎   | 5/8 [00:07<00:04,  1.49s/it]"
          ]
        },
        {
          "output_type": "stream",
          "name": "stdout",
          "text": [
            "sample 10 num of prompts for COVID from total 12\n"
          ]
        },
        {
          "output_type": "stream",
          "name": "stderr",
          "text": [
            "\rEvaluate Train:  75%|███████▌  | 6/8 [00:08<00:02,  1.49s/it]"
          ]
        },
        {
          "output_type": "stream",
          "name": "stdout",
          "text": [
            "sample 10 num of prompts for COVID from total 12\n"
          ]
        },
        {
          "output_type": "stream",
          "name": "stderr",
          "text": [
            "\rEvaluate Train:  88%|████████▊ | 7/8 [00:10<00:01,  1.47s/it]"
          ]
        },
        {
          "output_type": "stream",
          "name": "stdout",
          "text": [
            "sample 10 num of prompts for COVID from total 12\n"
          ]
        },
        {
          "output_type": "stream",
          "name": "stderr",
          "text": [
            "Evaluate Train: 100%|██████████| 8/8 [00:11<00:00,  1.49s/it]\n",
            "Evaluate Validation:   0%|          | 0/2 [00:00<?, ?it/s]"
          ]
        },
        {
          "output_type": "stream",
          "name": "stdout",
          "text": [
            "sample 10 num of prompts for COVID from total 12\n"
          ]
        },
        {
          "output_type": "stream",
          "name": "stderr",
          "text": [
            "\rEvaluate Validation:  50%|█████     | 1/2 [00:01<00:01,  1.47s/it]"
          ]
        },
        {
          "output_type": "stream",
          "name": "stdout",
          "text": [
            "sample 10 num of prompts for COVID from total 12\n"
          ]
        },
        {
          "output_type": "stream",
          "name": "stderr",
          "text": [
            "Evaluate Validation: 100%|██████████| 2/2 [00:03<00:00,  1.53s/it]\n",
            "Evaluate Test:   0%|          | 0/3 [00:00<?, ?it/s]"
          ]
        },
        {
          "output_type": "stream",
          "name": "stdout",
          "text": [
            "sample 10 num of prompts for COVID from total 12\n"
          ]
        },
        {
          "output_type": "stream",
          "name": "stderr",
          "text": [
            "\rEvaluate Test:  33%|███▎      | 1/3 [00:01<00:03,  1.57s/it]"
          ]
        },
        {
          "output_type": "stream",
          "name": "stdout",
          "text": [
            "sample 10 num of prompts for COVID from total 12\n"
          ]
        },
        {
          "output_type": "stream",
          "name": "stderr",
          "text": [
            "\rEvaluate Test:  67%|██████▋   | 2/3 [00:03<00:01,  1.49s/it]"
          ]
        },
        {
          "output_type": "stream",
          "name": "stdout",
          "text": [
            "sample 10 num of prompts for COVID from total 12\n"
          ]
        },
        {
          "output_type": "stream",
          "name": "stderr",
          "text": [
            "Evaluate Test: 100%|██████████| 3/3 [00:04<00:00,  1.53s/it]\n"
          ]
        },
        {
          "output_type": "stream",
          "name": "stdout",
          "text": [
            "\n",
            "Accuracy: 0.7487, Precision: 0.6773, Recall: 0.9210, AUC: 0.8601\n"
          ]
        },
        {
          "output_type": "stream",
          "name": "stderr",
          "text": [
            "\rEvaluate Train:   0%|          | 0/8 [00:00<?, ?it/s]"
          ]
        },
        {
          "output_type": "stream",
          "name": "stdout",
          "text": [
            "sample 11 num of prompts for COVID from total 12\n"
          ]
        },
        {
          "output_type": "stream",
          "name": "stderr",
          "text": [
            "\rEvaluate Train:  12%|█▎        | 1/8 [00:01<00:09,  1.38s/it]"
          ]
        },
        {
          "output_type": "stream",
          "name": "stdout",
          "text": [
            "sample 11 num of prompts for COVID from total 12\n"
          ]
        },
        {
          "output_type": "stream",
          "name": "stderr",
          "text": [
            "\rEvaluate Train:  25%|██▌       | 2/8 [00:02<00:08,  1.39s/it]"
          ]
        },
        {
          "output_type": "stream",
          "name": "stdout",
          "text": [
            "sample 11 num of prompts for COVID from total 12\n"
          ]
        },
        {
          "output_type": "stream",
          "name": "stderr",
          "text": [
            "\rEvaluate Train:  38%|███▊      | 3/8 [00:04<00:07,  1.49s/it]"
          ]
        },
        {
          "output_type": "stream",
          "name": "stdout",
          "text": [
            "sample 11 num of prompts for COVID from total 12\n"
          ]
        },
        {
          "output_type": "stream",
          "name": "stderr",
          "text": [
            "\rEvaluate Train:  50%|█████     | 4/8 [00:05<00:05,  1.44s/it]"
          ]
        },
        {
          "output_type": "stream",
          "name": "stdout",
          "text": [
            "sample 11 num of prompts for COVID from total 12\n"
          ]
        },
        {
          "output_type": "stream",
          "name": "stderr",
          "text": [
            "\rEvaluate Train:  62%|██████▎   | 5/8 [00:07<00:04,  1.49s/it]"
          ]
        },
        {
          "output_type": "stream",
          "name": "stdout",
          "text": [
            "sample 11 num of prompts for COVID from total 12\n"
          ]
        },
        {
          "output_type": "stream",
          "name": "stderr",
          "text": [
            "\rEvaluate Train:  75%|███████▌  | 6/8 [00:08<00:03,  1.50s/it]"
          ]
        },
        {
          "output_type": "stream",
          "name": "stdout",
          "text": [
            "sample 11 num of prompts for COVID from total 12\n"
          ]
        },
        {
          "output_type": "stream",
          "name": "stderr",
          "text": [
            "\rEvaluate Train:  88%|████████▊ | 7/8 [00:10<00:01,  1.47s/it]"
          ]
        },
        {
          "output_type": "stream",
          "name": "stdout",
          "text": [
            "sample 11 num of prompts for COVID from total 12\n"
          ]
        },
        {
          "output_type": "stream",
          "name": "stderr",
          "text": [
            "Evaluate Train: 100%|██████████| 8/8 [00:11<00:00,  1.46s/it]\n",
            "Evaluate Validation:   0%|          | 0/2 [00:00<?, ?it/s]"
          ]
        },
        {
          "output_type": "stream",
          "name": "stdout",
          "text": [
            "sample 11 num of prompts for COVID from total 12\n"
          ]
        },
        {
          "output_type": "stream",
          "name": "stderr",
          "text": [
            "\rEvaluate Validation:  50%|█████     | 1/2 [00:01<00:01,  1.39s/it]"
          ]
        },
        {
          "output_type": "stream",
          "name": "stdout",
          "text": [
            "sample 11 num of prompts for COVID from total 12\n"
          ]
        },
        {
          "output_type": "stream",
          "name": "stderr",
          "text": [
            "Evaluate Validation: 100%|██████████| 2/2 [00:03<00:00,  1.64s/it]\n",
            "Evaluate Test:   0%|          | 0/3 [00:00<?, ?it/s]"
          ]
        },
        {
          "output_type": "stream",
          "name": "stdout",
          "text": [
            "sample 11 num of prompts for COVID from total 12\n"
          ]
        },
        {
          "output_type": "stream",
          "name": "stderr",
          "text": [
            "\rEvaluate Test:  33%|███▎      | 1/3 [00:01<00:02,  1.49s/it]"
          ]
        },
        {
          "output_type": "stream",
          "name": "stdout",
          "text": [
            "sample 11 num of prompts for COVID from total 12\n"
          ]
        },
        {
          "output_type": "stream",
          "name": "stderr",
          "text": [
            "\rEvaluate Test:  67%|██████▋   | 2/3 [00:02<00:01,  1.45s/it]"
          ]
        },
        {
          "output_type": "stream",
          "name": "stdout",
          "text": [
            "sample 11 num of prompts for COVID from total 12\n"
          ]
        },
        {
          "output_type": "stream",
          "name": "stderr",
          "text": [
            "Evaluate Test: 100%|██████████| 3/3 [00:04<00:00,  1.42s/it]\n"
          ]
        },
        {
          "output_type": "stream",
          "name": "stdout",
          "text": [
            "\n",
            "Accuracy: 0.7493, Precision: 0.6780, Recall: 0.9210, AUC: 0.8601\n"
          ]
        },
        {
          "output_type": "stream",
          "name": "stderr",
          "text": [
            "\rEvaluate Train:   0%|          | 0/8 [00:00<?, ?it/s]"
          ]
        },
        {
          "output_type": "stream",
          "name": "stdout",
          "text": [
            "sample 12 num of prompts for COVID from total 12\n"
          ]
        },
        {
          "output_type": "stream",
          "name": "stderr",
          "text": [
            "\rEvaluate Train:  12%|█▎        | 1/8 [00:01<00:10,  1.53s/it]"
          ]
        },
        {
          "output_type": "stream",
          "name": "stdout",
          "text": [
            "sample 12 num of prompts for COVID from total 12\n"
          ]
        },
        {
          "output_type": "stream",
          "name": "stderr",
          "text": [
            "\rEvaluate Train:  25%|██▌       | 2/8 [00:02<00:08,  1.46s/it]"
          ]
        },
        {
          "output_type": "stream",
          "name": "stdout",
          "text": [
            "sample 12 num of prompts for COVID from total 12\n"
          ]
        },
        {
          "output_type": "stream",
          "name": "stderr",
          "text": [
            "\rEvaluate Train:  38%|███▊      | 3/8 [00:05<00:08,  1.74s/it]"
          ]
        },
        {
          "output_type": "stream",
          "name": "stdout",
          "text": [
            "sample 12 num of prompts for COVID from total 12\n"
          ]
        },
        {
          "output_type": "stream",
          "name": "stderr",
          "text": [
            "\rEvaluate Train:  50%|█████     | 4/8 [00:06<00:07,  1.83s/it]"
          ]
        },
        {
          "output_type": "stream",
          "name": "stdout",
          "text": [
            "sample 12 num of prompts for COVID from total 12\n"
          ]
        },
        {
          "output_type": "stream",
          "name": "stderr",
          "text": [
            "\rEvaluate Train:  62%|██████▎   | 5/8 [00:09<00:06,  2.00s/it]"
          ]
        },
        {
          "output_type": "stream",
          "name": "stdout",
          "text": [
            "sample 12 num of prompts for COVID from total 12\n"
          ]
        },
        {
          "output_type": "stream",
          "name": "stderr",
          "text": [
            "\rEvaluate Train:  75%|███████▌  | 6/8 [00:11<00:03,  1.95s/it]"
          ]
        },
        {
          "output_type": "stream",
          "name": "stdout",
          "text": [
            "sample 12 num of prompts for COVID from total 12\n"
          ]
        },
        {
          "output_type": "stream",
          "name": "stderr",
          "text": [
            "\rEvaluate Train:  88%|████████▊ | 7/8 [00:13<00:02,  2.00s/it]"
          ]
        },
        {
          "output_type": "stream",
          "name": "stdout",
          "text": [
            "sample 12 num of prompts for COVID from total 12\n"
          ]
        },
        {
          "output_type": "stream",
          "name": "stderr",
          "text": [
            "Evaluate Train: 100%|██████████| 8/8 [00:14<00:00,  1.83s/it]\n",
            "Evaluate Validation:   0%|          | 0/2 [00:00<?, ?it/s]"
          ]
        },
        {
          "output_type": "stream",
          "name": "stdout",
          "text": [
            "sample 12 num of prompts for COVID from total 12\n"
          ]
        },
        {
          "output_type": "stream",
          "name": "stderr",
          "text": [
            "\rEvaluate Validation:  50%|█████     | 1/2 [00:01<00:01,  1.39s/it]"
          ]
        },
        {
          "output_type": "stream",
          "name": "stdout",
          "text": [
            "sample 12 num of prompts for COVID from total 12\n"
          ]
        },
        {
          "output_type": "stream",
          "name": "stderr",
          "text": [
            "Evaluate Validation: 100%|██████████| 2/2 [00:03<00:00,  1.98s/it]\n",
            "Evaluate Test:   0%|          | 0/3 [00:00<?, ?it/s]"
          ]
        },
        {
          "output_type": "stream",
          "name": "stdout",
          "text": [
            "sample 12 num of prompts for COVID from total 12\n"
          ]
        },
        {
          "output_type": "stream",
          "name": "stderr",
          "text": [
            "\rEvaluate Test:  33%|███▎      | 1/3 [00:01<00:03,  1.65s/it]"
          ]
        },
        {
          "output_type": "stream",
          "name": "stdout",
          "text": [
            "sample 12 num of prompts for COVID from total 12\n"
          ]
        },
        {
          "output_type": "stream",
          "name": "stderr",
          "text": [
            "\rEvaluate Test:  67%|██████▋   | 2/3 [00:03<00:01,  1.73s/it]"
          ]
        },
        {
          "output_type": "stream",
          "name": "stdout",
          "text": [
            "sample 12 num of prompts for COVID from total 12\n"
          ]
        },
        {
          "output_type": "stream",
          "name": "stderr",
          "text": [
            "Evaluate Test: 100%|██████████| 3/3 [00:05<00:00,  1.80s/it]\n"
          ]
        },
        {
          "output_type": "stream",
          "name": "stdout",
          "text": [
            "\n",
            "Accuracy: 0.7493, Precision: 0.6777, Recall: 0.9223, AUC: 0.8601\n"
          ]
        },
        {
          "output_type": "stream",
          "name": "stderr",
          "text": [
            "\rEvaluate Train:   0%|          | 0/8 [00:00<?, ?it/s]"
          ]
        },
        {
          "output_type": "stream",
          "name": "stdout",
          "text": [
            "sample 7 num of prompts for COVID from total 12\n"
          ]
        },
        {
          "output_type": "stream",
          "name": "stderr",
          "text": [
            "\rEvaluate Train:  12%|█▎        | 1/8 [00:01<00:09,  1.37s/it]"
          ]
        },
        {
          "output_type": "stream",
          "name": "stdout",
          "text": [
            "sample 7 num of prompts for COVID from total 12\n"
          ]
        },
        {
          "output_type": "stream",
          "name": "stderr",
          "text": [
            "\rEvaluate Train:  25%|██▌       | 2/8 [00:02<00:08,  1.41s/it]"
          ]
        },
        {
          "output_type": "stream",
          "name": "stdout",
          "text": [
            "sample 7 num of prompts for COVID from total 12\n"
          ]
        },
        {
          "output_type": "stream",
          "name": "stderr",
          "text": [
            "\rEvaluate Train:  38%|███▊      | 3/8 [00:05<00:08,  1.77s/it]"
          ]
        },
        {
          "output_type": "stream",
          "name": "stdout",
          "text": [
            "sample 7 num of prompts for COVID from total 12\n"
          ]
        },
        {
          "output_type": "stream",
          "name": "stderr",
          "text": [
            "\rEvaluate Train:  50%|█████     | 4/8 [00:07<00:08,  2.03s/it]"
          ]
        },
        {
          "output_type": "stream",
          "name": "stdout",
          "text": [
            "sample 7 num of prompts for COVID from total 12\n"
          ]
        },
        {
          "output_type": "stream",
          "name": "stderr",
          "text": [
            "\rEvaluate Train:  62%|██████▎   | 5/8 [00:09<00:05,  1.89s/it]"
          ]
        },
        {
          "output_type": "stream",
          "name": "stdout",
          "text": [
            "sample 7 num of prompts for COVID from total 12\n"
          ]
        },
        {
          "output_type": "stream",
          "name": "stderr",
          "text": [
            "\rEvaluate Train:  75%|███████▌  | 6/8 [00:10<00:03,  1.88s/it]"
          ]
        },
        {
          "output_type": "stream",
          "name": "stdout",
          "text": [
            "sample 7 num of prompts for COVID from total 12\n"
          ]
        },
        {
          "output_type": "stream",
          "name": "stderr",
          "text": [
            "\rEvaluate Train:  88%|████████▊ | 7/8 [00:12<00:01,  1.72s/it]"
          ]
        },
        {
          "output_type": "stream",
          "name": "stdout",
          "text": [
            "sample 7 num of prompts for COVID from total 12\n"
          ]
        },
        {
          "output_type": "stream",
          "name": "stderr",
          "text": [
            "Evaluate Train: 100%|██████████| 8/8 [00:14<00:00,  1.83s/it]\n",
            "Evaluate Validation:   0%|          | 0/2 [00:00<?, ?it/s]"
          ]
        },
        {
          "output_type": "stream",
          "name": "stdout",
          "text": [
            "sample 7 num of prompts for COVID from total 12\n"
          ]
        },
        {
          "output_type": "stream",
          "name": "stderr",
          "text": [
            "\rEvaluate Validation:  50%|█████     | 1/2 [00:01<00:01,  1.65s/it]"
          ]
        },
        {
          "output_type": "stream",
          "name": "stdout",
          "text": [
            "sample 7 num of prompts for COVID from total 12\n"
          ]
        },
        {
          "output_type": "stream",
          "name": "stderr",
          "text": [
            "Evaluate Validation: 100%|██████████| 2/2 [00:03<00:00,  1.95s/it]\n",
            "Evaluate Test:   0%|          | 0/3 [00:00<?, ?it/s]"
          ]
        },
        {
          "output_type": "stream",
          "name": "stdout",
          "text": [
            "sample 7 num of prompts for COVID from total 12\n"
          ]
        },
        {
          "output_type": "stream",
          "name": "stderr",
          "text": [
            "\rEvaluate Test:  33%|███▎      | 1/3 [00:01<00:02,  1.45s/it]"
          ]
        },
        {
          "output_type": "stream",
          "name": "stdout",
          "text": [
            "sample 7 num of prompts for COVID from total 12\n"
          ]
        },
        {
          "output_type": "stream",
          "name": "stderr",
          "text": [
            "\rEvaluate Test:  67%|██████▋   | 2/3 [00:02<00:01,  1.44s/it]"
          ]
        },
        {
          "output_type": "stream",
          "name": "stdout",
          "text": [
            "sample 7 num of prompts for COVID from total 12\n"
          ]
        },
        {
          "output_type": "stream",
          "name": "stderr",
          "text": [
            "Evaluate Test: 100%|██████████| 3/3 [00:04<00:00,  1.46s/it]\n"
          ]
        },
        {
          "output_type": "stream",
          "name": "stdout",
          "text": [
            "Results saved to results/visualization/zs_medclip_base/ucsd/medclip/images/prediction_images.pdf\n",
            "Best AUC for covid_task with 7 prompts: 0.8588\n",
            "Results saved to results/zs_medclip_base/ucsd/medclip/classification_results.txt\n"
          ]
        },
        {
          "output_type": "stream",
          "name": "stderr",
          "text": [
            "/usr/local/lib/python3.10/dist-packages/keras/src/preprocessing/image.py:766: UserWarning: NumpyArrayIterator is set to use the data format convention \"channels_last\" (channels on axis 3), i.e. expected either 1, 3, or 4 channels on axis 3. However, it was passed an array with shape (526, 1, 224, 224) (224 channels).\n",
            "  warnings.warn(\n",
            "/usr/local/lib/python3.10/dist-packages/keras/src/preprocessing/image.py:766: UserWarning: NumpyArrayIterator is set to use the data format convention \"channels_last\" (channels on axis 3), i.e. expected either 1, 3, or 4 channels on axis 3. However, it was passed an array with shape (132, 1, 224, 224) (224 channels).\n",
            "  warnings.warn(\n",
            "/usr/local/lib/python3.10/dist-packages/keras/src/preprocessing/image.py:766: UserWarning: NumpyArrayIterator is set to use the data format convention \"channels_last\" (channels on axis 3), i.e. expected either 1, 3, or 4 channels on axis 3. However, it was passed an array with shape (165, 1, 224, 224) (224 channels).\n",
            "  warnings.warn(\n"
          ]
        },
        {
          "output_type": "stream",
          "name": "stdout",
          "text": [
            "Results saved to results/visualization/zs_medclip_base/ori/medclip/images/cxr_images.pdf\n",
            "NVIDIA library configured successfully.\n"
          ]
        },
        {
          "output_type": "stream",
          "name": "stderr",
          "text": [
            "Some weights of the model checkpoint at microsoft/swin-tiny-patch4-window7-224 were not used when initializing SwinModel: ['classifier.bias', 'classifier.weight']\n",
            "- This IS expected if you are initializing SwinModel from the checkpoint of a model trained on another task or with another architecture (e.g. initializing a BertForSequenceClassification model from a BertForPreTraining model).\n",
            "- This IS NOT expected if you are initializing SwinModel from the checkpoint of a model that you expect to be exactly identical (initializing a BertForSequenceClassification model from a BertForSequenceClassification model).\n",
            "Some weights of the model checkpoint at emilyalsentzer/Bio_ClinicalBERT were not used when initializing BertModel: ['cls.predictions.transform.LayerNorm.weight', 'cls.seq_relationship.weight', 'cls.predictions.transform.dense.weight', 'cls.predictions.transform.LayerNorm.bias', 'cls.predictions.bias', 'cls.seq_relationship.bias', 'cls.predictions.decoder.weight', 'cls.predictions.transform.dense.bias']\n",
            "- This IS expected if you are initializing BertModel from the checkpoint of a model trained on another task or with another architecture (e.g. initializing a BertForSequenceClassification model from a BertForPreTraining model).\n",
            "- This IS NOT expected if you are initializing BertModel from the checkpoint of a model that you expect to be exactly identical (initializing a BertForSequenceClassification model from a BertForSequenceClassification model).\n"
          ]
        },
        {
          "output_type": "stream",
          "name": "stdout",
          "text": [
            "load model weight from: ./pretrained/medclip-vit\n"
          ]
        },
        {
          "output_type": "stream",
          "name": "stderr",
          "text": [
            "\rEvaluate Train:   0%|          | 0/3 [00:00<?, ?it/s]"
          ]
        },
        {
          "output_type": "stream",
          "name": "stdout",
          "text": [
            "sample 1 num of prompts for COVID from total 12\n"
          ]
        },
        {
          "output_type": "stream",
          "name": "stderr",
          "text": [
            "\rEvaluate Train:  33%|███▎      | 1/3 [00:01<00:03,  1.62s/it]"
          ]
        },
        {
          "output_type": "stream",
          "name": "stdout",
          "text": [
            "sample 1 num of prompts for COVID from total 12\n"
          ]
        },
        {
          "output_type": "stream",
          "name": "stderr",
          "text": [
            "\rEvaluate Train:  67%|██████▋   | 2/3 [00:03<00:01,  1.53s/it]"
          ]
        },
        {
          "output_type": "stream",
          "name": "stdout",
          "text": [
            "sample 1 num of prompts for COVID from total 12\n"
          ]
        },
        {
          "output_type": "stream",
          "name": "stderr",
          "text": [
            "Evaluate Train: 100%|██████████| 3/3 [00:05<00:00,  1.90s/it]\n",
            "Evaluate Validation:   0%|          | 0/1 [00:00<?, ?it/s]"
          ]
        },
        {
          "output_type": "stream",
          "name": "stdout",
          "text": [
            "sample 1 num of prompts for COVID from total 12\n"
          ]
        },
        {
          "output_type": "stream",
          "name": "stderr",
          "text": [
            "Evaluate Validation: 100%|██████████| 1/1 [00:01<00:00,  1.62s/it]\n",
            "Evaluate Test:   0%|          | 0/1 [00:00<?, ?it/s]"
          ]
        },
        {
          "output_type": "stream",
          "name": "stdout",
          "text": [
            "sample 1 num of prompts for COVID from total 12\n"
          ]
        },
        {
          "output_type": "stream",
          "name": "stderr",
          "text": [
            "Evaluate Test: 100%|██████████| 1/1 [00:01<00:00,  1.37s/it]\n"
          ]
        },
        {
          "output_type": "stream",
          "name": "stdout",
          "text": [
            "\n",
            "Accuracy: 0.5674, Precision: 0.6053, Recall: 0.3416, AUC: 0.5864\n"
          ]
        },
        {
          "output_type": "stream",
          "name": "stderr",
          "text": [
            "\rEvaluate Train:   0%|          | 0/3 [00:00<?, ?it/s]"
          ]
        },
        {
          "output_type": "stream",
          "name": "stdout",
          "text": [
            "sample 2 num of prompts for COVID from total 12\n"
          ]
        },
        {
          "output_type": "stream",
          "name": "stderr",
          "text": [
            "\rEvaluate Train:  33%|███▎      | 1/3 [00:01<00:02,  1.46s/it]"
          ]
        },
        {
          "output_type": "stream",
          "name": "stdout",
          "text": [
            "sample 2 num of prompts for COVID from total 12\n"
          ]
        },
        {
          "output_type": "stream",
          "name": "stderr",
          "text": [
            "\rEvaluate Train:  67%|██████▋   | 2/3 [00:02<00:01,  1.48s/it]"
          ]
        },
        {
          "output_type": "stream",
          "name": "stdout",
          "text": [
            "sample 2 num of prompts for COVID from total 12\n"
          ]
        },
        {
          "output_type": "stream",
          "name": "stderr",
          "text": [
            "Evaluate Train: 100%|██████████| 3/3 [00:04<00:00,  1.53s/it]\n",
            "Evaluate Validation:   0%|          | 0/1 [00:00<?, ?it/s]"
          ]
        },
        {
          "output_type": "stream",
          "name": "stdout",
          "text": [
            "sample 2 num of prompts for COVID from total 12\n"
          ]
        },
        {
          "output_type": "stream",
          "name": "stderr",
          "text": [
            "Evaluate Validation: 100%|██████████| 1/1 [00:01<00:00,  1.36s/it]\n",
            "Evaluate Test:   0%|          | 0/1 [00:00<?, ?it/s]"
          ]
        },
        {
          "output_type": "stream",
          "name": "stdout",
          "text": [
            "sample 2 num of prompts for COVID from total 12\n"
          ]
        },
        {
          "output_type": "stream",
          "name": "stderr",
          "text": [
            "Evaluate Test: 100%|██████████| 1/1 [00:01<00:00,  1.62s/it]\n"
          ]
        },
        {
          "output_type": "stream",
          "name": "stdout",
          "text": [
            "\n",
            "Accuracy: 0.5747, Precision: 0.6116, Recall: 0.3663, AUC: 0.5895\n"
          ]
        },
        {
          "output_type": "stream",
          "name": "stderr",
          "text": [
            "\rEvaluate Train:   0%|          | 0/3 [00:00<?, ?it/s]"
          ]
        },
        {
          "output_type": "stream",
          "name": "stdout",
          "text": [
            "sample 3 num of prompts for COVID from total 12\n"
          ]
        },
        {
          "output_type": "stream",
          "name": "stderr",
          "text": [
            "\rEvaluate Train:  33%|███▎      | 1/3 [00:01<00:02,  1.40s/it]"
          ]
        },
        {
          "output_type": "stream",
          "name": "stdout",
          "text": [
            "sample 3 num of prompts for COVID from total 12\n"
          ]
        },
        {
          "output_type": "stream",
          "name": "stderr",
          "text": [
            "\rEvaluate Train:  67%|██████▋   | 2/3 [00:02<00:01,  1.49s/it]"
          ]
        },
        {
          "output_type": "stream",
          "name": "stdout",
          "text": [
            "sample 3 num of prompts for COVID from total 12\n"
          ]
        },
        {
          "output_type": "stream",
          "name": "stderr",
          "text": [
            "Evaluate Train: 100%|██████████| 3/3 [00:04<00:00,  1.46s/it]\n",
            "Evaluate Validation:   0%|          | 0/1 [00:00<?, ?it/s]"
          ]
        },
        {
          "output_type": "stream",
          "name": "stdout",
          "text": [
            "sample 3 num of prompts for COVID from total 12\n"
          ]
        },
        {
          "output_type": "stream",
          "name": "stderr",
          "text": [
            "Evaluate Validation: 100%|██████████| 1/1 [00:01<00:00,  1.64s/it]\n",
            "Evaluate Test:   0%|          | 0/1 [00:00<?, ?it/s]"
          ]
        },
        {
          "output_type": "stream",
          "name": "stdout",
          "text": [
            "sample 3 num of prompts for COVID from total 12\n"
          ]
        },
        {
          "output_type": "stream",
          "name": "stderr",
          "text": [
            "Evaluate Test: 100%|██████████| 1/1 [00:01<00:00,  1.41s/it]\n"
          ]
        },
        {
          "output_type": "stream",
          "name": "stdout",
          "text": [
            "\n",
            "Accuracy: 0.5832, Precision: 0.5968, Recall: 0.4653, AUC: 0.5998\n"
          ]
        },
        {
          "output_type": "stream",
          "name": "stderr",
          "text": [
            "\rEvaluate Train:   0%|          | 0/3 [00:00<?, ?it/s]"
          ]
        },
        {
          "output_type": "stream",
          "name": "stdout",
          "text": [
            "sample 4 num of prompts for COVID from total 12\n"
          ]
        },
        {
          "output_type": "stream",
          "name": "stderr",
          "text": [
            "\rEvaluate Train:  33%|███▎      | 1/3 [00:01<00:02,  1.45s/it]"
          ]
        },
        {
          "output_type": "stream",
          "name": "stdout",
          "text": [
            "sample 4 num of prompts for COVID from total 12\n"
          ]
        },
        {
          "output_type": "stream",
          "name": "stderr",
          "text": [
            "\rEvaluate Train:  67%|██████▋   | 2/3 [00:02<00:01,  1.47s/it]"
          ]
        },
        {
          "output_type": "stream",
          "name": "stdout",
          "text": [
            "sample 4 num of prompts for COVID from total 12\n"
          ]
        },
        {
          "output_type": "stream",
          "name": "stderr",
          "text": [
            "Evaluate Train: 100%|██████████| 3/3 [00:04<00:00,  1.47s/it]\n",
            "Evaluate Validation:   0%|          | 0/1 [00:00<?, ?it/s]"
          ]
        },
        {
          "output_type": "stream",
          "name": "stdout",
          "text": [
            "sample 4 num of prompts for COVID from total 12\n"
          ]
        },
        {
          "output_type": "stream",
          "name": "stderr",
          "text": [
            "Evaluate Validation: 100%|██████████| 1/1 [00:01<00:00,  1.50s/it]\n",
            "Evaluate Test:   0%|          | 0/1 [00:00<?, ?it/s]"
          ]
        },
        {
          "output_type": "stream",
          "name": "stdout",
          "text": [
            "sample 4 num of prompts for COVID from total 12\n"
          ]
        },
        {
          "output_type": "stream",
          "name": "stderr",
          "text": [
            "Evaluate Test: 100%|██████████| 1/1 [00:01<00:00,  1.64s/it]\n"
          ]
        },
        {
          "output_type": "stream",
          "name": "stdout",
          "text": [
            "\n",
            "Accuracy: 0.5784, Precision: 0.6213, Recall: 0.3614, AUC: 0.5967\n"
          ]
        },
        {
          "output_type": "stream",
          "name": "stderr",
          "text": [
            "\rEvaluate Train:   0%|          | 0/3 [00:00<?, ?it/s]"
          ]
        },
        {
          "output_type": "stream",
          "name": "stdout",
          "text": [
            "sample 5 num of prompts for COVID from total 12\n"
          ]
        },
        {
          "output_type": "stream",
          "name": "stderr",
          "text": [
            "\rEvaluate Train:  33%|███▎      | 1/3 [00:01<00:02,  1.38s/it]"
          ]
        },
        {
          "output_type": "stream",
          "name": "stdout",
          "text": [
            "sample 5 num of prompts for COVID from total 12\n"
          ]
        },
        {
          "output_type": "stream",
          "name": "stderr",
          "text": [
            "\rEvaluate Train:  67%|██████▋   | 2/3 [00:02<00:01,  1.38s/it]"
          ]
        },
        {
          "output_type": "stream",
          "name": "stdout",
          "text": [
            "sample 5 num of prompts for COVID from total 12\n"
          ]
        },
        {
          "output_type": "stream",
          "name": "stderr",
          "text": [
            "Evaluate Train: 100%|██████████| 3/3 [00:03<00:00,  1.32s/it]\n",
            "Evaluate Validation:   0%|          | 0/1 [00:00<?, ?it/s]"
          ]
        },
        {
          "output_type": "stream",
          "name": "stdout",
          "text": [
            "sample 5 num of prompts for COVID from total 12\n"
          ]
        },
        {
          "output_type": "stream",
          "name": "stderr",
          "text": [
            "Evaluate Validation: 100%|██████████| 1/1 [00:01<00:00,  1.28s/it]\n",
            "Evaluate Test:   0%|          | 0/1 [00:00<?, ?it/s]"
          ]
        },
        {
          "output_type": "stream",
          "name": "stdout",
          "text": [
            "sample 5 num of prompts for COVID from total 12\n"
          ]
        },
        {
          "output_type": "stream",
          "name": "stderr",
          "text": [
            "Evaluate Test: 100%|██████████| 1/1 [00:01<00:00,  1.71s/it]\n"
          ]
        },
        {
          "output_type": "stream",
          "name": "stdout",
          "text": [
            "\n",
            "Accuracy: 0.5820, Precision: 0.5943, Recall: 0.4678, AUC: 0.6021\n"
          ]
        },
        {
          "output_type": "stream",
          "name": "stderr",
          "text": [
            "\rEvaluate Train:   0%|          | 0/3 [00:00<?, ?it/s]"
          ]
        },
        {
          "output_type": "stream",
          "name": "stdout",
          "text": [
            "sample 6 num of prompts for COVID from total 12\n"
          ]
        },
        {
          "output_type": "stream",
          "name": "stderr",
          "text": [
            "\rEvaluate Train:  33%|███▎      | 1/3 [00:01<00:02,  1.39s/it]"
          ]
        },
        {
          "output_type": "stream",
          "name": "stdout",
          "text": [
            "sample 6 num of prompts for COVID from total 12\n"
          ]
        },
        {
          "output_type": "stream",
          "name": "stderr",
          "text": [
            "\rEvaluate Train:  67%|██████▋   | 2/3 [00:03<00:01,  1.92s/it]"
          ]
        },
        {
          "output_type": "stream",
          "name": "stdout",
          "text": [
            "sample 6 num of prompts for COVID from total 12\n"
          ]
        },
        {
          "output_type": "stream",
          "name": "stderr",
          "text": [
            "Evaluate Train: 100%|██████████| 3/3 [00:05<00:00,  1.70s/it]\n",
            "Evaluate Validation:   0%|          | 0/1 [00:00<?, ?it/s]"
          ]
        },
        {
          "output_type": "stream",
          "name": "stdout",
          "text": [
            "sample 6 num of prompts for COVID from total 12\n"
          ]
        },
        {
          "output_type": "stream",
          "name": "stderr",
          "text": [
            "Evaluate Validation: 100%|██████████| 1/1 [00:01<00:00,  1.29s/it]\n",
            "Evaluate Test:   0%|          | 0/1 [00:00<?, ?it/s]"
          ]
        },
        {
          "output_type": "stream",
          "name": "stdout",
          "text": [
            "sample 6 num of prompts for COVID from total 12\n"
          ]
        },
        {
          "output_type": "stream",
          "name": "stderr",
          "text": [
            "Evaluate Test: 100%|██████████| 1/1 [00:01<00:00,  1.28s/it]\n"
          ]
        },
        {
          "output_type": "stream",
          "name": "stdout",
          "text": [
            "\n",
            "Accuracy: 0.5808, Precision: 0.5931, Recall: 0.4653, AUC: 0.6022\n"
          ]
        },
        {
          "output_type": "stream",
          "name": "stderr",
          "text": [
            "\rEvaluate Train:   0%|          | 0/3 [00:00<?, ?it/s]"
          ]
        },
        {
          "output_type": "stream",
          "name": "stdout",
          "text": [
            "sample 7 num of prompts for COVID from total 12\n"
          ]
        },
        {
          "output_type": "stream",
          "name": "stderr",
          "text": [
            "\rEvaluate Train:  33%|███▎      | 1/3 [00:02<00:04,  2.05s/it]"
          ]
        },
        {
          "output_type": "stream",
          "name": "stdout",
          "text": [
            "sample 7 num of prompts for COVID from total 12\n"
          ]
        },
        {
          "output_type": "stream",
          "name": "stderr",
          "text": [
            "\rEvaluate Train:  67%|██████▋   | 2/3 [00:03<00:01,  1.65s/it]"
          ]
        },
        {
          "output_type": "stream",
          "name": "stdout",
          "text": [
            "sample 7 num of prompts for COVID from total 12\n"
          ]
        },
        {
          "output_type": "stream",
          "name": "stderr",
          "text": [
            "Evaluate Train: 100%|██████████| 3/3 [00:05<00:00,  1.73s/it]\n",
            "Evaluate Validation:   0%|          | 0/1 [00:00<?, ?it/s]"
          ]
        },
        {
          "output_type": "stream",
          "name": "stdout",
          "text": [
            "sample 7 num of prompts for COVID from total 12\n"
          ]
        },
        {
          "output_type": "stream",
          "name": "stderr",
          "text": [
            "Evaluate Validation: 100%|██████████| 1/1 [00:02<00:00,  2.07s/it]\n",
            "Evaluate Test:   0%|          | 0/1 [00:00<?, ?it/s]"
          ]
        },
        {
          "output_type": "stream",
          "name": "stdout",
          "text": [
            "sample 7 num of prompts for COVID from total 12\n"
          ]
        },
        {
          "output_type": "stream",
          "name": "stderr",
          "text": [
            "Evaluate Test: 100%|██████████| 1/1 [00:01<00:00,  1.31s/it]\n"
          ]
        },
        {
          "output_type": "stream",
          "name": "stdout",
          "text": [
            "\n",
            "Accuracy: 0.5820, Precision: 0.5943, Recall: 0.4678, AUC: 0.6022\n"
          ]
        },
        {
          "output_type": "stream",
          "name": "stderr",
          "text": [
            "\rEvaluate Train:   0%|          | 0/3 [00:00<?, ?it/s]"
          ]
        },
        {
          "output_type": "stream",
          "name": "stdout",
          "text": [
            "sample 8 num of prompts for COVID from total 12\n"
          ]
        },
        {
          "output_type": "stream",
          "name": "stderr",
          "text": [
            "\rEvaluate Train:  33%|███▎      | 1/3 [00:01<00:03,  1.52s/it]"
          ]
        },
        {
          "output_type": "stream",
          "name": "stdout",
          "text": [
            "sample 8 num of prompts for COVID from total 12\n"
          ]
        },
        {
          "output_type": "stream",
          "name": "stderr",
          "text": [
            "\rEvaluate Train:  67%|██████▋   | 2/3 [00:03<00:01,  1.58s/it]"
          ]
        },
        {
          "output_type": "stream",
          "name": "stdout",
          "text": [
            "sample 8 num of prompts for COVID from total 12\n"
          ]
        },
        {
          "output_type": "stream",
          "name": "stderr",
          "text": [
            "Evaluate Train: 100%|██████████| 3/3 [00:04<00:00,  1.54s/it]\n",
            "Evaluate Validation:   0%|          | 0/1 [00:00<?, ?it/s]"
          ]
        },
        {
          "output_type": "stream",
          "name": "stdout",
          "text": [
            "sample 8 num of prompts for COVID from total 12\n"
          ]
        },
        {
          "output_type": "stream",
          "name": "stderr",
          "text": [
            "Evaluate Validation: 100%|██████████| 1/1 [00:01<00:00,  1.37s/it]\n",
            "Evaluate Test:   0%|          | 0/1 [00:00<?, ?it/s]"
          ]
        },
        {
          "output_type": "stream",
          "name": "stdout",
          "text": [
            "sample 8 num of prompts for COVID from total 12\n"
          ]
        },
        {
          "output_type": "stream",
          "name": "stderr",
          "text": [
            "Evaluate Test: 100%|██████████| 1/1 [00:02<00:00,  2.16s/it]\n"
          ]
        },
        {
          "output_type": "stream",
          "name": "stdout",
          "text": [
            "\n",
            "Accuracy: 0.5808, Precision: 0.5925, Recall: 0.4678, AUC: 0.6025\n"
          ]
        },
        {
          "output_type": "stream",
          "name": "stderr",
          "text": [
            "\rEvaluate Train:   0%|          | 0/3 [00:00<?, ?it/s]"
          ]
        },
        {
          "output_type": "stream",
          "name": "stdout",
          "text": [
            "sample 9 num of prompts for COVID from total 12\n"
          ]
        },
        {
          "output_type": "stream",
          "name": "stderr",
          "text": [
            "\rEvaluate Train:  33%|███▎      | 1/3 [00:01<00:02,  1.37s/it]"
          ]
        },
        {
          "output_type": "stream",
          "name": "stdout",
          "text": [
            "sample 9 num of prompts for COVID from total 12\n"
          ]
        },
        {
          "output_type": "stream",
          "name": "stderr",
          "text": [
            "\rEvaluate Train:  67%|██████▋   | 2/3 [00:02<00:01,  1.38s/it]"
          ]
        },
        {
          "output_type": "stream",
          "name": "stdout",
          "text": [
            "sample 9 num of prompts for COVID from total 12\n"
          ]
        },
        {
          "output_type": "stream",
          "name": "stderr",
          "text": [
            "Evaluate Train: 100%|██████████| 3/3 [00:04<00:00,  1.56s/it]\n",
            "Evaluate Validation:   0%|          | 0/1 [00:00<?, ?it/s]"
          ]
        },
        {
          "output_type": "stream",
          "name": "stdout",
          "text": [
            "sample 9 num of prompts for COVID from total 12\n"
          ]
        },
        {
          "output_type": "stream",
          "name": "stderr",
          "text": [
            "Evaluate Validation: 100%|██████████| 1/1 [00:01<00:00,  1.74s/it]\n",
            "Evaluate Test:   0%|          | 0/1 [00:00<?, ?it/s]"
          ]
        },
        {
          "output_type": "stream",
          "name": "stdout",
          "text": [
            "sample 9 num of prompts for COVID from total 12\n"
          ]
        },
        {
          "output_type": "stream",
          "name": "stderr",
          "text": [
            "Evaluate Test: 100%|██████████| 1/1 [00:01<00:00,  1.30s/it]\n"
          ]
        },
        {
          "output_type": "stream",
          "name": "stdout",
          "text": [
            "\n",
            "Accuracy: 0.5808, Precision: 0.5925, Recall: 0.4678, AUC: 0.6014\n"
          ]
        },
        {
          "output_type": "stream",
          "name": "stderr",
          "text": [
            "\rEvaluate Train:   0%|          | 0/3 [00:00<?, ?it/s]"
          ]
        },
        {
          "output_type": "stream",
          "name": "stdout",
          "text": [
            "sample 10 num of prompts for COVID from total 12\n"
          ]
        },
        {
          "output_type": "stream",
          "name": "stderr",
          "text": [
            "\rEvaluate Train:  33%|███▎      | 1/3 [00:01<00:02,  1.42s/it]"
          ]
        },
        {
          "output_type": "stream",
          "name": "stdout",
          "text": [
            "sample 10 num of prompts for COVID from total 12\n"
          ]
        },
        {
          "output_type": "stream",
          "name": "stderr",
          "text": [
            "\rEvaluate Train:  67%|██████▋   | 2/3 [00:03<00:01,  1.60s/it]"
          ]
        },
        {
          "output_type": "stream",
          "name": "stdout",
          "text": [
            "sample 10 num of prompts for COVID from total 12\n"
          ]
        },
        {
          "output_type": "stream",
          "name": "stderr",
          "text": [
            "Evaluate Train: 100%|██████████| 3/3 [00:05<00:00,  1.72s/it]\n",
            "Evaluate Validation:   0%|          | 0/1 [00:00<?, ?it/s]"
          ]
        },
        {
          "output_type": "stream",
          "name": "stdout",
          "text": [
            "sample 10 num of prompts for COVID from total 12\n"
          ]
        },
        {
          "output_type": "stream",
          "name": "stderr",
          "text": [
            "Evaluate Validation: 100%|██████████| 1/1 [00:01<00:00,  1.74s/it]\n",
            "Evaluate Test:   0%|          | 0/1 [00:00<?, ?it/s]"
          ]
        },
        {
          "output_type": "stream",
          "name": "stdout",
          "text": [
            "sample 10 num of prompts for COVID from total 12\n"
          ]
        },
        {
          "output_type": "stream",
          "name": "stderr",
          "text": [
            "Evaluate Test: 100%|██████████| 1/1 [00:01<00:00,  1.39s/it]\n"
          ]
        },
        {
          "output_type": "stream",
          "name": "stdout",
          "text": [
            "\n",
            "Accuracy: 0.5808, Precision: 0.5925, Recall: 0.4678, AUC: 0.6014\n"
          ]
        },
        {
          "output_type": "stream",
          "name": "stderr",
          "text": [
            "\rEvaluate Train:   0%|          | 0/3 [00:00<?, ?it/s]"
          ]
        },
        {
          "output_type": "stream",
          "name": "stdout",
          "text": [
            "sample 11 num of prompts for COVID from total 12\n"
          ]
        },
        {
          "output_type": "stream",
          "name": "stderr",
          "text": [
            "\rEvaluate Train:  33%|███▎      | 1/3 [00:01<00:02,  1.40s/it]"
          ]
        },
        {
          "output_type": "stream",
          "name": "stdout",
          "text": [
            "sample 11 num of prompts for COVID from total 12\n"
          ]
        },
        {
          "output_type": "stream",
          "name": "stderr",
          "text": [
            "\rEvaluate Train:  67%|██████▋   | 2/3 [00:02<00:01,  1.49s/it]"
          ]
        },
        {
          "output_type": "stream",
          "name": "stdout",
          "text": [
            "sample 11 num of prompts for COVID from total 12\n"
          ]
        },
        {
          "output_type": "stream",
          "name": "stderr",
          "text": [
            "Evaluate Train: 100%|██████████| 3/3 [00:04<00:00,  1.53s/it]\n",
            "Evaluate Validation:   0%|          | 0/1 [00:00<?, ?it/s]"
          ]
        },
        {
          "output_type": "stream",
          "name": "stdout",
          "text": [
            "sample 11 num of prompts for COVID from total 12\n"
          ]
        },
        {
          "output_type": "stream",
          "name": "stderr",
          "text": [
            "Evaluate Validation: 100%|██████████| 1/1 [00:01<00:00,  1.40s/it]\n",
            "Evaluate Test:   0%|          | 0/1 [00:00<?, ?it/s]"
          ]
        },
        {
          "output_type": "stream",
          "name": "stdout",
          "text": [
            "sample 11 num of prompts for COVID from total 12\n"
          ]
        },
        {
          "output_type": "stream",
          "name": "stderr",
          "text": [
            "Evaluate Test: 100%|██████████| 1/1 [00:01<00:00,  1.57s/it]\n"
          ]
        },
        {
          "output_type": "stream",
          "name": "stdout",
          "text": [
            "\n",
            "Accuracy: 0.5808, Precision: 0.5925, Recall: 0.4678, AUC: 0.6018\n"
          ]
        },
        {
          "output_type": "stream",
          "name": "stderr",
          "text": [
            "\rEvaluate Train:   0%|          | 0/3 [00:00<?, ?it/s]"
          ]
        },
        {
          "output_type": "stream",
          "name": "stdout",
          "text": [
            "sample 12 num of prompts for COVID from total 12\n"
          ]
        },
        {
          "output_type": "stream",
          "name": "stderr",
          "text": [
            "\rEvaluate Train:  33%|███▎      | 1/3 [00:01<00:02,  1.39s/it]"
          ]
        },
        {
          "output_type": "stream",
          "name": "stdout",
          "text": [
            "sample 12 num of prompts for COVID from total 12\n"
          ]
        },
        {
          "output_type": "stream",
          "name": "stderr",
          "text": [
            "\rEvaluate Train:  67%|██████▋   | 2/3 [00:02<00:01,  1.38s/it]"
          ]
        },
        {
          "output_type": "stream",
          "name": "stdout",
          "text": [
            "sample 12 num of prompts for COVID from total 12\n"
          ]
        },
        {
          "output_type": "stream",
          "name": "stderr",
          "text": [
            "Evaluate Train: 100%|██████████| 3/3 [00:04<00:00,  1.46s/it]\n",
            "Evaluate Validation:   0%|          | 0/1 [00:00<?, ?it/s]"
          ]
        },
        {
          "output_type": "stream",
          "name": "stdout",
          "text": [
            "sample 12 num of prompts for COVID from total 12\n"
          ]
        },
        {
          "output_type": "stream",
          "name": "stderr",
          "text": [
            "Evaluate Validation: 100%|██████████| 1/1 [00:02<00:00,  2.26s/it]\n",
            "Evaluate Test:   0%|          | 0/1 [00:00<?, ?it/s]"
          ]
        },
        {
          "output_type": "stream",
          "name": "stdout",
          "text": [
            "sample 12 num of prompts for COVID from total 12\n"
          ]
        },
        {
          "output_type": "stream",
          "name": "stderr",
          "text": [
            "Evaluate Test: 100%|██████████| 1/1 [00:01<00:00,  1.30s/it]\n"
          ]
        },
        {
          "output_type": "stream",
          "name": "stdout",
          "text": [
            "\n",
            "Accuracy: 0.5808, Precision: 0.5925, Recall: 0.4678, AUC: 0.6018\n"
          ]
        },
        {
          "output_type": "stream",
          "name": "stderr",
          "text": [
            "\rEvaluate Train:   0%|          | 0/3 [00:00<?, ?it/s]"
          ]
        },
        {
          "output_type": "stream",
          "name": "stdout",
          "text": [
            "sample 8 num of prompts for COVID from total 12\n"
          ]
        },
        {
          "output_type": "stream",
          "name": "stderr",
          "text": [
            "\rEvaluate Train:  33%|███▎      | 1/3 [00:01<00:02,  1.39s/it]"
          ]
        },
        {
          "output_type": "stream",
          "name": "stdout",
          "text": [
            "sample 8 num of prompts for COVID from total 12\n"
          ]
        },
        {
          "output_type": "stream",
          "name": "stderr",
          "text": [
            "\rEvaluate Train:  67%|██████▋   | 2/3 [00:02<00:01,  1.50s/it]"
          ]
        },
        {
          "output_type": "stream",
          "name": "stdout",
          "text": [
            "sample 8 num of prompts for COVID from total 12\n"
          ]
        },
        {
          "output_type": "stream",
          "name": "stderr",
          "text": [
            "Evaluate Train: 100%|██████████| 3/3 [00:04<00:00,  1.45s/it]\n",
            "Evaluate Validation:   0%|          | 0/1 [00:00<?, ?it/s]"
          ]
        },
        {
          "output_type": "stream",
          "name": "stdout",
          "text": [
            "sample 8 num of prompts for COVID from total 12\n"
          ]
        },
        {
          "output_type": "stream",
          "name": "stderr",
          "text": [
            "Evaluate Validation: 100%|██████████| 1/1 [00:01<00:00,  1.77s/it]\n",
            "Evaluate Test:   0%|          | 0/1 [00:00<?, ?it/s]"
          ]
        },
        {
          "output_type": "stream",
          "name": "stdout",
          "text": [
            "sample 8 num of prompts for COVID from total 12\n"
          ]
        },
        {
          "output_type": "stream",
          "name": "stderr",
          "text": [
            "Evaluate Test: 100%|██████████| 1/1 [00:01<00:00,  1.93s/it]\n"
          ]
        },
        {
          "output_type": "stream",
          "name": "stdout",
          "text": [
            "Results saved to results/visualization/zs_medclip_base/ori/medclip/images/prediction_images.pdf\n",
            "Best AUC for covid_task with 8 prompts: 0.6015\n",
            "Results saved to results/zs_medclip_base/ori/medclip/classification_results.txt\n"
          ]
        },
        {
          "output_type": "display_data",
          "data": {
            "text/plain": [
              "<Figure size 640x480 with 0 Axes>"
            ]
          },
          "metadata": {}
        }
      ],
      "source": [
        "%run MedCLIP-pediatric/scripts/zs_medclip_base.py"
      ]
    },
    {
      "cell_type": "code",
      "execution_count": null,
      "metadata": {
        "id": "-c3lTRyAfXb6",
        "colab": {
          "base_uri": "https://localhost:8080/",
          "height": 1000
        },
        "outputId": "531393c7-22cc-4959-8847-05720f79e8c8"
      },
      "outputs": [
        {
          "output_type": "stream",
          "name": "stdout",
          "text": [
            "Google Drive is already mounted.\n"
          ]
        },
        {
          "output_type": "stream",
          "name": "stderr",
          "text": [
            "/usr/local/lib/python3.10/dist-packages/keras/src/preprocessing/image.py:766: UserWarning: NumpyArrayIterator is set to use the data format convention \"channels_last\" (channels on axis 3), i.e. expected either 1, 3, or 4 channels on axis 3. However, it was passed an array with shape (1967, 3, 224, 224) (224 channels).\n",
            "  warnings.warn(\n",
            "/usr/local/lib/python3.10/dist-packages/keras/src/preprocessing/image.py:766: UserWarning: NumpyArrayIterator is set to use the data format convention \"channels_last\" (channels on axis 3), i.e. expected either 1, 3, or 4 channels on axis 3. However, it was passed an array with shape (493, 3, 224, 224) (224 channels).\n",
            "  warnings.warn(\n",
            "/usr/local/lib/python3.10/dist-packages/keras/src/preprocessing/image.py:766: UserWarning: NumpyArrayIterator is set to use the data format convention \"channels_last\" (channels on axis 3), i.e. expected either 1, 3, or 4 channels on axis 3. However, it was passed an array with shape (616, 3, 224, 224) (224 channels).\n",
            "  warnings.warn(\n",
            "WARNING:matplotlib.image:Clipping input data to the valid range for imshow with RGB data ([0..1] for floats or [0..255] for integers).\n",
            "WARNING:matplotlib.image:Clipping input data to the valid range for imshow with RGB data ([0..1] for floats or [0..255] for integers).\n",
            "WARNING:matplotlib.image:Clipping input data to the valid range for imshow with RGB data ([0..1] for floats or [0..255] for integers).\n",
            "WARNING:matplotlib.image:Clipping input data to the valid range for imshow with RGB data ([0..1] for floats or [0..255] for integers).\n",
            "WARNING:matplotlib.image:Clipping input data to the valid range for imshow with RGB data ([0..1] for floats or [0..255] for integers).\n",
            "WARNING:matplotlib.image:Clipping input data to the valid range for imshow with RGB data ([0..1] for floats or [0..255] for integers).\n"
          ]
        },
        {
          "output_type": "stream",
          "name": "stdout",
          "text": [
            "Results saved to results/visualization/t_pretrained/ucsd/clip/images/cxr_images.pdf\n",
            "NVIDIA library configured successfully.\n"
          ]
        },
        {
          "output_type": "stream",
          "name": "stderr",
          "text": [
            "Epoch 1/50, Train: 100%|██████████| 8/8 [00:04<00:00,  1.77it/s]\n",
            "Epoch 1/50, Validation: 100%|██████████| 2/2 [00:00<00:00,  4.47it/s]\n",
            "Evaluate Train: 100%|██████████| 8/8 [00:02<00:00,  3.14it/s]\n",
            "Evaluate Validation: 100%|██████████| 2/2 [00:00<00:00,  6.15it/s]\n"
          ]
        },
        {
          "output_type": "stream",
          "name": "stdout",
          "text": [
            "Epoch 1/50\n",
            "Train - Loss: 6.0776, Accuracy: 0.9273, Precision: 0.9229, Recall: 0.9277, AUC: 0.6591\n",
            "Val - Loss: 5.1758, Accuracy: 0.9148, Precision: 0.9191, Recall: 0.9038, AUC: 0.6035\n"
          ]
        },
        {
          "output_type": "stream",
          "name": "stderr",
          "text": [
            "Epoch 2/50, Train: 100%|██████████| 8/8 [00:04<00:00,  1.75it/s]\n",
            "Epoch 2/50, Validation: 100%|██████████| 2/2 [00:00<00:00,  3.46it/s]\n",
            "Evaluate Train: 100%|██████████| 8/8 [00:01<00:00,  5.36it/s]\n",
            "Evaluate Validation: 100%|██████████| 2/2 [00:01<00:00,  1.57it/s]\n"
          ]
        },
        {
          "output_type": "stream",
          "name": "stdout",
          "text": [
            "Epoch 2/50\n",
            "Train - Loss: 5.1270, Accuracy: 0.9410, Precision: 0.9516, Recall: 0.9257, AUC: 0.6141\n",
            "Val - Loss: 5.0566, Accuracy: 0.9229, Precision: 0.9389, Recall: 0.8996, AUC: 0.5715\n"
          ]
        },
        {
          "output_type": "stream",
          "name": "stderr",
          "text": [
            "Epoch 3/50, Train: 100%|██████████| 8/8 [00:04<00:00,  1.94it/s]\n",
            "Epoch 3/50, Validation: 100%|██████████| 2/2 [00:00<00:00,  4.73it/s]\n",
            "Evaluate Train: 100%|██████████| 8/8 [00:01<00:00,  4.71it/s]\n",
            "Evaluate Validation: 100%|██████████| 2/2 [00:00<00:00,  6.23it/s]\n"
          ]
        },
        {
          "output_type": "stream",
          "name": "stdout",
          "text": [
            "Epoch 3/50\n",
            "Train - Loss: 4.9966, Accuracy: 0.9553, Precision: 0.9697, Recall: 0.9372, AUC: 0.6470\n",
            "Val - Loss: 5.0000, Accuracy: 0.9452, Precision: 0.9690, Recall: 0.9163, AUC: 0.5935\n"
          ]
        },
        {
          "output_type": "stream",
          "name": "stderr",
          "text": [
            "Epoch 4/50, Train: 100%|██████████| 8/8 [00:03<00:00,  2.42it/s]\n",
            "Epoch 4/50, Validation: 100%|██████████| 2/2 [00:00<00:00,  3.49it/s]\n",
            "Evaluate Train: 100%|██████████| 8/8 [00:01<00:00,  5.79it/s]\n",
            "Evaluate Validation: 100%|██████████| 2/2 [00:00<00:00,  6.32it/s]\n"
          ]
        },
        {
          "output_type": "stream",
          "name": "stdout",
          "text": [
            "Epoch 4/50\n",
            "Train - Loss: 4.9424, Accuracy: 0.9690, Precision: 0.9695, Recall: 0.9665, AUC: 0.7928\n",
            "Val - Loss: 4.9707, Accuracy: 0.9533, Precision: 0.9655, Recall: 0.9372, AUC: 0.7514\n"
          ]
        },
        {
          "output_type": "stream",
          "name": "stderr",
          "text": [
            "Epoch 5/50, Train: 100%|██████████| 8/8 [00:04<00:00,  1.90it/s]\n",
            "Epoch 5/50, Validation: 100%|██████████| 2/2 [00:00<00:00,  4.79it/s]\n",
            "Evaluate Train: 100%|██████████| 8/8 [00:02<00:00,  3.58it/s]\n",
            "Evaluate Validation: 100%|██████████| 2/2 [00:01<00:00,  1.59it/s]\n"
          ]
        },
        {
          "output_type": "stream",
          "name": "stdout",
          "text": [
            "Epoch 5/50\n",
            "Train - Loss: 4.9038, Accuracy: 0.9792, Precision: 0.9790, Recall: 0.9780, AUC: 0.7481\n",
            "Val - Loss: 4.9531, Accuracy: 0.9533, Precision: 0.9655, Recall: 0.9372, AUC: 0.7017\n"
          ]
        },
        {
          "output_type": "stream",
          "name": "stderr",
          "text": [
            "Epoch 6/50, Train: 100%|██████████| 8/8 [00:02<00:00,  2.80it/s]\n",
            "Epoch 6/50, Validation: 100%|██████████| 2/2 [00:00<00:00,  4.58it/s]\n",
            "Evaluate Train: 100%|██████████| 8/8 [00:01<00:00,  6.07it/s]\n",
            "Evaluate Validation: 100%|██████████| 2/2 [00:01<00:00,  1.93it/s]\n"
          ]
        },
        {
          "output_type": "stream",
          "name": "stdout",
          "text": [
            "Epoch 6/50\n",
            "Train - Loss: 4.8740, Accuracy: 0.9893, Precision: 0.9958, Recall: 0.9822, AUC: 0.6058\n",
            "Val - Loss: 4.9668, Accuracy: 0.9533, Precision: 0.9779, Recall: 0.9247, AUC: 0.5551\n"
          ]
        },
        {
          "output_type": "stream",
          "name": "stderr",
          "text": [
            "Epoch 7/50, Train: 100%|██████████| 8/8 [00:03<00:00,  2.18it/s]\n",
            "Epoch 7/50, Validation: 100%|██████████| 2/2 [00:00<00:00,  3.78it/s]\n",
            "Evaluate Train: 100%|██████████| 8/8 [00:02<00:00,  3.68it/s]\n",
            "Evaluate Validation: 100%|██████████| 2/2 [00:00<00:00,  3.66it/s]\n"
          ]
        },
        {
          "output_type": "stream",
          "name": "stdout",
          "text": [
            "Epoch 7/50\n",
            "Train - Loss: 4.8711, Accuracy: 0.9878, Precision: 0.9765, Recall: 0.9990, AUC: 0.8392\n",
            "Val - Loss: 4.9863, Accuracy: 0.9533, Precision: 0.9390, Recall: 0.9665, AUC: 0.7830\n"
          ]
        },
        {
          "output_type": "stream",
          "name": "stderr",
          "text": [
            "Epoch 8/50, Train: 100%|██████████| 8/8 [00:05<00:00,  1.58it/s]\n",
            "Epoch 8/50, Validation: 100%|██████████| 2/2 [00:00<00:00,  4.79it/s]\n",
            "Evaluate Train: 100%|██████████| 8/8 [00:01<00:00,  4.67it/s]\n",
            "Evaluate Validation: 100%|██████████| 2/2 [00:00<00:00,  6.23it/s]\n"
          ]
        },
        {
          "output_type": "stream",
          "name": "stdout",
          "text": [
            "Epoch 8/50\n",
            "Train - Loss: 4.8662, Accuracy: 0.9919, Precision: 0.9845, Recall: 0.9990, AUC: 0.8171\n",
            "Val - Loss: 4.9746, Accuracy: 0.9473, Precision: 0.9277, Recall: 0.9665, AUC: 0.7523\n"
          ]
        },
        {
          "output_type": "stream",
          "name": "stderr",
          "text": [
            "Epoch 9/50, Train: 100%|██████████| 8/8 [00:04<00:00,  1.74it/s]\n",
            "Epoch 9/50, Validation: 100%|██████████| 2/2 [00:00<00:00,  4.80it/s]\n",
            "Evaluate Train: 100%|██████████| 8/8 [00:03<00:00,  2.01it/s]\n",
            "Evaluate Validation: 100%|██████████| 2/2 [00:00<00:00,  4.86it/s]\n"
          ]
        },
        {
          "output_type": "stream",
          "name": "stdout",
          "text": [
            "Epoch 9/50\n",
            "Train - Loss: 4.8359, Accuracy: 0.9858, Precision: 0.9715, Recall: 1.0000, AUC: 0.9205\n",
            "Val - Loss: 5.0117, Accuracy: 0.9391, Precision: 0.9098, Recall: 0.9707, AUC: 0.8650\n"
          ]
        },
        {
          "output_type": "stream",
          "name": "stderr",
          "text": [
            "Epoch 10/50, Train: 100%|██████████| 8/8 [00:04<00:00,  1.76it/s]\n",
            "Epoch 10/50, Validation: 100%|██████████| 2/2 [00:00<00:00,  4.81it/s]\n",
            "Evaluate Train: 100%|██████████| 8/8 [00:02<00:00,  3.56it/s]\n",
            "Evaluate Validation: 100%|██████████| 2/2 [00:00<00:00,  6.28it/s]\n"
          ]
        },
        {
          "output_type": "stream",
          "name": "stdout",
          "text": [
            "Epoch 10/50\n",
            "Train - Loss: 4.8262, Accuracy: 0.9964, Precision: 0.9927, Recall: 1.0000, AUC: 0.7156\n",
            "Val - Loss: 5.0020, Accuracy: 0.9594, Precision: 0.9506, Recall: 0.9665, AUC: 0.6632\n"
          ]
        },
        {
          "output_type": "stream",
          "name": "stderr",
          "text": [
            "Epoch 11/50, Train: 100%|██████████| 8/8 [00:04<00:00,  1.74it/s]\n",
            "Epoch 11/50, Validation: 100%|██████████| 2/2 [00:00<00:00,  2.91it/s]\n",
            "Evaluate Train: 100%|██████████| 8/8 [00:02<00:00,  2.70it/s]\n",
            "Evaluate Validation: 100%|██████████| 2/2 [00:00<00:00,  6.01it/s]\n"
          ]
        },
        {
          "output_type": "stream",
          "name": "stdout",
          "text": [
            "Epoch 11/50\n",
            "Train - Loss: 4.8237, Accuracy: 0.9995, Precision: 0.9990, Recall: 1.0000, AUC: 0.5191\n",
            "Val - Loss: 4.9902, Accuracy: 0.9594, Precision: 0.9620, Recall: 0.9540, AUC: 0.4910\n"
          ]
        },
        {
          "output_type": "stream",
          "name": "stderr",
          "text": [
            "Epoch 12/50, Train: 100%|██████████| 8/8 [00:04<00:00,  1.75it/s]\n",
            "Epoch 12/50, Validation: 100%|██████████| 2/2 [00:00<00:00,  4.69it/s]\n",
            "Evaluate Train: 100%|██████████| 8/8 [00:03<00:00,  2.65it/s]\n",
            "Evaluate Validation: 100%|██████████| 2/2 [00:01<00:00,  1.60it/s]\n"
          ]
        },
        {
          "output_type": "stream",
          "name": "stdout",
          "text": [
            "Epoch 12/50\n",
            "Train - Loss: 4.8149, Accuracy: 1.0000, Precision: 1.0000, Recall: 1.0000, AUC: 0.4187\n",
            "Val - Loss: 5.0352, Accuracy: 0.9513, Precision: 0.9778, Recall: 0.9205, AUC: 0.4201\n"
          ]
        },
        {
          "output_type": "stream",
          "name": "stderr",
          "text": [
            "Epoch 13/50, Train: 100%|██████████| 8/8 [00:04<00:00,  1.71it/s]\n",
            "Epoch 13/50, Validation: 100%|██████████| 2/2 [00:01<00:00,  1.52it/s]\n",
            "Evaluate Train: 100%|██████████| 8/8 [00:03<00:00,  2.07it/s]\n",
            "Evaluate Validation: 100%|██████████| 2/2 [00:00<00:00,  6.07it/s]\n"
          ]
        },
        {
          "output_type": "stream",
          "name": "stdout",
          "text": [
            "Epoch 13/50\n",
            "Train - Loss: 4.8105, Accuracy: 1.0000, Precision: 1.0000, Recall: 1.0000, AUC: 0.4690\n",
            "Val - Loss: 5.0527, Accuracy: 0.9513, Precision: 0.9736, Recall: 0.9247, AUC: 0.4628\n"
          ]
        },
        {
          "output_type": "stream",
          "name": "stderr",
          "text": [
            "Epoch 14/50, Train: 100%|██████████| 8/8 [00:04<00:00,  2.00it/s]\n",
            "Epoch 14/50, Validation: 100%|██████████| 2/2 [00:00<00:00,  2.01it/s]\n",
            "Evaluate Train: 100%|██████████| 8/8 [00:01<00:00,  4.46it/s]\n",
            "Evaluate Validation: 100%|██████████| 2/2 [00:00<00:00,  6.12it/s]\n"
          ]
        },
        {
          "output_type": "stream",
          "name": "stdout",
          "text": [
            "Epoch 14/50\n",
            "Train - Loss: 4.8115, Accuracy: 1.0000, Precision: 1.0000, Recall: 1.0000, AUC: 0.4834\n",
            "Val - Loss: 5.0547, Accuracy: 0.9533, Precision: 0.9737, Recall: 0.9289, AUC: 0.4822\n"
          ]
        },
        {
          "output_type": "stream",
          "name": "stderr",
          "text": [
            "Epoch 15/50, Train: 100%|██████████| 8/8 [00:03<00:00,  2.10it/s]\n",
            "Epoch 15/50, Validation: 100%|██████████| 2/2 [00:00<00:00,  4.84it/s]\n",
            "Evaluate Train: 100%|██████████| 8/8 [00:02<00:00,  3.54it/s]\n",
            "Evaluate Validation: 100%|██████████| 2/2 [00:01<00:00,  1.58it/s]\n"
          ]
        },
        {
          "output_type": "stream",
          "name": "stdout",
          "text": [
            "Epoch 15/50\n",
            "Train - Loss: 4.8125, Accuracy: 1.0000, Precision: 1.0000, Recall: 1.0000, AUC: 0.6405\n",
            "Val - Loss: 5.0273, Accuracy: 0.9574, Precision: 0.9542, Recall: 0.9582, AUC: 0.6067\n"
          ]
        },
        {
          "output_type": "stream",
          "name": "stderr",
          "text": [
            "Epoch 16/50, Train: 100%|██████████| 8/8 [00:04<00:00,  1.78it/s]\n",
            "Epoch 16/50, Validation: 100%|██████████| 2/2 [00:00<00:00,  4.74it/s]\n",
            "Evaluate Train: 100%|██████████| 8/8 [00:02<00:00,  3.33it/s]\n",
            "Evaluate Validation: 100%|██████████| 2/2 [00:00<00:00,  6.12it/s]\n"
          ]
        },
        {
          "output_type": "stream",
          "name": "stdout",
          "text": [
            "Epoch 16/50\n",
            "Train - Loss: 4.8101, Accuracy: 1.0000, Precision: 1.0000, Recall: 1.0000, AUC: 0.5377\n",
            "Val - Loss: 5.0371, Accuracy: 0.9554, Precision: 0.9738, Recall: 0.9331, AUC: 0.5236\n"
          ]
        },
        {
          "output_type": "stream",
          "name": "stderr",
          "text": [
            "Epoch 17/50, Train: 100%|██████████| 8/8 [00:04<00:00,  1.74it/s]\n",
            "Epoch 17/50, Validation: 100%|██████████| 2/2 [00:00<00:00,  4.76it/s]\n",
            "Evaluate Train: 100%|██████████| 8/8 [00:02<00:00,  3.58it/s]\n",
            "Evaluate Validation: 100%|██████████| 2/2 [00:00<00:00,  6.12it/s]\n"
          ]
        },
        {
          "output_type": "stream",
          "name": "stdout",
          "text": [
            "Epoch 17/50\n",
            "Train - Loss: 4.8101, Accuracy: 1.0000, Precision: 1.0000, Recall: 1.0000, AUC: 0.4847\n",
            "Val - Loss: 5.0508, Accuracy: 0.9554, Precision: 0.9738, Recall: 0.9331, AUC: 0.4897\n"
          ]
        },
        {
          "output_type": "stream",
          "name": "stderr",
          "text": [
            "Epoch 18/50, Train: 100%|██████████| 8/8 [00:03<00:00,  2.03it/s]\n",
            "Epoch 18/50, Validation: 100%|██████████| 2/2 [00:00<00:00,  3.51it/s]\n",
            "Evaluate Train: 100%|██████████| 8/8 [00:02<00:00,  3.80it/s]\n",
            "Evaluate Validation: 100%|██████████| 2/2 [00:00<00:00,  6.07it/s]\n"
          ]
        },
        {
          "output_type": "stream",
          "name": "stdout",
          "text": [
            "Epoch 18/50\n",
            "Train - Loss: 4.8086, Accuracy: 1.0000, Precision: 1.0000, Recall: 1.0000, AUC: 0.5078\n",
            "Val - Loss: 5.0391, Accuracy: 0.9574, Precision: 0.9739, Recall: 0.9372, AUC: 0.5014\n"
          ]
        },
        {
          "output_type": "stream",
          "name": "stderr",
          "text": [
            "Epoch 19/50, Train: 100%|██████████| 8/8 [00:05<00:00,  1.58it/s]\n",
            "Epoch 19/50, Validation: 100%|██████████| 2/2 [00:01<00:00,  1.58it/s]\n",
            "Evaluate Train: 100%|██████████| 8/8 [00:02<00:00,  2.67it/s]\n",
            "Evaluate Validation: 100%|██████████| 2/2 [00:00<00:00,  6.07it/s]\n"
          ]
        },
        {
          "output_type": "stream",
          "name": "stdout",
          "text": [
            "Epoch 19/50\n",
            "Train - Loss: 4.8086, Accuracy: 1.0000, Precision: 1.0000, Recall: 1.0000, AUC: 0.5025\n",
            "Val - Loss: 5.0449, Accuracy: 0.9594, Precision: 0.9740, Recall: 0.9414, AUC: 0.4927\n"
          ]
        },
        {
          "output_type": "stream",
          "name": "stderr",
          "text": [
            "Epoch 20/50, Train: 100%|██████████| 8/8 [00:03<00:00,  2.22it/s]\n",
            "Epoch 20/50, Validation: 100%|██████████| 2/2 [00:00<00:00,  4.82it/s]\n",
            "Evaluate Train: 100%|██████████| 8/8 [00:02<00:00,  3.49it/s]\n",
            "Evaluate Validation: 100%|██████████| 2/2 [00:00<00:00,  6.21it/s]\n"
          ]
        },
        {
          "output_type": "stream",
          "name": "stdout",
          "text": [
            "Epoch 20/50\n",
            "Train - Loss: 4.8066, Accuracy: 1.0000, Precision: 1.0000, Recall: 1.0000, AUC: 0.5518\n",
            "Val - Loss: 5.0488, Accuracy: 0.9574, Precision: 0.9698, Recall: 0.9414, AUC: 0.5368\n"
          ]
        },
        {
          "output_type": "stream",
          "name": "stderr",
          "text": [
            "Epoch 21/50, Train: 100%|██████████| 8/8 [00:04<00:00,  1.80it/s]\n",
            "Epoch 21/50, Validation: 100%|██████████| 2/2 [00:00<00:00,  3.44it/s]\n",
            "Evaluate Train: 100%|██████████| 8/8 [00:01<00:00,  5.15it/s]\n",
            "Evaluate Validation: 100%|██████████| 2/2 [00:01<00:00,  1.71it/s]\n"
          ]
        },
        {
          "output_type": "stream",
          "name": "stdout",
          "text": [
            "Epoch 21/50\n",
            "Train - Loss: 4.8076, Accuracy: 1.0000, Precision: 1.0000, Recall: 1.0000, AUC: 0.5663\n",
            "Val - Loss: 5.0566, Accuracy: 0.9574, Precision: 0.9698, Recall: 0.9414, AUC: 0.5436\n"
          ]
        },
        {
          "output_type": "stream",
          "name": "stderr",
          "text": [
            "Epoch 22/50, Train: 100%|██████████| 8/8 [00:04<00:00,  1.71it/s]\n",
            "Epoch 22/50, Validation: 100%|██████████| 2/2 [00:01<00:00,  1.53it/s]\n",
            "Evaluate Train: 100%|██████████| 8/8 [00:02<00:00,  3.74it/s]\n",
            "Evaluate Validation: 100%|██████████| 2/2 [00:00<00:00,  6.13it/s]\n"
          ]
        },
        {
          "output_type": "stream",
          "name": "stdout",
          "text": [
            "Epoch 22/50\n",
            "Train - Loss: 4.8105, Accuracy: 1.0000, Precision: 1.0000, Recall: 1.0000, AUC: 0.5744\n",
            "Val - Loss: 5.0586, Accuracy: 0.9574, Precision: 0.9698, Recall: 0.9414, AUC: 0.5583\n"
          ]
        },
        {
          "output_type": "stream",
          "name": "stderr",
          "text": [
            "Epoch 23/50, Train: 100%|██████████| 8/8 [00:04<00:00,  1.97it/s]\n",
            "Epoch 23/50, Validation: 100%|██████████| 2/2 [00:01<00:00,  1.78it/s]\n",
            "Evaluate Train: 100%|██████████| 8/8 [00:01<00:00,  5.12it/s]\n",
            "Evaluate Validation: 100%|██████████| 2/2 [00:00<00:00,  6.06it/s]\n"
          ]
        },
        {
          "output_type": "stream",
          "name": "stdout",
          "text": [
            "Epoch 23/50\n",
            "Train - Loss: 4.8076, Accuracy: 1.0000, Precision: 1.0000, Recall: 1.0000, AUC: 0.5597\n",
            "Val - Loss: 5.0664, Accuracy: 0.9554, Precision: 0.9697, Recall: 0.9372, AUC: 0.5436\n"
          ]
        },
        {
          "output_type": "stream",
          "name": "stderr",
          "text": [
            "Epoch 24/50, Train: 100%|██████████| 8/8 [00:04<00:00,  1.83it/s]\n",
            "Epoch 24/50, Validation: 100%|██████████| 2/2 [00:00<00:00,  4.73it/s]\n",
            "Evaluate Train: 100%|██████████| 8/8 [00:02<00:00,  2.73it/s]\n",
            "Evaluate Validation: 100%|██████████| 2/2 [00:00<00:00,  6.03it/s]\n"
          ]
        },
        {
          "output_type": "stream",
          "name": "stdout",
          "text": [
            "Epoch 24/50\n",
            "Train - Loss: 4.8105, Accuracy: 1.0000, Precision: 1.0000, Recall: 1.0000, AUC: 0.5187\n",
            "Val - Loss: 5.0742, Accuracy: 0.9574, Precision: 0.9739, Recall: 0.9372, AUC: 0.5063\n"
          ]
        },
        {
          "output_type": "stream",
          "name": "stderr",
          "text": [
            "Epoch 25/50, Train: 100%|██████████| 8/8 [00:04<00:00,  1.85it/s]\n",
            "Epoch 25/50, Validation: 100%|██████████| 2/2 [00:00<00:00,  4.80it/s]\n",
            "Evaluate Train: 100%|██████████| 8/8 [00:02<00:00,  2.78it/s]\n",
            "Evaluate Validation: 100%|██████████| 2/2 [00:00<00:00,  5.93it/s]\n"
          ]
        },
        {
          "output_type": "stream",
          "name": "stdout",
          "text": [
            "Epoch 25/50\n",
            "Train - Loss: 4.8086, Accuracy: 1.0000, Precision: 1.0000, Recall: 1.0000, AUC: 0.5142\n",
            "Val - Loss: 5.0840, Accuracy: 0.9554, Precision: 0.9738, Recall: 0.9331, AUC: 0.5174\n",
            "Early stopping triggered.\n"
          ]
        },
        {
          "output_type": "stream",
          "name": "stderr",
          "text": [
            "Evaluate Test: 100%|██████████| 3/3 [00:01<00:00,  2.52it/s]\n",
            "WARNING:matplotlib.image:Clipping input data to the valid range for imshow with RGB data ([0..1] for floats or [0..255] for integers).\n",
            "WARNING:matplotlib.image:Clipping input data to the valid range for imshow with RGB data ([0..1] for floats or [0..255] for integers).\n",
            "WARNING:matplotlib.image:Clipping input data to the valid range for imshow with RGB data ([0..1] for floats or [0..255] for integers).\n",
            "WARNING:matplotlib.image:Clipping input data to the valid range for imshow with RGB data ([0..1] for floats or [0..255] for integers).\n",
            "WARNING:matplotlib.image:Clipping input data to the valid range for imshow with RGB data ([0..1] for floats or [0..255] for integers).\n",
            "WARNING:matplotlib.image:Clipping input data to the valid range for imshow with RGB data ([0..1] for floats or [0..255] for integers).\n",
            "WARNING:matplotlib.image:Clipping input data to the valid range for imshow with RGB data ([0..1] for floats or [0..255] for integers).\n",
            "WARNING:matplotlib.image:Clipping input data to the valid range for imshow with RGB data ([0..1] for floats or [0..255] for integers).\n",
            "WARNING:matplotlib.image:Clipping input data to the valid range for imshow with RGB data ([0..1] for floats or [0..255] for integers).\n",
            "WARNING:matplotlib.image:Clipping input data to the valid range for imshow with RGB data ([0..1] for floats or [0..255] for integers).\n",
            "WARNING:matplotlib.image:Clipping input data to the valid range for imshow with RGB data ([0..1] for floats or [0..255] for integers).\n",
            "WARNING:matplotlib.image:Clipping input data to the valid range for imshow with RGB data ([0..1] for floats or [0..255] for integers).\n"
          ]
        },
        {
          "output_type": "stream",
          "name": "stdout",
          "text": [
            "Results saved to results/visualization/t_pretrained/ucsd/clip/images/prediction_images.pdf\n",
            "\n",
            "Accuracy: 0.9529, Precision: 0.9787, Recall: 0.9231, AUC: 0.6986\n",
            "Results saved to results/t_pretrained/ucsd/clip/classification_results.txt\n"
          ]
        },
        {
          "output_type": "stream",
          "name": "stderr",
          "text": [
            "/usr/local/lib/python3.10/dist-packages/keras/src/preprocessing/image.py:766: UserWarning: NumpyArrayIterator is set to use the data format convention \"channels_last\" (channels on axis 3), i.e. expected either 1, 3, or 4 channels on axis 3. However, it was passed an array with shape (526, 3, 224, 224) (224 channels).\n",
            "  warnings.warn(\n",
            "/usr/local/lib/python3.10/dist-packages/keras/src/preprocessing/image.py:766: UserWarning: NumpyArrayIterator is set to use the data format convention \"channels_last\" (channels on axis 3), i.e. expected either 1, 3, or 4 channels on axis 3. However, it was passed an array with shape (132, 3, 224, 224) (224 channels).\n",
            "  warnings.warn(\n",
            "/usr/local/lib/python3.10/dist-packages/keras/src/preprocessing/image.py:766: UserWarning: NumpyArrayIterator is set to use the data format convention \"channels_last\" (channels on axis 3), i.e. expected either 1, 3, or 4 channels on axis 3. However, it was passed an array with shape (165, 3, 224, 224) (224 channels).\n",
            "  warnings.warn(\n",
            "WARNING:matplotlib.image:Clipping input data to the valid range for imshow with RGB data ([0..1] for floats or [0..255] for integers).\n",
            "WARNING:matplotlib.image:Clipping input data to the valid range for imshow with RGB data ([0..1] for floats or [0..255] for integers).\n",
            "WARNING:matplotlib.image:Clipping input data to the valid range for imshow with RGB data ([0..1] for floats or [0..255] for integers).\n",
            "WARNING:matplotlib.image:Clipping input data to the valid range for imshow with RGB data ([0..1] for floats or [0..255] for integers).\n",
            "WARNING:matplotlib.image:Clipping input data to the valid range for imshow with RGB data ([0..1] for floats or [0..255] for integers).\n",
            "WARNING:matplotlib.image:Clipping input data to the valid range for imshow with RGB data ([0..1] for floats or [0..255] for integers).\n"
          ]
        },
        {
          "output_type": "stream",
          "name": "stdout",
          "text": [
            "Results saved to results/visualization/t_pretrained/ori/clip/images/cxr_images.pdf\n",
            "NVIDIA library configured successfully.\n"
          ]
        },
        {
          "output_type": "stream",
          "name": "stderr",
          "text": [
            "Epoch 1/50, Train: 100%|██████████| 3/3 [00:02<00:00,  1.47it/s]\n",
            "Epoch 1/50, Validation: 100%|██████████| 1/1 [00:00<00:00,  8.49it/s]\n",
            "Evaluate Train: 100%|██████████| 3/3 [00:00<00:00,  8.26it/s]\n",
            "/usr/local/lib/python3.10/dist-packages/sklearn/metrics/_classification.py:1344: UndefinedMetricWarning: Precision and F-score are ill-defined and being set to 0.0 in labels with no predicted samples. Use `zero_division` parameter to control this behavior.\n",
            "  _warn_prf(average, modifier, msg_start, len(result))\n",
            "/usr/local/lib/python3.10/dist-packages/sklearn/metrics/_classification.py:1344: UndefinedMetricWarning: Precision and F-score are ill-defined and being set to 0.0 in labels with no predicted samples. Use `zero_division` parameter to control this behavior.\n",
            "  _warn_prf(average, modifier, msg_start, len(result))\n",
            "/usr/local/lib/python3.10/dist-packages/sklearn/metrics/_classification.py:1344: UndefinedMetricWarning: Precision and F-score are ill-defined and being set to 0.0 in labels with no predicted samples. Use `zero_division` parameter to control this behavior.\n",
            "  _warn_prf(average, modifier, msg_start, len(result))\n",
            "Evaluate Validation: 100%|██████████| 1/1 [00:00<00:00, 10.94it/s]\n",
            "/usr/local/lib/python3.10/dist-packages/sklearn/metrics/_classification.py:1344: UndefinedMetricWarning: Precision and F-score are ill-defined and being set to 0.0 in labels with no predicted samples. Use `zero_division` parameter to control this behavior.\n",
            "  _warn_prf(average, modifier, msg_start, len(result))\n",
            "/usr/local/lib/python3.10/dist-packages/sklearn/metrics/_classification.py:1344: UndefinedMetricWarning: Precision and F-score are ill-defined and being set to 0.0 in labels with no predicted samples. Use `zero_division` parameter to control this behavior.\n",
            "  _warn_prf(average, modifier, msg_start, len(result))\n",
            "/usr/local/lib/python3.10/dist-packages/sklearn/metrics/_classification.py:1344: UndefinedMetricWarning: Precision and F-score are ill-defined and being set to 0.0 in labels with no predicted samples. Use `zero_division` parameter to control this behavior.\n",
            "  _warn_prf(average, modifier, msg_start, len(result))\n"
          ]
        },
        {
          "output_type": "stream",
          "name": "stdout",
          "text": [
            "Epoch 1/50\n",
            "Train - Loss: 5.1419, Accuracy: 0.4905, Precision: 0.4905, Recall: 1.0000, AUC: 0.7240\n",
            "Val - Loss: 5.3594, Accuracy: 0.4924, Precision: 0.4924, Recall: 1.0000, AUC: 0.7138\n"
          ]
        },
        {
          "output_type": "stream",
          "name": "stderr",
          "text": [
            "Epoch 2/50, Train: 100%|██████████| 3/3 [00:01<00:00,  2.87it/s]\n",
            "Epoch 2/50, Validation: 100%|██████████| 1/1 [00:00<00:00,  8.46it/s]\n",
            "Evaluate Train: 100%|██████████| 3/3 [00:00<00:00,  8.26it/s]\n",
            "/usr/local/lib/python3.10/dist-packages/sklearn/metrics/_classification.py:1344: UndefinedMetricWarning: Precision is ill-defined and being set to 0.0 due to no predicted samples. Use `zero_division` parameter to control this behavior.\n",
            "  _warn_prf(average, modifier, msg_start, len(result))\n",
            "/usr/local/lib/python3.10/dist-packages/sklearn/metrics/_classification.py:1344: UndefinedMetricWarning: Precision and F-score are ill-defined and being set to 0.0 in labels with no predicted samples. Use `zero_division` parameter to control this behavior.\n",
            "  _warn_prf(average, modifier, msg_start, len(result))\n",
            "/usr/local/lib/python3.10/dist-packages/sklearn/metrics/_classification.py:1344: UndefinedMetricWarning: Precision and F-score are ill-defined and being set to 0.0 in labels with no predicted samples. Use `zero_division` parameter to control this behavior.\n",
            "  _warn_prf(average, modifier, msg_start, len(result))\n",
            "/usr/local/lib/python3.10/dist-packages/sklearn/metrics/_classification.py:1344: UndefinedMetricWarning: Precision and F-score are ill-defined and being set to 0.0 in labels with no predicted samples. Use `zero_division` parameter to control this behavior.\n",
            "  _warn_prf(average, modifier, msg_start, len(result))\n",
            "Evaluate Validation: 100%|██████████| 1/1 [00:00<00:00, 11.36it/s]\n",
            "/usr/local/lib/python3.10/dist-packages/sklearn/metrics/_classification.py:1344: UndefinedMetricWarning: Precision is ill-defined and being set to 0.0 due to no predicted samples. Use `zero_division` parameter to control this behavior.\n",
            "  _warn_prf(average, modifier, msg_start, len(result))\n",
            "/usr/local/lib/python3.10/dist-packages/sklearn/metrics/_classification.py:1344: UndefinedMetricWarning: Precision and F-score are ill-defined and being set to 0.0 in labels with no predicted samples. Use `zero_division` parameter to control this behavior.\n",
            "  _warn_prf(average, modifier, msg_start, len(result))\n",
            "/usr/local/lib/python3.10/dist-packages/sklearn/metrics/_classification.py:1344: UndefinedMetricWarning: Precision and F-score are ill-defined and being set to 0.0 in labels with no predicted samples. Use `zero_division` parameter to control this behavior.\n",
            "  _warn_prf(average, modifier, msg_start, len(result))\n",
            "/usr/local/lib/python3.10/dist-packages/sklearn/metrics/_classification.py:1344: UndefinedMetricWarning: Precision and F-score are ill-defined and being set to 0.0 in labels with no predicted samples. Use `zero_division` parameter to control this behavior.\n",
            "  _warn_prf(average, modifier, msg_start, len(result))\n"
          ]
        },
        {
          "output_type": "stream",
          "name": "stdout",
          "text": [
            "Epoch 2/50\n",
            "Train - Loss: 4.7565, Accuracy: 0.5095, Precision: 0.0000, Recall: 0.0000, AUC: 0.1677\n",
            "Val - Loss: 4.9805, Accuracy: 0.5076, Precision: 0.0000, Recall: 0.0000, AUC: 0.1606\n"
          ]
        },
        {
          "output_type": "stream",
          "name": "stderr",
          "text": [
            "Epoch 3/50, Train: 100%|██████████| 3/3 [00:01<00:00,  2.89it/s]\n",
            "Epoch 3/50, Validation: 100%|██████████| 1/1 [00:00<00:00,  8.58it/s]\n",
            "Evaluate Train: 100%|██████████| 3/3 [00:00<00:00,  8.36it/s]\n",
            "/usr/local/lib/python3.10/dist-packages/sklearn/metrics/_classification.py:1344: UndefinedMetricWarning: Precision and F-score are ill-defined and being set to 0.0 in labels with no predicted samples. Use `zero_division` parameter to control this behavior.\n",
            "  _warn_prf(average, modifier, msg_start, len(result))\n",
            "/usr/local/lib/python3.10/dist-packages/sklearn/metrics/_classification.py:1344: UndefinedMetricWarning: Precision and F-score are ill-defined and being set to 0.0 in labels with no predicted samples. Use `zero_division` parameter to control this behavior.\n",
            "  _warn_prf(average, modifier, msg_start, len(result))\n",
            "/usr/local/lib/python3.10/dist-packages/sklearn/metrics/_classification.py:1344: UndefinedMetricWarning: Precision and F-score are ill-defined and being set to 0.0 in labels with no predicted samples. Use `zero_division` parameter to control this behavior.\n",
            "  _warn_prf(average, modifier, msg_start, len(result))\n",
            "Evaluate Validation: 100%|██████████| 1/1 [00:00<00:00, 11.26it/s]\n",
            "/usr/local/lib/python3.10/dist-packages/sklearn/metrics/_classification.py:1344: UndefinedMetricWarning: Precision and F-score are ill-defined and being set to 0.0 in labels with no predicted samples. Use `zero_division` parameter to control this behavior.\n",
            "  _warn_prf(average, modifier, msg_start, len(result))\n",
            "/usr/local/lib/python3.10/dist-packages/sklearn/metrics/_classification.py:1344: UndefinedMetricWarning: Precision and F-score are ill-defined and being set to 0.0 in labels with no predicted samples. Use `zero_division` parameter to control this behavior.\n",
            "  _warn_prf(average, modifier, msg_start, len(result))\n",
            "/usr/local/lib/python3.10/dist-packages/sklearn/metrics/_classification.py:1344: UndefinedMetricWarning: Precision and F-score are ill-defined and being set to 0.0 in labels with no predicted samples. Use `zero_division` parameter to control this behavior.\n",
            "  _warn_prf(average, modifier, msg_start, len(result))\n"
          ]
        },
        {
          "output_type": "stream",
          "name": "stdout",
          "text": [
            "Epoch 3/50\n",
            "Train - Loss: 4.6029, Accuracy: 0.4905, Precision: 0.4905, Recall: 1.0000, AUC: 0.8673\n",
            "Val - Loss: 4.8633, Accuracy: 0.4924, Precision: 0.4924, Recall: 1.0000, AUC: 0.8471\n"
          ]
        },
        {
          "output_type": "stream",
          "name": "stderr",
          "text": [
            "Epoch 4/50, Train: 100%|██████████| 3/3 [00:02<00:00,  1.38it/s]\n",
            "Epoch 4/50, Validation: 100%|██████████| 1/1 [00:00<00:00,  8.45it/s]\n",
            "Evaluate Train: 100%|██████████| 3/3 [00:00<00:00,  8.27it/s]\n",
            "/usr/local/lib/python3.10/dist-packages/sklearn/metrics/_classification.py:1344: UndefinedMetricWarning: Precision and F-score are ill-defined and being set to 0.0 in labels with no predicted samples. Use `zero_division` parameter to control this behavior.\n",
            "  _warn_prf(average, modifier, msg_start, len(result))\n",
            "/usr/local/lib/python3.10/dist-packages/sklearn/metrics/_classification.py:1344: UndefinedMetricWarning: Precision and F-score are ill-defined and being set to 0.0 in labels with no predicted samples. Use `zero_division` parameter to control this behavior.\n",
            "  _warn_prf(average, modifier, msg_start, len(result))\n",
            "/usr/local/lib/python3.10/dist-packages/sklearn/metrics/_classification.py:1344: UndefinedMetricWarning: Precision and F-score are ill-defined and being set to 0.0 in labels with no predicted samples. Use `zero_division` parameter to control this behavior.\n",
            "  _warn_prf(average, modifier, msg_start, len(result))\n",
            "Evaluate Validation: 100%|██████████| 1/1 [00:00<00:00, 10.97it/s]\n",
            "/usr/local/lib/python3.10/dist-packages/sklearn/metrics/_classification.py:1344: UndefinedMetricWarning: Precision and F-score are ill-defined and being set to 0.0 in labels with no predicted samples. Use `zero_division` parameter to control this behavior.\n",
            "  _warn_prf(average, modifier, msg_start, len(result))\n",
            "/usr/local/lib/python3.10/dist-packages/sklearn/metrics/_classification.py:1344: UndefinedMetricWarning: Precision and F-score are ill-defined and being set to 0.0 in labels with no predicted samples. Use `zero_division` parameter to control this behavior.\n",
            "  _warn_prf(average, modifier, msg_start, len(result))\n",
            "/usr/local/lib/python3.10/dist-packages/sklearn/metrics/_classification.py:1344: UndefinedMetricWarning: Precision and F-score are ill-defined and being set to 0.0 in labels with no predicted samples. Use `zero_division` parameter to control this behavior.\n",
            "  _warn_prf(average, modifier, msg_start, len(result))\n"
          ]
        },
        {
          "output_type": "stream",
          "name": "stdout",
          "text": [
            "Epoch 4/50\n",
            "Train - Loss: 4.5560, Accuracy: 0.4905, Precision: 0.4905, Recall: 1.0000, AUC: 0.8754\n",
            "Val - Loss: 4.8594, Accuracy: 0.4924, Precision: 0.4924, Recall: 1.0000, AUC: 0.8534\n"
          ]
        },
        {
          "output_type": "stream",
          "name": "stderr",
          "text": [
            "Epoch 5/50, Train: 100%|██████████| 3/3 [00:00<00:00,  3.65it/s]\n",
            "Epoch 5/50, Validation: 100%|██████████| 1/1 [00:00<00:00,  2.91it/s]\n",
            "Evaluate Train: 100%|██████████| 3/3 [00:00<00:00,  8.16it/s]\n",
            "Evaluate Validation: 100%|██████████| 1/1 [00:00<00:00, 11.02it/s]\n"
          ]
        },
        {
          "output_type": "stream",
          "name": "stdout",
          "text": [
            "Epoch 5/50\n",
            "Train - Loss: 4.5404, Accuracy: 0.7072, Precision: 0.6469, Recall: 0.8876, AUC: 0.8601\n",
            "Val - Loss: 4.8203, Accuracy: 0.7045, Precision: 0.6548, Recall: 0.8462, AUC: 0.8543\n"
          ]
        },
        {
          "output_type": "stream",
          "name": "stderr",
          "text": [
            "Epoch 6/50, Train: 100%|██████████| 3/3 [00:00<00:00,  3.60it/s]\n",
            "Epoch 6/50, Validation: 100%|██████████| 1/1 [00:00<00:00,  1.13it/s]\n",
            "Evaluate Train: 100%|██████████| 3/3 [00:01<00:00,  2.31it/s]\n",
            "Evaluate Validation: 100%|██████████| 1/1 [00:00<00:00, 10.85it/s]\n"
          ]
        },
        {
          "output_type": "stream",
          "name": "stdout",
          "text": [
            "Epoch 6/50\n",
            "Train - Loss: 4.5039, Accuracy: 0.8042, Precision: 0.9874, Recall: 0.6085, AUC: 0.3161\n",
            "Val - Loss: 4.7734, Accuracy: 0.7955, Precision: 1.0000, Recall: 0.5846, AUC: 0.3287\n"
          ]
        },
        {
          "output_type": "stream",
          "name": "stderr",
          "text": [
            "Epoch 7/50, Train: 100%|██████████| 3/3 [00:00<00:00,  3.59it/s]\n",
            "Epoch 7/50, Validation: 100%|██████████| 1/1 [00:00<00:00,  8.41it/s]\n",
            "Evaluate Train: 100%|██████████| 3/3 [00:00<00:00,  8.30it/s]\n",
            "Evaluate Validation: 100%|██████████| 1/1 [00:00<00:00, 11.13it/s]\n"
          ]
        },
        {
          "output_type": "stream",
          "name": "stdout",
          "text": [
            "Epoch 7/50\n",
            "Train - Loss: 4.4355, Accuracy: 0.8213, Precision: 0.9271, Recall: 0.6899, AUC: 0.6175\n",
            "Val - Loss: 4.6953, Accuracy: 0.8182, Precision: 0.9362, Recall: 0.6769, AUC: 0.6506\n"
          ]
        },
        {
          "output_type": "stream",
          "name": "stderr",
          "text": [
            "Epoch 8/50, Train: 100%|██████████| 3/3 [00:01<00:00,  1.62it/s]\n",
            "Epoch 8/50, Validation: 100%|██████████| 1/1 [00:00<00:00,  8.58it/s]\n",
            "Evaluate Train: 100%|██████████| 3/3 [00:00<00:00,  8.25it/s]\n",
            "Evaluate Validation: 100%|██████████| 1/1 [00:00<00:00, 11.30it/s]\n"
          ]
        },
        {
          "output_type": "stream",
          "name": "stdout",
          "text": [
            "Epoch 8/50\n",
            "Train - Loss: 4.3906, Accuracy: 0.8365, Precision: 0.9019, Recall: 0.7481, AUC: 0.7039\n",
            "Val - Loss: 4.6328, Accuracy: 0.8030, Precision: 0.8545, Recall: 0.7231, AUC: 0.7037\n"
          ]
        },
        {
          "output_type": "stream",
          "name": "stderr",
          "text": [
            "Epoch 9/50, Train: 100%|██████████| 3/3 [00:00<00:00,  3.61it/s]\n",
            "Epoch 9/50, Validation: 100%|██████████| 1/1 [00:00<00:00,  8.51it/s]\n",
            "Evaluate Train: 100%|██████████| 3/3 [00:00<00:00,  8.27it/s]\n",
            "Evaluate Validation: 100%|██████████| 1/1 [00:00<00:00, 11.19it/s]\n"
          ]
        },
        {
          "output_type": "stream",
          "name": "stdout",
          "text": [
            "Epoch 9/50\n",
            "Train - Loss: 4.3027, Accuracy: 0.8479, Precision: 0.9198, Recall: 0.7558, AUC: 0.7078\n",
            "Val - Loss: 4.6211, Accuracy: 0.8333, Precision: 0.9216, Recall: 0.7231, AUC: 0.6970\n"
          ]
        },
        {
          "output_type": "stream",
          "name": "stderr",
          "text": [
            "Epoch 10/50, Train: 100%|██████████| 3/3 [00:01<00:00,  2.32it/s]\n",
            "Epoch 10/50, Validation: 100%|██████████| 1/1 [00:00<00:00,  8.61it/s]\n",
            "Evaluate Train: 100%|██████████| 3/3 [00:00<00:00,  8.30it/s]\n",
            "Evaluate Validation: 100%|██████████| 1/1 [00:00<00:00, 10.76it/s]\n"
          ]
        },
        {
          "output_type": "stream",
          "name": "stdout",
          "text": [
            "Epoch 10/50\n",
            "Train - Loss: 4.2923, Accuracy: 0.8460, Precision: 0.8391, Recall: 0.8488, AUC: 0.8259\n",
            "Val - Loss: 4.6523, Accuracy: 0.7576, Precision: 0.7391, Recall: 0.7846, AUC: 0.8173\n"
          ]
        },
        {
          "output_type": "stream",
          "name": "stderr",
          "text": [
            "Epoch 11/50, Train: 100%|██████████| 3/3 [00:00<00:00,  3.61it/s]\n",
            "Epoch 11/50, Validation: 100%|██████████| 1/1 [00:00<00:00,  8.63it/s]\n",
            "Evaluate Train: 100%|██████████| 3/3 [00:00<00:00,  4.90it/s]\n",
            "Evaluate Validation: 100%|██████████| 1/1 [00:00<00:00, 11.20it/s]\n"
          ]
        },
        {
          "output_type": "stream",
          "name": "stdout",
          "text": [
            "Epoch 11/50\n",
            "Train - Loss: 4.1836, Accuracy: 0.8327, Precision: 0.9830, Recall: 0.6705, AUC: 0.5626\n",
            "Val - Loss: 4.6602, Accuracy: 0.7955, Precision: 1.0000, Recall: 0.5846, AUC: 0.6046\n"
          ]
        },
        {
          "output_type": "stream",
          "name": "stderr",
          "text": [
            "Epoch 12/50, Train: 100%|██████████| 3/3 [00:01<00:00,  2.11it/s]\n",
            "Epoch 12/50, Validation: 100%|██████████| 1/1 [00:00<00:00,  8.75it/s]\n",
            "Evaluate Train: 100%|██████████| 3/3 [00:00<00:00,  8.34it/s]\n",
            "Evaluate Validation: 100%|██████████| 1/1 [00:00<00:00, 10.91it/s]\n"
          ]
        },
        {
          "output_type": "stream",
          "name": "stdout",
          "text": [
            "Epoch 12/50\n",
            "Train - Loss: 4.2057, Accuracy: 0.8745, Precision: 0.8453, Recall: 0.9109, AUC: 0.8628\n",
            "Val - Loss: 4.6641, Accuracy: 0.7576, Precision: 0.7324, Recall: 0.8000, AUC: 0.8333\n"
          ]
        },
        {
          "output_type": "stream",
          "name": "stderr",
          "text": [
            "Epoch 13/50, Train: 100%|██████████| 3/3 [00:01<00:00,  2.13it/s]\n",
            "Epoch 13/50, Validation: 100%|██████████| 1/1 [00:00<00:00,  8.75it/s]\n",
            "Evaluate Train: 100%|██████████| 3/3 [00:00<00:00,  8.24it/s]\n",
            "Evaluate Validation: 100%|██████████| 1/1 [00:00<00:00, 11.15it/s]\n"
          ]
        },
        {
          "output_type": "stream",
          "name": "stdout",
          "text": [
            "Epoch 13/50\n",
            "Train - Loss: 4.2878, Accuracy: 0.9106, Precision: 0.9203, Recall: 0.8953, AUC: 0.8311\n",
            "Val - Loss: 4.6406, Accuracy: 0.7955, Precision: 0.7879, Recall: 0.8000, AUC: 0.8093\n"
          ]
        },
        {
          "output_type": "stream",
          "name": "stderr",
          "text": [
            "Epoch 14/50, Train: 100%|██████████| 3/3 [00:00<00:00,  3.63it/s]\n",
            "Epoch 14/50, Validation: 100%|██████████| 1/1 [00:00<00:00,  1.19it/s]\n",
            "Evaluate Train: 100%|██████████| 3/3 [00:01<00:00,  2.31it/s]\n",
            "Evaluate Validation: 100%|██████████| 1/1 [00:00<00:00, 10.66it/s]\n"
          ]
        },
        {
          "output_type": "stream",
          "name": "stdout",
          "text": [
            "Epoch 14/50\n",
            "Train - Loss: 4.1081, Accuracy: 0.9011, Precision: 0.9858, Recall: 0.8101, AUC: 0.6549\n",
            "Val - Loss: 4.6211, Accuracy: 0.8106, Precision: 0.9348, Recall: 0.6615, AUC: 0.6887\n"
          ]
        },
        {
          "output_type": "stream",
          "name": "stderr",
          "text": [
            "Epoch 15/50, Train: 100%|██████████| 3/3 [00:01<00:00,  2.44it/s]\n",
            "Epoch 15/50, Validation: 100%|██████████| 1/1 [00:00<00:00,  8.47it/s]\n",
            "Evaluate Train: 100%|██████████| 3/3 [00:00<00:00,  3.13it/s]\n",
            "Evaluate Validation: 100%|██████████| 1/1 [00:00<00:00, 11.26it/s]\n"
          ]
        },
        {
          "output_type": "stream",
          "name": "stdout",
          "text": [
            "Epoch 15/50\n",
            "Train - Loss: 4.0742, Accuracy: 0.9183, Precision: 0.9909, Recall: 0.8411, AUC: 0.6599\n",
            "Val - Loss: 4.6406, Accuracy: 0.8106, Precision: 0.9000, Recall: 0.6923, AUC: 0.6768\n"
          ]
        },
        {
          "output_type": "stream",
          "name": "stderr",
          "text": [
            "Epoch 16/50, Train: 100%|██████████| 3/3 [00:00<00:00,  3.62it/s]\n",
            "Epoch 16/50, Validation: 100%|██████████| 1/1 [00:00<00:00,  8.42it/s]\n",
            "Evaluate Train: 100%|██████████| 3/3 [00:00<00:00,  6.73it/s]\n",
            "Evaluate Validation: 100%|██████████| 1/1 [00:00<00:00, 11.09it/s]\n"
          ]
        },
        {
          "output_type": "stream",
          "name": "stdout",
          "text": [
            "Epoch 16/50\n",
            "Train - Loss: 4.1237, Accuracy: 0.8954, Precision: 0.8395, Recall: 0.9729, AUC: 0.9403\n",
            "Val - Loss: 4.7891, Accuracy: 0.7197, Precision: 0.6628, Recall: 0.8769, AUC: 0.8403\n"
          ]
        },
        {
          "output_type": "stream",
          "name": "stderr",
          "text": [
            "Epoch 17/50, Train: 100%|██████████| 3/3 [00:00<00:00,  3.00it/s]\n",
            "Epoch 17/50, Validation: 100%|██████████| 1/1 [00:00<00:00,  8.56it/s]\n",
            "Evaluate Train: 100%|██████████| 3/3 [00:00<00:00,  8.29it/s]\n",
            "Evaluate Validation: 100%|██████████| 1/1 [00:00<00:00, 11.18it/s]\n"
          ]
        },
        {
          "output_type": "stream",
          "name": "stdout",
          "text": [
            "Epoch 17/50\n",
            "Train - Loss: 4.1393, Accuracy: 0.9297, Precision: 0.9955, Recall: 0.8605, AUC: 0.5747\n",
            "Val - Loss: 4.7344, Accuracy: 0.7955, Precision: 0.9318, Recall: 0.6308, AUC: 0.6550\n"
          ]
        },
        {
          "output_type": "stream",
          "name": "stderr",
          "text": [
            "Epoch 18/50, Train: 100%|██████████| 3/3 [00:01<00:00,  2.14it/s]\n",
            "Epoch 18/50, Validation: 100%|██████████| 1/1 [00:00<00:00,  8.53it/s]\n",
            "Evaluate Train: 100%|██████████| 3/3 [00:00<00:00,  8.33it/s]\n",
            "Evaluate Validation: 100%|██████████| 1/1 [00:00<00:00, 11.33it/s]\n"
          ]
        },
        {
          "output_type": "stream",
          "name": "stdout",
          "text": [
            "Epoch 18/50\n",
            "Train - Loss: 4.0625, Accuracy: 0.9715, Precision: 0.9880, Recall: 0.9535, AUC: 0.8816\n",
            "Val - Loss: 4.6445, Accuracy: 0.7879, Precision: 0.7846, Recall: 0.7846, AUC: 0.7788\n"
          ]
        },
        {
          "output_type": "stream",
          "name": "stderr",
          "text": [
            "Epoch 19/50, Train: 100%|██████████| 3/3 [00:01<00:00,  2.12it/s]\n",
            "Epoch 19/50, Validation: 100%|██████████| 1/1 [00:00<00:00,  8.72it/s]\n",
            "Evaluate Train: 100%|██████████| 3/3 [00:00<00:00,  8.12it/s]\n",
            "Evaluate Validation: 100%|██████████| 1/1 [00:00<00:00, 11.31it/s]\n"
          ]
        },
        {
          "output_type": "stream",
          "name": "stdout",
          "text": [
            "Epoch 19/50\n",
            "Train - Loss: 3.9961, Accuracy: 0.9582, Precision: 1.0000, Recall: 0.9147, AUC: 0.6182\n",
            "Val - Loss: 4.6797, Accuracy: 0.8182, Precision: 0.9767, Recall: 0.6462, AUC: 0.6533\n"
          ]
        },
        {
          "output_type": "stream",
          "name": "stderr",
          "text": [
            "Epoch 20/50, Train: 100%|██████████| 3/3 [00:01<00:00,  2.12it/s]\n",
            "Epoch 20/50, Validation: 100%|██████████| 1/1 [00:00<00:00,  8.71it/s]\n",
            "Evaluate Train: 100%|██████████| 3/3 [00:00<00:00,  8.23it/s]\n",
            "Evaluate Validation: 100%|██████████| 1/1 [00:00<00:00, 11.10it/s]\n"
          ]
        },
        {
          "output_type": "stream",
          "name": "stdout",
          "text": [
            "Epoch 20/50\n",
            "Train - Loss: 3.9922, Accuracy: 0.9468, Precision: 0.9049, Recall: 0.9961, AUC: 0.9590\n",
            "Val - Loss: 4.7578, Accuracy: 0.7348, Precision: 0.6875, Recall: 0.8462, AUC: 0.8541\n"
          ]
        },
        {
          "output_type": "stream",
          "name": "stderr",
          "text": [
            "Epoch 21/50, Train: 100%|██████████| 3/3 [00:01<00:00,  2.14it/s]\n",
            "Epoch 21/50, Validation: 100%|██████████| 1/1 [00:00<00:00,  8.70it/s]\n",
            "Evaluate Train: 100%|██████████| 3/3 [00:00<00:00,  8.35it/s]\n",
            "Evaluate Validation: 100%|██████████| 1/1 [00:00<00:00, 10.96it/s]\n"
          ]
        },
        {
          "output_type": "stream",
          "name": "stdout",
          "text": [
            "Epoch 21/50\n",
            "Train - Loss: 4.0169, Accuracy: 0.9753, Precision: 1.0000, Recall: 0.9496, AUC: 0.6663\n",
            "Val - Loss: 4.7500, Accuracy: 0.8258, Precision: 0.9375, Recall: 0.6923, AUC: 0.6587\n"
          ]
        },
        {
          "output_type": "stream",
          "name": "stderr",
          "text": [
            "Epoch 22/50, Train: 100%|██████████| 3/3 [00:01<00:00,  2.12it/s]\n",
            "Epoch 22/50, Validation: 100%|██████████| 1/1 [00:00<00:00,  8.53it/s]\n",
            "Evaluate Train: 100%|██████████| 3/3 [00:00<00:00,  8.37it/s]\n",
            "Evaluate Validation: 100%|██████████| 1/1 [00:00<00:00, 11.29it/s]\n"
          ]
        },
        {
          "output_type": "stream",
          "name": "stdout",
          "text": [
            "Epoch 22/50\n",
            "Train - Loss: 3.9811, Accuracy: 0.9411, Precision: 0.8955, Recall: 0.9961, AUC: 0.9654\n",
            "Val - Loss: 4.8281, Accuracy: 0.7045, Precision: 0.6585, Recall: 0.8308, AUC: 0.8449\n"
          ]
        },
        {
          "output_type": "stream",
          "name": "stderr",
          "text": [
            "Epoch 23/50, Train: 100%|██████████| 3/3 [00:01<00:00,  2.13it/s]\n",
            "Epoch 23/50, Validation: 100%|██████████| 1/1 [00:00<00:00,  8.58it/s]\n",
            "Evaluate Train: 100%|██████████| 3/3 [00:00<00:00,  8.39it/s]\n",
            "Evaluate Validation: 100%|██████████| 1/1 [00:00<00:00, 11.10it/s]\n"
          ]
        },
        {
          "output_type": "stream",
          "name": "stdout",
          "text": [
            "Epoch 23/50\n",
            "Train - Loss: 3.9727, Accuracy: 0.9582, Precision: 1.0000, Recall: 0.9147, AUC: 0.3045\n",
            "Val - Loss: 4.9766, Accuracy: 0.7955, Precision: 0.9750, Recall: 0.6000, AUC: 0.4441\n"
          ]
        },
        {
          "output_type": "stream",
          "name": "stderr",
          "text": [
            "Epoch 24/50, Train: 100%|██████████| 3/3 [00:01<00:00,  2.13it/s]\n",
            "Epoch 24/50, Validation: 100%|██████████| 1/1 [00:00<00:00,  8.63it/s]\n",
            "Evaluate Train: 100%|██████████| 3/3 [00:00<00:00,  8.37it/s]\n",
            "Evaluate Validation: 100%|██████████| 1/1 [00:00<00:00, 11.26it/s]\n"
          ]
        },
        {
          "output_type": "stream",
          "name": "stdout",
          "text": [
            "Epoch 24/50\n",
            "Train - Loss: 3.9798, Accuracy: 1.0000, Precision: 1.0000, Recall: 1.0000, AUC: 0.9182\n",
            "Val - Loss: 4.7578, Accuracy: 0.7727, Precision: 0.7612, Recall: 0.7846, AUC: 0.8226\n"
          ]
        },
        {
          "output_type": "stream",
          "name": "stderr",
          "text": [
            "Epoch 25/50, Train: 100%|██████████| 3/3 [00:01<00:00,  2.12it/s]\n",
            "Epoch 25/50, Validation: 100%|██████████| 1/1 [00:00<00:00,  8.75it/s]\n",
            "Evaluate Train: 100%|██████████| 3/3 [00:00<00:00,  8.39it/s]\n",
            "Evaluate Validation: 100%|██████████| 1/1 [00:00<00:00, 11.33it/s]\n"
          ]
        },
        {
          "output_type": "stream",
          "name": "stdout",
          "text": [
            "Epoch 25/50\n",
            "Train - Loss: 3.9212, Accuracy: 1.0000, Precision: 1.0000, Recall: 1.0000, AUC: 0.9106\n",
            "Val - Loss: 4.8086, Accuracy: 0.7727, Precision: 0.7612, Recall: 0.7846, AUC: 0.8154\n"
          ]
        },
        {
          "output_type": "stream",
          "name": "stderr",
          "text": [
            "Epoch 26/50, Train: 100%|██████████| 3/3 [00:01<00:00,  2.13it/s]\n",
            "Epoch 26/50, Validation: 100%|██████████| 1/1 [00:00<00:00,  8.60it/s]\n",
            "Evaluate Train: 100%|██████████| 3/3 [00:00<00:00,  8.32it/s]\n",
            "Evaluate Validation: 100%|██████████| 1/1 [00:00<00:00, 11.27it/s]\n"
          ]
        },
        {
          "output_type": "stream",
          "name": "stdout",
          "text": [
            "Epoch 26/50\n",
            "Train - Loss: 3.9154, Accuracy: 0.9924, Precision: 1.0000, Recall: 0.9845, AUC: 0.8153\n",
            "Val - Loss: 4.8281, Accuracy: 0.8409, Precision: 0.8793, Recall: 0.7846, AUC: 0.7542\n"
          ]
        },
        {
          "output_type": "stream",
          "name": "stderr",
          "text": [
            "Epoch 27/50, Train: 100%|██████████| 3/3 [00:01<00:00,  2.35it/s]\n",
            "Epoch 27/50, Validation: 100%|██████████| 1/1 [00:00<00:00,  8.71it/s]\n",
            "Evaluate Train: 100%|██████████| 3/3 [00:00<00:00,  8.36it/s]\n",
            "Evaluate Validation: 100%|██████████| 1/1 [00:00<00:00, 11.20it/s]\n"
          ]
        },
        {
          "output_type": "stream",
          "name": "stdout",
          "text": [
            "Epoch 27/50\n",
            "Train - Loss: 3.9046, Accuracy: 1.0000, Precision: 1.0000, Recall: 1.0000, AUC: 0.8460\n",
            "Val - Loss: 4.8438, Accuracy: 0.8333, Precision: 0.8644, Recall: 0.7846, AUC: 0.7715\n"
          ]
        },
        {
          "output_type": "stream",
          "name": "stderr",
          "text": [
            "Epoch 28/50, Train: 100%|██████████| 3/3 [00:01<00:00,  2.28it/s]\n",
            "Epoch 28/50, Validation: 100%|██████████| 1/1 [00:00<00:00,  8.51it/s]\n",
            "Evaluate Train: 100%|██████████| 3/3 [00:00<00:00,  8.17it/s]\n",
            "Evaluate Validation: 100%|██████████| 1/1 [00:00<00:00, 10.95it/s]\n"
          ]
        },
        {
          "output_type": "stream",
          "name": "stdout",
          "text": [
            "Epoch 28/50\n",
            "Train - Loss: 3.9124, Accuracy: 1.0000, Precision: 1.0000, Recall: 1.0000, AUC: 0.8870\n",
            "Val - Loss: 4.8594, Accuracy: 0.8106, Precision: 0.8226, Recall: 0.7846, AUC: 0.7932\n"
          ]
        },
        {
          "output_type": "stream",
          "name": "stderr",
          "text": [
            "Epoch 29/50, Train: 100%|██████████| 3/3 [00:02<00:00,  1.45it/s]\n",
            "Epoch 29/50, Validation: 100%|██████████| 1/1 [00:00<00:00,  8.39it/s]\n",
            "Evaluate Train: 100%|██████████| 3/3 [00:00<00:00,  8.19it/s]\n",
            "Evaluate Validation: 100%|██████████| 1/1 [00:00<00:00, 11.24it/s]\n"
          ]
        },
        {
          "output_type": "stream",
          "name": "stdout",
          "text": [
            "Epoch 29/50\n",
            "Train - Loss: 3.9004, Accuracy: 1.0000, Precision: 1.0000, Recall: 1.0000, AUC: 0.8911\n",
            "Val - Loss: 4.8750, Accuracy: 0.8106, Precision: 0.8226, Recall: 0.7846, AUC: 0.7884\n",
            "Early stopping triggered.\n"
          ]
        },
        {
          "output_type": "stream",
          "name": "stderr",
          "text": [
            "Evaluate Test: 100%|██████████| 1/1 [00:00<00:00,  2.96it/s]\n",
            "WARNING:matplotlib.image:Clipping input data to the valid range for imshow with RGB data ([0..1] for floats or [0..255] for integers).\n",
            "WARNING:matplotlib.image:Clipping input data to the valid range for imshow with RGB data ([0..1] for floats or [0..255] for integers).\n",
            "WARNING:matplotlib.image:Clipping input data to the valid range for imshow with RGB data ([0..1] for floats or [0..255] for integers).\n",
            "WARNING:matplotlib.image:Clipping input data to the valid range for imshow with RGB data ([0..1] for floats or [0..255] for integers).\n",
            "WARNING:matplotlib.image:Clipping input data to the valid range for imshow with RGB data ([0..1] for floats or [0..255] for integers).\n",
            "WARNING:matplotlib.image:Clipping input data to the valid range for imshow with RGB data ([0..1] for floats or [0..255] for integers).\n",
            "WARNING:matplotlib.image:Clipping input data to the valid range for imshow with RGB data ([0..1] for floats or [0..255] for integers).\n",
            "WARNING:matplotlib.image:Clipping input data to the valid range for imshow with RGB data ([0..1] for floats or [0..255] for integers).\n",
            "WARNING:matplotlib.image:Clipping input data to the valid range for imshow with RGB data ([0..1] for floats or [0..255] for integers).\n",
            "WARNING:matplotlib.image:Clipping input data to the valid range for imshow with RGB data ([0..1] for floats or [0..255] for integers).\n",
            "WARNING:matplotlib.image:Clipping input data to the valid range for imshow with RGB data ([0..1] for floats or [0..255] for integers).\n",
            "WARNING:matplotlib.image:Clipping input data to the valid range for imshow with RGB data ([0..1] for floats or [0..255] for integers).\n"
          ]
        },
        {
          "output_type": "stream",
          "name": "stdout",
          "text": [
            "Results saved to results/visualization/t_pretrained/ori/clip/images/prediction_images.pdf\n",
            "\n",
            "Accuracy: 0.7879, Precision: 0.8833, Recall: 0.6543, AUC: 0.6933\n",
            "Results saved to results/t_pretrained/ori/clip/classification_results.txt\n"
          ]
        },
        {
          "output_type": "display_data",
          "data": {
            "text/plain": [
              "<Figure size 640x480 with 0 Axes>"
            ]
          },
          "metadata": {}
        }
      ],
      "source": [
        "%run MedCLIP-pediatric/scripts/t_clip.py"
      ]
    },
    {
      "cell_type": "code",
      "source": [
        "from google.colab import drive\n",
        "drive.mount('/content/drive')"
      ],
      "metadata": {
        "id": "lk3n4t1TFAXh",
        "colab": {
          "base_uri": "https://localhost:8080/"
        },
        "outputId": "67513783-5619-48ec-c41a-b88ee0e68561"
      },
      "execution_count": null,
      "outputs": [
        {
          "output_type": "stream",
          "name": "stdout",
          "text": [
            "Drive already mounted at /content/drive; to attempt to forcibly remount, call drive.mount(\"/content/drive\", force_remount=True).\n"
          ]
        }
      ]
    },
    {
      "cell_type": "code",
      "execution_count": null,
      "metadata": {
        "id": "XL4amIgw6aaP",
        "colab": {
          "base_uri": "https://localhost:8080/",
          "height": 1000
        },
        "outputId": "91849936-e49e-487c-9dc4-4e07c99b93c2"
      },
      "outputs": [
        {
          "output_type": "stream",
          "name": "stdout",
          "text": [
            "Google Drive is already mounted.\n"
          ]
        },
        {
          "output_type": "stream",
          "name": "stderr",
          "text": [
            "/usr/local/lib/python3.10/dist-packages/huggingface_hub/utils/_token.py:88: UserWarning: \n",
            "The secret `HF_TOKEN` does not exist in your Colab secrets.\n",
            "To authenticate with the Hugging Face Hub, create a token in your settings tab (https://huggingface.co/settings/tokens), set it as secret in your Google Colab and restart your session.\n",
            "You will be able to reuse this secret in all of your notebooks.\n",
            "Please note that authentication is recommended but still optional to access public models or datasets.\n",
            "  warnings.warn(\n",
            "/usr/local/lib/python3.10/dist-packages/keras/src/preprocessing/image.py:766: UserWarning: NumpyArrayIterator is set to use the data format convention \"channels_last\" (channels on axis 3), i.e. expected either 1, 3, or 4 channels on axis 3. However, it was passed an array with shape (1967, 1, 224, 224) (224 channels).\n",
            "  warnings.warn(\n",
            "/usr/local/lib/python3.10/dist-packages/keras/src/preprocessing/image.py:766: UserWarning: NumpyArrayIterator is set to use the data format convention \"channels_last\" (channels on axis 3), i.e. expected either 1, 3, or 4 channels on axis 3. However, it was passed an array with shape (493, 1, 224, 224) (224 channels).\n",
            "  warnings.warn(\n",
            "/usr/local/lib/python3.10/dist-packages/keras/src/preprocessing/image.py:766: UserWarning: NumpyArrayIterator is set to use the data format convention \"channels_last\" (channels on axis 3), i.e. expected either 1, 3, or 4 channels on axis 3. However, it was passed an array with shape (616, 1, 224, 224) (224 channels).\n",
            "  warnings.warn(\n"
          ]
        },
        {
          "output_type": "stream",
          "name": "stdout",
          "text": [
            "Results saved to results/visualization/t_pretrained/ucsd/medclip/images/cxr_images.pdf\n",
            "NVIDIA library configured successfully.\n"
          ]
        },
        {
          "output_type": "stream",
          "name": "stderr",
          "text": [
            "/usr/local/lib/python3.10/dist-packages/torch/functional.py:507: UserWarning: torch.meshgrid: in an upcoming release, it will be required to pass the indexing argument. (Triggered internally at ../aten/src/ATen/native/TensorShape.cpp:3549.)\n",
            "  return _VF.meshgrid(tensors, **kwargs)  # type: ignore[attr-defined]\n",
            "Some weights of the model checkpoint at microsoft/swin-tiny-patch4-window7-224 were not used when initializing SwinModel: ['classifier.weight', 'classifier.bias']\n",
            "- This IS expected if you are initializing SwinModel from the checkpoint of a model trained on another task or with another architecture (e.g. initializing a BertForSequenceClassification model from a BertForPreTraining model).\n",
            "- This IS NOT expected if you are initializing SwinModel from the checkpoint of a model that you expect to be exactly identical (initializing a BertForSequenceClassification model from a BertForSequenceClassification model).\n",
            "Some weights of the model checkpoint at emilyalsentzer/Bio_ClinicalBERT were not used when initializing BertModel: ['cls.predictions.decoder.weight', 'cls.predictions.transform.LayerNorm.weight', 'cls.predictions.transform.LayerNorm.bias', 'cls.seq_relationship.weight', 'cls.predictions.transform.dense.bias', 'cls.predictions.transform.dense.weight', 'cls.seq_relationship.bias', 'cls.predictions.bias']\n",
            "- This IS expected if you are initializing BertModel from the checkpoint of a model trained on another task or with another architecture (e.g. initializing a BertForSequenceClassification model from a BertForPreTraining model).\n",
            "- This IS NOT expected if you are initializing BertModel from the checkpoint of a model that you expect to be exactly identical (initializing a BertForSequenceClassification model from a BertForSequenceClassification model).\n"
          ]
        },
        {
          "output_type": "stream",
          "name": "stdout",
          "text": [
            "load model weight from: ./pretrained/medclip-vit\n"
          ]
        },
        {
          "output_type": "stream",
          "name": "stderr",
          "text": [
            "Epoch 1/50, Train: 100%|██████████| 8/8 [00:14<00:00,  1.87s/it]\n",
            "Epoch 1/50, Validation: 100%|██████████| 2/2 [00:02<00:00,  1.49s/it]\n",
            "Evaluate Train: 100%|██████████| 8/8 [00:12<00:00,  1.55s/it]\n",
            "Evaluate Validation: 100%|██████████| 2/2 [00:03<00:00,  1.75s/it]\n"
          ]
        },
        {
          "output_type": "stream",
          "name": "stdout",
          "text": [
            "Epoch 1/50\n",
            "Train - Loss: 5.5040, Accuracy: 0.3137, Precision: 0.2465, Recall: 0.2010, AUC: 0.2925\n",
            "Val - Loss: 5.5082, Accuracy: 0.3387, Precision: 0.2597, Recall: 0.1967, AUC: 0.3050\n"
          ]
        },
        {
          "output_type": "stream",
          "name": "stderr",
          "text": [
            "Epoch 2/50, Train: 100%|██████████| 8/8 [00:14<00:00,  1.87s/it]\n",
            "Epoch 2/50, Validation: 100%|██████████| 2/2 [00:02<00:00,  1.50s/it]\n",
            "Evaluate Train: 100%|██████████| 8/8 [00:12<00:00,  1.51s/it]\n",
            "Evaluate Validation: 100%|██████████| 2/2 [00:02<00:00,  1.33s/it]\n"
          ]
        },
        {
          "output_type": "stream",
          "name": "stdout",
          "text": [
            "Epoch 2/50\n",
            "Train - Loss: 5.4966, Accuracy: 0.3818, Precision: 0.3078, Recall: 0.2188, AUC: 0.3981\n",
            "Val - Loss: 5.5034, Accuracy: 0.4118, Precision: 0.3241, Recall: 0.1967, AUC: 0.4250\n"
          ]
        },
        {
          "output_type": "stream",
          "name": "stderr",
          "text": [
            "Epoch 3/50, Train: 100%|██████████| 8/8 [00:13<00:00,  1.73s/it]\n",
            "Epoch 3/50, Validation: 100%|██████████| 2/2 [00:04<00:00,  2.06s/it]\n",
            "Evaluate Train: 100%|██████████| 8/8 [00:12<00:00,  1.53s/it]\n",
            "Evaluate Validation: 100%|██████████| 2/2 [00:02<00:00,  1.47s/it]\n"
          ]
        },
        {
          "output_type": "stream",
          "name": "stdout",
          "text": [
            "Epoch 3/50\n",
            "Train - Loss: 5.4929, Accuracy: 0.3976, Precision: 0.3380, Recall: 0.2513, AUC: 0.4154\n",
            "Val - Loss: 5.5000, Accuracy: 0.4320, Precision: 0.3677, Recall: 0.2385, AUC: 0.4459\n"
          ]
        },
        {
          "output_type": "stream",
          "name": "stderr",
          "text": [
            "Epoch 4/50, Train: 100%|██████████| 8/8 [00:14<00:00,  1.86s/it]\n",
            "Epoch 4/50, Validation: 100%|██████████| 2/2 [00:04<00:00,  2.01s/it]\n",
            "Evaluate Train: 100%|██████████| 8/8 [00:11<00:00,  1.49s/it]\n",
            "Evaluate Validation: 100%|██████████| 2/2 [00:02<00:00,  1.47s/it]\n"
          ]
        },
        {
          "output_type": "stream",
          "name": "stdout",
          "text": [
            "Epoch 4/50\n",
            "Train - Loss: 5.4899, Accuracy: 0.3828, Precision: 0.3403, Recall: 0.2890, AUC: 0.3772\n",
            "Val - Loss: 5.4955, Accuracy: 0.4097, Precision: 0.3646, Recall: 0.2929, AUC: 0.4061\n"
          ]
        },
        {
          "output_type": "stream",
          "name": "stderr",
          "text": [
            "Epoch 5/50, Train: 100%|██████████| 8/8 [00:13<00:00,  1.65s/it]\n",
            "Epoch 5/50, Validation: 100%|██████████| 2/2 [00:03<00:00,  1.57s/it]\n",
            "Evaluate Train: 100%|██████████| 8/8 [00:12<00:00,  1.51s/it]\n",
            "Evaluate Validation: 100%|██████████| 2/2 [00:03<00:00,  1.61s/it]\n"
          ]
        },
        {
          "output_type": "stream",
          "name": "stdout",
          "text": [
            "Epoch 5/50\n",
            "Train - Loss: 5.4852, Accuracy: 0.3650, Precision: 0.3506, Recall: 0.3613, AUC: 0.3163\n",
            "Val - Loss: 5.4890, Accuracy: 0.3692, Precision: 0.3500, Recall: 0.3515, AUC: 0.3332\n"
          ]
        },
        {
          "output_type": "stream",
          "name": "stderr",
          "text": [
            "Epoch 6/50, Train: 100%|██████████| 8/8 [00:14<00:00,  1.85s/it]\n",
            "Epoch 6/50, Validation: 100%|██████████| 2/2 [00:03<00:00,  1.90s/it]\n",
            "Evaluate Train: 100%|██████████| 8/8 [00:12<00:00,  1.50s/it]\n",
            "Evaluate Validation: 100%|██████████| 2/2 [00:03<00:00,  1.95s/it]\n"
          ]
        },
        {
          "output_type": "stream",
          "name": "stdout",
          "text": [
            "Epoch 6/50\n",
            "Train - Loss: 5.4777, Accuracy: 0.3960, Precision: 0.4089, Recall: 0.5476, AUC: 0.2759\n",
            "Val - Loss: 5.4778, Accuracy: 0.4016, Precision: 0.4136, Recall: 0.5607, AUC: 0.2880\n"
          ]
        },
        {
          "output_type": "stream",
          "name": "stderr",
          "text": [
            "Epoch 7/50, Train: 100%|██████████| 8/8 [00:14<00:00,  1.75s/it]\n",
            "Epoch 7/50, Validation: 100%|██████████| 2/2 [00:03<00:00,  1.70s/it]\n",
            "Evaluate Train: 100%|██████████| 8/8 [00:11<00:00,  1.49s/it]\n",
            "Evaluate Validation: 100%|██████████| 2/2 [00:02<00:00,  1.44s/it]\n"
          ]
        },
        {
          "output_type": "stream",
          "name": "stdout",
          "text": [
            "Epoch 7/50\n",
            "Train - Loss: 5.4643, Accuracy: 0.4606, Precision: 0.4665, Recall: 0.7738, AUC: 0.3198\n",
            "Val - Loss: 5.4573, Accuracy: 0.4645, Precision: 0.4680, Recall: 0.7657, AUC: 0.3313\n"
          ]
        },
        {
          "output_type": "stream",
          "name": "stderr",
          "text": [
            "Epoch 8/50, Train: 100%|██████████| 8/8 [00:12<00:00,  1.57s/it]\n",
            "Epoch 8/50, Validation: 100%|██████████| 2/2 [00:02<00:00,  1.25s/it]\n",
            "Evaluate Train: 100%|██████████| 8/8 [00:11<00:00,  1.46s/it]\n",
            "Evaluate Validation: 100%|██████████| 2/2 [00:02<00:00,  1.36s/it]\n"
          ]
        },
        {
          "output_type": "stream",
          "name": "stdout",
          "text": [
            "Epoch 8/50\n",
            "Train - Loss: 5.4388, Accuracy: 0.5867, Precision: 0.5437, Recall: 0.9257, AUC: 0.7093\n",
            "Val - Loss: 5.4173, Accuracy: 0.5862, Precision: 0.5436, Recall: 0.9121, AUC: 0.7089\n"
          ]
        },
        {
          "output_type": "stream",
          "name": "stderr",
          "text": [
            "Epoch 9/50, Train: 100%|██████████| 8/8 [00:14<00:00,  1.81s/it]\n",
            "Epoch 9/50, Validation: 100%|██████████| 2/2 [00:03<00:00,  1.50s/it]\n",
            "Evaluate Train: 100%|██████████| 8/8 [00:12<00:00,  1.62s/it]\n",
            "Evaluate Validation: 100%|██████████| 2/2 [00:02<00:00,  1.45s/it]\n"
          ]
        },
        {
          "output_type": "stream",
          "name": "stdout",
          "text": [
            "Epoch 9/50\n",
            "Train - Loss: 5.3886, Accuracy: 0.8927, Precision: 0.8727, Recall: 0.9120, AUC: 0.9634\n",
            "Val - Loss: 5.3326, Accuracy: 0.9067, Precision: 0.8845, Recall: 0.9289, AUC: 0.9624\n"
          ]
        },
        {
          "output_type": "stream",
          "name": "stderr",
          "text": [
            "Epoch 10/50, Train: 100%|██████████| 8/8 [00:15<00:00,  1.88s/it]\n",
            "Epoch 10/50, Validation: 100%|██████████| 2/2 [00:02<00:00,  1.26s/it]\n",
            "Evaluate Train: 100%|██████████| 8/8 [00:12<00:00,  1.52s/it]\n",
            "Evaluate Validation: 100%|██████████| 2/2 [00:03<00:00,  1.64s/it]\n"
          ]
        },
        {
          "output_type": "stream",
          "name": "stdout",
          "text": [
            "Epoch 10/50\n",
            "Train - Loss: 5.2915, Accuracy: 0.9375, Precision: 0.9351, Recall: 0.9361, AUC: 0.9784\n",
            "Val - Loss: 5.1977, Accuracy: 0.9391, Precision: 0.9336, Recall: 0.9414, AUC: 0.9775\n"
          ]
        },
        {
          "output_type": "stream",
          "name": "stderr",
          "text": [
            "Epoch 11/50, Train: 100%|██████████| 8/8 [00:13<00:00,  1.68s/it]\n",
            "Epoch 11/50, Validation: 100%|██████████| 2/2 [00:02<00:00,  1.25s/it]\n",
            "Evaluate Train: 100%|██████████| 8/8 [00:11<00:00,  1.43s/it]\n",
            "Evaluate Validation: 100%|██████████| 2/2 [00:02<00:00,  1.47s/it]\n"
          ]
        },
        {
          "output_type": "stream",
          "name": "stdout",
          "text": [
            "Epoch 11/50\n",
            "Train - Loss: 5.1736, Accuracy: 0.9548, Precision: 0.9587, Recall: 0.9476, AUC: 0.9816\n",
            "Val - Loss: 5.0883, Accuracy: 0.9473, Precision: 0.9419, Recall: 0.9498, AUC: 0.9800\n"
          ]
        },
        {
          "output_type": "stream",
          "name": "stderr",
          "text": [
            "Epoch 12/50, Train: 100%|██████████| 8/8 [00:14<00:00,  1.78s/it]\n",
            "Epoch 12/50, Validation: 100%|██████████| 2/2 [00:02<00:00,  1.36s/it]\n",
            "Evaluate Train: 100%|██████████| 8/8 [00:11<00:00,  1.49s/it]\n",
            "Evaluate Validation: 100%|██████████| 2/2 [00:02<00:00,  1.44s/it]\n"
          ]
        },
        {
          "output_type": "stream",
          "name": "stdout",
          "text": [
            "Epoch 12/50\n",
            "Train - Loss: 5.0644, Accuracy: 0.9644, Precision: 0.9723, Recall: 0.9539, AUC: 0.9880\n",
            "Val - Loss: 4.9994, Accuracy: 0.9554, Precision: 0.9617, Recall: 0.9456, AUC: 0.9810\n"
          ]
        },
        {
          "output_type": "stream",
          "name": "stderr",
          "text": [
            "Epoch 13/50, Train: 100%|██████████| 8/8 [00:15<00:00,  1.91s/it]\n",
            "Epoch 13/50, Validation: 100%|██████████| 2/2 [00:02<00:00,  1.37s/it]\n",
            "Evaluate Train: 100%|██████████| 8/8 [00:12<00:00,  1.50s/it]\n",
            "Evaluate Validation: 100%|██████████| 2/2 [00:02<00:00,  1.48s/it]\n"
          ]
        },
        {
          "output_type": "stream",
          "name": "stdout",
          "text": [
            "Epoch 13/50\n",
            "Train - Loss: 4.9793, Accuracy: 0.9670, Precision: 0.9616, Recall: 0.9707, AUC: 0.9904\n",
            "Val - Loss: 4.9605, Accuracy: 0.9675, Precision: 0.9588, Recall: 0.9749, AUC: 0.9843\n"
          ]
        },
        {
          "output_type": "stream",
          "name": "stderr",
          "text": [
            "Epoch 14/50, Train: 100%|██████████| 8/8 [00:14<00:00,  1.76s/it]\n",
            "Epoch 14/50, Validation: 100%|██████████| 2/2 [00:02<00:00,  1.45s/it]\n",
            "Evaluate Train: 100%|██████████| 8/8 [00:12<00:00,  1.59s/it]\n",
            "Evaluate Validation: 100%|██████████| 2/2 [00:03<00:00,  1.61s/it]\n"
          ]
        },
        {
          "output_type": "stream",
          "name": "stdout",
          "text": [
            "Epoch 14/50\n",
            "Train - Loss: 4.9544, Accuracy: 0.9746, Precision: 0.9709, Recall: 0.9770, AUC: 0.9929\n",
            "Val - Loss: 4.9444, Accuracy: 0.9716, Precision: 0.9668, Recall: 0.9749, AUC: 0.9864\n"
          ]
        },
        {
          "output_type": "stream",
          "name": "stderr",
          "text": [
            "Epoch 15/50, Train: 100%|██████████| 8/8 [00:15<00:00,  1.95s/it]\n",
            "Epoch 15/50, Validation: 100%|██████████| 2/2 [00:02<00:00,  1.50s/it]\n",
            "Evaluate Train: 100%|██████████| 8/8 [00:11<00:00,  1.41s/it]\n",
            "Evaluate Validation: 100%|██████████| 2/2 [00:02<00:00,  1.47s/it]\n"
          ]
        },
        {
          "output_type": "stream",
          "name": "stdout",
          "text": [
            "Epoch 15/50\n",
            "Train - Loss: 4.9348, Accuracy: 0.9776, Precision: 0.9770, Recall: 0.9770, AUC: 0.9941\n",
            "Val - Loss: 4.9417, Accuracy: 0.9716, Precision: 0.9668, Recall: 0.9749, AUC: 0.9868\n"
          ]
        },
        {
          "output_type": "stream",
          "name": "stderr",
          "text": [
            "Epoch 16/50, Train: 100%|██████████| 8/8 [00:14<00:00,  1.77s/it]\n",
            "Epoch 16/50, Validation: 100%|██████████| 2/2 [00:02<00:00,  1.45s/it]\n",
            "Evaluate Train: 100%|██████████| 8/8 [00:12<00:00,  1.62s/it]\n",
            "Evaluate Validation: 100%|██████████| 2/2 [00:02<00:00,  1.46s/it]\n"
          ]
        },
        {
          "output_type": "stream",
          "name": "stdout",
          "text": [
            "Epoch 16/50\n",
            "Train - Loss: 4.9211, Accuracy: 0.9781, Precision: 0.9720, Recall: 0.9832, AUC: 0.9946\n",
            "Val - Loss: 4.9312, Accuracy: 0.9736, Precision: 0.9631, Recall: 0.9833, AUC: 0.9864\n"
          ]
        },
        {
          "output_type": "stream",
          "name": "stderr",
          "text": [
            "Epoch 17/50, Train: 100%|██████████| 8/8 [00:13<00:00,  1.67s/it]\n",
            "Epoch 17/50, Validation: 100%|██████████| 2/2 [00:02<00:00,  1.49s/it]\n",
            "Evaluate Train: 100%|██████████| 8/8 [00:12<00:00,  1.50s/it]\n",
            "Evaluate Validation: 100%|██████████| 2/2 [00:04<00:00,  2.01s/it]\n"
          ]
        },
        {
          "output_type": "stream",
          "name": "stdout",
          "text": [
            "Epoch 17/50\n",
            "Train - Loss: 4.9045, Accuracy: 0.9822, Precision: 0.9802, Recall: 0.9832, AUC: 0.9954\n",
            "Val - Loss: 4.9391, Accuracy: 0.9736, Precision: 0.9669, Recall: 0.9791, AUC: 0.9867\n"
          ]
        },
        {
          "output_type": "stream",
          "name": "stderr",
          "text": [
            "Epoch 18/50, Train: 100%|██████████| 8/8 [00:14<00:00,  1.78s/it]\n",
            "Epoch 18/50, Validation: 100%|██████████| 2/2 [00:02<00:00,  1.34s/it]\n",
            "Evaluate Train: 100%|██████████| 8/8 [00:13<00:00,  1.70s/it]\n",
            "Evaluate Validation: 100%|██████████| 2/2 [00:03<00:00,  1.61s/it]\n"
          ]
        },
        {
          "output_type": "stream",
          "name": "stdout",
          "text": [
            "Epoch 18/50\n",
            "Train - Loss: 4.8996, Accuracy: 0.9812, Precision: 0.9713, Recall: 0.9906, AUC: 0.9958\n",
            "Val - Loss: 4.9246, Accuracy: 0.9716, Precision: 0.9592, Recall: 0.9833, AUC: 0.9866\n"
          ]
        },
        {
          "output_type": "stream",
          "name": "stderr",
          "text": [
            "Epoch 19/50, Train: 100%|██████████| 8/8 [00:14<00:00,  1.87s/it]\n",
            "Epoch 19/50, Validation: 100%|██████████| 2/2 [00:03<00:00,  1.97s/it]\n",
            "Evaluate Train: 100%|██████████| 8/8 [00:13<00:00,  1.67s/it]\n",
            "Evaluate Validation: 100%|██████████| 2/2 [00:02<00:00,  1.37s/it]\n"
          ]
        },
        {
          "output_type": "stream",
          "name": "stdout",
          "text": [
            "Epoch 19/50\n",
            "Train - Loss: 4.8955, Accuracy: 0.9858, Precision: 0.9803, Recall: 0.9906, AUC: 0.9962\n",
            "Val - Loss: 4.9302, Accuracy: 0.9696, Precision: 0.9590, Recall: 0.9791, AUC: 0.9871\n"
          ]
        },
        {
          "output_type": "stream",
          "name": "stderr",
          "text": [
            "Epoch 20/50, Train: 100%|██████████| 8/8 [00:12<00:00,  1.60s/it]\n",
            "Epoch 20/50, Validation: 100%|██████████| 2/2 [00:03<00:00,  1.50s/it]\n",
            "Evaluate Train: 100%|██████████| 8/8 [00:11<00:00,  1.44s/it]\n",
            "Evaluate Validation: 100%|██████████| 2/2 [00:03<00:00,  1.52s/it]\n"
          ]
        },
        {
          "output_type": "stream",
          "name": "stdout",
          "text": [
            "Epoch 20/50\n",
            "Train - Loss: 4.8911, Accuracy: 0.9898, Precision: 0.9875, Recall: 0.9916, AUC: 0.9964\n",
            "Val - Loss: 4.9329, Accuracy: 0.9736, Precision: 0.9669, Recall: 0.9791, AUC: 0.9867\n"
          ]
        },
        {
          "output_type": "stream",
          "name": "stderr",
          "text": [
            "Epoch 21/50, Train: 100%|██████████| 8/8 [00:13<00:00,  1.67s/it]\n",
            "Epoch 21/50, Validation: 100%|██████████| 2/2 [00:02<00:00,  1.49s/it]\n",
            "Evaluate Train: 100%|██████████| 8/8 [00:12<00:00,  1.50s/it]\n",
            "Evaluate Validation: 100%|██████████| 2/2 [00:02<00:00,  1.43s/it]\n"
          ]
        },
        {
          "output_type": "stream",
          "name": "stdout",
          "text": [
            "Epoch 21/50\n",
            "Train - Loss: 4.8820, Accuracy: 0.9883, Precision: 0.9834, Recall: 0.9927, AUC: 0.9968\n",
            "Val - Loss: 4.9277, Accuracy: 0.9675, Precision: 0.9551, Recall: 0.9791, AUC: 0.9875\n"
          ]
        },
        {
          "output_type": "stream",
          "name": "stderr",
          "text": [
            "Epoch 22/50, Train: 100%|██████████| 8/8 [00:12<00:00,  1.61s/it]\n",
            "Epoch 22/50, Validation: 100%|██████████| 2/2 [00:04<00:00,  2.07s/it]\n",
            "Evaluate Train: 100%|██████████| 8/8 [00:12<00:00,  1.53s/it]\n",
            "Evaluate Validation: 100%|██████████| 2/2 [00:03<00:00,  1.83s/it]\n"
          ]
        },
        {
          "output_type": "stream",
          "name": "stdout",
          "text": [
            "Epoch 22/50\n",
            "Train - Loss: 4.8722, Accuracy: 0.9893, Precision: 0.9854, Recall: 0.9927, AUC: 0.9973\n",
            "Val - Loss: 4.9276, Accuracy: 0.9675, Precision: 0.9551, Recall: 0.9791, AUC: 0.9893\n"
          ]
        },
        {
          "output_type": "stream",
          "name": "stderr",
          "text": [
            "Epoch 23/50, Train: 100%|██████████| 8/8 [00:14<00:00,  1.75s/it]\n",
            "Epoch 23/50, Validation: 100%|██████████| 2/2 [00:02<00:00,  1.50s/it]\n",
            "Evaluate Train: 100%|██████████| 8/8 [00:11<00:00,  1.45s/it]\n",
            "Evaluate Validation: 100%|██████████| 2/2 [00:02<00:00,  1.34s/it]\n"
          ]
        },
        {
          "output_type": "stream",
          "name": "stdout",
          "text": [
            "Epoch 23/50\n",
            "Train - Loss: 4.8695, Accuracy: 0.9908, Precision: 0.9865, Recall: 0.9948, AUC: 0.9977\n",
            "Val - Loss: 4.9288, Accuracy: 0.9675, Precision: 0.9551, Recall: 0.9791, AUC: 0.9895\n",
            "Early stopping triggered.\n"
          ]
        },
        {
          "output_type": "stream",
          "name": "stderr",
          "text": [
            "Evaluate Test: 100%|██████████| 3/3 [00:04<00:00,  1.48s/it]\n"
          ]
        },
        {
          "output_type": "stream",
          "name": "stdout",
          "text": [
            "Results saved to results/visualization/t_pretrained/ucsd/medclip/images/prediction_images.pdf\n",
            "\n",
            "Accuracy: 0.9594, Precision: 0.9507, Recall: 0.9666, AUC: 0.9900\n",
            "Results saved to results/t_pretrained/ucsd/medclip/classification_results.txt\n"
          ]
        },
        {
          "output_type": "stream",
          "name": "stderr",
          "text": [
            "/usr/local/lib/python3.10/dist-packages/keras/src/preprocessing/image.py:766: UserWarning: NumpyArrayIterator is set to use the data format convention \"channels_last\" (channels on axis 3), i.e. expected either 1, 3, or 4 channels on axis 3. However, it was passed an array with shape (526, 1, 224, 224) (224 channels).\n",
            "  warnings.warn(\n",
            "/usr/local/lib/python3.10/dist-packages/keras/src/preprocessing/image.py:766: UserWarning: NumpyArrayIterator is set to use the data format convention \"channels_last\" (channels on axis 3), i.e. expected either 1, 3, or 4 channels on axis 3. However, it was passed an array with shape (132, 1, 224, 224) (224 channels).\n",
            "  warnings.warn(\n",
            "/usr/local/lib/python3.10/dist-packages/keras/src/preprocessing/image.py:766: UserWarning: NumpyArrayIterator is set to use the data format convention \"channels_last\" (channels on axis 3), i.e. expected either 1, 3, or 4 channels on axis 3. However, it was passed an array with shape (165, 1, 224, 224) (224 channels).\n",
            "  warnings.warn(\n"
          ]
        },
        {
          "output_type": "stream",
          "name": "stdout",
          "text": [
            "Results saved to results/visualization/t_pretrained/ori/medclip/images/cxr_images.pdf\n",
            "NVIDIA library configured successfully.\n"
          ]
        },
        {
          "output_type": "stream",
          "name": "stderr",
          "text": [
            "Some weights of the model checkpoint at microsoft/swin-tiny-patch4-window7-224 were not used when initializing SwinModel: ['classifier.weight', 'classifier.bias']\n",
            "- This IS expected if you are initializing SwinModel from the checkpoint of a model trained on another task or with another architecture (e.g. initializing a BertForSequenceClassification model from a BertForPreTraining model).\n",
            "- This IS NOT expected if you are initializing SwinModel from the checkpoint of a model that you expect to be exactly identical (initializing a BertForSequenceClassification model from a BertForSequenceClassification model).\n",
            "Some weights of the model checkpoint at emilyalsentzer/Bio_ClinicalBERT were not used when initializing BertModel: ['cls.predictions.decoder.weight', 'cls.predictions.transform.LayerNorm.weight', 'cls.predictions.transform.LayerNorm.bias', 'cls.seq_relationship.weight', 'cls.predictions.transform.dense.bias', 'cls.predictions.transform.dense.weight', 'cls.seq_relationship.bias', 'cls.predictions.bias']\n",
            "- This IS expected if you are initializing BertModel from the checkpoint of a model trained on another task or with another architecture (e.g. initializing a BertForSequenceClassification model from a BertForPreTraining model).\n",
            "- This IS NOT expected if you are initializing BertModel from the checkpoint of a model that you expect to be exactly identical (initializing a BertForSequenceClassification model from a BertForSequenceClassification model).\n"
          ]
        },
        {
          "output_type": "stream",
          "name": "stdout",
          "text": [
            "load model weight from: ./pretrained/medclip-vit\n"
          ]
        },
        {
          "output_type": "stream",
          "name": "stderr",
          "text": [
            "Epoch 1/50, Train: 100%|██████████| 3/3 [00:04<00:00,  1.54s/it]\n",
            "Epoch 1/50, Validation: 100%|██████████| 1/1 [00:01<00:00,  1.38s/it]\n",
            "Evaluate Train: 100%|██████████| 3/3 [00:04<00:00,  1.57s/it]\n",
            "Evaluate Validation: 100%|██████████| 1/1 [00:01<00:00,  1.19s/it]\n"
          ]
        },
        {
          "output_type": "stream",
          "name": "stdout",
          "text": [
            "Epoch 1/50\n",
            "Train - Loss: 4.5969, Accuracy: 0.4144, Precision: 0.4144, Recall: 0.4690, AUC: 0.3792\n",
            "Val - Loss: 4.8954, Accuracy: 0.4545, Precision: 0.4478, Recall: 0.4615, AUC: 0.4132\n"
          ]
        },
        {
          "output_type": "stream",
          "name": "stderr",
          "text": [
            "Epoch 2/50, Train: 100%|██████████| 3/3 [00:05<00:00,  1.95s/it]\n",
            "Epoch 2/50, Validation: 100%|██████████| 1/1 [00:01<00:00,  1.95s/it]\n",
            "Evaluate Train: 100%|██████████| 3/3 [00:05<00:00,  1.83s/it]\n",
            "Evaluate Validation: 100%|██████████| 1/1 [00:01<00:00,  1.47s/it]\n"
          ]
        },
        {
          "output_type": "stream",
          "name": "stdout",
          "text": [
            "Epoch 2/50\n",
            "Train - Loss: 4.5845, Accuracy: 0.4297, Precision: 0.4192, Recall: 0.4225, AUC: 0.4006\n",
            "Val - Loss: 4.8862, Accuracy: 0.4470, Precision: 0.4375, Recall: 0.4308, AUC: 0.4333\n"
          ]
        },
        {
          "output_type": "stream",
          "name": "stderr",
          "text": [
            "Epoch 3/50, Train: 100%|██████████| 3/3 [00:04<00:00,  1.66s/it]\n",
            "Epoch 3/50, Validation: 100%|██████████| 1/1 [00:01<00:00,  1.64s/it]\n",
            "Evaluate Train: 100%|██████████| 3/3 [00:04<00:00,  1.46s/it]\n",
            "Evaluate Validation: 100%|██████████| 1/1 [00:01<00:00,  1.62s/it]\n"
          ]
        },
        {
          "output_type": "stream",
          "name": "stdout",
          "text": [
            "Epoch 3/50\n",
            "Train - Loss: 4.5786, Accuracy: 0.4544, Precision: 0.4332, Recall: 0.3643, AUC: 0.4298\n",
            "Val - Loss: 4.8813, Accuracy: 0.4545, Precision: 0.4255, Recall: 0.3077, AUC: 0.4705\n"
          ]
        },
        {
          "output_type": "stream",
          "name": "stderr",
          "text": [
            "Epoch 4/50, Train: 100%|██████████| 3/3 [00:04<00:00,  1.55s/it]\n",
            "Epoch 4/50, Validation: 100%|██████████| 1/1 [00:01<00:00,  1.30s/it]\n",
            "Evaluate Train: 100%|██████████| 3/3 [00:04<00:00,  1.54s/it]\n",
            "Evaluate Validation: 100%|██████████| 1/1 [00:01<00:00,  1.34s/it]\n"
          ]
        },
        {
          "output_type": "stream",
          "name": "stdout",
          "text": [
            "Epoch 4/50\n",
            "Train - Loss: 4.5742, Accuracy: 0.4867, Precision: 0.4630, Recall: 0.2907, AUC: 0.4854\n",
            "Val - Loss: 4.8787, Accuracy: 0.5455, Precision: 0.5581, Recall: 0.3692, AUC: 0.5315\n"
          ]
        },
        {
          "output_type": "stream",
          "name": "stderr",
          "text": [
            "Epoch 5/50, Train: 100%|██████████| 3/3 [00:04<00:00,  1.66s/it]\n",
            "Epoch 5/50, Validation: 100%|██████████| 1/1 [00:01<00:00,  1.64s/it]\n",
            "Evaluate Train: 100%|██████████| 3/3 [00:04<00:00,  1.42s/it]\n",
            "Evaluate Validation: 100%|██████████| 1/1 [00:01<00:00,  1.71s/it]\n"
          ]
        },
        {
          "output_type": "stream",
          "name": "stdout",
          "text": [
            "Epoch 5/50\n",
            "Train - Loss: 4.5712, Accuracy: 0.5342, Precision: 0.5436, Recall: 0.3140, AUC: 0.5492\n",
            "Val - Loss: 4.8764, Accuracy: 0.5833, Precision: 0.6136, Recall: 0.4154, AUC: 0.5798\n"
          ]
        },
        {
          "output_type": "stream",
          "name": "stderr",
          "text": [
            "Epoch 6/50, Train: 100%|██████████| 3/3 [00:04<00:00,  1.57s/it]\n",
            "Epoch 6/50, Validation: 100%|██████████| 1/1 [00:01<00:00,  1.32s/it]\n",
            "Evaluate Train: 100%|██████████| 3/3 [00:04<00:00,  1.34s/it]\n",
            "Evaluate Validation: 100%|██████████| 1/1 [00:01<00:00,  1.20s/it]\n"
          ]
        },
        {
          "output_type": "stream",
          "name": "stdout",
          "text": [
            "Epoch 6/50\n",
            "Train - Loss: 4.5708, Accuracy: 0.5970, Precision: 0.6438, Recall: 0.3992, AUC: 0.6135\n",
            "Val - Loss: 4.8734, Accuracy: 0.5985, Precision: 0.6429, Recall: 0.4154, AUC: 0.6303\n"
          ]
        },
        {
          "output_type": "stream",
          "name": "stderr",
          "text": [
            "Epoch 7/50, Train: 100%|██████████| 3/3 [00:04<00:00,  1.61s/it]\n",
            "Epoch 7/50, Validation: 100%|██████████| 1/1 [00:01<00:00,  1.24s/it]\n",
            "Evaluate Train: 100%|██████████| 3/3 [00:04<00:00,  1.60s/it]\n",
            "Evaluate Validation: 100%|██████████| 1/1 [00:01<00:00,  1.77s/it]\n"
          ]
        },
        {
          "output_type": "stream",
          "name": "stdout",
          "text": [
            "Epoch 7/50\n",
            "Train - Loss: 4.5667, Accuracy: 0.6844, Precision: 0.7614, Recall: 0.5194, AUC: 0.7120\n",
            "Val - Loss: 4.8626, Accuracy: 0.6818, Precision: 0.7674, Recall: 0.5077, AUC: 0.7176\n"
          ]
        },
        {
          "output_type": "stream",
          "name": "stderr",
          "text": [
            "Epoch 8/50, Train: 100%|██████████| 3/3 [00:05<00:00,  1.68s/it]\n",
            "Epoch 8/50, Validation: 100%|██████████| 1/1 [00:01<00:00,  1.28s/it]\n",
            "Evaluate Train: 100%|██████████| 3/3 [00:04<00:00,  1.46s/it]\n",
            "Evaluate Validation: 100%|██████████| 1/1 [00:01<00:00,  1.26s/it]\n"
          ]
        },
        {
          "output_type": "stream",
          "name": "stdout",
          "text": [
            "Epoch 8/50\n",
            "Train - Loss: 4.5586, Accuracy: 0.6844, Precision: 0.6825, Recall: 0.6667, AUC: 0.7526\n",
            "Val - Loss: 4.8423, Accuracy: 0.7121, Precision: 0.7143, Recall: 0.6923, AUC: 0.7542\n"
          ]
        },
        {
          "output_type": "stream",
          "name": "stderr",
          "text": [
            "Epoch 9/50, Train: 100%|██████████| 3/3 [00:04<00:00,  1.44s/it]\n",
            "Epoch 9/50, Validation: 100%|██████████| 1/1 [00:01<00:00,  1.21s/it]\n",
            "Evaluate Train: 100%|██████████| 3/3 [00:03<00:00,  1.28s/it]\n",
            "Evaluate Validation: 100%|██████████| 1/1 [00:01<00:00,  1.34s/it]\n"
          ]
        },
        {
          "output_type": "stream",
          "name": "stdout",
          "text": [
            "Epoch 9/50\n",
            "Train - Loss: 4.5419, Accuracy: 0.6958, Precision: 0.6763, Recall: 0.7287, AUC: 0.7727\n",
            "Val - Loss: 4.8191, Accuracy: 0.6894, Precision: 0.6667, Recall: 0.7385, AUC: 0.7727\n"
          ]
        },
        {
          "output_type": "stream",
          "name": "stderr",
          "text": [
            "Epoch 10/50, Train: 100%|██████████| 3/3 [00:05<00:00,  1.67s/it]\n",
            "Epoch 10/50, Validation: 100%|██████████| 1/1 [00:01<00:00,  1.21s/it]\n",
            "Evaluate Train: 100%|██████████| 3/3 [00:03<00:00,  1.26s/it]\n",
            "Evaluate Validation: 100%|██████████| 1/1 [00:01<00:00,  1.82s/it]\n"
          ]
        },
        {
          "output_type": "stream",
          "name": "stdout",
          "text": [
            "Epoch 10/50\n",
            "Train - Loss: 4.5244, Accuracy: 0.7224, Precision: 0.7154, Recall: 0.7209, AUC: 0.8012\n",
            "Val - Loss: 4.7951, Accuracy: 0.6970, Precision: 0.6866, Recall: 0.7077, AUC: 0.7665\n"
          ]
        },
        {
          "output_type": "stream",
          "name": "stderr",
          "text": [
            "Epoch 11/50, Train: 100%|██████████| 3/3 [00:05<00:00,  1.69s/it]\n",
            "Epoch 11/50, Validation: 100%|██████████| 1/1 [00:01<00:00,  1.63s/it]\n",
            "Evaluate Train: 100%|██████████| 3/3 [00:04<00:00,  1.45s/it]\n",
            "Evaluate Validation: 100%|██████████| 1/1 [00:01<00:00,  1.61s/it]\n"
          ]
        },
        {
          "output_type": "stream",
          "name": "stdout",
          "text": [
            "Epoch 11/50\n",
            "Train - Loss: 4.4882, Accuracy: 0.7471, Precision: 0.7615, Recall: 0.7054, AUC: 0.8244\n",
            "Val - Loss: 4.7739, Accuracy: 0.7273, Precision: 0.7636, Recall: 0.6462, AUC: 0.7881\n"
          ]
        },
        {
          "output_type": "stream",
          "name": "stderr",
          "text": [
            "Epoch 12/50, Train: 100%|██████████| 3/3 [00:04<00:00,  1.63s/it]\n",
            "Epoch 12/50, Validation: 100%|██████████| 1/1 [00:01<00:00,  1.31s/it]\n",
            "Evaluate Train: 100%|██████████| 3/3 [00:04<00:00,  1.33s/it]\n",
            "Evaluate Validation: 100%|██████████| 1/1 [00:01<00:00,  1.59s/it]\n"
          ]
        },
        {
          "output_type": "stream",
          "name": "stdout",
          "text": [
            "Epoch 12/50\n",
            "Train - Loss: 4.4512, Accuracy: 0.7738, Precision: 0.8089, Recall: 0.7054, AUC: 0.8450\n",
            "Val - Loss: 4.7513, Accuracy: 0.7727, Precision: 0.8182, Recall: 0.6923, AUC: 0.8149\n"
          ]
        },
        {
          "output_type": "stream",
          "name": "stderr",
          "text": [
            "Epoch 13/50, Train: 100%|██████████| 3/3 [00:04<00:00,  1.63s/it]\n",
            "Epoch 13/50, Validation: 100%|██████████| 1/1 [00:01<00:00,  1.27s/it]\n",
            "Evaluate Train: 100%|██████████| 3/3 [00:04<00:00,  1.57s/it]\n",
            "Evaluate Validation: 100%|██████████| 1/1 [00:01<00:00,  1.30s/it]\n"
          ]
        },
        {
          "output_type": "stream",
          "name": "stdout",
          "text": [
            "Epoch 13/50\n",
            "Train - Loss: 4.4866, Accuracy: 0.8023, Precision: 0.8156, Recall: 0.7713, AUC: 0.8650\n",
            "Val - Loss: 4.7370, Accuracy: 0.7348, Precision: 0.7344, Recall: 0.7231, AUC: 0.8134\n"
          ]
        },
        {
          "output_type": "stream",
          "name": "stderr",
          "text": [
            "Epoch 14/50, Train: 100%|██████████| 3/3 [00:04<00:00,  1.45s/it]\n",
            "Epoch 14/50, Validation: 100%|██████████| 1/1 [00:01<00:00,  1.21s/it]\n",
            "Evaluate Train: 100%|██████████| 3/3 [00:04<00:00,  1.42s/it]\n",
            "Evaluate Validation: 100%|██████████| 1/1 [00:01<00:00,  1.76s/it]\n"
          ]
        },
        {
          "output_type": "stream",
          "name": "stdout",
          "text": [
            "Epoch 14/50\n",
            "Train - Loss: 4.3772, Accuracy: 0.8251, Precision: 0.8402, Recall: 0.7946, AUC: 0.8799\n",
            "Val - Loss: 4.7215, Accuracy: 0.7500, Precision: 0.7581, Recall: 0.7231, AUC: 0.8183\n"
          ]
        },
        {
          "output_type": "stream",
          "name": "stderr",
          "text": [
            "Epoch 15/50, Train: 100%|██████████| 3/3 [00:05<00:00,  1.70s/it]\n",
            "Epoch 15/50, Validation: 100%|██████████| 1/1 [00:01<00:00,  1.77s/it]\n",
            "Evaluate Train: 100%|██████████| 3/3 [00:04<00:00,  1.37s/it]\n",
            "Evaluate Validation: 100%|██████████| 1/1 [00:01<00:00,  1.21s/it]\n"
          ]
        },
        {
          "output_type": "stream",
          "name": "stdout",
          "text": [
            "Epoch 15/50\n",
            "Train - Loss: 4.3562, Accuracy: 0.8365, Precision: 0.8583, Recall: 0.7984, AUC: 0.8921\n",
            "Val - Loss: 4.7037, Accuracy: 0.7803, Precision: 0.8000, Recall: 0.7385, AUC: 0.8292\n"
          ]
        },
        {
          "output_type": "stream",
          "name": "stderr",
          "text": [
            "Epoch 16/50, Train: 100%|██████████| 3/3 [00:04<00:00,  1.57s/it]\n",
            "Epoch 16/50, Validation: 100%|██████████| 1/1 [00:01<00:00,  1.26s/it]\n",
            "Evaluate Train: 100%|██████████| 3/3 [00:04<00:00,  1.58s/it]\n",
            "Evaluate Validation: 100%|██████████| 1/1 [00:01<00:00,  1.73s/it]\n"
          ]
        },
        {
          "output_type": "stream",
          "name": "stdout",
          "text": [
            "Epoch 16/50\n",
            "Train - Loss: 4.4368, Accuracy: 0.8498, Precision: 0.8978, Recall: 0.7829, AUC: 0.9039\n",
            "Val - Loss: 4.6842, Accuracy: 0.8258, Precision: 0.8889, Recall: 0.7385, AUC: 0.8417\n"
          ]
        },
        {
          "output_type": "stream",
          "name": "stderr",
          "text": [
            "Epoch 17/50, Train: 100%|██████████| 3/3 [00:04<00:00,  1.65s/it]\n",
            "Epoch 17/50, Validation: 100%|██████████| 1/1 [00:01<00:00,  1.73s/it]\n",
            "Evaluate Train: 100%|██████████| 3/3 [00:04<00:00,  1.64s/it]\n",
            "Evaluate Validation: 100%|██████████| 1/1 [00:02<00:00,  2.02s/it]\n"
          ]
        },
        {
          "output_type": "stream",
          "name": "stdout",
          "text": [
            "Epoch 17/50\n",
            "Train - Loss: 4.3855, Accuracy: 0.8593, Precision: 0.9107, Recall: 0.7907, AUC: 0.9148\n",
            "Val - Loss: 4.6638, Accuracy: 0.8258, Precision: 0.8889, Recall: 0.7385, AUC: 0.8506\n"
          ]
        },
        {
          "output_type": "stream",
          "name": "stderr",
          "text": [
            "Epoch 18/50, Train: 100%|██████████| 3/3 [00:05<00:00,  1.73s/it]\n",
            "Epoch 18/50, Validation: 100%|██████████| 1/1 [00:02<00:00,  2.23s/it]\n",
            "Evaluate Train: 100%|██████████| 3/3 [00:05<00:00,  1.90s/it]\n",
            "Evaluate Validation: 100%|██████████| 1/1 [00:02<00:00,  2.02s/it]\n"
          ]
        },
        {
          "output_type": "stream",
          "name": "stdout",
          "text": [
            "Epoch 18/50\n",
            "Train - Loss: 4.2989, Accuracy: 0.8650, Precision: 0.8880, Recall: 0.8295, AUC: 0.9243\n",
            "Val - Loss: 4.6502, Accuracy: 0.8182, Precision: 0.8361, Recall: 0.7846, AUC: 0.8579\n"
          ]
        },
        {
          "output_type": "stream",
          "name": "stderr",
          "text": [
            "Epoch 19/50, Train: 100%|██████████| 3/3 [00:04<00:00,  1.55s/it]\n",
            "Epoch 19/50, Validation: 100%|██████████| 1/1 [00:01<00:00,  1.40s/it]\n",
            "Evaluate Train: 100%|██████████| 3/3 [00:04<00:00,  1.58s/it]\n",
            "Evaluate Validation: 100%|██████████| 1/1 [00:01<00:00,  1.90s/it]\n"
          ]
        },
        {
          "output_type": "stream",
          "name": "stdout",
          "text": [
            "Epoch 19/50\n",
            "Train - Loss: 4.2275, Accuracy: 0.8764, Precision: 0.9038, Recall: 0.8372, AUC: 0.9340\n",
            "Val - Loss: 4.6405, Accuracy: 0.8106, Precision: 0.8125, Recall: 0.8000, AUC: 0.8610\n"
          ]
        },
        {
          "output_type": "stream",
          "name": "stderr",
          "text": [
            "Epoch 20/50, Train: 100%|██████████| 3/3 [00:04<00:00,  1.66s/it]\n",
            "Epoch 20/50, Validation: 100%|██████████| 1/1 [00:01<00:00,  1.60s/it]\n",
            "Evaluate Train: 100%|██████████| 3/3 [00:05<00:00,  1.69s/it]\n",
            "Evaluate Validation: 100%|██████████| 1/1 [00:01<00:00,  1.92s/it]\n"
          ]
        },
        {
          "output_type": "stream",
          "name": "stdout",
          "text": [
            "Epoch 20/50\n",
            "Train - Loss: 4.2007, Accuracy: 0.8935, Precision: 0.9509, Recall: 0.8256, AUC: 0.9430\n",
            "Val - Loss: 4.6327, Accuracy: 0.8182, Precision: 0.8596, Recall: 0.7538, AUC: 0.8641\n"
          ]
        },
        {
          "output_type": "stream",
          "name": "stderr",
          "text": [
            "Epoch 21/50, Train: 100%|██████████| 3/3 [00:05<00:00,  1.69s/it]\n",
            "Epoch 21/50, Validation: 100%|██████████| 1/1 [00:01<00:00,  1.36s/it]\n",
            "Evaluate Train: 100%|██████████| 3/3 [00:04<00:00,  1.54s/it]\n",
            "Evaluate Validation: 100%|██████████| 1/1 [00:01<00:00,  1.35s/it]\n"
          ]
        },
        {
          "output_type": "stream",
          "name": "stdout",
          "text": [
            "Epoch 21/50\n",
            "Train - Loss: 4.3343, Accuracy: 0.9030, Precision: 0.9559, Recall: 0.8411, AUC: 0.9518\n",
            "Val - Loss: 4.6281, Accuracy: 0.8030, Precision: 0.8305, Recall: 0.7538, AUC: 0.8675\n"
          ]
        },
        {
          "output_type": "stream",
          "name": "stderr",
          "text": [
            "Epoch 22/50, Train: 100%|██████████| 3/3 [00:06<00:00,  2.00s/it]\n",
            "Epoch 22/50, Validation: 100%|██████████| 1/1 [00:01<00:00,  1.85s/it]\n",
            "Evaluate Train: 100%|██████████| 3/3 [00:04<00:00,  1.53s/it]\n",
            "Evaluate Validation: 100%|██████████| 1/1 [00:02<00:00,  2.43s/it]\n"
          ]
        },
        {
          "output_type": "stream",
          "name": "stdout",
          "text": [
            "Epoch 22/50\n",
            "Train - Loss: 4.1915, Accuracy: 0.9163, Precision: 0.9421, Recall: 0.8837, AUC: 0.9598\n",
            "Val - Loss: 4.6207, Accuracy: 0.8030, Precision: 0.8000, Recall: 0.8000, AUC: 0.8706\n"
          ]
        },
        {
          "output_type": "stream",
          "name": "stderr",
          "text": [
            "Epoch 23/50, Train: 100%|██████████| 3/3 [00:05<00:00,  1.94s/it]\n",
            "Epoch 23/50, Validation: 100%|██████████| 1/1 [00:01<00:00,  1.36s/it]\n",
            "Evaluate Train: 100%|██████████| 3/3 [00:04<00:00,  1.57s/it]\n",
            "Evaluate Validation: 100%|██████████| 1/1 [00:01<00:00,  1.21s/it]\n"
          ]
        },
        {
          "output_type": "stream",
          "name": "stdout",
          "text": [
            "Epoch 23/50\n",
            "Train - Loss: 4.1457, Accuracy: 0.9163, Precision: 0.9246, Recall: 0.9031, AUC: 0.9674\n",
            "Val - Loss: 4.6176, Accuracy: 0.7879, Precision: 0.7761, Recall: 0.8000, AUC: 0.8726\n"
          ]
        },
        {
          "output_type": "stream",
          "name": "stderr",
          "text": [
            "Epoch 24/50, Train: 100%|██████████| 3/3 [00:04<00:00,  1.55s/it]\n",
            "Epoch 24/50, Validation: 100%|██████████| 1/1 [00:01<00:00,  1.30s/it]\n",
            "Evaluate Train: 100%|██████████| 3/3 [00:04<00:00,  1.56s/it]\n",
            "Evaluate Validation: 100%|██████████| 1/1 [00:01<00:00,  1.22s/it]\n"
          ]
        },
        {
          "output_type": "stream",
          "name": "stdout",
          "text": [
            "Epoch 24/50\n",
            "Train - Loss: 4.1479, Accuracy: 0.9259, Precision: 0.9433, Recall: 0.9031, AUC: 0.9730\n",
            "Val - Loss: 4.6222, Accuracy: 0.8030, Precision: 0.8000, Recall: 0.8000, AUC: 0.8736\n"
          ]
        },
        {
          "output_type": "stream",
          "name": "stderr",
          "text": [
            "Epoch 25/50, Train: 100%|██████████| 3/3 [00:05<00:00,  1.72s/it]\n",
            "Epoch 25/50, Validation: 100%|██████████| 1/1 [00:01<00:00,  1.22s/it]\n",
            "Evaluate Train: 100%|██████████| 3/3 [00:04<00:00,  1.46s/it]\n",
            "Evaluate Validation: 100%|██████████| 1/1 [00:01<00:00,  1.78s/it]\n"
          ]
        },
        {
          "output_type": "stream",
          "name": "stdout",
          "text": [
            "Epoch 25/50\n",
            "Train - Loss: 4.1110, Accuracy: 0.9449, Precision: 0.9712, Recall: 0.9147, AUC: 0.9785\n",
            "Val - Loss: 4.6271, Accuracy: 0.8030, Precision: 0.8000, Recall: 0.8000, AUC: 0.8751\n"
          ]
        },
        {
          "output_type": "stream",
          "name": "stderr",
          "text": [
            "Epoch 26/50, Train: 100%|██████████| 3/3 [00:04<00:00,  1.46s/it]\n",
            "Epoch 26/50, Validation: 100%|██████████| 1/1 [00:01<00:00,  1.63s/it]\n",
            "Evaluate Train: 100%|██████████| 3/3 [00:04<00:00,  1.64s/it]\n",
            "Evaluate Validation: 100%|██████████| 1/1 [00:01<00:00,  1.42s/it]\n"
          ]
        },
        {
          "output_type": "stream",
          "name": "stdout",
          "text": [
            "Epoch 26/50\n",
            "Train - Loss: 4.0931, Accuracy: 0.9506, Precision: 0.9567, Recall: 0.9419, AUC: 0.9825\n",
            "Val - Loss: 4.6444, Accuracy: 0.7879, Precision: 0.7761, Recall: 0.8000, AUC: 0.8738\n"
          ]
        },
        {
          "output_type": "stream",
          "name": "stderr",
          "text": [
            "Epoch 27/50, Train: 100%|██████████| 3/3 [00:05<00:00,  1.88s/it]\n",
            "Epoch 27/50, Validation: 100%|██████████| 1/1 [00:01<00:00,  1.27s/it]\n",
            "Evaluate Train: 100%|██████████| 3/3 [00:04<00:00,  1.55s/it]\n",
            "Evaluate Validation: 100%|██████████| 1/1 [00:01<00:00,  1.26s/it]\n"
          ]
        },
        {
          "output_type": "stream",
          "name": "stdout",
          "text": [
            "Epoch 27/50\n",
            "Train - Loss: 4.0774, Accuracy: 0.9563, Precision: 0.9572, Recall: 0.9535, AUC: 0.9858\n",
            "Val - Loss: 4.6650, Accuracy: 0.7652, Precision: 0.7429, Recall: 0.8000, AUC: 0.8730\n"
          ]
        },
        {
          "output_type": "stream",
          "name": "stderr",
          "text": [
            "Epoch 28/50, Train: 100%|██████████| 3/3 [00:05<00:00,  1.80s/it]\n",
            "Epoch 28/50, Validation: 100%|██████████| 1/1 [00:02<00:00,  2.45s/it]\n",
            "Evaluate Train: 100%|██████████| 3/3 [00:05<00:00,  1.67s/it]\n",
            "Evaluate Validation: 100%|██████████| 1/1 [00:01<00:00,  1.35s/it]\n"
          ]
        },
        {
          "output_type": "stream",
          "name": "stdout",
          "text": [
            "Epoch 28/50\n",
            "Train - Loss: 4.0896, Accuracy: 0.9620, Precision: 0.9612, Recall: 0.9612, AUC: 0.9884\n",
            "Val - Loss: 4.6945, Accuracy: 0.7652, Precision: 0.7429, Recall: 0.8000, AUC: 0.8703\n",
            "Early stopping triggered.\n"
          ]
        },
        {
          "output_type": "stream",
          "name": "stderr",
          "text": [
            "Evaluate Test: 100%|██████████| 1/1 [00:01<00:00,  1.49s/it]\n"
          ]
        },
        {
          "output_type": "stream",
          "name": "stdout",
          "text": [
            "Results saved to results/visualization/t_pretrained/ori/medclip/images/prediction_images.pdf\n",
            "\n",
            "Accuracy: 0.7515, Precision: 0.7500, Recall: 0.7407, AUC: 0.8257\n",
            "Results saved to results/t_pretrained/ori/medclip/classification_results.txt\n"
          ]
        },
        {
          "output_type": "display_data",
          "data": {
            "text/plain": [
              "<Figure size 640x480 with 0 Axes>"
            ]
          },
          "metadata": {}
        }
      ],
      "source": [
        "%run MedCLIP-pediatric/scripts/t_medclip.py"
      ]
    },
    {
      "cell_type": "code",
      "execution_count": null,
      "metadata": {
        "id": "yEJjZBwxabMy",
        "colab": {
          "base_uri": "https://localhost:8080/",
          "height": 1000
        },
        "outputId": "860aa32f-99ff-4918-ca3d-27918e6b9ba7"
      },
      "outputs": [
        {
          "output_type": "stream",
          "name": "stdout",
          "text": [
            "Google Drive is already mounted.\n"
          ]
        },
        {
          "output_type": "stream",
          "name": "stderr",
          "text": [
            "/usr/local/lib/python3.10/dist-packages/keras/src/preprocessing/image.py:766: UserWarning: NumpyArrayIterator is set to use the data format convention \"channels_last\" (channels on axis 3), i.e. expected either 1, 3, or 4 channels on axis 3. However, it was passed an array with shape (1967, 3, 224, 224) (224 channels).\n",
            "  warnings.warn(\n",
            "/usr/local/lib/python3.10/dist-packages/keras/src/preprocessing/image.py:766: UserWarning: NumpyArrayIterator is set to use the data format convention \"channels_last\" (channels on axis 3), i.e. expected either 1, 3, or 4 channels on axis 3. However, it was passed an array with shape (493, 3, 224, 224) (224 channels).\n",
            "  warnings.warn(\n",
            "/usr/local/lib/python3.10/dist-packages/keras/src/preprocessing/image.py:766: UserWarning: NumpyArrayIterator is set to use the data format convention \"channels_last\" (channels on axis 3), i.e. expected either 1, 3, or 4 channels on axis 3. However, it was passed an array with shape (616, 3, 224, 224) (224 channels).\n",
            "  warnings.warn(\n",
            "WARNING:matplotlib.image:Clipping input data to the valid range for imshow with RGB data ([0..1] for floats or [0..255] for integers).\n",
            "WARNING:matplotlib.image:Clipping input data to the valid range for imshow with RGB data ([0..1] for floats or [0..255] for integers).\n",
            "WARNING:matplotlib.image:Clipping input data to the valid range for imshow with RGB data ([0..1] for floats or [0..255] for integers).\n",
            "WARNING:matplotlib.image:Clipping input data to the valid range for imshow with RGB data ([0..1] for floats or [0..255] for integers).\n",
            "WARNING:matplotlib.image:Clipping input data to the valid range for imshow with RGB data ([0..1] for floats or [0..255] for integers).\n",
            "WARNING:matplotlib.image:Clipping input data to the valid range for imshow with RGB data ([0..1] for floats or [0..255] for integers).\n"
          ]
        },
        {
          "output_type": "stream",
          "name": "stdout",
          "text": [
            "Results saved to results/visualization/zero_shot_finetune/ucsd/clip/images/cxr_images.pdf\n",
            "NVIDIA library configured successfully.\n"
          ]
        },
        {
          "output_type": "stream",
          "name": "stderr",
          "text": [
            "Evaluate Train: 100%|██████████| 8/8 [00:02<00:00,  3.75it/s]\n",
            "Evaluate Validation: 100%|██████████| 2/2 [00:00<00:00,  6.05it/s]\n",
            "Evaluate Test: 100%|██████████| 3/3 [00:01<00:00,  2.14it/s]\n",
            "WARNING:matplotlib.image:Clipping input data to the valid range for imshow with RGB data ([0..1] for floats or [0..255] for integers).\n",
            "WARNING:matplotlib.image:Clipping input data to the valid range for imshow with RGB data ([0..1] for floats or [0..255] for integers).\n",
            "WARNING:matplotlib.image:Clipping input data to the valid range for imshow with RGB data ([0..1] for floats or [0..255] for integers).\n",
            "WARNING:matplotlib.image:Clipping input data to the valid range for imshow with RGB data ([0..1] for floats or [0..255] for integers).\n",
            "WARNING:matplotlib.image:Clipping input data to the valid range for imshow with RGB data ([0..1] for floats or [0..255] for integers).\n",
            "WARNING:matplotlib.image:Clipping input data to the valid range for imshow with RGB data ([0..1] for floats or [0..255] for integers).\n",
            "WARNING:matplotlib.image:Clipping input data to the valid range for imshow with RGB data ([0..1] for floats or [0..255] for integers).\n",
            "WARNING:matplotlib.image:Clipping input data to the valid range for imshow with RGB data ([0..1] for floats or [0..255] for integers).\n",
            "WARNING:matplotlib.image:Clipping input data to the valid range for imshow with RGB data ([0..1] for floats or [0..255] for integers).\n",
            "WARNING:matplotlib.image:Clipping input data to the valid range for imshow with RGB data ([0..1] for floats or [0..255] for integers).\n",
            "WARNING:matplotlib.image:Clipping input data to the valid range for imshow with RGB data ([0..1] for floats or [0..255] for integers).\n",
            "WARNING:matplotlib.image:Clipping input data to the valid range for imshow with RGB data ([0..1] for floats or [0..255] for integers).\n"
          ]
        },
        {
          "output_type": "stream",
          "name": "stdout",
          "text": [
            "Results saved to results/visualization/zs_clip_finetune/ucsd/clip/images/prediction_images.pdf\n",
            "\n",
            "Accuracy: 0.5813, Precision: 0.5395, Recall: 0.9370, AUC: 0.7630\n",
            "Results saved to results/zs_clip_finetune/ucsd/clip/classification_results.txt\n"
          ]
        },
        {
          "output_type": "stream",
          "name": "stderr",
          "text": [
            "/usr/local/lib/python3.10/dist-packages/keras/src/preprocessing/image.py:766: UserWarning: NumpyArrayIterator is set to use the data format convention \"channels_last\" (channels on axis 3), i.e. expected either 1, 3, or 4 channels on axis 3. However, it was passed an array with shape (526, 3, 224, 224) (224 channels).\n",
            "  warnings.warn(\n",
            "/usr/local/lib/python3.10/dist-packages/keras/src/preprocessing/image.py:766: UserWarning: NumpyArrayIterator is set to use the data format convention \"channels_last\" (channels on axis 3), i.e. expected either 1, 3, or 4 channels on axis 3. However, it was passed an array with shape (132, 3, 224, 224) (224 channels).\n",
            "  warnings.warn(\n",
            "/usr/local/lib/python3.10/dist-packages/keras/src/preprocessing/image.py:766: UserWarning: NumpyArrayIterator is set to use the data format convention \"channels_last\" (channels on axis 3), i.e. expected either 1, 3, or 4 channels on axis 3. However, it was passed an array with shape (165, 3, 224, 224) (224 channels).\n",
            "  warnings.warn(\n",
            "WARNING:matplotlib.image:Clipping input data to the valid range for imshow with RGB data ([0..1] for floats or [0..255] for integers).\n",
            "WARNING:matplotlib.image:Clipping input data to the valid range for imshow with RGB data ([0..1] for floats or [0..255] for integers).\n",
            "WARNING:matplotlib.image:Clipping input data to the valid range for imshow with RGB data ([0..1] for floats or [0..255] for integers).\n",
            "WARNING:matplotlib.image:Clipping input data to the valid range for imshow with RGB data ([0..1] for floats or [0..255] for integers).\n",
            "WARNING:matplotlib.image:Clipping input data to the valid range for imshow with RGB data ([0..1] for floats or [0..255] for integers).\n",
            "WARNING:matplotlib.image:Clipping input data to the valid range for imshow with RGB data ([0..1] for floats or [0..255] for integers).\n"
          ]
        },
        {
          "output_type": "stream",
          "name": "stdout",
          "text": [
            "Results saved to results/visualization/zero_shot_finetune/ori/clip/images/cxr_images.pdf\n",
            "NVIDIA library configured successfully.\n"
          ]
        },
        {
          "output_type": "stream",
          "name": "stderr",
          "text": [
            "Evaluate Train: 100%|██████████| 3/3 [00:00<00:00,  7.68it/s]\n",
            "Evaluate Validation: 100%|██████████| 1/1 [00:00<00:00, 10.71it/s]\n",
            "Evaluate Test: 100%|██████████| 1/1 [00:00<00:00,  8.58it/s]\n",
            "WARNING:matplotlib.image:Clipping input data to the valid range for imshow with RGB data ([0..1] for floats or [0..255] for integers).\n",
            "WARNING:matplotlib.image:Clipping input data to the valid range for imshow with RGB data ([0..1] for floats or [0..255] for integers).\n",
            "WARNING:matplotlib.image:Clipping input data to the valid range for imshow with RGB data ([0..1] for floats or [0..255] for integers).\n",
            "WARNING:matplotlib.image:Clipping input data to the valid range for imshow with RGB data ([0..1] for floats or [0..255] for integers).\n",
            "WARNING:matplotlib.image:Clipping input data to the valid range for imshow with RGB data ([0..1] for floats or [0..255] for integers).\n",
            "WARNING:matplotlib.image:Clipping input data to the valid range for imshow with RGB data ([0..1] for floats or [0..255] for integers).\n",
            "WARNING:matplotlib.image:Clipping input data to the valid range for imshow with RGB data ([0..1] for floats or [0..255] for integers).\n",
            "WARNING:matplotlib.image:Clipping input data to the valid range for imshow with RGB data ([0..1] for floats or [0..255] for integers).\n",
            "WARNING:matplotlib.image:Clipping input data to the valid range for imshow with RGB data ([0..1] for floats or [0..255] for integers).\n",
            "WARNING:matplotlib.image:Clipping input data to the valid range for imshow with RGB data ([0..1] for floats or [0..255] for integers).\n",
            "WARNING:matplotlib.image:Clipping input data to the valid range for imshow with RGB data ([0..1] for floats or [0..255] for integers).\n",
            "WARNING:matplotlib.image:Clipping input data to the valid range for imshow with RGB data ([0..1] for floats or [0..255] for integers).\n"
          ]
        },
        {
          "output_type": "stream",
          "name": "stdout",
          "text": [
            "Results saved to results/visualization/zs_clip_finetune/ori/clip/images/prediction_images.pdf\n",
            "\n",
            "Accuracy: 0.6501, Precision: 0.6272, Recall: 0.7079, AUC: 0.6515\n",
            "Results saved to results/zs_clip_finetune/ori/clip/classification_results.txt\n"
          ]
        },
        {
          "output_type": "display_data",
          "data": {
            "text/plain": [
              "<Figure size 640x480 with 0 Axes>"
            ]
          },
          "metadata": {}
        }
      ],
      "source": [
        "%run MedCLIP-pediatric/scripts/zs_clip_finetune.py"
      ]
    },
    {
      "cell_type": "code",
      "execution_count": null,
      "metadata": {
        "id": "UQZ80mayaHMz",
        "colab": {
          "base_uri": "https://localhost:8080/",
          "height": 1000
        },
        "outputId": "fdcca248-4588-4c27-a425-b56ad171c300"
      },
      "outputs": [
        {
          "output_type": "stream",
          "name": "stdout",
          "text": [
            "Google Drive is already mounted.\n"
          ]
        },
        {
          "output_type": "stream",
          "name": "stderr",
          "text": [
            "/usr/local/lib/python3.10/dist-packages/keras/src/preprocessing/image.py:766: UserWarning: NumpyArrayIterator is set to use the data format convention \"channels_last\" (channels on axis 3), i.e. expected either 1, 3, or 4 channels on axis 3. However, it was passed an array with shape (1967, 1, 224, 224) (224 channels).\n",
            "  warnings.warn(\n",
            "/usr/local/lib/python3.10/dist-packages/keras/src/preprocessing/image.py:766: UserWarning: NumpyArrayIterator is set to use the data format convention \"channels_last\" (channels on axis 3), i.e. expected either 1, 3, or 4 channels on axis 3. However, it was passed an array with shape (493, 1, 224, 224) (224 channels).\n",
            "  warnings.warn(\n",
            "/usr/local/lib/python3.10/dist-packages/keras/src/preprocessing/image.py:766: UserWarning: NumpyArrayIterator is set to use the data format convention \"channels_last\" (channels on axis 3), i.e. expected either 1, 3, or 4 channels on axis 3. However, it was passed an array with shape (616, 1, 224, 224) (224 channels).\n",
            "  warnings.warn(\n"
          ]
        },
        {
          "output_type": "stream",
          "name": "stdout",
          "text": [
            "Results saved to results/visualization/zero_shot_finetune/ucsd/medclip/images/cxr_images.pdf\n",
            "NVIDIA library configured successfully.\n"
          ]
        },
        {
          "output_type": "stream",
          "name": "stderr",
          "text": [
            "Some weights of the model checkpoint at microsoft/swin-tiny-patch4-window7-224 were not used when initializing SwinModel: ['classifier.weight', 'classifier.bias']\n",
            "- This IS expected if you are initializing SwinModel from the checkpoint of a model trained on another task or with another architecture (e.g. initializing a BertForSequenceClassification model from a BertForPreTraining model).\n",
            "- This IS NOT expected if you are initializing SwinModel from the checkpoint of a model that you expect to be exactly identical (initializing a BertForSequenceClassification model from a BertForSequenceClassification model).\n",
            "Some weights of the model checkpoint at emilyalsentzer/Bio_ClinicalBERT were not used when initializing BertModel: ['cls.predictions.decoder.weight', 'cls.predictions.transform.LayerNorm.weight', 'cls.predictions.transform.LayerNorm.bias', 'cls.seq_relationship.weight', 'cls.predictions.transform.dense.bias', 'cls.predictions.transform.dense.weight', 'cls.seq_relationship.bias', 'cls.predictions.bias']\n",
            "- This IS expected if you are initializing BertModel from the checkpoint of a model trained on another task or with another architecture (e.g. initializing a BertForSequenceClassification model from a BertForPreTraining model).\n",
            "- This IS NOT expected if you are initializing BertModel from the checkpoint of a model that you expect to be exactly identical (initializing a BertForSequenceClassification model from a BertForSequenceClassification model).\n"
          ]
        },
        {
          "output_type": "stream",
          "name": "stdout",
          "text": [
            "load model weight from: ./pretrained/medclip-vit\n"
          ]
        },
        {
          "output_type": "stream",
          "name": "stderr",
          "text": [
            "\rEvaluate Train:   0%|          | 0/8 [00:00<?, ?it/s]"
          ]
        },
        {
          "output_type": "stream",
          "name": "stdout",
          "text": [
            "sample 1 num of prompts for COVID from total 12\n"
          ]
        },
        {
          "output_type": "stream",
          "name": "stderr",
          "text": [
            "\rEvaluate Train:  12%|█▎        | 1/8 [00:01<00:09,  1.41s/it]"
          ]
        },
        {
          "output_type": "stream",
          "name": "stdout",
          "text": [
            "sample 1 num of prompts for COVID from total 12\n"
          ]
        },
        {
          "output_type": "stream",
          "name": "stderr",
          "text": [
            "\rEvaluate Train:  25%|██▌       | 2/8 [00:02<00:08,  1.47s/it]"
          ]
        },
        {
          "output_type": "stream",
          "name": "stdout",
          "text": [
            "sample 1 num of prompts for COVID from total 12\n"
          ]
        },
        {
          "output_type": "stream",
          "name": "stderr",
          "text": [
            "\rEvaluate Train:  38%|███▊      | 3/8 [00:04<00:07,  1.48s/it]"
          ]
        },
        {
          "output_type": "stream",
          "name": "stdout",
          "text": [
            "sample 1 num of prompts for COVID from total 12\n"
          ]
        },
        {
          "output_type": "stream",
          "name": "stderr",
          "text": [
            "\rEvaluate Train:  50%|█████     | 4/8 [00:05<00:06,  1.52s/it]"
          ]
        },
        {
          "output_type": "stream",
          "name": "stdout",
          "text": [
            "sample 1 num of prompts for COVID from total 12\n"
          ]
        },
        {
          "output_type": "stream",
          "name": "stderr",
          "text": [
            "\rEvaluate Train:  62%|██████▎   | 5/8 [00:07<00:04,  1.54s/it]"
          ]
        },
        {
          "output_type": "stream",
          "name": "stdout",
          "text": [
            "sample 1 num of prompts for COVID from total 12\n"
          ]
        },
        {
          "output_type": "stream",
          "name": "stderr",
          "text": [
            "\rEvaluate Train:  75%|███████▌  | 6/8 [00:09<00:03,  1.54s/it]"
          ]
        },
        {
          "output_type": "stream",
          "name": "stdout",
          "text": [
            "sample 1 num of prompts for COVID from total 12\n"
          ]
        },
        {
          "output_type": "stream",
          "name": "stderr",
          "text": [
            "\rEvaluate Train:  88%|████████▊ | 7/8 [00:10<00:01,  1.49s/it]"
          ]
        },
        {
          "output_type": "stream",
          "name": "stdout",
          "text": [
            "sample 1 num of prompts for COVID from total 12\n"
          ]
        },
        {
          "output_type": "stream",
          "name": "stderr",
          "text": [
            "Evaluate Train: 100%|██████████| 8/8 [00:12<00:00,  1.54s/it]\n",
            "Evaluate Validation:   0%|          | 0/2 [00:00<?, ?it/s]"
          ]
        },
        {
          "output_type": "stream",
          "name": "stdout",
          "text": [
            "sample 1 num of prompts for COVID from total 12\n"
          ]
        },
        {
          "output_type": "stream",
          "name": "stderr",
          "text": [
            "\rEvaluate Validation:  50%|█████     | 1/2 [00:01<00:01,  1.38s/it]"
          ]
        },
        {
          "output_type": "stream",
          "name": "stdout",
          "text": [
            "sample 1 num of prompts for COVID from total 12\n"
          ]
        },
        {
          "output_type": "stream",
          "name": "stderr",
          "text": [
            "Evaluate Validation: 100%|██████████| 2/2 [00:02<00:00,  1.37s/it]\n",
            "Evaluate Test:   0%|          | 0/3 [00:00<?, ?it/s]"
          ]
        },
        {
          "output_type": "stream",
          "name": "stdout",
          "text": [
            "sample 1 num of prompts for COVID from total 12\n"
          ]
        },
        {
          "output_type": "stream",
          "name": "stderr",
          "text": [
            "\rEvaluate Test:  33%|███▎      | 1/3 [00:01<00:02,  1.49s/it]"
          ]
        },
        {
          "output_type": "stream",
          "name": "stdout",
          "text": [
            "sample 1 num of prompts for COVID from total 12\n"
          ]
        },
        {
          "output_type": "stream",
          "name": "stderr",
          "text": [
            "\rEvaluate Test:  67%|██████▋   | 2/3 [00:03<00:01,  1.59s/it]"
          ]
        },
        {
          "output_type": "stream",
          "name": "stdout",
          "text": [
            "sample 1 num of prompts for COVID from total 12\n"
          ]
        },
        {
          "output_type": "stream",
          "name": "stderr",
          "text": [
            "Evaluate Test: 100%|██████████| 3/3 [00:04<00:00,  1.56s/it]\n"
          ]
        },
        {
          "output_type": "stream",
          "name": "stdout",
          "text": [
            "\n",
            "Accuracy: 0.9714, Precision: 0.9535, Recall: 0.9893, AUC: 0.9865\n"
          ]
        },
        {
          "output_type": "stream",
          "name": "stderr",
          "text": [
            "\rEvaluate Train:   0%|          | 0/8 [00:00<?, ?it/s]"
          ]
        },
        {
          "output_type": "stream",
          "name": "stdout",
          "text": [
            "sample 2 num of prompts for COVID from total 12\n"
          ]
        },
        {
          "output_type": "stream",
          "name": "stderr",
          "text": [
            "\rEvaluate Train:  12%|█▎        | 1/8 [00:01<00:09,  1.41s/it]"
          ]
        },
        {
          "output_type": "stream",
          "name": "stdout",
          "text": [
            "sample 2 num of prompts for COVID from total 12\n"
          ]
        },
        {
          "output_type": "stream",
          "name": "stderr",
          "text": [
            "\rEvaluate Train:  25%|██▌       | 2/8 [00:03<00:12,  2.00s/it]"
          ]
        },
        {
          "output_type": "stream",
          "name": "stdout",
          "text": [
            "sample 2 num of prompts for COVID from total 12\n"
          ]
        },
        {
          "output_type": "stream",
          "name": "stderr",
          "text": [
            "\rEvaluate Train:  38%|███▊      | 3/8 [00:05<00:08,  1.72s/it]"
          ]
        },
        {
          "output_type": "stream",
          "name": "stdout",
          "text": [
            "sample 2 num of prompts for COVID from total 12\n"
          ]
        },
        {
          "output_type": "stream",
          "name": "stderr",
          "text": [
            "\rEvaluate Train:  50%|█████     | 4/8 [00:06<00:06,  1.58s/it]"
          ]
        },
        {
          "output_type": "stream",
          "name": "stdout",
          "text": [
            "sample 2 num of prompts for COVID from total 12\n"
          ]
        },
        {
          "output_type": "stream",
          "name": "stderr",
          "text": [
            "\rEvaluate Train:  62%|██████▎   | 5/8 [00:07<00:04,  1.51s/it]"
          ]
        },
        {
          "output_type": "stream",
          "name": "stdout",
          "text": [
            "sample 2 num of prompts for COVID from total 12\n"
          ]
        },
        {
          "output_type": "stream",
          "name": "stderr",
          "text": [
            "\rEvaluate Train:  75%|███████▌  | 6/8 [00:10<00:03,  1.74s/it]"
          ]
        },
        {
          "output_type": "stream",
          "name": "stdout",
          "text": [
            "sample 2 num of prompts for COVID from total 12\n"
          ]
        },
        {
          "output_type": "stream",
          "name": "stderr",
          "text": [
            "\rEvaluate Train:  88%|████████▊ | 7/8 [00:12<00:01,  1.80s/it]"
          ]
        },
        {
          "output_type": "stream",
          "name": "stdout",
          "text": [
            "sample 2 num of prompts for COVID from total 12\n"
          ]
        },
        {
          "output_type": "stream",
          "name": "stderr",
          "text": [
            "Evaluate Train: 100%|██████████| 8/8 [00:13<00:00,  1.72s/it]\n",
            "Evaluate Validation:   0%|          | 0/2 [00:00<?, ?it/s]"
          ]
        },
        {
          "output_type": "stream",
          "name": "stdout",
          "text": [
            "sample 2 num of prompts for COVID from total 12\n"
          ]
        },
        {
          "output_type": "stream",
          "name": "stderr",
          "text": [
            "\rEvaluate Validation:  50%|█████     | 1/2 [00:01<00:01,  1.92s/it]"
          ]
        },
        {
          "output_type": "stream",
          "name": "stdout",
          "text": [
            "sample 2 num of prompts for COVID from total 12\n"
          ]
        },
        {
          "output_type": "stream",
          "name": "stderr",
          "text": [
            "Evaluate Validation: 100%|██████████| 2/2 [00:03<00:00,  1.69s/it]\n",
            "Evaluate Test:   0%|          | 0/3 [00:00<?, ?it/s]"
          ]
        },
        {
          "output_type": "stream",
          "name": "stdout",
          "text": [
            "sample 2 num of prompts for COVID from total 12\n"
          ]
        },
        {
          "output_type": "stream",
          "name": "stderr",
          "text": [
            "\rEvaluate Test:  33%|███▎      | 1/3 [00:01<00:02,  1.48s/it]"
          ]
        },
        {
          "output_type": "stream",
          "name": "stdout",
          "text": [
            "sample 2 num of prompts for COVID from total 12\n"
          ]
        },
        {
          "output_type": "stream",
          "name": "stderr",
          "text": [
            "\rEvaluate Test:  67%|██████▋   | 2/3 [00:03<00:01,  1.57s/it]"
          ]
        },
        {
          "output_type": "stream",
          "name": "stdout",
          "text": [
            "sample 2 num of prompts for COVID from total 12\n"
          ]
        },
        {
          "output_type": "stream",
          "name": "stderr",
          "text": [
            "Evaluate Test: 100%|██████████| 3/3 [00:05<00:00,  1.85s/it]\n"
          ]
        },
        {
          "output_type": "stream",
          "name": "stdout",
          "text": [
            "\n",
            "Accuracy: 0.9672, Precision: 0.9456, Recall: 0.9893, AUC: 0.9875\n"
          ]
        },
        {
          "output_type": "stream",
          "name": "stderr",
          "text": [
            "\rEvaluate Train:   0%|          | 0/8 [00:00<?, ?it/s]"
          ]
        },
        {
          "output_type": "stream",
          "name": "stdout",
          "text": [
            "sample 3 num of prompts for COVID from total 12\n"
          ]
        },
        {
          "output_type": "stream",
          "name": "stderr",
          "text": [
            "\rEvaluate Train:  12%|█▎        | 1/8 [00:01<00:10,  1.43s/it]"
          ]
        },
        {
          "output_type": "stream",
          "name": "stdout",
          "text": [
            "sample 3 num of prompts for COVID from total 12\n"
          ]
        },
        {
          "output_type": "stream",
          "name": "stderr",
          "text": [
            "\rEvaluate Train:  25%|██▌       | 2/8 [00:02<00:08,  1.47s/it]"
          ]
        },
        {
          "output_type": "stream",
          "name": "stdout",
          "text": [
            "sample 3 num of prompts for COVID from total 12\n"
          ]
        },
        {
          "output_type": "stream",
          "name": "stderr",
          "text": [
            "\rEvaluate Train:  38%|███▊      | 3/8 [00:04<00:07,  1.44s/it]"
          ]
        },
        {
          "output_type": "stream",
          "name": "stdout",
          "text": [
            "sample 3 num of prompts for COVID from total 12\n"
          ]
        },
        {
          "output_type": "stream",
          "name": "stderr",
          "text": [
            "\rEvaluate Train:  50%|█████     | 4/8 [00:06<00:06,  1.55s/it]"
          ]
        },
        {
          "output_type": "stream",
          "name": "stdout",
          "text": [
            "sample 3 num of prompts for COVID from total 12\n"
          ]
        },
        {
          "output_type": "stream",
          "name": "stderr",
          "text": [
            "\rEvaluate Train:  62%|██████▎   | 5/8 [00:07<00:04,  1.49s/it]"
          ]
        },
        {
          "output_type": "stream",
          "name": "stdout",
          "text": [
            "sample 3 num of prompts for COVID from total 12\n"
          ]
        },
        {
          "output_type": "stream",
          "name": "stderr",
          "text": [
            "\rEvaluate Train:  75%|███████▌  | 6/8 [00:08<00:02,  1.46s/it]"
          ]
        },
        {
          "output_type": "stream",
          "name": "stdout",
          "text": [
            "sample 3 num of prompts for COVID from total 12\n"
          ]
        },
        {
          "output_type": "stream",
          "name": "stderr",
          "text": [
            "\rEvaluate Train:  88%|████████▊ | 7/8 [00:10<00:01,  1.48s/it]"
          ]
        },
        {
          "output_type": "stream",
          "name": "stdout",
          "text": [
            "sample 3 num of prompts for COVID from total 12\n"
          ]
        },
        {
          "output_type": "stream",
          "name": "stderr",
          "text": [
            "Evaluate Train: 100%|██████████| 8/8 [00:11<00:00,  1.49s/it]\n",
            "Evaluate Validation:   0%|          | 0/2 [00:00<?, ?it/s]"
          ]
        },
        {
          "output_type": "stream",
          "name": "stdout",
          "text": [
            "sample 3 num of prompts for COVID from total 12\n"
          ]
        },
        {
          "output_type": "stream",
          "name": "stderr",
          "text": [
            "\rEvaluate Validation:  50%|█████     | 1/2 [00:01<00:01,  1.38s/it]"
          ]
        },
        {
          "output_type": "stream",
          "name": "stdout",
          "text": [
            "sample 3 num of prompts for COVID from total 12\n"
          ]
        },
        {
          "output_type": "stream",
          "name": "stderr",
          "text": [
            "Evaluate Validation: 100%|██████████| 2/2 [00:02<00:00,  1.37s/it]\n",
            "Evaluate Test:   0%|          | 0/3 [00:00<?, ?it/s]"
          ]
        },
        {
          "output_type": "stream",
          "name": "stdout",
          "text": [
            "sample 3 num of prompts for COVID from total 12\n"
          ]
        },
        {
          "output_type": "stream",
          "name": "stderr",
          "text": [
            "\rEvaluate Test:  33%|███▎      | 1/3 [00:01<00:03,  1.60s/it]"
          ]
        },
        {
          "output_type": "stream",
          "name": "stdout",
          "text": [
            "sample 3 num of prompts for COVID from total 12\n"
          ]
        },
        {
          "output_type": "stream",
          "name": "stderr",
          "text": [
            "\rEvaluate Test:  67%|██████▋   | 2/3 [00:03<00:01,  1.62s/it]"
          ]
        },
        {
          "output_type": "stream",
          "name": "stdout",
          "text": [
            "sample 3 num of prompts for COVID from total 12\n"
          ]
        },
        {
          "output_type": "stream",
          "name": "stderr",
          "text": [
            "Evaluate Test: 100%|██████████| 3/3 [00:04<00:00,  1.52s/it]\n"
          ]
        },
        {
          "output_type": "stream",
          "name": "stdout",
          "text": [
            "\n",
            "Accuracy: 0.9672, Precision: 0.9450, Recall: 0.9900, AUC: 0.9886\n"
          ]
        },
        {
          "output_type": "stream",
          "name": "stderr",
          "text": [
            "\rEvaluate Train:   0%|          | 0/8 [00:00<?, ?it/s]"
          ]
        },
        {
          "output_type": "stream",
          "name": "stdout",
          "text": [
            "sample 4 num of prompts for COVID from total 12\n"
          ]
        },
        {
          "output_type": "stream",
          "name": "stderr",
          "text": [
            "\rEvaluate Train:  12%|█▎        | 1/8 [00:02<00:14,  2.03s/it]"
          ]
        },
        {
          "output_type": "stream",
          "name": "stdout",
          "text": [
            "sample 4 num of prompts for COVID from total 12\n"
          ]
        },
        {
          "output_type": "stream",
          "name": "stderr",
          "text": [
            "\rEvaluate Train:  25%|██▌       | 2/8 [00:03<00:10,  1.70s/it]"
          ]
        },
        {
          "output_type": "stream",
          "name": "stdout",
          "text": [
            "sample 4 num of prompts for COVID from total 12\n"
          ]
        },
        {
          "output_type": "stream",
          "name": "stderr",
          "text": [
            "\rEvaluate Train:  38%|███▊      | 3/8 [00:05<00:08,  1.67s/it]"
          ]
        },
        {
          "output_type": "stream",
          "name": "stdout",
          "text": [
            "sample 4 num of prompts for COVID from total 12\n"
          ]
        },
        {
          "output_type": "stream",
          "name": "stderr",
          "text": [
            "\rEvaluate Train:  50%|█████     | 4/8 [00:07<00:07,  1.83s/it]"
          ]
        },
        {
          "output_type": "stream",
          "name": "stdout",
          "text": [
            "sample 4 num of prompts for COVID from total 12\n"
          ]
        },
        {
          "output_type": "stream",
          "name": "stderr",
          "text": [
            "\rEvaluate Train:  62%|██████▎   | 5/8 [00:08<00:05,  1.67s/it]"
          ]
        },
        {
          "output_type": "stream",
          "name": "stdout",
          "text": [
            "sample 4 num of prompts for COVID from total 12\n"
          ]
        },
        {
          "output_type": "stream",
          "name": "stderr",
          "text": [
            "\rEvaluate Train:  75%|███████▌  | 6/8 [00:10<00:03,  1.60s/it]"
          ]
        },
        {
          "output_type": "stream",
          "name": "stdout",
          "text": [
            "sample 4 num of prompts for COVID from total 12\n"
          ]
        },
        {
          "output_type": "stream",
          "name": "stderr",
          "text": [
            "\rEvaluate Train:  88%|████████▊ | 7/8 [00:12<00:01,  1.76s/it]"
          ]
        },
        {
          "output_type": "stream",
          "name": "stdout",
          "text": [
            "sample 4 num of prompts for COVID from total 12\n"
          ]
        },
        {
          "output_type": "stream",
          "name": "stderr",
          "text": [
            "Evaluate Train: 100%|██████████| 8/8 [00:13<00:00,  1.71s/it]\n",
            "Evaluate Validation:   0%|          | 0/2 [00:00<?, ?it/s]"
          ]
        },
        {
          "output_type": "stream",
          "name": "stdout",
          "text": [
            "sample 4 num of prompts for COVID from total 12\n"
          ]
        },
        {
          "output_type": "stream",
          "name": "stderr",
          "text": [
            "\rEvaluate Validation:  50%|█████     | 1/2 [00:01<00:01,  1.38s/it]"
          ]
        },
        {
          "output_type": "stream",
          "name": "stdout",
          "text": [
            "sample 4 num of prompts for COVID from total 12\n"
          ]
        },
        {
          "output_type": "stream",
          "name": "stderr",
          "text": [
            "Evaluate Validation: 100%|██████████| 2/2 [00:04<00:00,  2.01s/it]\n",
            "Evaluate Test:   0%|          | 0/3 [00:00<?, ?it/s]"
          ]
        },
        {
          "output_type": "stream",
          "name": "stdout",
          "text": [
            "sample 4 num of prompts for COVID from total 12\n"
          ]
        },
        {
          "output_type": "stream",
          "name": "stderr",
          "text": [
            "\rEvaluate Test:  33%|███▎      | 1/3 [00:01<00:02,  1.46s/it]"
          ]
        },
        {
          "output_type": "stream",
          "name": "stdout",
          "text": [
            "sample 4 num of prompts for COVID from total 12\n"
          ]
        },
        {
          "output_type": "stream",
          "name": "stderr",
          "text": [
            "\rEvaluate Test:  67%|██████▋   | 2/3 [00:02<00:01,  1.46s/it]"
          ]
        },
        {
          "output_type": "stream",
          "name": "stdout",
          "text": [
            "sample 4 num of prompts for COVID from total 12\n"
          ]
        },
        {
          "output_type": "stream",
          "name": "stderr",
          "text": [
            "Evaluate Test: 100%|██████████| 3/3 [00:04<00:00,  1.38s/it]\n"
          ]
        },
        {
          "output_type": "stream",
          "name": "stdout",
          "text": [
            "\n",
            "Accuracy: 0.9639, Precision: 0.9390, Recall: 0.9900, AUC: 0.9895\n"
          ]
        },
        {
          "output_type": "stream",
          "name": "stderr",
          "text": [
            "\rEvaluate Train:   0%|          | 0/8 [00:00<?, ?it/s]"
          ]
        },
        {
          "output_type": "stream",
          "name": "stdout",
          "text": [
            "sample 5 num of prompts for COVID from total 12\n"
          ]
        },
        {
          "output_type": "stream",
          "name": "stderr",
          "text": [
            "\rEvaluate Train:  12%|█▎        | 1/8 [00:01<00:10,  1.44s/it]"
          ]
        },
        {
          "output_type": "stream",
          "name": "stdout",
          "text": [
            "sample 5 num of prompts for COVID from total 12\n"
          ]
        },
        {
          "output_type": "stream",
          "name": "stderr",
          "text": [
            "\rEvaluate Train:  25%|██▌       | 2/8 [00:03<00:09,  1.60s/it]"
          ]
        },
        {
          "output_type": "stream",
          "name": "stdout",
          "text": [
            "sample 5 num of prompts for COVID from total 12\n"
          ]
        },
        {
          "output_type": "stream",
          "name": "stderr",
          "text": [
            "\rEvaluate Train:  38%|███▊      | 3/8 [00:05<00:08,  1.73s/it]"
          ]
        },
        {
          "output_type": "stream",
          "name": "stdout",
          "text": [
            "sample 5 num of prompts for COVID from total 12\n"
          ]
        },
        {
          "output_type": "stream",
          "name": "stderr",
          "text": [
            "\rEvaluate Train:  50%|█████     | 4/8 [00:07<00:07,  1.90s/it]"
          ]
        },
        {
          "output_type": "stream",
          "name": "stdout",
          "text": [
            "sample 5 num of prompts for COVID from total 12\n"
          ]
        },
        {
          "output_type": "stream",
          "name": "stderr",
          "text": [
            "\rEvaluate Train:  62%|██████▎   | 5/8 [00:09<00:05,  1.99s/it]"
          ]
        },
        {
          "output_type": "stream",
          "name": "stdout",
          "text": [
            "sample 5 num of prompts for COVID from total 12\n"
          ]
        },
        {
          "output_type": "stream",
          "name": "stderr",
          "text": [
            "\rEvaluate Train:  75%|███████▌  | 6/8 [00:10<00:03,  1.79s/it]"
          ]
        },
        {
          "output_type": "stream",
          "name": "stdout",
          "text": [
            "sample 5 num of prompts for COVID from total 12\n"
          ]
        },
        {
          "output_type": "stream",
          "name": "stderr",
          "text": [
            "\rEvaluate Train:  88%|████████▊ | 7/8 [00:12<00:01,  1.85s/it]"
          ]
        },
        {
          "output_type": "stream",
          "name": "stdout",
          "text": [
            "sample 5 num of prompts for COVID from total 12\n"
          ]
        },
        {
          "output_type": "stream",
          "name": "stderr",
          "text": [
            "Evaluate Train: 100%|██████████| 8/8 [00:14<00:00,  1.76s/it]\n",
            "Evaluate Validation:   0%|          | 0/2 [00:00<?, ?it/s]"
          ]
        },
        {
          "output_type": "stream",
          "name": "stdout",
          "text": [
            "sample 5 num of prompts for COVID from total 12\n"
          ]
        },
        {
          "output_type": "stream",
          "name": "stderr",
          "text": [
            "\rEvaluate Validation:  50%|█████     | 1/2 [00:01<00:01,  1.39s/it]"
          ]
        },
        {
          "output_type": "stream",
          "name": "stdout",
          "text": [
            "sample 5 num of prompts for COVID from total 12\n"
          ]
        },
        {
          "output_type": "stream",
          "name": "stderr",
          "text": [
            "Evaluate Validation: 100%|██████████| 2/2 [00:02<00:00,  1.41s/it]\n",
            "Evaluate Test:   0%|          | 0/3 [00:00<?, ?it/s]"
          ]
        },
        {
          "output_type": "stream",
          "name": "stdout",
          "text": [
            "sample 5 num of prompts for COVID from total 12\n"
          ]
        },
        {
          "output_type": "stream",
          "name": "stderr",
          "text": [
            "\rEvaluate Test:  33%|███▎      | 1/3 [00:01<00:03,  1.64s/it]"
          ]
        },
        {
          "output_type": "stream",
          "name": "stdout",
          "text": [
            "sample 5 num of prompts for COVID from total 12\n"
          ]
        },
        {
          "output_type": "stream",
          "name": "stderr",
          "text": [
            "\rEvaluate Test:  67%|██████▋   | 2/3 [00:03<00:01,  1.52s/it]"
          ]
        },
        {
          "output_type": "stream",
          "name": "stdout",
          "text": [
            "sample 5 num of prompts for COVID from total 12\n"
          ]
        },
        {
          "output_type": "stream",
          "name": "stderr",
          "text": [
            "Evaluate Test: 100%|██████████| 3/3 [00:05<00:00,  1.69s/it]\n"
          ]
        },
        {
          "output_type": "stream",
          "name": "stdout",
          "text": [
            "\n",
            "Accuracy: 0.9636, Precision: 0.9384, Recall: 0.9900, AUC: 0.9890\n"
          ]
        },
        {
          "output_type": "stream",
          "name": "stderr",
          "text": [
            "\rEvaluate Train:   0%|          | 0/8 [00:00<?, ?it/s]"
          ]
        },
        {
          "output_type": "stream",
          "name": "stdout",
          "text": [
            "sample 6 num of prompts for COVID from total 12\n"
          ]
        },
        {
          "output_type": "stream",
          "name": "stderr",
          "text": [
            "\rEvaluate Train:  12%|█▎        | 1/8 [00:01<00:10,  1.44s/it]"
          ]
        },
        {
          "output_type": "stream",
          "name": "stdout",
          "text": [
            "sample 6 num of prompts for COVID from total 12\n"
          ]
        },
        {
          "output_type": "stream",
          "name": "stderr",
          "text": [
            "\rEvaluate Train:  25%|██▌       | 2/8 [00:02<00:08,  1.41s/it]"
          ]
        },
        {
          "output_type": "stream",
          "name": "stdout",
          "text": [
            "sample 6 num of prompts for COVID from total 12\n"
          ]
        },
        {
          "output_type": "stream",
          "name": "stderr",
          "text": [
            "\rEvaluate Train:  38%|███▊      | 3/8 [00:04<00:07,  1.54s/it]"
          ]
        },
        {
          "output_type": "stream",
          "name": "stdout",
          "text": [
            "sample 6 num of prompts for COVID from total 12\n"
          ]
        },
        {
          "output_type": "stream",
          "name": "stderr",
          "text": [
            "\rEvaluate Train:  50%|█████     | 4/8 [00:05<00:05,  1.49s/it]"
          ]
        },
        {
          "output_type": "stream",
          "name": "stdout",
          "text": [
            "sample 6 num of prompts for COVID from total 12\n"
          ]
        },
        {
          "output_type": "stream",
          "name": "stderr",
          "text": [
            "\rEvaluate Train:  62%|██████▎   | 5/8 [00:07<00:04,  1.47s/it]"
          ]
        },
        {
          "output_type": "stream",
          "name": "stdout",
          "text": [
            "sample 6 num of prompts for COVID from total 12\n"
          ]
        },
        {
          "output_type": "stream",
          "name": "stderr",
          "text": [
            "\rEvaluate Train:  75%|███████▌  | 6/8 [00:08<00:02,  1.45s/it]"
          ]
        },
        {
          "output_type": "stream",
          "name": "stdout",
          "text": [
            "sample 6 num of prompts for COVID from total 12\n"
          ]
        },
        {
          "output_type": "stream",
          "name": "stderr",
          "text": [
            "\rEvaluate Train:  88%|████████▊ | 7/8 [00:10<00:01,  1.50s/it]"
          ]
        },
        {
          "output_type": "stream",
          "name": "stdout",
          "text": [
            "sample 6 num of prompts for COVID from total 12\n"
          ]
        },
        {
          "output_type": "stream",
          "name": "stderr",
          "text": [
            "Evaluate Train: 100%|██████████| 8/8 [00:12<00:00,  1.50s/it]\n",
            "Evaluate Validation:   0%|          | 0/2 [00:00<?, ?it/s]"
          ]
        },
        {
          "output_type": "stream",
          "name": "stdout",
          "text": [
            "sample 6 num of prompts for COVID from total 12\n"
          ]
        },
        {
          "output_type": "stream",
          "name": "stderr",
          "text": [
            "\rEvaluate Validation:  50%|█████     | 1/2 [00:01<00:01,  1.40s/it]"
          ]
        },
        {
          "output_type": "stream",
          "name": "stdout",
          "text": [
            "sample 6 num of prompts for COVID from total 12\n"
          ]
        },
        {
          "output_type": "stream",
          "name": "stderr",
          "text": [
            "Evaluate Validation: 100%|██████████| 2/2 [00:02<00:00,  1.38s/it]\n",
            "Evaluate Test:   0%|          | 0/3 [00:00<?, ?it/s]"
          ]
        },
        {
          "output_type": "stream",
          "name": "stdout",
          "text": [
            "sample 6 num of prompts for COVID from total 12\n"
          ]
        },
        {
          "output_type": "stream",
          "name": "stderr",
          "text": [
            "\rEvaluate Test:  33%|███▎      | 1/3 [00:01<00:03,  1.66s/it]"
          ]
        },
        {
          "output_type": "stream",
          "name": "stdout",
          "text": [
            "sample 6 num of prompts for COVID from total 12\n"
          ]
        },
        {
          "output_type": "stream",
          "name": "stderr",
          "text": [
            "\rEvaluate Test:  67%|██████▋   | 2/3 [00:03<00:01,  1.53s/it]"
          ]
        },
        {
          "output_type": "stream",
          "name": "stdout",
          "text": [
            "sample 6 num of prompts for COVID from total 12\n"
          ]
        },
        {
          "output_type": "stream",
          "name": "stderr",
          "text": [
            "Evaluate Test: 100%|██████████| 3/3 [00:04<00:00,  1.52s/it]\n"
          ]
        },
        {
          "output_type": "stream",
          "name": "stdout",
          "text": [
            "\n",
            "Accuracy: 0.9623, Precision: 0.9360, Recall: 0.9900, AUC: 0.9901\n"
          ]
        },
        {
          "output_type": "stream",
          "name": "stderr",
          "text": [
            "\rEvaluate Train:   0%|          | 0/8 [00:00<?, ?it/s]"
          ]
        },
        {
          "output_type": "stream",
          "name": "stdout",
          "text": [
            "sample 7 num of prompts for COVID from total 12\n"
          ]
        },
        {
          "output_type": "stream",
          "name": "stderr",
          "text": [
            "\rEvaluate Train:  12%|█▎        | 1/8 [00:01<00:09,  1.39s/it]"
          ]
        },
        {
          "output_type": "stream",
          "name": "stdout",
          "text": [
            "sample 7 num of prompts for COVID from total 12\n"
          ]
        },
        {
          "output_type": "stream",
          "name": "stderr",
          "text": [
            "\rEvaluate Train:  25%|██▌       | 2/8 [00:02<00:08,  1.43s/it]"
          ]
        },
        {
          "output_type": "stream",
          "name": "stdout",
          "text": [
            "sample 7 num of prompts for COVID from total 12\n"
          ]
        },
        {
          "output_type": "stream",
          "name": "stderr",
          "text": [
            "\rEvaluate Train:  38%|███▊      | 3/8 [00:04<00:07,  1.49s/it]"
          ]
        },
        {
          "output_type": "stream",
          "name": "stdout",
          "text": [
            "sample 7 num of prompts for COVID from total 12\n"
          ]
        },
        {
          "output_type": "stream",
          "name": "stderr",
          "text": [
            "\rEvaluate Train:  50%|█████     | 4/8 [00:05<00:05,  1.45s/it]"
          ]
        },
        {
          "output_type": "stream",
          "name": "stdout",
          "text": [
            "sample 7 num of prompts for COVID from total 12\n"
          ]
        },
        {
          "output_type": "stream",
          "name": "stderr",
          "text": [
            "\rEvaluate Train:  62%|██████▎   | 5/8 [00:07<00:04,  1.49s/it]"
          ]
        },
        {
          "output_type": "stream",
          "name": "stdout",
          "text": [
            "sample 7 num of prompts for COVID from total 12\n"
          ]
        },
        {
          "output_type": "stream",
          "name": "stderr",
          "text": [
            "\rEvaluate Train:  75%|███████▌  | 6/8 [00:08<00:03,  1.50s/it]"
          ]
        },
        {
          "output_type": "stream",
          "name": "stdout",
          "text": [
            "sample 7 num of prompts for COVID from total 12\n"
          ]
        },
        {
          "output_type": "stream",
          "name": "stderr",
          "text": [
            "\rEvaluate Train:  88%|████████▊ | 7/8 [00:10<00:01,  1.63s/it]"
          ]
        },
        {
          "output_type": "stream",
          "name": "stdout",
          "text": [
            "sample 7 num of prompts for COVID from total 12\n"
          ]
        },
        {
          "output_type": "stream",
          "name": "stderr",
          "text": [
            "Evaluate Train: 100%|██████████| 8/8 [00:12<00:00,  1.51s/it]\n",
            "Evaluate Validation:   0%|          | 0/2 [00:00<?, ?it/s]"
          ]
        },
        {
          "output_type": "stream",
          "name": "stdout",
          "text": [
            "sample 7 num of prompts for COVID from total 12\n"
          ]
        },
        {
          "output_type": "stream",
          "name": "stderr",
          "text": [
            "\rEvaluate Validation:  50%|█████     | 1/2 [00:01<00:01,  1.38s/it]"
          ]
        },
        {
          "output_type": "stream",
          "name": "stdout",
          "text": [
            "sample 7 num of prompts for COVID from total 12\n"
          ]
        },
        {
          "output_type": "stream",
          "name": "stderr",
          "text": [
            "Evaluate Validation: 100%|██████████| 2/2 [00:02<00:00,  1.43s/it]\n",
            "Evaluate Test:   0%|          | 0/3 [00:00<?, ?it/s]"
          ]
        },
        {
          "output_type": "stream",
          "name": "stdout",
          "text": [
            "sample 7 num of prompts for COVID from total 12\n"
          ]
        },
        {
          "output_type": "stream",
          "name": "stderr",
          "text": [
            "\rEvaluate Test:  33%|███▎      | 1/3 [00:01<00:02,  1.46s/it]"
          ]
        },
        {
          "output_type": "stream",
          "name": "stdout",
          "text": [
            "sample 7 num of prompts for COVID from total 12\n"
          ]
        },
        {
          "output_type": "stream",
          "name": "stderr",
          "text": [
            "\rEvaluate Test:  67%|██████▋   | 2/3 [00:02<00:01,  1.46s/it]"
          ]
        },
        {
          "output_type": "stream",
          "name": "stdout",
          "text": [
            "sample 7 num of prompts for COVID from total 12\n"
          ]
        },
        {
          "output_type": "stream",
          "name": "stderr",
          "text": [
            "Evaluate Test: 100%|██████████| 3/3 [00:04<00:00,  1.40s/it]\n"
          ]
        },
        {
          "output_type": "stream",
          "name": "stdout",
          "text": [
            "\n",
            "Accuracy: 0.9626, Precision: 0.9366, Recall: 0.9900, AUC: 0.9892\n"
          ]
        },
        {
          "output_type": "stream",
          "name": "stderr",
          "text": [
            "\rEvaluate Train:   0%|          | 0/8 [00:00<?, ?it/s]"
          ]
        },
        {
          "output_type": "stream",
          "name": "stdout",
          "text": [
            "sample 8 num of prompts for COVID from total 12\n"
          ]
        },
        {
          "output_type": "stream",
          "name": "stderr",
          "text": [
            "\rEvaluate Train:  12%|█▎        | 1/8 [00:01<00:09,  1.41s/it]"
          ]
        },
        {
          "output_type": "stream",
          "name": "stdout",
          "text": [
            "sample 8 num of prompts for COVID from total 12\n"
          ]
        },
        {
          "output_type": "stream",
          "name": "stderr",
          "text": [
            "\rEvaluate Train:  25%|██▌       | 2/8 [00:03<00:09,  1.53s/it]"
          ]
        },
        {
          "output_type": "stream",
          "name": "stdout",
          "text": [
            "sample 8 num of prompts for COVID from total 12\n"
          ]
        },
        {
          "output_type": "stream",
          "name": "stderr",
          "text": [
            "\rEvaluate Train:  38%|███▊      | 3/8 [00:04<00:07,  1.46s/it]"
          ]
        },
        {
          "output_type": "stream",
          "name": "stdout",
          "text": [
            "sample 8 num of prompts for COVID from total 12\n"
          ]
        },
        {
          "output_type": "stream",
          "name": "stderr",
          "text": [
            "\rEvaluate Train:  50%|█████     | 4/8 [00:05<00:05,  1.44s/it]"
          ]
        },
        {
          "output_type": "stream",
          "name": "stdout",
          "text": [
            "sample 8 num of prompts for COVID from total 12\n"
          ]
        },
        {
          "output_type": "stream",
          "name": "stderr",
          "text": [
            "\rEvaluate Train:  62%|██████▎   | 5/8 [00:07<00:04,  1.52s/it]"
          ]
        },
        {
          "output_type": "stream",
          "name": "stdout",
          "text": [
            "sample 8 num of prompts for COVID from total 12\n"
          ]
        },
        {
          "output_type": "stream",
          "name": "stderr",
          "text": [
            "\rEvaluate Train:  75%|███████▌  | 6/8 [00:08<00:02,  1.48s/it]"
          ]
        },
        {
          "output_type": "stream",
          "name": "stdout",
          "text": [
            "sample 8 num of prompts for COVID from total 12\n"
          ]
        },
        {
          "output_type": "stream",
          "name": "stderr",
          "text": [
            "\rEvaluate Train:  88%|████████▊ | 7/8 [00:10<00:01,  1.58s/it]"
          ]
        },
        {
          "output_type": "stream",
          "name": "stdout",
          "text": [
            "sample 8 num of prompts for COVID from total 12\n"
          ]
        },
        {
          "output_type": "stream",
          "name": "stderr",
          "text": [
            "Evaluate Train: 100%|██████████| 8/8 [00:13<00:00,  1.67s/it]\n",
            "Evaluate Validation:   0%|          | 0/2 [00:00<?, ?it/s]"
          ]
        },
        {
          "output_type": "stream",
          "name": "stdout",
          "text": [
            "sample 8 num of prompts for COVID from total 12\n"
          ]
        },
        {
          "output_type": "stream",
          "name": "stderr",
          "text": [
            "\rEvaluate Validation:  50%|█████     | 1/2 [00:01<00:01,  1.40s/it]"
          ]
        },
        {
          "output_type": "stream",
          "name": "stdout",
          "text": [
            "sample 8 num of prompts for COVID from total 12\n"
          ]
        },
        {
          "output_type": "stream",
          "name": "stderr",
          "text": [
            "Evaluate Validation: 100%|██████████| 2/2 [00:02<00:00,  1.39s/it]\n",
            "Evaluate Test:   0%|          | 0/3 [00:00<?, ?it/s]"
          ]
        },
        {
          "output_type": "stream",
          "name": "stdout",
          "text": [
            "sample 8 num of prompts for COVID from total 12\n"
          ]
        },
        {
          "output_type": "stream",
          "name": "stderr",
          "text": [
            "\rEvaluate Test:  33%|███▎      | 1/3 [00:01<00:02,  1.45s/it]"
          ]
        },
        {
          "output_type": "stream",
          "name": "stdout",
          "text": [
            "sample 8 num of prompts for COVID from total 12\n"
          ]
        },
        {
          "output_type": "stream",
          "name": "stderr",
          "text": [
            "\rEvaluate Test:  67%|██████▋   | 2/3 [00:03<00:01,  1.51s/it]"
          ]
        },
        {
          "output_type": "stream",
          "name": "stdout",
          "text": [
            "sample 8 num of prompts for COVID from total 12\n"
          ]
        },
        {
          "output_type": "stream",
          "name": "stderr",
          "text": [
            "Evaluate Test: 100%|██████████| 3/3 [00:04<00:00,  1.51s/it]\n"
          ]
        },
        {
          "output_type": "stream",
          "name": "stdout",
          "text": [
            "\n",
            "Accuracy: 0.9636, Precision: 0.9384, Recall: 0.9900, AUC: 0.9899\n"
          ]
        },
        {
          "output_type": "stream",
          "name": "stderr",
          "text": [
            "\rEvaluate Train:   0%|          | 0/8 [00:00<?, ?it/s]"
          ]
        },
        {
          "output_type": "stream",
          "name": "stdout",
          "text": [
            "sample 9 num of prompts for COVID from total 12\n"
          ]
        },
        {
          "output_type": "stream",
          "name": "stderr",
          "text": [
            "\rEvaluate Train:  12%|█▎        | 1/8 [00:01<00:09,  1.41s/it]"
          ]
        },
        {
          "output_type": "stream",
          "name": "stdout",
          "text": [
            "sample 9 num of prompts for COVID from total 12\n"
          ]
        },
        {
          "output_type": "stream",
          "name": "stderr",
          "text": [
            "\rEvaluate Train:  25%|██▌       | 2/8 [00:02<00:08,  1.40s/it]"
          ]
        },
        {
          "output_type": "stream",
          "name": "stdout",
          "text": [
            "sample 9 num of prompts for COVID from total 12\n"
          ]
        },
        {
          "output_type": "stream",
          "name": "stderr",
          "text": [
            "\rEvaluate Train:  38%|███▊      | 3/8 [00:05<00:10,  2.02s/it]"
          ]
        },
        {
          "output_type": "stream",
          "name": "stdout",
          "text": [
            "sample 9 num of prompts for COVID from total 12\n"
          ]
        },
        {
          "output_type": "stream",
          "name": "stderr",
          "text": [
            "\rEvaluate Train:  50%|█████     | 4/8 [00:06<00:07,  1.77s/it]"
          ]
        },
        {
          "output_type": "stream",
          "name": "stdout",
          "text": [
            "sample 9 num of prompts for COVID from total 12\n"
          ]
        },
        {
          "output_type": "stream",
          "name": "stderr",
          "text": [
            "\rEvaluate Train:  62%|██████▎   | 5/8 [00:08<00:05,  1.69s/it]"
          ]
        },
        {
          "output_type": "stream",
          "name": "stdout",
          "text": [
            "sample 9 num of prompts for COVID from total 12\n"
          ]
        },
        {
          "output_type": "stream",
          "name": "stderr",
          "text": [
            "\rEvaluate Train:  75%|███████▌  | 6/8 [00:10<00:03,  1.63s/it]"
          ]
        },
        {
          "output_type": "stream",
          "name": "stdout",
          "text": [
            "sample 9 num of prompts for COVID from total 12\n"
          ]
        },
        {
          "output_type": "stream",
          "name": "stderr",
          "text": [
            "\rEvaluate Train:  88%|████████▊ | 7/8 [00:11<00:01,  1.57s/it]"
          ]
        },
        {
          "output_type": "stream",
          "name": "stdout",
          "text": [
            "sample 9 num of prompts for COVID from total 12\n"
          ]
        },
        {
          "output_type": "stream",
          "name": "stderr",
          "text": [
            "Evaluate Train: 100%|██████████| 8/8 [00:12<00:00,  1.62s/it]\n",
            "Evaluate Validation:   0%|          | 0/2 [00:00<?, ?it/s]"
          ]
        },
        {
          "output_type": "stream",
          "name": "stdout",
          "text": [
            "sample 9 num of prompts for COVID from total 12\n"
          ]
        },
        {
          "output_type": "stream",
          "name": "stderr",
          "text": [
            "\rEvaluate Validation:  50%|█████     | 1/2 [00:01<00:01,  1.40s/it]"
          ]
        },
        {
          "output_type": "stream",
          "name": "stdout",
          "text": [
            "sample 9 num of prompts for COVID from total 12\n"
          ]
        },
        {
          "output_type": "stream",
          "name": "stderr",
          "text": [
            "Evaluate Validation: 100%|██████████| 2/2 [00:02<00:00,  1.50s/it]\n",
            "Evaluate Test:   0%|          | 0/3 [00:00<?, ?it/s]"
          ]
        },
        {
          "output_type": "stream",
          "name": "stdout",
          "text": [
            "sample 9 num of prompts for COVID from total 12\n"
          ]
        },
        {
          "output_type": "stream",
          "name": "stderr",
          "text": [
            "\rEvaluate Test:  33%|███▎      | 1/3 [00:01<00:02,  1.45s/it]"
          ]
        },
        {
          "output_type": "stream",
          "name": "stdout",
          "text": [
            "sample 9 num of prompts for COVID from total 12\n"
          ]
        },
        {
          "output_type": "stream",
          "name": "stderr",
          "text": [
            "\rEvaluate Test:  67%|██████▋   | 2/3 [00:03<00:01,  1.54s/it]"
          ]
        },
        {
          "output_type": "stream",
          "name": "stdout",
          "text": [
            "sample 9 num of prompts for COVID from total 12\n"
          ]
        },
        {
          "output_type": "stream",
          "name": "stderr",
          "text": [
            "Evaluate Test: 100%|██████████| 3/3 [00:04<00:00,  1.54s/it]\n"
          ]
        },
        {
          "output_type": "stream",
          "name": "stdout",
          "text": [
            "\n",
            "Accuracy: 0.9623, Precision: 0.9360, Recall: 0.9900, AUC: 0.9901\n"
          ]
        },
        {
          "output_type": "stream",
          "name": "stderr",
          "text": [
            "\rEvaluate Train:   0%|          | 0/8 [00:00<?, ?it/s]"
          ]
        },
        {
          "output_type": "stream",
          "name": "stdout",
          "text": [
            "sample 10 num of prompts for COVID from total 12\n"
          ]
        },
        {
          "output_type": "stream",
          "name": "stderr",
          "text": [
            "\rEvaluate Train:  12%|█▎        | 1/8 [00:01<00:11,  1.68s/it]"
          ]
        },
        {
          "output_type": "stream",
          "name": "stdout",
          "text": [
            "sample 10 num of prompts for COVID from total 12\n"
          ]
        },
        {
          "output_type": "stream",
          "name": "stderr",
          "text": [
            "\rEvaluate Train:  25%|██▌       | 2/8 [00:03<00:10,  1.70s/it]"
          ]
        },
        {
          "output_type": "stream",
          "name": "stdout",
          "text": [
            "sample 10 num of prompts for COVID from total 12\n"
          ]
        },
        {
          "output_type": "stream",
          "name": "stderr",
          "text": [
            "\rEvaluate Train:  38%|███▊      | 3/8 [00:04<00:07,  1.56s/it]"
          ]
        },
        {
          "output_type": "stream",
          "name": "stdout",
          "text": [
            "sample 10 num of prompts for COVID from total 12\n"
          ]
        },
        {
          "output_type": "stream",
          "name": "stderr",
          "text": [
            "\rEvaluate Train:  50%|█████     | 4/8 [00:06<00:06,  1.50s/it]"
          ]
        },
        {
          "output_type": "stream",
          "name": "stdout",
          "text": [
            "sample 10 num of prompts for COVID from total 12\n"
          ]
        },
        {
          "output_type": "stream",
          "name": "stderr",
          "text": [
            "\rEvaluate Train:  62%|██████▎   | 5/8 [00:07<00:04,  1.52s/it]"
          ]
        },
        {
          "output_type": "stream",
          "name": "stdout",
          "text": [
            "sample 10 num of prompts for COVID from total 12\n"
          ]
        },
        {
          "output_type": "stream",
          "name": "stderr",
          "text": [
            "\rEvaluate Train:  75%|███████▌  | 6/8 [00:09<00:02,  1.48s/it]"
          ]
        },
        {
          "output_type": "stream",
          "name": "stdout",
          "text": [
            "sample 10 num of prompts for COVID from total 12\n"
          ]
        },
        {
          "output_type": "stream",
          "name": "stderr",
          "text": [
            "\rEvaluate Train:  88%|████████▊ | 7/8 [00:11<00:01,  1.71s/it]"
          ]
        },
        {
          "output_type": "stream",
          "name": "stdout",
          "text": [
            "sample 10 num of prompts for COVID from total 12\n"
          ]
        },
        {
          "output_type": "stream",
          "name": "stderr",
          "text": [
            "Evaluate Train: 100%|██████████| 8/8 [00:13<00:00,  1.68s/it]\n",
            "Evaluate Validation:   0%|          | 0/2 [00:00<?, ?it/s]"
          ]
        },
        {
          "output_type": "stream",
          "name": "stdout",
          "text": [
            "sample 10 num of prompts for COVID from total 12\n"
          ]
        },
        {
          "output_type": "stream",
          "name": "stderr",
          "text": [
            "\rEvaluate Validation:  50%|█████     | 1/2 [00:01<00:01,  1.40s/it]"
          ]
        },
        {
          "output_type": "stream",
          "name": "stdout",
          "text": [
            "sample 10 num of prompts for COVID from total 12\n"
          ]
        },
        {
          "output_type": "stream",
          "name": "stderr",
          "text": [
            "Evaluate Validation: 100%|██████████| 2/2 [00:02<00:00,  1.45s/it]\n",
            "Evaluate Test:   0%|          | 0/3 [00:00<?, ?it/s]"
          ]
        },
        {
          "output_type": "stream",
          "name": "stdout",
          "text": [
            "sample 10 num of prompts for COVID from total 12\n"
          ]
        },
        {
          "output_type": "stream",
          "name": "stderr",
          "text": [
            "\rEvaluate Test:  33%|███▎      | 1/3 [00:01<00:02,  1.44s/it]"
          ]
        },
        {
          "output_type": "stream",
          "name": "stdout",
          "text": [
            "sample 10 num of prompts for COVID from total 12\n"
          ]
        },
        {
          "output_type": "stream",
          "name": "stderr",
          "text": [
            "\rEvaluate Test:  67%|██████▋   | 2/3 [00:02<00:01,  1.44s/it]"
          ]
        },
        {
          "output_type": "stream",
          "name": "stdout",
          "text": [
            "sample 10 num of prompts for COVID from total 12\n"
          ]
        },
        {
          "output_type": "stream",
          "name": "stderr",
          "text": [
            "Evaluate Test: 100%|██████████| 3/3 [00:04<00:00,  1.54s/it]\n"
          ]
        },
        {
          "output_type": "stream",
          "name": "stdout",
          "text": [
            "\n",
            "Accuracy: 0.9620, Precision: 0.9354, Recall: 0.9900, AUC: 0.9901\n"
          ]
        },
        {
          "output_type": "stream",
          "name": "stderr",
          "text": [
            "\rEvaluate Train:   0%|          | 0/8 [00:00<?, ?it/s]"
          ]
        },
        {
          "output_type": "stream",
          "name": "stdout",
          "text": [
            "sample 11 num of prompts for COVID from total 12\n"
          ]
        },
        {
          "output_type": "stream",
          "name": "stderr",
          "text": [
            "\rEvaluate Train:  12%|█▎        | 1/8 [00:01<00:09,  1.41s/it]"
          ]
        },
        {
          "output_type": "stream",
          "name": "stdout",
          "text": [
            "sample 11 num of prompts for COVID from total 12\n"
          ]
        },
        {
          "output_type": "stream",
          "name": "stderr",
          "text": [
            "\rEvaluate Train:  25%|██▌       | 2/8 [00:02<00:08,  1.40s/it]"
          ]
        },
        {
          "output_type": "stream",
          "name": "stdout",
          "text": [
            "sample 11 num of prompts for COVID from total 12\n"
          ]
        },
        {
          "output_type": "stream",
          "name": "stderr",
          "text": [
            "\rEvaluate Train:  38%|███▊      | 3/8 [00:04<00:07,  1.41s/it]"
          ]
        },
        {
          "output_type": "stream",
          "name": "stdout",
          "text": [
            "sample 11 num of prompts for COVID from total 12\n"
          ]
        },
        {
          "output_type": "stream",
          "name": "stderr",
          "text": [
            "\rEvaluate Train:  50%|█████     | 4/8 [00:05<00:05,  1.42s/it]"
          ]
        },
        {
          "output_type": "stream",
          "name": "stdout",
          "text": [
            "sample 11 num of prompts for COVID from total 12\n"
          ]
        },
        {
          "output_type": "stream",
          "name": "stderr",
          "text": [
            "\rEvaluate Train:  62%|██████▎   | 5/8 [00:07<00:04,  1.41s/it]"
          ]
        },
        {
          "output_type": "stream",
          "name": "stdout",
          "text": [
            "sample 11 num of prompts for COVID from total 12\n"
          ]
        },
        {
          "output_type": "stream",
          "name": "stderr",
          "text": [
            "\rEvaluate Train:  75%|███████▌  | 6/8 [00:08<00:02,  1.45s/it]"
          ]
        },
        {
          "output_type": "stream",
          "name": "stdout",
          "text": [
            "sample 11 num of prompts for COVID from total 12\n"
          ]
        },
        {
          "output_type": "stream",
          "name": "stderr",
          "text": [
            "\rEvaluate Train:  88%|████████▊ | 7/8 [00:09<00:01,  1.44s/it]"
          ]
        },
        {
          "output_type": "stream",
          "name": "stdout",
          "text": [
            "sample 11 num of prompts for COVID from total 12\n"
          ]
        },
        {
          "output_type": "stream",
          "name": "stderr",
          "text": [
            "Evaluate Train: 100%|██████████| 8/8 [00:11<00:00,  1.43s/it]\n",
            "Evaluate Validation:   0%|          | 0/2 [00:00<?, ?it/s]"
          ]
        },
        {
          "output_type": "stream",
          "name": "stdout",
          "text": [
            "sample 11 num of prompts for COVID from total 12\n"
          ]
        },
        {
          "output_type": "stream",
          "name": "stderr",
          "text": [
            "\rEvaluate Validation:  50%|█████     | 1/2 [00:01<00:01,  1.41s/it]"
          ]
        },
        {
          "output_type": "stream",
          "name": "stdout",
          "text": [
            "sample 11 num of prompts for COVID from total 12\n"
          ]
        },
        {
          "output_type": "stream",
          "name": "stderr",
          "text": [
            "Evaluate Validation: 100%|██████████| 2/2 [00:02<00:00,  1.40s/it]\n",
            "Evaluate Test:   0%|          | 0/3 [00:00<?, ?it/s]"
          ]
        },
        {
          "output_type": "stream",
          "name": "stdout",
          "text": [
            "sample 11 num of prompts for COVID from total 12\n"
          ]
        },
        {
          "output_type": "stream",
          "name": "stderr",
          "text": [
            "\rEvaluate Test:  33%|███▎      | 1/3 [00:01<00:02,  1.44s/it]"
          ]
        },
        {
          "output_type": "stream",
          "name": "stdout",
          "text": [
            "sample 11 num of prompts for COVID from total 12\n"
          ]
        },
        {
          "output_type": "stream",
          "name": "stderr",
          "text": [
            "\rEvaluate Test:  67%|██████▋   | 2/3 [00:03<00:01,  1.54s/it]"
          ]
        },
        {
          "output_type": "stream",
          "name": "stdout",
          "text": [
            "sample 11 num of prompts for COVID from total 12\n"
          ]
        },
        {
          "output_type": "stream",
          "name": "stderr",
          "text": [
            "Evaluate Test: 100%|██████████| 3/3 [00:04<00:00,  1.54s/it]\n"
          ]
        },
        {
          "output_type": "stream",
          "name": "stdout",
          "text": [
            "\n",
            "Accuracy: 0.9620, Precision: 0.9354, Recall: 0.9900, AUC: 0.9901\n"
          ]
        },
        {
          "output_type": "stream",
          "name": "stderr",
          "text": [
            "\rEvaluate Train:   0%|          | 0/8 [00:00<?, ?it/s]"
          ]
        },
        {
          "output_type": "stream",
          "name": "stdout",
          "text": [
            "sample 12 num of prompts for COVID from total 12\n"
          ]
        },
        {
          "output_type": "stream",
          "name": "stderr",
          "text": [
            "\rEvaluate Train:  12%|█▎        | 1/8 [00:01<00:13,  1.93s/it]"
          ]
        },
        {
          "output_type": "stream",
          "name": "stdout",
          "text": [
            "sample 12 num of prompts for COVID from total 12\n"
          ]
        },
        {
          "output_type": "stream",
          "name": "stderr",
          "text": [
            "\rEvaluate Train:  25%|██▌       | 2/8 [00:03<00:10,  1.67s/it]"
          ]
        },
        {
          "output_type": "stream",
          "name": "stdout",
          "text": [
            "sample 12 num of prompts for COVID from total 12\n"
          ]
        },
        {
          "output_type": "stream",
          "name": "stderr",
          "text": [
            "\rEvaluate Train:  38%|███▊      | 3/8 [00:05<00:08,  1.78s/it]"
          ]
        },
        {
          "output_type": "stream",
          "name": "stdout",
          "text": [
            "sample 12 num of prompts for COVID from total 12\n"
          ]
        },
        {
          "output_type": "stream",
          "name": "stderr",
          "text": [
            "\rEvaluate Train:  50%|█████     | 4/8 [00:07<00:07,  1.90s/it]"
          ]
        },
        {
          "output_type": "stream",
          "name": "stdout",
          "text": [
            "sample 12 num of prompts for COVID from total 12\n"
          ]
        },
        {
          "output_type": "stream",
          "name": "stderr",
          "text": [
            "\rEvaluate Train:  62%|██████▎   | 5/8 [00:08<00:05,  1.74s/it]"
          ]
        },
        {
          "output_type": "stream",
          "name": "stdout",
          "text": [
            "sample 12 num of prompts for COVID from total 12\n"
          ]
        },
        {
          "output_type": "stream",
          "name": "stderr",
          "text": [
            "\rEvaluate Train:  75%|███████▌  | 6/8 [00:10<00:03,  1.64s/it]"
          ]
        },
        {
          "output_type": "stream",
          "name": "stdout",
          "text": [
            "sample 12 num of prompts for COVID from total 12\n"
          ]
        },
        {
          "output_type": "stream",
          "name": "stderr",
          "text": [
            "\rEvaluate Train:  88%|████████▊ | 7/8 [00:11<00:01,  1.59s/it]"
          ]
        },
        {
          "output_type": "stream",
          "name": "stdout",
          "text": [
            "sample 12 num of prompts for COVID from total 12\n"
          ]
        },
        {
          "output_type": "stream",
          "name": "stderr",
          "text": [
            "Evaluate Train: 100%|██████████| 8/8 [00:13<00:00,  1.68s/it]\n",
            "Evaluate Validation:   0%|          | 0/2 [00:00<?, ?it/s]"
          ]
        },
        {
          "output_type": "stream",
          "name": "stdout",
          "text": [
            "sample 12 num of prompts for COVID from total 12\n"
          ]
        },
        {
          "output_type": "stream",
          "name": "stderr",
          "text": [
            "\rEvaluate Validation:  50%|█████     | 1/2 [00:01<00:01,  1.38s/it]"
          ]
        },
        {
          "output_type": "stream",
          "name": "stdout",
          "text": [
            "sample 12 num of prompts for COVID from total 12\n"
          ]
        },
        {
          "output_type": "stream",
          "name": "stderr",
          "text": [
            "Evaluate Validation: 100%|██████████| 2/2 [00:02<00:00,  1.44s/it]\n",
            "Evaluate Test:   0%|          | 0/3 [00:00<?, ?it/s]"
          ]
        },
        {
          "output_type": "stream",
          "name": "stdout",
          "text": [
            "sample 12 num of prompts for COVID from total 12\n"
          ]
        },
        {
          "output_type": "stream",
          "name": "stderr",
          "text": [
            "\rEvaluate Test:  33%|███▎      | 1/3 [00:01<00:03,  1.78s/it]"
          ]
        },
        {
          "output_type": "stream",
          "name": "stdout",
          "text": [
            "sample 12 num of prompts for COVID from total 12\n"
          ]
        },
        {
          "output_type": "stream",
          "name": "stderr",
          "text": [
            "\rEvaluate Test:  67%|██████▋   | 2/3 [00:04<00:02,  2.09s/it]"
          ]
        },
        {
          "output_type": "stream",
          "name": "stdout",
          "text": [
            "sample 12 num of prompts for COVID from total 12\n"
          ]
        },
        {
          "output_type": "stream",
          "name": "stderr",
          "text": [
            "Evaluate Test: 100%|██████████| 3/3 [00:05<00:00,  1.87s/it]\n"
          ]
        },
        {
          "output_type": "stream",
          "name": "stdout",
          "text": [
            "\n",
            "Accuracy: 0.9620, Precision: 0.9354, Recall: 0.9900, AUC: 0.9901\n"
          ]
        },
        {
          "output_type": "stream",
          "name": "stderr",
          "text": [
            "\rEvaluate Train:   0%|          | 0/8 [00:00<?, ?it/s]"
          ]
        },
        {
          "output_type": "stream",
          "name": "stdout",
          "text": [
            "sample 6 num of prompts for COVID from total 12\n"
          ]
        },
        {
          "output_type": "stream",
          "name": "stderr",
          "text": [
            "\rEvaluate Train:  12%|█▎        | 1/8 [00:01<00:09,  1.43s/it]"
          ]
        },
        {
          "output_type": "stream",
          "name": "stdout",
          "text": [
            "sample 6 num of prompts for COVID from total 12\n"
          ]
        },
        {
          "output_type": "stream",
          "name": "stderr",
          "text": [
            "\rEvaluate Train:  25%|██▌       | 2/8 [00:02<00:08,  1.40s/it]"
          ]
        },
        {
          "output_type": "stream",
          "name": "stdout",
          "text": [
            "sample 6 num of prompts for COVID from total 12\n"
          ]
        },
        {
          "output_type": "stream",
          "name": "stderr",
          "text": [
            "\rEvaluate Train:  38%|███▊      | 3/8 [00:04<00:07,  1.51s/it]"
          ]
        },
        {
          "output_type": "stream",
          "name": "stdout",
          "text": [
            "sample 6 num of prompts for COVID from total 12\n"
          ]
        },
        {
          "output_type": "stream",
          "name": "stderr",
          "text": [
            "\rEvaluate Train:  50%|█████     | 4/8 [00:05<00:05,  1.46s/it]"
          ]
        },
        {
          "output_type": "stream",
          "name": "stdout",
          "text": [
            "sample 6 num of prompts for COVID from total 12\n"
          ]
        },
        {
          "output_type": "stream",
          "name": "stderr",
          "text": [
            "\rEvaluate Train:  62%|██████▎   | 5/8 [00:07<00:04,  1.46s/it]"
          ]
        },
        {
          "output_type": "stream",
          "name": "stdout",
          "text": [
            "sample 6 num of prompts for COVID from total 12\n"
          ]
        },
        {
          "output_type": "stream",
          "name": "stderr",
          "text": [
            "\rEvaluate Train:  75%|███████▌  | 6/8 [00:08<00:02,  1.43s/it]"
          ]
        },
        {
          "output_type": "stream",
          "name": "stdout",
          "text": [
            "sample 6 num of prompts for COVID from total 12\n"
          ]
        },
        {
          "output_type": "stream",
          "name": "stderr",
          "text": [
            "\rEvaluate Train:  88%|████████▊ | 7/8 [00:10<00:01,  1.50s/it]"
          ]
        },
        {
          "output_type": "stream",
          "name": "stdout",
          "text": [
            "sample 6 num of prompts for COVID from total 12\n"
          ]
        },
        {
          "output_type": "stream",
          "name": "stderr",
          "text": [
            "Evaluate Train: 100%|██████████| 8/8 [00:11<00:00,  1.49s/it]\n",
            "Evaluate Validation:   0%|          | 0/2 [00:00<?, ?it/s]"
          ]
        },
        {
          "output_type": "stream",
          "name": "stdout",
          "text": [
            "sample 6 num of prompts for COVID from total 12\n"
          ]
        },
        {
          "output_type": "stream",
          "name": "stderr",
          "text": [
            "\rEvaluate Validation:  50%|█████     | 1/2 [00:01<00:01,  1.44s/it]"
          ]
        },
        {
          "output_type": "stream",
          "name": "stdout",
          "text": [
            "sample 6 num of prompts for COVID from total 12\n"
          ]
        },
        {
          "output_type": "stream",
          "name": "stderr",
          "text": [
            "Evaluate Validation: 100%|██████████| 2/2 [00:03<00:00,  1.92s/it]\n",
            "Evaluate Test:   0%|          | 0/3 [00:00<?, ?it/s]"
          ]
        },
        {
          "output_type": "stream",
          "name": "stdout",
          "text": [
            "sample 6 num of prompts for COVID from total 12\n"
          ]
        },
        {
          "output_type": "stream",
          "name": "stderr",
          "text": [
            "\rEvaluate Test:  33%|███▎      | 1/3 [00:01<00:03,  1.51s/it]"
          ]
        },
        {
          "output_type": "stream",
          "name": "stdout",
          "text": [
            "sample 6 num of prompts for COVID from total 12\n"
          ]
        },
        {
          "output_type": "stream",
          "name": "stderr",
          "text": [
            "\rEvaluate Test:  67%|██████▋   | 2/3 [00:03<00:01,  1.88s/it]"
          ]
        },
        {
          "output_type": "stream",
          "name": "stdout",
          "text": [
            "sample 6 num of prompts for COVID from total 12\n"
          ]
        },
        {
          "output_type": "stream",
          "name": "stderr",
          "text": [
            "Evaluate Test: 100%|██████████| 3/3 [00:05<00:00,  1.70s/it]\n"
          ]
        },
        {
          "output_type": "stream",
          "name": "stdout",
          "text": [
            "Results saved to results/visualization/zs_medclip_finetune/ucsd/medclip/images/prediction_images.pdf\n",
            "Best AUC for covid_task with 6 prompts: 0.9901\n",
            "Results saved to results/zs_medclip_finetune/ucsd/medclip/classification_results.txt\n"
          ]
        },
        {
          "output_type": "stream",
          "name": "stderr",
          "text": [
            "/usr/local/lib/python3.10/dist-packages/keras/src/preprocessing/image.py:766: UserWarning: NumpyArrayIterator is set to use the data format convention \"channels_last\" (channels on axis 3), i.e. expected either 1, 3, or 4 channels on axis 3. However, it was passed an array with shape (526, 1, 224, 224) (224 channels).\n",
            "  warnings.warn(\n",
            "/usr/local/lib/python3.10/dist-packages/keras/src/preprocessing/image.py:766: UserWarning: NumpyArrayIterator is set to use the data format convention \"channels_last\" (channels on axis 3), i.e. expected either 1, 3, or 4 channels on axis 3. However, it was passed an array with shape (132, 1, 224, 224) (224 channels).\n",
            "  warnings.warn(\n",
            "/usr/local/lib/python3.10/dist-packages/keras/src/preprocessing/image.py:766: UserWarning: NumpyArrayIterator is set to use the data format convention \"channels_last\" (channels on axis 3), i.e. expected either 1, 3, or 4 channels on axis 3. However, it was passed an array with shape (165, 1, 224, 224) (224 channels).\n",
            "  warnings.warn(\n"
          ]
        },
        {
          "output_type": "stream",
          "name": "stdout",
          "text": [
            "Results saved to results/visualization/zero_shot_finetune/ori/medclip/images/cxr_images.pdf\n",
            "NVIDIA library configured successfully.\n"
          ]
        },
        {
          "output_type": "stream",
          "name": "stderr",
          "text": [
            "Some weights of the model checkpoint at microsoft/swin-tiny-patch4-window7-224 were not used when initializing SwinModel: ['classifier.weight', 'classifier.bias']\n",
            "- This IS expected if you are initializing SwinModel from the checkpoint of a model trained on another task or with another architecture (e.g. initializing a BertForSequenceClassification model from a BertForPreTraining model).\n",
            "- This IS NOT expected if you are initializing SwinModel from the checkpoint of a model that you expect to be exactly identical (initializing a BertForSequenceClassification model from a BertForSequenceClassification model).\n",
            "Some weights of the model checkpoint at emilyalsentzer/Bio_ClinicalBERT were not used when initializing BertModel: ['cls.predictions.decoder.weight', 'cls.predictions.transform.LayerNorm.weight', 'cls.predictions.transform.LayerNorm.bias', 'cls.seq_relationship.weight', 'cls.predictions.transform.dense.bias', 'cls.predictions.transform.dense.weight', 'cls.seq_relationship.bias', 'cls.predictions.bias']\n",
            "- This IS expected if you are initializing BertModel from the checkpoint of a model trained on another task or with another architecture (e.g. initializing a BertForSequenceClassification model from a BertForPreTraining model).\n",
            "- This IS NOT expected if you are initializing BertModel from the checkpoint of a model that you expect to be exactly identical (initializing a BertForSequenceClassification model from a BertForSequenceClassification model).\n"
          ]
        },
        {
          "output_type": "stream",
          "name": "stdout",
          "text": [
            "load model weight from: ./pretrained/medclip-vit\n"
          ]
        },
        {
          "output_type": "stream",
          "name": "stderr",
          "text": [
            "\rEvaluate Train:   0%|          | 0/3 [00:00<?, ?it/s]"
          ]
        },
        {
          "output_type": "stream",
          "name": "stdout",
          "text": [
            "sample 1 num of prompts for COVID from total 12\n"
          ]
        },
        {
          "output_type": "stream",
          "name": "stderr",
          "text": [
            "\rEvaluate Train:  33%|███▎      | 1/3 [00:01<00:03,  1.95s/it]"
          ]
        },
        {
          "output_type": "stream",
          "name": "stdout",
          "text": [
            "sample 1 num of prompts for COVID from total 12\n"
          ]
        },
        {
          "output_type": "stream",
          "name": "stderr",
          "text": [
            "\rEvaluate Train:  67%|██████▋   | 2/3 [00:03<00:01,  1.72s/it]"
          ]
        },
        {
          "output_type": "stream",
          "name": "stdout",
          "text": [
            "sample 1 num of prompts for COVID from total 12\n"
          ]
        },
        {
          "output_type": "stream",
          "name": "stderr",
          "text": [
            "Evaluate Train: 100%|██████████| 3/3 [00:04<00:00,  1.57s/it]\n",
            "Evaluate Validation:   0%|          | 0/1 [00:00<?, ?it/s]"
          ]
        },
        {
          "output_type": "stream",
          "name": "stdout",
          "text": [
            "sample 1 num of prompts for COVID from total 12\n"
          ]
        },
        {
          "output_type": "stream",
          "name": "stderr",
          "text": [
            "Evaluate Validation: 100%|██████████| 1/1 [00:01<00:00,  1.34s/it]\n",
            "Evaluate Test:   0%|          | 0/1 [00:00<?, ?it/s]"
          ]
        },
        {
          "output_type": "stream",
          "name": "stdout",
          "text": [
            "sample 1 num of prompts for COVID from total 12\n"
          ]
        },
        {
          "output_type": "stream",
          "name": "stderr",
          "text": [
            "Evaluate Test: 100%|██████████| 1/1 [00:01<00:00,  1.30s/it]\n"
          ]
        },
        {
          "output_type": "stream",
          "name": "stdout",
          "text": [
            "\n",
            "Accuracy: 0.5905, Precision: 0.5803, Recall: 0.5990, AUC: 0.6236\n"
          ]
        },
        {
          "output_type": "stream",
          "name": "stderr",
          "text": [
            "\rEvaluate Train:   0%|          | 0/3 [00:00<?, ?it/s]"
          ]
        },
        {
          "output_type": "stream",
          "name": "stdout",
          "text": [
            "sample 2 num of prompts for COVID from total 12\n"
          ]
        },
        {
          "output_type": "stream",
          "name": "stderr",
          "text": [
            "\rEvaluate Train:  33%|███▎      | 1/3 [00:01<00:02,  1.40s/it]"
          ]
        },
        {
          "output_type": "stream",
          "name": "stdout",
          "text": [
            "sample 2 num of prompts for COVID from total 12\n"
          ]
        },
        {
          "output_type": "stream",
          "name": "stderr",
          "text": [
            "\rEvaluate Train:  67%|██████▋   | 2/3 [00:02<00:01,  1.47s/it]"
          ]
        },
        {
          "output_type": "stream",
          "name": "stdout",
          "text": [
            "sample 2 num of prompts for COVID from total 12\n"
          ]
        },
        {
          "output_type": "stream",
          "name": "stderr",
          "text": [
            "Evaluate Train: 100%|██████████| 3/3 [00:04<00:00,  1.56s/it]\n",
            "Evaluate Validation:   0%|          | 0/1 [00:00<?, ?it/s]"
          ]
        },
        {
          "output_type": "stream",
          "name": "stdout",
          "text": [
            "sample 2 num of prompts for COVID from total 12\n"
          ]
        },
        {
          "output_type": "stream",
          "name": "stderr",
          "text": [
            "Evaluate Validation: 100%|██████████| 1/1 [00:01<00:00,  1.74s/it]\n",
            "Evaluate Test:   0%|          | 0/1 [00:00<?, ?it/s]"
          ]
        },
        {
          "output_type": "stream",
          "name": "stdout",
          "text": [
            "sample 2 num of prompts for COVID from total 12\n"
          ]
        },
        {
          "output_type": "stream",
          "name": "stderr",
          "text": [
            "Evaluate Test: 100%|██████████| 1/1 [00:01<00:00,  1.96s/it]\n"
          ]
        },
        {
          "output_type": "stream",
          "name": "stdout",
          "text": [
            "\n",
            "Accuracy: 0.6039, Precision: 0.5890, Recall: 0.6386, AUC: 0.6242\n"
          ]
        },
        {
          "output_type": "stream",
          "name": "stderr",
          "text": [
            "\rEvaluate Train:   0%|          | 0/3 [00:00<?, ?it/s]"
          ]
        },
        {
          "output_type": "stream",
          "name": "stdout",
          "text": [
            "sample 3 num of prompts for COVID from total 12\n"
          ]
        },
        {
          "output_type": "stream",
          "name": "stderr",
          "text": [
            "\rEvaluate Train:  33%|███▎      | 1/3 [00:01<00:02,  1.46s/it]"
          ]
        },
        {
          "output_type": "stream",
          "name": "stdout",
          "text": [
            "sample 3 num of prompts for COVID from total 12\n"
          ]
        },
        {
          "output_type": "stream",
          "name": "stderr",
          "text": [
            "\rEvaluate Train:  67%|██████▋   | 2/3 [00:03<00:01,  1.78s/it]"
          ]
        },
        {
          "output_type": "stream",
          "name": "stdout",
          "text": [
            "sample 3 num of prompts for COVID from total 12\n"
          ]
        },
        {
          "output_type": "stream",
          "name": "stderr",
          "text": [
            "Evaluate Train: 100%|██████████| 3/3 [00:05<00:00,  1.70s/it]\n",
            "Evaluate Validation:   0%|          | 0/1 [00:00<?, ?it/s]"
          ]
        },
        {
          "output_type": "stream",
          "name": "stdout",
          "text": [
            "sample 3 num of prompts for COVID from total 12\n"
          ]
        },
        {
          "output_type": "stream",
          "name": "stderr",
          "text": [
            "Evaluate Validation: 100%|██████████| 1/1 [00:01<00:00,  1.92s/it]\n",
            "Evaluate Test:   0%|          | 0/1 [00:00<?, ?it/s]"
          ]
        },
        {
          "output_type": "stream",
          "name": "stdout",
          "text": [
            "sample 3 num of prompts for COVID from total 12\n"
          ]
        },
        {
          "output_type": "stream",
          "name": "stderr",
          "text": [
            "Evaluate Test: 100%|██████████| 1/1 [00:01<00:00,  1.98s/it]\n"
          ]
        },
        {
          "output_type": "stream",
          "name": "stdout",
          "text": [
            "\n",
            "Accuracy: 0.6039, Precision: 0.5886, Recall: 0.6411, AUC: 0.6282\n"
          ]
        },
        {
          "output_type": "stream",
          "name": "stderr",
          "text": [
            "\rEvaluate Train:   0%|          | 0/3 [00:00<?, ?it/s]"
          ]
        },
        {
          "output_type": "stream",
          "name": "stdout",
          "text": [
            "sample 4 num of prompts for COVID from total 12\n"
          ]
        },
        {
          "output_type": "stream",
          "name": "stderr",
          "text": [
            "\rEvaluate Train:  33%|███▎      | 1/3 [00:01<00:02,  1.43s/it]"
          ]
        },
        {
          "output_type": "stream",
          "name": "stdout",
          "text": [
            "sample 4 num of prompts for COVID from total 12\n"
          ]
        },
        {
          "output_type": "stream",
          "name": "stderr",
          "text": [
            "\rEvaluate Train:  67%|██████▋   | 2/3 [00:02<00:01,  1.45s/it]"
          ]
        },
        {
          "output_type": "stream",
          "name": "stdout",
          "text": [
            "sample 4 num of prompts for COVID from total 12\n"
          ]
        },
        {
          "output_type": "stream",
          "name": "stderr",
          "text": [
            "Evaluate Train: 100%|██████████| 3/3 [00:04<00:00,  1.45s/it]\n",
            "Evaluate Validation:   0%|          | 0/1 [00:00<?, ?it/s]"
          ]
        },
        {
          "output_type": "stream",
          "name": "stdout",
          "text": [
            "sample 4 num of prompts for COVID from total 12\n"
          ]
        },
        {
          "output_type": "stream",
          "name": "stderr",
          "text": [
            "Evaluate Validation: 100%|██████████| 1/1 [00:01<00:00,  1.63s/it]\n",
            "Evaluate Test:   0%|          | 0/1 [00:00<?, ?it/s]"
          ]
        },
        {
          "output_type": "stream",
          "name": "stdout",
          "text": [
            "sample 4 num of prompts for COVID from total 12\n"
          ]
        },
        {
          "output_type": "stream",
          "name": "stderr",
          "text": [
            "Evaluate Test: 100%|██████████| 1/1 [00:01<00:00,  1.31s/it]\n"
          ]
        },
        {
          "output_type": "stream",
          "name": "stdout",
          "text": [
            "\n",
            "Accuracy: 0.6112, Precision: 0.5942, Recall: 0.6559, AUC: 0.6285\n"
          ]
        },
        {
          "output_type": "stream",
          "name": "stderr",
          "text": [
            "\rEvaluate Train:   0%|          | 0/3 [00:00<?, ?it/s]"
          ]
        },
        {
          "output_type": "stream",
          "name": "stdout",
          "text": [
            "sample 5 num of prompts for COVID from total 12\n"
          ]
        },
        {
          "output_type": "stream",
          "name": "stderr",
          "text": [
            "\rEvaluate Train:  33%|███▎      | 1/3 [00:01<00:02,  1.46s/it]"
          ]
        },
        {
          "output_type": "stream",
          "name": "stdout",
          "text": [
            "sample 5 num of prompts for COVID from total 12\n"
          ]
        },
        {
          "output_type": "stream",
          "name": "stderr",
          "text": [
            "\rEvaluate Train:  67%|██████▋   | 2/3 [00:03<00:01,  1.55s/it]"
          ]
        },
        {
          "output_type": "stream",
          "name": "stdout",
          "text": [
            "sample 5 num of prompts for COVID from total 12\n"
          ]
        },
        {
          "output_type": "stream",
          "name": "stderr",
          "text": [
            "Evaluate Train: 100%|██████████| 3/3 [00:04<00:00,  1.40s/it]\n",
            "Evaluate Validation:   0%|          | 0/1 [00:00<?, ?it/s]"
          ]
        },
        {
          "output_type": "stream",
          "name": "stdout",
          "text": [
            "sample 5 num of prompts for COVID from total 12\n"
          ]
        },
        {
          "output_type": "stream",
          "name": "stderr",
          "text": [
            "Evaluate Validation: 100%|██████████| 1/1 [00:01<00:00,  1.48s/it]\n",
            "Evaluate Test:   0%|          | 0/1 [00:00<?, ?it/s]"
          ]
        },
        {
          "output_type": "stream",
          "name": "stdout",
          "text": [
            "sample 5 num of prompts for COVID from total 12\n"
          ]
        },
        {
          "output_type": "stream",
          "name": "stderr",
          "text": [
            "Evaluate Test: 100%|██████████| 1/1 [00:01<00:00,  1.35s/it]\n"
          ]
        },
        {
          "output_type": "stream",
          "name": "stdout",
          "text": [
            "\n",
            "Accuracy: 0.6039, Precision: 0.5878, Recall: 0.6460, AUC: 0.6237\n"
          ]
        },
        {
          "output_type": "stream",
          "name": "stderr",
          "text": [
            "\rEvaluate Train:   0%|          | 0/3 [00:00<?, ?it/s]"
          ]
        },
        {
          "output_type": "stream",
          "name": "stdout",
          "text": [
            "sample 6 num of prompts for COVID from total 12\n"
          ]
        },
        {
          "output_type": "stream",
          "name": "stderr",
          "text": [
            "\rEvaluate Train:  33%|███▎      | 1/3 [00:01<00:02,  1.40s/it]"
          ]
        },
        {
          "output_type": "stream",
          "name": "stdout",
          "text": [
            "sample 6 num of prompts for COVID from total 12\n"
          ]
        },
        {
          "output_type": "stream",
          "name": "stderr",
          "text": [
            "\rEvaluate Train:  67%|██████▋   | 2/3 [00:03<00:01,  1.64s/it]"
          ]
        },
        {
          "output_type": "stream",
          "name": "stdout",
          "text": [
            "sample 6 num of prompts for COVID from total 12\n"
          ]
        },
        {
          "output_type": "stream",
          "name": "stderr",
          "text": [
            "Evaluate Train: 100%|██████████| 3/3 [00:04<00:00,  1.53s/it]\n",
            "Evaluate Validation:   0%|          | 0/1 [00:00<?, ?it/s]"
          ]
        },
        {
          "output_type": "stream",
          "name": "stdout",
          "text": [
            "sample 6 num of prompts for COVID from total 12\n"
          ]
        },
        {
          "output_type": "stream",
          "name": "stderr",
          "text": [
            "Evaluate Validation: 100%|██████████| 1/1 [00:02<00:00,  2.03s/it]\n",
            "Evaluate Test:   0%|          | 0/1 [00:00<?, ?it/s]"
          ]
        },
        {
          "output_type": "stream",
          "name": "stdout",
          "text": [
            "sample 6 num of prompts for COVID from total 12\n"
          ]
        },
        {
          "output_type": "stream",
          "name": "stderr",
          "text": [
            "Evaluate Test: 100%|██████████| 1/1 [00:01<00:00,  1.32s/it]\n"
          ]
        },
        {
          "output_type": "stream",
          "name": "stdout",
          "text": [
            "\n",
            "Accuracy: 0.6075, Precision: 0.5906, Recall: 0.6535, AUC: 0.6241\n"
          ]
        },
        {
          "output_type": "stream",
          "name": "stderr",
          "text": [
            "\rEvaluate Train:   0%|          | 0/3 [00:00<?, ?it/s]"
          ]
        },
        {
          "output_type": "stream",
          "name": "stdout",
          "text": [
            "sample 7 num of prompts for COVID from total 12\n"
          ]
        },
        {
          "output_type": "stream",
          "name": "stderr",
          "text": [
            "\rEvaluate Train:  33%|███▎      | 1/3 [00:01<00:02,  1.43s/it]"
          ]
        },
        {
          "output_type": "stream",
          "name": "stdout",
          "text": [
            "sample 7 num of prompts for COVID from total 12\n"
          ]
        },
        {
          "output_type": "stream",
          "name": "stderr",
          "text": [
            "\rEvaluate Train:  67%|██████▋   | 2/3 [00:02<00:01,  1.45s/it]"
          ]
        },
        {
          "output_type": "stream",
          "name": "stdout",
          "text": [
            "sample 7 num of prompts for COVID from total 12\n"
          ]
        },
        {
          "output_type": "stream",
          "name": "stderr",
          "text": [
            "Evaluate Train: 100%|██████████| 3/3 [00:04<00:00,  1.38s/it]\n",
            "Evaluate Validation:   0%|          | 0/1 [00:00<?, ?it/s]"
          ]
        },
        {
          "output_type": "stream",
          "name": "stdout",
          "text": [
            "sample 7 num of prompts for COVID from total 12\n"
          ]
        },
        {
          "output_type": "stream",
          "name": "stderr",
          "text": [
            "Evaluate Validation: 100%|██████████| 1/1 [00:01<00:00,  1.45s/it]\n",
            "Evaluate Test:   0%|          | 0/1 [00:00<?, ?it/s]"
          ]
        },
        {
          "output_type": "stream",
          "name": "stdout",
          "text": [
            "sample 7 num of prompts for COVID from total 12\n"
          ]
        },
        {
          "output_type": "stream",
          "name": "stderr",
          "text": [
            "Evaluate Test: 100%|██████████| 1/1 [00:01<00:00,  1.37s/it]\n"
          ]
        },
        {
          "output_type": "stream",
          "name": "stdout",
          "text": [
            "\n",
            "Accuracy: 0.6075, Precision: 0.5902, Recall: 0.6559, AUC: 0.6256\n"
          ]
        },
        {
          "output_type": "stream",
          "name": "stderr",
          "text": [
            "\rEvaluate Train:   0%|          | 0/3 [00:00<?, ?it/s]"
          ]
        },
        {
          "output_type": "stream",
          "name": "stdout",
          "text": [
            "sample 8 num of prompts for COVID from total 12\n"
          ]
        },
        {
          "output_type": "stream",
          "name": "stderr",
          "text": [
            "\rEvaluate Train:  33%|███▎      | 1/3 [00:01<00:02,  1.39s/it]"
          ]
        },
        {
          "output_type": "stream",
          "name": "stdout",
          "text": [
            "sample 8 num of prompts for COVID from total 12\n"
          ]
        },
        {
          "output_type": "stream",
          "name": "stderr",
          "text": [
            "\rEvaluate Train:  67%|██████▋   | 2/3 [00:03<00:01,  1.53s/it]"
          ]
        },
        {
          "output_type": "stream",
          "name": "stdout",
          "text": [
            "sample 8 num of prompts for COVID from total 12\n"
          ]
        },
        {
          "output_type": "stream",
          "name": "stderr",
          "text": [
            "Evaluate Train: 100%|██████████| 3/3 [00:04<00:00,  1.53s/it]\n",
            "Evaluate Validation:   0%|          | 0/1 [00:00<?, ?it/s]"
          ]
        },
        {
          "output_type": "stream",
          "name": "stdout",
          "text": [
            "sample 8 num of prompts for COVID from total 12\n"
          ]
        },
        {
          "output_type": "stream",
          "name": "stderr",
          "text": [
            "Evaluate Validation: 100%|██████████| 1/1 [00:01<00:00,  1.37s/it]\n",
            "Evaluate Test:   0%|          | 0/1 [00:00<?, ?it/s]"
          ]
        },
        {
          "output_type": "stream",
          "name": "stdout",
          "text": [
            "sample 8 num of prompts for COVID from total 12\n"
          ]
        },
        {
          "output_type": "stream",
          "name": "stderr",
          "text": [
            "Evaluate Test: 100%|██████████| 1/1 [00:01<00:00,  1.63s/it]\n"
          ]
        },
        {
          "output_type": "stream",
          "name": "stdout",
          "text": [
            "\n",
            "Accuracy: 0.6075, Precision: 0.5902, Recall: 0.6559, AUC: 0.6259\n"
          ]
        },
        {
          "output_type": "stream",
          "name": "stderr",
          "text": [
            "\rEvaluate Train:   0%|          | 0/3 [00:00<?, ?it/s]"
          ]
        },
        {
          "output_type": "stream",
          "name": "stdout",
          "text": [
            "sample 9 num of prompts for COVID from total 12\n"
          ]
        },
        {
          "output_type": "stream",
          "name": "stderr",
          "text": [
            "\rEvaluate Train:  33%|███▎      | 1/3 [00:01<00:02,  1.44s/it]"
          ]
        },
        {
          "output_type": "stream",
          "name": "stdout",
          "text": [
            "sample 9 num of prompts for COVID from total 12\n"
          ]
        },
        {
          "output_type": "stream",
          "name": "stderr",
          "text": [
            "\rEvaluate Train:  67%|██████▋   | 2/3 [00:03<00:02,  2.03s/it]"
          ]
        },
        {
          "output_type": "stream",
          "name": "stdout",
          "text": [
            "sample 9 num of prompts for COVID from total 12\n"
          ]
        },
        {
          "output_type": "stream",
          "name": "stderr",
          "text": [
            "Evaluate Train: 100%|██████████| 3/3 [00:05<00:00,  1.76s/it]\n",
            "Evaluate Validation:   0%|          | 0/1 [00:00<?, ?it/s]"
          ]
        },
        {
          "output_type": "stream",
          "name": "stdout",
          "text": [
            "sample 9 num of prompts for COVID from total 12\n"
          ]
        },
        {
          "output_type": "stream",
          "name": "stderr",
          "text": [
            "Evaluate Validation: 100%|██████████| 1/1 [00:01<00:00,  1.64s/it]\n",
            "Evaluate Test:   0%|          | 0/1 [00:00<?, ?it/s]"
          ]
        },
        {
          "output_type": "stream",
          "name": "stdout",
          "text": [
            "sample 9 num of prompts for COVID from total 12\n"
          ]
        },
        {
          "output_type": "stream",
          "name": "stderr",
          "text": [
            "Evaluate Test: 100%|██████████| 1/1 [00:02<00:00,  2.03s/it]\n"
          ]
        },
        {
          "output_type": "stream",
          "name": "stdout",
          "text": [
            "\n",
            "Accuracy: 0.6063, Precision: 0.5889, Recall: 0.6559, AUC: 0.6262\n"
          ]
        },
        {
          "output_type": "stream",
          "name": "stderr",
          "text": [
            "\rEvaluate Train:   0%|          | 0/3 [00:00<?, ?it/s]"
          ]
        },
        {
          "output_type": "stream",
          "name": "stdout",
          "text": [
            "sample 10 num of prompts for COVID from total 12\n"
          ]
        },
        {
          "output_type": "stream",
          "name": "stderr",
          "text": [
            "\rEvaluate Train:  33%|███▎      | 1/3 [00:01<00:02,  1.44s/it]"
          ]
        },
        {
          "output_type": "stream",
          "name": "stdout",
          "text": [
            "sample 10 num of prompts for COVID from total 12\n"
          ]
        },
        {
          "output_type": "stream",
          "name": "stderr",
          "text": [
            "\rEvaluate Train:  67%|██████▋   | 2/3 [00:02<00:01,  1.42s/it]"
          ]
        },
        {
          "output_type": "stream",
          "name": "stdout",
          "text": [
            "sample 10 num of prompts for COVID from total 12\n"
          ]
        },
        {
          "output_type": "stream",
          "name": "stderr",
          "text": [
            "Evaluate Train: 100%|██████████| 3/3 [00:04<00:00,  1.45s/it]\n",
            "Evaluate Validation:   0%|          | 0/1 [00:00<?, ?it/s]"
          ]
        },
        {
          "output_type": "stream",
          "name": "stdout",
          "text": [
            "sample 10 num of prompts for COVID from total 12\n"
          ]
        },
        {
          "output_type": "stream",
          "name": "stderr",
          "text": [
            "Evaluate Validation: 100%|██████████| 1/1 [00:01<00:00,  1.63s/it]\n",
            "Evaluate Test:   0%|          | 0/1 [00:00<?, ?it/s]"
          ]
        },
        {
          "output_type": "stream",
          "name": "stdout",
          "text": [
            "sample 10 num of prompts for COVID from total 12\n"
          ]
        },
        {
          "output_type": "stream",
          "name": "stderr",
          "text": [
            "Evaluate Test: 100%|██████████| 1/1 [00:01<00:00,  1.84s/it]\n"
          ]
        },
        {
          "output_type": "stream",
          "name": "stdout",
          "text": [
            "\n",
            "Accuracy: 0.6063, Precision: 0.5889, Recall: 0.6559, AUC: 0.6259\n"
          ]
        },
        {
          "output_type": "stream",
          "name": "stderr",
          "text": [
            "\rEvaluate Train:   0%|          | 0/3 [00:00<?, ?it/s]"
          ]
        },
        {
          "output_type": "stream",
          "name": "stdout",
          "text": [
            "sample 11 num of prompts for COVID from total 12\n"
          ]
        },
        {
          "output_type": "stream",
          "name": "stderr",
          "text": [
            "\rEvaluate Train:  33%|███▎      | 1/3 [00:01<00:02,  1.39s/it]"
          ]
        },
        {
          "output_type": "stream",
          "name": "stdout",
          "text": [
            "sample 11 num of prompts for COVID from total 12\n"
          ]
        },
        {
          "output_type": "stream",
          "name": "stderr",
          "text": [
            "\rEvaluate Train:  67%|██████▋   | 2/3 [00:03<00:01,  1.84s/it]"
          ]
        },
        {
          "output_type": "stream",
          "name": "stdout",
          "text": [
            "sample 11 num of prompts for COVID from total 12\n"
          ]
        },
        {
          "output_type": "stream",
          "name": "stderr",
          "text": [
            "Evaluate Train: 100%|██████████| 3/3 [00:05<00:00,  1.77s/it]\n",
            "Evaluate Validation:   0%|          | 0/1 [00:00<?, ?it/s]"
          ]
        },
        {
          "output_type": "stream",
          "name": "stdout",
          "text": [
            "sample 11 num of prompts for COVID from total 12\n"
          ]
        },
        {
          "output_type": "stream",
          "name": "stderr",
          "text": [
            "Evaluate Validation: 100%|██████████| 1/1 [00:01<00:00,  1.51s/it]\n",
            "Evaluate Test:   0%|          | 0/1 [00:00<?, ?it/s]"
          ]
        },
        {
          "output_type": "stream",
          "name": "stdout",
          "text": [
            "sample 11 num of prompts for COVID from total 12\n"
          ]
        },
        {
          "output_type": "stream",
          "name": "stderr",
          "text": [
            "Evaluate Test: 100%|██████████| 1/1 [00:01<00:00,  1.33s/it]\n"
          ]
        },
        {
          "output_type": "stream",
          "name": "stdout",
          "text": [
            "\n",
            "Accuracy: 0.6075, Precision: 0.5902, Recall: 0.6559, AUC: 0.6260\n"
          ]
        },
        {
          "output_type": "stream",
          "name": "stderr",
          "text": [
            "\rEvaluate Train:   0%|          | 0/3 [00:00<?, ?it/s]"
          ]
        },
        {
          "output_type": "stream",
          "name": "stdout",
          "text": [
            "sample 12 num of prompts for COVID from total 12\n"
          ]
        },
        {
          "output_type": "stream",
          "name": "stderr",
          "text": [
            "\rEvaluate Train:  33%|███▎      | 1/3 [00:01<00:03,  1.59s/it]"
          ]
        },
        {
          "output_type": "stream",
          "name": "stdout",
          "text": [
            "sample 12 num of prompts for COVID from total 12\n"
          ]
        },
        {
          "output_type": "stream",
          "name": "stderr",
          "text": [
            "\rEvaluate Train:  67%|██████▋   | 2/3 [00:02<00:01,  1.47s/it]"
          ]
        },
        {
          "output_type": "stream",
          "name": "stdout",
          "text": [
            "sample 12 num of prompts for COVID from total 12\n"
          ]
        },
        {
          "output_type": "stream",
          "name": "stderr",
          "text": [
            "Evaluate Train: 100%|██████████| 3/3 [00:04<00:00,  1.41s/it]\n",
            "Evaluate Validation:   0%|          | 0/1 [00:00<?, ?it/s]"
          ]
        },
        {
          "output_type": "stream",
          "name": "stdout",
          "text": [
            "sample 12 num of prompts for COVID from total 12\n"
          ]
        },
        {
          "output_type": "stream",
          "name": "stderr",
          "text": [
            "Evaluate Validation: 100%|██████████| 1/1 [00:01<00:00,  1.75s/it]\n",
            "Evaluate Test:   0%|          | 0/1 [00:00<?, ?it/s]"
          ]
        },
        {
          "output_type": "stream",
          "name": "stdout",
          "text": [
            "sample 12 num of prompts for COVID from total 12\n"
          ]
        },
        {
          "output_type": "stream",
          "name": "stderr",
          "text": [
            "Evaluate Test: 100%|██████████| 1/1 [00:01<00:00,  1.32s/it]\n"
          ]
        },
        {
          "output_type": "stream",
          "name": "stdout",
          "text": [
            "\n",
            "Accuracy: 0.6063, Precision: 0.5889, Recall: 0.6559, AUC: 0.6261\n"
          ]
        },
        {
          "output_type": "stream",
          "name": "stderr",
          "text": [
            "\rEvaluate Train:   0%|          | 0/3 [00:00<?, ?it/s]"
          ]
        },
        {
          "output_type": "stream",
          "name": "stdout",
          "text": [
            "sample 4 num of prompts for COVID from total 12\n"
          ]
        },
        {
          "output_type": "stream",
          "name": "stderr",
          "text": [
            "\rEvaluate Train:  33%|███▎      | 1/3 [00:01<00:02,  1.38s/it]"
          ]
        },
        {
          "output_type": "stream",
          "name": "stdout",
          "text": [
            "sample 4 num of prompts for COVID from total 12\n"
          ]
        },
        {
          "output_type": "stream",
          "name": "stderr",
          "text": [
            "\rEvaluate Train:  67%|██████▋   | 2/3 [00:02<00:01,  1.51s/it]"
          ]
        },
        {
          "output_type": "stream",
          "name": "stdout",
          "text": [
            "sample 4 num of prompts for COVID from total 12\n"
          ]
        },
        {
          "output_type": "stream",
          "name": "stderr",
          "text": [
            "Evaluate Train: 100%|██████████| 3/3 [00:04<00:00,  1.55s/it]\n",
            "Evaluate Validation:   0%|          | 0/1 [00:00<?, ?it/s]"
          ]
        },
        {
          "output_type": "stream",
          "name": "stdout",
          "text": [
            "sample 4 num of prompts for COVID from total 12\n"
          ]
        },
        {
          "output_type": "stream",
          "name": "stderr",
          "text": [
            "Evaluate Validation: 100%|██████████| 1/1 [00:01<00:00,  1.28s/it]\n",
            "Evaluate Test:   0%|          | 0/1 [00:00<?, ?it/s]"
          ]
        },
        {
          "output_type": "stream",
          "name": "stdout",
          "text": [
            "sample 4 num of prompts for COVID from total 12\n"
          ]
        },
        {
          "output_type": "stream",
          "name": "stderr",
          "text": [
            "Evaluate Test: 100%|██████████| 1/1 [00:01<00:00,  1.63s/it]\n"
          ]
        },
        {
          "output_type": "stream",
          "name": "stdout",
          "text": [
            "Results saved to results/visualization/zs_medclip_finetune/ori/medclip/images/prediction_images.pdf\n",
            "Best AUC for covid_task with 4 prompts: 0.6238\n",
            "Results saved to results/zs_medclip_finetune/ori/medclip/classification_results.txt\n"
          ]
        },
        {
          "output_type": "display_data",
          "data": {
            "text/plain": [
              "<Figure size 640x480 with 0 Axes>"
            ]
          },
          "metadata": {}
        }
      ],
      "source": [
        "%run MedCLIP-pediatric/scripts/zs_medclip_finetune.py"
      ]
    },
    {
      "cell_type": "code",
      "execution_count": null,
      "metadata": {
        "id": "aec9YhFzfP-6",
        "colab": {
          "base_uri": "https://localhost:8080/"
        },
        "outputId": "69d7287c-9d95-4f69-f800-da6d87701af0"
      },
      "outputs": [
        {
          "output_type": "stream",
          "name": "stdout",
          "text": [
            "  adding: results/ (stored 0%)\n",
            "  adding: results/visualization/ (stored 0%)\n",
            "  adding: results/visualization/t_pretrained/ (stored 0%)\n",
            "  adding: results/visualization/t_pretrained/ori/ (stored 0%)\n",
            "  adding: results/visualization/t_pretrained/ori/medclip/ (stored 0%)\n",
            "  adding: results/visualization/t_pretrained/ori/medclip/images/ (stored 0%)\n",
            "  adding: results/visualization/t_pretrained/ori/medclip/images/prediction_images.pdf (deflated 1%)\n",
            "  adding: results/visualization/t_pretrained/ori/medclip/images/cxr_images.pdf (deflated 1%)\n",
            "  adding: results/visualization/t_pretrained/ori/clip/ (stored 0%)\n",
            "  adding: results/visualization/t_pretrained/ori/clip/images/ (stored 0%)\n",
            "  adding: results/visualization/t_pretrained/ori/clip/images/prediction_images.pdf (deflated 1%)\n",
            "  adding: results/visualization/t_pretrained/ori/clip/images/cxr_images.pdf (deflated 1%)\n",
            "  adding: results/visualization/t_pretrained/ucsd/ (stored 0%)\n",
            "  adding: results/visualization/t_pretrained/ucsd/medclip/ (stored 0%)\n",
            "  adding: results/visualization/t_pretrained/ucsd/medclip/images/ (stored 0%)\n",
            "  adding: results/visualization/t_pretrained/ucsd/medclip/images/prediction_images.pdf (deflated 1%)\n",
            "  adding: results/visualization/t_pretrained/ucsd/medclip/images/cxr_images.pdf (deflated 1%)\n",
            "  adding: results/visualization/t_pretrained/ucsd/clip/ (stored 0%)\n",
            "  adding: results/visualization/t_pretrained/ucsd/clip/images/ (stored 0%)\n",
            "  adding: results/visualization/t_pretrained/ucsd/clip/images/prediction_images.pdf (deflated 1%)\n",
            "  adding: results/visualization/t_pretrained/ucsd/clip/images/cxr_images.pdf (deflated 1%)\n",
            "  adding: results/visualization/zero_shot_finetune/ (stored 0%)\n",
            "  adding: results/visualization/zero_shot_finetune/ori/ (stored 0%)\n",
            "  adding: results/visualization/zero_shot_finetune/ori/medclip/ (stored 0%)\n",
            "  adding: results/visualization/zero_shot_finetune/ori/medclip/images/ (stored 0%)\n",
            "  adding: results/visualization/zero_shot_finetune/ori/medclip/images/cxr_images.pdf (deflated 1%)\n",
            "  adding: results/visualization/zero_shot_finetune/ori/clip/ (stored 0%)\n",
            "  adding: results/visualization/zero_shot_finetune/ori/clip/images/ (stored 0%)\n",
            "  adding: results/visualization/zero_shot_finetune/ori/clip/images/cxr_images.pdf (deflated 1%)\n",
            "  adding: results/visualization/zero_shot_finetune/ucsd/ (stored 0%)\n",
            "  adding: results/visualization/zero_shot_finetune/ucsd/medclip/ (stored 0%)\n",
            "  adding: results/visualization/zero_shot_finetune/ucsd/medclip/images/ (stored 0%)\n",
            "  adding: results/visualization/zero_shot_finetune/ucsd/medclip/images/cxr_images.pdf (deflated 1%)\n",
            "  adding: results/visualization/zero_shot_finetune/ucsd/clip/ (stored 0%)\n",
            "  adding: results/visualization/zero_shot_finetune/ucsd/clip/images/ (stored 0%)\n",
            "  adding: results/visualization/zero_shot_finetune/ucsd/clip/images/cxr_images.pdf (deflated 1%)\n",
            "  adding: results/visualization/zs_clip_finetune/ (stored 0%)\n",
            "  adding: results/visualization/zs_clip_finetune/ori/ (stored 0%)\n",
            "  adding: results/visualization/zs_clip_finetune/ori/clip/ (stored 0%)\n",
            "  adding: results/visualization/zs_clip_finetune/ori/clip/images/ (stored 0%)\n",
            "  adding: results/visualization/zs_clip_finetune/ori/clip/images/prediction_images.pdf (deflated 1%)\n",
            "  adding: results/visualization/zs_clip_finetune/ucsd/ (stored 0%)\n",
            "  adding: results/visualization/zs_clip_finetune/ucsd/clip/ (stored 0%)\n",
            "  adding: results/visualization/zs_clip_finetune/ucsd/clip/images/ (stored 0%)\n",
            "  adding: results/visualization/zs_clip_finetune/ucsd/clip/images/prediction_images.pdf (deflated 1%)\n",
            "  adding: results/visualization/zs_clip_base/ (stored 0%)\n",
            "  adding: results/visualization/zs_clip_base/ori/ (stored 0%)\n",
            "  adding: results/visualization/zs_clip_base/ori/clip/ (stored 0%)\n",
            "  adding: results/visualization/zs_clip_base/ori/clip/images/ (stored 0%)\n",
            "  adding: results/visualization/zs_clip_base/ori/clip/images/prediction_images.pdf (deflated 1%)\n",
            "  adding: results/visualization/zs_clip_base/ori/clip/images/cxr_images.pdf (deflated 1%)\n",
            "  adding: results/visualization/zs_clip_base/ucsd/ (stored 0%)\n",
            "  adding: results/visualization/zs_clip_base/ucsd/clip/ (stored 0%)\n",
            "  adding: results/visualization/zs_clip_base/ucsd/clip/images/ (stored 0%)\n",
            "  adding: results/visualization/zs_clip_base/ucsd/clip/images/prediction_images.pdf (deflated 1%)\n",
            "  adding: results/visualization/zs_clip_base/ucsd/clip/images/cxr_images.pdf (deflated 1%)\n",
            "  adding: results/visualization/zs_medclip_base/ (stored 0%)\n",
            "  adding: results/visualization/zs_medclip_base/ori/ (stored 0%)\n",
            "  adding: results/visualization/zs_medclip_base/ori/medclip/ (stored 0%)\n",
            "  adding: results/visualization/zs_medclip_base/ori/medclip/images/ (stored 0%)\n",
            "  adding: results/visualization/zs_medclip_base/ori/medclip/images/prediction_images.pdf (deflated 1%)\n",
            "  adding: results/visualization/zs_medclip_base/ori/medclip/images/cxr_images.pdf (deflated 1%)\n",
            "  adding: results/visualization/zs_medclip_base/ucsd/ (stored 0%)\n",
            "  adding: results/visualization/zs_medclip_base/ucsd/medclip/ (stored 0%)\n",
            "  adding: results/visualization/zs_medclip_base/ucsd/medclip/images/ (stored 0%)\n",
            "  adding: results/visualization/zs_medclip_base/ucsd/medclip/images/prediction_images.pdf (deflated 1%)\n",
            "  adding: results/visualization/zs_medclip_base/ucsd/medclip/images/cxr_images.pdf (deflated 1%)\n",
            "  adding: results/visualization/zs_medclip_finetune/ (stored 0%)\n",
            "  adding: results/visualization/zs_medclip_finetune/ori/ (stored 0%)\n",
            "  adding: results/visualization/zs_medclip_finetune/ori/medclip/ (stored 0%)\n",
            "  adding: results/visualization/zs_medclip_finetune/ori/medclip/images/ (stored 0%)\n",
            "  adding: results/visualization/zs_medclip_finetune/ori/medclip/images/prediction_images.pdf (deflated 1%)\n",
            "  adding: results/visualization/zs_medclip_finetune/ucsd/ (stored 0%)\n",
            "  adding: results/visualization/zs_medclip_finetune/ucsd/medclip/ (stored 0%)\n",
            "  adding: results/visualization/zs_medclip_finetune/ucsd/medclip/images/ (stored 0%)\n",
            "  adding: results/visualization/zs_medclip_finetune/ucsd/medclip/images/prediction_images.pdf (deflated 1%)\n",
            "  adding: results/t_pretrained/ (stored 0%)\n",
            "  adding: results/t_pretrained/ori/ (stored 0%)\n",
            "  adding: results/t_pretrained/ori/medclip/ (stored 0%)\n",
            "  adding: results/t_pretrained/ori/medclip/classification_results.txt (deflated 57%)\n",
            "  adding: results/t_pretrained/ori/medclip/metrics_accuracy_epoch.png (deflated 7%)\n",
            "  adding: results/t_pretrained/ori/medclip/metrics_auc_epoch.png (deflated 7%)\n",
            "  adding: results/t_pretrained/ori/medclip/metrics_loss_epoch.png (deflated 8%)\n",
            "  adding: results/t_pretrained/ori/medclip/metrics_recall_epoch.png (deflated 7%)\n",
            "  adding: results/t_pretrained/ori/medclip/.ipynb_checkpoints/ (stored 0%)\n",
            "  adding: results/t_pretrained/ori/medclip/metrics_precision_epoch.png (deflated 5%)\n",
            "  adding: results/t_pretrained/ori/clip/ (stored 0%)\n",
            "  adding: results/t_pretrained/ori/clip/classification_results.txt (deflated 54%)\n",
            "  adding: results/t_pretrained/ori/clip/metrics_accuracy_epoch.png (deflated 6%)\n",
            "  adding: results/t_pretrained/ori/clip/metrics_auc_epoch.png (deflated 3%)\n",
            "  adding: results/t_pretrained/ori/clip/metrics_loss_epoch.png (deflated 7%)\n",
            "  adding: results/t_pretrained/ori/clip/metrics_recall_epoch.png (deflated 5%)\n",
            "  adding: results/t_pretrained/ori/clip/.ipynb_checkpoints/ (stored 0%)\n",
            "  adding: results/t_pretrained/ori/clip/metrics_precision_epoch.png (deflated 5%)\n",
            "  adding: results/t_pretrained/ucsd/ (stored 0%)\n",
            "  adding: results/t_pretrained/ucsd/medclip/ (stored 0%)\n",
            "  adding: results/t_pretrained/ucsd/medclip/classification_results.txt (deflated 56%)\n",
            "  adding: results/t_pretrained/ucsd/medclip/metrics_accuracy_epoch.png (deflated 9%)\n",
            "  adding: results/t_pretrained/ucsd/medclip/metrics_auc_epoch.png (deflated 9%)\n",
            "  adding: results/t_pretrained/ucsd/medclip/metrics_loss_epoch.png (deflated 8%)\n",
            "  adding: results/t_pretrained/ucsd/medclip/metrics_recall_epoch.png (deflated 8%)\n",
            "  adding: results/t_pretrained/ucsd/medclip/.ipynb_checkpoints/ (stored 0%)\n",
            "  adding: results/t_pretrained/ucsd/medclip/metrics_precision_epoch.png (deflated 8%)\n",
            "  adding: results/t_pretrained/ucsd/clip/ (stored 0%)\n",
            "  adding: results/t_pretrained/ucsd/clip/classification_results.txt (deflated 56%)\n",
            "  adding: results/t_pretrained/ucsd/clip/metrics_accuracy_epoch.png (deflated 9%)\n",
            "  adding: results/t_pretrained/ucsd/clip/metrics_auc_epoch.png (deflated 5%)\n",
            "  adding: results/t_pretrained/ucsd/clip/metrics_loss_epoch.png (deflated 12%)\n",
            "  adding: results/t_pretrained/ucsd/clip/metrics_recall_epoch.png (deflated 8%)\n",
            "  adding: results/t_pretrained/ucsd/clip/.ipynb_checkpoints/ (stored 0%)\n",
            "  adding: results/t_pretrained/ucsd/clip/metrics_precision_epoch.png (deflated 6%)\n",
            "  adding: results/zs_clip_finetune/ (stored 0%)\n",
            "  adding: results/zs_clip_finetune/ori/ (stored 0%)\n",
            "  adding: results/zs_clip_finetune/ori/clip/ (stored 0%)\n",
            "  adding: results/zs_clip_finetune/ori/clip/classification_results.txt (deflated 54%)\n",
            "  adding: results/zs_clip_finetune/ucsd/ (stored 0%)\n",
            "  adding: results/zs_clip_finetune/ucsd/clip/ (stored 0%)\n",
            "  adding: results/zs_clip_finetune/ucsd/clip/classification_results.txt (deflated 52%)\n",
            "  adding: results/zs_clip_base/ (stored 0%)\n",
            "  adding: results/zs_clip_base/ori/ (stored 0%)\n",
            "  adding: results/zs_clip_base/ori/clip/ (stored 0%)\n",
            "  adding: results/zs_clip_base/ori/clip/classification_results.txt (deflated 55%)\n",
            "  adding: results/zs_clip_base/ucsd/ (stored 0%)\n",
            "  adding: results/zs_clip_base/ucsd/clip/ (stored 0%)\n",
            "  adding: results/zs_clip_base/ucsd/clip/classification_results.txt (deflated 53%)\n",
            "  adding: results/zs_medclip_base/ (stored 0%)\n",
            "  adding: results/zs_medclip_base/ori/ (stored 0%)\n",
            "  adding: results/zs_medclip_base/ori/medclip/ (stored 0%)\n",
            "  adding: results/zs_medclip_base/ori/medclip/classification_results.txt (deflated 53%)\n",
            "  adding: results/zs_medclip_base/ucsd/ (stored 0%)\n",
            "  adding: results/zs_medclip_base/ucsd/medclip/ (stored 0%)\n",
            "  adding: results/zs_medclip_base/ucsd/medclip/classification_results.txt (deflated 51%)\n",
            "  adding: results/zs_medclip_finetune/ (stored 0%)\n",
            "  adding: results/zs_medclip_finetune/ori/ (stored 0%)\n",
            "  adding: results/zs_medclip_finetune/ori/medclip/ (stored 0%)\n",
            "  adding: results/zs_medclip_finetune/ori/medclip/classification_results.txt (deflated 53%)\n",
            "  adding: results/zs_medclip_finetune/ucsd/ (stored 0%)\n",
            "  adding: results/zs_medclip_finetune/ucsd/medclip/ (stored 0%)\n",
            "  adding: results/zs_medclip_finetune/ucsd/medclip/classification_results.txt (deflated 54%)\n"
          ]
        }
      ],
      "source": [
        "!zip -r results.zip results"
      ]
    },
    {
      "cell_type": "code",
      "execution_count": null,
      "metadata": {
        "id": "sOJO1XZafLl8"
      },
      "outputs": [],
      "source": [
        "# import torch\n",
        "# torch.cuda.empty_cache()\n",
        "# !nvidia-smi"
      ]
    }
  ],
  "metadata": {
    "accelerator": "GPU",
    "colab": {
      "gpuType": "A100",
      "machine_shape": "hm",
      "provenance": []
    },
    "kernelspec": {
      "display_name": "Python 3",
      "name": "python3"
    },
    "language_info": {
      "name": "python"
    },
    "widgets": {
      "application/vnd.jupyter.widget-state+json": {
        "c0dbe47fc2614597a98e93c8528e4f5a": {
          "model_module": "@jupyter-widgets/controls",
          "model_name": "HBoxModel",
          "model_module_version": "1.5.0",
          "state": {
            "_dom_classes": [],
            "_model_module": "@jupyter-widgets/controls",
            "_model_module_version": "1.5.0",
            "_model_name": "HBoxModel",
            "_view_count": null,
            "_view_module": "@jupyter-widgets/controls",
            "_view_module_version": "1.5.0",
            "_view_name": "HBoxView",
            "box_style": "",
            "children": [
              "IPY_MODEL_6cd98e4373834c3fbb7986f5295bb818",
              "IPY_MODEL_3ac6030a01c64ad298e4c1c03417777f",
              "IPY_MODEL_06cadaa66644407db84737f883a3d955"
            ],
            "layout": "IPY_MODEL_7ea1a8d7c54d42eea0b0ed5f1295125f"
          }
        },
        "6cd98e4373834c3fbb7986f5295bb818": {
          "model_module": "@jupyter-widgets/controls",
          "model_name": "HTMLModel",
          "model_module_version": "1.5.0",
          "state": {
            "_dom_classes": [],
            "_model_module": "@jupyter-widgets/controls",
            "_model_module_version": "1.5.0",
            "_model_name": "HTMLModel",
            "_view_count": null,
            "_view_module": "@jupyter-widgets/controls",
            "_view_module_version": "1.5.0",
            "_view_name": "HTMLView",
            "description": "",
            "description_tooltip": null,
            "layout": "IPY_MODEL_4e8c4b5783014795b390a7baf89aa43c",
            "placeholder": "​",
            "style": "IPY_MODEL_605057b6d2fa40829ba336a823a3b4bb",
            "value": "config.json: 100%"
          }
        },
        "3ac6030a01c64ad298e4c1c03417777f": {
          "model_module": "@jupyter-widgets/controls",
          "model_name": "FloatProgressModel",
          "model_module_version": "1.5.0",
          "state": {
            "_dom_classes": [],
            "_model_module": "@jupyter-widgets/controls",
            "_model_module_version": "1.5.0",
            "_model_name": "FloatProgressModel",
            "_view_count": null,
            "_view_module": "@jupyter-widgets/controls",
            "_view_module_version": "1.5.0",
            "_view_name": "ProgressView",
            "bar_style": "success",
            "description": "",
            "description_tooltip": null,
            "layout": "IPY_MODEL_8177d6dde2144daf9e0071672bb0372d",
            "max": 385,
            "min": 0,
            "orientation": "horizontal",
            "style": "IPY_MODEL_6e2579fa341446b081bbe076d8c1ed54",
            "value": 385
          }
        },
        "06cadaa66644407db84737f883a3d955": {
          "model_module": "@jupyter-widgets/controls",
          "model_name": "HTMLModel",
          "model_module_version": "1.5.0",
          "state": {
            "_dom_classes": [],
            "_model_module": "@jupyter-widgets/controls",
            "_model_module_version": "1.5.0",
            "_model_name": "HTMLModel",
            "_view_count": null,
            "_view_module": "@jupyter-widgets/controls",
            "_view_module_version": "1.5.0",
            "_view_name": "HTMLView",
            "description": "",
            "description_tooltip": null,
            "layout": "IPY_MODEL_c2210afe9be84155b9b8d1391500873f",
            "placeholder": "​",
            "style": "IPY_MODEL_1565c939a7fd4c519e1151649d3f6451",
            "value": " 385/385 [00:00&lt;00:00, 33.4kB/s]"
          }
        },
        "7ea1a8d7c54d42eea0b0ed5f1295125f": {
          "model_module": "@jupyter-widgets/base",
          "model_name": "LayoutModel",
          "model_module_version": "1.2.0",
          "state": {
            "_model_module": "@jupyter-widgets/base",
            "_model_module_version": "1.2.0",
            "_model_name": "LayoutModel",
            "_view_count": null,
            "_view_module": "@jupyter-widgets/base",
            "_view_module_version": "1.2.0",
            "_view_name": "LayoutView",
            "align_content": null,
            "align_items": null,
            "align_self": null,
            "border": null,
            "bottom": null,
            "display": null,
            "flex": null,
            "flex_flow": null,
            "grid_area": null,
            "grid_auto_columns": null,
            "grid_auto_flow": null,
            "grid_auto_rows": null,
            "grid_column": null,
            "grid_gap": null,
            "grid_row": null,
            "grid_template_areas": null,
            "grid_template_columns": null,
            "grid_template_rows": null,
            "height": null,
            "justify_content": null,
            "justify_items": null,
            "left": null,
            "margin": null,
            "max_height": null,
            "max_width": null,
            "min_height": null,
            "min_width": null,
            "object_fit": null,
            "object_position": null,
            "order": null,
            "overflow": null,
            "overflow_x": null,
            "overflow_y": null,
            "padding": null,
            "right": null,
            "top": null,
            "visibility": null,
            "width": null
          }
        },
        "4e8c4b5783014795b390a7baf89aa43c": {
          "model_module": "@jupyter-widgets/base",
          "model_name": "LayoutModel",
          "model_module_version": "1.2.0",
          "state": {
            "_model_module": "@jupyter-widgets/base",
            "_model_module_version": "1.2.0",
            "_model_name": "LayoutModel",
            "_view_count": null,
            "_view_module": "@jupyter-widgets/base",
            "_view_module_version": "1.2.0",
            "_view_name": "LayoutView",
            "align_content": null,
            "align_items": null,
            "align_self": null,
            "border": null,
            "bottom": null,
            "display": null,
            "flex": null,
            "flex_flow": null,
            "grid_area": null,
            "grid_auto_columns": null,
            "grid_auto_flow": null,
            "grid_auto_rows": null,
            "grid_column": null,
            "grid_gap": null,
            "grid_row": null,
            "grid_template_areas": null,
            "grid_template_columns": null,
            "grid_template_rows": null,
            "height": null,
            "justify_content": null,
            "justify_items": null,
            "left": null,
            "margin": null,
            "max_height": null,
            "max_width": null,
            "min_height": null,
            "min_width": null,
            "object_fit": null,
            "object_position": null,
            "order": null,
            "overflow": null,
            "overflow_x": null,
            "overflow_y": null,
            "padding": null,
            "right": null,
            "top": null,
            "visibility": null,
            "width": null
          }
        },
        "605057b6d2fa40829ba336a823a3b4bb": {
          "model_module": "@jupyter-widgets/controls",
          "model_name": "DescriptionStyleModel",
          "model_module_version": "1.5.0",
          "state": {
            "_model_module": "@jupyter-widgets/controls",
            "_model_module_version": "1.5.0",
            "_model_name": "DescriptionStyleModel",
            "_view_count": null,
            "_view_module": "@jupyter-widgets/base",
            "_view_module_version": "1.2.0",
            "_view_name": "StyleView",
            "description_width": ""
          }
        },
        "8177d6dde2144daf9e0071672bb0372d": {
          "model_module": "@jupyter-widgets/base",
          "model_name": "LayoutModel",
          "model_module_version": "1.2.0",
          "state": {
            "_model_module": "@jupyter-widgets/base",
            "_model_module_version": "1.2.0",
            "_model_name": "LayoutModel",
            "_view_count": null,
            "_view_module": "@jupyter-widgets/base",
            "_view_module_version": "1.2.0",
            "_view_name": "LayoutView",
            "align_content": null,
            "align_items": null,
            "align_self": null,
            "border": null,
            "bottom": null,
            "display": null,
            "flex": null,
            "flex_flow": null,
            "grid_area": null,
            "grid_auto_columns": null,
            "grid_auto_flow": null,
            "grid_auto_rows": null,
            "grid_column": null,
            "grid_gap": null,
            "grid_row": null,
            "grid_template_areas": null,
            "grid_template_columns": null,
            "grid_template_rows": null,
            "height": null,
            "justify_content": null,
            "justify_items": null,
            "left": null,
            "margin": null,
            "max_height": null,
            "max_width": null,
            "min_height": null,
            "min_width": null,
            "object_fit": null,
            "object_position": null,
            "order": null,
            "overflow": null,
            "overflow_x": null,
            "overflow_y": null,
            "padding": null,
            "right": null,
            "top": null,
            "visibility": null,
            "width": null
          }
        },
        "6e2579fa341446b081bbe076d8c1ed54": {
          "model_module": "@jupyter-widgets/controls",
          "model_name": "ProgressStyleModel",
          "model_module_version": "1.5.0",
          "state": {
            "_model_module": "@jupyter-widgets/controls",
            "_model_module_version": "1.5.0",
            "_model_name": "ProgressStyleModel",
            "_view_count": null,
            "_view_module": "@jupyter-widgets/base",
            "_view_module_version": "1.2.0",
            "_view_name": "StyleView",
            "bar_color": null,
            "description_width": ""
          }
        },
        "c2210afe9be84155b9b8d1391500873f": {
          "model_module": "@jupyter-widgets/base",
          "model_name": "LayoutModel",
          "model_module_version": "1.2.0",
          "state": {
            "_model_module": "@jupyter-widgets/base",
            "_model_module_version": "1.2.0",
            "_model_name": "LayoutModel",
            "_view_count": null,
            "_view_module": "@jupyter-widgets/base",
            "_view_module_version": "1.2.0",
            "_view_name": "LayoutView",
            "align_content": null,
            "align_items": null,
            "align_self": null,
            "border": null,
            "bottom": null,
            "display": null,
            "flex": null,
            "flex_flow": null,
            "grid_area": null,
            "grid_auto_columns": null,
            "grid_auto_flow": null,
            "grid_auto_rows": null,
            "grid_column": null,
            "grid_gap": null,
            "grid_row": null,
            "grid_template_areas": null,
            "grid_template_columns": null,
            "grid_template_rows": null,
            "height": null,
            "justify_content": null,
            "justify_items": null,
            "left": null,
            "margin": null,
            "max_height": null,
            "max_width": null,
            "min_height": null,
            "min_width": null,
            "object_fit": null,
            "object_position": null,
            "order": null,
            "overflow": null,
            "overflow_x": null,
            "overflow_y": null,
            "padding": null,
            "right": null,
            "top": null,
            "visibility": null,
            "width": null
          }
        },
        "1565c939a7fd4c519e1151649d3f6451": {
          "model_module": "@jupyter-widgets/controls",
          "model_name": "DescriptionStyleModel",
          "model_module_version": "1.5.0",
          "state": {
            "_model_module": "@jupyter-widgets/controls",
            "_model_module_version": "1.5.0",
            "_model_name": "DescriptionStyleModel",
            "_view_count": null,
            "_view_module": "@jupyter-widgets/base",
            "_view_module_version": "1.2.0",
            "_view_name": "StyleView",
            "description_width": ""
          }
        },
        "8de26dd5dfbe4e678466f5bd740b8fd5": {
          "model_module": "@jupyter-widgets/controls",
          "model_name": "HBoxModel",
          "model_module_version": "1.5.0",
          "state": {
            "_dom_classes": [],
            "_model_module": "@jupyter-widgets/controls",
            "_model_module_version": "1.5.0",
            "_model_name": "HBoxModel",
            "_view_count": null,
            "_view_module": "@jupyter-widgets/controls",
            "_view_module_version": "1.5.0",
            "_view_name": "HBoxView",
            "box_style": "",
            "children": [
              "IPY_MODEL_ceb30ca129f74ef09e7821eb1ed6f8a1",
              "IPY_MODEL_e94fd83d89c347deb53b77925224a2a1",
              "IPY_MODEL_d64c7ded2c3f4448bfe4feae7521b4f0"
            ],
            "layout": "IPY_MODEL_5d7acbc5ac0b49e2bb5676117da33469"
          }
        },
        "ceb30ca129f74ef09e7821eb1ed6f8a1": {
          "model_module": "@jupyter-widgets/controls",
          "model_name": "HTMLModel",
          "model_module_version": "1.5.0",
          "state": {
            "_dom_classes": [],
            "_model_module": "@jupyter-widgets/controls",
            "_model_module_version": "1.5.0",
            "_model_name": "HTMLModel",
            "_view_count": null,
            "_view_module": "@jupyter-widgets/controls",
            "_view_module_version": "1.5.0",
            "_view_name": "HTMLView",
            "description": "",
            "description_tooltip": null,
            "layout": "IPY_MODEL_98559eaa32434d4c95be14c72b39a81c",
            "placeholder": "​",
            "style": "IPY_MODEL_b886afe68fcb4e6d8af7f490198e0273",
            "value": "vocab.txt: 100%"
          }
        },
        "e94fd83d89c347deb53b77925224a2a1": {
          "model_module": "@jupyter-widgets/controls",
          "model_name": "FloatProgressModel",
          "model_module_version": "1.5.0",
          "state": {
            "_dom_classes": [],
            "_model_module": "@jupyter-widgets/controls",
            "_model_module_version": "1.5.0",
            "_model_name": "FloatProgressModel",
            "_view_count": null,
            "_view_module": "@jupyter-widgets/controls",
            "_view_module_version": "1.5.0",
            "_view_name": "ProgressView",
            "bar_style": "success",
            "description": "",
            "description_tooltip": null,
            "layout": "IPY_MODEL_b2ede4473768465a988978dbd4c4a8c8",
            "max": 213450,
            "min": 0,
            "orientation": "horizontal",
            "style": "IPY_MODEL_b623ebb0b326485bb9d00258031fc5e9",
            "value": 213450
          }
        },
        "d64c7ded2c3f4448bfe4feae7521b4f0": {
          "model_module": "@jupyter-widgets/controls",
          "model_name": "HTMLModel",
          "model_module_version": "1.5.0",
          "state": {
            "_dom_classes": [],
            "_model_module": "@jupyter-widgets/controls",
            "_model_module_version": "1.5.0",
            "_model_name": "HTMLModel",
            "_view_count": null,
            "_view_module": "@jupyter-widgets/controls",
            "_view_module_version": "1.5.0",
            "_view_name": "HTMLView",
            "description": "",
            "description_tooltip": null,
            "layout": "IPY_MODEL_b7726758ac354ab8881646f8501e29c0",
            "placeholder": "​",
            "style": "IPY_MODEL_e6526cbcd76e4529a9a077e7c5e867fe",
            "value": " 213k/213k [00:00&lt;00:00, 446kB/s]"
          }
        },
        "5d7acbc5ac0b49e2bb5676117da33469": {
          "model_module": "@jupyter-widgets/base",
          "model_name": "LayoutModel",
          "model_module_version": "1.2.0",
          "state": {
            "_model_module": "@jupyter-widgets/base",
            "_model_module_version": "1.2.0",
            "_model_name": "LayoutModel",
            "_view_count": null,
            "_view_module": "@jupyter-widgets/base",
            "_view_module_version": "1.2.0",
            "_view_name": "LayoutView",
            "align_content": null,
            "align_items": null,
            "align_self": null,
            "border": null,
            "bottom": null,
            "display": null,
            "flex": null,
            "flex_flow": null,
            "grid_area": null,
            "grid_auto_columns": null,
            "grid_auto_flow": null,
            "grid_auto_rows": null,
            "grid_column": null,
            "grid_gap": null,
            "grid_row": null,
            "grid_template_areas": null,
            "grid_template_columns": null,
            "grid_template_rows": null,
            "height": null,
            "justify_content": null,
            "justify_items": null,
            "left": null,
            "margin": null,
            "max_height": null,
            "max_width": null,
            "min_height": null,
            "min_width": null,
            "object_fit": null,
            "object_position": null,
            "order": null,
            "overflow": null,
            "overflow_x": null,
            "overflow_y": null,
            "padding": null,
            "right": null,
            "top": null,
            "visibility": null,
            "width": null
          }
        },
        "98559eaa32434d4c95be14c72b39a81c": {
          "model_module": "@jupyter-widgets/base",
          "model_name": "LayoutModel",
          "model_module_version": "1.2.0",
          "state": {
            "_model_module": "@jupyter-widgets/base",
            "_model_module_version": "1.2.0",
            "_model_name": "LayoutModel",
            "_view_count": null,
            "_view_module": "@jupyter-widgets/base",
            "_view_module_version": "1.2.0",
            "_view_name": "LayoutView",
            "align_content": null,
            "align_items": null,
            "align_self": null,
            "border": null,
            "bottom": null,
            "display": null,
            "flex": null,
            "flex_flow": null,
            "grid_area": null,
            "grid_auto_columns": null,
            "grid_auto_flow": null,
            "grid_auto_rows": null,
            "grid_column": null,
            "grid_gap": null,
            "grid_row": null,
            "grid_template_areas": null,
            "grid_template_columns": null,
            "grid_template_rows": null,
            "height": null,
            "justify_content": null,
            "justify_items": null,
            "left": null,
            "margin": null,
            "max_height": null,
            "max_width": null,
            "min_height": null,
            "min_width": null,
            "object_fit": null,
            "object_position": null,
            "order": null,
            "overflow": null,
            "overflow_x": null,
            "overflow_y": null,
            "padding": null,
            "right": null,
            "top": null,
            "visibility": null,
            "width": null
          }
        },
        "b886afe68fcb4e6d8af7f490198e0273": {
          "model_module": "@jupyter-widgets/controls",
          "model_name": "DescriptionStyleModel",
          "model_module_version": "1.5.0",
          "state": {
            "_model_module": "@jupyter-widgets/controls",
            "_model_module_version": "1.5.0",
            "_model_name": "DescriptionStyleModel",
            "_view_count": null,
            "_view_module": "@jupyter-widgets/base",
            "_view_module_version": "1.2.0",
            "_view_name": "StyleView",
            "description_width": ""
          }
        },
        "b2ede4473768465a988978dbd4c4a8c8": {
          "model_module": "@jupyter-widgets/base",
          "model_name": "LayoutModel",
          "model_module_version": "1.2.0",
          "state": {
            "_model_module": "@jupyter-widgets/base",
            "_model_module_version": "1.2.0",
            "_model_name": "LayoutModel",
            "_view_count": null,
            "_view_module": "@jupyter-widgets/base",
            "_view_module_version": "1.2.0",
            "_view_name": "LayoutView",
            "align_content": null,
            "align_items": null,
            "align_self": null,
            "border": null,
            "bottom": null,
            "display": null,
            "flex": null,
            "flex_flow": null,
            "grid_area": null,
            "grid_auto_columns": null,
            "grid_auto_flow": null,
            "grid_auto_rows": null,
            "grid_column": null,
            "grid_gap": null,
            "grid_row": null,
            "grid_template_areas": null,
            "grid_template_columns": null,
            "grid_template_rows": null,
            "height": null,
            "justify_content": null,
            "justify_items": null,
            "left": null,
            "margin": null,
            "max_height": null,
            "max_width": null,
            "min_height": null,
            "min_width": null,
            "object_fit": null,
            "object_position": null,
            "order": null,
            "overflow": null,
            "overflow_x": null,
            "overflow_y": null,
            "padding": null,
            "right": null,
            "top": null,
            "visibility": null,
            "width": null
          }
        },
        "b623ebb0b326485bb9d00258031fc5e9": {
          "model_module": "@jupyter-widgets/controls",
          "model_name": "ProgressStyleModel",
          "model_module_version": "1.5.0",
          "state": {
            "_model_module": "@jupyter-widgets/controls",
            "_model_module_version": "1.5.0",
            "_model_name": "ProgressStyleModel",
            "_view_count": null,
            "_view_module": "@jupyter-widgets/base",
            "_view_module_version": "1.2.0",
            "_view_name": "StyleView",
            "bar_color": null,
            "description_width": ""
          }
        },
        "b7726758ac354ab8881646f8501e29c0": {
          "model_module": "@jupyter-widgets/base",
          "model_name": "LayoutModel",
          "model_module_version": "1.2.0",
          "state": {
            "_model_module": "@jupyter-widgets/base",
            "_model_module_version": "1.2.0",
            "_model_name": "LayoutModel",
            "_view_count": null,
            "_view_module": "@jupyter-widgets/base",
            "_view_module_version": "1.2.0",
            "_view_name": "LayoutView",
            "align_content": null,
            "align_items": null,
            "align_self": null,
            "border": null,
            "bottom": null,
            "display": null,
            "flex": null,
            "flex_flow": null,
            "grid_area": null,
            "grid_auto_columns": null,
            "grid_auto_flow": null,
            "grid_auto_rows": null,
            "grid_column": null,
            "grid_gap": null,
            "grid_row": null,
            "grid_template_areas": null,
            "grid_template_columns": null,
            "grid_template_rows": null,
            "height": null,
            "justify_content": null,
            "justify_items": null,
            "left": null,
            "margin": null,
            "max_height": null,
            "max_width": null,
            "min_height": null,
            "min_width": null,
            "object_fit": null,
            "object_position": null,
            "order": null,
            "overflow": null,
            "overflow_x": null,
            "overflow_y": null,
            "padding": null,
            "right": null,
            "top": null,
            "visibility": null,
            "width": null
          }
        },
        "e6526cbcd76e4529a9a077e7c5e867fe": {
          "model_module": "@jupyter-widgets/controls",
          "model_name": "DescriptionStyleModel",
          "model_module_version": "1.5.0",
          "state": {
            "_model_module": "@jupyter-widgets/controls",
            "_model_module_version": "1.5.0",
            "_model_name": "DescriptionStyleModel",
            "_view_count": null,
            "_view_module": "@jupyter-widgets/base",
            "_view_module_version": "1.2.0",
            "_view_name": "StyleView",
            "description_width": ""
          }
        },
        "bbeb5956dd2c4d98bbdf5de023dfdea6": {
          "model_module": "@jupyter-widgets/controls",
          "model_name": "HBoxModel",
          "model_module_version": "1.5.0",
          "state": {
            "_dom_classes": [],
            "_model_module": "@jupyter-widgets/controls",
            "_model_module_version": "1.5.0",
            "_model_name": "HBoxModel",
            "_view_count": null,
            "_view_module": "@jupyter-widgets/controls",
            "_view_module_version": "1.5.0",
            "_view_name": "HBoxView",
            "box_style": "",
            "children": [
              "IPY_MODEL_130ae70b135f447a88ade28e5b51a2c7",
              "IPY_MODEL_2ddc7c901bf6428894c6faad5a8d6c52",
              "IPY_MODEL_515196446597438197fbb98cac39c87c"
            ],
            "layout": "IPY_MODEL_4f4a3f67b9e54979af9f121a8e872e19"
          }
        },
        "130ae70b135f447a88ade28e5b51a2c7": {
          "model_module": "@jupyter-widgets/controls",
          "model_name": "HTMLModel",
          "model_module_version": "1.5.0",
          "state": {
            "_dom_classes": [],
            "_model_module": "@jupyter-widgets/controls",
            "_model_module_version": "1.5.0",
            "_model_name": "HTMLModel",
            "_view_count": null,
            "_view_module": "@jupyter-widgets/controls",
            "_view_module_version": "1.5.0",
            "_view_name": "HTMLView",
            "description": "",
            "description_tooltip": null,
            "layout": "IPY_MODEL_82bda45d6db84afd94aa19a3b0a3f821",
            "placeholder": "​",
            "style": "IPY_MODEL_0c6c43908eb944d993afc149e7bc9471",
            "value": "config.json: 100%"
          }
        },
        "2ddc7c901bf6428894c6faad5a8d6c52": {
          "model_module": "@jupyter-widgets/controls",
          "model_name": "FloatProgressModel",
          "model_module_version": "1.5.0",
          "state": {
            "_dom_classes": [],
            "_model_module": "@jupyter-widgets/controls",
            "_model_module_version": "1.5.0",
            "_model_name": "FloatProgressModel",
            "_view_count": null,
            "_view_module": "@jupyter-widgets/controls",
            "_view_module_version": "1.5.0",
            "_view_name": "ProgressView",
            "bar_style": "success",
            "description": "",
            "description_tooltip": null,
            "layout": "IPY_MODEL_bda4be8d3c4d4542a999e3242253fb38",
            "max": 71813,
            "min": 0,
            "orientation": "horizontal",
            "style": "IPY_MODEL_eaabe81db7024c7e86ee21aa64c2a93b",
            "value": 71813
          }
        },
        "515196446597438197fbb98cac39c87c": {
          "model_module": "@jupyter-widgets/controls",
          "model_name": "HTMLModel",
          "model_module_version": "1.5.0",
          "state": {
            "_dom_classes": [],
            "_model_module": "@jupyter-widgets/controls",
            "_model_module_version": "1.5.0",
            "_model_name": "HTMLModel",
            "_view_count": null,
            "_view_module": "@jupyter-widgets/controls",
            "_view_module_version": "1.5.0",
            "_view_name": "HTMLView",
            "description": "",
            "description_tooltip": null,
            "layout": "IPY_MODEL_fe4041a9ece342c5a98ad9c044585042",
            "placeholder": "​",
            "style": "IPY_MODEL_21ecc69a32274d1488cc5d1b06fee7bf",
            "value": " 71.8k/71.8k [00:00&lt;00:00, 5.41MB/s]"
          }
        },
        "4f4a3f67b9e54979af9f121a8e872e19": {
          "model_module": "@jupyter-widgets/base",
          "model_name": "LayoutModel",
          "model_module_version": "1.2.0",
          "state": {
            "_model_module": "@jupyter-widgets/base",
            "_model_module_version": "1.2.0",
            "_model_name": "LayoutModel",
            "_view_count": null,
            "_view_module": "@jupyter-widgets/base",
            "_view_module_version": "1.2.0",
            "_view_name": "LayoutView",
            "align_content": null,
            "align_items": null,
            "align_self": null,
            "border": null,
            "bottom": null,
            "display": null,
            "flex": null,
            "flex_flow": null,
            "grid_area": null,
            "grid_auto_columns": null,
            "grid_auto_flow": null,
            "grid_auto_rows": null,
            "grid_column": null,
            "grid_gap": null,
            "grid_row": null,
            "grid_template_areas": null,
            "grid_template_columns": null,
            "grid_template_rows": null,
            "height": null,
            "justify_content": null,
            "justify_items": null,
            "left": null,
            "margin": null,
            "max_height": null,
            "max_width": null,
            "min_height": null,
            "min_width": null,
            "object_fit": null,
            "object_position": null,
            "order": null,
            "overflow": null,
            "overflow_x": null,
            "overflow_y": null,
            "padding": null,
            "right": null,
            "top": null,
            "visibility": null,
            "width": null
          }
        },
        "82bda45d6db84afd94aa19a3b0a3f821": {
          "model_module": "@jupyter-widgets/base",
          "model_name": "LayoutModel",
          "model_module_version": "1.2.0",
          "state": {
            "_model_module": "@jupyter-widgets/base",
            "_model_module_version": "1.2.0",
            "_model_name": "LayoutModel",
            "_view_count": null,
            "_view_module": "@jupyter-widgets/base",
            "_view_module_version": "1.2.0",
            "_view_name": "LayoutView",
            "align_content": null,
            "align_items": null,
            "align_self": null,
            "border": null,
            "bottom": null,
            "display": null,
            "flex": null,
            "flex_flow": null,
            "grid_area": null,
            "grid_auto_columns": null,
            "grid_auto_flow": null,
            "grid_auto_rows": null,
            "grid_column": null,
            "grid_gap": null,
            "grid_row": null,
            "grid_template_areas": null,
            "grid_template_columns": null,
            "grid_template_rows": null,
            "height": null,
            "justify_content": null,
            "justify_items": null,
            "left": null,
            "margin": null,
            "max_height": null,
            "max_width": null,
            "min_height": null,
            "min_width": null,
            "object_fit": null,
            "object_position": null,
            "order": null,
            "overflow": null,
            "overflow_x": null,
            "overflow_y": null,
            "padding": null,
            "right": null,
            "top": null,
            "visibility": null,
            "width": null
          }
        },
        "0c6c43908eb944d993afc149e7bc9471": {
          "model_module": "@jupyter-widgets/controls",
          "model_name": "DescriptionStyleModel",
          "model_module_version": "1.5.0",
          "state": {
            "_model_module": "@jupyter-widgets/controls",
            "_model_module_version": "1.5.0",
            "_model_name": "DescriptionStyleModel",
            "_view_count": null,
            "_view_module": "@jupyter-widgets/base",
            "_view_module_version": "1.2.0",
            "_view_name": "StyleView",
            "description_width": ""
          }
        },
        "bda4be8d3c4d4542a999e3242253fb38": {
          "model_module": "@jupyter-widgets/base",
          "model_name": "LayoutModel",
          "model_module_version": "1.2.0",
          "state": {
            "_model_module": "@jupyter-widgets/base",
            "_model_module_version": "1.2.0",
            "_model_name": "LayoutModel",
            "_view_count": null,
            "_view_module": "@jupyter-widgets/base",
            "_view_module_version": "1.2.0",
            "_view_name": "LayoutView",
            "align_content": null,
            "align_items": null,
            "align_self": null,
            "border": null,
            "bottom": null,
            "display": null,
            "flex": null,
            "flex_flow": null,
            "grid_area": null,
            "grid_auto_columns": null,
            "grid_auto_flow": null,
            "grid_auto_rows": null,
            "grid_column": null,
            "grid_gap": null,
            "grid_row": null,
            "grid_template_areas": null,
            "grid_template_columns": null,
            "grid_template_rows": null,
            "height": null,
            "justify_content": null,
            "justify_items": null,
            "left": null,
            "margin": null,
            "max_height": null,
            "max_width": null,
            "min_height": null,
            "min_width": null,
            "object_fit": null,
            "object_position": null,
            "order": null,
            "overflow": null,
            "overflow_x": null,
            "overflow_y": null,
            "padding": null,
            "right": null,
            "top": null,
            "visibility": null,
            "width": null
          }
        },
        "eaabe81db7024c7e86ee21aa64c2a93b": {
          "model_module": "@jupyter-widgets/controls",
          "model_name": "ProgressStyleModel",
          "model_module_version": "1.5.0",
          "state": {
            "_model_module": "@jupyter-widgets/controls",
            "_model_module_version": "1.5.0",
            "_model_name": "ProgressStyleModel",
            "_view_count": null,
            "_view_module": "@jupyter-widgets/base",
            "_view_module_version": "1.2.0",
            "_view_name": "StyleView",
            "bar_color": null,
            "description_width": ""
          }
        },
        "fe4041a9ece342c5a98ad9c044585042": {
          "model_module": "@jupyter-widgets/base",
          "model_name": "LayoutModel",
          "model_module_version": "1.2.0",
          "state": {
            "_model_module": "@jupyter-widgets/base",
            "_model_module_version": "1.2.0",
            "_model_name": "LayoutModel",
            "_view_count": null,
            "_view_module": "@jupyter-widgets/base",
            "_view_module_version": "1.2.0",
            "_view_name": "LayoutView",
            "align_content": null,
            "align_items": null,
            "align_self": null,
            "border": null,
            "bottom": null,
            "display": null,
            "flex": null,
            "flex_flow": null,
            "grid_area": null,
            "grid_auto_columns": null,
            "grid_auto_flow": null,
            "grid_auto_rows": null,
            "grid_column": null,
            "grid_gap": null,
            "grid_row": null,
            "grid_template_areas": null,
            "grid_template_columns": null,
            "grid_template_rows": null,
            "height": null,
            "justify_content": null,
            "justify_items": null,
            "left": null,
            "margin": null,
            "max_height": null,
            "max_width": null,
            "min_height": null,
            "min_width": null,
            "object_fit": null,
            "object_position": null,
            "order": null,
            "overflow": null,
            "overflow_x": null,
            "overflow_y": null,
            "padding": null,
            "right": null,
            "top": null,
            "visibility": null,
            "width": null
          }
        },
        "21ecc69a32274d1488cc5d1b06fee7bf": {
          "model_module": "@jupyter-widgets/controls",
          "model_name": "DescriptionStyleModel",
          "model_module_version": "1.5.0",
          "state": {
            "_model_module": "@jupyter-widgets/controls",
            "_model_module_version": "1.5.0",
            "_model_name": "DescriptionStyleModel",
            "_view_count": null,
            "_view_module": "@jupyter-widgets/base",
            "_view_module_version": "1.2.0",
            "_view_name": "StyleView",
            "description_width": ""
          }
        },
        "c8fa7ae68cbf40a48e241edea07a7db6": {
          "model_module": "@jupyter-widgets/controls",
          "model_name": "HBoxModel",
          "model_module_version": "1.5.0",
          "state": {
            "_dom_classes": [],
            "_model_module": "@jupyter-widgets/controls",
            "_model_module_version": "1.5.0",
            "_model_name": "HBoxModel",
            "_view_count": null,
            "_view_module": "@jupyter-widgets/controls",
            "_view_module_version": "1.5.0",
            "_view_name": "HBoxView",
            "box_style": "",
            "children": [
              "IPY_MODEL_98e0efa053d849a1bfb2e8db91044fd8",
              "IPY_MODEL_f6076086e0574aecbfa5af475d5fb4f6",
              "IPY_MODEL_094bc7faa1054e8b89193a4317aa78de"
            ],
            "layout": "IPY_MODEL_d0dce183806644c2b34df9d09967c1bc"
          }
        },
        "98e0efa053d849a1bfb2e8db91044fd8": {
          "model_module": "@jupyter-widgets/controls",
          "model_name": "HTMLModel",
          "model_module_version": "1.5.0",
          "state": {
            "_dom_classes": [],
            "_model_module": "@jupyter-widgets/controls",
            "_model_module_version": "1.5.0",
            "_model_name": "HTMLModel",
            "_view_count": null,
            "_view_module": "@jupyter-widgets/controls",
            "_view_module_version": "1.5.0",
            "_view_name": "HTMLView",
            "description": "",
            "description_tooltip": null,
            "layout": "IPY_MODEL_30d3b88ea8d94091876931ce7aa30556",
            "placeholder": "​",
            "style": "IPY_MODEL_b164440ea5be44c8baa1af18b78d528f",
            "value": "model.safetensors: 100%"
          }
        },
        "f6076086e0574aecbfa5af475d5fb4f6": {
          "model_module": "@jupyter-widgets/controls",
          "model_name": "FloatProgressModel",
          "model_module_version": "1.5.0",
          "state": {
            "_dom_classes": [],
            "_model_module": "@jupyter-widgets/controls",
            "_model_module_version": "1.5.0",
            "_model_name": "FloatProgressModel",
            "_view_count": null,
            "_view_module": "@jupyter-widgets/controls",
            "_view_module_version": "1.5.0",
            "_view_name": "ProgressView",
            "bar_style": "success",
            "description": "",
            "description_tooltip": null,
            "layout": "IPY_MODEL_b3e799a899b24e6d8dcfdb6f86b9529f",
            "max": 113412768,
            "min": 0,
            "orientation": "horizontal",
            "style": "IPY_MODEL_97cece4a634647a3a259f0d8a1998270",
            "value": 113412768
          }
        },
        "094bc7faa1054e8b89193a4317aa78de": {
          "model_module": "@jupyter-widgets/controls",
          "model_name": "HTMLModel",
          "model_module_version": "1.5.0",
          "state": {
            "_dom_classes": [],
            "_model_module": "@jupyter-widgets/controls",
            "_model_module_version": "1.5.0",
            "_model_name": "HTMLModel",
            "_view_count": null,
            "_view_module": "@jupyter-widgets/controls",
            "_view_module_version": "1.5.0",
            "_view_name": "HTMLView",
            "description": "",
            "description_tooltip": null,
            "layout": "IPY_MODEL_ed2e785c23034a8f85b540bab92be5eb",
            "placeholder": "​",
            "style": "IPY_MODEL_74174b0af5ee45c7aaa4892191ebe63c",
            "value": " 113M/113M [00:00&lt;00:00, 443MB/s]"
          }
        },
        "d0dce183806644c2b34df9d09967c1bc": {
          "model_module": "@jupyter-widgets/base",
          "model_name": "LayoutModel",
          "model_module_version": "1.2.0",
          "state": {
            "_model_module": "@jupyter-widgets/base",
            "_model_module_version": "1.2.0",
            "_model_name": "LayoutModel",
            "_view_count": null,
            "_view_module": "@jupyter-widgets/base",
            "_view_module_version": "1.2.0",
            "_view_name": "LayoutView",
            "align_content": null,
            "align_items": null,
            "align_self": null,
            "border": null,
            "bottom": null,
            "display": null,
            "flex": null,
            "flex_flow": null,
            "grid_area": null,
            "grid_auto_columns": null,
            "grid_auto_flow": null,
            "grid_auto_rows": null,
            "grid_column": null,
            "grid_gap": null,
            "grid_row": null,
            "grid_template_areas": null,
            "grid_template_columns": null,
            "grid_template_rows": null,
            "height": null,
            "justify_content": null,
            "justify_items": null,
            "left": null,
            "margin": null,
            "max_height": null,
            "max_width": null,
            "min_height": null,
            "min_width": null,
            "object_fit": null,
            "object_position": null,
            "order": null,
            "overflow": null,
            "overflow_x": null,
            "overflow_y": null,
            "padding": null,
            "right": null,
            "top": null,
            "visibility": null,
            "width": null
          }
        },
        "30d3b88ea8d94091876931ce7aa30556": {
          "model_module": "@jupyter-widgets/base",
          "model_name": "LayoutModel",
          "model_module_version": "1.2.0",
          "state": {
            "_model_module": "@jupyter-widgets/base",
            "_model_module_version": "1.2.0",
            "_model_name": "LayoutModel",
            "_view_count": null,
            "_view_module": "@jupyter-widgets/base",
            "_view_module_version": "1.2.0",
            "_view_name": "LayoutView",
            "align_content": null,
            "align_items": null,
            "align_self": null,
            "border": null,
            "bottom": null,
            "display": null,
            "flex": null,
            "flex_flow": null,
            "grid_area": null,
            "grid_auto_columns": null,
            "grid_auto_flow": null,
            "grid_auto_rows": null,
            "grid_column": null,
            "grid_gap": null,
            "grid_row": null,
            "grid_template_areas": null,
            "grid_template_columns": null,
            "grid_template_rows": null,
            "height": null,
            "justify_content": null,
            "justify_items": null,
            "left": null,
            "margin": null,
            "max_height": null,
            "max_width": null,
            "min_height": null,
            "min_width": null,
            "object_fit": null,
            "object_position": null,
            "order": null,
            "overflow": null,
            "overflow_x": null,
            "overflow_y": null,
            "padding": null,
            "right": null,
            "top": null,
            "visibility": null,
            "width": null
          }
        },
        "b164440ea5be44c8baa1af18b78d528f": {
          "model_module": "@jupyter-widgets/controls",
          "model_name": "DescriptionStyleModel",
          "model_module_version": "1.5.0",
          "state": {
            "_model_module": "@jupyter-widgets/controls",
            "_model_module_version": "1.5.0",
            "_model_name": "DescriptionStyleModel",
            "_view_count": null,
            "_view_module": "@jupyter-widgets/base",
            "_view_module_version": "1.2.0",
            "_view_name": "StyleView",
            "description_width": ""
          }
        },
        "b3e799a899b24e6d8dcfdb6f86b9529f": {
          "model_module": "@jupyter-widgets/base",
          "model_name": "LayoutModel",
          "model_module_version": "1.2.0",
          "state": {
            "_model_module": "@jupyter-widgets/base",
            "_model_module_version": "1.2.0",
            "_model_name": "LayoutModel",
            "_view_count": null,
            "_view_module": "@jupyter-widgets/base",
            "_view_module_version": "1.2.0",
            "_view_name": "LayoutView",
            "align_content": null,
            "align_items": null,
            "align_self": null,
            "border": null,
            "bottom": null,
            "display": null,
            "flex": null,
            "flex_flow": null,
            "grid_area": null,
            "grid_auto_columns": null,
            "grid_auto_flow": null,
            "grid_auto_rows": null,
            "grid_column": null,
            "grid_gap": null,
            "grid_row": null,
            "grid_template_areas": null,
            "grid_template_columns": null,
            "grid_template_rows": null,
            "height": null,
            "justify_content": null,
            "justify_items": null,
            "left": null,
            "margin": null,
            "max_height": null,
            "max_width": null,
            "min_height": null,
            "min_width": null,
            "object_fit": null,
            "object_position": null,
            "order": null,
            "overflow": null,
            "overflow_x": null,
            "overflow_y": null,
            "padding": null,
            "right": null,
            "top": null,
            "visibility": null,
            "width": null
          }
        },
        "97cece4a634647a3a259f0d8a1998270": {
          "model_module": "@jupyter-widgets/controls",
          "model_name": "ProgressStyleModel",
          "model_module_version": "1.5.0",
          "state": {
            "_model_module": "@jupyter-widgets/controls",
            "_model_module_version": "1.5.0",
            "_model_name": "ProgressStyleModel",
            "_view_count": null,
            "_view_module": "@jupyter-widgets/base",
            "_view_module_version": "1.2.0",
            "_view_name": "StyleView",
            "bar_color": null,
            "description_width": ""
          }
        },
        "ed2e785c23034a8f85b540bab92be5eb": {
          "model_module": "@jupyter-widgets/base",
          "model_name": "LayoutModel",
          "model_module_version": "1.2.0",
          "state": {
            "_model_module": "@jupyter-widgets/base",
            "_model_module_version": "1.2.0",
            "_model_name": "LayoutModel",
            "_view_count": null,
            "_view_module": "@jupyter-widgets/base",
            "_view_module_version": "1.2.0",
            "_view_name": "LayoutView",
            "align_content": null,
            "align_items": null,
            "align_self": null,
            "border": null,
            "bottom": null,
            "display": null,
            "flex": null,
            "flex_flow": null,
            "grid_area": null,
            "grid_auto_columns": null,
            "grid_auto_flow": null,
            "grid_auto_rows": null,
            "grid_column": null,
            "grid_gap": null,
            "grid_row": null,
            "grid_template_areas": null,
            "grid_template_columns": null,
            "grid_template_rows": null,
            "height": null,
            "justify_content": null,
            "justify_items": null,
            "left": null,
            "margin": null,
            "max_height": null,
            "max_width": null,
            "min_height": null,
            "min_width": null,
            "object_fit": null,
            "object_position": null,
            "order": null,
            "overflow": null,
            "overflow_x": null,
            "overflow_y": null,
            "padding": null,
            "right": null,
            "top": null,
            "visibility": null,
            "width": null
          }
        },
        "74174b0af5ee45c7aaa4892191ebe63c": {
          "model_module": "@jupyter-widgets/controls",
          "model_name": "DescriptionStyleModel",
          "model_module_version": "1.5.0",
          "state": {
            "_model_module": "@jupyter-widgets/controls",
            "_model_module_version": "1.5.0",
            "_model_name": "DescriptionStyleModel",
            "_view_count": null,
            "_view_module": "@jupyter-widgets/base",
            "_view_module_version": "1.2.0",
            "_view_name": "StyleView",
            "description_width": ""
          }
        },
        "5b3ab24bd3c04f9986bfd23f4cad9c86": {
          "model_module": "@jupyter-widgets/controls",
          "model_name": "HBoxModel",
          "model_module_version": "1.5.0",
          "state": {
            "_dom_classes": [],
            "_model_module": "@jupyter-widgets/controls",
            "_model_module_version": "1.5.0",
            "_model_name": "HBoxModel",
            "_view_count": null,
            "_view_module": "@jupyter-widgets/controls",
            "_view_module_version": "1.5.0",
            "_view_name": "HBoxView",
            "box_style": "",
            "children": [
              "IPY_MODEL_73de83ff39f4454e909b08efa4343201",
              "IPY_MODEL_8361cd574a354ae8894bc9e6698962a8",
              "IPY_MODEL_aa24d9309e8f41599e9235223083e7bd"
            ],
            "layout": "IPY_MODEL_0078a8a6100144c0a2ee733247eaf40c"
          }
        },
        "73de83ff39f4454e909b08efa4343201": {
          "model_module": "@jupyter-widgets/controls",
          "model_name": "HTMLModel",
          "model_module_version": "1.5.0",
          "state": {
            "_dom_classes": [],
            "_model_module": "@jupyter-widgets/controls",
            "_model_module_version": "1.5.0",
            "_model_name": "HTMLModel",
            "_view_count": null,
            "_view_module": "@jupyter-widgets/controls",
            "_view_module_version": "1.5.0",
            "_view_name": "HTMLView",
            "description": "",
            "description_tooltip": null,
            "layout": "IPY_MODEL_20dc810fc4a24080b4adc2fa7e1b068b",
            "placeholder": "​",
            "style": "IPY_MODEL_7d11bafd01d54f61b8f3d4779dfc5e18",
            "value": "pytorch_model.bin: 100%"
          }
        },
        "8361cd574a354ae8894bc9e6698962a8": {
          "model_module": "@jupyter-widgets/controls",
          "model_name": "FloatProgressModel",
          "model_module_version": "1.5.0",
          "state": {
            "_dom_classes": [],
            "_model_module": "@jupyter-widgets/controls",
            "_model_module_version": "1.5.0",
            "_model_name": "FloatProgressModel",
            "_view_count": null,
            "_view_module": "@jupyter-widgets/controls",
            "_view_module_version": "1.5.0",
            "_view_name": "ProgressView",
            "bar_style": "success",
            "description": "",
            "description_tooltip": null,
            "layout": "IPY_MODEL_c89bc1e328484b5a9bd96a3dd5b1bf00",
            "max": 435778770,
            "min": 0,
            "orientation": "horizontal",
            "style": "IPY_MODEL_f8afcc1885364cd7a61cdf88fdbe992b",
            "value": 435778770
          }
        },
        "aa24d9309e8f41599e9235223083e7bd": {
          "model_module": "@jupyter-widgets/controls",
          "model_name": "HTMLModel",
          "model_module_version": "1.5.0",
          "state": {
            "_dom_classes": [],
            "_model_module": "@jupyter-widgets/controls",
            "_model_module_version": "1.5.0",
            "_model_name": "HTMLModel",
            "_view_count": null,
            "_view_module": "@jupyter-widgets/controls",
            "_view_module_version": "1.5.0",
            "_view_name": "HTMLView",
            "description": "",
            "description_tooltip": null,
            "layout": "IPY_MODEL_133863d6c1ef4c309f0df6263150e9b0",
            "placeholder": "​",
            "style": "IPY_MODEL_9cfd8faaa4444d1fa43be60022d6c46a",
            "value": " 436M/436M [00:01&lt;00:00, 452MB/s]"
          }
        },
        "0078a8a6100144c0a2ee733247eaf40c": {
          "model_module": "@jupyter-widgets/base",
          "model_name": "LayoutModel",
          "model_module_version": "1.2.0",
          "state": {
            "_model_module": "@jupyter-widgets/base",
            "_model_module_version": "1.2.0",
            "_model_name": "LayoutModel",
            "_view_count": null,
            "_view_module": "@jupyter-widgets/base",
            "_view_module_version": "1.2.0",
            "_view_name": "LayoutView",
            "align_content": null,
            "align_items": null,
            "align_self": null,
            "border": null,
            "bottom": null,
            "display": null,
            "flex": null,
            "flex_flow": null,
            "grid_area": null,
            "grid_auto_columns": null,
            "grid_auto_flow": null,
            "grid_auto_rows": null,
            "grid_column": null,
            "grid_gap": null,
            "grid_row": null,
            "grid_template_areas": null,
            "grid_template_columns": null,
            "grid_template_rows": null,
            "height": null,
            "justify_content": null,
            "justify_items": null,
            "left": null,
            "margin": null,
            "max_height": null,
            "max_width": null,
            "min_height": null,
            "min_width": null,
            "object_fit": null,
            "object_position": null,
            "order": null,
            "overflow": null,
            "overflow_x": null,
            "overflow_y": null,
            "padding": null,
            "right": null,
            "top": null,
            "visibility": null,
            "width": null
          }
        },
        "20dc810fc4a24080b4adc2fa7e1b068b": {
          "model_module": "@jupyter-widgets/base",
          "model_name": "LayoutModel",
          "model_module_version": "1.2.0",
          "state": {
            "_model_module": "@jupyter-widgets/base",
            "_model_module_version": "1.2.0",
            "_model_name": "LayoutModel",
            "_view_count": null,
            "_view_module": "@jupyter-widgets/base",
            "_view_module_version": "1.2.0",
            "_view_name": "LayoutView",
            "align_content": null,
            "align_items": null,
            "align_self": null,
            "border": null,
            "bottom": null,
            "display": null,
            "flex": null,
            "flex_flow": null,
            "grid_area": null,
            "grid_auto_columns": null,
            "grid_auto_flow": null,
            "grid_auto_rows": null,
            "grid_column": null,
            "grid_gap": null,
            "grid_row": null,
            "grid_template_areas": null,
            "grid_template_columns": null,
            "grid_template_rows": null,
            "height": null,
            "justify_content": null,
            "justify_items": null,
            "left": null,
            "margin": null,
            "max_height": null,
            "max_width": null,
            "min_height": null,
            "min_width": null,
            "object_fit": null,
            "object_position": null,
            "order": null,
            "overflow": null,
            "overflow_x": null,
            "overflow_y": null,
            "padding": null,
            "right": null,
            "top": null,
            "visibility": null,
            "width": null
          }
        },
        "7d11bafd01d54f61b8f3d4779dfc5e18": {
          "model_module": "@jupyter-widgets/controls",
          "model_name": "DescriptionStyleModel",
          "model_module_version": "1.5.0",
          "state": {
            "_model_module": "@jupyter-widgets/controls",
            "_model_module_version": "1.5.0",
            "_model_name": "DescriptionStyleModel",
            "_view_count": null,
            "_view_module": "@jupyter-widgets/base",
            "_view_module_version": "1.2.0",
            "_view_name": "StyleView",
            "description_width": ""
          }
        },
        "c89bc1e328484b5a9bd96a3dd5b1bf00": {
          "model_module": "@jupyter-widgets/base",
          "model_name": "LayoutModel",
          "model_module_version": "1.2.0",
          "state": {
            "_model_module": "@jupyter-widgets/base",
            "_model_module_version": "1.2.0",
            "_model_name": "LayoutModel",
            "_view_count": null,
            "_view_module": "@jupyter-widgets/base",
            "_view_module_version": "1.2.0",
            "_view_name": "LayoutView",
            "align_content": null,
            "align_items": null,
            "align_self": null,
            "border": null,
            "bottom": null,
            "display": null,
            "flex": null,
            "flex_flow": null,
            "grid_area": null,
            "grid_auto_columns": null,
            "grid_auto_flow": null,
            "grid_auto_rows": null,
            "grid_column": null,
            "grid_gap": null,
            "grid_row": null,
            "grid_template_areas": null,
            "grid_template_columns": null,
            "grid_template_rows": null,
            "height": null,
            "justify_content": null,
            "justify_items": null,
            "left": null,
            "margin": null,
            "max_height": null,
            "max_width": null,
            "min_height": null,
            "min_width": null,
            "object_fit": null,
            "object_position": null,
            "order": null,
            "overflow": null,
            "overflow_x": null,
            "overflow_y": null,
            "padding": null,
            "right": null,
            "top": null,
            "visibility": null,
            "width": null
          }
        },
        "f8afcc1885364cd7a61cdf88fdbe992b": {
          "model_module": "@jupyter-widgets/controls",
          "model_name": "ProgressStyleModel",
          "model_module_version": "1.5.0",
          "state": {
            "_model_module": "@jupyter-widgets/controls",
            "_model_module_version": "1.5.0",
            "_model_name": "ProgressStyleModel",
            "_view_count": null,
            "_view_module": "@jupyter-widgets/base",
            "_view_module_version": "1.2.0",
            "_view_name": "StyleView",
            "bar_color": null,
            "description_width": ""
          }
        },
        "133863d6c1ef4c309f0df6263150e9b0": {
          "model_module": "@jupyter-widgets/base",
          "model_name": "LayoutModel",
          "model_module_version": "1.2.0",
          "state": {
            "_model_module": "@jupyter-widgets/base",
            "_model_module_version": "1.2.0",
            "_model_name": "LayoutModel",
            "_view_count": null,
            "_view_module": "@jupyter-widgets/base",
            "_view_module_version": "1.2.0",
            "_view_name": "LayoutView",
            "align_content": null,
            "align_items": null,
            "align_self": null,
            "border": null,
            "bottom": null,
            "display": null,
            "flex": null,
            "flex_flow": null,
            "grid_area": null,
            "grid_auto_columns": null,
            "grid_auto_flow": null,
            "grid_auto_rows": null,
            "grid_column": null,
            "grid_gap": null,
            "grid_row": null,
            "grid_template_areas": null,
            "grid_template_columns": null,
            "grid_template_rows": null,
            "height": null,
            "justify_content": null,
            "justify_items": null,
            "left": null,
            "margin": null,
            "max_height": null,
            "max_width": null,
            "min_height": null,
            "min_width": null,
            "object_fit": null,
            "object_position": null,
            "order": null,
            "overflow": null,
            "overflow_x": null,
            "overflow_y": null,
            "padding": null,
            "right": null,
            "top": null,
            "visibility": null,
            "width": null
          }
        },
        "9cfd8faaa4444d1fa43be60022d6c46a": {
          "model_module": "@jupyter-widgets/controls",
          "model_name": "DescriptionStyleModel",
          "model_module_version": "1.5.0",
          "state": {
            "_model_module": "@jupyter-widgets/controls",
            "_model_module_version": "1.5.0",
            "_model_name": "DescriptionStyleModel",
            "_view_count": null,
            "_view_module": "@jupyter-widgets/base",
            "_view_module_version": "1.2.0",
            "_view_name": "StyleView",
            "description_width": ""
          }
        }
      }
    }
  },
  "nbformat": 4,
  "nbformat_minor": 0
}