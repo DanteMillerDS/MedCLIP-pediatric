{
  "cells": [
    {
      "cell_type": "code",
      "execution_count": 1,
      "metadata": {
        "colab": {
          "base_uri": "https://localhost:8080/"
        },
        "id": "NyK5zRwvHIK6",
        "outputId": "ec39be32-cd93-4a51-c0d9-d5f07777803a"
      },
      "outputs": [
        {
          "output_type": "stream",
          "name": "stdout",
          "text": [
            "Cloning into 'MedCLIP-pediatric'...\n",
            "remote: Enumerating objects: 463, done.\u001b[K\n",
            "remote: Counting objects: 100% (190/190), done.\u001b[K\n",
            "remote: Compressing objects: 100% (129/129), done.\u001b[K\n",
            "remote: Total 463 (delta 75), reused 155 (delta 41), pack-reused 273\u001b[K\n",
            "Receiving objects: 100% (463/463), 2.30 MiB | 14.25 MiB/s, done.\n",
            "Resolving deltas: 100% (237/237), done.\n"
          ]
        }
      ],
      "source": [
        "!git clone https://github.com/DanteMillerDS/MedCLIP-pediatric.git"
      ]
    },
    {
      "cell_type": "code",
      "execution_count": 2,
      "metadata": {
        "colab": {
          "base_uri": "https://localhost:8080/"
        },
        "id": "OV264rRAK4wZ",
        "outputId": "5d16d848-df75-4889-ff3e-55112abea155"
      },
      "outputs": [
        {
          "output_type": "stream",
          "name": "stdout",
          "text": [
            "Collecting git+https://github.com/openai/CLIP.git (from -r MedCLIP-pediatric/requirements.txt (line 4))\n",
            "  Cloning https://github.com/openai/CLIP.git to /tmp/pip-req-build-86afg47a\n",
            "  Running command git clone --filter=blob:none --quiet https://github.com/openai/CLIP.git /tmp/pip-req-build-86afg47a\n",
            "  Resolved https://github.com/openai/CLIP.git to commit a1d071733d7111c9c014f024669f959182114e33\n",
            "  Preparing metadata (setup.py) ... \u001b[?25l\u001b[?25hdone\n",
            "Collecting git+https://github.com/RyanWangZf/MedCLIP.git (from -r MedCLIP-pediatric/requirements.txt (line 5))\n",
            "  Cloning https://github.com/RyanWangZf/MedCLIP.git to /tmp/pip-req-build-g7eh7pmk\n",
            "  Running command git clone --filter=blob:none --quiet https://github.com/RyanWangZf/MedCLIP.git /tmp/pip-req-build-g7eh7pmk\n",
            "  Resolved https://github.com/RyanWangZf/MedCLIP.git to commit 9c3396f20d5d54e4fae241b8cb06ca45848e98c9\n",
            "  Preparing metadata (setup.py) ... \u001b[?25l\u001b[?25hdone\n",
            "Collecting ftfy (from -r MedCLIP-pediatric/requirements.txt (line 1))\n",
            "  Downloading ftfy-6.2.0-py3-none-any.whl (54 kB)\n",
            "\u001b[2K     \u001b[90m━━━━━━━━━━━━━━━━━━━━━━━━━━━━━━━━━━━━━━━━\u001b[0m \u001b[32m54.4/54.4 kB\u001b[0m \u001b[31m941.4 kB/s\u001b[0m eta \u001b[36m0:00:00\u001b[0m\n",
            "\u001b[?25hRequirement already satisfied: regex in /usr/local/lib/python3.10/dist-packages (from -r MedCLIP-pediatric/requirements.txt (line 2)) (2023.12.25)\n",
            "Requirement already satisfied: tqdm in /usr/local/lib/python3.10/dist-packages (from -r MedCLIP-pediatric/requirements.txt (line 3)) (4.66.2)\n",
            "Requirement already satisfied: wcwidth<0.3.0,>=0.2.12 in /usr/local/lib/python3.10/dist-packages (from ftfy->-r MedCLIP-pediatric/requirements.txt (line 1)) (0.2.13)\n",
            "Requirement already satisfied: torch in /usr/local/lib/python3.10/dist-packages (from clip==1.0->-r MedCLIP-pediatric/requirements.txt (line 4)) (2.2.1+cu121)\n",
            "Requirement already satisfied: torchvision in /usr/local/lib/python3.10/dist-packages (from clip==1.0->-r MedCLIP-pediatric/requirements.txt (line 4)) (0.17.1+cu121)\n",
            "Requirement already satisfied: numpy in /usr/local/lib/python3.10/dist-packages (from MedCLIP==0.0.3->-r MedCLIP-pediatric/requirements.txt (line 5)) (1.25.2)\n",
            "Requirement already satisfied: pandas in /usr/local/lib/python3.10/dist-packages (from MedCLIP==0.0.3->-r MedCLIP-pediatric/requirements.txt (line 5)) (1.5.3)\n",
            "Requirement already satisfied: Pillow in /usr/local/lib/python3.10/dist-packages (from MedCLIP==0.0.3->-r MedCLIP-pediatric/requirements.txt (line 5)) (9.4.0)\n",
            "Requirement already satisfied: requests in /usr/local/lib/python3.10/dist-packages (from MedCLIP==0.0.3->-r MedCLIP-pediatric/requirements.txt (line 5)) (2.31.0)\n",
            "Collecting wget (from MedCLIP==0.0.3->-r MedCLIP-pediatric/requirements.txt (line 5))\n",
            "  Downloading wget-3.2.zip (10 kB)\n",
            "  Preparing metadata (setup.py) ... \u001b[?25l\u001b[?25hdone\n",
            "Requirement already satisfied: nltk>=3.7 in /usr/local/lib/python3.10/dist-packages (from MedCLIP==0.0.3->-r MedCLIP-pediatric/requirements.txt (line 5)) (3.8.1)\n",
            "Requirement already satisfied: scikit_learn>=1.1.2 in /usr/local/lib/python3.10/dist-packages (from MedCLIP==0.0.3->-r MedCLIP-pediatric/requirements.txt (line 5)) (1.2.2)\n",
            "Collecting textaugment>=1.3.4 (from MedCLIP==0.0.3->-r MedCLIP-pediatric/requirements.txt (line 5))\n",
            "  Downloading textaugment-2.0.0-py3-none-any.whl (19 kB)\n",
            "Collecting timm>=0.6.11 (from MedCLIP==0.0.3->-r MedCLIP-pediatric/requirements.txt (line 5))\n",
            "  Downloading timm-0.9.16-py3-none-any.whl (2.2 MB)\n",
            "\u001b[2K     \u001b[90m━━━━━━━━━━━━━━━━━━━━━━━━━━━━━━━━━━━━━━━━\u001b[0m \u001b[32m2.2/2.2 MB\u001b[0m \u001b[31m14.0 MB/s\u001b[0m eta \u001b[36m0:00:00\u001b[0m\n",
            "\u001b[?25hCollecting transformers<=4.24.0,>=4.23.1 (from MedCLIP==0.0.3->-r MedCLIP-pediatric/requirements.txt (line 5))\n",
            "  Downloading transformers-4.24.0-py3-none-any.whl (5.5 MB)\n",
            "\u001b[2K     \u001b[90m━━━━━━━━━━━━━━━━━━━━━━━━━━━━━━━━━━━━━━━━\u001b[0m \u001b[32m5.5/5.5 MB\u001b[0m \u001b[31m54.5 MB/s\u001b[0m eta \u001b[36m0:00:00\u001b[0m\n",
            "\u001b[?25hRequirement already satisfied: click in /usr/local/lib/python3.10/dist-packages (from nltk>=3.7->MedCLIP==0.0.3->-r MedCLIP-pediatric/requirements.txt (line 5)) (8.1.7)\n",
            "Requirement already satisfied: joblib in /usr/local/lib/python3.10/dist-packages (from nltk>=3.7->MedCLIP==0.0.3->-r MedCLIP-pediatric/requirements.txt (line 5)) (1.3.2)\n",
            "Requirement already satisfied: scipy>=1.3.2 in /usr/local/lib/python3.10/dist-packages (from scikit_learn>=1.1.2->MedCLIP==0.0.3->-r MedCLIP-pediatric/requirements.txt (line 5)) (1.11.4)\n",
            "Requirement already satisfied: threadpoolctl>=2.0.0 in /usr/local/lib/python3.10/dist-packages (from scikit_learn>=1.1.2->MedCLIP==0.0.3->-r MedCLIP-pediatric/requirements.txt (line 5)) (3.4.0)\n",
            "Requirement already satisfied: gensim>=4.0 in /usr/local/lib/python3.10/dist-packages (from textaugment>=1.3.4->MedCLIP==0.0.3->-r MedCLIP-pediatric/requirements.txt (line 5)) (4.3.2)\n",
            "Requirement already satisfied: textblob in /usr/local/lib/python3.10/dist-packages (from textaugment>=1.3.4->MedCLIP==0.0.3->-r MedCLIP-pediatric/requirements.txt (line 5)) (0.17.1)\n",
            "Collecting googletrans>=2 (from textaugment>=1.3.4->MedCLIP==0.0.3->-r MedCLIP-pediatric/requirements.txt (line 5))\n",
            "  Downloading googletrans-3.0.0.tar.gz (17 kB)\n",
            "  Preparing metadata (setup.py) ... \u001b[?25l\u001b[?25hdone\n",
            "Requirement already satisfied: pyyaml in /usr/local/lib/python3.10/dist-packages (from timm>=0.6.11->MedCLIP==0.0.3->-r MedCLIP-pediatric/requirements.txt (line 5)) (6.0.1)\n",
            "Requirement already satisfied: huggingface_hub in /usr/local/lib/python3.10/dist-packages (from timm>=0.6.11->MedCLIP==0.0.3->-r MedCLIP-pediatric/requirements.txt (line 5)) (0.20.3)\n",
            "Requirement already satisfied: safetensors in /usr/local/lib/python3.10/dist-packages (from timm>=0.6.11->MedCLIP==0.0.3->-r MedCLIP-pediatric/requirements.txt (line 5)) (0.4.2)\n",
            "Requirement already satisfied: filelock in /usr/local/lib/python3.10/dist-packages (from torch->clip==1.0->-r MedCLIP-pediatric/requirements.txt (line 4)) (3.13.3)\n",
            "Requirement already satisfied: typing-extensions>=4.8.0 in /usr/local/lib/python3.10/dist-packages (from torch->clip==1.0->-r MedCLIP-pediatric/requirements.txt (line 4)) (4.10.0)\n",
            "Requirement already satisfied: sympy in /usr/local/lib/python3.10/dist-packages (from torch->clip==1.0->-r MedCLIP-pediatric/requirements.txt (line 4)) (1.12)\n",
            "Requirement already satisfied: networkx in /usr/local/lib/python3.10/dist-packages (from torch->clip==1.0->-r MedCLIP-pediatric/requirements.txt (line 4)) (3.2.1)\n",
            "Requirement already satisfied: jinja2 in /usr/local/lib/python3.10/dist-packages (from torch->clip==1.0->-r MedCLIP-pediatric/requirements.txt (line 4)) (3.1.3)\n",
            "Requirement already satisfied: fsspec in /usr/local/lib/python3.10/dist-packages (from torch->clip==1.0->-r MedCLIP-pediatric/requirements.txt (line 4)) (2023.6.0)\n",
            "Collecting nvidia-cuda-nvrtc-cu12==12.1.105 (from torch->clip==1.0->-r MedCLIP-pediatric/requirements.txt (line 4))\n",
            "  Downloading nvidia_cuda_nvrtc_cu12-12.1.105-py3-none-manylinux1_x86_64.whl (23.7 MB)\n",
            "\u001b[2K     \u001b[90m━━━━━━━━━━━━━━━━━━━━━━━━━━━━━━━━━━━━━━━━\u001b[0m \u001b[32m23.7/23.7 MB\u001b[0m \u001b[31m39.0 MB/s\u001b[0m eta \u001b[36m0:00:00\u001b[0m\n",
            "\u001b[?25hCollecting nvidia-cuda-runtime-cu12==12.1.105 (from torch->clip==1.0->-r MedCLIP-pediatric/requirements.txt (line 4))\n",
            "  Downloading nvidia_cuda_runtime_cu12-12.1.105-py3-none-manylinux1_x86_64.whl (823 kB)\n",
            "\u001b[2K     \u001b[90m━━━━━━━━━━━━━━━━━━━━━━━━━━━━━━━━━━━━━━━━\u001b[0m \u001b[32m823.6/823.6 kB\u001b[0m \u001b[31m50.8 MB/s\u001b[0m eta \u001b[36m0:00:00\u001b[0m\n",
            "\u001b[?25hCollecting nvidia-cuda-cupti-cu12==12.1.105 (from torch->clip==1.0->-r MedCLIP-pediatric/requirements.txt (line 4))\n",
            "  Downloading nvidia_cuda_cupti_cu12-12.1.105-py3-none-manylinux1_x86_64.whl (14.1 MB)\n",
            "\u001b[2K     \u001b[90m━━━━━━━━━━━━━━━━━━━━━━━━━━━━━━━━━━━━━━━━\u001b[0m \u001b[32m14.1/14.1 MB\u001b[0m \u001b[31m44.9 MB/s\u001b[0m eta \u001b[36m0:00:00\u001b[0m\n",
            "\u001b[?25hCollecting nvidia-cudnn-cu12==8.9.2.26 (from torch->clip==1.0->-r MedCLIP-pediatric/requirements.txt (line 4))\n",
            "  Downloading nvidia_cudnn_cu12-8.9.2.26-py3-none-manylinux1_x86_64.whl (731.7 MB)\n",
            "\u001b[2K     \u001b[90m━━━━━━━━━━━━━━━━━━━━━━━━━━━━━━━━━━━━━━━━\u001b[0m \u001b[32m731.7/731.7 MB\u001b[0m \u001b[31m1.5 MB/s\u001b[0m eta \u001b[36m0:00:00\u001b[0m\n",
            "\u001b[?25hCollecting nvidia-cublas-cu12==12.1.3.1 (from torch->clip==1.0->-r MedCLIP-pediatric/requirements.txt (line 4))\n",
            "  Downloading nvidia_cublas_cu12-12.1.3.1-py3-none-manylinux1_x86_64.whl (410.6 MB)\n",
            "\u001b[2K     \u001b[90m━━━━━━━━━━━━━━━━━━━━━━━━━━━━━━━━━━━━━━━━\u001b[0m \u001b[32m410.6/410.6 MB\u001b[0m \u001b[31m2.9 MB/s\u001b[0m eta \u001b[36m0:00:00\u001b[0m\n",
            "\u001b[?25hCollecting nvidia-cufft-cu12==11.0.2.54 (from torch->clip==1.0->-r MedCLIP-pediatric/requirements.txt (line 4))\n",
            "  Downloading nvidia_cufft_cu12-11.0.2.54-py3-none-manylinux1_x86_64.whl (121.6 MB)\n",
            "\u001b[2K     \u001b[90m━━━━━━━━━━━━━━━━━━━━━━━━━━━━━━━━━━━━━━━━\u001b[0m \u001b[32m121.6/121.6 MB\u001b[0m \u001b[31m13.3 MB/s\u001b[0m eta \u001b[36m0:00:00\u001b[0m\n",
            "\u001b[?25hCollecting nvidia-curand-cu12==10.3.2.106 (from torch->clip==1.0->-r MedCLIP-pediatric/requirements.txt (line 4))\n",
            "  Downloading nvidia_curand_cu12-10.3.2.106-py3-none-manylinux1_x86_64.whl (56.5 MB)\n",
            "\u001b[2K     \u001b[90m━━━━━━━━━━━━━━━━━━━━━━━━━━━━━━━━━━━━━━━━\u001b[0m \u001b[32m56.5/56.5 MB\u001b[0m \u001b[31m25.1 MB/s\u001b[0m eta \u001b[36m0:00:00\u001b[0m\n",
            "\u001b[?25hCollecting nvidia-cusolver-cu12==11.4.5.107 (from torch->clip==1.0->-r MedCLIP-pediatric/requirements.txt (line 4))\n",
            "  Downloading nvidia_cusolver_cu12-11.4.5.107-py3-none-manylinux1_x86_64.whl (124.2 MB)\n",
            "\u001b[2K     \u001b[90m━━━━━━━━━━━━━━━━━━━━━━━━━━━━━━━━━━━━━━━━\u001b[0m \u001b[32m124.2/124.2 MB\u001b[0m \u001b[31m7.7 MB/s\u001b[0m eta \u001b[36m0:00:00\u001b[0m\n",
            "\u001b[?25hCollecting nvidia-cusparse-cu12==12.1.0.106 (from torch->clip==1.0->-r MedCLIP-pediatric/requirements.txt (line 4))\n",
            "  Downloading nvidia_cusparse_cu12-12.1.0.106-py3-none-manylinux1_x86_64.whl (196.0 MB)\n",
            "\u001b[2K     \u001b[90m━━━━━━━━━━━━━━━━━━━━━━━━━━━━━━━━━━━━━━━━\u001b[0m \u001b[32m196.0/196.0 MB\u001b[0m \u001b[31m5.2 MB/s\u001b[0m eta \u001b[36m0:00:00\u001b[0m\n",
            "\u001b[?25hCollecting nvidia-nccl-cu12==2.19.3 (from torch->clip==1.0->-r MedCLIP-pediatric/requirements.txt (line 4))\n",
            "  Downloading nvidia_nccl_cu12-2.19.3-py3-none-manylinux1_x86_64.whl (166.0 MB)\n",
            "\u001b[2K     \u001b[90m━━━━━━━━━━━━━━━━━━━━━━━━━━━━━━━━━━━━━━━━\u001b[0m \u001b[32m166.0/166.0 MB\u001b[0m \u001b[31m9.4 MB/s\u001b[0m eta \u001b[36m0:00:00\u001b[0m\n",
            "\u001b[?25hCollecting nvidia-nvtx-cu12==12.1.105 (from torch->clip==1.0->-r MedCLIP-pediatric/requirements.txt (line 4))\n",
            "  Downloading nvidia_nvtx_cu12-12.1.105-py3-none-manylinux1_x86_64.whl (99 kB)\n",
            "\u001b[2K     \u001b[90m━━━━━━━━━━━━━━━━━━━━━━━━━━━━━━━━━━━━━━━━\u001b[0m \u001b[32m99.1/99.1 kB\u001b[0m \u001b[31m14.7 MB/s\u001b[0m eta \u001b[36m0:00:00\u001b[0m\n",
            "\u001b[?25hRequirement already satisfied: triton==2.2.0 in /usr/local/lib/python3.10/dist-packages (from torch->clip==1.0->-r MedCLIP-pediatric/requirements.txt (line 4)) (2.2.0)\n",
            "Collecting nvidia-nvjitlink-cu12 (from nvidia-cusolver-cu12==11.4.5.107->torch->clip==1.0->-r MedCLIP-pediatric/requirements.txt (line 4))\n",
            "  Downloading nvidia_nvjitlink_cu12-12.4.99-py3-none-manylinux2014_x86_64.whl (21.1 MB)\n",
            "\u001b[2K     \u001b[90m━━━━━━━━━━━━━━━━━━━━━━━━━━━━━━━━━━━━━━━━\u001b[0m \u001b[32m21.1/21.1 MB\u001b[0m \u001b[31m37.0 MB/s\u001b[0m eta \u001b[36m0:00:00\u001b[0m\n",
            "\u001b[?25hRequirement already satisfied: packaging>=20.0 in /usr/local/lib/python3.10/dist-packages (from transformers<=4.24.0,>=4.23.1->MedCLIP==0.0.3->-r MedCLIP-pediatric/requirements.txt (line 5)) (24.0)\n",
            "Collecting tokenizers!=0.11.3,<0.14,>=0.11.1 (from transformers<=4.24.0,>=4.23.1->MedCLIP==0.0.3->-r MedCLIP-pediatric/requirements.txt (line 5))\n",
            "  Downloading tokenizers-0.13.3-cp310-cp310-manylinux_2_17_x86_64.manylinux2014_x86_64.whl (7.8 MB)\n",
            "\u001b[2K     \u001b[90m━━━━━━━━━━━━━━━━━━━━━━━━━━━━━━━━━━━━━━━━\u001b[0m \u001b[32m7.8/7.8 MB\u001b[0m \u001b[31m42.4 MB/s\u001b[0m eta \u001b[36m0:00:00\u001b[0m\n",
            "\u001b[?25hRequirement already satisfied: python-dateutil>=2.8.1 in /usr/local/lib/python3.10/dist-packages (from pandas->MedCLIP==0.0.3->-r MedCLIP-pediatric/requirements.txt (line 5)) (2.8.2)\n",
            "Requirement already satisfied: pytz>=2020.1 in /usr/local/lib/python3.10/dist-packages (from pandas->MedCLIP==0.0.3->-r MedCLIP-pediatric/requirements.txt (line 5)) (2023.4)\n",
            "Requirement already satisfied: charset-normalizer<4,>=2 in /usr/local/lib/python3.10/dist-packages (from requests->MedCLIP==0.0.3->-r MedCLIP-pediatric/requirements.txt (line 5)) (3.3.2)\n",
            "Requirement already satisfied: idna<4,>=2.5 in /usr/local/lib/python3.10/dist-packages (from requests->MedCLIP==0.0.3->-r MedCLIP-pediatric/requirements.txt (line 5)) (3.6)\n",
            "Requirement already satisfied: urllib3<3,>=1.21.1 in /usr/local/lib/python3.10/dist-packages (from requests->MedCLIP==0.0.3->-r MedCLIP-pediatric/requirements.txt (line 5)) (2.0.7)\n",
            "Requirement already satisfied: certifi>=2017.4.17 in /usr/local/lib/python3.10/dist-packages (from requests->MedCLIP==0.0.3->-r MedCLIP-pediatric/requirements.txt (line 5)) (2024.2.2)\n",
            "Requirement already satisfied: smart-open>=1.8.1 in /usr/local/lib/python3.10/dist-packages (from gensim>=4.0->textaugment>=1.3.4->MedCLIP==0.0.3->-r MedCLIP-pediatric/requirements.txt (line 5)) (6.4.0)\n",
            "Collecting httpx==0.13.3 (from googletrans>=2->textaugment>=1.3.4->MedCLIP==0.0.3->-r MedCLIP-pediatric/requirements.txt (line 5))\n",
            "  Downloading httpx-0.13.3-py3-none-any.whl (55 kB)\n",
            "\u001b[2K     \u001b[90m━━━━━━━━━━━━━━━━━━━━━━━━━━━━━━━━━━━━━━━━\u001b[0m \u001b[32m55.1/55.1 kB\u001b[0m \u001b[31m7.7 MB/s\u001b[0m eta \u001b[36m0:00:00\u001b[0m\n",
            "\u001b[?25hCollecting hstspreload (from httpx==0.13.3->googletrans>=2->textaugment>=1.3.4->MedCLIP==0.0.3->-r MedCLIP-pediatric/requirements.txt (line 5))\n",
            "  Downloading hstspreload-2024.3.1-py3-none-any.whl (1.1 MB)\n",
            "\u001b[2K     \u001b[90m━━━━━━━━━━━━━━━━━━━━━━━━━━━━━━━━━━━━━━━━\u001b[0m \u001b[32m1.1/1.1 MB\u001b[0m \u001b[31m41.0 MB/s\u001b[0m eta \u001b[36m0:00:00\u001b[0m\n",
            "\u001b[?25hRequirement already satisfied: sniffio in /usr/local/lib/python3.10/dist-packages (from httpx==0.13.3->googletrans>=2->textaugment>=1.3.4->MedCLIP==0.0.3->-r MedCLIP-pediatric/requirements.txt (line 5)) (1.3.1)\n",
            "Collecting chardet==3.* (from httpx==0.13.3->googletrans>=2->textaugment>=1.3.4->MedCLIP==0.0.3->-r MedCLIP-pediatric/requirements.txt (line 5))\n",
            "  Downloading chardet-3.0.4-py2.py3-none-any.whl (133 kB)\n",
            "\u001b[2K     \u001b[90m━━━━━━━━━━━━━━━━━━━━━━━━━━━━━━━━━━━━━━━━\u001b[0m \u001b[32m133.4/133.4 kB\u001b[0m \u001b[31m14.2 MB/s\u001b[0m eta \u001b[36m0:00:00\u001b[0m\n",
            "\u001b[?25hCollecting idna<4,>=2.5 (from requests->MedCLIP==0.0.3->-r MedCLIP-pediatric/requirements.txt (line 5))\n",
            "  Downloading idna-2.10-py2.py3-none-any.whl (58 kB)\n",
            "\u001b[2K     \u001b[90m━━━━━━━━━━━━━━━━━━━━━━━━━━━━━━━━━━━━━━━━\u001b[0m \u001b[32m58.8/58.8 kB\u001b[0m \u001b[31m4.7 MB/s\u001b[0m eta \u001b[36m0:00:00\u001b[0m\n",
            "\u001b[?25hCollecting rfc3986<2,>=1.3 (from httpx==0.13.3->googletrans>=2->textaugment>=1.3.4->MedCLIP==0.0.3->-r MedCLIP-pediatric/requirements.txt (line 5))\n",
            "  Downloading rfc3986-1.5.0-py2.py3-none-any.whl (31 kB)\n",
            "Collecting httpcore==0.9.* (from httpx==0.13.3->googletrans>=2->textaugment>=1.3.4->MedCLIP==0.0.3->-r MedCLIP-pediatric/requirements.txt (line 5))\n",
            "  Downloading httpcore-0.9.1-py3-none-any.whl (42 kB)\n",
            "\u001b[2K     \u001b[90m━━━━━━━━━━━━━━━━━━━━━━━━━━━━━━━━━━━━━━━━\u001b[0m \u001b[32m42.6/42.6 kB\u001b[0m \u001b[31m6.0 MB/s\u001b[0m eta \u001b[36m0:00:00\u001b[0m\n",
            "\u001b[?25hCollecting h11<0.10,>=0.8 (from httpcore==0.9.*->httpx==0.13.3->googletrans>=2->textaugment>=1.3.4->MedCLIP==0.0.3->-r MedCLIP-pediatric/requirements.txt (line 5))\n",
            "  Downloading h11-0.9.0-py2.py3-none-any.whl (53 kB)\n",
            "\u001b[2K     \u001b[90m━━━━━━━━━━━━━━━━━━━━━━━━━━━━━━━━━━━━━━━━\u001b[0m \u001b[32m53.6/53.6 kB\u001b[0m \u001b[31m7.6 MB/s\u001b[0m eta \u001b[36m0:00:00\u001b[0m\n",
            "\u001b[?25hCollecting h2==3.* (from httpcore==0.9.*->httpx==0.13.3->googletrans>=2->textaugment>=1.3.4->MedCLIP==0.0.3->-r MedCLIP-pediatric/requirements.txt (line 5))\n",
            "  Downloading h2-3.2.0-py2.py3-none-any.whl (65 kB)\n",
            "\u001b[2K     \u001b[90m━━━━━━━━━━━━━━━━━━━━━━━━━━━━━━━━━━━━━━━━\u001b[0m \u001b[32m65.0/65.0 kB\u001b[0m \u001b[31m9.3 MB/s\u001b[0m eta \u001b[36m0:00:00\u001b[0m\n",
            "\u001b[?25hCollecting hyperframe<6,>=5.2.0 (from h2==3.*->httpcore==0.9.*->httpx==0.13.3->googletrans>=2->textaugment>=1.3.4->MedCLIP==0.0.3->-r MedCLIP-pediatric/requirements.txt (line 5))\n",
            "  Downloading hyperframe-5.2.0-py2.py3-none-any.whl (12 kB)\n",
            "Collecting hpack<4,>=3.0 (from h2==3.*->httpcore==0.9.*->httpx==0.13.3->googletrans>=2->textaugment>=1.3.4->MedCLIP==0.0.3->-r MedCLIP-pediatric/requirements.txt (line 5))\n",
            "  Downloading hpack-3.0.0-py2.py3-none-any.whl (38 kB)\n",
            "Requirement already satisfied: six>=1.5 in /usr/local/lib/python3.10/dist-packages (from python-dateutil>=2.8.1->pandas->MedCLIP==0.0.3->-r MedCLIP-pediatric/requirements.txt (line 5)) (1.16.0)\n",
            "Requirement already satisfied: MarkupSafe>=2.0 in /usr/local/lib/python3.10/dist-packages (from jinja2->torch->clip==1.0->-r MedCLIP-pediatric/requirements.txt (line 4)) (2.1.5)\n",
            "Requirement already satisfied: mpmath>=0.19 in /usr/local/lib/python3.10/dist-packages (from sympy->torch->clip==1.0->-r MedCLIP-pediatric/requirements.txt (line 4)) (1.3.0)\n",
            "Building wheels for collected packages: clip, MedCLIP, wget, googletrans\n",
            "  Building wheel for clip (setup.py) ... \u001b[?25l\u001b[?25hdone\n",
            "  Created wheel for clip: filename=clip-1.0-py3-none-any.whl size=1369499 sha256=c237c62c9e6f93cbecc93de7905b1db6898c8fd384fdf87a65ca2880ff48667d\n",
            "  Stored in directory: /tmp/pip-ephem-wheel-cache-j1hiilkh/wheels/da/2b/4c/d6691fa9597aac8bb85d2ac13b112deb897d5b50f5ad9a37e4\n",
            "  Building wheel for MedCLIP (setup.py) ... \u001b[?25l\u001b[?25hdone\n",
            "  Created wheel for MedCLIP: filename=MedCLIP-0.0.3-py3-none-any.whl size=28013 sha256=066b527f26bcbf2a75f1bc89f6ade9bcb8f5e2e0904348d5303fe676db264bec\n",
            "  Stored in directory: /tmp/pip-ephem-wheel-cache-j1hiilkh/wheels/d5/ed/0c/c230538eb930e829193f90161c97b1781f48f07e2c7ea66053\n",
            "  Building wheel for wget (setup.py) ... \u001b[?25l\u001b[?25hdone\n",
            "  Created wheel for wget: filename=wget-3.2-py3-none-any.whl size=9656 sha256=4ed13cdc0c7375edb51257a3101a02b63747e2d9310f9b198c650ff767404f7e\n",
            "  Stored in directory: /root/.cache/pip/wheels/8b/f1/7f/5c94f0a7a505ca1c81cd1d9208ae2064675d97582078e6c769\n",
            "  Building wheel for googletrans (setup.py) ... \u001b[?25l\u001b[?25hdone\n",
            "  Created wheel for googletrans: filename=googletrans-3.0.0-py3-none-any.whl size=15718 sha256=e8246b5d45758f2ad5afbe949d88ff4c375265d11ee360176b196a4dda82cbd3\n",
            "  Stored in directory: /root/.cache/pip/wheels/b3/81/ea/8b030407f8ebfc2f857814e086bb22ca2d4fea1a7be63652ab\n",
            "Successfully built clip MedCLIP wget googletrans\n",
            "Installing collected packages: wget, tokenizers, rfc3986, hyperframe, hpack, h11, chardet, nvidia-nvtx-cu12, nvidia-nvjitlink-cu12, nvidia-nccl-cu12, nvidia-curand-cu12, nvidia-cufft-cu12, nvidia-cuda-runtime-cu12, nvidia-cuda-nvrtc-cu12, nvidia-cuda-cupti-cu12, nvidia-cublas-cu12, idna, hstspreload, h2, ftfy, nvidia-cusparse-cu12, nvidia-cudnn-cu12, httpcore, nvidia-cusolver-cu12, httpx, transformers, googletrans, textaugment, timm, clip, MedCLIP\n",
            "  Attempting uninstall: tokenizers\n",
            "    Found existing installation: tokenizers 0.15.2\n",
            "    Uninstalling tokenizers-0.15.2:\n",
            "      Successfully uninstalled tokenizers-0.15.2\n",
            "  Attempting uninstall: chardet\n",
            "    Found existing installation: chardet 5.2.0\n",
            "    Uninstalling chardet-5.2.0:\n",
            "      Successfully uninstalled chardet-5.2.0\n",
            "  Attempting uninstall: idna\n",
            "    Found existing installation: idna 3.6\n",
            "    Uninstalling idna-3.6:\n",
            "      Successfully uninstalled idna-3.6\n",
            "  Attempting uninstall: transformers\n",
            "    Found existing installation: transformers 4.38.2\n",
            "    Uninstalling transformers-4.38.2:\n",
            "      Successfully uninstalled transformers-4.38.2\n",
            "Successfully installed MedCLIP-0.0.3 chardet-3.0.4 clip-1.0 ftfy-6.2.0 googletrans-3.0.0 h11-0.9.0 h2-3.2.0 hpack-3.0.0 hstspreload-2024.3.1 httpcore-0.9.1 httpx-0.13.3 hyperframe-5.2.0 idna-2.10 nvidia-cublas-cu12-12.1.3.1 nvidia-cuda-cupti-cu12-12.1.105 nvidia-cuda-nvrtc-cu12-12.1.105 nvidia-cuda-runtime-cu12-12.1.105 nvidia-cudnn-cu12-8.9.2.26 nvidia-cufft-cu12-11.0.2.54 nvidia-curand-cu12-10.3.2.106 nvidia-cusolver-cu12-11.4.5.107 nvidia-cusparse-cu12-12.1.0.106 nvidia-nccl-cu12-2.19.3 nvidia-nvjitlink-cu12-12.4.99 nvidia-nvtx-cu12-12.1.105 rfc3986-1.5.0 textaugment-2.0.0 timm-0.9.16 tokenizers-0.13.3 transformers-4.24.0 wget-3.2\n"
          ]
        }
      ],
      "source": [
        "!pip install -r MedCLIP-pediatric/requirements.txt"
      ]
    },
    {
      "cell_type": "code",
      "execution_count": 3,
      "metadata": {
        "colab": {
          "base_uri": "https://localhost:8080/",
          "height": 1000,
          "referenced_widgets": [
            "a6111bc4991b4801a5f398a23629c2f6",
            "7c0cae3b335a4b6989898f92aee0f198",
            "7153753bbffb4118a322d9c8d2a64ff4",
            "4d8fd7688d704133ab88c451284aec39",
            "d5956ed762144ff0bf69a9c9c4f9918c",
            "6443acc076b54648b9dc63e050c7fb88",
            "dc573b6d71904b3faffa50215ef1c5f1",
            "f025ca31a46b4b83b5448d977340f474",
            "6b095e365b7f4bb0ae2a210ee7c8cc87",
            "a91fdd5246f44de78a4e1027836059dc",
            "89fadfa991564e82b894f41125c4fe25",
            "fe29cdf296b54b1bb9a8d94cd8a9fda3",
            "a3f6c9e4066e42a6897bb177850dee51",
            "d615c92b42a6472f991b5e8da61dfd9f",
            "8410da61f2e944dd8e95a47192c7714f",
            "9522d808c87244d09d9b781cda3dc991",
            "d53211f122c54a40945819750444b616",
            "dc038bc271e34c6fa0963d0a642471fa",
            "1feaebddc4454ef4b8a6516ffd9a1daf",
            "510915d300314be284176e14fc4e99d5",
            "08281e7a3fd64f29bbcf2bd39a8ca3b6",
            "459aa9dbdb02467c89765c484d046948"
          ]
        },
        "id": "tdzX2HwKHO60",
        "outputId": "b464a2ae-b8b1-4a38-eca0-7a59da46f2c8"
      },
      "outputs": [
        {
          "output_type": "stream",
          "name": "stdout",
          "text": [
            "Mounting Google Drive...\n",
            "Mounted at /content/drive\n",
            "Copying files from Google Drive...\n",
            "Extracting zip files...\n",
            "\n",
            "7-Zip [64] 16.02 : Copyright (c) 1999-2016 Igor Pavlov : 2016-05-21\n",
            "p7zip Version 16.02 (locale=en_US.UTF-8,Utf16=on,HugeFiles=on,64 bits,12 CPUs Intel(R) Xeon(R) CPU @ 2.20GHz (50657),ASM,AES-NI)\n",
            "\n",
            "Scanning the drive for archives:\n",
            "  0M Scan /content/\b\b\b\b\b\b\b\b\b\b\b\b\b\b\b\b\b\b\b                   \b\b\b\b\b\b\b\b\b\b\b\b\b\b\b\b\b\b\b1 file, 22471493 bytes (22 MiB)\n",
            "\n",
            "Extracting archive: /content/ucsd.zip\n",
            " 66% 4096 Open\b\b\b\b\b\b\b\b\b\b\b\b\b\b              \b\b\b\b\b\b\b\b\b\b\b\b\b\b--\n",
            "Path = /content/ucsd.zip\n",
            "Type = zip\n",
            "Physical Size = 22471493\n",
            "\n",
            "  0%\b\b\b\b    \b\b\b\b 22% 1444\b\b\b\b\b\b\b\b\b         \b\b\b\b\b\b\b\b\b 37% 2407 - __MACOSX/ucsd/Train/Positive/._VIRUS-3826195-0001.jpeg\b\b\b\b\b\b\b\b\b\b\b\b\b\b\b\b\b\b\b\b\b\b\b\b\b\b\b\b\b\b\b\b\b\b\b\b\b\b\b\b\b\b\b\b\b\b\b\b\b\b\b\b\b\b\b\b\b\b\b\b\b\b\b\b\b\b                                                                  \b\b\b\b\b\b\b\b\b\b\b\b\b\b\b\b\b\b\b\b\b\b\b\b\b\b\b\b\b\b\b\b\b\b\b\b\b\b\b\b\b\b\b\b\b\b\b\b\b\b\b\b\b\b\b\b\b\b\b\b\b\b\b\b\b\b 46% 2999 - __MACOSX/ucsd/Train/Positive/._VIRUS-3239718-0001.jpeg\b\b\b\b\b\b\b\b\b\b\b\b\b\b\b\b\b\b\b\b\b\b\b\b\b\b\b\b\b\b\b\b\b\b\b\b\b\b\b\b\b\b\b\b\b\b\b\b\b\b\b\b\b\b\b\b\b\b\b\b\b\b\b\b\b\b                                                                  \b\b\b\b\b\b\b\b\b\b\b\b\b\b\b\b\b\b\b\b\b\b\b\b\b\b\b\b\b\b\b\b\b\b\b\b\b\b\b\b\b\b\b\b\b\b\b\b\b\b\b\b\b\b\b\b\b\b\b\b\b\b\b\b\b\b 63% 3988 - ucsd/Train/Negative/NORMAL-1012843-0001.jpeg\b\b\b\b\b\b\b\b\b\b\b\b\b\b\b\b\b\b\b\b\b\b\b\b\b\b\b\b\b\b\b\b\b\b\b\b\b\b\b\b\b\b\b\b\b\b\b\b\b\b\b\b\b\b\b\b                                                        \b\b\b\b\b\b\b\b\b\b\b\b\b\b\b\b\b\b\b\b\b\b\b\b\b\b\b\b\b\b\b\b\b\b\b\b\b\b\b\b\b\b\b\b\b\b\b\b\b\b\b\b\b\b\b\b 74% 4672 - ucsd/Train/Negative/NORMAL-7824011-0002.jpeg\b\b\b\b\b\b\b\b\b\b\b\b\b\b\b\b\b\b\b\b\b\b\b\b\b\b\b\b\b\b\b\b\b\b\b\b\b\b\b\b\b\b\b\b\b\b\b\b\b\b\b\b\b\b\b\b                                                        \b\b\b\b\b\b\b\b\b\b\b\b\b\b\b\b\b\b\b\b\b\b\b\b\b\b\b\b\b\b\b\b\b\b\b\b\b\b\b\b\b\b\b\b\b\b\b\b\b\b\b\b\b\b\b\b 83% 5163 - __MACOSX/ucsd/Train/Negative/._NORMAL-5816980-0001.jpeg\b\b\b\b\b\b\b\b\b\b\b\b\b\b\b\b\b\b\b\b\b\b\b\b\b\b\b\b\b\b\b\b\b\b\b\b\b\b\b\b\b\b\b\b\b\b\b\b\b\b\b\b\b\b\b\b\b\b\b\b\b\b\b\b\b\b\b                                                                   \b\b\b\b\b\b\b\b\b\b\b\b\b\b\b\b\b\b\b\b\b\b\b\b\b\b\b\b\b\b\b\b\b\b\b\b\b\b\b\b\b\b\b\b\b\b\b\b\b\b\b\b\b\b\b\b\b\b\b\b\b\b\b\b\b\b\bEverything is Ok\n",
            "\n",
            "Folders: 10\n",
            "Files: 6162\n",
            "Size:       21151375\n",
            "Compressed: 22471493\n",
            "\n",
            "7-Zip [64] 16.02 : Copyright (c) 1999-2016 Igor Pavlov : 2016-05-21\n",
            "p7zip Version 16.02 (locale=en_US.UTF-8,Utf16=on,HugeFiles=on,64 bits,12 CPUs Intel(R) Xeon(R) CPU @ 2.20GHz (50657),ASM,AES-NI)\n",
            "\n",
            "Scanning the drive for archives:\n",
            "  0M Scan /content/\b\b\b\b\b\b\b\b\b\b\b\b\b\b\b\b\b\b\b                   \b\b\b\b\b\b\b\b\b\b\b\b\b\b\b\b\b\b\b1 file, 19842873 bytes (19 MiB)\n",
            "\n",
            "Extracting archive: /content/ori.zip\n",
            "--\n",
            "Path = /content/ori.zip\n",
            "Type = zip\n",
            "Physical Size = 19842873\n",
            "\n",
            "  0%\b\b\b\b    \b\b\b\b 76% 1283 - __MACOSX/ori/Train/Negative/._4552A1U90BU0.png\b\b\b\b\b\b\b\b\b\b\b\b\b\b\b\b\b\b\b\b\b\b\b\b\b\b\b\b\b\b\b\b\b\b\b\b\b\b\b\b\b\b\b\b\b\b\b\b\b\b\b\b\b\b\b\b\b\b                                                          \b\b\b\b\b\b\b\b\b\b\b\b\b\b\b\b\b\b\b\b\b\b\b\b\b\b\b\b\b\b\b\b\b\b\b\b\b\b\b\b\b\b\b\b\b\b\b\b\b\b\b\b\b\b\b\b\b\bEverything is Ok\n",
            "\n",
            "Folders: 10\n",
            "Files: 1662\n",
            "Size:       19522791\n",
            "Compressed: 19842873\n",
            "Files extracted successfully.\n"
          ]
        },
        {
          "output_type": "stream",
          "name": "stderr",
          "text": [
            "/usr/local/lib/python3.10/dist-packages/huggingface_hub/utils/_token.py:88: UserWarning: \n",
            "The secret `HF_TOKEN` does not exist in your Colab secrets.\n",
            "To authenticate with the Hugging Face Hub, create a token in your settings tab (https://huggingface.co/settings/tokens), set it as secret in your Google Colab and restart your session.\n",
            "You will be able to reuse this secret in all of your notebooks.\n",
            "Please note that authentication is recommended but still optional to access public models or datasets.\n",
            "  warnings.warn(\n"
          ]
        },
        {
          "output_type": "display_data",
          "data": {
            "text/plain": [
              "config.json:   0%|          | 0.00/385 [00:00<?, ?B/s]"
            ],
            "application/vnd.jupyter.widget-view+json": {
              "version_major": 2,
              "version_minor": 0,
              "model_id": "a6111bc4991b4801a5f398a23629c2f6"
            }
          },
          "metadata": {}
        },
        {
          "output_type": "display_data",
          "data": {
            "text/plain": [
              "vocab.txt:   0%|          | 0.00/213k [00:00<?, ?B/s]"
            ],
            "application/vnd.jupyter.widget-view+json": {
              "version_major": 2,
              "version_minor": 0,
              "model_id": "fe29cdf296b54b1bb9a8d94cd8a9fda3"
            }
          },
          "metadata": {}
        },
        {
          "output_type": "stream",
          "name": "stderr",
          "text": [
            "100%|███████████████████████████████████████| 338M/338M [00:03<00:00, 98.6MiB/s]\n",
            "/usr/local/lib/python3.10/dist-packages/keras/src/preprocessing/image.py:766: UserWarning: NumpyArrayIterator is set to use the data format convention \"channels_last\" (channels on axis 3), i.e. expected either 1, 3, or 4 channels on axis 3. However, it was passed an array with shape (1967, 3, 224, 224) (224 channels).\n",
            "  warnings.warn(\n",
            "/usr/local/lib/python3.10/dist-packages/keras/src/preprocessing/image.py:766: UserWarning: NumpyArrayIterator is set to use the data format convention \"channels_last\" (channels on axis 3), i.e. expected either 1, 3, or 4 channels on axis 3. However, it was passed an array with shape (493, 3, 224, 224) (224 channels).\n",
            "  warnings.warn(\n",
            "/usr/local/lib/python3.10/dist-packages/keras/src/preprocessing/image.py:766: UserWarning: NumpyArrayIterator is set to use the data format convention \"channels_last\" (channels on axis 3), i.e. expected either 1, 3, or 4 channels on axis 3. However, it was passed an array with shape (616, 3, 224, 224) (224 channels).\n",
            "  warnings.warn(\n",
            "WARNING:matplotlib.image:Clipping input data to the valid range for imshow with RGB data ([0..1] for floats or [0..255] for integers).\n",
            "WARNING:matplotlib.image:Clipping input data to the valid range for imshow with RGB data ([0..1] for floats or [0..255] for integers).\n",
            "WARNING:matplotlib.image:Clipping input data to the valid range for imshow with RGB data ([0..1] for floats or [0..255] for integers).\n",
            "WARNING:matplotlib.image:Clipping input data to the valid range for imshow with RGB data ([0..1] for floats or [0..255] for integers).\n",
            "WARNING:matplotlib.image:Clipping input data to the valid range for imshow with RGB data ([0..1] for floats or [0..255] for integers).\n",
            "WARNING:matplotlib.image:Clipping input data to the valid range for imshow with RGB data ([0..1] for floats or [0..255] for integers).\n"
          ]
        },
        {
          "output_type": "stream",
          "name": "stdout",
          "text": [
            "Results saved to results/visualization/zs_clip_base/ucsd/clip/images/cxr_images.png\n",
            "NVIDIA library configured successfully.\n"
          ]
        },
        {
          "output_type": "stream",
          "name": "stderr",
          "text": [
            "Evaluate Train: 100%|██████████| 8/8 [00:03<00:00,  2.52it/s]\n",
            "Evaluate Validation: 100%|██████████| 2/2 [00:00<00:00,  7.51it/s]\n",
            "Evaluate Test: 100%|██████████| 3/3 [00:00<00:00,  8.55it/s]\n"
          ]
        },
        {
          "output_type": "stream",
          "name": "stdout",
          "text": [
            "\n",
            "Accuracy: 0.6765, Precision: 0.6976, Recall: 0.5887, AUC: 0.4647\n",
            "Results saved to results/zs_clip_base/ucsd/clip/classification_results.txt\n"
          ]
        },
        {
          "output_type": "stream",
          "name": "stderr",
          "text": [
            "/usr/local/lib/python3.10/dist-packages/keras/src/preprocessing/image.py:766: UserWarning: NumpyArrayIterator is set to use the data format convention \"channels_last\" (channels on axis 3), i.e. expected either 1, 3, or 4 channels on axis 3. However, it was passed an array with shape (526, 3, 224, 224) (224 channels).\n",
            "  warnings.warn(\n",
            "/usr/local/lib/python3.10/dist-packages/keras/src/preprocessing/image.py:766: UserWarning: NumpyArrayIterator is set to use the data format convention \"channels_last\" (channels on axis 3), i.e. expected either 1, 3, or 4 channels on axis 3. However, it was passed an array with shape (132, 3, 224, 224) (224 channels).\n",
            "  warnings.warn(\n",
            "/usr/local/lib/python3.10/dist-packages/keras/src/preprocessing/image.py:766: UserWarning: NumpyArrayIterator is set to use the data format convention \"channels_last\" (channels on axis 3), i.e. expected either 1, 3, or 4 channels on axis 3. However, it was passed an array with shape (165, 3, 224, 224) (224 channels).\n",
            "  warnings.warn(\n",
            "WARNING:matplotlib.image:Clipping input data to the valid range for imshow with RGB data ([0..1] for floats or [0..255] for integers).\n",
            "WARNING:matplotlib.image:Clipping input data to the valid range for imshow with RGB data ([0..1] for floats or [0..255] for integers).\n",
            "WARNING:matplotlib.image:Clipping input data to the valid range for imshow with RGB data ([0..1] for floats or [0..255] for integers).\n",
            "WARNING:matplotlib.image:Clipping input data to the valid range for imshow with RGB data ([0..1] for floats or [0..255] for integers).\n",
            "WARNING:matplotlib.image:Clipping input data to the valid range for imshow with RGB data ([0..1] for floats or [0..255] for integers).\n",
            "WARNING:matplotlib.image:Clipping input data to the valid range for imshow with RGB data ([0..1] for floats or [0..255] for integers).\n"
          ]
        },
        {
          "output_type": "stream",
          "name": "stdout",
          "text": [
            "Results saved to results/visualization/zs_clip_base/ori/clip/images/cxr_images.png\n",
            "NVIDIA library configured successfully.\n"
          ]
        },
        {
          "output_type": "stream",
          "name": "stderr",
          "text": [
            "Evaluate Train: 100%|██████████| 3/3 [00:01<00:00,  1.57it/s]\n",
            "Evaluate Validation: 100%|██████████| 1/1 [00:00<00:00, 12.67it/s]\n",
            "Evaluate Test: 100%|██████████| 1/1 [00:00<00:00, 10.32it/s]"
          ]
        },
        {
          "output_type": "stream",
          "name": "stdout",
          "text": [
            "\n",
            "Accuracy: 0.5747, Precision: 0.5622, Recall: 0.6040, AUC: 0.5154\n",
            "Results saved to results/zs_clip_base/ori/clip/classification_results.txt\n"
          ]
        },
        {
          "output_type": "stream",
          "name": "stderr",
          "text": [
            "\n"
          ]
        },
        {
          "output_type": "display_data",
          "data": {
            "text/plain": [
              "<Figure size 640x480 with 0 Axes>"
            ]
          },
          "metadata": {}
        }
      ],
      "source": [
        "%run MedCLIP-pediatric/scripts/zs_clip_base.py"
      ]
    },
    {
      "cell_type": "code",
      "execution_count": 4,
      "metadata": {
        "colab": {
          "base_uri": "https://localhost:8080/",
          "height": 1000,
          "referenced_widgets": [
            "76aec6013cb44e39b5a180727557ce99",
            "746d843954114d04998ba272512984c6",
            "4950bde015d049d2aa4069eda6b22372",
            "73dd85ebdf2f43e98fa0d2e4c6849e48",
            "2509c771271240a98c3f843d3690617d",
            "9e54701fbee64a39b203383007815a27",
            "e01ff005bcdf4f4cad71fa0393d86abe",
            "a4c6f3a8367c4973b591b33f23779b6e",
            "ecb064b3ba7e457c96fdfec9b8d716e4",
            "2962dee984164716a2530321023f25b6",
            "e1b4c33605f0408ab601965d932013ca",
            "c97b0d7428e64561a67a5edd1a78220b",
            "35a929bfab534b8787f9ebb7e436c17f",
            "826055069a3148138f84dda5d66fd35a",
            "85d08db96e7241f790feb8d00657da2e",
            "92e16aefeb43413a8652b5b97bef735f",
            "240d418f7fe6408f994ecea78a420726",
            "60cc391c61aa40358f8e133b3972ddaa",
            "a782d0b0025847bd8f434130b02f2a5e",
            "bacdd0737e4946739ffc847a4e488739",
            "daee5557108f409ea942a6956f9c94a8",
            "877968ed8e7344489a20aacb61b29b11",
            "98c26a1ce75641bb94b70bc3ebdd7440",
            "eaf8c7e8208442fe84d4bccc1baea8ef",
            "688580c7804c4d91b848bd40f459cc4a",
            "940a9e7c323147ea9651a2b4cff5dbcb",
            "f1a2e2b7872a43ad802da21fbcbf1968",
            "377caa7808424cdca7871719a89179cb",
            "4d2c8732fb424d67a6ae3faf1dc11ef0",
            "33def436e12f49f8a29dc457ddee7d12",
            "fbc10771872345be89ba183074e7866a",
            "e1e000bb427448afbd2b70c6ce7d3abf",
            "5d2c043f94b0473d811da5e27341be08"
          ]
        },
        "id": "FzCs7t8nErwu",
        "outputId": "42c7ff2d-bbb5-480b-f4b8-6ecf4dc67bcd"
      },
      "outputs": [
        {
          "output_type": "stream",
          "name": "stdout",
          "text": [
            "Google Drive is already mounted.\n"
          ]
        },
        {
          "output_type": "stream",
          "name": "stderr",
          "text": [
            "/usr/local/lib/python3.10/dist-packages/keras/src/preprocessing/image.py:766: UserWarning: NumpyArrayIterator is set to use the data format convention \"channels_last\" (channels on axis 3), i.e. expected either 1, 3, or 4 channels on axis 3. However, it was passed an array with shape (1967, 1, 224, 224) (224 channels).\n",
            "  warnings.warn(\n",
            "/usr/local/lib/python3.10/dist-packages/keras/src/preprocessing/image.py:766: UserWarning: NumpyArrayIterator is set to use the data format convention \"channels_last\" (channels on axis 3), i.e. expected either 1, 3, or 4 channels on axis 3. However, it was passed an array with shape (493, 1, 224, 224) (224 channels).\n",
            "  warnings.warn(\n",
            "/usr/local/lib/python3.10/dist-packages/keras/src/preprocessing/image.py:766: UserWarning: NumpyArrayIterator is set to use the data format convention \"channels_last\" (channels on axis 3), i.e. expected either 1, 3, or 4 channels on axis 3. However, it was passed an array with shape (616, 1, 224, 224) (224 channels).\n",
            "  warnings.warn(\n"
          ]
        },
        {
          "output_type": "stream",
          "name": "stdout",
          "text": [
            "Results saved to results/visualization/zs_medclip_base/ucsd/medclip/images/cxr_images.png\n",
            "NVIDIA library configured successfully.\n"
          ]
        },
        {
          "output_type": "display_data",
          "data": {
            "text/plain": [
              "config.json:   0%|          | 0.00/71.8k [00:00<?, ?B/s]"
            ],
            "application/vnd.jupyter.widget-view+json": {
              "version_major": 2,
              "version_minor": 0,
              "model_id": "76aec6013cb44e39b5a180727557ce99"
            }
          },
          "metadata": {}
        },
        {
          "output_type": "display_data",
          "data": {
            "text/plain": [
              "model.safetensors:   0%|          | 0.00/113M [00:00<?, ?B/s]"
            ],
            "application/vnd.jupyter.widget-view+json": {
              "version_major": 2,
              "version_minor": 0,
              "model_id": "c97b0d7428e64561a67a5edd1a78220b"
            }
          },
          "metadata": {}
        },
        {
          "output_type": "stream",
          "name": "stderr",
          "text": [
            "/usr/local/lib/python3.10/dist-packages/torch/functional.py:507: UserWarning: torch.meshgrid: in an upcoming release, it will be required to pass the indexing argument. (Triggered internally at ../aten/src/ATen/native/TensorShape.cpp:3549.)\n",
            "  return _VF.meshgrid(tensors, **kwargs)  # type: ignore[attr-defined]\n",
            "Some weights of the model checkpoint at microsoft/swin-tiny-patch4-window7-224 were not used when initializing SwinModel: ['classifier.weight', 'classifier.bias']\n",
            "- This IS expected if you are initializing SwinModel from the checkpoint of a model trained on another task or with another architecture (e.g. initializing a BertForSequenceClassification model from a BertForPreTraining model).\n",
            "- This IS NOT expected if you are initializing SwinModel from the checkpoint of a model that you expect to be exactly identical (initializing a BertForSequenceClassification model from a BertForSequenceClassification model).\n"
          ]
        },
        {
          "output_type": "display_data",
          "data": {
            "text/plain": [
              "pytorch_model.bin:   0%|          | 0.00/436M [00:00<?, ?B/s]"
            ],
            "application/vnd.jupyter.widget-view+json": {
              "version_major": 2,
              "version_minor": 0,
              "model_id": "98c26a1ce75641bb94b70bc3ebdd7440"
            }
          },
          "metadata": {}
        },
        {
          "output_type": "stream",
          "name": "stderr",
          "text": [
            "Some weights of the model checkpoint at emilyalsentzer/Bio_ClinicalBERT were not used when initializing BertModel: ['cls.predictions.transform.LayerNorm.weight', 'cls.predictions.decoder.weight', 'cls.seq_relationship.bias', 'cls.predictions.transform.dense.bias', 'cls.predictions.transform.dense.weight', 'cls.seq_relationship.weight', 'cls.predictions.transform.LayerNorm.bias', 'cls.predictions.bias']\n",
            "- This IS expected if you are initializing BertModel from the checkpoint of a model trained on another task or with another architecture (e.g. initializing a BertForSequenceClassification model from a BertForPreTraining model).\n",
            "- This IS NOT expected if you are initializing BertModel from the checkpoint of a model that you expect to be exactly identical (initializing a BertForSequenceClassification model from a BertForSequenceClassification model).\n"
          ]
        },
        {
          "output_type": "stream",
          "name": "stdout",
          "text": [
            "\n",
            " Download pretrained model from: https://storage.googleapis.com/pytrial/medclip-vit-pretrained.zip\n",
            "load model weight from: ./pretrained/medclip-vit\n"
          ]
        },
        {
          "output_type": "stream",
          "name": "stderr",
          "text": [
            "\rEvaluate Train:   0%|          | 0/8 [00:00<?, ?it/s]"
          ]
        },
        {
          "output_type": "stream",
          "name": "stdout",
          "text": [
            "sample 1 num of prompts for COVID from total 12\n"
          ]
        },
        {
          "output_type": "stream",
          "name": "stderr",
          "text": [
            "\rEvaluate Train:  12%|█▎        | 1/8 [00:00<00:04,  1.45it/s]"
          ]
        },
        {
          "output_type": "stream",
          "name": "stdout",
          "text": [
            "sample 1 num of prompts for COVID from total 12\n"
          ]
        },
        {
          "output_type": "stream",
          "name": "stderr",
          "text": [
            "\rEvaluate Train:  25%|██▌       | 2/8 [00:01<00:03,  1.69it/s]"
          ]
        },
        {
          "output_type": "stream",
          "name": "stdout",
          "text": [
            "sample 1 num of prompts for COVID from total 12\n"
          ]
        },
        {
          "output_type": "stream",
          "name": "stderr",
          "text": [
            "\rEvaluate Train:  38%|███▊      | 3/8 [00:01<00:03,  1.63it/s]"
          ]
        },
        {
          "output_type": "stream",
          "name": "stdout",
          "text": [
            "sample 1 num of prompts for COVID from total 12\n"
          ]
        },
        {
          "output_type": "stream",
          "name": "stderr",
          "text": [
            "\rEvaluate Train:  50%|█████     | 4/8 [00:02<00:02,  1.76it/s]"
          ]
        },
        {
          "output_type": "stream",
          "name": "stdout",
          "text": [
            "sample 1 num of prompts for COVID from total 12\n"
          ]
        },
        {
          "output_type": "stream",
          "name": "stderr",
          "text": [
            "\rEvaluate Train:  62%|██████▎   | 5/8 [00:03<00:02,  1.31it/s]"
          ]
        },
        {
          "output_type": "stream",
          "name": "stdout",
          "text": [
            "sample 1 num of prompts for COVID from total 12\n"
          ]
        },
        {
          "output_type": "stream",
          "name": "stderr",
          "text": [
            "\rEvaluate Train:  75%|███████▌  | 6/8 [00:03<00:01,  1.48it/s]"
          ]
        },
        {
          "output_type": "stream",
          "name": "stdout",
          "text": [
            "sample 1 num of prompts for COVID from total 12\n"
          ]
        },
        {
          "output_type": "stream",
          "name": "stderr",
          "text": [
            "\rEvaluate Train:  88%|████████▊ | 7/8 [00:04<00:00,  1.62it/s]"
          ]
        },
        {
          "output_type": "stream",
          "name": "stdout",
          "text": [
            "sample 1 num of prompts for COVID from total 12\n"
          ]
        },
        {
          "output_type": "stream",
          "name": "stderr",
          "text": [
            "Evaluate Train: 100%|██████████| 8/8 [00:04<00:00,  1.63it/s]\n",
            "Evaluate Validation:   0%|          | 0/2 [00:00<?, ?it/s]"
          ]
        },
        {
          "output_type": "stream",
          "name": "stdout",
          "text": [
            "sample 1 num of prompts for COVID from total 12\n"
          ]
        },
        {
          "output_type": "stream",
          "name": "stderr",
          "text": [
            "\rEvaluate Validation:  50%|█████     | 1/2 [00:00<00:00,  2.02it/s]"
          ]
        },
        {
          "output_type": "stream",
          "name": "stdout",
          "text": [
            "sample 1 num of prompts for COVID from total 12\n"
          ]
        },
        {
          "output_type": "stream",
          "name": "stderr",
          "text": [
            "Evaluate Validation: 100%|██████████| 2/2 [00:02<00:00,  1.01s/it]\n",
            "Evaluate Test:   0%|          | 0/3 [00:00<?, ?it/s]"
          ]
        },
        {
          "output_type": "stream",
          "name": "stdout",
          "text": [
            "sample 1 num of prompts for COVID from total 12\n"
          ]
        },
        {
          "output_type": "stream",
          "name": "stderr",
          "text": [
            "\rEvaluate Test:  33%|███▎      | 1/3 [00:00<00:01,  1.05it/s]"
          ]
        },
        {
          "output_type": "stream",
          "name": "stdout",
          "text": [
            "sample 1 num of prompts for COVID from total 12\n"
          ]
        },
        {
          "output_type": "stream",
          "name": "stderr",
          "text": [
            "\rEvaluate Test:  67%|██████▋   | 2/3 [00:01<00:00,  1.45it/s]"
          ]
        },
        {
          "output_type": "stream",
          "name": "stdout",
          "text": [
            "sample 1 num of prompts for COVID from total 12\n"
          ]
        },
        {
          "output_type": "stream",
          "name": "stderr",
          "text": [
            "Evaluate Test: 100%|██████████| 3/3 [00:02<00:00,  1.23it/s]\n"
          ]
        },
        {
          "output_type": "stream",
          "name": "stdout",
          "text": [
            "\n",
            "Accuracy: 0.6765, Precision: 0.7184, Recall: 0.5486, AUC: 0.7608\n"
          ]
        },
        {
          "output_type": "stream",
          "name": "stderr",
          "text": [
            "\rEvaluate Train:   0%|          | 0/8 [00:00<?, ?it/s]"
          ]
        },
        {
          "output_type": "stream",
          "name": "stdout",
          "text": [
            "sample 2 num of prompts for COVID from total 12\n"
          ]
        },
        {
          "output_type": "stream",
          "name": "stderr",
          "text": [
            "\rEvaluate Train:  12%|█▎        | 1/8 [00:00<00:03,  1.99it/s]"
          ]
        },
        {
          "output_type": "stream",
          "name": "stdout",
          "text": [
            "sample 2 num of prompts for COVID from total 12\n"
          ]
        },
        {
          "output_type": "stream",
          "name": "stderr",
          "text": [
            "\rEvaluate Train:  25%|██▌       | 2/8 [00:01<00:03,  1.91it/s]"
          ]
        },
        {
          "output_type": "stream",
          "name": "stdout",
          "text": [
            "sample 2 num of prompts for COVID from total 12\n"
          ]
        },
        {
          "output_type": "stream",
          "name": "stderr",
          "text": [
            "\rEvaluate Train:  38%|███▊      | 3/8 [00:02<00:03,  1.35it/s]"
          ]
        },
        {
          "output_type": "stream",
          "name": "stdout",
          "text": [
            "sample 2 num of prompts for COVID from total 12\n"
          ]
        },
        {
          "output_type": "stream",
          "name": "stderr",
          "text": [
            "\rEvaluate Train:  50%|█████     | 4/8 [00:02<00:02,  1.53it/s]"
          ]
        },
        {
          "output_type": "stream",
          "name": "stdout",
          "text": [
            "sample 2 num of prompts for COVID from total 12\n"
          ]
        },
        {
          "output_type": "stream",
          "name": "stderr",
          "text": [
            "\rEvaluate Train:  62%|██████▎   | 5/8 [00:03<00:01,  1.64it/s]"
          ]
        },
        {
          "output_type": "stream",
          "name": "stdout",
          "text": [
            "sample 2 num of prompts for COVID from total 12\n"
          ]
        },
        {
          "output_type": "stream",
          "name": "stderr",
          "text": [
            "\rEvaluate Train:  75%|███████▌  | 6/8 [00:04<00:01,  1.33it/s]"
          ]
        },
        {
          "output_type": "stream",
          "name": "stdout",
          "text": [
            "sample 2 num of prompts for COVID from total 12\n"
          ]
        },
        {
          "output_type": "stream",
          "name": "stderr",
          "text": [
            "\rEvaluate Train:  88%|████████▊ | 7/8 [00:05<00:00,  1.21it/s]"
          ]
        },
        {
          "output_type": "stream",
          "name": "stdout",
          "text": [
            "sample 2 num of prompts for COVID from total 12\n"
          ]
        },
        {
          "output_type": "stream",
          "name": "stderr",
          "text": [
            "Evaluate Train: 100%|██████████| 8/8 [00:05<00:00,  1.45it/s]\n",
            "Evaluate Validation:   0%|          | 0/2 [00:00<?, ?it/s]"
          ]
        },
        {
          "output_type": "stream",
          "name": "stdout",
          "text": [
            "sample 2 num of prompts for COVID from total 12\n"
          ]
        },
        {
          "output_type": "stream",
          "name": "stderr",
          "text": [
            "\rEvaluate Validation:  50%|█████     | 1/2 [00:00<00:00,  1.99it/s]"
          ]
        },
        {
          "output_type": "stream",
          "name": "stdout",
          "text": [
            "sample 2 num of prompts for COVID from total 12\n"
          ]
        },
        {
          "output_type": "stream",
          "name": "stderr",
          "text": [
            "Evaluate Validation: 100%|██████████| 2/2 [00:01<00:00,  1.26it/s]\n",
            "Evaluate Test:   0%|          | 0/3 [00:00<?, ?it/s]"
          ]
        },
        {
          "output_type": "stream",
          "name": "stdout",
          "text": [
            "sample 2 num of prompts for COVID from total 12\n"
          ]
        },
        {
          "output_type": "stream",
          "name": "stderr",
          "text": [
            "\rEvaluate Test:  33%|███▎      | 1/3 [00:00<00:00,  2.04it/s]"
          ]
        },
        {
          "output_type": "stream",
          "name": "stdout",
          "text": [
            "sample 2 num of prompts for COVID from total 12\n"
          ]
        },
        {
          "output_type": "stream",
          "name": "stderr",
          "text": [
            "\rEvaluate Test:  67%|██████▋   | 2/3 [00:01<00:00,  1.66it/s]"
          ]
        },
        {
          "output_type": "stream",
          "name": "stdout",
          "text": [
            "sample 2 num of prompts for COVID from total 12\n"
          ]
        },
        {
          "output_type": "stream",
          "name": "stderr",
          "text": [
            "Evaluate Test: 100%|██████████| 3/3 [00:01<00:00,  1.90it/s]\n"
          ]
        },
        {
          "output_type": "stream",
          "name": "stdout",
          "text": [
            "\n",
            "Accuracy: 0.7090, Precision: 0.7109, Recall: 0.6752, AUC: 0.7874\n"
          ]
        },
        {
          "output_type": "stream",
          "name": "stderr",
          "text": [
            "Evaluate Train:  12%|█▎        | 1/8 [00:00<00:03,  2.00it/s]"
          ]
        },
        {
          "output_type": "stream",
          "name": "stdout",
          "text": [
            "sample 3 num of prompts for COVID from total 12\n",
            "sample 3 num of prompts for COVID from total 12\n"
          ]
        },
        {
          "output_type": "stream",
          "name": "stderr",
          "text": [
            "\rEvaluate Train:  25%|██▌       | 2/8 [00:01<00:04,  1.39it/s]"
          ]
        },
        {
          "output_type": "stream",
          "name": "stdout",
          "text": [
            "sample 3 num of prompts for COVID from total 12\n"
          ]
        },
        {
          "output_type": "stream",
          "name": "stderr",
          "text": [
            "\rEvaluate Train:  38%|███▊      | 3/8 [00:01<00:03,  1.61it/s]"
          ]
        },
        {
          "output_type": "stream",
          "name": "stdout",
          "text": [
            "sample 3 num of prompts for COVID from total 12\n"
          ]
        },
        {
          "output_type": "stream",
          "name": "stderr",
          "text": [
            "\rEvaluate Train:  50%|█████     | 4/8 [00:02<00:02,  1.51it/s]"
          ]
        },
        {
          "output_type": "stream",
          "name": "stdout",
          "text": [
            "sample 3 num of prompts for COVID from total 12\n"
          ]
        },
        {
          "output_type": "stream",
          "name": "stderr",
          "text": [
            "\rEvaluate Train:  62%|██████▎   | 5/8 [00:03<00:01,  1.56it/s]"
          ]
        },
        {
          "output_type": "stream",
          "name": "stdout",
          "text": [
            "sample 3 num of prompts for COVID from total 12\n"
          ]
        },
        {
          "output_type": "stream",
          "name": "stderr",
          "text": [
            "\rEvaluate Train:  75%|███████▌  | 6/8 [00:04<00:01,  1.25it/s]"
          ]
        },
        {
          "output_type": "stream",
          "name": "stdout",
          "text": [
            "sample 3 num of prompts for COVID from total 12\n"
          ]
        },
        {
          "output_type": "stream",
          "name": "stderr",
          "text": [
            "\rEvaluate Train:  88%|████████▊ | 7/8 [00:04<00:00,  1.42it/s]"
          ]
        },
        {
          "output_type": "stream",
          "name": "stdout",
          "text": [
            "sample 3 num of prompts for COVID from total 12\n"
          ]
        },
        {
          "output_type": "stream",
          "name": "stderr",
          "text": [
            "Evaluate Train: 100%|██████████| 8/8 [00:05<00:00,  1.50it/s]\n",
            "Evaluate Validation:   0%|          | 0/2 [00:00<?, ?it/s]"
          ]
        },
        {
          "output_type": "stream",
          "name": "stdout",
          "text": [
            "sample 3 num of prompts for COVID from total 12\n"
          ]
        },
        {
          "output_type": "stream",
          "name": "stderr",
          "text": [
            "\rEvaluate Validation:  50%|█████     | 1/2 [00:00<00:00,  1.83it/s]"
          ]
        },
        {
          "output_type": "stream",
          "name": "stdout",
          "text": [
            "sample 3 num of prompts for COVID from total 12\n"
          ]
        },
        {
          "output_type": "stream",
          "name": "stderr",
          "text": [
            "Evaluate Validation: 100%|██████████| 2/2 [00:01<00:00,  1.29it/s]\n",
            "Evaluate Test:   0%|          | 0/3 [00:00<?, ?it/s]"
          ]
        },
        {
          "output_type": "stream",
          "name": "stdout",
          "text": [
            "sample 3 num of prompts for COVID from total 12\n"
          ]
        },
        {
          "output_type": "stream",
          "name": "stderr",
          "text": [
            "\rEvaluate Test:  33%|███▎      | 1/3 [00:00<00:00,  2.00it/s]"
          ]
        },
        {
          "output_type": "stream",
          "name": "stdout",
          "text": [
            "sample 3 num of prompts for COVID from total 12\n"
          ]
        },
        {
          "output_type": "stream",
          "name": "stderr",
          "text": [
            "\rEvaluate Test:  67%|██████▋   | 2/3 [00:01<00:01,  1.03s/it]"
          ]
        },
        {
          "output_type": "stream",
          "name": "stdout",
          "text": [
            "sample 3 num of prompts for COVID from total 12\n"
          ]
        },
        {
          "output_type": "stream",
          "name": "stderr",
          "text": [
            "Evaluate Test: 100%|██████████| 3/3 [00:02<00:00,  1.31it/s]\n"
          ]
        },
        {
          "output_type": "stream",
          "name": "stdout",
          "text": [
            "\n",
            "Accuracy: 0.7516, Precision: 0.6816, Recall: 0.9163, AUC: 0.8595\n"
          ]
        },
        {
          "output_type": "stream",
          "name": "stderr",
          "text": [
            "\rEvaluate Train:   0%|          | 0/8 [00:00<?, ?it/s]"
          ]
        },
        {
          "output_type": "stream",
          "name": "stdout",
          "text": [
            "sample 4 num of prompts for COVID from total 12\n"
          ]
        },
        {
          "output_type": "stream",
          "name": "stderr",
          "text": [
            "\rEvaluate Train:  12%|█▎        | 1/8 [00:00<00:03,  1.94it/s]"
          ]
        },
        {
          "output_type": "stream",
          "name": "stdout",
          "text": [
            "sample 4 num of prompts for COVID from total 12\n"
          ]
        },
        {
          "output_type": "stream",
          "name": "stderr",
          "text": [
            "\rEvaluate Train:  25%|██▌       | 2/8 [00:01<00:03,  1.98it/s]"
          ]
        },
        {
          "output_type": "stream",
          "name": "stdout",
          "text": [
            "sample 4 num of prompts for COVID from total 12\n"
          ]
        },
        {
          "output_type": "stream",
          "name": "stderr",
          "text": [
            "\rEvaluate Train:  38%|███▊      | 3/8 [00:02<00:03,  1.32it/s]"
          ]
        },
        {
          "output_type": "stream",
          "name": "stdout",
          "text": [
            "sample 4 num of prompts for COVID from total 12\n"
          ]
        },
        {
          "output_type": "stream",
          "name": "stderr",
          "text": [
            "\rEvaluate Train:  50%|█████     | 4/8 [00:02<00:02,  1.52it/s]"
          ]
        },
        {
          "output_type": "stream",
          "name": "stdout",
          "text": [
            "sample 4 num of prompts for COVID from total 12\n"
          ]
        },
        {
          "output_type": "stream",
          "name": "stderr",
          "text": [
            "\rEvaluate Train:  62%|██████▎   | 5/8 [00:03<00:01,  1.66it/s]"
          ]
        },
        {
          "output_type": "stream",
          "name": "stdout",
          "text": [
            "sample 4 num of prompts for COVID from total 12\n"
          ]
        },
        {
          "output_type": "stream",
          "name": "stderr",
          "text": [
            "\rEvaluate Train:  75%|███████▌  | 6/8 [00:04<00:01,  1.25it/s]"
          ]
        },
        {
          "output_type": "stream",
          "name": "stdout",
          "text": [
            "sample 4 num of prompts for COVID from total 12\n"
          ]
        },
        {
          "output_type": "stream",
          "name": "stderr",
          "text": [
            "\rEvaluate Train:  88%|████████▊ | 7/8 [00:04<00:00,  1.41it/s]"
          ]
        },
        {
          "output_type": "stream",
          "name": "stdout",
          "text": [
            "sample 4 num of prompts for COVID from total 12\n"
          ]
        },
        {
          "output_type": "stream",
          "name": "stderr",
          "text": [
            "Evaluate Train: 100%|██████████| 8/8 [00:05<00:00,  1.47it/s]\n",
            "Evaluate Validation:   0%|          | 0/2 [00:00<?, ?it/s]"
          ]
        },
        {
          "output_type": "stream",
          "name": "stdout",
          "text": [
            "sample 4 num of prompts for COVID from total 12\n"
          ]
        },
        {
          "output_type": "stream",
          "name": "stderr",
          "text": [
            "\rEvaluate Validation:  50%|█████     | 1/2 [00:00<00:00,  1.99it/s]"
          ]
        },
        {
          "output_type": "stream",
          "name": "stdout",
          "text": [
            "sample 4 num of prompts for COVID from total 12\n"
          ]
        },
        {
          "output_type": "stream",
          "name": "stderr",
          "text": [
            "Evaluate Validation: 100%|██████████| 2/2 [00:01<00:00,  1.22it/s]\n",
            "Evaluate Test:   0%|          | 0/3 [00:00<?, ?it/s]"
          ]
        },
        {
          "output_type": "stream",
          "name": "stdout",
          "text": [
            "sample 4 num of prompts for COVID from total 12\n"
          ]
        },
        {
          "output_type": "stream",
          "name": "stderr",
          "text": [
            "\rEvaluate Test:  33%|███▎      | 1/3 [00:00<00:01,  1.42it/s]"
          ]
        },
        {
          "output_type": "stream",
          "name": "stdout",
          "text": [
            "sample 4 num of prompts for COVID from total 12\n"
          ]
        },
        {
          "output_type": "stream",
          "name": "stderr",
          "text": [
            "\rEvaluate Test:  67%|██████▋   | 2/3 [00:01<00:00,  1.31it/s]"
          ]
        },
        {
          "output_type": "stream",
          "name": "stdout",
          "text": [
            "sample 4 num of prompts for COVID from total 12\n"
          ]
        },
        {
          "output_type": "stream",
          "name": "stderr",
          "text": [
            "Evaluate Test: 100%|██████████| 3/3 [00:02<00:00,  1.19it/s]\n"
          ]
        },
        {
          "output_type": "stream",
          "name": "stdout",
          "text": [
            "\n",
            "Accuracy: 0.7409, Precision: 0.6863, Recall: 0.8587, AUC: 0.8374\n"
          ]
        },
        {
          "output_type": "stream",
          "name": "stderr",
          "text": [
            "\rEvaluate Train:   0%|          | 0/8 [00:00<?, ?it/s]"
          ]
        },
        {
          "output_type": "stream",
          "name": "stdout",
          "text": [
            "sample 5 num of prompts for COVID from total 12\n"
          ]
        },
        {
          "output_type": "stream",
          "name": "stderr",
          "text": [
            "\rEvaluate Train:  12%|█▎        | 1/8 [00:00<00:03,  1.82it/s]"
          ]
        },
        {
          "output_type": "stream",
          "name": "stdout",
          "text": [
            "sample 5 num of prompts for COVID from total 12\n"
          ]
        },
        {
          "output_type": "stream",
          "name": "stderr",
          "text": [
            "\rEvaluate Train:  25%|██▌       | 2/8 [00:01<00:03,  1.87it/s]"
          ]
        },
        {
          "output_type": "stream",
          "name": "stdout",
          "text": [
            "sample 5 num of prompts for COVID from total 12\n"
          ]
        },
        {
          "output_type": "stream",
          "name": "stderr",
          "text": [
            "\rEvaluate Train:  38%|███▊      | 3/8 [00:01<00:03,  1.66it/s]"
          ]
        },
        {
          "output_type": "stream",
          "name": "stdout",
          "text": [
            "sample 5 num of prompts for COVID from total 12\n"
          ]
        },
        {
          "output_type": "stream",
          "name": "stderr",
          "text": [
            "\rEvaluate Train:  50%|█████     | 4/8 [00:02<00:02,  1.75it/s]"
          ]
        },
        {
          "output_type": "stream",
          "name": "stdout",
          "text": [
            "sample 5 num of prompts for COVID from total 12\n"
          ]
        },
        {
          "output_type": "stream",
          "name": "stderr",
          "text": [
            "\rEvaluate Train:  62%|██████▎   | 5/8 [00:03<00:02,  1.25it/s]"
          ]
        },
        {
          "output_type": "stream",
          "name": "stdout",
          "text": [
            "sample 5 num of prompts for COVID from total 12\n"
          ]
        },
        {
          "output_type": "stream",
          "name": "stderr",
          "text": [
            "\rEvaluate Train:  75%|███████▌  | 6/8 [00:04<00:01,  1.19it/s]"
          ]
        },
        {
          "output_type": "stream",
          "name": "stdout",
          "text": [
            "sample 5 num of prompts for COVID from total 12\n"
          ]
        },
        {
          "output_type": "stream",
          "name": "stderr",
          "text": [
            "\rEvaluate Train:  88%|████████▊ | 7/8 [00:04<00:00,  1.34it/s]"
          ]
        },
        {
          "output_type": "stream",
          "name": "stdout",
          "text": [
            "sample 5 num of prompts for COVID from total 12\n"
          ]
        },
        {
          "output_type": "stream",
          "name": "stderr",
          "text": [
            "Evaluate Train: 100%|██████████| 8/8 [00:05<00:00,  1.34it/s]\n",
            "Evaluate Validation:   0%|          | 0/2 [00:00<?, ?it/s]"
          ]
        },
        {
          "output_type": "stream",
          "name": "stdout",
          "text": [
            "sample 5 num of prompts for COVID from total 12\n"
          ]
        },
        {
          "output_type": "stream",
          "name": "stderr",
          "text": [
            "\rEvaluate Validation:  50%|█████     | 1/2 [00:00<00:00,  1.95it/s]"
          ]
        },
        {
          "output_type": "stream",
          "name": "stdout",
          "text": [
            "sample 5 num of prompts for COVID from total 12\n"
          ]
        },
        {
          "output_type": "stream",
          "name": "stderr",
          "text": [
            "Evaluate Validation: 100%|██████████| 2/2 [00:02<00:00,  1.06s/it]\n",
            "Evaluate Test:   0%|          | 0/3 [00:00<?, ?it/s]"
          ]
        },
        {
          "output_type": "stream",
          "name": "stdout",
          "text": [
            "sample 5 num of prompts for COVID from total 12\n"
          ]
        },
        {
          "output_type": "stream",
          "name": "stderr",
          "text": [
            "\rEvaluate Test:  33%|███▎      | 1/3 [00:00<00:01,  1.93it/s]"
          ]
        },
        {
          "output_type": "stream",
          "name": "stdout",
          "text": [
            "sample 5 num of prompts for COVID from total 12\n"
          ]
        },
        {
          "output_type": "stream",
          "name": "stderr",
          "text": [
            "\rEvaluate Test:  67%|██████▋   | 2/3 [00:01<00:00,  1.46it/s]"
          ]
        },
        {
          "output_type": "stream",
          "name": "stdout",
          "text": [
            "sample 5 num of prompts for COVID from total 12\n"
          ]
        },
        {
          "output_type": "stream",
          "name": "stderr",
          "text": [
            "Evaluate Test: 100%|██████████| 3/3 [00:01<00:00,  1.72it/s]\n"
          ]
        },
        {
          "output_type": "stream",
          "name": "stdout",
          "text": [
            "\n",
            "Accuracy: 0.7503, Precision: 0.6799, Recall: 0.9176, AUC: 0.8593\n"
          ]
        },
        {
          "output_type": "stream",
          "name": "stderr",
          "text": [
            "\rEvaluate Train:   0%|          | 0/8 [00:00<?, ?it/s]"
          ]
        },
        {
          "output_type": "stream",
          "name": "stdout",
          "text": [
            "sample 6 num of prompts for COVID from total 12\n"
          ]
        },
        {
          "output_type": "stream",
          "name": "stderr",
          "text": [
            "\rEvaluate Train:  12%|█▎        | 1/8 [00:00<00:03,  1.93it/s]"
          ]
        },
        {
          "output_type": "stream",
          "name": "stdout",
          "text": [
            "sample 6 num of prompts for COVID from total 12\n"
          ]
        },
        {
          "output_type": "stream",
          "name": "stderr",
          "text": [
            "\rEvaluate Train:  25%|██▌       | 2/8 [00:01<00:03,  1.96it/s]"
          ]
        },
        {
          "output_type": "stream",
          "name": "stdout",
          "text": [
            "sample 6 num of prompts for COVID from total 12\n"
          ]
        },
        {
          "output_type": "stream",
          "name": "stderr",
          "text": [
            "\rEvaluate Train:  38%|███▊      | 3/8 [00:01<00:02,  1.80it/s]"
          ]
        },
        {
          "output_type": "stream",
          "name": "stdout",
          "text": [
            "sample 6 num of prompts for COVID from total 12\n"
          ]
        },
        {
          "output_type": "stream",
          "name": "stderr",
          "text": [
            "\rEvaluate Train:  50%|█████     | 4/8 [00:02<00:03,  1.26it/s]"
          ]
        },
        {
          "output_type": "stream",
          "name": "stdout",
          "text": [
            "sample 6 num of prompts for COVID from total 12\n"
          ]
        },
        {
          "output_type": "stream",
          "name": "stderr",
          "text": [
            "\rEvaluate Train:  62%|██████▎   | 5/8 [00:03<00:02,  1.26it/s]"
          ]
        },
        {
          "output_type": "stream",
          "name": "stdout",
          "text": [
            "sample 6 num of prompts for COVID from total 12\n"
          ]
        },
        {
          "output_type": "stream",
          "name": "stderr",
          "text": [
            "\rEvaluate Train:  75%|███████▌  | 6/8 [00:04<00:01,  1.21it/s]"
          ]
        },
        {
          "output_type": "stream",
          "name": "stdout",
          "text": [
            "sample 6 num of prompts for COVID from total 12\n"
          ]
        },
        {
          "output_type": "stream",
          "name": "stderr",
          "text": [
            "\rEvaluate Train:  88%|████████▊ | 7/8 [00:04<00:00,  1.37it/s]"
          ]
        },
        {
          "output_type": "stream",
          "name": "stdout",
          "text": [
            "sample 6 num of prompts for COVID from total 12\n"
          ]
        },
        {
          "output_type": "stream",
          "name": "stderr",
          "text": [
            "Evaluate Train: 100%|██████████| 8/8 [00:05<00:00,  1.47it/s]\n",
            "Evaluate Validation:   0%|          | 0/2 [00:00<?, ?it/s]"
          ]
        },
        {
          "output_type": "stream",
          "name": "stdout",
          "text": [
            "sample 6 num of prompts for COVID from total 12\n"
          ]
        },
        {
          "output_type": "stream",
          "name": "stderr",
          "text": [
            "\rEvaluate Validation:  50%|█████     | 1/2 [00:00<00:00,  1.96it/s]"
          ]
        },
        {
          "output_type": "stream",
          "name": "stdout",
          "text": [
            "sample 6 num of prompts for COVID from total 12\n"
          ]
        },
        {
          "output_type": "stream",
          "name": "stderr",
          "text": [
            "Evaluate Validation: 100%|██████████| 2/2 [00:01<00:00,  1.92it/s]\n",
            "Evaluate Test:   0%|          | 0/3 [00:00<?, ?it/s]"
          ]
        },
        {
          "output_type": "stream",
          "name": "stdout",
          "text": [
            "sample 6 num of prompts for COVID from total 12\n"
          ]
        },
        {
          "output_type": "stream",
          "name": "stderr",
          "text": [
            "\rEvaluate Test:  33%|███▎      | 1/3 [00:00<00:01,  1.90it/s]"
          ]
        },
        {
          "output_type": "stream",
          "name": "stdout",
          "text": [
            "sample 6 num of prompts for COVID from total 12\n"
          ]
        },
        {
          "output_type": "stream",
          "name": "stderr",
          "text": [
            "\rEvaluate Test:  67%|██████▋   | 2/3 [00:01<00:00,  1.60it/s]"
          ]
        },
        {
          "output_type": "stream",
          "name": "stdout",
          "text": [
            "sample 6 num of prompts for COVID from total 12\n"
          ]
        },
        {
          "output_type": "stream",
          "name": "stderr",
          "text": [
            "Evaluate Test: 100%|██████████| 3/3 [00:01<00:00,  1.56it/s]\n"
          ]
        },
        {
          "output_type": "stream",
          "name": "stdout",
          "text": [
            "\n",
            "Accuracy: 0.7503, Precision: 0.6792, Recall: 0.9203, AUC: 0.8596\n"
          ]
        },
        {
          "output_type": "stream",
          "name": "stderr",
          "text": [
            "\rEvaluate Train:   0%|          | 0/8 [00:00<?, ?it/s]"
          ]
        },
        {
          "output_type": "stream",
          "name": "stdout",
          "text": [
            "sample 7 num of prompts for COVID from total 12\n"
          ]
        },
        {
          "output_type": "stream",
          "name": "stderr",
          "text": [
            "\rEvaluate Train:  12%|█▎        | 1/8 [00:00<00:03,  1.90it/s]"
          ]
        },
        {
          "output_type": "stream",
          "name": "stdout",
          "text": [
            "sample 7 num of prompts for COVID from total 12\n"
          ]
        },
        {
          "output_type": "stream",
          "name": "stderr",
          "text": [
            "\rEvaluate Train:  25%|██▌       | 2/8 [00:01<00:03,  1.91it/s]"
          ]
        },
        {
          "output_type": "stream",
          "name": "stdout",
          "text": [
            "sample 7 num of prompts for COVID from total 12\n"
          ]
        },
        {
          "output_type": "stream",
          "name": "stderr",
          "text": [
            "\rEvaluate Train:  38%|███▊      | 3/8 [00:01<00:02,  1.88it/s]"
          ]
        },
        {
          "output_type": "stream",
          "name": "stdout",
          "text": [
            "sample 7 num of prompts for COVID from total 12\n"
          ]
        },
        {
          "output_type": "stream",
          "name": "stderr",
          "text": [
            "\rEvaluate Train:  50%|█████     | 4/8 [00:02<00:02,  1.75it/s]"
          ]
        },
        {
          "output_type": "stream",
          "name": "stdout",
          "text": [
            "sample 7 num of prompts for COVID from total 12\n"
          ]
        },
        {
          "output_type": "stream",
          "name": "stderr",
          "text": [
            "\rEvaluate Train:  62%|██████▎   | 5/8 [00:03<00:02,  1.46it/s]"
          ]
        },
        {
          "output_type": "stream",
          "name": "stdout",
          "text": [
            "sample 7 num of prompts for COVID from total 12\n"
          ]
        },
        {
          "output_type": "stream",
          "name": "stderr",
          "text": [
            "\rEvaluate Train:  75%|███████▌  | 6/8 [00:04<00:01,  1.30it/s]"
          ]
        },
        {
          "output_type": "stream",
          "name": "stdout",
          "text": [
            "sample 7 num of prompts for COVID from total 12\n"
          ]
        },
        {
          "output_type": "stream",
          "name": "stderr",
          "text": [
            "\rEvaluate Train:  88%|████████▊ | 7/8 [00:04<00:00,  1.38it/s]"
          ]
        },
        {
          "output_type": "stream",
          "name": "stdout",
          "text": [
            "sample 7 num of prompts for COVID from total 12\n"
          ]
        },
        {
          "output_type": "stream",
          "name": "stderr",
          "text": [
            "Evaluate Train: 100%|██████████| 8/8 [00:05<00:00,  1.43it/s]\n",
            "Evaluate Validation:   0%|          | 0/2 [00:00<?, ?it/s]"
          ]
        },
        {
          "output_type": "stream",
          "name": "stdout",
          "text": [
            "sample 7 num of prompts for COVID from total 12\n"
          ]
        },
        {
          "output_type": "stream",
          "name": "stderr",
          "text": [
            "\rEvaluate Validation:  50%|█████     | 1/2 [00:00<00:00,  1.98it/s]"
          ]
        },
        {
          "output_type": "stream",
          "name": "stdout",
          "text": [
            "sample 7 num of prompts for COVID from total 12\n"
          ]
        },
        {
          "output_type": "stream",
          "name": "stderr",
          "text": [
            "Evaluate Validation: 100%|██████████| 2/2 [00:01<00:00,  1.39it/s]\n",
            "Evaluate Test:   0%|          | 0/3 [00:00<?, ?it/s]"
          ]
        },
        {
          "output_type": "stream",
          "name": "stdout",
          "text": [
            "sample 7 num of prompts for COVID from total 12\n"
          ]
        },
        {
          "output_type": "stream",
          "name": "stderr",
          "text": [
            "\rEvaluate Test:  33%|███▎      | 1/3 [00:00<00:01,  1.76it/s]"
          ]
        },
        {
          "output_type": "stream",
          "name": "stdout",
          "text": [
            "sample 7 num of prompts for COVID from total 12\n"
          ]
        },
        {
          "output_type": "stream",
          "name": "stderr",
          "text": [
            "\rEvaluate Test:  67%|██████▋   | 2/3 [00:01<00:00,  1.89it/s]"
          ]
        },
        {
          "output_type": "stream",
          "name": "stdout",
          "text": [
            "sample 7 num of prompts for COVID from total 12\n"
          ]
        },
        {
          "output_type": "stream",
          "name": "stderr",
          "text": [
            "Evaluate Test: 100%|██████████| 3/3 [00:02<00:00,  1.20it/s]\n"
          ]
        },
        {
          "output_type": "stream",
          "name": "stdout",
          "text": [
            "\n",
            "Accuracy: 0.7497, Precision: 0.6785, Recall: 0.9203, AUC: 0.8600\n"
          ]
        },
        {
          "output_type": "stream",
          "name": "stderr",
          "text": [
            "\rEvaluate Train:   0%|          | 0/8 [00:00<?, ?it/s]"
          ]
        },
        {
          "output_type": "stream",
          "name": "stdout",
          "text": [
            "sample 8 num of prompts for COVID from total 12\n"
          ]
        },
        {
          "output_type": "stream",
          "name": "stderr",
          "text": [
            "\rEvaluate Train:  12%|█▎        | 1/8 [00:00<00:03,  1.97it/s]"
          ]
        },
        {
          "output_type": "stream",
          "name": "stdout",
          "text": [
            "sample 8 num of prompts for COVID from total 12\n"
          ]
        },
        {
          "output_type": "stream",
          "name": "stderr",
          "text": [
            "\rEvaluate Train:  25%|██▌       | 2/8 [00:01<00:03,  1.78it/s]"
          ]
        },
        {
          "output_type": "stream",
          "name": "stdout",
          "text": [
            "sample 8 num of prompts for COVID from total 12\n"
          ]
        },
        {
          "output_type": "stream",
          "name": "stderr",
          "text": [
            "\rEvaluate Train:  38%|███▊      | 3/8 [00:01<00:02,  1.86it/s]"
          ]
        },
        {
          "output_type": "stream",
          "name": "stdout",
          "text": [
            "sample 8 num of prompts for COVID from total 12\n"
          ]
        },
        {
          "output_type": "stream",
          "name": "stderr",
          "text": [
            "\rEvaluate Train:  50%|█████     | 4/8 [00:02<00:02,  1.46it/s]"
          ]
        },
        {
          "output_type": "stream",
          "name": "stdout",
          "text": [
            "sample 8 num of prompts for COVID from total 12\n"
          ]
        },
        {
          "output_type": "stream",
          "name": "stderr",
          "text": [
            "\rEvaluate Train:  62%|██████▎   | 5/8 [00:03<00:02,  1.24it/s]"
          ]
        },
        {
          "output_type": "stream",
          "name": "stdout",
          "text": [
            "sample 8 num of prompts for COVID from total 12\n"
          ]
        },
        {
          "output_type": "stream",
          "name": "stderr",
          "text": [
            "\rEvaluate Train:  75%|███████▌  | 6/8 [00:04<00:01,  1.41it/s]"
          ]
        },
        {
          "output_type": "stream",
          "name": "stdout",
          "text": [
            "sample 8 num of prompts for COVID from total 12\n"
          ]
        },
        {
          "output_type": "stream",
          "name": "stderr",
          "text": [
            "\rEvaluate Train:  88%|████████▊ | 7/8 [00:04<00:00,  1.47it/s]"
          ]
        },
        {
          "output_type": "stream",
          "name": "stdout",
          "text": [
            "sample 8 num of prompts for COVID from total 12\n"
          ]
        },
        {
          "output_type": "stream",
          "name": "stderr",
          "text": [
            "Evaluate Train: 100%|██████████| 8/8 [00:05<00:00,  1.35it/s]\n",
            "Evaluate Validation:   0%|          | 0/2 [00:00<?, ?it/s]"
          ]
        },
        {
          "output_type": "stream",
          "name": "stdout",
          "text": [
            "sample 8 num of prompts for COVID from total 12\n"
          ]
        },
        {
          "output_type": "stream",
          "name": "stderr",
          "text": [
            "\rEvaluate Validation:  50%|█████     | 1/2 [00:00<00:00,  1.94it/s]"
          ]
        },
        {
          "output_type": "stream",
          "name": "stdout",
          "text": [
            "sample 8 num of prompts for COVID from total 12\n"
          ]
        },
        {
          "output_type": "stream",
          "name": "stderr",
          "text": [
            "Evaluate Validation: 100%|██████████| 2/2 [00:01<00:00,  1.97it/s]\n",
            "Evaluate Test:   0%|          | 0/3 [00:00<?, ?it/s]"
          ]
        },
        {
          "output_type": "stream",
          "name": "stdout",
          "text": [
            "sample 8 num of prompts for COVID from total 12\n"
          ]
        },
        {
          "output_type": "stream",
          "name": "stderr",
          "text": [
            "\rEvaluate Test:  33%|███▎      | 1/3 [00:00<00:01,  1.95it/s]"
          ]
        },
        {
          "output_type": "stream",
          "name": "stdout",
          "text": [
            "sample 8 num of prompts for COVID from total 12\n"
          ]
        },
        {
          "output_type": "stream",
          "name": "stderr",
          "text": [
            "\rEvaluate Test:  67%|██████▋   | 2/3 [00:01<00:00,  1.20it/s]"
          ]
        },
        {
          "output_type": "stream",
          "name": "stdout",
          "text": [
            "sample 8 num of prompts for COVID from total 12\n"
          ]
        },
        {
          "output_type": "stream",
          "name": "stderr",
          "text": [
            "Evaluate Test: 100%|██████████| 3/3 [00:02<00:00,  1.26it/s]\n"
          ]
        },
        {
          "output_type": "stream",
          "name": "stdout",
          "text": [
            "\n",
            "Accuracy: 0.7497, Precision: 0.6783, Recall: 0.9210, AUC: 0.8600\n"
          ]
        },
        {
          "output_type": "stream",
          "name": "stderr",
          "text": [
            "\rEvaluate Train:   0%|          | 0/8 [00:00<?, ?it/s]"
          ]
        },
        {
          "output_type": "stream",
          "name": "stdout",
          "text": [
            "sample 9 num of prompts for COVID from total 12\n"
          ]
        },
        {
          "output_type": "stream",
          "name": "stderr",
          "text": [
            "\rEvaluate Train:  12%|█▎        | 1/8 [00:00<00:05,  1.28it/s]"
          ]
        },
        {
          "output_type": "stream",
          "name": "stdout",
          "text": [
            "sample 9 num of prompts for COVID from total 12\n"
          ]
        },
        {
          "output_type": "stream",
          "name": "stderr",
          "text": [
            "\rEvaluate Train:  25%|██▌       | 2/8 [00:01<00:05,  1.20it/s]"
          ]
        },
        {
          "output_type": "stream",
          "name": "stdout",
          "text": [
            "sample 9 num of prompts for COVID from total 12\n"
          ]
        },
        {
          "output_type": "stream",
          "name": "stderr",
          "text": [
            "\rEvaluate Train:  38%|███▊      | 3/8 [00:02<00:03,  1.43it/s]"
          ]
        },
        {
          "output_type": "stream",
          "name": "stdout",
          "text": [
            "sample 9 num of prompts for COVID from total 12\n"
          ]
        },
        {
          "output_type": "stream",
          "name": "stderr",
          "text": [
            "\rEvaluate Train:  50%|█████     | 4/8 [00:03<00:03,  1.08it/s]"
          ]
        },
        {
          "output_type": "stream",
          "name": "stdout",
          "text": [
            "sample 9 num of prompts for COVID from total 12\n"
          ]
        },
        {
          "output_type": "stream",
          "name": "stderr",
          "text": [
            "\rEvaluate Train:  62%|██████▎   | 5/8 [00:04<00:02,  1.14it/s]"
          ]
        },
        {
          "output_type": "stream",
          "name": "stdout",
          "text": [
            "sample 9 num of prompts for COVID from total 12\n"
          ]
        },
        {
          "output_type": "stream",
          "name": "stderr",
          "text": [
            "\rEvaluate Train:  75%|███████▌  | 6/8 [00:04<00:01,  1.33it/s]"
          ]
        },
        {
          "output_type": "stream",
          "name": "stdout",
          "text": [
            "sample 9 num of prompts for COVID from total 12\n"
          ]
        },
        {
          "output_type": "stream",
          "name": "stderr",
          "text": [
            "\rEvaluate Train:  88%|████████▊ | 7/8 [00:05<00:00,  1.45it/s]"
          ]
        },
        {
          "output_type": "stream",
          "name": "stdout",
          "text": [
            "sample 9 num of prompts for COVID from total 12\n"
          ]
        },
        {
          "output_type": "stream",
          "name": "stderr",
          "text": [
            "Evaluate Train: 100%|██████████| 8/8 [00:06<00:00,  1.33it/s]\n",
            "Evaluate Validation:   0%|          | 0/2 [00:00<?, ?it/s]"
          ]
        },
        {
          "output_type": "stream",
          "name": "stdout",
          "text": [
            "sample 9 num of prompts for COVID from total 12\n"
          ]
        },
        {
          "output_type": "stream",
          "name": "stderr",
          "text": [
            "\rEvaluate Validation:  50%|█████     | 1/2 [00:00<00:00,  1.89it/s]"
          ]
        },
        {
          "output_type": "stream",
          "name": "stdout",
          "text": [
            "sample 9 num of prompts for COVID from total 12\n"
          ]
        },
        {
          "output_type": "stream",
          "name": "stderr",
          "text": [
            "Evaluate Validation: 100%|██████████| 2/2 [00:01<00:00,  1.52it/s]\n",
            "Evaluate Test:   0%|          | 0/3 [00:00<?, ?it/s]"
          ]
        },
        {
          "output_type": "stream",
          "name": "stdout",
          "text": [
            "sample 9 num of prompts for COVID from total 12\n"
          ]
        },
        {
          "output_type": "stream",
          "name": "stderr",
          "text": [
            "\rEvaluate Test:  33%|███▎      | 1/3 [00:00<00:01,  1.79it/s]"
          ]
        },
        {
          "output_type": "stream",
          "name": "stdout",
          "text": [
            "sample 9 num of prompts for COVID from total 12\n"
          ]
        },
        {
          "output_type": "stream",
          "name": "stderr",
          "text": [
            "\rEvaluate Test:  67%|██████▋   | 2/3 [00:01<00:01,  1.01s/it]"
          ]
        },
        {
          "output_type": "stream",
          "name": "stdout",
          "text": [
            "sample 9 num of prompts for COVID from total 12\n"
          ]
        },
        {
          "output_type": "stream",
          "name": "stderr",
          "text": [
            "Evaluate Test: 100%|██████████| 3/3 [00:02<00:00,  1.14it/s]\n"
          ]
        },
        {
          "output_type": "stream",
          "name": "stdout",
          "text": [
            "\n",
            "Accuracy: 0.7500, Precision: 0.6783, Recall: 0.9223, AUC: 0.8599\n"
          ]
        },
        {
          "output_type": "stream",
          "name": "stderr",
          "text": [
            "\rEvaluate Train:   0%|          | 0/8 [00:00<?, ?it/s]"
          ]
        },
        {
          "output_type": "stream",
          "name": "stdout",
          "text": [
            "sample 10 num of prompts for COVID from total 12\n"
          ]
        },
        {
          "output_type": "stream",
          "name": "stderr",
          "text": [
            "Evaluate Train:  25%|██▌       | 2/8 [00:01<00:03,  1.62it/s]"
          ]
        },
        {
          "output_type": "stream",
          "name": "stdout",
          "text": [
            "sample 10 num of prompts for COVID from total 12\n",
            "sample 10 num of prompts for COVID from total 12\n"
          ]
        },
        {
          "output_type": "stream",
          "name": "stderr",
          "text": [
            "\rEvaluate Train:  38%|███▊      | 3/8 [00:02<00:04,  1.13it/s]"
          ]
        },
        {
          "output_type": "stream",
          "name": "stdout",
          "text": [
            "sample 10 num of prompts for COVID from total 12\n"
          ]
        },
        {
          "output_type": "stream",
          "name": "stderr",
          "text": [
            "\rEvaluate Train:  50%|█████     | 4/8 [00:03<00:03,  1.21it/s]"
          ]
        },
        {
          "output_type": "stream",
          "name": "stdout",
          "text": [
            "sample 10 num of prompts for COVID from total 12\n"
          ]
        },
        {
          "output_type": "stream",
          "name": "stderr",
          "text": [
            "\rEvaluate Train:  62%|██████▎   | 5/8 [00:03<00:02,  1.39it/s]"
          ]
        },
        {
          "output_type": "stream",
          "name": "stdout",
          "text": [
            "sample 10 num of prompts for COVID from total 12\n"
          ]
        },
        {
          "output_type": "stream",
          "name": "stderr",
          "text": [
            "\rEvaluate Train:  75%|███████▌  | 6/8 [00:04<00:01,  1.50it/s]"
          ]
        },
        {
          "output_type": "stream",
          "name": "stdout",
          "text": [
            "sample 10 num of prompts for COVID from total 12\n"
          ]
        },
        {
          "output_type": "stream",
          "name": "stderr",
          "text": [
            "\rEvaluate Train:  88%|████████▊ | 7/8 [00:05<00:00,  1.42it/s]"
          ]
        },
        {
          "output_type": "stream",
          "name": "stdout",
          "text": [
            "sample 10 num of prompts for COVID from total 12\n"
          ]
        },
        {
          "output_type": "stream",
          "name": "stderr",
          "text": [
            "Evaluate Train: 100%|██████████| 8/8 [00:05<00:00,  1.34it/s]\n",
            "Evaluate Validation:   0%|          | 0/2 [00:00<?, ?it/s]"
          ]
        },
        {
          "output_type": "stream",
          "name": "stdout",
          "text": [
            "sample 10 num of prompts for COVID from total 12\n"
          ]
        },
        {
          "output_type": "stream",
          "name": "stderr",
          "text": [
            "\rEvaluate Validation:  50%|█████     | 1/2 [00:00<00:00,  1.55it/s]"
          ]
        },
        {
          "output_type": "stream",
          "name": "stdout",
          "text": [
            "sample 10 num of prompts for COVID from total 12\n"
          ]
        },
        {
          "output_type": "stream",
          "name": "stderr",
          "text": [
            "Evaluate Validation: 100%|██████████| 2/2 [00:01<00:00,  1.49it/s]\n",
            "Evaluate Test:   0%|          | 0/3 [00:00<?, ?it/s]"
          ]
        },
        {
          "output_type": "stream",
          "name": "stdout",
          "text": [
            "sample 10 num of prompts for COVID from total 12\n"
          ]
        },
        {
          "output_type": "stream",
          "name": "stderr",
          "text": [
            "\rEvaluate Test:  33%|███▎      | 1/3 [00:00<00:01,  1.75it/s]"
          ]
        },
        {
          "output_type": "stream",
          "name": "stdout",
          "text": [
            "sample 10 num of prompts for COVID from total 12\n"
          ]
        },
        {
          "output_type": "stream",
          "name": "stderr",
          "text": [
            "\rEvaluate Test:  67%|██████▋   | 2/3 [00:01<00:00,  1.08it/s]"
          ]
        },
        {
          "output_type": "stream",
          "name": "stdout",
          "text": [
            "sample 10 num of prompts for COVID from total 12\n"
          ]
        },
        {
          "output_type": "stream",
          "name": "stderr",
          "text": [
            "Evaluate Test: 100%|██████████| 3/3 [00:02<00:00,  1.38it/s]\n"
          ]
        },
        {
          "output_type": "stream",
          "name": "stdout",
          "text": [
            "\n",
            "Accuracy: 0.7497, Precision: 0.6780, Recall: 0.9223, AUC: 0.8596\n"
          ]
        },
        {
          "output_type": "stream",
          "name": "stderr",
          "text": [
            "\rEvaluate Train:   0%|          | 0/8 [00:00<?, ?it/s]"
          ]
        },
        {
          "output_type": "stream",
          "name": "stdout",
          "text": [
            "sample 11 num of prompts for COVID from total 12\n"
          ]
        },
        {
          "output_type": "stream",
          "name": "stderr",
          "text": [
            "\rEvaluate Train:  12%|█▎        | 1/8 [00:00<00:03,  1.92it/s]"
          ]
        },
        {
          "output_type": "stream",
          "name": "stdout",
          "text": [
            "sample 11 num of prompts for COVID from total 12\n"
          ]
        },
        {
          "output_type": "stream",
          "name": "stderr",
          "text": [
            "Evaluate Train:  38%|███▊      | 3/8 [00:01<00:02,  1.80it/s]"
          ]
        },
        {
          "output_type": "stream",
          "name": "stdout",
          "text": [
            "sample 11 num of prompts for COVID from total 12\n",
            "sample 11 num of prompts for COVID from total 12\n"
          ]
        },
        {
          "output_type": "stream",
          "name": "stderr",
          "text": [
            "\rEvaluate Train:  50%|█████     | 4/8 [00:02<00:02,  1.39it/s]"
          ]
        },
        {
          "output_type": "stream",
          "name": "stdout",
          "text": [
            "sample 11 num of prompts for COVID from total 12\n"
          ]
        },
        {
          "output_type": "stream",
          "name": "stderr",
          "text": [
            "\rEvaluate Train:  62%|██████▎   | 5/8 [00:03<00:02,  1.30it/s]"
          ]
        },
        {
          "output_type": "stream",
          "name": "stdout",
          "text": [
            "sample 11 num of prompts for COVID from total 12\n"
          ]
        },
        {
          "output_type": "stream",
          "name": "stderr",
          "text": [
            "\rEvaluate Train:  75%|███████▌  | 6/8 [00:04<00:01,  1.47it/s]"
          ]
        },
        {
          "output_type": "stream",
          "name": "stdout",
          "text": [
            "sample 11 num of prompts for COVID from total 12\n"
          ]
        },
        {
          "output_type": "stream",
          "name": "stderr",
          "text": [
            "\rEvaluate Train:  88%|████████▊ | 7/8 [00:04<00:00,  1.60it/s]"
          ]
        },
        {
          "output_type": "stream",
          "name": "stdout",
          "text": [
            "sample 11 num of prompts for COVID from total 12\n"
          ]
        },
        {
          "output_type": "stream",
          "name": "stderr",
          "text": [
            "Evaluate Train: 100%|██████████| 8/8 [00:06<00:00,  1.33it/s]\n",
            "Evaluate Validation:   0%|          | 0/2 [00:00<?, ?it/s]"
          ]
        },
        {
          "output_type": "stream",
          "name": "stdout",
          "text": [
            "sample 11 num of prompts for COVID from total 12\n"
          ]
        },
        {
          "output_type": "stream",
          "name": "stderr",
          "text": [
            "\rEvaluate Validation:  50%|█████     | 1/2 [00:00<00:00,  1.81it/s]"
          ]
        },
        {
          "output_type": "stream",
          "name": "stdout",
          "text": [
            "sample 11 num of prompts for COVID from total 12\n"
          ]
        },
        {
          "output_type": "stream",
          "name": "stderr",
          "text": [
            "Evaluate Validation: 100%|██████████| 2/2 [00:01<00:00,  1.88it/s]\n",
            "Evaluate Test:   0%|          | 0/3 [00:00<?, ?it/s]"
          ]
        },
        {
          "output_type": "stream",
          "name": "stdout",
          "text": [
            "sample 11 num of prompts for COVID from total 12\n"
          ]
        },
        {
          "output_type": "stream",
          "name": "stderr",
          "text": [
            "\rEvaluate Test:  33%|███▎      | 1/3 [00:00<00:01,  1.92it/s]"
          ]
        },
        {
          "output_type": "stream",
          "name": "stdout",
          "text": [
            "sample 11 num of prompts for COVID from total 12\n"
          ]
        },
        {
          "output_type": "stream",
          "name": "stderr",
          "text": [
            "\rEvaluate Test:  67%|██████▋   | 2/3 [00:01<00:00,  1.25it/s]"
          ]
        },
        {
          "output_type": "stream",
          "name": "stdout",
          "text": [
            "sample 11 num of prompts for COVID from total 12\n"
          ]
        },
        {
          "output_type": "stream",
          "name": "stderr",
          "text": [
            "Evaluate Test: 100%|██████████| 3/3 [00:02<00:00,  1.04it/s]\n"
          ]
        },
        {
          "output_type": "stream",
          "name": "stdout",
          "text": [
            "\n",
            "Accuracy: 0.7493, Precision: 0.6777, Recall: 0.9223, AUC: 0.8600\n"
          ]
        },
        {
          "output_type": "stream",
          "name": "stderr",
          "text": [
            "\rEvaluate Train:   0%|          | 0/8 [00:00<?, ?it/s]"
          ]
        },
        {
          "output_type": "stream",
          "name": "stdout",
          "text": [
            "sample 12 num of prompts for COVID from total 12\n"
          ]
        },
        {
          "output_type": "stream",
          "name": "stderr",
          "text": [
            "\rEvaluate Train:  12%|█▎        | 1/8 [00:00<00:05,  1.36it/s]"
          ]
        },
        {
          "output_type": "stream",
          "name": "stdout",
          "text": [
            "sample 12 num of prompts for COVID from total 12\n"
          ]
        },
        {
          "output_type": "stream",
          "name": "stderr",
          "text": [
            "\rEvaluate Train:  25%|██▌       | 2/8 [00:01<00:03,  1.62it/s]"
          ]
        },
        {
          "output_type": "stream",
          "name": "stdout",
          "text": [
            "sample 12 num of prompts for COVID from total 12\n"
          ]
        },
        {
          "output_type": "stream",
          "name": "stderr",
          "text": [
            "\rEvaluate Train:  38%|███▊      | 3/8 [00:02<00:04,  1.12it/s]"
          ]
        },
        {
          "output_type": "stream",
          "name": "stdout",
          "text": [
            "sample 12 num of prompts for COVID from total 12\n"
          ]
        },
        {
          "output_type": "stream",
          "name": "stderr",
          "text": [
            "\rEvaluate Train:  50%|█████     | 4/8 [00:03<00:02,  1.34it/s]"
          ]
        },
        {
          "output_type": "stream",
          "name": "stdout",
          "text": [
            "sample 12 num of prompts for COVID from total 12\n"
          ]
        },
        {
          "output_type": "stream",
          "name": "stderr",
          "text": [
            "\rEvaluate Train:  62%|██████▎   | 5/8 [00:03<00:02,  1.44it/s]"
          ]
        },
        {
          "output_type": "stream",
          "name": "stdout",
          "text": [
            "sample 12 num of prompts for COVID from total 12\n"
          ]
        },
        {
          "output_type": "stream",
          "name": "stderr",
          "text": [
            "\rEvaluate Train:  75%|███████▌  | 6/8 [00:04<00:01,  1.16it/s]"
          ]
        },
        {
          "output_type": "stream",
          "name": "stdout",
          "text": [
            "sample 12 num of prompts for COVID from total 12\n"
          ]
        },
        {
          "output_type": "stream",
          "name": "stderr",
          "text": [
            "\rEvaluate Train:  88%|████████▊ | 7/8 [00:05<00:00,  1.23it/s]"
          ]
        },
        {
          "output_type": "stream",
          "name": "stdout",
          "text": [
            "sample 12 num of prompts for COVID from total 12\n"
          ]
        },
        {
          "output_type": "stream",
          "name": "stderr",
          "text": [
            "Evaluate Train: 100%|██████████| 8/8 [00:07<00:00,  1.14it/s]\n",
            "Evaluate Validation:   0%|          | 0/2 [00:00<?, ?it/s]"
          ]
        },
        {
          "output_type": "stream",
          "name": "stdout",
          "text": [
            "sample 12 num of prompts for COVID from total 12\n"
          ]
        },
        {
          "output_type": "stream",
          "name": "stderr",
          "text": [
            "\rEvaluate Validation:  50%|█████     | 1/2 [00:00<00:00,  1.70it/s]"
          ]
        },
        {
          "output_type": "stream",
          "name": "stdout",
          "text": [
            "sample 12 num of prompts for COVID from total 12\n"
          ]
        },
        {
          "output_type": "stream",
          "name": "stderr",
          "text": [
            "Evaluate Validation: 100%|██████████| 2/2 [00:01<00:00,  1.38it/s]\n",
            "Evaluate Test:   0%|          | 0/3 [00:00<?, ?it/s]"
          ]
        },
        {
          "output_type": "stream",
          "name": "stdout",
          "text": [
            "sample 12 num of prompts for COVID from total 12\n"
          ]
        },
        {
          "output_type": "stream",
          "name": "stderr",
          "text": [
            "\rEvaluate Test:  33%|███▎      | 1/3 [00:00<00:01,  1.95it/s]"
          ]
        },
        {
          "output_type": "stream",
          "name": "stdout",
          "text": [
            "sample 12 num of prompts for COVID from total 12\n"
          ]
        },
        {
          "output_type": "stream",
          "name": "stderr",
          "text": [
            "\rEvaluate Test:  67%|██████▋   | 2/3 [00:01<00:00,  1.93it/s]"
          ]
        },
        {
          "output_type": "stream",
          "name": "stdout",
          "text": [
            "sample 12 num of prompts for COVID from total 12\n"
          ]
        },
        {
          "output_type": "stream",
          "name": "stderr",
          "text": [
            "Evaluate Test: 100%|██████████| 3/3 [00:02<00:00,  1.21it/s]\n"
          ]
        },
        {
          "output_type": "stream",
          "name": "stdout",
          "text": [
            "\n",
            "Accuracy: 0.7493, Precision: 0.6777, Recall: 0.9223, AUC: 0.8601\n",
            "Best AUC for covid_task with 12 prompts: 0.8601\n",
            "Results saved to results/zs_medclip_base/ucsd/medclip/classification_results.txt\n"
          ]
        },
        {
          "output_type": "stream",
          "name": "stderr",
          "text": [
            "\rEvaluate Train:   0%|          | 0/8 [00:00<?, ?it/s]"
          ]
        },
        {
          "output_type": "stream",
          "name": "stdout",
          "text": [
            "sample 1 num of prompts for Pneumonia from total 312\n"
          ]
        },
        {
          "output_type": "stream",
          "name": "stderr",
          "text": [
            "\rEvaluate Train:  12%|█▎        | 1/8 [00:00<00:03,  1.92it/s]"
          ]
        },
        {
          "output_type": "stream",
          "name": "stdout",
          "text": [
            "sample 1 num of prompts for Pneumonia from total 312\n"
          ]
        },
        {
          "output_type": "stream",
          "name": "stderr",
          "text": [
            "\rEvaluate Train:  25%|██▌       | 2/8 [00:01<00:03,  1.93it/s]"
          ]
        },
        {
          "output_type": "stream",
          "name": "stdout",
          "text": [
            "sample 1 num of prompts for Pneumonia from total 312\n"
          ]
        },
        {
          "output_type": "stream",
          "name": "stderr",
          "text": [
            "\rEvaluate Train:  38%|███▊      | 3/8 [00:02<00:05,  1.14s/it]"
          ]
        },
        {
          "output_type": "stream",
          "name": "stdout",
          "text": [
            "sample 1 num of prompts for Pneumonia from total 312\n"
          ]
        },
        {
          "output_type": "stream",
          "name": "stderr",
          "text": [
            "\rEvaluate Train:  50%|█████     | 4/8 [00:03<00:03,  1.11it/s]"
          ]
        },
        {
          "output_type": "stream",
          "name": "stdout",
          "text": [
            "sample 1 num of prompts for Pneumonia from total 312\n"
          ]
        },
        {
          "output_type": "stream",
          "name": "stderr",
          "text": [
            "\rEvaluate Train:  62%|██████▎   | 5/8 [00:03<00:02,  1.32it/s]"
          ]
        },
        {
          "output_type": "stream",
          "name": "stdout",
          "text": [
            "sample 1 num of prompts for Pneumonia from total 312\n"
          ]
        },
        {
          "output_type": "stream",
          "name": "stderr",
          "text": [
            "\rEvaluate Train:  75%|███████▌  | 6/8 [00:04<00:01,  1.48it/s]"
          ]
        },
        {
          "output_type": "stream",
          "name": "stdout",
          "text": [
            "sample 1 num of prompts for Pneumonia from total 312\n"
          ]
        },
        {
          "output_type": "stream",
          "name": "stderr",
          "text": [
            "\rEvaluate Train:  88%|████████▊ | 7/8 [00:05<00:00,  1.25it/s]"
          ]
        },
        {
          "output_type": "stream",
          "name": "stdout",
          "text": [
            "sample 1 num of prompts for Pneumonia from total 312\n"
          ]
        },
        {
          "output_type": "stream",
          "name": "stderr",
          "text": [
            "Evaluate Train: 100%|██████████| 8/8 [00:06<00:00,  1.25it/s]\n",
            "Evaluate Validation:   0%|          | 0/2 [00:00<?, ?it/s]"
          ]
        },
        {
          "output_type": "stream",
          "name": "stdout",
          "text": [
            "sample 1 num of prompts for Pneumonia from total 312\n"
          ]
        },
        {
          "output_type": "stream",
          "name": "stderr",
          "text": [
            "\rEvaluate Validation:  50%|█████     | 1/2 [00:00<00:00,  1.92it/s]"
          ]
        },
        {
          "output_type": "stream",
          "name": "stdout",
          "text": [
            "sample 1 num of prompts for Pneumonia from total 312\n"
          ]
        },
        {
          "output_type": "stream",
          "name": "stderr",
          "text": [
            "Evaluate Validation: 100%|██████████| 2/2 [00:01<00:00,  1.91it/s]\n",
            "Evaluate Test:   0%|          | 0/3 [00:00<?, ?it/s]"
          ]
        },
        {
          "output_type": "stream",
          "name": "stdout",
          "text": [
            "sample 1 num of prompts for Pneumonia from total 312\n"
          ]
        },
        {
          "output_type": "stream",
          "name": "stderr",
          "text": [
            "\rEvaluate Test:  33%|███▎      | 1/3 [00:00<00:01,  1.95it/s]"
          ]
        },
        {
          "output_type": "stream",
          "name": "stdout",
          "text": [
            "sample 1 num of prompts for Pneumonia from total 312\n"
          ]
        },
        {
          "output_type": "stream",
          "name": "stderr",
          "text": [
            "\rEvaluate Test:  67%|██████▋   | 2/3 [00:01<00:00,  1.95it/s]"
          ]
        },
        {
          "output_type": "stream",
          "name": "stdout",
          "text": [
            "sample 1 num of prompts for Pneumonia from total 312\n"
          ]
        },
        {
          "output_type": "stream",
          "name": "stderr",
          "text": [
            "Evaluate Test: 100%|██████████| 3/3 [00:01<00:00,  1.57it/s]\n"
          ]
        },
        {
          "output_type": "stream",
          "name": "stdout",
          "text": [
            "\n",
            "Accuracy: 0.5592, Precision: 0.5675, Recall: 0.3858, AUC: 0.5648\n"
          ]
        },
        {
          "output_type": "stream",
          "name": "stderr",
          "text": [
            "\rEvaluate Train:   0%|          | 0/8 [00:00<?, ?it/s]"
          ]
        },
        {
          "output_type": "stream",
          "name": "stdout",
          "text": [
            "sample 2 num of prompts for Pneumonia from total 312\n"
          ]
        },
        {
          "output_type": "stream",
          "name": "stderr",
          "text": [
            "\rEvaluate Train:  12%|█▎        | 1/8 [00:00<00:04,  1.72it/s]"
          ]
        },
        {
          "output_type": "stream",
          "name": "stdout",
          "text": [
            "sample 2 num of prompts for Pneumonia from total 312\n"
          ]
        },
        {
          "output_type": "stream",
          "name": "stderr",
          "text": [
            "\rEvaluate Train:  25%|██▌       | 2/8 [00:01<00:03,  1.84it/s]"
          ]
        },
        {
          "output_type": "stream",
          "name": "stdout",
          "text": [
            "sample 2 num of prompts for Pneumonia from total 312\n"
          ]
        },
        {
          "output_type": "stream",
          "name": "stderr",
          "text": [
            "\rEvaluate Train:  38%|███▊      | 3/8 [00:01<00:02,  1.88it/s]"
          ]
        },
        {
          "output_type": "stream",
          "name": "stdout",
          "text": [
            "sample 2 num of prompts for Pneumonia from total 312\n"
          ]
        },
        {
          "output_type": "stream",
          "name": "stderr",
          "text": [
            "\rEvaluate Train:  50%|█████     | 4/8 [00:02<00:02,  1.69it/s]"
          ]
        },
        {
          "output_type": "stream",
          "name": "stdout",
          "text": [
            "sample 2 num of prompts for Pneumonia from total 312\n"
          ]
        },
        {
          "output_type": "stream",
          "name": "stderr",
          "text": [
            "\rEvaluate Train:  62%|██████▎   | 5/8 [00:03<00:02,  1.49it/s]"
          ]
        },
        {
          "output_type": "stream",
          "name": "stdout",
          "text": [
            "sample 2 num of prompts for Pneumonia from total 312\n"
          ]
        },
        {
          "output_type": "stream",
          "name": "stderr",
          "text": [
            "\rEvaluate Train:  75%|███████▌  | 6/8 [00:04<00:01,  1.32it/s]"
          ]
        },
        {
          "output_type": "stream",
          "name": "stdout",
          "text": [
            "sample 2 num of prompts for Pneumonia from total 312\n"
          ]
        },
        {
          "output_type": "stream",
          "name": "stderr",
          "text": [
            "\rEvaluate Train:  88%|████████▊ | 7/8 [00:04<00:00,  1.40it/s]"
          ]
        },
        {
          "output_type": "stream",
          "name": "stdout",
          "text": [
            "sample 2 num of prompts for Pneumonia from total 312\n"
          ]
        },
        {
          "output_type": "stream",
          "name": "stderr",
          "text": [
            "Evaluate Train: 100%|██████████| 8/8 [00:05<00:00,  1.43it/s]\n",
            "Evaluate Validation:   0%|          | 0/2 [00:00<?, ?it/s]"
          ]
        },
        {
          "output_type": "stream",
          "name": "stdout",
          "text": [
            "sample 2 num of prompts for Pneumonia from total 312\n"
          ]
        },
        {
          "output_type": "stream",
          "name": "stderr",
          "text": [
            "\rEvaluate Validation:  50%|█████     | 1/2 [00:00<00:00,  1.96it/s]"
          ]
        },
        {
          "output_type": "stream",
          "name": "stdout",
          "text": [
            "sample 2 num of prompts for Pneumonia from total 312\n"
          ]
        },
        {
          "output_type": "stream",
          "name": "stderr",
          "text": [
            "Evaluate Validation: 100%|██████████| 2/2 [00:01<00:00,  1.40it/s]\n",
            "Evaluate Test:   0%|          | 0/3 [00:00<?, ?it/s]"
          ]
        },
        {
          "output_type": "stream",
          "name": "stdout",
          "text": [
            "sample 2 num of prompts for Pneumonia from total 312\n"
          ]
        },
        {
          "output_type": "stream",
          "name": "stderr",
          "text": [
            "\rEvaluate Test:  33%|███▎      | 1/3 [00:00<00:01,  1.96it/s]"
          ]
        },
        {
          "output_type": "stream",
          "name": "stdout",
          "text": [
            "sample 2 num of prompts for Pneumonia from total 312\n"
          ]
        },
        {
          "output_type": "stream",
          "name": "stderr",
          "text": [
            "\rEvaluate Test:  67%|██████▋   | 2/3 [00:01<00:00,  1.92it/s]"
          ]
        },
        {
          "output_type": "stream",
          "name": "stdout",
          "text": [
            "sample 2 num of prompts for Pneumonia from total 312\n"
          ]
        },
        {
          "output_type": "stream",
          "name": "stderr",
          "text": [
            "Evaluate Test: 100%|██████████| 3/3 [00:02<00:00,  1.21it/s]\n"
          ]
        },
        {
          "output_type": "stream",
          "name": "stdout",
          "text": [
            "\n",
            "Accuracy: 0.6525, Precision: 0.6580, Recall: 0.5914, AUC: 0.7009\n"
          ]
        },
        {
          "output_type": "stream",
          "name": "stderr",
          "text": [
            "\rEvaluate Train:   0%|          | 0/8 [00:00<?, ?it/s]"
          ]
        },
        {
          "output_type": "stream",
          "name": "stdout",
          "text": [
            "sample 3 num of prompts for Pneumonia from total 312\n"
          ]
        },
        {
          "output_type": "stream",
          "name": "stderr",
          "text": [
            "\rEvaluate Train:  12%|█▎        | 1/8 [00:00<00:03,  1.80it/s]"
          ]
        },
        {
          "output_type": "stream",
          "name": "stdout",
          "text": [
            "sample 3 num of prompts for Pneumonia from total 312\n"
          ]
        },
        {
          "output_type": "stream",
          "name": "stderr",
          "text": [
            "\rEvaluate Train:  25%|██▌       | 2/8 [00:01<00:04,  1.21it/s]"
          ]
        },
        {
          "output_type": "stream",
          "name": "stdout",
          "text": [
            "sample 3 num of prompts for Pneumonia from total 312\n"
          ]
        },
        {
          "output_type": "stream",
          "name": "stderr",
          "text": [
            "\rEvaluate Train:  38%|███▊      | 3/8 [00:02<00:03,  1.47it/s]"
          ]
        },
        {
          "output_type": "stream",
          "name": "stdout",
          "text": [
            "sample 3 num of prompts for Pneumonia from total 312\n"
          ]
        },
        {
          "output_type": "stream",
          "name": "stderr",
          "text": [
            "\rEvaluate Train:  50%|█████     | 4/8 [00:02<00:02,  1.62it/s]"
          ]
        },
        {
          "output_type": "stream",
          "name": "stdout",
          "text": [
            "sample 3 num of prompts for Pneumonia from total 312\n"
          ]
        },
        {
          "output_type": "stream",
          "name": "stderr",
          "text": [
            "\rEvaluate Train:  62%|██████▎   | 5/8 [00:03<00:02,  1.29it/s]"
          ]
        },
        {
          "output_type": "stream",
          "name": "stdout",
          "text": [
            "sample 3 num of prompts for Pneumonia from total 312\n"
          ]
        },
        {
          "output_type": "stream",
          "name": "stderr",
          "text": [
            "\rEvaluate Train:  75%|███████▌  | 6/8 [00:04<00:01,  1.26it/s]"
          ]
        },
        {
          "output_type": "stream",
          "name": "stdout",
          "text": [
            "sample 3 num of prompts for Pneumonia from total 312\n"
          ]
        },
        {
          "output_type": "stream",
          "name": "stderr",
          "text": [
            "\rEvaluate Train:  88%|████████▊ | 7/8 [00:04<00:00,  1.43it/s]"
          ]
        },
        {
          "output_type": "stream",
          "name": "stdout",
          "text": [
            "sample 3 num of prompts for Pneumonia from total 312\n"
          ]
        },
        {
          "output_type": "stream",
          "name": "stderr",
          "text": [
            "Evaluate Train: 100%|██████████| 8/8 [00:06<00:00,  1.33it/s]\n",
            "Evaluate Validation:   0%|          | 0/2 [00:00<?, ?it/s]"
          ]
        },
        {
          "output_type": "stream",
          "name": "stdout",
          "text": [
            "sample 3 num of prompts for Pneumonia from total 312\n"
          ]
        },
        {
          "output_type": "stream",
          "name": "stderr",
          "text": [
            "\rEvaluate Validation:  50%|█████     | 1/2 [00:00<00:00,  1.88it/s]"
          ]
        },
        {
          "output_type": "stream",
          "name": "stdout",
          "text": [
            "sample 3 num of prompts for Pneumonia from total 312\n"
          ]
        },
        {
          "output_type": "stream",
          "name": "stderr",
          "text": [
            "Evaluate Validation: 100%|██████████| 2/2 [00:01<00:00,  1.36it/s]\n",
            "Evaluate Test:   0%|          | 0/3 [00:00<?, ?it/s]"
          ]
        },
        {
          "output_type": "stream",
          "name": "stdout",
          "text": [
            "sample 3 num of prompts for Pneumonia from total 312\n"
          ]
        },
        {
          "output_type": "stream",
          "name": "stderr",
          "text": [
            "\rEvaluate Test:  33%|███▎      | 1/3 [00:00<00:01,  1.30it/s]"
          ]
        },
        {
          "output_type": "stream",
          "name": "stdout",
          "text": [
            "sample 3 num of prompts for Pneumonia from total 312\n"
          ]
        },
        {
          "output_type": "stream",
          "name": "stderr",
          "text": [
            "\rEvaluate Test:  67%|██████▋   | 2/3 [00:02<00:01,  1.09s/it]"
          ]
        },
        {
          "output_type": "stream",
          "name": "stdout",
          "text": [
            "sample 3 num of prompts for Pneumonia from total 312\n"
          ]
        },
        {
          "output_type": "stream",
          "name": "stderr",
          "text": [
            "Evaluate Test: 100%|██████████| 3/3 [00:02<00:00,  1.06it/s]\n"
          ]
        },
        {
          "output_type": "stream",
          "name": "stdout",
          "text": [
            "\n",
            "Accuracy: 0.6115, Precision: 0.5834, Recall: 0.6979, AUC: 0.6401\n"
          ]
        },
        {
          "output_type": "stream",
          "name": "stderr",
          "text": [
            "\rEvaluate Train:   0%|          | 0/8 [00:00<?, ?it/s]"
          ]
        },
        {
          "output_type": "stream",
          "name": "stdout",
          "text": [
            "sample 4 num of prompts for Pneumonia from total 312\n"
          ]
        },
        {
          "output_type": "stream",
          "name": "stderr",
          "text": [
            "\rEvaluate Train:  12%|█▎        | 1/8 [00:00<00:03,  1.97it/s]"
          ]
        },
        {
          "output_type": "stream",
          "name": "stdout",
          "text": [
            "sample 4 num of prompts for Pneumonia from total 312\n"
          ]
        },
        {
          "output_type": "stream",
          "name": "stderr",
          "text": [
            "\rEvaluate Train:  25%|██▌       | 2/8 [00:01<00:03,  1.85it/s]"
          ]
        },
        {
          "output_type": "stream",
          "name": "stdout",
          "text": [
            "sample 4 num of prompts for Pneumonia from total 312\n"
          ]
        },
        {
          "output_type": "stream",
          "name": "stderr",
          "text": [
            "\rEvaluate Train:  38%|███▊      | 3/8 [00:02<00:03,  1.29it/s]"
          ]
        },
        {
          "output_type": "stream",
          "name": "stdout",
          "text": [
            "sample 4 num of prompts for Pneumonia from total 312\n"
          ]
        },
        {
          "output_type": "stream",
          "name": "stderr",
          "text": [
            "\rEvaluate Train:  50%|█████     | 4/8 [00:02<00:02,  1.49it/s]"
          ]
        },
        {
          "output_type": "stream",
          "name": "stdout",
          "text": [
            "sample 4 num of prompts for Pneumonia from total 312\n"
          ]
        },
        {
          "output_type": "stream",
          "name": "stderr",
          "text": [
            "\rEvaluate Train:  62%|██████▎   | 5/8 [00:03<00:02,  1.41it/s]"
          ]
        },
        {
          "output_type": "stream",
          "name": "stdout",
          "text": [
            "sample 4 num of prompts for Pneumonia from total 312\n"
          ]
        },
        {
          "output_type": "stream",
          "name": "stderr",
          "text": [
            "\rEvaluate Train:  75%|███████▌  | 6/8 [00:03<00:01,  1.55it/s]"
          ]
        },
        {
          "output_type": "stream",
          "name": "stdout",
          "text": [
            "sample 4 num of prompts for Pneumonia from total 312\n"
          ]
        },
        {
          "output_type": "stream",
          "name": "stderr",
          "text": [
            "\rEvaluate Train:  88%|████████▊ | 7/8 [00:05<00:00,  1.24it/s]"
          ]
        },
        {
          "output_type": "stream",
          "name": "stdout",
          "text": [
            "sample 4 num of prompts for Pneumonia from total 312\n"
          ]
        },
        {
          "output_type": "stream",
          "name": "stderr",
          "text": [
            "Evaluate Train: 100%|██████████| 8/8 [00:05<00:00,  1.45it/s]\n",
            "Evaluate Validation:   0%|          | 0/2 [00:00<?, ?it/s]"
          ]
        },
        {
          "output_type": "stream",
          "name": "stdout",
          "text": [
            "sample 4 num of prompts for Pneumonia from total 312\n"
          ]
        },
        {
          "output_type": "stream",
          "name": "stderr",
          "text": [
            "\rEvaluate Validation:  50%|█████     | 1/2 [00:00<00:00,  1.71it/s]"
          ]
        },
        {
          "output_type": "stream",
          "name": "stdout",
          "text": [
            "sample 4 num of prompts for Pneumonia from total 312\n"
          ]
        },
        {
          "output_type": "stream",
          "name": "stderr",
          "text": [
            "Evaluate Validation: 100%|██████████| 2/2 [00:01<00:00,  1.82it/s]\n",
            "Evaluate Test:   0%|          | 0/3 [00:00<?, ?it/s]"
          ]
        },
        {
          "output_type": "stream",
          "name": "stdout",
          "text": [
            "sample 4 num of prompts for Pneumonia from total 312\n"
          ]
        },
        {
          "output_type": "stream",
          "name": "stderr",
          "text": [
            "\rEvaluate Test:  33%|███▎      | 1/3 [00:00<00:01,  1.89it/s]"
          ]
        },
        {
          "output_type": "stream",
          "name": "stdout",
          "text": [
            "sample 4 num of prompts for Pneumonia from total 312\n"
          ]
        },
        {
          "output_type": "stream",
          "name": "stderr",
          "text": [
            "\rEvaluate Test:  67%|██████▋   | 2/3 [00:01<00:00,  1.23it/s]"
          ]
        },
        {
          "output_type": "stream",
          "name": "stdout",
          "text": [
            "sample 4 num of prompts for Pneumonia from total 312\n"
          ]
        },
        {
          "output_type": "stream",
          "name": "stderr",
          "text": [
            "Evaluate Test: 100%|██████████| 3/3 [00:02<00:00,  1.28it/s]\n"
          ]
        },
        {
          "output_type": "stream",
          "name": "stdout",
          "text": [
            "\n",
            "Accuracy: 0.6544, Precision: 0.6107, Recall: 0.7944, AUC: 0.7210\n"
          ]
        },
        {
          "output_type": "stream",
          "name": "stderr",
          "text": [
            "\rEvaluate Train:   0%|          | 0/8 [00:00<?, ?it/s]"
          ]
        },
        {
          "output_type": "stream",
          "name": "stdout",
          "text": [
            "sample 5 num of prompts for Pneumonia from total 312\n"
          ]
        },
        {
          "output_type": "stream",
          "name": "stderr",
          "text": [
            "\rEvaluate Train:  12%|█▎        | 1/8 [00:00<00:03,  1.96it/s]"
          ]
        },
        {
          "output_type": "stream",
          "name": "stdout",
          "text": [
            "sample 5 num of prompts for Pneumonia from total 312\n"
          ]
        },
        {
          "output_type": "stream",
          "name": "stderr",
          "text": [
            "\rEvaluate Train:  25%|██▌       | 2/8 [00:01<00:03,  1.93it/s]"
          ]
        },
        {
          "output_type": "stream",
          "name": "stdout",
          "text": [
            "sample 5 num of prompts for Pneumonia from total 312\n"
          ]
        },
        {
          "output_type": "stream",
          "name": "stderr",
          "text": [
            "\rEvaluate Train:  38%|███▊      | 3/8 [00:02<00:03,  1.31it/s]"
          ]
        },
        {
          "output_type": "stream",
          "name": "stdout",
          "text": [
            "sample 5 num of prompts for Pneumonia from total 312\n"
          ]
        },
        {
          "output_type": "stream",
          "name": "stderr",
          "text": [
            "\rEvaluate Train:  50%|█████     | 4/8 [00:02<00:02,  1.50it/s]"
          ]
        },
        {
          "output_type": "stream",
          "name": "stdout",
          "text": [
            "sample 5 num of prompts for Pneumonia from total 312\n"
          ]
        },
        {
          "output_type": "stream",
          "name": "stderr",
          "text": [
            "\rEvaluate Train:  62%|██████▎   | 5/8 [00:03<00:01,  1.61it/s]"
          ]
        },
        {
          "output_type": "stream",
          "name": "stdout",
          "text": [
            "sample 5 num of prompts for Pneumonia from total 312\n"
          ]
        },
        {
          "output_type": "stream",
          "name": "stderr",
          "text": [
            "\rEvaluate Train:  75%|███████▌  | 6/8 [00:03<00:01,  1.71it/s]"
          ]
        },
        {
          "output_type": "stream",
          "name": "stdout",
          "text": [
            "sample 5 num of prompts for Pneumonia from total 312\n"
          ]
        },
        {
          "output_type": "stream",
          "name": "stderr",
          "text": [
            "\rEvaluate Train:  88%|████████▊ | 7/8 [00:04<00:00,  1.77it/s]"
          ]
        },
        {
          "output_type": "stream",
          "name": "stdout",
          "text": [
            "sample 5 num of prompts for Pneumonia from total 312\n"
          ]
        },
        {
          "output_type": "stream",
          "name": "stderr",
          "text": [
            "Evaluate Train: 100%|██████████| 8/8 [00:05<00:00,  1.44it/s]\n",
            "Evaluate Validation:   0%|          | 0/2 [00:00<?, ?it/s]"
          ]
        },
        {
          "output_type": "stream",
          "name": "stdout",
          "text": [
            "sample 5 num of prompts for Pneumonia from total 312\n"
          ]
        },
        {
          "output_type": "stream",
          "name": "stderr",
          "text": [
            "\rEvaluate Validation:  50%|█████     | 1/2 [00:00<00:00,  1.87it/s]"
          ]
        },
        {
          "output_type": "stream",
          "name": "stdout",
          "text": [
            "sample 5 num of prompts for Pneumonia from total 312\n"
          ]
        },
        {
          "output_type": "stream",
          "name": "stderr",
          "text": [
            "Evaluate Validation: 100%|██████████| 2/2 [00:01<00:00,  1.92it/s]\n",
            "Evaluate Test:   0%|          | 0/3 [00:00<?, ?it/s]"
          ]
        },
        {
          "output_type": "stream",
          "name": "stdout",
          "text": [
            "sample 5 num of prompts for Pneumonia from total 312\n"
          ]
        },
        {
          "output_type": "stream",
          "name": "stderr",
          "text": [
            "\rEvaluate Test:  33%|███▎      | 1/3 [00:00<00:01,  1.61it/s]"
          ]
        },
        {
          "output_type": "stream",
          "name": "stdout",
          "text": [
            "sample 5 num of prompts for Pneumonia from total 312\n"
          ]
        },
        {
          "output_type": "stream",
          "name": "stderr",
          "text": [
            "\rEvaluate Test:  67%|██████▋   | 2/3 [00:01<00:00,  1.20it/s]"
          ]
        },
        {
          "output_type": "stream",
          "name": "stdout",
          "text": [
            "sample 5 num of prompts for Pneumonia from total 312\n"
          ]
        },
        {
          "output_type": "stream",
          "name": "stderr",
          "text": [
            "Evaluate Test: 100%|██████████| 3/3 [00:02<00:00,  1.28it/s]\n"
          ]
        },
        {
          "output_type": "stream",
          "name": "stdout",
          "text": [
            "\n",
            "Accuracy: 0.5969, Precision: 0.5506, Recall: 0.9223, AUC: 0.6740\n"
          ]
        },
        {
          "output_type": "stream",
          "name": "stderr",
          "text": [
            "\rEvaluate Train:   0%|          | 0/8 [00:00<?, ?it/s]"
          ]
        },
        {
          "output_type": "stream",
          "name": "stdout",
          "text": [
            "sample 6 num of prompts for Pneumonia from total 312\n"
          ]
        },
        {
          "output_type": "stream",
          "name": "stderr",
          "text": [
            "\rEvaluate Train:  12%|█▎        | 1/8 [00:00<00:03,  1.85it/s]"
          ]
        },
        {
          "output_type": "stream",
          "name": "stdout",
          "text": [
            "sample 6 num of prompts for Pneumonia from total 312\n"
          ]
        },
        {
          "output_type": "stream",
          "name": "stderr",
          "text": [
            "\rEvaluate Train:  25%|██▌       | 2/8 [00:01<00:03,  1.54it/s]"
          ]
        },
        {
          "output_type": "stream",
          "name": "stdout",
          "text": [
            "sample 6 num of prompts for Pneumonia from total 312\n"
          ]
        },
        {
          "output_type": "stream",
          "name": "stderr",
          "text": [
            "\rEvaluate Train:  38%|███▊      | 3/8 [00:02<00:03,  1.38it/s]"
          ]
        },
        {
          "output_type": "stream",
          "name": "stdout",
          "text": [
            "sample 6 num of prompts for Pneumonia from total 312\n"
          ]
        },
        {
          "output_type": "stream",
          "name": "stderr",
          "text": [
            "\rEvaluate Train:  50%|█████     | 4/8 [00:02<00:02,  1.43it/s]"
          ]
        },
        {
          "output_type": "stream",
          "name": "stdout",
          "text": [
            "sample 6 num of prompts for Pneumonia from total 312\n"
          ]
        },
        {
          "output_type": "stream",
          "name": "stderr",
          "text": [
            "\rEvaluate Train:  62%|██████▎   | 5/8 [00:03<00:02,  1.42it/s]"
          ]
        },
        {
          "output_type": "stream",
          "name": "stdout",
          "text": [
            "sample 6 num of prompts for Pneumonia from total 312\n"
          ]
        },
        {
          "output_type": "stream",
          "name": "stderr",
          "text": [
            "\rEvaluate Train:  75%|███████▌  | 6/8 [00:03<00:01,  1.57it/s]"
          ]
        },
        {
          "output_type": "stream",
          "name": "stdout",
          "text": [
            "sample 6 num of prompts for Pneumonia from total 312\n"
          ]
        },
        {
          "output_type": "stream",
          "name": "stderr",
          "text": [
            "\rEvaluate Train:  88%|████████▊ | 7/8 [00:05<00:00,  1.26it/s]"
          ]
        },
        {
          "output_type": "stream",
          "name": "stdout",
          "text": [
            "sample 6 num of prompts for Pneumonia from total 312\n"
          ]
        },
        {
          "output_type": "stream",
          "name": "stderr",
          "text": [
            "Evaluate Train: 100%|██████████| 8/8 [00:05<00:00,  1.43it/s]\n",
            "Evaluate Validation:   0%|          | 0/2 [00:00<?, ?it/s]"
          ]
        },
        {
          "output_type": "stream",
          "name": "stdout",
          "text": [
            "sample 6 num of prompts for Pneumonia from total 312\n"
          ]
        },
        {
          "output_type": "stream",
          "name": "stderr",
          "text": [
            "\rEvaluate Validation:  50%|█████     | 1/2 [00:00<00:00,  1.91it/s]"
          ]
        },
        {
          "output_type": "stream",
          "name": "stdout",
          "text": [
            "sample 6 num of prompts for Pneumonia from total 312\n"
          ]
        },
        {
          "output_type": "stream",
          "name": "stderr",
          "text": [
            "Evaluate Validation: 100%|██████████| 2/2 [00:01<00:00,  1.91it/s]\n",
            "Evaluate Test:   0%|          | 0/3 [00:00<?, ?it/s]"
          ]
        },
        {
          "output_type": "stream",
          "name": "stdout",
          "text": [
            "sample 6 num of prompts for Pneumonia from total 312\n"
          ]
        },
        {
          "output_type": "stream",
          "name": "stderr",
          "text": [
            "\rEvaluate Test:  33%|███▎      | 1/3 [00:00<00:01,  1.88it/s]"
          ]
        },
        {
          "output_type": "stream",
          "name": "stdout",
          "text": [
            "sample 6 num of prompts for Pneumonia from total 312\n"
          ]
        },
        {
          "output_type": "stream",
          "name": "stderr",
          "text": [
            "\rEvaluate Test:  67%|██████▋   | 2/3 [00:01<00:00,  1.33it/s]"
          ]
        },
        {
          "output_type": "stream",
          "name": "stdout",
          "text": [
            "sample 6 num of prompts for Pneumonia from total 312\n"
          ]
        },
        {
          "output_type": "stream",
          "name": "stderr",
          "text": [
            "Evaluate Test: 100%|██████████| 3/3 [00:02<00:00,  1.34it/s]\n"
          ]
        },
        {
          "output_type": "stream",
          "name": "stdout",
          "text": [
            "\n",
            "Accuracy: 0.5956, Precision: 0.5504, Recall: 0.9102, AUC: 0.6900\n"
          ]
        },
        {
          "output_type": "stream",
          "name": "stderr",
          "text": [
            "\rEvaluate Train:   0%|          | 0/8 [00:00<?, ?it/s]"
          ]
        },
        {
          "output_type": "stream",
          "name": "stdout",
          "text": [
            "sample 7 num of prompts for Pneumonia from total 312\n"
          ]
        },
        {
          "output_type": "stream",
          "name": "stderr",
          "text": [
            "\rEvaluate Train:  12%|█▎        | 1/8 [00:00<00:04,  1.67it/s]"
          ]
        },
        {
          "output_type": "stream",
          "name": "stdout",
          "text": [
            "sample 7 num of prompts for Pneumonia from total 312\n"
          ]
        },
        {
          "output_type": "stream",
          "name": "stderr",
          "text": [
            "\rEvaluate Train:  25%|██▌       | 2/8 [00:01<00:03,  1.78it/s]"
          ]
        },
        {
          "output_type": "stream",
          "name": "stdout",
          "text": [
            "sample 7 num of prompts for Pneumonia from total 312\n"
          ]
        },
        {
          "output_type": "stream",
          "name": "stderr",
          "text": [
            "\rEvaluate Train:  38%|███▊      | 3/8 [00:02<00:03,  1.28it/s]"
          ]
        },
        {
          "output_type": "stream",
          "name": "stdout",
          "text": [
            "sample 7 num of prompts for Pneumonia from total 312\n"
          ]
        },
        {
          "output_type": "stream",
          "name": "stderr",
          "text": [
            "\rEvaluate Train:  50%|█████     | 4/8 [00:03<00:03,  1.20it/s]"
          ]
        },
        {
          "output_type": "stream",
          "name": "stdout",
          "text": [
            "sample 7 num of prompts for Pneumonia from total 312\n"
          ]
        },
        {
          "output_type": "stream",
          "name": "stderr",
          "text": [
            "\rEvaluate Train:  62%|██████▎   | 5/8 [00:03<00:02,  1.39it/s]"
          ]
        },
        {
          "output_type": "stream",
          "name": "stdout",
          "text": [
            "sample 7 num of prompts for Pneumonia from total 312\n"
          ]
        },
        {
          "output_type": "stream",
          "name": "stderr",
          "text": [
            "\rEvaluate Train:  75%|███████▌  | 6/8 [00:04<00:01,  1.35it/s]"
          ]
        },
        {
          "output_type": "stream",
          "name": "stdout",
          "text": [
            "sample 7 num of prompts for Pneumonia from total 312\n"
          ]
        },
        {
          "output_type": "stream",
          "name": "stderr",
          "text": [
            "\rEvaluate Train:  88%|████████▊ | 7/8 [00:04<00:00,  1.46it/s]"
          ]
        },
        {
          "output_type": "stream",
          "name": "stdout",
          "text": [
            "sample 7 num of prompts for Pneumonia from total 312\n"
          ]
        },
        {
          "output_type": "stream",
          "name": "stderr",
          "text": [
            "Evaluate Train: 100%|██████████| 8/8 [00:06<00:00,  1.33it/s]\n",
            "Evaluate Validation:   0%|          | 0/2 [00:00<?, ?it/s]"
          ]
        },
        {
          "output_type": "stream",
          "name": "stdout",
          "text": [
            "sample 7 num of prompts for Pneumonia from total 312\n"
          ]
        },
        {
          "output_type": "stream",
          "name": "stderr",
          "text": [
            "\rEvaluate Validation:  50%|█████     | 1/2 [00:00<00:00,  1.12it/s]"
          ]
        },
        {
          "output_type": "stream",
          "name": "stdout",
          "text": [
            "sample 7 num of prompts for Pneumonia from total 312\n"
          ]
        },
        {
          "output_type": "stream",
          "name": "stderr",
          "text": [
            "Evaluate Validation: 100%|██████████| 2/2 [00:02<00:00,  1.29s/it]\n",
            "Evaluate Test:   0%|          | 0/3 [00:00<?, ?it/s]"
          ]
        },
        {
          "output_type": "stream",
          "name": "stdout",
          "text": [
            "sample 7 num of prompts for Pneumonia from total 312\n"
          ]
        },
        {
          "output_type": "stream",
          "name": "stderr",
          "text": [
            "\rEvaluate Test:  33%|███▎      | 1/3 [00:00<00:01,  1.57it/s]"
          ]
        },
        {
          "output_type": "stream",
          "name": "stdout",
          "text": [
            "sample 7 num of prompts for Pneumonia from total 312\n"
          ]
        },
        {
          "output_type": "stream",
          "name": "stderr",
          "text": [
            "\rEvaluate Test:  67%|██████▋   | 2/3 [00:01<00:00,  1.78it/s]"
          ]
        },
        {
          "output_type": "stream",
          "name": "stdout",
          "text": [
            "sample 7 num of prompts for Pneumonia from total 312\n"
          ]
        },
        {
          "output_type": "stream",
          "name": "stderr",
          "text": [
            "Evaluate Test: 100%|██████████| 3/3 [00:02<00:00,  1.45it/s]\n"
          ]
        },
        {
          "output_type": "stream",
          "name": "stdout",
          "text": [
            "\n",
            "Accuracy: 0.6034, Precision: 0.5568, Recall: 0.8962, AUC: 0.7165\n"
          ]
        },
        {
          "output_type": "stream",
          "name": "stderr",
          "text": [
            "\rEvaluate Train:   0%|          | 0/8 [00:00<?, ?it/s]"
          ]
        },
        {
          "output_type": "stream",
          "name": "stdout",
          "text": [
            "sample 8 num of prompts for Pneumonia from total 312\n"
          ]
        },
        {
          "output_type": "stream",
          "name": "stderr",
          "text": [
            "\rEvaluate Train:  12%|█▎        | 1/8 [00:00<00:06,  1.12it/s]"
          ]
        },
        {
          "output_type": "stream",
          "name": "stdout",
          "text": [
            "sample 8 num of prompts for Pneumonia from total 312\n"
          ]
        },
        {
          "output_type": "stream",
          "name": "stderr",
          "text": [
            "\rEvaluate Train:  25%|██▌       | 2/8 [00:01<00:04,  1.34it/s]"
          ]
        },
        {
          "output_type": "stream",
          "name": "stdout",
          "text": [
            "sample 8 num of prompts for Pneumonia from total 312\n"
          ]
        },
        {
          "output_type": "stream",
          "name": "stderr",
          "text": [
            "\rEvaluate Train:  38%|███▊      | 3/8 [00:02<00:03,  1.55it/s]"
          ]
        },
        {
          "output_type": "stream",
          "name": "stdout",
          "text": [
            "sample 8 num of prompts for Pneumonia from total 312\n"
          ]
        },
        {
          "output_type": "stream",
          "name": "stderr",
          "text": [
            "\rEvaluate Train:  50%|█████     | 4/8 [00:02<00:02,  1.64it/s]"
          ]
        },
        {
          "output_type": "stream",
          "name": "stdout",
          "text": [
            "sample 8 num of prompts for Pneumonia from total 312\n"
          ]
        },
        {
          "output_type": "stream",
          "name": "stderr",
          "text": [
            "\rEvaluate Train:  62%|██████▎   | 5/8 [00:03<00:02,  1.42it/s]"
          ]
        },
        {
          "output_type": "stream",
          "name": "stdout",
          "text": [
            "sample 8 num of prompts for Pneumonia from total 312\n"
          ]
        },
        {
          "output_type": "stream",
          "name": "stderr",
          "text": [
            "\rEvaluate Train:  75%|███████▌  | 6/8 [00:06<00:03,  1.65s/it]"
          ]
        },
        {
          "output_type": "stream",
          "name": "stdout",
          "text": [
            "sample 8 num of prompts for Pneumonia from total 312\n"
          ]
        },
        {
          "output_type": "stream",
          "name": "stderr",
          "text": [
            "\rEvaluate Train:  88%|████████▊ | 7/8 [00:07<00:01,  1.33s/it]"
          ]
        },
        {
          "output_type": "stream",
          "name": "stdout",
          "text": [
            "sample 8 num of prompts for Pneumonia from total 312\n"
          ]
        },
        {
          "output_type": "stream",
          "name": "stderr",
          "text": [
            "Evaluate Train: 100%|██████████| 8/8 [00:08<00:00,  1.02s/it]\n",
            "Evaluate Validation:   0%|          | 0/2 [00:00<?, ?it/s]"
          ]
        },
        {
          "output_type": "stream",
          "name": "stdout",
          "text": [
            "sample 8 num of prompts for Pneumonia from total 312\n"
          ]
        },
        {
          "output_type": "stream",
          "name": "stderr",
          "text": [
            "\rEvaluate Validation:  50%|█████     | 1/2 [00:00<00:00,  1.69it/s]"
          ]
        },
        {
          "output_type": "stream",
          "name": "stdout",
          "text": [
            "sample 8 num of prompts for Pneumonia from total 312\n"
          ]
        },
        {
          "output_type": "stream",
          "name": "stderr",
          "text": [
            "Evaluate Validation: 100%|██████████| 2/2 [00:01<00:00,  1.16it/s]\n",
            "Evaluate Test:   0%|          | 0/3 [00:00<?, ?it/s]"
          ]
        },
        {
          "output_type": "stream",
          "name": "stdout",
          "text": [
            "sample 8 num of prompts for Pneumonia from total 312\n"
          ]
        },
        {
          "output_type": "stream",
          "name": "stderr",
          "text": [
            "\rEvaluate Test:  33%|███▎      | 1/3 [00:00<00:01,  1.38it/s]"
          ]
        },
        {
          "output_type": "stream",
          "name": "stdout",
          "text": [
            "sample 8 num of prompts for Pneumonia from total 312\n"
          ]
        },
        {
          "output_type": "stream",
          "name": "stderr",
          "text": [
            "\rEvaluate Test:  67%|██████▋   | 2/3 [00:01<00:00,  1.38it/s]"
          ]
        },
        {
          "output_type": "stream",
          "name": "stdout",
          "text": [
            "sample 8 num of prompts for Pneumonia from total 312\n"
          ]
        },
        {
          "output_type": "stream",
          "name": "stderr",
          "text": [
            "Evaluate Test: 100%|██████████| 3/3 [00:01<00:00,  1.51it/s]\n"
          ]
        },
        {
          "output_type": "stream",
          "name": "stdout",
          "text": [
            "\n",
            "Accuracy: 0.5091, Precision: 0.4969, Recall: 0.9236, AUC: 0.5699\n"
          ]
        },
        {
          "output_type": "stream",
          "name": "stderr",
          "text": [
            "\rEvaluate Train:   0%|          | 0/8 [00:00<?, ?it/s]"
          ]
        },
        {
          "output_type": "stream",
          "name": "stdout",
          "text": [
            "sample 9 num of prompts for Pneumonia from total 312\n"
          ]
        },
        {
          "output_type": "stream",
          "name": "stderr",
          "text": [
            "\rEvaluate Train:  12%|█▎        | 1/8 [00:00<00:04,  1.55it/s]"
          ]
        },
        {
          "output_type": "stream",
          "name": "stdout",
          "text": [
            "sample 9 num of prompts for Pneumonia from total 312\n"
          ]
        },
        {
          "output_type": "stream",
          "name": "stderr",
          "text": [
            "\rEvaluate Train:  25%|██▌       | 2/8 [00:01<00:04,  1.30it/s]"
          ]
        },
        {
          "output_type": "stream",
          "name": "stdout",
          "text": [
            "sample 9 num of prompts for Pneumonia from total 312\n"
          ]
        },
        {
          "output_type": "stream",
          "name": "stderr",
          "text": [
            "\rEvaluate Train:  38%|███▊      | 3/8 [00:02<00:04,  1.15it/s]"
          ]
        },
        {
          "output_type": "stream",
          "name": "stdout",
          "text": [
            "sample 9 num of prompts for Pneumonia from total 312\n"
          ]
        },
        {
          "output_type": "stream",
          "name": "stderr",
          "text": [
            "\rEvaluate Train:  50%|█████     | 4/8 [00:03<00:03,  1.23it/s]"
          ]
        },
        {
          "output_type": "stream",
          "name": "stdout",
          "text": [
            "sample 9 num of prompts for Pneumonia from total 312\n"
          ]
        },
        {
          "output_type": "stream",
          "name": "stderr",
          "text": [
            "\rEvaluate Train:  62%|██████▎   | 5/8 [00:03<00:02,  1.42it/s]"
          ]
        },
        {
          "output_type": "stream",
          "name": "stdout",
          "text": [
            "sample 9 num of prompts for Pneumonia from total 312\n"
          ]
        },
        {
          "output_type": "stream",
          "name": "stderr",
          "text": [
            "\rEvaluate Train:  75%|███████▌  | 6/8 [00:04<00:01,  1.57it/s]"
          ]
        },
        {
          "output_type": "stream",
          "name": "stdout",
          "text": [
            "sample 9 num of prompts for Pneumonia from total 312\n"
          ]
        },
        {
          "output_type": "stream",
          "name": "stderr",
          "text": [
            "\rEvaluate Train:  88%|████████▊ | 7/8 [00:05<00:00,  1.20it/s]"
          ]
        },
        {
          "output_type": "stream",
          "name": "stdout",
          "text": [
            "sample 9 num of prompts for Pneumonia from total 312\n"
          ]
        },
        {
          "output_type": "stream",
          "name": "stderr",
          "text": [
            "Evaluate Train: 100%|██████████| 8/8 [00:06<00:00,  1.26it/s]\n",
            "Evaluate Validation:   0%|          | 0/2 [00:00<?, ?it/s]"
          ]
        },
        {
          "output_type": "stream",
          "name": "stdout",
          "text": [
            "sample 9 num of prompts for Pneumonia from total 312\n"
          ]
        },
        {
          "output_type": "stream",
          "name": "stderr",
          "text": [
            "\rEvaluate Validation:  50%|█████     | 1/2 [00:00<00:00,  1.96it/s]"
          ]
        },
        {
          "output_type": "stream",
          "name": "stdout",
          "text": [
            "sample 9 num of prompts for Pneumonia from total 312\n"
          ]
        },
        {
          "output_type": "stream",
          "name": "stderr",
          "text": [
            "Evaluate Validation: 100%|██████████| 2/2 [00:01<00:00,  1.27it/s]\n",
            "Evaluate Test:   0%|          | 0/3 [00:00<?, ?it/s]"
          ]
        },
        {
          "output_type": "stream",
          "name": "stdout",
          "text": [
            "sample 9 num of prompts for Pneumonia from total 312\n"
          ]
        },
        {
          "output_type": "stream",
          "name": "stderr",
          "text": [
            "\rEvaluate Test:  33%|███▎      | 1/3 [00:00<00:01,  1.95it/s]"
          ]
        },
        {
          "output_type": "stream",
          "name": "stdout",
          "text": [
            "sample 9 num of prompts for Pneumonia from total 312\n"
          ]
        },
        {
          "output_type": "stream",
          "name": "stderr",
          "text": [
            "Evaluate Test: 100%|██████████| 3/3 [00:01<00:00,  2.08it/s]\n"
          ]
        },
        {
          "output_type": "stream",
          "name": "stdout",
          "text": [
            "sample 9 num of prompts for Pneumonia from total 312\n",
            "\n",
            "Accuracy: 0.5471, Precision: 0.5182, Recall: 0.9538, AUC: 0.6627\n"
          ]
        },
        {
          "output_type": "stream",
          "name": "stderr",
          "text": [
            "\rEvaluate Train:   0%|          | 0/8 [00:00<?, ?it/s]"
          ]
        },
        {
          "output_type": "stream",
          "name": "stdout",
          "text": [
            "sample 10 num of prompts for Pneumonia from total 312\n"
          ]
        },
        {
          "output_type": "stream",
          "name": "stderr",
          "text": [
            "\rEvaluate Train:  12%|█▎        | 1/8 [00:00<00:03,  1.97it/s]"
          ]
        },
        {
          "output_type": "stream",
          "name": "stdout",
          "text": [
            "sample 10 num of prompts for Pneumonia from total 312\n"
          ]
        },
        {
          "output_type": "stream",
          "name": "stderr",
          "text": [
            "\rEvaluate Train:  25%|██▌       | 2/8 [00:01<00:03,  1.74it/s]"
          ]
        },
        {
          "output_type": "stream",
          "name": "stdout",
          "text": [
            "sample 10 num of prompts for Pneumonia from total 312\n"
          ]
        },
        {
          "output_type": "stream",
          "name": "stderr",
          "text": [
            "\rEvaluate Train:  38%|███▊      | 3/8 [00:02<00:04,  1.15it/s]"
          ]
        },
        {
          "output_type": "stream",
          "name": "stdout",
          "text": [
            "sample 10 num of prompts for Pneumonia from total 312\n"
          ]
        },
        {
          "output_type": "stream",
          "name": "stderr",
          "text": [
            "\rEvaluate Train:  50%|█████     | 4/8 [00:03<00:03,  1.11it/s]"
          ]
        },
        {
          "output_type": "stream",
          "name": "stdout",
          "text": [
            "sample 10 num of prompts for Pneumonia from total 312\n"
          ]
        },
        {
          "output_type": "stream",
          "name": "stderr",
          "text": [
            "\rEvaluate Train:  62%|██████▎   | 5/8 [00:03<00:02,  1.24it/s]"
          ]
        },
        {
          "output_type": "stream",
          "name": "stdout",
          "text": [
            "sample 10 num of prompts for Pneumonia from total 312\n"
          ]
        },
        {
          "output_type": "stream",
          "name": "stderr",
          "text": [
            "\rEvaluate Train:  75%|███████▌  | 6/8 [00:05<00:01,  1.08it/s]"
          ]
        },
        {
          "output_type": "stream",
          "name": "stdout",
          "text": [
            "sample 10 num of prompts for Pneumonia from total 312\n"
          ]
        },
        {
          "output_type": "stream",
          "name": "stderr",
          "text": [
            "\rEvaluate Train:  88%|████████▊ | 7/8 [00:06<00:00,  1.08it/s]"
          ]
        },
        {
          "output_type": "stream",
          "name": "stdout",
          "text": [
            "sample 10 num of prompts for Pneumonia from total 312\n"
          ]
        },
        {
          "output_type": "stream",
          "name": "stderr",
          "text": [
            "Evaluate Train: 100%|██████████| 8/8 [00:06<00:00,  1.23it/s]\n",
            "Evaluate Validation:   0%|          | 0/2 [00:00<?, ?it/s]"
          ]
        },
        {
          "output_type": "stream",
          "name": "stdout",
          "text": [
            "sample 10 num of prompts for Pneumonia from total 312\n"
          ]
        },
        {
          "output_type": "stream",
          "name": "stderr",
          "text": [
            "\rEvaluate Validation:  50%|█████     | 1/2 [00:00<00:00,  1.95it/s]"
          ]
        },
        {
          "output_type": "stream",
          "name": "stdout",
          "text": [
            "sample 10 num of prompts for Pneumonia from total 312\n"
          ]
        },
        {
          "output_type": "stream",
          "name": "stderr",
          "text": [
            "Evaluate Validation: 100%|██████████| 2/2 [00:01<00:00,  1.02it/s]\n",
            "Evaluate Test:   0%|          | 0/3 [00:00<?, ?it/s]"
          ]
        },
        {
          "output_type": "stream",
          "name": "stdout",
          "text": [
            "sample 10 num of prompts for Pneumonia from total 312\n"
          ]
        },
        {
          "output_type": "stream",
          "name": "stderr",
          "text": [
            "\rEvaluate Test:  33%|███▎      | 1/3 [00:00<00:01,  1.67it/s]"
          ]
        },
        {
          "output_type": "stream",
          "name": "stdout",
          "text": [
            "sample 10 num of prompts for Pneumonia from total 312\n"
          ]
        },
        {
          "output_type": "stream",
          "name": "stderr",
          "text": [
            "\rEvaluate Test:  67%|██████▋   | 2/3 [00:01<00:00,  1.08it/s]"
          ]
        },
        {
          "output_type": "stream",
          "name": "stdout",
          "text": [
            "sample 10 num of prompts for Pneumonia from total 312\n"
          ]
        },
        {
          "output_type": "stream",
          "name": "stderr",
          "text": [
            "Evaluate Test: 100%|██████████| 3/3 [00:02<00:00,  1.01it/s]\n"
          ]
        },
        {
          "output_type": "stream",
          "name": "stdout",
          "text": [
            "\n",
            "Accuracy: 0.5488, Precision: 0.5198, Recall: 0.9236, AUC: 0.6246\n"
          ]
        },
        {
          "output_type": "stream",
          "name": "stderr",
          "text": [
            "\rEvaluate Train:   0%|          | 0/8 [00:00<?, ?it/s]"
          ]
        },
        {
          "output_type": "stream",
          "name": "stdout",
          "text": [
            "sample 11 num of prompts for Pneumonia from total 312\n"
          ]
        },
        {
          "output_type": "stream",
          "name": "stderr",
          "text": [
            "\rEvaluate Train:  12%|█▎        | 1/8 [00:00<00:04,  1.62it/s]"
          ]
        },
        {
          "output_type": "stream",
          "name": "stdout",
          "text": [
            "sample 11 num of prompts for Pneumonia from total 312\n"
          ]
        },
        {
          "output_type": "stream",
          "name": "stderr",
          "text": [
            "\rEvaluate Train:  25%|██▌       | 2/8 [00:01<00:03,  1.65it/s]"
          ]
        },
        {
          "output_type": "stream",
          "name": "stdout",
          "text": [
            "sample 11 num of prompts for Pneumonia from total 312\n"
          ]
        },
        {
          "output_type": "stream",
          "name": "stderr",
          "text": [
            "\rEvaluate Train:  38%|███▊      | 3/8 [00:01<00:02,  1.68it/s]"
          ]
        },
        {
          "output_type": "stream",
          "name": "stdout",
          "text": [
            "sample 11 num of prompts for Pneumonia from total 312\n"
          ]
        },
        {
          "output_type": "stream",
          "name": "stderr",
          "text": [
            "\rEvaluate Train:  50%|█████     | 4/8 [00:02<00:02,  1.76it/s]"
          ]
        },
        {
          "output_type": "stream",
          "name": "stdout",
          "text": [
            "sample 11 num of prompts for Pneumonia from total 312\n"
          ]
        },
        {
          "output_type": "stream",
          "name": "stderr",
          "text": [
            "\rEvaluate Train:  62%|██████▎   | 5/8 [00:03<00:02,  1.21it/s]"
          ]
        },
        {
          "output_type": "stream",
          "name": "stdout",
          "text": [
            "sample 11 num of prompts for Pneumonia from total 312\n"
          ]
        },
        {
          "output_type": "stream",
          "name": "stderr",
          "text": [
            "\rEvaluate Train:  75%|███████▌  | 6/8 [00:04<00:01,  1.35it/s]"
          ]
        },
        {
          "output_type": "stream",
          "name": "stdout",
          "text": [
            "sample 11 num of prompts for Pneumonia from total 312\n"
          ]
        },
        {
          "output_type": "stream",
          "name": "stderr",
          "text": [
            "\rEvaluate Train:  88%|████████▊ | 7/8 [00:04<00:00,  1.40it/s]"
          ]
        },
        {
          "output_type": "stream",
          "name": "stdout",
          "text": [
            "sample 11 num of prompts for Pneumonia from total 312\n"
          ]
        },
        {
          "output_type": "stream",
          "name": "stderr",
          "text": [
            "Evaluate Train: 100%|██████████| 8/8 [00:05<00:00,  1.34it/s]\n",
            "Evaluate Validation:   0%|          | 0/2 [00:00<?, ?it/s]"
          ]
        },
        {
          "output_type": "stream",
          "name": "stdout",
          "text": [
            "sample 11 num of prompts for Pneumonia from total 312\n"
          ]
        },
        {
          "output_type": "stream",
          "name": "stderr",
          "text": [
            "\rEvaluate Validation:  50%|█████     | 1/2 [00:00<00:00,  1.91it/s]"
          ]
        },
        {
          "output_type": "stream",
          "name": "stdout",
          "text": [
            "sample 11 num of prompts for Pneumonia from total 312\n"
          ]
        },
        {
          "output_type": "stream",
          "name": "stderr",
          "text": [
            "Evaluate Validation: 100%|██████████| 2/2 [00:01<00:00,  1.45it/s]\n",
            "Evaluate Test:   0%|          | 0/3 [00:00<?, ?it/s]"
          ]
        },
        {
          "output_type": "stream",
          "name": "stdout",
          "text": [
            "sample 11 num of prompts for Pneumonia from total 312\n"
          ]
        },
        {
          "output_type": "stream",
          "name": "stderr",
          "text": [
            "\rEvaluate Test:  33%|███▎      | 1/3 [00:00<00:01,  1.82it/s]"
          ]
        },
        {
          "output_type": "stream",
          "name": "stdout",
          "text": [
            "sample 11 num of prompts for Pneumonia from total 312\n"
          ]
        },
        {
          "output_type": "stream",
          "name": "stderr",
          "text": [
            "\rEvaluate Test:  67%|██████▋   | 2/3 [00:01<00:00,  1.62it/s]"
          ]
        },
        {
          "output_type": "stream",
          "name": "stdout",
          "text": [
            "sample 11 num of prompts for Pneumonia from total 312\n"
          ]
        },
        {
          "output_type": "stream",
          "name": "stderr",
          "text": [
            "Evaluate Test: 100%|██████████| 3/3 [00:02<00:00,  1.49it/s]\n"
          ]
        },
        {
          "output_type": "stream",
          "name": "stdout",
          "text": [
            "\n",
            "Accuracy: 0.5962, Precision: 0.5484, Recall: 0.9524, AUC: 0.6949\n"
          ]
        },
        {
          "output_type": "stream",
          "name": "stderr",
          "text": [
            "\rEvaluate Train:   0%|          | 0/8 [00:00<?, ?it/s]"
          ]
        },
        {
          "output_type": "stream",
          "name": "stdout",
          "text": [
            "sample 12 num of prompts for Pneumonia from total 312\n"
          ]
        },
        {
          "output_type": "stream",
          "name": "stderr",
          "text": [
            "\rEvaluate Train:  12%|█▎        | 1/8 [00:00<00:05,  1.20it/s]"
          ]
        },
        {
          "output_type": "stream",
          "name": "stdout",
          "text": [
            "sample 12 num of prompts for Pneumonia from total 312\n"
          ]
        },
        {
          "output_type": "stream",
          "name": "stderr",
          "text": [
            "\rEvaluate Train:  25%|██▌       | 2/8 [00:01<00:04,  1.40it/s]"
          ]
        },
        {
          "output_type": "stream",
          "name": "stdout",
          "text": [
            "sample 12 num of prompts for Pneumonia from total 312\n"
          ]
        },
        {
          "output_type": "stream",
          "name": "stderr",
          "text": [
            "\rEvaluate Train:  38%|███▊      | 3/8 [00:02<00:03,  1.53it/s]"
          ]
        },
        {
          "output_type": "stream",
          "name": "stdout",
          "text": [
            "sample 12 num of prompts for Pneumonia from total 312\n"
          ]
        },
        {
          "output_type": "stream",
          "name": "stderr",
          "text": [
            "\rEvaluate Train:  50%|█████     | 4/8 [00:03<00:03,  1.24it/s]"
          ]
        },
        {
          "output_type": "stream",
          "name": "stdout",
          "text": [
            "sample 12 num of prompts for Pneumonia from total 312\n"
          ]
        },
        {
          "output_type": "stream",
          "name": "stderr",
          "text": [
            "\rEvaluate Train:  62%|██████▎   | 5/8 [00:03<00:02,  1.43it/s]"
          ]
        },
        {
          "output_type": "stream",
          "name": "stdout",
          "text": [
            "sample 12 num of prompts for Pneumonia from total 312\n"
          ]
        },
        {
          "output_type": "stream",
          "name": "stderr",
          "text": [
            "\rEvaluate Train:  75%|███████▌  | 6/8 [00:04<00:01,  1.54it/s]"
          ]
        },
        {
          "output_type": "stream",
          "name": "stdout",
          "text": [
            "sample 12 num of prompts for Pneumonia from total 312\n"
          ]
        },
        {
          "output_type": "stream",
          "name": "stderr",
          "text": [
            "\rEvaluate Train:  88%|████████▊ | 7/8 [00:04<00:00,  1.64it/s]"
          ]
        },
        {
          "output_type": "stream",
          "name": "stdout",
          "text": [
            "sample 12 num of prompts for Pneumonia from total 312\n"
          ]
        },
        {
          "output_type": "stream",
          "name": "stderr",
          "text": [
            "Evaluate Train: 100%|██████████| 8/8 [00:05<00:00,  1.43it/s]\n",
            "Evaluate Validation:   0%|          | 0/2 [00:00<?, ?it/s]"
          ]
        },
        {
          "output_type": "stream",
          "name": "stdout",
          "text": [
            "sample 12 num of prompts for Pneumonia from total 312\n"
          ]
        },
        {
          "output_type": "stream",
          "name": "stderr",
          "text": [
            "\rEvaluate Validation:  50%|█████     | 1/2 [00:00<00:00,  1.92it/s]"
          ]
        },
        {
          "output_type": "stream",
          "name": "stdout",
          "text": [
            "sample 12 num of prompts for Pneumonia from total 312\n"
          ]
        },
        {
          "output_type": "stream",
          "name": "stderr",
          "text": [
            "Evaluate Validation: 100%|██████████| 2/2 [00:01<00:00,  1.39it/s]\n",
            "Evaluate Test:   0%|          | 0/3 [00:00<?, ?it/s]"
          ]
        },
        {
          "output_type": "stream",
          "name": "stdout",
          "text": [
            "sample 12 num of prompts for Pneumonia from total 312\n"
          ]
        },
        {
          "output_type": "stream",
          "name": "stderr",
          "text": [
            "\rEvaluate Test:  33%|███▎      | 1/3 [00:00<00:01,  1.97it/s]"
          ]
        },
        {
          "output_type": "stream",
          "name": "stdout",
          "text": [
            "sample 12 num of prompts for Pneumonia from total 312\n"
          ]
        },
        {
          "output_type": "stream",
          "name": "stderr",
          "text": [
            "\rEvaluate Test:  67%|██████▋   | 2/3 [00:01<00:00,  1.95it/s]"
          ]
        },
        {
          "output_type": "stream",
          "name": "stdout",
          "text": [
            "sample 12 num of prompts for Pneumonia from total 312\n"
          ]
        },
        {
          "output_type": "stream",
          "name": "stderr",
          "text": [
            "Evaluate Test: 100%|██████████| 3/3 [00:02<00:00,  1.20it/s]\n"
          ]
        },
        {
          "output_type": "stream",
          "name": "stdout",
          "text": [
            "\n",
            "Accuracy: 0.5432, Precision: 0.5158, Recall: 0.9625, AUC: 0.6188\n",
            "Best AUC for rsna_task with 4 prompts: 0.7210\n",
            "Results saved to results/zs_medclip_base/ucsd/medclip/classification_results.txt\n"
          ]
        },
        {
          "output_type": "stream",
          "name": "stderr",
          "text": [
            "\rEvaluate Train:   0%|          | 0/8 [00:00<?, ?it/s]"
          ]
        },
        {
          "output_type": "stream",
          "name": "stdout",
          "text": [
            "sample 1 num of prompts for COVID from total 12\n"
          ]
        },
        {
          "output_type": "stream",
          "name": "stderr",
          "text": [
            "\rEvaluate Train:  12%|█▎        | 1/8 [00:00<00:04,  1.42it/s]"
          ]
        },
        {
          "output_type": "stream",
          "name": "stdout",
          "text": [
            "sample 1 num of prompts for COVID from total 12\n"
          ]
        },
        {
          "output_type": "stream",
          "name": "stderr",
          "text": [
            "\rEvaluate Train:  25%|██▌       | 2/8 [00:01<00:03,  1.67it/s]"
          ]
        },
        {
          "output_type": "stream",
          "name": "stdout",
          "text": [
            "sample 1 num of prompts for COVID from total 12\n"
          ]
        },
        {
          "output_type": "stream",
          "name": "stderr",
          "text": [
            "\rEvaluate Train:  38%|███▊      | 3/8 [00:02<00:04,  1.10it/s]"
          ]
        },
        {
          "output_type": "stream",
          "name": "stdout",
          "text": [
            "sample 1 num of prompts for COVID from total 12\n"
          ]
        },
        {
          "output_type": "stream",
          "name": "stderr",
          "text": [
            "\rEvaluate Train:  50%|█████     | 4/8 [00:03<00:03,  1.02it/s]"
          ]
        },
        {
          "output_type": "stream",
          "name": "stdout",
          "text": [
            "sample 1 num of prompts for COVID from total 12\n"
          ]
        },
        {
          "output_type": "stream",
          "name": "stderr",
          "text": [
            "\rEvaluate Train:  62%|██████▎   | 5/8 [00:04<00:02,  1.17it/s]"
          ]
        },
        {
          "output_type": "stream",
          "name": "stdout",
          "text": [
            "sample 1 num of prompts for COVID from total 12\n"
          ]
        },
        {
          "output_type": "stream",
          "name": "stderr",
          "text": [
            "\rEvaluate Train:  75%|███████▌  | 6/8 [00:05<00:02,  1.00s/it]"
          ]
        },
        {
          "output_type": "stream",
          "name": "stdout",
          "text": [
            "sample 1 num of prompts for COVID from total 12\n"
          ]
        },
        {
          "output_type": "stream",
          "name": "stderr",
          "text": [
            "\rEvaluate Train:  88%|████████▊ | 7/8 [00:06<00:00,  1.17it/s]"
          ]
        },
        {
          "output_type": "stream",
          "name": "stdout",
          "text": [
            "sample 1 num of prompts for COVID from total 12\n"
          ]
        },
        {
          "output_type": "stream",
          "name": "stderr",
          "text": [
            "Evaluate Train: 100%|██████████| 8/8 [00:06<00:00,  1.20it/s]\n",
            "Evaluate Validation:   0%|          | 0/2 [00:00<?, ?it/s]"
          ]
        },
        {
          "output_type": "stream",
          "name": "stdout",
          "text": [
            "sample 1 num of prompts for COVID from total 12\n"
          ]
        },
        {
          "output_type": "stream",
          "name": "stderr",
          "text": [
            "\rEvaluate Validation:  50%|█████     | 1/2 [00:00<00:00,  1.93it/s]"
          ]
        },
        {
          "output_type": "stream",
          "name": "stdout",
          "text": [
            "sample 1 num of prompts for COVID from total 12\n"
          ]
        },
        {
          "output_type": "stream",
          "name": "stderr",
          "text": [
            "Evaluate Validation: 100%|██████████| 2/2 [00:02<00:00,  1.12s/it]\n",
            "Evaluate Test:   0%|          | 0/3 [00:00<?, ?it/s]"
          ]
        },
        {
          "output_type": "stream",
          "name": "stdout",
          "text": [
            "sample 1 num of prompts for COVID from total 12\n"
          ]
        },
        {
          "output_type": "stream",
          "name": "stderr",
          "text": [
            "\rEvaluate Test:  33%|███▎      | 1/3 [00:00<00:01,  1.95it/s]"
          ]
        },
        {
          "output_type": "stream",
          "name": "stdout",
          "text": [
            "sample 1 num of prompts for COVID from total 12\n"
          ]
        },
        {
          "output_type": "stream",
          "name": "stderr",
          "text": [
            "\rEvaluate Test:  67%|██████▋   | 2/3 [00:01<00:00,  1.17it/s]"
          ]
        },
        {
          "output_type": "stream",
          "name": "stdout",
          "text": [
            "sample 1 num of prompts for COVID from total 12\n"
          ]
        },
        {
          "output_type": "stream",
          "name": "stderr",
          "text": [
            "Evaluate Test: 100%|██████████| 3/3 [00:01<00:00,  1.52it/s]\n"
          ]
        },
        {
          "output_type": "stream",
          "name": "stdout",
          "text": [
            "\n",
            "Accuracy: 0.6443, Precision: 0.7285, Recall: 0.4260, AUC: 0.7555\n"
          ]
        },
        {
          "output_type": "stream",
          "name": "stderr",
          "text": [
            "\rEvaluate Train:   0%|          | 0/8 [00:00<?, ?it/s]"
          ]
        },
        {
          "output_type": "stream",
          "name": "stdout",
          "text": [
            "sample 2 num of prompts for COVID from total 12\n"
          ]
        },
        {
          "output_type": "stream",
          "name": "stderr",
          "text": [
            "\rEvaluate Train:  12%|█▎        | 1/8 [00:00<00:03,  1.93it/s]"
          ]
        },
        {
          "output_type": "stream",
          "name": "stdout",
          "text": [
            "sample 2 num of prompts for COVID from total 12\n"
          ]
        },
        {
          "output_type": "stream",
          "name": "stderr",
          "text": [
            "\rEvaluate Train:  25%|██▌       | 2/8 [00:01<00:04,  1.25it/s]"
          ]
        },
        {
          "output_type": "stream",
          "name": "stdout",
          "text": [
            "sample 2 num of prompts for COVID from total 12\n"
          ]
        },
        {
          "output_type": "stream",
          "name": "stderr",
          "text": [
            "\rEvaluate Train:  38%|███▊      | 3/8 [00:02<00:04,  1.12it/s]"
          ]
        },
        {
          "output_type": "stream",
          "name": "stdout",
          "text": [
            "sample 2 num of prompts for COVID from total 12\n"
          ]
        },
        {
          "output_type": "stream",
          "name": "stderr",
          "text": [
            "\rEvaluate Train:  50%|█████     | 4/8 [00:03<00:03,  1.30it/s]"
          ]
        },
        {
          "output_type": "stream",
          "name": "stdout",
          "text": [
            "sample 2 num of prompts for COVID from total 12\n"
          ]
        },
        {
          "output_type": "stream",
          "name": "stderr",
          "text": [
            "\rEvaluate Train:  62%|██████▎   | 5/8 [00:03<00:02,  1.44it/s]"
          ]
        },
        {
          "output_type": "stream",
          "name": "stdout",
          "text": [
            "sample 2 num of prompts for COVID from total 12\n"
          ]
        },
        {
          "output_type": "stream",
          "name": "stderr",
          "text": [
            "\rEvaluate Train:  75%|███████▌  | 6/8 [00:04<00:01,  1.37it/s]"
          ]
        },
        {
          "output_type": "stream",
          "name": "stdout",
          "text": [
            "sample 2 num of prompts for COVID from total 12\n"
          ]
        },
        {
          "output_type": "stream",
          "name": "stderr",
          "text": [
            "\rEvaluate Train:  88%|████████▊ | 7/8 [00:04<00:00,  1.52it/s]"
          ]
        },
        {
          "output_type": "stream",
          "name": "stdout",
          "text": [
            "sample 2 num of prompts for COVID from total 12\n"
          ]
        },
        {
          "output_type": "stream",
          "name": "stderr",
          "text": [
            "Evaluate Train: 100%|██████████| 8/8 [00:06<00:00,  1.32it/s]\n",
            "Evaluate Validation:   0%|          | 0/2 [00:00<?, ?it/s]"
          ]
        },
        {
          "output_type": "stream",
          "name": "stdout",
          "text": [
            "sample 2 num of prompts for COVID from total 12\n"
          ]
        },
        {
          "output_type": "stream",
          "name": "stderr",
          "text": [
            "\rEvaluate Validation:  50%|█████     | 1/2 [00:00<00:00,  1.92it/s]"
          ]
        },
        {
          "output_type": "stream",
          "name": "stdout",
          "text": [
            "sample 2 num of prompts for COVID from total 12\n"
          ]
        },
        {
          "output_type": "stream",
          "name": "stderr",
          "text": [
            "Evaluate Validation: 100%|██████████| 2/2 [00:01<00:00,  1.39it/s]\n",
            "Evaluate Test:   0%|          | 0/3 [00:00<?, ?it/s]"
          ]
        },
        {
          "output_type": "stream",
          "name": "stdout",
          "text": [
            "sample 2 num of prompts for COVID from total 12\n"
          ]
        },
        {
          "output_type": "stream",
          "name": "stderr",
          "text": [
            "\rEvaluate Test:  33%|███▎      | 1/3 [00:00<00:01,  1.93it/s]"
          ]
        },
        {
          "output_type": "stream",
          "name": "stdout",
          "text": [
            "sample 2 num of prompts for COVID from total 12\n"
          ]
        },
        {
          "output_type": "stream",
          "name": "stderr",
          "text": [
            "\rEvaluate Test:  67%|██████▋   | 2/3 [00:01<00:00,  1.86it/s]"
          ]
        },
        {
          "output_type": "stream",
          "name": "stdout",
          "text": [
            "sample 2 num of prompts for COVID from total 12\n"
          ]
        },
        {
          "output_type": "stream",
          "name": "stderr",
          "text": [
            "Evaluate Test: 100%|██████████| 3/3 [00:01<00:00,  2.06it/s]\n"
          ]
        },
        {
          "output_type": "stream",
          "name": "stdout",
          "text": [
            "\n",
            "Accuracy: 0.7363, Precision: 0.6901, Recall: 0.8292, AUC: 0.8280\n"
          ]
        },
        {
          "output_type": "stream",
          "name": "stderr",
          "text": [
            "\rEvaluate Train:   0%|          | 0/8 [00:00<?, ?it/s]"
          ]
        },
        {
          "output_type": "stream",
          "name": "stdout",
          "text": [
            "sample 3 num of prompts for COVID from total 12\n"
          ]
        },
        {
          "output_type": "stream",
          "name": "stderr",
          "text": [
            "\rEvaluate Train:  12%|█▎        | 1/8 [00:00<00:03,  1.93it/s]"
          ]
        },
        {
          "output_type": "stream",
          "name": "stdout",
          "text": [
            "sample 3 num of prompts for COVID from total 12\n"
          ]
        },
        {
          "output_type": "stream",
          "name": "stderr",
          "text": [
            "\rEvaluate Train:  25%|██▌       | 2/8 [00:01<00:05,  1.15it/s]"
          ]
        },
        {
          "output_type": "stream",
          "name": "stdout",
          "text": [
            "sample 3 num of prompts for COVID from total 12\n"
          ]
        },
        {
          "output_type": "stream",
          "name": "stderr",
          "text": [
            "\rEvaluate Train:  38%|███▊      | 3/8 [00:02<00:04,  1.13it/s]"
          ]
        },
        {
          "output_type": "stream",
          "name": "stdout",
          "text": [
            "sample 3 num of prompts for COVID from total 12\n"
          ]
        },
        {
          "output_type": "stream",
          "name": "stderr",
          "text": [
            "\rEvaluate Train:  50%|█████     | 4/8 [00:03<00:02,  1.35it/s]"
          ]
        },
        {
          "output_type": "stream",
          "name": "stdout",
          "text": [
            "sample 3 num of prompts for COVID from total 12\n"
          ]
        },
        {
          "output_type": "stream",
          "name": "stderr",
          "text": [
            "\rEvaluate Train:  62%|██████▎   | 5/8 [00:03<00:01,  1.52it/s]"
          ]
        },
        {
          "output_type": "stream",
          "name": "stdout",
          "text": [
            "sample 3 num of prompts for COVID from total 12\n"
          ]
        },
        {
          "output_type": "stream",
          "name": "stderr",
          "text": [
            "\rEvaluate Train:  75%|███████▌  | 6/8 [00:04<00:01,  1.28it/s]"
          ]
        },
        {
          "output_type": "stream",
          "name": "stdout",
          "text": [
            "sample 3 num of prompts for COVID from total 12\n"
          ]
        },
        {
          "output_type": "stream",
          "name": "stderr",
          "text": [
            "\rEvaluate Train:  88%|████████▊ | 7/8 [00:05<00:00,  1.22it/s]"
          ]
        },
        {
          "output_type": "stream",
          "name": "stdout",
          "text": [
            "sample 3 num of prompts for COVID from total 12\n"
          ]
        },
        {
          "output_type": "stream",
          "name": "stderr",
          "text": [
            "Evaluate Train: 100%|██████████| 8/8 [00:06<00:00,  1.31it/s]\n",
            "Evaluate Validation:   0%|          | 0/2 [00:00<?, ?it/s]"
          ]
        },
        {
          "output_type": "stream",
          "name": "stdout",
          "text": [
            "sample 3 num of prompts for COVID from total 12\n"
          ]
        },
        {
          "output_type": "stream",
          "name": "stderr",
          "text": [
            "\rEvaluate Validation:  50%|█████     | 1/2 [00:00<00:00,  1.97it/s]"
          ]
        },
        {
          "output_type": "stream",
          "name": "stdout",
          "text": [
            "sample 3 num of prompts for COVID from total 12\n"
          ]
        },
        {
          "output_type": "stream",
          "name": "stderr",
          "text": [
            "Evaluate Validation: 100%|██████████| 2/2 [00:01<00:00,  1.09it/s]\n",
            "Evaluate Test:   0%|          | 0/3 [00:00<?, ?it/s]"
          ]
        },
        {
          "output_type": "stream",
          "name": "stdout",
          "text": [
            "sample 3 num of prompts for COVID from total 12\n"
          ]
        },
        {
          "output_type": "stream",
          "name": "stderr",
          "text": [
            "\rEvaluate Test:  33%|███▎      | 1/3 [00:00<00:01,  1.49it/s]"
          ]
        },
        {
          "output_type": "stream",
          "name": "stdout",
          "text": [
            "sample 3 num of prompts for COVID from total 12\n"
          ]
        },
        {
          "output_type": "stream",
          "name": "stderr",
          "text": [
            "\rEvaluate Test:  67%|██████▋   | 2/3 [00:01<00:00,  1.43it/s]"
          ]
        },
        {
          "output_type": "stream",
          "name": "stdout",
          "text": [
            "sample 3 num of prompts for COVID from total 12\n"
          ]
        },
        {
          "output_type": "stream",
          "name": "stderr",
          "text": [
            "Evaluate Test: 100%|██████████| 3/3 [00:02<00:00,  1.25it/s]\n"
          ]
        },
        {
          "output_type": "stream",
          "name": "stdout",
          "text": [
            "\n",
            "Accuracy: 0.7409, Precision: 0.6869, Recall: 0.8567, AUC: 0.8356\n"
          ]
        },
        {
          "output_type": "stream",
          "name": "stderr",
          "text": [
            "\rEvaluate Train:   0%|          | 0/8 [00:00<?, ?it/s]"
          ]
        },
        {
          "output_type": "stream",
          "name": "stdout",
          "text": [
            "sample 4 num of prompts for COVID from total 12\n"
          ]
        },
        {
          "output_type": "stream",
          "name": "stderr",
          "text": [
            "\rEvaluate Train:  12%|█▎        | 1/8 [00:00<00:04,  1.68it/s]"
          ]
        },
        {
          "output_type": "stream",
          "name": "stdout",
          "text": [
            "sample 4 num of prompts for COVID from total 12\n"
          ]
        },
        {
          "output_type": "stream",
          "name": "stderr",
          "text": [
            "\rEvaluate Train:  25%|██▌       | 2/8 [00:01<00:03,  1.81it/s]"
          ]
        },
        {
          "output_type": "stream",
          "name": "stdout",
          "text": [
            "sample 4 num of prompts for COVID from total 12\n"
          ]
        },
        {
          "output_type": "stream",
          "name": "stderr",
          "text": [
            "\rEvaluate Train:  38%|███▊      | 3/8 [00:01<00:02,  1.89it/s]"
          ]
        },
        {
          "output_type": "stream",
          "name": "stdout",
          "text": [
            "sample 4 num of prompts for COVID from total 12\n"
          ]
        },
        {
          "output_type": "stream",
          "name": "stderr",
          "text": [
            "\rEvaluate Train:  50%|█████     | 4/8 [00:02<00:02,  1.89it/s]"
          ]
        },
        {
          "output_type": "stream",
          "name": "stdout",
          "text": [
            "sample 4 num of prompts for COVID from total 12\n"
          ]
        },
        {
          "output_type": "stream",
          "name": "stderr",
          "text": [
            "\rEvaluate Train:  62%|██████▎   | 5/8 [00:03<00:02,  1.37it/s]"
          ]
        },
        {
          "output_type": "stream",
          "name": "stdout",
          "text": [
            "sample 4 num of prompts for COVID from total 12\n"
          ]
        },
        {
          "output_type": "stream",
          "name": "stderr",
          "text": [
            "\rEvaluate Train:  75%|███████▌  | 6/8 [00:04<00:01,  1.14it/s]"
          ]
        },
        {
          "output_type": "stream",
          "name": "stdout",
          "text": [
            "sample 4 num of prompts for COVID from total 12\n"
          ]
        },
        {
          "output_type": "stream",
          "name": "stderr",
          "text": [
            "\rEvaluate Train:  88%|████████▊ | 7/8 [00:04<00:00,  1.32it/s]"
          ]
        },
        {
          "output_type": "stream",
          "name": "stdout",
          "text": [
            "sample 4 num of prompts for COVID from total 12\n"
          ]
        },
        {
          "output_type": "stream",
          "name": "stderr",
          "text": [
            "Evaluate Train: 100%|██████████| 8/8 [00:06<00:00,  1.22it/s]\n",
            "Evaluate Validation:   0%|          | 0/2 [00:00<?, ?it/s]"
          ]
        },
        {
          "output_type": "stream",
          "name": "stdout",
          "text": [
            "sample 4 num of prompts for COVID from total 12\n"
          ]
        },
        {
          "output_type": "stream",
          "name": "stderr",
          "text": [
            "\rEvaluate Validation:  50%|█████     | 1/2 [00:00<00:00,  1.95it/s]"
          ]
        },
        {
          "output_type": "stream",
          "name": "stdout",
          "text": [
            "sample 4 num of prompts for COVID from total 12\n"
          ]
        },
        {
          "output_type": "stream",
          "name": "stderr",
          "text": [
            "Evaluate Validation: 100%|██████████| 2/2 [00:01<00:00,  1.98it/s]\n",
            "Evaluate Test:   0%|          | 0/3 [00:00<?, ?it/s]"
          ]
        },
        {
          "output_type": "stream",
          "name": "stdout",
          "text": [
            "sample 4 num of prompts for COVID from total 12\n"
          ]
        },
        {
          "output_type": "stream",
          "name": "stderr",
          "text": [
            "\rEvaluate Test:  33%|███▎      | 1/3 [00:00<00:01,  1.23it/s]"
          ]
        },
        {
          "output_type": "stream",
          "name": "stdout",
          "text": [
            "sample 4 num of prompts for COVID from total 12\n"
          ]
        },
        {
          "output_type": "stream",
          "name": "stderr",
          "text": [
            "\rEvaluate Test:  67%|██████▋   | 2/3 [00:01<00:00,  1.29it/s]"
          ]
        },
        {
          "output_type": "stream",
          "name": "stdout",
          "text": [
            "sample 4 num of prompts for COVID from total 12\n"
          ]
        },
        {
          "output_type": "stream",
          "name": "stderr",
          "text": [
            "Evaluate Test: 100%|██████████| 3/3 [00:02<00:00,  1.32it/s]\n"
          ]
        },
        {
          "output_type": "stream",
          "name": "stdout",
          "text": [
            "\n",
            "Accuracy: 0.7516, Precision: 0.6816, Recall: 0.9163, AUC: 0.8584\n"
          ]
        },
        {
          "output_type": "stream",
          "name": "stderr",
          "text": [
            "\rEvaluate Train:   0%|          | 0/8 [00:00<?, ?it/s]"
          ]
        },
        {
          "output_type": "stream",
          "name": "stdout",
          "text": [
            "sample 5 num of prompts for COVID from total 12\n"
          ]
        },
        {
          "output_type": "stream",
          "name": "stderr",
          "text": [
            "\rEvaluate Train:  12%|█▎        | 1/8 [00:00<00:03,  1.91it/s]"
          ]
        },
        {
          "output_type": "stream",
          "name": "stdout",
          "text": [
            "sample 5 num of prompts for COVID from total 12\n"
          ]
        },
        {
          "output_type": "stream",
          "name": "stderr",
          "text": [
            "\rEvaluate Train:  25%|██▌       | 2/8 [00:01<00:03,  1.93it/s]"
          ]
        },
        {
          "output_type": "stream",
          "name": "stdout",
          "text": [
            "sample 5 num of prompts for COVID from total 12\n"
          ]
        },
        {
          "output_type": "stream",
          "name": "stderr",
          "text": [
            "\rEvaluate Train:  38%|███▊      | 3/8 [00:02<00:04,  1.23it/s]"
          ]
        },
        {
          "output_type": "stream",
          "name": "stdout",
          "text": [
            "sample 5 num of prompts for COVID from total 12\n"
          ]
        },
        {
          "output_type": "stream",
          "name": "stderr",
          "text": [
            "\rEvaluate Train:  50%|█████     | 4/8 [00:03<00:03,  1.16it/s]"
          ]
        },
        {
          "output_type": "stream",
          "name": "stdout",
          "text": [
            "sample 5 num of prompts for COVID from total 12\n"
          ]
        },
        {
          "output_type": "stream",
          "name": "stderr",
          "text": [
            "\rEvaluate Train:  62%|██████▎   | 5/8 [00:04<00:02,  1.09it/s]"
          ]
        },
        {
          "output_type": "stream",
          "name": "stdout",
          "text": [
            "sample 5 num of prompts for COVID from total 12\n"
          ]
        },
        {
          "output_type": "stream",
          "name": "stderr",
          "text": [
            "\rEvaluate Train:  75%|███████▌  | 6/8 [00:04<00:01,  1.24it/s]"
          ]
        },
        {
          "output_type": "stream",
          "name": "stdout",
          "text": [
            "sample 5 num of prompts for COVID from total 12\n"
          ]
        },
        {
          "output_type": "stream",
          "name": "stderr",
          "text": [
            "\rEvaluate Train:  88%|████████▊ | 7/8 [00:05<00:00,  1.40it/s]"
          ]
        },
        {
          "output_type": "stream",
          "name": "stdout",
          "text": [
            "sample 5 num of prompts for COVID from total 12\n"
          ]
        },
        {
          "output_type": "stream",
          "name": "stderr",
          "text": [
            "Evaluate Train: 100%|██████████| 8/8 [00:06<00:00,  1.32it/s]\n",
            "Evaluate Validation:   0%|          | 0/2 [00:00<?, ?it/s]"
          ]
        },
        {
          "output_type": "stream",
          "name": "stdout",
          "text": [
            "sample 5 num of prompts for COVID from total 12\n"
          ]
        },
        {
          "output_type": "stream",
          "name": "stderr",
          "text": [
            "\rEvaluate Validation:  50%|█████     | 1/2 [00:00<00:00,  1.97it/s]"
          ]
        },
        {
          "output_type": "stream",
          "name": "stdout",
          "text": [
            "sample 5 num of prompts for COVID from total 12\n"
          ]
        },
        {
          "output_type": "stream",
          "name": "stderr",
          "text": [
            "Evaluate Validation: 100%|██████████| 2/2 [00:01<00:00,  1.22it/s]\n",
            "Evaluate Test:   0%|          | 0/3 [00:00<?, ?it/s]"
          ]
        },
        {
          "output_type": "stream",
          "name": "stdout",
          "text": [
            "sample 5 num of prompts for COVID from total 12\n"
          ]
        },
        {
          "output_type": "stream",
          "name": "stderr",
          "text": [
            "\rEvaluate Test:  33%|███▎      | 1/3 [00:00<00:01,  1.59it/s]"
          ]
        },
        {
          "output_type": "stream",
          "name": "stdout",
          "text": [
            "sample 5 num of prompts for COVID from total 12\n"
          ]
        },
        {
          "output_type": "stream",
          "name": "stderr",
          "text": [
            "\rEvaluate Test:  67%|██████▋   | 2/3 [00:01<00:00,  1.34it/s]"
          ]
        },
        {
          "output_type": "stream",
          "name": "stdout",
          "text": [
            "sample 5 num of prompts for COVID from total 12\n"
          ]
        },
        {
          "output_type": "stream",
          "name": "stderr",
          "text": [
            "Evaluate Test: 100%|██████████| 3/3 [00:01<00:00,  1.65it/s]\n"
          ]
        },
        {
          "output_type": "stream",
          "name": "stdout",
          "text": [
            "\n",
            "Accuracy: 0.7490, Precision: 0.6780, Recall: 0.9196, AUC: 0.8602\n"
          ]
        },
        {
          "output_type": "stream",
          "name": "stderr",
          "text": [
            "\rEvaluate Train:   0%|          | 0/8 [00:00<?, ?it/s]"
          ]
        },
        {
          "output_type": "stream",
          "name": "stdout",
          "text": [
            "sample 6 num of prompts for COVID from total 12\n"
          ]
        },
        {
          "output_type": "stream",
          "name": "stderr",
          "text": [
            "\rEvaluate Train:  12%|█▎        | 1/8 [00:00<00:03,  1.92it/s]"
          ]
        },
        {
          "output_type": "stream",
          "name": "stdout",
          "text": [
            "sample 6 num of prompts for COVID from total 12\n"
          ]
        },
        {
          "output_type": "stream",
          "name": "stderr",
          "text": [
            "\rEvaluate Train:  25%|██▌       | 2/8 [00:01<00:05,  1.12it/s]"
          ]
        },
        {
          "output_type": "stream",
          "name": "stdout",
          "text": [
            "sample 6 num of prompts for COVID from total 12\n"
          ]
        },
        {
          "output_type": "stream",
          "name": "stderr",
          "text": [
            "\rEvaluate Train:  38%|███▊      | 3/8 [00:02<00:04,  1.12it/s]"
          ]
        },
        {
          "output_type": "stream",
          "name": "stdout",
          "text": [
            "sample 6 num of prompts for COVID from total 12\n"
          ]
        },
        {
          "output_type": "stream",
          "name": "stderr",
          "text": [
            "\rEvaluate Train:  50%|█████     | 4/8 [00:03<00:02,  1.34it/s]"
          ]
        },
        {
          "output_type": "stream",
          "name": "stdout",
          "text": [
            "sample 6 num of prompts for COVID from total 12\n"
          ]
        },
        {
          "output_type": "stream",
          "name": "stderr",
          "text": [
            "\rEvaluate Train:  62%|██████▎   | 5/8 [00:03<00:02,  1.33it/s]"
          ]
        },
        {
          "output_type": "stream",
          "name": "stdout",
          "text": [
            "sample 6 num of prompts for COVID from total 12\n"
          ]
        },
        {
          "output_type": "stream",
          "name": "stderr",
          "text": [
            "\rEvaluate Train:  75%|███████▌  | 6/8 [00:04<00:01,  1.48it/s]"
          ]
        },
        {
          "output_type": "stream",
          "name": "stdout",
          "text": [
            "sample 6 num of prompts for COVID from total 12\n"
          ]
        },
        {
          "output_type": "stream",
          "name": "stderr",
          "text": [
            "\rEvaluate Train:  88%|████████▊ | 7/8 [00:05<00:00,  1.16it/s]"
          ]
        },
        {
          "output_type": "stream",
          "name": "stdout",
          "text": [
            "sample 6 num of prompts for COVID from total 12\n"
          ]
        },
        {
          "output_type": "stream",
          "name": "stderr",
          "text": [
            "Evaluate Train: 100%|██████████| 8/8 [00:06<00:00,  1.27it/s]\n",
            "Evaluate Validation:   0%|          | 0/2 [00:00<?, ?it/s]"
          ]
        },
        {
          "output_type": "stream",
          "name": "stdout",
          "text": [
            "sample 6 num of prompts for COVID from total 12\n"
          ]
        },
        {
          "output_type": "stream",
          "name": "stderr",
          "text": [
            "\rEvaluate Validation:  50%|█████     | 1/2 [00:00<00:00,  1.94it/s]"
          ]
        },
        {
          "output_type": "stream",
          "name": "stdout",
          "text": [
            "sample 6 num of prompts for COVID from total 12\n"
          ]
        },
        {
          "output_type": "stream",
          "name": "stderr",
          "text": [
            "Evaluate Validation: 100%|██████████| 2/2 [00:01<00:00,  1.15it/s]\n",
            "Evaluate Test:   0%|          | 0/3 [00:00<?, ?it/s]"
          ]
        },
        {
          "output_type": "stream",
          "name": "stdout",
          "text": [
            "sample 6 num of prompts for COVID from total 12\n"
          ]
        },
        {
          "output_type": "stream",
          "name": "stderr",
          "text": [
            "\rEvaluate Test:  33%|███▎      | 1/3 [00:00<00:01,  1.94it/s]"
          ]
        },
        {
          "output_type": "stream",
          "name": "stdout",
          "text": [
            "sample 6 num of prompts for COVID from total 12\n"
          ]
        },
        {
          "output_type": "stream",
          "name": "stderr",
          "text": [
            "\rEvaluate Test:  67%|██████▋   | 2/3 [00:01<00:00,  1.86it/s]"
          ]
        },
        {
          "output_type": "stream",
          "name": "stdout",
          "text": [
            "sample 6 num of prompts for COVID from total 12\n"
          ]
        },
        {
          "output_type": "stream",
          "name": "stderr",
          "text": [
            "Evaluate Test: 100%|██████████| 3/3 [00:01<00:00,  1.82it/s]\n"
          ]
        },
        {
          "output_type": "stream",
          "name": "stdout",
          "text": [
            "\n",
            "Accuracy: 0.7497, Precision: 0.6785, Recall: 0.9203, AUC: 0.8598\n"
          ]
        },
        {
          "output_type": "stream",
          "name": "stderr",
          "text": [
            "\rEvaluate Train:   0%|          | 0/8 [00:00<?, ?it/s]"
          ]
        },
        {
          "output_type": "stream",
          "name": "stdout",
          "text": [
            "sample 7 num of prompts for COVID from total 12\n"
          ]
        },
        {
          "output_type": "stream",
          "name": "stderr",
          "text": [
            "\rEvaluate Train:  12%|█▎        | 1/8 [00:00<00:03,  1.91it/s]"
          ]
        },
        {
          "output_type": "stream",
          "name": "stdout",
          "text": [
            "sample 7 num of prompts for COVID from total 12\n"
          ]
        },
        {
          "output_type": "stream",
          "name": "stderr",
          "text": [
            "\rEvaluate Train:  25%|██▌       | 2/8 [00:01<00:05,  1.01it/s]"
          ]
        },
        {
          "output_type": "stream",
          "name": "stdout",
          "text": [
            "sample 7 num of prompts for COVID from total 12\n"
          ]
        },
        {
          "output_type": "stream",
          "name": "stderr",
          "text": [
            "\rEvaluate Train:  38%|███▊      | 3/8 [00:02<00:03,  1.29it/s]"
          ]
        },
        {
          "output_type": "stream",
          "name": "stdout",
          "text": [
            "sample 7 num of prompts for COVID from total 12\n"
          ]
        },
        {
          "output_type": "stream",
          "name": "stderr",
          "text": [
            "\rEvaluate Train:  50%|█████     | 4/8 [00:03<00:03,  1.29it/s]"
          ]
        },
        {
          "output_type": "stream",
          "name": "stdout",
          "text": [
            "sample 7 num of prompts for COVID from total 12\n"
          ]
        },
        {
          "output_type": "stream",
          "name": "stderr",
          "text": [
            "\rEvaluate Train:  62%|██████▎   | 5/8 [00:03<00:02,  1.46it/s]"
          ]
        },
        {
          "output_type": "stream",
          "name": "stdout",
          "text": [
            "sample 7 num of prompts for COVID from total 12\n"
          ]
        },
        {
          "output_type": "stream",
          "name": "stderr",
          "text": [
            "\rEvaluate Train:  75%|███████▌  | 6/8 [00:04<00:01,  1.21it/s]"
          ]
        },
        {
          "output_type": "stream",
          "name": "stdout",
          "text": [
            "sample 7 num of prompts for COVID from total 12\n"
          ]
        },
        {
          "output_type": "stream",
          "name": "stderr",
          "text": [
            "\rEvaluate Train:  88%|████████▊ | 7/8 [00:05<00:00,  1.33it/s]"
          ]
        },
        {
          "output_type": "stream",
          "name": "stdout",
          "text": [
            "sample 7 num of prompts for COVID from total 12\n"
          ]
        },
        {
          "output_type": "stream",
          "name": "stderr",
          "text": [
            "Evaluate Train: 100%|██████████| 8/8 [00:05<00:00,  1.33it/s]\n",
            "Evaluate Validation:   0%|          | 0/2 [00:00<?, ?it/s]"
          ]
        },
        {
          "output_type": "stream",
          "name": "stdout",
          "text": [
            "sample 7 num of prompts for COVID from total 12\n"
          ]
        },
        {
          "output_type": "stream",
          "name": "stderr",
          "text": [
            "\rEvaluate Validation:  50%|█████     | 1/2 [00:00<00:00,  1.23it/s]"
          ]
        },
        {
          "output_type": "stream",
          "name": "stdout",
          "text": [
            "sample 7 num of prompts for COVID from total 12\n"
          ]
        },
        {
          "output_type": "stream",
          "name": "stderr",
          "text": [
            "Evaluate Validation: 100%|██████████| 2/2 [00:01<00:00,  1.10it/s]\n",
            "Evaluate Test:   0%|          | 0/3 [00:00<?, ?it/s]"
          ]
        },
        {
          "output_type": "stream",
          "name": "stdout",
          "text": [
            "sample 7 num of prompts for COVID from total 12\n"
          ]
        },
        {
          "output_type": "stream",
          "name": "stderr",
          "text": [
            "\rEvaluate Test:  33%|███▎      | 1/3 [00:00<00:01,  1.73it/s]"
          ]
        },
        {
          "output_type": "stream",
          "name": "stdout",
          "text": [
            "sample 7 num of prompts for COVID from total 12\n"
          ]
        },
        {
          "output_type": "stream",
          "name": "stderr",
          "text": [
            "\rEvaluate Test:  67%|██████▋   | 2/3 [00:01<00:00,  1.46it/s]"
          ]
        },
        {
          "output_type": "stream",
          "name": "stdout",
          "text": [
            "sample 7 num of prompts for COVID from total 12\n"
          ]
        },
        {
          "output_type": "stream",
          "name": "stderr",
          "text": [
            "Evaluate Test: 100%|██████████| 3/3 [00:01<00:00,  1.76it/s]\n"
          ]
        },
        {
          "output_type": "stream",
          "name": "stdout",
          "text": [
            "\n",
            "Accuracy: 0.7500, Precision: 0.6787, Recall: 0.9210, AUC: 0.8594\n"
          ]
        },
        {
          "output_type": "stream",
          "name": "stderr",
          "text": [
            "\rEvaluate Train:   0%|          | 0/8 [00:00<?, ?it/s]"
          ]
        },
        {
          "output_type": "stream",
          "name": "stdout",
          "text": [
            "sample 8 num of prompts for COVID from total 12\n"
          ]
        },
        {
          "output_type": "stream",
          "name": "stderr",
          "text": [
            "\rEvaluate Train:  12%|█▎        | 1/8 [00:00<00:04,  1.69it/s]"
          ]
        },
        {
          "output_type": "stream",
          "name": "stdout",
          "text": [
            "sample 8 num of prompts for COVID from total 12\n"
          ]
        },
        {
          "output_type": "stream",
          "name": "stderr",
          "text": [
            "\rEvaluate Train:  25%|██▌       | 2/8 [00:01<00:05,  1.17it/s]"
          ]
        },
        {
          "output_type": "stream",
          "name": "stdout",
          "text": [
            "sample 8 num of prompts for COVID from total 12\n"
          ]
        },
        {
          "output_type": "stream",
          "name": "stderr",
          "text": [
            "\rEvaluate Train:  38%|███▊      | 3/8 [00:02<00:03,  1.39it/s]"
          ]
        },
        {
          "output_type": "stream",
          "name": "stdout",
          "text": [
            "sample 8 num of prompts for COVID from total 12\n"
          ]
        },
        {
          "output_type": "stream",
          "name": "stderr",
          "text": [
            "\rEvaluate Train:  50%|█████     | 4/8 [00:02<00:02,  1.54it/s]"
          ]
        },
        {
          "output_type": "stream",
          "name": "stdout",
          "text": [
            "sample 8 num of prompts for COVID from total 12\n"
          ]
        },
        {
          "output_type": "stream",
          "name": "stderr",
          "text": [
            "\rEvaluate Train:  62%|██████▎   | 5/8 [00:03<00:02,  1.40it/s]"
          ]
        },
        {
          "output_type": "stream",
          "name": "stdout",
          "text": [
            "sample 8 num of prompts for COVID from total 12\n"
          ]
        },
        {
          "output_type": "stream",
          "name": "stderr",
          "text": [
            "\rEvaluate Train:  75%|███████▌  | 6/8 [00:04<00:01,  1.26it/s]"
          ]
        },
        {
          "output_type": "stream",
          "name": "stdout",
          "text": [
            "sample 8 num of prompts for COVID from total 12\n"
          ]
        },
        {
          "output_type": "stream",
          "name": "stderr",
          "text": [
            "\rEvaluate Train:  88%|████████▊ | 7/8 [00:05<00:00,  1.42it/s]"
          ]
        },
        {
          "output_type": "stream",
          "name": "stdout",
          "text": [
            "sample 8 num of prompts for COVID from total 12\n"
          ]
        },
        {
          "output_type": "stream",
          "name": "stderr",
          "text": [
            "Evaluate Train: 100%|██████████| 8/8 [00:06<00:00,  1.33it/s]\n",
            "Evaluate Validation:   0%|          | 0/2 [00:00<?, ?it/s]"
          ]
        },
        {
          "output_type": "stream",
          "name": "stdout",
          "text": [
            "sample 8 num of prompts for COVID from total 12\n"
          ]
        },
        {
          "output_type": "stream",
          "name": "stderr",
          "text": [
            "\rEvaluate Validation:  50%|█████     | 1/2 [00:00<00:00,  1.44it/s]"
          ]
        },
        {
          "output_type": "stream",
          "name": "stdout",
          "text": [
            "sample 8 num of prompts for COVID from total 12\n"
          ]
        },
        {
          "output_type": "stream",
          "name": "stderr",
          "text": [
            "Evaluate Validation: 100%|██████████| 2/2 [00:01<00:00,  1.37it/s]\n",
            "Evaluate Test:   0%|          | 0/3 [00:00<?, ?it/s]"
          ]
        },
        {
          "output_type": "stream",
          "name": "stdout",
          "text": [
            "sample 8 num of prompts for COVID from total 12\n"
          ]
        },
        {
          "output_type": "stream",
          "name": "stderr",
          "text": [
            "\rEvaluate Test:  33%|███▎      | 1/3 [00:00<00:01,  1.92it/s]"
          ]
        },
        {
          "output_type": "stream",
          "name": "stdout",
          "text": [
            "sample 8 num of prompts for COVID from total 12\n"
          ]
        },
        {
          "output_type": "stream",
          "name": "stderr",
          "text": [
            "\rEvaluate Test:  67%|██████▋   | 2/3 [00:01<00:00,  1.88it/s]"
          ]
        },
        {
          "output_type": "stream",
          "name": "stdout",
          "text": [
            "sample 8 num of prompts for COVID from total 12\n"
          ]
        },
        {
          "output_type": "stream",
          "name": "stderr",
          "text": [
            "Evaluate Test: 100%|██████████| 3/3 [00:02<00:00,  1.22it/s]\n"
          ]
        },
        {
          "output_type": "stream",
          "name": "stdout",
          "text": [
            "\n",
            "Accuracy: 0.7503, Precision: 0.6788, Recall: 0.9216, AUC: 0.8598\n"
          ]
        },
        {
          "output_type": "stream",
          "name": "stderr",
          "text": [
            "\rEvaluate Train:   0%|          | 0/8 [00:00<?, ?it/s]"
          ]
        },
        {
          "output_type": "stream",
          "name": "stdout",
          "text": [
            "sample 9 num of prompts for COVID from total 12\n"
          ]
        },
        {
          "output_type": "stream",
          "name": "stderr",
          "text": [
            "\rEvaluate Train:  12%|█▎        | 1/8 [00:00<00:05,  1.27it/s]"
          ]
        },
        {
          "output_type": "stream",
          "name": "stdout",
          "text": [
            "sample 9 num of prompts for COVID from total 12\n"
          ]
        },
        {
          "output_type": "stream",
          "name": "stderr",
          "text": [
            "\rEvaluate Train:  25%|██▌       | 2/8 [00:01<00:04,  1.44it/s]"
          ]
        },
        {
          "output_type": "stream",
          "name": "stdout",
          "text": [
            "sample 9 num of prompts for COVID from total 12\n"
          ]
        },
        {
          "output_type": "stream",
          "name": "stderr",
          "text": [
            "\rEvaluate Train:  38%|███▊      | 3/8 [00:02<00:04,  1.13it/s]"
          ]
        },
        {
          "output_type": "stream",
          "name": "stdout",
          "text": [
            "sample 9 num of prompts for COVID from total 12\n"
          ]
        },
        {
          "output_type": "stream",
          "name": "stderr",
          "text": [
            "\rEvaluate Train:  50%|█████     | 4/8 [00:03<00:03,  1.01it/s]"
          ]
        },
        {
          "output_type": "stream",
          "name": "stdout",
          "text": [
            "sample 9 num of prompts for COVID from total 12\n"
          ]
        },
        {
          "output_type": "stream",
          "name": "stderr",
          "text": [
            "\rEvaluate Train:  62%|██████▎   | 5/8 [00:04<00:02,  1.22it/s]"
          ]
        },
        {
          "output_type": "stream",
          "name": "stdout",
          "text": [
            "sample 9 num of prompts for COVID from total 12\n"
          ]
        },
        {
          "output_type": "stream",
          "name": "stderr",
          "text": [
            "\rEvaluate Train:  75%|███████▌  | 6/8 [00:04<00:01,  1.32it/s]"
          ]
        },
        {
          "output_type": "stream",
          "name": "stdout",
          "text": [
            "sample 9 num of prompts for COVID from total 12\n"
          ]
        },
        {
          "output_type": "stream",
          "name": "stderr",
          "text": [
            "\rEvaluate Train:  88%|████████▊ | 7/8 [00:05<00:00,  1.47it/s]"
          ]
        },
        {
          "output_type": "stream",
          "name": "stdout",
          "text": [
            "sample 9 num of prompts for COVID from total 12\n"
          ]
        },
        {
          "output_type": "stream",
          "name": "stderr",
          "text": [
            "Evaluate Train: 100%|██████████| 8/8 [00:06<00:00,  1.24it/s]\n",
            "Evaluate Validation:   0%|          | 0/2 [00:00<?, ?it/s]"
          ]
        },
        {
          "output_type": "stream",
          "name": "stdout",
          "text": [
            "sample 9 num of prompts for COVID from total 12\n"
          ]
        },
        {
          "output_type": "stream",
          "name": "stderr",
          "text": [
            "\rEvaluate Validation:  50%|█████     | 1/2 [00:00<00:00,  1.92it/s]"
          ]
        },
        {
          "output_type": "stream",
          "name": "stdout",
          "text": [
            "sample 9 num of prompts for COVID from total 12\n"
          ]
        },
        {
          "output_type": "stream",
          "name": "stderr",
          "text": [
            "Evaluate Validation: 100%|██████████| 2/2 [00:01<00:00,  1.96it/s]\n",
            "Evaluate Test:   0%|          | 0/3 [00:00<?, ?it/s]"
          ]
        },
        {
          "output_type": "stream",
          "name": "stdout",
          "text": [
            "sample 9 num of prompts for COVID from total 12\n"
          ]
        },
        {
          "output_type": "stream",
          "name": "stderr",
          "text": [
            "\rEvaluate Test:  33%|███▎      | 1/3 [00:00<00:01,  1.94it/s]"
          ]
        },
        {
          "output_type": "stream",
          "name": "stdout",
          "text": [
            "sample 9 num of prompts for COVID from total 12\n"
          ]
        },
        {
          "output_type": "stream",
          "name": "stderr",
          "text": [
            "\rEvaluate Test:  67%|██████▋   | 2/3 [00:01<00:00,  1.94it/s]"
          ]
        },
        {
          "output_type": "stream",
          "name": "stdout",
          "text": [
            "sample 9 num of prompts for COVID from total 12\n"
          ]
        },
        {
          "output_type": "stream",
          "name": "stderr",
          "text": [
            "Evaluate Test: 100%|██████████| 3/3 [00:02<00:00,  1.23it/s]\n"
          ]
        },
        {
          "output_type": "stream",
          "name": "stdout",
          "text": [
            "\n",
            "Accuracy: 0.7490, Precision: 0.6778, Recall: 0.9203, AUC: 0.8600\n"
          ]
        },
        {
          "output_type": "stream",
          "name": "stderr",
          "text": [
            "\rEvaluate Train:   0%|          | 0/8 [00:00<?, ?it/s]"
          ]
        },
        {
          "output_type": "stream",
          "name": "stdout",
          "text": [
            "sample 10 num of prompts for COVID from total 12\n"
          ]
        },
        {
          "output_type": "stream",
          "name": "stderr",
          "text": [
            "\rEvaluate Train:  12%|█▎        | 1/8 [00:00<00:04,  1.74it/s]"
          ]
        },
        {
          "output_type": "stream",
          "name": "stdout",
          "text": [
            "sample 10 num of prompts for COVID from total 12\n"
          ]
        },
        {
          "output_type": "stream",
          "name": "stderr",
          "text": [
            "\rEvaluate Train:  25%|██▌       | 2/8 [00:01<00:03,  1.85it/s]"
          ]
        },
        {
          "output_type": "stream",
          "name": "stdout",
          "text": [
            "sample 10 num of prompts for COVID from total 12\n"
          ]
        },
        {
          "output_type": "stream",
          "name": "stderr",
          "text": [
            "\rEvaluate Train:  38%|███▊      | 3/8 [00:01<00:02,  1.89it/s]"
          ]
        },
        {
          "output_type": "stream",
          "name": "stdout",
          "text": [
            "sample 10 num of prompts for COVID from total 12\n"
          ]
        },
        {
          "output_type": "stream",
          "name": "stderr",
          "text": [
            "\rEvaluate Train:  50%|█████     | 4/8 [00:02<00:02,  1.48it/s]"
          ]
        },
        {
          "output_type": "stream",
          "name": "stdout",
          "text": [
            "sample 10 num of prompts for COVID from total 12\n"
          ]
        },
        {
          "output_type": "stream",
          "name": "stderr",
          "text": [
            "\rEvaluate Train:  62%|██████▎   | 5/8 [00:03<00:02,  1.25it/s]"
          ]
        },
        {
          "output_type": "stream",
          "name": "stdout",
          "text": [
            "sample 10 num of prompts for COVID from total 12\n"
          ]
        },
        {
          "output_type": "stream",
          "name": "stderr",
          "text": [
            "\rEvaluate Train:  75%|███████▌  | 6/8 [00:04<00:01,  1.42it/s]"
          ]
        },
        {
          "output_type": "stream",
          "name": "stdout",
          "text": [
            "sample 10 num of prompts for COVID from total 12\n"
          ]
        },
        {
          "output_type": "stream",
          "name": "stderr",
          "text": [
            "\rEvaluate Train:  88%|████████▊ | 7/8 [00:04<00:00,  1.53it/s]"
          ]
        },
        {
          "output_type": "stream",
          "name": "stdout",
          "text": [
            "sample 10 num of prompts for COVID from total 12\n"
          ]
        },
        {
          "output_type": "stream",
          "name": "stderr",
          "text": [
            "Evaluate Train: 100%|██████████| 8/8 [00:05<00:00,  1.34it/s]\n",
            "Evaluate Validation:   0%|          | 0/2 [00:00<?, ?it/s]"
          ]
        },
        {
          "output_type": "stream",
          "name": "stdout",
          "text": [
            "sample 10 num of prompts for COVID from total 12\n"
          ]
        },
        {
          "output_type": "stream",
          "name": "stderr",
          "text": [
            "\rEvaluate Validation:  50%|█████     | 1/2 [00:00<00:00,  1.99it/s]"
          ]
        },
        {
          "output_type": "stream",
          "name": "stdout",
          "text": [
            "sample 10 num of prompts for COVID from total 12\n"
          ]
        },
        {
          "output_type": "stream",
          "name": "stderr",
          "text": [
            "Evaluate Validation: 100%|██████████| 2/2 [00:01<00:00,  1.71it/s]\n",
            "Evaluate Test:   0%|          | 0/3 [00:00<?, ?it/s]"
          ]
        },
        {
          "output_type": "stream",
          "name": "stdout",
          "text": [
            "sample 10 num of prompts for COVID from total 12\n"
          ]
        },
        {
          "output_type": "stream",
          "name": "stderr",
          "text": [
            "\rEvaluate Test:  33%|███▎      | 1/3 [00:00<00:01,  1.68it/s]"
          ]
        },
        {
          "output_type": "stream",
          "name": "stdout",
          "text": [
            "sample 10 num of prompts for COVID from total 12\n"
          ]
        },
        {
          "output_type": "stream",
          "name": "stderr",
          "text": [
            "\rEvaluate Test:  67%|██████▋   | 2/3 [00:01<00:00,  1.44it/s]"
          ]
        },
        {
          "output_type": "stream",
          "name": "stdout",
          "text": [
            "sample 10 num of prompts for COVID from total 12\n"
          ]
        },
        {
          "output_type": "stream",
          "name": "stderr",
          "text": [
            "Evaluate Test: 100%|██████████| 3/3 [00:01<00:00,  1.74it/s]\n"
          ]
        },
        {
          "output_type": "stream",
          "name": "stdout",
          "text": [
            "\n",
            "Accuracy: 0.7497, Precision: 0.6780, Recall: 0.9223, AUC: 0.8599\n"
          ]
        },
        {
          "output_type": "stream",
          "name": "stderr",
          "text": [
            "\rEvaluate Train:   0%|          | 0/8 [00:00<?, ?it/s]"
          ]
        },
        {
          "output_type": "stream",
          "name": "stdout",
          "text": [
            "sample 11 num of prompts for COVID from total 12\n"
          ]
        },
        {
          "output_type": "stream",
          "name": "stderr",
          "text": [
            "\rEvaluate Train:  12%|█▎        | 1/8 [00:00<00:04,  1.70it/s]"
          ]
        },
        {
          "output_type": "stream",
          "name": "stdout",
          "text": [
            "sample 11 num of prompts for COVID from total 12\n"
          ]
        },
        {
          "output_type": "stream",
          "name": "stderr",
          "text": [
            "Evaluate Train:  38%|███▊      | 3/8 [00:01<00:02,  1.69it/s]"
          ]
        },
        {
          "output_type": "stream",
          "name": "stdout",
          "text": [
            "sample 11 num of prompts for COVID from total 12\n",
            "sample 11 num of prompts for COVID from total 12\n"
          ]
        },
        {
          "output_type": "stream",
          "name": "stderr",
          "text": [
            "\rEvaluate Train:  50%|█████     | 4/8 [00:02<00:02,  1.46it/s]"
          ]
        },
        {
          "output_type": "stream",
          "name": "stdout",
          "text": [
            "sample 11 num of prompts for COVID from total 12\n"
          ]
        },
        {
          "output_type": "stream",
          "name": "stderr",
          "text": [
            "\rEvaluate Train:  62%|██████▎   | 5/8 [00:03<00:02,  1.31it/s]"
          ]
        },
        {
          "output_type": "stream",
          "name": "stdout",
          "text": [
            "sample 11 num of prompts for COVID from total 12\n"
          ]
        },
        {
          "output_type": "stream",
          "name": "stderr",
          "text": [
            "\rEvaluate Train:  75%|███████▌  | 6/8 [00:04<00:01,  1.47it/s]"
          ]
        },
        {
          "output_type": "stream",
          "name": "stdout",
          "text": [
            "sample 11 num of prompts for COVID from total 12\n"
          ]
        },
        {
          "output_type": "stream",
          "name": "stderr",
          "text": [
            "\rEvaluate Train:  88%|████████▊ | 7/8 [00:04<00:00,  1.60it/s]"
          ]
        },
        {
          "output_type": "stream",
          "name": "stdout",
          "text": [
            "sample 11 num of prompts for COVID from total 12\n"
          ]
        },
        {
          "output_type": "stream",
          "name": "stderr",
          "text": [
            "Evaluate Train: 100%|██████████| 8/8 [00:06<00:00,  1.32it/s]\n",
            "Evaluate Validation:   0%|          | 0/2 [00:00<?, ?it/s]"
          ]
        },
        {
          "output_type": "stream",
          "name": "stdout",
          "text": [
            "sample 11 num of prompts for COVID from total 12\n"
          ]
        },
        {
          "output_type": "stream",
          "name": "stderr",
          "text": [
            "\rEvaluate Validation:  50%|█████     | 1/2 [00:00<00:00,  1.94it/s]"
          ]
        },
        {
          "output_type": "stream",
          "name": "stdout",
          "text": [
            "sample 11 num of prompts for COVID from total 12\n"
          ]
        },
        {
          "output_type": "stream",
          "name": "stderr",
          "text": [
            "Evaluate Validation: 100%|██████████| 2/2 [00:01<00:00,  1.29it/s]\n",
            "Evaluate Test:   0%|          | 0/3 [00:00<?, ?it/s]"
          ]
        },
        {
          "output_type": "stream",
          "name": "stdout",
          "text": [
            "sample 11 num of prompts for COVID from total 12\n"
          ]
        },
        {
          "output_type": "stream",
          "name": "stderr",
          "text": [
            "\rEvaluate Test:  33%|███▎      | 1/3 [00:00<00:01,  1.95it/s]"
          ]
        },
        {
          "output_type": "stream",
          "name": "stdout",
          "text": [
            "sample 11 num of prompts for COVID from total 12\n"
          ]
        },
        {
          "output_type": "stream",
          "name": "stderr",
          "text": [
            "\rEvaluate Test:  67%|██████▋   | 2/3 [00:01<00:00,  1.75it/s]"
          ]
        },
        {
          "output_type": "stream",
          "name": "stdout",
          "text": [
            "sample 11 num of prompts for COVID from total 12\n"
          ]
        },
        {
          "output_type": "stream",
          "name": "stderr",
          "text": [
            "Evaluate Test: 100%|██████████| 3/3 [00:02<00:00,  1.26it/s]\n"
          ]
        },
        {
          "output_type": "stream",
          "name": "stdout",
          "text": [
            "\n",
            "Accuracy: 0.7493, Precision: 0.6777, Recall: 0.9223, AUC: 0.8601\n"
          ]
        },
        {
          "output_type": "stream",
          "name": "stderr",
          "text": [
            "\rEvaluate Train:   0%|          | 0/8 [00:00<?, ?it/s]"
          ]
        },
        {
          "output_type": "stream",
          "name": "stdout",
          "text": [
            "sample 12 num of prompts for COVID from total 12\n"
          ]
        },
        {
          "output_type": "stream",
          "name": "stderr",
          "text": [
            "\rEvaluate Train:  12%|█▎        | 1/8 [00:00<00:03,  1.93it/s]"
          ]
        },
        {
          "output_type": "stream",
          "name": "stdout",
          "text": [
            "sample 12 num of prompts for COVID from total 12\n"
          ]
        },
        {
          "output_type": "stream",
          "name": "stderr",
          "text": [
            "\rEvaluate Train:  25%|██▌       | 2/8 [00:01<00:03,  1.86it/s]"
          ]
        },
        {
          "output_type": "stream",
          "name": "stdout",
          "text": [
            "sample 12 num of prompts for COVID from total 12\n"
          ]
        },
        {
          "output_type": "stream",
          "name": "stderr",
          "text": [
            "\rEvaluate Train:  38%|███▊      | 3/8 [00:01<00:02,  1.87it/s]"
          ]
        },
        {
          "output_type": "stream",
          "name": "stdout",
          "text": [
            "sample 12 num of prompts for COVID from total 12\n"
          ]
        },
        {
          "output_type": "stream",
          "name": "stderr",
          "text": [
            "\rEvaluate Train:  50%|█████     | 4/8 [00:02<00:02,  1.46it/s]"
          ]
        },
        {
          "output_type": "stream",
          "name": "stdout",
          "text": [
            "sample 12 num of prompts for COVID from total 12\n"
          ]
        },
        {
          "output_type": "stream",
          "name": "stderr",
          "text": [
            "\rEvaluate Train:  62%|██████▎   | 5/8 [00:03<00:02,  1.30it/s]"
          ]
        },
        {
          "output_type": "stream",
          "name": "stdout",
          "text": [
            "sample 12 num of prompts for COVID from total 12\n"
          ]
        },
        {
          "output_type": "stream",
          "name": "stderr",
          "text": [
            "\rEvaluate Train:  75%|███████▌  | 6/8 [00:04<00:01,  1.24it/s]"
          ]
        },
        {
          "output_type": "stream",
          "name": "stdout",
          "text": [
            "sample 12 num of prompts for COVID from total 12\n"
          ]
        },
        {
          "output_type": "stream",
          "name": "stderr",
          "text": [
            "\rEvaluate Train:  88%|████████▊ | 7/8 [00:05<00:00,  1.09it/s]"
          ]
        },
        {
          "output_type": "stream",
          "name": "stdout",
          "text": [
            "sample 12 num of prompts for COVID from total 12\n"
          ]
        },
        {
          "output_type": "stream",
          "name": "stderr",
          "text": [
            "Evaluate Train: 100%|██████████| 8/8 [00:06<00:00,  1.27it/s]\n",
            "Evaluate Validation:   0%|          | 0/2 [00:00<?, ?it/s]"
          ]
        },
        {
          "output_type": "stream",
          "name": "stdout",
          "text": [
            "sample 12 num of prompts for COVID from total 12\n"
          ]
        },
        {
          "output_type": "stream",
          "name": "stderr",
          "text": [
            "\rEvaluate Validation:  50%|█████     | 1/2 [00:00<00:00,  1.95it/s]"
          ]
        },
        {
          "output_type": "stream",
          "name": "stdout",
          "text": [
            "sample 12 num of prompts for COVID from total 12\n"
          ]
        },
        {
          "output_type": "stream",
          "name": "stderr",
          "text": [
            "Evaluate Validation: 100%|██████████| 2/2 [00:01<00:00,  1.20it/s]\n",
            "Evaluate Test:   0%|          | 0/3 [00:00<?, ?it/s]"
          ]
        },
        {
          "output_type": "stream",
          "name": "stdout",
          "text": [
            "sample 12 num of prompts for COVID from total 12\n"
          ]
        },
        {
          "output_type": "stream",
          "name": "stderr",
          "text": [
            "\rEvaluate Test:  33%|███▎      | 1/3 [00:00<00:01,  1.97it/s]"
          ]
        },
        {
          "output_type": "stream",
          "name": "stdout",
          "text": [
            "sample 12 num of prompts for COVID from total 12\n"
          ]
        },
        {
          "output_type": "stream",
          "name": "stderr",
          "text": [
            "\rEvaluate Test:  67%|██████▋   | 2/3 [00:01<00:00,  1.94it/s]"
          ]
        },
        {
          "output_type": "stream",
          "name": "stdout",
          "text": [
            "sample 12 num of prompts for COVID from total 12\n"
          ]
        },
        {
          "output_type": "stream",
          "name": "stderr",
          "text": [
            "Evaluate Test: 100%|██████████| 3/3 [00:01<00:00,  1.67it/s]\n"
          ]
        },
        {
          "output_type": "stream",
          "name": "stdout",
          "text": [
            "\n",
            "Accuracy: 0.7493, Precision: 0.6777, Recall: 0.9223, AUC: 0.8601\n",
            "Best AUC for  with 5 prompts: 0.8602\n",
            "Results saved to results/zs_medclip_base/ucsd/medclip/classification_results.txt\n"
          ]
        },
        {
          "output_type": "stream",
          "name": "stderr",
          "text": [
            "/usr/local/lib/python3.10/dist-packages/keras/src/preprocessing/image.py:766: UserWarning: NumpyArrayIterator is set to use the data format convention \"channels_last\" (channels on axis 3), i.e. expected either 1, 3, or 4 channels on axis 3. However, it was passed an array with shape (526, 1, 224, 224) (224 channels).\n",
            "  warnings.warn(\n",
            "/usr/local/lib/python3.10/dist-packages/keras/src/preprocessing/image.py:766: UserWarning: NumpyArrayIterator is set to use the data format convention \"channels_last\" (channels on axis 3), i.e. expected either 1, 3, or 4 channels on axis 3. However, it was passed an array with shape (132, 1, 224, 224) (224 channels).\n",
            "  warnings.warn(\n",
            "/usr/local/lib/python3.10/dist-packages/keras/src/preprocessing/image.py:766: UserWarning: NumpyArrayIterator is set to use the data format convention \"channels_last\" (channels on axis 3), i.e. expected either 1, 3, or 4 channels on axis 3. However, it was passed an array with shape (165, 1, 224, 224) (224 channels).\n",
            "  warnings.warn(\n",
            "Some weights of the model checkpoint at microsoft/swin-tiny-patch4-window7-224 were not used when initializing SwinModel: ['classifier.weight', 'classifier.bias']\n",
            "- This IS expected if you are initializing SwinModel from the checkpoint of a model trained on another task or with another architecture (e.g. initializing a BertForSequenceClassification model from a BertForPreTraining model).\n",
            "- This IS NOT expected if you are initializing SwinModel from the checkpoint of a model that you expect to be exactly identical (initializing a BertForSequenceClassification model from a BertForSequenceClassification model).\n"
          ]
        },
        {
          "output_type": "stream",
          "name": "stdout",
          "text": [
            "Results saved to results/visualization/zs_medclip_base/ori/medclip/images/cxr_images.png\n",
            "NVIDIA library configured successfully.\n"
          ]
        },
        {
          "output_type": "stream",
          "name": "stderr",
          "text": [
            "Some weights of the model checkpoint at emilyalsentzer/Bio_ClinicalBERT were not used when initializing BertModel: ['cls.predictions.transform.LayerNorm.weight', 'cls.predictions.decoder.weight', 'cls.seq_relationship.bias', 'cls.predictions.transform.dense.bias', 'cls.predictions.transform.dense.weight', 'cls.seq_relationship.weight', 'cls.predictions.transform.LayerNorm.bias', 'cls.predictions.bias']\n",
            "- This IS expected if you are initializing BertModel from the checkpoint of a model trained on another task or with another architecture (e.g. initializing a BertForSequenceClassification model from a BertForPreTraining model).\n",
            "- This IS NOT expected if you are initializing BertModel from the checkpoint of a model that you expect to be exactly identical (initializing a BertForSequenceClassification model from a BertForSequenceClassification model).\n"
          ]
        },
        {
          "output_type": "stream",
          "name": "stdout",
          "text": [
            "load model weight from: ./pretrained/medclip-vit\n"
          ]
        },
        {
          "output_type": "stream",
          "name": "stderr",
          "text": [
            "\rEvaluate Train:   0%|          | 0/3 [00:00<?, ?it/s]"
          ]
        },
        {
          "output_type": "stream",
          "name": "stdout",
          "text": [
            "sample 1 num of prompts for COVID from total 12\n"
          ]
        },
        {
          "output_type": "stream",
          "name": "stderr",
          "text": [
            "\rEvaluate Train:  33%|███▎      | 1/3 [00:00<00:01,  1.82it/s]"
          ]
        },
        {
          "output_type": "stream",
          "name": "stdout",
          "text": [
            "sample 1 num of prompts for COVID from total 12\n"
          ]
        },
        {
          "output_type": "stream",
          "name": "stderr",
          "text": [
            "\rEvaluate Train:  67%|██████▋   | 2/3 [00:01<00:00,  1.29it/s]"
          ]
        },
        {
          "output_type": "stream",
          "name": "stdout",
          "text": [
            "sample 1 num of prompts for COVID from total 12\n"
          ]
        },
        {
          "output_type": "stream",
          "name": "stderr",
          "text": [
            "Evaluate Train: 100%|██████████| 3/3 [00:02<00:00,  1.36it/s]\n",
            "Evaluate Validation:   0%|          | 0/1 [00:00<?, ?it/s]"
          ]
        },
        {
          "output_type": "stream",
          "name": "stdout",
          "text": [
            "sample 1 num of prompts for COVID from total 12\n"
          ]
        },
        {
          "output_type": "stream",
          "name": "stderr",
          "text": [
            "Evaluate Validation: 100%|██████████| 1/1 [00:00<00:00,  2.57it/s]\n",
            "Evaluate Test:   0%|          | 0/1 [00:00<?, ?it/s]"
          ]
        },
        {
          "output_type": "stream",
          "name": "stdout",
          "text": [
            "sample 1 num of prompts for COVID from total 12\n"
          ]
        },
        {
          "output_type": "stream",
          "name": "stderr",
          "text": [
            "Evaluate Test: 100%|██████████| 1/1 [00:00<00:00,  2.36it/s]\n"
          ]
        },
        {
          "output_type": "stream",
          "name": "stdout",
          "text": [
            "\n",
            "Accuracy: 0.5516, Precision: 0.6129, Recall: 0.2351, AUC: 0.5876\n"
          ]
        },
        {
          "output_type": "stream",
          "name": "stderr",
          "text": [
            "\rEvaluate Train:   0%|          | 0/3 [00:00<?, ?it/s]"
          ]
        },
        {
          "output_type": "stream",
          "name": "stdout",
          "text": [
            "sample 2 num of prompts for COVID from total 12\n"
          ]
        },
        {
          "output_type": "stream",
          "name": "stderr",
          "text": [
            "\rEvaluate Train:  33%|███▎      | 1/3 [00:00<00:01,  1.82it/s]"
          ]
        },
        {
          "output_type": "stream",
          "name": "stdout",
          "text": [
            "sample 2 num of prompts for COVID from total 12\n"
          ]
        },
        {
          "output_type": "stream",
          "name": "stderr",
          "text": [
            "\rEvaluate Train:  67%|██████▋   | 2/3 [00:01<00:00,  1.38it/s]"
          ]
        },
        {
          "output_type": "stream",
          "name": "stdout",
          "text": [
            "sample 2 num of prompts for COVID from total 12\n"
          ]
        },
        {
          "output_type": "stream",
          "name": "stderr",
          "text": [
            "Evaluate Train: 100%|██████████| 3/3 [00:02<00:00,  1.35it/s]\n",
            "Evaluate Validation:   0%|          | 0/1 [00:00<?, ?it/s]"
          ]
        },
        {
          "output_type": "stream",
          "name": "stdout",
          "text": [
            "sample 2 num of prompts for COVID from total 12\n"
          ]
        },
        {
          "output_type": "stream",
          "name": "stderr",
          "text": [
            "Evaluate Validation: 100%|██████████| 1/1 [00:00<00:00,  2.63it/s]\n",
            "Evaluate Test:   0%|          | 0/1 [00:00<?, ?it/s]"
          ]
        },
        {
          "output_type": "stream",
          "name": "stdout",
          "text": [
            "sample 2 num of prompts for COVID from total 12\n"
          ]
        },
        {
          "output_type": "stream",
          "name": "stderr",
          "text": [
            "Evaluate Test: 100%|██████████| 1/1 [00:00<00:00,  2.30it/s]\n"
          ]
        },
        {
          "output_type": "stream",
          "name": "stdout",
          "text": [
            "\n",
            "Accuracy: 0.5468, Precision: 0.5771, Recall: 0.2871, AUC: 0.5892\n"
          ]
        },
        {
          "output_type": "stream",
          "name": "stderr",
          "text": [
            "Evaluate Train:  33%|███▎      | 1/3 [00:00<00:01,  1.93it/s]"
          ]
        },
        {
          "output_type": "stream",
          "name": "stdout",
          "text": [
            "sample 3 num of prompts for COVID from total 12\n",
            "sample 3 num of prompts for COVID from total 12\n"
          ]
        },
        {
          "output_type": "stream",
          "name": "stderr",
          "text": [
            "\rEvaluate Train:  67%|██████▋   | 2/3 [00:01<00:00,  1.40it/s]"
          ]
        },
        {
          "output_type": "stream",
          "name": "stdout",
          "text": [
            "sample 3 num of prompts for COVID from total 12\n"
          ]
        },
        {
          "output_type": "stream",
          "name": "stderr",
          "text": [
            "Evaluate Train: 100%|██████████| 3/3 [00:02<00:00,  1.38it/s]\n",
            "Evaluate Validation:   0%|          | 0/1 [00:00<?, ?it/s]"
          ]
        },
        {
          "output_type": "stream",
          "name": "stdout",
          "text": [
            "sample 3 num of prompts for COVID from total 12\n"
          ]
        },
        {
          "output_type": "stream",
          "name": "stderr",
          "text": [
            "Evaluate Validation: 100%|██████████| 1/1 [00:00<00:00,  1.85it/s]\n",
            "Evaluate Test:   0%|          | 0/1 [00:00<?, ?it/s]"
          ]
        },
        {
          "output_type": "stream",
          "name": "stdout",
          "text": [
            "sample 3 num of prompts for COVID from total 12\n"
          ]
        },
        {
          "output_type": "stream",
          "name": "stderr",
          "text": [
            "Evaluate Test: 100%|██████████| 1/1 [00:01<00:00,  1.05s/it]\n"
          ]
        },
        {
          "output_type": "stream",
          "name": "stdout",
          "text": [
            "\n",
            "Accuracy: 0.5747, Precision: 0.5957, Recall: 0.4158, AUC: 0.5978\n"
          ]
        },
        {
          "output_type": "stream",
          "name": "stderr",
          "text": [
            "\rEvaluate Train:   0%|          | 0/3 [00:00<?, ?it/s]"
          ]
        },
        {
          "output_type": "stream",
          "name": "stdout",
          "text": [
            "sample 4 num of prompts for COVID from total 12\n"
          ]
        },
        {
          "output_type": "stream",
          "name": "stderr",
          "text": [
            "\rEvaluate Train:  33%|███▎      | 1/3 [00:00<00:01,  1.81it/s]"
          ]
        },
        {
          "output_type": "stream",
          "name": "stdout",
          "text": [
            "sample 4 num of prompts for COVID from total 12\n"
          ]
        },
        {
          "output_type": "stream",
          "name": "stderr",
          "text": [
            "\rEvaluate Train:  67%|██████▋   | 2/3 [00:01<00:00,  1.87it/s]"
          ]
        },
        {
          "output_type": "stream",
          "name": "stdout",
          "text": [
            "sample 4 num of prompts for COVID from total 12\n"
          ]
        },
        {
          "output_type": "stream",
          "name": "stderr",
          "text": [
            "Evaluate Train: 100%|██████████| 3/3 [00:01<00:00,  1.95it/s]\n",
            "Evaluate Validation:   0%|          | 0/1 [00:00<?, ?it/s]"
          ]
        },
        {
          "output_type": "stream",
          "name": "stdout",
          "text": [
            "sample 4 num of prompts for COVID from total 12\n"
          ]
        },
        {
          "output_type": "stream",
          "name": "stderr",
          "text": [
            "Evaluate Validation: 100%|██████████| 1/1 [00:00<00:00,  2.09it/s]\n",
            "Evaluate Test:   0%|          | 0/1 [00:00<?, ?it/s]"
          ]
        },
        {
          "output_type": "stream",
          "name": "stdout",
          "text": [
            "sample 4 num of prompts for COVID from total 12\n"
          ]
        },
        {
          "output_type": "stream",
          "name": "stderr",
          "text": [
            "Evaluate Test: 100%|██████████| 1/1 [00:01<00:00,  1.00s/it]\n"
          ]
        },
        {
          "output_type": "stream",
          "name": "stdout",
          "text": [
            "\n",
            "Accuracy: 0.5820, Precision: 0.5962, Recall: 0.4604, AUC: 0.6023\n"
          ]
        },
        {
          "output_type": "stream",
          "name": "stderr",
          "text": [
            "\rEvaluate Train:   0%|          | 0/3 [00:00<?, ?it/s]"
          ]
        },
        {
          "output_type": "stream",
          "name": "stdout",
          "text": [
            "sample 5 num of prompts for COVID from total 12\n"
          ]
        },
        {
          "output_type": "stream",
          "name": "stderr",
          "text": [
            "\rEvaluate Train:  33%|███▎      | 1/3 [00:00<00:01,  1.80it/s]"
          ]
        },
        {
          "output_type": "stream",
          "name": "stdout",
          "text": [
            "sample 5 num of prompts for COVID from total 12\n"
          ]
        },
        {
          "output_type": "stream",
          "name": "stderr",
          "text": [
            "\rEvaluate Train:  67%|██████▋   | 2/3 [00:01<00:00,  1.35it/s]"
          ]
        },
        {
          "output_type": "stream",
          "name": "stdout",
          "text": [
            "sample 5 num of prompts for COVID from total 12\n"
          ]
        },
        {
          "output_type": "stream",
          "name": "stderr",
          "text": [
            "Evaluate Train: 100%|██████████| 3/3 [00:01<00:00,  1.72it/s]\n",
            "Evaluate Validation:   0%|          | 0/1 [00:00<?, ?it/s]"
          ]
        },
        {
          "output_type": "stream",
          "name": "stdout",
          "text": [
            "sample 5 num of prompts for COVID from total 12\n"
          ]
        },
        {
          "output_type": "stream",
          "name": "stderr",
          "text": [
            "Evaluate Validation: 100%|██████████| 1/1 [00:01<00:00,  1.19s/it]\n",
            "Evaluate Test:   0%|          | 0/1 [00:00<?, ?it/s]"
          ]
        },
        {
          "output_type": "stream",
          "name": "stdout",
          "text": [
            "sample 5 num of prompts for COVID from total 12\n"
          ]
        },
        {
          "output_type": "stream",
          "name": "stderr",
          "text": [
            "Evaluate Test: 100%|██████████| 1/1 [00:00<00:00,  1.08it/s]\n"
          ]
        },
        {
          "output_type": "stream",
          "name": "stdout",
          "text": [
            "\n",
            "Accuracy: 0.5796, Precision: 0.5918, Recall: 0.4629, AUC: 0.6019\n"
          ]
        },
        {
          "output_type": "stream",
          "name": "stderr",
          "text": [
            "\rEvaluate Train:   0%|          | 0/3 [00:00<?, ?it/s]"
          ]
        },
        {
          "output_type": "stream",
          "name": "stdout",
          "text": [
            "sample 6 num of prompts for COVID from total 12\n"
          ]
        },
        {
          "output_type": "stream",
          "name": "stderr",
          "text": [
            "\rEvaluate Train:  33%|███▎      | 1/3 [00:00<00:01,  1.92it/s]"
          ]
        },
        {
          "output_type": "stream",
          "name": "stdout",
          "text": [
            "sample 6 num of prompts for COVID from total 12\n"
          ]
        },
        {
          "output_type": "stream",
          "name": "stderr",
          "text": [
            "\rEvaluate Train:  67%|██████▋   | 2/3 [00:01<00:00,  1.84it/s]"
          ]
        },
        {
          "output_type": "stream",
          "name": "stdout",
          "text": [
            "sample 6 num of prompts for COVID from total 12\n"
          ]
        },
        {
          "output_type": "stream",
          "name": "stderr",
          "text": [
            "Evaluate Train: 100%|██████████| 3/3 [00:01<00:00,  2.00it/s]\n",
            "Evaluate Validation:   0%|          | 0/1 [00:00<?, ?it/s]"
          ]
        },
        {
          "output_type": "stream",
          "name": "stdout",
          "text": [
            "sample 6 num of prompts for COVID from total 12\n"
          ]
        },
        {
          "output_type": "stream",
          "name": "stderr",
          "text": [
            "Evaluate Validation: 100%|██████████| 1/1 [00:00<00:00,  2.49it/s]\n",
            "Evaluate Test:   0%|          | 0/1 [00:00<?, ?it/s]"
          ]
        },
        {
          "output_type": "stream",
          "name": "stdout",
          "text": [
            "sample 6 num of prompts for COVID from total 12\n"
          ]
        },
        {
          "output_type": "stream",
          "name": "stderr",
          "text": [
            "Evaluate Test: 100%|██████████| 1/1 [00:01<00:00,  1.09s/it]\n"
          ]
        },
        {
          "output_type": "stream",
          "name": "stdout",
          "text": [
            "\n",
            "Accuracy: 0.5832, Precision: 0.5968, Recall: 0.4653, AUC: 0.6010\n"
          ]
        },
        {
          "output_type": "stream",
          "name": "stderr",
          "text": [
            "\rEvaluate Train:   0%|          | 0/3 [00:00<?, ?it/s]"
          ]
        },
        {
          "output_type": "stream",
          "name": "stdout",
          "text": [
            "sample 7 num of prompts for COVID from total 12\n"
          ]
        },
        {
          "output_type": "stream",
          "name": "stderr",
          "text": [
            "\rEvaluate Train:  33%|███▎      | 1/3 [00:00<00:01,  1.95it/s]"
          ]
        },
        {
          "output_type": "stream",
          "name": "stdout",
          "text": [
            "sample 7 num of prompts for COVID from total 12\n"
          ]
        },
        {
          "output_type": "stream",
          "name": "stderr",
          "text": [
            "\rEvaluate Train:  67%|██████▋   | 2/3 [00:01<00:00,  1.92it/s]"
          ]
        },
        {
          "output_type": "stream",
          "name": "stdout",
          "text": [
            "sample 7 num of prompts for COVID from total 12\n"
          ]
        },
        {
          "output_type": "stream",
          "name": "stderr",
          "text": [
            "Evaluate Train: 100%|██████████| 3/3 [00:01<00:00,  1.91it/s]\n",
            "Evaluate Validation:   0%|          | 0/1 [00:00<?, ?it/s]"
          ]
        },
        {
          "output_type": "stream",
          "name": "stdout",
          "text": [
            "sample 7 num of prompts for COVID from total 12\n"
          ]
        },
        {
          "output_type": "stream",
          "name": "stderr",
          "text": [
            "Evaluate Validation: 100%|██████████| 1/1 [00:00<00:00,  2.51it/s]\n",
            "Evaluate Test:   0%|          | 0/1 [00:00<?, ?it/s]"
          ]
        },
        {
          "output_type": "stream",
          "name": "stdout",
          "text": [
            "sample 7 num of prompts for COVID from total 12\n"
          ]
        },
        {
          "output_type": "stream",
          "name": "stderr",
          "text": [
            "Evaluate Test: 100%|██████████| 1/1 [00:01<00:00,  1.06s/it]\n"
          ]
        },
        {
          "output_type": "stream",
          "name": "stdout",
          "text": [
            "\n",
            "Accuracy: 0.5808, Precision: 0.5925, Recall: 0.4678, AUC: 0.6020\n"
          ]
        },
        {
          "output_type": "stream",
          "name": "stderr",
          "text": [
            "\rEvaluate Train:   0%|          | 0/3 [00:00<?, ?it/s]"
          ]
        },
        {
          "output_type": "stream",
          "name": "stdout",
          "text": [
            "sample 8 num of prompts for COVID from total 12\n"
          ]
        },
        {
          "output_type": "stream",
          "name": "stderr",
          "text": [
            "\rEvaluate Train:  33%|███▎      | 1/3 [00:00<00:01,  1.82it/s]"
          ]
        },
        {
          "output_type": "stream",
          "name": "stdout",
          "text": [
            "sample 8 num of prompts for COVID from total 12\n"
          ]
        },
        {
          "output_type": "stream",
          "name": "stderr",
          "text": [
            "\rEvaluate Train:  67%|██████▋   | 2/3 [00:01<00:00,  1.31it/s]"
          ]
        },
        {
          "output_type": "stream",
          "name": "stdout",
          "text": [
            "sample 8 num of prompts for COVID from total 12\n"
          ]
        },
        {
          "output_type": "stream",
          "name": "stderr",
          "text": [
            "Evaluate Train: 100%|██████████| 3/3 [00:01<00:00,  1.70it/s]\n",
            "Evaluate Validation:   0%|          | 0/1 [00:00<?, ?it/s]"
          ]
        },
        {
          "output_type": "stream",
          "name": "stdout",
          "text": [
            "sample 8 num of prompts for COVID from total 12\n"
          ]
        },
        {
          "output_type": "stream",
          "name": "stderr",
          "text": [
            "Evaluate Validation: 100%|██████████| 1/1 [00:01<00:00,  1.11s/it]\n",
            "Evaluate Test:   0%|          | 0/1 [00:00<?, ?it/s]"
          ]
        },
        {
          "output_type": "stream",
          "name": "stdout",
          "text": [
            "sample 8 num of prompts for COVID from total 12\n"
          ]
        },
        {
          "output_type": "stream",
          "name": "stderr",
          "text": [
            "Evaluate Test: 100%|██████████| 1/1 [00:00<00:00,  2.42it/s]\n"
          ]
        },
        {
          "output_type": "stream",
          "name": "stdout",
          "text": [
            "\n",
            "Accuracy: 0.5820, Precision: 0.5943, Recall: 0.4678, AUC: 0.6015\n"
          ]
        },
        {
          "output_type": "stream",
          "name": "stderr",
          "text": [
            "\rEvaluate Train:   0%|          | 0/3 [00:00<?, ?it/s]"
          ]
        },
        {
          "output_type": "stream",
          "name": "stdout",
          "text": [
            "sample 9 num of prompts for COVID from total 12\n"
          ]
        },
        {
          "output_type": "stream",
          "name": "stderr",
          "text": [
            "\rEvaluate Train:  33%|███▎      | 1/3 [00:00<00:01,  1.95it/s]"
          ]
        },
        {
          "output_type": "stream",
          "name": "stdout",
          "text": [
            "sample 9 num of prompts for COVID from total 12\n"
          ]
        },
        {
          "output_type": "stream",
          "name": "stderr",
          "text": [
            "\rEvaluate Train:  67%|██████▋   | 2/3 [00:01<00:00,  1.80it/s]"
          ]
        },
        {
          "output_type": "stream",
          "name": "stdout",
          "text": [
            "sample 9 num of prompts for COVID from total 12\n"
          ]
        },
        {
          "output_type": "stream",
          "name": "stderr",
          "text": [
            "Evaluate Train: 100%|██████████| 3/3 [00:02<00:00,  1.47it/s]\n",
            "Evaluate Validation:   0%|          | 0/1 [00:00<?, ?it/s]"
          ]
        },
        {
          "output_type": "stream",
          "name": "stdout",
          "text": [
            "sample 9 num of prompts for COVID from total 12\n"
          ]
        },
        {
          "output_type": "stream",
          "name": "stderr",
          "text": [
            "Evaluate Validation: 100%|██████████| 1/1 [00:00<00:00,  2.62it/s]\n",
            "Evaluate Test:   0%|          | 0/1 [00:00<?, ?it/s]"
          ]
        },
        {
          "output_type": "stream",
          "name": "stdout",
          "text": [
            "sample 9 num of prompts for COVID from total 12\n"
          ]
        },
        {
          "output_type": "stream",
          "name": "stderr",
          "text": [
            "Evaluate Test: 100%|██████████| 1/1 [00:00<00:00,  1.59it/s]\n"
          ]
        },
        {
          "output_type": "stream",
          "name": "stdout",
          "text": [
            "\n",
            "Accuracy: 0.5820, Precision: 0.5943, Recall: 0.4678, AUC: 0.6023\n"
          ]
        },
        {
          "output_type": "stream",
          "name": "stderr",
          "text": [
            "\rEvaluate Train:   0%|          | 0/3 [00:00<?, ?it/s]"
          ]
        },
        {
          "output_type": "stream",
          "name": "stdout",
          "text": [
            "sample 10 num of prompts for COVID from total 12\n"
          ]
        },
        {
          "output_type": "stream",
          "name": "stderr",
          "text": [
            "\rEvaluate Train:  33%|███▎      | 1/3 [00:00<00:01,  1.86it/s]"
          ]
        },
        {
          "output_type": "stream",
          "name": "stdout",
          "text": [
            "sample 10 num of prompts for COVID from total 12\n"
          ]
        },
        {
          "output_type": "stream",
          "name": "stderr",
          "text": [
            "\rEvaluate Train:  67%|██████▋   | 2/3 [00:01<00:00,  1.56it/s]"
          ]
        },
        {
          "output_type": "stream",
          "name": "stdout",
          "text": [
            "sample 10 num of prompts for COVID from total 12\n"
          ]
        },
        {
          "output_type": "stream",
          "name": "stderr",
          "text": [
            "Evaluate Train: 100%|██████████| 3/3 [00:01<00:00,  1.63it/s]\n",
            "Evaluate Validation:   0%|          | 0/1 [00:00<?, ?it/s]"
          ]
        },
        {
          "output_type": "stream",
          "name": "stdout",
          "text": [
            "sample 10 num of prompts for COVID from total 12\n"
          ]
        },
        {
          "output_type": "stream",
          "name": "stderr",
          "text": [
            "Evaluate Validation: 100%|██████████| 1/1 [00:00<00:00,  2.52it/s]\n",
            "Evaluate Test:   0%|          | 0/1 [00:00<?, ?it/s]"
          ]
        },
        {
          "output_type": "stream",
          "name": "stdout",
          "text": [
            "sample 10 num of prompts for COVID from total 12\n"
          ]
        },
        {
          "output_type": "stream",
          "name": "stderr",
          "text": [
            "Evaluate Test: 100%|██████████| 1/1 [00:01<00:00,  1.24s/it]\n"
          ]
        },
        {
          "output_type": "stream",
          "name": "stdout",
          "text": [
            "\n",
            "Accuracy: 0.5808, Precision: 0.5925, Recall: 0.4678, AUC: 0.6014\n"
          ]
        },
        {
          "output_type": "stream",
          "name": "stderr",
          "text": [
            "\rEvaluate Train:   0%|          | 0/3 [00:00<?, ?it/s]"
          ]
        },
        {
          "output_type": "stream",
          "name": "stdout",
          "text": [
            "sample 11 num of prompts for COVID from total 12\n"
          ]
        },
        {
          "output_type": "stream",
          "name": "stderr",
          "text": [
            "\rEvaluate Train:  33%|███▎      | 1/3 [00:00<00:01,  1.88it/s]"
          ]
        },
        {
          "output_type": "stream",
          "name": "stdout",
          "text": [
            "sample 11 num of prompts for COVID from total 12\n"
          ]
        },
        {
          "output_type": "stream",
          "name": "stderr",
          "text": [
            "\rEvaluate Train:  67%|██████▋   | 2/3 [00:01<00:00,  1.92it/s]"
          ]
        },
        {
          "output_type": "stream",
          "name": "stdout",
          "text": [
            "sample 11 num of prompts for COVID from total 12\n"
          ]
        },
        {
          "output_type": "stream",
          "name": "stderr",
          "text": [
            "Evaluate Train: 100%|██████████| 3/3 [00:02<00:00,  1.45it/s]\n",
            "Evaluate Validation:   0%|          | 0/1 [00:00<?, ?it/s]"
          ]
        },
        {
          "output_type": "stream",
          "name": "stdout",
          "text": [
            "sample 11 num of prompts for COVID from total 12\n"
          ]
        },
        {
          "output_type": "stream",
          "name": "stderr",
          "text": [
            "Evaluate Validation: 100%|██████████| 1/1 [00:00<00:00,  1.06it/s]\n",
            "Evaluate Test:   0%|          | 0/1 [00:00<?, ?it/s]"
          ]
        },
        {
          "output_type": "stream",
          "name": "stdout",
          "text": [
            "sample 11 num of prompts for COVID from total 12\n"
          ]
        },
        {
          "output_type": "stream",
          "name": "stderr",
          "text": [
            "Evaluate Test: 100%|██████████| 1/1 [00:00<00:00,  1.06it/s]\n"
          ]
        },
        {
          "output_type": "stream",
          "name": "stdout",
          "text": [
            "\n",
            "Accuracy: 0.5808, Precision: 0.5925, Recall: 0.4678, AUC: 0.6030\n"
          ]
        },
        {
          "output_type": "stream",
          "name": "stderr",
          "text": [
            "\rEvaluate Train:   0%|          | 0/3 [00:00<?, ?it/s]"
          ]
        },
        {
          "output_type": "stream",
          "name": "stdout",
          "text": [
            "sample 12 num of prompts for COVID from total 12\n"
          ]
        },
        {
          "output_type": "stream",
          "name": "stderr",
          "text": [
            "\rEvaluate Train:  33%|███▎      | 1/3 [00:00<00:01,  1.54it/s]"
          ]
        },
        {
          "output_type": "stream",
          "name": "stdout",
          "text": [
            "sample 12 num of prompts for COVID from total 12\n"
          ]
        },
        {
          "output_type": "stream",
          "name": "stderr",
          "text": [
            "\rEvaluate Train:  67%|██████▋   | 2/3 [00:01<00:00,  1.48it/s]"
          ]
        },
        {
          "output_type": "stream",
          "name": "stdout",
          "text": [
            "sample 12 num of prompts for COVID from total 12\n"
          ]
        },
        {
          "output_type": "stream",
          "name": "stderr",
          "text": [
            "Evaluate Train: 100%|██████████| 3/3 [00:02<00:00,  1.25it/s]\n",
            "Evaluate Validation:   0%|          | 0/1 [00:00<?, ?it/s]"
          ]
        },
        {
          "output_type": "stream",
          "name": "stdout",
          "text": [
            "sample 12 num of prompts for COVID from total 12\n"
          ]
        },
        {
          "output_type": "stream",
          "name": "stderr",
          "text": [
            "Evaluate Validation: 100%|██████████| 1/1 [00:00<00:00,  2.54it/s]\n",
            "Evaluate Test:   0%|          | 0/1 [00:00<?, ?it/s]"
          ]
        },
        {
          "output_type": "stream",
          "name": "stdout",
          "text": [
            "sample 12 num of prompts for COVID from total 12\n"
          ]
        },
        {
          "output_type": "stream",
          "name": "stderr",
          "text": [
            "Evaluate Test: 100%|██████████| 1/1 [00:00<00:00,  2.40it/s]\n"
          ]
        },
        {
          "output_type": "stream",
          "name": "stdout",
          "text": [
            "\n",
            "Accuracy: 0.5808, Precision: 0.5925, Recall: 0.4678, AUC: 0.6018\n",
            "Best AUC for covid_task with 11 prompts: 0.6030\n",
            "Results saved to results/zs_medclip_base/ori/medclip/classification_results.txt\n"
          ]
        },
        {
          "output_type": "stream",
          "name": "stderr",
          "text": [
            "Evaluate Train:  33%|███▎      | 1/3 [00:00<00:01,  1.74it/s]"
          ]
        },
        {
          "output_type": "stream",
          "name": "stdout",
          "text": [
            "sample 1 num of prompts for Pneumonia from total 312\n",
            "sample 1 num of prompts for Pneumonia from total 312\n"
          ]
        },
        {
          "output_type": "stream",
          "name": "stderr",
          "text": [
            "\rEvaluate Train:  67%|██████▋   | 2/3 [00:01<00:00,  1.27it/s]"
          ]
        },
        {
          "output_type": "stream",
          "name": "stdout",
          "text": [
            "sample 1 num of prompts for Pneumonia from total 312\n"
          ]
        },
        {
          "output_type": "stream",
          "name": "stderr",
          "text": [
            "Evaluate Train: 100%|██████████| 3/3 [00:02<00:00,  1.40it/s]\n",
            "Evaluate Validation:   0%|          | 0/1 [00:00<?, ?it/s]"
          ]
        },
        {
          "output_type": "stream",
          "name": "stdout",
          "text": [
            "sample 1 num of prompts for Pneumonia from total 312\n"
          ]
        },
        {
          "output_type": "stream",
          "name": "stderr",
          "text": [
            "Evaluate Validation: 100%|██████████| 1/1 [00:00<00:00,  2.47it/s]\n",
            "Evaluate Test:   0%|          | 0/1 [00:00<?, ?it/s]"
          ]
        },
        {
          "output_type": "stream",
          "name": "stdout",
          "text": [
            "sample 1 num of prompts for Pneumonia from total 312\n"
          ]
        },
        {
          "output_type": "stream",
          "name": "stderr",
          "text": [
            "Evaluate Test: 100%|██████████| 1/1 [00:00<00:00,  2.39it/s]\n"
          ]
        },
        {
          "output_type": "stream",
          "name": "stdout",
          "text": [
            "\n",
            "Accuracy: 0.4812, Precision: 0.4569, Recall: 0.3020, AUC: 0.4781\n"
          ]
        },
        {
          "output_type": "stream",
          "name": "stderr",
          "text": [
            "\rEvaluate Train:   0%|          | 0/3 [00:00<?, ?it/s]"
          ]
        },
        {
          "output_type": "stream",
          "name": "stdout",
          "text": [
            "sample 2 num of prompts for Pneumonia from total 312\n"
          ]
        },
        {
          "output_type": "stream",
          "name": "stderr",
          "text": [
            "\rEvaluate Train:  33%|███▎      | 1/3 [00:00<00:01,  1.97it/s]"
          ]
        },
        {
          "output_type": "stream",
          "name": "stdout",
          "text": [
            "sample 2 num of prompts for Pneumonia from total 312\n"
          ]
        },
        {
          "output_type": "stream",
          "name": "stderr",
          "text": [
            "\rEvaluate Train:  67%|██████▋   | 2/3 [00:01<00:00,  1.51it/s]"
          ]
        },
        {
          "output_type": "stream",
          "name": "stdout",
          "text": [
            "sample 2 num of prompts for Pneumonia from total 312\n"
          ]
        },
        {
          "output_type": "stream",
          "name": "stderr",
          "text": [
            "Evaluate Train: 100%|██████████| 3/3 [00:03<00:00,  1.19s/it]\n",
            "Evaluate Validation:   0%|          | 0/1 [00:00<?, ?it/s]"
          ]
        },
        {
          "output_type": "stream",
          "name": "stdout",
          "text": [
            "sample 2 num of prompts for Pneumonia from total 312\n"
          ]
        },
        {
          "output_type": "stream",
          "name": "stderr",
          "text": [
            "Evaluate Validation: 100%|██████████| 1/1 [00:00<00:00,  1.76it/s]\n",
            "Evaluate Test:   0%|          | 0/1 [00:00<?, ?it/s]"
          ]
        },
        {
          "output_type": "stream",
          "name": "stdout",
          "text": [
            "sample 2 num of prompts for Pneumonia from total 312\n"
          ]
        },
        {
          "output_type": "stream",
          "name": "stderr",
          "text": [
            "Evaluate Test: 100%|██████████| 1/1 [00:00<00:00,  2.39it/s]\n"
          ]
        },
        {
          "output_type": "stream",
          "name": "stdout",
          "text": [
            "\n",
            "Accuracy: 0.5820, Precision: 0.6190, Recall: 0.3861, AUC: 0.5884\n"
          ]
        },
        {
          "output_type": "stream",
          "name": "stderr",
          "text": [
            "\rEvaluate Train:   0%|          | 0/3 [00:00<?, ?it/s]"
          ]
        },
        {
          "output_type": "stream",
          "name": "stdout",
          "text": [
            "sample 3 num of prompts for Pneumonia from total 312\n"
          ]
        },
        {
          "output_type": "stream",
          "name": "stderr",
          "text": [
            "\rEvaluate Train:  33%|███▎      | 1/3 [00:00<00:01,  1.99it/s]"
          ]
        },
        {
          "output_type": "stream",
          "name": "stdout",
          "text": [
            "sample 3 num of prompts for Pneumonia from total 312\n"
          ]
        },
        {
          "output_type": "stream",
          "name": "stderr",
          "text": [
            "\rEvaluate Train:  67%|██████▋   | 2/3 [00:01<00:00,  1.81it/s]"
          ]
        },
        {
          "output_type": "stream",
          "name": "stdout",
          "text": [
            "sample 3 num of prompts for Pneumonia from total 312\n"
          ]
        },
        {
          "output_type": "stream",
          "name": "stderr",
          "text": [
            "Evaluate Train: 100%|██████████| 3/3 [00:01<00:00,  2.11it/s]\n",
            "Evaluate Validation:   0%|          | 0/1 [00:00<?, ?it/s]"
          ]
        },
        {
          "output_type": "stream",
          "name": "stdout",
          "text": [
            "sample 3 num of prompts for Pneumonia from total 312\n"
          ]
        },
        {
          "output_type": "stream",
          "name": "stderr",
          "text": [
            "Evaluate Validation: 100%|██████████| 1/1 [00:00<00:00,  1.22it/s]\n",
            "Evaluate Test:   0%|          | 0/1 [00:00<?, ?it/s]"
          ]
        },
        {
          "output_type": "stream",
          "name": "stdout",
          "text": [
            "sample 3 num of prompts for Pneumonia from total 312\n"
          ]
        },
        {
          "output_type": "stream",
          "name": "stderr",
          "text": [
            "Evaluate Test: 100%|██████████| 1/1 [00:00<00:00,  1.08it/s]\n"
          ]
        },
        {
          "output_type": "stream",
          "name": "stdout",
          "text": [
            "\n",
            "Accuracy: 0.5699, Precision: 0.5919, Recall: 0.3985, AUC: 0.5759\n"
          ]
        },
        {
          "output_type": "stream",
          "name": "stderr",
          "text": [
            "\rEvaluate Train:   0%|          | 0/3 [00:00<?, ?it/s]"
          ]
        },
        {
          "output_type": "stream",
          "name": "stdout",
          "text": [
            "sample 4 num of prompts for Pneumonia from total 312\n"
          ]
        },
        {
          "output_type": "stream",
          "name": "stderr",
          "text": [
            "\rEvaluate Train:  33%|███▎      | 1/3 [00:00<00:01,  1.93it/s]"
          ]
        },
        {
          "output_type": "stream",
          "name": "stdout",
          "text": [
            "sample 4 num of prompts for Pneumonia from total 312\n"
          ]
        },
        {
          "output_type": "stream",
          "name": "stderr",
          "text": [
            "\rEvaluate Train:  67%|██████▋   | 2/3 [00:01<00:00,  1.35it/s]"
          ]
        },
        {
          "output_type": "stream",
          "name": "stdout",
          "text": [
            "sample 4 num of prompts for Pneumonia from total 312\n"
          ]
        },
        {
          "output_type": "stream",
          "name": "stderr",
          "text": [
            "Evaluate Train: 100%|██████████| 3/3 [00:01<00:00,  1.74it/s]\n",
            "Evaluate Validation:   0%|          | 0/1 [00:00<?, ?it/s]"
          ]
        },
        {
          "output_type": "stream",
          "name": "stdout",
          "text": [
            "sample 4 num of prompts for Pneumonia from total 312\n"
          ]
        },
        {
          "output_type": "stream",
          "name": "stderr",
          "text": [
            "Evaluate Validation: 100%|██████████| 1/1 [00:00<00:00,  2.62it/s]\n",
            "Evaluate Test:   0%|          | 0/1 [00:00<?, ?it/s]"
          ]
        },
        {
          "output_type": "stream",
          "name": "stdout",
          "text": [
            "sample 4 num of prompts for Pneumonia from total 312\n"
          ]
        },
        {
          "output_type": "stream",
          "name": "stderr",
          "text": [
            "Evaluate Test: 100%|██████████| 1/1 [00:00<00:00,  1.22it/s]\n"
          ]
        },
        {
          "output_type": "stream",
          "name": "stdout",
          "text": [
            "\n",
            "Accuracy: 0.5674, Precision: 0.5857, Recall: 0.4059, AUC: 0.5552\n"
          ]
        },
        {
          "output_type": "stream",
          "name": "stderr",
          "text": [
            "\rEvaluate Train:   0%|          | 0/3 [00:00<?, ?it/s]"
          ]
        },
        {
          "output_type": "stream",
          "name": "stdout",
          "text": [
            "sample 5 num of prompts for Pneumonia from total 312\n"
          ]
        },
        {
          "output_type": "stream",
          "name": "stderr",
          "text": [
            "\rEvaluate Train:  33%|███▎      | 1/3 [00:00<00:01,  1.96it/s]"
          ]
        },
        {
          "output_type": "stream",
          "name": "stdout",
          "text": [
            "sample 5 num of prompts for Pneumonia from total 312\n"
          ]
        },
        {
          "output_type": "stream",
          "name": "stderr",
          "text": [
            "\rEvaluate Train:  67%|██████▋   | 2/3 [00:01<00:00,  1.78it/s]"
          ]
        },
        {
          "output_type": "stream",
          "name": "stdout",
          "text": [
            "sample 5 num of prompts for Pneumonia from total 312\n"
          ]
        },
        {
          "output_type": "stream",
          "name": "stderr",
          "text": [
            "Evaluate Train: 100%|██████████| 3/3 [00:01<00:00,  1.82it/s]\n",
            "Evaluate Validation:   0%|          | 0/1 [00:00<?, ?it/s]"
          ]
        },
        {
          "output_type": "stream",
          "name": "stdout",
          "text": [
            "sample 5 num of prompts for Pneumonia from total 312\n"
          ]
        },
        {
          "output_type": "stream",
          "name": "stderr",
          "text": [
            "Evaluate Validation: 100%|██████████| 1/1 [00:00<00:00,  2.57it/s]\n",
            "Evaluate Test:   0%|          | 0/1 [00:00<?, ?it/s]"
          ]
        },
        {
          "output_type": "stream",
          "name": "stdout",
          "text": [
            "sample 5 num of prompts for Pneumonia from total 312\n"
          ]
        },
        {
          "output_type": "stream",
          "name": "stderr",
          "text": [
            "Evaluate Test: 100%|██████████| 1/1 [00:00<00:00,  1.01it/s]\n"
          ]
        },
        {
          "output_type": "stream",
          "name": "stdout",
          "text": [
            "\n",
            "Accuracy: 0.5322, Precision: 0.5197, Recall: 0.6213, AUC: 0.5433\n"
          ]
        },
        {
          "output_type": "stream",
          "name": "stderr",
          "text": [
            "\rEvaluate Train:   0%|          | 0/3 [00:00<?, ?it/s]"
          ]
        },
        {
          "output_type": "stream",
          "name": "stdout",
          "text": [
            "sample 6 num of prompts for Pneumonia from total 312\n"
          ]
        },
        {
          "output_type": "stream",
          "name": "stderr",
          "text": [
            "\rEvaluate Train:  33%|███▎      | 1/3 [00:00<00:01,  1.95it/s]"
          ]
        },
        {
          "output_type": "stream",
          "name": "stdout",
          "text": [
            "sample 6 num of prompts for Pneumonia from total 312\n"
          ]
        },
        {
          "output_type": "stream",
          "name": "stderr",
          "text": [
            "\rEvaluate Train:  67%|██████▋   | 2/3 [00:01<00:00,  1.35it/s]"
          ]
        },
        {
          "output_type": "stream",
          "name": "stdout",
          "text": [
            "sample 6 num of prompts for Pneumonia from total 312\n"
          ]
        },
        {
          "output_type": "stream",
          "name": "stderr",
          "text": [
            "Evaluate Train: 100%|██████████| 3/3 [00:01<00:00,  1.73it/s]\n",
            "Evaluate Validation:   0%|          | 0/1 [00:00<?, ?it/s]"
          ]
        },
        {
          "output_type": "stream",
          "name": "stdout",
          "text": [
            "sample 6 num of prompts for Pneumonia from total 312\n"
          ]
        },
        {
          "output_type": "stream",
          "name": "stderr",
          "text": [
            "Evaluate Validation: 100%|██████████| 1/1 [00:00<00:00,  2.55it/s]\n",
            "Evaluate Test: 100%|██████████| 1/1 [00:00<00:00,  1.17it/s]\n"
          ]
        },
        {
          "output_type": "stream",
          "name": "stdout",
          "text": [
            "sample 6 num of prompts for Pneumonia from total 312\n",
            "\n",
            "Accuracy: 0.5261, Precision: 0.5116, Recall: 0.7624, AUC: 0.5513\n"
          ]
        },
        {
          "output_type": "stream",
          "name": "stderr",
          "text": [
            "\rEvaluate Train:   0%|          | 0/3 [00:00<?, ?it/s]"
          ]
        },
        {
          "output_type": "stream",
          "name": "stdout",
          "text": [
            "sample 7 num of prompts for Pneumonia from total 312\n"
          ]
        },
        {
          "output_type": "stream",
          "name": "stderr",
          "text": [
            "\rEvaluate Train:  33%|███▎      | 1/3 [00:00<00:01,  1.70it/s]"
          ]
        },
        {
          "output_type": "stream",
          "name": "stdout",
          "text": [
            "sample 7 num of prompts for Pneumonia from total 312\n"
          ]
        },
        {
          "output_type": "stream",
          "name": "stderr",
          "text": [
            "\rEvaluate Train:  67%|██████▋   | 2/3 [00:01<00:00,  1.27it/s]"
          ]
        },
        {
          "output_type": "stream",
          "name": "stdout",
          "text": [
            "sample 7 num of prompts for Pneumonia from total 312\n"
          ]
        },
        {
          "output_type": "stream",
          "name": "stderr",
          "text": [
            "Evaluate Train: 100%|██████████| 3/3 [00:02<00:00,  1.38it/s]\n",
            "Evaluate Validation:   0%|          | 0/1 [00:00<?, ?it/s]"
          ]
        },
        {
          "output_type": "stream",
          "name": "stdout",
          "text": [
            "sample 7 num of prompts for Pneumonia from total 312\n"
          ]
        },
        {
          "output_type": "stream",
          "name": "stderr",
          "text": [
            "Evaluate Validation: 100%|██████████| 1/1 [00:00<00:00,  1.77it/s]\n",
            "Evaluate Test:   0%|          | 0/1 [00:00<?, ?it/s]"
          ]
        },
        {
          "output_type": "stream",
          "name": "stdout",
          "text": [
            "sample 7 num of prompts for Pneumonia from total 312\n"
          ]
        },
        {
          "output_type": "stream",
          "name": "stderr",
          "text": [
            "Evaluate Test: 100%|██████████| 1/1 [00:01<00:00,  1.17s/it]\n"
          ]
        },
        {
          "output_type": "stream",
          "name": "stdout",
          "text": [
            "\n",
            "Accuracy: 0.4897, Precision: 0.4892, Recall: 0.8985, AUC: 0.4906\n"
          ]
        },
        {
          "output_type": "stream",
          "name": "stderr",
          "text": [
            "\rEvaluate Train:   0%|          | 0/3 [00:00<?, ?it/s]"
          ]
        },
        {
          "output_type": "stream",
          "name": "stdout",
          "text": [
            "sample 8 num of prompts for Pneumonia from total 312\n"
          ]
        },
        {
          "output_type": "stream",
          "name": "stderr",
          "text": [
            "\rEvaluate Train:  33%|███▎      | 1/3 [00:00<00:01,  1.76it/s]"
          ]
        },
        {
          "output_type": "stream",
          "name": "stdout",
          "text": [
            "sample 8 num of prompts for Pneumonia from total 312\n"
          ]
        },
        {
          "output_type": "stream",
          "name": "stderr",
          "text": [
            "\rEvaluate Train:  67%|██████▋   | 2/3 [00:01<00:00,  1.36it/s]"
          ]
        },
        {
          "output_type": "stream",
          "name": "stdout",
          "text": [
            "sample 8 num of prompts for Pneumonia from total 312\n"
          ]
        },
        {
          "output_type": "stream",
          "name": "stderr",
          "text": [
            "Evaluate Train: 100%|██████████| 3/3 [00:01<00:00,  1.71it/s]\n",
            "Evaluate Validation:   0%|          | 0/1 [00:00<?, ?it/s]"
          ]
        },
        {
          "output_type": "stream",
          "name": "stdout",
          "text": [
            "sample 8 num of prompts for Pneumonia from total 312\n"
          ]
        },
        {
          "output_type": "stream",
          "name": "stderr",
          "text": [
            "Evaluate Validation: 100%|██████████| 1/1 [00:01<00:00,  1.22s/it]\n",
            "Evaluate Test:   0%|          | 0/1 [00:00<?, ?it/s]"
          ]
        },
        {
          "output_type": "stream",
          "name": "stdout",
          "text": [
            "sample 8 num of prompts for Pneumonia from total 312\n"
          ]
        },
        {
          "output_type": "stream",
          "name": "stderr",
          "text": [
            "Evaluate Test: 100%|██████████| 1/1 [00:00<00:00,  1.07it/s]\n"
          ]
        },
        {
          "output_type": "stream",
          "name": "stdout",
          "text": [
            "\n",
            "Accuracy: 0.5516, Precision: 0.5337, Recall: 0.6856, AUC: 0.5653\n"
          ]
        },
        {
          "output_type": "stream",
          "name": "stderr",
          "text": [
            "\rEvaluate Train:   0%|          | 0/3 [00:00<?, ?it/s]"
          ]
        },
        {
          "output_type": "stream",
          "name": "stdout",
          "text": [
            "sample 9 num of prompts for Pneumonia from total 312\n"
          ]
        },
        {
          "output_type": "stream",
          "name": "stderr",
          "text": [
            "\rEvaluate Train:  33%|███▎      | 1/3 [00:00<00:01,  1.90it/s]"
          ]
        },
        {
          "output_type": "stream",
          "name": "stdout",
          "text": [
            "sample 9 num of prompts for Pneumonia from total 312\n"
          ]
        },
        {
          "output_type": "stream",
          "name": "stderr",
          "text": [
            "\rEvaluate Train:  67%|██████▋   | 2/3 [00:01<00:00,  1.88it/s]"
          ]
        },
        {
          "output_type": "stream",
          "name": "stdout",
          "text": [
            "sample 9 num of prompts for Pneumonia from total 312\n"
          ]
        },
        {
          "output_type": "stream",
          "name": "stderr",
          "text": [
            "Evaluate Train: 100%|██████████| 3/3 [00:02<00:00,  1.44it/s]\n",
            "Evaluate Validation:   0%|          | 0/1 [00:00<?, ?it/s]"
          ]
        },
        {
          "output_type": "stream",
          "name": "stdout",
          "text": [
            "sample 9 num of prompts for Pneumonia from total 312\n"
          ]
        },
        {
          "output_type": "stream",
          "name": "stderr",
          "text": [
            "Evaluate Validation: 100%|██████████| 1/1 [00:00<00:00,  1.06it/s]\n",
            "Evaluate Test:   0%|          | 0/1 [00:00<?, ?it/s]"
          ]
        },
        {
          "output_type": "stream",
          "name": "stdout",
          "text": [
            "sample 9 num of prompts for Pneumonia from total 312\n"
          ]
        },
        {
          "output_type": "stream",
          "name": "stderr",
          "text": [
            "Evaluate Test: 100%|██████████| 1/1 [00:00<00:00,  1.07it/s]\n"
          ]
        },
        {
          "output_type": "stream",
          "name": "stdout",
          "text": [
            "\n",
            "Accuracy: 0.4945, Precision: 0.4908, Recall: 0.7921, AUC: 0.4687\n"
          ]
        },
        {
          "output_type": "stream",
          "name": "stderr",
          "text": [
            "\rEvaluate Train:   0%|          | 0/3 [00:00<?, ?it/s]"
          ]
        },
        {
          "output_type": "stream",
          "name": "stdout",
          "text": [
            "sample 10 num of prompts for Pneumonia from total 312\n"
          ]
        },
        {
          "output_type": "stream",
          "name": "stderr",
          "text": [
            "\rEvaluate Train:  33%|███▎      | 1/3 [00:00<00:01,  1.31it/s]"
          ]
        },
        {
          "output_type": "stream",
          "name": "stdout",
          "text": [
            "sample 10 num of prompts for Pneumonia from total 312\n"
          ]
        },
        {
          "output_type": "stream",
          "name": "stderr",
          "text": [
            "\rEvaluate Train:  67%|██████▋   | 2/3 [00:01<00:00,  1.55it/s]"
          ]
        },
        {
          "output_type": "stream",
          "name": "stdout",
          "text": [
            "sample 10 num of prompts for Pneumonia from total 312\n"
          ]
        },
        {
          "output_type": "stream",
          "name": "stderr",
          "text": [
            "Evaluate Train: 100%|██████████| 3/3 [00:01<00:00,  1.80it/s]\n",
            "Evaluate Validation:   0%|          | 0/1 [00:00<?, ?it/s]"
          ]
        },
        {
          "output_type": "stream",
          "name": "stdout",
          "text": [
            "sample 10 num of prompts for Pneumonia from total 312\n"
          ]
        },
        {
          "output_type": "stream",
          "name": "stderr",
          "text": [
            "Evaluate Validation: 100%|██████████| 1/1 [00:00<00:00,  1.99it/s]\n",
            "Evaluate Test:   0%|          | 0/1 [00:00<?, ?it/s]"
          ]
        },
        {
          "output_type": "stream",
          "name": "stdout",
          "text": [
            "sample 10 num of prompts for Pneumonia from total 312\n"
          ]
        },
        {
          "output_type": "stream",
          "name": "stderr",
          "text": [
            "Evaluate Test: 100%|██████████| 1/1 [00:00<00:00,  2.37it/s]\n"
          ]
        },
        {
          "output_type": "stream",
          "name": "stdout",
          "text": [
            "\n",
            "Accuracy: 0.5346, Precision: 0.5171, Recall: 0.7871, AUC: 0.5338\n"
          ]
        },
        {
          "output_type": "stream",
          "name": "stderr",
          "text": [
            "\rEvaluate Train:   0%|          | 0/3 [00:00<?, ?it/s]"
          ]
        },
        {
          "output_type": "stream",
          "name": "stdout",
          "text": [
            "sample 11 num of prompts for Pneumonia from total 312\n"
          ]
        },
        {
          "output_type": "stream",
          "name": "stderr",
          "text": [
            "\rEvaluate Train:  33%|███▎      | 1/3 [00:00<00:01,  1.94it/s]"
          ]
        },
        {
          "output_type": "stream",
          "name": "stdout",
          "text": [
            "sample 11 num of prompts for Pneumonia from total 312\n"
          ]
        },
        {
          "output_type": "stream",
          "name": "stderr",
          "text": [
            "\rEvaluate Train:  67%|██████▋   | 2/3 [00:01<00:00,  1.33it/s]"
          ]
        },
        {
          "output_type": "stream",
          "name": "stdout",
          "text": [
            "sample 11 num of prompts for Pneumonia from total 312\n"
          ]
        },
        {
          "output_type": "stream",
          "name": "stderr",
          "text": [
            "Evaluate Train: 100%|██████████| 3/3 [00:01<00:00,  1.70it/s]\n",
            "Evaluate Validation:   0%|          | 0/1 [00:00<?, ?it/s]"
          ]
        },
        {
          "output_type": "stream",
          "name": "stdout",
          "text": [
            "sample 11 num of prompts for Pneumonia from total 312\n"
          ]
        },
        {
          "output_type": "stream",
          "name": "stderr",
          "text": [
            "Evaluate Validation: 100%|██████████| 1/1 [00:00<00:00,  2.48it/s]\n",
            "Evaluate Test:   0%|          | 0/1 [00:00<?, ?it/s]"
          ]
        },
        {
          "output_type": "stream",
          "name": "stdout",
          "text": [
            "sample 11 num of prompts for Pneumonia from total 312\n"
          ]
        },
        {
          "output_type": "stream",
          "name": "stderr",
          "text": [
            "Evaluate Test: 100%|██████████| 1/1 [00:00<00:00,  2.23it/s]\n"
          ]
        },
        {
          "output_type": "stream",
          "name": "stdout",
          "text": [
            "\n",
            "Accuracy: 0.5103, Precision: 0.5008, Recall: 0.8119, AUC: 0.5242\n"
          ]
        },
        {
          "output_type": "stream",
          "name": "stderr",
          "text": [
            "\rEvaluate Train:   0%|          | 0/3 [00:00<?, ?it/s]"
          ]
        },
        {
          "output_type": "stream",
          "name": "stdout",
          "text": [
            "sample 12 num of prompts for Pneumonia from total 312\n"
          ]
        },
        {
          "output_type": "stream",
          "name": "stderr",
          "text": [
            "\rEvaluate Train:  33%|███▎      | 1/3 [00:00<00:01,  1.72it/s]"
          ]
        },
        {
          "output_type": "stream",
          "name": "stdout",
          "text": [
            "sample 12 num of prompts for Pneumonia from total 312\n"
          ]
        },
        {
          "output_type": "stream",
          "name": "stderr",
          "text": [
            "\rEvaluate Train:  67%|██████▋   | 2/3 [00:01<00:00,  1.84it/s]"
          ]
        },
        {
          "output_type": "stream",
          "name": "stdout",
          "text": [
            "sample 12 num of prompts for Pneumonia from total 312\n"
          ]
        },
        {
          "output_type": "stream",
          "name": "stderr",
          "text": [
            "Evaluate Train: 100%|██████████| 3/3 [00:02<00:00,  1.13it/s]\n",
            "Evaluate Validation:   0%|          | 0/1 [00:00<?, ?it/s]"
          ]
        },
        {
          "output_type": "stream",
          "name": "stdout",
          "text": [
            "sample 12 num of prompts for Pneumonia from total 312\n"
          ]
        },
        {
          "output_type": "stream",
          "name": "stderr",
          "text": [
            "Evaluate Validation: 100%|██████████| 1/1 [00:00<00:00,  2.05it/s]\n",
            "Evaluate Test:   0%|          | 0/1 [00:00<?, ?it/s]"
          ]
        },
        {
          "output_type": "stream",
          "name": "stdout",
          "text": [
            "sample 12 num of prompts for Pneumonia from total 312\n"
          ]
        },
        {
          "output_type": "stream",
          "name": "stderr",
          "text": [
            "Evaluate Test: 100%|██████████| 1/1 [00:00<00:00,  2.17it/s]\n"
          ]
        },
        {
          "output_type": "stream",
          "name": "stdout",
          "text": [
            "\n",
            "Accuracy: 0.4824, Precision: 0.4853, Recall: 0.9010, AUC: 0.5314\n",
            "Best AUC for rsna_task with 2 prompts: 0.5884\n",
            "Results saved to results/zs_medclip_base/ori/medclip/classification_results.txt\n"
          ]
        },
        {
          "output_type": "stream",
          "name": "stderr",
          "text": [
            "\rEvaluate Train:   0%|          | 0/3 [00:00<?, ?it/s]"
          ]
        },
        {
          "output_type": "stream",
          "name": "stdout",
          "text": [
            "sample 1 num of prompts for COVID from total 12\n"
          ]
        },
        {
          "output_type": "stream",
          "name": "stderr",
          "text": [
            "\rEvaluate Train:  33%|███▎      | 1/3 [00:00<00:01,  1.95it/s]"
          ]
        },
        {
          "output_type": "stream",
          "name": "stdout",
          "text": [
            "sample 1 num of prompts for COVID from total 12\n"
          ]
        },
        {
          "output_type": "stream",
          "name": "stderr",
          "text": [
            "\rEvaluate Train:  67%|██████▋   | 2/3 [00:01<00:00,  1.09it/s]"
          ]
        },
        {
          "output_type": "stream",
          "name": "stdout",
          "text": [
            "sample 1 num of prompts for COVID from total 12\n"
          ]
        },
        {
          "output_type": "stream",
          "name": "stderr",
          "text": [
            "Evaluate Train: 100%|██████████| 3/3 [00:02<00:00,  1.24it/s]\n",
            "Evaluate Validation:   0%|          | 0/1 [00:00<?, ?it/s]"
          ]
        },
        {
          "output_type": "stream",
          "name": "stdout",
          "text": [
            "sample 1 num of prompts for COVID from total 12\n"
          ]
        },
        {
          "output_type": "stream",
          "name": "stderr",
          "text": [
            "Evaluate Validation: 100%|██████████| 1/1 [00:00<00:00,  2.53it/s]\n",
            "Evaluate Test:   0%|          | 0/1 [00:00<?, ?it/s]"
          ]
        },
        {
          "output_type": "stream",
          "name": "stdout",
          "text": [
            "sample 1 num of prompts for COVID from total 12\n"
          ]
        },
        {
          "output_type": "stream",
          "name": "stderr",
          "text": [
            "Evaluate Test: 100%|██████████| 1/1 [00:00<00:00,  2.13it/s]\n"
          ]
        },
        {
          "output_type": "stream",
          "name": "stdout",
          "text": [
            "\n",
            "Accuracy: 0.5541, Precision: 0.6135, Recall: 0.2475, AUC: 0.5927\n"
          ]
        },
        {
          "output_type": "stream",
          "name": "stderr",
          "text": [
            "\rEvaluate Train:   0%|          | 0/3 [00:00<?, ?it/s]"
          ]
        },
        {
          "output_type": "stream",
          "name": "stdout",
          "text": [
            "sample 2 num of prompts for COVID from total 12\n"
          ]
        },
        {
          "output_type": "stream",
          "name": "stderr",
          "text": [
            "\rEvaluate Train:  33%|███▎      | 1/3 [00:00<00:01,  1.92it/s]"
          ]
        },
        {
          "output_type": "stream",
          "name": "stdout",
          "text": [
            "sample 2 num of prompts for COVID from total 12\n"
          ]
        },
        {
          "output_type": "stream",
          "name": "stderr",
          "text": [
            "\rEvaluate Train:  67%|██████▋   | 2/3 [00:01<00:00,  1.23it/s]"
          ]
        },
        {
          "output_type": "stream",
          "name": "stdout",
          "text": [
            "sample 2 num of prompts for COVID from total 12\n"
          ]
        },
        {
          "output_type": "stream",
          "name": "stderr",
          "text": [
            "Evaluate Train: 100%|██████████| 3/3 [00:01<00:00,  1.58it/s]\n",
            "Evaluate Validation:   0%|          | 0/1 [00:00<?, ?it/s]"
          ]
        },
        {
          "output_type": "stream",
          "name": "stdout",
          "text": [
            "sample 2 num of prompts for COVID from total 12\n"
          ]
        },
        {
          "output_type": "stream",
          "name": "stderr",
          "text": [
            "Evaluate Validation: 100%|██████████| 1/1 [00:01<00:00,  1.13s/it]\n",
            "Evaluate Test:   0%|          | 0/1 [00:00<?, ?it/s]"
          ]
        },
        {
          "output_type": "stream",
          "name": "stdout",
          "text": [
            "sample 2 num of prompts for COVID from total 12\n"
          ]
        },
        {
          "output_type": "stream",
          "name": "stderr",
          "text": [
            "Evaluate Test: 100%|██████████| 1/1 [00:00<00:00,  1.07it/s]\n"
          ]
        },
        {
          "output_type": "stream",
          "name": "stdout",
          "text": [
            "\n",
            "Accuracy: 0.5820, Precision: 0.5949, Recall: 0.4653, AUC: 0.6012\n"
          ]
        },
        {
          "output_type": "stream",
          "name": "stderr",
          "text": [
            "\rEvaluate Train:   0%|          | 0/3 [00:00<?, ?it/s]"
          ]
        },
        {
          "output_type": "stream",
          "name": "stdout",
          "text": [
            "sample 3 num of prompts for COVID from total 12\n"
          ]
        },
        {
          "output_type": "stream",
          "name": "stderr",
          "text": [
            "\rEvaluate Train:  33%|███▎      | 1/3 [00:00<00:01,  1.99it/s]"
          ]
        },
        {
          "output_type": "stream",
          "name": "stdout",
          "text": [
            "sample 3 num of prompts for COVID from total 12\n"
          ]
        },
        {
          "output_type": "stream",
          "name": "stderr",
          "text": [
            "\rEvaluate Train:  67%|██████▋   | 2/3 [00:01<00:00,  1.99it/s]"
          ]
        },
        {
          "output_type": "stream",
          "name": "stdout",
          "text": [
            "sample 3 num of prompts for COVID from total 12\n"
          ]
        },
        {
          "output_type": "stream",
          "name": "stderr",
          "text": [
            "Evaluate Train: 100%|██████████| 3/3 [00:01<00:00,  2.35it/s]\n",
            "Evaluate Validation:   0%|          | 0/1 [00:00<?, ?it/s]"
          ]
        },
        {
          "output_type": "stream",
          "name": "stdout",
          "text": [
            "sample 3 num of prompts for COVID from total 12\n"
          ]
        },
        {
          "output_type": "stream",
          "name": "stderr",
          "text": [
            "Evaluate Validation: 100%|██████████| 1/1 [00:00<00:00,  1.38it/s]\n",
            "Evaluate Test:   0%|          | 0/1 [00:00<?, ?it/s]"
          ]
        },
        {
          "output_type": "stream",
          "name": "stdout",
          "text": [
            "sample 3 num of prompts for COVID from total 12\n"
          ]
        },
        {
          "output_type": "stream",
          "name": "stderr",
          "text": [
            "Evaluate Test: 100%|██████████| 1/1 [00:00<00:00,  1.08it/s]\n"
          ]
        },
        {
          "output_type": "stream",
          "name": "stdout",
          "text": [
            "\n",
            "Accuracy: 0.5832, Precision: 0.5968, Recall: 0.4653, AUC: 0.6028\n"
          ]
        },
        {
          "output_type": "stream",
          "name": "stderr",
          "text": [
            "\rEvaluate Train:   0%|          | 0/3 [00:00<?, ?it/s]"
          ]
        },
        {
          "output_type": "stream",
          "name": "stdout",
          "text": [
            "sample 4 num of prompts for COVID from total 12\n"
          ]
        },
        {
          "output_type": "stream",
          "name": "stderr",
          "text": [
            "\rEvaluate Train:  33%|███▎      | 1/3 [00:00<00:01,  1.93it/s]"
          ]
        },
        {
          "output_type": "stream",
          "name": "stdout",
          "text": [
            "sample 4 num of prompts for COVID from total 12\n"
          ]
        },
        {
          "output_type": "stream",
          "name": "stderr",
          "text": [
            "\rEvaluate Train:  67%|██████▋   | 2/3 [00:01<00:00,  1.88it/s]"
          ]
        },
        {
          "output_type": "stream",
          "name": "stdout",
          "text": [
            "sample 4 num of prompts for COVID from total 12\n"
          ]
        },
        {
          "output_type": "stream",
          "name": "stderr",
          "text": [
            "Evaluate Train: 100%|██████████| 3/3 [00:01<00:00,  1.98it/s]\n",
            "Evaluate Validation:   0%|          | 0/1 [00:00<?, ?it/s]"
          ]
        },
        {
          "output_type": "stream",
          "name": "stdout",
          "text": [
            "sample 4 num of prompts for COVID from total 12\n"
          ]
        },
        {
          "output_type": "stream",
          "name": "stderr",
          "text": [
            "Evaluate Validation: 100%|██████████| 1/1 [00:00<00:00,  2.61it/s]\n",
            "Evaluate Test:   0%|          | 0/1 [00:00<?, ?it/s]"
          ]
        },
        {
          "output_type": "stream",
          "name": "stdout",
          "text": [
            "sample 4 num of prompts for COVID from total 12\n"
          ]
        },
        {
          "output_type": "stream",
          "name": "stderr",
          "text": [
            "Evaluate Test: 100%|██████████| 1/1 [00:01<00:00,  1.08s/it]\n"
          ]
        },
        {
          "output_type": "stream",
          "name": "stdout",
          "text": [
            "\n",
            "Accuracy: 0.5820, Precision: 0.5949, Recall: 0.4653, AUC: 0.6014\n"
          ]
        },
        {
          "output_type": "stream",
          "name": "stderr",
          "text": [
            "\rEvaluate Train:   0%|          | 0/3 [00:00<?, ?it/s]"
          ]
        },
        {
          "output_type": "stream",
          "name": "stdout",
          "text": [
            "sample 5 num of prompts for COVID from total 12\n"
          ]
        },
        {
          "output_type": "stream",
          "name": "stderr",
          "text": [
            "\rEvaluate Train:  33%|███▎      | 1/3 [00:00<00:01,  1.96it/s]"
          ]
        },
        {
          "output_type": "stream",
          "name": "stdout",
          "text": [
            "sample 5 num of prompts for COVID from total 12\n"
          ]
        },
        {
          "output_type": "stream",
          "name": "stderr",
          "text": [
            "\rEvaluate Train:  67%|██████▋   | 2/3 [00:01<00:00,  1.94it/s]"
          ]
        },
        {
          "output_type": "stream",
          "name": "stdout",
          "text": [
            "sample 5 num of prompts for COVID from total 12\n"
          ]
        },
        {
          "output_type": "stream",
          "name": "stderr",
          "text": [
            "Evaluate Train: 100%|██████████| 3/3 [00:01<00:00,  1.91it/s]\n",
            "Evaluate Validation:   0%|          | 0/1 [00:00<?, ?it/s]"
          ]
        },
        {
          "output_type": "stream",
          "name": "stdout",
          "text": [
            "sample 5 num of prompts for COVID from total 12\n"
          ]
        },
        {
          "output_type": "stream",
          "name": "stderr",
          "text": [
            "Evaluate Validation: 100%|██████████| 1/1 [00:00<00:00,  2.51it/s]\n",
            "Evaluate Test:   0%|          | 0/1 [00:00<?, ?it/s]"
          ]
        },
        {
          "output_type": "stream",
          "name": "stdout",
          "text": [
            "sample 5 num of prompts for COVID from total 12\n"
          ]
        },
        {
          "output_type": "stream",
          "name": "stderr",
          "text": [
            "Evaluate Test: 100%|██████████| 1/1 [00:01<00:00,  1.03s/it]\n"
          ]
        },
        {
          "output_type": "stream",
          "name": "stdout",
          "text": [
            "\n",
            "Accuracy: 0.5808, Precision: 0.5942, Recall: 0.4604, AUC: 0.6024\n"
          ]
        },
        {
          "output_type": "stream",
          "name": "stderr",
          "text": [
            "\rEvaluate Train:   0%|          | 0/3 [00:00<?, ?it/s]"
          ]
        },
        {
          "output_type": "stream",
          "name": "stdout",
          "text": [
            "sample 6 num of prompts for COVID from total 12\n"
          ]
        },
        {
          "output_type": "stream",
          "name": "stderr",
          "text": [
            "\rEvaluate Train:  33%|███▎      | 1/3 [00:00<00:01,  1.94it/s]"
          ]
        },
        {
          "output_type": "stream",
          "name": "stdout",
          "text": [
            "sample 6 num of prompts for COVID from total 12\n"
          ]
        },
        {
          "output_type": "stream",
          "name": "stderr",
          "text": [
            "\rEvaluate Train:  67%|██████▋   | 2/3 [00:01<00:00,  1.35it/s]"
          ]
        },
        {
          "output_type": "stream",
          "name": "stdout",
          "text": [
            "sample 6 num of prompts for COVID from total 12\n"
          ]
        },
        {
          "output_type": "stream",
          "name": "stderr",
          "text": [
            "Evaluate Train: 100%|██████████| 3/3 [00:01<00:00,  1.75it/s]\n",
            "Evaluate Validation:   0%|          | 0/1 [00:00<?, ?it/s]"
          ]
        },
        {
          "output_type": "stream",
          "name": "stdout",
          "text": [
            "sample 6 num of prompts for COVID from total 12\n"
          ]
        },
        {
          "output_type": "stream",
          "name": "stderr",
          "text": [
            "Evaluate Validation: 100%|██████████| 1/1 [00:00<00:00,  2.45it/s]\n",
            "Evaluate Test:   0%|          | 0/1 [00:00<?, ?it/s]"
          ]
        },
        {
          "output_type": "stream",
          "name": "stdout",
          "text": [
            "sample 6 num of prompts for COVID from total 12\n"
          ]
        },
        {
          "output_type": "stream",
          "name": "stderr",
          "text": [
            "Evaluate Test: 100%|██████████| 1/1 [00:00<00:00,  1.22it/s]\n"
          ]
        },
        {
          "output_type": "stream",
          "name": "stdout",
          "text": [
            "\n",
            "Accuracy: 0.5808, Precision: 0.5925, Recall: 0.4678, AUC: 0.6023\n"
          ]
        },
        {
          "output_type": "stream",
          "name": "stderr",
          "text": [
            "\rEvaluate Train:   0%|          | 0/3 [00:00<?, ?it/s]"
          ]
        },
        {
          "output_type": "stream",
          "name": "stdout",
          "text": [
            "sample 7 num of prompts for COVID from total 12\n"
          ]
        },
        {
          "output_type": "stream",
          "name": "stderr",
          "text": [
            "\rEvaluate Train:  33%|███▎      | 1/3 [00:00<00:01,  1.89it/s]"
          ]
        },
        {
          "output_type": "stream",
          "name": "stdout",
          "text": [
            "sample 7 num of prompts for COVID from total 12\n"
          ]
        },
        {
          "output_type": "stream",
          "name": "stderr",
          "text": [
            "\rEvaluate Train:  67%|██████▋   | 2/3 [00:01<00:00,  1.63it/s]"
          ]
        },
        {
          "output_type": "stream",
          "name": "stdout",
          "text": [
            "sample 7 num of prompts for COVID from total 12\n"
          ]
        },
        {
          "output_type": "stream",
          "name": "stderr",
          "text": [
            "Evaluate Train: 100%|██████████| 3/3 [00:01<00:00,  1.85it/s]\n",
            "Evaluate Validation:   0%|          | 0/1 [00:00<?, ?it/s]"
          ]
        },
        {
          "output_type": "stream",
          "name": "stdout",
          "text": [
            "sample 7 num of prompts for COVID from total 12\n"
          ]
        },
        {
          "output_type": "stream",
          "name": "stderr",
          "text": [
            "Evaluate Validation: 100%|██████████| 1/1 [00:00<00:00,  2.32it/s]\n",
            "Evaluate Test:   0%|          | 0/1 [00:00<?, ?it/s]"
          ]
        },
        {
          "output_type": "stream",
          "name": "stdout",
          "text": [
            "sample 7 num of prompts for COVID from total 12\n"
          ]
        },
        {
          "output_type": "stream",
          "name": "stderr",
          "text": [
            "Evaluate Test: 100%|██████████| 1/1 [00:00<00:00,  1.02it/s]\n"
          ]
        },
        {
          "output_type": "stream",
          "name": "stdout",
          "text": [
            "\n",
            "Accuracy: 0.5808, Precision: 0.5925, Recall: 0.4678, AUC: 0.6004\n"
          ]
        },
        {
          "output_type": "stream",
          "name": "stderr",
          "text": [
            "\rEvaluate Train:   0%|          | 0/3 [00:00<?, ?it/s]"
          ]
        },
        {
          "output_type": "stream",
          "name": "stdout",
          "text": [
            "sample 8 num of prompts for COVID from total 12\n"
          ]
        },
        {
          "output_type": "stream",
          "name": "stderr",
          "text": [
            "\rEvaluate Train:  33%|███▎      | 1/3 [00:00<00:01,  1.90it/s]"
          ]
        },
        {
          "output_type": "stream",
          "name": "stdout",
          "text": [
            "sample 8 num of prompts for COVID from total 12\n"
          ]
        },
        {
          "output_type": "stream",
          "name": "stderr",
          "text": [
            "\rEvaluate Train:  67%|██████▋   | 2/3 [00:01<00:00,  1.33it/s]"
          ]
        },
        {
          "output_type": "stream",
          "name": "stdout",
          "text": [
            "sample 8 num of prompts for COVID from total 12\n"
          ]
        },
        {
          "output_type": "stream",
          "name": "stderr",
          "text": [
            "Evaluate Train: 100%|██████████| 3/3 [00:02<00:00,  1.39it/s]\n",
            "Evaluate Validation:   0%|          | 0/1 [00:00<?, ?it/s]"
          ]
        },
        {
          "output_type": "stream",
          "name": "stdout",
          "text": [
            "sample 8 num of prompts for COVID from total 12\n"
          ]
        },
        {
          "output_type": "stream",
          "name": "stderr",
          "text": [
            "Evaluate Validation: 100%|██████████| 1/1 [00:00<00:00,  2.61it/s]\n",
            "Evaluate Test:   0%|          | 0/1 [00:00<?, ?it/s]"
          ]
        },
        {
          "output_type": "stream",
          "name": "stdout",
          "text": [
            "sample 8 num of prompts for COVID from total 12\n"
          ]
        },
        {
          "output_type": "stream",
          "name": "stderr",
          "text": [
            "Evaluate Test: 100%|██████████| 1/1 [00:01<00:00,  1.34s/it]\n"
          ]
        },
        {
          "output_type": "stream",
          "name": "stdout",
          "text": [
            "\n",
            "Accuracy: 0.5820, Precision: 0.5943, Recall: 0.4678, AUC: 0.6020\n"
          ]
        },
        {
          "output_type": "stream",
          "name": "stderr",
          "text": [
            "\rEvaluate Train:   0%|          | 0/3 [00:00<?, ?it/s]"
          ]
        },
        {
          "output_type": "stream",
          "name": "stdout",
          "text": [
            "sample 9 num of prompts for COVID from total 12\n"
          ]
        },
        {
          "output_type": "stream",
          "name": "stderr",
          "text": [
            "\rEvaluate Train:  33%|███▎      | 1/3 [00:00<00:01,  1.88it/s]"
          ]
        },
        {
          "output_type": "stream",
          "name": "stdout",
          "text": [
            "sample 9 num of prompts for COVID from total 12\n"
          ]
        },
        {
          "output_type": "stream",
          "name": "stderr",
          "text": [
            "\rEvaluate Train:  67%|██████▋   | 2/3 [00:01<00:00,  1.91it/s]"
          ]
        },
        {
          "output_type": "stream",
          "name": "stdout",
          "text": [
            "sample 9 num of prompts for COVID from total 12\n"
          ]
        },
        {
          "output_type": "stream",
          "name": "stderr",
          "text": [
            "Evaluate Train: 100%|██████████| 3/3 [00:01<00:00,  1.50it/s]\n",
            "Evaluate Validation:   0%|          | 0/1 [00:00<?, ?it/s]"
          ]
        },
        {
          "output_type": "stream",
          "name": "stdout",
          "text": [
            "sample 9 num of prompts for COVID from total 12\n"
          ]
        },
        {
          "output_type": "stream",
          "name": "stderr",
          "text": [
            "Evaluate Validation: 100%|██████████| 1/1 [00:00<00:00,  1.08it/s]\n",
            "Evaluate Test:   0%|          | 0/1 [00:00<?, ?it/s]"
          ]
        },
        {
          "output_type": "stream",
          "name": "stdout",
          "text": [
            "sample 9 num of prompts for COVID from total 12\n"
          ]
        },
        {
          "output_type": "stream",
          "name": "stderr",
          "text": [
            "Evaluate Test: 100%|██████████| 1/1 [00:00<00:00,  2.31it/s]\n"
          ]
        },
        {
          "output_type": "stream",
          "name": "stdout",
          "text": [
            "\n",
            "Accuracy: 0.5808, Precision: 0.5925, Recall: 0.4678, AUC: 0.6025\n"
          ]
        },
        {
          "output_type": "stream",
          "name": "stderr",
          "text": [
            "\rEvaluate Train:   0%|          | 0/3 [00:00<?, ?it/s]"
          ]
        },
        {
          "output_type": "stream",
          "name": "stdout",
          "text": [
            "sample 10 num of prompts for COVID from total 12\n"
          ]
        },
        {
          "output_type": "stream",
          "name": "stderr",
          "text": [
            "\rEvaluate Train:  33%|███▎      | 1/3 [00:00<00:01,  1.94it/s]"
          ]
        },
        {
          "output_type": "stream",
          "name": "stdout",
          "text": [
            "sample 10 num of prompts for COVID from total 12\n"
          ]
        },
        {
          "output_type": "stream",
          "name": "stderr",
          "text": [
            "\rEvaluate Train:  67%|██████▋   | 2/3 [00:01<00:00,  1.89it/s]"
          ]
        },
        {
          "output_type": "stream",
          "name": "stdout",
          "text": [
            "sample 10 num of prompts for COVID from total 12\n"
          ]
        },
        {
          "output_type": "stream",
          "name": "stderr",
          "text": [
            "Evaluate Train: 100%|██████████| 3/3 [00:02<00:00,  1.48it/s]\n",
            "Evaluate Validation:   0%|          | 0/1 [00:00<?, ?it/s]"
          ]
        },
        {
          "output_type": "stream",
          "name": "stdout",
          "text": [
            "sample 10 num of prompts for COVID from total 12\n"
          ]
        },
        {
          "output_type": "stream",
          "name": "stderr",
          "text": [
            "Evaluate Validation: 100%|██████████| 1/1 [00:00<00:00,  2.57it/s]\n",
            "Evaluate Test:   0%|          | 0/1 [00:00<?, ?it/s]"
          ]
        },
        {
          "output_type": "stream",
          "name": "stdout",
          "text": [
            "sample 10 num of prompts for COVID from total 12\n"
          ]
        },
        {
          "output_type": "stream",
          "name": "stderr",
          "text": [
            "Evaluate Test: 100%|██████████| 1/1 [00:00<00:00,  2.33it/s]\n"
          ]
        },
        {
          "output_type": "stream",
          "name": "stdout",
          "text": [
            "\n",
            "Accuracy: 0.5808, Precision: 0.5925, Recall: 0.4678, AUC: 0.6016\n"
          ]
        },
        {
          "output_type": "stream",
          "name": "stderr",
          "text": [
            "\rEvaluate Train:   0%|          | 0/3 [00:00<?, ?it/s]"
          ]
        },
        {
          "output_type": "stream",
          "name": "stdout",
          "text": [
            "sample 11 num of prompts for COVID from total 12\n"
          ]
        },
        {
          "output_type": "stream",
          "name": "stderr",
          "text": [
            "\rEvaluate Train:  33%|███▎      | 1/3 [00:00<00:01,  1.81it/s]"
          ]
        },
        {
          "output_type": "stream",
          "name": "stdout",
          "text": [
            "sample 11 num of prompts for COVID from total 12\n"
          ]
        },
        {
          "output_type": "stream",
          "name": "stderr",
          "text": [
            "\rEvaluate Train:  67%|██████▋   | 2/3 [00:01<00:00,  1.88it/s]"
          ]
        },
        {
          "output_type": "stream",
          "name": "stdout",
          "text": [
            "sample 11 num of prompts for COVID from total 12\n"
          ]
        },
        {
          "output_type": "stream",
          "name": "stderr",
          "text": [
            "Evaluate Train: 100%|██████████| 3/3 [00:02<00:00,  1.13it/s]\n",
            "Evaluate Validation:   0%|          | 0/1 [00:00<?, ?it/s]"
          ]
        },
        {
          "output_type": "stream",
          "name": "stdout",
          "text": [
            "sample 11 num of prompts for COVID from total 12\n"
          ]
        },
        {
          "output_type": "stream",
          "name": "stderr",
          "text": [
            "Evaluate Validation: 100%|██████████| 1/1 [00:00<00:00,  2.02it/s]\n",
            "Evaluate Test:   0%|          | 0/1 [00:00<?, ?it/s]"
          ]
        },
        {
          "output_type": "stream",
          "name": "stdout",
          "text": [
            "sample 11 num of prompts for COVID from total 12\n"
          ]
        },
        {
          "output_type": "stream",
          "name": "stderr",
          "text": [
            "Evaluate Test: 100%|██████████| 1/1 [00:00<00:00,  2.33it/s]\n"
          ]
        },
        {
          "output_type": "stream",
          "name": "stdout",
          "text": [
            "\n",
            "Accuracy: 0.5808, Precision: 0.5925, Recall: 0.4678, AUC: 0.6017\n"
          ]
        },
        {
          "output_type": "stream",
          "name": "stderr",
          "text": [
            "\rEvaluate Train:   0%|          | 0/3 [00:00<?, ?it/s]"
          ]
        },
        {
          "output_type": "stream",
          "name": "stdout",
          "text": [
            "sample 12 num of prompts for COVID from total 12\n"
          ]
        },
        {
          "output_type": "stream",
          "name": "stderr",
          "text": [
            "\rEvaluate Train:  33%|███▎      | 1/3 [00:00<00:01,  1.99it/s]"
          ]
        },
        {
          "output_type": "stream",
          "name": "stdout",
          "text": [
            "sample 12 num of prompts for COVID from total 12\n"
          ]
        },
        {
          "output_type": "stream",
          "name": "stderr",
          "text": [
            "\rEvaluate Train:  67%|██████▋   | 2/3 [00:01<00:00,  1.10it/s]"
          ]
        },
        {
          "output_type": "stream",
          "name": "stdout",
          "text": [
            "sample 12 num of prompts for COVID from total 12\n"
          ]
        },
        {
          "output_type": "stream",
          "name": "stderr",
          "text": [
            "Evaluate Train: 100%|██████████| 3/3 [00:02<00:00,  1.23it/s]\n",
            "Evaluate Validation:   0%|          | 0/1 [00:00<?, ?it/s]"
          ]
        },
        {
          "output_type": "stream",
          "name": "stdout",
          "text": [
            "sample 12 num of prompts for COVID from total 12\n"
          ]
        },
        {
          "output_type": "stream",
          "name": "stderr",
          "text": [
            "Evaluate Validation: 100%|██████████| 1/1 [00:00<00:00,  2.32it/s]\n",
            "Evaluate Test:   0%|          | 0/1 [00:00<?, ?it/s]"
          ]
        },
        {
          "output_type": "stream",
          "name": "stdout",
          "text": [
            "sample 12 num of prompts for COVID from total 12\n"
          ]
        },
        {
          "output_type": "stream",
          "name": "stderr",
          "text": [
            "Evaluate Test: 100%|██████████| 1/1 [00:00<00:00,  2.14it/s]"
          ]
        },
        {
          "output_type": "stream",
          "name": "stdout",
          "text": [
            "\n",
            "Accuracy: 0.5808, Precision: 0.5925, Recall: 0.4678, AUC: 0.6018\n",
            "Best AUC for  with 3 prompts: 0.6028\n",
            "Results saved to results/zs_medclip_base/ori/medclip/classification_results.txt\n"
          ]
        },
        {
          "output_type": "stream",
          "name": "stderr",
          "text": [
            "\n"
          ]
        },
        {
          "output_type": "display_data",
          "data": {
            "text/plain": [
              "<Figure size 640x480 with 0 Axes>"
            ]
          },
          "metadata": {}
        }
      ],
      "source": [
        "%run MedCLIP-pediatric/scripts/zs_medclip_base.py"
      ]
    },
    {
      "cell_type": "code",
      "execution_count": 5,
      "metadata": {
        "colab": {
          "base_uri": "https://localhost:8080/",
          "height": 1000
        },
        "id": "-c3lTRyAfXb6",
        "outputId": "f8c9a09a-49cc-4d1a-c3ff-b8033c4df982"
      },
      "outputs": [
        {
          "output_type": "stream",
          "name": "stdout",
          "text": [
            "Google Drive is already mounted.\n"
          ]
        },
        {
          "output_type": "stream",
          "name": "stderr",
          "text": [
            "/usr/local/lib/python3.10/dist-packages/keras/src/preprocessing/image.py:766: UserWarning: NumpyArrayIterator is set to use the data format convention \"channels_last\" (channels on axis 3), i.e. expected either 1, 3, or 4 channels on axis 3. However, it was passed an array with shape (1967, 3, 224, 224) (224 channels).\n",
            "  warnings.warn(\n",
            "/usr/local/lib/python3.10/dist-packages/keras/src/preprocessing/image.py:766: UserWarning: NumpyArrayIterator is set to use the data format convention \"channels_last\" (channels on axis 3), i.e. expected either 1, 3, or 4 channels on axis 3. However, it was passed an array with shape (493, 3, 224, 224) (224 channels).\n",
            "  warnings.warn(\n",
            "/usr/local/lib/python3.10/dist-packages/keras/src/preprocessing/image.py:766: UserWarning: NumpyArrayIterator is set to use the data format convention \"channels_last\" (channels on axis 3), i.e. expected either 1, 3, or 4 channels on axis 3. However, it was passed an array with shape (616, 3, 224, 224) (224 channels).\n",
            "  warnings.warn(\n",
            "WARNING:matplotlib.image:Clipping input data to the valid range for imshow with RGB data ([0..1] for floats or [0..255] for integers).\n",
            "WARNING:matplotlib.image:Clipping input data to the valid range for imshow with RGB data ([0..1] for floats or [0..255] for integers).\n",
            "WARNING:matplotlib.image:Clipping input data to the valid range for imshow with RGB data ([0..1] for floats or [0..255] for integers).\n",
            "WARNING:matplotlib.image:Clipping input data to the valid range for imshow with RGB data ([0..1] for floats or [0..255] for integers).\n",
            "WARNING:matplotlib.image:Clipping input data to the valid range for imshow with RGB data ([0..1] for floats or [0..255] for integers).\n",
            "WARNING:matplotlib.image:Clipping input data to the valid range for imshow with RGB data ([0..1] for floats or [0..255] for integers).\n"
          ]
        },
        {
          "output_type": "stream",
          "name": "stdout",
          "text": [
            "Results saved to results/visualization/t_pretrained/ucsd/clip/images/cxr_images.png\n",
            "NVIDIA library configured successfully.\n"
          ]
        },
        {
          "output_type": "stream",
          "name": "stderr",
          "text": [
            "Epoch 1/50, Train: 100%|██████████| 8/8 [00:06<00:00,  1.32it/s]\n",
            "Epoch 1/50, Validation: 100%|██████████| 2/2 [00:01<00:00,  1.57it/s]\n",
            "Evaluate Train: 100%|██████████| 8/8 [00:01<00:00,  6.79it/s]\n",
            "Evaluate Validation: 100%|██████████| 2/2 [00:00<00:00,  7.19it/s]\n"
          ]
        },
        {
          "output_type": "stream",
          "name": "stdout",
          "text": [
            "Epoch 1/50\n",
            "Train - Loss: 5.9136, Accuracy: 0.6634, Precision: 0.9966, Recall: 0.3079, AUC: 0.0190\n",
            "Val - Loss: 5.3184, Accuracy: 0.6349, Precision: 0.9683, Recall: 0.2552, AUC: 0.0317\n"
          ]
        },
        {
          "output_type": "stream",
          "name": "stderr",
          "text": [
            "Epoch 2/50, Train: 100%|██████████| 8/8 [00:04<00:00,  1.65it/s]\n",
            "Epoch 2/50, Validation: 100%|██████████| 2/2 [00:00<00:00,  3.45it/s]\n",
            "Evaluate Train: 100%|██████████| 8/8 [00:02<00:00,  2.75it/s]\n",
            "Evaluate Validation: 100%|██████████| 2/2 [00:00<00:00,  7.39it/s]\n"
          ]
        },
        {
          "output_type": "stream",
          "name": "stdout",
          "text": [
            "Epoch 2/50\n",
            "Train - Loss: 5.0874, Accuracy: 0.9400, Precision: 0.9655, Recall: 0.9089, AUC: 0.6293\n",
            "Val - Loss: 5.0371, Accuracy: 0.9331, Precision: 0.9682, Recall: 0.8912, AUC: 0.5874\n"
          ]
        },
        {
          "output_type": "stream",
          "name": "stderr",
          "text": [
            "Epoch 3/50, Train: 100%|██████████| 8/8 [00:04<00:00,  1.83it/s]\n",
            "Epoch 3/50, Validation: 100%|██████████| 2/2 [00:00<00:00,  3.44it/s]\n",
            "Evaluate Train: 100%|██████████| 8/8 [00:01<00:00,  6.64it/s]\n",
            "Evaluate Validation: 100%|██████████| 2/2 [00:00<00:00,  7.41it/s]\n"
          ]
        },
        {
          "output_type": "stream",
          "name": "stdout",
          "text": [
            "Epoch 3/50\n",
            "Train - Loss: 4.9844, Accuracy: 0.9471, Precision: 0.9852, Recall: 0.9047, AUC: 0.4593\n",
            "Val - Loss: 5.0254, Accuracy: 0.9331, Precision: 0.9858, Recall: 0.8745, AUC: 0.3987\n"
          ]
        },
        {
          "output_type": "stream",
          "name": "stderr",
          "text": [
            "Epoch 4/50, Train: 100%|██████████| 8/8 [00:04<00:00,  1.67it/s]\n",
            "Epoch 4/50, Validation: 100%|██████████| 2/2 [00:00<00:00,  3.70it/s]\n",
            "Evaluate Train: 100%|██████████| 8/8 [00:02<00:00,  2.89it/s]\n",
            "Evaluate Validation: 100%|██████████| 2/2 [00:00<00:00,  7.27it/s]\n"
          ]
        },
        {
          "output_type": "stream",
          "name": "stdout",
          "text": [
            "Epoch 4/50\n",
            "Train - Loss: 4.9414, Accuracy: 0.9659, Precision: 0.9847, Recall: 0.9445, AUC: 0.6923\n",
            "Val - Loss: 4.9766, Accuracy: 0.9473, Precision: 0.9733, Recall: 0.9163, AUC: 0.6467\n"
          ]
        },
        {
          "output_type": "stream",
          "name": "stderr",
          "text": [
            "Epoch 5/50, Train: 100%|██████████| 8/8 [00:04<00:00,  1.60it/s]\n",
            "Epoch 5/50, Validation: 100%|██████████| 2/2 [00:00<00:00,  4.75it/s]\n",
            "Evaluate Train: 100%|██████████| 8/8 [00:02<00:00,  2.71it/s]\n",
            "Evaluate Validation: 100%|██████████| 2/2 [00:00<00:00,  7.40it/s]\n"
          ]
        },
        {
          "output_type": "stream",
          "name": "stdout",
          "text": [
            "Epoch 5/50\n",
            "Train - Loss: 4.9033, Accuracy: 0.9776, Precision: 0.9872, Recall: 0.9665, AUC: 0.7134\n",
            "Val - Loss: 4.9570, Accuracy: 0.9493, Precision: 0.9693, Recall: 0.9247, AUC: 0.6707\n"
          ]
        },
        {
          "output_type": "stream",
          "name": "stderr",
          "text": [
            "Epoch 6/50, Train: 100%|██████████| 8/8 [00:04<00:00,  1.80it/s]\n",
            "Epoch 6/50, Validation: 100%|██████████| 2/2 [00:00<00:00,  4.83it/s]\n",
            "Evaluate Train: 100%|██████████| 8/8 [00:02<00:00,  2.71it/s]\n",
            "Evaluate Validation: 100%|██████████| 2/2 [00:01<00:00,  1.02it/s]\n"
          ]
        },
        {
          "output_type": "stream",
          "name": "stdout",
          "text": [
            "Epoch 6/50\n",
            "Train - Loss: 4.8716, Accuracy: 0.9888, Precision: 0.9895, Recall: 0.9874, AUC: 0.7783\n",
            "Val - Loss: 4.9492, Accuracy: 0.9574, Precision: 0.9658, Recall: 0.9456, AUC: 0.7390\n"
          ]
        },
        {
          "output_type": "stream",
          "name": "stderr",
          "text": [
            "Epoch 7/50, Train: 100%|██████████| 8/8 [00:04<00:00,  1.89it/s]\n",
            "Epoch 7/50, Validation: 100%|██████████| 2/2 [00:01<00:00,  1.81it/s]\n",
            "Evaluate Train: 100%|██████████| 8/8 [00:01<00:00,  7.61it/s]\n",
            "Evaluate Validation: 100%|██████████| 2/2 [00:01<00:00,  1.64it/s]\n"
          ]
        },
        {
          "output_type": "stream",
          "name": "stdout",
          "text": [
            "Epoch 7/50\n",
            "Train - Loss: 4.8521, Accuracy: 0.9964, Precision: 0.9979, Recall: 0.9948, AUC: 0.6670\n",
            "Val - Loss: 4.9688, Accuracy: 0.9554, Precision: 0.9738, Recall: 0.9331, AUC: 0.6207\n"
          ]
        },
        {
          "output_type": "stream",
          "name": "stderr",
          "text": [
            "Epoch 8/50, Train: 100%|██████████| 8/8 [00:04<00:00,  1.77it/s]\n",
            "Epoch 8/50, Validation: 100%|██████████| 2/2 [00:00<00:00,  4.76it/s]\n",
            "Evaluate Train: 100%|██████████| 8/8 [00:02<00:00,  2.82it/s]\n",
            "Evaluate Validation: 100%|██████████| 2/2 [00:00<00:00,  7.26it/s]\n"
          ]
        },
        {
          "output_type": "stream",
          "name": "stdout",
          "text": [
            "Epoch 8/50\n",
            "Train - Loss: 4.8247, Accuracy: 0.9985, Precision: 0.9969, Recall: 1.0000, AUC: 0.8352\n",
            "Val - Loss: 4.9707, Accuracy: 0.9615, Precision: 0.9583, Recall: 0.9623, AUC: 0.7814\n"
          ]
        },
        {
          "output_type": "stream",
          "name": "stderr",
          "text": [
            "Epoch 9/50, Train: 100%|██████████| 8/8 [00:04<00:00,  1.97it/s]\n",
            "Epoch 9/50, Validation: 100%|██████████| 2/2 [00:00<00:00,  4.78it/s]\n",
            "Evaluate Train: 100%|██████████| 8/8 [00:01<00:00,  4.20it/s]\n",
            "Evaluate Validation: 100%|██████████| 2/2 [00:00<00:00,  7.51it/s]\n"
          ]
        },
        {
          "output_type": "stream",
          "name": "stdout",
          "text": [
            "Epoch 9/50\n",
            "Train - Loss: 4.8169, Accuracy: 0.9995, Precision: 0.9990, Recall: 1.0000, AUC: 0.8006\n",
            "Val - Loss: 4.9883, Accuracy: 0.9615, Precision: 0.9622, Recall: 0.9582, AUC: 0.7408\n"
          ]
        },
        {
          "output_type": "stream",
          "name": "stderr",
          "text": [
            "Epoch 10/50, Train: 100%|██████████| 8/8 [00:04<00:00,  1.62it/s]\n",
            "Epoch 10/50, Validation: 100%|██████████| 2/2 [00:01<00:00,  1.57it/s]\n",
            "Evaluate Train: 100%|██████████| 8/8 [00:02<00:00,  2.70it/s]\n",
            "Evaluate Validation: 100%|██████████| 2/2 [00:00<00:00,  7.37it/s]\n"
          ]
        },
        {
          "output_type": "stream",
          "name": "stdout",
          "text": [
            "Epoch 10/50\n",
            "Train - Loss: 4.8135, Accuracy: 1.0000, Precision: 1.0000, Recall: 1.0000, AUC: 0.7189\n",
            "Val - Loss: 5.0078, Accuracy: 0.9574, Precision: 0.9698, Recall: 0.9414, AUC: 0.6692\n"
          ]
        },
        {
          "output_type": "stream",
          "name": "stderr",
          "text": [
            "Epoch 11/50, Train: 100%|██████████| 8/8 [00:04<00:00,  1.74it/s]\n",
            "Epoch 11/50, Validation: 100%|██████████| 2/2 [00:00<00:00,  4.74it/s]\n",
            "Evaluate Train: 100%|██████████| 8/8 [00:02<00:00,  2.70it/s]\n",
            "Evaluate Validation: 100%|██████████| 2/2 [00:01<00:00,  1.04it/s]\n"
          ]
        },
        {
          "output_type": "stream",
          "name": "stdout",
          "text": [
            "Epoch 11/50\n",
            "Train - Loss: 4.8135, Accuracy: 1.0000, Precision: 1.0000, Recall: 1.0000, AUC: 0.6830\n",
            "Val - Loss: 5.0293, Accuracy: 0.9574, Precision: 0.9739, Recall: 0.9372, AUC: 0.6470\n"
          ]
        },
        {
          "output_type": "stream",
          "name": "stderr",
          "text": [
            "Epoch 12/50, Train: 100%|██████████| 8/8 [00:03<00:00,  2.13it/s]\n",
            "Epoch 12/50, Validation: 100%|██████████| 2/2 [00:00<00:00,  4.77it/s]\n",
            "Evaluate Train: 100%|██████████| 8/8 [00:01<00:00,  6.60it/s]\n",
            "Evaluate Validation: 100%|██████████| 2/2 [00:01<00:00,  1.52it/s]\n"
          ]
        },
        {
          "output_type": "stream",
          "name": "stdout",
          "text": [
            "Epoch 12/50\n",
            "Train - Loss: 4.8115, Accuracy: 1.0000, Precision: 1.0000, Recall: 1.0000, AUC: 0.6622\n",
            "Val - Loss: 5.0352, Accuracy: 0.9533, Precision: 0.9737, Recall: 0.9289, AUC: 0.6373\n"
          ]
        },
        {
          "output_type": "stream",
          "name": "stderr",
          "text": [
            "Epoch 13/50, Train: 100%|██████████| 8/8 [00:03<00:00,  2.05it/s]\n",
            "Epoch 13/50, Validation: 100%|██████████| 2/2 [00:00<00:00,  3.67it/s]\n",
            "Evaluate Train: 100%|██████████| 8/8 [00:01<00:00,  6.42it/s]\n",
            "Evaluate Validation: 100%|██████████| 2/2 [00:00<00:00,  7.52it/s]\n"
          ]
        },
        {
          "output_type": "stream",
          "name": "stdout",
          "text": [
            "Epoch 13/50\n",
            "Train - Loss: 4.8076, Accuracy: 1.0000, Precision: 1.0000, Recall: 1.0000, AUC: 0.6773\n",
            "Val - Loss: 5.0352, Accuracy: 0.9533, Precision: 0.9737, Recall: 0.9289, AUC: 0.6502\n"
          ]
        },
        {
          "output_type": "stream",
          "name": "stderr",
          "text": [
            "Epoch 14/50, Train: 100%|██████████| 8/8 [00:04<00:00,  1.83it/s]\n",
            "Epoch 14/50, Validation: 100%|██████████| 2/2 [00:00<00:00,  4.77it/s]\n",
            "Evaluate Train: 100%|██████████| 8/8 [00:02<00:00,  2.84it/s]\n",
            "Evaluate Validation: 100%|██████████| 2/2 [00:00<00:00,  7.34it/s]\n"
          ]
        },
        {
          "output_type": "stream",
          "name": "stdout",
          "text": [
            "Epoch 14/50\n",
            "Train - Loss: 4.8101, Accuracy: 1.0000, Precision: 1.0000, Recall: 1.0000, AUC: 0.6638\n",
            "Val - Loss: 5.0332, Accuracy: 0.9554, Precision: 0.9738, Recall: 0.9331, AUC: 0.6334\n"
          ]
        },
        {
          "output_type": "stream",
          "name": "stderr",
          "text": [
            "Epoch 15/50, Train: 100%|██████████| 8/8 [00:04<00:00,  1.88it/s]\n",
            "Epoch 15/50, Validation: 100%|██████████| 2/2 [00:00<00:00,  4.79it/s]\n",
            "Evaluate Train: 100%|██████████| 8/8 [00:02<00:00,  3.89it/s]\n",
            "Evaluate Validation: 100%|██████████| 2/2 [00:00<00:00,  7.60it/s]\n"
          ]
        },
        {
          "output_type": "stream",
          "name": "stdout",
          "text": [
            "Epoch 15/50\n",
            "Train - Loss: 4.8110, Accuracy: 1.0000, Precision: 1.0000, Recall: 1.0000, AUC: 0.6498\n",
            "Val - Loss: 5.0371, Accuracy: 0.9533, Precision: 0.9737, Recall: 0.9289, AUC: 0.6137\n"
          ]
        },
        {
          "output_type": "stream",
          "name": "stderr",
          "text": [
            "Epoch 16/50, Train: 100%|██████████| 8/8 [00:03<00:00,  2.04it/s]\n",
            "Epoch 16/50, Validation: 100%|██████████| 2/2 [00:01<00:00,  1.82it/s]\n",
            "Evaluate Train: 100%|██████████| 8/8 [00:02<00:00,  3.79it/s]\n",
            "Evaluate Validation: 100%|██████████| 2/2 [00:01<00:00,  1.13it/s]\n"
          ]
        },
        {
          "output_type": "stream",
          "name": "stdout",
          "text": [
            "Epoch 16/50\n",
            "Train - Loss: 4.8096, Accuracy: 1.0000, Precision: 1.0000, Recall: 1.0000, AUC: 0.6560\n",
            "Val - Loss: 5.0273, Accuracy: 0.9574, Precision: 0.9698, Recall: 0.9414, AUC: 0.6244\n"
          ]
        },
        {
          "output_type": "stream",
          "name": "stderr",
          "text": [
            "Epoch 17/50, Train: 100%|██████████| 8/8 [00:04<00:00,  1.79it/s]\n",
            "Epoch 17/50, Validation: 100%|██████████| 2/2 [00:00<00:00,  4.72it/s]\n",
            "Evaluate Train: 100%|██████████| 8/8 [00:01<00:00,  6.41it/s]\n",
            "Evaluate Validation: 100%|██████████| 2/2 [00:01<00:00,  1.09it/s]\n"
          ]
        },
        {
          "output_type": "stream",
          "name": "stdout",
          "text": [
            "Epoch 17/50\n",
            "Train - Loss: 4.8101, Accuracy: 1.0000, Precision: 1.0000, Recall: 1.0000, AUC: 0.5920\n",
            "Val - Loss: 5.0332, Accuracy: 0.9554, Precision: 0.9738, Recall: 0.9331, AUC: 0.5744\n"
          ]
        },
        {
          "output_type": "stream",
          "name": "stderr",
          "text": [
            "Epoch 18/50, Train: 100%|██████████| 8/8 [00:04<00:00,  1.72it/s]\n",
            "Epoch 18/50, Validation: 100%|██████████| 2/2 [00:00<00:00,  4.79it/s]\n",
            "Evaluate Train: 100%|██████████| 8/8 [00:02<00:00,  3.66it/s]\n",
            "Evaluate Validation: 100%|██████████| 2/2 [00:01<00:00,  1.52it/s]\n"
          ]
        },
        {
          "output_type": "stream",
          "name": "stdout",
          "text": [
            "Epoch 18/50\n",
            "Train - Loss: 4.8086, Accuracy: 1.0000, Precision: 1.0000, Recall: 1.0000, AUC: 0.5574\n",
            "Val - Loss: 5.0410, Accuracy: 0.9554, Precision: 0.9738, Recall: 0.9331, AUC: 0.5468\n"
          ]
        },
        {
          "output_type": "stream",
          "name": "stderr",
          "text": [
            "Epoch 19/50, Train: 100%|██████████| 8/8 [00:03<00:00,  2.03it/s]\n",
            "Epoch 19/50, Validation: 100%|██████████| 2/2 [00:00<00:00,  3.50it/s]\n",
            "Evaluate Train: 100%|██████████| 8/8 [00:02<00:00,  2.97it/s]\n",
            "Evaluate Validation: 100%|██████████| 2/2 [00:00<00:00,  7.25it/s]\n"
          ]
        },
        {
          "output_type": "stream",
          "name": "stdout",
          "text": [
            "Epoch 19/50\n",
            "Train - Loss: 4.8096, Accuracy: 1.0000, Precision: 1.0000, Recall: 1.0000, AUC: 0.5372\n",
            "Val - Loss: 5.0547, Accuracy: 0.9513, Precision: 0.9736, Recall: 0.9247, AUC: 0.5211\n"
          ]
        },
        {
          "output_type": "stream",
          "name": "stderr",
          "text": [
            "Epoch 20/50, Train: 100%|██████████| 8/8 [00:04<00:00,  1.62it/s]\n",
            "Epoch 20/50, Validation: 100%|██████████| 2/2 [00:00<00:00,  3.70it/s]\n",
            "Evaluate Train: 100%|██████████| 8/8 [00:02<00:00,  2.72it/s]\n",
            "Evaluate Validation: 100%|██████████| 2/2 [00:00<00:00,  7.24it/s]\n"
          ]
        },
        {
          "output_type": "stream",
          "name": "stdout",
          "text": [
            "Epoch 20/50\n",
            "Train - Loss: 4.8086, Accuracy: 1.0000, Precision: 1.0000, Recall: 1.0000, AUC: 0.5632\n",
            "Val - Loss: 5.0508, Accuracy: 0.9574, Precision: 0.9739, Recall: 0.9372, AUC: 0.5459\n"
          ]
        },
        {
          "output_type": "stream",
          "name": "stderr",
          "text": [
            "Epoch 21/50, Train: 100%|██████████| 8/8 [00:04<00:00,  1.87it/s]\n",
            "Epoch 21/50, Validation: 100%|██████████| 2/2 [00:00<00:00,  4.81it/s]\n",
            "Evaluate Train: 100%|██████████| 8/8 [00:02<00:00,  2.78it/s]\n",
            "/usr/local/lib/python3.10/dist-packages/sklearn/metrics/_classification.py:1344: UndefinedMetricWarning: Precision is ill-defined and being set to 0.0 due to no predicted samples. Use `zero_division` parameter to control this behavior.\n",
            "  _warn_prf(average, modifier, msg_start, len(result))\n",
            "/usr/local/lib/python3.10/dist-packages/sklearn/metrics/_classification.py:1344: UndefinedMetricWarning: Precision and F-score are ill-defined and being set to 0.0 in labels with no predicted samples. Use `zero_division` parameter to control this behavior.\n",
            "  _warn_prf(average, modifier, msg_start, len(result))\n",
            "/usr/local/lib/python3.10/dist-packages/sklearn/metrics/_classification.py:1344: UndefinedMetricWarning: Precision and F-score are ill-defined and being set to 0.0 in labels with no predicted samples. Use `zero_division` parameter to control this behavior.\n",
            "  _warn_prf(average, modifier, msg_start, len(result))\n",
            "/usr/local/lib/python3.10/dist-packages/sklearn/metrics/_classification.py:1344: UndefinedMetricWarning: Precision and F-score are ill-defined and being set to 0.0 in labels with no predicted samples. Use `zero_division` parameter to control this behavior.\n",
            "  _warn_prf(average, modifier, msg_start, len(result))\n",
            "Evaluate Validation: 100%|██████████| 2/2 [00:00<00:00,  7.33it/s]\n",
            "/usr/local/lib/python3.10/dist-packages/sklearn/metrics/_classification.py:1344: UndefinedMetricWarning: Precision is ill-defined and being set to 0.0 due to no predicted samples. Use `zero_division` parameter to control this behavior.\n",
            "  _warn_prf(average, modifier, msg_start, len(result))\n",
            "/usr/local/lib/python3.10/dist-packages/sklearn/metrics/_classification.py:1344: UndefinedMetricWarning: Precision and F-score are ill-defined and being set to 0.0 in labels with no predicted samples. Use `zero_division` parameter to control this behavior.\n",
            "  _warn_prf(average, modifier, msg_start, len(result))\n",
            "/usr/local/lib/python3.10/dist-packages/sklearn/metrics/_classification.py:1344: UndefinedMetricWarning: Precision and F-score are ill-defined and being set to 0.0 in labels with no predicted samples. Use `zero_division` parameter to control this behavior.\n",
            "  _warn_prf(average, modifier, msg_start, len(result))\n",
            "/usr/local/lib/python3.10/dist-packages/sklearn/metrics/_classification.py:1344: UndefinedMetricWarning: Precision and F-score are ill-defined and being set to 0.0 in labels with no predicted samples. Use `zero_division` parameter to control this behavior.\n",
            "  _warn_prf(average, modifier, msg_start, len(result))\n"
          ]
        },
        {
          "output_type": "stream",
          "name": "stdout",
          "text": [
            "Epoch 21/50\n",
            "Train - Loss: 5.6523, Accuracy: 0.5145, Precision: 0.0000, Recall: 0.0000, AUC: 0.0281\n",
            "Val - Loss: 5.5586, Accuracy: 0.5152, Precision: 0.0000, Recall: 0.0000, AUC: 0.0564\n"
          ]
        },
        {
          "output_type": "stream",
          "name": "stderr",
          "text": [
            "Epoch 22/50, Train: 100%|██████████| 8/8 [00:04<00:00,  1.83it/s]\n",
            "Epoch 22/50, Validation: 100%|██████████| 2/2 [00:00<00:00,  4.78it/s]\n",
            "Evaluate Train: 100%|██████████| 8/8 [00:02<00:00,  2.85it/s]\n",
            "Evaluate Validation: 100%|██████████| 2/2 [00:00<00:00,  7.40it/s]\n"
          ]
        },
        {
          "output_type": "stream",
          "name": "stdout",
          "text": [
            "Epoch 22/50\n",
            "Train - Loss: 5.2051, Accuracy: 0.9339, Precision: 0.9393, Recall: 0.9236, AUC: 0.3545\n",
            "Val - Loss: 5.1309, Accuracy: 0.9026, Precision: 0.9064, Recall: 0.8912, AUC: 0.3600\n"
          ]
        },
        {
          "output_type": "stream",
          "name": "stderr",
          "text": [
            "Epoch 23/50, Train: 100%|██████████| 8/8 [00:03<00:00,  2.21it/s]\n",
            "Epoch 23/50, Validation: 100%|██████████| 2/2 [00:00<00:00,  4.80it/s]\n",
            "Evaluate Train: 100%|██████████| 8/8 [00:01<00:00,  6.60it/s]\n",
            "Evaluate Validation: 100%|██████████| 2/2 [00:01<00:00,  1.52it/s]\n"
          ]
        },
        {
          "output_type": "stream",
          "name": "stdout",
          "text": [
            "Epoch 23/50\n",
            "Train - Loss: 5.0137, Accuracy: 0.9512, Precision: 0.9799, Recall: 0.9183, AUC: 0.4840\n",
            "Val - Loss: 5.0352, Accuracy: 0.9331, Precision: 0.9769, Recall: 0.8828, AUC: 0.4757\n"
          ]
        },
        {
          "output_type": "stream",
          "name": "stderr",
          "text": [
            "Epoch 24/50, Train: 100%|██████████| 8/8 [00:05<00:00,  1.40it/s]\n",
            "Epoch 24/50, Validation: 100%|██████████| 2/2 [00:00<00:00,  3.45it/s]\n",
            "Evaluate Train: 100%|██████████| 8/8 [00:02<00:00,  2.77it/s]\n",
            "Evaluate Validation: 100%|██████████| 2/2 [00:00<00:00,  7.36it/s]\n"
          ]
        },
        {
          "output_type": "stream",
          "name": "stdout",
          "text": [
            "Epoch 24/50\n",
            "Train - Loss: 4.9561, Accuracy: 0.9695, Precision: 0.9807, Recall: 0.9560, AUC: 0.7425\n",
            "Val - Loss: 5.0137, Accuracy: 0.9391, Precision: 0.9524, Recall: 0.9205, AUC: 0.7244\n"
          ]
        },
        {
          "output_type": "stream",
          "name": "stderr",
          "text": [
            "Epoch 25/50, Train: 100%|██████████| 8/8 [00:04<00:00,  1.86it/s]\n",
            "Epoch 25/50, Validation: 100%|██████████| 2/2 [00:00<00:00,  4.79it/s]\n",
            "Evaluate Train: 100%|██████████| 8/8 [00:02<00:00,  2.86it/s]\n",
            "Evaluate Validation: 100%|██████████| 2/2 [00:00<00:00,  7.41it/s]\n"
          ]
        },
        {
          "output_type": "stream",
          "name": "stdout",
          "text": [
            "Epoch 25/50\n",
            "Train - Loss: 4.9204, Accuracy: 0.9746, Precision: 0.9881, Recall: 0.9592, AUC: 0.8035\n",
            "Val - Loss: 5.0000, Accuracy: 0.9391, Precision: 0.9644, Recall: 0.9079, AUC: 0.7782\n"
          ]
        },
        {
          "output_type": "stream",
          "name": "stderr",
          "text": [
            "Epoch 26/50, Train: 100%|██████████| 8/8 [00:03<00:00,  2.18it/s]\n",
            "Epoch 26/50, Validation: 100%|██████████| 2/2 [00:00<00:00,  4.71it/s]\n",
            "Evaluate Train: 100%|██████████| 8/8 [00:01<00:00,  6.65it/s]\n",
            "Evaluate Validation: 100%|██████████| 2/2 [00:01<00:00,  1.53it/s]\n"
          ]
        },
        {
          "output_type": "stream",
          "name": "stdout",
          "text": [
            "Epoch 26/50\n",
            "Train - Loss: 4.8921, Accuracy: 0.9807, Precision: 0.9914, Recall: 0.9686, AUC: 0.6330\n",
            "Val - Loss: 5.0020, Accuracy: 0.9412, Precision: 0.9688, Recall: 0.9079, AUC: 0.6062\n",
            "Early stopping triggered.\n"
          ]
        },
        {
          "output_type": "stream",
          "name": "stderr",
          "text": [
            "Evaluate Test: 100%|██████████| 3/3 [00:01<00:00,  2.17it/s]\n"
          ]
        },
        {
          "output_type": "stream",
          "name": "stdout",
          "text": [
            "\n",
            "Accuracy: 0.9562, Precision: 0.9789, Recall: 0.9298, AUC: 0.7301\n",
            "Results saved to results/t_pretrained/ucsd/clip/classification_results.txt\n"
          ]
        },
        {
          "output_type": "stream",
          "name": "stderr",
          "text": [
            "/usr/local/lib/python3.10/dist-packages/keras/src/preprocessing/image.py:766: UserWarning: NumpyArrayIterator is set to use the data format convention \"channels_last\" (channels on axis 3), i.e. expected either 1, 3, or 4 channels on axis 3. However, it was passed an array with shape (526, 3, 224, 224) (224 channels).\n",
            "  warnings.warn(\n",
            "/usr/local/lib/python3.10/dist-packages/keras/src/preprocessing/image.py:766: UserWarning: NumpyArrayIterator is set to use the data format convention \"channels_last\" (channels on axis 3), i.e. expected either 1, 3, or 4 channels on axis 3. However, it was passed an array with shape (132, 3, 224, 224) (224 channels).\n",
            "  warnings.warn(\n",
            "/usr/local/lib/python3.10/dist-packages/keras/src/preprocessing/image.py:766: UserWarning: NumpyArrayIterator is set to use the data format convention \"channels_last\" (channels on axis 3), i.e. expected either 1, 3, or 4 channels on axis 3. However, it was passed an array with shape (165, 3, 224, 224) (224 channels).\n",
            "  warnings.warn(\n",
            "WARNING:matplotlib.image:Clipping input data to the valid range for imshow with RGB data ([0..1] for floats or [0..255] for integers).\n",
            "WARNING:matplotlib.image:Clipping input data to the valid range for imshow with RGB data ([0..1] for floats or [0..255] for integers).\n",
            "WARNING:matplotlib.image:Clipping input data to the valid range for imshow with RGB data ([0..1] for floats or [0..255] for integers).\n",
            "WARNING:matplotlib.image:Clipping input data to the valid range for imshow with RGB data ([0..1] for floats or [0..255] for integers).\n",
            "WARNING:matplotlib.image:Clipping input data to the valid range for imshow with RGB data ([0..1] for floats or [0..255] for integers).\n",
            "WARNING:matplotlib.image:Clipping input data to the valid range for imshow with RGB data ([0..1] for floats or [0..255] for integers).\n"
          ]
        },
        {
          "output_type": "stream",
          "name": "stdout",
          "text": [
            "Results saved to results/visualization/t_pretrained/ori/clip/images/cxr_images.png\n",
            "NVIDIA library configured successfully.\n"
          ]
        },
        {
          "output_type": "stream",
          "name": "stderr",
          "text": [
            "Epoch 1/50, Train: 100%|██████████| 3/3 [00:01<00:00,  2.17it/s]\n",
            "Epoch 1/50, Validation: 100%|██████████| 1/1 [00:00<00:00,  8.55it/s]\n",
            "Evaluate Train: 100%|██████████| 3/3 [00:00<00:00, 10.01it/s]\n",
            "/usr/local/lib/python3.10/dist-packages/sklearn/metrics/_classification.py:1344: UndefinedMetricWarning: Precision and F-score are ill-defined and being set to 0.0 in labels with no predicted samples. Use `zero_division` parameter to control this behavior.\n",
            "  _warn_prf(average, modifier, msg_start, len(result))\n",
            "/usr/local/lib/python3.10/dist-packages/sklearn/metrics/_classification.py:1344: UndefinedMetricWarning: Precision and F-score are ill-defined and being set to 0.0 in labels with no predicted samples. Use `zero_division` parameter to control this behavior.\n",
            "  _warn_prf(average, modifier, msg_start, len(result))\n",
            "/usr/local/lib/python3.10/dist-packages/sklearn/metrics/_classification.py:1344: UndefinedMetricWarning: Precision and F-score are ill-defined and being set to 0.0 in labels with no predicted samples. Use `zero_division` parameter to control this behavior.\n",
            "  _warn_prf(average, modifier, msg_start, len(result))\n",
            "Evaluate Validation: 100%|██████████| 1/1 [00:00<00:00, 13.10it/s]\n",
            "/usr/local/lib/python3.10/dist-packages/sklearn/metrics/_classification.py:1344: UndefinedMetricWarning: Precision and F-score are ill-defined and being set to 0.0 in labels with no predicted samples. Use `zero_division` parameter to control this behavior.\n",
            "  _warn_prf(average, modifier, msg_start, len(result))\n",
            "/usr/local/lib/python3.10/dist-packages/sklearn/metrics/_classification.py:1344: UndefinedMetricWarning: Precision and F-score are ill-defined and being set to 0.0 in labels with no predicted samples. Use `zero_division` parameter to control this behavior.\n",
            "  _warn_prf(average, modifier, msg_start, len(result))\n",
            "/usr/local/lib/python3.10/dist-packages/sklearn/metrics/_classification.py:1344: UndefinedMetricWarning: Precision and F-score are ill-defined and being set to 0.0 in labels with no predicted samples. Use `zero_division` parameter to control this behavior.\n",
            "  _warn_prf(average, modifier, msg_start, len(result))\n"
          ]
        },
        {
          "output_type": "stream",
          "name": "stdout",
          "text": [
            "Epoch 1/50\n",
            "Train - Loss: 5.1081, Accuracy: 0.4905, Precision: 0.4905, Recall: 1.0000, AUC: 0.7151\n",
            "Val - Loss: 5.0039, Accuracy: 0.4924, Precision: 0.4924, Recall: 1.0000, AUC: 0.7312\n"
          ]
        },
        {
          "output_type": "stream",
          "name": "stderr",
          "text": [
            "Epoch 2/50, Train: 100%|██████████| 3/3 [00:01<00:00,  1.73it/s]\n",
            "Epoch 2/50, Validation: 100%|██████████| 1/1 [00:00<00:00,  8.63it/s]\n",
            "Evaluate Train: 100%|██████████| 3/3 [00:00<00:00, 10.17it/s]\n",
            "/usr/local/lib/python3.10/dist-packages/sklearn/metrics/_classification.py:1344: UndefinedMetricWarning: Precision is ill-defined and being set to 0.0 due to no predicted samples. Use `zero_division` parameter to control this behavior.\n",
            "  _warn_prf(average, modifier, msg_start, len(result))\n",
            "/usr/local/lib/python3.10/dist-packages/sklearn/metrics/_classification.py:1344: UndefinedMetricWarning: Precision and F-score are ill-defined and being set to 0.0 in labels with no predicted samples. Use `zero_division` parameter to control this behavior.\n",
            "  _warn_prf(average, modifier, msg_start, len(result))\n",
            "/usr/local/lib/python3.10/dist-packages/sklearn/metrics/_classification.py:1344: UndefinedMetricWarning: Precision and F-score are ill-defined and being set to 0.0 in labels with no predicted samples. Use `zero_division` parameter to control this behavior.\n",
            "  _warn_prf(average, modifier, msg_start, len(result))\n",
            "/usr/local/lib/python3.10/dist-packages/sklearn/metrics/_classification.py:1344: UndefinedMetricWarning: Precision and F-score are ill-defined and being set to 0.0 in labels with no predicted samples. Use `zero_division` parameter to control this behavior.\n",
            "  _warn_prf(average, modifier, msg_start, len(result))\n",
            "Evaluate Validation: 100%|██████████| 1/1 [00:00<00:00, 13.50it/s]\n",
            "/usr/local/lib/python3.10/dist-packages/sklearn/metrics/_classification.py:1344: UndefinedMetricWarning: Precision is ill-defined and being set to 0.0 due to no predicted samples. Use `zero_division` parameter to control this behavior.\n",
            "  _warn_prf(average, modifier, msg_start, len(result))\n",
            "/usr/local/lib/python3.10/dist-packages/sklearn/metrics/_classification.py:1344: UndefinedMetricWarning: Precision and F-score are ill-defined and being set to 0.0 in labels with no predicted samples. Use `zero_division` parameter to control this behavior.\n",
            "  _warn_prf(average, modifier, msg_start, len(result))\n",
            "/usr/local/lib/python3.10/dist-packages/sklearn/metrics/_classification.py:1344: UndefinedMetricWarning: Precision and F-score are ill-defined and being set to 0.0 in labels with no predicted samples. Use `zero_division` parameter to control this behavior.\n",
            "  _warn_prf(average, modifier, msg_start, len(result))\n",
            "/usr/local/lib/python3.10/dist-packages/sklearn/metrics/_classification.py:1344: UndefinedMetricWarning: Precision and F-score are ill-defined and being set to 0.0 in labels with no predicted samples. Use `zero_division` parameter to control this behavior.\n",
            "  _warn_prf(average, modifier, msg_start, len(result))\n"
          ]
        },
        {
          "output_type": "stream",
          "name": "stdout",
          "text": [
            "Epoch 2/50\n",
            "Train - Loss: 4.6484, Accuracy: 0.5095, Precision: 0.0000, Recall: 0.0000, AUC: 0.1604\n",
            "Val - Loss: 4.8867, Accuracy: 0.5076, Precision: 0.0000, Recall: 0.0000, AUC: 0.1216\n"
          ]
        },
        {
          "output_type": "stream",
          "name": "stderr",
          "text": [
            "Epoch 3/50, Train: 100%|██████████| 3/3 [00:00<00:00,  3.62it/s]\n",
            "Epoch 3/50, Validation: 100%|██████████| 1/1 [00:00<00:00,  8.72it/s]\n",
            "Evaluate Train: 100%|██████████| 3/3 [00:00<00:00,  9.92it/s]\n",
            "/usr/local/lib/python3.10/dist-packages/sklearn/metrics/_classification.py:1344: UndefinedMetricWarning: Precision and F-score are ill-defined and being set to 0.0 in labels with no predicted samples. Use `zero_division` parameter to control this behavior.\n",
            "  _warn_prf(average, modifier, msg_start, len(result))\n",
            "/usr/local/lib/python3.10/dist-packages/sklearn/metrics/_classification.py:1344: UndefinedMetricWarning: Precision and F-score are ill-defined and being set to 0.0 in labels with no predicted samples. Use `zero_division` parameter to control this behavior.\n",
            "  _warn_prf(average, modifier, msg_start, len(result))\n",
            "/usr/local/lib/python3.10/dist-packages/sklearn/metrics/_classification.py:1344: UndefinedMetricWarning: Precision and F-score are ill-defined and being set to 0.0 in labels with no predicted samples. Use `zero_division` parameter to control this behavior.\n",
            "  _warn_prf(average, modifier, msg_start, len(result))\n",
            "Evaluate Validation: 100%|██████████| 1/1 [00:00<00:00, 12.83it/s]\n",
            "/usr/local/lib/python3.10/dist-packages/sklearn/metrics/_classification.py:1344: UndefinedMetricWarning: Precision and F-score are ill-defined and being set to 0.0 in labels with no predicted samples. Use `zero_division` parameter to control this behavior.\n",
            "  _warn_prf(average, modifier, msg_start, len(result))\n",
            "/usr/local/lib/python3.10/dist-packages/sklearn/metrics/_classification.py:1344: UndefinedMetricWarning: Precision and F-score are ill-defined and being set to 0.0 in labels with no predicted samples. Use `zero_division` parameter to control this behavior.\n",
            "  _warn_prf(average, modifier, msg_start, len(result))\n",
            "/usr/local/lib/python3.10/dist-packages/sklearn/metrics/_classification.py:1344: UndefinedMetricWarning: Precision and F-score are ill-defined and being set to 0.0 in labels with no predicted samples. Use `zero_division` parameter to control this behavior.\n",
            "  _warn_prf(average, modifier, msg_start, len(result))\n"
          ]
        },
        {
          "output_type": "stream",
          "name": "stdout",
          "text": [
            "Epoch 3/50\n",
            "Train - Loss: 4.5638, Accuracy: 0.4905, Precision: 0.4905, Recall: 1.0000, AUC: 0.8668\n",
            "Val - Loss: 4.8594, Accuracy: 0.4924, Precision: 0.4924, Recall: 1.0000, AUC: 0.8659\n"
          ]
        },
        {
          "output_type": "stream",
          "name": "stderr",
          "text": [
            "Epoch 4/50, Train: 100%|██████████| 3/3 [00:01<00:00,  2.29it/s]\n",
            "Epoch 4/50, Validation: 100%|██████████| 1/1 [00:00<00:00,  8.54it/s]\n",
            "Evaluate Train: 100%|██████████| 3/3 [00:00<00:00,  9.79it/s]\n",
            "Evaluate Validation: 100%|██████████| 1/1 [00:00<00:00, 13.51it/s]\n",
            "/usr/local/lib/python3.10/dist-packages/sklearn/metrics/_classification.py:1344: UndefinedMetricWarning: Precision and F-score are ill-defined and being set to 0.0 in labels with no predicted samples. Use `zero_division` parameter to control this behavior.\n",
            "  _warn_prf(average, modifier, msg_start, len(result))\n",
            "/usr/local/lib/python3.10/dist-packages/sklearn/metrics/_classification.py:1344: UndefinedMetricWarning: Precision and F-score are ill-defined and being set to 0.0 in labels with no predicted samples. Use `zero_division` parameter to control this behavior.\n",
            "  _warn_prf(average, modifier, msg_start, len(result))\n",
            "/usr/local/lib/python3.10/dist-packages/sklearn/metrics/_classification.py:1344: UndefinedMetricWarning: Precision and F-score are ill-defined and being set to 0.0 in labels with no predicted samples. Use `zero_division` parameter to control this behavior.\n",
            "  _warn_prf(average, modifier, msg_start, len(result))\n"
          ]
        },
        {
          "output_type": "stream",
          "name": "stdout",
          "text": [
            "Epoch 4/50\n",
            "Train - Loss: 4.5553, Accuracy: 0.4962, Precision: 0.4933, Recall: 1.0000, AUC: 0.8661\n",
            "Val - Loss: 4.8281, Accuracy: 0.4924, Precision: 0.4924, Recall: 1.0000, AUC: 0.8682\n"
          ]
        },
        {
          "output_type": "stream",
          "name": "stderr",
          "text": [
            "Epoch 5/50, Train: 100%|██████████| 3/3 [00:01<00:00,  2.27it/s]\n",
            "Epoch 5/50, Validation: 100%|██████████| 1/1 [00:00<00:00,  8.64it/s]\n",
            "Evaluate Train: 100%|██████████| 3/3 [00:00<00:00, 10.10it/s]\n",
            "Evaluate Validation: 100%|██████████| 1/1 [00:00<00:00, 13.50it/s]\n"
          ]
        },
        {
          "output_type": "stream",
          "name": "stdout",
          "text": [
            "Epoch 5/50\n",
            "Train - Loss: 4.5039, Accuracy: 0.8137, Precision: 0.9762, Recall: 0.6357, AUC: 0.3232\n",
            "Val - Loss: 4.7891, Accuracy: 0.8258, Precision: 0.9773, Recall: 0.6615, AUC: 0.3522\n"
          ]
        },
        {
          "output_type": "stream",
          "name": "stderr",
          "text": [
            "Epoch 6/50, Train: 100%|██████████| 3/3 [00:01<00:00,  2.38it/s]\n",
            "Epoch 6/50, Validation: 100%|██████████| 1/1 [00:00<00:00,  8.24it/s]\n",
            "Evaluate Train: 100%|██████████| 3/3 [00:00<00:00, 10.18it/s]\n",
            "Evaluate Validation: 100%|██████████| 1/1 [00:00<00:00, 13.64it/s]\n"
          ]
        },
        {
          "output_type": "stream",
          "name": "stdout",
          "text": [
            "Epoch 6/50\n",
            "Train - Loss: 4.4440, Accuracy: 0.8251, Precision: 0.9560, Recall: 0.6744, AUC: 0.4908\n",
            "Val - Loss: 4.6914, Accuracy: 0.8333, Precision: 0.9778, Recall: 0.6769, AUC: 0.4830\n"
          ]
        },
        {
          "output_type": "stream",
          "name": "stderr",
          "text": [
            "Epoch 7/50, Train: 100%|██████████| 3/3 [00:01<00:00,  2.05it/s]\n",
            "Epoch 7/50, Validation: 100%|██████████| 1/1 [00:00<00:00,  8.54it/s]\n",
            "Evaluate Train: 100%|██████████| 3/3 [00:00<00:00, 10.12it/s]\n",
            "Evaluate Validation: 100%|██████████| 1/1 [00:00<00:00, 13.43it/s]\n"
          ]
        },
        {
          "output_type": "stream",
          "name": "stdout",
          "text": [
            "Epoch 7/50\n",
            "Train - Loss: 4.3672, Accuracy: 0.8099, Precision: 0.8990, Recall: 0.6899, AUC: 0.7002\n",
            "Val - Loss: 4.6484, Accuracy: 0.8409, Precision: 0.9400, Recall: 0.7231, AUC: 0.7313\n"
          ]
        },
        {
          "output_type": "stream",
          "name": "stderr",
          "text": [
            "Epoch 8/50, Train: 100%|██████████| 3/3 [00:00<00:00,  3.62it/s]\n",
            "Epoch 8/50, Validation: 100%|██████████| 1/1 [00:00<00:00,  1.11it/s]\n",
            "Evaluate Train: 100%|██████████| 3/3 [00:01<00:00,  2.24it/s]\n",
            "Evaluate Validation: 100%|██████████| 1/1 [00:00<00:00, 13.17it/s]\n"
          ]
        },
        {
          "output_type": "stream",
          "name": "stdout",
          "text": [
            "Epoch 8/50\n",
            "Train - Loss: 4.3893, Accuracy: 0.8308, Precision: 0.8930, Recall: 0.7442, AUC: 0.7480\n",
            "Val - Loss: 4.6250, Accuracy: 0.8258, Precision: 0.8750, Recall: 0.7538, AUC: 0.7990\n"
          ]
        },
        {
          "output_type": "stream",
          "name": "stderr",
          "text": [
            "Epoch 9/50, Train: 100%|██████████| 3/3 [00:00<00:00,  3.63it/s]\n",
            "Epoch 9/50, Validation: 100%|██████████| 1/1 [00:00<00:00,  8.62it/s]\n",
            "Evaluate Train: 100%|██████████| 3/3 [00:00<00:00,  6.64it/s]\n",
            "Evaluate Validation: 100%|██████████| 1/1 [00:00<00:00, 13.37it/s]\n"
          ]
        },
        {
          "output_type": "stream",
          "name": "stdout",
          "text": [
            "Epoch 9/50\n",
            "Train - Loss: 4.3398, Accuracy: 0.8365, Precision: 0.8468, Recall: 0.8140, AUC: 0.7842\n",
            "Val - Loss: 4.6094, Accuracy: 0.7803, Precision: 0.7727, Recall: 0.7846, AUC: 0.8129\n"
          ]
        },
        {
          "output_type": "stream",
          "name": "stderr",
          "text": [
            "Epoch 10/50, Train: 100%|██████████| 3/3 [00:01<00:00,  2.29it/s]\n",
            "Epoch 10/50, Validation: 100%|██████████| 1/1 [00:00<00:00,  8.70it/s]\n",
            "Evaluate Train: 100%|██████████| 3/3 [00:00<00:00, 10.10it/s]\n",
            "Evaluate Validation: 100%|██████████| 1/1 [00:00<00:00, 12.95it/s]\n"
          ]
        },
        {
          "output_type": "stream",
          "name": "stdout",
          "text": [
            "Epoch 10/50\n",
            "Train - Loss: 4.2826, Accuracy: 0.8555, Precision: 0.8991, Recall: 0.7946, AUC: 0.7691\n",
            "Val - Loss: 4.5938, Accuracy: 0.8258, Precision: 0.8500, Recall: 0.7846, AUC: 0.8166\n"
          ]
        },
        {
          "output_type": "stream",
          "name": "stderr",
          "text": [
            "Epoch 11/50, Train: 100%|██████████| 3/3 [00:00<00:00,  3.63it/s]\n",
            "Epoch 11/50, Validation: 100%|██████████| 1/1 [00:00<00:00,  8.56it/s]\n",
            "Evaluate Train: 100%|██████████| 3/3 [00:00<00:00,  6.11it/s]\n",
            "Evaluate Validation: 100%|██████████| 1/1 [00:00<00:00, 13.61it/s]\n"
          ]
        },
        {
          "output_type": "stream",
          "name": "stdout",
          "text": [
            "Epoch 11/50\n",
            "Train - Loss: 4.2513, Accuracy: 0.8631, Precision: 0.9515, Recall: 0.7597, AUC: 0.7278\n",
            "Val - Loss: 4.5625, Accuracy: 0.8561, Precision: 0.9600, Recall: 0.7385, AUC: 0.7599\n"
          ]
        },
        {
          "output_type": "stream",
          "name": "stderr",
          "text": [
            "Epoch 12/50, Train: 100%|██████████| 3/3 [00:02<00:00,  1.47it/s]\n",
            "Epoch 12/50, Validation: 100%|██████████| 1/1 [00:00<00:00,  8.44it/s]\n",
            "Evaluate Train: 100%|██████████| 3/3 [00:00<00:00, 10.05it/s]\n",
            "Evaluate Validation: 100%|██████████| 1/1 [00:00<00:00, 13.37it/s]\n"
          ]
        },
        {
          "output_type": "stream",
          "name": "stdout",
          "text": [
            "Epoch 12/50\n",
            "Train - Loss: 4.1654, Accuracy: 0.8536, Precision: 0.9945, Recall: 0.7054, AUC: 0.6241\n",
            "Val - Loss: 4.6172, Accuracy: 0.8409, Precision: 0.9783, Recall: 0.6923, AUC: 0.6666\n"
          ]
        },
        {
          "output_type": "stream",
          "name": "stderr",
          "text": [
            "Epoch 13/50, Train: 100%|██████████| 3/3 [00:01<00:00,  2.12it/s]\n",
            "Epoch 13/50, Validation: 100%|██████████| 1/1 [00:00<00:00,  8.73it/s]\n",
            "Evaluate Train: 100%|██████████| 3/3 [00:00<00:00, 10.15it/s]\n",
            "Evaluate Validation: 100%|██████████| 1/1 [00:00<00:00, 13.45it/s]\n"
          ]
        },
        {
          "output_type": "stream",
          "name": "stdout",
          "text": [
            "Epoch 13/50\n",
            "Train - Loss: 4.2520, Accuracy: 0.7928, Precision: 0.7159, Recall: 0.9574, AUC: 0.9104\n",
            "Val - Loss: 4.7070, Accuracy: 0.7348, Precision: 0.6667, Recall: 0.9231, AUC: 0.8549\n"
          ]
        },
        {
          "output_type": "stream",
          "name": "stderr",
          "text": [
            "Epoch 14/50, Train: 100%|██████████| 3/3 [00:01<00:00,  2.17it/s]\n",
            "Epoch 14/50, Validation: 100%|██████████| 1/1 [00:00<00:00,  8.49it/s]\n",
            "Evaluate Train: 100%|██████████| 3/3 [00:00<00:00,  9.86it/s]\n",
            "Evaluate Validation: 100%|██████████| 1/1 [00:00<00:00, 13.45it/s]\n"
          ]
        },
        {
          "output_type": "stream",
          "name": "stdout",
          "text": [
            "Epoch 14/50\n",
            "Train - Loss: 4.1790, Accuracy: 0.8251, Precision: 0.9940, Recall: 0.6473, AUC: 0.2389\n",
            "Val - Loss: 4.6562, Accuracy: 0.8258, Precision: 1.0000, Recall: 0.6462, AUC: 0.4048\n"
          ]
        },
        {
          "output_type": "stream",
          "name": "stderr",
          "text": [
            "Epoch 15/50, Train: 100%|██████████| 3/3 [00:01<00:00,  2.13it/s]\n",
            "Epoch 15/50, Validation: 100%|██████████| 1/1 [00:00<00:00,  8.60it/s]\n",
            "Evaluate Train: 100%|██████████| 3/3 [00:00<00:00, 10.05it/s]\n",
            "Evaluate Validation: 100%|██████████| 1/1 [00:00<00:00, 13.36it/s]\n"
          ]
        },
        {
          "output_type": "stream",
          "name": "stdout",
          "text": [
            "Epoch 15/50\n",
            "Train - Loss: 4.2344, Accuracy: 0.8213, Precision: 0.7455, Recall: 0.9651, AUC: 0.9356\n",
            "Val - Loss: 4.6641, Accuracy: 0.7121, Precision: 0.6517, Recall: 0.8923, AUC: 0.8656\n"
          ]
        },
        {
          "output_type": "stream",
          "name": "stderr",
          "text": [
            "Epoch 16/50, Train: 100%|██████████| 3/3 [00:02<00:00,  1.23it/s]\n",
            "Epoch 16/50, Validation: 100%|██████████| 1/1 [00:00<00:00,  8.58it/s]\n",
            "Evaluate Train: 100%|██████████| 3/3 [00:00<00:00, 10.15it/s]\n",
            "Evaluate Validation: 100%|██████████| 1/1 [00:00<00:00, 13.56it/s]\n"
          ]
        },
        {
          "output_type": "stream",
          "name": "stdout",
          "text": [
            "Epoch 16/50\n",
            "Train - Loss: 4.1693, Accuracy: 0.8916, Precision: 0.9951, Recall: 0.7829, AUC: 0.6375\n",
            "Val - Loss: 4.5938, Accuracy: 0.8409, Precision: 0.9583, Recall: 0.7077, AUC: 0.7279\n"
          ]
        },
        {
          "output_type": "stream",
          "name": "stderr",
          "text": [
            "Epoch 17/50, Train: 100%|██████████| 3/3 [00:00<00:00,  3.68it/s]\n",
            "Epoch 17/50, Validation: 100%|██████████| 1/1 [00:00<00:00,  8.77it/s]\n",
            "Evaluate Train: 100%|██████████| 3/3 [00:01<00:00,  2.56it/s]\n",
            "Evaluate Validation: 100%|██████████| 1/1 [00:00<00:00, 13.65it/s]\n"
          ]
        },
        {
          "output_type": "stream",
          "name": "stdout",
          "text": [
            "Epoch 17/50\n",
            "Train - Loss: 4.1829, Accuracy: 0.9373, Precision: 0.9956, Recall: 0.8760, AUC: 0.7218\n",
            "Val - Loss: 4.5820, Accuracy: 0.8409, Precision: 0.9074, Recall: 0.7538, AUC: 0.7644\n"
          ]
        },
        {
          "output_type": "stream",
          "name": "stderr",
          "text": [
            "Epoch 18/50, Train: 100%|██████████| 3/3 [00:01<00:00,  2.06it/s]\n",
            "Epoch 18/50, Validation: 100%|██████████| 1/1 [00:00<00:00,  8.71it/s]\n",
            "Evaluate Train: 100%|██████████| 3/3 [00:00<00:00, 10.18it/s]\n",
            "Evaluate Validation: 100%|██████████| 1/1 [00:00<00:00, 13.53it/s]\n"
          ]
        },
        {
          "output_type": "stream",
          "name": "stdout",
          "text": [
            "Epoch 18/50\n",
            "Train - Loss: 4.1276, Accuracy: 0.9430, Precision: 0.9222, Recall: 0.9651, AUC: 0.8879\n",
            "Val - Loss: 4.6406, Accuracy: 0.8030, Precision: 0.7671, Recall: 0.8615, AUC: 0.8388\n"
          ]
        },
        {
          "output_type": "stream",
          "name": "stderr",
          "text": [
            "Epoch 19/50, Train: 100%|██████████| 3/3 [00:01<00:00,  1.93it/s]\n",
            "Epoch 19/50, Validation: 100%|██████████| 1/1 [00:00<00:00,  8.61it/s]\n",
            "Evaluate Train: 100%|██████████| 3/3 [00:00<00:00, 10.20it/s]\n",
            "Evaluate Validation: 100%|██████████| 1/1 [00:00<00:00, 13.42it/s]\n"
          ]
        },
        {
          "output_type": "stream",
          "name": "stdout",
          "text": [
            "Epoch 19/50\n",
            "Train - Loss: 4.0326, Accuracy: 0.8840, Precision: 0.9950, Recall: 0.7674, AUC: 0.3939\n",
            "Val - Loss: 4.7344, Accuracy: 0.8333, Precision: 0.9778, Recall: 0.6769, AUC: 0.5727\n"
          ]
        },
        {
          "output_type": "stream",
          "name": "stderr",
          "text": [
            "Epoch 20/50, Train: 100%|██████████| 3/3 [00:01<00:00,  1.86it/s]\n",
            "Epoch 20/50, Validation: 100%|██████████| 1/1 [00:00<00:00,  8.72it/s]\n",
            "Evaluate Train: 100%|██████████| 3/3 [00:00<00:00, 10.19it/s]\n",
            "Evaluate Validation: 100%|██████████| 1/1 [00:00<00:00, 13.12it/s]\n"
          ]
        },
        {
          "output_type": "stream",
          "name": "stdout",
          "text": [
            "Epoch 20/50\n",
            "Train - Loss: 4.0664, Accuracy: 0.8422, Precision: 0.7566, Recall: 1.0000, AUC: 0.9905\n",
            "Val - Loss: 4.8984, Accuracy: 0.6439, Precision: 0.5900, Recall: 0.9077, AUC: 0.8596\n"
          ]
        },
        {
          "output_type": "stream",
          "name": "stderr",
          "text": [
            "Epoch 21/50, Train: 100%|██████████| 3/3 [00:02<00:00,  1.28it/s]\n",
            "Epoch 21/50, Validation: 100%|██████████| 1/1 [00:00<00:00,  8.42it/s]\n",
            "Evaluate Train: 100%|██████████| 3/3 [00:00<00:00, 10.05it/s]\n",
            "Evaluate Validation: 100%|██████████| 1/1 [00:00<00:00, 13.57it/s]\n"
          ]
        },
        {
          "output_type": "stream",
          "name": "stdout",
          "text": [
            "Epoch 21/50\n",
            "Train - Loss: 4.0443, Accuracy: 0.9125, Precision: 1.0000, Recall: 0.8217, AUC: 0.3149\n",
            "Val - Loss: 4.7617, Accuracy: 0.8409, Precision: 0.9783, Recall: 0.6923, AUC: 0.5279\n"
          ]
        },
        {
          "output_type": "stream",
          "name": "stderr",
          "text": [
            "Epoch 22/50, Train: 100%|██████████| 3/3 [00:01<00:00,  2.17it/s]\n",
            "Epoch 22/50, Validation: 100%|██████████| 1/1 [00:00<00:00,  8.51it/s]\n",
            "Evaluate Train: 100%|██████████| 3/3 [00:00<00:00, 10.05it/s]\n",
            "Evaluate Validation: 100%|██████████| 1/1 [00:00<00:00, 12.57it/s]\n"
          ]
        },
        {
          "output_type": "stream",
          "name": "stdout",
          "text": [
            "Epoch 22/50\n",
            "Train - Loss: 4.0221, Accuracy: 0.9848, Precision: 0.9960, Recall: 0.9729, AUC: 0.8614\n",
            "Val - Loss: 4.6484, Accuracy: 0.8258, Precision: 0.8281, Recall: 0.8154, AUC: 0.8197\n"
          ]
        },
        {
          "output_type": "stream",
          "name": "stderr",
          "text": [
            "Epoch 23/50, Train: 100%|██████████| 3/3 [00:02<00:00,  1.44it/s]\n",
            "Epoch 23/50, Validation: 100%|██████████| 1/1 [00:00<00:00,  8.75it/s]\n",
            "Evaluate Train: 100%|██████████| 3/3 [00:00<00:00, 10.07it/s]\n",
            "Evaluate Validation: 100%|██████████| 1/1 [00:00<00:00, 13.10it/s]\n"
          ]
        },
        {
          "output_type": "stream",
          "name": "stdout",
          "text": [
            "Epoch 23/50\n",
            "Train - Loss: 3.9935, Accuracy: 0.9905, Precision: 1.0000, Recall: 0.9806, AUC: 0.8833\n",
            "Val - Loss: 4.6641, Accuracy: 0.8258, Precision: 0.8281, Recall: 0.8154, AUC: 0.8096\n"
          ]
        },
        {
          "output_type": "stream",
          "name": "stderr",
          "text": [
            "Epoch 24/50, Train: 100%|██████████| 3/3 [00:01<00:00,  2.11it/s]\n",
            "Epoch 24/50, Validation: 100%|██████████| 1/1 [00:00<00:00,  7.82it/s]\n",
            "Evaluate Train: 100%|██████████| 3/3 [00:00<00:00, 10.04it/s]\n",
            "Evaluate Validation: 100%|██████████| 1/1 [00:00<00:00, 13.41it/s]\n"
          ]
        },
        {
          "output_type": "stream",
          "name": "stdout",
          "text": [
            "Epoch 24/50\n",
            "Train - Loss: 3.9473, Accuracy: 0.9791, Precision: 1.0000, Recall: 0.9574, AUC: 0.6206\n",
            "Val - Loss: 4.8047, Accuracy: 0.8258, Precision: 0.9200, Recall: 0.7077, AUC: 0.6855\n"
          ]
        },
        {
          "output_type": "stream",
          "name": "stderr",
          "text": [
            "Epoch 25/50, Train: 100%|██████████| 3/3 [00:01<00:00,  2.18it/s]\n",
            "Epoch 25/50, Validation: 100%|██████████| 1/1 [00:00<00:00,  8.54it/s]\n",
            "Evaluate Train: 100%|██████████| 3/3 [00:00<00:00, 10.19it/s]\n",
            "Evaluate Validation: 100%|██████████| 1/1 [00:00<00:00, 13.39it/s]\n"
          ]
        },
        {
          "output_type": "stream",
          "name": "stdout",
          "text": [
            "Epoch 25/50\n",
            "Train - Loss: 3.9430, Accuracy: 0.9981, Precision: 1.0000, Recall: 0.9961, AUC: 0.8779\n",
            "Val - Loss: 4.7539, Accuracy: 0.8258, Precision: 0.8750, Recall: 0.7538, AUC: 0.7785\n"
          ]
        },
        {
          "output_type": "stream",
          "name": "stderr",
          "text": [
            "Epoch 26/50, Train: 100%|██████████| 3/3 [00:00<00:00,  3.62it/s]\n",
            "Epoch 26/50, Validation: 100%|██████████| 1/1 [00:00<00:00,  8.54it/s]\n",
            "Evaluate Train: 100%|██████████| 3/3 [00:00<00:00,  6.10it/s]\n",
            "Evaluate Validation: 100%|██████████| 1/1 [00:00<00:00, 13.45it/s]\n"
          ]
        },
        {
          "output_type": "stream",
          "name": "stdout",
          "text": [
            "Epoch 26/50\n",
            "Train - Loss: 3.9167, Accuracy: 1.0000, Precision: 1.0000, Recall: 1.0000, AUC: 0.9771\n",
            "Val - Loss: 4.8125, Accuracy: 0.7500, Precision: 0.7222, Recall: 0.8000, AUC: 0.8000\n"
          ]
        },
        {
          "output_type": "stream",
          "name": "stderr",
          "text": [
            "Epoch 27/50, Train: 100%|██████████| 3/3 [00:01<00:00,  2.12it/s]\n",
            "Epoch 27/50, Validation: 100%|██████████| 1/1 [00:00<00:00,  8.76it/s]\n",
            "Evaluate Train: 100%|██████████| 3/3 [00:00<00:00, 10.13it/s]\n",
            "Evaluate Validation: 100%|██████████| 1/1 [00:00<00:00, 13.45it/s]\n"
          ]
        },
        {
          "output_type": "stream",
          "name": "stdout",
          "text": [
            "Epoch 27/50\n",
            "Train - Loss: 3.9124, Accuracy: 1.0000, Precision: 1.0000, Recall: 1.0000, AUC: 0.8047\n",
            "Val - Loss: 4.8672, Accuracy: 0.8258, Precision: 0.9200, Recall: 0.7077, AUC: 0.7549\n"
          ]
        },
        {
          "output_type": "stream",
          "name": "stderr",
          "text": [
            "Epoch 28/50, Train: 100%|██████████| 3/3 [00:01<00:00,  1.85it/s]\n",
            "Epoch 28/50, Validation: 100%|██████████| 1/1 [00:00<00:00,  8.62it/s]\n",
            "Evaluate Train: 100%|██████████| 3/3 [00:00<00:00, 10.08it/s]\n",
            "Evaluate Validation: 100%|██████████| 1/1 [00:00<00:00, 13.52it/s]\n"
          ]
        },
        {
          "output_type": "stream",
          "name": "stdout",
          "text": [
            "Epoch 28/50\n",
            "Train - Loss: 3.9115, Accuracy: 0.9981, Precision: 1.0000, Recall: 0.9961, AUC: 0.4369\n",
            "Val - Loss: 5.0469, Accuracy: 0.8106, Precision: 0.9167, Recall: 0.6769, AUC: 0.6414\n"
          ]
        },
        {
          "output_type": "stream",
          "name": "stderr",
          "text": [
            "Epoch 29/50, Train: 100%|██████████| 3/3 [00:01<00:00,  2.37it/s]\n",
            "Epoch 29/50, Validation: 100%|██████████| 1/1 [00:00<00:00,  8.66it/s]\n",
            "Evaluate Train: 100%|██████████| 3/3 [00:00<00:00, 10.13it/s]\n",
            "Evaluate Validation: 100%|██████████| 1/1 [00:00<00:00, 11.88it/s]\n"
          ]
        },
        {
          "output_type": "stream",
          "name": "stdout",
          "text": [
            "Epoch 29/50\n",
            "Train - Loss: 3.9043, Accuracy: 1.0000, Precision: 1.0000, Recall: 1.0000, AUC: 0.5219\n",
            "Val - Loss: 5.0195, Accuracy: 0.8182, Precision: 0.9184, Recall: 0.6923, AUC: 0.6661\n"
          ]
        },
        {
          "output_type": "stream",
          "name": "stderr",
          "text": [
            "Epoch 30/50, Train: 100%|██████████| 3/3 [00:01<00:00,  1.97it/s]\n",
            "Epoch 30/50, Validation: 100%|██████████| 1/1 [00:00<00:00,  8.44it/s]\n",
            "Evaluate Train: 100%|██████████| 3/3 [00:00<00:00, 10.13it/s]\n",
            "Evaluate Validation: 100%|██████████| 1/1 [00:00<00:00, 13.53it/s]\n"
          ]
        },
        {
          "output_type": "stream",
          "name": "stdout",
          "text": [
            "Epoch 30/50\n",
            "Train - Loss: 3.9245, Accuracy: 1.0000, Precision: 1.0000, Recall: 1.0000, AUC: 0.7063\n",
            "Val - Loss: 4.9531, Accuracy: 0.8258, Precision: 0.9038, Recall: 0.7231, AUC: 0.7309\n"
          ]
        },
        {
          "output_type": "stream",
          "name": "stderr",
          "text": [
            "Epoch 31/50, Train: 100%|██████████| 3/3 [00:01<00:00,  2.17it/s]\n",
            "Epoch 31/50, Validation: 100%|██████████| 1/1 [00:00<00:00,  8.61it/s]\n",
            "Evaluate Train: 100%|██████████| 3/3 [00:00<00:00, 10.20it/s]\n",
            "Evaluate Validation: 100%|██████████| 1/1 [00:00<00:00, 13.05it/s]\n"
          ]
        },
        {
          "output_type": "stream",
          "name": "stdout",
          "text": [
            "Epoch 31/50\n",
            "Train - Loss: 3.9466, Accuracy: 1.0000, Precision: 1.0000, Recall: 1.0000, AUC: 0.7868\n",
            "Val - Loss: 4.9336, Accuracy: 0.8333, Precision: 0.8909, Recall: 0.7538, AUC: 0.7573\n",
            "Early stopping triggered.\n"
          ]
        },
        {
          "output_type": "stream",
          "name": "stderr",
          "text": [
            "Evaluate Test: 100%|██████████| 1/1 [00:00<00:00, 10.41it/s]"
          ]
        },
        {
          "output_type": "stream",
          "name": "stdout",
          "text": [
            "\n",
            "Accuracy: 0.7758, Precision: 0.8667, Recall: 0.6420, AUC: 0.7204\n",
            "Results saved to results/t_pretrained/ori/clip/classification_results.txt\n"
          ]
        },
        {
          "output_type": "stream",
          "name": "stderr",
          "text": [
            "\n"
          ]
        },
        {
          "output_type": "display_data",
          "data": {
            "text/plain": [
              "<Figure size 640x480 with 0 Axes>"
            ]
          },
          "metadata": {}
        }
      ],
      "source": [
        "%run MedCLIP-pediatric/scripts/t_clip.py"
      ]
    },
    {
      "cell_type": "code",
      "execution_count": 1,
      "metadata": {
        "id": "XL4amIgw6aaP",
        "colab": {
          "base_uri": "https://localhost:8080/",
          "height": 1000
        },
        "outputId": "91f6ece6-9af5-42c3-c748-2fca3abcc12e"
      },
      "outputs": [
        {
          "output_type": "stream",
          "name": "stdout",
          "text": [
            "Google Drive is already mounted.\n"
          ]
        },
        {
          "output_type": "stream",
          "name": "stderr",
          "text": [
            "/usr/local/lib/python3.10/dist-packages/huggingface_hub/utils/_token.py:88: UserWarning: \n",
            "The secret `HF_TOKEN` does not exist in your Colab secrets.\n",
            "To authenticate with the Hugging Face Hub, create a token in your settings tab (https://huggingface.co/settings/tokens), set it as secret in your Google Colab and restart your session.\n",
            "You will be able to reuse this secret in all of your notebooks.\n",
            "Please note that authentication is recommended but still optional to access public models or datasets.\n",
            "  warnings.warn(\n",
            "/usr/local/lib/python3.10/dist-packages/keras/src/preprocessing/image.py:766: UserWarning: NumpyArrayIterator is set to use the data format convention \"channels_last\" (channels on axis 3), i.e. expected either 1, 3, or 4 channels on axis 3. However, it was passed an array with shape (1967, 1, 224, 224) (224 channels).\n",
            "  warnings.warn(\n",
            "/usr/local/lib/python3.10/dist-packages/keras/src/preprocessing/image.py:766: UserWarning: NumpyArrayIterator is set to use the data format convention \"channels_last\" (channels on axis 3), i.e. expected either 1, 3, or 4 channels on axis 3. However, it was passed an array with shape (493, 1, 224, 224) (224 channels).\n",
            "  warnings.warn(\n",
            "/usr/local/lib/python3.10/dist-packages/keras/src/preprocessing/image.py:766: UserWarning: NumpyArrayIterator is set to use the data format convention \"channels_last\" (channels on axis 3), i.e. expected either 1, 3, or 4 channels on axis 3. However, it was passed an array with shape (616, 1, 224, 224) (224 channels).\n",
            "  warnings.warn(\n"
          ]
        },
        {
          "output_type": "stream",
          "name": "stdout",
          "text": [
            "Results saved to results/visualization/t_pretrained/ucsd/medclip/images/cxr_images.png\n",
            "NVIDIA library configured successfully.\n"
          ]
        },
        {
          "output_type": "stream",
          "name": "stderr",
          "text": [
            "/usr/local/lib/python3.10/dist-packages/torch/functional.py:507: UserWarning: torch.meshgrid: in an upcoming release, it will be required to pass the indexing argument. (Triggered internally at ../aten/src/ATen/native/TensorShape.cpp:3549.)\n",
            "  return _VF.meshgrid(tensors, **kwargs)  # type: ignore[attr-defined]\n",
            "Some weights of the model checkpoint at microsoft/swin-tiny-patch4-window7-224 were not used when initializing SwinModel: ['classifier.weight', 'classifier.bias']\n",
            "- This IS expected if you are initializing SwinModel from the checkpoint of a model trained on another task or with another architecture (e.g. initializing a BertForSequenceClassification model from a BertForPreTraining model).\n",
            "- This IS NOT expected if you are initializing SwinModel from the checkpoint of a model that you expect to be exactly identical (initializing a BertForSequenceClassification model from a BertForSequenceClassification model).\n",
            "Some weights of the model checkpoint at emilyalsentzer/Bio_ClinicalBERT were not used when initializing BertModel: ['cls.predictions.decoder.weight', 'cls.predictions.transform.dense.bias', 'cls.seq_relationship.bias', 'cls.predictions.transform.LayerNorm.weight', 'cls.predictions.bias', 'cls.seq_relationship.weight', 'cls.predictions.transform.LayerNorm.bias', 'cls.predictions.transform.dense.weight']\n",
            "- This IS expected if you are initializing BertModel from the checkpoint of a model trained on another task or with another architecture (e.g. initializing a BertForSequenceClassification model from a BertForPreTraining model).\n",
            "- This IS NOT expected if you are initializing BertModel from the checkpoint of a model that you expect to be exactly identical (initializing a BertForSequenceClassification model from a BertForSequenceClassification model).\n"
          ]
        },
        {
          "output_type": "stream",
          "name": "stdout",
          "text": [
            "load model weight from: ./pretrained/medclip-vit\n"
          ]
        },
        {
          "output_type": "stream",
          "name": "stderr",
          "text": [
            "Epoch 1/50, Train: 100%|██████████| 8/8 [00:06<00:00,  1.15it/s]\n",
            "Epoch 1/50, Validation: 100%|██████████| 2/2 [00:01<00:00,  1.46it/s]\n",
            "Evaluate Train: 100%|██████████| 8/8 [00:04<00:00,  1.73it/s]\n",
            "Evaluate Validation: 100%|██████████| 2/2 [00:01<00:00,  1.44it/s]\n"
          ]
        },
        {
          "output_type": "stream",
          "name": "stdout",
          "text": [
            "Epoch 1/50\n",
            "Train - Loss: 5.5040, Accuracy: 0.3142, Precision: 0.2428, Recall: 0.1948, AUC: 0.2940\n",
            "Val - Loss: 5.5082, Accuracy: 0.3387, Precision: 0.2486, Recall: 0.1799, AUC: 0.3061\n"
          ]
        },
        {
          "output_type": "stream",
          "name": "stderr",
          "text": [
            "Epoch 2/50, Train: 100%|██████████| 8/8 [00:08<00:00,  1.11s/it]\n",
            "Epoch 2/50, Validation: 100%|██████████| 2/2 [00:01<00:00,  1.08it/s]\n",
            "Evaluate Train: 100%|██████████| 8/8 [00:04<00:00,  1.70it/s]\n",
            "Evaluate Validation: 100%|██████████| 2/2 [00:01<00:00,  1.57it/s]\n"
          ]
        },
        {
          "output_type": "stream",
          "name": "stdout",
          "text": [
            "Epoch 2/50\n",
            "Train - Loss: 5.4964, Accuracy: 0.3818, Precision: 0.3055, Recall: 0.2147, AUC: 0.4001\n",
            "Val - Loss: 5.5034, Accuracy: 0.4016, Precision: 0.3000, Recall: 0.1757, AUC: 0.4275\n"
          ]
        },
        {
          "output_type": "stream",
          "name": "stderr",
          "text": [
            "Epoch 3/50, Train: 100%|██████████| 8/8 [00:09<00:00,  1.18s/it]\n",
            "Epoch 3/50, Validation: 100%|██████████| 2/2 [00:01<00:00,  1.40it/s]\n",
            "Evaluate Train: 100%|██████████| 8/8 [00:06<00:00,  1.15it/s]\n",
            "Evaluate Validation: 100%|██████████| 2/2 [00:01<00:00,  1.48it/s]\n"
          ]
        },
        {
          "output_type": "stream",
          "name": "stdout",
          "text": [
            "Epoch 3/50\n",
            "Train - Loss: 5.4929, Accuracy: 0.3971, Precision: 0.3309, Recall: 0.2366, AUC: 0.4212\n",
            "Val - Loss: 5.5000, Accuracy: 0.4239, Precision: 0.3510, Recall: 0.2218, AUC: 0.4524\n"
          ]
        },
        {
          "output_type": "stream",
          "name": "stderr",
          "text": [
            "Epoch 4/50, Train: 100%|██████████| 8/8 [00:07<00:00,  1.08it/s]\n",
            "Epoch 4/50, Validation: 100%|██████████| 2/2 [00:01<00:00,  1.01it/s]\n",
            "Evaluate Train: 100%|██████████| 8/8 [00:05<00:00,  1.58it/s]\n",
            "Evaluate Validation: 100%|██████████| 2/2 [00:01<00:00,  1.05it/s]\n"
          ]
        },
        {
          "output_type": "stream",
          "name": "stdout",
          "text": [
            "Epoch 4/50\n",
            "Train - Loss: 5.4897, Accuracy: 0.3767, Precision: 0.3252, Recall: 0.2639, AUC: 0.3765\n",
            "Val - Loss: 5.4957, Accuracy: 0.4097, Precision: 0.3587, Recall: 0.2762, AUC: 0.4043\n"
          ]
        },
        {
          "output_type": "stream",
          "name": "stderr",
          "text": [
            "Epoch 5/50, Train: 100%|██████████| 8/8 [00:06<00:00,  1.16it/s]\n",
            "Epoch 5/50, Validation: 100%|██████████| 2/2 [00:01<00:00,  1.02it/s]\n",
            "Evaluate Train: 100%|██████████| 8/8 [00:04<00:00,  1.93it/s]\n",
            "Evaluate Validation: 100%|██████████| 2/2 [00:01<00:00,  1.40it/s]\n"
          ]
        },
        {
          "output_type": "stream",
          "name": "stdout",
          "text": [
            "Epoch 5/50\n",
            "Train - Loss: 5.4857, Accuracy: 0.3655, Precision: 0.3497, Recall: 0.3571, AUC: 0.3196\n",
            "Val - Loss: 5.4891, Accuracy: 0.3692, Precision: 0.3475, Recall: 0.3431, AUC: 0.3363\n"
          ]
        },
        {
          "output_type": "stream",
          "name": "stderr",
          "text": [
            "Epoch 6/50, Train: 100%|██████████| 8/8 [00:07<00:00,  1.10it/s]\n",
            "Epoch 6/50, Validation: 100%|██████████| 2/2 [00:00<00:00,  2.53it/s]\n",
            "Evaluate Train: 100%|██████████| 8/8 [00:05<00:00,  1.54it/s]\n",
            "Evaluate Validation: 100%|██████████| 2/2 [00:01<00:00,  1.97it/s]\n"
          ]
        },
        {
          "output_type": "stream",
          "name": "stdout",
          "text": [
            "Epoch 6/50\n",
            "Train - Loss: 5.4780, Accuracy: 0.3945, Precision: 0.4075, Recall: 0.5445, AUC: 0.2743\n",
            "Val - Loss: 5.4778, Accuracy: 0.3895, Precision: 0.4031, Recall: 0.5397, AUC: 0.2863\n"
          ]
        },
        {
          "output_type": "stream",
          "name": "stderr",
          "text": [
            "Epoch 7/50, Train: 100%|██████████| 8/8 [00:05<00:00,  1.38it/s]\n",
            "Epoch 7/50, Validation: 100%|██████████| 2/2 [00:01<00:00,  1.57it/s]\n",
            "Evaluate Train: 100%|██████████| 8/8 [00:04<00:00,  1.75it/s]\n",
            "Evaluate Validation: 100%|██████████| 2/2 [00:01<00:00,  1.02it/s]\n"
          ]
        },
        {
          "output_type": "stream",
          "name": "stdout",
          "text": [
            "Epoch 7/50\n",
            "Train - Loss: 5.4641, Accuracy: 0.4677, Precision: 0.4709, Recall: 0.7791, AUC: 0.3292\n",
            "Val - Loss: 5.4570, Accuracy: 0.4665, Precision: 0.4692, Recall: 0.7657, AUC: 0.3399\n"
          ]
        },
        {
          "output_type": "stream",
          "name": "stderr",
          "text": [
            "Epoch 8/50, Train: 100%|██████████| 8/8 [00:06<00:00,  1.19it/s]\n",
            "Epoch 8/50, Validation: 100%|██████████| 2/2 [00:01<00:00,  1.50it/s]\n",
            "Evaluate Train: 100%|██████████| 8/8 [00:05<00:00,  1.42it/s]\n",
            "Evaluate Validation: 100%|██████████| 2/2 [00:01<00:00,  1.54it/s]\n"
          ]
        },
        {
          "output_type": "stream",
          "name": "stdout",
          "text": [
            "Epoch 8/50\n",
            "Train - Loss: 5.4388, Accuracy: 0.5943, Precision: 0.5490, Recall: 0.9215, AUC: 0.7212\n",
            "Val - Loss: 5.4164, Accuracy: 0.5923, Precision: 0.5482, Recall: 0.9038, AUC: 0.7190\n"
          ]
        },
        {
          "output_type": "stream",
          "name": "stderr",
          "text": [
            "Epoch 9/50, Train: 100%|██████████| 8/8 [00:06<00:00,  1.17it/s]\n",
            "Epoch 9/50, Validation: 100%|██████████| 2/2 [00:00<00:00,  2.48it/s]\n",
            "Evaluate Train: 100%|██████████| 8/8 [00:06<00:00,  1.17it/s]\n",
            "Evaluate Validation: 100%|██████████| 2/2 [00:01<00:00,  1.51it/s]\n"
          ]
        },
        {
          "output_type": "stream",
          "name": "stdout",
          "text": [
            "Epoch 9/50\n",
            "Train - Loss: 5.3866, Accuracy: 0.8932, Precision: 0.8736, Recall: 0.9120, AUC: 0.9634\n",
            "Val - Loss: 5.3307, Accuracy: 0.9067, Precision: 0.8876, Recall: 0.9247, AUC: 0.9617\n"
          ]
        },
        {
          "output_type": "stream",
          "name": "stderr",
          "text": [
            "Epoch 10/50, Train: 100%|██████████| 8/8 [00:06<00:00,  1.30it/s]\n",
            "Epoch 10/50, Validation: 100%|██████████| 2/2 [00:01<00:00,  1.38it/s]\n",
            "Evaluate Train: 100%|██████████| 8/8 [00:04<00:00,  1.75it/s]\n",
            "Evaluate Validation: 100%|██████████| 2/2 [00:01<00:00,  1.39it/s]\n"
          ]
        },
        {
          "output_type": "stream",
          "name": "stdout",
          "text": [
            "Epoch 10/50\n",
            "Train - Loss: 5.2866, Accuracy: 0.9370, Precision: 0.9324, Recall: 0.9382, AUC: 0.9786\n",
            "Val - Loss: 5.1957, Accuracy: 0.9391, Precision: 0.9336, Recall: 0.9414, AUC: 0.9784\n"
          ]
        },
        {
          "output_type": "stream",
          "name": "stderr",
          "text": [
            "Epoch 11/50, Train: 100%|██████████| 8/8 [00:07<00:00,  1.04it/s]\n",
            "Epoch 11/50, Validation: 100%|██████████| 2/2 [00:01<00:00,  1.07it/s]\n",
            "Evaluate Train: 100%|██████████| 8/8 [00:05<00:00,  1.33it/s]\n",
            "Evaluate Validation: 100%|██████████| 2/2 [00:00<00:00,  2.16it/s]\n"
          ]
        },
        {
          "output_type": "stream",
          "name": "stdout",
          "text": [
            "Epoch 11/50\n",
            "Train - Loss: 5.1689, Accuracy: 0.9553, Precision: 0.9617, Recall: 0.9455, AUC: 0.9817\n",
            "Val - Loss: 5.0889, Accuracy: 0.9473, Precision: 0.9419, Recall: 0.9498, AUC: 0.9799\n"
          ]
        },
        {
          "output_type": "stream",
          "name": "stderr",
          "text": [
            "Epoch 12/50, Train: 100%|██████████| 8/8 [00:07<00:00,  1.05it/s]\n",
            "Epoch 12/50, Validation: 100%|██████████| 2/2 [00:01<00:00,  1.41it/s]\n",
            "Evaluate Train: 100%|██████████| 8/8 [00:05<00:00,  1.58it/s]\n",
            "Evaluate Validation: 100%|██████████| 2/2 [00:01<00:00,  1.09it/s]\n"
          ]
        },
        {
          "output_type": "stream",
          "name": "stdout",
          "text": [
            "Epoch 12/50\n",
            "Train - Loss: 5.0716, Accuracy: 0.9644, Precision: 0.9702, Recall: 0.9560, AUC: 0.9879\n",
            "Val - Loss: 4.9956, Accuracy: 0.9615, Precision: 0.9622, Recall: 0.9582, AUC: 0.9813\n"
          ]
        },
        {
          "output_type": "stream",
          "name": "stderr",
          "text": [
            "Epoch 13/50, Train: 100%|██████████| 8/8 [00:07<00:00,  1.14it/s]\n",
            "Epoch 13/50, Validation: 100%|██████████| 2/2 [00:00<00:00,  2.45it/s]\n",
            "Evaluate Train: 100%|██████████| 8/8 [00:05<00:00,  1.55it/s]\n",
            "Evaluate Validation: 100%|██████████| 2/2 [00:00<00:00,  2.54it/s]\n"
          ]
        },
        {
          "output_type": "stream",
          "name": "stdout",
          "text": [
            "Epoch 13/50\n",
            "Train - Loss: 4.9850, Accuracy: 0.9670, Precision: 0.9616, Recall: 0.9707, AUC: 0.9902\n",
            "Val - Loss: 4.9632, Accuracy: 0.9655, Precision: 0.9549, Recall: 0.9749, AUC: 0.9837\n"
          ]
        },
        {
          "output_type": "stream",
          "name": "stderr",
          "text": [
            "Epoch 14/50, Train: 100%|██████████| 8/8 [00:08<00:00,  1.01s/it]\n",
            "Epoch 14/50, Validation: 100%|██████████| 2/2 [00:00<00:00,  2.34it/s]\n",
            "Evaluate Train: 100%|██████████| 8/8 [00:04<00:00,  1.90it/s]\n",
            "Evaluate Validation: 100%|██████████| 2/2 [00:01<00:00,  1.53it/s]\n"
          ]
        },
        {
          "output_type": "stream",
          "name": "stdout",
          "text": [
            "Epoch 14/50\n",
            "Train - Loss: 4.9577, Accuracy: 0.9731, Precision: 0.9727, Recall: 0.9717, AUC: 0.9930\n",
            "Val - Loss: 4.9526, Accuracy: 0.9716, Precision: 0.9668, Recall: 0.9749, AUC: 0.9863\n"
          ]
        },
        {
          "output_type": "stream",
          "name": "stderr",
          "text": [
            "Epoch 15/50, Train: 100%|██████████| 8/8 [00:07<00:00,  1.04it/s]\n",
            "Epoch 15/50, Validation: 100%|██████████| 2/2 [00:01<00:00,  1.72it/s]\n",
            "Evaluate Train: 100%|██████████| 8/8 [00:04<00:00,  1.66it/s]\n",
            "Evaluate Validation: 100%|██████████| 2/2 [00:02<00:00,  1.04s/it]\n"
          ]
        },
        {
          "output_type": "stream",
          "name": "stdout",
          "text": [
            "Epoch 15/50\n",
            "Train - Loss: 4.9344, Accuracy: 0.9751, Precision: 0.9709, Recall: 0.9780, AUC: 0.9942\n",
            "Val - Loss: 4.9398, Accuracy: 0.9716, Precision: 0.9630, Recall: 0.9791, AUC: 0.9869\n"
          ]
        },
        {
          "output_type": "stream",
          "name": "stderr",
          "text": [
            "Epoch 16/50, Train: 100%|██████████| 8/8 [00:07<00:00,  1.14it/s]\n",
            "Epoch 16/50, Validation: 100%|██████████| 2/2 [00:01<00:00,  1.12it/s]\n",
            "Evaluate Train: 100%|██████████| 8/8 [00:05<00:00,  1.50it/s]\n",
            "Evaluate Validation: 100%|██████████| 2/2 [00:01<00:00,  1.23it/s]\n"
          ]
        },
        {
          "output_type": "stream",
          "name": "stdout",
          "text": [
            "Epoch 16/50\n",
            "Train - Loss: 4.9238, Accuracy: 0.9792, Precision: 0.9790, Recall: 0.9780, AUC: 0.9952\n",
            "Val - Loss: 4.9381, Accuracy: 0.9736, Precision: 0.9669, Recall: 0.9791, AUC: 0.9879\n"
          ]
        },
        {
          "output_type": "stream",
          "name": "stderr",
          "text": [
            "Epoch 17/50, Train: 100%|██████████| 8/8 [00:08<00:00,  1.03s/it]\n",
            "Epoch 17/50, Validation: 100%|██████████| 2/2 [00:01<00:00,  1.33it/s]\n",
            "Evaluate Train: 100%|██████████| 8/8 [00:05<00:00,  1.52it/s]\n",
            "Evaluate Validation: 100%|██████████| 2/2 [00:01<00:00,  1.26it/s]\n"
          ]
        },
        {
          "output_type": "stream",
          "name": "stdout",
          "text": [
            "Epoch 17/50\n",
            "Train - Loss: 4.9080, Accuracy: 0.9827, Precision: 0.9822, Recall: 0.9822, AUC: 0.9957\n",
            "Val - Loss: 4.9339, Accuracy: 0.9716, Precision: 0.9630, Recall: 0.9791, AUC: 0.9874\n"
          ]
        },
        {
          "output_type": "stream",
          "name": "stderr",
          "text": [
            "Epoch 18/50, Train: 100%|██████████| 8/8 [00:08<00:00,  1.11s/it]\n",
            "Epoch 18/50, Validation: 100%|██████████| 2/2 [00:01<00:00,  1.51it/s]\n",
            "Evaluate Train: 100%|██████████| 8/8 [00:03<00:00,  2.20it/s]\n",
            "Evaluate Validation: 100%|██████████| 2/2 [00:01<00:00,  1.47it/s]\n"
          ]
        },
        {
          "output_type": "stream",
          "name": "stdout",
          "text": [
            "Epoch 18/50\n",
            "Train - Loss: 4.9024, Accuracy: 0.9832, Precision: 0.9762, Recall: 0.9895, AUC: 0.9962\n",
            "Val - Loss: 4.9265, Accuracy: 0.9716, Precision: 0.9592, Recall: 0.9833, AUC: 0.9873\n"
          ]
        },
        {
          "output_type": "stream",
          "name": "stderr",
          "text": [
            "Epoch 19/50, Train: 100%|██████████| 8/8 [00:07<00:00,  1.06it/s]\n",
            "Epoch 19/50, Validation: 100%|██████████| 2/2 [00:00<00:00,  2.13it/s]\n",
            "Evaluate Train: 100%|██████████| 8/8 [00:04<00:00,  1.61it/s]\n",
            "Evaluate Validation: 100%|██████████| 2/2 [00:00<00:00,  2.48it/s]\n"
          ]
        },
        {
          "output_type": "stream",
          "name": "stdout",
          "text": [
            "Epoch 19/50\n",
            "Train - Loss: 4.8885, Accuracy: 0.9873, Precision: 0.9834, Recall: 0.9906, AUC: 0.9970\n",
            "Val - Loss: 4.9322, Accuracy: 0.9716, Precision: 0.9630, Recall: 0.9791, AUC: 0.9885\n"
          ]
        },
        {
          "output_type": "stream",
          "name": "stderr",
          "text": [
            "Epoch 20/50, Train: 100%|██████████| 8/8 [00:07<00:00,  1.01it/s]\n",
            "Epoch 20/50, Validation: 100%|██████████| 2/2 [00:02<00:00,  1.03s/it]\n",
            "Evaluate Train: 100%|██████████| 8/8 [00:04<00:00,  1.84it/s]\n",
            "Evaluate Validation: 100%|██████████| 2/2 [00:00<00:00,  2.38it/s]\n"
          ]
        },
        {
          "output_type": "stream",
          "name": "stdout",
          "text": [
            "Epoch 20/50\n",
            "Train - Loss: 4.8831, Accuracy: 0.9878, Precision: 0.9814, Recall: 0.9937, AUC: 0.9971\n",
            "Val - Loss: 4.9245, Accuracy: 0.9675, Precision: 0.9551, Recall: 0.9791, AUC: 0.9887\n"
          ]
        },
        {
          "output_type": "stream",
          "name": "stderr",
          "text": [
            "Epoch 21/50, Train: 100%|██████████| 8/8 [00:06<00:00,  1.24it/s]\n",
            "Epoch 21/50, Validation: 100%|██████████| 2/2 [00:00<00:00,  2.47it/s]\n",
            "Evaluate Train: 100%|██████████| 8/8 [00:05<00:00,  1.55it/s]\n",
            "Evaluate Validation: 100%|██████████| 2/2 [00:00<00:00,  2.47it/s]\n"
          ]
        },
        {
          "output_type": "stream",
          "name": "stdout",
          "text": [
            "Epoch 21/50\n",
            "Train - Loss: 4.8808, Accuracy: 0.9883, Precision: 0.9814, Recall: 0.9948, AUC: 0.9974\n",
            "Val - Loss: 4.9259, Accuracy: 0.9696, Precision: 0.9553, Recall: 0.9833, AUC: 0.9892\n"
          ]
        },
        {
          "output_type": "stream",
          "name": "stderr",
          "text": [
            "Epoch 22/50, Train: 100%|██████████| 8/8 [00:06<00:00,  1.31it/s]\n",
            "Epoch 22/50, Validation: 100%|██████████| 2/2 [00:02<00:00,  1.04s/it]\n",
            "Evaluate Train: 100%|██████████| 8/8 [00:04<00:00,  1.87it/s]\n",
            "Evaluate Validation: 100%|██████████| 2/2 [00:00<00:00,  2.48it/s]\n"
          ]
        },
        {
          "output_type": "stream",
          "name": "stdout",
          "text": [
            "Epoch 22/50\n",
            "Train - Loss: 4.8750, Accuracy: 0.9868, Precision: 0.9784, Recall: 0.9948, AUC: 0.9975\n",
            "Val - Loss: 4.9244, Accuracy: 0.9696, Precision: 0.9553, Recall: 0.9833, AUC: 0.9889\n"
          ]
        },
        {
          "output_type": "stream",
          "name": "stderr",
          "text": [
            "Epoch 23/50, Train: 100%|██████████| 8/8 [00:06<00:00,  1.19it/s]\n",
            "Epoch 23/50, Validation: 100%|██████████| 2/2 [00:00<00:00,  2.24it/s]\n",
            "Evaluate Train: 100%|██████████| 8/8 [00:06<00:00,  1.31it/s]\n",
            "Evaluate Validation: 100%|██████████| 2/2 [00:00<00:00,  2.59it/s]\n"
          ]
        },
        {
          "output_type": "stream",
          "name": "stdout",
          "text": [
            "Epoch 23/50\n",
            "Train - Loss: 4.8721, Accuracy: 0.9934, Precision: 0.9916, Recall: 0.9948, AUC: 0.9977\n",
            "Val - Loss: 4.9321, Accuracy: 0.9675, Precision: 0.9551, Recall: 0.9791, AUC: 0.9896\n"
          ]
        },
        {
          "output_type": "stream",
          "name": "stderr",
          "text": [
            "Epoch 24/50, Train: 100%|██████████| 8/8 [00:06<00:00,  1.16it/s]\n",
            "Epoch 24/50, Validation: 100%|██████████| 2/2 [00:00<00:00,  2.07it/s]\n",
            "Evaluate Train: 100%|██████████| 8/8 [00:04<00:00,  1.97it/s]\n",
            "Evaluate Validation: 100%|██████████| 2/2 [00:01<00:00,  1.04it/s]\n"
          ]
        },
        {
          "output_type": "stream",
          "name": "stdout",
          "text": [
            "Epoch 24/50\n",
            "Train - Loss: 4.8656, Accuracy: 0.9924, Precision: 0.9886, Recall: 0.9958, AUC: 0.9978\n",
            "Val - Loss: 4.9264, Accuracy: 0.9716, Precision: 0.9555, Recall: 0.9874, AUC: 0.9895\n"
          ]
        },
        {
          "output_type": "stream",
          "name": "stderr",
          "text": [
            "Epoch 25/50, Train: 100%|██████████| 8/8 [00:09<00:00,  1.21s/it]\n",
            "Epoch 25/50, Validation: 100%|██████████| 2/2 [00:01<00:00,  1.87it/s]\n",
            "Evaluate Train: 100%|██████████| 8/8 [00:04<00:00,  1.71it/s]\n",
            "Evaluate Validation: 100%|██████████| 2/2 [00:01<00:00,  1.23it/s]\n"
          ]
        },
        {
          "output_type": "stream",
          "name": "stdout",
          "text": [
            "Epoch 25/50\n",
            "Train - Loss: 4.8607, Accuracy: 0.9939, Precision: 0.9917, Recall: 0.9958, AUC: 0.9981\n",
            "Val - Loss: 4.9267, Accuracy: 0.9696, Precision: 0.9553, Recall: 0.9833, AUC: 0.9899\n"
          ]
        },
        {
          "output_type": "stream",
          "name": "stderr",
          "text": [
            "Epoch 26/50, Train: 100%|██████████| 8/8 [00:07<00:00,  1.12it/s]\n",
            "Epoch 26/50, Validation: 100%|██████████| 2/2 [00:01<00:00,  1.10it/s]\n",
            "Evaluate Train: 100%|██████████| 8/8 [00:03<00:00,  2.13it/s]\n",
            "Evaluate Validation: 100%|██████████| 2/2 [00:01<00:00,  1.63it/s]\n"
          ]
        },
        {
          "output_type": "stream",
          "name": "stdout",
          "text": [
            "Epoch 26/50\n",
            "Train - Loss: 4.8540, Accuracy: 0.9949, Precision: 0.9927, Recall: 0.9969, AUC: 0.9987\n",
            "Val - Loss: 4.9281, Accuracy: 0.9696, Precision: 0.9553, Recall: 0.9833, AUC: 0.9905\n"
          ]
        },
        {
          "output_type": "stream",
          "name": "stderr",
          "text": [
            "Epoch 27/50, Train: 100%|██████████| 8/8 [00:06<00:00,  1.15it/s]\n",
            "Epoch 27/50, Validation: 100%|██████████| 2/2 [00:01<00:00,  1.80it/s]\n",
            "Evaluate Train: 100%|██████████| 8/8 [00:06<00:00,  1.15it/s]\n",
            "Evaluate Validation: 100%|██████████| 2/2 [00:00<00:00,  2.51it/s]\n"
          ]
        },
        {
          "output_type": "stream",
          "name": "stdout",
          "text": [
            "Epoch 27/50\n",
            "Train - Loss: 4.8480, Accuracy: 0.9949, Precision: 0.9917, Recall: 0.9979, AUC: 0.9990\n",
            "Val - Loss: 4.9247, Accuracy: 0.9696, Precision: 0.9553, Recall: 0.9833, AUC: 0.9905\n",
            "Early stopping triggered.\n"
          ]
        },
        {
          "output_type": "stream",
          "name": "stderr",
          "text": [
            "Evaluate Test: 100%|██████████| 3/3 [00:01<00:00,  1.72it/s]\n"
          ]
        },
        {
          "output_type": "stream",
          "name": "stdout",
          "text": [
            "\n",
            "Accuracy: 0.9627, Precision: 0.9481, Recall: 0.9766, AUC: 0.9917\n",
            "Results saved to results/t_pretrained/ucsd/medclip/classification_results.txt\n"
          ]
        },
        {
          "output_type": "stream",
          "name": "stderr",
          "text": [
            "/usr/local/lib/python3.10/dist-packages/keras/src/preprocessing/image.py:766: UserWarning: NumpyArrayIterator is set to use the data format convention \"channels_last\" (channels on axis 3), i.e. expected either 1, 3, or 4 channels on axis 3. However, it was passed an array with shape (526, 1, 224, 224) (224 channels).\n",
            "  warnings.warn(\n",
            "/usr/local/lib/python3.10/dist-packages/keras/src/preprocessing/image.py:766: UserWarning: NumpyArrayIterator is set to use the data format convention \"channels_last\" (channels on axis 3), i.e. expected either 1, 3, or 4 channels on axis 3. However, it was passed an array with shape (132, 1, 224, 224) (224 channels).\n",
            "  warnings.warn(\n",
            "/usr/local/lib/python3.10/dist-packages/keras/src/preprocessing/image.py:766: UserWarning: NumpyArrayIterator is set to use the data format convention \"channels_last\" (channels on axis 3), i.e. expected either 1, 3, or 4 channels on axis 3. However, it was passed an array with shape (165, 1, 224, 224) (224 channels).\n",
            "  warnings.warn(\n",
            "Some weights of the model checkpoint at microsoft/swin-tiny-patch4-window7-224 were not used when initializing SwinModel: ['classifier.weight', 'classifier.bias']\n",
            "- This IS expected if you are initializing SwinModel from the checkpoint of a model trained on another task or with another architecture (e.g. initializing a BertForSequenceClassification model from a BertForPreTraining model).\n",
            "- This IS NOT expected if you are initializing SwinModel from the checkpoint of a model that you expect to be exactly identical (initializing a BertForSequenceClassification model from a BertForSequenceClassification model).\n"
          ]
        },
        {
          "output_type": "stream",
          "name": "stdout",
          "text": [
            "Results saved to results/visualization/t_pretrained/ori/medclip/images/cxr_images.png\n",
            "NVIDIA library configured successfully.\n"
          ]
        },
        {
          "output_type": "stream",
          "name": "stderr",
          "text": [
            "Some weights of the model checkpoint at emilyalsentzer/Bio_ClinicalBERT were not used when initializing BertModel: ['cls.predictions.decoder.weight', 'cls.predictions.transform.dense.bias', 'cls.seq_relationship.bias', 'cls.predictions.transform.LayerNorm.weight', 'cls.predictions.bias', 'cls.seq_relationship.weight', 'cls.predictions.transform.LayerNorm.bias', 'cls.predictions.transform.dense.weight']\n",
            "- This IS expected if you are initializing BertModel from the checkpoint of a model trained on another task or with another architecture (e.g. initializing a BertForSequenceClassification model from a BertForPreTraining model).\n",
            "- This IS NOT expected if you are initializing BertModel from the checkpoint of a model that you expect to be exactly identical (initializing a BertForSequenceClassification model from a BertForSequenceClassification model).\n"
          ]
        },
        {
          "output_type": "stream",
          "name": "stdout",
          "text": [
            "load model weight from: ./pretrained/medclip-vit\n"
          ]
        },
        {
          "output_type": "stream",
          "name": "stderr",
          "text": [
            "Epoch 1/50, Train: 100%|██████████| 3/3 [00:02<00:00,  1.01it/s]\n",
            "Epoch 1/50, Validation: 100%|██████████| 1/1 [00:00<00:00,  2.14it/s]\n",
            "Evaluate Train: 100%|██████████| 3/3 [00:02<00:00,  1.18it/s]\n",
            "Evaluate Validation: 100%|██████████| 1/1 [00:00<00:00,  1.08it/s]\n"
          ]
        },
        {
          "output_type": "stream",
          "name": "stdout",
          "text": [
            "Epoch 1/50\n",
            "Train - Loss: 4.5952, Accuracy: 0.4125, Precision: 0.4141, Recall: 0.4767, AUC: 0.3783\n",
            "Val - Loss: 4.8956, Accuracy: 0.4470, Precision: 0.4412, Recall: 0.4615, AUC: 0.4134\n"
          ]
        },
        {
          "output_type": "stream",
          "name": "stderr",
          "text": [
            "Epoch 2/50, Train: 100%|██████████| 3/3 [00:02<00:00,  1.08it/s]\n",
            "Epoch 2/50, Validation: 100%|██████████| 1/1 [00:01<00:00,  1.04s/it]\n",
            "Evaluate Train: 100%|██████████| 3/3 [00:02<00:00,  1.34it/s]\n",
            "Evaluate Validation: 100%|██████████| 1/1 [00:00<00:00,  1.01it/s]\n"
          ]
        },
        {
          "output_type": "stream",
          "name": "stdout",
          "text": [
            "Epoch 2/50\n",
            "Train - Loss: 4.5855, Accuracy: 0.4316, Precision: 0.4202, Recall: 0.4186, AUC: 0.3982\n",
            "Val - Loss: 4.8863, Accuracy: 0.4394, Precision: 0.4286, Recall: 0.4154, AUC: 0.4383\n"
          ]
        },
        {
          "output_type": "stream",
          "name": "stderr",
          "text": [
            "Epoch 3/50, Train: 100%|██████████| 3/3 [00:01<00:00,  1.59it/s]\n",
            "Epoch 3/50, Validation: 100%|██████████| 1/1 [00:00<00:00,  2.69it/s]\n",
            "Evaluate Train: 100%|██████████| 3/3 [00:01<00:00,  2.14it/s]\n",
            "Evaluate Validation: 100%|██████████| 1/1 [00:00<00:00,  1.32it/s]\n"
          ]
        },
        {
          "output_type": "stream",
          "name": "stdout",
          "text": [
            "Epoch 3/50\n",
            "Train - Loss: 4.5786, Accuracy: 0.4506, Precision: 0.4236, Recall: 0.3333, AUC: 0.4287\n",
            "Val - Loss: 4.8813, Accuracy: 0.4545, Precision: 0.4286, Recall: 0.3231, AUC: 0.4867\n"
          ]
        },
        {
          "output_type": "stream",
          "name": "stderr",
          "text": [
            "Epoch 4/50, Train: 100%|██████████| 3/3 [00:02<00:00,  1.09it/s]\n",
            "Epoch 4/50, Validation: 100%|██████████| 1/1 [00:00<00:00,  2.88it/s]\n",
            "Evaluate Train: 100%|██████████| 3/3 [00:01<00:00,  1.52it/s]\n",
            "Evaluate Validation: 100%|██████████| 1/1 [00:00<00:00,  2.65it/s]\n"
          ]
        },
        {
          "output_type": "stream",
          "name": "stdout",
          "text": [
            "Epoch 4/50\n",
            "Train - Loss: 4.5740, Accuracy: 0.4810, Precision: 0.4483, Recall: 0.2519, AUC: 0.4921\n",
            "Val - Loss: 4.8784, Accuracy: 0.5303, Precision: 0.5455, Recall: 0.2769, AUC: 0.5557\n"
          ]
        },
        {
          "output_type": "stream",
          "name": "stderr",
          "text": [
            "Epoch 5/50, Train: 100%|██████████| 3/3 [00:02<00:00,  1.23it/s]\n",
            "Epoch 5/50, Validation: 100%|██████████| 1/1 [00:00<00:00,  2.84it/s]\n",
            "Evaluate Train: 100%|██████████| 3/3 [00:01<00:00,  2.44it/s]\n",
            "Evaluate Validation: 100%|██████████| 1/1 [00:01<00:00,  1.04s/it]\n"
          ]
        },
        {
          "output_type": "stream",
          "name": "stdout",
          "text": [
            "Epoch 5/50\n",
            "Train - Loss: 4.5701, Accuracy: 0.5399, Precision: 0.5615, Recall: 0.2829, AUC: 0.5658\n",
            "Val - Loss: 4.8758, Accuracy: 0.5682, Precision: 0.6111, Recall: 0.3385, AUC: 0.6115\n"
          ]
        },
        {
          "output_type": "stream",
          "name": "stderr",
          "text": [
            "Epoch 6/50, Train: 100%|██████████| 3/3 [00:02<00:00,  1.34it/s]\n",
            "Epoch 6/50, Validation: 100%|██████████| 1/1 [00:00<00:00,  2.81it/s]\n",
            "Evaluate Train: 100%|██████████| 3/3 [00:01<00:00,  1.64it/s]\n",
            "Evaluate Validation: 100%|██████████| 1/1 [00:00<00:00,  2.67it/s]\n"
          ]
        },
        {
          "output_type": "stream",
          "name": "stdout",
          "text": [
            "Epoch 6/50\n",
            "Train - Loss: 4.5709, Accuracy: 0.6217, Precision: 0.7034, Recall: 0.3953, AUC: 0.6482\n",
            "Val - Loss: 4.8702, Accuracy: 0.6364, Precision: 0.7179, Recall: 0.4308, AUC: 0.6814\n"
          ]
        },
        {
          "output_type": "stream",
          "name": "stderr",
          "text": [
            "Epoch 7/50, Train: 100%|██████████| 3/3 [00:02<00:00,  1.32it/s]\n",
            "Epoch 7/50, Validation: 100%|██████████| 1/1 [00:00<00:00,  2.79it/s]\n",
            "Evaluate Train: 100%|██████████| 3/3 [00:01<00:00,  2.50it/s]\n",
            "Evaluate Validation: 100%|██████████| 1/1 [00:00<00:00,  1.05it/s]\n"
          ]
        },
        {
          "output_type": "stream",
          "name": "stdout",
          "text": [
            "Epoch 7/50\n",
            "Train - Loss: 4.5591, Accuracy: 0.6635, Precision: 0.6753, Recall: 0.6047, AUC: 0.7119\n",
            "Val - Loss: 4.8489, Accuracy: 0.6742, Precision: 0.6964, Recall: 0.6000, AUC: 0.7362\n"
          ]
        },
        {
          "output_type": "stream",
          "name": "stderr",
          "text": [
            "Epoch 8/50, Train: 100%|██████████| 3/3 [00:01<00:00,  1.66it/s]\n",
            "Epoch 8/50, Validation: 100%|██████████| 1/1 [00:00<00:00,  2.13it/s]\n",
            "Evaluate Train: 100%|██████████| 3/3 [00:01<00:00,  1.74it/s]\n",
            "Evaluate Validation: 100%|██████████| 1/1 [00:00<00:00,  2.20it/s]\n"
          ]
        },
        {
          "output_type": "stream",
          "name": "stdout",
          "text": [
            "Epoch 8/50\n",
            "Train - Loss: 4.5619, Accuracy: 0.6597, Precision: 0.6357, Recall: 0.7171, AUC: 0.7270\n",
            "Val - Loss: 4.8312, Accuracy: 0.6894, Precision: 0.6667, Recall: 0.7385, AUC: 0.7450\n"
          ]
        },
        {
          "output_type": "stream",
          "name": "stderr",
          "text": [
            "Epoch 9/50, Train: 100%|██████████| 3/3 [00:02<00:00,  1.18it/s]\n",
            "Epoch 9/50, Validation: 100%|██████████| 1/1 [00:00<00:00,  2.56it/s]\n",
            "Evaluate Train: 100%|██████████| 3/3 [00:01<00:00,  1.83it/s]\n",
            "Evaluate Validation: 100%|██████████| 1/1 [00:00<00:00,  2.70it/s]\n"
          ]
        },
        {
          "output_type": "stream",
          "name": "stdout",
          "text": [
            "Epoch 9/50\n",
            "Train - Loss: 4.5371, Accuracy: 0.6806, Precision: 0.6718, Recall: 0.6822, AUC: 0.7572\n",
            "Val - Loss: 4.8108, Accuracy: 0.6894, Precision: 0.6818, Recall: 0.6923, AUC: 0.7654\n"
          ]
        },
        {
          "output_type": "stream",
          "name": "stderr",
          "text": [
            "Epoch 10/50, Train: 100%|██████████| 3/3 [00:02<00:00,  1.25it/s]\n",
            "Epoch 10/50, Validation: 100%|██████████| 1/1 [00:00<00:00,  2.53it/s]\n",
            "Evaluate Train: 100%|██████████| 3/3 [00:01<00:00,  2.37it/s]\n",
            "Evaluate Validation: 100%|██████████| 1/1 [00:00<00:00,  3.09it/s]\n"
          ]
        },
        {
          "output_type": "stream",
          "name": "stdout",
          "text": [
            "Epoch 10/50\n",
            "Train - Loss: 4.5062, Accuracy: 0.7243, Precision: 0.7425, Recall: 0.6705, AUC: 0.7911\n",
            "Val - Loss: 4.7890, Accuracy: 0.7273, Precision: 0.7377, Recall: 0.6923, AUC: 0.7877\n"
          ]
        },
        {
          "output_type": "stream",
          "name": "stderr",
          "text": [
            "Epoch 11/50, Train: 100%|██████████| 3/3 [00:02<00:00,  1.12it/s]\n",
            "Epoch 11/50, Validation: 100%|██████████| 1/1 [00:00<00:00,  2.87it/s]\n",
            "Evaluate Train: 100%|██████████| 3/3 [00:02<00:00,  1.12it/s]\n",
            "Evaluate Validation: 100%|██████████| 1/1 [00:00<00:00,  2.40it/s]\n"
          ]
        },
        {
          "output_type": "stream",
          "name": "stdout",
          "text": [
            "Epoch 11/50\n",
            "Train - Loss: 4.4597, Accuracy: 0.7357, Precision: 0.7847, Recall: 0.6357, AUC: 0.8200\n",
            "Val - Loss: 4.7662, Accuracy: 0.7348, Precision: 0.7586, Recall: 0.6769, AUC: 0.8059\n"
          ]
        },
        {
          "output_type": "stream",
          "name": "stderr",
          "text": [
            "Epoch 12/50, Train: 100%|██████████| 3/3 [00:02<00:00,  1.23it/s]\n",
            "Epoch 12/50, Validation: 100%|██████████| 1/1 [00:00<00:00,  1.08it/s]\n",
            "Evaluate Train: 100%|██████████| 3/3 [00:01<00:00,  2.22it/s]\n",
            "Evaluate Validation: 100%|██████████| 1/1 [00:00<00:00,  2.99it/s]\n"
          ]
        },
        {
          "output_type": "stream",
          "name": "stdout",
          "text": [
            "Epoch 12/50\n",
            "Train - Loss: 4.4407, Accuracy: 0.7700, Precision: 0.8477, Recall: 0.6473, AUC: 0.8394\n",
            "Val - Loss: 4.7489, Accuracy: 0.7424, Precision: 0.8039, Recall: 0.6308, AUC: 0.8154\n"
          ]
        },
        {
          "output_type": "stream",
          "name": "stderr",
          "text": [
            "Epoch 13/50, Train: 100%|██████████| 3/3 [00:02<00:00,  1.33it/s]\n",
            "Epoch 13/50, Validation: 100%|██████████| 1/1 [00:00<00:00,  1.29it/s]\n",
            "Evaluate Train: 100%|██████████| 3/3 [00:01<00:00,  1.75it/s]\n",
            "Evaluate Validation: 100%|██████████| 1/1 [00:00<00:00,  2.02it/s]\n"
          ]
        },
        {
          "output_type": "stream",
          "name": "stdout",
          "text": [
            "Epoch 13/50\n",
            "Train - Loss: 4.4282, Accuracy: 0.7890, Precision: 0.8621, Recall: 0.6783, AUC: 0.8594\n",
            "Val - Loss: 4.7318, Accuracy: 0.7803, Precision: 0.8600, Recall: 0.6615, AUC: 0.8254\n"
          ]
        },
        {
          "output_type": "stream",
          "name": "stderr",
          "text": [
            "Epoch 14/50, Train: 100%|██████████| 3/3 [00:02<00:00,  1.39it/s]\n",
            "Epoch 14/50, Validation: 100%|██████████| 1/1 [00:00<00:00,  2.92it/s]\n",
            "Evaluate Train: 100%|██████████| 3/3 [00:01<00:00,  2.36it/s]\n",
            "Evaluate Validation: 100%|██████████| 1/1 [00:00<00:00,  1.19it/s]\n"
          ]
        },
        {
          "output_type": "stream",
          "name": "stdout",
          "text": [
            "Epoch 14/50\n",
            "Train - Loss: 4.3790, Accuracy: 0.8194, Precision: 0.8655, Recall: 0.7481, AUC: 0.8781\n",
            "Val - Loss: 4.7102, Accuracy: 0.7879, Precision: 0.8033, Recall: 0.7538, AUC: 0.8400\n"
          ]
        },
        {
          "output_type": "stream",
          "name": "stderr",
          "text": [
            "Epoch 15/50, Train: 100%|██████████| 3/3 [00:02<00:00,  1.40it/s]\n",
            "Epoch 15/50, Validation: 100%|██████████| 1/1 [00:00<00:00,  2.69it/s]\n",
            "Evaluate Train: 100%|██████████| 3/3 [00:01<00:00,  2.42it/s]\n",
            "Evaluate Validation: 100%|██████████| 1/1 [00:00<00:00,  1.05it/s]\n"
          ]
        },
        {
          "output_type": "stream",
          "name": "stdout",
          "text": [
            "Epoch 15/50\n",
            "Train - Loss: 4.3722, Accuracy: 0.8270, Precision: 0.8523, Recall: 0.7829, AUC: 0.8931\n",
            "Val - Loss: 4.6887, Accuracy: 0.7955, Precision: 0.7969, Recall: 0.7846, AUC: 0.8493\n"
          ]
        },
        {
          "output_type": "stream",
          "name": "stderr",
          "text": [
            "Epoch 16/50, Train: 100%|██████████| 3/3 [00:01<00:00,  1.63it/s]\n",
            "Epoch 16/50, Validation: 100%|██████████| 1/1 [00:00<00:00,  1.01it/s]\n",
            "Evaluate Train: 100%|██████████| 3/3 [00:01<00:00,  2.32it/s]\n",
            "Evaluate Validation: 100%|██████████| 1/1 [00:00<00:00,  2.81it/s]\n"
          ]
        },
        {
          "output_type": "stream",
          "name": "stdout",
          "text": [
            "Epoch 16/50\n",
            "Train - Loss: 4.3294, Accuracy: 0.8384, Precision: 0.8502, Recall: 0.8140, AUC: 0.9059\n",
            "Val - Loss: 4.6706, Accuracy: 0.7803, Precision: 0.7727, Recall: 0.7846, AUC: 0.8543\n"
          ]
        },
        {
          "output_type": "stream",
          "name": "stderr",
          "text": [
            "Epoch 17/50, Train: 100%|██████████| 3/3 [00:01<00:00,  1.52it/s]\n",
            "Epoch 17/50, Validation: 100%|██████████| 1/1 [00:01<00:00,  1.03s/it]\n",
            "Evaluate Train: 100%|██████████| 3/3 [00:02<00:00,  1.20it/s]\n",
            "Evaluate Validation: 100%|██████████| 1/1 [00:00<00:00,  2.57it/s]\n"
          ]
        },
        {
          "output_type": "stream",
          "name": "stdout",
          "text": [
            "Epoch 17/50\n",
            "Train - Loss: 4.3515, Accuracy: 0.8365, Precision: 0.8440, Recall: 0.8178, AUC: 0.9162\n",
            "Val - Loss: 4.6594, Accuracy: 0.7879, Precision: 0.7846, Recall: 0.7846, AUC: 0.8622\n"
          ]
        },
        {
          "output_type": "stream",
          "name": "stderr",
          "text": [
            "Epoch 18/50, Train: 100%|██████████| 3/3 [00:03<00:00,  1.28s/it]\n",
            "Epoch 18/50, Validation: 100%|██████████| 1/1 [00:00<00:00,  1.08it/s]\n",
            "Evaluate Train: 100%|██████████| 3/3 [00:01<00:00,  2.36it/s]\n",
            "Evaluate Validation: 100%|██████████| 1/1 [00:00<00:00,  1.06it/s]\n"
          ]
        },
        {
          "output_type": "stream",
          "name": "stdout",
          "text": [
            "Epoch 18/50\n",
            "Train - Loss: 4.2888, Accuracy: 0.8574, Precision: 0.8735, Recall: 0.8295, AUC: 0.9274\n",
            "Val - Loss: 4.6438, Accuracy: 0.8030, Precision: 0.8000, Recall: 0.8000, AUC: 0.8700\n"
          ]
        },
        {
          "output_type": "stream",
          "name": "stderr",
          "text": [
            "Epoch 19/50, Train: 100%|██████████| 3/3 [00:02<00:00,  1.11it/s]\n",
            "Epoch 19/50, Validation: 100%|██████████| 1/1 [00:00<00:00,  2.61it/s]\n",
            "Evaluate Train: 100%|██████████| 3/3 [00:01<00:00,  2.31it/s]\n",
            "Evaluate Validation: 100%|██████████| 1/1 [00:00<00:00,  2.56it/s]\n"
          ]
        },
        {
          "output_type": "stream",
          "name": "stdout",
          "text": [
            "Epoch 19/50\n",
            "Train - Loss: 4.2102, Accuracy: 0.8688, Precision: 0.8857, Recall: 0.8411, AUC: 0.9383\n",
            "Val - Loss: 4.6321, Accuracy: 0.8182, Precision: 0.8154, Recall: 0.8154, AUC: 0.8762\n"
          ]
        },
        {
          "output_type": "stream",
          "name": "stderr",
          "text": [
            "Epoch 20/50, Train: 100%|██████████| 3/3 [00:01<00:00,  1.50it/s]\n",
            "Epoch 20/50, Validation: 100%|██████████| 1/1 [00:00<00:00,  2.92it/s]\n",
            "Evaluate Train: 100%|██████████| 3/3 [00:02<00:00,  1.28it/s]\n",
            "Evaluate Validation: 100%|██████████| 1/1 [00:00<00:00,  2.66it/s]\n"
          ]
        },
        {
          "output_type": "stream",
          "name": "stdout",
          "text": [
            "Epoch 20/50\n",
            "Train - Loss: 4.2243, Accuracy: 0.8783, Precision: 0.8975, Recall: 0.8488, AUC: 0.9490\n",
            "Val - Loss: 4.6238, Accuracy: 0.8106, Precision: 0.8030, Recall: 0.8154, AUC: 0.8799\n"
          ]
        },
        {
          "output_type": "stream",
          "name": "stderr",
          "text": [
            "Epoch 21/50, Train: 100%|██████████| 3/3 [00:02<00:00,  1.44it/s]\n",
            "Epoch 21/50, Validation: 100%|██████████| 1/1 [00:00<00:00,  2.87it/s]\n",
            "Evaluate Train: 100%|██████████| 3/3 [00:02<00:00,  1.10it/s]\n",
            "Evaluate Validation: 100%|██████████| 1/1 [00:00<00:00,  2.62it/s]\n"
          ]
        },
        {
          "output_type": "stream",
          "name": "stdout",
          "text": [
            "Epoch 21/50\n",
            "Train - Loss: 4.2162, Accuracy: 0.8878, Precision: 0.9028, Recall: 0.8643, AUC: 0.9579\n",
            "Val - Loss: 4.6178, Accuracy: 0.8030, Precision: 0.7910, Recall: 0.8154, AUC: 0.8832\n"
          ]
        },
        {
          "output_type": "stream",
          "name": "stderr",
          "text": [
            "Epoch 22/50, Train: 100%|██████████| 3/3 [00:02<00:00,  1.11it/s]\n",
            "Epoch 22/50, Validation: 100%|██████████| 1/1 [00:00<00:00,  2.56it/s]\n",
            "Evaluate Train: 100%|██████████| 3/3 [00:01<00:00,  1.93it/s]\n",
            "Evaluate Validation: 100%|██████████| 1/1 [00:00<00:00,  2.97it/s]\n"
          ]
        },
        {
          "output_type": "stream",
          "name": "stdout",
          "text": [
            "Epoch 22/50\n",
            "Train - Loss: 4.2051, Accuracy: 0.8992, Precision: 0.8958, Recall: 0.8992, AUC: 0.9665\n",
            "Val - Loss: 4.6140, Accuracy: 0.8030, Precision: 0.7910, Recall: 0.8154, AUC: 0.8889\n"
          ]
        },
        {
          "output_type": "stream",
          "name": "stderr",
          "text": [
            "Epoch 23/50, Train: 100%|██████████| 3/3 [00:01<00:00,  1.62it/s]\n",
            "Epoch 23/50, Validation: 100%|██████████| 1/1 [00:01<00:00,  1.04s/it]\n",
            "Evaluate Train: 100%|██████████| 3/3 [00:02<00:00,  1.33it/s]\n",
            "Evaluate Validation: 100%|██████████| 1/1 [00:00<00:00,  3.00it/s]\n"
          ]
        },
        {
          "output_type": "stream",
          "name": "stdout",
          "text": [
            "Epoch 23/50\n",
            "Train - Loss: 4.1380, Accuracy: 0.9011, Precision: 0.8732, Recall: 0.9341, AUC: 0.9733\n",
            "Val - Loss: 4.6181, Accuracy: 0.7879, Precision: 0.7606, Recall: 0.8308, AUC: 0.8908\n"
          ]
        },
        {
          "output_type": "stream",
          "name": "stderr",
          "text": [
            "Epoch 24/50, Train: 100%|██████████| 3/3 [00:01<00:00,  1.71it/s]\n",
            "Epoch 24/50, Validation: 100%|██████████| 1/1 [00:00<00:00,  1.61it/s]\n",
            "Evaluate Train: 100%|██████████| 3/3 [00:01<00:00,  1.86it/s]\n",
            "Evaluate Validation: 100%|██████████| 1/1 [00:00<00:00,  2.73it/s]\n"
          ]
        },
        {
          "output_type": "stream",
          "name": "stdout",
          "text": [
            "Epoch 24/50\n",
            "Train - Loss: 4.1526, Accuracy: 0.9221, Precision: 0.9033, Recall: 0.9419, AUC: 0.9797\n",
            "Val - Loss: 4.6211, Accuracy: 0.7727, Precision: 0.7536, Recall: 0.8000, AUC: 0.8925\n"
          ]
        },
        {
          "output_type": "stream",
          "name": "stderr",
          "text": [
            "Epoch 25/50, Train: 100%|██████████| 3/3 [00:02<00:00,  1.49it/s]\n",
            "Epoch 25/50, Validation: 100%|██████████| 1/1 [00:00<00:00,  2.91it/s]\n",
            "Evaluate Train: 100%|██████████| 3/3 [00:01<00:00,  2.17it/s]\n",
            "Evaluate Validation: 100%|██████████| 1/1 [00:00<00:00,  1.12it/s]\n"
          ]
        },
        {
          "output_type": "stream",
          "name": "stdout",
          "text": [
            "Epoch 25/50\n",
            "Train - Loss: 4.1080, Accuracy: 0.9506, Precision: 0.9462, Recall: 0.9535, AUC: 0.9849\n",
            "Val - Loss: 4.6301, Accuracy: 0.7727, Precision: 0.7536, Recall: 0.8000, AUC: 0.8921\n"
          ]
        },
        {
          "output_type": "stream",
          "name": "stderr",
          "text": [
            "Epoch 26/50, Train: 100%|██████████| 3/3 [00:03<00:00,  1.01s/it]\n",
            "Epoch 26/50, Validation: 100%|██████████| 1/1 [00:00<00:00,  1.08it/s]\n",
            "Evaluate Train: 100%|██████████| 3/3 [00:01<00:00,  2.50it/s]\n",
            "Evaluate Validation: 100%|██████████| 1/1 [00:00<00:00,  2.59it/s]\n"
          ]
        },
        {
          "output_type": "stream",
          "name": "stdout",
          "text": [
            "Epoch 26/50\n",
            "Train - Loss: 4.1270, Accuracy: 0.9563, Precision: 0.9468, Recall: 0.9651, AUC: 0.9884\n",
            "Val - Loss: 4.6507, Accuracy: 0.7727, Precision: 0.7465, Recall: 0.8154, AUC: 0.8894\n"
          ]
        },
        {
          "output_type": "stream",
          "name": "stderr",
          "text": [
            "Epoch 27/50, Train: 100%|██████████| 3/3 [00:02<00:00,  1.43it/s]\n",
            "Epoch 27/50, Validation: 100%|██████████| 1/1 [00:00<00:00,  2.94it/s]\n",
            "Evaluate Train: 100%|██████████| 3/3 [00:02<00:00,  1.31it/s]\n",
            "Evaluate Validation: 100%|██████████| 1/1 [00:00<00:00,  1.10it/s]\n"
          ]
        },
        {
          "output_type": "stream",
          "name": "stdout",
          "text": [
            "Epoch 27/50\n",
            "Train - Loss: 4.0857, Accuracy: 0.9582, Precision: 0.9436, Recall: 0.9729, AUC: 0.9917\n",
            "Val - Loss: 4.6682, Accuracy: 0.7727, Precision: 0.7397, Recall: 0.8308, AUC: 0.8870\n",
            "Early stopping triggered.\n"
          ]
        },
        {
          "output_type": "stream",
          "name": "stderr",
          "text": [
            "Evaluate Test: 100%|██████████| 1/1 [00:00<00:00,  1.27it/s]"
          ]
        },
        {
          "output_type": "stream",
          "name": "stdout",
          "text": [
            "\n",
            "Accuracy: 0.7212, Precision: 0.7059, Recall: 0.7407, AUC: 0.8255\n",
            "Results saved to results/t_pretrained/ori/medclip/classification_results.txt\n"
          ]
        },
        {
          "output_type": "stream",
          "name": "stderr",
          "text": [
            "\n"
          ]
        },
        {
          "output_type": "display_data",
          "data": {
            "text/plain": [
              "<Figure size 640x480 with 0 Axes>"
            ]
          },
          "metadata": {}
        }
      ],
      "source": [
        "%run MedCLIP-pediatric/scripts/t_medclip.py"
      ]
    },
    {
      "cell_type": "code",
      "execution_count": 2,
      "metadata": {
        "colab": {
          "base_uri": "https://localhost:8080/",
          "height": 766
        },
        "id": "yEJjZBwxabMy",
        "outputId": "ec1bc32f-4439-46a7-d9eb-3ece0524e366"
      },
      "outputs": [
        {
          "output_type": "stream",
          "name": "stdout",
          "text": [
            "Google Drive is already mounted.\n"
          ]
        },
        {
          "output_type": "stream",
          "name": "stderr",
          "text": [
            "/usr/local/lib/python3.10/dist-packages/keras/src/preprocessing/image.py:766: UserWarning: NumpyArrayIterator is set to use the data format convention \"channels_last\" (channels on axis 3), i.e. expected either 1, 3, or 4 channels on axis 3. However, it was passed an array with shape (1967, 3, 224, 224) (224 channels).\n",
            "  warnings.warn(\n",
            "/usr/local/lib/python3.10/dist-packages/keras/src/preprocessing/image.py:766: UserWarning: NumpyArrayIterator is set to use the data format convention \"channels_last\" (channels on axis 3), i.e. expected either 1, 3, or 4 channels on axis 3. However, it was passed an array with shape (493, 3, 224, 224) (224 channels).\n",
            "  warnings.warn(\n",
            "/usr/local/lib/python3.10/dist-packages/keras/src/preprocessing/image.py:766: UserWarning: NumpyArrayIterator is set to use the data format convention \"channels_last\" (channels on axis 3), i.e. expected either 1, 3, or 4 channels on axis 3. However, it was passed an array with shape (616, 3, 224, 224) (224 channels).\n",
            "  warnings.warn(\n",
            "WARNING:matplotlib.image:Clipping input data to the valid range for imshow with RGB data ([0..1] for floats or [0..255] for integers).\n",
            "WARNING:matplotlib.image:Clipping input data to the valid range for imshow with RGB data ([0..1] for floats or [0..255] for integers).\n",
            "WARNING:matplotlib.image:Clipping input data to the valid range for imshow with RGB data ([0..1] for floats or [0..255] for integers).\n",
            "WARNING:matplotlib.image:Clipping input data to the valid range for imshow with RGB data ([0..1] for floats or [0..255] for integers).\n",
            "WARNING:matplotlib.image:Clipping input data to the valid range for imshow with RGB data ([0..1] for floats or [0..255] for integers).\n",
            "WARNING:matplotlib.image:Clipping input data to the valid range for imshow with RGB data ([0..1] for floats or [0..255] for integers).\n"
          ]
        },
        {
          "output_type": "stream",
          "name": "stdout",
          "text": [
            "Results saved to results/visualization/zero_shot_finetune/ucsd/clip/images/cxr_images.png\n",
            "NVIDIA library configured successfully.\n"
          ]
        },
        {
          "output_type": "stream",
          "name": "stderr",
          "text": [
            "Evaluate Train: 100%|██████████| 8/8 [00:02<00:00,  3.79it/s]\n",
            "Evaluate Validation: 100%|██████████| 2/2 [00:00<00:00,  7.35it/s]\n",
            "Evaluate Test: 100%|██████████| 3/3 [00:00<00:00,  8.79it/s]\n"
          ]
        },
        {
          "output_type": "stream",
          "name": "stdout",
          "text": [
            "\n",
            "Accuracy: 0.7480, Precision: 0.7152, Recall: 0.7991, AUC: 0.6809\n",
            "Results saved to results/zs_clip_finetune/ucsd/clip/classification_results.txt\n"
          ]
        },
        {
          "output_type": "stream",
          "name": "stderr",
          "text": [
            "/usr/local/lib/python3.10/dist-packages/keras/src/preprocessing/image.py:766: UserWarning: NumpyArrayIterator is set to use the data format convention \"channels_last\" (channels on axis 3), i.e. expected either 1, 3, or 4 channels on axis 3. However, it was passed an array with shape (526, 3, 224, 224) (224 channels).\n",
            "  warnings.warn(\n",
            "/usr/local/lib/python3.10/dist-packages/keras/src/preprocessing/image.py:766: UserWarning: NumpyArrayIterator is set to use the data format convention \"channels_last\" (channels on axis 3), i.e. expected either 1, 3, or 4 channels on axis 3. However, it was passed an array with shape (132, 3, 224, 224) (224 channels).\n",
            "  warnings.warn(\n",
            "/usr/local/lib/python3.10/dist-packages/keras/src/preprocessing/image.py:766: UserWarning: NumpyArrayIterator is set to use the data format convention \"channels_last\" (channels on axis 3), i.e. expected either 1, 3, or 4 channels on axis 3. However, it was passed an array with shape (165, 3, 224, 224) (224 channels).\n",
            "  warnings.warn(\n",
            "WARNING:matplotlib.image:Clipping input data to the valid range for imshow with RGB data ([0..1] for floats or [0..255] for integers).\n",
            "WARNING:matplotlib.image:Clipping input data to the valid range for imshow with RGB data ([0..1] for floats or [0..255] for integers).\n",
            "WARNING:matplotlib.image:Clipping input data to the valid range for imshow with RGB data ([0..1] for floats or [0..255] for integers).\n",
            "WARNING:matplotlib.image:Clipping input data to the valid range for imshow with RGB data ([0..1] for floats or [0..255] for integers).\n",
            "WARNING:matplotlib.image:Clipping input data to the valid range for imshow with RGB data ([0..1] for floats or [0..255] for integers).\n",
            "WARNING:matplotlib.image:Clipping input data to the valid range for imshow with RGB data ([0..1] for floats or [0..255] for integers).\n"
          ]
        },
        {
          "output_type": "stream",
          "name": "stdout",
          "text": [
            "Results saved to results/visualization/zero_shot_finetune/ori/clip/images/cxr_images.png\n",
            "NVIDIA library configured successfully.\n"
          ]
        },
        {
          "output_type": "stream",
          "name": "stderr",
          "text": [
            "Evaluate Train: 100%|██████████| 3/3 [00:01<00:00,  2.29it/s]\n",
            "Evaluate Validation: 100%|██████████| 1/1 [00:00<00:00, 12.33it/s]\n",
            "Evaluate Test: 100%|██████████| 1/1 [00:00<00:00, 10.31it/s]\n"
          ]
        },
        {
          "output_type": "stream",
          "name": "stdout",
          "text": [
            "\n",
            "Accuracy: 0.6731, Precision: 0.6829, Recall: 0.6238, AUC: 0.5810\n",
            "Results saved to results/zs_clip_finetune/ori/clip/classification_results.txt\n"
          ]
        },
        {
          "output_type": "display_data",
          "data": {
            "text/plain": [
              "<Figure size 640x480 with 0 Axes>"
            ]
          },
          "metadata": {}
        }
      ],
      "source": [
        "%run MedCLIP-pediatric/scripts/zs_clip_finetune.py"
      ]
    },
    {
      "cell_type": "code",
      "execution_count": 3,
      "metadata": {
        "colab": {
          "base_uri": "https://localhost:8080/",
          "height": 1000
        },
        "id": "UQZ80mayaHMz",
        "outputId": "9610b02c-5089-4ec1-e893-a8f3757b0936"
      },
      "outputs": [
        {
          "output_type": "stream",
          "name": "stdout",
          "text": [
            "Google Drive is already mounted.\n"
          ]
        },
        {
          "output_type": "stream",
          "name": "stderr",
          "text": [
            "/usr/local/lib/python3.10/dist-packages/keras/src/preprocessing/image.py:766: UserWarning: NumpyArrayIterator is set to use the data format convention \"channels_last\" (channels on axis 3), i.e. expected either 1, 3, or 4 channels on axis 3. However, it was passed an array with shape (1967, 1, 224, 224) (224 channels).\n",
            "  warnings.warn(\n",
            "/usr/local/lib/python3.10/dist-packages/keras/src/preprocessing/image.py:766: UserWarning: NumpyArrayIterator is set to use the data format convention \"channels_last\" (channels on axis 3), i.e. expected either 1, 3, or 4 channels on axis 3. However, it was passed an array with shape (493, 1, 224, 224) (224 channels).\n",
            "  warnings.warn(\n",
            "/usr/local/lib/python3.10/dist-packages/keras/src/preprocessing/image.py:766: UserWarning: NumpyArrayIterator is set to use the data format convention \"channels_last\" (channels on axis 3), i.e. expected either 1, 3, or 4 channels on axis 3. However, it was passed an array with shape (616, 1, 224, 224) (224 channels).\n",
            "  warnings.warn(\n"
          ]
        },
        {
          "output_type": "stream",
          "name": "stdout",
          "text": [
            "Results saved to results/visualization/zero_shot_finetune/ucsd/medclip/images/cxr_images.png\n",
            "NVIDIA library configured successfully.\n"
          ]
        },
        {
          "output_type": "stream",
          "name": "stderr",
          "text": [
            "Some weights of the model checkpoint at microsoft/swin-tiny-patch4-window7-224 were not used when initializing SwinModel: ['classifier.weight', 'classifier.bias']\n",
            "- This IS expected if you are initializing SwinModel from the checkpoint of a model trained on another task or with another architecture (e.g. initializing a BertForSequenceClassification model from a BertForPreTraining model).\n",
            "- This IS NOT expected if you are initializing SwinModel from the checkpoint of a model that you expect to be exactly identical (initializing a BertForSequenceClassification model from a BertForSequenceClassification model).\n",
            "Some weights of the model checkpoint at emilyalsentzer/Bio_ClinicalBERT were not used when initializing BertModel: ['cls.predictions.decoder.weight', 'cls.predictions.transform.dense.bias', 'cls.seq_relationship.bias', 'cls.predictions.transform.LayerNorm.weight', 'cls.predictions.bias', 'cls.seq_relationship.weight', 'cls.predictions.transform.LayerNorm.bias', 'cls.predictions.transform.dense.weight']\n",
            "- This IS expected if you are initializing BertModel from the checkpoint of a model trained on another task or with another architecture (e.g. initializing a BertForSequenceClassification model from a BertForPreTraining model).\n",
            "- This IS NOT expected if you are initializing BertModel from the checkpoint of a model that you expect to be exactly identical (initializing a BertForSequenceClassification model from a BertForSequenceClassification model).\n"
          ]
        },
        {
          "output_type": "stream",
          "name": "stdout",
          "text": [
            "load model weight from: ./pretrained/medclip-vit\n"
          ]
        },
        {
          "output_type": "stream",
          "name": "stderr",
          "text": [
            "\rEvaluate Train:   0%|          | 0/8 [00:00<?, ?it/s]"
          ]
        },
        {
          "output_type": "stream",
          "name": "stdout",
          "text": [
            "sample 1 num of prompts for COVID from total 12\n"
          ]
        },
        {
          "output_type": "stream",
          "name": "stderr",
          "text": [
            "\rEvaluate Train:  12%|█▎        | 1/8 [00:00<00:03,  1.77it/s]"
          ]
        },
        {
          "output_type": "stream",
          "name": "stdout",
          "text": [
            "sample 1 num of prompts for COVID from total 12\n"
          ]
        },
        {
          "output_type": "stream",
          "name": "stderr",
          "text": [
            "\rEvaluate Train:  25%|██▌       | 2/8 [00:01<00:03,  1.87it/s]"
          ]
        },
        {
          "output_type": "stream",
          "name": "stdout",
          "text": [
            "sample 1 num of prompts for COVID from total 12\n"
          ]
        },
        {
          "output_type": "stream",
          "name": "stderr",
          "text": [
            "\rEvaluate Train:  38%|███▊      | 3/8 [00:01<00:02,  1.87it/s]"
          ]
        },
        {
          "output_type": "stream",
          "name": "stdout",
          "text": [
            "sample 1 num of prompts for COVID from total 12\n"
          ]
        },
        {
          "output_type": "stream",
          "name": "stderr",
          "text": [
            "\rEvaluate Train:  50%|█████     | 4/8 [00:02<00:02,  1.39it/s]"
          ]
        },
        {
          "output_type": "stream",
          "name": "stdout",
          "text": [
            "sample 1 num of prompts for COVID from total 12\n"
          ]
        },
        {
          "output_type": "stream",
          "name": "stderr",
          "text": [
            "\rEvaluate Train:  62%|██████▎   | 5/8 [00:03<00:02,  1.24it/s]"
          ]
        },
        {
          "output_type": "stream",
          "name": "stdout",
          "text": [
            "sample 1 num of prompts for COVID from total 12\n"
          ]
        },
        {
          "output_type": "stream",
          "name": "stderr",
          "text": [
            "\rEvaluate Train:  75%|███████▌  | 6/8 [00:04<00:01,  1.10it/s]"
          ]
        },
        {
          "output_type": "stream",
          "name": "stdout",
          "text": [
            "sample 1 num of prompts for COVID from total 12\n"
          ]
        },
        {
          "output_type": "stream",
          "name": "stderr",
          "text": [
            "\rEvaluate Train:  88%|████████▊ | 7/8 [00:05<00:00,  1.24it/s]"
          ]
        },
        {
          "output_type": "stream",
          "name": "stdout",
          "text": [
            "sample 1 num of prompts for COVID from total 12\n"
          ]
        },
        {
          "output_type": "stream",
          "name": "stderr",
          "text": [
            "Evaluate Train: 100%|██████████| 8/8 [00:07<00:00,  1.08it/s]\n",
            "Evaluate Validation:   0%|          | 0/2 [00:00<?, ?it/s]"
          ]
        },
        {
          "output_type": "stream",
          "name": "stdout",
          "text": [
            "sample 1 num of prompts for COVID from total 12\n"
          ]
        },
        {
          "output_type": "stream",
          "name": "stderr",
          "text": [
            "\rEvaluate Validation:  50%|█████     | 1/2 [00:00<00:00,  1.80it/s]"
          ]
        },
        {
          "output_type": "stream",
          "name": "stdout",
          "text": [
            "sample 1 num of prompts for COVID from total 12\n"
          ]
        },
        {
          "output_type": "stream",
          "name": "stderr",
          "text": [
            "Evaluate Validation: 100%|██████████| 2/2 [00:01<00:00,  1.89it/s]\n",
            "Evaluate Test:   0%|          | 0/3 [00:00<?, ?it/s]"
          ]
        },
        {
          "output_type": "stream",
          "name": "stdout",
          "text": [
            "sample 1 num of prompts for COVID from total 12\n"
          ]
        },
        {
          "output_type": "stream",
          "name": "stderr",
          "text": [
            "\rEvaluate Test:  33%|███▎      | 1/3 [00:00<00:01,  1.95it/s]"
          ]
        },
        {
          "output_type": "stream",
          "name": "stdout",
          "text": [
            "sample 1 num of prompts for COVID from total 12\n"
          ]
        },
        {
          "output_type": "stream",
          "name": "stderr",
          "text": [
            "\rEvaluate Test:  67%|██████▋   | 2/3 [00:01<00:00,  1.93it/s]"
          ]
        },
        {
          "output_type": "stream",
          "name": "stdout",
          "text": [
            "sample 1 num of prompts for COVID from total 12\n"
          ]
        },
        {
          "output_type": "stream",
          "name": "stderr",
          "text": [
            "Evaluate Test: 100%|██████████| 3/3 [00:02<00:00,  1.14it/s]\n"
          ]
        },
        {
          "output_type": "stream",
          "name": "stdout",
          "text": [
            "\n",
            "Accuracy: 0.9701, Precision: 0.9493, Recall: 0.9913, AUC: 0.9915\n"
          ]
        },
        {
          "output_type": "stream",
          "name": "stderr",
          "text": [
            "\rEvaluate Train:   0%|          | 0/8 [00:00<?, ?it/s]"
          ]
        },
        {
          "output_type": "stream",
          "name": "stdout",
          "text": [
            "sample 2 num of prompts for COVID from total 12\n"
          ]
        },
        {
          "output_type": "stream",
          "name": "stderr",
          "text": [
            "\rEvaluate Train:  12%|█▎        | 1/8 [00:00<00:03,  1.96it/s]"
          ]
        },
        {
          "output_type": "stream",
          "name": "stdout",
          "text": [
            "sample 2 num of prompts for COVID from total 12\n"
          ]
        },
        {
          "output_type": "stream",
          "name": "stderr",
          "text": [
            "\rEvaluate Train:  25%|██▌       | 2/8 [00:01<00:04,  1.28it/s]"
          ]
        },
        {
          "output_type": "stream",
          "name": "stdout",
          "text": [
            "sample 2 num of prompts for COVID from total 12\n"
          ]
        },
        {
          "output_type": "stream",
          "name": "stderr",
          "text": [
            "\rEvaluate Train:  38%|███▊      | 3/8 [00:02<00:03,  1.43it/s]"
          ]
        },
        {
          "output_type": "stream",
          "name": "stdout",
          "text": [
            "sample 2 num of prompts for COVID from total 12\n"
          ]
        },
        {
          "output_type": "stream",
          "name": "stderr",
          "text": [
            "\rEvaluate Train:  50%|█████     | 4/8 [00:02<00:02,  1.54it/s]"
          ]
        },
        {
          "output_type": "stream",
          "name": "stdout",
          "text": [
            "sample 2 num of prompts for COVID from total 12\n"
          ]
        },
        {
          "output_type": "stream",
          "name": "stderr",
          "text": [
            "\rEvaluate Train:  62%|██████▎   | 5/8 [00:03<00:01,  1.61it/s]"
          ]
        },
        {
          "output_type": "stream",
          "name": "stdout",
          "text": [
            "sample 2 num of prompts for COVID from total 12\n"
          ]
        },
        {
          "output_type": "stream",
          "name": "stderr",
          "text": [
            "\rEvaluate Train:  75%|███████▌  | 6/8 [00:04<00:01,  1.15it/s]"
          ]
        },
        {
          "output_type": "stream",
          "name": "stdout",
          "text": [
            "sample 2 num of prompts for COVID from total 12\n"
          ]
        },
        {
          "output_type": "stream",
          "name": "stderr",
          "text": [
            "\rEvaluate Train:  88%|████████▊ | 7/8 [00:05<00:00,  1.33it/s]"
          ]
        },
        {
          "output_type": "stream",
          "name": "stdout",
          "text": [
            "sample 2 num of prompts for COVID from total 12\n"
          ]
        },
        {
          "output_type": "stream",
          "name": "stderr",
          "text": [
            "Evaluate Train: 100%|██████████| 8/8 [00:05<00:00,  1.35it/s]\n",
            "Evaluate Validation:   0%|          | 0/2 [00:00<?, ?it/s]"
          ]
        },
        {
          "output_type": "stream",
          "name": "stdout",
          "text": [
            "sample 2 num of prompts for COVID from total 12\n"
          ]
        },
        {
          "output_type": "stream",
          "name": "stderr",
          "text": [
            "\rEvaluate Validation:  50%|█████     | 1/2 [00:00<00:00,  1.89it/s]"
          ]
        },
        {
          "output_type": "stream",
          "name": "stdout",
          "text": [
            "sample 2 num of prompts for COVID from total 12\n"
          ]
        },
        {
          "output_type": "stream",
          "name": "stderr",
          "text": [
            "Evaluate Validation: 100%|██████████| 2/2 [00:01<00:00,  1.25it/s]\n",
            "Evaluate Test:   0%|          | 0/3 [00:00<?, ?it/s]"
          ]
        },
        {
          "output_type": "stream",
          "name": "stdout",
          "text": [
            "sample 2 num of prompts for COVID from total 12\n"
          ]
        },
        {
          "output_type": "stream",
          "name": "stderr",
          "text": [
            "\rEvaluate Test:  33%|███▎      | 1/3 [00:00<00:01,  1.79it/s]"
          ]
        },
        {
          "output_type": "stream",
          "name": "stdout",
          "text": [
            "sample 2 num of prompts for COVID from total 12\n"
          ]
        },
        {
          "output_type": "stream",
          "name": "stderr",
          "text": [
            "\rEvaluate Test:  67%|██████▋   | 2/3 [00:01<00:00,  1.91it/s]"
          ]
        },
        {
          "output_type": "stream",
          "name": "stdout",
          "text": [
            "sample 2 num of prompts for COVID from total 12\n"
          ]
        },
        {
          "output_type": "stream",
          "name": "stderr",
          "text": [
            "Evaluate Test: 100%|██████████| 3/3 [00:02<00:00,  1.27it/s]\n"
          ]
        },
        {
          "output_type": "stream",
          "name": "stdout",
          "text": [
            "\n",
            "Accuracy: 0.9681, Precision: 0.9451, Recall: 0.9920, AUC: 0.9901\n"
          ]
        },
        {
          "output_type": "stream",
          "name": "stderr",
          "text": [
            "\rEvaluate Train:   0%|          | 0/8 [00:00<?, ?it/s]"
          ]
        },
        {
          "output_type": "stream",
          "name": "stdout",
          "text": [
            "sample 3 num of prompts for COVID from total 12\n"
          ]
        },
        {
          "output_type": "stream",
          "name": "stderr",
          "text": [
            "\rEvaluate Train:  12%|█▎        | 1/8 [00:00<00:03,  1.89it/s]"
          ]
        },
        {
          "output_type": "stream",
          "name": "stdout",
          "text": [
            "sample 3 num of prompts for COVID from total 12\n"
          ]
        },
        {
          "output_type": "stream",
          "name": "stderr",
          "text": [
            "\rEvaluate Train:  25%|██▌       | 2/8 [00:01<00:03,  1.86it/s]"
          ]
        },
        {
          "output_type": "stream",
          "name": "stdout",
          "text": [
            "sample 3 num of prompts for COVID from total 12\n"
          ]
        },
        {
          "output_type": "stream",
          "name": "stderr",
          "text": [
            "\rEvaluate Train:  38%|███▊      | 3/8 [00:01<00:02,  1.86it/s]"
          ]
        },
        {
          "output_type": "stream",
          "name": "stdout",
          "text": [
            "sample 3 num of prompts for COVID from total 12\n"
          ]
        },
        {
          "output_type": "stream",
          "name": "stderr",
          "text": [
            "\rEvaluate Train:  50%|█████     | 4/8 [00:02<00:02,  1.49it/s]"
          ]
        },
        {
          "output_type": "stream",
          "name": "stdout",
          "text": [
            "sample 3 num of prompts for COVID from total 12\n"
          ]
        },
        {
          "output_type": "stream",
          "name": "stderr",
          "text": [
            "\rEvaluate Train:  62%|██████▎   | 5/8 [00:03<00:02,  1.30it/s]"
          ]
        },
        {
          "output_type": "stream",
          "name": "stdout",
          "text": [
            "sample 3 num of prompts for COVID from total 12\n"
          ]
        },
        {
          "output_type": "stream",
          "name": "stderr",
          "text": [
            "\rEvaluate Train:  75%|███████▌  | 6/8 [00:05<00:02,  1.13s/it]"
          ]
        },
        {
          "output_type": "stream",
          "name": "stdout",
          "text": [
            "sample 3 num of prompts for COVID from total 12\n"
          ]
        },
        {
          "output_type": "stream",
          "name": "stderr",
          "text": [
            "\rEvaluate Train:  88%|████████▊ | 7/8 [00:06<00:01,  1.14s/it]"
          ]
        },
        {
          "output_type": "stream",
          "name": "stdout",
          "text": [
            "sample 3 num of prompts for COVID from total 12\n"
          ]
        },
        {
          "output_type": "stream",
          "name": "stderr",
          "text": [
            "Evaluate Train: 100%|██████████| 8/8 [00:06<00:00,  1.17it/s]\n",
            "Evaluate Validation:   0%|          | 0/2 [00:00<?, ?it/s]"
          ]
        },
        {
          "output_type": "stream",
          "name": "stdout",
          "text": [
            "sample 3 num of prompts for COVID from total 12\n"
          ]
        },
        {
          "output_type": "stream",
          "name": "stderr",
          "text": [
            "\rEvaluate Validation:  50%|█████     | 1/2 [00:00<00:00,  1.59it/s]"
          ]
        },
        {
          "output_type": "stream",
          "name": "stdout",
          "text": [
            "sample 3 num of prompts for COVID from total 12\n"
          ]
        },
        {
          "output_type": "stream",
          "name": "stderr",
          "text": [
            "Evaluate Validation: 100%|██████████| 2/2 [00:01<00:00,  1.75it/s]\n",
            "Evaluate Test:   0%|          | 0/3 [00:00<?, ?it/s]"
          ]
        },
        {
          "output_type": "stream",
          "name": "stdout",
          "text": [
            "sample 3 num of prompts for COVID from total 12\n"
          ]
        },
        {
          "output_type": "stream",
          "name": "stderr",
          "text": [
            "\rEvaluate Test:  33%|███▎      | 1/3 [00:00<00:01,  1.95it/s]"
          ]
        },
        {
          "output_type": "stream",
          "name": "stdout",
          "text": [
            "sample 3 num of prompts for COVID from total 12\n"
          ]
        },
        {
          "output_type": "stream",
          "name": "stderr",
          "text": [
            "\rEvaluate Test:  67%|██████▋   | 2/3 [00:01<00:00,  1.32it/s]"
          ]
        },
        {
          "output_type": "stream",
          "name": "stdout",
          "text": [
            "sample 3 num of prompts for COVID from total 12\n"
          ]
        },
        {
          "output_type": "stream",
          "name": "stderr",
          "text": [
            "Evaluate Test: 100%|██████████| 3/3 [00:01<00:00,  1.67it/s]\n"
          ]
        },
        {
          "output_type": "stream",
          "name": "stdout",
          "text": [
            "\n",
            "Accuracy: 0.9659, Precision: 0.9409, Recall: 0.9920, AUC: 0.9911\n"
          ]
        },
        {
          "output_type": "stream",
          "name": "stderr",
          "text": [
            "\rEvaluate Train:   0%|          | 0/8 [00:00<?, ?it/s]"
          ]
        },
        {
          "output_type": "stream",
          "name": "stdout",
          "text": [
            "sample 4 num of prompts for COVID from total 12\n"
          ]
        },
        {
          "output_type": "stream",
          "name": "stderr",
          "text": [
            "\rEvaluate Train:  12%|█▎        | 1/8 [00:00<00:03,  1.93it/s]"
          ]
        },
        {
          "output_type": "stream",
          "name": "stdout",
          "text": [
            "sample 4 num of prompts for COVID from total 12\n"
          ]
        },
        {
          "output_type": "stream",
          "name": "stderr",
          "text": [
            "\rEvaluate Train:  25%|██▌       | 2/8 [00:01<00:03,  1.93it/s]"
          ]
        },
        {
          "output_type": "stream",
          "name": "stdout",
          "text": [
            "sample 4 num of prompts for COVID from total 12\n"
          ]
        },
        {
          "output_type": "stream",
          "name": "stderr",
          "text": [
            "\rEvaluate Train:  38%|███▊      | 3/8 [00:01<00:02,  1.92it/s]"
          ]
        },
        {
          "output_type": "stream",
          "name": "stdout",
          "text": [
            "sample 4 num of prompts for COVID from total 12\n"
          ]
        },
        {
          "output_type": "stream",
          "name": "stderr",
          "text": [
            "\rEvaluate Train:  50%|█████     | 4/8 [00:02<00:03,  1.30it/s]"
          ]
        },
        {
          "output_type": "stream",
          "name": "stdout",
          "text": [
            "sample 4 num of prompts for COVID from total 12\n"
          ]
        },
        {
          "output_type": "stream",
          "name": "stderr",
          "text": [
            "\rEvaluate Train:  62%|██████▎   | 5/8 [00:03<00:02,  1.15it/s]"
          ]
        },
        {
          "output_type": "stream",
          "name": "stdout",
          "text": [
            "sample 4 num of prompts for COVID from total 12\n"
          ]
        },
        {
          "output_type": "stream",
          "name": "stderr",
          "text": [
            "\rEvaluate Train:  75%|███████▌  | 6/8 [00:04<00:01,  1.29it/s]"
          ]
        },
        {
          "output_type": "stream",
          "name": "stdout",
          "text": [
            "sample 4 num of prompts for COVID from total 12\n"
          ]
        },
        {
          "output_type": "stream",
          "name": "stderr",
          "text": [
            "\rEvaluate Train:  88%|████████▊ | 7/8 [00:05<00:00,  1.05it/s]"
          ]
        },
        {
          "output_type": "stream",
          "name": "stdout",
          "text": [
            "sample 4 num of prompts for COVID from total 12\n"
          ]
        },
        {
          "output_type": "stream",
          "name": "stderr",
          "text": [
            "Evaluate Train: 100%|██████████| 8/8 [00:06<00:00,  1.22it/s]\n",
            "Evaluate Validation:   0%|          | 0/2 [00:00<?, ?it/s]"
          ]
        },
        {
          "output_type": "stream",
          "name": "stdout",
          "text": [
            "sample 4 num of prompts for COVID from total 12\n"
          ]
        },
        {
          "output_type": "stream",
          "name": "stderr",
          "text": [
            "\rEvaluate Validation:  50%|█████     | 1/2 [00:00<00:00,  1.98it/s]"
          ]
        },
        {
          "output_type": "stream",
          "name": "stdout",
          "text": [
            "sample 4 num of prompts for COVID from total 12\n"
          ]
        },
        {
          "output_type": "stream",
          "name": "stderr",
          "text": [
            "Evaluate Validation: 100%|██████████| 2/2 [00:01<00:00,  1.30it/s]\n",
            "Evaluate Test:   0%|          | 0/3 [00:00<?, ?it/s]"
          ]
        },
        {
          "output_type": "stream",
          "name": "stdout",
          "text": [
            "sample 4 num of prompts for COVID from total 12\n"
          ]
        },
        {
          "output_type": "stream",
          "name": "stderr",
          "text": [
            "\rEvaluate Test:  33%|███▎      | 1/3 [00:00<00:01,  1.88it/s]"
          ]
        },
        {
          "output_type": "stream",
          "name": "stdout",
          "text": [
            "sample 4 num of prompts for COVID from total 12\n"
          ]
        },
        {
          "output_type": "stream",
          "name": "stderr",
          "text": [
            "\rEvaluate Test:  67%|██████▋   | 2/3 [00:01<00:00,  1.87it/s]"
          ]
        },
        {
          "output_type": "stream",
          "name": "stdout",
          "text": [
            "sample 4 num of prompts for COVID from total 12\n"
          ]
        },
        {
          "output_type": "stream",
          "name": "stderr",
          "text": [
            "Evaluate Test: 100%|██████████| 3/3 [00:01<00:00,  1.84it/s]\n"
          ]
        },
        {
          "output_type": "stream",
          "name": "stdout",
          "text": [
            "\n",
            "Accuracy: 0.9662, Precision: 0.9410, Recall: 0.9926, AUC: 0.9916\n"
          ]
        },
        {
          "output_type": "stream",
          "name": "stderr",
          "text": [
            "\rEvaluate Train:   0%|          | 0/8 [00:00<?, ?it/s]"
          ]
        },
        {
          "output_type": "stream",
          "name": "stdout",
          "text": [
            "sample 5 num of prompts for COVID from total 12\n"
          ]
        },
        {
          "output_type": "stream",
          "name": "stderr",
          "text": [
            "\rEvaluate Train:  12%|█▎        | 1/8 [00:00<00:03,  1.95it/s]"
          ]
        },
        {
          "output_type": "stream",
          "name": "stdout",
          "text": [
            "sample 5 num of prompts for COVID from total 12\n"
          ]
        },
        {
          "output_type": "stream",
          "name": "stderr",
          "text": [
            "\rEvaluate Train:  25%|██▌       | 2/8 [00:01<00:05,  1.00it/s]"
          ]
        },
        {
          "output_type": "stream",
          "name": "stdout",
          "text": [
            "sample 5 num of prompts for COVID from total 12\n"
          ]
        },
        {
          "output_type": "stream",
          "name": "stderr",
          "text": [
            "\rEvaluate Train:  38%|███▊      | 3/8 [00:02<00:04,  1.02it/s]"
          ]
        },
        {
          "output_type": "stream",
          "name": "stdout",
          "text": [
            "sample 5 num of prompts for COVID from total 12\n"
          ]
        },
        {
          "output_type": "stream",
          "name": "stderr",
          "text": [
            "\rEvaluate Train:  50%|█████     | 4/8 [00:03<00:03,  1.25it/s]"
          ]
        },
        {
          "output_type": "stream",
          "name": "stdout",
          "text": [
            "sample 5 num of prompts for COVID from total 12\n"
          ]
        },
        {
          "output_type": "stream",
          "name": "stderr",
          "text": [
            "\rEvaluate Train:  62%|██████▎   | 5/8 [00:03<00:02,  1.44it/s]"
          ]
        },
        {
          "output_type": "stream",
          "name": "stdout",
          "text": [
            "sample 5 num of prompts for COVID from total 12\n"
          ]
        },
        {
          "output_type": "stream",
          "name": "stderr",
          "text": [
            "\rEvaluate Train:  75%|███████▌  | 6/8 [00:05<00:01,  1.17it/s]"
          ]
        },
        {
          "output_type": "stream",
          "name": "stdout",
          "text": [
            "sample 5 num of prompts for COVID from total 12\n"
          ]
        },
        {
          "output_type": "stream",
          "name": "stderr",
          "text": [
            "\rEvaluate Train:  88%|████████▊ | 7/8 [00:05<00:00,  1.19it/s]"
          ]
        },
        {
          "output_type": "stream",
          "name": "stdout",
          "text": [
            "sample 5 num of prompts for COVID from total 12\n"
          ]
        },
        {
          "output_type": "stream",
          "name": "stderr",
          "text": [
            "Evaluate Train: 100%|██████████| 8/8 [00:06<00:00,  1.27it/s]\n",
            "Evaluate Validation:   0%|          | 0/2 [00:00<?, ?it/s]"
          ]
        },
        {
          "output_type": "stream",
          "name": "stdout",
          "text": [
            "sample 5 num of prompts for COVID from total 12\n"
          ]
        },
        {
          "output_type": "stream",
          "name": "stderr",
          "text": [
            "\rEvaluate Validation:  50%|█████     | 1/2 [00:00<00:00,  1.81it/s]"
          ]
        },
        {
          "output_type": "stream",
          "name": "stdout",
          "text": [
            "sample 5 num of prompts for COVID from total 12\n"
          ]
        },
        {
          "output_type": "stream",
          "name": "stderr",
          "text": [
            "Evaluate Validation: 100%|██████████| 2/2 [00:01<00:00,  1.31it/s]\n",
            "Evaluate Test:   0%|          | 0/3 [00:00<?, ?it/s]"
          ]
        },
        {
          "output_type": "stream",
          "name": "stdout",
          "text": [
            "sample 5 num of prompts for COVID from total 12\n"
          ]
        },
        {
          "output_type": "stream",
          "name": "stderr",
          "text": [
            "\rEvaluate Test:  33%|███▎      | 1/3 [00:00<00:01,  1.80it/s]"
          ]
        },
        {
          "output_type": "stream",
          "name": "stdout",
          "text": [
            "sample 5 num of prompts for COVID from total 12\n"
          ]
        },
        {
          "output_type": "stream",
          "name": "stderr",
          "text": [
            "\rEvaluate Test:  67%|██████▋   | 2/3 [00:01<00:00,  1.44it/s]"
          ]
        },
        {
          "output_type": "stream",
          "name": "stdout",
          "text": [
            "sample 5 num of prompts for COVID from total 12\n"
          ]
        },
        {
          "output_type": "stream",
          "name": "stderr",
          "text": [
            "Evaluate Test: 100%|██████████| 3/3 [00:02<00:00,  1.19it/s]\n"
          ]
        },
        {
          "output_type": "stream",
          "name": "stdout",
          "text": [
            "\n",
            "Accuracy: 0.9639, Precision: 0.9368, Recall: 0.9926, AUC: 0.9916\n"
          ]
        },
        {
          "output_type": "stream",
          "name": "stderr",
          "text": [
            "\rEvaluate Train:   0%|          | 0/8 [00:00<?, ?it/s]"
          ]
        },
        {
          "output_type": "stream",
          "name": "stdout",
          "text": [
            "sample 6 num of prompts for COVID from total 12\n"
          ]
        },
        {
          "output_type": "stream",
          "name": "stderr",
          "text": [
            "\rEvaluate Train:  12%|█▎        | 1/8 [00:00<00:03,  1.92it/s]"
          ]
        },
        {
          "output_type": "stream",
          "name": "stdout",
          "text": [
            "sample 6 num of prompts for COVID from total 12\n"
          ]
        },
        {
          "output_type": "stream",
          "name": "stderr",
          "text": [
            "\rEvaluate Train:  25%|██▌       | 2/8 [00:01<00:03,  1.80it/s]"
          ]
        },
        {
          "output_type": "stream",
          "name": "stdout",
          "text": [
            "sample 6 num of prompts for COVID from total 12\n"
          ]
        },
        {
          "output_type": "stream",
          "name": "stderr",
          "text": [
            "\rEvaluate Train:  38%|███▊      | 3/8 [00:01<00:03,  1.61it/s]"
          ]
        },
        {
          "output_type": "stream",
          "name": "stdout",
          "text": [
            "sample 6 num of prompts for COVID from total 12\n"
          ]
        },
        {
          "output_type": "stream",
          "name": "stderr",
          "text": [
            "\rEvaluate Train:  50%|█████     | 4/8 [00:02<00:02,  1.63it/s]"
          ]
        },
        {
          "output_type": "stream",
          "name": "stdout",
          "text": [
            "sample 6 num of prompts for COVID from total 12\n"
          ]
        },
        {
          "output_type": "stream",
          "name": "stderr",
          "text": [
            "\rEvaluate Train:  62%|██████▎   | 5/8 [00:03<00:02,  1.27it/s]"
          ]
        },
        {
          "output_type": "stream",
          "name": "stdout",
          "text": [
            "sample 6 num of prompts for COVID from total 12\n"
          ]
        },
        {
          "output_type": "stream",
          "name": "stderr",
          "text": [
            "\rEvaluate Train:  75%|███████▌  | 6/8 [00:04<00:01,  1.42it/s]"
          ]
        },
        {
          "output_type": "stream",
          "name": "stdout",
          "text": [
            "sample 6 num of prompts for COVID from total 12\n"
          ]
        },
        {
          "output_type": "stream",
          "name": "stderr",
          "text": [
            "\rEvaluate Train:  88%|████████▊ | 7/8 [00:05<00:00,  1.24it/s]"
          ]
        },
        {
          "output_type": "stream",
          "name": "stdout",
          "text": [
            "sample 6 num of prompts for COVID from total 12\n"
          ]
        },
        {
          "output_type": "stream",
          "name": "stderr",
          "text": [
            "Evaluate Train: 100%|██████████| 8/8 [00:05<00:00,  1.34it/s]\n",
            "Evaluate Validation:   0%|          | 0/2 [00:00<?, ?it/s]"
          ]
        },
        {
          "output_type": "stream",
          "name": "stdout",
          "text": [
            "sample 6 num of prompts for COVID from total 12\n"
          ]
        },
        {
          "output_type": "stream",
          "name": "stderr",
          "text": [
            "\rEvaluate Validation:  50%|█████     | 1/2 [00:00<00:00,  1.47it/s]"
          ]
        },
        {
          "output_type": "stream",
          "name": "stdout",
          "text": [
            "sample 6 num of prompts for COVID from total 12\n"
          ]
        },
        {
          "output_type": "stream",
          "name": "stderr",
          "text": [
            "Evaluate Validation: 100%|██████████| 2/2 [00:01<00:00,  1.35it/s]\n",
            "Evaluate Test:   0%|          | 0/3 [00:00<?, ?it/s]"
          ]
        },
        {
          "output_type": "stream",
          "name": "stdout",
          "text": [
            "sample 6 num of prompts for COVID from total 12\n"
          ]
        },
        {
          "output_type": "stream",
          "name": "stderr",
          "text": [
            "\rEvaluate Test:  33%|███▎      | 1/3 [00:00<00:01,  1.81it/s]"
          ]
        },
        {
          "output_type": "stream",
          "name": "stdout",
          "text": [
            "sample 6 num of prompts for COVID from total 12\n"
          ]
        },
        {
          "output_type": "stream",
          "name": "stderr",
          "text": [
            "\rEvaluate Test:  67%|██████▋   | 2/3 [00:01<00:00,  1.85it/s]"
          ]
        },
        {
          "output_type": "stream",
          "name": "stdout",
          "text": [
            "sample 6 num of prompts for COVID from total 12\n"
          ]
        },
        {
          "output_type": "stream",
          "name": "stderr",
          "text": [
            "Evaluate Test: 100%|██████████| 3/3 [00:02<00:00,  1.22it/s]\n"
          ]
        },
        {
          "output_type": "stream",
          "name": "stdout",
          "text": [
            "\n",
            "Accuracy: 0.9636, Precision: 0.9362, Recall: 0.9926, AUC: 0.9914\n"
          ]
        },
        {
          "output_type": "stream",
          "name": "stderr",
          "text": [
            "\rEvaluate Train:   0%|          | 0/8 [00:00<?, ?it/s]"
          ]
        },
        {
          "output_type": "stream",
          "name": "stdout",
          "text": [
            "sample 7 num of prompts for COVID from total 12\n"
          ]
        },
        {
          "output_type": "stream",
          "name": "stderr",
          "text": [
            "\rEvaluate Train:  12%|█▎        | 1/8 [00:00<00:03,  1.96it/s]"
          ]
        },
        {
          "output_type": "stream",
          "name": "stdout",
          "text": [
            "sample 7 num of prompts for COVID from total 12\n"
          ]
        },
        {
          "output_type": "stream",
          "name": "stderr",
          "text": [
            "\rEvaluate Train:  25%|██▌       | 2/8 [00:01<00:03,  1.92it/s]"
          ]
        },
        {
          "output_type": "stream",
          "name": "stdout",
          "text": [
            "sample 7 num of prompts for COVID from total 12\n"
          ]
        },
        {
          "output_type": "stream",
          "name": "stderr",
          "text": [
            "\rEvaluate Train:  38%|███▊      | 3/8 [00:01<00:02,  1.91it/s]"
          ]
        },
        {
          "output_type": "stream",
          "name": "stdout",
          "text": [
            "sample 7 num of prompts for COVID from total 12\n"
          ]
        },
        {
          "output_type": "stream",
          "name": "stderr",
          "text": [
            "\rEvaluate Train:  50%|█████     | 4/8 [00:02<00:02,  1.46it/s]"
          ]
        },
        {
          "output_type": "stream",
          "name": "stdout",
          "text": [
            "sample 7 num of prompts for COVID from total 12\n"
          ]
        },
        {
          "output_type": "stream",
          "name": "stderr",
          "text": [
            "\rEvaluate Train:  62%|██████▎   | 5/8 [00:03<00:02,  1.27it/s]"
          ]
        },
        {
          "output_type": "stream",
          "name": "stdout",
          "text": [
            "sample 7 num of prompts for COVID from total 12\n"
          ]
        },
        {
          "output_type": "stream",
          "name": "stderr",
          "text": [
            "\rEvaluate Train:  75%|███████▌  | 6/8 [00:04<00:01,  1.38it/s]"
          ]
        },
        {
          "output_type": "stream",
          "name": "stdout",
          "text": [
            "sample 7 num of prompts for COVID from total 12\n"
          ]
        },
        {
          "output_type": "stream",
          "name": "stderr",
          "text": [
            "\rEvaluate Train:  88%|████████▊ | 7/8 [00:04<00:00,  1.52it/s]"
          ]
        },
        {
          "output_type": "stream",
          "name": "stdout",
          "text": [
            "sample 7 num of prompts for COVID from total 12\n"
          ]
        },
        {
          "output_type": "stream",
          "name": "stderr",
          "text": [
            "Evaluate Train: 100%|██████████| 8/8 [00:05<00:00,  1.34it/s]\n",
            "Evaluate Validation:   0%|          | 0/2 [00:00<?, ?it/s]"
          ]
        },
        {
          "output_type": "stream",
          "name": "stdout",
          "text": [
            "sample 7 num of prompts for COVID from total 12\n"
          ]
        },
        {
          "output_type": "stream",
          "name": "stderr",
          "text": [
            "\rEvaluate Validation:  50%|█████     | 1/2 [00:00<00:00,  1.56it/s]"
          ]
        },
        {
          "output_type": "stream",
          "name": "stdout",
          "text": [
            "sample 7 num of prompts for COVID from total 12\n"
          ]
        },
        {
          "output_type": "stream",
          "name": "stderr",
          "text": [
            "Evaluate Validation: 100%|██████████| 2/2 [00:01<00:00,  1.32it/s]\n",
            "Evaluate Test:   0%|          | 0/3 [00:00<?, ?it/s]"
          ]
        },
        {
          "output_type": "stream",
          "name": "stdout",
          "text": [
            "sample 7 num of prompts for COVID from total 12\n"
          ]
        },
        {
          "output_type": "stream",
          "name": "stderr",
          "text": [
            "Evaluate Test:  67%|██████▋   | 2/3 [00:01<00:00,  1.77it/s]"
          ]
        },
        {
          "output_type": "stream",
          "name": "stdout",
          "text": [
            "sample 7 num of prompts for COVID from total 12\n",
            "sample 7 num of prompts for COVID from total 12\n"
          ]
        },
        {
          "output_type": "stream",
          "name": "stderr",
          "text": [
            "Evaluate Test: 100%|██████████| 3/3 [00:01<00:00,  1.51it/s]\n"
          ]
        },
        {
          "output_type": "stream",
          "name": "stdout",
          "text": [
            "\n",
            "Accuracy: 0.9639, Precision: 0.9368, Recall: 0.9926, AUC: 0.9920\n"
          ]
        },
        {
          "output_type": "stream",
          "name": "stderr",
          "text": [
            "\rEvaluate Train:   0%|          | 0/8 [00:00<?, ?it/s]"
          ]
        },
        {
          "output_type": "stream",
          "name": "stdout",
          "text": [
            "sample 8 num of prompts for COVID from total 12\n"
          ]
        },
        {
          "output_type": "stream",
          "name": "stderr",
          "text": [
            "\rEvaluate Train:  12%|█▎        | 1/8 [00:00<00:04,  1.46it/s]"
          ]
        },
        {
          "output_type": "stream",
          "name": "stdout",
          "text": [
            "sample 8 num of prompts for COVID from total 12\n"
          ]
        },
        {
          "output_type": "stream",
          "name": "stderr",
          "text": [
            "\rEvaluate Train:  25%|██▌       | 2/8 [00:01<00:03,  1.63it/s]"
          ]
        },
        {
          "output_type": "stream",
          "name": "stdout",
          "text": [
            "sample 8 num of prompts for COVID from total 12\n"
          ]
        },
        {
          "output_type": "stream",
          "name": "stderr",
          "text": [
            "\rEvaluate Train:  38%|███▊      | 3/8 [00:02<00:04,  1.21it/s]"
          ]
        },
        {
          "output_type": "stream",
          "name": "stdout",
          "text": [
            "sample 8 num of prompts for COVID from total 12\n"
          ]
        },
        {
          "output_type": "stream",
          "name": "stderr",
          "text": [
            "\rEvaluate Train:  50%|█████     | 4/8 [00:03<00:03,  1.27it/s]"
          ]
        },
        {
          "output_type": "stream",
          "name": "stdout",
          "text": [
            "sample 8 num of prompts for COVID from total 12\n"
          ]
        },
        {
          "output_type": "stream",
          "name": "stderr",
          "text": [
            "\rEvaluate Train:  62%|██████▎   | 5/8 [00:03<00:02,  1.19it/s]"
          ]
        },
        {
          "output_type": "stream",
          "name": "stdout",
          "text": [
            "sample 8 num of prompts for COVID from total 12\n"
          ]
        },
        {
          "output_type": "stream",
          "name": "stderr",
          "text": [
            "\rEvaluate Train:  75%|███████▌  | 6/8 [00:04<00:01,  1.31it/s]"
          ]
        },
        {
          "output_type": "stream",
          "name": "stdout",
          "text": [
            "sample 8 num of prompts for COVID from total 12\n"
          ]
        },
        {
          "output_type": "stream",
          "name": "stderr",
          "text": [
            "\rEvaluate Train:  88%|████████▊ | 7/8 [00:06<00:01,  1.00s/it]"
          ]
        },
        {
          "output_type": "stream",
          "name": "stdout",
          "text": [
            "sample 8 num of prompts for COVID from total 12\n"
          ]
        },
        {
          "output_type": "stream",
          "name": "stderr",
          "text": [
            "Evaluate Train: 100%|██████████| 8/8 [00:06<00:00,  1.18it/s]\n",
            "Evaluate Validation:   0%|          | 0/2 [00:00<?, ?it/s]"
          ]
        },
        {
          "output_type": "stream",
          "name": "stdout",
          "text": [
            "sample 8 num of prompts for COVID from total 12\n"
          ]
        },
        {
          "output_type": "stream",
          "name": "stderr",
          "text": [
            "\rEvaluate Validation:  50%|█████     | 1/2 [00:00<00:00,  1.46it/s]"
          ]
        },
        {
          "output_type": "stream",
          "name": "stdout",
          "text": [
            "sample 8 num of prompts for COVID from total 12\n"
          ]
        },
        {
          "output_type": "stream",
          "name": "stderr",
          "text": [
            "Evaluate Validation: 100%|██████████| 2/2 [00:01<00:00,  1.18it/s]\n",
            "Evaluate Test:   0%|          | 0/3 [00:00<?, ?it/s]"
          ]
        },
        {
          "output_type": "stream",
          "name": "stdout",
          "text": [
            "sample 8 num of prompts for COVID from total 12\n"
          ]
        },
        {
          "output_type": "stream",
          "name": "stderr",
          "text": [
            "\rEvaluate Test:  33%|███▎      | 1/3 [00:00<00:01,  1.40it/s]"
          ]
        },
        {
          "output_type": "stream",
          "name": "stdout",
          "text": [
            "sample 8 num of prompts for COVID from total 12\n"
          ]
        },
        {
          "output_type": "stream",
          "name": "stderr",
          "text": [
            "\rEvaluate Test:  67%|██████▋   | 2/3 [00:01<00:00,  1.37it/s]"
          ]
        },
        {
          "output_type": "stream",
          "name": "stdout",
          "text": [
            "sample 8 num of prompts for COVID from total 12\n"
          ]
        },
        {
          "output_type": "stream",
          "name": "stderr",
          "text": [
            "Evaluate Test: 100%|██████████| 3/3 [00:01<00:00,  1.64it/s]\n"
          ]
        },
        {
          "output_type": "stream",
          "name": "stdout",
          "text": [
            "\n",
            "Accuracy: 0.9642, Precision: 0.9374, Recall: 0.9926, AUC: 0.9917\n"
          ]
        },
        {
          "output_type": "stream",
          "name": "stderr",
          "text": [
            "\rEvaluate Train:   0%|          | 0/8 [00:00<?, ?it/s]"
          ]
        },
        {
          "output_type": "stream",
          "name": "stdout",
          "text": [
            "sample 9 num of prompts for COVID from total 12\n"
          ]
        },
        {
          "output_type": "stream",
          "name": "stderr",
          "text": [
            "\rEvaluate Train:  12%|█▎        | 1/8 [00:00<00:04,  1.66it/s]"
          ]
        },
        {
          "output_type": "stream",
          "name": "stdout",
          "text": [
            "sample 9 num of prompts for COVID from total 12\n"
          ]
        },
        {
          "output_type": "stream",
          "name": "stderr",
          "text": [
            "\rEvaluate Train:  25%|██▌       | 2/8 [00:01<00:05,  1.16it/s]"
          ]
        },
        {
          "output_type": "stream",
          "name": "stdout",
          "text": [
            "sample 9 num of prompts for COVID from total 12\n"
          ]
        },
        {
          "output_type": "stream",
          "name": "stderr",
          "text": [
            "\rEvaluate Train:  38%|███▊      | 3/8 [00:02<00:04,  1.18it/s]"
          ]
        },
        {
          "output_type": "stream",
          "name": "stdout",
          "text": [
            "sample 9 num of prompts for COVID from total 12\n"
          ]
        },
        {
          "output_type": "stream",
          "name": "stderr",
          "text": [
            "\rEvaluate Train:  50%|█████     | 4/8 [00:02<00:02,  1.39it/s]"
          ]
        },
        {
          "output_type": "stream",
          "name": "stdout",
          "text": [
            "sample 9 num of prompts for COVID from total 12\n"
          ]
        },
        {
          "output_type": "stream",
          "name": "stderr",
          "text": [
            "\rEvaluate Train:  62%|██████▎   | 5/8 [00:03<00:02,  1.46it/s]"
          ]
        },
        {
          "output_type": "stream",
          "name": "stdout",
          "text": [
            "sample 9 num of prompts for COVID from total 12\n"
          ]
        },
        {
          "output_type": "stream",
          "name": "stderr",
          "text": [
            "\rEvaluate Train:  75%|███████▌  | 6/8 [00:04<00:01,  1.29it/s]"
          ]
        },
        {
          "output_type": "stream",
          "name": "stdout",
          "text": [
            "sample 9 num of prompts for COVID from total 12\n"
          ]
        },
        {
          "output_type": "stream",
          "name": "stderr",
          "text": [
            "\rEvaluate Train:  88%|████████▊ | 7/8 [00:05<00:00,  1.45it/s]"
          ]
        },
        {
          "output_type": "stream",
          "name": "stdout",
          "text": [
            "sample 9 num of prompts for COVID from total 12\n"
          ]
        },
        {
          "output_type": "stream",
          "name": "stderr",
          "text": [
            "Evaluate Train: 100%|██████████| 8/8 [00:05<00:00,  1.42it/s]\n",
            "Evaluate Validation:   0%|          | 0/2 [00:00<?, ?it/s]"
          ]
        },
        {
          "output_type": "stream",
          "name": "stdout",
          "text": [
            "sample 9 num of prompts for COVID from total 12\n"
          ]
        },
        {
          "output_type": "stream",
          "name": "stderr",
          "text": [
            "\rEvaluate Validation:  50%|█████     | 1/2 [00:00<00:00,  1.92it/s]"
          ]
        },
        {
          "output_type": "stream",
          "name": "stdout",
          "text": [
            "sample 9 num of prompts for COVID from total 12\n"
          ]
        },
        {
          "output_type": "stream",
          "name": "stderr",
          "text": [
            "Evaluate Validation: 100%|██████████| 2/2 [00:01<00:00,  1.37it/s]\n",
            "Evaluate Test:   0%|          | 0/3 [00:00<?, ?it/s]"
          ]
        },
        {
          "output_type": "stream",
          "name": "stdout",
          "text": [
            "sample 9 num of prompts for COVID from total 12\n"
          ]
        },
        {
          "output_type": "stream",
          "name": "stderr",
          "text": [
            "\rEvaluate Test:  33%|███▎      | 1/3 [00:00<00:01,  1.93it/s]"
          ]
        },
        {
          "output_type": "stream",
          "name": "stdout",
          "text": [
            "sample 9 num of prompts for COVID from total 12\n"
          ]
        },
        {
          "output_type": "stream",
          "name": "stderr",
          "text": [
            "\rEvaluate Test:  67%|██████▋   | 2/3 [00:01<00:00,  1.28it/s]"
          ]
        },
        {
          "output_type": "stream",
          "name": "stdout",
          "text": [
            "sample 9 num of prompts for COVID from total 12\n"
          ]
        },
        {
          "output_type": "stream",
          "name": "stderr",
          "text": [
            "Evaluate Test: 100%|██████████| 3/3 [00:01<00:00,  1.53it/s]\n"
          ]
        },
        {
          "output_type": "stream",
          "name": "stdout",
          "text": [
            "\n",
            "Accuracy: 0.9639, Precision: 0.9368, Recall: 0.9926, AUC: 0.9917\n"
          ]
        },
        {
          "output_type": "stream",
          "name": "stderr",
          "text": [
            "\rEvaluate Train:   0%|          | 0/8 [00:00<?, ?it/s]"
          ]
        },
        {
          "output_type": "stream",
          "name": "stdout",
          "text": [
            "sample 10 num of prompts for COVID from total 12\n"
          ]
        },
        {
          "output_type": "stream",
          "name": "stderr",
          "text": [
            "\rEvaluate Train:  12%|█▎        | 1/8 [00:00<00:03,  1.89it/s]"
          ]
        },
        {
          "output_type": "stream",
          "name": "stdout",
          "text": [
            "sample 10 num of prompts for COVID from total 12\n"
          ]
        },
        {
          "output_type": "stream",
          "name": "stderr",
          "text": [
            "\rEvaluate Train:  25%|██▌       | 2/8 [00:01<00:05,  1.16it/s]"
          ]
        },
        {
          "output_type": "stream",
          "name": "stdout",
          "text": [
            "sample 10 num of prompts for COVID from total 12\n"
          ]
        },
        {
          "output_type": "stream",
          "name": "stderr",
          "text": [
            "\rEvaluate Train:  38%|███▊      | 3/8 [00:02<00:04,  1.17it/s]"
          ]
        },
        {
          "output_type": "stream",
          "name": "stdout",
          "text": [
            "sample 10 num of prompts for COVID from total 12\n"
          ]
        },
        {
          "output_type": "stream",
          "name": "stderr",
          "text": [
            "\rEvaluate Train:  50%|█████     | 4/8 [00:03<00:03,  1.28it/s]"
          ]
        },
        {
          "output_type": "stream",
          "name": "stdout",
          "text": [
            "sample 10 num of prompts for COVID from total 12\n"
          ]
        },
        {
          "output_type": "stream",
          "name": "stderr",
          "text": [
            "\rEvaluate Train:  62%|██████▎   | 5/8 [00:03<00:02,  1.44it/s]"
          ]
        },
        {
          "output_type": "stream",
          "name": "stdout",
          "text": [
            "sample 10 num of prompts for COVID from total 12\n"
          ]
        },
        {
          "output_type": "stream",
          "name": "stderr",
          "text": [
            "\rEvaluate Train:  75%|███████▌  | 6/8 [00:04<00:01,  1.19it/s]"
          ]
        },
        {
          "output_type": "stream",
          "name": "stdout",
          "text": [
            "sample 10 num of prompts for COVID from total 12\n"
          ]
        },
        {
          "output_type": "stream",
          "name": "stderr",
          "text": [
            "\rEvaluate Train:  88%|████████▊ | 7/8 [00:05<00:00,  1.25it/s]"
          ]
        },
        {
          "output_type": "stream",
          "name": "stdout",
          "text": [
            "sample 10 num of prompts for COVID from total 12\n"
          ]
        },
        {
          "output_type": "stream",
          "name": "stderr",
          "text": [
            "Evaluate Train: 100%|██████████| 8/8 [00:06<00:00,  1.31it/s]\n",
            "Evaluate Validation:   0%|          | 0/2 [00:00<?, ?it/s]"
          ]
        },
        {
          "output_type": "stream",
          "name": "stdout",
          "text": [
            "sample 10 num of prompts for COVID from total 12\n"
          ]
        },
        {
          "output_type": "stream",
          "name": "stderr",
          "text": [
            "\rEvaluate Validation:  50%|█████     | 1/2 [00:00<00:00,  1.50it/s]"
          ]
        },
        {
          "output_type": "stream",
          "name": "stdout",
          "text": [
            "sample 10 num of prompts for COVID from total 12\n"
          ]
        },
        {
          "output_type": "stream",
          "name": "stderr",
          "text": [
            "Evaluate Validation: 100%|██████████| 2/2 [00:01<00:00,  1.09it/s]\n",
            "Evaluate Test:   0%|          | 0/3 [00:00<?, ?it/s]"
          ]
        },
        {
          "output_type": "stream",
          "name": "stdout",
          "text": [
            "sample 10 num of prompts for COVID from total 12\n"
          ]
        },
        {
          "output_type": "stream",
          "name": "stderr",
          "text": [
            "\rEvaluate Test:  33%|███▎      | 1/3 [00:00<00:01,  1.21it/s]"
          ]
        },
        {
          "output_type": "stream",
          "name": "stdout",
          "text": [
            "sample 10 num of prompts for COVID from total 12\n"
          ]
        },
        {
          "output_type": "stream",
          "name": "stderr",
          "text": [
            "\rEvaluate Test:  67%|██████▋   | 2/3 [00:01<00:00,  1.39it/s]"
          ]
        },
        {
          "output_type": "stream",
          "name": "stdout",
          "text": [
            "sample 10 num of prompts for COVID from total 12\n"
          ]
        },
        {
          "output_type": "stream",
          "name": "stderr",
          "text": [
            "Evaluate Test: 100%|██████████| 3/3 [00:02<00:00,  1.40it/s]\n"
          ]
        },
        {
          "output_type": "stream",
          "name": "stdout",
          "text": [
            "\n",
            "Accuracy: 0.9639, Precision: 0.9368, Recall: 0.9926, AUC: 0.9917\n"
          ]
        },
        {
          "output_type": "stream",
          "name": "stderr",
          "text": [
            "\rEvaluate Train:   0%|          | 0/8 [00:00<?, ?it/s]"
          ]
        },
        {
          "output_type": "stream",
          "name": "stdout",
          "text": [
            "sample 11 num of prompts for COVID from total 12\n"
          ]
        },
        {
          "output_type": "stream",
          "name": "stderr",
          "text": [
            "\rEvaluate Train:  12%|█▎        | 1/8 [00:01<00:08,  1.28s/it]"
          ]
        },
        {
          "output_type": "stream",
          "name": "stdout",
          "text": [
            "sample 11 num of prompts for COVID from total 12\n"
          ]
        },
        {
          "output_type": "stream",
          "name": "stderr",
          "text": [
            "\rEvaluate Train:  25%|██▌       | 2/8 [00:01<00:05,  1.16it/s]"
          ]
        },
        {
          "output_type": "stream",
          "name": "stdout",
          "text": [
            "sample 11 num of prompts for COVID from total 12\n"
          ]
        },
        {
          "output_type": "stream",
          "name": "stderr",
          "text": [
            "\rEvaluate Train:  38%|███▊      | 3/8 [00:02<00:04,  1.24it/s]"
          ]
        },
        {
          "output_type": "stream",
          "name": "stdout",
          "text": [
            "sample 11 num of prompts for COVID from total 12\n"
          ]
        },
        {
          "output_type": "stream",
          "name": "stderr",
          "text": [
            "\rEvaluate Train:  50%|█████     | 4/8 [00:03<00:03,  1.11it/s]"
          ]
        },
        {
          "output_type": "stream",
          "name": "stdout",
          "text": [
            "sample 11 num of prompts for COVID from total 12\n"
          ]
        },
        {
          "output_type": "stream",
          "name": "stderr",
          "text": [
            "\rEvaluate Train:  62%|██████▎   | 5/8 [00:04<00:02,  1.01it/s]"
          ]
        },
        {
          "output_type": "stream",
          "name": "stdout",
          "text": [
            "sample 11 num of prompts for COVID from total 12\n"
          ]
        },
        {
          "output_type": "stream",
          "name": "stderr",
          "text": [
            "\rEvaluate Train:  75%|███████▌  | 6/8 [00:05<00:01,  1.12it/s]"
          ]
        },
        {
          "output_type": "stream",
          "name": "stdout",
          "text": [
            "sample 11 num of prompts for COVID from total 12\n"
          ]
        },
        {
          "output_type": "stream",
          "name": "stderr",
          "text": [
            "\rEvaluate Train:  88%|████████▊ | 7/8 [00:07<00:01,  1.23s/it]"
          ]
        },
        {
          "output_type": "stream",
          "name": "stdout",
          "text": [
            "sample 11 num of prompts for COVID from total 12\n"
          ]
        },
        {
          "output_type": "stream",
          "name": "stderr",
          "text": [
            "Evaluate Train: 100%|██████████| 8/8 [00:08<00:00,  1.00s/it]\n",
            "Evaluate Validation:   0%|          | 0/2 [00:00<?, ?it/s]"
          ]
        },
        {
          "output_type": "stream",
          "name": "stdout",
          "text": [
            "sample 11 num of prompts for COVID from total 12\n"
          ]
        },
        {
          "output_type": "stream",
          "name": "stderr",
          "text": [
            "\rEvaluate Validation:  50%|█████     | 1/2 [00:00<00:00,  1.38it/s]"
          ]
        },
        {
          "output_type": "stream",
          "name": "stdout",
          "text": [
            "sample 11 num of prompts for COVID from total 12\n"
          ]
        },
        {
          "output_type": "stream",
          "name": "stderr",
          "text": [
            "Evaluate Validation: 100%|██████████| 2/2 [00:01<00:00,  1.01it/s]\n",
            "Evaluate Test:   0%|          | 0/3 [00:00<?, ?it/s]"
          ]
        },
        {
          "output_type": "stream",
          "name": "stdout",
          "text": [
            "sample 11 num of prompts for COVID from total 12\n"
          ]
        },
        {
          "output_type": "stream",
          "name": "stderr",
          "text": [
            "\rEvaluate Test:  33%|███▎      | 1/3 [00:00<00:01,  1.42it/s]"
          ]
        },
        {
          "output_type": "stream",
          "name": "stdout",
          "text": [
            "sample 11 num of prompts for COVID from total 12\n"
          ]
        },
        {
          "output_type": "stream",
          "name": "stderr",
          "text": [
            "\rEvaluate Test:  67%|██████▋   | 2/3 [00:01<00:00,  1.41it/s]"
          ]
        },
        {
          "output_type": "stream",
          "name": "stdout",
          "text": [
            "sample 11 num of prompts for COVID from total 12\n"
          ]
        },
        {
          "output_type": "stream",
          "name": "stderr",
          "text": [
            "Evaluate Test: 100%|██████████| 3/3 [00:03<00:00,  1.01s/it]\n"
          ]
        },
        {
          "output_type": "stream",
          "name": "stdout",
          "text": [
            "\n",
            "Accuracy: 0.9633, Precision: 0.9356, Recall: 0.9926, AUC: 0.9917\n"
          ]
        },
        {
          "output_type": "stream",
          "name": "stderr",
          "text": [
            "\rEvaluate Train:   0%|          | 0/8 [00:00<?, ?it/s]"
          ]
        },
        {
          "output_type": "stream",
          "name": "stdout",
          "text": [
            "sample 12 num of prompts for COVID from total 12\n"
          ]
        },
        {
          "output_type": "stream",
          "name": "stderr",
          "text": [
            "\rEvaluate Train:  12%|█▎        | 1/8 [00:00<00:05,  1.24it/s]"
          ]
        },
        {
          "output_type": "stream",
          "name": "stdout",
          "text": [
            "sample 12 num of prompts for COVID from total 12\n"
          ]
        },
        {
          "output_type": "stream",
          "name": "stderr",
          "text": [
            "\rEvaluate Train:  25%|██▌       | 2/8 [00:01<00:04,  1.38it/s]"
          ]
        },
        {
          "output_type": "stream",
          "name": "stdout",
          "text": [
            "sample 12 num of prompts for COVID from total 12\n"
          ]
        },
        {
          "output_type": "stream",
          "name": "stderr",
          "text": [
            "\rEvaluate Train:  38%|███▊      | 3/8 [00:01<00:03,  1.58it/s]"
          ]
        },
        {
          "output_type": "stream",
          "name": "stdout",
          "text": [
            "sample 12 num of prompts for COVID from total 12\n"
          ]
        },
        {
          "output_type": "stream",
          "name": "stderr",
          "text": [
            "\rEvaluate Train:  50%|█████     | 4/8 [00:02<00:02,  1.56it/s]"
          ]
        },
        {
          "output_type": "stream",
          "name": "stdout",
          "text": [
            "sample 12 num of prompts for COVID from total 12\n"
          ]
        },
        {
          "output_type": "stream",
          "name": "stderr",
          "text": [
            "\rEvaluate Train:  62%|██████▎   | 5/8 [00:03<00:02,  1.31it/s]"
          ]
        },
        {
          "output_type": "stream",
          "name": "stdout",
          "text": [
            "sample 12 num of prompts for COVID from total 12\n"
          ]
        },
        {
          "output_type": "stream",
          "name": "stderr",
          "text": [
            "\rEvaluate Train:  75%|███████▌  | 6/8 [00:04<00:01,  1.22it/s]"
          ]
        },
        {
          "output_type": "stream",
          "name": "stdout",
          "text": [
            "sample 12 num of prompts for COVID from total 12\n"
          ]
        },
        {
          "output_type": "stream",
          "name": "stderr",
          "text": [
            "\rEvaluate Train:  88%|████████▊ | 7/8 [00:05<00:00,  1.31it/s]"
          ]
        },
        {
          "output_type": "stream",
          "name": "stdout",
          "text": [
            "sample 12 num of prompts for COVID from total 12\n"
          ]
        },
        {
          "output_type": "stream",
          "name": "stderr",
          "text": [
            "Evaluate Train: 100%|██████████| 8/8 [00:06<00:00,  1.15it/s]\n",
            "Evaluate Validation:   0%|          | 0/2 [00:00<?, ?it/s]"
          ]
        },
        {
          "output_type": "stream",
          "name": "stdout",
          "text": [
            "sample 12 num of prompts for COVID from total 12\n"
          ]
        },
        {
          "output_type": "stream",
          "name": "stderr",
          "text": [
            "\rEvaluate Validation:  50%|█████     | 1/2 [00:00<00:00,  1.62it/s]"
          ]
        },
        {
          "output_type": "stream",
          "name": "stdout",
          "text": [
            "sample 12 num of prompts for COVID from total 12\n"
          ]
        },
        {
          "output_type": "stream",
          "name": "stderr",
          "text": [
            "Evaluate Validation: 100%|██████████| 2/2 [00:01<00:00,  1.76it/s]\n",
            "Evaluate Test:   0%|          | 0/3 [00:00<?, ?it/s]"
          ]
        },
        {
          "output_type": "stream",
          "name": "stdout",
          "text": [
            "sample 12 num of prompts for COVID from total 12\n"
          ]
        },
        {
          "output_type": "stream",
          "name": "stderr",
          "text": [
            "\rEvaluate Test:  33%|███▎      | 1/3 [00:00<00:01,  1.62it/s]"
          ]
        },
        {
          "output_type": "stream",
          "name": "stdout",
          "text": [
            "sample 12 num of prompts for COVID from total 12\n"
          ]
        },
        {
          "output_type": "stream",
          "name": "stderr",
          "text": [
            "\rEvaluate Test:  67%|██████▋   | 2/3 [00:01<00:00,  1.47it/s]"
          ]
        },
        {
          "output_type": "stream",
          "name": "stdout",
          "text": [
            "sample 12 num of prompts for COVID from total 12\n"
          ]
        },
        {
          "output_type": "stream",
          "name": "stderr",
          "text": [
            "Evaluate Test: 100%|██████████| 3/3 [00:01<00:00,  1.73it/s]\n"
          ]
        },
        {
          "output_type": "stream",
          "name": "stdout",
          "text": [
            "\n",
            "Accuracy: 0.9633, Precision: 0.9356, Recall: 0.9926, AUC: 0.9918\n",
            "Best AUC for covid_task with 7 prompts: 0.9920\n",
            "Results saved to results/zs_medclip_finetune/ucsd/medclip/classification_results.txt\n"
          ]
        },
        {
          "output_type": "stream",
          "name": "stderr",
          "text": [
            "\rEvaluate Train:   0%|          | 0/8 [00:00<?, ?it/s]"
          ]
        },
        {
          "output_type": "stream",
          "name": "stdout",
          "text": [
            "sample 1 num of prompts for Pneumonia from total 312\n"
          ]
        },
        {
          "output_type": "stream",
          "name": "stderr",
          "text": [
            "\rEvaluate Train:  12%|█▎        | 1/8 [00:00<00:04,  1.46it/s]"
          ]
        },
        {
          "output_type": "stream",
          "name": "stdout",
          "text": [
            "sample 1 num of prompts for Pneumonia from total 312\n"
          ]
        },
        {
          "output_type": "stream",
          "name": "stderr",
          "text": [
            "\rEvaluate Train:  25%|██▌       | 2/8 [00:01<00:03,  1.71it/s]"
          ]
        },
        {
          "output_type": "stream",
          "name": "stdout",
          "text": [
            "sample 1 num of prompts for Pneumonia from total 312\n"
          ]
        },
        {
          "output_type": "stream",
          "name": "stderr",
          "text": [
            "\rEvaluate Train:  38%|███▊      | 3/8 [00:01<00:03,  1.66it/s]"
          ]
        },
        {
          "output_type": "stream",
          "name": "stdout",
          "text": [
            "sample 1 num of prompts for Pneumonia from total 312\n"
          ]
        },
        {
          "output_type": "stream",
          "name": "stderr",
          "text": [
            "\rEvaluate Train:  50%|█████     | 4/8 [00:02<00:02,  1.45it/s]"
          ]
        },
        {
          "output_type": "stream",
          "name": "stdout",
          "text": [
            "sample 1 num of prompts for Pneumonia from total 312\n"
          ]
        },
        {
          "output_type": "stream",
          "name": "stderr",
          "text": [
            "\rEvaluate Train:  62%|██████▎   | 5/8 [00:03<00:01,  1.58it/s]"
          ]
        },
        {
          "output_type": "stream",
          "name": "stdout",
          "text": [
            "sample 1 num of prompts for Pneumonia from total 312\n"
          ]
        },
        {
          "output_type": "stream",
          "name": "stderr",
          "text": [
            "\rEvaluate Train:  75%|███████▌  | 6/8 [00:04<00:01,  1.42it/s]"
          ]
        },
        {
          "output_type": "stream",
          "name": "stdout",
          "text": [
            "sample 1 num of prompts for Pneumonia from total 312\n"
          ]
        },
        {
          "output_type": "stream",
          "name": "stderr",
          "text": [
            "\rEvaluate Train:  88%|████████▊ | 7/8 [00:07<00:01,  1.75s/it]"
          ]
        },
        {
          "output_type": "stream",
          "name": "stdout",
          "text": [
            "sample 1 num of prompts for Pneumonia from total 312\n"
          ]
        },
        {
          "output_type": "stream",
          "name": "stderr",
          "text": [
            "Evaluate Train: 100%|██████████| 8/8 [00:08<00:00,  1.06s/it]\n",
            "Evaluate Validation:   0%|          | 0/2 [00:00<?, ?it/s]"
          ]
        },
        {
          "output_type": "stream",
          "name": "stdout",
          "text": [
            "sample 1 num of prompts for Pneumonia from total 312\n"
          ]
        },
        {
          "output_type": "stream",
          "name": "stderr",
          "text": [
            "\rEvaluate Validation:  50%|█████     | 1/2 [00:00<00:00,  1.91it/s]"
          ]
        },
        {
          "output_type": "stream",
          "name": "stdout",
          "text": [
            "sample 1 num of prompts for Pneumonia from total 312\n"
          ]
        },
        {
          "output_type": "stream",
          "name": "stderr",
          "text": [
            "Evaluate Validation: 100%|██████████| 2/2 [00:01<00:00,  1.96it/s]\n",
            "Evaluate Test:   0%|          | 0/3 [00:00<?, ?it/s]"
          ]
        },
        {
          "output_type": "stream",
          "name": "stdout",
          "text": [
            "sample 1 num of prompts for Pneumonia from total 312\n"
          ]
        },
        {
          "output_type": "stream",
          "name": "stderr",
          "text": [
            "\rEvaluate Test:  33%|███▎      | 1/3 [00:00<00:01,  1.60it/s]"
          ]
        },
        {
          "output_type": "stream",
          "name": "stdout",
          "text": [
            "sample 1 num of prompts for Pneumonia from total 312\n"
          ]
        },
        {
          "output_type": "stream",
          "name": "stderr",
          "text": [
            "\rEvaluate Test:  67%|██████▋   | 2/3 [00:01<00:00,  1.73it/s]"
          ]
        },
        {
          "output_type": "stream",
          "name": "stdout",
          "text": [
            "sample 1 num of prompts for Pneumonia from total 312\n"
          ]
        },
        {
          "output_type": "stream",
          "name": "stderr",
          "text": [
            "Evaluate Test: 100%|██████████| 3/3 [00:02<00:00,  1.20it/s]\n"
          ]
        },
        {
          "output_type": "stream",
          "name": "stdout",
          "text": [
            "\n",
            "Accuracy: 0.9720, Precision: 0.9536, Recall: 0.9906, AUC: 0.9910\n"
          ]
        },
        {
          "output_type": "stream",
          "name": "stderr",
          "text": [
            "\rEvaluate Train:   0%|          | 0/8 [00:00<?, ?it/s]"
          ]
        },
        {
          "output_type": "stream",
          "name": "stdout",
          "text": [
            "sample 2 num of prompts for Pneumonia from total 312\n"
          ]
        },
        {
          "output_type": "stream",
          "name": "stderr",
          "text": [
            "\rEvaluate Train:  12%|█▎        | 1/8 [00:00<00:03,  1.89it/s]"
          ]
        },
        {
          "output_type": "stream",
          "name": "stdout",
          "text": [
            "sample 2 num of prompts for Pneumonia from total 312\n"
          ]
        },
        {
          "output_type": "stream",
          "name": "stderr",
          "text": [
            "\rEvaluate Train:  25%|██▌       | 2/8 [00:01<00:03,  1.73it/s]"
          ]
        },
        {
          "output_type": "stream",
          "name": "stdout",
          "text": [
            "sample 2 num of prompts for Pneumonia from total 312\n"
          ]
        },
        {
          "output_type": "stream",
          "name": "stderr",
          "text": [
            "\rEvaluate Train:  38%|███▊      | 3/8 [00:01<00:02,  1.71it/s]"
          ]
        },
        {
          "output_type": "stream",
          "name": "stdout",
          "text": [
            "sample 2 num of prompts for Pneumonia from total 312\n"
          ]
        },
        {
          "output_type": "stream",
          "name": "stderr",
          "text": [
            "\rEvaluate Train:  50%|█████     | 4/8 [00:02<00:02,  1.34it/s]"
          ]
        },
        {
          "output_type": "stream",
          "name": "stdout",
          "text": [
            "sample 2 num of prompts for Pneumonia from total 312\n"
          ]
        },
        {
          "output_type": "stream",
          "name": "stderr",
          "text": [
            "\rEvaluate Train:  62%|██████▎   | 5/8 [00:03<00:02,  1.29it/s]"
          ]
        },
        {
          "output_type": "stream",
          "name": "stdout",
          "text": [
            "sample 2 num of prompts for Pneumonia from total 312\n"
          ]
        },
        {
          "output_type": "stream",
          "name": "stderr",
          "text": [
            "\rEvaluate Train:  75%|███████▌  | 6/8 [00:04<00:01,  1.45it/s]"
          ]
        },
        {
          "output_type": "stream",
          "name": "stdout",
          "text": [
            "sample 2 num of prompts for Pneumonia from total 312\n"
          ]
        },
        {
          "output_type": "stream",
          "name": "stderr",
          "text": [
            "\rEvaluate Train:  88%|████████▊ | 7/8 [00:04<00:00,  1.41it/s]"
          ]
        },
        {
          "output_type": "stream",
          "name": "stdout",
          "text": [
            "sample 2 num of prompts for Pneumonia from total 312\n"
          ]
        },
        {
          "output_type": "stream",
          "name": "stderr",
          "text": [
            "Evaluate Train: 100%|██████████| 8/8 [00:06<00:00,  1.33it/s]\n",
            "Evaluate Validation:   0%|          | 0/2 [00:00<?, ?it/s]"
          ]
        },
        {
          "output_type": "stream",
          "name": "stdout",
          "text": [
            "sample 2 num of prompts for Pneumonia from total 312\n"
          ]
        },
        {
          "output_type": "stream",
          "name": "stderr",
          "text": [
            "\rEvaluate Validation:  50%|█████     | 1/2 [00:00<00:00,  1.43it/s]"
          ]
        },
        {
          "output_type": "stream",
          "name": "stdout",
          "text": [
            "sample 2 num of prompts for Pneumonia from total 312\n"
          ]
        },
        {
          "output_type": "stream",
          "name": "stderr",
          "text": [
            "Evaluate Validation: 100%|██████████| 2/2 [00:01<00:00,  1.31it/s]\n",
            "Evaluate Test:   0%|          | 0/3 [00:00<?, ?it/s]"
          ]
        },
        {
          "output_type": "stream",
          "name": "stdout",
          "text": [
            "sample 2 num of prompts for Pneumonia from total 312\n"
          ]
        },
        {
          "output_type": "stream",
          "name": "stderr",
          "text": [
            "\rEvaluate Test:  33%|███▎      | 1/3 [00:00<00:01,  1.91it/s]"
          ]
        },
        {
          "output_type": "stream",
          "name": "stdout",
          "text": [
            "sample 2 num of prompts for Pneumonia from total 312\n"
          ]
        },
        {
          "output_type": "stream",
          "name": "stderr",
          "text": [
            "\rEvaluate Test:  67%|██████▋   | 2/3 [00:01<00:00,  1.84it/s]"
          ]
        },
        {
          "output_type": "stream",
          "name": "stdout",
          "text": [
            "sample 2 num of prompts for Pneumonia from total 312\n"
          ]
        },
        {
          "output_type": "stream",
          "name": "stderr",
          "text": [
            "Evaluate Test: 100%|██████████| 3/3 [00:01<00:00,  1.65it/s]\n"
          ]
        },
        {
          "output_type": "stream",
          "name": "stdout",
          "text": [
            "\n",
            "Accuracy: 0.9246, Precision: 0.8707, Recall: 0.9920, AUC: 0.9655\n"
          ]
        },
        {
          "output_type": "stream",
          "name": "stderr",
          "text": [
            "\rEvaluate Train:   0%|          | 0/8 [00:00<?, ?it/s]"
          ]
        },
        {
          "output_type": "stream",
          "name": "stdout",
          "text": [
            "sample 3 num of prompts for Pneumonia from total 312\n"
          ]
        },
        {
          "output_type": "stream",
          "name": "stderr",
          "text": [
            "\rEvaluate Train:  12%|█▎        | 1/8 [00:00<00:04,  1.69it/s]"
          ]
        },
        {
          "output_type": "stream",
          "name": "stdout",
          "text": [
            "sample 3 num of prompts for Pneumonia from total 312\n"
          ]
        },
        {
          "output_type": "stream",
          "name": "stderr",
          "text": [
            "\rEvaluate Train:  25%|██▌       | 2/8 [00:01<00:03,  1.75it/s]"
          ]
        },
        {
          "output_type": "stream",
          "name": "stdout",
          "text": [
            "sample 3 num of prompts for Pneumonia from total 312\n"
          ]
        },
        {
          "output_type": "stream",
          "name": "stderr",
          "text": [
            "Evaluate Train:  50%|█████     | 4/8 [00:02<00:02,  1.78it/s]"
          ]
        },
        {
          "output_type": "stream",
          "name": "stdout",
          "text": [
            "sample 3 num of prompts for Pneumonia from total 312\n",
            "sample 3 num of prompts for Pneumonia from total 312\n"
          ]
        },
        {
          "output_type": "stream",
          "name": "stderr",
          "text": [
            "\rEvaluate Train:  62%|██████▎   | 5/8 [00:03<00:01,  1.51it/s]"
          ]
        },
        {
          "output_type": "stream",
          "name": "stdout",
          "text": [
            "sample 3 num of prompts for Pneumonia from total 312\n"
          ]
        },
        {
          "output_type": "stream",
          "name": "stderr",
          "text": [
            "\rEvaluate Train:  75%|███████▌  | 6/8 [00:04<00:01,  1.32it/s]"
          ]
        },
        {
          "output_type": "stream",
          "name": "stdout",
          "text": [
            "sample 3 num of prompts for Pneumonia from total 312\n"
          ]
        },
        {
          "output_type": "stream",
          "name": "stderr",
          "text": [
            "\rEvaluate Train:  88%|████████▊ | 7/8 [00:04<00:00,  1.42it/s]"
          ]
        },
        {
          "output_type": "stream",
          "name": "stdout",
          "text": [
            "sample 3 num of prompts for Pneumonia from total 312\n"
          ]
        },
        {
          "output_type": "stream",
          "name": "stderr",
          "text": [
            "Evaluate Train: 100%|██████████| 8/8 [00:05<00:00,  1.43it/s]\n",
            "Evaluate Validation:   0%|          | 0/2 [00:00<?, ?it/s]"
          ]
        },
        {
          "output_type": "stream",
          "name": "stdout",
          "text": [
            "sample 3 num of prompts for Pneumonia from total 312\n"
          ]
        },
        {
          "output_type": "stream",
          "name": "stderr",
          "text": [
            "\rEvaluate Validation:  50%|█████     | 1/2 [00:00<00:00,  1.55it/s]"
          ]
        },
        {
          "output_type": "stream",
          "name": "stdout",
          "text": [
            "sample 3 num of prompts for Pneumonia from total 312\n"
          ]
        },
        {
          "output_type": "stream",
          "name": "stderr",
          "text": [
            "Evaluate Validation: 100%|██████████| 2/2 [00:01<00:00,  1.39it/s]\n",
            "Evaluate Test:   0%|          | 0/3 [00:00<?, ?it/s]"
          ]
        },
        {
          "output_type": "stream",
          "name": "stdout",
          "text": [
            "sample 3 num of prompts for Pneumonia from total 312\n"
          ]
        },
        {
          "output_type": "stream",
          "name": "stderr",
          "text": [
            "\rEvaluate Test:  33%|███▎      | 1/3 [00:00<00:01,  1.90it/s]"
          ]
        },
        {
          "output_type": "stream",
          "name": "stdout",
          "text": [
            "sample 3 num of prompts for Pneumonia from total 312\n"
          ]
        },
        {
          "output_type": "stream",
          "name": "stderr",
          "text": [
            "\rEvaluate Test:  67%|██████▋   | 2/3 [00:01<00:00,  1.92it/s]"
          ]
        },
        {
          "output_type": "stream",
          "name": "stdout",
          "text": [
            "sample 3 num of prompts for Pneumonia from total 312\n"
          ]
        },
        {
          "output_type": "stream",
          "name": "stderr",
          "text": [
            "Evaluate Test: 100%|██████████| 3/3 [00:02<00:00,  1.18it/s]\n"
          ]
        },
        {
          "output_type": "stream",
          "name": "stdout",
          "text": [
            "\n",
            "Accuracy: 0.8709, Precision: 0.7927, Recall: 0.9940, AUC: 0.9263\n"
          ]
        },
        {
          "output_type": "stream",
          "name": "stderr",
          "text": [
            "\rEvaluate Train:   0%|          | 0/8 [00:00<?, ?it/s]"
          ]
        },
        {
          "output_type": "stream",
          "name": "stdout",
          "text": [
            "sample 4 num of prompts for Pneumonia from total 312\n"
          ]
        },
        {
          "output_type": "stream",
          "name": "stderr",
          "text": [
            "\rEvaluate Train:  12%|█▎        | 1/8 [00:00<00:04,  1.54it/s]"
          ]
        },
        {
          "output_type": "stream",
          "name": "stdout",
          "text": [
            "sample 4 num of prompts for Pneumonia from total 312\n"
          ]
        },
        {
          "output_type": "stream",
          "name": "stderr",
          "text": [
            "\rEvaluate Train:  25%|██▌       | 2/8 [00:01<00:03,  1.73it/s]"
          ]
        },
        {
          "output_type": "stream",
          "name": "stdout",
          "text": [
            "sample 4 num of prompts for Pneumonia from total 312\n"
          ]
        },
        {
          "output_type": "stream",
          "name": "stderr",
          "text": [
            "\rEvaluate Train:  38%|███▊      | 3/8 [00:02<00:04,  1.07it/s]"
          ]
        },
        {
          "output_type": "stream",
          "name": "stdout",
          "text": [
            "sample 4 num of prompts for Pneumonia from total 312\n"
          ]
        },
        {
          "output_type": "stream",
          "name": "stderr",
          "text": [
            "\rEvaluate Train:  50%|█████     | 4/8 [00:03<00:03,  1.06it/s]"
          ]
        },
        {
          "output_type": "stream",
          "name": "stdout",
          "text": [
            "sample 4 num of prompts for Pneumonia from total 312\n"
          ]
        },
        {
          "output_type": "stream",
          "name": "stderr",
          "text": [
            "\rEvaluate Train:  62%|██████▎   | 5/8 [00:04<00:02,  1.06it/s]"
          ]
        },
        {
          "output_type": "stream",
          "name": "stdout",
          "text": [
            "sample 4 num of prompts for Pneumonia from total 312\n"
          ]
        },
        {
          "output_type": "stream",
          "name": "stderr",
          "text": [
            "\rEvaluate Train:  75%|███████▌  | 6/8 [00:04<00:01,  1.23it/s]"
          ]
        },
        {
          "output_type": "stream",
          "name": "stdout",
          "text": [
            "sample 4 num of prompts for Pneumonia from total 312\n"
          ]
        },
        {
          "output_type": "stream",
          "name": "stderr",
          "text": [
            "\rEvaluate Train:  88%|████████▊ | 7/8 [00:05<00:00,  1.35it/s]"
          ]
        },
        {
          "output_type": "stream",
          "name": "stdout",
          "text": [
            "sample 4 num of prompts for Pneumonia from total 312\n"
          ]
        },
        {
          "output_type": "stream",
          "name": "stderr",
          "text": [
            "Evaluate Train: 100%|██████████| 8/8 [00:06<00:00,  1.16it/s]\n",
            "Evaluate Validation:   0%|          | 0/2 [00:00<?, ?it/s]"
          ]
        },
        {
          "output_type": "stream",
          "name": "stdout",
          "text": [
            "sample 4 num of prompts for Pneumonia from total 312\n"
          ]
        },
        {
          "output_type": "stream",
          "name": "stderr",
          "text": [
            "\rEvaluate Validation:  50%|█████     | 1/2 [00:00<00:00,  1.88it/s]"
          ]
        },
        {
          "output_type": "stream",
          "name": "stdout",
          "text": [
            "sample 4 num of prompts for Pneumonia from total 312\n"
          ]
        },
        {
          "output_type": "stream",
          "name": "stderr",
          "text": [
            "Evaluate Validation: 100%|██████████| 2/2 [00:01<00:00,  1.93it/s]\n",
            "Evaluate Test:   0%|          | 0/3 [00:00<?, ?it/s]"
          ]
        },
        {
          "output_type": "stream",
          "name": "stdout",
          "text": [
            "sample 4 num of prompts for Pneumonia from total 312\n"
          ]
        },
        {
          "output_type": "stream",
          "name": "stderr",
          "text": [
            "\rEvaluate Test:  33%|███▎      | 1/3 [00:00<00:01,  1.55it/s]"
          ]
        },
        {
          "output_type": "stream",
          "name": "stdout",
          "text": [
            "sample 4 num of prompts for Pneumonia from total 312\n"
          ]
        },
        {
          "output_type": "stream",
          "name": "stderr",
          "text": [
            "\rEvaluate Test:  67%|██████▋   | 2/3 [00:01<00:00,  1.71it/s]"
          ]
        },
        {
          "output_type": "stream",
          "name": "stdout",
          "text": [
            "sample 4 num of prompts for Pneumonia from total 312\n"
          ]
        },
        {
          "output_type": "stream",
          "name": "stderr",
          "text": [
            "Evaluate Test: 100%|██████████| 3/3 [00:01<00:00,  1.71it/s]\n"
          ]
        },
        {
          "output_type": "stream",
          "name": "stdout",
          "text": [
            "\n",
            "Accuracy: 0.9204, Precision: 0.8624, Recall: 0.9946, AUC: 0.9882\n"
          ]
        },
        {
          "output_type": "stream",
          "name": "stderr",
          "text": [
            "\rEvaluate Train:   0%|          | 0/8 [00:00<?, ?it/s]"
          ]
        },
        {
          "output_type": "stream",
          "name": "stdout",
          "text": [
            "sample 5 num of prompts for Pneumonia from total 312\n"
          ]
        },
        {
          "output_type": "stream",
          "name": "stderr",
          "text": [
            "\rEvaluate Train:  12%|█▎        | 1/8 [00:01<00:07,  1.05s/it]"
          ]
        },
        {
          "output_type": "stream",
          "name": "stdout",
          "text": [
            "sample 5 num of prompts for Pneumonia from total 312\n"
          ]
        },
        {
          "output_type": "stream",
          "name": "stderr",
          "text": [
            "\rEvaluate Train:  25%|██▌       | 2/8 [00:01<00:05,  1.19it/s]"
          ]
        },
        {
          "output_type": "stream",
          "name": "stdout",
          "text": [
            "sample 5 num of prompts for Pneumonia from total 312\n"
          ]
        },
        {
          "output_type": "stream",
          "name": "stderr",
          "text": [
            "\rEvaluate Train:  38%|███▊      | 3/8 [00:02<00:03,  1.44it/s]"
          ]
        },
        {
          "output_type": "stream",
          "name": "stdout",
          "text": [
            "sample 5 num of prompts for Pneumonia from total 312\n"
          ]
        },
        {
          "output_type": "stream",
          "name": "stderr",
          "text": [
            "\rEvaluate Train:  50%|█████     | 4/8 [00:02<00:02,  1.58it/s]"
          ]
        },
        {
          "output_type": "stream",
          "name": "stdout",
          "text": [
            "sample 5 num of prompts for Pneumonia from total 312\n"
          ]
        },
        {
          "output_type": "stream",
          "name": "stderr",
          "text": [
            "\rEvaluate Train:  62%|██████▎   | 5/8 [00:03<00:01,  1.66it/s]"
          ]
        },
        {
          "output_type": "stream",
          "name": "stdout",
          "text": [
            "sample 5 num of prompts for Pneumonia from total 312\n"
          ]
        },
        {
          "output_type": "stream",
          "name": "stderr",
          "text": [
            "\rEvaluate Train:  75%|███████▌  | 6/8 [00:03<00:01,  1.72it/s]"
          ]
        },
        {
          "output_type": "stream",
          "name": "stdout",
          "text": [
            "sample 5 num of prompts for Pneumonia from total 312\n"
          ]
        },
        {
          "output_type": "stream",
          "name": "stderr",
          "text": [
            "\rEvaluate Train:  88%|████████▊ | 7/8 [00:04<00:00,  1.50it/s]"
          ]
        },
        {
          "output_type": "stream",
          "name": "stdout",
          "text": [
            "sample 5 num of prompts for Pneumonia from total 312\n"
          ]
        },
        {
          "output_type": "stream",
          "name": "stderr",
          "text": [
            "Evaluate Train: 100%|██████████| 8/8 [00:05<00:00,  1.41it/s]\n",
            "Evaluate Validation:   0%|          | 0/2 [00:00<?, ?it/s]"
          ]
        },
        {
          "output_type": "stream",
          "name": "stdout",
          "text": [
            "sample 5 num of prompts for Pneumonia from total 312\n"
          ]
        },
        {
          "output_type": "stream",
          "name": "stderr",
          "text": [
            "\rEvaluate Validation:  50%|█████     | 1/2 [00:00<00:00,  1.80it/s]"
          ]
        },
        {
          "output_type": "stream",
          "name": "stdout",
          "text": [
            "sample 5 num of prompts for Pneumonia from total 312\n"
          ]
        },
        {
          "output_type": "stream",
          "name": "stderr",
          "text": [
            "Evaluate Validation: 100%|██████████| 2/2 [00:01<00:00,  1.59it/s]\n",
            "Evaluate Test:   0%|          | 0/3 [00:00<?, ?it/s]"
          ]
        },
        {
          "output_type": "stream",
          "name": "stdout",
          "text": [
            "sample 5 num of prompts for Pneumonia from total 312\n"
          ]
        },
        {
          "output_type": "stream",
          "name": "stderr",
          "text": [
            "\rEvaluate Test:  33%|███▎      | 1/3 [00:02<00:04,  2.35s/it]"
          ]
        },
        {
          "output_type": "stream",
          "name": "stdout",
          "text": [
            "sample 5 num of prompts for Pneumonia from total 312\n"
          ]
        },
        {
          "output_type": "stream",
          "name": "stderr",
          "text": [
            "\rEvaluate Test:  67%|██████▋   | 2/3 [00:03<00:01,  1.43s/it]"
          ]
        },
        {
          "output_type": "stream",
          "name": "stdout",
          "text": [
            "sample 5 num of prompts for Pneumonia from total 312\n"
          ]
        },
        {
          "output_type": "stream",
          "name": "stderr",
          "text": [
            "Evaluate Test: 100%|██████████| 3/3 [00:04<00:00,  1.43s/it]\n"
          ]
        },
        {
          "output_type": "stream",
          "name": "stdout",
          "text": [
            "\n",
            "Accuracy: 0.8800, Precision: 0.8048, Recall: 0.9940, AUC: 0.9860\n"
          ]
        },
        {
          "output_type": "stream",
          "name": "stderr",
          "text": [
            "Evaluate Train:  12%|█▎        | 1/8 [00:00<00:04,  1.52it/s]"
          ]
        },
        {
          "output_type": "stream",
          "name": "stdout",
          "text": [
            "sample 6 num of prompts for Pneumonia from total 312\n",
            "sample 6 num of prompts for Pneumonia from total 312\n"
          ]
        },
        {
          "output_type": "stream",
          "name": "stderr",
          "text": [
            "\rEvaluate Train:  25%|██▌       | 2/8 [00:01<00:04,  1.35it/s]"
          ]
        },
        {
          "output_type": "stream",
          "name": "stdout",
          "text": [
            "sample 6 num of prompts for Pneumonia from total 312\n"
          ]
        },
        {
          "output_type": "stream",
          "name": "stderr",
          "text": [
            "\rEvaluate Train:  38%|███▊      | 3/8 [00:02<00:03,  1.53it/s]"
          ]
        },
        {
          "output_type": "stream",
          "name": "stdout",
          "text": [
            "sample 6 num of prompts for Pneumonia from total 312\n"
          ]
        },
        {
          "output_type": "stream",
          "name": "stderr",
          "text": [
            "\rEvaluate Train:  50%|█████     | 4/8 [00:02<00:02,  1.63it/s]"
          ]
        },
        {
          "output_type": "stream",
          "name": "stdout",
          "text": [
            "sample 6 num of prompts for Pneumonia from total 312\n"
          ]
        },
        {
          "output_type": "stream",
          "name": "stderr",
          "text": [
            "\rEvaluate Train:  62%|██████▎   | 5/8 [00:03<00:02,  1.32it/s]"
          ]
        },
        {
          "output_type": "stream",
          "name": "stdout",
          "text": [
            "sample 6 num of prompts for Pneumonia from total 312\n"
          ]
        },
        {
          "output_type": "stream",
          "name": "stderr",
          "text": [
            "\rEvaluate Train:  75%|███████▌  | 6/8 [00:04<00:01,  1.32it/s]"
          ]
        },
        {
          "output_type": "stream",
          "name": "stdout",
          "text": [
            "sample 6 num of prompts for Pneumonia from total 312\n"
          ]
        },
        {
          "output_type": "stream",
          "name": "stderr",
          "text": [
            "\rEvaluate Train:  88%|████████▊ | 7/8 [00:05<00:00,  1.13it/s]"
          ]
        },
        {
          "output_type": "stream",
          "name": "stdout",
          "text": [
            "sample 6 num of prompts for Pneumonia from total 312\n"
          ]
        },
        {
          "output_type": "stream",
          "name": "stderr",
          "text": [
            "Evaluate Train: 100%|██████████| 8/8 [00:05<00:00,  1.35it/s]\n",
            "Evaluate Validation:   0%|          | 0/2 [00:00<?, ?it/s]"
          ]
        },
        {
          "output_type": "stream",
          "name": "stdout",
          "text": [
            "sample 6 num of prompts for Pneumonia from total 312\n"
          ]
        },
        {
          "output_type": "stream",
          "name": "stderr",
          "text": [
            "\rEvaluate Validation:  50%|█████     | 1/2 [00:00<00:00,  1.91it/s]"
          ]
        },
        {
          "output_type": "stream",
          "name": "stdout",
          "text": [
            "sample 6 num of prompts for Pneumonia from total 312\n"
          ]
        },
        {
          "output_type": "stream",
          "name": "stderr",
          "text": [
            "Evaluate Validation: 100%|██████████| 2/2 [00:01<00:00,  1.03it/s]\n",
            "Evaluate Test:   0%|          | 0/3 [00:00<?, ?it/s]"
          ]
        },
        {
          "output_type": "stream",
          "name": "stdout",
          "text": [
            "sample 6 num of prompts for Pneumonia from total 312\n"
          ]
        },
        {
          "output_type": "stream",
          "name": "stderr",
          "text": [
            "\rEvaluate Test:  33%|███▎      | 1/3 [00:00<00:01,  1.92it/s]"
          ]
        },
        {
          "output_type": "stream",
          "name": "stdout",
          "text": [
            "sample 6 num of prompts for Pneumonia from total 312\n"
          ]
        },
        {
          "output_type": "stream",
          "name": "stderr",
          "text": [
            "\rEvaluate Test:  67%|██████▋   | 2/3 [00:01<00:00,  1.41it/s]"
          ]
        },
        {
          "output_type": "stream",
          "name": "stdout",
          "text": [
            "sample 6 num of prompts for Pneumonia from total 312\n"
          ]
        },
        {
          "output_type": "stream",
          "name": "stderr",
          "text": [
            "Evaluate Test: 100%|██████████| 3/3 [00:02<00:00,  1.28it/s]\n"
          ]
        },
        {
          "output_type": "stream",
          "name": "stdout",
          "text": [
            "\n",
            "Accuracy: 0.8654, Precision: 0.7847, Recall: 0.9960, AUC: 0.9879\n"
          ]
        },
        {
          "output_type": "stream",
          "name": "stderr",
          "text": [
            "\rEvaluate Train:   0%|          | 0/8 [00:00<?, ?it/s]"
          ]
        },
        {
          "output_type": "stream",
          "name": "stdout",
          "text": [
            "sample 7 num of prompts for Pneumonia from total 312\n"
          ]
        },
        {
          "output_type": "stream",
          "name": "stderr",
          "text": [
            "\rEvaluate Train:  12%|█▎        | 1/8 [00:00<00:03,  1.88it/s]"
          ]
        },
        {
          "output_type": "stream",
          "name": "stdout",
          "text": [
            "sample 7 num of prompts for Pneumonia from total 312\n"
          ]
        },
        {
          "output_type": "stream",
          "name": "stderr",
          "text": [
            "\rEvaluate Train:  25%|██▌       | 2/8 [00:01<00:05,  1.15it/s]"
          ]
        },
        {
          "output_type": "stream",
          "name": "stdout",
          "text": [
            "sample 7 num of prompts for Pneumonia from total 312\n"
          ]
        },
        {
          "output_type": "stream",
          "name": "stderr",
          "text": [
            "\rEvaluate Train:  38%|███▊      | 3/8 [00:02<00:03,  1.36it/s]"
          ]
        },
        {
          "output_type": "stream",
          "name": "stdout",
          "text": [
            "sample 7 num of prompts for Pneumonia from total 312\n"
          ]
        },
        {
          "output_type": "stream",
          "name": "stderr",
          "text": [
            "\rEvaluate Train:  50%|█████     | 4/8 [00:03<00:03,  1.26it/s]"
          ]
        },
        {
          "output_type": "stream",
          "name": "stdout",
          "text": [
            "sample 7 num of prompts for Pneumonia from total 312\n"
          ]
        },
        {
          "output_type": "stream",
          "name": "stderr",
          "text": [
            "\rEvaluate Train:  62%|██████▎   | 5/8 [00:03<00:02,  1.43it/s]"
          ]
        },
        {
          "output_type": "stream",
          "name": "stdout",
          "text": [
            "sample 7 num of prompts for Pneumonia from total 312\n"
          ]
        },
        {
          "output_type": "stream",
          "name": "stderr",
          "text": [
            "\rEvaluate Train:  75%|███████▌  | 6/8 [00:04<00:01,  1.54it/s]"
          ]
        },
        {
          "output_type": "stream",
          "name": "stdout",
          "text": [
            "sample 7 num of prompts for Pneumonia from total 312\n"
          ]
        },
        {
          "output_type": "stream",
          "name": "stderr",
          "text": [
            "\rEvaluate Train:  88%|████████▊ | 7/8 [00:05<00:00,  1.31it/s]"
          ]
        },
        {
          "output_type": "stream",
          "name": "stdout",
          "text": [
            "sample 7 num of prompts for Pneumonia from total 312\n"
          ]
        },
        {
          "output_type": "stream",
          "name": "stderr",
          "text": [
            "Evaluate Train: 100%|██████████| 8/8 [00:06<00:00,  1.28it/s]\n",
            "Evaluate Validation:   0%|          | 0/2 [00:00<?, ?it/s]"
          ]
        },
        {
          "output_type": "stream",
          "name": "stdout",
          "text": [
            "sample 7 num of prompts for Pneumonia from total 312\n"
          ]
        },
        {
          "output_type": "stream",
          "name": "stderr",
          "text": [
            "\rEvaluate Validation:  50%|█████     | 1/2 [00:00<00:00,  1.36it/s]"
          ]
        },
        {
          "output_type": "stream",
          "name": "stdout",
          "text": [
            "sample 7 num of prompts for Pneumonia from total 312\n"
          ]
        },
        {
          "output_type": "stream",
          "name": "stderr",
          "text": [
            "Evaluate Validation: 100%|██████████| 2/2 [00:01<00:00,  1.39it/s]\n",
            "Evaluate Test:   0%|          | 0/3 [00:00<?, ?it/s]"
          ]
        },
        {
          "output_type": "stream",
          "name": "stdout",
          "text": [
            "sample 7 num of prompts for Pneumonia from total 312\n"
          ]
        },
        {
          "output_type": "stream",
          "name": "stderr",
          "text": [
            "\rEvaluate Test:  33%|███▎      | 1/3 [00:00<00:01,  1.13it/s]"
          ]
        },
        {
          "output_type": "stream",
          "name": "stdout",
          "text": [
            "sample 7 num of prompts for Pneumonia from total 312\n"
          ]
        },
        {
          "output_type": "stream",
          "name": "stderr",
          "text": [
            "\rEvaluate Test:  67%|██████▋   | 2/3 [00:01<00:00,  1.43it/s]"
          ]
        },
        {
          "output_type": "stream",
          "name": "stdout",
          "text": [
            "sample 7 num of prompts for Pneumonia from total 312\n"
          ]
        },
        {
          "output_type": "stream",
          "name": "stderr",
          "text": [
            "Evaluate Test: 100%|██████████| 3/3 [00:02<00:00,  1.32it/s]\n"
          ]
        },
        {
          "output_type": "stream",
          "name": "stdout",
          "text": [
            "\n",
            "Accuracy: 0.8186, Precision: 0.7291, Recall: 0.9967, AUC: 0.9502\n"
          ]
        },
        {
          "output_type": "stream",
          "name": "stderr",
          "text": [
            "\rEvaluate Train:   0%|          | 0/8 [00:00<?, ?it/s]"
          ]
        },
        {
          "output_type": "stream",
          "name": "stdout",
          "text": [
            "sample 8 num of prompts for Pneumonia from total 312\n"
          ]
        },
        {
          "output_type": "stream",
          "name": "stderr",
          "text": [
            "\rEvaluate Train:  12%|█▎        | 1/8 [00:00<00:03,  1.88it/s]"
          ]
        },
        {
          "output_type": "stream",
          "name": "stdout",
          "text": [
            "sample 8 num of prompts for Pneumonia from total 312\n"
          ]
        },
        {
          "output_type": "stream",
          "name": "stderr",
          "text": [
            "\rEvaluate Train:  25%|██▌       | 2/8 [00:01<00:03,  1.89it/s]"
          ]
        },
        {
          "output_type": "stream",
          "name": "stdout",
          "text": [
            "sample 8 num of prompts for Pneumonia from total 312\n"
          ]
        },
        {
          "output_type": "stream",
          "name": "stderr",
          "text": [
            "\rEvaluate Train:  38%|███▊      | 3/8 [00:02<00:03,  1.28it/s]"
          ]
        },
        {
          "output_type": "stream",
          "name": "stdout",
          "text": [
            "sample 8 num of prompts for Pneumonia from total 312\n"
          ]
        },
        {
          "output_type": "stream",
          "name": "stderr",
          "text": [
            "\rEvaluate Train:  50%|█████     | 4/8 [00:02<00:02,  1.47it/s]"
          ]
        },
        {
          "output_type": "stream",
          "name": "stdout",
          "text": [
            "sample 8 num of prompts for Pneumonia from total 312\n"
          ]
        },
        {
          "output_type": "stream",
          "name": "stderr",
          "text": [
            "\rEvaluate Train:  62%|██████▎   | 5/8 [00:03<00:02,  1.38it/s]"
          ]
        },
        {
          "output_type": "stream",
          "name": "stdout",
          "text": [
            "sample 8 num of prompts for Pneumonia from total 312\n"
          ]
        },
        {
          "output_type": "stream",
          "name": "stderr",
          "text": [
            "\rEvaluate Train:  75%|███████▌  | 6/8 [00:03<00:01,  1.52it/s]"
          ]
        },
        {
          "output_type": "stream",
          "name": "stdout",
          "text": [
            "sample 8 num of prompts for Pneumonia from total 312\n"
          ]
        },
        {
          "output_type": "stream",
          "name": "stderr",
          "text": [
            "\rEvaluate Train:  88%|████████▊ | 7/8 [00:05<00:00,  1.24it/s]"
          ]
        },
        {
          "output_type": "stream",
          "name": "stdout",
          "text": [
            "sample 8 num of prompts for Pneumonia from total 312\n"
          ]
        },
        {
          "output_type": "stream",
          "name": "stderr",
          "text": [
            "Evaluate Train: 100%|██████████| 8/8 [00:05<00:00,  1.44it/s]\n",
            "Evaluate Validation:   0%|          | 0/2 [00:00<?, ?it/s]"
          ]
        },
        {
          "output_type": "stream",
          "name": "stdout",
          "text": [
            "sample 8 num of prompts for Pneumonia from total 312\n"
          ]
        },
        {
          "output_type": "stream",
          "name": "stderr",
          "text": [
            "\rEvaluate Validation:  50%|█████     | 1/2 [00:01<00:01,  1.09s/it]"
          ]
        },
        {
          "output_type": "stream",
          "name": "stdout",
          "text": [
            "sample 8 num of prompts for Pneumonia from total 312\n"
          ]
        },
        {
          "output_type": "stream",
          "name": "stderr",
          "text": [
            "Evaluate Validation: 100%|██████████| 2/2 [00:02<00:00,  1.05s/it]\n",
            "Evaluate Test:   0%|          | 0/3 [00:00<?, ?it/s]"
          ]
        },
        {
          "output_type": "stream",
          "name": "stdout",
          "text": [
            "sample 8 num of prompts for Pneumonia from total 312\n"
          ]
        },
        {
          "output_type": "stream",
          "name": "stderr",
          "text": [
            "\rEvaluate Test:  33%|███▎      | 1/3 [00:00<00:01,  1.89it/s]"
          ]
        },
        {
          "output_type": "stream",
          "name": "stdout",
          "text": [
            "sample 8 num of prompts for Pneumonia from total 312\n"
          ]
        },
        {
          "output_type": "stream",
          "name": "stderr",
          "text": [
            "\rEvaluate Test:  67%|██████▋   | 2/3 [00:01<00:00,  1.30it/s]"
          ]
        },
        {
          "output_type": "stream",
          "name": "stdout",
          "text": [
            "sample 8 num of prompts for Pneumonia from total 312\n"
          ]
        },
        {
          "output_type": "stream",
          "name": "stderr",
          "text": [
            "Evaluate Test: 100%|██████████| 3/3 [00:01<00:00,  1.63it/s]\n"
          ]
        },
        {
          "output_type": "stream",
          "name": "stdout",
          "text": [
            "\n",
            "Accuracy: 0.8017, Precision: 0.7111, Recall: 0.9960, AUC: 0.9474\n"
          ]
        },
        {
          "output_type": "stream",
          "name": "stderr",
          "text": [
            "\rEvaluate Train:   0%|          | 0/8 [00:00<?, ?it/s]"
          ]
        },
        {
          "output_type": "stream",
          "name": "stdout",
          "text": [
            "sample 9 num of prompts for Pneumonia from total 312\n"
          ]
        },
        {
          "output_type": "stream",
          "name": "stderr",
          "text": [
            "\rEvaluate Train:  12%|█▎        | 1/8 [00:00<00:03,  1.87it/s]"
          ]
        },
        {
          "output_type": "stream",
          "name": "stdout",
          "text": [
            "sample 9 num of prompts for Pneumonia from total 312\n"
          ]
        },
        {
          "output_type": "stream",
          "name": "stderr",
          "text": [
            "\rEvaluate Train:  25%|██▌       | 2/8 [00:01<00:05,  1.19it/s]"
          ]
        },
        {
          "output_type": "stream",
          "name": "stdout",
          "text": [
            "sample 9 num of prompts for Pneumonia from total 312\n"
          ]
        },
        {
          "output_type": "stream",
          "name": "stderr",
          "text": [
            "\rEvaluate Train:  38%|███▊      | 3/8 [00:02<00:04,  1.11it/s]"
          ]
        },
        {
          "output_type": "stream",
          "name": "stdout",
          "text": [
            "sample 9 num of prompts for Pneumonia from total 312\n"
          ]
        },
        {
          "output_type": "stream",
          "name": "stderr",
          "text": [
            "\rEvaluate Train:  50%|█████     | 4/8 [00:03<00:03,  1.33it/s]"
          ]
        },
        {
          "output_type": "stream",
          "name": "stdout",
          "text": [
            "sample 9 num of prompts for Pneumonia from total 312\n"
          ]
        },
        {
          "output_type": "stream",
          "name": "stderr",
          "text": [
            "\rEvaluate Train:  62%|██████▎   | 5/8 [00:03<00:02,  1.49it/s]"
          ]
        },
        {
          "output_type": "stream",
          "name": "stdout",
          "text": [
            "sample 9 num of prompts for Pneumonia from total 312\n"
          ]
        },
        {
          "output_type": "stream",
          "name": "stderr",
          "text": [
            "\rEvaluate Train:  75%|███████▌  | 6/8 [00:04<00:01,  1.17it/s]"
          ]
        },
        {
          "output_type": "stream",
          "name": "stdout",
          "text": [
            "sample 9 num of prompts for Pneumonia from total 312\n"
          ]
        },
        {
          "output_type": "stream",
          "name": "stderr",
          "text": [
            "\rEvaluate Train:  88%|████████▊ | 7/8 [00:05<00:00,  1.19it/s]"
          ]
        },
        {
          "output_type": "stream",
          "name": "stdout",
          "text": [
            "sample 9 num of prompts for Pneumonia from total 312\n"
          ]
        },
        {
          "output_type": "stream",
          "name": "stderr",
          "text": [
            "Evaluate Train: 100%|██████████| 8/8 [00:06<00:00,  1.32it/s]\n",
            "Evaluate Validation:   0%|          | 0/2 [00:00<?, ?it/s]"
          ]
        },
        {
          "output_type": "stream",
          "name": "stdout",
          "text": [
            "sample 9 num of prompts for Pneumonia from total 312\n"
          ]
        },
        {
          "output_type": "stream",
          "name": "stderr",
          "text": [
            "\rEvaluate Validation:  50%|█████     | 1/2 [00:00<00:00,  1.93it/s]"
          ]
        },
        {
          "output_type": "stream",
          "name": "stdout",
          "text": [
            "sample 9 num of prompts for Pneumonia from total 312\n"
          ]
        },
        {
          "output_type": "stream",
          "name": "stderr",
          "text": [
            "Evaluate Validation: 100%|██████████| 2/2 [00:01<00:00,  1.02it/s]\n",
            "Evaluate Test:   0%|          | 0/3 [00:00<?, ?it/s]"
          ]
        },
        {
          "output_type": "stream",
          "name": "stdout",
          "text": [
            "sample 9 num of prompts for Pneumonia from total 312\n"
          ]
        },
        {
          "output_type": "stream",
          "name": "stderr",
          "text": [
            "\rEvaluate Test:  33%|███▎      | 1/3 [00:00<00:01,  1.70it/s]"
          ]
        },
        {
          "output_type": "stream",
          "name": "stdout",
          "text": [
            "sample 9 num of prompts for Pneumonia from total 312\n"
          ]
        },
        {
          "output_type": "stream",
          "name": "stderr",
          "text": [
            "\rEvaluate Test:  67%|██████▋   | 2/3 [00:01<00:00,  1.82it/s]"
          ]
        },
        {
          "output_type": "stream",
          "name": "stdout",
          "text": [
            "sample 9 num of prompts for Pneumonia from total 312\n"
          ]
        },
        {
          "output_type": "stream",
          "name": "stderr",
          "text": [
            "Evaluate Test: 100%|██████████| 3/3 [00:02<00:00,  1.47it/s]\n"
          ]
        },
        {
          "output_type": "stream",
          "name": "stdout",
          "text": [
            "\n",
            "Accuracy: 0.8657, Precision: 0.7857, Recall: 0.9946, AUC: 0.9792\n"
          ]
        },
        {
          "output_type": "stream",
          "name": "stderr",
          "text": [
            "\rEvaluate Train:   0%|          | 0/8 [00:00<?, ?it/s]"
          ]
        },
        {
          "output_type": "stream",
          "name": "stdout",
          "text": [
            "sample 10 num of prompts for Pneumonia from total 312\n"
          ]
        },
        {
          "output_type": "stream",
          "name": "stderr",
          "text": [
            "\rEvaluate Train:  12%|█▎        | 1/8 [00:00<00:03,  1.90it/s]"
          ]
        },
        {
          "output_type": "stream",
          "name": "stdout",
          "text": [
            "sample 10 num of prompts for Pneumonia from total 312\n"
          ]
        },
        {
          "output_type": "stream",
          "name": "stderr",
          "text": [
            "\rEvaluate Train:  25%|██▌       | 2/8 [00:01<00:03,  1.87it/s]"
          ]
        },
        {
          "output_type": "stream",
          "name": "stdout",
          "text": [
            "sample 10 num of prompts for Pneumonia from total 312\n"
          ]
        },
        {
          "output_type": "stream",
          "name": "stderr",
          "text": [
            "\rEvaluate Train:  38%|███▊      | 3/8 [00:01<00:03,  1.53it/s]"
          ]
        },
        {
          "output_type": "stream",
          "name": "stdout",
          "text": [
            "sample 10 num of prompts for Pneumonia from total 312\n"
          ]
        },
        {
          "output_type": "stream",
          "name": "stderr",
          "text": [
            "\rEvaluate Train:  50%|█████     | 4/8 [00:02<00:02,  1.63it/s]"
          ]
        },
        {
          "output_type": "stream",
          "name": "stdout",
          "text": [
            "sample 10 num of prompts for Pneumonia from total 312\n"
          ]
        },
        {
          "output_type": "stream",
          "name": "stderr",
          "text": [
            "\rEvaluate Train:  62%|██████▎   | 5/8 [00:03<00:02,  1.31it/s]"
          ]
        },
        {
          "output_type": "stream",
          "name": "stdout",
          "text": [
            "sample 10 num of prompts for Pneumonia from total 312\n"
          ]
        },
        {
          "output_type": "stream",
          "name": "stderr",
          "text": [
            "\rEvaluate Train:  75%|███████▌  | 6/8 [00:04<00:01,  1.20it/s]"
          ]
        },
        {
          "output_type": "stream",
          "name": "stdout",
          "text": [
            "sample 10 num of prompts for Pneumonia from total 312\n"
          ]
        },
        {
          "output_type": "stream",
          "name": "stderr",
          "text": [
            "\rEvaluate Train:  88%|████████▊ | 7/8 [00:04<00:00,  1.37it/s]"
          ]
        },
        {
          "output_type": "stream",
          "name": "stdout",
          "text": [
            "sample 10 num of prompts for Pneumonia from total 312\n"
          ]
        },
        {
          "output_type": "stream",
          "name": "stderr",
          "text": [
            "Evaluate Train: 100%|██████████| 8/8 [00:05<00:00,  1.35it/s]\n",
            "Evaluate Validation:   0%|          | 0/2 [00:00<?, ?it/s]"
          ]
        },
        {
          "output_type": "stream",
          "name": "stdout",
          "text": [
            "sample 10 num of prompts for Pneumonia from total 312\n"
          ]
        },
        {
          "output_type": "stream",
          "name": "stderr",
          "text": [
            "\rEvaluate Validation:  50%|█████     | 1/2 [00:00<00:00,  1.72it/s]"
          ]
        },
        {
          "output_type": "stream",
          "name": "stdout",
          "text": [
            "sample 10 num of prompts for Pneumonia from total 312\n"
          ]
        },
        {
          "output_type": "stream",
          "name": "stderr",
          "text": [
            "Evaluate Validation: 100%|██████████| 2/2 [00:01<00:00,  1.26it/s]\n",
            "Evaluate Test:   0%|          | 0/3 [00:00<?, ?it/s]"
          ]
        },
        {
          "output_type": "stream",
          "name": "stdout",
          "text": [
            "sample 10 num of prompts for Pneumonia from total 312\n"
          ]
        },
        {
          "output_type": "stream",
          "name": "stderr",
          "text": [
            "\rEvaluate Test:  33%|███▎      | 1/3 [00:00<00:01,  1.34it/s]"
          ]
        },
        {
          "output_type": "stream",
          "name": "stdout",
          "text": [
            "sample 10 num of prompts for Pneumonia from total 312\n"
          ]
        },
        {
          "output_type": "stream",
          "name": "stderr",
          "text": [
            "\rEvaluate Test:  67%|██████▋   | 2/3 [00:01<00:01,  1.02s/it]"
          ]
        },
        {
          "output_type": "stream",
          "name": "stdout",
          "text": [
            "sample 10 num of prompts for Pneumonia from total 312\n"
          ]
        },
        {
          "output_type": "stream",
          "name": "stderr",
          "text": [
            "Evaluate Test: 100%|██████████| 3/3 [00:02<00:00,  1.08it/s]\n"
          ]
        },
        {
          "output_type": "stream",
          "name": "stdout",
          "text": [
            "\n",
            "Accuracy: 0.8891, Precision: 0.8165, Recall: 0.9953, AUC: 0.9862\n"
          ]
        },
        {
          "output_type": "stream",
          "name": "stderr",
          "text": [
            "\rEvaluate Train:   0%|          | 0/8 [00:00<?, ?it/s]"
          ]
        },
        {
          "output_type": "stream",
          "name": "stdout",
          "text": [
            "sample 11 num of prompts for Pneumonia from total 312\n"
          ]
        },
        {
          "output_type": "stream",
          "name": "stderr",
          "text": [
            "\rEvaluate Train:  12%|█▎        | 1/8 [00:00<00:03,  1.79it/s]"
          ]
        },
        {
          "output_type": "stream",
          "name": "stdout",
          "text": [
            "sample 11 num of prompts for Pneumonia from total 312\n"
          ]
        },
        {
          "output_type": "stream",
          "name": "stderr",
          "text": [
            "\rEvaluate Train:  25%|██▌       | 2/8 [00:01<00:03,  1.82it/s]"
          ]
        },
        {
          "output_type": "stream",
          "name": "stdout",
          "text": [
            "sample 11 num of prompts for Pneumonia from total 312\n"
          ]
        },
        {
          "output_type": "stream",
          "name": "stderr",
          "text": [
            "\rEvaluate Train:  38%|███▊      | 3/8 [00:02<00:03,  1.30it/s]"
          ]
        },
        {
          "output_type": "stream",
          "name": "stdout",
          "text": [
            "sample 11 num of prompts for Pneumonia from total 312\n"
          ]
        },
        {
          "output_type": "stream",
          "name": "stderr",
          "text": [
            "\rEvaluate Train:  50%|█████     | 4/8 [00:03<00:03,  1.20it/s]"
          ]
        },
        {
          "output_type": "stream",
          "name": "stdout",
          "text": [
            "sample 11 num of prompts for Pneumonia from total 312\n"
          ]
        },
        {
          "output_type": "stream",
          "name": "stderr",
          "text": [
            "\rEvaluate Train:  62%|██████▎   | 5/8 [00:03<00:02,  1.38it/s]"
          ]
        },
        {
          "output_type": "stream",
          "name": "stdout",
          "text": [
            "sample 11 num of prompts for Pneumonia from total 312\n"
          ]
        },
        {
          "output_type": "stream",
          "name": "stderr",
          "text": [
            "\rEvaluate Train:  75%|███████▌  | 6/8 [00:04<00:01,  1.50it/s]"
          ]
        },
        {
          "output_type": "stream",
          "name": "stdout",
          "text": [
            "sample 11 num of prompts for Pneumonia from total 312\n"
          ]
        },
        {
          "output_type": "stream",
          "name": "stderr",
          "text": [
            "\rEvaluate Train:  88%|████████▊ | 7/8 [00:05<00:00,  1.31it/s]"
          ]
        },
        {
          "output_type": "stream",
          "name": "stdout",
          "text": [
            "sample 11 num of prompts for Pneumonia from total 312\n"
          ]
        },
        {
          "output_type": "stream",
          "name": "stderr",
          "text": [
            "Evaluate Train: 100%|██████████| 8/8 [00:05<00:00,  1.34it/s]\n",
            "Evaluate Validation:   0%|          | 0/2 [00:00<?, ?it/s]"
          ]
        },
        {
          "output_type": "stream",
          "name": "stdout",
          "text": [
            "sample 11 num of prompts for Pneumonia from total 312\n"
          ]
        },
        {
          "output_type": "stream",
          "name": "stderr",
          "text": [
            "\rEvaluate Validation:  50%|█████     | 1/2 [00:00<00:00,  1.87it/s]"
          ]
        },
        {
          "output_type": "stream",
          "name": "stdout",
          "text": [
            "sample 11 num of prompts for Pneumonia from total 312\n"
          ]
        },
        {
          "output_type": "stream",
          "name": "stderr",
          "text": [
            "Evaluate Validation: 100%|██████████| 2/2 [00:01<00:00,  1.78it/s]\n",
            "Evaluate Test:   0%|          | 0/3 [00:00<?, ?it/s]"
          ]
        },
        {
          "output_type": "stream",
          "name": "stdout",
          "text": [
            "sample 11 num of prompts for Pneumonia from total 312\n"
          ]
        },
        {
          "output_type": "stream",
          "name": "stderr",
          "text": [
            "\rEvaluate Test:  33%|███▎      | 1/3 [00:00<00:01,  1.89it/s]"
          ]
        },
        {
          "output_type": "stream",
          "name": "stdout",
          "text": [
            "sample 11 num of prompts for Pneumonia from total 312\n"
          ]
        },
        {
          "output_type": "stream",
          "name": "stderr",
          "text": [
            "\rEvaluate Test:  67%|██████▋   | 2/3 [00:01<00:00,  1.90it/s]"
          ]
        },
        {
          "output_type": "stream",
          "name": "stdout",
          "text": [
            "sample 11 num of prompts for Pneumonia from total 312\n"
          ]
        },
        {
          "output_type": "stream",
          "name": "stderr",
          "text": [
            "Evaluate Test: 100%|██████████| 3/3 [00:02<00:00,  1.24it/s]\n"
          ]
        },
        {
          "output_type": "stream",
          "name": "stdout",
          "text": [
            "\n",
            "Accuracy: 0.8270, Precision: 0.7392, Recall: 0.9946, AUC: 0.9867\n"
          ]
        },
        {
          "output_type": "stream",
          "name": "stderr",
          "text": [
            "\rEvaluate Train:   0%|          | 0/8 [00:00<?, ?it/s]"
          ]
        },
        {
          "output_type": "stream",
          "name": "stdout",
          "text": [
            "sample 12 num of prompts for Pneumonia from total 312\n"
          ]
        },
        {
          "output_type": "stream",
          "name": "stderr",
          "text": [
            "\rEvaluate Train:  12%|█▎        | 1/8 [00:00<00:03,  1.88it/s]"
          ]
        },
        {
          "output_type": "stream",
          "name": "stdout",
          "text": [
            "sample 12 num of prompts for Pneumonia from total 312\n"
          ]
        },
        {
          "output_type": "stream",
          "name": "stderr",
          "text": [
            "Evaluate Train:  38%|███▊      | 3/8 [00:01<00:02,  1.81it/s]"
          ]
        },
        {
          "output_type": "stream",
          "name": "stdout",
          "text": [
            "sample 12 num of prompts for Pneumonia from total 312\n",
            "sample 12 num of prompts for Pneumonia from total 312\n"
          ]
        },
        {
          "output_type": "stream",
          "name": "stderr",
          "text": [
            "\rEvaluate Train:  50%|█████     | 4/8 [00:02<00:02,  1.48it/s]"
          ]
        },
        {
          "output_type": "stream",
          "name": "stdout",
          "text": [
            "sample 12 num of prompts for Pneumonia from total 312\n"
          ]
        },
        {
          "output_type": "stream",
          "name": "stderr",
          "text": [
            "\rEvaluate Train:  62%|██████▎   | 5/8 [00:03<00:02,  1.31it/s]"
          ]
        },
        {
          "output_type": "stream",
          "name": "stdout",
          "text": [
            "sample 12 num of prompts for Pneumonia from total 312\n"
          ]
        },
        {
          "output_type": "stream",
          "name": "stderr",
          "text": [
            "\rEvaluate Train:  75%|███████▌  | 6/8 [00:04<00:01,  1.43it/s]"
          ]
        },
        {
          "output_type": "stream",
          "name": "stdout",
          "text": [
            "sample 12 num of prompts for Pneumonia from total 312\n"
          ]
        },
        {
          "output_type": "stream",
          "name": "stderr",
          "text": [
            "\rEvaluate Train:  88%|████████▊ | 7/8 [00:04<00:00,  1.53it/s]"
          ]
        },
        {
          "output_type": "stream",
          "name": "stdout",
          "text": [
            "sample 12 num of prompts for Pneumonia from total 312\n"
          ]
        },
        {
          "output_type": "stream",
          "name": "stderr",
          "text": [
            "Evaluate Train: 100%|██████████| 8/8 [00:05<00:00,  1.35it/s]\n",
            "Evaluate Validation:   0%|          | 0/2 [00:00<?, ?it/s]"
          ]
        },
        {
          "output_type": "stream",
          "name": "stdout",
          "text": [
            "sample 12 num of prompts for Pneumonia from total 312\n"
          ]
        },
        {
          "output_type": "stream",
          "name": "stderr",
          "text": [
            "\rEvaluate Validation:  50%|█████     | 1/2 [00:00<00:00,  1.82it/s]"
          ]
        },
        {
          "output_type": "stream",
          "name": "stdout",
          "text": [
            "sample 12 num of prompts for Pneumonia from total 312\n"
          ]
        },
        {
          "output_type": "stream",
          "name": "stderr",
          "text": [
            "Evaluate Validation: 100%|██████████| 2/2 [00:01<00:00,  1.72it/s]\n",
            "Evaluate Test:   0%|          | 0/3 [00:00<?, ?it/s]"
          ]
        },
        {
          "output_type": "stream",
          "name": "stdout",
          "text": [
            "sample 12 num of prompts for Pneumonia from total 312\n"
          ]
        },
        {
          "output_type": "stream",
          "name": "stderr",
          "text": [
            "\rEvaluate Test:  33%|███▎      | 1/3 [00:00<00:01,  1.79it/s]"
          ]
        },
        {
          "output_type": "stream",
          "name": "stdout",
          "text": [
            "sample 12 num of prompts for Pneumonia from total 312\n"
          ]
        },
        {
          "output_type": "stream",
          "name": "stderr",
          "text": [
            "\rEvaluate Test:  67%|██████▋   | 2/3 [00:01<00:00,  1.35it/s]"
          ]
        },
        {
          "output_type": "stream",
          "name": "stdout",
          "text": [
            "sample 12 num of prompts for Pneumonia from total 312\n"
          ]
        },
        {
          "output_type": "stream",
          "name": "stderr",
          "text": [
            "Evaluate Test: 100%|██████████| 3/3 [00:02<00:00,  1.32it/s]\n"
          ]
        },
        {
          "output_type": "stream",
          "name": "stdout",
          "text": [
            "\n",
            "Accuracy: 0.7575, Precision: 0.6676, Recall: 0.9967, AUC: 0.9638\n",
            "Best AUC for rsna_task with 1 prompts: 0.9910\n",
            "Results saved to results/zs_medclip_finetune/ucsd/medclip/classification_results.txt\n"
          ]
        },
        {
          "output_type": "stream",
          "name": "stderr",
          "text": [
            "\rEvaluate Train:   0%|          | 0/8 [00:00<?, ?it/s]"
          ]
        },
        {
          "output_type": "stream",
          "name": "stdout",
          "text": [
            "sample 1 num of prompts for COVID from total 12\n"
          ]
        },
        {
          "output_type": "stream",
          "name": "stderr",
          "text": [
            "\rEvaluate Train:  12%|█▎        | 1/8 [00:00<00:04,  1.51it/s]"
          ]
        },
        {
          "output_type": "stream",
          "name": "stdout",
          "text": [
            "sample 1 num of prompts for COVID from total 12\n"
          ]
        },
        {
          "output_type": "stream",
          "name": "stderr",
          "text": [
            "\rEvaluate Train:  25%|██▌       | 2/8 [00:01<00:03,  1.71it/s]"
          ]
        },
        {
          "output_type": "stream",
          "name": "stdout",
          "text": [
            "sample 1 num of prompts for COVID from total 12\n"
          ]
        },
        {
          "output_type": "stream",
          "name": "stderr",
          "text": [
            "\rEvaluate Train:  38%|███▊      | 3/8 [00:02<00:04,  1.06it/s]"
          ]
        },
        {
          "output_type": "stream",
          "name": "stdout",
          "text": [
            "sample 1 num of prompts for COVID from total 12\n"
          ]
        },
        {
          "output_type": "stream",
          "name": "stderr",
          "text": [
            "\rEvaluate Train:  50%|█████     | 4/8 [00:03<00:03,  1.28it/s]"
          ]
        },
        {
          "output_type": "stream",
          "name": "stdout",
          "text": [
            "sample 1 num of prompts for COVID from total 12\n"
          ]
        },
        {
          "output_type": "stream",
          "name": "stderr",
          "text": [
            "\rEvaluate Train:  62%|██████▎   | 5/8 [00:03<00:02,  1.45it/s]"
          ]
        },
        {
          "output_type": "stream",
          "name": "stdout",
          "text": [
            "sample 1 num of prompts for COVID from total 12\n"
          ]
        },
        {
          "output_type": "stream",
          "name": "stderr",
          "text": [
            "\rEvaluate Train:  75%|███████▌  | 6/8 [00:04<00:01,  1.58it/s]"
          ]
        },
        {
          "output_type": "stream",
          "name": "stdout",
          "text": [
            "sample 1 num of prompts for COVID from total 12\n"
          ]
        },
        {
          "output_type": "stream",
          "name": "stderr",
          "text": [
            "\rEvaluate Train:  88%|████████▊ | 7/8 [00:05<00:00,  1.34it/s]"
          ]
        },
        {
          "output_type": "stream",
          "name": "stdout",
          "text": [
            "sample 1 num of prompts for COVID from total 12\n"
          ]
        },
        {
          "output_type": "stream",
          "name": "stderr",
          "text": [
            "Evaluate Train: 100%|██████████| 8/8 [00:05<00:00,  1.33it/s]\n",
            "Evaluate Validation:   0%|          | 0/2 [00:00<?, ?it/s]"
          ]
        },
        {
          "output_type": "stream",
          "name": "stdout",
          "text": [
            "sample 1 num of prompts for COVID from total 12\n"
          ]
        },
        {
          "output_type": "stream",
          "name": "stderr",
          "text": [
            "\rEvaluate Validation:  50%|█████     | 1/2 [00:00<00:00,  1.91it/s]"
          ]
        },
        {
          "output_type": "stream",
          "name": "stdout",
          "text": [
            "sample 1 num of prompts for COVID from total 12\n"
          ]
        },
        {
          "output_type": "stream",
          "name": "stderr",
          "text": [
            "Evaluate Validation: 100%|██████████| 2/2 [00:01<00:00,  1.24it/s]\n",
            "Evaluate Test:   0%|          | 0/3 [00:00<?, ?it/s]"
          ]
        },
        {
          "output_type": "stream",
          "name": "stdout",
          "text": [
            "sample 1 num of prompts for COVID from total 12\n"
          ]
        },
        {
          "output_type": "stream",
          "name": "stderr",
          "text": [
            "\rEvaluate Test:  33%|███▎      | 1/3 [00:00<00:01,  1.40it/s]"
          ]
        },
        {
          "output_type": "stream",
          "name": "stdout",
          "text": [
            "sample 1 num of prompts for COVID from total 12\n"
          ]
        },
        {
          "output_type": "stream",
          "name": "stderr",
          "text": [
            "\rEvaluate Test:  67%|██████▋   | 2/3 [00:01<00:00,  1.36it/s]"
          ]
        },
        {
          "output_type": "stream",
          "name": "stdout",
          "text": [
            "sample 1 num of prompts for COVID from total 12\n"
          ]
        },
        {
          "output_type": "stream",
          "name": "stderr",
          "text": [
            "Evaluate Test: 100%|██████████| 3/3 [00:02<00:00,  1.34it/s]\n"
          ]
        },
        {
          "output_type": "stream",
          "name": "stdout",
          "text": [
            "\n",
            "Accuracy: 0.9698, Precision: 0.9499, Recall: 0.9900, AUC: 0.9908\n"
          ]
        },
        {
          "output_type": "stream",
          "name": "stderr",
          "text": [
            "\rEvaluate Train:   0%|          | 0/8 [00:00<?, ?it/s]"
          ]
        },
        {
          "output_type": "stream",
          "name": "stdout",
          "text": [
            "sample 2 num of prompts for COVID from total 12\n"
          ]
        },
        {
          "output_type": "stream",
          "name": "stderr",
          "text": [
            "\rEvaluate Train:  12%|█▎        | 1/8 [00:00<00:04,  1.64it/s]"
          ]
        },
        {
          "output_type": "stream",
          "name": "stdout",
          "text": [
            "sample 2 num of prompts for COVID from total 12\n"
          ]
        },
        {
          "output_type": "stream",
          "name": "stderr",
          "text": [
            "\rEvaluate Train:  25%|██▌       | 2/8 [00:01<00:03,  1.78it/s]"
          ]
        },
        {
          "output_type": "stream",
          "name": "stdout",
          "text": [
            "sample 2 num of prompts for COVID from total 12\n"
          ]
        },
        {
          "output_type": "stream",
          "name": "stderr",
          "text": [
            "\rEvaluate Train:  38%|███▊      | 3/8 [00:02<00:03,  1.27it/s]"
          ]
        },
        {
          "output_type": "stream",
          "name": "stdout",
          "text": [
            "sample 2 num of prompts for COVID from total 12\n"
          ]
        },
        {
          "output_type": "stream",
          "name": "stderr",
          "text": [
            "\rEvaluate Train:  50%|█████     | 4/8 [00:03<00:03,  1.17it/s]"
          ]
        },
        {
          "output_type": "stream",
          "name": "stdout",
          "text": [
            "sample 2 num of prompts for COVID from total 12\n"
          ]
        },
        {
          "output_type": "stream",
          "name": "stderr",
          "text": [
            "\rEvaluate Train:  62%|██████▎   | 5/8 [00:03<00:02,  1.35it/s]"
          ]
        },
        {
          "output_type": "stream",
          "name": "stdout",
          "text": [
            "sample 2 num of prompts for COVID from total 12\n"
          ]
        },
        {
          "output_type": "stream",
          "name": "stderr",
          "text": [
            "\rEvaluate Train:  75%|███████▌  | 6/8 [00:04<00:01,  1.50it/s]"
          ]
        },
        {
          "output_type": "stream",
          "name": "stdout",
          "text": [
            "sample 2 num of prompts for COVID from total 12\n"
          ]
        },
        {
          "output_type": "stream",
          "name": "stderr",
          "text": [
            "\rEvaluate Train:  88%|████████▊ | 7/8 [00:05<00:00,  1.27it/s]"
          ]
        },
        {
          "output_type": "stream",
          "name": "stdout",
          "text": [
            "sample 2 num of prompts for COVID from total 12\n"
          ]
        },
        {
          "output_type": "stream",
          "name": "stderr",
          "text": [
            "Evaluate Train: 100%|██████████| 8/8 [00:06<00:00,  1.21it/s]\n",
            "Evaluate Validation:   0%|          | 0/2 [00:00<?, ?it/s]"
          ]
        },
        {
          "output_type": "stream",
          "name": "stdout",
          "text": [
            "sample 2 num of prompts for COVID from total 12\n"
          ]
        },
        {
          "output_type": "stream",
          "name": "stderr",
          "text": [
            "\rEvaluate Validation:  50%|█████     | 1/2 [00:00<00:00,  1.94it/s]"
          ]
        },
        {
          "output_type": "stream",
          "name": "stdout",
          "text": [
            "sample 2 num of prompts for COVID from total 12\n"
          ]
        },
        {
          "output_type": "stream",
          "name": "stderr",
          "text": [
            "Evaluate Validation: 100%|██████████| 2/2 [00:01<00:00,  1.94it/s]\n",
            "Evaluate Test:   0%|          | 0/3 [00:00<?, ?it/s]"
          ]
        },
        {
          "output_type": "stream",
          "name": "stdout",
          "text": [
            "sample 2 num of prompts for COVID from total 12\n"
          ]
        },
        {
          "output_type": "stream",
          "name": "stderr",
          "text": [
            "\rEvaluate Test:  33%|███▎      | 1/3 [00:00<00:01,  1.91it/s]"
          ]
        },
        {
          "output_type": "stream",
          "name": "stdout",
          "text": [
            "sample 2 num of prompts for COVID from total 12\n"
          ]
        },
        {
          "output_type": "stream",
          "name": "stderr",
          "text": [
            "\rEvaluate Test:  67%|██████▋   | 2/3 [00:01<00:00,  1.20it/s]"
          ]
        },
        {
          "output_type": "stream",
          "name": "stdout",
          "text": [
            "sample 2 num of prompts for COVID from total 12\n"
          ]
        },
        {
          "output_type": "stream",
          "name": "stderr",
          "text": [
            "Evaluate Test: 100%|██████████| 3/3 [00:02<00:00,  1.27it/s]\n"
          ]
        },
        {
          "output_type": "stream",
          "name": "stdout",
          "text": [
            "\n",
            "Accuracy: 0.9675, Precision: 0.9450, Recall: 0.9906, AUC: 0.9906\n"
          ]
        },
        {
          "output_type": "stream",
          "name": "stderr",
          "text": [
            "\rEvaluate Train:   0%|          | 0/8 [00:00<?, ?it/s]"
          ]
        },
        {
          "output_type": "stream",
          "name": "stdout",
          "text": [
            "sample 3 num of prompts for COVID from total 12\n"
          ]
        },
        {
          "output_type": "stream",
          "name": "stderr",
          "text": [
            "\rEvaluate Train:  12%|█▎        | 1/8 [00:00<00:03,  1.90it/s]"
          ]
        },
        {
          "output_type": "stream",
          "name": "stdout",
          "text": [
            "sample 3 num of prompts for COVID from total 12\n"
          ]
        },
        {
          "output_type": "stream",
          "name": "stderr",
          "text": [
            "\rEvaluate Train:  25%|██▌       | 2/8 [00:01<00:03,  1.64it/s]"
          ]
        },
        {
          "output_type": "stream",
          "name": "stdout",
          "text": [
            "sample 3 num of prompts for COVID from total 12\n"
          ]
        },
        {
          "output_type": "stream",
          "name": "stderr",
          "text": [
            "\rEvaluate Train:  38%|███▊      | 3/8 [00:01<00:03,  1.56it/s]"
          ]
        },
        {
          "output_type": "stream",
          "name": "stdout",
          "text": [
            "sample 3 num of prompts for COVID from total 12\n"
          ]
        },
        {
          "output_type": "stream",
          "name": "stderr",
          "text": [
            "\rEvaluate Train:  50%|█████     | 4/8 [00:02<00:02,  1.63it/s]"
          ]
        },
        {
          "output_type": "stream",
          "name": "stdout",
          "text": [
            "sample 3 num of prompts for COVID from total 12\n"
          ]
        },
        {
          "output_type": "stream",
          "name": "stderr",
          "text": [
            "\rEvaluate Train:  62%|██████▎   | 5/8 [00:03<00:01,  1.63it/s]"
          ]
        },
        {
          "output_type": "stream",
          "name": "stdout",
          "text": [
            "sample 3 num of prompts for COVID from total 12\n"
          ]
        },
        {
          "output_type": "stream",
          "name": "stderr",
          "text": [
            "\rEvaluate Train:  75%|███████▌  | 6/8 [00:04<00:01,  1.31it/s]"
          ]
        },
        {
          "output_type": "stream",
          "name": "stdout",
          "text": [
            "sample 3 num of prompts for COVID from total 12\n"
          ]
        },
        {
          "output_type": "stream",
          "name": "stderr",
          "text": [
            "\rEvaluate Train:  88%|████████▊ | 7/8 [00:04<00:00,  1.42it/s]"
          ]
        },
        {
          "output_type": "stream",
          "name": "stdout",
          "text": [
            "sample 3 num of prompts for COVID from total 12\n"
          ]
        },
        {
          "output_type": "stream",
          "name": "stderr",
          "text": [
            "Evaluate Train: 100%|██████████| 8/8 [00:05<00:00,  1.49it/s]\n",
            "Evaluate Validation:   0%|          | 0/2 [00:00<?, ?it/s]"
          ]
        },
        {
          "output_type": "stream",
          "name": "stdout",
          "text": [
            "sample 3 num of prompts for COVID from total 12\n"
          ]
        },
        {
          "output_type": "stream",
          "name": "stderr",
          "text": [
            "\rEvaluate Validation:  50%|█████     | 1/2 [00:00<00:00,  1.87it/s]"
          ]
        },
        {
          "output_type": "stream",
          "name": "stdout",
          "text": [
            "sample 3 num of prompts for COVID from total 12\n"
          ]
        },
        {
          "output_type": "stream",
          "name": "stderr",
          "text": [
            "Evaluate Validation: 100%|██████████| 2/2 [00:01<00:00,  1.13it/s]\n",
            "Evaluate Test:   0%|          | 0/3 [00:00<?, ?it/s]"
          ]
        },
        {
          "output_type": "stream",
          "name": "stdout",
          "text": [
            "sample 3 num of prompts for COVID from total 12\n"
          ]
        },
        {
          "output_type": "stream",
          "name": "stderr",
          "text": [
            "\rEvaluate Test:  33%|███▎      | 1/3 [00:00<00:01,  1.23it/s]"
          ]
        },
        {
          "output_type": "stream",
          "name": "stdout",
          "text": [
            "sample 3 num of prompts for COVID from total 12\n"
          ]
        },
        {
          "output_type": "stream",
          "name": "stderr",
          "text": [
            "\rEvaluate Test:  67%|██████▋   | 2/3 [00:01<00:00,  1.57it/s]"
          ]
        },
        {
          "output_type": "stream",
          "name": "stdout",
          "text": [
            "sample 3 num of prompts for COVID from total 12\n"
          ]
        },
        {
          "output_type": "stream",
          "name": "stderr",
          "text": [
            "Evaluate Test: 100%|██████████| 3/3 [00:02<00:00,  1.22it/s]\n"
          ]
        },
        {
          "output_type": "stream",
          "name": "stdout",
          "text": [
            "\n",
            "Accuracy: 0.9672, Precision: 0.9433, Recall: 0.9920, AUC: 0.9910\n"
          ]
        },
        {
          "output_type": "stream",
          "name": "stderr",
          "text": [
            "\rEvaluate Train:   0%|          | 0/8 [00:00<?, ?it/s]"
          ]
        },
        {
          "output_type": "stream",
          "name": "stdout",
          "text": [
            "sample 4 num of prompts for COVID from total 12\n"
          ]
        },
        {
          "output_type": "stream",
          "name": "stderr",
          "text": [
            "\rEvaluate Train:  12%|█▎        | 1/8 [00:00<00:03,  1.89it/s]"
          ]
        },
        {
          "output_type": "stream",
          "name": "stdout",
          "text": [
            "sample 4 num of prompts for COVID from total 12\n"
          ]
        },
        {
          "output_type": "stream",
          "name": "stderr",
          "text": [
            "\rEvaluate Train:  25%|██▌       | 2/8 [00:01<00:03,  1.88it/s]"
          ]
        },
        {
          "output_type": "stream",
          "name": "stdout",
          "text": [
            "sample 4 num of prompts for COVID from total 12\n"
          ]
        },
        {
          "output_type": "stream",
          "name": "stderr",
          "text": [
            "\rEvaluate Train:  38%|███▊      | 3/8 [00:01<00:03,  1.54it/s]"
          ]
        },
        {
          "output_type": "stream",
          "name": "stdout",
          "text": [
            "sample 4 num of prompts for COVID from total 12\n"
          ]
        },
        {
          "output_type": "stream",
          "name": "stderr",
          "text": [
            "\rEvaluate Train:  50%|█████     | 4/8 [00:02<00:02,  1.66it/s]"
          ]
        },
        {
          "output_type": "stream",
          "name": "stdout",
          "text": [
            "sample 4 num of prompts for COVID from total 12\n"
          ]
        },
        {
          "output_type": "stream",
          "name": "stderr",
          "text": [
            "\rEvaluate Train:  62%|██████▎   | 5/8 [00:03<00:02,  1.26it/s]"
          ]
        },
        {
          "output_type": "stream",
          "name": "stdout",
          "text": [
            "sample 4 num of prompts for COVID from total 12\n"
          ]
        },
        {
          "output_type": "stream",
          "name": "stderr",
          "text": [
            "\rEvaluate Train:  75%|███████▌  | 6/8 [00:04<00:01,  1.18it/s]"
          ]
        },
        {
          "output_type": "stream",
          "name": "stdout",
          "text": [
            "sample 4 num of prompts for COVID from total 12\n"
          ]
        },
        {
          "output_type": "stream",
          "name": "stderr",
          "text": [
            "\rEvaluate Train:  88%|████████▊ | 7/8 [00:05<00:00,  1.14it/s]"
          ]
        },
        {
          "output_type": "stream",
          "name": "stdout",
          "text": [
            "sample 4 num of prompts for COVID from total 12\n"
          ]
        },
        {
          "output_type": "stream",
          "name": "stderr",
          "text": [
            "Evaluate Train: 100%|██████████| 8/8 [00:05<00:00,  1.37it/s]\n",
            "Evaluate Validation:   0%|          | 0/2 [00:00<?, ?it/s]"
          ]
        },
        {
          "output_type": "stream",
          "name": "stdout",
          "text": [
            "sample 4 num of prompts for COVID from total 12\n"
          ]
        },
        {
          "output_type": "stream",
          "name": "stderr",
          "text": [
            "\rEvaluate Validation:  50%|█████     | 1/2 [00:00<00:00,  1.90it/s]"
          ]
        },
        {
          "output_type": "stream",
          "name": "stdout",
          "text": [
            "sample 4 num of prompts for COVID from total 12\n"
          ]
        },
        {
          "output_type": "stream",
          "name": "stderr",
          "text": [
            "Evaluate Validation: 100%|██████████| 2/2 [00:01<00:00,  1.28it/s]\n",
            "Evaluate Test:   0%|          | 0/3 [00:00<?, ?it/s]"
          ]
        },
        {
          "output_type": "stream",
          "name": "stdout",
          "text": [
            "sample 4 num of prompts for COVID from total 12\n"
          ]
        },
        {
          "output_type": "stream",
          "name": "stderr",
          "text": [
            "\rEvaluate Test:  33%|███▎      | 1/3 [00:00<00:01,  1.81it/s]"
          ]
        },
        {
          "output_type": "stream",
          "name": "stdout",
          "text": [
            "sample 4 num of prompts for COVID from total 12\n"
          ]
        },
        {
          "output_type": "stream",
          "name": "stderr",
          "text": [
            "\rEvaluate Test:  67%|██████▋   | 2/3 [00:01<00:00,  1.40it/s]"
          ]
        },
        {
          "output_type": "stream",
          "name": "stdout",
          "text": [
            "sample 4 num of prompts for COVID from total 12\n"
          ]
        },
        {
          "output_type": "stream",
          "name": "stderr",
          "text": [
            "Evaluate Test: 100%|██████████| 3/3 [00:02<00:00,  1.20it/s]\n"
          ]
        },
        {
          "output_type": "stream",
          "name": "stdout",
          "text": [
            "\n",
            "Accuracy: 0.9642, Precision: 0.9379, Recall: 0.9920, AUC: 0.9912\n"
          ]
        },
        {
          "output_type": "stream",
          "name": "stderr",
          "text": [
            "\rEvaluate Train:   0%|          | 0/8 [00:00<?, ?it/s]"
          ]
        },
        {
          "output_type": "stream",
          "name": "stdout",
          "text": [
            "sample 5 num of prompts for COVID from total 12\n"
          ]
        },
        {
          "output_type": "stream",
          "name": "stderr",
          "text": [
            "\rEvaluate Train:  12%|█▎        | 1/8 [00:00<00:03,  1.85it/s]"
          ]
        },
        {
          "output_type": "stream",
          "name": "stdout",
          "text": [
            "sample 5 num of prompts for COVID from total 12\n"
          ]
        },
        {
          "output_type": "stream",
          "name": "stderr",
          "text": [
            "\rEvaluate Train:  25%|██▌       | 2/8 [00:01<00:03,  1.82it/s]"
          ]
        },
        {
          "output_type": "stream",
          "name": "stdout",
          "text": [
            "sample 5 num of prompts for COVID from total 12\n"
          ]
        },
        {
          "output_type": "stream",
          "name": "stderr",
          "text": [
            "\rEvaluate Train:  38%|███▊      | 3/8 [00:01<00:03,  1.61it/s]"
          ]
        },
        {
          "output_type": "stream",
          "name": "stdout",
          "text": [
            "sample 5 num of prompts for COVID from total 12\n"
          ]
        },
        {
          "output_type": "stream",
          "name": "stderr",
          "text": [
            "\rEvaluate Train:  50%|█████     | 4/8 [00:02<00:02,  1.65it/s]"
          ]
        },
        {
          "output_type": "stream",
          "name": "stdout",
          "text": [
            "sample 5 num of prompts for COVID from total 12\n"
          ]
        },
        {
          "output_type": "stream",
          "name": "stderr",
          "text": [
            "\rEvaluate Train:  62%|██████▎   | 5/8 [00:03<00:02,  1.32it/s]"
          ]
        },
        {
          "output_type": "stream",
          "name": "stdout",
          "text": [
            "sample 5 num of prompts for COVID from total 12\n"
          ]
        },
        {
          "output_type": "stream",
          "name": "stderr",
          "text": [
            "\rEvaluate Train:  75%|███████▌  | 6/8 [00:03<00:01,  1.47it/s]"
          ]
        },
        {
          "output_type": "stream",
          "name": "stdout",
          "text": [
            "sample 5 num of prompts for COVID from total 12\n"
          ]
        },
        {
          "output_type": "stream",
          "name": "stderr",
          "text": [
            "\rEvaluate Train:  88%|████████▊ | 7/8 [00:04<00:00,  1.58it/s]"
          ]
        },
        {
          "output_type": "stream",
          "name": "stdout",
          "text": [
            "sample 5 num of prompts for COVID from total 12\n"
          ]
        },
        {
          "output_type": "stream",
          "name": "stderr",
          "text": [
            "Evaluate Train: 100%|██████████| 8/8 [00:04<00:00,  1.63it/s]\n",
            "Evaluate Validation:   0%|          | 0/2 [00:00<?, ?it/s]"
          ]
        },
        {
          "output_type": "stream",
          "name": "stdout",
          "text": [
            "sample 5 num of prompts for COVID from total 12\n"
          ]
        },
        {
          "output_type": "stream",
          "name": "stderr",
          "text": [
            "\rEvaluate Validation:  50%|█████     | 1/2 [00:00<00:00,  1.33it/s]"
          ]
        },
        {
          "output_type": "stream",
          "name": "stdout",
          "text": [
            "sample 5 num of prompts for COVID from total 12\n"
          ]
        },
        {
          "output_type": "stream",
          "name": "stderr",
          "text": [
            "Evaluate Validation: 100%|██████████| 2/2 [00:01<00:00,  1.03it/s]\n",
            "Evaluate Test:   0%|          | 0/3 [00:00<?, ?it/s]"
          ]
        },
        {
          "output_type": "stream",
          "name": "stdout",
          "text": [
            "sample 5 num of prompts for COVID from total 12\n"
          ]
        },
        {
          "output_type": "stream",
          "name": "stderr",
          "text": [
            "\rEvaluate Test:  33%|███▎      | 1/3 [00:00<00:01,  1.59it/s]"
          ]
        },
        {
          "output_type": "stream",
          "name": "stdout",
          "text": [
            "sample 5 num of prompts for COVID from total 12\n"
          ]
        },
        {
          "output_type": "stream",
          "name": "stderr",
          "text": [
            "\rEvaluate Test:  67%|██████▋   | 2/3 [00:01<00:00,  1.76it/s]"
          ]
        },
        {
          "output_type": "stream",
          "name": "stdout",
          "text": [
            "sample 5 num of prompts for COVID from total 12\n"
          ]
        },
        {
          "output_type": "stream",
          "name": "stderr",
          "text": [
            "Evaluate Test: 100%|██████████| 3/3 [00:02<00:00,  1.45it/s]\n"
          ]
        },
        {
          "output_type": "stream",
          "name": "stdout",
          "text": [
            "\n",
            "Accuracy: 0.9649, Precision: 0.9386, Recall: 0.9926, AUC: 0.9911\n"
          ]
        },
        {
          "output_type": "stream",
          "name": "stderr",
          "text": [
            "\rEvaluate Train:   0%|          | 0/8 [00:00<?, ?it/s]"
          ]
        },
        {
          "output_type": "stream",
          "name": "stdout",
          "text": [
            "sample 6 num of prompts for COVID from total 12\n"
          ]
        },
        {
          "output_type": "stream",
          "name": "stderr",
          "text": [
            "\rEvaluate Train:  12%|█▎        | 1/8 [00:00<00:03,  1.89it/s]"
          ]
        },
        {
          "output_type": "stream",
          "name": "stdout",
          "text": [
            "sample 6 num of prompts for COVID from total 12\n"
          ]
        },
        {
          "output_type": "stream",
          "name": "stderr",
          "text": [
            "\rEvaluate Train:  25%|██▌       | 2/8 [00:01<00:03,  1.89it/s]"
          ]
        },
        {
          "output_type": "stream",
          "name": "stdout",
          "text": [
            "sample 6 num of prompts for COVID from total 12\n"
          ]
        },
        {
          "output_type": "stream",
          "name": "stderr",
          "text": [
            "\rEvaluate Train:  38%|███▊      | 3/8 [00:01<00:03,  1.60it/s]"
          ]
        },
        {
          "output_type": "stream",
          "name": "stdout",
          "text": [
            "sample 6 num of prompts for COVID from total 12\n"
          ]
        },
        {
          "output_type": "stream",
          "name": "stderr",
          "text": [
            "\rEvaluate Train:  50%|█████     | 4/8 [00:02<00:02,  1.70it/s]"
          ]
        },
        {
          "output_type": "stream",
          "name": "stdout",
          "text": [
            "sample 6 num of prompts for COVID from total 12\n"
          ]
        },
        {
          "output_type": "stream",
          "name": "stderr",
          "text": [
            "\rEvaluate Train:  62%|██████▎   | 5/8 [00:03<00:02,  1.25it/s]"
          ]
        },
        {
          "output_type": "stream",
          "name": "stdout",
          "text": [
            "sample 6 num of prompts for COVID from total 12\n"
          ]
        },
        {
          "output_type": "stream",
          "name": "stderr",
          "text": [
            "\rEvaluate Train:  75%|███████▌  | 6/8 [00:04<00:01,  1.42it/s]"
          ]
        },
        {
          "output_type": "stream",
          "name": "stdout",
          "text": [
            "sample 6 num of prompts for COVID from total 12\n"
          ]
        },
        {
          "output_type": "stream",
          "name": "stderr",
          "text": [
            "\rEvaluate Train:  88%|████████▊ | 7/8 [00:04<00:00,  1.37it/s]"
          ]
        },
        {
          "output_type": "stream",
          "name": "stdout",
          "text": [
            "sample 6 num of prompts for COVID from total 12\n"
          ]
        },
        {
          "output_type": "stream",
          "name": "stderr",
          "text": [
            "Evaluate Train: 100%|██████████| 8/8 [00:05<00:00,  1.35it/s]\n",
            "Evaluate Validation:   0%|          | 0/2 [00:00<?, ?it/s]"
          ]
        },
        {
          "output_type": "stream",
          "name": "stdout",
          "text": [
            "sample 6 num of prompts for COVID from total 12\n"
          ]
        },
        {
          "output_type": "stream",
          "name": "stderr",
          "text": [
            "\rEvaluate Validation:  50%|█████     | 1/2 [00:00<00:00,  1.88it/s]"
          ]
        },
        {
          "output_type": "stream",
          "name": "stdout",
          "text": [
            "sample 6 num of prompts for COVID from total 12\n"
          ]
        },
        {
          "output_type": "stream",
          "name": "stderr",
          "text": [
            "Evaluate Validation: 100%|██████████| 2/2 [00:01<00:00,  1.20it/s]\n",
            "Evaluate Test:   0%|          | 0/3 [00:00<?, ?it/s]"
          ]
        },
        {
          "output_type": "stream",
          "name": "stdout",
          "text": [
            "sample 6 num of prompts for COVID from total 12\n"
          ]
        },
        {
          "output_type": "stream",
          "name": "stderr",
          "text": [
            "\rEvaluate Test:  33%|███▎      | 1/3 [00:01<00:02,  1.02s/it]"
          ]
        },
        {
          "output_type": "stream",
          "name": "stdout",
          "text": [
            "sample 6 num of prompts for COVID from total 12\n"
          ]
        },
        {
          "output_type": "stream",
          "name": "stderr",
          "text": [
            "\rEvaluate Test:  67%|██████▋   | 2/3 [00:01<00:00,  1.36it/s]"
          ]
        },
        {
          "output_type": "stream",
          "name": "stdout",
          "text": [
            "sample 6 num of prompts for COVID from total 12\n"
          ]
        },
        {
          "output_type": "stream",
          "name": "stderr",
          "text": [
            "Evaluate Test: 100%|██████████| 3/3 [00:02<00:00,  1.12it/s]\n"
          ]
        },
        {
          "output_type": "stream",
          "name": "stdout",
          "text": [
            "\n",
            "Accuracy: 0.9652, Precision: 0.9392, Recall: 0.9926, AUC: 0.9914\n"
          ]
        },
        {
          "output_type": "stream",
          "name": "stderr",
          "text": [
            "\rEvaluate Train:   0%|          | 0/8 [00:00<?, ?it/s]"
          ]
        },
        {
          "output_type": "stream",
          "name": "stdout",
          "text": [
            "sample 7 num of prompts for COVID from total 12\n"
          ]
        },
        {
          "output_type": "stream",
          "name": "stderr",
          "text": [
            "\rEvaluate Train:  12%|█▎        | 1/8 [00:00<00:03,  1.84it/s]"
          ]
        },
        {
          "output_type": "stream",
          "name": "stdout",
          "text": [
            "sample 7 num of prompts for COVID from total 12\n"
          ]
        },
        {
          "output_type": "stream",
          "name": "stderr",
          "text": [
            "\rEvaluate Train:  25%|██▌       | 2/8 [00:01<00:03,  1.88it/s]"
          ]
        },
        {
          "output_type": "stream",
          "name": "stdout",
          "text": [
            "sample 7 num of prompts for COVID from total 12\n"
          ]
        },
        {
          "output_type": "stream",
          "name": "stderr",
          "text": [
            "\rEvaluate Train:  38%|███▊      | 3/8 [00:01<00:02,  1.75it/s]"
          ]
        },
        {
          "output_type": "stream",
          "name": "stdout",
          "text": [
            "sample 7 num of prompts for COVID from total 12\n"
          ]
        },
        {
          "output_type": "stream",
          "name": "stderr",
          "text": [
            "\rEvaluate Train:  50%|█████     | 4/8 [00:02<00:02,  1.81it/s]"
          ]
        },
        {
          "output_type": "stream",
          "name": "stdout",
          "text": [
            "sample 7 num of prompts for COVID from total 12\n"
          ]
        },
        {
          "output_type": "stream",
          "name": "stderr",
          "text": [
            "\rEvaluate Train:  62%|██████▎   | 5/8 [00:03<00:02,  1.36it/s]"
          ]
        },
        {
          "output_type": "stream",
          "name": "stdout",
          "text": [
            "sample 7 num of prompts for COVID from total 12\n"
          ]
        },
        {
          "output_type": "stream",
          "name": "stderr",
          "text": [
            "\rEvaluate Train:  75%|███████▌  | 6/8 [00:03<00:01,  1.50it/s]"
          ]
        },
        {
          "output_type": "stream",
          "name": "stdout",
          "text": [
            "sample 7 num of prompts for COVID from total 12\n"
          ]
        },
        {
          "output_type": "stream",
          "name": "stderr",
          "text": [
            "\rEvaluate Train:  88%|████████▊ | 7/8 [00:04<00:00,  1.61it/s]"
          ]
        },
        {
          "output_type": "stream",
          "name": "stdout",
          "text": [
            "sample 7 num of prompts for COVID from total 12\n"
          ]
        },
        {
          "output_type": "stream",
          "name": "stderr",
          "text": [
            "Evaluate Train: 100%|██████████| 8/8 [00:05<00:00,  1.43it/s]\n",
            "Evaluate Validation:   0%|          | 0/2 [00:00<?, ?it/s]"
          ]
        },
        {
          "output_type": "stream",
          "name": "stdout",
          "text": [
            "sample 7 num of prompts for COVID from total 12\n"
          ]
        },
        {
          "output_type": "stream",
          "name": "stderr",
          "text": [
            "\rEvaluate Validation:  50%|█████     | 1/2 [00:00<00:00,  1.91it/s]"
          ]
        },
        {
          "output_type": "stream",
          "name": "stdout",
          "text": [
            "sample 7 num of prompts for COVID from total 12\n"
          ]
        },
        {
          "output_type": "stream",
          "name": "stderr",
          "text": [
            "Evaluate Validation: 100%|██████████| 2/2 [00:01<00:00,  1.39it/s]\n",
            "Evaluate Test:   0%|          | 0/3 [00:00<?, ?it/s]"
          ]
        },
        {
          "output_type": "stream",
          "name": "stdout",
          "text": [
            "sample 7 num of prompts for COVID from total 12\n"
          ]
        },
        {
          "output_type": "stream",
          "name": "stderr",
          "text": [
            "\rEvaluate Test:  33%|███▎      | 1/3 [00:00<00:01,  1.90it/s]"
          ]
        },
        {
          "output_type": "stream",
          "name": "stdout",
          "text": [
            "sample 7 num of prompts for COVID from total 12\n"
          ]
        },
        {
          "output_type": "stream",
          "name": "stderr",
          "text": [
            "\rEvaluate Test:  67%|██████▋   | 2/3 [00:01<00:00,  1.69it/s]"
          ]
        },
        {
          "output_type": "stream",
          "name": "stdout",
          "text": [
            "sample 7 num of prompts for COVID from total 12\n"
          ]
        },
        {
          "output_type": "stream",
          "name": "stderr",
          "text": [
            "Evaluate Test: 100%|██████████| 3/3 [00:01<00:00,  1.56it/s]\n"
          ]
        },
        {
          "output_type": "stream",
          "name": "stdout",
          "text": [
            "\n",
            "Accuracy: 0.9636, Precision: 0.9367, Recall: 0.9920, AUC: 0.9917\n"
          ]
        },
        {
          "output_type": "stream",
          "name": "stderr",
          "text": [
            "\rEvaluate Train:   0%|          | 0/8 [00:00<?, ?it/s]"
          ]
        },
        {
          "output_type": "stream",
          "name": "stdout",
          "text": [
            "sample 8 num of prompts for COVID from total 12\n"
          ]
        },
        {
          "output_type": "stream",
          "name": "stderr",
          "text": [
            "\rEvaluate Train:  12%|█▎        | 1/8 [00:00<00:03,  1.89it/s]"
          ]
        },
        {
          "output_type": "stream",
          "name": "stdout",
          "text": [
            "sample 8 num of prompts for COVID from total 12\n"
          ]
        },
        {
          "output_type": "stream",
          "name": "stderr",
          "text": [
            "\rEvaluate Train:  25%|██▌       | 2/8 [00:01<00:03,  1.90it/s]"
          ]
        },
        {
          "output_type": "stream",
          "name": "stdout",
          "text": [
            "sample 8 num of prompts for COVID from total 12\n"
          ]
        },
        {
          "output_type": "stream",
          "name": "stderr",
          "text": [
            "\rEvaluate Train:  38%|███▊      | 3/8 [00:01<00:02,  1.89it/s]"
          ]
        },
        {
          "output_type": "stream",
          "name": "stdout",
          "text": [
            "sample 8 num of prompts for COVID from total 12\n"
          ]
        },
        {
          "output_type": "stream",
          "name": "stderr",
          "text": [
            "\rEvaluate Train:  50%|█████     | 4/8 [00:02<00:02,  1.90it/s]"
          ]
        },
        {
          "output_type": "stream",
          "name": "stdout",
          "text": [
            "sample 8 num of prompts for COVID from total 12\n"
          ]
        },
        {
          "output_type": "stream",
          "name": "stderr",
          "text": [
            "\rEvaluate Train:  62%|██████▎   | 5/8 [00:03<00:02,  1.40it/s]"
          ]
        },
        {
          "output_type": "stream",
          "name": "stdout",
          "text": [
            "sample 8 num of prompts for COVID from total 12\n"
          ]
        },
        {
          "output_type": "stream",
          "name": "stderr",
          "text": [
            "\rEvaluate Train:  75%|███████▌  | 6/8 [00:04<00:01,  1.11it/s]"
          ]
        },
        {
          "output_type": "stream",
          "name": "stdout",
          "text": [
            "sample 8 num of prompts for COVID from total 12\n"
          ]
        },
        {
          "output_type": "stream",
          "name": "stderr",
          "text": [
            "\rEvaluate Train:  88%|████████▊ | 7/8 [00:05<00:00,  1.25it/s]"
          ]
        },
        {
          "output_type": "stream",
          "name": "stdout",
          "text": [
            "sample 8 num of prompts for COVID from total 12\n"
          ]
        },
        {
          "output_type": "stream",
          "name": "stderr",
          "text": [
            "Evaluate Train: 100%|██████████| 8/8 [00:05<00:00,  1.46it/s]\n",
            "Evaluate Validation:   0%|          | 0/2 [00:00<?, ?it/s]"
          ]
        },
        {
          "output_type": "stream",
          "name": "stdout",
          "text": [
            "sample 8 num of prompts for COVID from total 12\n"
          ]
        },
        {
          "output_type": "stream",
          "name": "stderr",
          "text": [
            "\rEvaluate Validation:  50%|█████     | 1/2 [00:00<00:00,  1.16it/s]"
          ]
        },
        {
          "output_type": "stream",
          "name": "stdout",
          "text": [
            "sample 8 num of prompts for COVID from total 12\n"
          ]
        },
        {
          "output_type": "stream",
          "name": "stderr",
          "text": [
            "Evaluate Validation: 100%|██████████| 2/2 [00:02<00:00,  1.02s/it]\n",
            "Evaluate Test:   0%|          | 0/3 [00:00<?, ?it/s]"
          ]
        },
        {
          "output_type": "stream",
          "name": "stdout",
          "text": [
            "sample 8 num of prompts for COVID from total 12\n"
          ]
        },
        {
          "output_type": "stream",
          "name": "stderr",
          "text": [
            "\rEvaluate Test:  33%|███▎      | 1/3 [00:00<00:01,  1.87it/s]"
          ]
        },
        {
          "output_type": "stream",
          "name": "stdout",
          "text": [
            "sample 8 num of prompts for COVID from total 12\n"
          ]
        },
        {
          "output_type": "stream",
          "name": "stderr",
          "text": [
            "\rEvaluate Test:  67%|██████▋   | 2/3 [00:01<00:00,  1.89it/s]"
          ]
        },
        {
          "output_type": "stream",
          "name": "stdout",
          "text": [
            "sample 8 num of prompts for COVID from total 12\n"
          ]
        },
        {
          "output_type": "stream",
          "name": "stderr",
          "text": [
            "Evaluate Test: 100%|██████████| 3/3 [00:02<00:00,  1.42it/s]\n"
          ]
        },
        {
          "output_type": "stream",
          "name": "stdout",
          "text": [
            "\n",
            "Accuracy: 0.9636, Precision: 0.9362, Recall: 0.9926, AUC: 0.9916\n"
          ]
        },
        {
          "output_type": "stream",
          "name": "stderr",
          "text": [
            "Evaluate Train:  12%|█▎        | 1/8 [00:00<00:03,  1.90it/s]"
          ]
        },
        {
          "output_type": "stream",
          "name": "stdout",
          "text": [
            "sample 9 num of prompts for COVID from total 12\n",
            "sample 9 num of prompts for COVID from total 12\n"
          ]
        },
        {
          "output_type": "stream",
          "name": "stderr",
          "text": [
            "\rEvaluate Train:  25%|██▌       | 2/8 [00:03<00:12,  2.08s/it]"
          ]
        },
        {
          "output_type": "stream",
          "name": "stdout",
          "text": [
            "sample 9 num of prompts for COVID from total 12\n"
          ]
        },
        {
          "output_type": "stream",
          "name": "stderr",
          "text": [
            "\rEvaluate Train:  38%|███▊      | 3/8 [00:04<00:07,  1.42s/it]"
          ]
        },
        {
          "output_type": "stream",
          "name": "stdout",
          "text": [
            "sample 9 num of prompts for COVID from total 12\n"
          ]
        },
        {
          "output_type": "stream",
          "name": "stderr",
          "text": [
            "\rEvaluate Train:  50%|█████     | 4/8 [00:05<00:04,  1.18s/it]"
          ]
        },
        {
          "output_type": "stream",
          "name": "stdout",
          "text": [
            "sample 9 num of prompts for COVID from total 12\n"
          ]
        },
        {
          "output_type": "stream",
          "name": "stderr",
          "text": [
            "\rEvaluate Train:  62%|██████▎   | 5/8 [00:06<00:03,  1.22s/it]"
          ]
        },
        {
          "output_type": "stream",
          "name": "stdout",
          "text": [
            "sample 9 num of prompts for COVID from total 12\n"
          ]
        },
        {
          "output_type": "stream",
          "name": "stderr",
          "text": [
            "\rEvaluate Train:  75%|███████▌  | 6/8 [00:07<00:02,  1.12s/it]"
          ]
        },
        {
          "output_type": "stream",
          "name": "stdout",
          "text": [
            "sample 9 num of prompts for COVID from total 12\n"
          ]
        },
        {
          "output_type": "stream",
          "name": "stderr",
          "text": [
            "\rEvaluate Train:  88%|████████▊ | 7/8 [00:07<00:00,  1.05it/s]"
          ]
        },
        {
          "output_type": "stream",
          "name": "stdout",
          "text": [
            "sample 9 num of prompts for COVID from total 12\n"
          ]
        },
        {
          "output_type": "stream",
          "name": "stderr",
          "text": [
            "Evaluate Train: 100%|██████████| 8/8 [00:08<00:00,  1.12s/it]\n",
            "Evaluate Validation:   0%|          | 0/2 [00:00<?, ?it/s]"
          ]
        },
        {
          "output_type": "stream",
          "name": "stdout",
          "text": [
            "sample 9 num of prompts for COVID from total 12\n"
          ]
        },
        {
          "output_type": "stream",
          "name": "stderr",
          "text": [
            "\rEvaluate Validation:  50%|█████     | 1/2 [00:00<00:00,  1.93it/s]"
          ]
        },
        {
          "output_type": "stream",
          "name": "stdout",
          "text": [
            "sample 9 num of prompts for COVID from total 12\n"
          ]
        },
        {
          "output_type": "stream",
          "name": "stderr",
          "text": [
            "Evaluate Validation: 100%|██████████| 2/2 [00:01<00:00,  1.47it/s]\n",
            "Evaluate Test:   0%|          | 0/3 [00:00<?, ?it/s]"
          ]
        },
        {
          "output_type": "stream",
          "name": "stdout",
          "text": [
            "sample 9 num of prompts for COVID from total 12\n"
          ]
        },
        {
          "output_type": "stream",
          "name": "stderr",
          "text": [
            "\rEvaluate Test:  33%|███▎      | 1/3 [00:00<00:01,  1.73it/s]"
          ]
        },
        {
          "output_type": "stream",
          "name": "stdout",
          "text": [
            "sample 9 num of prompts for COVID from total 12\n"
          ]
        },
        {
          "output_type": "stream",
          "name": "stderr",
          "text": [
            "\rEvaluate Test:  67%|██████▋   | 2/3 [00:01<00:00,  1.52it/s]"
          ]
        },
        {
          "output_type": "stream",
          "name": "stdout",
          "text": [
            "sample 9 num of prompts for COVID from total 12\n"
          ]
        },
        {
          "output_type": "stream",
          "name": "stderr",
          "text": [
            "Evaluate Test: 100%|██████████| 3/3 [00:02<00:00,  1.19it/s]\n"
          ]
        },
        {
          "output_type": "stream",
          "name": "stdout",
          "text": [
            "\n",
            "Accuracy: 0.9636, Precision: 0.9362, Recall: 0.9926, AUC: 0.9918\n"
          ]
        },
        {
          "output_type": "stream",
          "name": "stderr",
          "text": [
            "\rEvaluate Train:   0%|          | 0/8 [00:00<?, ?it/s]"
          ]
        },
        {
          "output_type": "stream",
          "name": "stdout",
          "text": [
            "sample 10 num of prompts for COVID from total 12\n"
          ]
        },
        {
          "output_type": "stream",
          "name": "stderr",
          "text": [
            "\rEvaluate Train:  12%|█▎        | 1/8 [00:00<00:03,  1.88it/s]"
          ]
        },
        {
          "output_type": "stream",
          "name": "stdout",
          "text": [
            "sample 10 num of prompts for COVID from total 12\n"
          ]
        },
        {
          "output_type": "stream",
          "name": "stderr",
          "text": [
            "\rEvaluate Train:  25%|██▌       | 2/8 [00:01<00:03,  1.87it/s]"
          ]
        },
        {
          "output_type": "stream",
          "name": "stdout",
          "text": [
            "sample 10 num of prompts for COVID from total 12\n"
          ]
        },
        {
          "output_type": "stream",
          "name": "stderr",
          "text": [
            "\rEvaluate Train:  38%|███▊      | 3/8 [00:01<00:02,  1.85it/s]"
          ]
        },
        {
          "output_type": "stream",
          "name": "stdout",
          "text": [
            "sample 10 num of prompts for COVID from total 12\n"
          ]
        },
        {
          "output_type": "stream",
          "name": "stderr",
          "text": [
            "\rEvaluate Train:  50%|█████     | 4/8 [00:02<00:02,  1.44it/s]"
          ]
        },
        {
          "output_type": "stream",
          "name": "stdout",
          "text": [
            "sample 10 num of prompts for COVID from total 12\n"
          ]
        },
        {
          "output_type": "stream",
          "name": "stderr",
          "text": [
            "\rEvaluate Train:  62%|██████▎   | 5/8 [00:03<00:02,  1.28it/s]"
          ]
        },
        {
          "output_type": "stream",
          "name": "stdout",
          "text": [
            "sample 10 num of prompts for COVID from total 12\n"
          ]
        },
        {
          "output_type": "stream",
          "name": "stderr",
          "text": [
            "\rEvaluate Train:  75%|███████▌  | 6/8 [00:04<00:01,  1.44it/s]"
          ]
        },
        {
          "output_type": "stream",
          "name": "stdout",
          "text": [
            "sample 10 num of prompts for COVID from total 12\n"
          ]
        },
        {
          "output_type": "stream",
          "name": "stderr",
          "text": [
            "\rEvaluate Train:  88%|████████▊ | 7/8 [00:04<00:00,  1.56it/s]"
          ]
        },
        {
          "output_type": "stream",
          "name": "stdout",
          "text": [
            "sample 10 num of prompts for COVID from total 12\n"
          ]
        },
        {
          "output_type": "stream",
          "name": "stderr",
          "text": [
            "Evaluate Train: 100%|██████████| 8/8 [00:05<00:00,  1.35it/s]\n",
            "Evaluate Validation:   0%|          | 0/2 [00:00<?, ?it/s]"
          ]
        },
        {
          "output_type": "stream",
          "name": "stdout",
          "text": [
            "sample 10 num of prompts for COVID from total 12\n"
          ]
        },
        {
          "output_type": "stream",
          "name": "stderr",
          "text": [
            "\rEvaluate Validation:  50%|█████     | 1/2 [00:00<00:00,  1.72it/s]"
          ]
        },
        {
          "output_type": "stream",
          "name": "stdout",
          "text": [
            "sample 10 num of prompts for COVID from total 12\n"
          ]
        },
        {
          "output_type": "stream",
          "name": "stderr",
          "text": [
            "Evaluate Validation: 100%|██████████| 2/2 [00:01<00:00,  1.84it/s]\n",
            "Evaluate Test:   0%|          | 0/3 [00:00<?, ?it/s]"
          ]
        },
        {
          "output_type": "stream",
          "name": "stdout",
          "text": [
            "sample 10 num of prompts for COVID from total 12\n"
          ]
        },
        {
          "output_type": "stream",
          "name": "stderr",
          "text": [
            "\rEvaluate Test:  33%|███▎      | 1/3 [00:00<00:01,  1.89it/s]"
          ]
        },
        {
          "output_type": "stream",
          "name": "stdout",
          "text": [
            "sample 10 num of prompts for COVID from total 12\n"
          ]
        },
        {
          "output_type": "stream",
          "name": "stderr",
          "text": [
            "\rEvaluate Test:  67%|██████▋   | 2/3 [00:01<00:00,  1.23it/s]"
          ]
        },
        {
          "output_type": "stream",
          "name": "stdout",
          "text": [
            "sample 10 num of prompts for COVID from total 12\n"
          ]
        },
        {
          "output_type": "stream",
          "name": "stderr",
          "text": [
            "Evaluate Test: 100%|██████████| 3/3 [00:02<00:00,  1.28it/s]\n"
          ]
        },
        {
          "output_type": "stream",
          "name": "stdout",
          "text": [
            "\n",
            "Accuracy: 0.9633, Precision: 0.9356, Recall: 0.9926, AUC: 0.9918\n"
          ]
        },
        {
          "output_type": "stream",
          "name": "stderr",
          "text": [
            "\rEvaluate Train:   0%|          | 0/8 [00:00<?, ?it/s]"
          ]
        },
        {
          "output_type": "stream",
          "name": "stdout",
          "text": [
            "sample 11 num of prompts for COVID from total 12\n"
          ]
        },
        {
          "output_type": "stream",
          "name": "stderr",
          "text": [
            "\rEvaluate Train:  12%|█▎        | 1/8 [00:00<00:05,  1.37it/s]"
          ]
        },
        {
          "output_type": "stream",
          "name": "stdout",
          "text": [
            "sample 11 num of prompts for COVID from total 12\n"
          ]
        },
        {
          "output_type": "stream",
          "name": "stderr",
          "text": [
            "\rEvaluate Train:  25%|██▌       | 2/8 [00:01<00:03,  1.65it/s]"
          ]
        },
        {
          "output_type": "stream",
          "name": "stdout",
          "text": [
            "sample 11 num of prompts for COVID from total 12\n"
          ]
        },
        {
          "output_type": "stream",
          "name": "stderr",
          "text": [
            "\rEvaluate Train:  38%|███▊      | 3/8 [00:02<00:03,  1.39it/s]"
          ]
        },
        {
          "output_type": "stream",
          "name": "stdout",
          "text": [
            "sample 11 num of prompts for COVID from total 12\n"
          ]
        },
        {
          "output_type": "stream",
          "name": "stderr",
          "text": [
            "\rEvaluate Train:  50%|█████     | 4/8 [00:02<00:02,  1.43it/s]"
          ]
        },
        {
          "output_type": "stream",
          "name": "stdout",
          "text": [
            "sample 11 num of prompts for COVID from total 12\n"
          ]
        },
        {
          "output_type": "stream",
          "name": "stderr",
          "text": [
            "\rEvaluate Train:  62%|██████▎   | 5/8 [00:03<00:02,  1.44it/s]"
          ]
        },
        {
          "output_type": "stream",
          "name": "stdout",
          "text": [
            "sample 11 num of prompts for COVID from total 12\n"
          ]
        },
        {
          "output_type": "stream",
          "name": "stderr",
          "text": [
            "\rEvaluate Train:  75%|███████▌  | 6/8 [00:03<00:01,  1.57it/s]"
          ]
        },
        {
          "output_type": "stream",
          "name": "stdout",
          "text": [
            "sample 11 num of prompts for COVID from total 12\n"
          ]
        },
        {
          "output_type": "stream",
          "name": "stderr",
          "text": [
            "\rEvaluate Train:  88%|████████▊ | 7/8 [00:05<00:00,  1.21it/s]"
          ]
        },
        {
          "output_type": "stream",
          "name": "stdout",
          "text": [
            "sample 11 num of prompts for COVID from total 12\n"
          ]
        },
        {
          "output_type": "stream",
          "name": "stderr",
          "text": [
            "Evaluate Train: 100%|██████████| 8/8 [00:05<00:00,  1.36it/s]\n",
            "Evaluate Validation:   0%|          | 0/2 [00:00<?, ?it/s]"
          ]
        },
        {
          "output_type": "stream",
          "name": "stdout",
          "text": [
            "sample 11 num of prompts for COVID from total 12\n"
          ]
        },
        {
          "output_type": "stream",
          "name": "stderr",
          "text": [
            "\rEvaluate Validation:  50%|█████     | 1/2 [00:00<00:00,  1.87it/s]"
          ]
        },
        {
          "output_type": "stream",
          "name": "stdout",
          "text": [
            "sample 11 num of prompts for COVID from total 12\n"
          ]
        },
        {
          "output_type": "stream",
          "name": "stderr",
          "text": [
            "Evaluate Validation: 100%|██████████| 2/2 [00:01<00:00,  1.92it/s]\n",
            "Evaluate Test:   0%|          | 0/3 [00:00<?, ?it/s]"
          ]
        },
        {
          "output_type": "stream",
          "name": "stdout",
          "text": [
            "sample 11 num of prompts for COVID from total 12\n"
          ]
        },
        {
          "output_type": "stream",
          "name": "stderr",
          "text": [
            "\rEvaluate Test:  33%|███▎      | 1/3 [00:00<00:01,  1.67it/s]"
          ]
        },
        {
          "output_type": "stream",
          "name": "stdout",
          "text": [
            "sample 11 num of prompts for COVID from total 12\n"
          ]
        },
        {
          "output_type": "stream",
          "name": "stderr",
          "text": [
            "\rEvaluate Test:  67%|██████▋   | 2/3 [00:01<00:00,  1.44it/s]"
          ]
        },
        {
          "output_type": "stream",
          "name": "stdout",
          "text": [
            "sample 11 num of prompts for COVID from total 12\n"
          ]
        },
        {
          "output_type": "stream",
          "name": "stderr",
          "text": [
            "Evaluate Test: 100%|██████████| 3/3 [00:02<00:00,  1.16it/s]\n"
          ]
        },
        {
          "output_type": "stream",
          "name": "stdout",
          "text": [
            "\n",
            "Accuracy: 0.9633, Precision: 0.9356, Recall: 0.9926, AUC: 0.9918\n"
          ]
        },
        {
          "output_type": "stream",
          "name": "stderr",
          "text": [
            "\rEvaluate Train:   0%|          | 0/8 [00:00<?, ?it/s]"
          ]
        },
        {
          "output_type": "stream",
          "name": "stdout",
          "text": [
            "sample 12 num of prompts for COVID from total 12\n"
          ]
        },
        {
          "output_type": "stream",
          "name": "stderr",
          "text": [
            "\rEvaluate Train:  12%|█▎        | 1/8 [00:00<00:04,  1.50it/s]"
          ]
        },
        {
          "output_type": "stream",
          "name": "stdout",
          "text": [
            "sample 12 num of prompts for COVID from total 12\n"
          ]
        },
        {
          "output_type": "stream",
          "name": "stderr",
          "text": [
            "\rEvaluate Train:  25%|██▌       | 2/8 [00:01<00:03,  1.72it/s]"
          ]
        },
        {
          "output_type": "stream",
          "name": "stdout",
          "text": [
            "sample 12 num of prompts for COVID from total 12\n"
          ]
        },
        {
          "output_type": "stream",
          "name": "stderr",
          "text": [
            "\rEvaluate Train:  38%|███▊      | 3/8 [00:02<00:05,  1.01s/it]"
          ]
        },
        {
          "output_type": "stream",
          "name": "stdout",
          "text": [
            "sample 12 num of prompts for COVID from total 12\n"
          ]
        },
        {
          "output_type": "stream",
          "name": "stderr",
          "text": [
            "\rEvaluate Train:  50%|█████     | 4/8 [00:03<00:03,  1.21it/s]"
          ]
        },
        {
          "output_type": "stream",
          "name": "stdout",
          "text": [
            "sample 12 num of prompts for COVID from total 12\n"
          ]
        },
        {
          "output_type": "stream",
          "name": "stderr",
          "text": [
            "\rEvaluate Train:  62%|██████▎   | 5/8 [00:03<00:02,  1.39it/s]"
          ]
        },
        {
          "output_type": "stream",
          "name": "stdout",
          "text": [
            "sample 12 num of prompts for COVID from total 12\n"
          ]
        },
        {
          "output_type": "stream",
          "name": "stderr",
          "text": [
            "\rEvaluate Train:  75%|███████▌  | 6/8 [00:04<00:01,  1.53it/s]"
          ]
        },
        {
          "output_type": "stream",
          "name": "stdout",
          "text": [
            "sample 12 num of prompts for COVID from total 12\n"
          ]
        },
        {
          "output_type": "stream",
          "name": "stderr",
          "text": [
            "\rEvaluate Train:  88%|████████▊ | 7/8 [00:05<00:00,  1.19it/s]"
          ]
        },
        {
          "output_type": "stream",
          "name": "stdout",
          "text": [
            "sample 12 num of prompts for COVID from total 12\n"
          ]
        },
        {
          "output_type": "stream",
          "name": "stderr",
          "text": [
            "Evaluate Train: 100%|██████████| 8/8 [00:06<00:00,  1.25it/s]\n",
            "Evaluate Validation:   0%|          | 0/2 [00:00<?, ?it/s]"
          ]
        },
        {
          "output_type": "stream",
          "name": "stdout",
          "text": [
            "sample 12 num of prompts for COVID from total 12\n"
          ]
        },
        {
          "output_type": "stream",
          "name": "stderr",
          "text": [
            "\rEvaluate Validation:  50%|█████     | 1/2 [00:00<00:00,  1.90it/s]"
          ]
        },
        {
          "output_type": "stream",
          "name": "stdout",
          "text": [
            "sample 12 num of prompts for COVID from total 12\n"
          ]
        },
        {
          "output_type": "stream",
          "name": "stderr",
          "text": [
            "Evaluate Validation: 100%|██████████| 2/2 [00:01<00:00,  1.25it/s]\n",
            "Evaluate Test:   0%|          | 0/3 [00:00<?, ?it/s]"
          ]
        },
        {
          "output_type": "stream",
          "name": "stdout",
          "text": [
            "sample 12 num of prompts for COVID from total 12\n"
          ]
        },
        {
          "output_type": "stream",
          "name": "stderr",
          "text": [
            "\rEvaluate Test:  33%|███▎      | 1/3 [00:00<00:01,  1.83it/s]"
          ]
        },
        {
          "output_type": "stream",
          "name": "stdout",
          "text": [
            "sample 12 num of prompts for COVID from total 12\n"
          ]
        },
        {
          "output_type": "stream",
          "name": "stderr",
          "text": [
            "\rEvaluate Test:  67%|██████▋   | 2/3 [00:01<00:00,  1.31it/s]"
          ]
        },
        {
          "output_type": "stream",
          "name": "stdout",
          "text": [
            "sample 12 num of prompts for COVID from total 12\n"
          ]
        },
        {
          "output_type": "stream",
          "name": "stderr",
          "text": [
            "Evaluate Test: 100%|██████████| 3/3 [00:01<00:00,  1.62it/s]\n"
          ]
        },
        {
          "output_type": "stream",
          "name": "stdout",
          "text": [
            "\n",
            "Accuracy: 0.9633, Precision: 0.9356, Recall: 0.9926, AUC: 0.9918\n",
            "Best AUC for  with 11 prompts: 0.9918\n",
            "Results saved to results/zs_medclip_finetune/ucsd/medclip/classification_results.txt\n"
          ]
        },
        {
          "output_type": "stream",
          "name": "stderr",
          "text": [
            "/usr/local/lib/python3.10/dist-packages/keras/src/preprocessing/image.py:766: UserWarning: NumpyArrayIterator is set to use the data format convention \"channels_last\" (channels on axis 3), i.e. expected either 1, 3, or 4 channels on axis 3. However, it was passed an array with shape (526, 1, 224, 224) (224 channels).\n",
            "  warnings.warn(\n",
            "/usr/local/lib/python3.10/dist-packages/keras/src/preprocessing/image.py:766: UserWarning: NumpyArrayIterator is set to use the data format convention \"channels_last\" (channels on axis 3), i.e. expected either 1, 3, or 4 channels on axis 3. However, it was passed an array with shape (132, 1, 224, 224) (224 channels).\n",
            "  warnings.warn(\n",
            "/usr/local/lib/python3.10/dist-packages/keras/src/preprocessing/image.py:766: UserWarning: NumpyArrayIterator is set to use the data format convention \"channels_last\" (channels on axis 3), i.e. expected either 1, 3, or 4 channels on axis 3. However, it was passed an array with shape (165, 1, 224, 224) (224 channels).\n",
            "  warnings.warn(\n"
          ]
        },
        {
          "output_type": "stream",
          "name": "stdout",
          "text": [
            "Results saved to results/visualization/zero_shot_finetune/ori/medclip/images/cxr_images.png\n",
            "NVIDIA library configured successfully.\n"
          ]
        },
        {
          "output_type": "stream",
          "name": "stderr",
          "text": [
            "Some weights of the model checkpoint at microsoft/swin-tiny-patch4-window7-224 were not used when initializing SwinModel: ['classifier.weight', 'classifier.bias']\n",
            "- This IS expected if you are initializing SwinModel from the checkpoint of a model trained on another task or with another architecture (e.g. initializing a BertForSequenceClassification model from a BertForPreTraining model).\n",
            "- This IS NOT expected if you are initializing SwinModel from the checkpoint of a model that you expect to be exactly identical (initializing a BertForSequenceClassification model from a BertForSequenceClassification model).\n",
            "Some weights of the model checkpoint at emilyalsentzer/Bio_ClinicalBERT were not used when initializing BertModel: ['cls.predictions.decoder.weight', 'cls.predictions.transform.dense.bias', 'cls.seq_relationship.bias', 'cls.predictions.transform.LayerNorm.weight', 'cls.predictions.bias', 'cls.seq_relationship.weight', 'cls.predictions.transform.LayerNorm.bias', 'cls.predictions.transform.dense.weight']\n",
            "- This IS expected if you are initializing BertModel from the checkpoint of a model trained on another task or with another architecture (e.g. initializing a BertForSequenceClassification model from a BertForPreTraining model).\n",
            "- This IS NOT expected if you are initializing BertModel from the checkpoint of a model that you expect to be exactly identical (initializing a BertForSequenceClassification model from a BertForSequenceClassification model).\n"
          ]
        },
        {
          "output_type": "stream",
          "name": "stdout",
          "text": [
            "load model weight from: ./pretrained/medclip-vit\n"
          ]
        },
        {
          "output_type": "stream",
          "name": "stderr",
          "text": [
            "\rEvaluate Train:   0%|          | 0/3 [00:00<?, ?it/s]"
          ]
        },
        {
          "output_type": "stream",
          "name": "stdout",
          "text": [
            "sample 1 num of prompts for COVID from total 12\n"
          ]
        },
        {
          "output_type": "stream",
          "name": "stderr",
          "text": [
            "\rEvaluate Train:  33%|███▎      | 1/3 [00:00<00:01,  1.78it/s]"
          ]
        },
        {
          "output_type": "stream",
          "name": "stdout",
          "text": [
            "sample 1 num of prompts for COVID from total 12\n"
          ]
        },
        {
          "output_type": "stream",
          "name": "stderr",
          "text": [
            "\rEvaluate Train:  67%|██████▋   | 2/3 [00:01<00:00,  1.46it/s]"
          ]
        },
        {
          "output_type": "stream",
          "name": "stdout",
          "text": [
            "sample 1 num of prompts for COVID from total 12\n"
          ]
        },
        {
          "output_type": "stream",
          "name": "stderr",
          "text": [
            "Evaluate Train: 100%|██████████| 3/3 [00:01<00:00,  1.86it/s]\n",
            "Evaluate Validation:   0%|          | 0/1 [00:00<?, ?it/s]"
          ]
        },
        {
          "output_type": "stream",
          "name": "stdout",
          "text": [
            "sample 1 num of prompts for COVID from total 12\n"
          ]
        },
        {
          "output_type": "stream",
          "name": "stderr",
          "text": [
            "Evaluate Validation: 100%|██████████| 1/1 [00:00<00:00,  1.76it/s]\n",
            "Evaluate Test:   0%|          | 0/1 [00:00<?, ?it/s]"
          ]
        },
        {
          "output_type": "stream",
          "name": "stdout",
          "text": [
            "sample 1 num of prompts for COVID from total 12\n"
          ]
        },
        {
          "output_type": "stream",
          "name": "stderr",
          "text": [
            "Evaluate Test: 100%|██████████| 1/1 [00:00<00:00,  2.00it/s]\n"
          ]
        },
        {
          "output_type": "stream",
          "name": "stdout",
          "text": [
            "\n",
            "Accuracy: 0.5881, Precision: 0.5610, Recall: 0.7401, AUC: 0.6213\n"
          ]
        },
        {
          "output_type": "stream",
          "name": "stderr",
          "text": [
            "\rEvaluate Train:   0%|          | 0/3 [00:00<?, ?it/s]"
          ]
        },
        {
          "output_type": "stream",
          "name": "stdout",
          "text": [
            "sample 2 num of prompts for COVID from total 12\n"
          ]
        },
        {
          "output_type": "stream",
          "name": "stderr",
          "text": [
            "\rEvaluate Train:  33%|███▎      | 1/3 [00:00<00:01,  1.89it/s]"
          ]
        },
        {
          "output_type": "stream",
          "name": "stdout",
          "text": [
            "sample 2 num of prompts for COVID from total 12\n"
          ]
        },
        {
          "output_type": "stream",
          "name": "stderr",
          "text": [
            "\rEvaluate Train:  67%|██████▋   | 2/3 [00:01<00:01,  1.00s/it]"
          ]
        },
        {
          "output_type": "stream",
          "name": "stdout",
          "text": [
            "sample 2 num of prompts for COVID from total 12\n"
          ]
        },
        {
          "output_type": "stream",
          "name": "stderr",
          "text": [
            "Evaluate Train: 100%|██████████| 3/3 [00:02<00:00,  1.39it/s]\n",
            "Evaluate Validation:   0%|          | 0/1 [00:00<?, ?it/s]"
          ]
        },
        {
          "output_type": "stream",
          "name": "stdout",
          "text": [
            "sample 2 num of prompts for COVID from total 12\n"
          ]
        },
        {
          "output_type": "stream",
          "name": "stderr",
          "text": [
            "Evaluate Validation: 100%|██████████| 1/1 [00:00<00:00,  2.18it/s]\n",
            "Evaluate Test:   0%|          | 0/1 [00:00<?, ?it/s]"
          ]
        },
        {
          "output_type": "stream",
          "name": "stdout",
          "text": [
            "sample 2 num of prompts for COVID from total 12\n"
          ]
        },
        {
          "output_type": "stream",
          "name": "stderr",
          "text": [
            "Evaluate Test: 100%|██████████| 1/1 [00:00<00:00,  2.34it/s]\n"
          ]
        },
        {
          "output_type": "stream",
          "name": "stdout",
          "text": [
            "\n",
            "Accuracy: 0.5832, Precision: 0.5560, Recall: 0.7500, AUC: 0.6214\n"
          ]
        },
        {
          "output_type": "stream",
          "name": "stderr",
          "text": [
            "\rEvaluate Train:   0%|          | 0/3 [00:00<?, ?it/s]"
          ]
        },
        {
          "output_type": "stream",
          "name": "stdout",
          "text": [
            "sample 3 num of prompts for COVID from total 12\n"
          ]
        },
        {
          "output_type": "stream",
          "name": "stderr",
          "text": [
            "\rEvaluate Train:  33%|███▎      | 1/3 [00:00<00:01,  1.92it/s]"
          ]
        },
        {
          "output_type": "stream",
          "name": "stdout",
          "text": [
            "sample 3 num of prompts for COVID from total 12\n"
          ]
        },
        {
          "output_type": "stream",
          "name": "stderr",
          "text": [
            "\rEvaluate Train:  67%|██████▋   | 2/3 [00:01<00:00,  1.11it/s]"
          ]
        },
        {
          "output_type": "stream",
          "name": "stdout",
          "text": [
            "sample 3 num of prompts for COVID from total 12\n"
          ]
        },
        {
          "output_type": "stream",
          "name": "stderr",
          "text": [
            "Evaluate Train: 100%|██████████| 3/3 [00:02<00:00,  1.29it/s]\n",
            "Evaluate Validation:   0%|          | 0/1 [00:00<?, ?it/s]"
          ]
        },
        {
          "output_type": "stream",
          "name": "stdout",
          "text": [
            "sample 3 num of prompts for COVID from total 12\n"
          ]
        },
        {
          "output_type": "stream",
          "name": "stderr",
          "text": [
            "Evaluate Validation: 100%|██████████| 1/1 [00:00<00:00,  2.54it/s]\n",
            "Evaluate Test:   0%|          | 0/1 [00:00<?, ?it/s]"
          ]
        },
        {
          "output_type": "stream",
          "name": "stdout",
          "text": [
            "sample 3 num of prompts for COVID from total 12\n"
          ]
        },
        {
          "output_type": "stream",
          "name": "stderr",
          "text": [
            "Evaluate Test: 100%|██████████| 1/1 [00:00<00:00,  1.85it/s]\n"
          ]
        },
        {
          "output_type": "stream",
          "name": "stdout",
          "text": [
            "\n",
            "Accuracy: 0.5735, Precision: 0.5455, Recall: 0.7871, AUC: 0.6241\n"
          ]
        },
        {
          "output_type": "stream",
          "name": "stderr",
          "text": [
            "\rEvaluate Train:   0%|          | 0/3 [00:00<?, ?it/s]"
          ]
        },
        {
          "output_type": "stream",
          "name": "stdout",
          "text": [
            "sample 4 num of prompts for COVID from total 12\n"
          ]
        },
        {
          "output_type": "stream",
          "name": "stderr",
          "text": [
            "\rEvaluate Train:  33%|███▎      | 1/3 [00:00<00:01,  1.93it/s]"
          ]
        },
        {
          "output_type": "stream",
          "name": "stdout",
          "text": [
            "sample 4 num of prompts for COVID from total 12\n"
          ]
        },
        {
          "output_type": "stream",
          "name": "stderr",
          "text": [
            "\rEvaluate Train:  67%|██████▋   | 2/3 [00:01<00:00,  1.93it/s]"
          ]
        },
        {
          "output_type": "stream",
          "name": "stdout",
          "text": [
            "sample 4 num of prompts for COVID from total 12\n"
          ]
        },
        {
          "output_type": "stream",
          "name": "stderr",
          "text": [
            "Evaluate Train: 100%|██████████| 3/3 [00:01<00:00,  1.71it/s]\n",
            "Evaluate Validation:   0%|          | 0/1 [00:00<?, ?it/s]"
          ]
        },
        {
          "output_type": "stream",
          "name": "stdout",
          "text": [
            "sample 4 num of prompts for COVID from total 12\n"
          ]
        },
        {
          "output_type": "stream",
          "name": "stderr",
          "text": [
            "Evaluate Validation: 100%|██████████| 1/1 [00:00<00:00,  1.01it/s]\n",
            "Evaluate Test:   0%|          | 0/1 [00:00<?, ?it/s]"
          ]
        },
        {
          "output_type": "stream",
          "name": "stdout",
          "text": [
            "sample 4 num of prompts for COVID from total 12\n"
          ]
        },
        {
          "output_type": "stream",
          "name": "stderr",
          "text": [
            "Evaluate Test: 100%|██████████| 1/1 [00:01<00:00,  1.02s/it]\n"
          ]
        },
        {
          "output_type": "stream",
          "name": "stdout",
          "text": [
            "\n",
            "Accuracy: 0.5711, Precision: 0.5437, Recall: 0.7847, AUC: 0.6287\n"
          ]
        },
        {
          "output_type": "stream",
          "name": "stderr",
          "text": [
            "\rEvaluate Train:   0%|          | 0/3 [00:00<?, ?it/s]"
          ]
        },
        {
          "output_type": "stream",
          "name": "stdout",
          "text": [
            "sample 5 num of prompts for COVID from total 12\n"
          ]
        },
        {
          "output_type": "stream",
          "name": "stderr",
          "text": [
            "\rEvaluate Train:  33%|███▎      | 1/3 [00:00<00:01,  1.93it/s]"
          ]
        },
        {
          "output_type": "stream",
          "name": "stdout",
          "text": [
            "sample 5 num of prompts for COVID from total 12\n"
          ]
        },
        {
          "output_type": "stream",
          "name": "stderr",
          "text": [
            "\rEvaluate Train:  67%|██████▋   | 2/3 [00:01<00:00,  1.11it/s]"
          ]
        },
        {
          "output_type": "stream",
          "name": "stdout",
          "text": [
            "sample 5 num of prompts for COVID from total 12\n"
          ]
        },
        {
          "output_type": "stream",
          "name": "stderr",
          "text": [
            "Evaluate Train: 100%|██████████| 3/3 [00:02<00:00,  1.30it/s]\n",
            "Evaluate Validation:   0%|          | 0/1 [00:00<?, ?it/s]"
          ]
        },
        {
          "output_type": "stream",
          "name": "stdout",
          "text": [
            "sample 5 num of prompts for COVID from total 12\n"
          ]
        },
        {
          "output_type": "stream",
          "name": "stderr",
          "text": [
            "Evaluate Validation: 100%|██████████| 1/1 [00:00<00:00,  2.56it/s]\n",
            "Evaluate Test:   0%|          | 0/1 [00:00<?, ?it/s]"
          ]
        },
        {
          "output_type": "stream",
          "name": "stdout",
          "text": [
            "sample 5 num of prompts for COVID from total 12\n"
          ]
        },
        {
          "output_type": "stream",
          "name": "stderr",
          "text": [
            "Evaluate Test: 100%|██████████| 1/1 [00:00<00:00,  2.11it/s]\n"
          ]
        },
        {
          "output_type": "stream",
          "name": "stdout",
          "text": [
            "\n",
            "Accuracy: 0.5699, Precision: 0.5427, Recall: 0.7871, AUC: 0.6267\n"
          ]
        },
        {
          "output_type": "stream",
          "name": "stderr",
          "text": [
            "\rEvaluate Train:   0%|          | 0/3 [00:00<?, ?it/s]"
          ]
        },
        {
          "output_type": "stream",
          "name": "stdout",
          "text": [
            "sample 6 num of prompts for COVID from total 12\n"
          ]
        },
        {
          "output_type": "stream",
          "name": "stderr",
          "text": [
            "\rEvaluate Train:  33%|███▎      | 1/3 [00:00<00:01,  1.83it/s]"
          ]
        },
        {
          "output_type": "stream",
          "name": "stdout",
          "text": [
            "sample 6 num of prompts for COVID from total 12\n"
          ]
        },
        {
          "output_type": "stream",
          "name": "stderr",
          "text": [
            "\rEvaluate Train:  67%|██████▋   | 2/3 [00:01<00:00,  1.29it/s]"
          ]
        },
        {
          "output_type": "stream",
          "name": "stdout",
          "text": [
            "sample 6 num of prompts for COVID from total 12\n"
          ]
        },
        {
          "output_type": "stream",
          "name": "stderr",
          "text": [
            "Evaluate Train: 100%|██████████| 3/3 [00:02<00:00,  1.50it/s]\n",
            "Evaluate Validation:   0%|          | 0/1 [00:00<?, ?it/s]"
          ]
        },
        {
          "output_type": "stream",
          "name": "stdout",
          "text": [
            "sample 6 num of prompts for COVID from total 12\n"
          ]
        },
        {
          "output_type": "stream",
          "name": "stderr",
          "text": [
            "Evaluate Validation: 100%|██████████| 1/1 [00:00<00:00,  1.05it/s]\n",
            "Evaluate Test:   0%|          | 0/1 [00:00<?, ?it/s]"
          ]
        },
        {
          "output_type": "stream",
          "name": "stdout",
          "text": [
            "sample 6 num of prompts for COVID from total 12\n"
          ]
        },
        {
          "output_type": "stream",
          "name": "stderr",
          "text": [
            "Evaluate Test: 100%|██████████| 1/1 [00:00<00:00,  1.07it/s]\n"
          ]
        },
        {
          "output_type": "stream",
          "name": "stdout",
          "text": [
            "\n",
            "Accuracy: 0.5687, Precision: 0.5419, Recall: 0.7847, AUC: 0.6241\n"
          ]
        },
        {
          "output_type": "stream",
          "name": "stderr",
          "text": [
            "\rEvaluate Train:   0%|          | 0/3 [00:00<?, ?it/s]"
          ]
        },
        {
          "output_type": "stream",
          "name": "stdout",
          "text": [
            "sample 7 num of prompts for COVID from total 12\n"
          ]
        },
        {
          "output_type": "stream",
          "name": "stderr",
          "text": [
            "\rEvaluate Train:  33%|███▎      | 1/3 [00:00<00:01,  1.84it/s]"
          ]
        },
        {
          "output_type": "stream",
          "name": "stdout",
          "text": [
            "sample 7 num of prompts for COVID from total 12\n"
          ]
        },
        {
          "output_type": "stream",
          "name": "stderr",
          "text": [
            "\rEvaluate Train:  67%|██████▋   | 2/3 [00:01<00:00,  1.64it/s]"
          ]
        },
        {
          "output_type": "stream",
          "name": "stdout",
          "text": [
            "sample 7 num of prompts for COVID from total 12\n"
          ]
        },
        {
          "output_type": "stream",
          "name": "stderr",
          "text": [
            "Evaluate Train: 100%|██████████| 3/3 [00:02<00:00,  1.43it/s]\n",
            "Evaluate Validation:   0%|          | 0/1 [00:00<?, ?it/s]"
          ]
        },
        {
          "output_type": "stream",
          "name": "stdout",
          "text": [
            "sample 7 num of prompts for COVID from total 12\n"
          ]
        },
        {
          "output_type": "stream",
          "name": "stderr",
          "text": [
            "Evaluate Validation: 100%|██████████| 1/1 [00:00<00:00,  2.53it/s]\n",
            "Evaluate Test:   0%|          | 0/1 [00:00<?, ?it/s]"
          ]
        },
        {
          "output_type": "stream",
          "name": "stdout",
          "text": [
            "sample 7 num of prompts for COVID from total 12\n"
          ]
        },
        {
          "output_type": "stream",
          "name": "stderr",
          "text": [
            "Evaluate Test: 100%|██████████| 1/1 [00:00<00:00,  2.31it/s]\n"
          ]
        },
        {
          "output_type": "stream",
          "name": "stdout",
          "text": [
            "\n",
            "Accuracy: 0.5687, Precision: 0.5417, Recall: 0.7871, AUC: 0.6263\n"
          ]
        },
        {
          "output_type": "stream",
          "name": "stderr",
          "text": [
            "\rEvaluate Train:   0%|          | 0/3 [00:00<?, ?it/s]"
          ]
        },
        {
          "output_type": "stream",
          "name": "stdout",
          "text": [
            "sample 8 num of prompts for COVID from total 12\n"
          ]
        },
        {
          "output_type": "stream",
          "name": "stderr",
          "text": [
            "\rEvaluate Train:  33%|███▎      | 1/3 [00:00<00:01,  1.90it/s]"
          ]
        },
        {
          "output_type": "stream",
          "name": "stdout",
          "text": [
            "sample 8 num of prompts for COVID from total 12\n"
          ]
        },
        {
          "output_type": "stream",
          "name": "stderr",
          "text": [
            "\rEvaluate Train:  67%|██████▋   | 2/3 [00:01<00:00,  1.92it/s]"
          ]
        },
        {
          "output_type": "stream",
          "name": "stdout",
          "text": [
            "sample 8 num of prompts for COVID from total 12\n"
          ]
        },
        {
          "output_type": "stream",
          "name": "stderr",
          "text": [
            "Evaluate Train: 100%|██████████| 3/3 [00:01<00:00,  2.01it/s]\n",
            "Evaluate Validation:   0%|          | 0/1 [00:00<?, ?it/s]"
          ]
        },
        {
          "output_type": "stream",
          "name": "stdout",
          "text": [
            "sample 8 num of prompts for COVID from total 12\n"
          ]
        },
        {
          "output_type": "stream",
          "name": "stderr",
          "text": [
            "Evaluate Validation: 100%|██████████| 1/1 [00:00<00:00,  1.62it/s]\n",
            "Evaluate Test:   0%|          | 0/1 [00:00<?, ?it/s]"
          ]
        },
        {
          "output_type": "stream",
          "name": "stdout",
          "text": [
            "sample 8 num of prompts for COVID from total 12\n"
          ]
        },
        {
          "output_type": "stream",
          "name": "stderr",
          "text": [
            "Evaluate Test: 100%|██████████| 1/1 [00:00<00:00,  1.19it/s]\n"
          ]
        },
        {
          "output_type": "stream",
          "name": "stdout",
          "text": [
            "\n",
            "Accuracy: 0.5711, Precision: 0.5434, Recall: 0.7896, AUC: 0.6265\n"
          ]
        },
        {
          "output_type": "stream",
          "name": "stderr",
          "text": [
            "\rEvaluate Train:   0%|          | 0/3 [00:00<?, ?it/s]"
          ]
        },
        {
          "output_type": "stream",
          "name": "stdout",
          "text": [
            "sample 9 num of prompts for COVID from total 12\n"
          ]
        },
        {
          "output_type": "stream",
          "name": "stderr",
          "text": [
            "\rEvaluate Train:  33%|███▎      | 1/3 [00:00<00:01,  1.94it/s]"
          ]
        },
        {
          "output_type": "stream",
          "name": "stdout",
          "text": [
            "sample 9 num of prompts for COVID from total 12\n"
          ]
        },
        {
          "output_type": "stream",
          "name": "stderr",
          "text": [
            "\rEvaluate Train:  67%|██████▋   | 2/3 [00:01<00:00,  1.90it/s]"
          ]
        },
        {
          "output_type": "stream",
          "name": "stdout",
          "text": [
            "sample 9 num of prompts for COVID from total 12\n"
          ]
        },
        {
          "output_type": "stream",
          "name": "stderr",
          "text": [
            "Evaluate Train: 100%|██████████| 3/3 [00:02<00:00,  1.44it/s]\n",
            "Evaluate Validation:   0%|          | 0/1 [00:00<?, ?it/s]"
          ]
        },
        {
          "output_type": "stream",
          "name": "stdout",
          "text": [
            "sample 9 num of prompts for COVID from total 12\n"
          ]
        },
        {
          "output_type": "stream",
          "name": "stderr",
          "text": [
            "Evaluate Validation: 100%|██████████| 1/1 [00:00<00:00,  1.06it/s]\n",
            "Evaluate Test:   0%|          | 0/1 [00:00<?, ?it/s]"
          ]
        },
        {
          "output_type": "stream",
          "name": "stdout",
          "text": [
            "sample 9 num of prompts for COVID from total 12\n"
          ]
        },
        {
          "output_type": "stream",
          "name": "stderr",
          "text": [
            "Evaluate Test: 100%|██████████| 1/1 [00:00<00:00,  1.93it/s]\n"
          ]
        },
        {
          "output_type": "stream",
          "name": "stdout",
          "text": [
            "\n",
            "Accuracy: 0.5699, Precision: 0.5425, Recall: 0.7896, AUC: 0.6270\n"
          ]
        },
        {
          "output_type": "stream",
          "name": "stderr",
          "text": [
            "\rEvaluate Train:   0%|          | 0/3 [00:00<?, ?it/s]"
          ]
        },
        {
          "output_type": "stream",
          "name": "stdout",
          "text": [
            "sample 10 num of prompts for COVID from total 12\n"
          ]
        },
        {
          "output_type": "stream",
          "name": "stderr",
          "text": [
            "\rEvaluate Train:  33%|███▎      | 1/3 [00:00<00:01,  1.54it/s]"
          ]
        },
        {
          "output_type": "stream",
          "name": "stdout",
          "text": [
            "sample 10 num of prompts for COVID from total 12\n"
          ]
        },
        {
          "output_type": "stream",
          "name": "stderr",
          "text": [
            "\rEvaluate Train:  67%|██████▋   | 2/3 [00:01<00:00,  1.74it/s]"
          ]
        },
        {
          "output_type": "stream",
          "name": "stdout",
          "text": [
            "sample 10 num of prompts for COVID from total 12\n"
          ]
        },
        {
          "output_type": "stream",
          "name": "stderr",
          "text": [
            "Evaluate Train: 100%|██████████| 3/3 [00:02<00:00,  1.22it/s]\n",
            "Evaluate Validation:   0%|          | 0/1 [00:00<?, ?it/s]"
          ]
        },
        {
          "output_type": "stream",
          "name": "stdout",
          "text": [
            "sample 10 num of prompts for COVID from total 12\n"
          ]
        },
        {
          "output_type": "stream",
          "name": "stderr",
          "text": [
            "Evaluate Validation: 100%|██████████| 1/1 [00:01<00:00,  1.02s/it]\n",
            "Evaluate Test:   0%|          | 0/1 [00:00<?, ?it/s]"
          ]
        },
        {
          "output_type": "stream",
          "name": "stdout",
          "text": [
            "sample 10 num of prompts for COVID from total 12\n"
          ]
        },
        {
          "output_type": "stream",
          "name": "stderr",
          "text": [
            "Evaluate Test: 100%|██████████| 1/1 [00:00<00:00,  1.00it/s]\n"
          ]
        },
        {
          "output_type": "stream",
          "name": "stdout",
          "text": [
            "\n",
            "Accuracy: 0.5699, Precision: 0.5425, Recall: 0.7896, AUC: 0.6268\n"
          ]
        },
        {
          "output_type": "stream",
          "name": "stderr",
          "text": [
            "\rEvaluate Train:   0%|          | 0/3 [00:00<?, ?it/s]"
          ]
        },
        {
          "output_type": "stream",
          "name": "stdout",
          "text": [
            "sample 11 num of prompts for COVID from total 12\n"
          ]
        },
        {
          "output_type": "stream",
          "name": "stderr",
          "text": [
            "\rEvaluate Train:  33%|███▎      | 1/3 [00:00<00:01,  1.88it/s]"
          ]
        },
        {
          "output_type": "stream",
          "name": "stdout",
          "text": [
            "sample 11 num of prompts for COVID from total 12\n"
          ]
        },
        {
          "output_type": "stream",
          "name": "stderr",
          "text": [
            "\rEvaluate Train:  67%|██████▋   | 2/3 [00:01<00:00,  1.22it/s]"
          ]
        },
        {
          "output_type": "stream",
          "name": "stdout",
          "text": [
            "sample 11 num of prompts for COVID from total 12\n"
          ]
        },
        {
          "output_type": "stream",
          "name": "stderr",
          "text": [
            "Evaluate Train: 100%|██████████| 3/3 [00:02<00:00,  1.02it/s]\n",
            "Evaluate Validation:   0%|          | 0/1 [00:00<?, ?it/s]"
          ]
        },
        {
          "output_type": "stream",
          "name": "stdout",
          "text": [
            "sample 11 num of prompts for COVID from total 12\n"
          ]
        },
        {
          "output_type": "stream",
          "name": "stderr",
          "text": [
            "Evaluate Validation: 100%|██████████| 1/1 [00:01<00:00,  1.01s/it]\n",
            "Evaluate Test:   0%|          | 0/1 [00:00<?, ?it/s]"
          ]
        },
        {
          "output_type": "stream",
          "name": "stdout",
          "text": [
            "sample 11 num of prompts for COVID from total 12\n"
          ]
        },
        {
          "output_type": "stream",
          "name": "stderr",
          "text": [
            "Evaluate Test: 100%|██████████| 1/1 [00:00<00:00,  2.30it/s]\n"
          ]
        },
        {
          "output_type": "stream",
          "name": "stdout",
          "text": [
            "\n",
            "Accuracy: 0.5699, Precision: 0.5425, Recall: 0.7896, AUC: 0.6265\n"
          ]
        },
        {
          "output_type": "stream",
          "name": "stderr",
          "text": [
            "\rEvaluate Train:   0%|          | 0/3 [00:00<?, ?it/s]"
          ]
        },
        {
          "output_type": "stream",
          "name": "stdout",
          "text": [
            "sample 12 num of prompts for COVID from total 12\n"
          ]
        },
        {
          "output_type": "stream",
          "name": "stderr",
          "text": [
            "\rEvaluate Train:  33%|███▎      | 1/3 [00:00<00:01,  1.83it/s]"
          ]
        },
        {
          "output_type": "stream",
          "name": "stdout",
          "text": [
            "sample 12 num of prompts for COVID from total 12\n"
          ]
        },
        {
          "output_type": "stream",
          "name": "stderr",
          "text": [
            "\rEvaluate Train:  67%|██████▋   | 2/3 [00:01<00:01,  1.07s/it]"
          ]
        },
        {
          "output_type": "stream",
          "name": "stdout",
          "text": [
            "sample 12 num of prompts for COVID from total 12\n"
          ]
        },
        {
          "output_type": "stream",
          "name": "stderr",
          "text": [
            "Evaluate Train: 100%|██████████| 3/3 [00:02<00:00,  1.33it/s]\n",
            "Evaluate Validation:   0%|          | 0/1 [00:00<?, ?it/s]"
          ]
        },
        {
          "output_type": "stream",
          "name": "stdout",
          "text": [
            "sample 12 num of prompts for COVID from total 12\n"
          ]
        },
        {
          "output_type": "stream",
          "name": "stderr",
          "text": [
            "Evaluate Validation: 100%|██████████| 1/1 [00:01<00:00,  1.18s/it]\n",
            "Evaluate Test:   0%|          | 0/1 [00:00<?, ?it/s]"
          ]
        },
        {
          "output_type": "stream",
          "name": "stdout",
          "text": [
            "sample 12 num of prompts for COVID from total 12\n"
          ]
        },
        {
          "output_type": "stream",
          "name": "stderr",
          "text": [
            "Evaluate Test: 100%|██████████| 1/1 [00:00<00:00,  1.72it/s]\n"
          ]
        },
        {
          "output_type": "stream",
          "name": "stdout",
          "text": [
            "\n",
            "Accuracy: 0.5699, Precision: 0.5425, Recall: 0.7896, AUC: 0.6267\n",
            "Best AUC for covid_task with 4 prompts: 0.6287\n",
            "Results saved to results/zs_medclip_finetune/ori/medclip/classification_results.txt\n"
          ]
        },
        {
          "output_type": "stream",
          "name": "stderr",
          "text": [
            "\rEvaluate Train:   0%|          | 0/3 [00:00<?, ?it/s]"
          ]
        },
        {
          "output_type": "stream",
          "name": "stdout",
          "text": [
            "sample 1 num of prompts for Pneumonia from total 312\n"
          ]
        },
        {
          "output_type": "stream",
          "name": "stderr",
          "text": [
            "\rEvaluate Train:  33%|███▎      | 1/3 [00:00<00:01,  1.95it/s]"
          ]
        },
        {
          "output_type": "stream",
          "name": "stdout",
          "text": [
            "sample 1 num of prompts for Pneumonia from total 312\n"
          ]
        },
        {
          "output_type": "stream",
          "name": "stderr",
          "text": [
            "\rEvaluate Train:  67%|██████▋   | 2/3 [00:01<00:00,  1.94it/s]"
          ]
        },
        {
          "output_type": "stream",
          "name": "stdout",
          "text": [
            "sample 1 num of prompts for Pneumonia from total 312\n"
          ]
        },
        {
          "output_type": "stream",
          "name": "stderr",
          "text": [
            "Evaluate Train: 100%|██████████| 3/3 [00:02<00:00,  1.24it/s]\n",
            "Evaluate Validation:   0%|          | 0/1 [00:00<?, ?it/s]"
          ]
        },
        {
          "output_type": "stream",
          "name": "stdout",
          "text": [
            "sample 1 num of prompts for Pneumonia from total 312\n"
          ]
        },
        {
          "output_type": "stream",
          "name": "stderr",
          "text": [
            "Evaluate Validation: 100%|██████████| 1/1 [00:00<00:00,  2.30it/s]\n",
            "Evaluate Test:   0%|          | 0/1 [00:00<?, ?it/s]"
          ]
        },
        {
          "output_type": "stream",
          "name": "stdout",
          "text": [
            "sample 1 num of prompts for Pneumonia from total 312\n"
          ]
        },
        {
          "output_type": "stream",
          "name": "stderr",
          "text": [
            "Evaluate Test: 100%|██████████| 1/1 [00:00<00:00,  2.16it/s]\n"
          ]
        },
        {
          "output_type": "stream",
          "name": "stdout",
          "text": [
            "\n",
            "Accuracy: 0.5565, Precision: 0.5315, Recall: 0.8144, AUC: 0.6168\n"
          ]
        },
        {
          "output_type": "stream",
          "name": "stderr",
          "text": [
            "\rEvaluate Train:   0%|          | 0/3 [00:00<?, ?it/s]"
          ]
        },
        {
          "output_type": "stream",
          "name": "stdout",
          "text": [
            "sample 2 num of prompts for Pneumonia from total 312\n"
          ]
        },
        {
          "output_type": "stream",
          "name": "stderr",
          "text": [
            "\rEvaluate Train:  33%|███▎      | 1/3 [00:00<00:01,  1.91it/s]"
          ]
        },
        {
          "output_type": "stream",
          "name": "stdout",
          "text": [
            "sample 2 num of prompts for Pneumonia from total 312\n"
          ]
        },
        {
          "output_type": "stream",
          "name": "stderr",
          "text": [
            "\rEvaluate Train:  67%|██████▋   | 2/3 [00:01<00:00,  1.05it/s]"
          ]
        },
        {
          "output_type": "stream",
          "name": "stdout",
          "text": [
            "sample 2 num of prompts for Pneumonia from total 312\n"
          ]
        },
        {
          "output_type": "stream",
          "name": "stderr",
          "text": [
            "Evaluate Train: 100%|██████████| 3/3 [00:03<00:00,  1.01s/it]\n",
            "Evaluate Validation:   0%|          | 0/1 [00:00<?, ?it/s]"
          ]
        },
        {
          "output_type": "stream",
          "name": "stdout",
          "text": [
            "sample 2 num of prompts for Pneumonia from total 312\n"
          ]
        },
        {
          "output_type": "stream",
          "name": "stderr",
          "text": [
            "Evaluate Validation: 100%|██████████| 1/1 [00:00<00:00,  2.51it/s]\n",
            "Evaluate Test:   0%|          | 0/1 [00:00<?, ?it/s]"
          ]
        },
        {
          "output_type": "stream",
          "name": "stdout",
          "text": [
            "sample 2 num of prompts for Pneumonia from total 312\n"
          ]
        },
        {
          "output_type": "stream",
          "name": "stderr",
          "text": [
            "Evaluate Test: 100%|██████████| 1/1 [00:00<00:00,  2.35it/s]\n"
          ]
        },
        {
          "output_type": "stream",
          "name": "stdout",
          "text": [
            "\n",
            "Accuracy: 0.5492, Precision: 0.5261, Recall: 0.8243, AUC: 0.6140\n"
          ]
        },
        {
          "output_type": "stream",
          "name": "stderr",
          "text": [
            "\rEvaluate Train:   0%|          | 0/3 [00:00<?, ?it/s]"
          ]
        },
        {
          "output_type": "stream",
          "name": "stdout",
          "text": [
            "sample 3 num of prompts for Pneumonia from total 312\n"
          ]
        },
        {
          "output_type": "stream",
          "name": "stderr",
          "text": [
            "\rEvaluate Train:  33%|███▎      | 1/3 [00:00<00:01,  1.91it/s]"
          ]
        },
        {
          "output_type": "stream",
          "name": "stdout",
          "text": [
            "sample 3 num of prompts for Pneumonia from total 312\n"
          ]
        },
        {
          "output_type": "stream",
          "name": "stderr",
          "text": [
            "\rEvaluate Train:  67%|██████▋   | 2/3 [00:01<00:00,  1.10it/s]"
          ]
        },
        {
          "output_type": "stream",
          "name": "stdout",
          "text": [
            "sample 3 num of prompts for Pneumonia from total 312\n"
          ]
        },
        {
          "output_type": "stream",
          "name": "stderr",
          "text": [
            "Evaluate Train: 100%|██████████| 3/3 [00:02<00:00,  1.18it/s]\n",
            "Evaluate Validation:   0%|          | 0/1 [00:00<?, ?it/s]"
          ]
        },
        {
          "output_type": "stream",
          "name": "stdout",
          "text": [
            "sample 3 num of prompts for Pneumonia from total 312\n"
          ]
        },
        {
          "output_type": "stream",
          "name": "stderr",
          "text": [
            "Evaluate Validation: 100%|██████████| 1/1 [00:00<00:00,  2.59it/s]\n",
            "Evaluate Test:   0%|          | 0/1 [00:00<?, ?it/s]"
          ]
        },
        {
          "output_type": "stream",
          "name": "stdout",
          "text": [
            "sample 3 num of prompts for Pneumonia from total 312\n"
          ]
        },
        {
          "output_type": "stream",
          "name": "stderr",
          "text": [
            "Evaluate Test: 100%|██████████| 1/1 [00:01<00:00,  1.20s/it]\n"
          ]
        },
        {
          "output_type": "stream",
          "name": "stdout",
          "text": [
            "\n",
            "Accuracy: 0.5237, Precision: 0.5082, Recall: 0.9257, AUC: 0.6107\n"
          ]
        },
        {
          "output_type": "stream",
          "name": "stderr",
          "text": [
            "\rEvaluate Train:   0%|          | 0/3 [00:00<?, ?it/s]"
          ]
        },
        {
          "output_type": "stream",
          "name": "stdout",
          "text": [
            "sample 4 num of prompts for Pneumonia from total 312\n"
          ]
        },
        {
          "output_type": "stream",
          "name": "stderr",
          "text": [
            "\rEvaluate Train:  33%|███▎      | 1/3 [00:00<00:01,  1.78it/s]"
          ]
        },
        {
          "output_type": "stream",
          "name": "stdout",
          "text": [
            "sample 4 num of prompts for Pneumonia from total 312\n"
          ]
        },
        {
          "output_type": "stream",
          "name": "stderr",
          "text": [
            "\rEvaluate Train:  67%|██████▋   | 2/3 [00:01<00:00,  1.86it/s]"
          ]
        },
        {
          "output_type": "stream",
          "name": "stdout",
          "text": [
            "sample 4 num of prompts for Pneumonia from total 312\n"
          ]
        },
        {
          "output_type": "stream",
          "name": "stderr",
          "text": [
            "Evaluate Train: 100%|██████████| 3/3 [00:01<00:00,  1.80it/s]\n",
            "Evaluate Validation:   0%|          | 0/1 [00:00<?, ?it/s]"
          ]
        },
        {
          "output_type": "stream",
          "name": "stdout",
          "text": [
            "sample 4 num of prompts for Pneumonia from total 312\n"
          ]
        },
        {
          "output_type": "stream",
          "name": "stderr",
          "text": [
            "Evaluate Validation: 100%|██████████| 1/1 [00:00<00:00,  2.48it/s]\n",
            "Evaluate Test:   0%|          | 0/1 [00:00<?, ?it/s]"
          ]
        },
        {
          "output_type": "stream",
          "name": "stdout",
          "text": [
            "sample 4 num of prompts for Pneumonia from total 312\n"
          ]
        },
        {
          "output_type": "stream",
          "name": "stderr",
          "text": [
            "Evaluate Test: 100%|██████████| 1/1 [00:00<00:00,  1.05it/s]\n"
          ]
        },
        {
          "output_type": "stream",
          "name": "stdout",
          "text": [
            "\n",
            "Accuracy: 0.5261, Precision: 0.5100, Recall: 0.8812, AUC: 0.6187\n"
          ]
        },
        {
          "output_type": "stream",
          "name": "stderr",
          "text": [
            "\rEvaluate Train:   0%|          | 0/3 [00:00<?, ?it/s]"
          ]
        },
        {
          "output_type": "stream",
          "name": "stdout",
          "text": [
            "sample 5 num of prompts for Pneumonia from total 312\n"
          ]
        },
        {
          "output_type": "stream",
          "name": "stderr",
          "text": [
            "\rEvaluate Train:  33%|███▎      | 1/3 [00:00<00:01,  1.86it/s]"
          ]
        },
        {
          "output_type": "stream",
          "name": "stdout",
          "text": [
            "sample 5 num of prompts for Pneumonia from total 312\n"
          ]
        },
        {
          "output_type": "stream",
          "name": "stderr",
          "text": [
            "\rEvaluate Train:  67%|██████▋   | 2/3 [00:01<00:00,  1.30it/s]"
          ]
        },
        {
          "output_type": "stream",
          "name": "stdout",
          "text": [
            "sample 5 num of prompts for Pneumonia from total 312\n"
          ]
        },
        {
          "output_type": "stream",
          "name": "stderr",
          "text": [
            "Evaluate Train: 100%|██████████| 3/3 [00:01<00:00,  1.72it/s]\n",
            "Evaluate Validation:   0%|          | 0/1 [00:00<?, ?it/s]"
          ]
        },
        {
          "output_type": "stream",
          "name": "stdout",
          "text": [
            "sample 5 num of prompts for Pneumonia from total 312\n"
          ]
        },
        {
          "output_type": "stream",
          "name": "stderr",
          "text": [
            "Evaluate Validation: 100%|██████████| 1/1 [00:01<00:00,  1.25s/it]\n",
            "Evaluate Test:   0%|          | 0/1 [00:00<?, ?it/s]"
          ]
        },
        {
          "output_type": "stream",
          "name": "stdout",
          "text": [
            "sample 5 num of prompts for Pneumonia from total 312\n"
          ]
        },
        {
          "output_type": "stream",
          "name": "stderr",
          "text": [
            "Evaluate Test: 100%|██████████| 1/1 [00:00<00:00,  1.06it/s]\n"
          ]
        },
        {
          "output_type": "stream",
          "name": "stdout",
          "text": [
            "\n",
            "Accuracy: 0.5043, Precision: 0.4974, Recall: 0.9554, AUC: 0.6031\n"
          ]
        },
        {
          "output_type": "stream",
          "name": "stderr",
          "text": [
            "\rEvaluate Train:   0%|          | 0/3 [00:00<?, ?it/s]"
          ]
        },
        {
          "output_type": "stream",
          "name": "stdout",
          "text": [
            "sample 6 num of prompts for Pneumonia from total 312\n"
          ]
        },
        {
          "output_type": "stream",
          "name": "stderr",
          "text": [
            "\rEvaluate Train:  33%|███▎      | 1/3 [00:00<00:01,  1.68it/s]"
          ]
        },
        {
          "output_type": "stream",
          "name": "stdout",
          "text": [
            "sample 6 num of prompts for Pneumonia from total 312\n"
          ]
        },
        {
          "output_type": "stream",
          "name": "stderr",
          "text": [
            "\rEvaluate Train:  67%|██████▋   | 2/3 [00:01<00:00,  1.35it/s]"
          ]
        },
        {
          "output_type": "stream",
          "name": "stdout",
          "text": [
            "sample 6 num of prompts for Pneumonia from total 312\n"
          ]
        },
        {
          "output_type": "stream",
          "name": "stderr",
          "text": [
            "Evaluate Train: 100%|██████████| 3/3 [00:01<00:00,  1.74it/s]\n",
            "Evaluate Validation:   0%|          | 0/1 [00:00<?, ?it/s]"
          ]
        },
        {
          "output_type": "stream",
          "name": "stdout",
          "text": [
            "sample 6 num of prompts for Pneumonia from total 312\n"
          ]
        },
        {
          "output_type": "stream",
          "name": "stderr",
          "text": [
            "Evaluate Validation: 100%|██████████| 1/1 [00:01<00:00,  1.22s/it]\n",
            "Evaluate Test:   0%|          | 0/1 [00:00<?, ?it/s]"
          ]
        },
        {
          "output_type": "stream",
          "name": "stdout",
          "text": [
            "sample 6 num of prompts for Pneumonia from total 312\n"
          ]
        },
        {
          "output_type": "stream",
          "name": "stderr",
          "text": [
            "Evaluate Test: 100%|██████████| 1/1 [00:00<00:00,  2.30it/s]\n"
          ]
        },
        {
          "output_type": "stream",
          "name": "stdout",
          "text": [
            "\n",
            "Accuracy: 0.5261, Precision: 0.5097, Recall: 0.9084, AUC: 0.6121\n"
          ]
        },
        {
          "output_type": "stream",
          "name": "stderr",
          "text": [
            "\rEvaluate Train:   0%|          | 0/3 [00:00<?, ?it/s]"
          ]
        },
        {
          "output_type": "stream",
          "name": "stdout",
          "text": [
            "sample 7 num of prompts for Pneumonia from total 312\n"
          ]
        },
        {
          "output_type": "stream",
          "name": "stderr",
          "text": [
            "\rEvaluate Train:  33%|███▎      | 1/3 [00:00<00:01,  1.91it/s]"
          ]
        },
        {
          "output_type": "stream",
          "name": "stdout",
          "text": [
            "sample 7 num of prompts for Pneumonia from total 312\n"
          ]
        },
        {
          "output_type": "stream",
          "name": "stderr",
          "text": [
            "\rEvaluate Train:  67%|██████▋   | 2/3 [00:01<00:00,  1.90it/s]"
          ]
        },
        {
          "output_type": "stream",
          "name": "stdout",
          "text": [
            "sample 7 num of prompts for Pneumonia from total 312\n"
          ]
        },
        {
          "output_type": "stream",
          "name": "stderr",
          "text": [
            "Evaluate Train: 100%|██████████| 3/3 [00:01<00:00,  1.57it/s]\n",
            "Evaluate Validation:   0%|          | 0/1 [00:00<?, ?it/s]"
          ]
        },
        {
          "output_type": "stream",
          "name": "stdout",
          "text": [
            "sample 7 num of prompts for Pneumonia from total 312\n"
          ]
        },
        {
          "output_type": "stream",
          "name": "stderr",
          "text": [
            "Evaluate Validation: 100%|██████████| 1/1 [00:00<00:00,  2.44it/s]\n",
            "Evaluate Test:   0%|          | 0/1 [00:00<?, ?it/s]"
          ]
        },
        {
          "output_type": "stream",
          "name": "stdout",
          "text": [
            "sample 7 num of prompts for Pneumonia from total 312\n"
          ]
        },
        {
          "output_type": "stream",
          "name": "stderr",
          "text": [
            "Evaluate Test: 100%|██████████| 1/1 [00:00<00:00,  1.79it/s]\n"
          ]
        },
        {
          "output_type": "stream",
          "name": "stdout",
          "text": [
            "\n",
            "Accuracy: 0.5261, Precision: 0.5093, Recall: 0.9480, AUC: 0.6250\n"
          ]
        },
        {
          "output_type": "stream",
          "name": "stderr",
          "text": [
            "\rEvaluate Train:   0%|          | 0/3 [00:00<?, ?it/s]"
          ]
        },
        {
          "output_type": "stream",
          "name": "stdout",
          "text": [
            "sample 8 num of prompts for Pneumonia from total 312\n"
          ]
        },
        {
          "output_type": "stream",
          "name": "stderr",
          "text": [
            "\rEvaluate Train:  33%|███▎      | 1/3 [00:00<00:01,  1.90it/s]"
          ]
        },
        {
          "output_type": "stream",
          "name": "stdout",
          "text": [
            "sample 8 num of prompts for Pneumonia from total 312\n"
          ]
        },
        {
          "output_type": "stream",
          "name": "stderr",
          "text": [
            "\rEvaluate Train:  67%|██████▋   | 2/3 [00:01<00:00,  1.10it/s]"
          ]
        },
        {
          "output_type": "stream",
          "name": "stdout",
          "text": [
            "sample 8 num of prompts for Pneumonia from total 312\n"
          ]
        },
        {
          "output_type": "stream",
          "name": "stderr",
          "text": [
            "Evaluate Train: 100%|██████████| 3/3 [00:02<00:00,  1.25it/s]\n",
            "Evaluate Validation:   0%|          | 0/1 [00:00<?, ?it/s]"
          ]
        },
        {
          "output_type": "stream",
          "name": "stdout",
          "text": [
            "sample 8 num of prompts for Pneumonia from total 312\n"
          ]
        },
        {
          "output_type": "stream",
          "name": "stderr",
          "text": [
            "Evaluate Validation: 100%|██████████| 1/1 [00:00<00:00,  1.84it/s]\n",
            "Evaluate Test:   0%|          | 0/1 [00:00<?, ?it/s]"
          ]
        },
        {
          "output_type": "stream",
          "name": "stdout",
          "text": [
            "sample 8 num of prompts for Pneumonia from total 312\n"
          ]
        },
        {
          "output_type": "stream",
          "name": "stderr",
          "text": [
            "Evaluate Test: 100%|██████████| 1/1 [00:00<00:00,  1.99it/s]\n"
          ]
        },
        {
          "output_type": "stream",
          "name": "stdout",
          "text": [
            "\n",
            "Accuracy: 0.5018, Precision: 0.4963, Recall: 0.9851, AUC: 0.6025\n"
          ]
        },
        {
          "output_type": "stream",
          "name": "stderr",
          "text": [
            "\rEvaluate Train:   0%|          | 0/3 [00:00<?, ?it/s]"
          ]
        },
        {
          "output_type": "stream",
          "name": "stdout",
          "text": [
            "sample 9 num of prompts for Pneumonia from total 312\n"
          ]
        },
        {
          "output_type": "stream",
          "name": "stderr",
          "text": [
            "\rEvaluate Train:  33%|███▎      | 1/3 [00:00<00:01,  1.88it/s]"
          ]
        },
        {
          "output_type": "stream",
          "name": "stdout",
          "text": [
            "sample 9 num of prompts for Pneumonia from total 312\n"
          ]
        },
        {
          "output_type": "stream",
          "name": "stderr",
          "text": [
            "\rEvaluate Train:  67%|██████▋   | 2/3 [00:01<00:00,  1.14it/s]"
          ]
        },
        {
          "output_type": "stream",
          "name": "stdout",
          "text": [
            "sample 9 num of prompts for Pneumonia from total 312\n"
          ]
        },
        {
          "output_type": "stream",
          "name": "stderr",
          "text": [
            "Evaluate Train: 100%|██████████| 3/3 [00:02<00:00,  1.22it/s]\n",
            "Evaluate Validation:   0%|          | 0/1 [00:00<?, ?it/s]"
          ]
        },
        {
          "output_type": "stream",
          "name": "stdout",
          "text": [
            "sample 9 num of prompts for Pneumonia from total 312\n"
          ]
        },
        {
          "output_type": "stream",
          "name": "stderr",
          "text": [
            "Evaluate Validation: 100%|██████████| 1/1 [00:00<00:00,  2.48it/s]\n",
            "Evaluate Test:   0%|          | 0/1 [00:00<?, ?it/s]"
          ]
        },
        {
          "output_type": "stream",
          "name": "stdout",
          "text": [
            "sample 9 num of prompts for Pneumonia from total 312\n"
          ]
        },
        {
          "output_type": "stream",
          "name": "stderr",
          "text": [
            "Evaluate Test: 100%|██████████| 1/1 [00:00<00:00,  2.13it/s]\n"
          ]
        },
        {
          "output_type": "stream",
          "name": "stdout",
          "text": [
            "\n",
            "Accuracy: 0.4945, Precision: 0.4923, Recall: 0.9505, AUC: 0.6229\n"
          ]
        },
        {
          "output_type": "stream",
          "name": "stderr",
          "text": [
            "Evaluate Train:  33%|███▎      | 1/3 [00:00<00:01,  1.72it/s]"
          ]
        },
        {
          "output_type": "stream",
          "name": "stdout",
          "text": [
            "sample 10 num of prompts for Pneumonia from total 312\n",
            "sample 10 num of prompts for Pneumonia from total 312\n"
          ]
        },
        {
          "output_type": "stream",
          "name": "stderr",
          "text": [
            "\rEvaluate Train:  67%|██████▋   | 2/3 [00:01<00:00,  1.51it/s]"
          ]
        },
        {
          "output_type": "stream",
          "name": "stdout",
          "text": [
            "sample 10 num of prompts for Pneumonia from total 312\n"
          ]
        },
        {
          "output_type": "stream",
          "name": "stderr",
          "text": [
            "Evaluate Train: 100%|██████████| 3/3 [00:02<00:00,  1.42it/s]\n",
            "Evaluate Validation:   0%|          | 0/1 [00:00<?, ?it/s]"
          ]
        },
        {
          "output_type": "stream",
          "name": "stdout",
          "text": [
            "sample 10 num of prompts for Pneumonia from total 312\n"
          ]
        },
        {
          "output_type": "stream",
          "name": "stderr",
          "text": [
            "Evaluate Validation: 100%|██████████| 1/1 [00:00<00:00,  2.20it/s]\n",
            "Evaluate Test:   0%|          | 0/1 [00:00<?, ?it/s]"
          ]
        },
        {
          "output_type": "stream",
          "name": "stdout",
          "text": [
            "sample 10 num of prompts for Pneumonia from total 312\n"
          ]
        },
        {
          "output_type": "stream",
          "name": "stderr",
          "text": [
            "Evaluate Test: 100%|██████████| 1/1 [00:00<00:00,  2.29it/s]\n"
          ]
        },
        {
          "output_type": "stream",
          "name": "stdout",
          "text": [
            "\n",
            "Accuracy: 0.4982, Precision: 0.4942, Recall: 0.9554, AUC: 0.6127\n"
          ]
        },
        {
          "output_type": "stream",
          "name": "stderr",
          "text": [
            "\rEvaluate Train:   0%|          | 0/3 [00:00<?, ?it/s]"
          ]
        },
        {
          "output_type": "stream",
          "name": "stdout",
          "text": [
            "sample 11 num of prompts for Pneumonia from total 312\n"
          ]
        },
        {
          "output_type": "stream",
          "name": "stderr",
          "text": [
            "\rEvaluate Train:  33%|███▎      | 1/3 [00:00<00:01,  1.91it/s]"
          ]
        },
        {
          "output_type": "stream",
          "name": "stdout",
          "text": [
            "sample 11 num of prompts for Pneumonia from total 312\n"
          ]
        },
        {
          "output_type": "stream",
          "name": "stderr",
          "text": [
            "\rEvaluate Train:  67%|██████▋   | 2/3 [00:01<00:00,  1.29it/s]"
          ]
        },
        {
          "output_type": "stream",
          "name": "stdout",
          "text": [
            "sample 11 num of prompts for Pneumonia from total 312\n"
          ]
        },
        {
          "output_type": "stream",
          "name": "stderr",
          "text": [
            "Evaluate Train: 100%|██████████| 3/3 [00:02<00:00,  1.35it/s]\n",
            "Evaluate Validation:   0%|          | 0/1 [00:00<?, ?it/s]"
          ]
        },
        {
          "output_type": "stream",
          "name": "stdout",
          "text": [
            "sample 11 num of prompts for Pneumonia from total 312\n"
          ]
        },
        {
          "output_type": "stream",
          "name": "stderr",
          "text": [
            "Evaluate Validation: 100%|██████████| 1/1 [00:00<00:00,  1.98it/s]\n",
            "Evaluate Test:   0%|          | 0/1 [00:00<?, ?it/s]"
          ]
        },
        {
          "output_type": "stream",
          "name": "stdout",
          "text": [
            "sample 11 num of prompts for Pneumonia from total 312\n"
          ]
        },
        {
          "output_type": "stream",
          "name": "stderr",
          "text": [
            "Evaluate Test: 100%|██████████| 1/1 [00:01<00:00,  1.20s/it]\n"
          ]
        },
        {
          "output_type": "stream",
          "name": "stdout",
          "text": [
            "\n",
            "Accuracy: 0.4945, Precision: 0.4926, Recall: 0.9950, AUC: 0.6146\n"
          ]
        },
        {
          "output_type": "stream",
          "name": "stderr",
          "text": [
            "\rEvaluate Train:   0%|          | 0/3 [00:00<?, ?it/s]"
          ]
        },
        {
          "output_type": "stream",
          "name": "stdout",
          "text": [
            "sample 12 num of prompts for Pneumonia from total 312\n"
          ]
        },
        {
          "output_type": "stream",
          "name": "stderr",
          "text": [
            "\rEvaluate Train:  33%|███▎      | 1/3 [00:00<00:01,  1.81it/s]"
          ]
        },
        {
          "output_type": "stream",
          "name": "stdout",
          "text": [
            "sample 12 num of prompts for Pneumonia from total 312\n"
          ]
        },
        {
          "output_type": "stream",
          "name": "stderr",
          "text": [
            "\rEvaluate Train:  67%|██████▋   | 2/3 [00:01<00:00,  1.82it/s]"
          ]
        },
        {
          "output_type": "stream",
          "name": "stdout",
          "text": [
            "sample 12 num of prompts for Pneumonia from total 312\n"
          ]
        },
        {
          "output_type": "stream",
          "name": "stderr",
          "text": [
            "Evaluate Train: 100%|██████████| 3/3 [00:01<00:00,  1.50it/s]\n",
            "Evaluate Validation:   0%|          | 0/1 [00:00<?, ?it/s]"
          ]
        },
        {
          "output_type": "stream",
          "name": "stdout",
          "text": [
            "sample 12 num of prompts for Pneumonia from total 312\n"
          ]
        },
        {
          "output_type": "stream",
          "name": "stderr",
          "text": [
            "Evaluate Validation: 100%|██████████| 1/1 [00:00<00:00,  1.06it/s]\n",
            "Evaluate Test:   0%|          | 0/1 [00:00<?, ?it/s]"
          ]
        },
        {
          "output_type": "stream",
          "name": "stdout",
          "text": [
            "sample 12 num of prompts for Pneumonia from total 312\n"
          ]
        },
        {
          "output_type": "stream",
          "name": "stderr",
          "text": [
            "Evaluate Test: 100%|██████████| 1/1 [00:00<00:00,  2.28it/s]\n"
          ]
        },
        {
          "output_type": "stream",
          "name": "stdout",
          "text": [
            "\n",
            "Accuracy: 0.5140, Precision: 0.5026, Recall: 0.9604, AUC: 0.6360\n",
            "Best AUC for rsna_task with 12 prompts: 0.6360\n",
            "Results saved to results/zs_medclip_finetune/ori/medclip/classification_results.txt\n"
          ]
        },
        {
          "output_type": "stream",
          "name": "stderr",
          "text": [
            "\rEvaluate Train:   0%|          | 0/3 [00:00<?, ?it/s]"
          ]
        },
        {
          "output_type": "stream",
          "name": "stdout",
          "text": [
            "sample 1 num of prompts for COVID from total 12\n"
          ]
        },
        {
          "output_type": "stream",
          "name": "stderr",
          "text": [
            "\rEvaluate Train:  33%|███▎      | 1/3 [00:00<00:01,  1.85it/s]"
          ]
        },
        {
          "output_type": "stream",
          "name": "stdout",
          "text": [
            "sample 1 num of prompts for COVID from total 12\n"
          ]
        },
        {
          "output_type": "stream",
          "name": "stderr",
          "text": [
            "\rEvaluate Train:  67%|██████▋   | 2/3 [00:01<00:00,  1.84it/s]"
          ]
        },
        {
          "output_type": "stream",
          "name": "stdout",
          "text": [
            "sample 1 num of prompts for COVID from total 12\n"
          ]
        },
        {
          "output_type": "stream",
          "name": "stderr",
          "text": [
            "Evaluate Train: 100%|██████████| 3/3 [00:01<00:00,  2.19it/s]\n",
            "Evaluate Validation:   0%|          | 0/1 [00:00<?, ?it/s]"
          ]
        },
        {
          "output_type": "stream",
          "name": "stdout",
          "text": [
            "sample 1 num of prompts for COVID from total 12\n"
          ]
        },
        {
          "output_type": "stream",
          "name": "stderr",
          "text": [
            "Evaluate Validation: 100%|██████████| 1/1 [00:01<00:00,  1.18s/it]\n",
            "Evaluate Test:   0%|          | 0/1 [00:00<?, ?it/s]"
          ]
        },
        {
          "output_type": "stream",
          "name": "stdout",
          "text": [
            "sample 1 num of prompts for COVID from total 12\n"
          ]
        },
        {
          "output_type": "stream",
          "name": "stderr",
          "text": [
            "Evaluate Test: 100%|██████████| 1/1 [00:00<00:00,  1.06it/s]\n"
          ]
        },
        {
          "output_type": "stream",
          "name": "stdout",
          "text": [
            "\n",
            "Accuracy: 0.5930, Precision: 0.5652, Recall: 0.7401, AUC: 0.6321\n"
          ]
        },
        {
          "output_type": "stream",
          "name": "stderr",
          "text": [
            "\rEvaluate Train:   0%|          | 0/3 [00:00<?, ?it/s]"
          ]
        },
        {
          "output_type": "stream",
          "name": "stdout",
          "text": [
            "sample 2 num of prompts for COVID from total 12\n"
          ]
        },
        {
          "output_type": "stream",
          "name": "stderr",
          "text": [
            "\rEvaluate Train:  33%|███▎      | 1/3 [00:00<00:01,  1.84it/s]"
          ]
        },
        {
          "output_type": "stream",
          "name": "stdout",
          "text": [
            "sample 2 num of prompts for COVID from total 12\n"
          ]
        },
        {
          "output_type": "stream",
          "name": "stderr",
          "text": [
            "\rEvaluate Train:  67%|██████▋   | 2/3 [00:01<00:00,  1.87it/s]"
          ]
        },
        {
          "output_type": "stream",
          "name": "stdout",
          "text": [
            "sample 2 num of prompts for COVID from total 12\n"
          ]
        },
        {
          "output_type": "stream",
          "name": "stderr",
          "text": [
            "Evaluate Train: 100%|██████████| 3/3 [00:02<00:00,  1.46it/s]\n",
            "Evaluate Validation:   0%|          | 0/1 [00:00<?, ?it/s]"
          ]
        },
        {
          "output_type": "stream",
          "name": "stdout",
          "text": [
            "sample 2 num of prompts for COVID from total 12\n"
          ]
        },
        {
          "output_type": "stream",
          "name": "stderr",
          "text": [
            "Evaluate Validation: 100%|██████████| 1/1 [00:00<00:00,  1.07it/s]\n",
            "Evaluate Test:   0%|          | 0/1 [00:00<?, ?it/s]"
          ]
        },
        {
          "output_type": "stream",
          "name": "stdout",
          "text": [
            "sample 2 num of prompts for COVID from total 12\n"
          ]
        },
        {
          "output_type": "stream",
          "name": "stderr",
          "text": [
            "Evaluate Test: 100%|██████████| 1/1 [00:00<00:00,  2.05it/s]\n"
          ]
        },
        {
          "output_type": "stream",
          "name": "stdout",
          "text": [
            "\n",
            "Accuracy: 0.5759, Precision: 0.5495, Recall: 0.7550, AUC: 0.6251\n"
          ]
        },
        {
          "output_type": "stream",
          "name": "stderr",
          "text": [
            "\rEvaluate Train:   0%|          | 0/3 [00:00<?, ?it/s]"
          ]
        },
        {
          "output_type": "stream",
          "name": "stdout",
          "text": [
            "sample 3 num of prompts for COVID from total 12\n"
          ]
        },
        {
          "output_type": "stream",
          "name": "stderr",
          "text": [
            "\rEvaluate Train:  33%|███▎      | 1/3 [00:00<00:01,  1.93it/s]"
          ]
        },
        {
          "output_type": "stream",
          "name": "stdout",
          "text": [
            "sample 3 num of prompts for COVID from total 12\n"
          ]
        },
        {
          "output_type": "stream",
          "name": "stderr",
          "text": [
            "\rEvaluate Train:  67%|██████▋   | 2/3 [00:01<00:00,  1.78it/s]"
          ]
        },
        {
          "output_type": "stream",
          "name": "stdout",
          "text": [
            "sample 3 num of prompts for COVID from total 12\n"
          ]
        },
        {
          "output_type": "stream",
          "name": "stderr",
          "text": [
            "Evaluate Train: 100%|██████████| 3/3 [00:02<00:00,  1.20it/s]\n",
            "Evaluate Validation:   0%|          | 0/1 [00:00<?, ?it/s]"
          ]
        },
        {
          "output_type": "stream",
          "name": "stdout",
          "text": [
            "sample 3 num of prompts for COVID from total 12\n"
          ]
        },
        {
          "output_type": "stream",
          "name": "stderr",
          "text": [
            "Evaluate Validation: 100%|██████████| 1/1 [00:00<00:00,  2.44it/s]\n",
            "Evaluate Test:   0%|          | 0/1 [00:00<?, ?it/s]"
          ]
        },
        {
          "output_type": "stream",
          "name": "stdout",
          "text": [
            "sample 3 num of prompts for COVID from total 12\n"
          ]
        },
        {
          "output_type": "stream",
          "name": "stderr",
          "text": [
            "Evaluate Test: 100%|██████████| 1/1 [00:00<00:00,  2.31it/s]\n"
          ]
        },
        {
          "output_type": "stream",
          "name": "stdout",
          "text": [
            "\n",
            "Accuracy: 0.5735, Precision: 0.5458, Recall: 0.7822, AUC: 0.6228\n"
          ]
        },
        {
          "output_type": "stream",
          "name": "stderr",
          "text": [
            "\rEvaluate Train:   0%|          | 0/3 [00:00<?, ?it/s]"
          ]
        },
        {
          "output_type": "stream",
          "name": "stdout",
          "text": [
            "sample 4 num of prompts for COVID from total 12\n"
          ]
        },
        {
          "output_type": "stream",
          "name": "stderr",
          "text": [
            "\rEvaluate Train:  33%|███▎      | 1/3 [00:00<00:01,  1.76it/s]"
          ]
        },
        {
          "output_type": "stream",
          "name": "stdout",
          "text": [
            "sample 4 num of prompts for COVID from total 12\n"
          ]
        },
        {
          "output_type": "stream",
          "name": "stderr",
          "text": [
            "\rEvaluate Train:  67%|██████▋   | 2/3 [00:01<00:00,  1.17it/s]"
          ]
        },
        {
          "output_type": "stream",
          "name": "stdout",
          "text": [
            "sample 4 num of prompts for COVID from total 12\n"
          ]
        },
        {
          "output_type": "stream",
          "name": "stderr",
          "text": [
            "Evaluate Train: 100%|██████████| 3/3 [00:01<00:00,  1.51it/s]\n",
            "Evaluate Validation:   0%|          | 0/1 [00:00<?, ?it/s]"
          ]
        },
        {
          "output_type": "stream",
          "name": "stdout",
          "text": [
            "sample 4 num of prompts for COVID from total 12\n"
          ]
        },
        {
          "output_type": "stream",
          "name": "stderr",
          "text": [
            "Evaluate Validation: 100%|██████████| 1/1 [00:00<00:00,  2.47it/s]\n",
            "Evaluate Test:   0%|          | 0/1 [00:00<?, ?it/s]"
          ]
        },
        {
          "output_type": "stream",
          "name": "stdout",
          "text": [
            "sample 4 num of prompts for COVID from total 12\n"
          ]
        },
        {
          "output_type": "stream",
          "name": "stderr",
          "text": [
            "Evaluate Test: 100%|██████████| 1/1 [00:00<00:00,  2.32it/s]\n"
          ]
        },
        {
          "output_type": "stream",
          "name": "stdout",
          "text": [
            "\n",
            "Accuracy: 0.5674, Precision: 0.5411, Recall: 0.7822, AUC: 0.6276\n"
          ]
        },
        {
          "output_type": "stream",
          "name": "stderr",
          "text": [
            "\rEvaluate Train:   0%|          | 0/3 [00:00<?, ?it/s]"
          ]
        },
        {
          "output_type": "stream",
          "name": "stdout",
          "text": [
            "sample 5 num of prompts for COVID from total 12\n"
          ]
        },
        {
          "output_type": "stream",
          "name": "stderr",
          "text": [
            "\rEvaluate Train:  33%|███▎      | 1/3 [00:00<00:01,  1.92it/s]"
          ]
        },
        {
          "output_type": "stream",
          "name": "stdout",
          "text": [
            "sample 5 num of prompts for COVID from total 12\n"
          ]
        },
        {
          "output_type": "stream",
          "name": "stderr",
          "text": [
            "\rEvaluate Train:  67%|██████▋   | 2/3 [00:01<00:00,  1.02it/s]"
          ]
        },
        {
          "output_type": "stream",
          "name": "stdout",
          "text": [
            "sample 5 num of prompts for COVID from total 12\n"
          ]
        },
        {
          "output_type": "stream",
          "name": "stderr",
          "text": [
            "Evaluate Train: 100%|██████████| 3/3 [00:02<00:00,  1.42it/s]\n",
            "Evaluate Validation:   0%|          | 0/1 [00:00<?, ?it/s]"
          ]
        },
        {
          "output_type": "stream",
          "name": "stdout",
          "text": [
            "sample 5 num of prompts for COVID from total 12\n"
          ]
        },
        {
          "output_type": "stream",
          "name": "stderr",
          "text": [
            "Evaluate Validation: 100%|██████████| 1/1 [00:00<00:00,  2.00it/s]\n",
            "Evaluate Test:   0%|          | 0/1 [00:00<?, ?it/s]"
          ]
        },
        {
          "output_type": "stream",
          "name": "stdout",
          "text": [
            "sample 5 num of prompts for COVID from total 12\n"
          ]
        },
        {
          "output_type": "stream",
          "name": "stderr",
          "text": [
            "Evaluate Test: 100%|██████████| 1/1 [00:00<00:00,  2.34it/s]\n"
          ]
        },
        {
          "output_type": "stream",
          "name": "stdout",
          "text": [
            "\n",
            "Accuracy: 0.5699, Precision: 0.5430, Recall: 0.7822, AUC: 0.6266\n"
          ]
        },
        {
          "output_type": "stream",
          "name": "stderr",
          "text": [
            "\rEvaluate Train:   0%|          | 0/3 [00:00<?, ?it/s]"
          ]
        },
        {
          "output_type": "stream",
          "name": "stdout",
          "text": [
            "sample 6 num of prompts for COVID from total 12\n"
          ]
        },
        {
          "output_type": "stream",
          "name": "stderr",
          "text": [
            "\rEvaluate Train:  33%|███▎      | 1/3 [00:00<00:01,  1.89it/s]"
          ]
        },
        {
          "output_type": "stream",
          "name": "stdout",
          "text": [
            "sample 6 num of prompts for COVID from total 12\n"
          ]
        },
        {
          "output_type": "stream",
          "name": "stderr",
          "text": [
            "\rEvaluate Train:  67%|██████▋   | 2/3 [00:01<00:00,  1.12it/s]"
          ]
        },
        {
          "output_type": "stream",
          "name": "stdout",
          "text": [
            "sample 6 num of prompts for COVID from total 12\n"
          ]
        },
        {
          "output_type": "stream",
          "name": "stderr",
          "text": [
            "Evaluate Train: 100%|██████████| 3/3 [00:01<00:00,  1.51it/s]\n",
            "Evaluate Validation:   0%|          | 0/1 [00:00<?, ?it/s]"
          ]
        },
        {
          "output_type": "stream",
          "name": "stdout",
          "text": [
            "sample 6 num of prompts for COVID from total 12\n"
          ]
        },
        {
          "output_type": "stream",
          "name": "stderr",
          "text": [
            "Evaluate Validation: 100%|██████████| 1/1 [00:00<00:00,  2.19it/s]\n",
            "Evaluate Test:   0%|          | 0/1 [00:00<?, ?it/s]"
          ]
        },
        {
          "output_type": "stream",
          "name": "stdout",
          "text": [
            "sample 6 num of prompts for COVID from total 12\n"
          ]
        },
        {
          "output_type": "stream",
          "name": "stderr",
          "text": [
            "Evaluate Test: 100%|██████████| 1/1 [00:00<00:00,  1.64it/s]\n"
          ]
        },
        {
          "output_type": "stream",
          "name": "stdout",
          "text": [
            "\n",
            "Accuracy: 0.5723, Precision: 0.5445, Recall: 0.7871, AUC: 0.6265\n"
          ]
        },
        {
          "output_type": "stream",
          "name": "stderr",
          "text": [
            "\rEvaluate Train:   0%|          | 0/3 [00:00<?, ?it/s]"
          ]
        },
        {
          "output_type": "stream",
          "name": "stdout",
          "text": [
            "sample 7 num of prompts for COVID from total 12\n"
          ]
        },
        {
          "output_type": "stream",
          "name": "stderr",
          "text": [
            "\rEvaluate Train:  33%|███▎      | 1/3 [00:02<00:05,  2.73s/it]"
          ]
        },
        {
          "output_type": "stream",
          "name": "stdout",
          "text": [
            "sample 7 num of prompts for COVID from total 12\n"
          ]
        },
        {
          "output_type": "stream",
          "name": "stderr",
          "text": [
            "\rEvaluate Train:  67%|██████▋   | 2/3 [00:03<00:01,  1.48s/it]"
          ]
        },
        {
          "output_type": "stream",
          "name": "stdout",
          "text": [
            "sample 7 num of prompts for COVID from total 12\n"
          ]
        },
        {
          "output_type": "stream",
          "name": "stderr",
          "text": [
            "Evaluate Train: 100%|██████████| 3/3 [00:05<00:00,  1.68s/it]\n",
            "Evaluate Validation:   0%|          | 0/1 [00:00<?, ?it/s]"
          ]
        },
        {
          "output_type": "stream",
          "name": "stdout",
          "text": [
            "sample 7 num of prompts for COVID from total 12\n"
          ]
        },
        {
          "output_type": "stream",
          "name": "stderr",
          "text": [
            "Evaluate Validation: 100%|██████████| 1/1 [00:00<00:00,  1.36it/s]\n",
            "Evaluate Test:   0%|          | 0/1 [00:00<?, ?it/s]"
          ]
        },
        {
          "output_type": "stream",
          "name": "stdout",
          "text": [
            "sample 7 num of prompts for COVID from total 12\n"
          ]
        },
        {
          "output_type": "stream",
          "name": "stderr",
          "text": [
            "Evaluate Test: 100%|██████████| 1/1 [00:00<00:00,  1.94it/s]\n"
          ]
        },
        {
          "output_type": "stream",
          "name": "stdout",
          "text": [
            "\n",
            "Accuracy: 0.5699, Precision: 0.5425, Recall: 0.7896, AUC: 0.6266\n"
          ]
        },
        {
          "output_type": "stream",
          "name": "stderr",
          "text": [
            "Evaluate Train:  33%|███▎      | 1/3 [00:00<00:01,  1.87it/s]"
          ]
        },
        {
          "output_type": "stream",
          "name": "stdout",
          "text": [
            "sample 8 num of prompts for COVID from total 12\n",
            "sample 8 num of prompts for COVID from total 12\n"
          ]
        },
        {
          "output_type": "stream",
          "name": "stderr",
          "text": [
            "\rEvaluate Train:  67%|██████▋   | 2/3 [00:01<00:00,  1.48it/s]"
          ]
        },
        {
          "output_type": "stream",
          "name": "stdout",
          "text": [
            "sample 8 num of prompts for COVID from total 12\n"
          ]
        },
        {
          "output_type": "stream",
          "name": "stderr",
          "text": [
            "Evaluate Train: 100%|██████████| 3/3 [00:02<00:00,  1.11it/s]\n",
            "Evaluate Validation:   0%|          | 0/1 [00:00<?, ?it/s]"
          ]
        },
        {
          "output_type": "stream",
          "name": "stdout",
          "text": [
            "sample 8 num of prompts for COVID from total 12\n"
          ]
        },
        {
          "output_type": "stream",
          "name": "stderr",
          "text": [
            "Evaluate Validation: 100%|██████████| 1/1 [00:00<00:00,  2.50it/s]\n",
            "Evaluate Test:   0%|          | 0/1 [00:00<?, ?it/s]"
          ]
        },
        {
          "output_type": "stream",
          "name": "stdout",
          "text": [
            "sample 8 num of prompts for COVID from total 12\n"
          ]
        },
        {
          "output_type": "stream",
          "name": "stderr",
          "text": [
            "Evaluate Test: 100%|██████████| 1/1 [00:00<00:00,  1.77it/s]\n"
          ]
        },
        {
          "output_type": "stream",
          "name": "stdout",
          "text": [
            "\n",
            "Accuracy: 0.5723, Precision: 0.5445, Recall: 0.7871, AUC: 0.6271\n"
          ]
        },
        {
          "output_type": "stream",
          "name": "stderr",
          "text": [
            "\rEvaluate Train:   0%|          | 0/3 [00:00<?, ?it/s]"
          ]
        },
        {
          "output_type": "stream",
          "name": "stdout",
          "text": [
            "sample 9 num of prompts for COVID from total 12\n"
          ]
        },
        {
          "output_type": "stream",
          "name": "stderr",
          "text": [
            "\rEvaluate Train:  33%|███▎      | 1/3 [00:00<00:01,  1.89it/s]"
          ]
        },
        {
          "output_type": "stream",
          "name": "stdout",
          "text": [
            "sample 9 num of prompts for COVID from total 12\n"
          ]
        },
        {
          "output_type": "stream",
          "name": "stderr",
          "text": [
            "\rEvaluate Train:  67%|██████▋   | 2/3 [00:01<00:00,  1.18it/s]"
          ]
        },
        {
          "output_type": "stream",
          "name": "stdout",
          "text": [
            "sample 9 num of prompts for COVID from total 12\n"
          ]
        },
        {
          "output_type": "stream",
          "name": "stderr",
          "text": [
            "Evaluate Train: 100%|██████████| 3/3 [00:02<00:00,  1.24it/s]\n",
            "Evaluate Validation:   0%|          | 0/1 [00:00<?, ?it/s]"
          ]
        },
        {
          "output_type": "stream",
          "name": "stdout",
          "text": [
            "sample 9 num of prompts for COVID from total 12\n"
          ]
        },
        {
          "output_type": "stream",
          "name": "stderr",
          "text": [
            "Evaluate Validation: 100%|██████████| 1/1 [00:00<00:00,  2.51it/s]\n",
            "Evaluate Test:   0%|          | 0/1 [00:00<?, ?it/s]"
          ]
        },
        {
          "output_type": "stream",
          "name": "stdout",
          "text": [
            "sample 9 num of prompts for COVID from total 12\n"
          ]
        },
        {
          "output_type": "stream",
          "name": "stderr",
          "text": [
            "Evaluate Test: 100%|██████████| 1/1 [00:01<00:00,  1.31s/it]\n"
          ]
        },
        {
          "output_type": "stream",
          "name": "stdout",
          "text": [
            "\n",
            "Accuracy: 0.5711, Precision: 0.5436, Recall: 0.7871, AUC: 0.6268\n"
          ]
        },
        {
          "output_type": "stream",
          "name": "stderr",
          "text": [
            "\rEvaluate Train:   0%|          | 0/3 [00:00<?, ?it/s]"
          ]
        },
        {
          "output_type": "stream",
          "name": "stdout",
          "text": [
            "sample 10 num of prompts for COVID from total 12\n"
          ]
        },
        {
          "output_type": "stream",
          "name": "stderr",
          "text": [
            "\rEvaluate Train:  33%|███▎      | 1/3 [00:00<00:01,  1.79it/s]"
          ]
        },
        {
          "output_type": "stream",
          "name": "stdout",
          "text": [
            "sample 10 num of prompts for COVID from total 12\n"
          ]
        },
        {
          "output_type": "stream",
          "name": "stderr",
          "text": [
            "\rEvaluate Train:  67%|██████▋   | 2/3 [00:01<00:00,  1.25it/s]"
          ]
        },
        {
          "output_type": "stream",
          "name": "stdout",
          "text": [
            "sample 10 num of prompts for COVID from total 12\n"
          ]
        },
        {
          "output_type": "stream",
          "name": "stderr",
          "text": [
            "Evaluate Train: 100%|██████████| 3/3 [00:01<00:00,  1.55it/s]\n",
            "Evaluate Validation:   0%|          | 0/1 [00:00<?, ?it/s]"
          ]
        },
        {
          "output_type": "stream",
          "name": "stdout",
          "text": [
            "sample 10 num of prompts for COVID from total 12\n"
          ]
        },
        {
          "output_type": "stream",
          "name": "stderr",
          "text": [
            "Evaluate Validation: 100%|██████████| 1/1 [00:00<00:00,  1.05it/s]\n",
            "Evaluate Test:   0%|          | 0/1 [00:00<?, ?it/s]"
          ]
        },
        {
          "output_type": "stream",
          "name": "stdout",
          "text": [
            "sample 10 num of prompts for COVID from total 12\n"
          ]
        },
        {
          "output_type": "stream",
          "name": "stderr",
          "text": [
            "Evaluate Test: 100%|██████████| 1/1 [00:00<00:00,  1.07it/s]\n"
          ]
        },
        {
          "output_type": "stream",
          "name": "stdout",
          "text": [
            "\n",
            "Accuracy: 0.5699, Precision: 0.5425, Recall: 0.7896, AUC: 0.6268\n"
          ]
        },
        {
          "output_type": "stream",
          "name": "stderr",
          "text": [
            "\rEvaluate Train:   0%|          | 0/3 [00:00<?, ?it/s]"
          ]
        },
        {
          "output_type": "stream",
          "name": "stdout",
          "text": [
            "sample 11 num of prompts for COVID from total 12\n"
          ]
        },
        {
          "output_type": "stream",
          "name": "stderr",
          "text": [
            "\rEvaluate Train:  33%|███▎      | 1/3 [00:00<00:01,  1.95it/s]"
          ]
        },
        {
          "output_type": "stream",
          "name": "stdout",
          "text": [
            "sample 11 num of prompts for COVID from total 12\n"
          ]
        },
        {
          "output_type": "stream",
          "name": "stderr",
          "text": [
            "\rEvaluate Train:  67%|██████▋   | 2/3 [00:01<00:00,  1.81it/s]"
          ]
        },
        {
          "output_type": "stream",
          "name": "stdout",
          "text": [
            "sample 11 num of prompts for COVID from total 12\n"
          ]
        },
        {
          "output_type": "stream",
          "name": "stderr",
          "text": [
            "Evaluate Train: 100%|██████████| 3/3 [00:01<00:00,  1.56it/s]\n",
            "Evaluate Validation:   0%|          | 0/1 [00:00<?, ?it/s]"
          ]
        },
        {
          "output_type": "stream",
          "name": "stdout",
          "text": [
            "sample 11 num of prompts for COVID from total 12\n"
          ]
        },
        {
          "output_type": "stream",
          "name": "stderr",
          "text": [
            "Evaluate Validation: 100%|██████████| 1/1 [00:00<00:00,  2.55it/s]\n",
            "Evaluate Test:   0%|          | 0/1 [00:00<?, ?it/s]"
          ]
        },
        {
          "output_type": "stream",
          "name": "stdout",
          "text": [
            "sample 11 num of prompts for COVID from total 12\n"
          ]
        },
        {
          "output_type": "stream",
          "name": "stderr",
          "text": [
            "Evaluate Test: 100%|██████████| 1/1 [00:00<00:00,  2.32it/s]\n"
          ]
        },
        {
          "output_type": "stream",
          "name": "stdout",
          "text": [
            "\n",
            "Accuracy: 0.5699, Precision: 0.5425, Recall: 0.7896, AUC: 0.6263\n"
          ]
        },
        {
          "output_type": "stream",
          "name": "stderr",
          "text": [
            "\rEvaluate Train:   0%|          | 0/3 [00:00<?, ?it/s]"
          ]
        },
        {
          "output_type": "stream",
          "name": "stdout",
          "text": [
            "sample 12 num of prompts for COVID from total 12\n"
          ]
        },
        {
          "output_type": "stream",
          "name": "stderr",
          "text": [
            "\rEvaluate Train:  33%|███▎      | 1/3 [00:01<00:02,  1.12s/it]"
          ]
        },
        {
          "output_type": "stream",
          "name": "stdout",
          "text": [
            "sample 12 num of prompts for COVID from total 12\n"
          ]
        },
        {
          "output_type": "stream",
          "name": "stderr",
          "text": [
            "\rEvaluate Train:  67%|██████▋   | 2/3 [00:01<00:00,  1.30it/s]"
          ]
        },
        {
          "output_type": "stream",
          "name": "stdout",
          "text": [
            "sample 12 num of prompts for COVID from total 12\n"
          ]
        },
        {
          "output_type": "stream",
          "name": "stderr",
          "text": [
            "Evaluate Train: 100%|██████████| 3/3 [00:02<00:00,  1.17it/s]\n",
            "Evaluate Validation:   0%|          | 0/1 [00:00<?, ?it/s]"
          ]
        },
        {
          "output_type": "stream",
          "name": "stdout",
          "text": [
            "sample 12 num of prompts for COVID from total 12\n"
          ]
        },
        {
          "output_type": "stream",
          "name": "stderr",
          "text": [
            "Evaluate Validation: 100%|██████████| 1/1 [00:00<00:00,  2.55it/s]\n",
            "Evaluate Test:   0%|          | 0/1 [00:00<?, ?it/s]"
          ]
        },
        {
          "output_type": "stream",
          "name": "stdout",
          "text": [
            "sample 12 num of prompts for COVID from total 12\n"
          ]
        },
        {
          "output_type": "stream",
          "name": "stderr",
          "text": [
            "Evaluate Test: 100%|██████████| 1/1 [00:00<00:00,  1.64it/s]"
          ]
        },
        {
          "output_type": "stream",
          "name": "stdout",
          "text": [
            "\n",
            "Accuracy: 0.5699, Precision: 0.5425, Recall: 0.7896, AUC: 0.6267\n",
            "Best AUC for  with 1 prompts: 0.6321\n",
            "Results saved to results/zs_medclip_finetune/ori/medclip/classification_results.txt\n"
          ]
        },
        {
          "output_type": "stream",
          "name": "stderr",
          "text": [
            "\n"
          ]
        },
        {
          "output_type": "display_data",
          "data": {
            "text/plain": [
              "<Figure size 640x480 with 0 Axes>"
            ]
          },
          "metadata": {}
        }
      ],
      "source": [
        "%run MedCLIP-pediatric/scripts/zs_medclip_finetune.py"
      ]
    },
    {
      "cell_type": "code",
      "execution_count": 4,
      "metadata": {
        "colab": {
          "base_uri": "https://localhost:8080/"
        },
        "id": "aec9YhFzfP-6",
        "outputId": "5e0637c4-c779-4c5f-85aa-47bfd609f845"
      },
      "outputs": [
        {
          "output_type": "stream",
          "name": "stdout",
          "text": [
            "updating: results/ (stored 0%)\n",
            "updating: results/zs_clip_base/ (stored 0%)\n",
            "updating: results/zs_clip_base/ori/ (stored 0%)\n",
            "updating: results/zs_clip_base/ori/clip/ (stored 0%)\n",
            "updating: results/zs_clip_base/ori/clip/classification_results.txt (deflated 55%)\n",
            "updating: results/zs_clip_base/ucsd/ (stored 0%)\n",
            "updating: results/zs_clip_base/ucsd/clip/ (stored 0%)\n",
            "updating: results/zs_clip_base/ucsd/clip/classification_results.txt (deflated 53%)\n",
            "updating: results/visualization/ (stored 0%)\n",
            "updating: results/visualization/zero_shot_finetune/ (stored 0%)\n",
            "updating: results/visualization/zero_shot_finetune/ucsd/ (stored 0%)\n",
            "updating: results/visualization/zero_shot_finetune/ucsd/clip/ (stored 0%)\n",
            "updating: results/visualization/zero_shot_finetune/ucsd/clip/images/ (stored 0%)\n",
            "updating: results/visualization/zero_shot_finetune/ucsd/clip/images/cxr_images.png (deflated 2%)\n",
            "updating: results/visualization/zero_shot_finetune/ucsd/medclip/ (stored 0%)\n",
            "updating: results/visualization/zero_shot_finetune/ucsd/medclip/images/ (stored 0%)\n",
            "updating: results/visualization/zero_shot_finetune/ucsd/medclip/images/cxr_images.png (deflated 1%)\n",
            "updating: results/visualization/zs_clip_base/ (stored 0%)\n",
            "updating: results/visualization/zs_clip_base/ori/ (stored 0%)\n",
            "updating: results/visualization/zs_clip_base/ori/clip/ (stored 0%)\n",
            "updating: results/visualization/zs_clip_base/ori/clip/images/ (stored 0%)\n",
            "updating: results/visualization/zs_clip_base/ori/clip/images/cxr_images.png (deflated 2%)\n",
            "updating: results/visualization/zs_clip_base/ucsd/ (stored 0%)\n",
            "updating: results/visualization/zs_clip_base/ucsd/clip/ (stored 0%)\n",
            "updating: results/visualization/zs_clip_base/ucsd/clip/images/ (stored 0%)\n",
            "updating: results/visualization/zs_clip_base/ucsd/clip/images/cxr_images.png (deflated 2%)\n",
            "updating: results/visualization/zs_medclip_base/ (stored 0%)\n",
            "updating: results/visualization/zs_medclip_base/ori/ (stored 0%)\n",
            "updating: results/visualization/zs_medclip_base/ori/medclip/ (stored 0%)\n",
            "updating: results/visualization/zs_medclip_base/ori/medclip/images/ (stored 0%)\n",
            "updating: results/visualization/zs_medclip_base/ori/medclip/images/cxr_images.png (deflated 1%)\n",
            "updating: results/visualization/zs_medclip_base/ucsd/ (stored 0%)\n",
            "updating: results/visualization/zs_medclip_base/ucsd/medclip/ (stored 0%)\n",
            "updating: results/visualization/zs_medclip_base/ucsd/medclip/images/ (stored 0%)\n",
            "updating: results/visualization/zs_medclip_base/ucsd/medclip/images/cxr_images.png (deflated 1%)\n",
            "updating: results/visualization/t_pretrained/ (stored 0%)\n",
            "updating: results/visualization/t_pretrained/ori/ (stored 0%)\n",
            "updating: results/visualization/t_pretrained/ori/clip/ (stored 0%)\n",
            "updating: results/visualization/t_pretrained/ori/clip/images/ (stored 0%)\n",
            "updating: results/visualization/t_pretrained/ori/clip/images/cxr_images.png (deflated 2%)\n",
            "updating: results/visualization/t_pretrained/ucsd/ (stored 0%)\n",
            "updating: results/visualization/t_pretrained/ucsd/clip/ (stored 0%)\n",
            "updating: results/visualization/t_pretrained/ucsd/clip/images/ (stored 0%)\n",
            "updating: results/visualization/t_pretrained/ucsd/clip/images/cxr_images.png (deflated 2%)\n",
            "updating: results/visualization/t_pretrained/ucsd/medclip/ (stored 0%)\n",
            "updating: results/visualization/t_pretrained/ucsd/medclip/images/ (stored 0%)\n",
            "updating: results/visualization/t_pretrained/ucsd/medclip/images/cxr_images.png (deflated 1%)\n",
            "updating: results/zs_medclip_base/ (stored 0%)\n",
            "updating: results/zs_medclip_base/ori/ (stored 0%)\n",
            "updating: results/zs_medclip_base/ori/medclip/ (stored 0%)\n",
            "updating: results/zs_medclip_base/ori/medclip/classification_results.txt (deflated 53%)\n",
            "updating: results/zs_medclip_base/ucsd/ (stored 0%)\n",
            "updating: results/zs_medclip_base/ucsd/medclip/ (stored 0%)\n",
            "updating: results/zs_medclip_base/ucsd/medclip/classification_results.txt (deflated 51%)\n",
            "updating: results/t_pretrained/ (stored 0%)\n",
            "updating: results/t_pretrained/ori/ (stored 0%)\n",
            "updating: results/t_pretrained/ori/clip/ (stored 0%)\n",
            "updating: results/t_pretrained/ori/clip/best_model.pth (deflated 8%)\n",
            "updating: results/t_pretrained/ori/clip/metrics_loss_epoch.png (deflated 6%)\n",
            "updating: results/t_pretrained/ori/clip/classification_results.txt (deflated 53%)\n",
            "updating: results/t_pretrained/ori/clip/metrics_recall_epoch.png (deflated 5%)\n",
            "updating: results/t_pretrained/ori/clip/metrics_accuracy_epoch.png (deflated 6%)\n",
            "updating: results/t_pretrained/ori/clip/metrics_auc_epoch.png (deflated 3%)\n",
            "updating: results/t_pretrained/ori/clip/metrics_precision_epoch.png (deflated 5%)\n",
            "updating: results/t_pretrained/ucsd/ (stored 0%)\n",
            "updating: results/t_pretrained/ucsd/clip/ (stored 0%)\n",
            "updating: results/t_pretrained/ucsd/clip/best_model.pth (deflated 8%)\n",
            "updating: results/t_pretrained/ucsd/clip/metrics_loss_epoch.png (deflated 7%)\n",
            "updating: results/t_pretrained/ucsd/clip/classification_results.txt (deflated 56%)\n",
            "updating: results/t_pretrained/ucsd/clip/metrics_recall_epoch.png (deflated 6%)\n",
            "updating: results/t_pretrained/ucsd/clip/metrics_accuracy_epoch.png (deflated 6%)\n",
            "updating: results/t_pretrained/ucsd/clip/metrics_auc_epoch.png (deflated 5%)\n",
            "updating: results/t_pretrained/ucsd/clip/metrics_precision_epoch.png (deflated 9%)\n",
            "updating: results/t_pretrained/ucsd/medclip/ (stored 0%)\n",
            "  adding: results/visualization/zero_shot_finetune/ori/ (stored 0%)\n",
            "  adding: results/visualization/zero_shot_finetune/ori/clip/ (stored 0%)\n",
            "  adding: results/visualization/zero_shot_finetune/ori/clip/images/ (stored 0%)\n",
            "  adding: results/visualization/zero_shot_finetune/ori/clip/images/cxr_images.png (deflated 2%)\n",
            "  adding: results/visualization/zero_shot_finetune/ori/medclip/ (stored 0%)\n",
            "  adding: results/visualization/zero_shot_finetune/ori/medclip/images/ (stored 0%)\n",
            "  adding: results/visualization/zero_shot_finetune/ori/medclip/images/cxr_images.png (deflated 1%)\n",
            "  adding: results/visualization/t_pretrained/ori/medclip/ (stored 0%)\n",
            "  adding: results/visualization/t_pretrained/ori/medclip/images/ (stored 0%)\n",
            "  adding: results/visualization/t_pretrained/ori/medclip/images/cxr_images.png (deflated 1%)\n",
            "  adding: results/zs_medclip_finetune/ (stored 0%)\n",
            "  adding: results/zs_medclip_finetune/ori/ (stored 0%)\n",
            "  adding: results/zs_medclip_finetune/ori/medclip/ (stored 0%)\n",
            "  adding: results/zs_medclip_finetune/ori/medclip/classification_results.txt (deflated 52%)\n",
            "  adding: results/zs_medclip_finetune/ucsd/ (stored 0%)\n",
            "  adding: results/zs_medclip_finetune/ucsd/medclip/ (stored 0%)\n",
            "  adding: results/zs_medclip_finetune/ucsd/medclip/classification_results.txt (deflated 54%)\n",
            "  adding: results/zs_clip_finetune/ (stored 0%)\n",
            "  adding: results/zs_clip_finetune/ori/ (stored 0%)\n",
            "  adding: results/zs_clip_finetune/ori/clip/ (stored 0%)\n",
            "  adding: results/zs_clip_finetune/ori/clip/classification_results.txt (deflated 55%)\n",
            "  adding: results/zs_clip_finetune/ucsd/ (stored 0%)\n",
            "  adding: results/zs_clip_finetune/ucsd/clip/ (stored 0%)\n",
            "  adding: results/zs_clip_finetune/ucsd/clip/classification_results.txt (deflated 54%)\n",
            "  adding: results/t_pretrained/ori/medclip/ (stored 0%)\n",
            "  adding: results/t_pretrained/ori/medclip/best_model.pth (deflated 7%)\n",
            "  adding: results/t_pretrained/ori/medclip/metrics_loss_epoch.png (deflated 8%)\n",
            "  adding: results/t_pretrained/ori/medclip/classification_results.txt (deflated 57%)\n",
            "  adding: results/t_pretrained/ori/medclip/metrics_recall_epoch.png (deflated 7%)\n",
            "  adding: results/t_pretrained/ori/medclip/metrics_accuracy_epoch.png (deflated 8%)\n",
            "  adding: results/t_pretrained/ori/medclip/metrics_auc_epoch.png (deflated 7%)\n",
            "  adding: results/t_pretrained/ori/medclip/metrics_precision_epoch.png (deflated 7%)\n",
            "  adding: results/t_pretrained/ucsd/medclip/best_model.pth (deflated 7%)\n",
            "  adding: results/t_pretrained/ucsd/medclip/metrics_loss_epoch.png (deflated 9%)\n",
            "  adding: results/t_pretrained/ucsd/medclip/classification_results.txt (deflated 56%)\n",
            "  adding: results/t_pretrained/ucsd/medclip/metrics_recall_epoch.png (deflated 9%)\n",
            "  adding: results/t_pretrained/ucsd/medclip/metrics_accuracy_epoch.png (deflated 8%)\n",
            "  adding: results/t_pretrained/ucsd/medclip/metrics_auc_epoch.png (deflated 9%)\n",
            "  adding: results/t_pretrained/ucsd/medclip/metrics_precision_epoch.png (deflated 9%)\n"
          ]
        }
      ],
      "source": [
        "!zip -r results.zip results"
      ]
    },
    {
      "cell_type": "code",
      "execution_count": 10,
      "metadata": {
        "id": "sOJO1XZafLl8"
      },
      "outputs": [],
      "source": [
        "# import torch\n",
        "# torch.cuda.empty_cache()\n",
        "# !nvidia-smi"
      ]
    }
  ],
  "metadata": {
    "accelerator": "GPU",
    "colab": {
      "gpuType": "A100",
      "machine_shape": "hm",
      "provenance": []
    },
    "kernelspec": {
      "display_name": "Python 3",
      "name": "python3"
    },
    "language_info": {
      "name": "python"
    },
    "widgets": {
      "application/vnd.jupyter.widget-state+json": {
        "a6111bc4991b4801a5f398a23629c2f6": {
          "model_module": "@jupyter-widgets/controls",
          "model_name": "HBoxModel",
          "model_module_version": "1.5.0",
          "state": {
            "_dom_classes": [],
            "_model_module": "@jupyter-widgets/controls",
            "_model_module_version": "1.5.0",
            "_model_name": "HBoxModel",
            "_view_count": null,
            "_view_module": "@jupyter-widgets/controls",
            "_view_module_version": "1.5.0",
            "_view_name": "HBoxView",
            "box_style": "",
            "children": [
              "IPY_MODEL_7c0cae3b335a4b6989898f92aee0f198",
              "IPY_MODEL_7153753bbffb4118a322d9c8d2a64ff4",
              "IPY_MODEL_4d8fd7688d704133ab88c451284aec39"
            ],
            "layout": "IPY_MODEL_d5956ed762144ff0bf69a9c9c4f9918c"
          }
        },
        "7c0cae3b335a4b6989898f92aee0f198": {
          "model_module": "@jupyter-widgets/controls",
          "model_name": "HTMLModel",
          "model_module_version": "1.5.0",
          "state": {
            "_dom_classes": [],
            "_model_module": "@jupyter-widgets/controls",
            "_model_module_version": "1.5.0",
            "_model_name": "HTMLModel",
            "_view_count": null,
            "_view_module": "@jupyter-widgets/controls",
            "_view_module_version": "1.5.0",
            "_view_name": "HTMLView",
            "description": "",
            "description_tooltip": null,
            "layout": "IPY_MODEL_6443acc076b54648b9dc63e050c7fb88",
            "placeholder": "​",
            "style": "IPY_MODEL_dc573b6d71904b3faffa50215ef1c5f1",
            "value": "config.json: 100%"
          }
        },
        "7153753bbffb4118a322d9c8d2a64ff4": {
          "model_module": "@jupyter-widgets/controls",
          "model_name": "FloatProgressModel",
          "model_module_version": "1.5.0",
          "state": {
            "_dom_classes": [],
            "_model_module": "@jupyter-widgets/controls",
            "_model_module_version": "1.5.0",
            "_model_name": "FloatProgressModel",
            "_view_count": null,
            "_view_module": "@jupyter-widgets/controls",
            "_view_module_version": "1.5.0",
            "_view_name": "ProgressView",
            "bar_style": "success",
            "description": "",
            "description_tooltip": null,
            "layout": "IPY_MODEL_f025ca31a46b4b83b5448d977340f474",
            "max": 385,
            "min": 0,
            "orientation": "horizontal",
            "style": "IPY_MODEL_6b095e365b7f4bb0ae2a210ee7c8cc87",
            "value": 385
          }
        },
        "4d8fd7688d704133ab88c451284aec39": {
          "model_module": "@jupyter-widgets/controls",
          "model_name": "HTMLModel",
          "model_module_version": "1.5.0",
          "state": {
            "_dom_classes": [],
            "_model_module": "@jupyter-widgets/controls",
            "_model_module_version": "1.5.0",
            "_model_name": "HTMLModel",
            "_view_count": null,
            "_view_module": "@jupyter-widgets/controls",
            "_view_module_version": "1.5.0",
            "_view_name": "HTMLView",
            "description": "",
            "description_tooltip": null,
            "layout": "IPY_MODEL_a91fdd5246f44de78a4e1027836059dc",
            "placeholder": "​",
            "style": "IPY_MODEL_89fadfa991564e82b894f41125c4fe25",
            "value": " 385/385 [00:00&lt;00:00, 815B/s]"
          }
        },
        "d5956ed762144ff0bf69a9c9c4f9918c": {
          "model_module": "@jupyter-widgets/base",
          "model_name": "LayoutModel",
          "model_module_version": "1.2.0",
          "state": {
            "_model_module": "@jupyter-widgets/base",
            "_model_module_version": "1.2.0",
            "_model_name": "LayoutModel",
            "_view_count": null,
            "_view_module": "@jupyter-widgets/base",
            "_view_module_version": "1.2.0",
            "_view_name": "LayoutView",
            "align_content": null,
            "align_items": null,
            "align_self": null,
            "border": null,
            "bottom": null,
            "display": null,
            "flex": null,
            "flex_flow": null,
            "grid_area": null,
            "grid_auto_columns": null,
            "grid_auto_flow": null,
            "grid_auto_rows": null,
            "grid_column": null,
            "grid_gap": null,
            "grid_row": null,
            "grid_template_areas": null,
            "grid_template_columns": null,
            "grid_template_rows": null,
            "height": null,
            "justify_content": null,
            "justify_items": null,
            "left": null,
            "margin": null,
            "max_height": null,
            "max_width": null,
            "min_height": null,
            "min_width": null,
            "object_fit": null,
            "object_position": null,
            "order": null,
            "overflow": null,
            "overflow_x": null,
            "overflow_y": null,
            "padding": null,
            "right": null,
            "top": null,
            "visibility": null,
            "width": null
          }
        },
        "6443acc076b54648b9dc63e050c7fb88": {
          "model_module": "@jupyter-widgets/base",
          "model_name": "LayoutModel",
          "model_module_version": "1.2.0",
          "state": {
            "_model_module": "@jupyter-widgets/base",
            "_model_module_version": "1.2.0",
            "_model_name": "LayoutModel",
            "_view_count": null,
            "_view_module": "@jupyter-widgets/base",
            "_view_module_version": "1.2.0",
            "_view_name": "LayoutView",
            "align_content": null,
            "align_items": null,
            "align_self": null,
            "border": null,
            "bottom": null,
            "display": null,
            "flex": null,
            "flex_flow": null,
            "grid_area": null,
            "grid_auto_columns": null,
            "grid_auto_flow": null,
            "grid_auto_rows": null,
            "grid_column": null,
            "grid_gap": null,
            "grid_row": null,
            "grid_template_areas": null,
            "grid_template_columns": null,
            "grid_template_rows": null,
            "height": null,
            "justify_content": null,
            "justify_items": null,
            "left": null,
            "margin": null,
            "max_height": null,
            "max_width": null,
            "min_height": null,
            "min_width": null,
            "object_fit": null,
            "object_position": null,
            "order": null,
            "overflow": null,
            "overflow_x": null,
            "overflow_y": null,
            "padding": null,
            "right": null,
            "top": null,
            "visibility": null,
            "width": null
          }
        },
        "dc573b6d71904b3faffa50215ef1c5f1": {
          "model_module": "@jupyter-widgets/controls",
          "model_name": "DescriptionStyleModel",
          "model_module_version": "1.5.0",
          "state": {
            "_model_module": "@jupyter-widgets/controls",
            "_model_module_version": "1.5.0",
            "_model_name": "DescriptionStyleModel",
            "_view_count": null,
            "_view_module": "@jupyter-widgets/base",
            "_view_module_version": "1.2.0",
            "_view_name": "StyleView",
            "description_width": ""
          }
        },
        "f025ca31a46b4b83b5448d977340f474": {
          "model_module": "@jupyter-widgets/base",
          "model_name": "LayoutModel",
          "model_module_version": "1.2.0",
          "state": {
            "_model_module": "@jupyter-widgets/base",
            "_model_module_version": "1.2.0",
            "_model_name": "LayoutModel",
            "_view_count": null,
            "_view_module": "@jupyter-widgets/base",
            "_view_module_version": "1.2.0",
            "_view_name": "LayoutView",
            "align_content": null,
            "align_items": null,
            "align_self": null,
            "border": null,
            "bottom": null,
            "display": null,
            "flex": null,
            "flex_flow": null,
            "grid_area": null,
            "grid_auto_columns": null,
            "grid_auto_flow": null,
            "grid_auto_rows": null,
            "grid_column": null,
            "grid_gap": null,
            "grid_row": null,
            "grid_template_areas": null,
            "grid_template_columns": null,
            "grid_template_rows": null,
            "height": null,
            "justify_content": null,
            "justify_items": null,
            "left": null,
            "margin": null,
            "max_height": null,
            "max_width": null,
            "min_height": null,
            "min_width": null,
            "object_fit": null,
            "object_position": null,
            "order": null,
            "overflow": null,
            "overflow_x": null,
            "overflow_y": null,
            "padding": null,
            "right": null,
            "top": null,
            "visibility": null,
            "width": null
          }
        },
        "6b095e365b7f4bb0ae2a210ee7c8cc87": {
          "model_module": "@jupyter-widgets/controls",
          "model_name": "ProgressStyleModel",
          "model_module_version": "1.5.0",
          "state": {
            "_model_module": "@jupyter-widgets/controls",
            "_model_module_version": "1.5.0",
            "_model_name": "ProgressStyleModel",
            "_view_count": null,
            "_view_module": "@jupyter-widgets/base",
            "_view_module_version": "1.2.0",
            "_view_name": "StyleView",
            "bar_color": null,
            "description_width": ""
          }
        },
        "a91fdd5246f44de78a4e1027836059dc": {
          "model_module": "@jupyter-widgets/base",
          "model_name": "LayoutModel",
          "model_module_version": "1.2.0",
          "state": {
            "_model_module": "@jupyter-widgets/base",
            "_model_module_version": "1.2.0",
            "_model_name": "LayoutModel",
            "_view_count": null,
            "_view_module": "@jupyter-widgets/base",
            "_view_module_version": "1.2.0",
            "_view_name": "LayoutView",
            "align_content": null,
            "align_items": null,
            "align_self": null,
            "border": null,
            "bottom": null,
            "display": null,
            "flex": null,
            "flex_flow": null,
            "grid_area": null,
            "grid_auto_columns": null,
            "grid_auto_flow": null,
            "grid_auto_rows": null,
            "grid_column": null,
            "grid_gap": null,
            "grid_row": null,
            "grid_template_areas": null,
            "grid_template_columns": null,
            "grid_template_rows": null,
            "height": null,
            "justify_content": null,
            "justify_items": null,
            "left": null,
            "margin": null,
            "max_height": null,
            "max_width": null,
            "min_height": null,
            "min_width": null,
            "object_fit": null,
            "object_position": null,
            "order": null,
            "overflow": null,
            "overflow_x": null,
            "overflow_y": null,
            "padding": null,
            "right": null,
            "top": null,
            "visibility": null,
            "width": null
          }
        },
        "89fadfa991564e82b894f41125c4fe25": {
          "model_module": "@jupyter-widgets/controls",
          "model_name": "DescriptionStyleModel",
          "model_module_version": "1.5.0",
          "state": {
            "_model_module": "@jupyter-widgets/controls",
            "_model_module_version": "1.5.0",
            "_model_name": "DescriptionStyleModel",
            "_view_count": null,
            "_view_module": "@jupyter-widgets/base",
            "_view_module_version": "1.2.0",
            "_view_name": "StyleView",
            "description_width": ""
          }
        },
        "fe29cdf296b54b1bb9a8d94cd8a9fda3": {
          "model_module": "@jupyter-widgets/controls",
          "model_name": "HBoxModel",
          "model_module_version": "1.5.0",
          "state": {
            "_dom_classes": [],
            "_model_module": "@jupyter-widgets/controls",
            "_model_module_version": "1.5.0",
            "_model_name": "HBoxModel",
            "_view_count": null,
            "_view_module": "@jupyter-widgets/controls",
            "_view_module_version": "1.5.0",
            "_view_name": "HBoxView",
            "box_style": "",
            "children": [
              "IPY_MODEL_a3f6c9e4066e42a6897bb177850dee51",
              "IPY_MODEL_d615c92b42a6472f991b5e8da61dfd9f",
              "IPY_MODEL_8410da61f2e944dd8e95a47192c7714f"
            ],
            "layout": "IPY_MODEL_9522d808c87244d09d9b781cda3dc991"
          }
        },
        "a3f6c9e4066e42a6897bb177850dee51": {
          "model_module": "@jupyter-widgets/controls",
          "model_name": "HTMLModel",
          "model_module_version": "1.5.0",
          "state": {
            "_dom_classes": [],
            "_model_module": "@jupyter-widgets/controls",
            "_model_module_version": "1.5.0",
            "_model_name": "HTMLModel",
            "_view_count": null,
            "_view_module": "@jupyter-widgets/controls",
            "_view_module_version": "1.5.0",
            "_view_name": "HTMLView",
            "description": "",
            "description_tooltip": null,
            "layout": "IPY_MODEL_d53211f122c54a40945819750444b616",
            "placeholder": "​",
            "style": "IPY_MODEL_dc038bc271e34c6fa0963d0a642471fa",
            "value": "vocab.txt: 100%"
          }
        },
        "d615c92b42a6472f991b5e8da61dfd9f": {
          "model_module": "@jupyter-widgets/controls",
          "model_name": "FloatProgressModel",
          "model_module_version": "1.5.0",
          "state": {
            "_dom_classes": [],
            "_model_module": "@jupyter-widgets/controls",
            "_model_module_version": "1.5.0",
            "_model_name": "FloatProgressModel",
            "_view_count": null,
            "_view_module": "@jupyter-widgets/controls",
            "_view_module_version": "1.5.0",
            "_view_name": "ProgressView",
            "bar_style": "success",
            "description": "",
            "description_tooltip": null,
            "layout": "IPY_MODEL_1feaebddc4454ef4b8a6516ffd9a1daf",
            "max": 213450,
            "min": 0,
            "orientation": "horizontal",
            "style": "IPY_MODEL_510915d300314be284176e14fc4e99d5",
            "value": 213450
          }
        },
        "8410da61f2e944dd8e95a47192c7714f": {
          "model_module": "@jupyter-widgets/controls",
          "model_name": "HTMLModel",
          "model_module_version": "1.5.0",
          "state": {
            "_dom_classes": [],
            "_model_module": "@jupyter-widgets/controls",
            "_model_module_version": "1.5.0",
            "_model_name": "HTMLModel",
            "_view_count": null,
            "_view_module": "@jupyter-widgets/controls",
            "_view_module_version": "1.5.0",
            "_view_name": "HTMLView",
            "description": "",
            "description_tooltip": null,
            "layout": "IPY_MODEL_08281e7a3fd64f29bbcf2bd39a8ca3b6",
            "placeholder": "​",
            "style": "IPY_MODEL_459aa9dbdb02467c89765c484d046948",
            "value": " 213k/213k [00:00&lt;00:00, 849kB/s]"
          }
        },
        "9522d808c87244d09d9b781cda3dc991": {
          "model_module": "@jupyter-widgets/base",
          "model_name": "LayoutModel",
          "model_module_version": "1.2.0",
          "state": {
            "_model_module": "@jupyter-widgets/base",
            "_model_module_version": "1.2.0",
            "_model_name": "LayoutModel",
            "_view_count": null,
            "_view_module": "@jupyter-widgets/base",
            "_view_module_version": "1.2.0",
            "_view_name": "LayoutView",
            "align_content": null,
            "align_items": null,
            "align_self": null,
            "border": null,
            "bottom": null,
            "display": null,
            "flex": null,
            "flex_flow": null,
            "grid_area": null,
            "grid_auto_columns": null,
            "grid_auto_flow": null,
            "grid_auto_rows": null,
            "grid_column": null,
            "grid_gap": null,
            "grid_row": null,
            "grid_template_areas": null,
            "grid_template_columns": null,
            "grid_template_rows": null,
            "height": null,
            "justify_content": null,
            "justify_items": null,
            "left": null,
            "margin": null,
            "max_height": null,
            "max_width": null,
            "min_height": null,
            "min_width": null,
            "object_fit": null,
            "object_position": null,
            "order": null,
            "overflow": null,
            "overflow_x": null,
            "overflow_y": null,
            "padding": null,
            "right": null,
            "top": null,
            "visibility": null,
            "width": null
          }
        },
        "d53211f122c54a40945819750444b616": {
          "model_module": "@jupyter-widgets/base",
          "model_name": "LayoutModel",
          "model_module_version": "1.2.0",
          "state": {
            "_model_module": "@jupyter-widgets/base",
            "_model_module_version": "1.2.0",
            "_model_name": "LayoutModel",
            "_view_count": null,
            "_view_module": "@jupyter-widgets/base",
            "_view_module_version": "1.2.0",
            "_view_name": "LayoutView",
            "align_content": null,
            "align_items": null,
            "align_self": null,
            "border": null,
            "bottom": null,
            "display": null,
            "flex": null,
            "flex_flow": null,
            "grid_area": null,
            "grid_auto_columns": null,
            "grid_auto_flow": null,
            "grid_auto_rows": null,
            "grid_column": null,
            "grid_gap": null,
            "grid_row": null,
            "grid_template_areas": null,
            "grid_template_columns": null,
            "grid_template_rows": null,
            "height": null,
            "justify_content": null,
            "justify_items": null,
            "left": null,
            "margin": null,
            "max_height": null,
            "max_width": null,
            "min_height": null,
            "min_width": null,
            "object_fit": null,
            "object_position": null,
            "order": null,
            "overflow": null,
            "overflow_x": null,
            "overflow_y": null,
            "padding": null,
            "right": null,
            "top": null,
            "visibility": null,
            "width": null
          }
        },
        "dc038bc271e34c6fa0963d0a642471fa": {
          "model_module": "@jupyter-widgets/controls",
          "model_name": "DescriptionStyleModel",
          "model_module_version": "1.5.0",
          "state": {
            "_model_module": "@jupyter-widgets/controls",
            "_model_module_version": "1.5.0",
            "_model_name": "DescriptionStyleModel",
            "_view_count": null,
            "_view_module": "@jupyter-widgets/base",
            "_view_module_version": "1.2.0",
            "_view_name": "StyleView",
            "description_width": ""
          }
        },
        "1feaebddc4454ef4b8a6516ffd9a1daf": {
          "model_module": "@jupyter-widgets/base",
          "model_name": "LayoutModel",
          "model_module_version": "1.2.0",
          "state": {
            "_model_module": "@jupyter-widgets/base",
            "_model_module_version": "1.2.0",
            "_model_name": "LayoutModel",
            "_view_count": null,
            "_view_module": "@jupyter-widgets/base",
            "_view_module_version": "1.2.0",
            "_view_name": "LayoutView",
            "align_content": null,
            "align_items": null,
            "align_self": null,
            "border": null,
            "bottom": null,
            "display": null,
            "flex": null,
            "flex_flow": null,
            "grid_area": null,
            "grid_auto_columns": null,
            "grid_auto_flow": null,
            "grid_auto_rows": null,
            "grid_column": null,
            "grid_gap": null,
            "grid_row": null,
            "grid_template_areas": null,
            "grid_template_columns": null,
            "grid_template_rows": null,
            "height": null,
            "justify_content": null,
            "justify_items": null,
            "left": null,
            "margin": null,
            "max_height": null,
            "max_width": null,
            "min_height": null,
            "min_width": null,
            "object_fit": null,
            "object_position": null,
            "order": null,
            "overflow": null,
            "overflow_x": null,
            "overflow_y": null,
            "padding": null,
            "right": null,
            "top": null,
            "visibility": null,
            "width": null
          }
        },
        "510915d300314be284176e14fc4e99d5": {
          "model_module": "@jupyter-widgets/controls",
          "model_name": "ProgressStyleModel",
          "model_module_version": "1.5.0",
          "state": {
            "_model_module": "@jupyter-widgets/controls",
            "_model_module_version": "1.5.0",
            "_model_name": "ProgressStyleModel",
            "_view_count": null,
            "_view_module": "@jupyter-widgets/base",
            "_view_module_version": "1.2.0",
            "_view_name": "StyleView",
            "bar_color": null,
            "description_width": ""
          }
        },
        "08281e7a3fd64f29bbcf2bd39a8ca3b6": {
          "model_module": "@jupyter-widgets/base",
          "model_name": "LayoutModel",
          "model_module_version": "1.2.0",
          "state": {
            "_model_module": "@jupyter-widgets/base",
            "_model_module_version": "1.2.0",
            "_model_name": "LayoutModel",
            "_view_count": null,
            "_view_module": "@jupyter-widgets/base",
            "_view_module_version": "1.2.0",
            "_view_name": "LayoutView",
            "align_content": null,
            "align_items": null,
            "align_self": null,
            "border": null,
            "bottom": null,
            "display": null,
            "flex": null,
            "flex_flow": null,
            "grid_area": null,
            "grid_auto_columns": null,
            "grid_auto_flow": null,
            "grid_auto_rows": null,
            "grid_column": null,
            "grid_gap": null,
            "grid_row": null,
            "grid_template_areas": null,
            "grid_template_columns": null,
            "grid_template_rows": null,
            "height": null,
            "justify_content": null,
            "justify_items": null,
            "left": null,
            "margin": null,
            "max_height": null,
            "max_width": null,
            "min_height": null,
            "min_width": null,
            "object_fit": null,
            "object_position": null,
            "order": null,
            "overflow": null,
            "overflow_x": null,
            "overflow_y": null,
            "padding": null,
            "right": null,
            "top": null,
            "visibility": null,
            "width": null
          }
        },
        "459aa9dbdb02467c89765c484d046948": {
          "model_module": "@jupyter-widgets/controls",
          "model_name": "DescriptionStyleModel",
          "model_module_version": "1.5.0",
          "state": {
            "_model_module": "@jupyter-widgets/controls",
            "_model_module_version": "1.5.0",
            "_model_name": "DescriptionStyleModel",
            "_view_count": null,
            "_view_module": "@jupyter-widgets/base",
            "_view_module_version": "1.2.0",
            "_view_name": "StyleView",
            "description_width": ""
          }
        },
        "76aec6013cb44e39b5a180727557ce99": {
          "model_module": "@jupyter-widgets/controls",
          "model_name": "HBoxModel",
          "model_module_version": "1.5.0",
          "state": {
            "_dom_classes": [],
            "_model_module": "@jupyter-widgets/controls",
            "_model_module_version": "1.5.0",
            "_model_name": "HBoxModel",
            "_view_count": null,
            "_view_module": "@jupyter-widgets/controls",
            "_view_module_version": "1.5.0",
            "_view_name": "HBoxView",
            "box_style": "",
            "children": [
              "IPY_MODEL_746d843954114d04998ba272512984c6",
              "IPY_MODEL_4950bde015d049d2aa4069eda6b22372",
              "IPY_MODEL_73dd85ebdf2f43e98fa0d2e4c6849e48"
            ],
            "layout": "IPY_MODEL_2509c771271240a98c3f843d3690617d"
          }
        },
        "746d843954114d04998ba272512984c6": {
          "model_module": "@jupyter-widgets/controls",
          "model_name": "HTMLModel",
          "model_module_version": "1.5.0",
          "state": {
            "_dom_classes": [],
            "_model_module": "@jupyter-widgets/controls",
            "_model_module_version": "1.5.0",
            "_model_name": "HTMLModel",
            "_view_count": null,
            "_view_module": "@jupyter-widgets/controls",
            "_view_module_version": "1.5.0",
            "_view_name": "HTMLView",
            "description": "",
            "description_tooltip": null,
            "layout": "IPY_MODEL_9e54701fbee64a39b203383007815a27",
            "placeholder": "​",
            "style": "IPY_MODEL_e01ff005bcdf4f4cad71fa0393d86abe",
            "value": "config.json: 100%"
          }
        },
        "4950bde015d049d2aa4069eda6b22372": {
          "model_module": "@jupyter-widgets/controls",
          "model_name": "FloatProgressModel",
          "model_module_version": "1.5.0",
          "state": {
            "_dom_classes": [],
            "_model_module": "@jupyter-widgets/controls",
            "_model_module_version": "1.5.0",
            "_model_name": "FloatProgressModel",
            "_view_count": null,
            "_view_module": "@jupyter-widgets/controls",
            "_view_module_version": "1.5.0",
            "_view_name": "ProgressView",
            "bar_style": "success",
            "description": "",
            "description_tooltip": null,
            "layout": "IPY_MODEL_a4c6f3a8367c4973b591b33f23779b6e",
            "max": 71813,
            "min": 0,
            "orientation": "horizontal",
            "style": "IPY_MODEL_ecb064b3ba7e457c96fdfec9b8d716e4",
            "value": 71813
          }
        },
        "73dd85ebdf2f43e98fa0d2e4c6849e48": {
          "model_module": "@jupyter-widgets/controls",
          "model_name": "HTMLModel",
          "model_module_version": "1.5.0",
          "state": {
            "_dom_classes": [],
            "_model_module": "@jupyter-widgets/controls",
            "_model_module_version": "1.5.0",
            "_model_name": "HTMLModel",
            "_view_count": null,
            "_view_module": "@jupyter-widgets/controls",
            "_view_module_version": "1.5.0",
            "_view_name": "HTMLView",
            "description": "",
            "description_tooltip": null,
            "layout": "IPY_MODEL_2962dee984164716a2530321023f25b6",
            "placeholder": "​",
            "style": "IPY_MODEL_e1b4c33605f0408ab601965d932013ca",
            "value": " 71.8k/71.8k [00:00&lt;00:00, 286kB/s]"
          }
        },
        "2509c771271240a98c3f843d3690617d": {
          "model_module": "@jupyter-widgets/base",
          "model_name": "LayoutModel",
          "model_module_version": "1.2.0",
          "state": {
            "_model_module": "@jupyter-widgets/base",
            "_model_module_version": "1.2.0",
            "_model_name": "LayoutModel",
            "_view_count": null,
            "_view_module": "@jupyter-widgets/base",
            "_view_module_version": "1.2.0",
            "_view_name": "LayoutView",
            "align_content": null,
            "align_items": null,
            "align_self": null,
            "border": null,
            "bottom": null,
            "display": null,
            "flex": null,
            "flex_flow": null,
            "grid_area": null,
            "grid_auto_columns": null,
            "grid_auto_flow": null,
            "grid_auto_rows": null,
            "grid_column": null,
            "grid_gap": null,
            "grid_row": null,
            "grid_template_areas": null,
            "grid_template_columns": null,
            "grid_template_rows": null,
            "height": null,
            "justify_content": null,
            "justify_items": null,
            "left": null,
            "margin": null,
            "max_height": null,
            "max_width": null,
            "min_height": null,
            "min_width": null,
            "object_fit": null,
            "object_position": null,
            "order": null,
            "overflow": null,
            "overflow_x": null,
            "overflow_y": null,
            "padding": null,
            "right": null,
            "top": null,
            "visibility": null,
            "width": null
          }
        },
        "9e54701fbee64a39b203383007815a27": {
          "model_module": "@jupyter-widgets/base",
          "model_name": "LayoutModel",
          "model_module_version": "1.2.0",
          "state": {
            "_model_module": "@jupyter-widgets/base",
            "_model_module_version": "1.2.0",
            "_model_name": "LayoutModel",
            "_view_count": null,
            "_view_module": "@jupyter-widgets/base",
            "_view_module_version": "1.2.0",
            "_view_name": "LayoutView",
            "align_content": null,
            "align_items": null,
            "align_self": null,
            "border": null,
            "bottom": null,
            "display": null,
            "flex": null,
            "flex_flow": null,
            "grid_area": null,
            "grid_auto_columns": null,
            "grid_auto_flow": null,
            "grid_auto_rows": null,
            "grid_column": null,
            "grid_gap": null,
            "grid_row": null,
            "grid_template_areas": null,
            "grid_template_columns": null,
            "grid_template_rows": null,
            "height": null,
            "justify_content": null,
            "justify_items": null,
            "left": null,
            "margin": null,
            "max_height": null,
            "max_width": null,
            "min_height": null,
            "min_width": null,
            "object_fit": null,
            "object_position": null,
            "order": null,
            "overflow": null,
            "overflow_x": null,
            "overflow_y": null,
            "padding": null,
            "right": null,
            "top": null,
            "visibility": null,
            "width": null
          }
        },
        "e01ff005bcdf4f4cad71fa0393d86abe": {
          "model_module": "@jupyter-widgets/controls",
          "model_name": "DescriptionStyleModel",
          "model_module_version": "1.5.0",
          "state": {
            "_model_module": "@jupyter-widgets/controls",
            "_model_module_version": "1.5.0",
            "_model_name": "DescriptionStyleModel",
            "_view_count": null,
            "_view_module": "@jupyter-widgets/base",
            "_view_module_version": "1.2.0",
            "_view_name": "StyleView",
            "description_width": ""
          }
        },
        "a4c6f3a8367c4973b591b33f23779b6e": {
          "model_module": "@jupyter-widgets/base",
          "model_name": "LayoutModel",
          "model_module_version": "1.2.0",
          "state": {
            "_model_module": "@jupyter-widgets/base",
            "_model_module_version": "1.2.0",
            "_model_name": "LayoutModel",
            "_view_count": null,
            "_view_module": "@jupyter-widgets/base",
            "_view_module_version": "1.2.0",
            "_view_name": "LayoutView",
            "align_content": null,
            "align_items": null,
            "align_self": null,
            "border": null,
            "bottom": null,
            "display": null,
            "flex": null,
            "flex_flow": null,
            "grid_area": null,
            "grid_auto_columns": null,
            "grid_auto_flow": null,
            "grid_auto_rows": null,
            "grid_column": null,
            "grid_gap": null,
            "grid_row": null,
            "grid_template_areas": null,
            "grid_template_columns": null,
            "grid_template_rows": null,
            "height": null,
            "justify_content": null,
            "justify_items": null,
            "left": null,
            "margin": null,
            "max_height": null,
            "max_width": null,
            "min_height": null,
            "min_width": null,
            "object_fit": null,
            "object_position": null,
            "order": null,
            "overflow": null,
            "overflow_x": null,
            "overflow_y": null,
            "padding": null,
            "right": null,
            "top": null,
            "visibility": null,
            "width": null
          }
        },
        "ecb064b3ba7e457c96fdfec9b8d716e4": {
          "model_module": "@jupyter-widgets/controls",
          "model_name": "ProgressStyleModel",
          "model_module_version": "1.5.0",
          "state": {
            "_model_module": "@jupyter-widgets/controls",
            "_model_module_version": "1.5.0",
            "_model_name": "ProgressStyleModel",
            "_view_count": null,
            "_view_module": "@jupyter-widgets/base",
            "_view_module_version": "1.2.0",
            "_view_name": "StyleView",
            "bar_color": null,
            "description_width": ""
          }
        },
        "2962dee984164716a2530321023f25b6": {
          "model_module": "@jupyter-widgets/base",
          "model_name": "LayoutModel",
          "model_module_version": "1.2.0",
          "state": {
            "_model_module": "@jupyter-widgets/base",
            "_model_module_version": "1.2.0",
            "_model_name": "LayoutModel",
            "_view_count": null,
            "_view_module": "@jupyter-widgets/base",
            "_view_module_version": "1.2.0",
            "_view_name": "LayoutView",
            "align_content": null,
            "align_items": null,
            "align_self": null,
            "border": null,
            "bottom": null,
            "display": null,
            "flex": null,
            "flex_flow": null,
            "grid_area": null,
            "grid_auto_columns": null,
            "grid_auto_flow": null,
            "grid_auto_rows": null,
            "grid_column": null,
            "grid_gap": null,
            "grid_row": null,
            "grid_template_areas": null,
            "grid_template_columns": null,
            "grid_template_rows": null,
            "height": null,
            "justify_content": null,
            "justify_items": null,
            "left": null,
            "margin": null,
            "max_height": null,
            "max_width": null,
            "min_height": null,
            "min_width": null,
            "object_fit": null,
            "object_position": null,
            "order": null,
            "overflow": null,
            "overflow_x": null,
            "overflow_y": null,
            "padding": null,
            "right": null,
            "top": null,
            "visibility": null,
            "width": null
          }
        },
        "e1b4c33605f0408ab601965d932013ca": {
          "model_module": "@jupyter-widgets/controls",
          "model_name": "DescriptionStyleModel",
          "model_module_version": "1.5.0",
          "state": {
            "_model_module": "@jupyter-widgets/controls",
            "_model_module_version": "1.5.0",
            "_model_name": "DescriptionStyleModel",
            "_view_count": null,
            "_view_module": "@jupyter-widgets/base",
            "_view_module_version": "1.2.0",
            "_view_name": "StyleView",
            "description_width": ""
          }
        },
        "c97b0d7428e64561a67a5edd1a78220b": {
          "model_module": "@jupyter-widgets/controls",
          "model_name": "HBoxModel",
          "model_module_version": "1.5.0",
          "state": {
            "_dom_classes": [],
            "_model_module": "@jupyter-widgets/controls",
            "_model_module_version": "1.5.0",
            "_model_name": "HBoxModel",
            "_view_count": null,
            "_view_module": "@jupyter-widgets/controls",
            "_view_module_version": "1.5.0",
            "_view_name": "HBoxView",
            "box_style": "",
            "children": [
              "IPY_MODEL_35a929bfab534b8787f9ebb7e436c17f",
              "IPY_MODEL_826055069a3148138f84dda5d66fd35a",
              "IPY_MODEL_85d08db96e7241f790feb8d00657da2e"
            ],
            "layout": "IPY_MODEL_92e16aefeb43413a8652b5b97bef735f"
          }
        },
        "35a929bfab534b8787f9ebb7e436c17f": {
          "model_module": "@jupyter-widgets/controls",
          "model_name": "HTMLModel",
          "model_module_version": "1.5.0",
          "state": {
            "_dom_classes": [],
            "_model_module": "@jupyter-widgets/controls",
            "_model_module_version": "1.5.0",
            "_model_name": "HTMLModel",
            "_view_count": null,
            "_view_module": "@jupyter-widgets/controls",
            "_view_module_version": "1.5.0",
            "_view_name": "HTMLView",
            "description": "",
            "description_tooltip": null,
            "layout": "IPY_MODEL_240d418f7fe6408f994ecea78a420726",
            "placeholder": "​",
            "style": "IPY_MODEL_60cc391c61aa40358f8e133b3972ddaa",
            "value": "model.safetensors: 100%"
          }
        },
        "826055069a3148138f84dda5d66fd35a": {
          "model_module": "@jupyter-widgets/controls",
          "model_name": "FloatProgressModel",
          "model_module_version": "1.5.0",
          "state": {
            "_dom_classes": [],
            "_model_module": "@jupyter-widgets/controls",
            "_model_module_version": "1.5.0",
            "_model_name": "FloatProgressModel",
            "_view_count": null,
            "_view_module": "@jupyter-widgets/controls",
            "_view_module_version": "1.5.0",
            "_view_name": "ProgressView",
            "bar_style": "success",
            "description": "",
            "description_tooltip": null,
            "layout": "IPY_MODEL_a782d0b0025847bd8f434130b02f2a5e",
            "max": 113412768,
            "min": 0,
            "orientation": "horizontal",
            "style": "IPY_MODEL_bacdd0737e4946739ffc847a4e488739",
            "value": 113412768
          }
        },
        "85d08db96e7241f790feb8d00657da2e": {
          "model_module": "@jupyter-widgets/controls",
          "model_name": "HTMLModel",
          "model_module_version": "1.5.0",
          "state": {
            "_dom_classes": [],
            "_model_module": "@jupyter-widgets/controls",
            "_model_module_version": "1.5.0",
            "_model_name": "HTMLModel",
            "_view_count": null,
            "_view_module": "@jupyter-widgets/controls",
            "_view_module_version": "1.5.0",
            "_view_name": "HTMLView",
            "description": "",
            "description_tooltip": null,
            "layout": "IPY_MODEL_daee5557108f409ea942a6956f9c94a8",
            "placeholder": "​",
            "style": "IPY_MODEL_877968ed8e7344489a20aacb61b29b11",
            "value": " 113M/113M [00:00&lt;00:00, 187MB/s]"
          }
        },
        "92e16aefeb43413a8652b5b97bef735f": {
          "model_module": "@jupyter-widgets/base",
          "model_name": "LayoutModel",
          "model_module_version": "1.2.0",
          "state": {
            "_model_module": "@jupyter-widgets/base",
            "_model_module_version": "1.2.0",
            "_model_name": "LayoutModel",
            "_view_count": null,
            "_view_module": "@jupyter-widgets/base",
            "_view_module_version": "1.2.0",
            "_view_name": "LayoutView",
            "align_content": null,
            "align_items": null,
            "align_self": null,
            "border": null,
            "bottom": null,
            "display": null,
            "flex": null,
            "flex_flow": null,
            "grid_area": null,
            "grid_auto_columns": null,
            "grid_auto_flow": null,
            "grid_auto_rows": null,
            "grid_column": null,
            "grid_gap": null,
            "grid_row": null,
            "grid_template_areas": null,
            "grid_template_columns": null,
            "grid_template_rows": null,
            "height": null,
            "justify_content": null,
            "justify_items": null,
            "left": null,
            "margin": null,
            "max_height": null,
            "max_width": null,
            "min_height": null,
            "min_width": null,
            "object_fit": null,
            "object_position": null,
            "order": null,
            "overflow": null,
            "overflow_x": null,
            "overflow_y": null,
            "padding": null,
            "right": null,
            "top": null,
            "visibility": null,
            "width": null
          }
        },
        "240d418f7fe6408f994ecea78a420726": {
          "model_module": "@jupyter-widgets/base",
          "model_name": "LayoutModel",
          "model_module_version": "1.2.0",
          "state": {
            "_model_module": "@jupyter-widgets/base",
            "_model_module_version": "1.2.0",
            "_model_name": "LayoutModel",
            "_view_count": null,
            "_view_module": "@jupyter-widgets/base",
            "_view_module_version": "1.2.0",
            "_view_name": "LayoutView",
            "align_content": null,
            "align_items": null,
            "align_self": null,
            "border": null,
            "bottom": null,
            "display": null,
            "flex": null,
            "flex_flow": null,
            "grid_area": null,
            "grid_auto_columns": null,
            "grid_auto_flow": null,
            "grid_auto_rows": null,
            "grid_column": null,
            "grid_gap": null,
            "grid_row": null,
            "grid_template_areas": null,
            "grid_template_columns": null,
            "grid_template_rows": null,
            "height": null,
            "justify_content": null,
            "justify_items": null,
            "left": null,
            "margin": null,
            "max_height": null,
            "max_width": null,
            "min_height": null,
            "min_width": null,
            "object_fit": null,
            "object_position": null,
            "order": null,
            "overflow": null,
            "overflow_x": null,
            "overflow_y": null,
            "padding": null,
            "right": null,
            "top": null,
            "visibility": null,
            "width": null
          }
        },
        "60cc391c61aa40358f8e133b3972ddaa": {
          "model_module": "@jupyter-widgets/controls",
          "model_name": "DescriptionStyleModel",
          "model_module_version": "1.5.0",
          "state": {
            "_model_module": "@jupyter-widgets/controls",
            "_model_module_version": "1.5.0",
            "_model_name": "DescriptionStyleModel",
            "_view_count": null,
            "_view_module": "@jupyter-widgets/base",
            "_view_module_version": "1.2.0",
            "_view_name": "StyleView",
            "description_width": ""
          }
        },
        "a782d0b0025847bd8f434130b02f2a5e": {
          "model_module": "@jupyter-widgets/base",
          "model_name": "LayoutModel",
          "model_module_version": "1.2.0",
          "state": {
            "_model_module": "@jupyter-widgets/base",
            "_model_module_version": "1.2.0",
            "_model_name": "LayoutModel",
            "_view_count": null,
            "_view_module": "@jupyter-widgets/base",
            "_view_module_version": "1.2.0",
            "_view_name": "LayoutView",
            "align_content": null,
            "align_items": null,
            "align_self": null,
            "border": null,
            "bottom": null,
            "display": null,
            "flex": null,
            "flex_flow": null,
            "grid_area": null,
            "grid_auto_columns": null,
            "grid_auto_flow": null,
            "grid_auto_rows": null,
            "grid_column": null,
            "grid_gap": null,
            "grid_row": null,
            "grid_template_areas": null,
            "grid_template_columns": null,
            "grid_template_rows": null,
            "height": null,
            "justify_content": null,
            "justify_items": null,
            "left": null,
            "margin": null,
            "max_height": null,
            "max_width": null,
            "min_height": null,
            "min_width": null,
            "object_fit": null,
            "object_position": null,
            "order": null,
            "overflow": null,
            "overflow_x": null,
            "overflow_y": null,
            "padding": null,
            "right": null,
            "top": null,
            "visibility": null,
            "width": null
          }
        },
        "bacdd0737e4946739ffc847a4e488739": {
          "model_module": "@jupyter-widgets/controls",
          "model_name": "ProgressStyleModel",
          "model_module_version": "1.5.0",
          "state": {
            "_model_module": "@jupyter-widgets/controls",
            "_model_module_version": "1.5.0",
            "_model_name": "ProgressStyleModel",
            "_view_count": null,
            "_view_module": "@jupyter-widgets/base",
            "_view_module_version": "1.2.0",
            "_view_name": "StyleView",
            "bar_color": null,
            "description_width": ""
          }
        },
        "daee5557108f409ea942a6956f9c94a8": {
          "model_module": "@jupyter-widgets/base",
          "model_name": "LayoutModel",
          "model_module_version": "1.2.0",
          "state": {
            "_model_module": "@jupyter-widgets/base",
            "_model_module_version": "1.2.0",
            "_model_name": "LayoutModel",
            "_view_count": null,
            "_view_module": "@jupyter-widgets/base",
            "_view_module_version": "1.2.0",
            "_view_name": "LayoutView",
            "align_content": null,
            "align_items": null,
            "align_self": null,
            "border": null,
            "bottom": null,
            "display": null,
            "flex": null,
            "flex_flow": null,
            "grid_area": null,
            "grid_auto_columns": null,
            "grid_auto_flow": null,
            "grid_auto_rows": null,
            "grid_column": null,
            "grid_gap": null,
            "grid_row": null,
            "grid_template_areas": null,
            "grid_template_columns": null,
            "grid_template_rows": null,
            "height": null,
            "justify_content": null,
            "justify_items": null,
            "left": null,
            "margin": null,
            "max_height": null,
            "max_width": null,
            "min_height": null,
            "min_width": null,
            "object_fit": null,
            "object_position": null,
            "order": null,
            "overflow": null,
            "overflow_x": null,
            "overflow_y": null,
            "padding": null,
            "right": null,
            "top": null,
            "visibility": null,
            "width": null
          }
        },
        "877968ed8e7344489a20aacb61b29b11": {
          "model_module": "@jupyter-widgets/controls",
          "model_name": "DescriptionStyleModel",
          "model_module_version": "1.5.0",
          "state": {
            "_model_module": "@jupyter-widgets/controls",
            "_model_module_version": "1.5.0",
            "_model_name": "DescriptionStyleModel",
            "_view_count": null,
            "_view_module": "@jupyter-widgets/base",
            "_view_module_version": "1.2.0",
            "_view_name": "StyleView",
            "description_width": ""
          }
        },
        "98c26a1ce75641bb94b70bc3ebdd7440": {
          "model_module": "@jupyter-widgets/controls",
          "model_name": "HBoxModel",
          "model_module_version": "1.5.0",
          "state": {
            "_dom_classes": [],
            "_model_module": "@jupyter-widgets/controls",
            "_model_module_version": "1.5.0",
            "_model_name": "HBoxModel",
            "_view_count": null,
            "_view_module": "@jupyter-widgets/controls",
            "_view_module_version": "1.5.0",
            "_view_name": "HBoxView",
            "box_style": "",
            "children": [
              "IPY_MODEL_eaf8c7e8208442fe84d4bccc1baea8ef",
              "IPY_MODEL_688580c7804c4d91b848bd40f459cc4a",
              "IPY_MODEL_940a9e7c323147ea9651a2b4cff5dbcb"
            ],
            "layout": "IPY_MODEL_f1a2e2b7872a43ad802da21fbcbf1968"
          }
        },
        "eaf8c7e8208442fe84d4bccc1baea8ef": {
          "model_module": "@jupyter-widgets/controls",
          "model_name": "HTMLModel",
          "model_module_version": "1.5.0",
          "state": {
            "_dom_classes": [],
            "_model_module": "@jupyter-widgets/controls",
            "_model_module_version": "1.5.0",
            "_model_name": "HTMLModel",
            "_view_count": null,
            "_view_module": "@jupyter-widgets/controls",
            "_view_module_version": "1.5.0",
            "_view_name": "HTMLView",
            "description": "",
            "description_tooltip": null,
            "layout": "IPY_MODEL_377caa7808424cdca7871719a89179cb",
            "placeholder": "​",
            "style": "IPY_MODEL_4d2c8732fb424d67a6ae3faf1dc11ef0",
            "value": "pytorch_model.bin: 100%"
          }
        },
        "688580c7804c4d91b848bd40f459cc4a": {
          "model_module": "@jupyter-widgets/controls",
          "model_name": "FloatProgressModel",
          "model_module_version": "1.5.0",
          "state": {
            "_dom_classes": [],
            "_model_module": "@jupyter-widgets/controls",
            "_model_module_version": "1.5.0",
            "_model_name": "FloatProgressModel",
            "_view_count": null,
            "_view_module": "@jupyter-widgets/controls",
            "_view_module_version": "1.5.0",
            "_view_name": "ProgressView",
            "bar_style": "success",
            "description": "",
            "description_tooltip": null,
            "layout": "IPY_MODEL_33def436e12f49f8a29dc457ddee7d12",
            "max": 435778770,
            "min": 0,
            "orientation": "horizontal",
            "style": "IPY_MODEL_fbc10771872345be89ba183074e7866a",
            "value": 435778770
          }
        },
        "940a9e7c323147ea9651a2b4cff5dbcb": {
          "model_module": "@jupyter-widgets/controls",
          "model_name": "HTMLModel",
          "model_module_version": "1.5.0",
          "state": {
            "_dom_classes": [],
            "_model_module": "@jupyter-widgets/controls",
            "_model_module_version": "1.5.0",
            "_model_name": "HTMLModel",
            "_view_count": null,
            "_view_module": "@jupyter-widgets/controls",
            "_view_module_version": "1.5.0",
            "_view_name": "HTMLView",
            "description": "",
            "description_tooltip": null,
            "layout": "IPY_MODEL_e1e000bb427448afbd2b70c6ce7d3abf",
            "placeholder": "​",
            "style": "IPY_MODEL_5d2c043f94b0473d811da5e27341be08",
            "value": " 436M/436M [00:02&lt;00:00, 204MB/s]"
          }
        },
        "f1a2e2b7872a43ad802da21fbcbf1968": {
          "model_module": "@jupyter-widgets/base",
          "model_name": "LayoutModel",
          "model_module_version": "1.2.0",
          "state": {
            "_model_module": "@jupyter-widgets/base",
            "_model_module_version": "1.2.0",
            "_model_name": "LayoutModel",
            "_view_count": null,
            "_view_module": "@jupyter-widgets/base",
            "_view_module_version": "1.2.0",
            "_view_name": "LayoutView",
            "align_content": null,
            "align_items": null,
            "align_self": null,
            "border": null,
            "bottom": null,
            "display": null,
            "flex": null,
            "flex_flow": null,
            "grid_area": null,
            "grid_auto_columns": null,
            "grid_auto_flow": null,
            "grid_auto_rows": null,
            "grid_column": null,
            "grid_gap": null,
            "grid_row": null,
            "grid_template_areas": null,
            "grid_template_columns": null,
            "grid_template_rows": null,
            "height": null,
            "justify_content": null,
            "justify_items": null,
            "left": null,
            "margin": null,
            "max_height": null,
            "max_width": null,
            "min_height": null,
            "min_width": null,
            "object_fit": null,
            "object_position": null,
            "order": null,
            "overflow": null,
            "overflow_x": null,
            "overflow_y": null,
            "padding": null,
            "right": null,
            "top": null,
            "visibility": null,
            "width": null
          }
        },
        "377caa7808424cdca7871719a89179cb": {
          "model_module": "@jupyter-widgets/base",
          "model_name": "LayoutModel",
          "model_module_version": "1.2.0",
          "state": {
            "_model_module": "@jupyter-widgets/base",
            "_model_module_version": "1.2.0",
            "_model_name": "LayoutModel",
            "_view_count": null,
            "_view_module": "@jupyter-widgets/base",
            "_view_module_version": "1.2.0",
            "_view_name": "LayoutView",
            "align_content": null,
            "align_items": null,
            "align_self": null,
            "border": null,
            "bottom": null,
            "display": null,
            "flex": null,
            "flex_flow": null,
            "grid_area": null,
            "grid_auto_columns": null,
            "grid_auto_flow": null,
            "grid_auto_rows": null,
            "grid_column": null,
            "grid_gap": null,
            "grid_row": null,
            "grid_template_areas": null,
            "grid_template_columns": null,
            "grid_template_rows": null,
            "height": null,
            "justify_content": null,
            "justify_items": null,
            "left": null,
            "margin": null,
            "max_height": null,
            "max_width": null,
            "min_height": null,
            "min_width": null,
            "object_fit": null,
            "object_position": null,
            "order": null,
            "overflow": null,
            "overflow_x": null,
            "overflow_y": null,
            "padding": null,
            "right": null,
            "top": null,
            "visibility": null,
            "width": null
          }
        },
        "4d2c8732fb424d67a6ae3faf1dc11ef0": {
          "model_module": "@jupyter-widgets/controls",
          "model_name": "DescriptionStyleModel",
          "model_module_version": "1.5.0",
          "state": {
            "_model_module": "@jupyter-widgets/controls",
            "_model_module_version": "1.5.0",
            "_model_name": "DescriptionStyleModel",
            "_view_count": null,
            "_view_module": "@jupyter-widgets/base",
            "_view_module_version": "1.2.0",
            "_view_name": "StyleView",
            "description_width": ""
          }
        },
        "33def436e12f49f8a29dc457ddee7d12": {
          "model_module": "@jupyter-widgets/base",
          "model_name": "LayoutModel",
          "model_module_version": "1.2.0",
          "state": {
            "_model_module": "@jupyter-widgets/base",
            "_model_module_version": "1.2.0",
            "_model_name": "LayoutModel",
            "_view_count": null,
            "_view_module": "@jupyter-widgets/base",
            "_view_module_version": "1.2.0",
            "_view_name": "LayoutView",
            "align_content": null,
            "align_items": null,
            "align_self": null,
            "border": null,
            "bottom": null,
            "display": null,
            "flex": null,
            "flex_flow": null,
            "grid_area": null,
            "grid_auto_columns": null,
            "grid_auto_flow": null,
            "grid_auto_rows": null,
            "grid_column": null,
            "grid_gap": null,
            "grid_row": null,
            "grid_template_areas": null,
            "grid_template_columns": null,
            "grid_template_rows": null,
            "height": null,
            "justify_content": null,
            "justify_items": null,
            "left": null,
            "margin": null,
            "max_height": null,
            "max_width": null,
            "min_height": null,
            "min_width": null,
            "object_fit": null,
            "object_position": null,
            "order": null,
            "overflow": null,
            "overflow_x": null,
            "overflow_y": null,
            "padding": null,
            "right": null,
            "top": null,
            "visibility": null,
            "width": null
          }
        },
        "fbc10771872345be89ba183074e7866a": {
          "model_module": "@jupyter-widgets/controls",
          "model_name": "ProgressStyleModel",
          "model_module_version": "1.5.0",
          "state": {
            "_model_module": "@jupyter-widgets/controls",
            "_model_module_version": "1.5.0",
            "_model_name": "ProgressStyleModel",
            "_view_count": null,
            "_view_module": "@jupyter-widgets/base",
            "_view_module_version": "1.2.0",
            "_view_name": "StyleView",
            "bar_color": null,
            "description_width": ""
          }
        },
        "e1e000bb427448afbd2b70c6ce7d3abf": {
          "model_module": "@jupyter-widgets/base",
          "model_name": "LayoutModel",
          "model_module_version": "1.2.0",
          "state": {
            "_model_module": "@jupyter-widgets/base",
            "_model_module_version": "1.2.0",
            "_model_name": "LayoutModel",
            "_view_count": null,
            "_view_module": "@jupyter-widgets/base",
            "_view_module_version": "1.2.0",
            "_view_name": "LayoutView",
            "align_content": null,
            "align_items": null,
            "align_self": null,
            "border": null,
            "bottom": null,
            "display": null,
            "flex": null,
            "flex_flow": null,
            "grid_area": null,
            "grid_auto_columns": null,
            "grid_auto_flow": null,
            "grid_auto_rows": null,
            "grid_column": null,
            "grid_gap": null,
            "grid_row": null,
            "grid_template_areas": null,
            "grid_template_columns": null,
            "grid_template_rows": null,
            "height": null,
            "justify_content": null,
            "justify_items": null,
            "left": null,
            "margin": null,
            "max_height": null,
            "max_width": null,
            "min_height": null,
            "min_width": null,
            "object_fit": null,
            "object_position": null,
            "order": null,
            "overflow": null,
            "overflow_x": null,
            "overflow_y": null,
            "padding": null,
            "right": null,
            "top": null,
            "visibility": null,
            "width": null
          }
        },
        "5d2c043f94b0473d811da5e27341be08": {
          "model_module": "@jupyter-widgets/controls",
          "model_name": "DescriptionStyleModel",
          "model_module_version": "1.5.0",
          "state": {
            "_model_module": "@jupyter-widgets/controls",
            "_model_module_version": "1.5.0",
            "_model_name": "DescriptionStyleModel",
            "_view_count": null,
            "_view_module": "@jupyter-widgets/base",
            "_view_module_version": "1.2.0",
            "_view_name": "StyleView",
            "description_width": ""
          }
        }
      }
    }
  },
  "nbformat": 4,
  "nbformat_minor": 0
}