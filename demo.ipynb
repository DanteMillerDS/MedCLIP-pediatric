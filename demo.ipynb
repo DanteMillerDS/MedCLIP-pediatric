{
  "cells": [
    {
      "cell_type": "code",
      "execution_count": 1,
      "metadata": {
        "colab": {
          "base_uri": "https://localhost:8080/"
        },
        "id": "NyK5zRwvHIK6",
        "outputId": "5ddefdc4-a476-47ce-bfda-944f9169b3cd"
      },
      "outputs": [
        {
          "name": "stdout",
          "output_type": "stream",
          "text": [
            "Cloning into 'MedCLIP-pediatric'...\n",
            "remote: Enumerating objects: 324, done.\u001b[K\n",
            "remote: Counting objects: 100% (51/51), done.\u001b[K\n",
            "remote: Compressing objects: 100% (31/31), done.\u001b[K\n",
            "remote: Total 324 (delta 32), reused 39 (delta 20), pack-reused 273\u001b[K\n",
            "Receiving objects: 100% (324/324), 59.65 KiB | 2.21 MiB/s, done.\n",
            "Resolving deltas: 100% (194/194), done.\n"
          ]
        }
      ],
      "source": [
        "!git clone https://github.com/DanteMillerDS/MedCLIP-pediatric.git"
      ]
    },
    {
      "cell_type": "code",
      "execution_count": 2,
      "metadata": {
        "colab": {
          "base_uri": "https://localhost:8080/"
        },
        "id": "OV264rRAK4wZ",
        "outputId": "191bf1af-6461-4366-f886-178506e07a84"
      },
      "outputs": [
        {
          "name": "stdout",
          "output_type": "stream",
          "text": [
            "Collecting git+https://github.com/openai/CLIP.git (from -r MedCLIP-pediatric/requirements.txt (line 4))\n",
            "  Cloning https://github.com/openai/CLIP.git to /tmp/pip-req-build-id843qv3\n",
            "  Running command git clone --filter=blob:none --quiet https://github.com/openai/CLIP.git /tmp/pip-req-build-id843qv3\n",
            "  Resolved https://github.com/openai/CLIP.git to commit a1d071733d7111c9c014f024669f959182114e33\n",
            "  Preparing metadata (setup.py) ... \u001b[?25l\u001b[?25hdone\n",
            "Collecting git+https://github.com/RyanWangZf/MedCLIP.git (from -r MedCLIP-pediatric/requirements.txt (line 5))\n",
            "  Cloning https://github.com/RyanWangZf/MedCLIP.git to /tmp/pip-req-build-q6bm3e6p\n",
            "  Running command git clone --filter=blob:none --quiet https://github.com/RyanWangZf/MedCLIP.git /tmp/pip-req-build-q6bm3e6p\n",
            "  Resolved https://github.com/RyanWangZf/MedCLIP.git to commit 9c3396f20d5d54e4fae241b8cb06ca45848e98c9\n",
            "  Preparing metadata (setup.py) ... \u001b[?25l\u001b[?25hdone\n",
            "Collecting ftfy (from -r MedCLIP-pediatric/requirements.txt (line 1))\n",
            "  Downloading ftfy-6.2.0-py3-none-any.whl (54 kB)\n",
            "\u001b[2K     \u001b[90m━━━━━━━━━━━━━━━━━━━━━━━━━━━━━━━━━━━━━━━━\u001b[0m \u001b[32m54.4/54.4 kB\u001b[0m \u001b[31m871.5 kB/s\u001b[0m eta \u001b[36m0:00:00\u001b[0m\n",
            "\u001b[?25hRequirement already satisfied: regex in /usr/local/lib/python3.10/dist-packages (from -r MedCLIP-pediatric/requirements.txt (line 2)) (2023.12.25)\n",
            "Requirement already satisfied: tqdm in /usr/local/lib/python3.10/dist-packages (from -r MedCLIP-pediatric/requirements.txt (line 3)) (4.66.2)\n",
            "Requirement already satisfied: wcwidth<0.3.0,>=0.2.12 in /usr/local/lib/python3.10/dist-packages (from ftfy->-r MedCLIP-pediatric/requirements.txt (line 1)) (0.2.13)\n",
            "Requirement already satisfied: torch in /usr/local/lib/python3.10/dist-packages (from clip==1.0->-r MedCLIP-pediatric/requirements.txt (line 4)) (2.2.1+cu121)\n",
            "Requirement already satisfied: torchvision in /usr/local/lib/python3.10/dist-packages (from clip==1.0->-r MedCLIP-pediatric/requirements.txt (line 4)) (0.17.1+cu121)\n",
            "Requirement already satisfied: numpy in /usr/local/lib/python3.10/dist-packages (from MedCLIP==0.0.3->-r MedCLIP-pediatric/requirements.txt (line 5)) (1.25.2)\n",
            "Requirement already satisfied: pandas in /usr/local/lib/python3.10/dist-packages (from MedCLIP==0.0.3->-r MedCLIP-pediatric/requirements.txt (line 5)) (1.5.3)\n",
            "Requirement already satisfied: Pillow in /usr/local/lib/python3.10/dist-packages (from MedCLIP==0.0.3->-r MedCLIP-pediatric/requirements.txt (line 5)) (9.4.0)\n",
            "Requirement already satisfied: requests in /usr/local/lib/python3.10/dist-packages (from MedCLIP==0.0.3->-r MedCLIP-pediatric/requirements.txt (line 5)) (2.31.0)\n",
            "Collecting wget (from MedCLIP==0.0.3->-r MedCLIP-pediatric/requirements.txt (line 5))\n",
            "  Downloading wget-3.2.zip (10 kB)\n",
            "  Preparing metadata (setup.py) ... \u001b[?25l\u001b[?25hdone\n",
            "Requirement already satisfied: nltk>=3.7 in /usr/local/lib/python3.10/dist-packages (from MedCLIP==0.0.3->-r MedCLIP-pediatric/requirements.txt (line 5)) (3.8.1)\n",
            "Requirement already satisfied: scikit_learn>=1.1.2 in /usr/local/lib/python3.10/dist-packages (from MedCLIP==0.0.3->-r MedCLIP-pediatric/requirements.txt (line 5)) (1.2.2)\n",
            "Collecting textaugment>=1.3.4 (from MedCLIP==0.0.3->-r MedCLIP-pediatric/requirements.txt (line 5))\n",
            "  Downloading textaugment-2.0.0-py3-none-any.whl (19 kB)\n",
            "Collecting timm>=0.6.11 (from MedCLIP==0.0.3->-r MedCLIP-pediatric/requirements.txt (line 5))\n",
            "  Downloading timm-0.9.16-py3-none-any.whl (2.2 MB)\n",
            "\u001b[2K     \u001b[90m━━━━━━━━━━━━━━━━━━━━━━━━━━━━━━━━━━━━━━━━\u001b[0m \u001b[32m2.2/2.2 MB\u001b[0m \u001b[31m12.5 MB/s\u001b[0m eta \u001b[36m0:00:00\u001b[0m\n",
            "\u001b[?25hCollecting transformers<=4.24.0,>=4.23.1 (from MedCLIP==0.0.3->-r MedCLIP-pediatric/requirements.txt (line 5))\n",
            "  Downloading transformers-4.24.0-py3-none-any.whl (5.5 MB)\n",
            "\u001b[2K     \u001b[90m━━━━━━━━━━━━━━━━━━━━━━━━━━━━━━━━━━━━━━━━\u001b[0m \u001b[32m5.5/5.5 MB\u001b[0m \u001b[31m50.1 MB/s\u001b[0m eta \u001b[36m0:00:00\u001b[0m\n",
            "\u001b[?25hRequirement already satisfied: click in /usr/local/lib/python3.10/dist-packages (from nltk>=3.7->MedCLIP==0.0.3->-r MedCLIP-pediatric/requirements.txt (line 5)) (8.1.7)\n",
            "Requirement already satisfied: joblib in /usr/local/lib/python3.10/dist-packages (from nltk>=3.7->MedCLIP==0.0.3->-r MedCLIP-pediatric/requirements.txt (line 5)) (1.3.2)\n",
            "Requirement already satisfied: scipy>=1.3.2 in /usr/local/lib/python3.10/dist-packages (from scikit_learn>=1.1.2->MedCLIP==0.0.3->-r MedCLIP-pediatric/requirements.txt (line 5)) (1.11.4)\n",
            "Requirement already satisfied: threadpoolctl>=2.0.0 in /usr/local/lib/python3.10/dist-packages (from scikit_learn>=1.1.2->MedCLIP==0.0.3->-r MedCLIP-pediatric/requirements.txt (line 5)) (3.4.0)\n",
            "Requirement already satisfied: gensim>=4.0 in /usr/local/lib/python3.10/dist-packages (from textaugment>=1.3.4->MedCLIP==0.0.3->-r MedCLIP-pediatric/requirements.txt (line 5)) (4.3.2)\n",
            "Requirement already satisfied: textblob in /usr/local/lib/python3.10/dist-packages (from textaugment>=1.3.4->MedCLIP==0.0.3->-r MedCLIP-pediatric/requirements.txt (line 5)) (0.17.1)\n",
            "Collecting googletrans>=2 (from textaugment>=1.3.4->MedCLIP==0.0.3->-r MedCLIP-pediatric/requirements.txt (line 5))\n",
            "  Downloading googletrans-3.0.0.tar.gz (17 kB)\n",
            "  Preparing metadata (setup.py) ... \u001b[?25l\u001b[?25hdone\n",
            "Requirement already satisfied: pyyaml in /usr/local/lib/python3.10/dist-packages (from timm>=0.6.11->MedCLIP==0.0.3->-r MedCLIP-pediatric/requirements.txt (line 5)) (6.0.1)\n",
            "Requirement already satisfied: huggingface_hub in /usr/local/lib/python3.10/dist-packages (from timm>=0.6.11->MedCLIP==0.0.3->-r MedCLIP-pediatric/requirements.txt (line 5)) (0.20.3)\n",
            "Requirement already satisfied: safetensors in /usr/local/lib/python3.10/dist-packages (from timm>=0.6.11->MedCLIP==0.0.3->-r MedCLIP-pediatric/requirements.txt (line 5)) (0.4.2)\n",
            "Requirement already satisfied: filelock in /usr/local/lib/python3.10/dist-packages (from torch->clip==1.0->-r MedCLIP-pediatric/requirements.txt (line 4)) (3.13.3)\n",
            "Requirement already satisfied: typing-extensions>=4.8.0 in /usr/local/lib/python3.10/dist-packages (from torch->clip==1.0->-r MedCLIP-pediatric/requirements.txt (line 4)) (4.10.0)\n",
            "Requirement already satisfied: sympy in /usr/local/lib/python3.10/dist-packages (from torch->clip==1.0->-r MedCLIP-pediatric/requirements.txt (line 4)) (1.12)\n",
            "Requirement already satisfied: networkx in /usr/local/lib/python3.10/dist-packages (from torch->clip==1.0->-r MedCLIP-pediatric/requirements.txt (line 4)) (3.2.1)\n",
            "Requirement already satisfied: jinja2 in /usr/local/lib/python3.10/dist-packages (from torch->clip==1.0->-r MedCLIP-pediatric/requirements.txt (line 4)) (3.1.3)\n",
            "Requirement already satisfied: fsspec in /usr/local/lib/python3.10/dist-packages (from torch->clip==1.0->-r MedCLIP-pediatric/requirements.txt (line 4)) (2023.6.0)\n",
            "Collecting nvidia-cuda-nvrtc-cu12==12.1.105 (from torch->clip==1.0->-r MedCLIP-pediatric/requirements.txt (line 4))\n",
            "  Downloading nvidia_cuda_nvrtc_cu12-12.1.105-py3-none-manylinux1_x86_64.whl (23.7 MB)\n",
            "\u001b[2K     \u001b[90m━━━━━━━━━━━━━━━━━━━━━━━━━━━━━━━━━━━━━━━━\u001b[0m \u001b[32m23.7/23.7 MB\u001b[0m \u001b[31m44.6 MB/s\u001b[0m eta \u001b[36m0:00:00\u001b[0m\n",
            "\u001b[?25hCollecting nvidia-cuda-runtime-cu12==12.1.105 (from torch->clip==1.0->-r MedCLIP-pediatric/requirements.txt (line 4))\n",
            "  Downloading nvidia_cuda_runtime_cu12-12.1.105-py3-none-manylinux1_x86_64.whl (823 kB)\n",
            "\u001b[2K     \u001b[90m━━━━━━━━━━━━━━━━━━━━━━━━━━━━━━━━━━━━━━━━\u001b[0m \u001b[32m823.6/823.6 kB\u001b[0m \u001b[31m57.4 MB/s\u001b[0m eta \u001b[36m0:00:00\u001b[0m\n",
            "\u001b[?25hCollecting nvidia-cuda-cupti-cu12==12.1.105 (from torch->clip==1.0->-r MedCLIP-pediatric/requirements.txt (line 4))\n",
            "  Downloading nvidia_cuda_cupti_cu12-12.1.105-py3-none-manylinux1_x86_64.whl (14.1 MB)\n",
            "\u001b[2K     \u001b[90m━━━━━━━━━━━━━━━━━━━━━━━━━━━━━━━━━━━━━━━━\u001b[0m \u001b[32m14.1/14.1 MB\u001b[0m \u001b[31m49.2 MB/s\u001b[0m eta \u001b[36m0:00:00\u001b[0m\n",
            "\u001b[?25hCollecting nvidia-cudnn-cu12==8.9.2.26 (from torch->clip==1.0->-r MedCLIP-pediatric/requirements.txt (line 4))\n",
            "  Downloading nvidia_cudnn_cu12-8.9.2.26-py3-none-manylinux1_x86_64.whl (731.7 MB)\n",
            "\u001b[2K     \u001b[90m━━━━━━━━━━━━━━━━━━━━━━━━━━━━━━━━━━━━━━━━\u001b[0m \u001b[32m731.7/731.7 MB\u001b[0m \u001b[31m1.3 MB/s\u001b[0m eta \u001b[36m0:00:00\u001b[0m\n",
            "\u001b[?25hCollecting nvidia-cublas-cu12==12.1.3.1 (from torch->clip==1.0->-r MedCLIP-pediatric/requirements.txt (line 4))\n",
            "  Downloading nvidia_cublas_cu12-12.1.3.1-py3-none-manylinux1_x86_64.whl (410.6 MB)\n",
            "\u001b[2K     \u001b[90m━━━━━━━━━━━━━━━━━━━━━━━━━━━━━━━━━━━━━━━━\u001b[0m \u001b[32m410.6/410.6 MB\u001b[0m \u001b[31m2.7 MB/s\u001b[0m eta \u001b[36m0:00:00\u001b[0m\n",
            "\u001b[?25hCollecting nvidia-cufft-cu12==11.0.2.54 (from torch->clip==1.0->-r MedCLIP-pediatric/requirements.txt (line 4))\n",
            "  Downloading nvidia_cufft_cu12-11.0.2.54-py3-none-manylinux1_x86_64.whl (121.6 MB)\n",
            "\u001b[2K     \u001b[90m━━━━━━━━━━━━━━━━━━━━━━━━━━━━━━━━━━━━━━━━\u001b[0m \u001b[32m121.6/121.6 MB\u001b[0m \u001b[31m2.3 MB/s\u001b[0m eta \u001b[36m0:00:00\u001b[0m\n",
            "\u001b[?25hCollecting nvidia-curand-cu12==10.3.2.106 (from torch->clip==1.0->-r MedCLIP-pediatric/requirements.txt (line 4))\n",
            "  Downloading nvidia_curand_cu12-10.3.2.106-py3-none-manylinux1_x86_64.whl (56.5 MB)\n",
            "\u001b[2K     \u001b[90m━━━━━━━━━━━━━━━━━━━━━━━━━━━━━━━━━━━━━━━━\u001b[0m \u001b[32m56.5/56.5 MB\u001b[0m \u001b[31m3.3 MB/s\u001b[0m eta \u001b[36m0:00:00\u001b[0m\n",
            "\u001b[?25hCollecting nvidia-cusolver-cu12==11.4.5.107 (from torch->clip==1.0->-r MedCLIP-pediatric/requirements.txt (line 4))\n",
            "  Downloading nvidia_cusolver_cu12-11.4.5.107-py3-none-manylinux1_x86_64.whl (124.2 MB)\n",
            "\u001b[2K     \u001b[90m━━━━━━━━━━━━━━━━━━━━━━━━━━━━━━━━━━━━━━━━\u001b[0m \u001b[32m124.2/124.2 MB\u001b[0m \u001b[31m1.6 MB/s\u001b[0m eta \u001b[36m0:00:00\u001b[0m\n",
            "\u001b[?25hCollecting nvidia-cusparse-cu12==12.1.0.106 (from torch->clip==1.0->-r MedCLIP-pediatric/requirements.txt (line 4))\n",
            "  Downloading nvidia_cusparse_cu12-12.1.0.106-py3-none-manylinux1_x86_64.whl (196.0 MB)\n",
            "\u001b[2K     \u001b[90m━━━━━━━━━━━━━━━━━━━━━━━━━━━━━━━━━━━━━━━━\u001b[0m \u001b[32m196.0/196.0 MB\u001b[0m \u001b[31m3.3 MB/s\u001b[0m eta \u001b[36m0:00:00\u001b[0m\n",
            "\u001b[?25hCollecting nvidia-nccl-cu12==2.19.3 (from torch->clip==1.0->-r MedCLIP-pediatric/requirements.txt (line 4))\n",
            "  Downloading nvidia_nccl_cu12-2.19.3-py3-none-manylinux1_x86_64.whl (166.0 MB)\n",
            "\u001b[2K     \u001b[90m━━━━━━━━━━━━━━━━━━━━━━━━━━━━━━━━━━━━━━━━\u001b[0m \u001b[32m166.0/166.0 MB\u001b[0m \u001b[31m2.8 MB/s\u001b[0m eta \u001b[36m0:00:00\u001b[0m\n",
            "\u001b[?25hCollecting nvidia-nvtx-cu12==12.1.105 (from torch->clip==1.0->-r MedCLIP-pediatric/requirements.txt (line 4))\n",
            "  Downloading nvidia_nvtx_cu12-12.1.105-py3-none-manylinux1_x86_64.whl (99 kB)\n",
            "\u001b[2K     \u001b[90m━━━━━━━━━━━━━━━━━━━━━━━━━━━━━━━━━━━━━━━━\u001b[0m \u001b[32m99.1/99.1 kB\u001b[0m \u001b[31m3.9 MB/s\u001b[0m eta \u001b[36m0:00:00\u001b[0m\n",
            "\u001b[?25hRequirement already satisfied: triton==2.2.0 in /usr/local/lib/python3.10/dist-packages (from torch->clip==1.0->-r MedCLIP-pediatric/requirements.txt (line 4)) (2.2.0)\n",
            "Collecting nvidia-nvjitlink-cu12 (from nvidia-cusolver-cu12==11.4.5.107->torch->clip==1.0->-r MedCLIP-pediatric/requirements.txt (line 4))\n",
            "  Downloading nvidia_nvjitlink_cu12-12.4.99-py3-none-manylinux2014_x86_64.whl (21.1 MB)\n",
            "\u001b[2K     \u001b[90m━━━━━━━━━━━━━━━━━━━━━━━━━━━━━━━━━━━━━━━━\u001b[0m \u001b[32m21.1/21.1 MB\u001b[0m \u001b[31m3.5 MB/s\u001b[0m eta \u001b[36m0:00:00\u001b[0m\n",
            "\u001b[?25hRequirement already satisfied: packaging>=20.0 in /usr/local/lib/python3.10/dist-packages (from transformers<=4.24.0,>=4.23.1->MedCLIP==0.0.3->-r MedCLIP-pediatric/requirements.txt (line 5)) (24.0)\n",
            "Collecting tokenizers!=0.11.3,<0.14,>=0.11.1 (from transformers<=4.24.0,>=4.23.1->MedCLIP==0.0.3->-r MedCLIP-pediatric/requirements.txt (line 5))\n",
            "  Downloading tokenizers-0.13.3-cp310-cp310-manylinux_2_17_x86_64.manylinux2014_x86_64.whl (7.8 MB)\n",
            "\u001b[2K     \u001b[90m━━━━━━━━━━━━━━━━━━━━━━━━━━━━━━━━━━━━━━━━\u001b[0m \u001b[32m7.8/7.8 MB\u001b[0m \u001b[31m3.1 MB/s\u001b[0m eta \u001b[36m0:00:00\u001b[0m\n",
            "\u001b[?25hRequirement already satisfied: python-dateutil>=2.8.1 in /usr/local/lib/python3.10/dist-packages (from pandas->MedCLIP==0.0.3->-r MedCLIP-pediatric/requirements.txt (line 5)) (2.8.2)\n",
            "Requirement already satisfied: pytz>=2020.1 in /usr/local/lib/python3.10/dist-packages (from pandas->MedCLIP==0.0.3->-r MedCLIP-pediatric/requirements.txt (line 5)) (2023.4)\n",
            "Requirement already satisfied: charset-normalizer<4,>=2 in /usr/local/lib/python3.10/dist-packages (from requests->MedCLIP==0.0.3->-r MedCLIP-pediatric/requirements.txt (line 5)) (3.3.2)\n",
            "Requirement already satisfied: idna<4,>=2.5 in /usr/local/lib/python3.10/dist-packages (from requests->MedCLIP==0.0.3->-r MedCLIP-pediatric/requirements.txt (line 5)) (3.6)\n",
            "Requirement already satisfied: urllib3<3,>=1.21.1 in /usr/local/lib/python3.10/dist-packages (from requests->MedCLIP==0.0.3->-r MedCLIP-pediatric/requirements.txt (line 5)) (2.0.7)\n",
            "Requirement already satisfied: certifi>=2017.4.17 in /usr/local/lib/python3.10/dist-packages (from requests->MedCLIP==0.0.3->-r MedCLIP-pediatric/requirements.txt (line 5)) (2024.2.2)\n",
            "Requirement already satisfied: smart-open>=1.8.1 in /usr/local/lib/python3.10/dist-packages (from gensim>=4.0->textaugment>=1.3.4->MedCLIP==0.0.3->-r MedCLIP-pediatric/requirements.txt (line 5)) (6.4.0)\n",
            "Collecting httpx==0.13.3 (from googletrans>=2->textaugment>=1.3.4->MedCLIP==0.0.3->-r MedCLIP-pediatric/requirements.txt (line 5))\n",
            "  Downloading httpx-0.13.3-py3-none-any.whl (55 kB)\n",
            "\u001b[2K     \u001b[90m━━━━━━━━━━━━━━━━━━━━━━━━━━━━━━━━━━━━━━━━\u001b[0m \u001b[32m55.1/55.1 kB\u001b[0m \u001b[31m2.4 MB/s\u001b[0m eta \u001b[36m0:00:00\u001b[0m\n",
            "\u001b[?25hCollecting hstspreload (from httpx==0.13.3->googletrans>=2->textaugment>=1.3.4->MedCLIP==0.0.3->-r MedCLIP-pediatric/requirements.txt (line 5))\n",
            "  Downloading hstspreload-2024.3.1-py3-none-any.whl (1.1 MB)\n",
            "\u001b[2K     \u001b[90m━━━━━━━━━━━━━━━━━━━━━━━━━━━━━━━━━━━━━━━━\u001b[0m \u001b[32m1.1/1.1 MB\u001b[0m \u001b[31m2.1 MB/s\u001b[0m eta \u001b[36m0:00:00\u001b[0m\n",
            "\u001b[?25hRequirement already satisfied: sniffio in /usr/local/lib/python3.10/dist-packages (from httpx==0.13.3->googletrans>=2->textaugment>=1.3.4->MedCLIP==0.0.3->-r MedCLIP-pediatric/requirements.txt (line 5)) (1.3.1)\n",
            "Collecting chardet==3.* (from httpx==0.13.3->googletrans>=2->textaugment>=1.3.4->MedCLIP==0.0.3->-r MedCLIP-pediatric/requirements.txt (line 5))\n",
            "  Downloading chardet-3.0.4-py2.py3-none-any.whl (133 kB)\n",
            "\u001b[2K     \u001b[90m━━━━━━━━━━━━━━━━━━━━━━━━━━━━━━━━━━━━━━━━\u001b[0m \u001b[32m133.4/133.4 kB\u001b[0m \u001b[31m2.0 MB/s\u001b[0m eta \u001b[36m0:00:00\u001b[0m\n",
            "\u001b[?25hCollecting idna<4,>=2.5 (from requests->MedCLIP==0.0.3->-r MedCLIP-pediatric/requirements.txt (line 5))\n",
            "  Downloading idna-2.10-py2.py3-none-any.whl (58 kB)\n",
            "\u001b[2K     \u001b[90m━━━━━━━━━━━━━━━━━━━━━━━━━━━━━━━━━━━━━━━━\u001b[0m \u001b[32m58.8/58.8 kB\u001b[0m \u001b[31m2.2 MB/s\u001b[0m eta \u001b[36m0:00:00\u001b[0m\n",
            "\u001b[?25hCollecting rfc3986<2,>=1.3 (from httpx==0.13.3->googletrans>=2->textaugment>=1.3.4->MedCLIP==0.0.3->-r MedCLIP-pediatric/requirements.txt (line 5))\n",
            "  Downloading rfc3986-1.5.0-py2.py3-none-any.whl (31 kB)\n",
            "Collecting httpcore==0.9.* (from httpx==0.13.3->googletrans>=2->textaugment>=1.3.4->MedCLIP==0.0.3->-r MedCLIP-pediatric/requirements.txt (line 5))\n",
            "  Downloading httpcore-0.9.1-py3-none-any.whl (42 kB)\n",
            "\u001b[2K     \u001b[90m━━━━━━━━━━━━━━━━━━━━━━━━━━━━━━━━━━━━━━━━\u001b[0m \u001b[32m42.6/42.6 kB\u001b[0m \u001b[31m2.1 MB/s\u001b[0m eta \u001b[36m0:00:00\u001b[0m\n",
            "\u001b[?25hCollecting h11<0.10,>=0.8 (from httpcore==0.9.*->httpx==0.13.3->googletrans>=2->textaugment>=1.3.4->MedCLIP==0.0.3->-r MedCLIP-pediatric/requirements.txt (line 5))\n",
            "  Downloading h11-0.9.0-py2.py3-none-any.whl (53 kB)\n",
            "\u001b[2K     \u001b[90m━━━━━━━━━━━━━━━━━━━━━━━━━━━━━━━━━━━━━━━━\u001b[0m \u001b[32m53.6/53.6 kB\u001b[0m \u001b[31m2.2 MB/s\u001b[0m eta \u001b[36m0:00:00\u001b[0m\n",
            "\u001b[?25hCollecting h2==3.* (from httpcore==0.9.*->httpx==0.13.3->googletrans>=2->textaugment>=1.3.4->MedCLIP==0.0.3->-r MedCLIP-pediatric/requirements.txt (line 5))\n",
            "  Downloading h2-3.2.0-py2.py3-none-any.whl (65 kB)\n",
            "\u001b[2K     \u001b[90m━━━━━━━━━━━━━━━━━━━━━━━━━━━━━━━━━━━━━━━━\u001b[0m \u001b[32m65.0/65.0 kB\u001b[0m \u001b[31m2.2 MB/s\u001b[0m eta \u001b[36m0:00:00\u001b[0m\n",
            "\u001b[?25hCollecting hyperframe<6,>=5.2.0 (from h2==3.*->httpcore==0.9.*->httpx==0.13.3->googletrans>=2->textaugment>=1.3.4->MedCLIP==0.0.3->-r MedCLIP-pediatric/requirements.txt (line 5))\n",
            "  Downloading hyperframe-5.2.0-py2.py3-none-any.whl (12 kB)\n",
            "Collecting hpack<4,>=3.0 (from h2==3.*->httpcore==0.9.*->httpx==0.13.3->googletrans>=2->textaugment>=1.3.4->MedCLIP==0.0.3->-r MedCLIP-pediatric/requirements.txt (line 5))\n",
            "  Downloading hpack-3.0.0-py2.py3-none-any.whl (38 kB)\n",
            "Requirement already satisfied: six>=1.5 in /usr/local/lib/python3.10/dist-packages (from python-dateutil>=2.8.1->pandas->MedCLIP==0.0.3->-r MedCLIP-pediatric/requirements.txt (line 5)) (1.16.0)\n",
            "Requirement already satisfied: MarkupSafe>=2.0 in /usr/local/lib/python3.10/dist-packages (from jinja2->torch->clip==1.0->-r MedCLIP-pediatric/requirements.txt (line 4)) (2.1.5)\n",
            "Requirement already satisfied: mpmath>=0.19 in /usr/local/lib/python3.10/dist-packages (from sympy->torch->clip==1.0->-r MedCLIP-pediatric/requirements.txt (line 4)) (1.3.0)\n",
            "Building wheels for collected packages: clip, MedCLIP, wget, googletrans\n",
            "  Building wheel for clip (setup.py) ... \u001b[?25l\u001b[?25hdone\n",
            "  Created wheel for clip: filename=clip-1.0-py3-none-any.whl size=1369499 sha256=965c3628683146928e8d761566593ecd8095e88775c652fedeeb73d65cde8db6\n",
            "  Stored in directory: /tmp/pip-ephem-wheel-cache-tj7z0rg1/wheels/da/2b/4c/d6691fa9597aac8bb85d2ac13b112deb897d5b50f5ad9a37e4\n",
            "  Building wheel for MedCLIP (setup.py) ... \u001b[?25l\u001b[?25hdone\n",
            "  Created wheel for MedCLIP: filename=MedCLIP-0.0.3-py3-none-any.whl size=28013 sha256=a4627b208d07d121849a95e3825d3158acf0cc8c7a7040b9e7bac22bd72b98fc\n",
            "  Stored in directory: /tmp/pip-ephem-wheel-cache-tj7z0rg1/wheels/d5/ed/0c/c230538eb930e829193f90161c97b1781f48f07e2c7ea66053\n",
            "  Building wheel for wget (setup.py) ... \u001b[?25l\u001b[?25hdone\n",
            "  Created wheel for wget: filename=wget-3.2-py3-none-any.whl size=9656 sha256=7b8e4efab0d4e18bc3add90d2c4fb49ebeaf038a366e2da6822d31f0fe041934\n",
            "  Stored in directory: /root/.cache/pip/wheels/8b/f1/7f/5c94f0a7a505ca1c81cd1d9208ae2064675d97582078e6c769\n",
            "  Building wheel for googletrans (setup.py) ... \u001b[?25l\u001b[?25hdone\n",
            "  Created wheel for googletrans: filename=googletrans-3.0.0-py3-none-any.whl size=15718 sha256=e1aba2edaf46a3d7fff5cfbf76e391cf2067d07d6e3cd8cc6d73febad630c051\n",
            "  Stored in directory: /root/.cache/pip/wheels/b3/81/ea/8b030407f8ebfc2f857814e086bb22ca2d4fea1a7be63652ab\n",
            "Successfully built clip MedCLIP wget googletrans\n",
            "Installing collected packages: wget, tokenizers, rfc3986, hyperframe, hpack, h11, chardet, nvidia-nvtx-cu12, nvidia-nvjitlink-cu12, nvidia-nccl-cu12, nvidia-curand-cu12, nvidia-cufft-cu12, nvidia-cuda-runtime-cu12, nvidia-cuda-nvrtc-cu12, nvidia-cuda-cupti-cu12, nvidia-cublas-cu12, idna, hstspreload, h2, ftfy, nvidia-cusparse-cu12, nvidia-cudnn-cu12, httpcore, nvidia-cusolver-cu12, httpx, transformers, googletrans, textaugment, timm, clip, MedCLIP\n",
            "  Attempting uninstall: tokenizers\n",
            "    Found existing installation: tokenizers 0.15.2\n",
            "    Uninstalling tokenizers-0.15.2:\n",
            "      Successfully uninstalled tokenizers-0.15.2\n",
            "  Attempting uninstall: chardet\n",
            "    Found existing installation: chardet 5.2.0\n",
            "    Uninstalling chardet-5.2.0:\n",
            "      Successfully uninstalled chardet-5.2.0\n",
            "  Attempting uninstall: idna\n",
            "    Found existing installation: idna 3.6\n",
            "    Uninstalling idna-3.6:\n",
            "      Successfully uninstalled idna-3.6\n",
            "  Attempting uninstall: transformers\n",
            "    Found existing installation: transformers 4.38.2\n",
            "    Uninstalling transformers-4.38.2:\n",
            "      Successfully uninstalled transformers-4.38.2\n",
            "Successfully installed MedCLIP-0.0.3 chardet-3.0.4 clip-1.0 ftfy-6.2.0 googletrans-3.0.0 h11-0.9.0 h2-3.2.0 hpack-3.0.0 hstspreload-2024.3.1 httpcore-0.9.1 httpx-0.13.3 hyperframe-5.2.0 idna-2.10 nvidia-cublas-cu12-12.1.3.1 nvidia-cuda-cupti-cu12-12.1.105 nvidia-cuda-nvrtc-cu12-12.1.105 nvidia-cuda-runtime-cu12-12.1.105 nvidia-cudnn-cu12-8.9.2.26 nvidia-cufft-cu12-11.0.2.54 nvidia-curand-cu12-10.3.2.106 nvidia-cusolver-cu12-11.4.5.107 nvidia-cusparse-cu12-12.1.0.106 nvidia-nccl-cu12-2.19.3 nvidia-nvjitlink-cu12-12.4.99 nvidia-nvtx-cu12-12.1.105 rfc3986-1.5.0 textaugment-2.0.0 timm-0.9.16 tokenizers-0.13.3 transformers-4.24.0 wget-3.2\n"
          ]
        }
      ],
      "source": [
        "!pip install -r MedCLIP-pediatric/requirements.txt"
      ]
    },
    {
      "cell_type": "code",
      "execution_count": 3,
      "metadata": {
        "colab": {
          "base_uri": "https://localhost:8080/",
          "height": 1000,
          "referenced_widgets": [
            "bea2315a8dd8465988f6cef83355a336",
            "afea45b6ede14ff5be800a314624a270",
            "1c7beddf2f9d46b48f75dbd886f042f3",
            "58ed5bbb8d754a1aa400218b997e2e49",
            "ad1213958e274b3c81db97bd69b44617",
            "fb8e1a7ba44c4823812b5bd110b72473",
            "a3beb6cee8204ca4a603206ce6177346",
            "67bc887de41440e6830e20a1ad291d84",
            "457e150fbe7f4a31ae50a22bb1c1c221",
            "f012fef890bd4b7494e096cad7faff4f",
            "12499662fcdc43da914aecba3caeaab7",
            "1f47baa926b247008a3a2eb885b08d1c",
            "bd561ba85f654d1f9cd9b6d5f025c36a",
            "a101ca3a54904130ba670cf2f1c12a27",
            "52aeb33b40774aec93dff3a0cfe88022",
            "47f1a7f908da4cd3b48e8fa1139e7735",
            "d273d1a108fd48b4a20512ba5caa5694",
            "b53d887f2be14ab0b5c4be090ede64da",
            "56343ea9ad8c448f9dc14a04d09a7649",
            "e97237c057c14d00886b36b3c5fcfd59",
            "905fcc6ae4724ff0a794b3c4afdf91a2",
            "4747959cfc9a4d5d9f0994229674afff"
          ]
        },
        "id": "tdzX2HwKHO60",
        "outputId": "1280344b-ca15-45ba-911b-34dadf50b810"
      },
      "outputs": [
        {
          "name": "stdout",
          "output_type": "stream",
          "text": [
            "Mounting Google Drive...\n",
            "Mounted at /content/drive\n",
            "Copying files from Google Drive...\n",
            "Extracting zip files...\n",
            "\n",
            "7-Zip [64] 16.02 : Copyright (c) 1999-2016 Igor Pavlov : 2016-05-21\n",
            "p7zip Version 16.02 (locale=en_US.UTF-8,Utf16=on,HugeFiles=on,64 bits,12 CPUs Intel(R) Xeon(R) CPU @ 2.20GHz (50657),ASM,AES-NI)\n",
            "\n",
            "Scanning the drive for archives:\n",
            "  0M Scan /content/\b\b\b\b\b\b\b\b\b\b\b\b\b\b\b\b\b\b\b                   \b\b\b\b\b\b\b\b\b\b\b\b\b\b\b\b\b\b\b1 file, 22471493 bytes (22 MiB)\n",
            "\n",
            "Extracting archive: /content/ucsd.zip\n",
            " 66% 4096 Open\b\b\b\b\b\b\b\b\b\b\b\b\b\b              \b\b\b\b\b\b\b\b\b\b\b\b\b\b--\n",
            "Path = /content/ucsd.zip\n",
            "Type = zip\n",
            "Physical Size = 22471493\n",
            "\n",
            "  0%\b\b\b\b    \b\b\b\b 22% 1414 - ucsd/Train/Positive/VIRUS-4241544-0003.jpeg\b\b\b\b\b\b\b\b\b\b\b\b\b\b\b\b\b\b\b\b\b\b\b\b\b\b\b\b\b\b\b\b\b\b\b\b\b\b\b\b\b\b\b\b\b\b\b\b\b\b\b\b\b\b\b                                                       \b\b\b\b\b\b\b\b\b\b\b\b\b\b\b\b\b\b\b\b\b\b\b\b\b\b\b\b\b\b\b\b\b\b\b\b\b\b\b\b\b\b\b\b\b\b\b\b\b\b\b\b\b\b\b 37% 2397 - __MACOSX/ucsd/Train/Positive/._VIRUS-8111843-0004.jpeg\b\b\b\b\b\b\b\b\b\b\b\b\b\b\b\b\b\b\b\b\b\b\b\b\b\b\b\b\b\b\b\b\b\b\b\b\b\b\b\b\b\b\b\b\b\b\b\b\b\b\b\b\b\b\b\b\b\b\b\b\b\b\b\b\b\b                                                                  \b\b\b\b\b\b\b\b\b\b\b\b\b\b\b\b\b\b\b\b\b\b\b\b\b\b\b\b\b\b\b\b\b\b\b\b\b\b\b\b\b\b\b\b\b\b\b\b\b\b\b\b\b\b\b\b\b\b\b\b\b\b\b\b\b\b 45% 2982 - ucsd/Train/Positive/VIRUS-8313249-0007.jpeg\b\b\b\b\b\b\b\b\b\b\b\b\b\b\b\b\b\b\b\b\b\b\b\b\b\b\b\b\b\b\b\b\b\b\b\b\b\b\b\b\b\b\b\b\b\b\b\b\b\b\b\b\b\b\b                                                       \b\b\b\b\b\b\b\b\b\b\b\b\b\b\b\b\b\b\b\b\b\b\b\b\b\b\b\b\b\b\b\b\b\b\b\b\b\b\b\b\b\b\b\b\b\b\b\b\b\b\b\b\b\b\b 62% 3965 - __MACOSX/ucsd/Train/Negative/._NORMAL-1014768-0001.jpeg\b\b\b\b\b\b\b\b\b\b\b\b\b\b\b\b\b\b\b\b\b\b\b\b\b\b\b\b\b\b\b\b\b\b\b\b\b\b\b\b\b\b\b\b\b\b\b\b\b\b\b\b\b\b\b\b\b\b\b\b\b\b\b\b\b\b\b                                                                   \b\b\b\b\b\b\b\b\b\b\b\b\b\b\b\b\b\b\b\b\b\b\b\b\b\b\b\b\b\b\b\b\b\b\b\b\b\b\b\b\b\b\b\b\b\b\b\b\b\b\b\b\b\b\b\b\b\b\b\b\b\b\b\b\b\b\b 74% 4661 - __MACOSX/ucsd/Train/Negative/._NORMAL-7955464-0003.jpeg\b\b\b\b\b\b\b\b\b\b\b\b\b\b\b\b\b\b\b\b\b\b\b\b\b\b\b\b\b\b\b\b\b\b\b\b\b\b\b\b\b\b\b\b\b\b\b\b\b\b\b\b\b\b\b\b\b\b\b\b\b\b\b\b\b\b\b                                                                   \b\b\b\b\b\b\b\b\b\b\b\b\b\b\b\b\b\b\b\b\b\b\b\b\b\b\b\b\b\b\b\b\b\b\b\b\b\b\b\b\b\b\b\b\b\b\b\b\b\b\b\b\b\b\b\b\b\b\b\b\b\b\b\b\b\b\b 83% 5166 - ucsd/Train/Negative/NORMAL-9867990-0001.jpeg\b\b\b\b\b\b\b\b\b\b\b\b\b\b\b\b\b\b\b\b\b\b\b\b\b\b\b\b\b\b\b\b\b\b\b\b\b\b\b\b\b\b\b\b\b\b\b\b\b\b\b\b\b\b\b\b                                                        \b\b\b\b\b\b\b\b\b\b\b\b\b\b\b\b\b\b\b\b\b\b\b\b\b\b\b\b\b\b\b\b\b\b\b\b\b\b\b\b\b\b\b\b\b\b\b\b\b\b\b\b\b\b\b\bEverything is Ok\n",
            "\n",
            "Folders: 10\n",
            "Files: 6162\n",
            "Size:       21151375\n",
            "Compressed: 22471493\n",
            "\n",
            "7-Zip [64] 16.02 : Copyright (c) 1999-2016 Igor Pavlov : 2016-05-21\n",
            "p7zip Version 16.02 (locale=en_US.UTF-8,Utf16=on,HugeFiles=on,64 bits,12 CPUs Intel(R) Xeon(R) CPU @ 2.20GHz (50657),ASM,AES-NI)\n",
            "\n",
            "Scanning the drive for archives:\n",
            "  0M Scan /content/\b\b\b\b\b\b\b\b\b\b\b\b\b\b\b\b\b\b\b                   \b\b\b\b\b\b\b\b\b\b\b\b\b\b\b\b\b\b\b1 file, 19842873 bytes (19 MiB)\n",
            "\n",
            "Extracting archive: /content/ori.zip\n",
            "--\n",
            "Path = /content/ori.zip\n",
            "Type = zip\n",
            "Physical Size = 19842873\n",
            "\n",
            "  0%\b\b\b\b    \b\b\b\b 78% 1321 - __MACOSX/ori/Train/Negative/._FGKFJPCZ2CDN.png\b\b\b\b\b\b\b\b\b\b\b\b\b\b\b\b\b\b\b\b\b\b\b\b\b\b\b\b\b\b\b\b\b\b\b\b\b\b\b\b\b\b\b\b\b\b\b\b\b\b\b\b\b\b\b\b\b\b                                                          \b\b\b\b\b\b\b\b\b\b\b\b\b\b\b\b\b\b\b\b\b\b\b\b\b\b\b\b\b\b\b\b\b\b\b\b\b\b\b\b\b\b\b\b\b\b\b\b\b\b\b\b\b\b\b\b\b\bEverything is Ok\n",
            "\n",
            "Folders: 10\n",
            "Files: 1662\n",
            "Size:       19522791\n",
            "Compressed: 19842873\n",
            "Files extracted successfully.\n"
          ]
        },
        {
          "name": "stderr",
          "output_type": "stream",
          "text": [
            "/usr/local/lib/python3.10/dist-packages/huggingface_hub/utils/_token.py:88: UserWarning: \n",
            "The secret `HF_TOKEN` does not exist in your Colab secrets.\n",
            "To authenticate with the Hugging Face Hub, create a token in your settings tab (https://huggingface.co/settings/tokens), set it as secret in your Google Colab and restart your session.\n",
            "You will be able to reuse this secret in all of your notebooks.\n",
            "Please note that authentication is recommended but still optional to access public models or datasets.\n",
            "  warnings.warn(\n"
          ]
        },
        {
          "data": {
            "application/vnd.jupyter.widget-view+json": {
              "model_id": "bea2315a8dd8465988f6cef83355a336",
              "version_major": 2,
              "version_minor": 0
            },
            "text/plain": [
              "config.json:   0%|          | 0.00/385 [00:00<?, ?B/s]"
            ]
          },
          "metadata": {},
          "output_type": "display_data"
        },
        {
          "data": {
            "application/vnd.jupyter.widget-view+json": {
              "model_id": "1f47baa926b247008a3a2eb885b08d1c",
              "version_major": 2,
              "version_minor": 0
            },
            "text/plain": [
              "vocab.txt:   0%|          | 0.00/213k [00:00<?, ?B/s]"
            ]
          },
          "metadata": {},
          "output_type": "display_data"
        },
        {
          "name": "stderr",
          "output_type": "stream",
          "text": [
            "100%|███████████████████████████████████████| 338M/338M [00:06<00:00, 54.7MiB/s]\n",
            "/usr/local/lib/python3.10/dist-packages/keras/src/preprocessing/image.py:766: UserWarning: NumpyArrayIterator is set to use the data format convention \"channels_last\" (channels on axis 3), i.e. expected either 1, 3, or 4 channels on axis 3. However, it was passed an array with shape (1967, 3, 224, 224) (224 channels).\n",
            "  warnings.warn(\n",
            "/usr/local/lib/python3.10/dist-packages/keras/src/preprocessing/image.py:766: UserWarning: NumpyArrayIterator is set to use the data format convention \"channels_last\" (channels on axis 3), i.e. expected either 1, 3, or 4 channels on axis 3. However, it was passed an array with shape (493, 3, 224, 224) (224 channels).\n",
            "  warnings.warn(\n",
            "/usr/local/lib/python3.10/dist-packages/keras/src/preprocessing/image.py:766: UserWarning: NumpyArrayIterator is set to use the data format convention \"channels_last\" (channels on axis 3), i.e. expected either 1, 3, or 4 channels on axis 3. However, it was passed an array with shape (616, 3, 224, 224) (224 channels).\n",
            "  warnings.warn(\n",
            "WARNING:matplotlib.image:Clipping input data to the valid range for imshow with RGB data ([0..1] for floats or [0..255] for integers).\n",
            "WARNING:matplotlib.image:Clipping input data to the valid range for imshow with RGB data ([0..1] for floats or [0..255] for integers).\n",
            "WARNING:matplotlib.image:Clipping input data to the valid range for imshow with RGB data ([0..1] for floats or [0..255] for integers).\n",
            "WARNING:matplotlib.image:Clipping input data to the valid range for imshow with RGB data ([0..1] for floats or [0..255] for integers).\n",
            "WARNING:matplotlib.image:Clipping input data to the valid range for imshow with RGB data ([0..1] for floats or [0..255] for integers).\n",
            "WARNING:matplotlib.image:Clipping input data to the valid range for imshow with RGB data ([0..1] for floats or [0..255] for integers).\n"
          ]
        },
        {
          "name": "stdout",
          "output_type": "stream",
          "text": [
            "Results saved to results/visualization/zero_shot/ucsd/clip/images/cxr_images.png\n",
            "NVIDIA library configured successfully.\n"
          ]
        },
        {
          "name": "stderr",
          "output_type": "stream",
          "text": [
            "Evaluate Train: 100%|██████████| 8/8 [00:02<00:00,  3.04it/s]\n",
            "Evaluate Validation: 100%|██████████| 2/2 [00:00<00:00,  7.27it/s]\n",
            "Evaluate Test: 100%|██████████| 3/3 [00:00<00:00,  8.55it/s]\n"
          ]
        },
        {
          "name": "stdout",
          "output_type": "stream",
          "text": [
            "\n",
            "Accuracy: 0.6765, Precision: 0.6976, Recall: 0.5887, AUC: 0.4647\n",
            "Results saved to results/zero_shot/ucsd/clip/classification_results.txt\n"
          ]
        },
        {
          "name": "stderr",
          "output_type": "stream",
          "text": [
            "/usr/local/lib/python3.10/dist-packages/keras/src/preprocessing/image.py:766: UserWarning: NumpyArrayIterator is set to use the data format convention \"channels_last\" (channels on axis 3), i.e. expected either 1, 3, or 4 channels on axis 3. However, it was passed an array with shape (526, 3, 224, 224) (224 channels).\n",
            "  warnings.warn(\n",
            "/usr/local/lib/python3.10/dist-packages/keras/src/preprocessing/image.py:766: UserWarning: NumpyArrayIterator is set to use the data format convention \"channels_last\" (channels on axis 3), i.e. expected either 1, 3, or 4 channels on axis 3. However, it was passed an array with shape (132, 3, 224, 224) (224 channels).\n",
            "  warnings.warn(\n",
            "/usr/local/lib/python3.10/dist-packages/keras/src/preprocessing/image.py:766: UserWarning: NumpyArrayIterator is set to use the data format convention \"channels_last\" (channels on axis 3), i.e. expected either 1, 3, or 4 channels on axis 3. However, it was passed an array with shape (165, 3, 224, 224) (224 channels).\n",
            "  warnings.warn(\n",
            "WARNING:matplotlib.image:Clipping input data to the valid range for imshow with RGB data ([0..1] for floats or [0..255] for integers).\n",
            "WARNING:matplotlib.image:Clipping input data to the valid range for imshow with RGB data ([0..1] for floats or [0..255] for integers).\n",
            "WARNING:matplotlib.image:Clipping input data to the valid range for imshow with RGB data ([0..1] for floats or [0..255] for integers).\n",
            "WARNING:matplotlib.image:Clipping input data to the valid range for imshow with RGB data ([0..1] for floats or [0..255] for integers).\n",
            "WARNING:matplotlib.image:Clipping input data to the valid range for imshow with RGB data ([0..1] for floats or [0..255] for integers).\n",
            "WARNING:matplotlib.image:Clipping input data to the valid range for imshow with RGB data ([0..1] for floats or [0..255] for integers).\n"
          ]
        },
        {
          "name": "stdout",
          "output_type": "stream",
          "text": [
            "Results saved to results/visualization/zero_shot/ori/clip/images/cxr_images.png\n",
            "NVIDIA library configured successfully.\n"
          ]
        },
        {
          "name": "stderr",
          "output_type": "stream",
          "text": [
            "Evaluate Train: 100%|██████████| 3/3 [00:01<00:00,  2.23it/s]\n",
            "Evaluate Validation: 100%|██████████| 1/1 [00:00<00:00, 12.68it/s]\n",
            "Evaluate Test: 100%|██████████| 1/1 [00:00<00:00, 10.34it/s]\n"
          ]
        },
        {
          "name": "stdout",
          "output_type": "stream",
          "text": [
            "\n",
            "Accuracy: 0.5747, Precision: 0.5622, Recall: 0.6040, AUC: 0.5154\n",
            "Results saved to results/zero_shot/ori/clip/classification_results.txt\n"
          ]
        },
        {
          "data": {
            "text/plain": [
              "<Figure size 640x480 with 0 Axes>"
            ]
          },
          "metadata": {},
          "output_type": "display_data"
        }
      ],
      "source": [
        "%run MedCLIP-pediatric/zs_clip_base.py"
      ]
    },
    {
      "cell_type": "code",
      "execution_count": 4,
      "metadata": {
        "colab": {
          "base_uri": "https://localhost:8080/",
          "height": 1000,
          "referenced_widgets": [
            "6824aa684b514b218541ba9925f3dfb7",
            "eddf6673e3c54fd6991cbae336a6ef2a",
            "d8ddbc8923ad41fdaa332d92c2ad6d86",
            "561769caf9d64b669b84e14c1180557e",
            "f47e4db611f643b78a62d1cf30202e54",
            "fa2fdaf9a2f74ef3b674cad94b38ae09",
            "2b2119168784442dbb11499f21f0c490",
            "13456fd82a614fe5a021f3bb06acfac6",
            "f57e3f0572474ab4a2925aac7bd916d5",
            "b39ec70fcb5f46fda4357c8e16414de7",
            "3fce5bb9dc5f4040a6553b5afc573291",
            "955548a77f5c457dba02f7538226f992",
            "45975b8f9e034c45b286ce68c3a7a71e",
            "5a3ce015245846f0a78ab49cdbd3724e",
            "bd59de3e5d4a42d9b0d72973175caaf6",
            "21cf8a13148141368953eadfda10cd52",
            "8f3e9bcff5784de7872ab6a9d0318444",
            "fe0d2725ef52458eab9710db5106290a",
            "a79cab0f18744824bc4bd8f0f2300d02",
            "cc9b616026bc4be0af7ddc4a97d6cacf",
            "16f8a99d20574fa08305c58fd9fe45ac",
            "1e445c167b344080ae63f7f42f662563",
            "6213bbc6538a47acb4bc6d668f622642",
            "14ce94ae708b40bab00dbe0308eb77a3",
            "122459795afa4a579e86164b2e93a4c7",
            "c184769edf1b4e4fbad3bed3226137d4",
            "8b9c4a79318b4c24955814d0a10c404d",
            "d4fbeff048104329a575905c4a73628e",
            "ca9a8d267d9c41f29abc59406f1681f5",
            "9233be22c5b9498f93bc4385196381cd",
            "d3e43dcbad9b4304917ebc8857f2e3a8",
            "fc744a9883a44f40ac0d78d8b0fd07fa",
            "2a6314d870cd4019a84f2536990be4ed"
          ]
        },
        "id": "FzCs7t8nErwu",
        "outputId": "74df0e95-fbbc-4565-b33c-211d26303767"
      },
      "outputs": [
        {
          "name": "stdout",
          "output_type": "stream",
          "text": [
            "Google Drive is already mounted.\n"
          ]
        },
        {
          "name": "stderr",
          "output_type": "stream",
          "text": [
            "/usr/local/lib/python3.10/dist-packages/keras/src/preprocessing/image.py:766: UserWarning: NumpyArrayIterator is set to use the data format convention \"channels_last\" (channels on axis 3), i.e. expected either 1, 3, or 4 channels on axis 3. However, it was passed an array with shape (1967, 1, 224, 224) (224 channels).\n",
            "  warnings.warn(\n",
            "/usr/local/lib/python3.10/dist-packages/keras/src/preprocessing/image.py:766: UserWarning: NumpyArrayIterator is set to use the data format convention \"channels_last\" (channels on axis 3), i.e. expected either 1, 3, or 4 channels on axis 3. However, it was passed an array with shape (493, 1, 224, 224) (224 channels).\n",
            "  warnings.warn(\n",
            "/usr/local/lib/python3.10/dist-packages/keras/src/preprocessing/image.py:766: UserWarning: NumpyArrayIterator is set to use the data format convention \"channels_last\" (channels on axis 3), i.e. expected either 1, 3, or 4 channels on axis 3. However, it was passed an array with shape (616, 1, 224, 224) (224 channels).\n",
            "  warnings.warn(\n"
          ]
        },
        {
          "name": "stdout",
          "output_type": "stream",
          "text": [
            "Results saved to results/visualization/zero_shot/ucsd/medclip/images/cxr_images.png\n",
            "NVIDIA library configured successfully.\n"
          ]
        },
        {
          "data": {
            "application/vnd.jupyter.widget-view+json": {
              "model_id": "6824aa684b514b218541ba9925f3dfb7",
              "version_major": 2,
              "version_minor": 0
            },
            "text/plain": [
              "config.json:   0%|          | 0.00/71.8k [00:00<?, ?B/s]"
            ]
          },
          "metadata": {},
          "output_type": "display_data"
        },
        {
          "data": {
            "application/vnd.jupyter.widget-view+json": {
              "model_id": "955548a77f5c457dba02f7538226f992",
              "version_major": 2,
              "version_minor": 0
            },
            "text/plain": [
              "model.safetensors:   0%|          | 0.00/113M [00:00<?, ?B/s]"
            ]
          },
          "metadata": {},
          "output_type": "display_data"
        },
        {
          "name": "stderr",
          "output_type": "stream",
          "text": [
            "/usr/local/lib/python3.10/dist-packages/torch/functional.py:507: UserWarning: torch.meshgrid: in an upcoming release, it will be required to pass the indexing argument. (Triggered internally at ../aten/src/ATen/native/TensorShape.cpp:3549.)\n",
            "  return _VF.meshgrid(tensors, **kwargs)  # type: ignore[attr-defined]\n",
            "Some weights of the model checkpoint at microsoft/swin-tiny-patch4-window7-224 were not used when initializing SwinModel: ['classifier.weight', 'classifier.bias']\n",
            "- This IS expected if you are initializing SwinModel from the checkpoint of a model trained on another task or with another architecture (e.g. initializing a BertForSequenceClassification model from a BertForPreTraining model).\n",
            "- This IS NOT expected if you are initializing SwinModel from the checkpoint of a model that you expect to be exactly identical (initializing a BertForSequenceClassification model from a BertForSequenceClassification model).\n"
          ]
        },
        {
          "data": {
            "application/vnd.jupyter.widget-view+json": {
              "model_id": "6213bbc6538a47acb4bc6d668f622642",
              "version_major": 2,
              "version_minor": 0
            },
            "text/plain": [
              "pytorch_model.bin:   0%|          | 0.00/436M [00:00<?, ?B/s]"
            ]
          },
          "metadata": {},
          "output_type": "display_data"
        },
        {
          "name": "stderr",
          "output_type": "stream",
          "text": [
            "Some weights of the model checkpoint at emilyalsentzer/Bio_ClinicalBERT were not used when initializing BertModel: ['cls.predictions.transform.LayerNorm.weight', 'cls.predictions.decoder.weight', 'cls.seq_relationship.weight', 'cls.seq_relationship.bias', 'cls.predictions.bias', 'cls.predictions.transform.dense.weight', 'cls.predictions.transform.dense.bias', 'cls.predictions.transform.LayerNorm.bias']\n",
            "- This IS expected if you are initializing BertModel from the checkpoint of a model trained on another task or with another architecture (e.g. initializing a BertForSequenceClassification model from a BertForPreTraining model).\n",
            "- This IS NOT expected if you are initializing BertModel from the checkpoint of a model that you expect to be exactly identical (initializing a BertForSequenceClassification model from a BertForSequenceClassification model).\n"
          ]
        },
        {
          "name": "stdout",
          "output_type": "stream",
          "text": [
            "\n",
            " Download pretrained model from: https://storage.googleapis.com/pytrial/medclip-vit-pretrained.zip\n",
            "load model weight from: ./pretrained/medclip-vit\n"
          ]
        },
        {
          "name": "stderr",
          "output_type": "stream",
          "text": [
            "\rEvaluate Train:   0%|          | 0/8 [00:00<?, ?it/s]"
          ]
        },
        {
          "name": "stdout",
          "output_type": "stream",
          "text": [
            "sample 1 num of prompts for COVID from total 12\n"
          ]
        },
        {
          "name": "stderr",
          "output_type": "stream",
          "text": [
            "\rEvaluate Train:  12%|█▎        | 1/8 [00:00<00:04,  1.45it/s]"
          ]
        },
        {
          "name": "stdout",
          "output_type": "stream",
          "text": [
            "sample 1 num of prompts for COVID from total 12\n"
          ]
        },
        {
          "name": "stderr",
          "output_type": "stream",
          "text": [
            "\rEvaluate Train:  25%|██▌       | 2/8 [00:01<00:04,  1.39it/s]"
          ]
        },
        {
          "name": "stdout",
          "output_type": "stream",
          "text": [
            "sample 1 num of prompts for COVID from total 12\n"
          ]
        },
        {
          "name": "stderr",
          "output_type": "stream",
          "text": [
            "\rEvaluate Train:  38%|███▊      | 3/8 [00:01<00:03,  1.61it/s]"
          ]
        },
        {
          "name": "stdout",
          "output_type": "stream",
          "text": [
            "sample 1 num of prompts for COVID from total 12\n"
          ]
        },
        {
          "name": "stderr",
          "output_type": "stream",
          "text": [
            "\rEvaluate Train:  50%|█████     | 4/8 [00:03<00:03,  1.23it/s]"
          ]
        },
        {
          "name": "stdout",
          "output_type": "stream",
          "text": [
            "sample 1 num of prompts for COVID from total 12\n"
          ]
        },
        {
          "name": "stderr",
          "output_type": "stream",
          "text": [
            "\rEvaluate Train:  62%|██████▎   | 5/8 [00:03<00:02,  1.27it/s]"
          ]
        },
        {
          "name": "stdout",
          "output_type": "stream",
          "text": [
            "sample 1 num of prompts for COVID from total 12\n"
          ]
        },
        {
          "name": "stderr",
          "output_type": "stream",
          "text": [
            "\rEvaluate Train:  75%|███████▌  | 6/8 [00:04<00:01,  1.33it/s]"
          ]
        },
        {
          "name": "stdout",
          "output_type": "stream",
          "text": [
            "sample 1 num of prompts for COVID from total 12\n"
          ]
        },
        {
          "name": "stderr",
          "output_type": "stream",
          "text": [
            "\rEvaluate Train:  88%|████████▊ | 7/8 [00:04<00:00,  1.49it/s]"
          ]
        },
        {
          "name": "stdout",
          "output_type": "stream",
          "text": [
            "sample 1 num of prompts for COVID from total 12\n"
          ]
        },
        {
          "name": "stderr",
          "output_type": "stream",
          "text": [
            "Evaluate Train: 100%|██████████| 8/8 [00:05<00:00,  1.47it/s]\n",
            "Evaluate Validation:   0%|          | 0/2 [00:00<?, ?it/s]"
          ]
        },
        {
          "name": "stdout",
          "output_type": "stream",
          "text": [
            "sample 1 num of prompts for COVID from total 12\n"
          ]
        },
        {
          "name": "stderr",
          "output_type": "stream",
          "text": [
            "\rEvaluate Validation:  50%|█████     | 1/2 [00:00<00:00,  1.99it/s]"
          ]
        },
        {
          "name": "stdout",
          "output_type": "stream",
          "text": [
            "sample 1 num of prompts for COVID from total 12\n"
          ]
        },
        {
          "name": "stderr",
          "output_type": "stream",
          "text": [
            "Evaluate Validation: 100%|██████████| 2/2 [00:02<00:00,  1.03s/it]\n",
            "Evaluate Test:   0%|          | 0/3 [00:00<?, ?it/s]"
          ]
        },
        {
          "name": "stdout",
          "output_type": "stream",
          "text": [
            "sample 1 num of prompts for COVID from total 12\n"
          ]
        },
        {
          "name": "stderr",
          "output_type": "stream",
          "text": [
            "\rEvaluate Test:  33%|███▎      | 1/3 [00:00<00:01,  2.00it/s]"
          ]
        },
        {
          "name": "stdout",
          "output_type": "stream",
          "text": [
            "sample 1 num of prompts for COVID from total 12\n"
          ]
        },
        {
          "name": "stderr",
          "output_type": "stream",
          "text": [
            "\rEvaluate Test:  67%|██████▋   | 2/3 [00:01<00:00,  1.97it/s]"
          ]
        },
        {
          "name": "stdout",
          "output_type": "stream",
          "text": [
            "sample 1 num of prompts for COVID from total 12\n"
          ]
        },
        {
          "name": "stderr",
          "output_type": "stream",
          "text": [
            "Evaluate Test: 100%|██████████| 3/3 [00:02<00:00,  1.45it/s]\n"
          ]
        },
        {
          "name": "stdout",
          "output_type": "stream",
          "text": [
            "\n",
            "Accuracy: 0.6704, Precision: 0.7175, Recall: 0.5291, AUC: 0.7689\n"
          ]
        },
        {
          "name": "stderr",
          "output_type": "stream",
          "text": [
            "\rEvaluate Train:   0%|          | 0/8 [00:00<?, ?it/s]"
          ]
        },
        {
          "name": "stdout",
          "output_type": "stream",
          "text": [
            "sample 2 num of prompts for COVID from total 12\n"
          ]
        },
        {
          "name": "stderr",
          "output_type": "stream",
          "text": [
            "\rEvaluate Train:  12%|█▎        | 1/8 [00:00<00:03,  1.97it/s]"
          ]
        },
        {
          "name": "stdout",
          "output_type": "stream",
          "text": [
            "sample 2 num of prompts for COVID from total 12\n"
          ]
        },
        {
          "name": "stderr",
          "output_type": "stream",
          "text": [
            "\rEvaluate Train:  25%|██▌       | 2/8 [00:01<00:03,  1.96it/s]"
          ]
        },
        {
          "name": "stdout",
          "output_type": "stream",
          "text": [
            "sample 2 num of prompts for COVID from total 12\n"
          ]
        },
        {
          "name": "stderr",
          "output_type": "stream",
          "text": [
            "\rEvaluate Train:  38%|███▊      | 3/8 [00:01<00:03,  1.62it/s]"
          ]
        },
        {
          "name": "stdout",
          "output_type": "stream",
          "text": [
            "sample 2 num of prompts for COVID from total 12\n"
          ]
        },
        {
          "name": "stderr",
          "output_type": "stream",
          "text": [
            "\rEvaluate Train:  50%|█████     | 4/8 [00:02<00:02,  1.39it/s]"
          ]
        },
        {
          "name": "stdout",
          "output_type": "stream",
          "text": [
            "sample 2 num of prompts for COVID from total 12\n"
          ]
        },
        {
          "name": "stderr",
          "output_type": "stream",
          "text": [
            "\rEvaluate Train:  62%|██████▎   | 5/8 [00:03<00:02,  1.34it/s]"
          ]
        },
        {
          "name": "stdout",
          "output_type": "stream",
          "text": [
            "sample 2 num of prompts for COVID from total 12\n"
          ]
        },
        {
          "name": "stderr",
          "output_type": "stream",
          "text": [
            "\rEvaluate Train:  75%|███████▌  | 6/8 [00:04<00:01,  1.22it/s]"
          ]
        },
        {
          "name": "stdout",
          "output_type": "stream",
          "text": [
            "sample 2 num of prompts for COVID from total 12\n"
          ]
        },
        {
          "name": "stderr",
          "output_type": "stream",
          "text": [
            "\rEvaluate Train:  88%|████████▊ | 7/8 [00:04<00:00,  1.38it/s]"
          ]
        },
        {
          "name": "stdout",
          "output_type": "stream",
          "text": [
            "sample 2 num of prompts for COVID from total 12\n"
          ]
        },
        {
          "name": "stderr",
          "output_type": "stream",
          "text": [
            "Evaluate Train: 100%|██████████| 8/8 [00:05<00:00,  1.35it/s]\n",
            "Evaluate Validation:   0%|          | 0/2 [00:00<?, ?it/s]"
          ]
        },
        {
          "name": "stdout",
          "output_type": "stream",
          "text": [
            "sample 2 num of prompts for COVID from total 12\n"
          ]
        },
        {
          "name": "stderr",
          "output_type": "stream",
          "text": [
            "\rEvaluate Validation:  50%|█████     | 1/2 [00:00<00:00,  1.37it/s]"
          ]
        },
        {
          "name": "stdout",
          "output_type": "stream",
          "text": [
            "sample 2 num of prompts for COVID from total 12\n"
          ]
        },
        {
          "name": "stderr",
          "output_type": "stream",
          "text": [
            "Evaluate Validation: 100%|██████████| 2/2 [00:01<00:00,  1.46it/s]\n",
            "Evaluate Test:   0%|          | 0/3 [00:00<?, ?it/s]"
          ]
        },
        {
          "name": "stdout",
          "output_type": "stream",
          "text": [
            "sample 2 num of prompts for COVID from total 12\n"
          ]
        },
        {
          "name": "stderr",
          "output_type": "stream",
          "text": [
            "\rEvaluate Test:  33%|███▎      | 1/3 [00:00<00:01,  1.99it/s]"
          ]
        },
        {
          "name": "stdout",
          "output_type": "stream",
          "text": [
            "sample 2 num of prompts for COVID from total 12\n"
          ]
        },
        {
          "name": "stderr",
          "output_type": "stream",
          "text": [
            "\rEvaluate Test:  67%|██████▋   | 2/3 [00:01<00:00,  1.94it/s]"
          ]
        },
        {
          "name": "stdout",
          "output_type": "stream",
          "text": [
            "sample 2 num of prompts for COVID from total 12\n"
          ]
        },
        {
          "name": "stderr",
          "output_type": "stream",
          "text": [
            "Evaluate Test: 100%|██████████| 3/3 [00:02<00:00,  1.49it/s]\n"
          ]
        },
        {
          "name": "stdout",
          "output_type": "stream",
          "text": [
            "\n",
            "Accuracy: 0.7172, Precision: 0.6884, Recall: 0.7622, AUC: 0.8049\n"
          ]
        },
        {
          "name": "stderr",
          "output_type": "stream",
          "text": [
            "\rEvaluate Train:   0%|          | 0/8 [00:00<?, ?it/s]"
          ]
        },
        {
          "name": "stdout",
          "output_type": "stream",
          "text": [
            "sample 3 num of prompts for COVID from total 12\n"
          ]
        },
        {
          "name": "stderr",
          "output_type": "stream",
          "text": [
            "\rEvaluate Train:  12%|█▎        | 1/8 [00:00<00:03,  1.87it/s]"
          ]
        },
        {
          "name": "stdout",
          "output_type": "stream",
          "text": [
            "sample 3 num of prompts for COVID from total 12\n"
          ]
        },
        {
          "name": "stderr",
          "output_type": "stream",
          "text": [
            "\rEvaluate Train:  25%|██▌       | 2/8 [00:01<00:03,  1.94it/s]"
          ]
        },
        {
          "name": "stdout",
          "output_type": "stream",
          "text": [
            "sample 3 num of prompts for COVID from total 12\n"
          ]
        },
        {
          "name": "stderr",
          "output_type": "stream",
          "text": [
            "\rEvaluate Train:  38%|███▊      | 3/8 [00:01<00:02,  1.95it/s]"
          ]
        },
        {
          "name": "stdout",
          "output_type": "stream",
          "text": [
            "sample 3 num of prompts for COVID from total 12\n"
          ]
        },
        {
          "name": "stderr",
          "output_type": "stream",
          "text": [
            "\rEvaluate Train:  50%|█████     | 4/8 [00:02<00:02,  1.93it/s]"
          ]
        },
        {
          "name": "stdout",
          "output_type": "stream",
          "text": [
            "sample 3 num of prompts for COVID from total 12\n"
          ]
        },
        {
          "name": "stderr",
          "output_type": "stream",
          "text": [
            "\rEvaluate Train:  62%|██████▎   | 5/8 [00:03<00:02,  1.42it/s]"
          ]
        },
        {
          "name": "stdout",
          "output_type": "stream",
          "text": [
            "sample 3 num of prompts for COVID from total 12\n"
          ]
        },
        {
          "name": "stderr",
          "output_type": "stream",
          "text": [
            "\rEvaluate Train:  75%|███████▌  | 6/8 [00:03<00:01,  1.50it/s]"
          ]
        },
        {
          "name": "stdout",
          "output_type": "stream",
          "text": [
            "sample 3 num of prompts for COVID from total 12\n"
          ]
        },
        {
          "name": "stderr",
          "output_type": "stream",
          "text": [
            "\rEvaluate Train:  88%|████████▊ | 7/8 [00:04<00:00,  1.46it/s]"
          ]
        },
        {
          "name": "stdout",
          "output_type": "stream",
          "text": [
            "sample 3 num of prompts for COVID from total 12\n"
          ]
        },
        {
          "name": "stderr",
          "output_type": "stream",
          "text": [
            "Evaluate Train: 100%|██████████| 8/8 [00:05<00:00,  1.44it/s]\n",
            "Evaluate Validation:   0%|          | 0/2 [00:00<?, ?it/s]"
          ]
        },
        {
          "name": "stdout",
          "output_type": "stream",
          "text": [
            "sample 3 num of prompts for COVID from total 12\n"
          ]
        },
        {
          "name": "stderr",
          "output_type": "stream",
          "text": [
            "\rEvaluate Validation:  50%|█████     | 1/2 [00:00<00:00,  1.76it/s]"
          ]
        },
        {
          "name": "stdout",
          "output_type": "stream",
          "text": [
            "sample 3 num of prompts for COVID from total 12\n"
          ]
        },
        {
          "name": "stderr",
          "output_type": "stream",
          "text": [
            "Evaluate Validation: 100%|██████████| 2/2 [00:01<00:00,  1.46it/s]\n",
            "Evaluate Test:   0%|          | 0/3 [00:00<?, ?it/s]"
          ]
        },
        {
          "name": "stdout",
          "output_type": "stream",
          "text": [
            "sample 3 num of prompts for COVID from total 12\n"
          ]
        },
        {
          "name": "stderr",
          "output_type": "stream",
          "text": [
            "\rEvaluate Test:  33%|███▎      | 1/3 [00:00<00:01,  1.88it/s]"
          ]
        },
        {
          "name": "stdout",
          "output_type": "stream",
          "text": [
            "sample 3 num of prompts for COVID from total 12\n"
          ]
        },
        {
          "name": "stderr",
          "output_type": "stream",
          "text": [
            "\rEvaluate Test:  67%|██████▋   | 2/3 [00:01<00:00,  1.89it/s]"
          ]
        },
        {
          "name": "stdout",
          "output_type": "stream",
          "text": [
            "sample 3 num of prompts for COVID from total 12\n"
          ]
        },
        {
          "name": "stderr",
          "output_type": "stream",
          "text": [
            "Evaluate Test: 100%|██████████| 3/3 [00:02<00:00,  1.16it/s]\n"
          ]
        },
        {
          "name": "stdout",
          "output_type": "stream",
          "text": [
            "\n",
            "Accuracy: 0.7503, Precision: 0.6801, Recall: 0.9169, AUC: 0.8591\n"
          ]
        },
        {
          "name": "stderr",
          "output_type": "stream",
          "text": [
            "\rEvaluate Train:   0%|          | 0/8 [00:00<?, ?it/s]"
          ]
        },
        {
          "name": "stdout",
          "output_type": "stream",
          "text": [
            "sample 4 num of prompts for COVID from total 12\n"
          ]
        },
        {
          "name": "stderr",
          "output_type": "stream",
          "text": [
            "\rEvaluate Train:  12%|█▎        | 1/8 [00:00<00:03,  1.82it/s]"
          ]
        },
        {
          "name": "stdout",
          "output_type": "stream",
          "text": [
            "sample 4 num of prompts for COVID from total 12\n"
          ]
        },
        {
          "name": "stderr",
          "output_type": "stream",
          "text": [
            "\rEvaluate Train:  25%|██▌       | 2/8 [00:01<00:03,  1.59it/s]"
          ]
        },
        {
          "name": "stdout",
          "output_type": "stream",
          "text": [
            "sample 4 num of prompts for COVID from total 12\n"
          ]
        },
        {
          "name": "stderr",
          "output_type": "stream",
          "text": [
            "\rEvaluate Train:  38%|███▊      | 3/8 [00:02<00:03,  1.44it/s]"
          ]
        },
        {
          "name": "stdout",
          "output_type": "stream",
          "text": [
            "sample 4 num of prompts for COVID from total 12\n"
          ]
        },
        {
          "name": "stderr",
          "output_type": "stream",
          "text": [
            "\rEvaluate Train:  50%|█████     | 4/8 [00:02<00:02,  1.61it/s]"
          ]
        },
        {
          "name": "stdout",
          "output_type": "stream",
          "text": [
            "sample 4 num of prompts for COVID from total 12\n"
          ]
        },
        {
          "name": "stderr",
          "output_type": "stream",
          "text": [
            "\rEvaluate Train:  62%|██████▎   | 5/8 [00:03<00:01,  1.72it/s]"
          ]
        },
        {
          "name": "stdout",
          "output_type": "stream",
          "text": [
            "sample 4 num of prompts for COVID from total 12\n"
          ]
        },
        {
          "name": "stderr",
          "output_type": "stream",
          "text": [
            "\rEvaluate Train:  75%|███████▌  | 6/8 [00:03<00:01,  1.80it/s]"
          ]
        },
        {
          "name": "stdout",
          "output_type": "stream",
          "text": [
            "sample 4 num of prompts for COVID from total 12\n"
          ]
        },
        {
          "name": "stderr",
          "output_type": "stream",
          "text": [
            "\rEvaluate Train:  88%|████████▊ | 7/8 [00:04<00:00,  1.86it/s]"
          ]
        },
        {
          "name": "stdout",
          "output_type": "stream",
          "text": [
            "sample 4 num of prompts for COVID from total 12\n"
          ]
        },
        {
          "name": "stderr",
          "output_type": "stream",
          "text": [
            "Evaluate Train: 100%|██████████| 8/8 [00:05<00:00,  1.60it/s]\n",
            "Evaluate Validation:   0%|          | 0/2 [00:00<?, ?it/s]"
          ]
        },
        {
          "name": "stdout",
          "output_type": "stream",
          "text": [
            "sample 4 num of prompts for COVID from total 12\n"
          ]
        },
        {
          "name": "stderr",
          "output_type": "stream",
          "text": [
            "\rEvaluate Validation:  50%|█████     | 1/2 [00:00<00:00,  2.00it/s]"
          ]
        },
        {
          "name": "stdout",
          "output_type": "stream",
          "text": [
            "sample 4 num of prompts for COVID from total 12\n"
          ]
        },
        {
          "name": "stderr",
          "output_type": "stream",
          "text": [
            "Evaluate Validation: 100%|██████████| 2/2 [00:01<00:00,  1.41it/s]\n",
            "Evaluate Test:   0%|          | 0/3 [00:00<?, ?it/s]"
          ]
        },
        {
          "name": "stdout",
          "output_type": "stream",
          "text": [
            "sample 4 num of prompts for COVID from total 12\n"
          ]
        },
        {
          "name": "stderr",
          "output_type": "stream",
          "text": [
            "\rEvaluate Test:  33%|███▎      | 1/3 [00:00<00:00,  2.00it/s]"
          ]
        },
        {
          "name": "stdout",
          "output_type": "stream",
          "text": [
            "sample 4 num of prompts for COVID from total 12\n"
          ]
        },
        {
          "name": "stderr",
          "output_type": "stream",
          "text": [
            "\rEvaluate Test:  67%|██████▋   | 2/3 [00:01<00:00,  1.98it/s]"
          ]
        },
        {
          "name": "stdout",
          "output_type": "stream",
          "text": [
            "sample 4 num of prompts for COVID from total 12\n"
          ]
        },
        {
          "name": "stderr",
          "output_type": "stream",
          "text": [
            "Evaluate Test: 100%|██████████| 3/3 [00:01<00:00,  2.11it/s]\n"
          ]
        },
        {
          "name": "stdout",
          "output_type": "stream",
          "text": [
            "\n",
            "Accuracy: 0.7523, Precision: 0.6821, Recall: 0.9169, AUC: 0.8585\n"
          ]
        },
        {
          "name": "stderr",
          "output_type": "stream",
          "text": [
            "\rEvaluate Train:   0%|          | 0/8 [00:00<?, ?it/s]"
          ]
        },
        {
          "name": "stdout",
          "output_type": "stream",
          "text": [
            "sample 5 num of prompts for COVID from total 12\n"
          ]
        },
        {
          "name": "stderr",
          "output_type": "stream",
          "text": [
            "\rEvaluate Train:  12%|█▎        | 1/8 [00:00<00:03,  1.96it/s]"
          ]
        },
        {
          "name": "stdout",
          "output_type": "stream",
          "text": [
            "sample 5 num of prompts for COVID from total 12\n"
          ]
        },
        {
          "name": "stderr",
          "output_type": "stream",
          "text": [
            "\rEvaluate Train:  25%|██▌       | 2/8 [00:01<00:05,  1.08it/s]"
          ]
        },
        {
          "name": "stdout",
          "output_type": "stream",
          "text": [
            "sample 5 num of prompts for COVID from total 12\n"
          ]
        },
        {
          "name": "stderr",
          "output_type": "stream",
          "text": [
            "\rEvaluate Train:  38%|███▊      | 3/8 [00:02<00:03,  1.27it/s]"
          ]
        },
        {
          "name": "stdout",
          "output_type": "stream",
          "text": [
            "sample 5 num of prompts for COVID from total 12\n"
          ]
        },
        {
          "name": "stderr",
          "output_type": "stream",
          "text": [
            "\rEvaluate Train:  50%|█████     | 4/8 [00:03<00:03,  1.30it/s]"
          ]
        },
        {
          "name": "stdout",
          "output_type": "stream",
          "text": [
            "sample 5 num of prompts for COVID from total 12\n"
          ]
        },
        {
          "name": "stderr",
          "output_type": "stream",
          "text": [
            "\rEvaluate Train:  62%|██████▎   | 5/8 [00:03<00:02,  1.43it/s]"
          ]
        },
        {
          "name": "stdout",
          "output_type": "stream",
          "text": [
            "sample 5 num of prompts for COVID from total 12\n"
          ]
        },
        {
          "name": "stderr",
          "output_type": "stream",
          "text": [
            "\rEvaluate Train:  75%|███████▌  | 6/8 [00:04<00:01,  1.19it/s]"
          ]
        },
        {
          "name": "stdout",
          "output_type": "stream",
          "text": [
            "sample 5 num of prompts for COVID from total 12\n"
          ]
        },
        {
          "name": "stderr",
          "output_type": "stream",
          "text": [
            "\rEvaluate Train:  88%|████████▊ | 7/8 [00:05<00:00,  1.15it/s]"
          ]
        },
        {
          "name": "stdout",
          "output_type": "stream",
          "text": [
            "sample 5 num of prompts for COVID from total 12\n"
          ]
        },
        {
          "name": "stderr",
          "output_type": "stream",
          "text": [
            "Evaluate Train: 100%|██████████| 8/8 [00:07<00:00,  1.12it/s]\n",
            "Evaluate Validation:   0%|          | 0/2 [00:00<?, ?it/s]"
          ]
        },
        {
          "name": "stdout",
          "output_type": "stream",
          "text": [
            "sample 5 num of prompts for COVID from total 12\n"
          ]
        },
        {
          "name": "stderr",
          "output_type": "stream",
          "text": [
            "\rEvaluate Validation:  50%|█████     | 1/2 [00:00<00:00,  1.99it/s]"
          ]
        },
        {
          "name": "stdout",
          "output_type": "stream",
          "text": [
            "sample 5 num of prompts for COVID from total 12\n"
          ]
        },
        {
          "name": "stderr",
          "output_type": "stream",
          "text": [
            "Evaluate Validation: 100%|██████████| 2/2 [00:01<00:00,  1.23it/s]\n",
            "Evaluate Test:   0%|          | 0/3 [00:00<?, ?it/s]"
          ]
        },
        {
          "name": "stdout",
          "output_type": "stream",
          "text": [
            "sample 5 num of prompts for COVID from total 12\n"
          ]
        },
        {
          "name": "stderr",
          "output_type": "stream",
          "text": [
            "\rEvaluate Test:  33%|███▎      | 1/3 [00:00<00:01,  1.65it/s]"
          ]
        },
        {
          "name": "stdout",
          "output_type": "stream",
          "text": [
            "sample 5 num of prompts for COVID from total 12\n"
          ]
        },
        {
          "name": "stderr",
          "output_type": "stream",
          "text": [
            "\rEvaluate Test:  67%|██████▋   | 2/3 [00:01<00:00,  1.03it/s]"
          ]
        },
        {
          "name": "stdout",
          "output_type": "stream",
          "text": [
            "sample 5 num of prompts for COVID from total 12\n"
          ]
        },
        {
          "name": "stderr",
          "output_type": "stream",
          "text": [
            "Evaluate Test: 100%|██████████| 3/3 [00:02<00:00,  1.14it/s]\n"
          ]
        },
        {
          "name": "stdout",
          "output_type": "stream",
          "text": [
            "\n",
            "Accuracy: 0.7513, Precision: 0.6811, Recall: 0.9169, AUC: 0.8588\n"
          ]
        },
        {
          "name": "stderr",
          "output_type": "stream",
          "text": [
            "\rEvaluate Train:   0%|          | 0/8 [00:00<?, ?it/s]"
          ]
        },
        {
          "name": "stdout",
          "output_type": "stream",
          "text": [
            "sample 6 num of prompts for COVID from total 12\n"
          ]
        },
        {
          "name": "stderr",
          "output_type": "stream",
          "text": [
            "\rEvaluate Train:  12%|█▎        | 1/8 [00:00<00:03,  2.00it/s]"
          ]
        },
        {
          "name": "stdout",
          "output_type": "stream",
          "text": [
            "sample 6 num of prompts for COVID from total 12\n"
          ]
        },
        {
          "name": "stderr",
          "output_type": "stream",
          "text": [
            "\rEvaluate Train:  25%|██▌       | 2/8 [00:01<00:03,  1.88it/s]"
          ]
        },
        {
          "name": "stdout",
          "output_type": "stream",
          "text": [
            "sample 6 num of prompts for COVID from total 12\n"
          ]
        },
        {
          "name": "stderr",
          "output_type": "stream",
          "text": [
            "\rEvaluate Train:  38%|███▊      | 3/8 [00:01<00:02,  1.70it/s]"
          ]
        },
        {
          "name": "stdout",
          "output_type": "stream",
          "text": [
            "sample 6 num of prompts for COVID from total 12\n"
          ]
        },
        {
          "name": "stderr",
          "output_type": "stream",
          "text": [
            "\rEvaluate Train:  50%|█████     | 4/8 [00:02<00:02,  1.80it/s]"
          ]
        },
        {
          "name": "stdout",
          "output_type": "stream",
          "text": [
            "sample 6 num of prompts for COVID from total 12\n"
          ]
        },
        {
          "name": "stderr",
          "output_type": "stream",
          "text": [
            "\rEvaluate Train:  62%|██████▎   | 5/8 [00:02<00:01,  1.86it/s]"
          ]
        },
        {
          "name": "stdout",
          "output_type": "stream",
          "text": [
            "sample 6 num of prompts for COVID from total 12\n"
          ]
        },
        {
          "name": "stderr",
          "output_type": "stream",
          "text": [
            "\rEvaluate Train:  75%|███████▌  | 6/8 [00:03<00:01,  1.81it/s]"
          ]
        },
        {
          "name": "stdout",
          "output_type": "stream",
          "text": [
            "sample 6 num of prompts for COVID from total 12\n"
          ]
        },
        {
          "name": "stderr",
          "output_type": "stream",
          "text": [
            "\rEvaluate Train:  88%|████████▊ | 7/8 [00:04<00:00,  1.35it/s]"
          ]
        },
        {
          "name": "stdout",
          "output_type": "stream",
          "text": [
            "sample 6 num of prompts for COVID from total 12\n"
          ]
        },
        {
          "name": "stderr",
          "output_type": "stream",
          "text": [
            "Evaluate Train: 100%|██████████| 8/8 [00:04<00:00,  1.65it/s]\n",
            "Evaluate Validation:   0%|          | 0/2 [00:00<?, ?it/s]"
          ]
        },
        {
          "name": "stdout",
          "output_type": "stream",
          "text": [
            "sample 6 num of prompts for COVID from total 12\n"
          ]
        },
        {
          "name": "stderr",
          "output_type": "stream",
          "text": [
            "\rEvaluate Validation:  50%|█████     | 1/2 [00:00<00:00,  1.25it/s]"
          ]
        },
        {
          "name": "stdout",
          "output_type": "stream",
          "text": [
            "sample 6 num of prompts for COVID from total 12\n"
          ]
        },
        {
          "name": "stderr",
          "output_type": "stream",
          "text": [
            "Evaluate Validation: 100%|██████████| 2/2 [00:01<00:00,  1.55it/s]\n",
            "Evaluate Test:  33%|███▎      | 1/3 [00:00<00:01,  1.89it/s]"
          ]
        },
        {
          "name": "stdout",
          "output_type": "stream",
          "text": [
            "sample 6 num of prompts for COVID from total 12\n",
            "sample 6 num of prompts for COVID from total 12\n"
          ]
        },
        {
          "name": "stderr",
          "output_type": "stream",
          "text": [
            "\rEvaluate Test:  67%|██████▋   | 2/3 [00:01<00:00,  1.50it/s]"
          ]
        },
        {
          "name": "stdout",
          "output_type": "stream",
          "text": [
            "sample 6 num of prompts for COVID from total 12\n"
          ]
        },
        {
          "name": "stderr",
          "output_type": "stream",
          "text": [
            "Evaluate Test: 100%|██████████| 3/3 [00:02<00:00,  1.40it/s]\n"
          ]
        },
        {
          "name": "stdout",
          "output_type": "stream",
          "text": [
            "\n",
            "Accuracy: 0.7510, Precision: 0.6797, Recall: 0.9210, AUC: 0.8595\n"
          ]
        },
        {
          "name": "stderr",
          "output_type": "stream",
          "text": [
            "\rEvaluate Train:   0%|          | 0/8 [00:00<?, ?it/s]"
          ]
        },
        {
          "name": "stdout",
          "output_type": "stream",
          "text": [
            "sample 7 num of prompts for COVID from total 12\n"
          ]
        },
        {
          "name": "stderr",
          "output_type": "stream",
          "text": [
            "\rEvaluate Train:  12%|█▎        | 1/8 [00:00<00:03,  1.91it/s]"
          ]
        },
        {
          "name": "stdout",
          "output_type": "stream",
          "text": [
            "sample 7 num of prompts for COVID from total 12\n"
          ]
        },
        {
          "name": "stderr",
          "output_type": "stream",
          "text": [
            "\rEvaluate Train:  25%|██▌       | 2/8 [00:01<00:03,  1.95it/s]"
          ]
        },
        {
          "name": "stdout",
          "output_type": "stream",
          "text": [
            "sample 7 num of prompts for COVID from total 12\n"
          ]
        },
        {
          "name": "stderr",
          "output_type": "stream",
          "text": [
            "\rEvaluate Train:  38%|███▊      | 3/8 [00:02<00:03,  1.34it/s]"
          ]
        },
        {
          "name": "stdout",
          "output_type": "stream",
          "text": [
            "sample 7 num of prompts for COVID from total 12\n"
          ]
        },
        {
          "name": "stderr",
          "output_type": "stream",
          "text": [
            "\rEvaluate Train:  50%|█████     | 4/8 [00:03<00:03,  1.16it/s]"
          ]
        },
        {
          "name": "stdout",
          "output_type": "stream",
          "text": [
            "sample 7 num of prompts for COVID from total 12\n"
          ]
        },
        {
          "name": "stderr",
          "output_type": "stream",
          "text": [
            "\rEvaluate Train:  62%|██████▎   | 5/8 [00:04<00:02,  1.09it/s]"
          ]
        },
        {
          "name": "stdout",
          "output_type": "stream",
          "text": [
            "sample 7 num of prompts for COVID from total 12\n"
          ]
        },
        {
          "name": "stderr",
          "output_type": "stream",
          "text": [
            "\rEvaluate Train:  75%|███████▌  | 6/8 [00:04<00:01,  1.21it/s]"
          ]
        },
        {
          "name": "stdout",
          "output_type": "stream",
          "text": [
            "sample 7 num of prompts for COVID from total 12\n"
          ]
        },
        {
          "name": "stderr",
          "output_type": "stream",
          "text": [
            "\rEvaluate Train:  88%|████████▊ | 7/8 [00:06<00:00,  1.00it/s]"
          ]
        },
        {
          "name": "stdout",
          "output_type": "stream",
          "text": [
            "sample 7 num of prompts for COVID from total 12\n"
          ]
        },
        {
          "name": "stderr",
          "output_type": "stream",
          "text": [
            "Evaluate Train: 100%|██████████| 8/8 [00:06<00:00,  1.22it/s]\n",
            "Evaluate Validation:   0%|          | 0/2 [00:00<?, ?it/s]"
          ]
        },
        {
          "name": "stdout",
          "output_type": "stream",
          "text": [
            "sample 7 num of prompts for COVID from total 12\n"
          ]
        },
        {
          "name": "stderr",
          "output_type": "stream",
          "text": [
            "\rEvaluate Validation:  50%|█████     | 1/2 [00:00<00:00,  1.99it/s]"
          ]
        },
        {
          "name": "stdout",
          "output_type": "stream",
          "text": [
            "sample 7 num of prompts for COVID from total 12\n"
          ]
        },
        {
          "name": "stderr",
          "output_type": "stream",
          "text": [
            "Evaluate Validation: 100%|██████████| 2/2 [00:01<00:00,  1.01it/s]\n",
            "Evaluate Test:   0%|          | 0/3 [00:00<?, ?it/s]"
          ]
        },
        {
          "name": "stdout",
          "output_type": "stream",
          "text": [
            "sample 7 num of prompts for COVID from total 12\n"
          ]
        },
        {
          "name": "stderr",
          "output_type": "stream",
          "text": [
            "\rEvaluate Test:  33%|███▎      | 1/3 [00:00<00:00,  2.01it/s]"
          ]
        },
        {
          "name": "stdout",
          "output_type": "stream",
          "text": [
            "sample 7 num of prompts for COVID from total 12\n"
          ]
        },
        {
          "name": "stderr",
          "output_type": "stream",
          "text": [
            "Evaluate Test: 100%|██████████| 3/3 [00:01<00:00,  2.19it/s]\n"
          ]
        },
        {
          "name": "stdout",
          "output_type": "stream",
          "text": [
            "sample 7 num of prompts for COVID from total 12\n",
            "\n",
            "Accuracy: 0.7510, Precision: 0.6797, Recall: 0.9210, AUC: 0.8595\n"
          ]
        },
        {
          "name": "stderr",
          "output_type": "stream",
          "text": [
            "\rEvaluate Train:   0%|          | 0/8 [00:00<?, ?it/s]"
          ]
        },
        {
          "name": "stdout",
          "output_type": "stream",
          "text": [
            "sample 8 num of prompts for COVID from total 12\n"
          ]
        },
        {
          "name": "stderr",
          "output_type": "stream",
          "text": [
            "\rEvaluate Train:  12%|█▎        | 1/8 [00:00<00:03,  1.98it/s]"
          ]
        },
        {
          "name": "stdout",
          "output_type": "stream",
          "text": [
            "sample 8 num of prompts for COVID from total 12\n"
          ]
        },
        {
          "name": "stderr",
          "output_type": "stream",
          "text": [
            "\rEvaluate Train:  25%|██▌       | 2/8 [00:01<00:03,  1.97it/s]"
          ]
        },
        {
          "name": "stdout",
          "output_type": "stream",
          "text": [
            "sample 8 num of prompts for COVID from total 12\n"
          ]
        },
        {
          "name": "stderr",
          "output_type": "stream",
          "text": [
            "\rEvaluate Train:  38%|███▊      | 3/8 [00:02<00:04,  1.19it/s]"
          ]
        },
        {
          "name": "stdout",
          "output_type": "stream",
          "text": [
            "sample 8 num of prompts for COVID from total 12\n"
          ]
        },
        {
          "name": "stderr",
          "output_type": "stream",
          "text": [
            "\rEvaluate Train:  50%|█████     | 4/8 [00:02<00:02,  1.41it/s]"
          ]
        },
        {
          "name": "stdout",
          "output_type": "stream",
          "text": [
            "sample 8 num of prompts for COVID from total 12\n"
          ]
        },
        {
          "name": "stderr",
          "output_type": "stream",
          "text": [
            "\rEvaluate Train:  62%|██████▎   | 5/8 [00:03<00:01,  1.56it/s]"
          ]
        },
        {
          "name": "stdout",
          "output_type": "stream",
          "text": [
            "sample 8 num of prompts for COVID from total 12\n"
          ]
        },
        {
          "name": "stderr",
          "output_type": "stream",
          "text": [
            "\rEvaluate Train:  75%|███████▌  | 6/8 [00:04<00:01,  1.36it/s]"
          ]
        },
        {
          "name": "stdout",
          "output_type": "stream",
          "text": [
            "sample 8 num of prompts for COVID from total 12\n"
          ]
        },
        {
          "name": "stderr",
          "output_type": "stream",
          "text": [
            "\rEvaluate Train:  88%|████████▊ | 7/8 [00:05<00:00,  1.24it/s]"
          ]
        },
        {
          "name": "stdout",
          "output_type": "stream",
          "text": [
            "sample 8 num of prompts for COVID from total 12\n"
          ]
        },
        {
          "name": "stderr",
          "output_type": "stream",
          "text": [
            "Evaluate Train: 100%|██████████| 8/8 [00:06<00:00,  1.32it/s]\n",
            "Evaluate Validation:   0%|          | 0/2 [00:00<?, ?it/s]"
          ]
        },
        {
          "name": "stdout",
          "output_type": "stream",
          "text": [
            "sample 8 num of prompts for COVID from total 12\n"
          ]
        },
        {
          "name": "stderr",
          "output_type": "stream",
          "text": [
            "\rEvaluate Validation:  50%|█████     | 1/2 [00:00<00:00,  1.93it/s]"
          ]
        },
        {
          "name": "stdout",
          "output_type": "stream",
          "text": [
            "sample 8 num of prompts for COVID from total 12\n"
          ]
        },
        {
          "name": "stderr",
          "output_type": "stream",
          "text": [
            "Evaluate Validation: 100%|██████████| 2/2 [00:01<00:00,  1.31it/s]\n",
            "Evaluate Test:   0%|          | 0/3 [00:00<?, ?it/s]"
          ]
        },
        {
          "name": "stdout",
          "output_type": "stream",
          "text": [
            "sample 8 num of prompts for COVID from total 12\n"
          ]
        },
        {
          "name": "stderr",
          "output_type": "stream",
          "text": [
            "\rEvaluate Test:  33%|███▎      | 1/3 [00:00<00:01,  1.99it/s]"
          ]
        },
        {
          "name": "stdout",
          "output_type": "stream",
          "text": [
            "sample 8 num of prompts for COVID from total 12\n"
          ]
        },
        {
          "name": "stderr",
          "output_type": "stream",
          "text": [
            "\rEvaluate Test:  67%|██████▋   | 2/3 [00:01<00:00,  1.21it/s]"
          ]
        },
        {
          "name": "stdout",
          "output_type": "stream",
          "text": [
            "sample 8 num of prompts for COVID from total 12\n"
          ]
        },
        {
          "name": "stderr",
          "output_type": "stream",
          "text": [
            "Evaluate Test: 100%|██████████| 3/3 [00:01<00:00,  1.56it/s]\n"
          ]
        },
        {
          "name": "stdout",
          "output_type": "stream",
          "text": [
            "\n",
            "Accuracy: 0.7503, Precision: 0.6788, Recall: 0.9216, AUC: 0.8599\n"
          ]
        },
        {
          "name": "stderr",
          "output_type": "stream",
          "text": [
            "\rEvaluate Train:   0%|          | 0/8 [00:00<?, ?it/s]"
          ]
        },
        {
          "name": "stdout",
          "output_type": "stream",
          "text": [
            "sample 9 num of prompts for COVID from total 12\n"
          ]
        },
        {
          "name": "stderr",
          "output_type": "stream",
          "text": [
            "\rEvaluate Train:  12%|█▎        | 1/8 [00:00<00:03,  1.90it/s]"
          ]
        },
        {
          "name": "stdout",
          "output_type": "stream",
          "text": [
            "sample 9 num of prompts for COVID from total 12\n"
          ]
        },
        {
          "name": "stderr",
          "output_type": "stream",
          "text": [
            "\rEvaluate Train:  25%|██▌       | 2/8 [00:01<00:04,  1.20it/s]"
          ]
        },
        {
          "name": "stdout",
          "output_type": "stream",
          "text": [
            "sample 9 num of prompts for COVID from total 12\n"
          ]
        },
        {
          "name": "stderr",
          "output_type": "stream",
          "text": [
            "\rEvaluate Train:  38%|███▊      | 3/8 [00:02<00:04,  1.12it/s]"
          ]
        },
        {
          "name": "stdout",
          "output_type": "stream",
          "text": [
            "sample 9 num of prompts for COVID from total 12\n"
          ]
        },
        {
          "name": "stderr",
          "output_type": "stream",
          "text": [
            "\rEvaluate Train:  50%|█████     | 4/8 [00:03<00:03,  1.33it/s]"
          ]
        },
        {
          "name": "stdout",
          "output_type": "stream",
          "text": [
            "sample 9 num of prompts for COVID from total 12\n"
          ]
        },
        {
          "name": "stderr",
          "output_type": "stream",
          "text": [
            "\rEvaluate Train:  62%|██████▎   | 5/8 [00:03<00:02,  1.50it/s]"
          ]
        },
        {
          "name": "stdout",
          "output_type": "stream",
          "text": [
            "sample 9 num of prompts for COVID from total 12\n"
          ]
        },
        {
          "name": "stderr",
          "output_type": "stream",
          "text": [
            "\rEvaluate Train:  75%|███████▌  | 6/8 [00:04<00:01,  1.29it/s]"
          ]
        },
        {
          "name": "stdout",
          "output_type": "stream",
          "text": [
            "sample 9 num of prompts for COVID from total 12\n"
          ]
        },
        {
          "name": "stderr",
          "output_type": "stream",
          "text": [
            "\rEvaluate Train:  88%|████████▊ | 7/8 [00:05<00:00,  1.21it/s]"
          ]
        },
        {
          "name": "stdout",
          "output_type": "stream",
          "text": [
            "sample 9 num of prompts for COVID from total 12\n"
          ]
        },
        {
          "name": "stderr",
          "output_type": "stream",
          "text": [
            "Evaluate Train: 100%|██████████| 8/8 [00:05<00:00,  1.35it/s]\n",
            "Evaluate Validation:   0%|          | 0/2 [00:00<?, ?it/s]"
          ]
        },
        {
          "name": "stdout",
          "output_type": "stream",
          "text": [
            "sample 9 num of prompts for COVID from total 12\n"
          ]
        },
        {
          "name": "stderr",
          "output_type": "stream",
          "text": [
            "\rEvaluate Validation:  50%|█████     | 1/2 [00:00<00:00,  1.84it/s]"
          ]
        },
        {
          "name": "stdout",
          "output_type": "stream",
          "text": [
            "sample 9 num of prompts for COVID from total 12\n"
          ]
        },
        {
          "name": "stderr",
          "output_type": "stream",
          "text": [
            "Evaluate Validation: 100%|██████████| 2/2 [00:01<00:00,  1.29it/s]\n",
            "Evaluate Test:   0%|          | 0/3 [00:00<?, ?it/s]"
          ]
        },
        {
          "name": "stdout",
          "output_type": "stream",
          "text": [
            "sample 9 num of prompts for COVID from total 12\n"
          ]
        },
        {
          "name": "stderr",
          "output_type": "stream",
          "text": [
            "\rEvaluate Test:  33%|███▎      | 1/3 [00:00<00:01,  1.97it/s]"
          ]
        },
        {
          "name": "stdout",
          "output_type": "stream",
          "text": [
            "sample 9 num of prompts for COVID from total 12\n"
          ]
        },
        {
          "name": "stderr",
          "output_type": "stream",
          "text": [
            "\rEvaluate Test:  67%|██████▋   | 2/3 [00:01<00:00,  1.97it/s]"
          ]
        },
        {
          "name": "stdout",
          "output_type": "stream",
          "text": [
            "sample 9 num of prompts for COVID from total 12\n"
          ]
        },
        {
          "name": "stderr",
          "output_type": "stream",
          "text": [
            "Evaluate Test: 100%|██████████| 3/3 [00:01<00:00,  2.04it/s]\n"
          ]
        },
        {
          "name": "stdout",
          "output_type": "stream",
          "text": [
            "\n",
            "Accuracy: 0.7500, Precision: 0.6785, Recall: 0.9216, AUC: 0.8600\n"
          ]
        },
        {
          "name": "stderr",
          "output_type": "stream",
          "text": [
            "\rEvaluate Train:   0%|          | 0/8 [00:00<?, ?it/s]"
          ]
        },
        {
          "name": "stdout",
          "output_type": "stream",
          "text": [
            "sample 10 num of prompts for COVID from total 12\n"
          ]
        },
        {
          "name": "stderr",
          "output_type": "stream",
          "text": [
            "\rEvaluate Train:  12%|█▎        | 1/8 [00:00<00:03,  1.92it/s]"
          ]
        },
        {
          "name": "stdout",
          "output_type": "stream",
          "text": [
            "sample 10 num of prompts for COVID from total 12\n"
          ]
        },
        {
          "name": "stderr",
          "output_type": "stream",
          "text": [
            "\rEvaluate Train:  25%|██▌       | 2/8 [00:01<00:04,  1.23it/s]"
          ]
        },
        {
          "name": "stdout",
          "output_type": "stream",
          "text": [
            "sample 10 num of prompts for COVID from total 12\n"
          ]
        },
        {
          "name": "stderr",
          "output_type": "stream",
          "text": [
            "\rEvaluate Train:  38%|███▊      | 3/8 [00:02<00:04,  1.15it/s]"
          ]
        },
        {
          "name": "stdout",
          "output_type": "stream",
          "text": [
            "sample 10 num of prompts for COVID from total 12\n"
          ]
        },
        {
          "name": "stderr",
          "output_type": "stream",
          "text": [
            "\rEvaluate Train:  50%|█████     | 4/8 [00:02<00:02,  1.38it/s]"
          ]
        },
        {
          "name": "stdout",
          "output_type": "stream",
          "text": [
            "sample 10 num of prompts for COVID from total 12\n"
          ]
        },
        {
          "name": "stderr",
          "output_type": "stream",
          "text": [
            "\rEvaluate Train:  62%|██████▎   | 5/8 [00:03<00:02,  1.31it/s]"
          ]
        },
        {
          "name": "stdout",
          "output_type": "stream",
          "text": [
            "sample 10 num of prompts for COVID from total 12\n"
          ]
        },
        {
          "name": "stderr",
          "output_type": "stream",
          "text": [
            "\rEvaluate Train:  75%|███████▌  | 6/8 [00:04<00:01,  1.36it/s]"
          ]
        },
        {
          "name": "stdout",
          "output_type": "stream",
          "text": [
            "sample 10 num of prompts for COVID from total 12\n"
          ]
        },
        {
          "name": "stderr",
          "output_type": "stream",
          "text": [
            "\rEvaluate Train:  88%|████████▊ | 7/8 [00:04<00:00,  1.52it/s]"
          ]
        },
        {
          "name": "stdout",
          "output_type": "stream",
          "text": [
            "sample 10 num of prompts for COVID from total 12\n"
          ]
        },
        {
          "name": "stderr",
          "output_type": "stream",
          "text": [
            "Evaluate Train: 100%|██████████| 8/8 [00:05<00:00,  1.46it/s]\n",
            "Evaluate Validation:   0%|          | 0/2 [00:00<?, ?it/s]"
          ]
        },
        {
          "name": "stdout",
          "output_type": "stream",
          "text": [
            "sample 10 num of prompts for COVID from total 12\n"
          ]
        },
        {
          "name": "stderr",
          "output_type": "stream",
          "text": [
            "\rEvaluate Validation:  50%|█████     | 1/2 [00:00<00:00,  1.99it/s]"
          ]
        },
        {
          "name": "stdout",
          "output_type": "stream",
          "text": [
            "sample 10 num of prompts for COVID from total 12\n"
          ]
        },
        {
          "name": "stderr",
          "output_type": "stream",
          "text": [
            "Evaluate Validation: 100%|██████████| 2/2 [00:01<00:00,  1.34it/s]\n",
            "Evaluate Test:   0%|          | 0/3 [00:00<?, ?it/s]"
          ]
        },
        {
          "name": "stdout",
          "output_type": "stream",
          "text": [
            "sample 10 num of prompts for COVID from total 12\n"
          ]
        },
        {
          "name": "stderr",
          "output_type": "stream",
          "text": [
            "\rEvaluate Test:  33%|███▎      | 1/3 [00:00<00:01,  1.83it/s]"
          ]
        },
        {
          "name": "stdout",
          "output_type": "stream",
          "text": [
            "sample 10 num of prompts for COVID from total 12\n"
          ]
        },
        {
          "name": "stderr",
          "output_type": "stream",
          "text": [
            "\rEvaluate Test:  67%|██████▋   | 2/3 [00:01<00:00,  1.77it/s]"
          ]
        },
        {
          "name": "stdout",
          "output_type": "stream",
          "text": [
            "sample 10 num of prompts for COVID from total 12\n"
          ]
        },
        {
          "name": "stderr",
          "output_type": "stream",
          "text": [
            "Evaluate Test: 100%|██████████| 3/3 [00:01<00:00,  1.71it/s]\n"
          ]
        },
        {
          "name": "stdout",
          "output_type": "stream",
          "text": [
            "\n",
            "Accuracy: 0.7497, Precision: 0.6780, Recall: 0.9223, AUC: 0.8601\n"
          ]
        },
        {
          "name": "stderr",
          "output_type": "stream",
          "text": [
            "\rEvaluate Train:   0%|          | 0/8 [00:00<?, ?it/s]"
          ]
        },
        {
          "name": "stdout",
          "output_type": "stream",
          "text": [
            "sample 11 num of prompts for COVID from total 12\n"
          ]
        },
        {
          "name": "stderr",
          "output_type": "stream",
          "text": [
            "\rEvaluate Train:  12%|█▎        | 1/8 [00:00<00:03,  2.02it/s]"
          ]
        },
        {
          "name": "stdout",
          "output_type": "stream",
          "text": [
            "sample 11 num of prompts for COVID from total 12\n"
          ]
        },
        {
          "name": "stderr",
          "output_type": "stream",
          "text": [
            "\rEvaluate Train:  25%|██▌       | 2/8 [00:01<00:06,  1.00s/it]"
          ]
        },
        {
          "name": "stdout",
          "output_type": "stream",
          "text": [
            "sample 11 num of prompts for COVID from total 12\n"
          ]
        },
        {
          "name": "stderr",
          "output_type": "stream",
          "text": [
            "\rEvaluate Train:  38%|███▊      | 3/8 [00:02<00:04,  1.06it/s]"
          ]
        },
        {
          "name": "stdout",
          "output_type": "stream",
          "text": [
            "sample 11 num of prompts for COVID from total 12\n"
          ]
        },
        {
          "name": "stderr",
          "output_type": "stream",
          "text": [
            "\rEvaluate Train:  50%|█████     | 4/8 [00:03<00:03,  1.20it/s]"
          ]
        },
        {
          "name": "stdout",
          "output_type": "stream",
          "text": [
            "sample 11 num of prompts for COVID from total 12\n"
          ]
        },
        {
          "name": "stderr",
          "output_type": "stream",
          "text": [
            "\rEvaluate Train:  62%|██████▎   | 5/8 [00:03<00:02,  1.40it/s]"
          ]
        },
        {
          "name": "stdout",
          "output_type": "stream",
          "text": [
            "sample 11 num of prompts for COVID from total 12\n"
          ]
        },
        {
          "name": "stderr",
          "output_type": "stream",
          "text": [
            "\rEvaluate Train:  75%|███████▌  | 6/8 [00:04<00:01,  1.33it/s]"
          ]
        },
        {
          "name": "stdout",
          "output_type": "stream",
          "text": [
            "sample 11 num of prompts for COVID from total 12\n"
          ]
        },
        {
          "name": "stderr",
          "output_type": "stream",
          "text": [
            "\rEvaluate Train:  88%|████████▊ | 7/8 [00:05<00:00,  1.23it/s]"
          ]
        },
        {
          "name": "stdout",
          "output_type": "stream",
          "text": [
            "sample 11 num of prompts for COVID from total 12\n"
          ]
        },
        {
          "name": "stderr",
          "output_type": "stream",
          "text": [
            "Evaluate Train: 100%|██████████| 8/8 [00:06<00:00,  1.25it/s]\n",
            "Evaluate Validation:   0%|          | 0/2 [00:00<?, ?it/s]"
          ]
        },
        {
          "name": "stdout",
          "output_type": "stream",
          "text": [
            "sample 11 num of prompts for COVID from total 12\n"
          ]
        },
        {
          "name": "stderr",
          "output_type": "stream",
          "text": [
            "\rEvaluate Validation:  50%|█████     | 1/2 [00:00<00:00,  1.97it/s]"
          ]
        },
        {
          "name": "stdout",
          "output_type": "stream",
          "text": [
            "sample 11 num of prompts for COVID from total 12\n"
          ]
        },
        {
          "name": "stderr",
          "output_type": "stream",
          "text": [
            "Evaluate Validation: 100%|██████████| 2/2 [00:01<00:00,  1.70it/s]\n",
            "Evaluate Test:   0%|          | 0/3 [00:00<?, ?it/s]"
          ]
        },
        {
          "name": "stdout",
          "output_type": "stream",
          "text": [
            "sample 11 num of prompts for COVID from total 12\n"
          ]
        },
        {
          "name": "stderr",
          "output_type": "stream",
          "text": [
            "\rEvaluate Test:  33%|███▎      | 1/3 [00:00<00:01,  1.96it/s]"
          ]
        },
        {
          "name": "stdout",
          "output_type": "stream",
          "text": [
            "sample 11 num of prompts for COVID from total 12\n"
          ]
        },
        {
          "name": "stderr",
          "output_type": "stream",
          "text": [
            "\rEvaluate Test:  67%|██████▋   | 2/3 [00:01<00:00,  1.98it/s]"
          ]
        },
        {
          "name": "stdout",
          "output_type": "stream",
          "text": [
            "sample 11 num of prompts for COVID from total 12\n"
          ]
        },
        {
          "name": "stderr",
          "output_type": "stream",
          "text": [
            "Evaluate Test: 100%|██████████| 3/3 [00:01<00:00,  2.19it/s]\n"
          ]
        },
        {
          "name": "stdout",
          "output_type": "stream",
          "text": [
            "\n",
            "Accuracy: 0.7493, Precision: 0.6777, Recall: 0.9223, AUC: 0.8601\n"
          ]
        },
        {
          "name": "stderr",
          "output_type": "stream",
          "text": [
            "\rEvaluate Train:   0%|          | 0/8 [00:00<?, ?it/s]"
          ]
        },
        {
          "name": "stdout",
          "output_type": "stream",
          "text": [
            "sample 12 num of prompts for COVID from total 12\n"
          ]
        },
        {
          "name": "stderr",
          "output_type": "stream",
          "text": [
            "\rEvaluate Train:  12%|█▎        | 1/8 [00:00<00:03,  1.93it/s]"
          ]
        },
        {
          "name": "stdout",
          "output_type": "stream",
          "text": [
            "sample 12 num of prompts for COVID from total 12\n"
          ]
        },
        {
          "name": "stderr",
          "output_type": "stream",
          "text": [
            "\rEvaluate Train:  25%|██▌       | 2/8 [00:01<00:05,  1.00it/s]"
          ]
        },
        {
          "name": "stdout",
          "output_type": "stream",
          "text": [
            "sample 12 num of prompts for COVID from total 12\n"
          ]
        },
        {
          "name": "stderr",
          "output_type": "stream",
          "text": [
            "\rEvaluate Train:  38%|███▊      | 3/8 [00:02<00:04,  1.07it/s]"
          ]
        },
        {
          "name": "stdout",
          "output_type": "stream",
          "text": [
            "sample 12 num of prompts for COVID from total 12\n"
          ]
        },
        {
          "name": "stderr",
          "output_type": "stream",
          "text": [
            "\rEvaluate Train:  50%|█████     | 4/8 [00:03<00:03,  1.31it/s]"
          ]
        },
        {
          "name": "stdout",
          "output_type": "stream",
          "text": [
            "sample 12 num of prompts for COVID from total 12\n"
          ]
        },
        {
          "name": "stderr",
          "output_type": "stream",
          "text": [
            "\rEvaluate Train:  62%|██████▎   | 5/8 [00:04<00:02,  1.29it/s]"
          ]
        },
        {
          "name": "stdout",
          "output_type": "stream",
          "text": [
            "sample 12 num of prompts for COVID from total 12\n"
          ]
        },
        {
          "name": "stderr",
          "output_type": "stream",
          "text": [
            "\rEvaluate Train:  75%|███████▌  | 6/8 [00:04<00:01,  1.45it/s]"
          ]
        },
        {
          "name": "stdout",
          "output_type": "stream",
          "text": [
            "sample 12 num of prompts for COVID from total 12\n"
          ]
        },
        {
          "name": "stderr",
          "output_type": "stream",
          "text": [
            "\rEvaluate Train:  88%|████████▊ | 7/8 [00:05<00:00,  1.19it/s]"
          ]
        },
        {
          "name": "stdout",
          "output_type": "stream",
          "text": [
            "sample 12 num of prompts for COVID from total 12\n"
          ]
        },
        {
          "name": "stderr",
          "output_type": "stream",
          "text": [
            "Evaluate Train: 100%|██████████| 8/8 [00:06<00:00,  1.31it/s]\n",
            "Evaluate Validation:   0%|          | 0/2 [00:00<?, ?it/s]"
          ]
        },
        {
          "name": "stdout",
          "output_type": "stream",
          "text": [
            "sample 12 num of prompts for COVID from total 12\n"
          ]
        },
        {
          "name": "stderr",
          "output_type": "stream",
          "text": [
            "\rEvaluate Validation:  50%|█████     | 1/2 [00:00<00:00,  1.99it/s]"
          ]
        },
        {
          "name": "stdout",
          "output_type": "stream",
          "text": [
            "sample 12 num of prompts for COVID from total 12\n"
          ]
        },
        {
          "name": "stderr",
          "output_type": "stream",
          "text": [
            "Evaluate Validation: 100%|██████████| 2/2 [00:02<00:00,  1.02s/it]\n",
            "Evaluate Test:   0%|          | 0/3 [00:00<?, ?it/s]"
          ]
        },
        {
          "name": "stdout",
          "output_type": "stream",
          "text": [
            "sample 12 num of prompts for COVID from total 12\n"
          ]
        },
        {
          "name": "stderr",
          "output_type": "stream",
          "text": [
            "\rEvaluate Test:  33%|███▎      | 1/3 [00:00<00:01,  1.99it/s]"
          ]
        },
        {
          "name": "stdout",
          "output_type": "stream",
          "text": [
            "sample 12 num of prompts for COVID from total 12\n"
          ]
        },
        {
          "name": "stderr",
          "output_type": "stream",
          "text": [
            "Evaluate Test: 100%|██████████| 3/3 [00:01<00:00,  2.21it/s]\n"
          ]
        },
        {
          "name": "stdout",
          "output_type": "stream",
          "text": [
            "sample 12 num of prompts for COVID from total 12\n",
            "\n",
            "Accuracy: 0.7493, Precision: 0.6777, Recall: 0.9223, AUC: 0.8601\n",
            "Best AUC for covid_task with 10 prompts: 0.8601\n",
            "Results saved to results/zero_shot/ucsd/medclip/classification_results.txt\n"
          ]
        },
        {
          "name": "stderr",
          "output_type": "stream",
          "text": [
            "\rEvaluate Train:   0%|          | 0/8 [00:00<?, ?it/s]"
          ]
        },
        {
          "name": "stdout",
          "output_type": "stream",
          "text": [
            "sample 1 num of prompts for Pneumonia from total 312\n"
          ]
        },
        {
          "name": "stderr",
          "output_type": "stream",
          "text": [
            "\rEvaluate Train:  12%|█▎        | 1/8 [00:00<00:03,  1.85it/s]"
          ]
        },
        {
          "name": "stdout",
          "output_type": "stream",
          "text": [
            "sample 1 num of prompts for Pneumonia from total 312\n"
          ]
        },
        {
          "name": "stderr",
          "output_type": "stream",
          "text": [
            "\rEvaluate Train:  25%|██▌       | 2/8 [00:01<00:03,  1.91it/s]"
          ]
        },
        {
          "name": "stdout",
          "output_type": "stream",
          "text": [
            "sample 1 num of prompts for Pneumonia from total 312\n"
          ]
        },
        {
          "name": "stderr",
          "output_type": "stream",
          "text": [
            "\rEvaluate Train:  38%|███▊      | 3/8 [00:02<00:04,  1.16it/s]"
          ]
        },
        {
          "name": "stdout",
          "output_type": "stream",
          "text": [
            "sample 1 num of prompts for Pneumonia from total 312\n"
          ]
        },
        {
          "name": "stderr",
          "output_type": "stream",
          "text": [
            "\rEvaluate Train:  50%|█████     | 4/8 [00:03<00:03,  1.24it/s]"
          ]
        },
        {
          "name": "stdout",
          "output_type": "stream",
          "text": [
            "sample 1 num of prompts for Pneumonia from total 312\n"
          ]
        },
        {
          "name": "stderr",
          "output_type": "stream",
          "text": [
            "\rEvaluate Train:  62%|██████▎   | 5/8 [00:03<00:02,  1.44it/s]"
          ]
        },
        {
          "name": "stdout",
          "output_type": "stream",
          "text": [
            "sample 1 num of prompts for Pneumonia from total 312\n"
          ]
        },
        {
          "name": "stderr",
          "output_type": "stream",
          "text": [
            "\rEvaluate Train:  75%|███████▌  | 6/8 [00:04<00:01,  1.59it/s]"
          ]
        },
        {
          "name": "stdout",
          "output_type": "stream",
          "text": [
            "sample 1 num of prompts for Pneumonia from total 312\n"
          ]
        },
        {
          "name": "stderr",
          "output_type": "stream",
          "text": [
            "\rEvaluate Train:  88%|████████▊ | 7/8 [00:05<00:00,  1.30it/s]"
          ]
        },
        {
          "name": "stdout",
          "output_type": "stream",
          "text": [
            "sample 1 num of prompts for Pneumonia from total 312\n"
          ]
        },
        {
          "name": "stderr",
          "output_type": "stream",
          "text": [
            "Evaluate Train: 100%|██████████| 8/8 [00:05<00:00,  1.45it/s]\n",
            "Evaluate Validation:   0%|          | 0/2 [00:00<?, ?it/s]"
          ]
        },
        {
          "name": "stdout",
          "output_type": "stream",
          "text": [
            "sample 1 num of prompts for Pneumonia from total 312\n"
          ]
        },
        {
          "name": "stderr",
          "output_type": "stream",
          "text": [
            "\rEvaluate Validation:  50%|█████     | 1/2 [00:00<00:00,  1.39it/s]"
          ]
        },
        {
          "name": "stdout",
          "output_type": "stream",
          "text": [
            "sample 1 num of prompts for Pneumonia from total 312\n"
          ]
        },
        {
          "name": "stderr",
          "output_type": "stream",
          "text": [
            "Evaluate Validation: 100%|██████████| 2/2 [00:01<00:00,  1.60it/s]\n",
            "Evaluate Test:   0%|          | 0/3 [00:00<?, ?it/s]"
          ]
        },
        {
          "name": "stdout",
          "output_type": "stream",
          "text": [
            "sample 1 num of prompts for Pneumonia from total 312\n"
          ]
        },
        {
          "name": "stderr",
          "output_type": "stream",
          "text": [
            "\rEvaluate Test:  33%|███▎      | 1/3 [00:00<00:01,  1.75it/s]"
          ]
        },
        {
          "name": "stdout",
          "output_type": "stream",
          "text": [
            "sample 1 num of prompts for Pneumonia from total 312\n"
          ]
        },
        {
          "name": "stderr",
          "output_type": "stream",
          "text": [
            "\rEvaluate Test:  67%|██████▋   | 2/3 [00:01<00:00,  1.49it/s]"
          ]
        },
        {
          "name": "stdout",
          "output_type": "stream",
          "text": [
            "sample 1 num of prompts for Pneumonia from total 312\n"
          ]
        },
        {
          "name": "stderr",
          "output_type": "stream",
          "text": [
            "Evaluate Test: 100%|██████████| 3/3 [00:01<00:00,  1.65it/s]\n"
          ]
        },
        {
          "name": "stdout",
          "output_type": "stream",
          "text": [
            "\n",
            "Accuracy: 0.6255, Precision: 0.6583, Recall: 0.4749, AUC: 0.6773\n"
          ]
        },
        {
          "name": "stderr",
          "output_type": "stream",
          "text": [
            "\rEvaluate Train:   0%|          | 0/8 [00:00<?, ?it/s]"
          ]
        },
        {
          "name": "stdout",
          "output_type": "stream",
          "text": [
            "sample 2 num of prompts for Pneumonia from total 312\n"
          ]
        },
        {
          "name": "stderr",
          "output_type": "stream",
          "text": [
            "\rEvaluate Train:  12%|█▎        | 1/8 [00:00<00:03,  2.01it/s]"
          ]
        },
        {
          "name": "stdout",
          "output_type": "stream",
          "text": [
            "sample 2 num of prompts for Pneumonia from total 312\n"
          ]
        },
        {
          "name": "stderr",
          "output_type": "stream",
          "text": [
            "\rEvaluate Train:  25%|██▌       | 2/8 [00:00<00:02,  2.02it/s]"
          ]
        },
        {
          "name": "stdout",
          "output_type": "stream",
          "text": [
            "sample 2 num of prompts for Pneumonia from total 312\n"
          ]
        },
        {
          "name": "stderr",
          "output_type": "stream",
          "text": [
            "\rEvaluate Train:  38%|███▊      | 3/8 [00:02<00:04,  1.10it/s]"
          ]
        },
        {
          "name": "stdout",
          "output_type": "stream",
          "text": [
            "sample 2 num of prompts for Pneumonia from total 312\n"
          ]
        },
        {
          "name": "stderr",
          "output_type": "stream",
          "text": [
            "\rEvaluate Train:  50%|█████     | 4/8 [00:03<00:03,  1.17it/s]"
          ]
        },
        {
          "name": "stdout",
          "output_type": "stream",
          "text": [
            "sample 2 num of prompts for Pneumonia from total 312\n"
          ]
        },
        {
          "name": "stderr",
          "output_type": "stream",
          "text": [
            "\rEvaluate Train:  62%|██████▎   | 5/8 [00:03<00:02,  1.36it/s]"
          ]
        },
        {
          "name": "stdout",
          "output_type": "stream",
          "text": [
            "sample 2 num of prompts for Pneumonia from total 312\n"
          ]
        },
        {
          "name": "stderr",
          "output_type": "stream",
          "text": [
            "\rEvaluate Train:  75%|███████▌  | 6/8 [00:04<00:01,  1.53it/s]"
          ]
        },
        {
          "name": "stdout",
          "output_type": "stream",
          "text": [
            "sample 2 num of prompts for Pneumonia from total 312\n"
          ]
        },
        {
          "name": "stderr",
          "output_type": "stream",
          "text": [
            "\rEvaluate Train:  88%|████████▊ | 7/8 [00:05<00:00,  1.30it/s]"
          ]
        },
        {
          "name": "stdout",
          "output_type": "stream",
          "text": [
            "sample 2 num of prompts for Pneumonia from total 312\n"
          ]
        },
        {
          "name": "stderr",
          "output_type": "stream",
          "text": [
            "Evaluate Train: 100%|██████████| 8/8 [00:05<00:00,  1.43it/s]\n",
            "Evaluate Validation:   0%|          | 0/2 [00:00<?, ?it/s]"
          ]
        },
        {
          "name": "stdout",
          "output_type": "stream",
          "text": [
            "sample 2 num of prompts for Pneumonia from total 312\n"
          ]
        },
        {
          "name": "stderr",
          "output_type": "stream",
          "text": [
            "\rEvaluate Validation:  50%|█████     | 1/2 [00:00<00:00,  1.99it/s]"
          ]
        },
        {
          "name": "stdout",
          "output_type": "stream",
          "text": [
            "sample 2 num of prompts for Pneumonia from total 312\n"
          ]
        },
        {
          "name": "stderr",
          "output_type": "stream",
          "text": [
            "Evaluate Validation: 100%|██████████| 2/2 [00:00<00:00,  2.02it/s]\n",
            "Evaluate Test:   0%|          | 0/3 [00:00<?, ?it/s]"
          ]
        },
        {
          "name": "stdout",
          "output_type": "stream",
          "text": [
            "sample 2 num of prompts for Pneumonia from total 312\n"
          ]
        },
        {
          "name": "stderr",
          "output_type": "stream",
          "text": [
            "\rEvaluate Test:  33%|███▎      | 1/3 [00:00<00:01,  1.98it/s]"
          ]
        },
        {
          "name": "stdout",
          "output_type": "stream",
          "text": [
            "sample 2 num of prompts for Pneumonia from total 312\n"
          ]
        },
        {
          "name": "stderr",
          "output_type": "stream",
          "text": [
            "\rEvaluate Test:  67%|██████▋   | 2/3 [00:01<00:00,  1.16it/s]"
          ]
        },
        {
          "name": "stdout",
          "output_type": "stream",
          "text": [
            "sample 2 num of prompts for Pneumonia from total 312\n"
          ]
        },
        {
          "name": "stderr",
          "output_type": "stream",
          "text": [
            "Evaluate Test: 100%|██████████| 3/3 [00:01<00:00,  1.52it/s]\n"
          ]
        },
        {
          "name": "stdout",
          "output_type": "stream",
          "text": [
            "\n",
            "Accuracy: 0.6232, Precision: 0.6025, Recall: 0.6577, AUC: 0.6660\n"
          ]
        },
        {
          "name": "stderr",
          "output_type": "stream",
          "text": [
            "\rEvaluate Train:   0%|          | 0/8 [00:00<?, ?it/s]"
          ]
        },
        {
          "name": "stdout",
          "output_type": "stream",
          "text": [
            "sample 3 num of prompts for Pneumonia from total 312\n"
          ]
        },
        {
          "name": "stderr",
          "output_type": "stream",
          "text": [
            "\rEvaluate Train:  12%|█▎        | 1/8 [00:00<00:03,  2.00it/s]"
          ]
        },
        {
          "name": "stdout",
          "output_type": "stream",
          "text": [
            "sample 3 num of prompts for Pneumonia from total 312\n"
          ]
        },
        {
          "name": "stderr",
          "output_type": "stream",
          "text": [
            "\rEvaluate Train:  25%|██▌       | 2/8 [00:01<00:05,  1.05it/s]"
          ]
        },
        {
          "name": "stdout",
          "output_type": "stream",
          "text": [
            "sample 3 num of prompts for Pneumonia from total 312\n"
          ]
        },
        {
          "name": "stderr",
          "output_type": "stream",
          "text": [
            "\rEvaluate Train:  38%|███▊      | 3/8 [00:02<00:04,  1.06it/s]"
          ]
        },
        {
          "name": "stdout",
          "output_type": "stream",
          "text": [
            "sample 3 num of prompts for Pneumonia from total 312\n"
          ]
        },
        {
          "name": "stderr",
          "output_type": "stream",
          "text": [
            "\rEvaluate Train:  50%|█████     | 4/8 [00:03<00:03,  1.29it/s]"
          ]
        },
        {
          "name": "stdout",
          "output_type": "stream",
          "text": [
            "sample 3 num of prompts for Pneumonia from total 312\n"
          ]
        },
        {
          "name": "stderr",
          "output_type": "stream",
          "text": [
            "\rEvaluate Train:  62%|██████▎   | 5/8 [00:03<00:02,  1.41it/s]"
          ]
        },
        {
          "name": "stdout",
          "output_type": "stream",
          "text": [
            "sample 3 num of prompts for Pneumonia from total 312\n"
          ]
        },
        {
          "name": "stderr",
          "output_type": "stream",
          "text": [
            "\rEvaluate Train:  75%|███████▌  | 6/8 [00:04<00:01,  1.34it/s]"
          ]
        },
        {
          "name": "stdout",
          "output_type": "stream",
          "text": [
            "sample 3 num of prompts for Pneumonia from total 312\n"
          ]
        },
        {
          "name": "stderr",
          "output_type": "stream",
          "text": [
            "\rEvaluate Train:  88%|████████▊ | 7/8 [00:05<00:00,  1.47it/s]"
          ]
        },
        {
          "name": "stdout",
          "output_type": "stream",
          "text": [
            "sample 3 num of prompts for Pneumonia from total 312\n"
          ]
        },
        {
          "name": "stderr",
          "output_type": "stream",
          "text": [
            "Evaluate Train: 100%|██████████| 8/8 [00:06<00:00,  1.32it/s]\n",
            "Evaluate Validation:   0%|          | 0/2 [00:00<?, ?it/s]"
          ]
        },
        {
          "name": "stdout",
          "output_type": "stream",
          "text": [
            "sample 3 num of prompts for Pneumonia from total 312\n"
          ]
        },
        {
          "name": "stderr",
          "output_type": "stream",
          "text": [
            "\rEvaluate Validation:  50%|█████     | 1/2 [00:00<00:00,  1.89it/s]"
          ]
        },
        {
          "name": "stdout",
          "output_type": "stream",
          "text": [
            "sample 3 num of prompts for Pneumonia from total 312\n"
          ]
        },
        {
          "name": "stderr",
          "output_type": "stream",
          "text": [
            "Evaluate Validation: 100%|██████████| 2/2 [00:01<00:00,  1.96it/s]\n",
            "Evaluate Test:   0%|          | 0/3 [00:00<?, ?it/s]"
          ]
        },
        {
          "name": "stdout",
          "output_type": "stream",
          "text": [
            "sample 3 num of prompts for Pneumonia from total 312\n"
          ]
        },
        {
          "name": "stderr",
          "output_type": "stream",
          "text": [
            "\rEvaluate Test:  33%|███▎      | 1/3 [00:00<00:01,  1.34it/s]"
          ]
        },
        {
          "name": "stdout",
          "output_type": "stream",
          "text": [
            "sample 3 num of prompts for Pneumonia from total 312\n"
          ]
        },
        {
          "name": "stderr",
          "output_type": "stream",
          "text": [
            "\rEvaluate Test:  67%|██████▋   | 2/3 [00:01<00:00,  1.14it/s]"
          ]
        },
        {
          "name": "stdout",
          "output_type": "stream",
          "text": [
            "sample 3 num of prompts for Pneumonia from total 312\n"
          ]
        },
        {
          "name": "stderr",
          "output_type": "stream",
          "text": [
            "Evaluate Test: 100%|██████████| 3/3 [00:02<00:00,  1.46it/s]\n"
          ]
        },
        {
          "name": "stdout",
          "output_type": "stream",
          "text": [
            "\n",
            "Accuracy: 0.6112, Precision: 0.5892, Recall: 0.6571, AUC: 0.6238\n"
          ]
        },
        {
          "name": "stderr",
          "output_type": "stream",
          "text": [
            "\rEvaluate Train:   0%|          | 0/8 [00:00<?, ?it/s]"
          ]
        },
        {
          "name": "stdout",
          "output_type": "stream",
          "text": [
            "sample 4 num of prompts for Pneumonia from total 312\n"
          ]
        },
        {
          "name": "stderr",
          "output_type": "stream",
          "text": [
            "\rEvaluate Train:  12%|█▎        | 1/8 [00:00<00:04,  1.74it/s]"
          ]
        },
        {
          "name": "stdout",
          "output_type": "stream",
          "text": [
            "sample 4 num of prompts for Pneumonia from total 312\n"
          ]
        },
        {
          "name": "stderr",
          "output_type": "stream",
          "text": [
            "\rEvaluate Train:  25%|██▌       | 2/8 [00:01<00:03,  1.68it/s]"
          ]
        },
        {
          "name": "stdout",
          "output_type": "stream",
          "text": [
            "sample 4 num of prompts for Pneumonia from total 312\n"
          ]
        },
        {
          "name": "stderr",
          "output_type": "stream",
          "text": [
            "\rEvaluate Train:  38%|███▊      | 3/8 [00:02<00:05,  1.04s/it]"
          ]
        },
        {
          "name": "stdout",
          "output_type": "stream",
          "text": [
            "sample 4 num of prompts for Pneumonia from total 312\n"
          ]
        },
        {
          "name": "stderr",
          "output_type": "stream",
          "text": [
            "\rEvaluate Train:  50%|█████     | 4/8 [00:03<00:03,  1.14it/s]"
          ]
        },
        {
          "name": "stdout",
          "output_type": "stream",
          "text": [
            "sample 4 num of prompts for Pneumonia from total 312\n"
          ]
        },
        {
          "name": "stderr",
          "output_type": "stream",
          "text": [
            "\rEvaluate Train:  62%|██████▎   | 5/8 [00:04<00:02,  1.23it/s]"
          ]
        },
        {
          "name": "stdout",
          "output_type": "stream",
          "text": [
            "sample 4 num of prompts for Pneumonia from total 312\n"
          ]
        },
        {
          "name": "stderr",
          "output_type": "stream",
          "text": [
            "\rEvaluate Train:  75%|███████▌  | 6/8 [00:05<00:01,  1.04it/s]"
          ]
        },
        {
          "name": "stdout",
          "output_type": "stream",
          "text": [
            "sample 4 num of prompts for Pneumonia from total 312\n"
          ]
        },
        {
          "name": "stderr",
          "output_type": "stream",
          "text": [
            "\rEvaluate Train:  88%|████████▊ | 7/8 [00:05<00:00,  1.23it/s]"
          ]
        },
        {
          "name": "stdout",
          "output_type": "stream",
          "text": [
            "sample 4 num of prompts for Pneumonia from total 312\n"
          ]
        },
        {
          "name": "stderr",
          "output_type": "stream",
          "text": [
            "Evaluate Train: 100%|██████████| 8/8 [00:06<00:00,  1.23it/s]\n",
            "Evaluate Validation:   0%|          | 0/2 [00:00<?, ?it/s]"
          ]
        },
        {
          "name": "stdout",
          "output_type": "stream",
          "text": [
            "sample 4 num of prompts for Pneumonia from total 312\n"
          ]
        },
        {
          "name": "stderr",
          "output_type": "stream",
          "text": [
            "\rEvaluate Validation:  50%|█████     | 1/2 [00:00<00:00,  1.81it/s]"
          ]
        },
        {
          "name": "stdout",
          "output_type": "stream",
          "text": [
            "sample 4 num of prompts for Pneumonia from total 312\n"
          ]
        },
        {
          "name": "stderr",
          "output_type": "stream",
          "text": [
            "Evaluate Validation: 100%|██████████| 2/2 [00:01<00:00,  1.84it/s]\n",
            "Evaluate Test:   0%|          | 0/3 [00:00<?, ?it/s]"
          ]
        },
        {
          "name": "stdout",
          "output_type": "stream",
          "text": [
            "sample 4 num of prompts for Pneumonia from total 312\n"
          ]
        },
        {
          "name": "stderr",
          "output_type": "stream",
          "text": [
            "\rEvaluate Test:  33%|███▎      | 1/3 [00:00<00:01,  1.91it/s]"
          ]
        },
        {
          "name": "stdout",
          "output_type": "stream",
          "text": [
            "sample 4 num of prompts for Pneumonia from total 312\n"
          ]
        },
        {
          "name": "stderr",
          "output_type": "stream",
          "text": [
            "\rEvaluate Test:  67%|██████▋   | 2/3 [00:01<00:00,  1.22it/s]"
          ]
        },
        {
          "name": "stdout",
          "output_type": "stream",
          "text": [
            "sample 4 num of prompts for Pneumonia from total 312\n"
          ]
        },
        {
          "name": "stderr",
          "output_type": "stream",
          "text": [
            "Evaluate Test: 100%|██████████| 3/3 [00:01<00:00,  1.57it/s]\n"
          ]
        },
        {
          "name": "stdout",
          "output_type": "stream",
          "text": [
            "\n",
            "Accuracy: 0.6502, Precision: 0.5996, Recall: 0.8406, AUC: 0.7357\n"
          ]
        },
        {
          "name": "stderr",
          "output_type": "stream",
          "text": [
            "\rEvaluate Train:   0%|          | 0/8 [00:00<?, ?it/s]"
          ]
        },
        {
          "name": "stdout",
          "output_type": "stream",
          "text": [
            "sample 5 num of prompts for Pneumonia from total 312\n"
          ]
        },
        {
          "name": "stderr",
          "output_type": "stream",
          "text": [
            "\rEvaluate Train:  12%|█▎        | 1/8 [00:00<00:04,  1.64it/s]"
          ]
        },
        {
          "name": "stdout",
          "output_type": "stream",
          "text": [
            "sample 5 num of prompts for Pneumonia from total 312\n"
          ]
        },
        {
          "name": "stderr",
          "output_type": "stream",
          "text": [
            "\rEvaluate Train:  25%|██▌       | 2/8 [00:01<00:05,  1.09it/s]"
          ]
        },
        {
          "name": "stdout",
          "output_type": "stream",
          "text": [
            "sample 5 num of prompts for Pneumonia from total 312\n"
          ]
        },
        {
          "name": "stderr",
          "output_type": "stream",
          "text": [
            "\rEvaluate Train:  38%|███▊      | 3/8 [00:02<00:03,  1.35it/s]"
          ]
        },
        {
          "name": "stdout",
          "output_type": "stream",
          "text": [
            "sample 5 num of prompts for Pneumonia from total 312\n"
          ]
        },
        {
          "name": "stderr",
          "output_type": "stream",
          "text": [
            "\rEvaluate Train:  50%|█████     | 4/8 [00:03<00:03,  1.00it/s]"
          ]
        },
        {
          "name": "stdout",
          "output_type": "stream",
          "text": [
            "sample 5 num of prompts for Pneumonia from total 312\n"
          ]
        },
        {
          "name": "stderr",
          "output_type": "stream",
          "text": [
            "\rEvaluate Train:  62%|██████▎   | 5/8 [00:04<00:03,  1.03s/it]"
          ]
        },
        {
          "name": "stdout",
          "output_type": "stream",
          "text": [
            "sample 5 num of prompts for Pneumonia from total 312\n"
          ]
        },
        {
          "name": "stderr",
          "output_type": "stream",
          "text": [
            "\rEvaluate Train:  75%|███████▌  | 6/8 [00:05<00:02,  1.02s/it]"
          ]
        },
        {
          "name": "stdout",
          "output_type": "stream",
          "text": [
            "sample 5 num of prompts for Pneumonia from total 312\n"
          ]
        },
        {
          "name": "stderr",
          "output_type": "stream",
          "text": [
            "\rEvaluate Train:  88%|████████▊ | 7/8 [00:06<00:00,  1.16it/s]"
          ]
        },
        {
          "name": "stdout",
          "output_type": "stream",
          "text": [
            "sample 5 num of prompts for Pneumonia from total 312\n"
          ]
        },
        {
          "name": "stderr",
          "output_type": "stream",
          "text": [
            "Evaluate Train: 100%|██████████| 8/8 [00:06<00:00,  1.17it/s]\n",
            "Evaluate Validation:   0%|          | 0/2 [00:00<?, ?it/s]"
          ]
        },
        {
          "name": "stdout",
          "output_type": "stream",
          "text": [
            "sample 5 num of prompts for Pneumonia from total 312\n"
          ]
        },
        {
          "name": "stderr",
          "output_type": "stream",
          "text": [
            "Evaluate Validation: 100%|██████████| 2/2 [00:01<00:00,  1.53it/s]\n"
          ]
        },
        {
          "name": "stdout",
          "output_type": "stream",
          "text": [
            "sample 5 num of prompts for Pneumonia from total 312\n"
          ]
        },
        {
          "name": "stderr",
          "output_type": "stream",
          "text": [
            "\rEvaluate Test:   0%|          | 0/3 [00:00<?, ?it/s]"
          ]
        },
        {
          "name": "stdout",
          "output_type": "stream",
          "text": [
            "sample 5 num of prompts for Pneumonia from total 312\n"
          ]
        },
        {
          "name": "stderr",
          "output_type": "stream",
          "text": [
            "\rEvaluate Test:  33%|███▎      | 1/3 [00:00<00:00,  2.00it/s]"
          ]
        },
        {
          "name": "stdout",
          "output_type": "stream",
          "text": [
            "sample 5 num of prompts for Pneumonia from total 312\n"
          ]
        },
        {
          "name": "stderr",
          "output_type": "stream",
          "text": [
            "\rEvaluate Test:  67%|██████▋   | 2/3 [00:01<00:00,  2.00it/s]"
          ]
        },
        {
          "name": "stdout",
          "output_type": "stream",
          "text": [
            "sample 5 num of prompts for Pneumonia from total 312\n"
          ]
        },
        {
          "name": "stderr",
          "output_type": "stream",
          "text": [
            "Evaluate Test: 100%|██████████| 3/3 [00:01<00:00,  2.22it/s]\n"
          ]
        },
        {
          "name": "stdout",
          "output_type": "stream",
          "text": [
            "\n",
            "Accuracy: 0.5806, Precision: 0.5492, Recall: 0.7595, AUC: 0.6345\n"
          ]
        },
        {
          "name": "stderr",
          "output_type": "stream",
          "text": [
            "\rEvaluate Train:   0%|          | 0/8 [00:00<?, ?it/s]"
          ]
        },
        {
          "name": "stdout",
          "output_type": "stream",
          "text": [
            "sample 6 num of prompts for Pneumonia from total 312\n"
          ]
        },
        {
          "name": "stderr",
          "output_type": "stream",
          "text": [
            "\rEvaluate Train:  12%|█▎        | 1/8 [00:00<00:03,  1.97it/s]"
          ]
        },
        {
          "name": "stdout",
          "output_type": "stream",
          "text": [
            "sample 6 num of prompts for Pneumonia from total 312\n"
          ]
        },
        {
          "name": "stderr",
          "output_type": "stream",
          "text": [
            "\rEvaluate Train:  25%|██▌       | 2/8 [00:01<00:03,  1.97it/s]"
          ]
        },
        {
          "name": "stdout",
          "output_type": "stream",
          "text": [
            "sample 6 num of prompts for Pneumonia from total 312\n"
          ]
        },
        {
          "name": "stderr",
          "output_type": "stream",
          "text": [
            "\rEvaluate Train:  38%|███▊      | 3/8 [00:02<00:03,  1.32it/s]"
          ]
        },
        {
          "name": "stdout",
          "output_type": "stream",
          "text": [
            "sample 6 num of prompts for Pneumonia from total 312\n"
          ]
        },
        {
          "name": "stderr",
          "output_type": "stream",
          "text": [
            "\rEvaluate Train:  50%|█████     | 4/8 [00:02<00:02,  1.41it/s]"
          ]
        },
        {
          "name": "stdout",
          "output_type": "stream",
          "text": [
            "sample 6 num of prompts for Pneumonia from total 312\n"
          ]
        },
        {
          "name": "stderr",
          "output_type": "stream",
          "text": [
            "\rEvaluate Train:  62%|██████▎   | 5/8 [00:03<00:02,  1.44it/s]"
          ]
        },
        {
          "name": "stdout",
          "output_type": "stream",
          "text": [
            "sample 6 num of prompts for Pneumonia from total 312\n"
          ]
        },
        {
          "name": "stderr",
          "output_type": "stream",
          "text": [
            "\rEvaluate Train:  75%|███████▌  | 6/8 [00:04<00:01,  1.39it/s]"
          ]
        },
        {
          "name": "stdout",
          "output_type": "stream",
          "text": [
            "sample 6 num of prompts for Pneumonia from total 312\n"
          ]
        },
        {
          "name": "stderr",
          "output_type": "stream",
          "text": [
            "\rEvaluate Train:  88%|████████▊ | 7/8 [00:05<00:00,  1.24it/s]"
          ]
        },
        {
          "name": "stdout",
          "output_type": "stream",
          "text": [
            "sample 6 num of prompts for Pneumonia from total 312\n"
          ]
        },
        {
          "name": "stderr",
          "output_type": "stream",
          "text": [
            "Evaluate Train: 100%|██████████| 8/8 [00:05<00:00,  1.43it/s]\n",
            "Evaluate Validation:   0%|          | 0/2 [00:00<?, ?it/s]"
          ]
        },
        {
          "name": "stdout",
          "output_type": "stream",
          "text": [
            "sample 6 num of prompts for Pneumonia from total 312\n"
          ]
        },
        {
          "name": "stderr",
          "output_type": "stream",
          "text": [
            "\rEvaluate Validation:  50%|█████     | 1/2 [00:00<00:00,  1.95it/s]"
          ]
        },
        {
          "name": "stdout",
          "output_type": "stream",
          "text": [
            "sample 6 num of prompts for Pneumonia from total 312\n"
          ]
        },
        {
          "name": "stderr",
          "output_type": "stream",
          "text": [
            "Evaluate Validation: 100%|██████████| 2/2 [00:01<00:00,  1.92it/s]\n",
            "Evaluate Test:   0%|          | 0/3 [00:00<?, ?it/s]"
          ]
        },
        {
          "name": "stdout",
          "output_type": "stream",
          "text": [
            "sample 6 num of prompts for Pneumonia from total 312\n"
          ]
        },
        {
          "name": "stderr",
          "output_type": "stream",
          "text": [
            "\rEvaluate Test:  33%|███▎      | 1/3 [00:00<00:01,  1.82it/s]"
          ]
        },
        {
          "name": "stdout",
          "output_type": "stream",
          "text": [
            "sample 6 num of prompts for Pneumonia from total 312\n"
          ]
        },
        {
          "name": "stderr",
          "output_type": "stream",
          "text": [
            "\rEvaluate Test:  67%|██████▋   | 2/3 [00:01<00:00,  1.23it/s]"
          ]
        },
        {
          "name": "stdout",
          "output_type": "stream",
          "text": [
            "sample 6 num of prompts for Pneumonia from total 312\n"
          ]
        },
        {
          "name": "stderr",
          "output_type": "stream",
          "text": [
            "Evaluate Test: 100%|██████████| 3/3 [00:02<00:00,  1.31it/s]\n"
          ]
        },
        {
          "name": "stdout",
          "output_type": "stream",
          "text": [
            "\n",
            "Accuracy: 0.6219, Precision: 0.5678, Recall: 0.9250, AUC: 0.7790\n"
          ]
        },
        {
          "name": "stderr",
          "output_type": "stream",
          "text": [
            "\rEvaluate Train:   0%|          | 0/8 [00:00<?, ?it/s]"
          ]
        },
        {
          "name": "stdout",
          "output_type": "stream",
          "text": [
            "sample 7 num of prompts for Pneumonia from total 312\n"
          ]
        },
        {
          "name": "stderr",
          "output_type": "stream",
          "text": [
            "\rEvaluate Train:  12%|█▎        | 1/8 [00:00<00:03,  1.79it/s]"
          ]
        },
        {
          "name": "stdout",
          "output_type": "stream",
          "text": [
            "sample 7 num of prompts for Pneumonia from total 312\n"
          ]
        },
        {
          "name": "stderr",
          "output_type": "stream",
          "text": [
            "\rEvaluate Train:  25%|██▌       | 2/8 [00:01<00:03,  1.89it/s]"
          ]
        },
        {
          "name": "stdout",
          "output_type": "stream",
          "text": [
            "sample 7 num of prompts for Pneumonia from total 312\n"
          ]
        },
        {
          "name": "stderr",
          "output_type": "stream",
          "text": [
            "\rEvaluate Train:  38%|███▊      | 3/8 [00:02<00:04,  1.21it/s]"
          ]
        },
        {
          "name": "stdout",
          "output_type": "stream",
          "text": [
            "sample 7 num of prompts for Pneumonia from total 312\n"
          ]
        },
        {
          "name": "stderr",
          "output_type": "stream",
          "text": [
            "\rEvaluate Train:  50%|█████     | 4/8 [00:03<00:03,  1.08it/s]"
          ]
        },
        {
          "name": "stdout",
          "output_type": "stream",
          "text": [
            "sample 7 num of prompts for Pneumonia from total 312\n"
          ]
        },
        {
          "name": "stderr",
          "output_type": "stream",
          "text": [
            "\rEvaluate Train:  62%|██████▎   | 5/8 [00:03<00:02,  1.27it/s]"
          ]
        },
        {
          "name": "stdout",
          "output_type": "stream",
          "text": [
            "sample 7 num of prompts for Pneumonia from total 312\n"
          ]
        },
        {
          "name": "stderr",
          "output_type": "stream",
          "text": [
            "\rEvaluate Train:  75%|███████▌  | 6/8 [00:04<00:01,  1.45it/s]"
          ]
        },
        {
          "name": "stdout",
          "output_type": "stream",
          "text": [
            "sample 7 num of prompts for Pneumonia from total 312\n"
          ]
        },
        {
          "name": "stderr",
          "output_type": "stream",
          "text": [
            "\rEvaluate Train:  88%|████████▊ | 7/8 [00:05<00:00,  1.35it/s]"
          ]
        },
        {
          "name": "stdout",
          "output_type": "stream",
          "text": [
            "sample 7 num of prompts for Pneumonia from total 312\n"
          ]
        },
        {
          "name": "stderr",
          "output_type": "stream",
          "text": [
            "Evaluate Train: 100%|██████████| 8/8 [00:06<00:00,  1.33it/s]\n",
            "Evaluate Validation:   0%|          | 0/2 [00:00<?, ?it/s]"
          ]
        },
        {
          "name": "stdout",
          "output_type": "stream",
          "text": [
            "sample 7 num of prompts for Pneumonia from total 312\n"
          ]
        },
        {
          "name": "stderr",
          "output_type": "stream",
          "text": [
            "\rEvaluate Validation:  50%|█████     | 1/2 [00:00<00:00,  1.93it/s]"
          ]
        },
        {
          "name": "stdout",
          "output_type": "stream",
          "text": [
            "sample 7 num of prompts for Pneumonia from total 312\n"
          ]
        },
        {
          "name": "stderr",
          "output_type": "stream",
          "text": [
            "Evaluate Validation: 100%|██████████| 2/2 [00:01<00:00,  1.98it/s]\n",
            "Evaluate Test:   0%|          | 0/3 [00:00<?, ?it/s]"
          ]
        },
        {
          "name": "stdout",
          "output_type": "stream",
          "text": [
            "sample 7 num of prompts for Pneumonia from total 312\n"
          ]
        },
        {
          "name": "stderr",
          "output_type": "stream",
          "text": [
            "\rEvaluate Test:  33%|███▎      | 1/3 [00:00<00:01,  1.92it/s]"
          ]
        },
        {
          "name": "stdout",
          "output_type": "stream",
          "text": [
            "sample 7 num of prompts for Pneumonia from total 312\n"
          ]
        },
        {
          "name": "stderr",
          "output_type": "stream",
          "text": [
            "\rEvaluate Test:  67%|██████▋   | 2/3 [00:01<00:00,  1.95it/s]"
          ]
        },
        {
          "name": "stdout",
          "output_type": "stream",
          "text": [
            "sample 7 num of prompts for Pneumonia from total 312\n"
          ]
        },
        {
          "name": "stderr",
          "output_type": "stream",
          "text": [
            "Evaluate Test: 100%|██████████| 3/3 [00:02<00:00,  1.17it/s]\n"
          ]
        },
        {
          "name": "stdout",
          "output_type": "stream",
          "text": [
            "\n",
            "Accuracy: 0.5725, Precision: 0.5357, Recall: 0.8948, AUC: 0.6892\n"
          ]
        },
        {
          "name": "stderr",
          "output_type": "stream",
          "text": [
            "\rEvaluate Train:   0%|          | 0/8 [00:00<?, ?it/s]"
          ]
        },
        {
          "name": "stdout",
          "output_type": "stream",
          "text": [
            "sample 8 num of prompts for Pneumonia from total 312\n"
          ]
        },
        {
          "name": "stderr",
          "output_type": "stream",
          "text": [
            "\rEvaluate Train:  12%|█▎        | 1/8 [00:00<00:04,  1.67it/s]"
          ]
        },
        {
          "name": "stdout",
          "output_type": "stream",
          "text": [
            "sample 8 num of prompts for Pneumonia from total 312\n"
          ]
        },
        {
          "name": "stderr",
          "output_type": "stream",
          "text": [
            "\rEvaluate Train:  25%|██▌       | 2/8 [00:01<00:03,  1.67it/s]"
          ]
        },
        {
          "name": "stdout",
          "output_type": "stream",
          "text": [
            "sample 8 num of prompts for Pneumonia from total 312\n"
          ]
        },
        {
          "name": "stderr",
          "output_type": "stream",
          "text": [
            "\rEvaluate Train:  38%|███▊      | 3/8 [00:02<00:04,  1.10it/s]"
          ]
        },
        {
          "name": "stdout",
          "output_type": "stream",
          "text": [
            "sample 8 num of prompts for Pneumonia from total 312\n"
          ]
        },
        {
          "name": "stderr",
          "output_type": "stream",
          "text": [
            "\rEvaluate Train:  50%|█████     | 4/8 [00:02<00:03,  1.33it/s]"
          ]
        },
        {
          "name": "stdout",
          "output_type": "stream",
          "text": [
            "sample 8 num of prompts for Pneumonia from total 312\n"
          ]
        },
        {
          "name": "stderr",
          "output_type": "stream",
          "text": [
            "\rEvaluate Train:  62%|██████▎   | 5/8 [00:03<00:02,  1.49it/s]"
          ]
        },
        {
          "name": "stdout",
          "output_type": "stream",
          "text": [
            "sample 8 num of prompts for Pneumonia from total 312\n"
          ]
        },
        {
          "name": "stderr",
          "output_type": "stream",
          "text": [
            "\rEvaluate Train:  75%|███████▌  | 6/8 [00:04<00:01,  1.20it/s]"
          ]
        },
        {
          "name": "stdout",
          "output_type": "stream",
          "text": [
            "sample 8 num of prompts for Pneumonia from total 312\n"
          ]
        },
        {
          "name": "stderr",
          "output_type": "stream",
          "text": [
            "\rEvaluate Train:  88%|████████▊ | 7/8 [00:05<00:00,  1.21it/s]"
          ]
        },
        {
          "name": "stdout",
          "output_type": "stream",
          "text": [
            "sample 8 num of prompts for Pneumonia from total 312\n"
          ]
        },
        {
          "name": "stderr",
          "output_type": "stream",
          "text": [
            "Evaluate Train: 100%|██████████| 8/8 [00:05<00:00,  1.35it/s]\n",
            "Evaluate Validation:   0%|          | 0/2 [00:00<?, ?it/s]"
          ]
        },
        {
          "name": "stdout",
          "output_type": "stream",
          "text": [
            "sample 8 num of prompts for Pneumonia from total 312\n"
          ]
        },
        {
          "name": "stderr",
          "output_type": "stream",
          "text": [
            "\rEvaluate Validation:  50%|█████     | 1/2 [00:00<00:00,  1.98it/s]"
          ]
        },
        {
          "name": "stdout",
          "output_type": "stream",
          "text": [
            "sample 8 num of prompts for Pneumonia from total 312\n"
          ]
        },
        {
          "name": "stderr",
          "output_type": "stream",
          "text": [
            "Evaluate Validation: 100%|██████████| 2/2 [00:02<00:00,  1.02s/it]\n",
            "Evaluate Test:   0%|          | 0/3 [00:00<?, ?it/s]"
          ]
        },
        {
          "name": "stdout",
          "output_type": "stream",
          "text": [
            "sample 8 num of prompts for Pneumonia from total 312\n"
          ]
        },
        {
          "name": "stderr",
          "output_type": "stream",
          "text": [
            "\rEvaluate Test:  33%|███▎      | 1/3 [00:00<00:01,  1.64it/s]"
          ]
        },
        {
          "name": "stdout",
          "output_type": "stream",
          "text": [
            "sample 8 num of prompts for Pneumonia from total 312\n"
          ]
        },
        {
          "name": "stderr",
          "output_type": "stream",
          "text": [
            "\rEvaluate Test:  67%|██████▋   | 2/3 [00:01<00:00,  1.67it/s]"
          ]
        },
        {
          "name": "stdout",
          "output_type": "stream",
          "text": [
            "sample 8 num of prompts for Pneumonia from total 312\n"
          ]
        },
        {
          "name": "stderr",
          "output_type": "stream",
          "text": [
            "Evaluate Test: 100%|██████████| 3/3 [00:01<00:00,  1.58it/s]\n"
          ]
        },
        {
          "name": "stdout",
          "output_type": "stream",
          "text": [
            "\n",
            "Accuracy: 0.5647, Precision: 0.5298, Recall: 0.9169, AUC: 0.6043\n"
          ]
        },
        {
          "name": "stderr",
          "output_type": "stream",
          "text": [
            "\rEvaluate Train:   0%|          | 0/8 [00:00<?, ?it/s]"
          ]
        },
        {
          "name": "stdout",
          "output_type": "stream",
          "text": [
            "sample 9 num of prompts for Pneumonia from total 312\n"
          ]
        },
        {
          "name": "stderr",
          "output_type": "stream",
          "text": [
            "\rEvaluate Train:  12%|█▎        | 1/8 [00:00<00:03,  1.96it/s]"
          ]
        },
        {
          "name": "stdout",
          "output_type": "stream",
          "text": [
            "sample 9 num of prompts for Pneumonia from total 312\n"
          ]
        },
        {
          "name": "stderr",
          "output_type": "stream",
          "text": [
            "\rEvaluate Train:  25%|██▌       | 2/8 [00:01<00:05,  1.09it/s]"
          ]
        },
        {
          "name": "stdout",
          "output_type": "stream",
          "text": [
            "sample 9 num of prompts for Pneumonia from total 312\n"
          ]
        },
        {
          "name": "stderr",
          "output_type": "stream",
          "text": [
            "\rEvaluate Train:  38%|███▊      | 3/8 [00:02<00:03,  1.34it/s]"
          ]
        },
        {
          "name": "stdout",
          "output_type": "stream",
          "text": [
            "sample 9 num of prompts for Pneumonia from total 312\n"
          ]
        },
        {
          "name": "stderr",
          "output_type": "stream",
          "text": [
            "\rEvaluate Train:  50%|█████     | 4/8 [00:02<00:02,  1.35it/s]"
          ]
        },
        {
          "name": "stdout",
          "output_type": "stream",
          "text": [
            "sample 9 num of prompts for Pneumonia from total 312\n"
          ]
        },
        {
          "name": "stderr",
          "output_type": "stream",
          "text": [
            "\rEvaluate Train:  62%|██████▎   | 5/8 [00:03<00:01,  1.53it/s]"
          ]
        },
        {
          "name": "stdout",
          "output_type": "stream",
          "text": [
            "sample 9 num of prompts for Pneumonia from total 312\n"
          ]
        },
        {
          "name": "stderr",
          "output_type": "stream",
          "text": [
            "\rEvaluate Train:  75%|███████▌  | 6/8 [00:04<00:01,  1.25it/s]"
          ]
        },
        {
          "name": "stdout",
          "output_type": "stream",
          "text": [
            "sample 9 num of prompts for Pneumonia from total 312\n"
          ]
        },
        {
          "name": "stderr",
          "output_type": "stream",
          "text": [
            "\rEvaluate Train:  88%|████████▊ | 7/8 [00:05<00:00,  1.42it/s]"
          ]
        },
        {
          "name": "stdout",
          "output_type": "stream",
          "text": [
            "sample 9 num of prompts for Pneumonia from total 312\n"
          ]
        },
        {
          "name": "stderr",
          "output_type": "stream",
          "text": [
            "Evaluate Train: 100%|██████████| 8/8 [00:05<00:00,  1.45it/s]\n",
            "Evaluate Validation:   0%|          | 0/2 [00:00<?, ?it/s]"
          ]
        },
        {
          "name": "stdout",
          "output_type": "stream",
          "text": [
            "sample 9 num of prompts for Pneumonia from total 312\n"
          ]
        },
        {
          "name": "stderr",
          "output_type": "stream",
          "text": [
            "\rEvaluate Validation:  50%|█████     | 1/2 [00:00<00:00,  2.00it/s]"
          ]
        },
        {
          "name": "stdout",
          "output_type": "stream",
          "text": [
            "sample 9 num of prompts for Pneumonia from total 312\n"
          ]
        },
        {
          "name": "stderr",
          "output_type": "stream",
          "text": [
            "Evaluate Validation: 100%|██████████| 2/2 [00:01<00:00,  1.28it/s]\n",
            "Evaluate Test:   0%|          | 0/3 [00:00<?, ?it/s]"
          ]
        },
        {
          "name": "stdout",
          "output_type": "stream",
          "text": [
            "sample 9 num of prompts for Pneumonia from total 312\n"
          ]
        },
        {
          "name": "stderr",
          "output_type": "stream",
          "text": [
            "\rEvaluate Test:  33%|███▎      | 1/3 [00:00<00:01,  1.89it/s]"
          ]
        },
        {
          "name": "stdout",
          "output_type": "stream",
          "text": [
            "sample 9 num of prompts for Pneumonia from total 312\n"
          ]
        },
        {
          "name": "stderr",
          "output_type": "stream",
          "text": [
            "\rEvaluate Test:  67%|██████▋   | 2/3 [00:01<00:00,  1.89it/s]"
          ]
        },
        {
          "name": "stdout",
          "output_type": "stream",
          "text": [
            "sample 9 num of prompts for Pneumonia from total 312\n"
          ]
        },
        {
          "name": "stderr",
          "output_type": "stream",
          "text": [
            "Evaluate Test: 100%|██████████| 3/3 [00:01<00:00,  1.81it/s]\n"
          ]
        },
        {
          "name": "stdout",
          "output_type": "stream",
          "text": [
            "\n",
            "Accuracy: 0.5774, Precision: 0.5401, Recall: 0.8714, AUC: 0.6490\n"
          ]
        },
        {
          "name": "stderr",
          "output_type": "stream",
          "text": [
            "\rEvaluate Train:   0%|          | 0/8 [00:00<?, ?it/s]"
          ]
        },
        {
          "name": "stdout",
          "output_type": "stream",
          "text": [
            "sample 10 num of prompts for Pneumonia from total 312\n"
          ]
        },
        {
          "name": "stderr",
          "output_type": "stream",
          "text": [
            "\rEvaluate Train:  12%|█▎        | 1/8 [00:00<00:03,  1.94it/s]"
          ]
        },
        {
          "name": "stdout",
          "output_type": "stream",
          "text": [
            "sample 10 num of prompts for Pneumonia from total 312\n"
          ]
        },
        {
          "name": "stderr",
          "output_type": "stream",
          "text": [
            "\rEvaluate Train:  25%|██▌       | 2/8 [00:01<00:06,  1.00s/it]"
          ]
        },
        {
          "name": "stdout",
          "output_type": "stream",
          "text": [
            "sample 10 num of prompts for Pneumonia from total 312\n"
          ]
        },
        {
          "name": "stderr",
          "output_type": "stream",
          "text": [
            "\rEvaluate Train:  38%|███▊      | 3/8 [00:02<00:04,  1.05it/s]"
          ]
        },
        {
          "name": "stdout",
          "output_type": "stream",
          "text": [
            "sample 10 num of prompts for Pneumonia from total 312\n"
          ]
        },
        {
          "name": "stderr",
          "output_type": "stream",
          "text": [
            "\rEvaluate Train:  50%|█████     | 4/8 [00:03<00:03,  1.28it/s]"
          ]
        },
        {
          "name": "stdout",
          "output_type": "stream",
          "text": [
            "sample 10 num of prompts for Pneumonia from total 312\n"
          ]
        },
        {
          "name": "stderr",
          "output_type": "stream",
          "text": [
            "\rEvaluate Train:  62%|██████▎   | 5/8 [00:03<00:02,  1.45it/s]"
          ]
        },
        {
          "name": "stdout",
          "output_type": "stream",
          "text": [
            "sample 10 num of prompts for Pneumonia from total 312\n"
          ]
        },
        {
          "name": "stderr",
          "output_type": "stream",
          "text": [
            "\rEvaluate Train:  75%|███████▌  | 6/8 [00:04<00:01,  1.24it/s]"
          ]
        },
        {
          "name": "stdout",
          "output_type": "stream",
          "text": [
            "sample 10 num of prompts for Pneumonia from total 312\n"
          ]
        },
        {
          "name": "stderr",
          "output_type": "stream",
          "text": [
            "\rEvaluate Train:  88%|████████▊ | 7/8 [00:05<00:00,  1.11it/s]"
          ]
        },
        {
          "name": "stdout",
          "output_type": "stream",
          "text": [
            "sample 10 num of prompts for Pneumonia from total 312\n"
          ]
        },
        {
          "name": "stderr",
          "output_type": "stream",
          "text": [
            "Evaluate Train: 100%|██████████| 8/8 [00:06<00:00,  1.25it/s]\n",
            "Evaluate Validation:   0%|          | 0/2 [00:00<?, ?it/s]"
          ]
        },
        {
          "name": "stdout",
          "output_type": "stream",
          "text": [
            "sample 10 num of prompts for Pneumonia from total 312\n"
          ]
        },
        {
          "name": "stderr",
          "output_type": "stream",
          "text": [
            "\rEvaluate Validation:  50%|█████     | 1/2 [00:00<00:00,  1.95it/s]"
          ]
        },
        {
          "name": "stdout",
          "output_type": "stream",
          "text": [
            "sample 10 num of prompts for Pneumonia from total 312\n"
          ]
        },
        {
          "name": "stderr",
          "output_type": "stream",
          "text": [
            "Evaluate Validation: 100%|██████████| 2/2 [00:01<00:00,  1.08it/s]\n",
            "Evaluate Test:   0%|          | 0/3 [00:00<?, ?it/s]"
          ]
        },
        {
          "name": "stdout",
          "output_type": "stream",
          "text": [
            "sample 10 num of prompts for Pneumonia from total 312\n"
          ]
        },
        {
          "name": "stderr",
          "output_type": "stream",
          "text": [
            "\rEvaluate Test:  33%|███▎      | 1/3 [00:00<00:01,  1.35it/s]"
          ]
        },
        {
          "name": "stdout",
          "output_type": "stream",
          "text": [
            "sample 10 num of prompts for Pneumonia from total 312\n"
          ]
        },
        {
          "name": "stderr",
          "output_type": "stream",
          "text": [
            "\rEvaluate Test:  67%|██████▋   | 2/3 [00:01<00:00,  1.58it/s]"
          ]
        },
        {
          "name": "stdout",
          "output_type": "stream",
          "text": [
            "sample 10 num of prompts for Pneumonia from total 312\n"
          ]
        },
        {
          "name": "stderr",
          "output_type": "stream",
          "text": [
            "Evaluate Test: 100%|██████████| 3/3 [00:03<00:00,  1.00s/it]\n"
          ]
        },
        {
          "name": "stdout",
          "output_type": "stream",
          "text": [
            "\n",
            "Accuracy: 0.5722, Precision: 0.5328, Recall: 0.9618, AUC: 0.6882\n"
          ]
        },
        {
          "name": "stderr",
          "output_type": "stream",
          "text": [
            "\rEvaluate Train:   0%|          | 0/8 [00:00<?, ?it/s]"
          ]
        },
        {
          "name": "stdout",
          "output_type": "stream",
          "text": [
            "sample 11 num of prompts for Pneumonia from total 312\n"
          ]
        },
        {
          "name": "stderr",
          "output_type": "stream",
          "text": [
            "\rEvaluate Train:  12%|█▎        | 1/8 [00:00<00:03,  1.89it/s]"
          ]
        },
        {
          "name": "stdout",
          "output_type": "stream",
          "text": [
            "sample 11 num of prompts for Pneumonia from total 312\n"
          ]
        },
        {
          "name": "stderr",
          "output_type": "stream",
          "text": [
            "\rEvaluate Train:  25%|██▌       | 2/8 [00:01<00:03,  1.79it/s]"
          ]
        },
        {
          "name": "stdout",
          "output_type": "stream",
          "text": [
            "sample 11 num of prompts for Pneumonia from total 312\n"
          ]
        },
        {
          "name": "stderr",
          "output_type": "stream",
          "text": [
            "\rEvaluate Train:  38%|███▊      | 3/8 [00:01<00:02,  1.88it/s]"
          ]
        },
        {
          "name": "stdout",
          "output_type": "stream",
          "text": [
            "sample 11 num of prompts for Pneumonia from total 312\n"
          ]
        },
        {
          "name": "stderr",
          "output_type": "stream",
          "text": [
            "\rEvaluate Train:  50%|█████     | 4/8 [00:02<00:02,  1.42it/s]"
          ]
        },
        {
          "name": "stdout",
          "output_type": "stream",
          "text": [
            "sample 11 num of prompts for Pneumonia from total 312\n"
          ]
        },
        {
          "name": "stderr",
          "output_type": "stream",
          "text": [
            "\rEvaluate Train:  62%|██████▎   | 5/8 [00:03<00:02,  1.31it/s]"
          ]
        },
        {
          "name": "stdout",
          "output_type": "stream",
          "text": [
            "sample 11 num of prompts for Pneumonia from total 312\n"
          ]
        },
        {
          "name": "stderr",
          "output_type": "stream",
          "text": [
            "\rEvaluate Train:  75%|███████▌  | 6/8 [00:03<00:01,  1.48it/s]"
          ]
        },
        {
          "name": "stdout",
          "output_type": "stream",
          "text": [
            "sample 11 num of prompts for Pneumonia from total 312\n"
          ]
        },
        {
          "name": "stderr",
          "output_type": "stream",
          "text": [
            "\rEvaluate Train:  88%|████████▊ | 7/8 [00:04<00:00,  1.53it/s]"
          ]
        },
        {
          "name": "stdout",
          "output_type": "stream",
          "text": [
            "sample 11 num of prompts for Pneumonia from total 312\n"
          ]
        },
        {
          "name": "stderr",
          "output_type": "stream",
          "text": [
            "Evaluate Train: 100%|██████████| 8/8 [00:05<00:00,  1.34it/s]\n",
            "Evaluate Validation:   0%|          | 0/2 [00:00<?, ?it/s]"
          ]
        },
        {
          "name": "stdout",
          "output_type": "stream",
          "text": [
            "sample 11 num of prompts for Pneumonia from total 312\n"
          ]
        },
        {
          "name": "stderr",
          "output_type": "stream",
          "text": [
            "\rEvaluate Validation:  50%|█████     | 1/2 [00:00<00:00,  1.93it/s]"
          ]
        },
        {
          "name": "stdout",
          "output_type": "stream",
          "text": [
            "sample 11 num of prompts for Pneumonia from total 312\n"
          ]
        },
        {
          "name": "stderr",
          "output_type": "stream",
          "text": [
            "Evaluate Validation: 100%|██████████| 2/2 [00:02<00:00,  1.01s/it]\n",
            "Evaluate Test:   0%|          | 0/3 [00:00<?, ?it/s]"
          ]
        },
        {
          "name": "stdout",
          "output_type": "stream",
          "text": [
            "sample 11 num of prompts for Pneumonia from total 312\n"
          ]
        },
        {
          "name": "stderr",
          "output_type": "stream",
          "text": [
            "\rEvaluate Test:  33%|███▎      | 1/3 [00:00<00:01,  1.39it/s]"
          ]
        },
        {
          "name": "stdout",
          "output_type": "stream",
          "text": [
            "sample 11 num of prompts for Pneumonia from total 312\n"
          ]
        },
        {
          "name": "stderr",
          "output_type": "stream",
          "text": [
            "\rEvaluate Test:  67%|██████▋   | 2/3 [00:01<00:00,  1.39it/s]"
          ]
        },
        {
          "name": "stdout",
          "output_type": "stream",
          "text": [
            "sample 11 num of prompts for Pneumonia from total 312\n"
          ]
        },
        {
          "name": "stderr",
          "output_type": "stream",
          "text": [
            "Evaluate Test: 100%|██████████| 3/3 [00:03<00:00,  1.00s/it]\n"
          ]
        },
        {
          "name": "stdout",
          "output_type": "stream",
          "text": [
            "\n",
            "Accuracy: 0.5481, Precision: 0.5192, Recall: 0.9337, AUC: 0.6211\n"
          ]
        },
        {
          "name": "stderr",
          "output_type": "stream",
          "text": [
            "\rEvaluate Train:   0%|          | 0/8 [00:00<?, ?it/s]"
          ]
        },
        {
          "name": "stdout",
          "output_type": "stream",
          "text": [
            "sample 12 num of prompts for Pneumonia from total 312\n"
          ]
        },
        {
          "name": "stderr",
          "output_type": "stream",
          "text": [
            "\rEvaluate Train:  12%|█▎        | 1/8 [00:00<00:03,  1.97it/s]"
          ]
        },
        {
          "name": "stdout",
          "output_type": "stream",
          "text": [
            "sample 12 num of prompts for Pneumonia from total 312\n"
          ]
        },
        {
          "name": "stderr",
          "output_type": "stream",
          "text": [
            "\rEvaluate Train:  25%|██▌       | 2/8 [00:01<00:03,  1.95it/s]"
          ]
        },
        {
          "name": "stdout",
          "output_type": "stream",
          "text": [
            "sample 12 num of prompts for Pneumonia from total 312\n"
          ]
        },
        {
          "name": "stderr",
          "output_type": "stream",
          "text": [
            "\rEvaluate Train:  38%|███▊      | 3/8 [00:02<00:04,  1.01it/s]"
          ]
        },
        {
          "name": "stdout",
          "output_type": "stream",
          "text": [
            "sample 12 num of prompts for Pneumonia from total 312\n"
          ]
        },
        {
          "name": "stderr",
          "output_type": "stream",
          "text": [
            "Evaluate Train:  62%|██████▎   | 5/8 [00:03<00:02,  1.43it/s]"
          ]
        },
        {
          "name": "stdout",
          "output_type": "stream",
          "text": [
            "sample 12 num of prompts for Pneumonia from total 312\n",
            "sample 12 num of prompts for Pneumonia from total 312\n"
          ]
        },
        {
          "name": "stderr",
          "output_type": "stream",
          "text": [
            "\rEvaluate Train:  75%|███████▌  | 6/8 [00:04<00:01,  1.33it/s]"
          ]
        },
        {
          "name": "stdout",
          "output_type": "stream",
          "text": [
            "sample 12 num of prompts for Pneumonia from total 312\n"
          ]
        },
        {
          "name": "stderr",
          "output_type": "stream",
          "text": [
            "\rEvaluate Train:  88%|████████▊ | 7/8 [00:05<00:00,  1.23it/s]"
          ]
        },
        {
          "name": "stdout",
          "output_type": "stream",
          "text": [
            "sample 12 num of prompts for Pneumonia from total 312\n"
          ]
        },
        {
          "name": "stderr",
          "output_type": "stream",
          "text": [
            "Evaluate Train: 100%|██████████| 8/8 [00:05<00:00,  1.37it/s]\n",
            "Evaluate Validation:   0%|          | 0/2 [00:00<?, ?it/s]"
          ]
        },
        {
          "name": "stdout",
          "output_type": "stream",
          "text": [
            "sample 12 num of prompts for Pneumonia from total 312\n"
          ]
        },
        {
          "name": "stderr",
          "output_type": "stream",
          "text": [
            "\rEvaluate Validation:  50%|█████     | 1/2 [00:00<00:00,  1.76it/s]"
          ]
        },
        {
          "name": "stdout",
          "output_type": "stream",
          "text": [
            "sample 12 num of prompts for Pneumonia from total 312\n"
          ]
        },
        {
          "name": "stderr",
          "output_type": "stream",
          "text": [
            "Evaluate Validation: 100%|██████████| 2/2 [00:01<00:00,  1.34it/s]\n",
            "Evaluate Test:   0%|          | 0/3 [00:00<?, ?it/s]"
          ]
        },
        {
          "name": "stdout",
          "output_type": "stream",
          "text": [
            "sample 12 num of prompts for Pneumonia from total 312\n"
          ]
        },
        {
          "name": "stderr",
          "output_type": "stream",
          "text": [
            "\rEvaluate Test:  33%|███▎      | 1/3 [00:00<00:01,  1.93it/s]"
          ]
        },
        {
          "name": "stdout",
          "output_type": "stream",
          "text": [
            "sample 12 num of prompts for Pneumonia from total 312\n"
          ]
        },
        {
          "name": "stderr",
          "output_type": "stream",
          "text": [
            "\rEvaluate Test:  67%|██████▋   | 2/3 [00:01<00:00,  1.95it/s]"
          ]
        },
        {
          "name": "stdout",
          "output_type": "stream",
          "text": [
            "sample 12 num of prompts for Pneumonia from total 312\n"
          ]
        },
        {
          "name": "stderr",
          "output_type": "stream",
          "text": [
            "Evaluate Test: 100%|██████████| 3/3 [00:01<00:00,  2.16it/s]\n"
          ]
        },
        {
          "name": "stdout",
          "output_type": "stream",
          "text": [
            "\n",
            "Accuracy: 0.5390, Precision: 0.5135, Recall: 0.9565, AUC: 0.6371\n",
            "Best AUC for rsna_task with 6 prompts: 0.7790\n",
            "Results saved to results/zero_shot/ucsd/medclip/classification_results.txt\n"
          ]
        },
        {
          "name": "stderr",
          "output_type": "stream",
          "text": [
            "\rEvaluate Train:   0%|          | 0/8 [00:00<?, ?it/s]"
          ]
        },
        {
          "name": "stdout",
          "output_type": "stream",
          "text": [
            "sample 1 num of prompts for COVID from total 12\n"
          ]
        },
        {
          "name": "stderr",
          "output_type": "stream",
          "text": [
            "\rEvaluate Train:  12%|█▎        | 1/8 [00:00<00:04,  1.69it/s]"
          ]
        },
        {
          "name": "stdout",
          "output_type": "stream",
          "text": [
            "sample 1 num of prompts for COVID from total 12\n"
          ]
        },
        {
          "name": "stderr",
          "output_type": "stream",
          "text": [
            "\rEvaluate Train:  25%|██▌       | 2/8 [00:01<00:05,  1.19it/s]"
          ]
        },
        {
          "name": "stdout",
          "output_type": "stream",
          "text": [
            "sample 1 num of prompts for COVID from total 12\n"
          ]
        },
        {
          "name": "stderr",
          "output_type": "stream",
          "text": [
            "\rEvaluate Train:  38%|███▊      | 3/8 [00:02<00:03,  1.41it/s]"
          ]
        },
        {
          "name": "stdout",
          "output_type": "stream",
          "text": [
            "sample 1 num of prompts for COVID from total 12\n"
          ]
        },
        {
          "name": "stderr",
          "output_type": "stream",
          "text": [
            "\rEvaluate Train:  50%|█████     | 4/8 [00:02<00:02,  1.35it/s]"
          ]
        },
        {
          "name": "stdout",
          "output_type": "stream",
          "text": [
            "sample 1 num of prompts for COVID from total 12\n"
          ]
        },
        {
          "name": "stderr",
          "output_type": "stream",
          "text": [
            "\rEvaluate Train:  62%|██████▎   | 5/8 [00:03<00:02,  1.24it/s]"
          ]
        },
        {
          "name": "stdout",
          "output_type": "stream",
          "text": [
            "sample 1 num of prompts for COVID from total 12\n"
          ]
        },
        {
          "name": "stderr",
          "output_type": "stream",
          "text": [
            "\rEvaluate Train:  75%|███████▌  | 6/8 [00:04<00:01,  1.42it/s]"
          ]
        },
        {
          "name": "stdout",
          "output_type": "stream",
          "text": [
            "sample 1 num of prompts for COVID from total 12\n"
          ]
        },
        {
          "name": "stderr",
          "output_type": "stream",
          "text": [
            "\rEvaluate Train:  88%|████████▊ | 7/8 [00:05<00:00,  1.10it/s]"
          ]
        },
        {
          "name": "stdout",
          "output_type": "stream",
          "text": [
            "sample 1 num of prompts for COVID from total 12\n"
          ]
        },
        {
          "name": "stderr",
          "output_type": "stream",
          "text": [
            "Evaluate Train: 100%|██████████| 8/8 [00:06<00:00,  1.30it/s]\n",
            "Evaluate Validation:   0%|          | 0/2 [00:00<?, ?it/s]"
          ]
        },
        {
          "name": "stdout",
          "output_type": "stream",
          "text": [
            "sample 1 num of prompts for COVID from total 12\n"
          ]
        },
        {
          "name": "stderr",
          "output_type": "stream",
          "text": [
            "\rEvaluate Validation:  50%|█████     | 1/2 [00:00<00:00,  1.97it/s]"
          ]
        },
        {
          "name": "stdout",
          "output_type": "stream",
          "text": [
            "sample 1 num of prompts for COVID from total 12\n"
          ]
        },
        {
          "name": "stderr",
          "output_type": "stream",
          "text": [
            "Evaluate Validation: 100%|██████████| 2/2 [00:02<00:00,  1.00s/it]\n",
            "Evaluate Test:   0%|          | 0/3 [00:00<?, ?it/s]"
          ]
        },
        {
          "name": "stdout",
          "output_type": "stream",
          "text": [
            "sample 1 num of prompts for COVID from total 12\n"
          ]
        },
        {
          "name": "stderr",
          "output_type": "stream",
          "text": [
            "\rEvaluate Test:  33%|███▎      | 1/3 [00:00<00:01,  1.99it/s]"
          ]
        },
        {
          "name": "stdout",
          "output_type": "stream",
          "text": [
            "sample 1 num of prompts for COVID from total 12\n"
          ]
        },
        {
          "name": "stderr",
          "output_type": "stream",
          "text": [
            "\rEvaluate Test:  67%|██████▋   | 2/3 [00:01<00:00,  1.23it/s]"
          ]
        },
        {
          "name": "stdout",
          "output_type": "stream",
          "text": [
            "sample 1 num of prompts for COVID from total 12\n"
          ]
        },
        {
          "name": "stderr",
          "output_type": "stream",
          "text": [
            "Evaluate Test: 100%|██████████| 3/3 [00:02<00:00,  1.44it/s]\n"
          ]
        },
        {
          "name": "stdout",
          "output_type": "stream",
          "text": [
            "\n",
            "Accuracy: 0.6554, Precision: 0.7239, Recall: 0.4689, AUC: 0.7554\n"
          ]
        },
        {
          "name": "stderr",
          "output_type": "stream",
          "text": [
            "\rEvaluate Train:   0%|          | 0/8 [00:00<?, ?it/s]"
          ]
        },
        {
          "name": "stdout",
          "output_type": "stream",
          "text": [
            "sample 2 num of prompts for COVID from total 12\n"
          ]
        },
        {
          "name": "stderr",
          "output_type": "stream",
          "text": [
            "\rEvaluate Train:  12%|█▎        | 1/8 [00:00<00:03,  1.97it/s]"
          ]
        },
        {
          "name": "stdout",
          "output_type": "stream",
          "text": [
            "sample 2 num of prompts for COVID from total 12\n"
          ]
        },
        {
          "name": "stderr",
          "output_type": "stream",
          "text": [
            "\rEvaluate Train:  25%|██▌       | 2/8 [00:01<00:02,  2.00it/s]"
          ]
        },
        {
          "name": "stdout",
          "output_type": "stream",
          "text": [
            "sample 2 num of prompts for COVID from total 12\n"
          ]
        },
        {
          "name": "stderr",
          "output_type": "stream",
          "text": [
            "\rEvaluate Train:  38%|███▊      | 3/8 [00:01<00:02,  1.95it/s]"
          ]
        },
        {
          "name": "stdout",
          "output_type": "stream",
          "text": [
            "sample 2 num of prompts for COVID from total 12\n"
          ]
        },
        {
          "name": "stderr",
          "output_type": "stream",
          "text": [
            "\rEvaluate Train:  50%|█████     | 4/8 [00:02<00:03,  1.32it/s]"
          ]
        },
        {
          "name": "stdout",
          "output_type": "stream",
          "text": [
            "sample 2 num of prompts for COVID from total 12\n"
          ]
        },
        {
          "name": "stderr",
          "output_type": "stream",
          "text": [
            "\rEvaluate Train:  62%|██████▎   | 5/8 [00:03<00:02,  1.19it/s]"
          ]
        },
        {
          "name": "stdout",
          "output_type": "stream",
          "text": [
            "sample 2 num of prompts for COVID from total 12\n"
          ]
        },
        {
          "name": "stderr",
          "output_type": "stream",
          "text": [
            "Evaluate Train:  88%|████████▊ | 7/8 [00:04<00:00,  1.53it/s]"
          ]
        },
        {
          "name": "stdout",
          "output_type": "stream",
          "text": [
            "sample 2 num of prompts for COVID from total 12\n",
            "sample 2 num of prompts for COVID from total 12\n"
          ]
        },
        {
          "name": "stderr",
          "output_type": "stream",
          "text": [
            "Evaluate Train: 100%|██████████| 8/8 [00:05<00:00,  1.34it/s]\n",
            "Evaluate Validation:   0%|          | 0/2 [00:00<?, ?it/s]"
          ]
        },
        {
          "name": "stdout",
          "output_type": "stream",
          "text": [
            "sample 2 num of prompts for COVID from total 12\n"
          ]
        },
        {
          "name": "stderr",
          "output_type": "stream",
          "text": [
            "\rEvaluate Validation:  50%|█████     | 1/2 [00:00<00:00,  1.76it/s]"
          ]
        },
        {
          "name": "stdout",
          "output_type": "stream",
          "text": [
            "sample 2 num of prompts for COVID from total 12\n"
          ]
        },
        {
          "name": "stderr",
          "output_type": "stream",
          "text": [
            "Evaluate Validation: 100%|██████████| 2/2 [00:01<00:00,  1.39it/s]\n",
            "Evaluate Test:   0%|          | 0/3 [00:00<?, ?it/s]"
          ]
        },
        {
          "name": "stdout",
          "output_type": "stream",
          "text": [
            "sample 2 num of prompts for COVID from total 12\n"
          ]
        },
        {
          "name": "stderr",
          "output_type": "stream",
          "text": [
            "\rEvaluate Test:  33%|███▎      | 1/3 [00:00<00:01,  1.96it/s]"
          ]
        },
        {
          "name": "stdout",
          "output_type": "stream",
          "text": [
            "sample 2 num of prompts for COVID from total 12\n"
          ]
        },
        {
          "name": "stderr",
          "output_type": "stream",
          "text": [
            "\rEvaluate Test:  67%|██████▋   | 2/3 [00:01<00:00,  1.92it/s]"
          ]
        },
        {
          "name": "stdout",
          "output_type": "stream",
          "text": [
            "sample 2 num of prompts for COVID from total 12\n"
          ]
        },
        {
          "name": "stderr",
          "output_type": "stream",
          "text": [
            "Evaluate Test: 100%|██████████| 3/3 [00:01<00:00,  1.52it/s]\n"
          ]
        },
        {
          "name": "stdout",
          "output_type": "stream",
          "text": [
            "\n",
            "Accuracy: 0.7181, Precision: 0.6930, Recall: 0.7528, AUC: 0.8026\n"
          ]
        },
        {
          "name": "stderr",
          "output_type": "stream",
          "text": [
            "\rEvaluate Train:   0%|          | 0/8 [00:00<?, ?it/s]"
          ]
        },
        {
          "name": "stdout",
          "output_type": "stream",
          "text": [
            "sample 3 num of prompts for COVID from total 12\n"
          ]
        },
        {
          "name": "stderr",
          "output_type": "stream",
          "text": [
            "\rEvaluate Train:  12%|█▎        | 1/8 [00:00<00:03,  2.00it/s]"
          ]
        },
        {
          "name": "stdout",
          "output_type": "stream",
          "text": [
            "sample 3 num of prompts for COVID from total 12\n"
          ]
        },
        {
          "name": "stderr",
          "output_type": "stream",
          "text": [
            "\rEvaluate Train:  25%|██▌       | 2/8 [00:00<00:02,  2.01it/s]"
          ]
        },
        {
          "name": "stdout",
          "output_type": "stream",
          "text": [
            "sample 3 num of prompts for COVID from total 12\n"
          ]
        },
        {
          "name": "stderr",
          "output_type": "stream",
          "text": [
            "\rEvaluate Train:  38%|███▊      | 3/8 [00:02<00:03,  1.36it/s]"
          ]
        },
        {
          "name": "stdout",
          "output_type": "stream",
          "text": [
            "sample 3 num of prompts for COVID from total 12\n"
          ]
        },
        {
          "name": "stderr",
          "output_type": "stream",
          "text": [
            "\rEvaluate Train:  50%|█████     | 4/8 [00:02<00:03,  1.23it/s]"
          ]
        },
        {
          "name": "stdout",
          "output_type": "stream",
          "text": [
            "sample 3 num of prompts for COVID from total 12\n"
          ]
        },
        {
          "name": "stderr",
          "output_type": "stream",
          "text": [
            "\rEvaluate Train:  62%|██████▎   | 5/8 [00:03<00:02,  1.43it/s]"
          ]
        },
        {
          "name": "stdout",
          "output_type": "stream",
          "text": [
            "sample 3 num of prompts for COVID from total 12\n"
          ]
        },
        {
          "name": "stderr",
          "output_type": "stream",
          "text": [
            "\rEvaluate Train:  75%|███████▌  | 6/8 [00:03<00:01,  1.58it/s]"
          ]
        },
        {
          "name": "stdout",
          "output_type": "stream",
          "text": [
            "sample 3 num of prompts for COVID from total 12\n"
          ]
        },
        {
          "name": "stderr",
          "output_type": "stream",
          "text": [
            "\rEvaluate Train:  88%|████████▊ | 7/8 [00:05<00:00,  1.28it/s]"
          ]
        },
        {
          "name": "stdout",
          "output_type": "stream",
          "text": [
            "sample 3 num of prompts for COVID from total 12\n"
          ]
        },
        {
          "name": "stderr",
          "output_type": "stream",
          "text": [
            "Evaluate Train: 100%|██████████| 8/8 [00:05<00:00,  1.35it/s]\n",
            "Evaluate Validation:   0%|          | 0/2 [00:00<?, ?it/s]"
          ]
        },
        {
          "name": "stdout",
          "output_type": "stream",
          "text": [
            "sample 3 num of prompts for COVID from total 12\n"
          ]
        },
        {
          "name": "stderr",
          "output_type": "stream",
          "text": [
            "\rEvaluate Validation:  50%|█████     | 1/2 [00:00<00:00,  1.98it/s]"
          ]
        },
        {
          "name": "stdout",
          "output_type": "stream",
          "text": [
            "sample 3 num of prompts for COVID from total 12\n"
          ]
        },
        {
          "name": "stderr",
          "output_type": "stream",
          "text": [
            "Evaluate Validation: 100%|██████████| 2/2 [00:00<00:00,  2.02it/s]\n",
            "Evaluate Test:   0%|          | 0/3 [00:00<?, ?it/s]"
          ]
        },
        {
          "name": "stdout",
          "output_type": "stream",
          "text": [
            "sample 3 num of prompts for COVID from total 12\n"
          ]
        },
        {
          "name": "stderr",
          "output_type": "stream",
          "text": [
            "\rEvaluate Test:  33%|███▎      | 1/3 [00:00<00:01,  1.97it/s]"
          ]
        },
        {
          "name": "stdout",
          "output_type": "stream",
          "text": [
            "sample 3 num of prompts for COVID from total 12\n"
          ]
        },
        {
          "name": "stderr",
          "output_type": "stream",
          "text": [
            "\rEvaluate Test:  67%|██████▋   | 2/3 [00:01<00:00,  2.00it/s]"
          ]
        },
        {
          "name": "stdout",
          "output_type": "stream",
          "text": [
            "sample 3 num of prompts for COVID from total 12\n"
          ]
        },
        {
          "name": "stderr",
          "output_type": "stream",
          "text": [
            "Evaluate Test: 100%|██████████| 3/3 [00:02<00:00,  1.16it/s]\n"
          ]
        },
        {
          "name": "stdout",
          "output_type": "stream",
          "text": [
            "\n",
            "Accuracy: 0.7350, Precision: 0.6809, Recall: 0.8547, AUC: 0.8314\n"
          ]
        },
        {
          "name": "stderr",
          "output_type": "stream",
          "text": [
            "\rEvaluate Train:   0%|          | 0/8 [00:00<?, ?it/s]"
          ]
        },
        {
          "name": "stdout",
          "output_type": "stream",
          "text": [
            "sample 4 num of prompts for COVID from total 12\n"
          ]
        },
        {
          "name": "stderr",
          "output_type": "stream",
          "text": [
            "\rEvaluate Train:  12%|█▎        | 1/8 [00:00<00:03,  1.86it/s]"
          ]
        },
        {
          "name": "stdout",
          "output_type": "stream",
          "text": [
            "sample 4 num of prompts for COVID from total 12\n"
          ]
        },
        {
          "name": "stderr",
          "output_type": "stream",
          "text": [
            "\rEvaluate Train:  25%|██▌       | 2/8 [00:01<00:03,  1.92it/s]"
          ]
        },
        {
          "name": "stdout",
          "output_type": "stream",
          "text": [
            "sample 4 num of prompts for COVID from total 12\n"
          ]
        },
        {
          "name": "stderr",
          "output_type": "stream",
          "text": [
            "\rEvaluate Train:  38%|███▊      | 3/8 [00:01<00:02,  1.95it/s]"
          ]
        },
        {
          "name": "stdout",
          "output_type": "stream",
          "text": [
            "sample 4 num of prompts for COVID from total 12\n"
          ]
        },
        {
          "name": "stderr",
          "output_type": "stream",
          "text": [
            "\rEvaluate Train:  50%|█████     | 4/8 [00:02<00:02,  1.56it/s]"
          ]
        },
        {
          "name": "stdout",
          "output_type": "stream",
          "text": [
            "sample 4 num of prompts for COVID from total 12\n"
          ]
        },
        {
          "name": "stderr",
          "output_type": "stream",
          "text": [
            "\rEvaluate Train:  62%|██████▎   | 5/8 [00:02<00:01,  1.69it/s]"
          ]
        },
        {
          "name": "stdout",
          "output_type": "stream",
          "text": [
            "sample 4 num of prompts for COVID from total 12\n"
          ]
        },
        {
          "name": "stderr",
          "output_type": "stream",
          "text": [
            "\rEvaluate Train:  75%|███████▌  | 6/8 [00:03<00:01,  1.77it/s]"
          ]
        },
        {
          "name": "stdout",
          "output_type": "stream",
          "text": [
            "sample 4 num of prompts for COVID from total 12\n"
          ]
        },
        {
          "name": "stderr",
          "output_type": "stream",
          "text": [
            "\rEvaluate Train:  88%|████████▊ | 7/8 [00:03<00:00,  1.83it/s]"
          ]
        },
        {
          "name": "stdout",
          "output_type": "stream",
          "text": [
            "sample 4 num of prompts for COVID from total 12\n"
          ]
        },
        {
          "name": "stderr",
          "output_type": "stream",
          "text": [
            "Evaluate Train: 100%|██████████| 8/8 [00:04<00:00,  1.63it/s]\n",
            "Evaluate Validation:   0%|          | 0/2 [00:00<?, ?it/s]"
          ]
        },
        {
          "name": "stdout",
          "output_type": "stream",
          "text": [
            "sample 4 num of prompts for COVID from total 12\n"
          ]
        },
        {
          "name": "stderr",
          "output_type": "stream",
          "text": [
            "\rEvaluate Validation:  50%|█████     | 1/2 [00:00<00:00,  1.70it/s]"
          ]
        },
        {
          "name": "stdout",
          "output_type": "stream",
          "text": [
            "sample 4 num of prompts for COVID from total 12\n"
          ]
        },
        {
          "name": "stderr",
          "output_type": "stream",
          "text": [
            "Evaluate Validation: 100%|██████████| 2/2 [00:01<00:00,  1.88it/s]\n",
            "Evaluate Test:   0%|          | 0/3 [00:00<?, ?it/s]"
          ]
        },
        {
          "name": "stdout",
          "output_type": "stream",
          "text": [
            "sample 4 num of prompts for COVID from total 12\n"
          ]
        },
        {
          "name": "stderr",
          "output_type": "stream",
          "text": [
            "\rEvaluate Test:  33%|███▎      | 1/3 [00:00<00:01,  1.90it/s]"
          ]
        },
        {
          "name": "stdout",
          "output_type": "stream",
          "text": [
            "sample 4 num of prompts for COVID from total 12\n"
          ]
        },
        {
          "name": "stderr",
          "output_type": "stream",
          "text": [
            "\rEvaluate Test:  67%|██████▋   | 2/3 [00:01<00:00,  1.06it/s]"
          ]
        },
        {
          "name": "stdout",
          "output_type": "stream",
          "text": [
            "sample 4 num of prompts for COVID from total 12\n"
          ]
        },
        {
          "name": "stderr",
          "output_type": "stream",
          "text": [
            "Evaluate Test: 100%|██████████| 3/3 [00:02<00:00,  1.28it/s]\n"
          ]
        },
        {
          "name": "stdout",
          "output_type": "stream",
          "text": [
            "\n",
            "Accuracy: 0.7402, Precision: 0.6848, Recall: 0.8614, AUC: 0.8360\n"
          ]
        },
        {
          "name": "stderr",
          "output_type": "stream",
          "text": [
            "\rEvaluate Train:   0%|          | 0/8 [00:00<?, ?it/s]"
          ]
        },
        {
          "name": "stdout",
          "output_type": "stream",
          "text": [
            "sample 5 num of prompts for COVID from total 12\n"
          ]
        },
        {
          "name": "stderr",
          "output_type": "stream",
          "text": [
            "\rEvaluate Train:  12%|█▎        | 1/8 [00:00<00:03,  1.93it/s]"
          ]
        },
        {
          "name": "stdout",
          "output_type": "stream",
          "text": [
            "sample 5 num of prompts for COVID from total 12\n"
          ]
        },
        {
          "name": "stderr",
          "output_type": "stream",
          "text": [
            "\rEvaluate Train:  25%|██▌       | 2/8 [00:01<00:03,  1.93it/s]"
          ]
        },
        {
          "name": "stdout",
          "output_type": "stream",
          "text": [
            "sample 5 num of prompts for COVID from total 12\n"
          ]
        },
        {
          "name": "stderr",
          "output_type": "stream",
          "text": [
            "\rEvaluate Train:  38%|███▊      | 3/8 [00:01<00:02,  1.85it/s]"
          ]
        },
        {
          "name": "stdout",
          "output_type": "stream",
          "text": [
            "sample 5 num of prompts for COVID from total 12\n"
          ]
        },
        {
          "name": "stderr",
          "output_type": "stream",
          "text": [
            "\rEvaluate Train:  50%|█████     | 4/8 [00:02<00:02,  1.90it/s]"
          ]
        },
        {
          "name": "stdout",
          "output_type": "stream",
          "text": [
            "sample 5 num of prompts for COVID from total 12\n"
          ]
        },
        {
          "name": "stderr",
          "output_type": "stream",
          "text": [
            "\rEvaluate Train:  62%|██████▎   | 5/8 [00:03<00:02,  1.43it/s]"
          ]
        },
        {
          "name": "stdout",
          "output_type": "stream",
          "text": [
            "sample 5 num of prompts for COVID from total 12\n"
          ]
        },
        {
          "name": "stderr",
          "output_type": "stream",
          "text": [
            "\rEvaluate Train:  75%|███████▌  | 6/8 [00:04<00:01,  1.29it/s]"
          ]
        },
        {
          "name": "stdout",
          "output_type": "stream",
          "text": [
            "sample 5 num of prompts for COVID from total 12\n"
          ]
        },
        {
          "name": "stderr",
          "output_type": "stream",
          "text": [
            "\rEvaluate Train:  88%|████████▊ | 7/8 [00:04<00:00,  1.44it/s]"
          ]
        },
        {
          "name": "stdout",
          "output_type": "stream",
          "text": [
            "sample 5 num of prompts for COVID from total 12\n"
          ]
        },
        {
          "name": "stderr",
          "output_type": "stream",
          "text": [
            "Evaluate Train: 100%|██████████| 8/8 [00:05<00:00,  1.44it/s]\n",
            "Evaluate Validation:   0%|          | 0/2 [00:00<?, ?it/s]"
          ]
        },
        {
          "name": "stdout",
          "output_type": "stream",
          "text": [
            "sample 5 num of prompts for COVID from total 12\n"
          ]
        },
        {
          "name": "stderr",
          "output_type": "stream",
          "text": [
            "\rEvaluate Validation:  50%|█████     | 1/2 [00:00<00:00,  1.76it/s]"
          ]
        },
        {
          "name": "stdout",
          "output_type": "stream",
          "text": [
            "sample 5 num of prompts for COVID from total 12\n"
          ]
        },
        {
          "name": "stderr",
          "output_type": "stream",
          "text": [
            "Evaluate Validation: 100%|██████████| 2/2 [00:01<00:00,  1.56it/s]\n",
            "Evaluate Test:   0%|          | 0/3 [00:00<?, ?it/s]"
          ]
        },
        {
          "name": "stdout",
          "output_type": "stream",
          "text": [
            "sample 5 num of prompts for COVID from total 12\n"
          ]
        },
        {
          "name": "stderr",
          "output_type": "stream",
          "text": [
            "\rEvaluate Test:  33%|███▎      | 1/3 [00:00<00:01,  1.84it/s]"
          ]
        },
        {
          "name": "stdout",
          "output_type": "stream",
          "text": [
            "sample 5 num of prompts for COVID from total 12\n"
          ]
        },
        {
          "name": "stderr",
          "output_type": "stream",
          "text": [
            "\rEvaluate Test:  67%|██████▋   | 2/3 [00:01<00:00,  1.93it/s]"
          ]
        },
        {
          "name": "stdout",
          "output_type": "stream",
          "text": [
            "sample 5 num of prompts for COVID from total 12\n"
          ]
        },
        {
          "name": "stderr",
          "output_type": "stream",
          "text": [
            "Evaluate Test: 100%|██████████| 3/3 [00:02<00:00,  1.12it/s]\n"
          ]
        },
        {
          "name": "stdout",
          "output_type": "stream",
          "text": [
            "\n",
            "Accuracy: 0.7321, Precision: 0.6773, Recall: 0.8560, AUC: 0.8308\n"
          ]
        },
        {
          "name": "stderr",
          "output_type": "stream",
          "text": [
            "\rEvaluate Train:   0%|          | 0/8 [00:00<?, ?it/s]"
          ]
        },
        {
          "name": "stdout",
          "output_type": "stream",
          "text": [
            "sample 6 num of prompts for COVID from total 12\n"
          ]
        },
        {
          "name": "stderr",
          "output_type": "stream",
          "text": [
            "\rEvaluate Train:  12%|█▎        | 1/8 [00:00<00:03,  1.84it/s]"
          ]
        },
        {
          "name": "stdout",
          "output_type": "stream",
          "text": [
            "sample 6 num of prompts for COVID from total 12\n"
          ]
        },
        {
          "name": "stderr",
          "output_type": "stream",
          "text": [
            "\rEvaluate Train:  25%|██▌       | 2/8 [00:01<00:03,  1.90it/s]"
          ]
        },
        {
          "name": "stdout",
          "output_type": "stream",
          "text": [
            "sample 6 num of prompts for COVID from total 12\n"
          ]
        },
        {
          "name": "stderr",
          "output_type": "stream",
          "text": [
            "\rEvaluate Train:  38%|███▊      | 3/8 [00:01<00:02,  1.88it/s]"
          ]
        },
        {
          "name": "stdout",
          "output_type": "stream",
          "text": [
            "sample 6 num of prompts for COVID from total 12\n"
          ]
        },
        {
          "name": "stderr",
          "output_type": "stream",
          "text": [
            "\rEvaluate Train:  50%|█████     | 4/8 [00:02<00:02,  1.48it/s]"
          ]
        },
        {
          "name": "stdout",
          "output_type": "stream",
          "text": [
            "sample 6 num of prompts for COVID from total 12\n"
          ]
        },
        {
          "name": "stderr",
          "output_type": "stream",
          "text": [
            "\rEvaluate Train:  62%|██████▎   | 5/8 [00:03<00:02,  1.29it/s]"
          ]
        },
        {
          "name": "stdout",
          "output_type": "stream",
          "text": [
            "sample 6 num of prompts for COVID from total 12\n"
          ]
        },
        {
          "name": "stderr",
          "output_type": "stream",
          "text": [
            "\rEvaluate Train:  75%|███████▌  | 6/8 [00:04<00:01,  1.34it/s]"
          ]
        },
        {
          "name": "stdout",
          "output_type": "stream",
          "text": [
            "sample 6 num of prompts for COVID from total 12\n"
          ]
        },
        {
          "name": "stderr",
          "output_type": "stream",
          "text": [
            "\rEvaluate Train:  88%|████████▊ | 7/8 [00:04<00:00,  1.50it/s]"
          ]
        },
        {
          "name": "stdout",
          "output_type": "stream",
          "text": [
            "sample 6 num of prompts for COVID from total 12\n"
          ]
        },
        {
          "name": "stderr",
          "output_type": "stream",
          "text": [
            "Evaluate Train: 100%|██████████| 8/8 [00:05<00:00,  1.49it/s]\n",
            "Evaluate Validation:   0%|          | 0/2 [00:00<?, ?it/s]"
          ]
        },
        {
          "name": "stdout",
          "output_type": "stream",
          "text": [
            "sample 6 num of prompts for COVID from total 12\n"
          ]
        },
        {
          "name": "stderr",
          "output_type": "stream",
          "text": [
            "\rEvaluate Validation:  50%|█████     | 1/2 [00:00<00:00,  1.83it/s]"
          ]
        },
        {
          "name": "stdout",
          "output_type": "stream",
          "text": [
            "sample 6 num of prompts for COVID from total 12\n"
          ]
        },
        {
          "name": "stderr",
          "output_type": "stream",
          "text": [
            "Evaluate Validation: 100%|██████████| 2/2 [00:01<00:00,  1.89it/s]\n",
            "Evaluate Test:   0%|          | 0/3 [00:00<?, ?it/s]"
          ]
        },
        {
          "name": "stdout",
          "output_type": "stream",
          "text": [
            "sample 6 num of prompts for COVID from total 12\n"
          ]
        },
        {
          "name": "stderr",
          "output_type": "stream",
          "text": [
            "\rEvaluate Test:  33%|███▎      | 1/3 [00:00<00:01,  1.90it/s]"
          ]
        },
        {
          "name": "stdout",
          "output_type": "stream",
          "text": [
            "sample 6 num of prompts for COVID from total 12\n"
          ]
        },
        {
          "name": "stderr",
          "output_type": "stream",
          "text": [
            "\rEvaluate Test:  67%|██████▋   | 2/3 [00:01<00:00,  1.72it/s]"
          ]
        },
        {
          "name": "stdout",
          "output_type": "stream",
          "text": [
            "sample 6 num of prompts for COVID from total 12\n"
          ]
        },
        {
          "name": "stderr",
          "output_type": "stream",
          "text": [
            "Evaluate Test: 100%|██████████| 3/3 [00:01<00:00,  1.56it/s]\n"
          ]
        },
        {
          "name": "stdout",
          "output_type": "stream",
          "text": [
            "\n",
            "Accuracy: 0.7503, Precision: 0.6792, Recall: 0.9203, AUC: 0.8594\n"
          ]
        },
        {
          "name": "stderr",
          "output_type": "stream",
          "text": [
            "\rEvaluate Train:   0%|          | 0/8 [00:00<?, ?it/s]"
          ]
        },
        {
          "name": "stdout",
          "output_type": "stream",
          "text": [
            "sample 7 num of prompts for COVID from total 12\n"
          ]
        },
        {
          "name": "stderr",
          "output_type": "stream",
          "text": [
            "\rEvaluate Train:  12%|█▎        | 1/8 [00:00<00:03,  2.00it/s]"
          ]
        },
        {
          "name": "stdout",
          "output_type": "stream",
          "text": [
            "sample 7 num of prompts for COVID from total 12\n"
          ]
        },
        {
          "name": "stderr",
          "output_type": "stream",
          "text": [
            "\rEvaluate Train:  25%|██▌       | 2/8 [00:01<00:03,  1.97it/s]"
          ]
        },
        {
          "name": "stdout",
          "output_type": "stream",
          "text": [
            "sample 7 num of prompts for COVID from total 12\n"
          ]
        },
        {
          "name": "stderr",
          "output_type": "stream",
          "text": [
            "\rEvaluate Train:  38%|███▊      | 3/8 [00:01<00:02,  1.91it/s]"
          ]
        },
        {
          "name": "stdout",
          "output_type": "stream",
          "text": [
            "sample 7 num of prompts for COVID from total 12\n"
          ]
        },
        {
          "name": "stderr",
          "output_type": "stream",
          "text": [
            "\rEvaluate Train:  50%|█████     | 4/8 [00:02<00:02,  1.77it/s]"
          ]
        },
        {
          "name": "stdout",
          "output_type": "stream",
          "text": [
            "sample 7 num of prompts for COVID from total 12\n"
          ]
        },
        {
          "name": "stderr",
          "output_type": "stream",
          "text": [
            "\rEvaluate Train:  62%|██████▎   | 5/8 [00:03<00:02,  1.49it/s]"
          ]
        },
        {
          "name": "stdout",
          "output_type": "stream",
          "text": [
            "sample 7 num of prompts for COVID from total 12\n"
          ]
        },
        {
          "name": "stderr",
          "output_type": "stream",
          "text": [
            "\rEvaluate Train:  75%|███████▌  | 6/8 [00:03<00:01,  1.62it/s]"
          ]
        },
        {
          "name": "stdout",
          "output_type": "stream",
          "text": [
            "sample 7 num of prompts for COVID from total 12\n"
          ]
        },
        {
          "name": "stderr",
          "output_type": "stream",
          "text": [
            "\rEvaluate Train:  88%|████████▊ | 7/8 [00:05<00:00,  1.07it/s]"
          ]
        },
        {
          "name": "stdout",
          "output_type": "stream",
          "text": [
            "sample 7 num of prompts for COVID from total 12\n"
          ]
        },
        {
          "name": "stderr",
          "output_type": "stream",
          "text": [
            "Evaluate Train: 100%|██████████| 8/8 [00:05<00:00,  1.34it/s]\n",
            "Evaluate Validation:   0%|          | 0/2 [00:00<?, ?it/s]"
          ]
        },
        {
          "name": "stdout",
          "output_type": "stream",
          "text": [
            "sample 7 num of prompts for COVID from total 12\n"
          ]
        },
        {
          "name": "stderr",
          "output_type": "stream",
          "text": [
            "\rEvaluate Validation:  50%|█████     | 1/2 [00:00<00:00,  1.60it/s]"
          ]
        },
        {
          "name": "stdout",
          "output_type": "stream",
          "text": [
            "sample 7 num of prompts for COVID from total 12\n"
          ]
        },
        {
          "name": "stderr",
          "output_type": "stream",
          "text": [
            "Evaluate Validation: 100%|██████████| 2/2 [00:01<00:00,  1.49it/s]\n",
            "Evaluate Test:   0%|          | 0/3 [00:00<?, ?it/s]"
          ]
        },
        {
          "name": "stdout",
          "output_type": "stream",
          "text": [
            "sample 7 num of prompts for COVID from total 12\n"
          ]
        },
        {
          "name": "stderr",
          "output_type": "stream",
          "text": [
            "\rEvaluate Test:  33%|███▎      | 1/3 [00:00<00:00,  2.01it/s]"
          ]
        },
        {
          "name": "stdout",
          "output_type": "stream",
          "text": [
            "sample 7 num of prompts for COVID from total 12\n"
          ]
        },
        {
          "name": "stderr",
          "output_type": "stream",
          "text": [
            "\rEvaluate Test:  67%|██████▋   | 2/3 [00:01<00:00,  1.05it/s]"
          ]
        },
        {
          "name": "stdout",
          "output_type": "stream",
          "text": [
            "sample 7 num of prompts for COVID from total 12\n"
          ]
        },
        {
          "name": "stderr",
          "output_type": "stream",
          "text": [
            "Evaluate Test: 100%|██████████| 3/3 [00:02<00:00,  1.14it/s]\n"
          ]
        },
        {
          "name": "stdout",
          "output_type": "stream",
          "text": [
            "\n",
            "Accuracy: 0.7503, Precision: 0.6790, Recall: 0.9210, AUC: 0.8599\n"
          ]
        },
        {
          "name": "stderr",
          "output_type": "stream",
          "text": [
            "\rEvaluate Train:   0%|          | 0/8 [00:00<?, ?it/s]"
          ]
        },
        {
          "name": "stdout",
          "output_type": "stream",
          "text": [
            "sample 8 num of prompts for COVID from total 12\n"
          ]
        },
        {
          "name": "stderr",
          "output_type": "stream",
          "text": [
            "\rEvaluate Train:  12%|█▎        | 1/8 [00:00<00:03,  1.97it/s]"
          ]
        },
        {
          "name": "stdout",
          "output_type": "stream",
          "text": [
            "sample 8 num of prompts for COVID from total 12\n"
          ]
        },
        {
          "name": "stderr",
          "output_type": "stream",
          "text": [
            "\rEvaluate Train:  25%|██▌       | 2/8 [00:01<00:03,  1.63it/s]"
          ]
        },
        {
          "name": "stdout",
          "output_type": "stream",
          "text": [
            "sample 8 num of prompts for COVID from total 12\n"
          ]
        },
        {
          "name": "stderr",
          "output_type": "stream",
          "text": [
            "\rEvaluate Train:  38%|███▊      | 3/8 [00:02<00:03,  1.38it/s]"
          ]
        },
        {
          "name": "stdout",
          "output_type": "stream",
          "text": [
            "sample 8 num of prompts for COVID from total 12\n"
          ]
        },
        {
          "name": "stderr",
          "output_type": "stream",
          "text": [
            "\rEvaluate Train:  50%|█████     | 4/8 [00:03<00:03,  1.23it/s]"
          ]
        },
        {
          "name": "stdout",
          "output_type": "stream",
          "text": [
            "sample 8 num of prompts for COVID from total 12\n"
          ]
        },
        {
          "name": "stderr",
          "output_type": "stream",
          "text": [
            "\rEvaluate Train:  62%|██████▎   | 5/8 [00:03<00:02,  1.41it/s]"
          ]
        },
        {
          "name": "stdout",
          "output_type": "stream",
          "text": [
            "sample 8 num of prompts for COVID from total 12\n"
          ]
        },
        {
          "name": "stderr",
          "output_type": "stream",
          "text": [
            "\rEvaluate Train:  75%|███████▌  | 6/8 [00:04<00:01,  1.37it/s]"
          ]
        },
        {
          "name": "stdout",
          "output_type": "stream",
          "text": [
            "sample 8 num of prompts for COVID from total 12\n"
          ]
        },
        {
          "name": "stderr",
          "output_type": "stream",
          "text": [
            "\rEvaluate Train:  88%|████████▊ | 7/8 [00:04<00:00,  1.52it/s]"
          ]
        },
        {
          "name": "stdout",
          "output_type": "stream",
          "text": [
            "sample 8 num of prompts for COVID from total 12\n"
          ]
        },
        {
          "name": "stderr",
          "output_type": "stream",
          "text": [
            "Evaluate Train: 100%|██████████| 8/8 [00:05<00:00,  1.34it/s]\n",
            "Evaluate Validation:   0%|          | 0/2 [00:00<?, ?it/s]"
          ]
        },
        {
          "name": "stdout",
          "output_type": "stream",
          "text": [
            "sample 8 num of prompts for COVID from total 12\n"
          ]
        },
        {
          "name": "stderr",
          "output_type": "stream",
          "text": [
            "\rEvaluate Validation:  50%|█████     | 1/2 [00:00<00:00,  1.74it/s]"
          ]
        },
        {
          "name": "stdout",
          "output_type": "stream",
          "text": [
            "sample 8 num of prompts for COVID from total 12\n"
          ]
        },
        {
          "name": "stderr",
          "output_type": "stream",
          "text": [
            "Evaluate Validation: 100%|██████████| 2/2 [00:01<00:00,  1.26it/s]\n",
            "Evaluate Test:   0%|          | 0/3 [00:00<?, ?it/s]"
          ]
        },
        {
          "name": "stdout",
          "output_type": "stream",
          "text": [
            "sample 8 num of prompts for COVID from total 12\n"
          ]
        },
        {
          "name": "stderr",
          "output_type": "stream",
          "text": [
            "\rEvaluate Test:  33%|███▎      | 1/3 [00:00<00:01,  2.00it/s]"
          ]
        },
        {
          "name": "stdout",
          "output_type": "stream",
          "text": [
            "sample 8 num of prompts for COVID from total 12\n"
          ]
        },
        {
          "name": "stderr",
          "output_type": "stream",
          "text": [
            "\rEvaluate Test:  67%|██████▋   | 2/3 [00:01<00:00,  1.31it/s]"
          ]
        },
        {
          "name": "stdout",
          "output_type": "stream",
          "text": [
            "sample 8 num of prompts for COVID from total 12\n"
          ]
        },
        {
          "name": "stderr",
          "output_type": "stream",
          "text": [
            "Evaluate Test: 100%|██████████| 3/3 [00:01<00:00,  1.67it/s]\n"
          ]
        },
        {
          "name": "stdout",
          "output_type": "stream",
          "text": [
            "\n",
            "Accuracy: 0.7510, Precision: 0.6797, Recall: 0.9210, AUC: 0.8600\n"
          ]
        },
        {
          "name": "stderr",
          "output_type": "stream",
          "text": [
            "\rEvaluate Train:   0%|          | 0/8 [00:00<?, ?it/s]"
          ]
        },
        {
          "name": "stdout",
          "output_type": "stream",
          "text": [
            "sample 9 num of prompts for COVID from total 12\n"
          ]
        },
        {
          "name": "stderr",
          "output_type": "stream",
          "text": [
            "\rEvaluate Train:  12%|█▎        | 1/8 [00:00<00:03,  1.81it/s]"
          ]
        },
        {
          "name": "stdout",
          "output_type": "stream",
          "text": [
            "sample 9 num of prompts for COVID from total 12\n"
          ]
        },
        {
          "name": "stderr",
          "output_type": "stream",
          "text": [
            "\rEvaluate Train:  25%|██▌       | 2/8 [00:01<00:03,  1.91it/s]"
          ]
        },
        {
          "name": "stdout",
          "output_type": "stream",
          "text": [
            "sample 9 num of prompts for COVID from total 12\n"
          ]
        },
        {
          "name": "stderr",
          "output_type": "stream",
          "text": [
            "\rEvaluate Train:  38%|███▊      | 3/8 [00:01<00:02,  1.93it/s]"
          ]
        },
        {
          "name": "stdout",
          "output_type": "stream",
          "text": [
            "sample 9 num of prompts for COVID from total 12\n"
          ]
        },
        {
          "name": "stderr",
          "output_type": "stream",
          "text": [
            "\rEvaluate Train:  50%|█████     | 4/8 [00:02<00:03,  1.31it/s]"
          ]
        },
        {
          "name": "stdout",
          "output_type": "stream",
          "text": [
            "sample 9 num of prompts for COVID from total 12\n"
          ]
        },
        {
          "name": "stderr",
          "output_type": "stream",
          "text": [
            "\rEvaluate Train:  62%|██████▎   | 5/8 [00:03<00:02,  1.47it/s]"
          ]
        },
        {
          "name": "stdout",
          "output_type": "stream",
          "text": [
            "sample 9 num of prompts for COVID from total 12\n"
          ]
        },
        {
          "name": "stderr",
          "output_type": "stream",
          "text": [
            "\rEvaluate Train:  75%|███████▌  | 6/8 [00:03<00:01,  1.60it/s]"
          ]
        },
        {
          "name": "stdout",
          "output_type": "stream",
          "text": [
            "sample 9 num of prompts for COVID from total 12\n"
          ]
        },
        {
          "name": "stderr",
          "output_type": "stream",
          "text": [
            "\rEvaluate Train:  88%|████████▊ | 7/8 [00:04<00:00,  1.34it/s]"
          ]
        },
        {
          "name": "stdout",
          "output_type": "stream",
          "text": [
            "sample 9 num of prompts for COVID from total 12\n"
          ]
        },
        {
          "name": "stderr",
          "output_type": "stream",
          "text": [
            "Evaluate Train: 100%|██████████| 8/8 [00:06<00:00,  1.31it/s]\n",
            "Evaluate Validation:   0%|          | 0/2 [00:00<?, ?it/s]"
          ]
        },
        {
          "name": "stdout",
          "output_type": "stream",
          "text": [
            "sample 9 num of prompts for COVID from total 12\n"
          ]
        },
        {
          "name": "stderr",
          "output_type": "stream",
          "text": [
            "\rEvaluate Validation:  50%|█████     | 1/2 [00:00<00:00,  1.84it/s]"
          ]
        },
        {
          "name": "stdout",
          "output_type": "stream",
          "text": [
            "sample 9 num of prompts for COVID from total 12\n"
          ]
        },
        {
          "name": "stderr",
          "output_type": "stream",
          "text": [
            "Evaluate Validation: 100%|██████████| 2/2 [00:01<00:00,  1.77it/s]\n",
            "Evaluate Test:   0%|          | 0/3 [00:00<?, ?it/s]"
          ]
        },
        {
          "name": "stdout",
          "output_type": "stream",
          "text": [
            "sample 9 num of prompts for COVID from total 12\n"
          ]
        },
        {
          "name": "stderr",
          "output_type": "stream",
          "text": [
            "\rEvaluate Test:  33%|███▎      | 1/3 [00:00<00:01,  1.98it/s]"
          ]
        },
        {
          "name": "stdout",
          "output_type": "stream",
          "text": [
            "sample 9 num of prompts for COVID from total 12\n"
          ]
        },
        {
          "name": "stderr",
          "output_type": "stream",
          "text": [
            "\rEvaluate Test:  67%|██████▋   | 2/3 [00:01<00:00,  1.24it/s]"
          ]
        },
        {
          "name": "stdout",
          "output_type": "stream",
          "text": [
            "sample 9 num of prompts for COVID from total 12\n"
          ]
        },
        {
          "name": "stderr",
          "output_type": "stream",
          "text": [
            "Evaluate Test: 100%|██████████| 3/3 [00:02<00:00,  1.33it/s]\n"
          ]
        },
        {
          "name": "stdout",
          "output_type": "stream",
          "text": [
            "\n",
            "Accuracy: 0.7493, Precision: 0.6778, Recall: 0.9216, AUC: 0.8600\n"
          ]
        },
        {
          "name": "stderr",
          "output_type": "stream",
          "text": [
            "\rEvaluate Train:   0%|          | 0/8 [00:00<?, ?it/s]"
          ]
        },
        {
          "name": "stdout",
          "output_type": "stream",
          "text": [
            "sample 10 num of prompts for COVID from total 12\n"
          ]
        },
        {
          "name": "stderr",
          "output_type": "stream",
          "text": [
            "\rEvaluate Train:  12%|█▎        | 1/8 [00:00<00:03,  1.98it/s]"
          ]
        },
        {
          "name": "stdout",
          "output_type": "stream",
          "text": [
            "sample 10 num of prompts for COVID from total 12\n"
          ]
        },
        {
          "name": "stderr",
          "output_type": "stream",
          "text": [
            "\rEvaluate Train:  25%|██▌       | 2/8 [00:01<00:03,  1.54it/s]"
          ]
        },
        {
          "name": "stdout",
          "output_type": "stream",
          "text": [
            "sample 10 num of prompts for COVID from total 12\n"
          ]
        },
        {
          "name": "stderr",
          "output_type": "stream",
          "text": [
            "\rEvaluate Train:  38%|███▊      | 3/8 [00:02<00:04,  1.23it/s]"
          ]
        },
        {
          "name": "stdout",
          "output_type": "stream",
          "text": [
            "sample 10 num of prompts for COVID from total 12\n"
          ]
        },
        {
          "name": "stderr",
          "output_type": "stream",
          "text": [
            "\rEvaluate Train:  50%|█████     | 4/8 [00:02<00:02,  1.44it/s]"
          ]
        },
        {
          "name": "stdout",
          "output_type": "stream",
          "text": [
            "sample 10 num of prompts for COVID from total 12\n"
          ]
        },
        {
          "name": "stderr",
          "output_type": "stream",
          "text": [
            "\rEvaluate Train:  62%|██████▎   | 5/8 [00:03<00:02,  1.45it/s]"
          ]
        },
        {
          "name": "stdout",
          "output_type": "stream",
          "text": [
            "sample 10 num of prompts for COVID from total 12\n"
          ]
        },
        {
          "name": "stderr",
          "output_type": "stream",
          "text": [
            "\rEvaluate Train:  75%|███████▌  | 6/8 [00:03<00:01,  1.59it/s]"
          ]
        },
        {
          "name": "stdout",
          "output_type": "stream",
          "text": [
            "sample 10 num of prompts for COVID from total 12\n"
          ]
        },
        {
          "name": "stderr",
          "output_type": "stream",
          "text": [
            "\rEvaluate Train:  88%|████████▊ | 7/8 [00:05<00:00,  1.27it/s]"
          ]
        },
        {
          "name": "stdout",
          "output_type": "stream",
          "text": [
            "sample 10 num of prompts for COVID from total 12\n"
          ]
        },
        {
          "name": "stderr",
          "output_type": "stream",
          "text": [
            "Evaluate Train: 100%|██████████| 8/8 [00:05<00:00,  1.45it/s]\n",
            "Evaluate Validation:   0%|          | 0/2 [00:00<?, ?it/s]"
          ]
        },
        {
          "name": "stdout",
          "output_type": "stream",
          "text": [
            "sample 10 num of prompts for COVID from total 12\n"
          ]
        },
        {
          "name": "stderr",
          "output_type": "stream",
          "text": [
            "\rEvaluate Validation:  50%|█████     | 1/2 [00:00<00:00,  1.96it/s]"
          ]
        },
        {
          "name": "stdout",
          "output_type": "stream",
          "text": [
            "sample 10 num of prompts for COVID from total 12\n"
          ]
        },
        {
          "name": "stderr",
          "output_type": "stream",
          "text": [
            "Evaluate Validation: 100%|██████████| 2/2 [00:00<00:00,  2.02it/s]\n",
            "Evaluate Test:   0%|          | 0/3 [00:00<?, ?it/s]"
          ]
        },
        {
          "name": "stdout",
          "output_type": "stream",
          "text": [
            "sample 10 num of prompts for COVID from total 12\n"
          ]
        },
        {
          "name": "stderr",
          "output_type": "stream",
          "text": [
            "\rEvaluate Test:  33%|███▎      | 1/3 [00:00<00:01,  1.95it/s]"
          ]
        },
        {
          "name": "stdout",
          "output_type": "stream",
          "text": [
            "sample 10 num of prompts for COVID from total 12\n"
          ]
        },
        {
          "name": "stderr",
          "output_type": "stream",
          "text": [
            "\rEvaluate Test:  67%|██████▋   | 2/3 [00:01<00:00,  1.19it/s]"
          ]
        },
        {
          "name": "stdout",
          "output_type": "stream",
          "text": [
            "sample 10 num of prompts for COVID from total 12\n"
          ]
        },
        {
          "name": "stderr",
          "output_type": "stream",
          "text": [
            "Evaluate Test: 100%|██████████| 3/3 [00:01<00:00,  1.55it/s]\n"
          ]
        },
        {
          "name": "stdout",
          "output_type": "stream",
          "text": [
            "\n",
            "Accuracy: 0.7493, Precision: 0.6777, Recall: 0.9223, AUC: 0.8602\n"
          ]
        },
        {
          "name": "stderr",
          "output_type": "stream",
          "text": [
            "\rEvaluate Train:   0%|          | 0/8 [00:00<?, ?it/s]"
          ]
        },
        {
          "name": "stdout",
          "output_type": "stream",
          "text": [
            "sample 11 num of prompts for COVID from total 12\n"
          ]
        },
        {
          "name": "stderr",
          "output_type": "stream",
          "text": [
            "\rEvaluate Train:  12%|█▎        | 1/8 [00:00<00:03,  1.88it/s]"
          ]
        },
        {
          "name": "stdout",
          "output_type": "stream",
          "text": [
            "sample 11 num of prompts for COVID from total 12\n"
          ]
        },
        {
          "name": "stderr",
          "output_type": "stream",
          "text": [
            "\rEvaluate Train:  25%|██▌       | 2/8 [00:01<00:03,  1.91it/s]"
          ]
        },
        {
          "name": "stdout",
          "output_type": "stream",
          "text": [
            "sample 11 num of prompts for COVID from total 12\n"
          ]
        },
        {
          "name": "stderr",
          "output_type": "stream",
          "text": [
            "\rEvaluate Train:  38%|███▊      | 3/8 [00:01<00:02,  1.94it/s]"
          ]
        },
        {
          "name": "stdout",
          "output_type": "stream",
          "text": [
            "sample 11 num of prompts for COVID from total 12\n"
          ]
        },
        {
          "name": "stderr",
          "output_type": "stream",
          "text": [
            "\rEvaluate Train:  50%|█████     | 4/8 [00:02<00:02,  1.38it/s]"
          ]
        },
        {
          "name": "stdout",
          "output_type": "stream",
          "text": [
            "sample 11 num of prompts for COVID from total 12\n"
          ]
        },
        {
          "name": "stderr",
          "output_type": "stream",
          "text": [
            "\rEvaluate Train:  62%|██████▎   | 5/8 [00:03<00:02,  1.24it/s]"
          ]
        },
        {
          "name": "stdout",
          "output_type": "stream",
          "text": [
            "sample 11 num of prompts for COVID from total 12\n"
          ]
        },
        {
          "name": "stderr",
          "output_type": "stream",
          "text": [
            "\rEvaluate Train:  75%|███████▌  | 6/8 [00:04<00:01,  1.42it/s]"
          ]
        },
        {
          "name": "stdout",
          "output_type": "stream",
          "text": [
            "sample 11 num of prompts for COVID from total 12\n"
          ]
        },
        {
          "name": "stderr",
          "output_type": "stream",
          "text": [
            "\rEvaluate Train:  88%|████████▊ | 7/8 [00:04<00:00,  1.56it/s]"
          ]
        },
        {
          "name": "stdout",
          "output_type": "stream",
          "text": [
            "sample 11 num of prompts for COVID from total 12\n"
          ]
        },
        {
          "name": "stderr",
          "output_type": "stream",
          "text": [
            "Evaluate Train: 100%|██████████| 8/8 [00:05<00:00,  1.43it/s]\n",
            "Evaluate Validation:   0%|          | 0/2 [00:00<?, ?it/s]"
          ]
        },
        {
          "name": "stdout",
          "output_type": "stream",
          "text": [
            "sample 11 num of prompts for COVID from total 12\n"
          ]
        },
        {
          "name": "stderr",
          "output_type": "stream",
          "text": [
            "\rEvaluate Validation:  50%|█████     | 1/2 [00:00<00:00,  1.99it/s]"
          ]
        },
        {
          "name": "stdout",
          "output_type": "stream",
          "text": [
            "sample 11 num of prompts for COVID from total 12\n"
          ]
        },
        {
          "name": "stderr",
          "output_type": "stream",
          "text": [
            "Evaluate Validation: 100%|██████████| 2/2 [00:00<00:00,  2.02it/s]\n",
            "Evaluate Test:   0%|          | 0/3 [00:00<?, ?it/s]"
          ]
        },
        {
          "name": "stdout",
          "output_type": "stream",
          "text": [
            "sample 11 num of prompts for COVID from total 12\n"
          ]
        },
        {
          "name": "stderr",
          "output_type": "stream",
          "text": [
            "Evaluate Test:  67%|██████▋   | 2/3 [00:01<00:00,  1.70it/s]"
          ]
        },
        {
          "name": "stdout",
          "output_type": "stream",
          "text": [
            "sample 11 num of prompts for COVID from total 12\n",
            "sample 11 num of prompts for COVID from total 12\n"
          ]
        },
        {
          "name": "stderr",
          "output_type": "stream",
          "text": [
            "Evaluate Test: 100%|██████████| 3/3 [00:02<00:00,  1.23it/s]\n"
          ]
        },
        {
          "name": "stdout",
          "output_type": "stream",
          "text": [
            "\n",
            "Accuracy: 0.7493, Precision: 0.6777, Recall: 0.9223, AUC: 0.8600\n"
          ]
        },
        {
          "name": "stderr",
          "output_type": "stream",
          "text": [
            "\rEvaluate Train:   0%|          | 0/8 [00:00<?, ?it/s]"
          ]
        },
        {
          "name": "stdout",
          "output_type": "stream",
          "text": [
            "sample 12 num of prompts for COVID from total 12\n"
          ]
        },
        {
          "name": "stderr",
          "output_type": "stream",
          "text": [
            "\rEvaluate Train:  12%|█▎        | 1/8 [00:00<00:03,  1.88it/s]"
          ]
        },
        {
          "name": "stdout",
          "output_type": "stream",
          "text": [
            "sample 12 num of prompts for COVID from total 12\n"
          ]
        },
        {
          "name": "stderr",
          "output_type": "stream",
          "text": [
            "\rEvaluate Train:  25%|██▌       | 2/8 [00:01<00:03,  1.60it/s]"
          ]
        },
        {
          "name": "stdout",
          "output_type": "stream",
          "text": [
            "sample 12 num of prompts for COVID from total 12\n"
          ]
        },
        {
          "name": "stderr",
          "output_type": "stream",
          "text": [
            "\rEvaluate Train:  38%|███▊      | 3/8 [00:02<00:04,  1.09it/s]"
          ]
        },
        {
          "name": "stdout",
          "output_type": "stream",
          "text": [
            "sample 12 num of prompts for COVID from total 12\n"
          ]
        },
        {
          "name": "stderr",
          "output_type": "stream",
          "text": [
            "\rEvaluate Train:  50%|█████     | 4/8 [00:03<00:03,  1.07it/s]"
          ]
        },
        {
          "name": "stdout",
          "output_type": "stream",
          "text": [
            "sample 12 num of prompts for COVID from total 12\n"
          ]
        },
        {
          "name": "stderr",
          "output_type": "stream",
          "text": [
            "\rEvaluate Train:  62%|██████▎   | 5/8 [00:03<00:02,  1.29it/s]"
          ]
        },
        {
          "name": "stdout",
          "output_type": "stream",
          "text": [
            "sample 12 num of prompts for COVID from total 12\n"
          ]
        },
        {
          "name": "stderr",
          "output_type": "stream",
          "text": [
            "\rEvaluate Train:  75%|███████▌  | 6/8 [00:04<00:01,  1.27it/s]"
          ]
        },
        {
          "name": "stdout",
          "output_type": "stream",
          "text": [
            "sample 12 num of prompts for COVID from total 12\n"
          ]
        },
        {
          "name": "stderr",
          "output_type": "stream",
          "text": [
            "\rEvaluate Train:  88%|████████▊ | 7/8 [00:05<00:00,  1.42it/s]"
          ]
        },
        {
          "name": "stdout",
          "output_type": "stream",
          "text": [
            "sample 12 num of prompts for COVID from total 12\n"
          ]
        },
        {
          "name": "stderr",
          "output_type": "stream",
          "text": [
            "Evaluate Train: 100%|██████████| 8/8 [00:05<00:00,  1.34it/s]\n",
            "Evaluate Validation:   0%|          | 0/2 [00:00<?, ?it/s]"
          ]
        },
        {
          "name": "stdout",
          "output_type": "stream",
          "text": [
            "sample 12 num of prompts for COVID from total 12\n"
          ]
        },
        {
          "name": "stderr",
          "output_type": "stream",
          "text": [
            "\rEvaluate Validation:  50%|█████     | 1/2 [00:00<00:00,  1.97it/s]"
          ]
        },
        {
          "name": "stdout",
          "output_type": "stream",
          "text": [
            "sample 12 num of prompts for COVID from total 12\n"
          ]
        },
        {
          "name": "stderr",
          "output_type": "stream",
          "text": [
            "Evaluate Validation: 100%|██████████| 2/2 [00:00<00:00,  2.02it/s]\n",
            "Evaluate Test:   0%|          | 0/3 [00:00<?, ?it/s]"
          ]
        },
        {
          "name": "stdout",
          "output_type": "stream",
          "text": [
            "sample 12 num of prompts for COVID from total 12\n"
          ]
        },
        {
          "name": "stderr",
          "output_type": "stream",
          "text": [
            "\rEvaluate Test:  33%|███▎      | 1/3 [00:00<00:01,  1.70it/s]"
          ]
        },
        {
          "name": "stdout",
          "output_type": "stream",
          "text": [
            "sample 12 num of prompts for COVID from total 12\n"
          ]
        },
        {
          "name": "stderr",
          "output_type": "stream",
          "text": [
            "\rEvaluate Test:  67%|██████▋   | 2/3 [00:01<00:00,  1.27it/s]"
          ]
        },
        {
          "name": "stdout",
          "output_type": "stream",
          "text": [
            "sample 12 num of prompts for COVID from total 12\n"
          ]
        },
        {
          "name": "stderr",
          "output_type": "stream",
          "text": [
            "Evaluate Test: 100%|██████████| 3/3 [00:02<00:00,  1.31it/s]\n"
          ]
        },
        {
          "name": "stdout",
          "output_type": "stream",
          "text": [
            "\n",
            "Accuracy: 0.7493, Precision: 0.6777, Recall: 0.9223, AUC: 0.8601\n",
            "Best AUC for  with 10 prompts: 0.8602\n",
            "Results saved to results/zero_shot/ucsd/medclip/classification_results.txt\n"
          ]
        },
        {
          "name": "stderr",
          "output_type": "stream",
          "text": [
            "/usr/local/lib/python3.10/dist-packages/keras/src/preprocessing/image.py:766: UserWarning: NumpyArrayIterator is set to use the data format convention \"channels_last\" (channels on axis 3), i.e. expected either 1, 3, or 4 channels on axis 3. However, it was passed an array with shape (526, 1, 224, 224) (224 channels).\n",
            "  warnings.warn(\n",
            "/usr/local/lib/python3.10/dist-packages/keras/src/preprocessing/image.py:766: UserWarning: NumpyArrayIterator is set to use the data format convention \"channels_last\" (channels on axis 3), i.e. expected either 1, 3, or 4 channels on axis 3. However, it was passed an array with shape (132, 1, 224, 224) (224 channels).\n",
            "  warnings.warn(\n",
            "/usr/local/lib/python3.10/dist-packages/keras/src/preprocessing/image.py:766: UserWarning: NumpyArrayIterator is set to use the data format convention \"channels_last\" (channels on axis 3), i.e. expected either 1, 3, or 4 channels on axis 3. However, it was passed an array with shape (165, 1, 224, 224) (224 channels).\n",
            "  warnings.warn(\n",
            "Some weights of the model checkpoint at microsoft/swin-tiny-patch4-window7-224 were not used when initializing SwinModel: ['classifier.weight', 'classifier.bias']\n",
            "- This IS expected if you are initializing SwinModel from the checkpoint of a model trained on another task or with another architecture (e.g. initializing a BertForSequenceClassification model from a BertForPreTraining model).\n",
            "- This IS NOT expected if you are initializing SwinModel from the checkpoint of a model that you expect to be exactly identical (initializing a BertForSequenceClassification model from a BertForSequenceClassification model).\n"
          ]
        },
        {
          "name": "stdout",
          "output_type": "stream",
          "text": [
            "Results saved to results/visualization/zero_shot/ori/medclip/images/cxr_images.png\n",
            "NVIDIA library configured successfully.\n"
          ]
        },
        {
          "name": "stderr",
          "output_type": "stream",
          "text": [
            "Some weights of the model checkpoint at emilyalsentzer/Bio_ClinicalBERT were not used when initializing BertModel: ['cls.predictions.transform.LayerNorm.weight', 'cls.predictions.decoder.weight', 'cls.seq_relationship.weight', 'cls.seq_relationship.bias', 'cls.predictions.bias', 'cls.predictions.transform.dense.weight', 'cls.predictions.transform.dense.bias', 'cls.predictions.transform.LayerNorm.bias']\n",
            "- This IS expected if you are initializing BertModel from the checkpoint of a model trained on another task or with another architecture (e.g. initializing a BertForSequenceClassification model from a BertForPreTraining model).\n",
            "- This IS NOT expected if you are initializing BertModel from the checkpoint of a model that you expect to be exactly identical (initializing a BertForSequenceClassification model from a BertForSequenceClassification model).\n"
          ]
        },
        {
          "name": "stdout",
          "output_type": "stream",
          "text": [
            "load model weight from: ./pretrained/medclip-vit\n"
          ]
        },
        {
          "name": "stderr",
          "output_type": "stream",
          "text": [
            "\rEvaluate Train:   0%|          | 0/3 [00:00<?, ?it/s]"
          ]
        },
        {
          "name": "stdout",
          "output_type": "stream",
          "text": [
            "sample 1 num of prompts for COVID from total 12\n"
          ]
        },
        {
          "name": "stderr",
          "output_type": "stream",
          "text": [
            "\rEvaluate Train:  33%|███▎      | 1/3 [00:00<00:01,  1.20it/s]"
          ]
        },
        {
          "name": "stdout",
          "output_type": "stream",
          "text": [
            "sample 1 num of prompts for COVID from total 12\n"
          ]
        },
        {
          "name": "stderr",
          "output_type": "stream",
          "text": [
            "\rEvaluate Train:  67%|██████▋   | 2/3 [00:01<00:00,  1.51it/s]"
          ]
        },
        {
          "name": "stdout",
          "output_type": "stream",
          "text": [
            "sample 1 num of prompts for COVID from total 12\n"
          ]
        },
        {
          "name": "stderr",
          "output_type": "stream",
          "text": [
            "Evaluate Train: 100%|██████████| 3/3 [00:02<00:00,  1.03it/s]\n",
            "Evaluate Validation:   0%|          | 0/1 [00:00<?, ?it/s]"
          ]
        },
        {
          "name": "stdout",
          "output_type": "stream",
          "text": [
            "sample 1 num of prompts for COVID from total 12\n"
          ]
        },
        {
          "name": "stderr",
          "output_type": "stream",
          "text": [
            "Evaluate Validation: 100%|██████████| 1/1 [00:00<00:00,  2.44it/s]\n",
            "Evaluate Test:   0%|          | 0/1 [00:00<?, ?it/s]"
          ]
        },
        {
          "name": "stdout",
          "output_type": "stream",
          "text": [
            "sample 1 num of prompts for COVID from total 12\n"
          ]
        },
        {
          "name": "stderr",
          "output_type": "stream",
          "text": [
            "Evaluate Test: 100%|██████████| 1/1 [00:00<00:00,  1.78it/s]\n"
          ]
        },
        {
          "name": "stdout",
          "output_type": "stream",
          "text": [
            "\n",
            "Accuracy: 0.5516, Precision: 0.6446, Recall: 0.1931, AUC: 0.5964\n"
          ]
        },
        {
          "name": "stderr",
          "output_type": "stream",
          "text": [
            "\rEvaluate Train:   0%|          | 0/3 [00:00<?, ?it/s]"
          ]
        },
        {
          "name": "stdout",
          "output_type": "stream",
          "text": [
            "sample 2 num of prompts for COVID from total 12\n"
          ]
        },
        {
          "name": "stderr",
          "output_type": "stream",
          "text": [
            "\rEvaluate Train:  33%|███▎      | 1/3 [00:00<00:01,  1.93it/s]"
          ]
        },
        {
          "name": "stdout",
          "output_type": "stream",
          "text": [
            "sample 2 num of prompts for COVID from total 12\n"
          ]
        },
        {
          "name": "stderr",
          "output_type": "stream",
          "text": [
            "\rEvaluate Train:  67%|██████▋   | 2/3 [00:01<00:00,  1.88it/s]"
          ]
        },
        {
          "name": "stdout",
          "output_type": "stream",
          "text": [
            "sample 2 num of prompts for COVID from total 12\n"
          ]
        },
        {
          "name": "stderr",
          "output_type": "stream",
          "text": [
            "Evaluate Train: 100%|██████████| 3/3 [00:02<00:00,  1.48it/s]\n",
            "Evaluate Validation:   0%|          | 0/1 [00:00<?, ?it/s]"
          ]
        },
        {
          "name": "stdout",
          "output_type": "stream",
          "text": [
            "sample 2 num of prompts for COVID from total 12\n"
          ]
        },
        {
          "name": "stderr",
          "output_type": "stream",
          "text": [
            "Evaluate Validation: 100%|██████████| 1/1 [00:00<00:00,  2.62it/s]\n",
            "Evaluate Test:   0%|          | 0/1 [00:00<?, ?it/s]"
          ]
        },
        {
          "name": "stdout",
          "output_type": "stream",
          "text": [
            "sample 2 num of prompts for COVID from total 12\n"
          ]
        },
        {
          "name": "stderr",
          "output_type": "stream",
          "text": [
            "Evaluate Test: 100%|██████████| 1/1 [00:00<00:00,  2.33it/s]\n"
          ]
        },
        {
          "name": "stdout",
          "output_type": "stream",
          "text": [
            "\n",
            "Accuracy: 0.5626, Precision: 0.5853, Recall: 0.3738, AUC: 0.5992\n"
          ]
        },
        {
          "name": "stderr",
          "output_type": "stream",
          "text": [
            "\rEvaluate Train:   0%|          | 0/3 [00:00<?, ?it/s]"
          ]
        },
        {
          "name": "stdout",
          "output_type": "stream",
          "text": [
            "sample 3 num of prompts for COVID from total 12\n"
          ]
        },
        {
          "name": "stderr",
          "output_type": "stream",
          "text": [
            "\rEvaluate Train:  33%|███▎      | 1/3 [00:00<00:01,  1.64it/s]"
          ]
        },
        {
          "name": "stdout",
          "output_type": "stream",
          "text": [
            "sample 3 num of prompts for COVID from total 12\n"
          ]
        },
        {
          "name": "stderr",
          "output_type": "stream",
          "text": [
            "\rEvaluate Train:  67%|██████▋   | 2/3 [00:01<00:00,  1.08it/s]"
          ]
        },
        {
          "name": "stdout",
          "output_type": "stream",
          "text": [
            "sample 3 num of prompts for COVID from total 12\n"
          ]
        },
        {
          "name": "stderr",
          "output_type": "stream",
          "text": [
            "Evaluate Train: 100%|██████████| 3/3 [00:03<00:00,  1.04s/it]\n",
            "Evaluate Validation:   0%|          | 0/1 [00:00<?, ?it/s]"
          ]
        },
        {
          "name": "stdout",
          "output_type": "stream",
          "text": [
            "sample 3 num of prompts for COVID from total 12\n"
          ]
        },
        {
          "name": "stderr",
          "output_type": "stream",
          "text": [
            "Evaluate Validation: 100%|██████████| 1/1 [00:00<00:00,  2.52it/s]\n",
            "Evaluate Test:   0%|          | 0/1 [00:00<?, ?it/s]"
          ]
        },
        {
          "name": "stdout",
          "output_type": "stream",
          "text": [
            "sample 3 num of prompts for COVID from total 12\n"
          ]
        },
        {
          "name": "stderr",
          "output_type": "stream",
          "text": [
            "Evaluate Test: 100%|██████████| 1/1 [00:00<00:00,  2.17it/s]\n"
          ]
        },
        {
          "name": "stdout",
          "output_type": "stream",
          "text": [
            "\n",
            "Accuracy: 0.5796, Precision: 0.5924, Recall: 0.4604, AUC: 0.6016\n"
          ]
        },
        {
          "name": "stderr",
          "output_type": "stream",
          "text": [
            "\rEvaluate Train:   0%|          | 0/3 [00:00<?, ?it/s]"
          ]
        },
        {
          "name": "stdout",
          "output_type": "stream",
          "text": [
            "sample 4 num of prompts for COVID from total 12\n"
          ]
        },
        {
          "name": "stderr",
          "output_type": "stream",
          "text": [
            "\rEvaluate Train:  33%|███▎      | 1/3 [00:00<00:01,  1.69it/s]"
          ]
        },
        {
          "name": "stdout",
          "output_type": "stream",
          "text": [
            "sample 4 num of prompts for COVID from total 12\n"
          ]
        },
        {
          "name": "stderr",
          "output_type": "stream",
          "text": [
            "\rEvaluate Train:  67%|██████▋   | 2/3 [00:01<00:00,  1.13it/s]"
          ]
        },
        {
          "name": "stdout",
          "output_type": "stream",
          "text": [
            "sample 4 num of prompts for COVID from total 12\n"
          ]
        },
        {
          "name": "stderr",
          "output_type": "stream",
          "text": [
            "Evaluate Train: 100%|██████████| 3/3 [00:01<00:00,  1.51it/s]\n",
            "Evaluate Validation:   0%|          | 0/1 [00:00<?, ?it/s]"
          ]
        },
        {
          "name": "stdout",
          "output_type": "stream",
          "text": [
            "sample 4 num of prompts for COVID from total 12\n"
          ]
        },
        {
          "name": "stderr",
          "output_type": "stream",
          "text": [
            "Evaluate Validation: 100%|██████████| 1/1 [00:00<00:00,  2.27it/s]\n",
            "Evaluate Test:   0%|          | 0/1 [00:00<?, ?it/s]"
          ]
        },
        {
          "name": "stdout",
          "output_type": "stream",
          "text": [
            "sample 4 num of prompts for COVID from total 12\n"
          ]
        },
        {
          "name": "stderr",
          "output_type": "stream",
          "text": [
            "Evaluate Test: 100%|██████████| 1/1 [00:00<00:00,  2.41it/s]\n"
          ]
        },
        {
          "name": "stdout",
          "output_type": "stream",
          "text": [
            "\n",
            "Accuracy: 0.5723, Precision: 0.5922, Recall: 0.4134, AUC: 0.5966\n"
          ]
        },
        {
          "name": "stderr",
          "output_type": "stream",
          "text": [
            "\rEvaluate Train:   0%|          | 0/3 [00:00<?, ?it/s]"
          ]
        },
        {
          "name": "stdout",
          "output_type": "stream",
          "text": [
            "sample 5 num of prompts for COVID from total 12\n"
          ]
        },
        {
          "name": "stderr",
          "output_type": "stream",
          "text": [
            "\rEvaluate Train:  33%|███▎      | 1/3 [00:00<00:01,  1.97it/s]"
          ]
        },
        {
          "name": "stdout",
          "output_type": "stream",
          "text": [
            "sample 5 num of prompts for COVID from total 12\n"
          ]
        },
        {
          "name": "stderr",
          "output_type": "stream",
          "text": [
            "\rEvaluate Train:  67%|██████▋   | 2/3 [00:01<00:00,  1.03it/s]"
          ]
        },
        {
          "name": "stdout",
          "output_type": "stream",
          "text": [
            "sample 5 num of prompts for COVID from total 12\n"
          ]
        },
        {
          "name": "stderr",
          "output_type": "stream",
          "text": [
            "Evaluate Train: 100%|██████████| 3/3 [00:02<00:00,  1.18it/s]\n",
            "Evaluate Validation:   0%|          | 0/1 [00:00<?, ?it/s]"
          ]
        },
        {
          "name": "stdout",
          "output_type": "stream",
          "text": [
            "sample 5 num of prompts for COVID from total 12\n"
          ]
        },
        {
          "name": "stderr",
          "output_type": "stream",
          "text": [
            "Evaluate Validation: 100%|██████████| 1/1 [00:00<00:00,  2.66it/s]\n",
            "Evaluate Test:   0%|          | 0/1 [00:00<?, ?it/s]"
          ]
        },
        {
          "name": "stdout",
          "output_type": "stream",
          "text": [
            "sample 5 num of prompts for COVID from total 12\n"
          ]
        },
        {
          "name": "stderr",
          "output_type": "stream",
          "text": [
            "Evaluate Test: 100%|██████████| 1/1 [00:00<00:00,  2.42it/s]\n"
          ]
        },
        {
          "name": "stdout",
          "output_type": "stream",
          "text": [
            "\n",
            "Accuracy: 0.5796, Precision: 0.5918, Recall: 0.4629, AUC: 0.6012\n"
          ]
        },
        {
          "name": "stderr",
          "output_type": "stream",
          "text": [
            "\rEvaluate Train:   0%|          | 0/3 [00:00<?, ?it/s]"
          ]
        },
        {
          "name": "stdout",
          "output_type": "stream",
          "text": [
            "sample 6 num of prompts for COVID from total 12\n"
          ]
        },
        {
          "name": "stderr",
          "output_type": "stream",
          "text": [
            "\rEvaluate Train:  33%|███▎      | 1/3 [00:00<00:01,  1.96it/s]"
          ]
        },
        {
          "name": "stdout",
          "output_type": "stream",
          "text": [
            "sample 6 num of prompts for COVID from total 12\n"
          ]
        },
        {
          "name": "stderr",
          "output_type": "stream",
          "text": [
            "\rEvaluate Train:  67%|██████▋   | 2/3 [00:01<00:00,  1.34it/s]"
          ]
        },
        {
          "name": "stdout",
          "output_type": "stream",
          "text": [
            "sample 6 num of prompts for COVID from total 12\n"
          ]
        },
        {
          "name": "stderr",
          "output_type": "stream",
          "text": [
            "Evaluate Train: 100%|██████████| 3/3 [00:01<00:00,  1.74it/s]\n",
            "Evaluate Validation:   0%|          | 0/1 [00:00<?, ?it/s]"
          ]
        },
        {
          "name": "stdout",
          "output_type": "stream",
          "text": [
            "sample 6 num of prompts for COVID from total 12\n"
          ]
        },
        {
          "name": "stderr",
          "output_type": "stream",
          "text": [
            "Evaluate Validation: 100%|██████████| 1/1 [00:00<00:00,  2.14it/s]\n",
            "Evaluate Test:   0%|          | 0/1 [00:00<?, ?it/s]"
          ]
        },
        {
          "name": "stdout",
          "output_type": "stream",
          "text": [
            "sample 6 num of prompts for COVID from total 12\n"
          ]
        },
        {
          "name": "stderr",
          "output_type": "stream",
          "text": [
            "Evaluate Test: 100%|██████████| 1/1 [00:00<00:00,  2.22it/s]\n"
          ]
        },
        {
          "name": "stdout",
          "output_type": "stream",
          "text": [
            "\n",
            "Accuracy: 0.5832, Precision: 0.5962, Recall: 0.4678, AUC: 0.6018\n"
          ]
        },
        {
          "name": "stderr",
          "output_type": "stream",
          "text": [
            "\rEvaluate Train:   0%|          | 0/3 [00:00<?, ?it/s]"
          ]
        },
        {
          "name": "stdout",
          "output_type": "stream",
          "text": [
            "sample 7 num of prompts for COVID from total 12\n"
          ]
        },
        {
          "name": "stderr",
          "output_type": "stream",
          "text": [
            "\rEvaluate Train:  33%|███▎      | 1/3 [00:00<00:01,  1.74it/s]"
          ]
        },
        {
          "name": "stdout",
          "output_type": "stream",
          "text": [
            "sample 7 num of prompts for COVID from total 12\n"
          ]
        },
        {
          "name": "stderr",
          "output_type": "stream",
          "text": [
            "\rEvaluate Train:  67%|██████▋   | 2/3 [00:01<00:00,  1.12it/s]"
          ]
        },
        {
          "name": "stdout",
          "output_type": "stream",
          "text": [
            "sample 7 num of prompts for COVID from total 12\n"
          ]
        },
        {
          "name": "stderr",
          "output_type": "stream",
          "text": [
            "Evaluate Train: 100%|██████████| 3/3 [00:01<00:00,  1.53it/s]\n",
            "Evaluate Validation:   0%|          | 0/1 [00:00<?, ?it/s]"
          ]
        },
        {
          "name": "stdout",
          "output_type": "stream",
          "text": [
            "sample 7 num of prompts for COVID from total 12\n"
          ]
        },
        {
          "name": "stderr",
          "output_type": "stream",
          "text": [
            "Evaluate Validation: 100%|██████████| 1/1 [00:00<00:00,  1.99it/s]\n",
            "Evaluate Test:   0%|          | 0/1 [00:00<?, ?it/s]"
          ]
        },
        {
          "name": "stdout",
          "output_type": "stream",
          "text": [
            "sample 7 num of prompts for COVID from total 12\n"
          ]
        },
        {
          "name": "stderr",
          "output_type": "stream",
          "text": [
            "Evaluate Test: 100%|██████████| 1/1 [00:00<00:00,  2.24it/s]\n"
          ]
        },
        {
          "name": "stdout",
          "output_type": "stream",
          "text": [
            "\n",
            "Accuracy: 0.5796, Precision: 0.5912, Recall: 0.4653, AUC: 0.6020\n"
          ]
        },
        {
          "name": "stderr",
          "output_type": "stream",
          "text": [
            "\rEvaluate Train:   0%|          | 0/3 [00:00<?, ?it/s]"
          ]
        },
        {
          "name": "stdout",
          "output_type": "stream",
          "text": [
            "sample 8 num of prompts for COVID from total 12\n"
          ]
        },
        {
          "name": "stderr",
          "output_type": "stream",
          "text": [
            "\rEvaluate Train:  33%|███▎      | 1/3 [00:00<00:01,  1.92it/s]"
          ]
        },
        {
          "name": "stdout",
          "output_type": "stream",
          "text": [
            "sample 8 num of prompts for COVID from total 12\n"
          ]
        },
        {
          "name": "stderr",
          "output_type": "stream",
          "text": [
            "\rEvaluate Train:  67%|██████▋   | 2/3 [00:01<00:00,  1.06it/s]"
          ]
        },
        {
          "name": "stdout",
          "output_type": "stream",
          "text": [
            "sample 8 num of prompts for COVID from total 12\n"
          ]
        },
        {
          "name": "stderr",
          "output_type": "stream",
          "text": [
            "Evaluate Train: 100%|██████████| 3/3 [00:02<00:00,  1.47it/s]\n",
            "Evaluate Validation:   0%|          | 0/1 [00:00<?, ?it/s]"
          ]
        },
        {
          "name": "stdout",
          "output_type": "stream",
          "text": [
            "sample 8 num of prompts for COVID from total 12\n"
          ]
        },
        {
          "name": "stderr",
          "output_type": "stream",
          "text": [
            "Evaluate Validation: 100%|██████████| 1/1 [00:00<00:00,  1.53it/s]\n",
            "Evaluate Test:   0%|          | 0/1 [00:00<?, ?it/s]"
          ]
        },
        {
          "name": "stdout",
          "output_type": "stream",
          "text": [
            "sample 8 num of prompts for COVID from total 12\n"
          ]
        },
        {
          "name": "stderr",
          "output_type": "stream",
          "text": [
            "Evaluate Test: 100%|██████████| 1/1 [00:00<00:00,  2.30it/s]\n"
          ]
        },
        {
          "name": "stdout",
          "output_type": "stream",
          "text": [
            "\n",
            "Accuracy: 0.5808, Precision: 0.5937, Recall: 0.4629, AUC: 0.6025\n"
          ]
        },
        {
          "name": "stderr",
          "output_type": "stream",
          "text": [
            "\rEvaluate Train:   0%|          | 0/3 [00:00<?, ?it/s]"
          ]
        },
        {
          "name": "stdout",
          "output_type": "stream",
          "text": [
            "sample 9 num of prompts for COVID from total 12\n"
          ]
        },
        {
          "name": "stderr",
          "output_type": "stream",
          "text": [
            "\rEvaluate Train:  33%|███▎      | 1/3 [00:00<00:01,  1.56it/s]"
          ]
        },
        {
          "name": "stdout",
          "output_type": "stream",
          "text": [
            "sample 9 num of prompts for COVID from total 12\n"
          ]
        },
        {
          "name": "stderr",
          "output_type": "stream",
          "text": [
            "\rEvaluate Train:  67%|██████▋   | 2/3 [00:01<00:00,  1.17it/s]"
          ]
        },
        {
          "name": "stdout",
          "output_type": "stream",
          "text": [
            "sample 9 num of prompts for COVID from total 12\n"
          ]
        },
        {
          "name": "stderr",
          "output_type": "stream",
          "text": [
            "Evaluate Train: 100%|██████████| 3/3 [00:02<00:00,  1.50it/s]\n",
            "Evaluate Validation:   0%|          | 0/1 [00:00<?, ?it/s]"
          ]
        },
        {
          "name": "stdout",
          "output_type": "stream",
          "text": [
            "sample 9 num of prompts for COVID from total 12\n"
          ]
        },
        {
          "name": "stderr",
          "output_type": "stream",
          "text": [
            "Evaluate Validation: 100%|██████████| 1/1 [00:00<00:00,  2.23it/s]\n",
            "Evaluate Test:   0%|          | 0/1 [00:00<?, ?it/s]"
          ]
        },
        {
          "name": "stdout",
          "output_type": "stream",
          "text": [
            "sample 9 num of prompts for COVID from total 12\n"
          ]
        },
        {
          "name": "stderr",
          "output_type": "stream",
          "text": [
            "Evaluate Test: 100%|██████████| 1/1 [00:00<00:00,  1.52it/s]\n"
          ]
        },
        {
          "name": "stdout",
          "output_type": "stream",
          "text": [
            "\n",
            "Accuracy: 0.5820, Precision: 0.5943, Recall: 0.4678, AUC: 0.6019\n"
          ]
        },
        {
          "name": "stderr",
          "output_type": "stream",
          "text": [
            "\rEvaluate Train:   0%|          | 0/3 [00:00<?, ?it/s]"
          ]
        },
        {
          "name": "stdout",
          "output_type": "stream",
          "text": [
            "sample 10 num of prompts for COVID from total 12\n"
          ]
        },
        {
          "name": "stderr",
          "output_type": "stream",
          "text": [
            "\rEvaluate Train:  33%|███▎      | 1/3 [00:00<00:01,  1.77it/s]"
          ]
        },
        {
          "name": "stdout",
          "output_type": "stream",
          "text": [
            "sample 10 num of prompts for COVID from total 12\n"
          ]
        },
        {
          "name": "stderr",
          "output_type": "stream",
          "text": [
            "\rEvaluate Train:  67%|██████▋   | 2/3 [00:01<00:00,  1.26it/s]"
          ]
        },
        {
          "name": "stdout",
          "output_type": "stream",
          "text": [
            "sample 10 num of prompts for COVID from total 12\n"
          ]
        },
        {
          "name": "stderr",
          "output_type": "stream",
          "text": [
            "Evaluate Train: 100%|██████████| 3/3 [00:02<00:00,  1.03it/s]\n",
            "Evaluate Validation:   0%|          | 0/1 [00:00<?, ?it/s]"
          ]
        },
        {
          "name": "stdout",
          "output_type": "stream",
          "text": [
            "sample 10 num of prompts for COVID from total 12\n"
          ]
        },
        {
          "name": "stderr",
          "output_type": "stream",
          "text": [
            "Evaluate Validation: 100%|██████████| 1/1 [00:00<00:00,  2.54it/s]\n",
            "Evaluate Test:   0%|          | 0/1 [00:00<?, ?it/s]"
          ]
        },
        {
          "name": "stdout",
          "output_type": "stream",
          "text": [
            "sample 10 num of prompts for COVID from total 12\n"
          ]
        },
        {
          "name": "stderr",
          "output_type": "stream",
          "text": [
            "Evaluate Test: 100%|██████████| 1/1 [00:00<00:00,  2.21it/s]\n"
          ]
        },
        {
          "name": "stdout",
          "output_type": "stream",
          "text": [
            "\n",
            "Accuracy: 0.5808, Precision: 0.5931, Recall: 0.4653, AUC: 0.6025\n"
          ]
        },
        {
          "name": "stderr",
          "output_type": "stream",
          "text": [
            "\rEvaluate Train:   0%|          | 0/3 [00:00<?, ?it/s]"
          ]
        },
        {
          "name": "stdout",
          "output_type": "stream",
          "text": [
            "sample 11 num of prompts for COVID from total 12\n"
          ]
        },
        {
          "name": "stderr",
          "output_type": "stream",
          "text": [
            "\rEvaluate Train:  33%|███▎      | 1/3 [00:00<00:01,  1.89it/s]"
          ]
        },
        {
          "name": "stdout",
          "output_type": "stream",
          "text": [
            "sample 11 num of prompts for COVID from total 12\n"
          ]
        },
        {
          "name": "stderr",
          "output_type": "stream",
          "text": [
            "\rEvaluate Train:  67%|██████▋   | 2/3 [00:01<00:00,  1.11it/s]"
          ]
        },
        {
          "name": "stdout",
          "output_type": "stream",
          "text": [
            "sample 11 num of prompts for COVID from total 12\n"
          ]
        },
        {
          "name": "stderr",
          "output_type": "stream",
          "text": [
            "Evaluate Train: 100%|██████████| 3/3 [00:01<00:00,  1.52it/s]\n",
            "Evaluate Validation:   0%|          | 0/1 [00:00<?, ?it/s]"
          ]
        },
        {
          "name": "stdout",
          "output_type": "stream",
          "text": [
            "sample 11 num of prompts for COVID from total 12\n"
          ]
        },
        {
          "name": "stderr",
          "output_type": "stream",
          "text": [
            "Evaluate Validation: 100%|██████████| 1/1 [00:00<00:00,  2.57it/s]\n",
            "Evaluate Test:   0%|          | 0/1 [00:00<?, ?it/s]"
          ]
        },
        {
          "name": "stdout",
          "output_type": "stream",
          "text": [
            "sample 11 num of prompts for COVID from total 12\n"
          ]
        },
        {
          "name": "stderr",
          "output_type": "stream",
          "text": [
            "Evaluate Test: 100%|██████████| 1/1 [00:00<00:00,  1.13it/s]\n"
          ]
        },
        {
          "name": "stdout",
          "output_type": "stream",
          "text": [
            "\n",
            "Accuracy: 0.5808, Precision: 0.5925, Recall: 0.4678, AUC: 0.6018\n"
          ]
        },
        {
          "name": "stderr",
          "output_type": "stream",
          "text": [
            "\rEvaluate Train:   0%|          | 0/3 [00:00<?, ?it/s]"
          ]
        },
        {
          "name": "stdout",
          "output_type": "stream",
          "text": [
            "sample 12 num of prompts for COVID from total 12\n"
          ]
        },
        {
          "name": "stderr",
          "output_type": "stream",
          "text": [
            "\rEvaluate Train:  33%|███▎      | 1/3 [00:00<00:01,  1.57it/s]"
          ]
        },
        {
          "name": "stdout",
          "output_type": "stream",
          "text": [
            "sample 12 num of prompts for COVID from total 12\n"
          ]
        },
        {
          "name": "stderr",
          "output_type": "stream",
          "text": [
            "\rEvaluate Train:  67%|██████▋   | 2/3 [00:01<00:00,  1.34it/s]"
          ]
        },
        {
          "name": "stdout",
          "output_type": "stream",
          "text": [
            "sample 12 num of prompts for COVID from total 12\n"
          ]
        },
        {
          "name": "stderr",
          "output_type": "stream",
          "text": [
            "Evaluate Train: 100%|██████████| 3/3 [00:02<00:00,  1.43it/s]\n",
            "Evaluate Validation:   0%|          | 0/1 [00:00<?, ?it/s]"
          ]
        },
        {
          "name": "stdout",
          "output_type": "stream",
          "text": [
            "sample 12 num of prompts for COVID from total 12\n"
          ]
        },
        {
          "name": "stderr",
          "output_type": "stream",
          "text": [
            "Evaluate Validation: 100%|██████████| 1/1 [00:00<00:00,  1.97it/s]\n",
            "Evaluate Test:   0%|          | 0/1 [00:00<?, ?it/s]"
          ]
        },
        {
          "name": "stdout",
          "output_type": "stream",
          "text": [
            "sample 12 num of prompts for COVID from total 12\n"
          ]
        },
        {
          "name": "stderr",
          "output_type": "stream",
          "text": [
            "Evaluate Test: 100%|██████████| 1/1 [00:00<00:00,  2.35it/s]\n"
          ]
        },
        {
          "name": "stdout",
          "output_type": "stream",
          "text": [
            "\n",
            "Accuracy: 0.5808, Precision: 0.5925, Recall: 0.4678, AUC: 0.6018\n",
            "Best AUC for covid_task with 10 prompts: 0.6025\n",
            "Results saved to results/zero_shot/ori/medclip/classification_results.txt\n"
          ]
        },
        {
          "name": "stderr",
          "output_type": "stream",
          "text": [
            "\rEvaluate Train:   0%|          | 0/3 [00:00<?, ?it/s]"
          ]
        },
        {
          "name": "stdout",
          "output_type": "stream",
          "text": [
            "sample 1 num of prompts for Pneumonia from total 312\n"
          ]
        },
        {
          "name": "stderr",
          "output_type": "stream",
          "text": [
            "\rEvaluate Train:  33%|███▎      | 1/3 [00:00<00:01,  1.70it/s]"
          ]
        },
        {
          "name": "stdout",
          "output_type": "stream",
          "text": [
            "sample 1 num of prompts for Pneumonia from total 312\n"
          ]
        },
        {
          "name": "stderr",
          "output_type": "stream",
          "text": [
            "\rEvaluate Train:  67%|██████▋   | 2/3 [00:01<00:00,  1.83it/s]"
          ]
        },
        {
          "name": "stdout",
          "output_type": "stream",
          "text": [
            "sample 1 num of prompts for Pneumonia from total 312\n"
          ]
        },
        {
          "name": "stderr",
          "output_type": "stream",
          "text": [
            "Evaluate Train: 100%|██████████| 3/3 [00:01<00:00,  1.60it/s]\n",
            "Evaluate Validation:   0%|          | 0/1 [00:00<?, ?it/s]"
          ]
        },
        {
          "name": "stdout",
          "output_type": "stream",
          "text": [
            "sample 1 num of prompts for Pneumonia from total 312\n"
          ]
        },
        {
          "name": "stderr",
          "output_type": "stream",
          "text": [
            "Evaluate Validation: 100%|██████████| 1/1 [00:01<00:00,  1.19s/it]\n",
            "Evaluate Test:   0%|          | 0/1 [00:00<?, ?it/s]"
          ]
        },
        {
          "name": "stdout",
          "output_type": "stream",
          "text": [
            "sample 1 num of prompts for Pneumonia from total 312\n"
          ]
        },
        {
          "name": "stderr",
          "output_type": "stream",
          "text": [
            "Evaluate Test: 100%|██████████| 1/1 [00:00<00:00,  1.06it/s]\n"
          ]
        },
        {
          "name": "stdout",
          "output_type": "stream",
          "text": [
            "\n",
            "Accuracy: 0.5371, Precision: 0.5983, Recall: 0.1733, AUC: 0.5048\n"
          ]
        },
        {
          "name": "stderr",
          "output_type": "stream",
          "text": [
            "\rEvaluate Train:   0%|          | 0/3 [00:00<?, ?it/s]"
          ]
        },
        {
          "name": "stdout",
          "output_type": "stream",
          "text": [
            "sample 2 num of prompts for Pneumonia from total 312\n"
          ]
        },
        {
          "name": "stderr",
          "output_type": "stream",
          "text": [
            "\rEvaluate Train:  33%|███▎      | 1/3 [00:00<00:01,  1.65it/s]"
          ]
        },
        {
          "name": "stdout",
          "output_type": "stream",
          "text": [
            "sample 2 num of prompts for Pneumonia from total 312\n"
          ]
        },
        {
          "name": "stderr",
          "output_type": "stream",
          "text": [
            "\rEvaluate Train:  67%|██████▋   | 2/3 [00:01<00:00,  1.67it/s]"
          ]
        },
        {
          "name": "stdout",
          "output_type": "stream",
          "text": [
            "sample 2 num of prompts for Pneumonia from total 312\n"
          ]
        },
        {
          "name": "stderr",
          "output_type": "stream",
          "text": [
            "Evaluate Train: 100%|██████████| 3/3 [00:02<00:00,  1.49it/s]\n",
            "Evaluate Validation:   0%|          | 0/1 [00:00<?, ?it/s]"
          ]
        },
        {
          "name": "stdout",
          "output_type": "stream",
          "text": [
            "sample 2 num of prompts for Pneumonia from total 312\n"
          ]
        },
        {
          "name": "stderr",
          "output_type": "stream",
          "text": [
            "Evaluate Validation: 100%|██████████| 1/1 [00:00<00:00,  1.82it/s]\n",
            "Evaluate Test:   0%|          | 0/1 [00:00<?, ?it/s]"
          ]
        },
        {
          "name": "stdout",
          "output_type": "stream",
          "text": [
            "sample 2 num of prompts for Pneumonia from total 312\n"
          ]
        },
        {
          "name": "stderr",
          "output_type": "stream",
          "text": [
            "Evaluate Test: 100%|██████████| 1/1 [00:00<00:00,  1.30it/s]\n"
          ]
        },
        {
          "name": "stdout",
          "output_type": "stream",
          "text": [
            "\n",
            "Accuracy: 0.5298, Precision: 0.5217, Recall: 0.5050, AUC: 0.5099\n"
          ]
        },
        {
          "name": "stderr",
          "output_type": "stream",
          "text": [
            "\rEvaluate Train:   0%|          | 0/3 [00:00<?, ?it/s]"
          ]
        },
        {
          "name": "stdout",
          "output_type": "stream",
          "text": [
            "sample 3 num of prompts for Pneumonia from total 312\n"
          ]
        },
        {
          "name": "stderr",
          "output_type": "stream",
          "text": [
            "\rEvaluate Train:  33%|███▎      | 1/3 [00:00<00:01,  1.94it/s]"
          ]
        },
        {
          "name": "stdout",
          "output_type": "stream",
          "text": [
            "sample 3 num of prompts for Pneumonia from total 312\n"
          ]
        },
        {
          "name": "stderr",
          "output_type": "stream",
          "text": [
            "\rEvaluate Train:  67%|██████▋   | 2/3 [00:01<00:00,  1.79it/s]"
          ]
        },
        {
          "name": "stdout",
          "output_type": "stream",
          "text": [
            "sample 3 num of prompts for Pneumonia from total 312\n"
          ]
        },
        {
          "name": "stderr",
          "output_type": "stream",
          "text": [
            "Evaluate Train: 100%|██████████| 3/3 [00:01<00:00,  1.51it/s]\n",
            "Evaluate Validation:   0%|          | 0/1 [00:00<?, ?it/s]"
          ]
        },
        {
          "name": "stdout",
          "output_type": "stream",
          "text": [
            "sample 3 num of prompts for Pneumonia from total 312\n"
          ]
        },
        {
          "name": "stderr",
          "output_type": "stream",
          "text": [
            "Evaluate Validation: 100%|██████████| 1/1 [00:00<00:00,  1.94it/s]\n",
            "Evaluate Test:   0%|          | 0/1 [00:00<?, ?it/s]"
          ]
        },
        {
          "name": "stdout",
          "output_type": "stream",
          "text": [
            "sample 3 num of prompts for Pneumonia from total 312\n"
          ]
        },
        {
          "name": "stderr",
          "output_type": "stream",
          "text": [
            "Evaluate Test: 100%|██████████| 1/1 [00:00<00:00,  2.07it/s]\n"
          ]
        },
        {
          "name": "stdout",
          "output_type": "stream",
          "text": [
            "\n",
            "Accuracy: 0.5674, Precision: 0.5732, Recall: 0.4653, AUC: 0.5927\n"
          ]
        },
        {
          "name": "stderr",
          "output_type": "stream",
          "text": [
            "\rEvaluate Train:   0%|          | 0/3 [00:00<?, ?it/s]"
          ]
        },
        {
          "name": "stdout",
          "output_type": "stream",
          "text": [
            "sample 4 num of prompts for Pneumonia from total 312\n"
          ]
        },
        {
          "name": "stderr",
          "output_type": "stream",
          "text": [
            "\rEvaluate Train:  33%|███▎      | 1/3 [00:00<00:01,  1.83it/s]"
          ]
        },
        {
          "name": "stdout",
          "output_type": "stream",
          "text": [
            "sample 4 num of prompts for Pneumonia from total 312\n"
          ]
        },
        {
          "name": "stderr",
          "output_type": "stream",
          "text": [
            "\rEvaluate Train:  67%|██████▋   | 2/3 [00:01<00:00,  1.89it/s]"
          ]
        },
        {
          "name": "stdout",
          "output_type": "stream",
          "text": [
            "sample 4 num of prompts for Pneumonia from total 312\n"
          ]
        },
        {
          "name": "stderr",
          "output_type": "stream",
          "text": [
            "Evaluate Train: 100%|██████████| 3/3 [00:01<00:00,  1.53it/s]\n",
            "Evaluate Validation:   0%|          | 0/1 [00:00<?, ?it/s]"
          ]
        },
        {
          "name": "stdout",
          "output_type": "stream",
          "text": [
            "sample 4 num of prompts for Pneumonia from total 312\n"
          ]
        },
        {
          "name": "stderr",
          "output_type": "stream",
          "text": [
            "Evaluate Validation: 100%|██████████| 1/1 [00:00<00:00,  2.29it/s]\n",
            "Evaluate Test:   0%|          | 0/1 [00:00<?, ?it/s]"
          ]
        },
        {
          "name": "stdout",
          "output_type": "stream",
          "text": [
            "sample 4 num of prompts for Pneumonia from total 312\n"
          ]
        },
        {
          "name": "stderr",
          "output_type": "stream",
          "text": [
            "Evaluate Test: 100%|██████████| 1/1 [00:00<00:00,  1.89it/s]\n"
          ]
        },
        {
          "name": "stdout",
          "output_type": "stream",
          "text": [
            "\n",
            "Accuracy: 0.5480, Precision: 0.5354, Recall: 0.5990, AUC: 0.5761\n"
          ]
        },
        {
          "name": "stderr",
          "output_type": "stream",
          "text": [
            "\rEvaluate Train:   0%|          | 0/3 [00:00<?, ?it/s]"
          ]
        },
        {
          "name": "stdout",
          "output_type": "stream",
          "text": [
            "sample 5 num of prompts for Pneumonia from total 312\n"
          ]
        },
        {
          "name": "stderr",
          "output_type": "stream",
          "text": [
            "\rEvaluate Train:  33%|███▎      | 1/3 [00:00<00:01,  1.94it/s]"
          ]
        },
        {
          "name": "stdout",
          "output_type": "stream",
          "text": [
            "sample 5 num of prompts for Pneumonia from total 312\n"
          ]
        },
        {
          "name": "stderr",
          "output_type": "stream",
          "text": [
            "\rEvaluate Train:  67%|██████▋   | 2/3 [00:01<00:00,  1.92it/s]"
          ]
        },
        {
          "name": "stdout",
          "output_type": "stream",
          "text": [
            "sample 5 num of prompts for Pneumonia from total 312\n"
          ]
        },
        {
          "name": "stderr",
          "output_type": "stream",
          "text": [
            "Evaluate Train: 100%|██████████| 3/3 [00:02<00:00,  1.49it/s]\n",
            "Evaluate Validation:   0%|          | 0/1 [00:00<?, ?it/s]"
          ]
        },
        {
          "name": "stdout",
          "output_type": "stream",
          "text": [
            "sample 5 num of prompts for Pneumonia from total 312\n"
          ]
        },
        {
          "name": "stderr",
          "output_type": "stream",
          "text": [
            "Evaluate Validation: 100%|██████████| 1/1 [00:00<00:00,  1.62it/s]\n",
            "Evaluate Test:   0%|          | 0/1 [00:00<?, ?it/s]"
          ]
        },
        {
          "name": "stdout",
          "output_type": "stream",
          "text": [
            "sample 5 num of prompts for Pneumonia from total 312\n"
          ]
        },
        {
          "name": "stderr",
          "output_type": "stream",
          "text": [
            "Evaluate Test: 100%|██████████| 1/1 [00:00<00:00,  2.16it/s]\n"
          ]
        },
        {
          "name": "stdout",
          "output_type": "stream",
          "text": [
            "\n",
            "Accuracy: 0.5006, Precision: 0.4941, Recall: 0.7203, AUC: 0.5100\n"
          ]
        },
        {
          "name": "stderr",
          "output_type": "stream",
          "text": [
            "\rEvaluate Train:   0%|          | 0/3 [00:00<?, ?it/s]"
          ]
        },
        {
          "name": "stdout",
          "output_type": "stream",
          "text": [
            "sample 6 num of prompts for Pneumonia from total 312\n"
          ]
        },
        {
          "name": "stderr",
          "output_type": "stream",
          "text": [
            "\rEvaluate Train:  33%|███▎      | 1/3 [00:00<00:01,  1.94it/s]"
          ]
        },
        {
          "name": "stdout",
          "output_type": "stream",
          "text": [
            "sample 6 num of prompts for Pneumonia from total 312\n"
          ]
        },
        {
          "name": "stderr",
          "output_type": "stream",
          "text": [
            "\rEvaluate Train:  67%|██████▋   | 2/3 [00:01<00:00,  1.88it/s]"
          ]
        },
        {
          "name": "stdout",
          "output_type": "stream",
          "text": [
            "sample 6 num of prompts for Pneumonia from total 312\n"
          ]
        },
        {
          "name": "stderr",
          "output_type": "stream",
          "text": [
            "Evaluate Train: 100%|██████████| 3/3 [00:02<00:00,  1.19it/s]\n",
            "Evaluate Validation:   0%|          | 0/1 [00:00<?, ?it/s]"
          ]
        },
        {
          "name": "stdout",
          "output_type": "stream",
          "text": [
            "sample 6 num of prompts for Pneumonia from total 312\n"
          ]
        },
        {
          "name": "stderr",
          "output_type": "stream",
          "text": [
            "Evaluate Validation: 100%|██████████| 1/1 [00:00<00:00,  1.07it/s]\n",
            "Evaluate Test:   0%|          | 0/1 [00:00<?, ?it/s]"
          ]
        },
        {
          "name": "stdout",
          "output_type": "stream",
          "text": [
            "sample 6 num of prompts for Pneumonia from total 312\n"
          ]
        },
        {
          "name": "stderr",
          "output_type": "stream",
          "text": [
            "Evaluate Test: 100%|██████████| 1/1 [00:00<00:00,  2.38it/s]\n"
          ]
        },
        {
          "name": "stdout",
          "output_type": "stream",
          "text": [
            "\n",
            "Accuracy: 0.5103, Precision: 0.5007, Recall: 0.8416, AUC: 0.4930\n"
          ]
        },
        {
          "name": "stderr",
          "output_type": "stream",
          "text": [
            "\rEvaluate Train:   0%|          | 0/3 [00:00<?, ?it/s]"
          ]
        },
        {
          "name": "stdout",
          "output_type": "stream",
          "text": [
            "sample 7 num of prompts for Pneumonia from total 312\n"
          ]
        },
        {
          "name": "stderr",
          "output_type": "stream",
          "text": [
            "\rEvaluate Train:  33%|███▎      | 1/3 [00:00<00:01,  1.88it/s]"
          ]
        },
        {
          "name": "stdout",
          "output_type": "stream",
          "text": [
            "sample 7 num of prompts for Pneumonia from total 312\n"
          ]
        },
        {
          "name": "stderr",
          "output_type": "stream",
          "text": [
            "\rEvaluate Train:  67%|██████▋   | 2/3 [00:01<00:00,  1.95it/s]"
          ]
        },
        {
          "name": "stdout",
          "output_type": "stream",
          "text": [
            "sample 7 num of prompts for Pneumonia from total 312\n"
          ]
        },
        {
          "name": "stderr",
          "output_type": "stream",
          "text": [
            "Evaluate Train: 100%|██████████| 3/3 [00:02<00:00,  1.19it/s]\n",
            "Evaluate Validation:   0%|          | 0/1 [00:00<?, ?it/s]"
          ]
        },
        {
          "name": "stdout",
          "output_type": "stream",
          "text": [
            "sample 7 num of prompts for Pneumonia from total 312\n"
          ]
        },
        {
          "name": "stderr",
          "output_type": "stream",
          "text": [
            "Evaluate Validation: 100%|██████████| 1/1 [00:00<00:00,  2.47it/s]\n",
            "Evaluate Test:   0%|          | 0/1 [00:00<?, ?it/s]"
          ]
        },
        {
          "name": "stdout",
          "output_type": "stream",
          "text": [
            "sample 7 num of prompts for Pneumonia from total 312\n"
          ]
        },
        {
          "name": "stderr",
          "output_type": "stream",
          "text": [
            "Evaluate Test: 100%|██████████| 1/1 [00:00<00:00,  2.40it/s]\n"
          ]
        },
        {
          "name": "stdout",
          "output_type": "stream",
          "text": [
            "\n",
            "Accuracy: 0.5067, Precision: 0.4983, Recall: 0.7426, AUC: 0.5134\n"
          ]
        },
        {
          "name": "stderr",
          "output_type": "stream",
          "text": [
            "\rEvaluate Train:   0%|          | 0/3 [00:00<?, ?it/s]"
          ]
        },
        {
          "name": "stdout",
          "output_type": "stream",
          "text": [
            "sample 8 num of prompts for Pneumonia from total 312\n"
          ]
        },
        {
          "name": "stderr",
          "output_type": "stream",
          "text": [
            "\rEvaluate Train:  33%|███▎      | 1/3 [00:00<00:01,  1.95it/s]"
          ]
        },
        {
          "name": "stdout",
          "output_type": "stream",
          "text": [
            "sample 8 num of prompts for Pneumonia from total 312\n"
          ]
        },
        {
          "name": "stderr",
          "output_type": "stream",
          "text": [
            "\rEvaluate Train:  67%|██████▋   | 2/3 [00:01<00:01,  1.03s/it]"
          ]
        },
        {
          "name": "stdout",
          "output_type": "stream",
          "text": [
            "sample 8 num of prompts for Pneumonia from total 312\n"
          ]
        },
        {
          "name": "stderr",
          "output_type": "stream",
          "text": [
            "Evaluate Train: 100%|██████████| 3/3 [00:02<00:00,  1.24it/s]\n",
            "Evaluate Validation:   0%|          | 0/1 [00:00<?, ?it/s]"
          ]
        },
        {
          "name": "stdout",
          "output_type": "stream",
          "text": [
            "sample 8 num of prompts for Pneumonia from total 312\n"
          ]
        },
        {
          "name": "stderr",
          "output_type": "stream",
          "text": [
            "Evaluate Validation: 100%|██████████| 1/1 [00:00<00:00,  2.57it/s]\n",
            "Evaluate Test:   0%|          | 0/1 [00:00<?, ?it/s]"
          ]
        },
        {
          "name": "stdout",
          "output_type": "stream",
          "text": [
            "sample 8 num of prompts for Pneumonia from total 312\n"
          ]
        },
        {
          "name": "stderr",
          "output_type": "stream",
          "text": [
            "Evaluate Test: 100%|██████████| 1/1 [00:00<00:00,  2.09it/s]\n"
          ]
        },
        {
          "name": "stdout",
          "output_type": "stream",
          "text": [
            "\n",
            "Accuracy: 0.4957, Precision: 0.4917, Recall: 0.8045, AUC: 0.5139\n"
          ]
        },
        {
          "name": "stderr",
          "output_type": "stream",
          "text": [
            "Evaluate Train:  33%|███▎      | 1/3 [00:00<00:01,  1.80it/s]"
          ]
        },
        {
          "name": "stdout",
          "output_type": "stream",
          "text": [
            "sample 9 num of prompts for Pneumonia from total 312\n",
            "sample 9 num of prompts for Pneumonia from total 312\n"
          ]
        },
        {
          "name": "stderr",
          "output_type": "stream",
          "text": [
            "\rEvaluate Train:  67%|██████▋   | 2/3 [00:01<00:00,  1.43it/s]"
          ]
        },
        {
          "name": "stdout",
          "output_type": "stream",
          "text": [
            "sample 9 num of prompts for Pneumonia from total 312\n"
          ]
        },
        {
          "name": "stderr",
          "output_type": "stream",
          "text": [
            "Evaluate Train: 100%|██████████| 3/3 [00:01<00:00,  1.83it/s]\n",
            "Evaluate Validation:   0%|          | 0/1 [00:00<?, ?it/s]"
          ]
        },
        {
          "name": "stdout",
          "output_type": "stream",
          "text": [
            "sample 9 num of prompts for Pneumonia from total 312\n"
          ]
        },
        {
          "name": "stderr",
          "output_type": "stream",
          "text": [
            "Evaluate Validation: 100%|██████████| 1/1 [00:00<00:00,  1.80it/s]\n",
            "Evaluate Test:   0%|          | 0/1 [00:00<?, ?it/s]"
          ]
        },
        {
          "name": "stdout",
          "output_type": "stream",
          "text": [
            "sample 9 num of prompts for Pneumonia from total 312\n"
          ]
        },
        {
          "name": "stderr",
          "output_type": "stream",
          "text": [
            "Evaluate Test: 100%|██████████| 1/1 [00:00<00:00,  2.36it/s]\n"
          ]
        },
        {
          "name": "stdout",
          "output_type": "stream",
          "text": [
            "\n",
            "Accuracy: 0.5091, Precision: 0.5000, Recall: 0.8911, AUC: 0.5478\n"
          ]
        },
        {
          "name": "stderr",
          "output_type": "stream",
          "text": [
            "\rEvaluate Train:   0%|          | 0/3 [00:00<?, ?it/s]"
          ]
        },
        {
          "name": "stdout",
          "output_type": "stream",
          "text": [
            "sample 10 num of prompts for Pneumonia from total 312\n"
          ]
        },
        {
          "name": "stderr",
          "output_type": "stream",
          "text": [
            "\rEvaluate Train:  33%|███▎      | 1/3 [00:00<00:01,  1.95it/s]"
          ]
        },
        {
          "name": "stdout",
          "output_type": "stream",
          "text": [
            "sample 10 num of prompts for Pneumonia from total 312\n"
          ]
        },
        {
          "name": "stderr",
          "output_type": "stream",
          "text": [
            "\rEvaluate Train:  67%|██████▋   | 2/3 [00:01<00:00,  1.13it/s]"
          ]
        },
        {
          "name": "stdout",
          "output_type": "stream",
          "text": [
            "sample 10 num of prompts for Pneumonia from total 312\n"
          ]
        },
        {
          "name": "stderr",
          "output_type": "stream",
          "text": [
            "Evaluate Train: 100%|██████████| 3/3 [00:02<00:00,  1.45it/s]\n",
            "Evaluate Validation:   0%|          | 0/1 [00:00<?, ?it/s]"
          ]
        },
        {
          "name": "stdout",
          "output_type": "stream",
          "text": [
            "sample 10 num of prompts for Pneumonia from total 312\n"
          ]
        },
        {
          "name": "stderr",
          "output_type": "stream",
          "text": [
            "Evaluate Validation: 100%|██████████| 1/1 [00:00<00:00,  2.61it/s]\n",
            "Evaluate Test:   0%|          | 0/1 [00:00<?, ?it/s]"
          ]
        },
        {
          "name": "stdout",
          "output_type": "stream",
          "text": [
            "sample 10 num of prompts for Pneumonia from total 312\n"
          ]
        },
        {
          "name": "stderr",
          "output_type": "stream",
          "text": [
            "Evaluate Test: 100%|██████████| 1/1 [00:00<00:00,  2.39it/s]\n"
          ]
        },
        {
          "name": "stdout",
          "output_type": "stream",
          "text": [
            "\n",
            "Accuracy: 0.5237, Precision: 0.5103, Recall: 0.7327, AUC: 0.5583\n"
          ]
        },
        {
          "name": "stderr",
          "output_type": "stream",
          "text": [
            "\rEvaluate Train:   0%|          | 0/3 [00:00<?, ?it/s]"
          ]
        },
        {
          "name": "stdout",
          "output_type": "stream",
          "text": [
            "sample 11 num of prompts for Pneumonia from total 312\n"
          ]
        },
        {
          "name": "stderr",
          "output_type": "stream",
          "text": [
            "\rEvaluate Train:  33%|███▎      | 1/3 [00:00<00:01,  1.95it/s]"
          ]
        },
        {
          "name": "stdout",
          "output_type": "stream",
          "text": [
            "sample 11 num of prompts for Pneumonia from total 312\n"
          ]
        },
        {
          "name": "stderr",
          "output_type": "stream",
          "text": [
            "\rEvaluate Train:  67%|██████▋   | 2/3 [00:01<00:00,  1.05it/s]"
          ]
        },
        {
          "name": "stdout",
          "output_type": "stream",
          "text": [
            "sample 11 num of prompts for Pneumonia from total 312\n"
          ]
        },
        {
          "name": "stderr",
          "output_type": "stream",
          "text": [
            "Evaluate Train: 100%|██████████| 3/3 [00:02<00:00,  1.14it/s]\n",
            "Evaluate Validation:   0%|          | 0/1 [00:00<?, ?it/s]"
          ]
        },
        {
          "name": "stdout",
          "output_type": "stream",
          "text": [
            "sample 11 num of prompts for Pneumonia from total 312\n"
          ]
        },
        {
          "name": "stderr",
          "output_type": "stream",
          "text": [
            "Evaluate Validation: 100%|██████████| 1/1 [00:00<00:00,  2.57it/s]\n",
            "Evaluate Test:   0%|          | 0/1 [00:00<?, ?it/s]"
          ]
        },
        {
          "name": "stdout",
          "output_type": "stream",
          "text": [
            "sample 11 num of prompts for Pneumonia from total 312\n"
          ]
        },
        {
          "name": "stderr",
          "output_type": "stream",
          "text": [
            "Evaluate Test: 100%|██████████| 1/1 [00:00<00:00,  2.39it/s]\n"
          ]
        },
        {
          "name": "stdout",
          "output_type": "stream",
          "text": [
            "\n",
            "Accuracy: 0.4897, Precision: 0.4890, Recall: 0.8762, AUC: 0.5398\n"
          ]
        },
        {
          "name": "stderr",
          "output_type": "stream",
          "text": [
            "Evaluate Train:  33%|███▎      | 1/3 [00:00<00:01,  1.58it/s]"
          ]
        },
        {
          "name": "stdout",
          "output_type": "stream",
          "text": [
            "sample 12 num of prompts for Pneumonia from total 312\n",
            "sample 12 num of prompts for Pneumonia from total 312\n"
          ]
        },
        {
          "name": "stderr",
          "output_type": "stream",
          "text": [
            "\rEvaluate Train:  67%|██████▋   | 2/3 [00:01<00:00,  1.39it/s]"
          ]
        },
        {
          "name": "stdout",
          "output_type": "stream",
          "text": [
            "sample 12 num of prompts for Pneumonia from total 312\n"
          ]
        },
        {
          "name": "stderr",
          "output_type": "stream",
          "text": [
            "Evaluate Train: 100%|██████████| 3/3 [00:02<00:00,  1.09it/s]\n",
            "Evaluate Validation:   0%|          | 0/1 [00:00<?, ?it/s]"
          ]
        },
        {
          "name": "stdout",
          "output_type": "stream",
          "text": [
            "sample 12 num of prompts for Pneumonia from total 312\n"
          ]
        },
        {
          "name": "stderr",
          "output_type": "stream",
          "text": [
            "Evaluate Validation: 100%|██████████| 1/1 [00:00<00:00,  2.30it/s]\n",
            "Evaluate Test:   0%|          | 0/1 [00:00<?, ?it/s]"
          ]
        },
        {
          "name": "stdout",
          "output_type": "stream",
          "text": [
            "sample 12 num of prompts for Pneumonia from total 312\n"
          ]
        },
        {
          "name": "stderr",
          "output_type": "stream",
          "text": [
            "Evaluate Test: 100%|██████████| 1/1 [00:00<00:00,  2.38it/s]\n"
          ]
        },
        {
          "name": "stdout",
          "output_type": "stream",
          "text": [
            "\n",
            "Accuracy: 0.5480, Precision: 0.5316, Recall: 0.6658, AUC: 0.5706\n",
            "Best AUC for rsna_task with 3 prompts: 0.5927\n",
            "Results saved to results/zero_shot/ori/medclip/classification_results.txt\n"
          ]
        },
        {
          "name": "stderr",
          "output_type": "stream",
          "text": [
            "\rEvaluate Train:   0%|          | 0/3 [00:00<?, ?it/s]"
          ]
        },
        {
          "name": "stdout",
          "output_type": "stream",
          "text": [
            "sample 1 num of prompts for COVID from total 12\n"
          ]
        },
        {
          "name": "stderr",
          "output_type": "stream",
          "text": [
            "\rEvaluate Train:  33%|███▎      | 1/3 [00:00<00:01,  1.33it/s]"
          ]
        },
        {
          "name": "stdout",
          "output_type": "stream",
          "text": [
            "sample 1 num of prompts for COVID from total 12\n"
          ]
        },
        {
          "name": "stderr",
          "output_type": "stream",
          "text": [
            "\rEvaluate Train:  67%|██████▋   | 2/3 [00:01<00:00,  1.17it/s]"
          ]
        },
        {
          "name": "stdout",
          "output_type": "stream",
          "text": [
            "sample 1 num of prompts for COVID from total 12\n"
          ]
        },
        {
          "name": "stderr",
          "output_type": "stream",
          "text": [
            "Evaluate Train: 100%|██████████| 3/3 [00:02<00:00,  1.41it/s]\n",
            "Evaluate Validation:   0%|          | 0/1 [00:00<?, ?it/s]"
          ]
        },
        {
          "name": "stdout",
          "output_type": "stream",
          "text": [
            "sample 1 num of prompts for COVID from total 12\n"
          ]
        },
        {
          "name": "stderr",
          "output_type": "stream",
          "text": [
            "Evaluate Validation: 100%|██████████| 1/1 [00:01<00:00,  1.02s/it]\n",
            "Evaluate Test:   0%|          | 0/1 [00:00<?, ?it/s]"
          ]
        },
        {
          "name": "stdout",
          "output_type": "stream",
          "text": [
            "sample 1 num of prompts for COVID from total 12\n"
          ]
        },
        {
          "name": "stderr",
          "output_type": "stream",
          "text": [
            "Evaluate Test: 100%|██████████| 1/1 [00:00<00:00,  2.38it/s]\n"
          ]
        },
        {
          "name": "stdout",
          "output_type": "stream",
          "text": [
            "\n",
            "Accuracy: 0.5492, Precision: 0.7037, Recall: 0.1411, AUC: 0.5933\n"
          ]
        },
        {
          "name": "stderr",
          "output_type": "stream",
          "text": [
            "\rEvaluate Train:   0%|          | 0/3 [00:00<?, ?it/s]"
          ]
        },
        {
          "name": "stdout",
          "output_type": "stream",
          "text": [
            "sample 2 num of prompts for COVID from total 12\n"
          ]
        },
        {
          "name": "stderr",
          "output_type": "stream",
          "text": [
            "\rEvaluate Train:  33%|███▎      | 1/3 [00:00<00:01,  1.13it/s]"
          ]
        },
        {
          "name": "stdout",
          "output_type": "stream",
          "text": [
            "sample 2 num of prompts for COVID from total 12\n"
          ]
        },
        {
          "name": "stderr",
          "output_type": "stream",
          "text": [
            "\rEvaluate Train:  67%|██████▋   | 2/3 [00:01<00:00,  1.47it/s]"
          ]
        },
        {
          "name": "stdout",
          "output_type": "stream",
          "text": [
            "sample 2 num of prompts for COVID from total 12\n"
          ]
        },
        {
          "name": "stderr",
          "output_type": "stream",
          "text": [
            "Evaluate Train: 100%|██████████| 3/3 [00:02<00:00,  1.16it/s]\n",
            "Evaluate Validation:   0%|          | 0/1 [00:00<?, ?it/s]"
          ]
        },
        {
          "name": "stdout",
          "output_type": "stream",
          "text": [
            "sample 2 num of prompts for COVID from total 12\n"
          ]
        },
        {
          "name": "stderr",
          "output_type": "stream",
          "text": [
            "Evaluate Validation: 100%|██████████| 1/1 [00:00<00:00,  1.06it/s]\n",
            "Evaluate Test:   0%|          | 0/1 [00:00<?, ?it/s]"
          ]
        },
        {
          "name": "stdout",
          "output_type": "stream",
          "text": [
            "sample 2 num of prompts for COVID from total 12\n"
          ]
        },
        {
          "name": "stderr",
          "output_type": "stream",
          "text": [
            "Evaluate Test: 100%|██████████| 1/1 [00:00<00:00,  2.44it/s]\n"
          ]
        },
        {
          "name": "stdout",
          "output_type": "stream",
          "text": [
            "\n",
            "Accuracy: 0.5772, Precision: 0.6197, Recall: 0.3589, AUC: 0.5889\n"
          ]
        },
        {
          "name": "stderr",
          "output_type": "stream",
          "text": [
            "\rEvaluate Train:   0%|          | 0/3 [00:00<?, ?it/s]"
          ]
        },
        {
          "name": "stdout",
          "output_type": "stream",
          "text": [
            "sample 3 num of prompts for COVID from total 12\n"
          ]
        },
        {
          "name": "stderr",
          "output_type": "stream",
          "text": [
            "\rEvaluate Train:  33%|███▎      | 1/3 [00:00<00:01,  1.61it/s]"
          ]
        },
        {
          "name": "stdout",
          "output_type": "stream",
          "text": [
            "sample 3 num of prompts for COVID from total 12\n"
          ]
        },
        {
          "name": "stderr",
          "output_type": "stream",
          "text": [
            "\rEvaluate Train:  67%|██████▋   | 2/3 [00:01<00:00,  1.61it/s]"
          ]
        },
        {
          "name": "stdout",
          "output_type": "stream",
          "text": [
            "sample 3 num of prompts for COVID from total 12\n"
          ]
        },
        {
          "name": "stderr",
          "output_type": "stream",
          "text": [
            "Evaluate Train: 100%|██████████| 3/3 [00:02<00:00,  1.18it/s]\n",
            "Evaluate Validation:   0%|          | 0/1 [00:00<?, ?it/s]"
          ]
        },
        {
          "name": "stdout",
          "output_type": "stream",
          "text": [
            "sample 3 num of prompts for COVID from total 12\n"
          ]
        },
        {
          "name": "stderr",
          "output_type": "stream",
          "text": [
            "Evaluate Validation: 100%|██████████| 1/1 [00:00<00:00,  2.43it/s]\n",
            "Evaluate Test:   0%|          | 0/1 [00:00<?, ?it/s]"
          ]
        },
        {
          "name": "stdout",
          "output_type": "stream",
          "text": [
            "sample 3 num of prompts for COVID from total 12\n"
          ]
        },
        {
          "name": "stderr",
          "output_type": "stream",
          "text": [
            "Evaluate Test: 100%|██████████| 1/1 [00:00<00:00,  2.40it/s]\n"
          ]
        },
        {
          "name": "stdout",
          "output_type": "stream",
          "text": [
            "\n",
            "Accuracy: 0.5808, Precision: 0.5931, Recall: 0.4653, AUC: 0.6033\n"
          ]
        },
        {
          "name": "stderr",
          "output_type": "stream",
          "text": [
            "\rEvaluate Train:   0%|          | 0/3 [00:00<?, ?it/s]"
          ]
        },
        {
          "name": "stdout",
          "output_type": "stream",
          "text": [
            "sample 4 num of prompts for COVID from total 12\n"
          ]
        },
        {
          "name": "stderr",
          "output_type": "stream",
          "text": [
            "\rEvaluate Train:  33%|███▎      | 1/3 [00:00<00:00,  2.01it/s]"
          ]
        },
        {
          "name": "stdout",
          "output_type": "stream",
          "text": [
            "sample 4 num of prompts for COVID from total 12\n"
          ]
        },
        {
          "name": "stderr",
          "output_type": "stream",
          "text": [
            "\rEvaluate Train:  67%|██████▋   | 2/3 [00:01<00:00,  1.09it/s]"
          ]
        },
        {
          "name": "stdout",
          "output_type": "stream",
          "text": [
            "sample 4 num of prompts for COVID from total 12\n"
          ]
        },
        {
          "name": "stderr",
          "output_type": "stream",
          "text": [
            "Evaluate Train: 100%|██████████| 3/3 [00:02<00:00,  1.17it/s]\n",
            "Evaluate Validation:   0%|          | 0/1 [00:00<?, ?it/s]"
          ]
        },
        {
          "name": "stdout",
          "output_type": "stream",
          "text": [
            "sample 4 num of prompts for COVID from total 12\n"
          ]
        },
        {
          "name": "stderr",
          "output_type": "stream",
          "text": [
            "Evaluate Validation: 100%|██████████| 1/1 [00:00<00:00,  2.60it/s]\n",
            "Evaluate Test:   0%|          | 0/1 [00:00<?, ?it/s]"
          ]
        },
        {
          "name": "stdout",
          "output_type": "stream",
          "text": [
            "sample 4 num of prompts for COVID from total 12\n"
          ]
        },
        {
          "name": "stderr",
          "output_type": "stream",
          "text": [
            "Evaluate Test: 100%|██████████| 1/1 [00:00<00:00,  2.46it/s]\n"
          ]
        },
        {
          "name": "stdout",
          "output_type": "stream",
          "text": [
            "\n",
            "Accuracy: 0.5796, Precision: 0.5924, Recall: 0.4604, AUC: 0.6022\n"
          ]
        },
        {
          "name": "stderr",
          "output_type": "stream",
          "text": [
            "\rEvaluate Train:   0%|          | 0/3 [00:00<?, ?it/s]"
          ]
        },
        {
          "name": "stdout",
          "output_type": "stream",
          "text": [
            "sample 5 num of prompts for COVID from total 12\n"
          ]
        },
        {
          "name": "stderr",
          "output_type": "stream",
          "text": [
            "\rEvaluate Train:  33%|███▎      | 1/3 [00:00<00:01,  1.99it/s]"
          ]
        },
        {
          "name": "stdout",
          "output_type": "stream",
          "text": [
            "sample 5 num of prompts for COVID from total 12\n"
          ]
        },
        {
          "name": "stderr",
          "output_type": "stream",
          "text": [
            "\rEvaluate Train:  67%|██████▋   | 2/3 [00:01<00:00,  1.49it/s]"
          ]
        },
        {
          "name": "stdout",
          "output_type": "stream",
          "text": [
            "sample 5 num of prompts for COVID from total 12\n"
          ]
        },
        {
          "name": "stderr",
          "output_type": "stream",
          "text": [
            "Evaluate Train: 100%|██████████| 3/3 [00:01<00:00,  1.93it/s]\n",
            "Evaluate Validation:   0%|          | 0/1 [00:00<?, ?it/s]"
          ]
        },
        {
          "name": "stdout",
          "output_type": "stream",
          "text": [
            "sample 5 num of prompts for COVID from total 12\n"
          ]
        },
        {
          "name": "stderr",
          "output_type": "stream",
          "text": [
            "Evaluate Validation: 100%|██████████| 1/1 [00:00<00:00,  1.70it/s]\n",
            "Evaluate Test:   0%|          | 0/1 [00:00<?, ?it/s]"
          ]
        },
        {
          "name": "stdout",
          "output_type": "stream",
          "text": [
            "sample 5 num of prompts for COVID from total 12\n"
          ]
        },
        {
          "name": "stderr",
          "output_type": "stream",
          "text": [
            "Evaluate Test: 100%|██████████| 1/1 [00:00<00:00,  2.33it/s]\n"
          ]
        },
        {
          "name": "stdout",
          "output_type": "stream",
          "text": [
            "\n",
            "Accuracy: 0.5808, Precision: 0.5925, Recall: 0.4678, AUC: 0.6015\n"
          ]
        },
        {
          "name": "stderr",
          "output_type": "stream",
          "text": [
            "\rEvaluate Train:   0%|          | 0/3 [00:00<?, ?it/s]"
          ]
        },
        {
          "name": "stdout",
          "output_type": "stream",
          "text": [
            "sample 6 num of prompts for COVID from total 12\n"
          ]
        },
        {
          "name": "stderr",
          "output_type": "stream",
          "text": [
            "\rEvaluate Train:  33%|███▎      | 1/3 [00:00<00:01,  1.92it/s]"
          ]
        },
        {
          "name": "stdout",
          "output_type": "stream",
          "text": [
            "sample 6 num of prompts for COVID from total 12\n"
          ]
        },
        {
          "name": "stderr",
          "output_type": "stream",
          "text": [
            "\rEvaluate Train:  67%|██████▋   | 2/3 [00:01<00:00,  1.85it/s]"
          ]
        },
        {
          "name": "stdout",
          "output_type": "stream",
          "text": [
            "sample 6 num of prompts for COVID from total 12\n"
          ]
        },
        {
          "name": "stderr",
          "output_type": "stream",
          "text": [
            "Evaluate Train: 100%|██████████| 3/3 [00:02<00:00,  1.38it/s]\n",
            "Evaluate Validation:   0%|          | 0/1 [00:00<?, ?it/s]"
          ]
        },
        {
          "name": "stdout",
          "output_type": "stream",
          "text": [
            "sample 6 num of prompts for COVID from total 12\n"
          ]
        },
        {
          "name": "stderr",
          "output_type": "stream",
          "text": [
            "Evaluate Validation: 100%|██████████| 1/1 [00:00<00:00,  1.08it/s]\n",
            "Evaluate Test:   0%|          | 0/1 [00:00<?, ?it/s]"
          ]
        },
        {
          "name": "stdout",
          "output_type": "stream",
          "text": [
            "sample 6 num of prompts for COVID from total 12\n"
          ]
        },
        {
          "name": "stderr",
          "output_type": "stream",
          "text": [
            "Evaluate Test: 100%|██████████| 1/1 [00:00<00:00,  2.14it/s]\n"
          ]
        },
        {
          "name": "stdout",
          "output_type": "stream",
          "text": [
            "\n",
            "Accuracy: 0.5808, Precision: 0.5925, Recall: 0.4678, AUC: 0.6020\n"
          ]
        },
        {
          "name": "stderr",
          "output_type": "stream",
          "text": [
            "\rEvaluate Train:   0%|          | 0/3 [00:00<?, ?it/s]"
          ]
        },
        {
          "name": "stdout",
          "output_type": "stream",
          "text": [
            "sample 7 num of prompts for COVID from total 12\n"
          ]
        },
        {
          "name": "stderr",
          "output_type": "stream",
          "text": [
            "\rEvaluate Train:  33%|███▎      | 1/3 [00:00<00:01,  1.45it/s]"
          ]
        },
        {
          "name": "stdout",
          "output_type": "stream",
          "text": [
            "sample 7 num of prompts for COVID from total 12\n"
          ]
        },
        {
          "name": "stderr",
          "output_type": "stream",
          "text": [
            "\rEvaluate Train:  67%|██████▋   | 2/3 [00:01<00:00,  1.58it/s]"
          ]
        },
        {
          "name": "stdout",
          "output_type": "stream",
          "text": [
            "sample 7 num of prompts for COVID from total 12\n"
          ]
        },
        {
          "name": "stderr",
          "output_type": "stream",
          "text": [
            "Evaluate Train: 100%|██████████| 3/3 [00:02<00:00,  1.46it/s]\n",
            "Evaluate Validation:   0%|          | 0/1 [00:00<?, ?it/s]"
          ]
        },
        {
          "name": "stdout",
          "output_type": "stream",
          "text": [
            "sample 7 num of prompts for COVID from total 12\n"
          ]
        },
        {
          "name": "stderr",
          "output_type": "stream",
          "text": [
            "Evaluate Validation: 100%|██████████| 1/1 [00:00<00:00,  2.59it/s]\n",
            "Evaluate Test:   0%|          | 0/1 [00:00<?, ?it/s]"
          ]
        },
        {
          "name": "stdout",
          "output_type": "stream",
          "text": [
            "sample 7 num of prompts for COVID from total 12\n"
          ]
        },
        {
          "name": "stderr",
          "output_type": "stream",
          "text": [
            "Evaluate Test: 100%|██████████| 1/1 [00:00<00:00,  2.47it/s]\n"
          ]
        },
        {
          "name": "stdout",
          "output_type": "stream",
          "text": [
            "\n",
            "Accuracy: 0.5808, Precision: 0.5925, Recall: 0.4678, AUC: 0.6010\n"
          ]
        },
        {
          "name": "stderr",
          "output_type": "stream",
          "text": [
            "\rEvaluate Train:   0%|          | 0/3 [00:00<?, ?it/s]"
          ]
        },
        {
          "name": "stdout",
          "output_type": "stream",
          "text": [
            "sample 8 num of prompts for COVID from total 12\n"
          ]
        },
        {
          "name": "stderr",
          "output_type": "stream",
          "text": [
            "\rEvaluate Train:  33%|███▎      | 1/3 [00:00<00:01,  1.97it/s]"
          ]
        },
        {
          "name": "stdout",
          "output_type": "stream",
          "text": [
            "sample 8 num of prompts for COVID from total 12\n"
          ]
        },
        {
          "name": "stderr",
          "output_type": "stream",
          "text": [
            "\rEvaluate Train:  67%|██████▋   | 2/3 [00:01<00:00,  1.99it/s]"
          ]
        },
        {
          "name": "stdout",
          "output_type": "stream",
          "text": [
            "sample 8 num of prompts for COVID from total 12\n"
          ]
        },
        {
          "name": "stderr",
          "output_type": "stream",
          "text": [
            "Evaluate Train: 100%|██████████| 3/3 [00:02<00:00,  1.45it/s]\n",
            "Evaluate Validation:   0%|          | 0/1 [00:00<?, ?it/s]"
          ]
        },
        {
          "name": "stdout",
          "output_type": "stream",
          "text": [
            "sample 8 num of prompts for COVID from total 12\n"
          ]
        },
        {
          "name": "stderr",
          "output_type": "stream",
          "text": [
            "Evaluate Validation: 100%|██████████| 1/1 [00:00<00:00,  2.33it/s]\n",
            "Evaluate Test:   0%|          | 0/1 [00:00<?, ?it/s]"
          ]
        },
        {
          "name": "stdout",
          "output_type": "stream",
          "text": [
            "sample 8 num of prompts for COVID from total 12\n"
          ]
        },
        {
          "name": "stderr",
          "output_type": "stream",
          "text": [
            "Evaluate Test: 100%|██████████| 1/1 [00:00<00:00,  2.18it/s]\n"
          ]
        },
        {
          "name": "stdout",
          "output_type": "stream",
          "text": [
            "\n",
            "Accuracy: 0.5796, Precision: 0.5912, Recall: 0.4653, AUC: 0.6026\n"
          ]
        },
        {
          "name": "stderr",
          "output_type": "stream",
          "text": [
            "\rEvaluate Train:   0%|          | 0/3 [00:00<?, ?it/s]"
          ]
        },
        {
          "name": "stdout",
          "output_type": "stream",
          "text": [
            "sample 9 num of prompts for COVID from total 12\n"
          ]
        },
        {
          "name": "stderr",
          "output_type": "stream",
          "text": [
            "\rEvaluate Train:  33%|███▎      | 1/3 [00:00<00:01,  1.56it/s]"
          ]
        },
        {
          "name": "stdout",
          "output_type": "stream",
          "text": [
            "sample 9 num of prompts for COVID from total 12\n"
          ]
        },
        {
          "name": "stderr",
          "output_type": "stream",
          "text": [
            "\rEvaluate Train:  67%|██████▋   | 2/3 [00:01<00:00,  1.75it/s]"
          ]
        },
        {
          "name": "stdout",
          "output_type": "stream",
          "text": [
            "sample 9 num of prompts for COVID from total 12\n"
          ]
        },
        {
          "name": "stderr",
          "output_type": "stream",
          "text": [
            "Evaluate Train: 100%|██████████| 3/3 [00:02<00:00,  1.48it/s]\n",
            "Evaluate Validation:   0%|          | 0/1 [00:00<?, ?it/s]"
          ]
        },
        {
          "name": "stdout",
          "output_type": "stream",
          "text": [
            "sample 9 num of prompts for COVID from total 12\n"
          ]
        },
        {
          "name": "stderr",
          "output_type": "stream",
          "text": [
            "Evaluate Validation: 100%|██████████| 1/1 [00:00<00:00,  2.63it/s]\n",
            "Evaluate Test:   0%|          | 0/1 [00:00<?, ?it/s]"
          ]
        },
        {
          "name": "stdout",
          "output_type": "stream",
          "text": [
            "sample 9 num of prompts for COVID from total 12\n"
          ]
        },
        {
          "name": "stderr",
          "output_type": "stream",
          "text": [
            "Evaluate Test: 100%|██████████| 1/1 [00:00<00:00,  1.63it/s]\n"
          ]
        },
        {
          "name": "stdout",
          "output_type": "stream",
          "text": [
            "\n",
            "Accuracy: 0.5820, Precision: 0.5943, Recall: 0.4678, AUC: 0.6019\n"
          ]
        },
        {
          "name": "stderr",
          "output_type": "stream",
          "text": [
            "\rEvaluate Train:   0%|          | 0/3 [00:00<?, ?it/s]"
          ]
        },
        {
          "name": "stdout",
          "output_type": "stream",
          "text": [
            "sample 10 num of prompts for COVID from total 12\n"
          ]
        },
        {
          "name": "stderr",
          "output_type": "stream",
          "text": [
            "\rEvaluate Train:  33%|███▎      | 1/3 [00:00<00:01,  1.37it/s]"
          ]
        },
        {
          "name": "stdout",
          "output_type": "stream",
          "text": [
            "sample 10 num of prompts for COVID from total 12\n"
          ]
        },
        {
          "name": "stderr",
          "output_type": "stream",
          "text": [
            "\rEvaluate Train:  67%|██████▋   | 2/3 [00:01<00:00,  1.46it/s]"
          ]
        },
        {
          "name": "stdout",
          "output_type": "stream",
          "text": [
            "sample 10 num of prompts for COVID from total 12\n"
          ]
        },
        {
          "name": "stderr",
          "output_type": "stream",
          "text": [
            "Evaluate Train: 100%|██████████| 3/3 [00:01<00:00,  1.52it/s]\n",
            "Evaluate Validation:   0%|          | 0/1 [00:00<?, ?it/s]"
          ]
        },
        {
          "name": "stdout",
          "output_type": "stream",
          "text": [
            "sample 10 num of prompts for COVID from total 12\n"
          ]
        },
        {
          "name": "stderr",
          "output_type": "stream",
          "text": [
            "Evaluate Validation: 100%|██████████| 1/1 [00:00<00:00,  2.28it/s]\n",
            "Evaluate Test:   0%|          | 0/1 [00:00<?, ?it/s]"
          ]
        },
        {
          "name": "stdout",
          "output_type": "stream",
          "text": [
            "sample 10 num of prompts for COVID from total 12\n"
          ]
        },
        {
          "name": "stderr",
          "output_type": "stream",
          "text": [
            "Evaluate Test: 100%|██████████| 1/1 [00:00<00:00,  2.09it/s]\n"
          ]
        },
        {
          "name": "stdout",
          "output_type": "stream",
          "text": [
            "\n",
            "Accuracy: 0.5820, Precision: 0.5943, Recall: 0.4678, AUC: 0.6018\n"
          ]
        },
        {
          "name": "stderr",
          "output_type": "stream",
          "text": [
            "\rEvaluate Train:   0%|          | 0/3 [00:00<?, ?it/s]"
          ]
        },
        {
          "name": "stdout",
          "output_type": "stream",
          "text": [
            "sample 11 num of prompts for COVID from total 12\n"
          ]
        },
        {
          "name": "stderr",
          "output_type": "stream",
          "text": [
            "\rEvaluate Train:  33%|███▎      | 1/3 [00:00<00:01,  1.78it/s]"
          ]
        },
        {
          "name": "stdout",
          "output_type": "stream",
          "text": [
            "sample 11 num of prompts for COVID from total 12\n"
          ]
        },
        {
          "name": "stderr",
          "output_type": "stream",
          "text": [
            "\rEvaluate Train:  67%|██████▋   | 2/3 [00:01<00:00,  1.88it/s]"
          ]
        },
        {
          "name": "stdout",
          "output_type": "stream",
          "text": [
            "sample 11 num of prompts for COVID from total 12\n"
          ]
        },
        {
          "name": "stderr",
          "output_type": "stream",
          "text": [
            "Evaluate Train: 100%|██████████| 3/3 [00:01<00:00,  2.24it/s]\n",
            "Evaluate Validation:   0%|          | 0/1 [00:00<?, ?it/s]"
          ]
        },
        {
          "name": "stdout",
          "output_type": "stream",
          "text": [
            "sample 11 num of prompts for COVID from total 12\n"
          ]
        },
        {
          "name": "stderr",
          "output_type": "stream",
          "text": [
            "Evaluate Validation: 100%|██████████| 1/1 [00:00<00:00,  1.97it/s]\n",
            "Evaluate Test:   0%|          | 0/1 [00:00<?, ?it/s]"
          ]
        },
        {
          "name": "stdout",
          "output_type": "stream",
          "text": [
            "sample 11 num of prompts for COVID from total 12\n"
          ]
        },
        {
          "name": "stderr",
          "output_type": "stream",
          "text": [
            "Evaluate Test: 100%|██████████| 1/1 [00:00<00:00,  2.32it/s]\n"
          ]
        },
        {
          "name": "stdout",
          "output_type": "stream",
          "text": [
            "\n",
            "Accuracy: 0.5808, Precision: 0.5925, Recall: 0.4678, AUC: 0.6018\n"
          ]
        },
        {
          "name": "stderr",
          "output_type": "stream",
          "text": [
            "\rEvaluate Train:   0%|          | 0/3 [00:00<?, ?it/s]"
          ]
        },
        {
          "name": "stdout",
          "output_type": "stream",
          "text": [
            "sample 12 num of prompts for COVID from total 12\n"
          ]
        },
        {
          "name": "stderr",
          "output_type": "stream",
          "text": [
            "\rEvaluate Train:  33%|███▎      | 1/3 [00:00<00:01,  1.81it/s]"
          ]
        },
        {
          "name": "stdout",
          "output_type": "stream",
          "text": [
            "sample 12 num of prompts for COVID from total 12\n"
          ]
        },
        {
          "name": "stderr",
          "output_type": "stream",
          "text": [
            "\rEvaluate Train:  67%|██████▋   | 2/3 [00:01<00:00,  1.79it/s]"
          ]
        },
        {
          "name": "stdout",
          "output_type": "stream",
          "text": [
            "sample 12 num of prompts for COVID from total 12\n"
          ]
        },
        {
          "name": "stderr",
          "output_type": "stream",
          "text": [
            "Evaluate Train: 100%|██████████| 3/3 [00:01<00:00,  2.17it/s]\n",
            "Evaluate Validation:   0%|          | 0/1 [00:00<?, ?it/s]"
          ]
        },
        {
          "name": "stdout",
          "output_type": "stream",
          "text": [
            "sample 12 num of prompts for COVID from total 12\n"
          ]
        },
        {
          "name": "stderr",
          "output_type": "stream",
          "text": [
            "Evaluate Validation: 100%|██████████| 1/1 [00:01<00:00,  1.17s/it]\n",
            "Evaluate Test:   0%|          | 0/1 [00:00<?, ?it/s]"
          ]
        },
        {
          "name": "stdout",
          "output_type": "stream",
          "text": [
            "sample 12 num of prompts for COVID from total 12\n"
          ]
        },
        {
          "name": "stderr",
          "output_type": "stream",
          "text": [
            "Evaluate Test: 100%|██████████| 1/1 [00:00<00:00,  1.70it/s]"
          ]
        },
        {
          "name": "stdout",
          "output_type": "stream",
          "text": [
            "\n",
            "Accuracy: 0.5808, Precision: 0.5925, Recall: 0.4678, AUC: 0.6018\n",
            "Best AUC for  with 3 prompts: 0.6033\n",
            "Results saved to results/zero_shot/ori/medclip/classification_results.txt\n"
          ]
        },
        {
          "name": "stderr",
          "output_type": "stream",
          "text": [
            "\n"
          ]
        },
        {
          "data": {
            "text/plain": [
              "<Figure size 640x480 with 0 Axes>"
            ]
          },
          "metadata": {},
          "output_type": "display_data"
        }
      ],
      "source": [
        "%run MedCLIP-pediatric/zs_medclip_base.py"
      ]
    },
    {
      "cell_type": "code",
      "execution_count": 5,
      "metadata": {
        "colab": {
          "base_uri": "https://localhost:8080/",
          "height": 1000
        },
        "id": "-c3lTRyAfXb6",
        "outputId": "1eef96e5-610c-4b17-9e40-57cec26b67cd"
      },
      "outputs": [
        {
          "name": "stdout",
          "output_type": "stream",
          "text": [
            "Google Drive is already mounted.\n"
          ]
        },
        {
          "name": "stderr",
          "output_type": "stream",
          "text": [
            "/usr/local/lib/python3.10/dist-packages/keras/src/preprocessing/image.py:766: UserWarning: NumpyArrayIterator is set to use the data format convention \"channels_last\" (channels on axis 3), i.e. expected either 1, 3, or 4 channels on axis 3. However, it was passed an array with shape (1967, 3, 224, 224) (224 channels).\n",
            "  warnings.warn(\n",
            "/usr/local/lib/python3.10/dist-packages/keras/src/preprocessing/image.py:766: UserWarning: NumpyArrayIterator is set to use the data format convention \"channels_last\" (channels on axis 3), i.e. expected either 1, 3, or 4 channels on axis 3. However, it was passed an array with shape (493, 3, 224, 224) (224 channels).\n",
            "  warnings.warn(\n",
            "/usr/local/lib/python3.10/dist-packages/keras/src/preprocessing/image.py:766: UserWarning: NumpyArrayIterator is set to use the data format convention \"channels_last\" (channels on axis 3), i.e. expected either 1, 3, or 4 channels on axis 3. However, it was passed an array with shape (616, 3, 224, 224) (224 channels).\n",
            "  warnings.warn(\n",
            "WARNING:matplotlib.image:Clipping input data to the valid range for imshow with RGB data ([0..1] for floats or [0..255] for integers).\n",
            "WARNING:matplotlib.image:Clipping input data to the valid range for imshow with RGB data ([0..1] for floats or [0..255] for integers).\n",
            "WARNING:matplotlib.image:Clipping input data to the valid range for imshow with RGB data ([0..1] for floats or [0..255] for integers).\n",
            "WARNING:matplotlib.image:Clipping input data to the valid range for imshow with RGB data ([0..1] for floats or [0..255] for integers).\n",
            "WARNING:matplotlib.image:Clipping input data to the valid range for imshow with RGB data ([0..1] for floats or [0..255] for integers).\n",
            "WARNING:matplotlib.image:Clipping input data to the valid range for imshow with RGB data ([0..1] for floats or [0..255] for integers).\n"
          ]
        },
        {
          "name": "stdout",
          "output_type": "stream",
          "text": [
            "Results saved to results/visualization/fine_tune/ucsd/clip/images/cxr_images.png\n",
            "NVIDIA library configured successfully.\n"
          ]
        },
        {
          "name": "stderr",
          "output_type": "stream",
          "text": [
            "Epoch 1/50, Train: 100%|██████████| 8/8 [00:04<00:00,  1.69it/s]\n",
            "Epoch 1/50, Validation: 100%|██████████| 2/2 [00:00<00:00,  4.52it/s]\n",
            "Evaluate Train: 100%|██████████| 8/8 [00:02<00:00,  3.90it/s]\n",
            "Evaluate Validation: 100%|██████████| 2/2 [00:00<00:00,  7.33it/s]\n"
          ]
        },
        {
          "name": "stdout",
          "output_type": "stream",
          "text": [
            "Epoch 1/50\n",
            "Train - Loss: 5.9136, Accuracy: 0.6634, Precision: 0.9966, Recall: 0.3079, AUC: 0.0190\n",
            "Val - Loss: 5.3184, Accuracy: 0.6349, Precision: 0.9683, Recall: 0.2552, AUC: 0.0317\n"
          ]
        },
        {
          "name": "stderr",
          "output_type": "stream",
          "text": [
            "Epoch 2/50, Train: 100%|██████████| 8/8 [00:05<00:00,  1.53it/s]\n",
            "Epoch 2/50, Validation: 100%|██████████| 2/2 [00:00<00:00,  3.77it/s]\n",
            "Evaluate Train: 100%|██████████| 8/8 [00:01<00:00,  6.41it/s]\n",
            "Evaluate Validation: 100%|██████████| 2/2 [00:00<00:00,  7.46it/s]\n"
          ]
        },
        {
          "name": "stdout",
          "output_type": "stream",
          "text": [
            "Epoch 2/50\n",
            "Train - Loss: 5.0874, Accuracy: 0.9400, Precision: 0.9655, Recall: 0.9089, AUC: 0.6293\n",
            "Val - Loss: 5.0371, Accuracy: 0.9331, Precision: 0.9682, Recall: 0.8912, AUC: 0.5874\n"
          ]
        },
        {
          "name": "stderr",
          "output_type": "stream",
          "text": [
            "Epoch 3/50, Train: 100%|██████████| 8/8 [00:03<00:00,  2.39it/s]\n",
            "Epoch 3/50, Validation: 100%|██████████| 2/2 [00:00<00:00,  2.92it/s]\n",
            "Evaluate Train: 100%|██████████| 8/8 [00:02<00:00,  3.55it/s]\n",
            "Evaluate Validation: 100%|██████████| 2/2 [00:00<00:00,  7.30it/s]\n"
          ]
        },
        {
          "name": "stdout",
          "output_type": "stream",
          "text": [
            "Epoch 3/50\n",
            "Train - Loss: 4.9844, Accuracy: 0.9471, Precision: 0.9852, Recall: 0.9047, AUC: 0.4593\n",
            "Val - Loss: 5.0254, Accuracy: 0.9331, Precision: 0.9858, Recall: 0.8745, AUC: 0.3987\n"
          ]
        },
        {
          "name": "stderr",
          "output_type": "stream",
          "text": [
            "Epoch 4/50, Train: 100%|██████████| 8/8 [00:05<00:00,  1.56it/s]\n",
            "Epoch 4/50, Validation: 100%|██████████| 2/2 [00:00<00:00,  4.74it/s]\n",
            "Evaluate Train: 100%|██████████| 8/8 [00:02<00:00,  2.71it/s]\n",
            "Evaluate Validation: 100%|██████████| 2/2 [00:00<00:00,  7.63it/s]\n"
          ]
        },
        {
          "name": "stdout",
          "output_type": "stream",
          "text": [
            "Epoch 4/50\n",
            "Train - Loss: 4.9414, Accuracy: 0.9659, Precision: 0.9847, Recall: 0.9445, AUC: 0.6923\n",
            "Val - Loss: 4.9766, Accuracy: 0.9473, Precision: 0.9733, Recall: 0.9163, AUC: 0.6467\n"
          ]
        },
        {
          "name": "stderr",
          "output_type": "stream",
          "text": [
            "Epoch 5/50, Train: 100%|██████████| 8/8 [00:03<00:00,  2.21it/s]\n",
            "Epoch 5/50, Validation: 100%|██████████| 2/2 [00:00<00:00,  4.67it/s]\n",
            "Evaluate Train: 100%|██████████| 8/8 [00:01<00:00,  6.52it/s]\n",
            "Evaluate Validation: 100%|██████████| 2/2 [00:01<00:00,  1.59it/s]\n"
          ]
        },
        {
          "name": "stdout",
          "output_type": "stream",
          "text": [
            "Epoch 5/50\n",
            "Train - Loss: 4.9033, Accuracy: 0.9776, Precision: 0.9872, Recall: 0.9665, AUC: 0.7134\n",
            "Val - Loss: 4.9570, Accuracy: 0.9493, Precision: 0.9693, Recall: 0.9247, AUC: 0.6707\n"
          ]
        },
        {
          "name": "stderr",
          "output_type": "stream",
          "text": [
            "Epoch 6/50, Train: 100%|██████████| 8/8 [00:04<00:00,  1.79it/s]\n",
            "Epoch 6/50, Validation: 100%|██████████| 2/2 [00:00<00:00,  4.76it/s]\n",
            "Evaluate Train: 100%|██████████| 8/8 [00:02<00:00,  2.83it/s]\n",
            "Evaluate Validation: 100%|██████████| 2/2 [00:00<00:00,  7.40it/s]\n"
          ]
        },
        {
          "name": "stdout",
          "output_type": "stream",
          "text": [
            "Epoch 6/50\n",
            "Train - Loss: 4.8716, Accuracy: 0.9888, Precision: 0.9895, Recall: 0.9874, AUC: 0.7783\n",
            "Val - Loss: 4.9492, Accuracy: 0.9574, Precision: 0.9658, Recall: 0.9456, AUC: 0.7390\n"
          ]
        },
        {
          "name": "stderr",
          "output_type": "stream",
          "text": [
            "Epoch 7/50, Train: 100%|██████████| 8/8 [00:03<00:00,  2.05it/s]\n",
            "Epoch 7/50, Validation: 100%|██████████| 2/2 [00:01<00:00,  1.53it/s]\n",
            "Evaluate Train: 100%|██████████| 8/8 [00:02<00:00,  3.11it/s]\n",
            "Evaluate Validation: 100%|██████████| 2/2 [00:00<00:00,  5.33it/s]\n"
          ]
        },
        {
          "name": "stdout",
          "output_type": "stream",
          "text": [
            "Epoch 7/50\n",
            "Train - Loss: 4.8521, Accuracy: 0.9964, Precision: 0.9979, Recall: 0.9948, AUC: 0.6670\n",
            "Val - Loss: 4.9688, Accuracy: 0.9554, Precision: 0.9738, Recall: 0.9331, AUC: 0.6207\n"
          ]
        },
        {
          "name": "stderr",
          "output_type": "stream",
          "text": [
            "Epoch 8/50, Train: 100%|██████████| 8/8 [00:03<00:00,  2.61it/s]\n",
            "Epoch 8/50, Validation: 100%|██████████| 2/2 [00:00<00:00,  4.74it/s]\n",
            "Evaluate Train: 100%|██████████| 8/8 [00:02<00:00,  2.80it/s]\n",
            "Evaluate Validation: 100%|██████████| 2/2 [00:00<00:00,  7.36it/s]\n"
          ]
        },
        {
          "name": "stdout",
          "output_type": "stream",
          "text": [
            "Epoch 8/50\n",
            "Train - Loss: 4.8247, Accuracy: 0.9985, Precision: 0.9969, Recall: 1.0000, AUC: 0.8352\n",
            "Val - Loss: 4.9707, Accuracy: 0.9615, Precision: 0.9583, Recall: 0.9623, AUC: 0.7814\n"
          ]
        },
        {
          "name": "stderr",
          "output_type": "stream",
          "text": [
            "Epoch 9/50, Train: 100%|██████████| 8/8 [00:03<00:00,  2.21it/s]\n",
            "Epoch 9/50, Validation: 100%|██████████| 2/2 [00:00<00:00,  4.74it/s]\n",
            "Evaluate Train: 100%|██████████| 8/8 [00:02<00:00,  3.93it/s]\n",
            "Evaluate Validation: 100%|██████████| 2/2 [00:00<00:00,  7.73it/s]\n"
          ]
        },
        {
          "name": "stdout",
          "output_type": "stream",
          "text": [
            "Epoch 9/50\n",
            "Train - Loss: 4.8169, Accuracy: 0.9995, Precision: 0.9990, Recall: 1.0000, AUC: 0.8006\n",
            "Val - Loss: 4.9883, Accuracy: 0.9615, Precision: 0.9622, Recall: 0.9582, AUC: 0.7408\n"
          ]
        },
        {
          "name": "stderr",
          "output_type": "stream",
          "text": [
            "Epoch 10/50, Train: 100%|██████████| 8/8 [00:04<00:00,  1.80it/s]\n",
            "Epoch 10/50, Validation: 100%|██████████| 2/2 [00:01<00:00,  1.57it/s]\n",
            "Evaluate Train: 100%|██████████| 8/8 [00:02<00:00,  3.87it/s]\n",
            "Evaluate Validation: 100%|██████████| 2/2 [00:00<00:00,  7.42it/s]\n"
          ]
        },
        {
          "name": "stdout",
          "output_type": "stream",
          "text": [
            "Epoch 10/50\n",
            "Train - Loss: 4.8135, Accuracy: 1.0000, Precision: 1.0000, Recall: 1.0000, AUC: 0.7189\n",
            "Val - Loss: 5.0078, Accuracy: 0.9574, Precision: 0.9698, Recall: 0.9414, AUC: 0.6692\n"
          ]
        },
        {
          "name": "stderr",
          "output_type": "stream",
          "text": [
            "Epoch 11/50, Train: 100%|██████████| 8/8 [00:05<00:00,  1.49it/s]\n",
            "Epoch 11/50, Validation: 100%|██████████| 2/2 [00:00<00:00,  4.02it/s]\n",
            "Evaluate Train: 100%|██████████| 8/8 [00:01<00:00,  6.42it/s]\n",
            "Evaluate Validation: 100%|██████████| 2/2 [00:00<00:00,  7.37it/s]\n"
          ]
        },
        {
          "name": "stdout",
          "output_type": "stream",
          "text": [
            "Epoch 11/50\n",
            "Train - Loss: 4.8135, Accuracy: 1.0000, Precision: 1.0000, Recall: 1.0000, AUC: 0.6830\n",
            "Val - Loss: 5.0293, Accuracy: 0.9574, Precision: 0.9739, Recall: 0.9372, AUC: 0.6470\n"
          ]
        },
        {
          "name": "stderr",
          "output_type": "stream",
          "text": [
            "Epoch 12/50, Train: 100%|██████████| 8/8 [00:05<00:00,  1.58it/s]\n",
            "Epoch 12/50, Validation: 100%|██████████| 2/2 [00:00<00:00,  3.44it/s]\n",
            "Evaluate Train: 100%|██████████| 8/8 [00:01<00:00,  7.21it/s]\n",
            "Evaluate Validation: 100%|██████████| 2/2 [00:00<00:00,  3.76it/s]\n"
          ]
        },
        {
          "name": "stdout",
          "output_type": "stream",
          "text": [
            "Epoch 12/50\n",
            "Train - Loss: 4.8115, Accuracy: 1.0000, Precision: 1.0000, Recall: 1.0000, AUC: 0.6622\n",
            "Val - Loss: 5.0352, Accuracy: 0.9533, Precision: 0.9737, Recall: 0.9289, AUC: 0.6373\n"
          ]
        },
        {
          "name": "stderr",
          "output_type": "stream",
          "text": [
            "Epoch 13/50, Train: 100%|██████████| 8/8 [00:04<00:00,  1.64it/s]\n",
            "Epoch 13/50, Validation: 100%|██████████| 2/2 [00:00<00:00,  3.40it/s]\n",
            "Evaluate Train: 100%|██████████| 8/8 [00:02<00:00,  2.76it/s]\n",
            "Evaluate Validation: 100%|██████████| 2/2 [00:00<00:00,  7.36it/s]\n"
          ]
        },
        {
          "name": "stdout",
          "output_type": "stream",
          "text": [
            "Epoch 13/50\n",
            "Train - Loss: 4.8076, Accuracy: 1.0000, Precision: 1.0000, Recall: 1.0000, AUC: 0.6773\n",
            "Val - Loss: 5.0352, Accuracy: 0.9533, Precision: 0.9737, Recall: 0.9289, AUC: 0.6502\n"
          ]
        },
        {
          "name": "stderr",
          "output_type": "stream",
          "text": [
            "Epoch 14/50, Train: 100%|██████████| 8/8 [00:04<00:00,  1.86it/s]\n",
            "Epoch 14/50, Validation: 100%|██████████| 2/2 [00:00<00:00,  4.80it/s]\n",
            "Evaluate Train: 100%|██████████| 8/8 [00:02<00:00,  2.79it/s]\n",
            "Evaluate Validation: 100%|██████████| 2/2 [00:00<00:00,  7.28it/s]\n"
          ]
        },
        {
          "name": "stdout",
          "output_type": "stream",
          "text": [
            "Epoch 14/50\n",
            "Train - Loss: 4.8101, Accuracy: 1.0000, Precision: 1.0000, Recall: 1.0000, AUC: 0.6638\n",
            "Val - Loss: 5.0332, Accuracy: 0.9554, Precision: 0.9738, Recall: 0.9331, AUC: 0.6334\n"
          ]
        },
        {
          "name": "stderr",
          "output_type": "stream",
          "text": [
            "Epoch 15/50, Train: 100%|██████████| 8/8 [00:02<00:00,  2.80it/s]\n",
            "Epoch 15/50, Validation: 100%|██████████| 2/2 [00:01<00:00,  1.76it/s]\n",
            "Evaluate Train: 100%|██████████| 8/8 [00:01<00:00,  5.63it/s]\n",
            "Evaluate Validation: 100%|██████████| 2/2 [00:00<00:00,  7.52it/s]\n"
          ]
        },
        {
          "name": "stdout",
          "output_type": "stream",
          "text": [
            "Epoch 15/50\n",
            "Train - Loss: 4.8110, Accuracy: 1.0000, Precision: 1.0000, Recall: 1.0000, AUC: 0.6498\n",
            "Val - Loss: 5.0371, Accuracy: 0.9533, Precision: 0.9737, Recall: 0.9289, AUC: 0.6137\n"
          ]
        },
        {
          "name": "stderr",
          "output_type": "stream",
          "text": [
            "Epoch 16/50, Train: 100%|██████████| 8/8 [00:03<00:00,  2.18it/s]\n",
            "Epoch 16/50, Validation: 100%|██████████| 2/2 [00:00<00:00,  4.71it/s]\n",
            "Evaluate Train: 100%|██████████| 8/8 [00:01<00:00,  6.63it/s]\n",
            "Evaluate Validation: 100%|██████████| 2/2 [00:01<00:00,  1.59it/s]\n"
          ]
        },
        {
          "name": "stdout",
          "output_type": "stream",
          "text": [
            "Epoch 16/50\n",
            "Train - Loss: 4.8096, Accuracy: 1.0000, Precision: 1.0000, Recall: 1.0000, AUC: 0.6560\n",
            "Val - Loss: 5.0273, Accuracy: 0.9574, Precision: 0.9698, Recall: 0.9414, AUC: 0.6244\n"
          ]
        },
        {
          "name": "stderr",
          "output_type": "stream",
          "text": [
            "Epoch 17/50, Train: 100%|██████████| 8/8 [00:04<00:00,  1.77it/s]\n",
            "Epoch 17/50, Validation: 100%|██████████| 2/2 [00:00<00:00,  4.75it/s]\n",
            "Evaluate Train: 100%|██████████| 8/8 [00:02<00:00,  2.88it/s]\n",
            "Evaluate Validation: 100%|██████████| 2/2 [00:00<00:00,  7.36it/s]\n"
          ]
        },
        {
          "name": "stdout",
          "output_type": "stream",
          "text": [
            "Epoch 17/50\n",
            "Train - Loss: 4.8101, Accuracy: 1.0000, Precision: 1.0000, Recall: 1.0000, AUC: 0.5920\n",
            "Val - Loss: 5.0332, Accuracy: 0.9554, Precision: 0.9738, Recall: 0.9331, AUC: 0.5744\n"
          ]
        },
        {
          "name": "stderr",
          "output_type": "stream",
          "text": [
            "Epoch 18/50, Train: 100%|██████████| 8/8 [00:04<00:00,  1.87it/s]\n",
            "Epoch 18/50, Validation: 100%|██████████| 2/2 [00:00<00:00,  4.74it/s]\n",
            "Evaluate Train: 100%|██████████| 8/8 [00:01<00:00,  6.00it/s]\n",
            "Evaluate Validation: 100%|██████████| 2/2 [00:01<00:00,  1.13it/s]\n"
          ]
        },
        {
          "name": "stdout",
          "output_type": "stream",
          "text": [
            "Epoch 18/50\n",
            "Train - Loss: 4.8086, Accuracy: 1.0000, Precision: 1.0000, Recall: 1.0000, AUC: 0.5574\n",
            "Val - Loss: 5.0410, Accuracy: 0.9554, Precision: 0.9738, Recall: 0.9331, AUC: 0.5468\n"
          ]
        },
        {
          "name": "stderr",
          "output_type": "stream",
          "text": [
            "Epoch 19/50, Train: 100%|██████████| 8/8 [00:05<00:00,  1.46it/s]\n",
            "Epoch 19/50, Validation: 100%|██████████| 2/2 [00:00<00:00,  4.73it/s]\n",
            "Evaluate Train: 100%|██████████| 8/8 [00:03<00:00,  2.24it/s]\n",
            "Evaluate Validation: 100%|██████████| 2/2 [00:00<00:00,  7.29it/s]\n"
          ]
        },
        {
          "name": "stdout",
          "output_type": "stream",
          "text": [
            "Epoch 19/50\n",
            "Train - Loss: 4.8096, Accuracy: 1.0000, Precision: 1.0000, Recall: 1.0000, AUC: 0.5372\n",
            "Val - Loss: 5.0547, Accuracy: 0.9513, Precision: 0.9736, Recall: 0.9247, AUC: 0.5211\n"
          ]
        },
        {
          "name": "stderr",
          "output_type": "stream",
          "text": [
            "Epoch 20/50, Train: 100%|██████████| 8/8 [00:03<00:00,  2.24it/s]\n",
            "Epoch 20/50, Validation: 100%|██████████| 2/2 [00:00<00:00,  4.72it/s]\n",
            "Evaluate Train: 100%|██████████| 8/8 [00:02<00:00,  2.94it/s]\n",
            "Evaluate Validation: 100%|██████████| 2/2 [00:00<00:00,  7.47it/s]\n"
          ]
        },
        {
          "name": "stdout",
          "output_type": "stream",
          "text": [
            "Epoch 20/50\n",
            "Train - Loss: 4.8086, Accuracy: 1.0000, Precision: 1.0000, Recall: 1.0000, AUC: 0.5632\n",
            "Val - Loss: 5.0508, Accuracy: 0.9574, Precision: 0.9739, Recall: 0.9372, AUC: 0.5459\n"
          ]
        },
        {
          "name": "stderr",
          "output_type": "stream",
          "text": [
            "Epoch 21/50, Train: 100%|██████████| 8/8 [00:04<00:00,  1.78it/s]\n",
            "Epoch 21/50, Validation: 100%|██████████| 2/2 [00:00<00:00,  4.71it/s]\n",
            "Evaluate Train: 100%|██████████| 8/8 [00:02<00:00,  2.78it/s]\n",
            "/usr/local/lib/python3.10/dist-packages/sklearn/metrics/_classification.py:1344: UndefinedMetricWarning: Precision is ill-defined and being set to 0.0 due to no predicted samples. Use `zero_division` parameter to control this behavior.\n",
            "  _warn_prf(average, modifier, msg_start, len(result))\n",
            "/usr/local/lib/python3.10/dist-packages/sklearn/metrics/_classification.py:1344: UndefinedMetricWarning: Precision and F-score are ill-defined and being set to 0.0 in labels with no predicted samples. Use `zero_division` parameter to control this behavior.\n",
            "  _warn_prf(average, modifier, msg_start, len(result))\n",
            "/usr/local/lib/python3.10/dist-packages/sklearn/metrics/_classification.py:1344: UndefinedMetricWarning: Precision and F-score are ill-defined and being set to 0.0 in labels with no predicted samples. Use `zero_division` parameter to control this behavior.\n",
            "  _warn_prf(average, modifier, msg_start, len(result))\n",
            "/usr/local/lib/python3.10/dist-packages/sklearn/metrics/_classification.py:1344: UndefinedMetricWarning: Precision and F-score are ill-defined and being set to 0.0 in labels with no predicted samples. Use `zero_division` parameter to control this behavior.\n",
            "  _warn_prf(average, modifier, msg_start, len(result))\n",
            "Evaluate Validation: 100%|██████████| 2/2 [00:00<00:00,  4.08it/s]\n",
            "/usr/local/lib/python3.10/dist-packages/sklearn/metrics/_classification.py:1344: UndefinedMetricWarning: Precision is ill-defined and being set to 0.0 due to no predicted samples. Use `zero_division` parameter to control this behavior.\n",
            "  _warn_prf(average, modifier, msg_start, len(result))\n",
            "/usr/local/lib/python3.10/dist-packages/sklearn/metrics/_classification.py:1344: UndefinedMetricWarning: Precision and F-score are ill-defined and being set to 0.0 in labels with no predicted samples. Use `zero_division` parameter to control this behavior.\n",
            "  _warn_prf(average, modifier, msg_start, len(result))\n",
            "/usr/local/lib/python3.10/dist-packages/sklearn/metrics/_classification.py:1344: UndefinedMetricWarning: Precision and F-score are ill-defined and being set to 0.0 in labels with no predicted samples. Use `zero_division` parameter to control this behavior.\n",
            "  _warn_prf(average, modifier, msg_start, len(result))\n",
            "/usr/local/lib/python3.10/dist-packages/sklearn/metrics/_classification.py:1344: UndefinedMetricWarning: Precision and F-score are ill-defined and being set to 0.0 in labels with no predicted samples. Use `zero_division` parameter to control this behavior.\n",
            "  _warn_prf(average, modifier, msg_start, len(result))\n"
          ]
        },
        {
          "name": "stdout",
          "output_type": "stream",
          "text": [
            "Epoch 21/50\n",
            "Train - Loss: 5.6523, Accuracy: 0.5145, Precision: 0.0000, Recall: 0.0000, AUC: 0.0281\n",
            "Val - Loss: 5.5586, Accuracy: 0.5152, Precision: 0.0000, Recall: 0.0000, AUC: 0.0564\n"
          ]
        },
        {
          "name": "stderr",
          "output_type": "stream",
          "text": [
            "Epoch 22/50, Train: 100%|██████████| 8/8 [00:03<00:00,  2.21it/s]\n",
            "Epoch 22/50, Validation: 100%|██████████| 2/2 [00:00<00:00,  2.98it/s]\n",
            "Evaluate Train: 100%|██████████| 8/8 [00:02<00:00,  3.95it/s]\n",
            "Evaluate Validation: 100%|██████████| 2/2 [00:00<00:00,  7.69it/s]\n"
          ]
        },
        {
          "name": "stdout",
          "output_type": "stream",
          "text": [
            "Epoch 22/50\n",
            "Train - Loss: 5.2051, Accuracy: 0.9339, Precision: 0.9393, Recall: 0.9236, AUC: 0.3545\n",
            "Val - Loss: 5.1309, Accuracy: 0.9026, Precision: 0.9064, Recall: 0.8912, AUC: 0.3600\n"
          ]
        },
        {
          "name": "stderr",
          "output_type": "stream",
          "text": [
            "Epoch 23/50, Train: 100%|██████████| 8/8 [00:03<00:00,  2.07it/s]\n",
            "Epoch 23/50, Validation: 100%|██████████| 2/2 [00:00<00:00,  4.77it/s]\n",
            "Evaluate Train: 100%|██████████| 8/8 [00:02<00:00,  3.70it/s]\n",
            "Evaluate Validation: 100%|██████████| 2/2 [00:00<00:00,  7.43it/s]\n"
          ]
        },
        {
          "name": "stdout",
          "output_type": "stream",
          "text": [
            "Epoch 23/50\n",
            "Train - Loss: 5.0137, Accuracy: 0.9512, Precision: 0.9799, Recall: 0.9183, AUC: 0.4840\n",
            "Val - Loss: 5.0352, Accuracy: 0.9331, Precision: 0.9769, Recall: 0.8828, AUC: 0.4757\n"
          ]
        },
        {
          "name": "stderr",
          "output_type": "stream",
          "text": [
            "Epoch 24/50, Train: 100%|██████████| 8/8 [00:04<00:00,  1.90it/s]\n",
            "Epoch 24/50, Validation: 100%|██████████| 2/2 [00:00<00:00,  4.75it/s]\n",
            "Evaluate Train: 100%|██████████| 8/8 [00:02<00:00,  2.84it/s]\n",
            "Evaluate Validation: 100%|██████████| 2/2 [00:00<00:00,  7.60it/s]\n"
          ]
        },
        {
          "name": "stdout",
          "output_type": "stream",
          "text": [
            "Epoch 24/50\n",
            "Train - Loss: 4.9561, Accuracy: 0.9695, Precision: 0.9807, Recall: 0.9560, AUC: 0.7425\n",
            "Val - Loss: 5.0137, Accuracy: 0.9391, Precision: 0.9524, Recall: 0.9205, AUC: 0.7244\n"
          ]
        },
        {
          "name": "stderr",
          "output_type": "stream",
          "text": [
            "Epoch 25/50, Train: 100%|██████████| 8/8 [00:04<00:00,  1.89it/s]\n",
            "Epoch 25/50, Validation: 100%|██████████| 2/2 [00:00<00:00,  4.76it/s]\n",
            "Evaluate Train: 100%|██████████| 8/8 [00:02<00:00,  2.80it/s]\n",
            "Evaluate Validation: 100%|██████████| 2/2 [00:00<00:00,  7.46it/s]\n"
          ]
        },
        {
          "name": "stdout",
          "output_type": "stream",
          "text": [
            "Epoch 25/50\n",
            "Train - Loss: 4.9204, Accuracy: 0.9746, Precision: 0.9881, Recall: 0.9592, AUC: 0.8035\n",
            "Val - Loss: 5.0000, Accuracy: 0.9391, Precision: 0.9644, Recall: 0.9079, AUC: 0.7782\n"
          ]
        },
        {
          "name": "stderr",
          "output_type": "stream",
          "text": [
            "Epoch 26/50, Train: 100%|██████████| 8/8 [00:04<00:00,  1.91it/s]\n",
            "Epoch 26/50, Validation: 100%|██████████| 2/2 [00:00<00:00,  3.44it/s]\n",
            "Evaluate Train: 100%|██████████| 8/8 [00:02<00:00,  2.95it/s]\n",
            "Evaluate Validation: 100%|██████████| 2/2 [00:00<00:00,  7.30it/s]\n"
          ]
        },
        {
          "name": "stdout",
          "output_type": "stream",
          "text": [
            "Epoch 26/50\n",
            "Train - Loss: 4.8921, Accuracy: 0.9807, Precision: 0.9914, Recall: 0.9686, AUC: 0.6330\n",
            "Val - Loss: 5.0020, Accuracy: 0.9412, Precision: 0.9688, Recall: 0.9079, AUC: 0.6062\n",
            "Early stopping triggered.\n"
          ]
        },
        {
          "name": "stderr",
          "output_type": "stream",
          "text": [
            "Evaluate Test: 100%|██████████| 3/3 [00:01<00:00,  2.31it/s]\n"
          ]
        },
        {
          "name": "stdout",
          "output_type": "stream",
          "text": [
            "\n",
            "Accuracy: 0.9562, Precision: 0.9789, Recall: 0.9298, AUC: 0.7301\n",
            "Results saved to results/finetune/ucsd/clip/classification_results.txt\n"
          ]
        },
        {
          "name": "stderr",
          "output_type": "stream",
          "text": [
            "/usr/local/lib/python3.10/dist-packages/keras/src/preprocessing/image.py:766: UserWarning: NumpyArrayIterator is set to use the data format convention \"channels_last\" (channels on axis 3), i.e. expected either 1, 3, or 4 channels on axis 3. However, it was passed an array with shape (526, 3, 224, 224) (224 channels).\n",
            "  warnings.warn(\n",
            "/usr/local/lib/python3.10/dist-packages/keras/src/preprocessing/image.py:766: UserWarning: NumpyArrayIterator is set to use the data format convention \"channels_last\" (channels on axis 3), i.e. expected either 1, 3, or 4 channels on axis 3. However, it was passed an array with shape (132, 3, 224, 224) (224 channels).\n",
            "  warnings.warn(\n",
            "/usr/local/lib/python3.10/dist-packages/keras/src/preprocessing/image.py:766: UserWarning: NumpyArrayIterator is set to use the data format convention \"channels_last\" (channels on axis 3), i.e. expected either 1, 3, or 4 channels on axis 3. However, it was passed an array with shape (165, 3, 224, 224) (224 channels).\n",
            "  warnings.warn(\n",
            "WARNING:matplotlib.image:Clipping input data to the valid range for imshow with RGB data ([0..1] for floats or [0..255] for integers).\n",
            "WARNING:matplotlib.image:Clipping input data to the valid range for imshow with RGB data ([0..1] for floats or [0..255] for integers).\n",
            "WARNING:matplotlib.image:Clipping input data to the valid range for imshow with RGB data ([0..1] for floats or [0..255] for integers).\n",
            "WARNING:matplotlib.image:Clipping input data to the valid range for imshow with RGB data ([0..1] for floats or [0..255] for integers).\n",
            "WARNING:matplotlib.image:Clipping input data to the valid range for imshow with RGB data ([0..1] for floats or [0..255] for integers).\n",
            "WARNING:matplotlib.image:Clipping input data to the valid range for imshow with RGB data ([0..1] for floats or [0..255] for integers).\n"
          ]
        },
        {
          "name": "stdout",
          "output_type": "stream",
          "text": [
            "Results saved to results/visualization/fine_tune/ori/clip/images/cxr_images.png\n",
            "NVIDIA library configured successfully.\n"
          ]
        },
        {
          "name": "stderr",
          "output_type": "stream",
          "text": [
            "Epoch 1/50, Train: 100%|██████████| 3/3 [00:01<00:00,  2.24it/s]\n",
            "Epoch 1/50, Validation: 100%|██████████| 1/1 [00:00<00:00,  8.72it/s]\n",
            "Evaluate Train: 100%|██████████| 3/3 [00:00<00:00, 10.12it/s]\n",
            "/usr/local/lib/python3.10/dist-packages/sklearn/metrics/_classification.py:1344: UndefinedMetricWarning: Precision and F-score are ill-defined and being set to 0.0 in labels with no predicted samples. Use `zero_division` parameter to control this behavior.\n",
            "  _warn_prf(average, modifier, msg_start, len(result))\n",
            "/usr/local/lib/python3.10/dist-packages/sklearn/metrics/_classification.py:1344: UndefinedMetricWarning: Precision and F-score are ill-defined and being set to 0.0 in labels with no predicted samples. Use `zero_division` parameter to control this behavior.\n",
            "  _warn_prf(average, modifier, msg_start, len(result))\n",
            "/usr/local/lib/python3.10/dist-packages/sklearn/metrics/_classification.py:1344: UndefinedMetricWarning: Precision and F-score are ill-defined and being set to 0.0 in labels with no predicted samples. Use `zero_division` parameter to control this behavior.\n",
            "  _warn_prf(average, modifier, msg_start, len(result))\n",
            "Evaluate Validation: 100%|██████████| 1/1 [00:00<00:00, 13.57it/s]\n",
            "/usr/local/lib/python3.10/dist-packages/sklearn/metrics/_classification.py:1344: UndefinedMetricWarning: Precision and F-score are ill-defined and being set to 0.0 in labels with no predicted samples. Use `zero_division` parameter to control this behavior.\n",
            "  _warn_prf(average, modifier, msg_start, len(result))\n",
            "/usr/local/lib/python3.10/dist-packages/sklearn/metrics/_classification.py:1344: UndefinedMetricWarning: Precision and F-score are ill-defined and being set to 0.0 in labels with no predicted samples. Use `zero_division` parameter to control this behavior.\n",
            "  _warn_prf(average, modifier, msg_start, len(result))\n",
            "/usr/local/lib/python3.10/dist-packages/sklearn/metrics/_classification.py:1344: UndefinedMetricWarning: Precision and F-score are ill-defined and being set to 0.0 in labels with no predicted samples. Use `zero_division` parameter to control this behavior.\n",
            "  _warn_prf(average, modifier, msg_start, len(result))\n"
          ]
        },
        {
          "name": "stdout",
          "output_type": "stream",
          "text": [
            "Epoch 1/50\n",
            "Train - Loss: 5.1081, Accuracy: 0.4905, Precision: 0.4905, Recall: 1.0000, AUC: 0.7151\n",
            "Val - Loss: 5.0039, Accuracy: 0.4924, Precision: 0.4924, Recall: 1.0000, AUC: 0.7312\n"
          ]
        },
        {
          "name": "stderr",
          "output_type": "stream",
          "text": [
            "Epoch 2/50, Train: 100%|██████████| 3/3 [00:01<00:00,  2.19it/s]\n",
            "Epoch 2/50, Validation: 100%|██████████| 1/1 [00:00<00:00,  8.65it/s]\n",
            "Evaluate Train: 100%|██████████| 3/3 [00:00<00:00,  9.99it/s]\n",
            "/usr/local/lib/python3.10/dist-packages/sklearn/metrics/_classification.py:1344: UndefinedMetricWarning: Precision is ill-defined and being set to 0.0 due to no predicted samples. Use `zero_division` parameter to control this behavior.\n",
            "  _warn_prf(average, modifier, msg_start, len(result))\n",
            "/usr/local/lib/python3.10/dist-packages/sklearn/metrics/_classification.py:1344: UndefinedMetricWarning: Precision and F-score are ill-defined and being set to 0.0 in labels with no predicted samples. Use `zero_division` parameter to control this behavior.\n",
            "  _warn_prf(average, modifier, msg_start, len(result))\n",
            "/usr/local/lib/python3.10/dist-packages/sklearn/metrics/_classification.py:1344: UndefinedMetricWarning: Precision and F-score are ill-defined and being set to 0.0 in labels with no predicted samples. Use `zero_division` parameter to control this behavior.\n",
            "  _warn_prf(average, modifier, msg_start, len(result))\n",
            "/usr/local/lib/python3.10/dist-packages/sklearn/metrics/_classification.py:1344: UndefinedMetricWarning: Precision and F-score are ill-defined and being set to 0.0 in labels with no predicted samples. Use `zero_division` parameter to control this behavior.\n",
            "  _warn_prf(average, modifier, msg_start, len(result))\n",
            "Evaluate Validation: 100%|██████████| 1/1 [00:00<00:00, 13.63it/s]\n",
            "/usr/local/lib/python3.10/dist-packages/sklearn/metrics/_classification.py:1344: UndefinedMetricWarning: Precision is ill-defined and being set to 0.0 due to no predicted samples. Use `zero_division` parameter to control this behavior.\n",
            "  _warn_prf(average, modifier, msg_start, len(result))\n",
            "/usr/local/lib/python3.10/dist-packages/sklearn/metrics/_classification.py:1344: UndefinedMetricWarning: Precision and F-score are ill-defined and being set to 0.0 in labels with no predicted samples. Use `zero_division` parameter to control this behavior.\n",
            "  _warn_prf(average, modifier, msg_start, len(result))\n",
            "/usr/local/lib/python3.10/dist-packages/sklearn/metrics/_classification.py:1344: UndefinedMetricWarning: Precision and F-score are ill-defined and being set to 0.0 in labels with no predicted samples. Use `zero_division` parameter to control this behavior.\n",
            "  _warn_prf(average, modifier, msg_start, len(result))\n",
            "/usr/local/lib/python3.10/dist-packages/sklearn/metrics/_classification.py:1344: UndefinedMetricWarning: Precision and F-score are ill-defined and being set to 0.0 in labels with no predicted samples. Use `zero_division` parameter to control this behavior.\n",
            "  _warn_prf(average, modifier, msg_start, len(result))\n"
          ]
        },
        {
          "name": "stdout",
          "output_type": "stream",
          "text": [
            "Epoch 2/50\n",
            "Train - Loss: 4.6484, Accuracy: 0.5095, Precision: 0.0000, Recall: 0.0000, AUC: 0.1604\n",
            "Val - Loss: 4.8867, Accuracy: 0.5076, Precision: 0.0000, Recall: 0.0000, AUC: 0.1216\n"
          ]
        },
        {
          "name": "stderr",
          "output_type": "stream",
          "text": [
            "Epoch 3/50, Train: 100%|██████████| 3/3 [00:02<00:00,  1.47it/s]\n",
            "Epoch 3/50, Validation: 100%|██████████| 1/1 [00:00<00:00,  8.54it/s]\n",
            "Evaluate Train: 100%|██████████| 3/3 [00:00<00:00, 10.06it/s]\n",
            "/usr/local/lib/python3.10/dist-packages/sklearn/metrics/_classification.py:1344: UndefinedMetricWarning: Precision and F-score are ill-defined and being set to 0.0 in labels with no predicted samples. Use `zero_division` parameter to control this behavior.\n",
            "  _warn_prf(average, modifier, msg_start, len(result))\n",
            "/usr/local/lib/python3.10/dist-packages/sklearn/metrics/_classification.py:1344: UndefinedMetricWarning: Precision and F-score are ill-defined and being set to 0.0 in labels with no predicted samples. Use `zero_division` parameter to control this behavior.\n",
            "  _warn_prf(average, modifier, msg_start, len(result))\n",
            "/usr/local/lib/python3.10/dist-packages/sklearn/metrics/_classification.py:1344: UndefinedMetricWarning: Precision and F-score are ill-defined and being set to 0.0 in labels with no predicted samples. Use `zero_division` parameter to control this behavior.\n",
            "  _warn_prf(average, modifier, msg_start, len(result))\n",
            "Evaluate Validation: 100%|██████████| 1/1 [00:00<00:00, 13.52it/s]\n",
            "/usr/local/lib/python3.10/dist-packages/sklearn/metrics/_classification.py:1344: UndefinedMetricWarning: Precision and F-score are ill-defined and being set to 0.0 in labels with no predicted samples. Use `zero_division` parameter to control this behavior.\n",
            "  _warn_prf(average, modifier, msg_start, len(result))\n",
            "/usr/local/lib/python3.10/dist-packages/sklearn/metrics/_classification.py:1344: UndefinedMetricWarning: Precision and F-score are ill-defined and being set to 0.0 in labels with no predicted samples. Use `zero_division` parameter to control this behavior.\n",
            "  _warn_prf(average, modifier, msg_start, len(result))\n",
            "/usr/local/lib/python3.10/dist-packages/sklearn/metrics/_classification.py:1344: UndefinedMetricWarning: Precision and F-score are ill-defined and being set to 0.0 in labels with no predicted samples. Use `zero_division` parameter to control this behavior.\n",
            "  _warn_prf(average, modifier, msg_start, len(result))\n"
          ]
        },
        {
          "name": "stdout",
          "output_type": "stream",
          "text": [
            "Epoch 3/50\n",
            "Train - Loss: 4.5638, Accuracy: 0.4905, Precision: 0.4905, Recall: 1.0000, AUC: 0.8668\n",
            "Val - Loss: 4.8594, Accuracy: 0.4924, Precision: 0.4924, Recall: 1.0000, AUC: 0.8659\n"
          ]
        },
        {
          "name": "stderr",
          "output_type": "stream",
          "text": [
            "Epoch 4/50, Train: 100%|██████████| 3/3 [00:01<00:00,  2.38it/s]\n",
            "Epoch 4/50, Validation: 100%|██████████| 1/1 [00:00<00:00,  8.70it/s]\n",
            "Evaluate Train: 100%|██████████| 3/3 [00:00<00:00,  7.27it/s]\n",
            "Evaluate Validation: 100%|██████████| 1/1 [00:00<00:00, 13.22it/s]\n",
            "/usr/local/lib/python3.10/dist-packages/sklearn/metrics/_classification.py:1344: UndefinedMetricWarning: Precision and F-score are ill-defined and being set to 0.0 in labels with no predicted samples. Use `zero_division` parameter to control this behavior.\n",
            "  _warn_prf(average, modifier, msg_start, len(result))\n",
            "/usr/local/lib/python3.10/dist-packages/sklearn/metrics/_classification.py:1344: UndefinedMetricWarning: Precision and F-score are ill-defined and being set to 0.0 in labels with no predicted samples. Use `zero_division` parameter to control this behavior.\n",
            "  _warn_prf(average, modifier, msg_start, len(result))\n",
            "/usr/local/lib/python3.10/dist-packages/sklearn/metrics/_classification.py:1344: UndefinedMetricWarning: Precision and F-score are ill-defined and being set to 0.0 in labels with no predicted samples. Use `zero_division` parameter to control this behavior.\n",
            "  _warn_prf(average, modifier, msg_start, len(result))\n"
          ]
        },
        {
          "name": "stdout",
          "output_type": "stream",
          "text": [
            "Epoch 4/50\n",
            "Train - Loss: 4.5553, Accuracy: 0.4962, Precision: 0.4933, Recall: 1.0000, AUC: 0.8661\n",
            "Val - Loss: 4.8281, Accuracy: 0.4924, Precision: 0.4924, Recall: 1.0000, AUC: 0.8682\n"
          ]
        },
        {
          "name": "stderr",
          "output_type": "stream",
          "text": [
            "Epoch 5/50, Train: 100%|██████████| 3/3 [00:01<00:00,  2.33it/s]\n",
            "Epoch 5/50, Validation: 100%|██████████| 1/1 [00:00<00:00,  8.68it/s]\n",
            "Evaluate Train: 100%|██████████| 3/3 [00:00<00:00,  9.81it/s]\n",
            "Evaluate Validation: 100%|██████████| 1/1 [00:00<00:00, 13.17it/s]\n"
          ]
        },
        {
          "name": "stdout",
          "output_type": "stream",
          "text": [
            "Epoch 5/50\n",
            "Train - Loss: 4.5039, Accuracy: 0.8137, Precision: 0.9762, Recall: 0.6357, AUC: 0.3232\n",
            "Val - Loss: 4.7891, Accuracy: 0.8258, Precision: 0.9773, Recall: 0.6615, AUC: 0.3522\n"
          ]
        },
        {
          "name": "stderr",
          "output_type": "stream",
          "text": [
            "Epoch 6/50, Train: 100%|██████████| 3/3 [00:02<00:00,  1.14it/s]\n",
            "Epoch 6/50, Validation: 100%|██████████| 1/1 [00:00<00:00,  8.57it/s]\n",
            "Evaluate Train: 100%|██████████| 3/3 [00:00<00:00,  9.96it/s]\n",
            "Evaluate Validation: 100%|██████████| 1/1 [00:00<00:00, 10.80it/s]\n"
          ]
        },
        {
          "name": "stdout",
          "output_type": "stream",
          "text": [
            "Epoch 6/50\n",
            "Train - Loss: 4.4440, Accuracy: 0.8251, Precision: 0.9560, Recall: 0.6744, AUC: 0.4908\n",
            "Val - Loss: 4.6914, Accuracy: 0.8333, Precision: 0.9778, Recall: 0.6769, AUC: 0.4830\n"
          ]
        },
        {
          "name": "stderr",
          "output_type": "stream",
          "text": [
            "Epoch 7/50, Train: 100%|██████████| 3/3 [00:01<00:00,  2.47it/s]\n",
            "Epoch 7/50, Validation: 100%|██████████| 1/1 [00:00<00:00,  8.69it/s]\n",
            "Evaluate Train: 100%|██████████| 3/3 [00:01<00:00,  2.62it/s]\n",
            "Evaluate Validation: 100%|██████████| 1/1 [00:00<00:00, 13.48it/s]\n"
          ]
        },
        {
          "name": "stdout",
          "output_type": "stream",
          "text": [
            "Epoch 7/50\n",
            "Train - Loss: 4.3672, Accuracy: 0.8099, Precision: 0.8990, Recall: 0.6899, AUC: 0.7002\n",
            "Val - Loss: 4.6484, Accuracy: 0.8409, Precision: 0.9400, Recall: 0.7231, AUC: 0.7313\n"
          ]
        },
        {
          "name": "stderr",
          "output_type": "stream",
          "text": [
            "Epoch 8/50, Train: 100%|██████████| 3/3 [00:01<00:00,  2.18it/s]\n",
            "Epoch 8/50, Validation: 100%|██████████| 1/1 [00:00<00:00,  8.67it/s]\n",
            "Evaluate Train: 100%|██████████| 3/3 [00:00<00:00, 10.17it/s]\n",
            "Evaluate Validation: 100%|██████████| 1/1 [00:00<00:00, 13.83it/s]\n"
          ]
        },
        {
          "name": "stdout",
          "output_type": "stream",
          "text": [
            "Epoch 8/50\n",
            "Train - Loss: 4.3893, Accuracy: 0.8308, Precision: 0.8930, Recall: 0.7442, AUC: 0.7480\n",
            "Val - Loss: 4.6250, Accuracy: 0.8258, Precision: 0.8750, Recall: 0.7538, AUC: 0.7990\n"
          ]
        },
        {
          "name": "stderr",
          "output_type": "stream",
          "text": [
            "Epoch 9/50, Train: 100%|██████████| 3/3 [00:01<00:00,  2.19it/s]\n",
            "Epoch 9/50, Validation: 100%|██████████| 1/1 [00:00<00:00,  7.56it/s]\n",
            "Evaluate Train: 100%|██████████| 3/3 [00:00<00:00,  3.19it/s]\n",
            "Evaluate Validation: 100%|██████████| 1/1 [00:00<00:00, 13.11it/s]\n"
          ]
        },
        {
          "name": "stdout",
          "output_type": "stream",
          "text": [
            "Epoch 9/50\n",
            "Train - Loss: 4.3398, Accuracy: 0.8365, Precision: 0.8468, Recall: 0.8140, AUC: 0.7842\n",
            "Val - Loss: 4.6094, Accuracy: 0.7803, Precision: 0.7727, Recall: 0.7846, AUC: 0.8129\n"
          ]
        },
        {
          "name": "stderr",
          "output_type": "stream",
          "text": [
            "Epoch 10/50, Train: 100%|██████████| 3/3 [00:01<00:00,  2.13it/s]\n",
            "Epoch 10/50, Validation: 100%|██████████| 1/1 [00:00<00:00,  8.73it/s]\n",
            "Evaluate Train: 100%|██████████| 3/3 [00:00<00:00, 10.08it/s]\n",
            "Evaluate Validation: 100%|██████████| 1/1 [00:00<00:00, 13.69it/s]\n"
          ]
        },
        {
          "name": "stdout",
          "output_type": "stream",
          "text": [
            "Epoch 10/50\n",
            "Train - Loss: 4.2826, Accuracy: 0.8555, Precision: 0.8991, Recall: 0.7946, AUC: 0.7691\n",
            "Val - Loss: 4.5938, Accuracy: 0.8258, Precision: 0.8500, Recall: 0.7846, AUC: 0.8166\n"
          ]
        },
        {
          "name": "stderr",
          "output_type": "stream",
          "text": [
            "Epoch 11/50, Train: 100%|██████████| 3/3 [00:00<00:00,  3.61it/s]\n",
            "Epoch 11/50, Validation: 100%|██████████| 1/1 [00:00<00:00,  1.25it/s]\n",
            "Evaluate Train: 100%|██████████| 3/3 [00:01<00:00,  2.32it/s]\n",
            "Evaluate Validation: 100%|██████████| 1/1 [00:00<00:00, 13.07it/s]\n"
          ]
        },
        {
          "name": "stdout",
          "output_type": "stream",
          "text": [
            "Epoch 11/50\n",
            "Train - Loss: 4.2513, Accuracy: 0.8631, Precision: 0.9515, Recall: 0.7597, AUC: 0.7278\n",
            "Val - Loss: 4.5625, Accuracy: 0.8561, Precision: 0.9600, Recall: 0.7385, AUC: 0.7599\n"
          ]
        },
        {
          "name": "stderr",
          "output_type": "stream",
          "text": [
            "Epoch 12/50, Train: 100%|██████████| 3/3 [00:02<00:00,  1.47it/s]\n",
            "Epoch 12/50, Validation: 100%|██████████| 1/1 [00:00<00:00,  8.35it/s]\n",
            "Evaluate Train: 100%|██████████| 3/3 [00:00<00:00,  9.92it/s]\n",
            "Evaluate Validation: 100%|██████████| 1/1 [00:00<00:00, 13.60it/s]\n"
          ]
        },
        {
          "name": "stdout",
          "output_type": "stream",
          "text": [
            "Epoch 12/50\n",
            "Train - Loss: 4.1654, Accuracy: 0.8536, Precision: 0.9945, Recall: 0.7054, AUC: 0.6241\n",
            "Val - Loss: 4.6172, Accuracy: 0.8409, Precision: 0.9783, Recall: 0.6923, AUC: 0.6666\n"
          ]
        },
        {
          "name": "stderr",
          "output_type": "stream",
          "text": [
            "Epoch 13/50, Train: 100%|██████████| 3/3 [00:00<00:00,  3.66it/s]\n",
            "Epoch 13/50, Validation: 100%|██████████| 1/1 [00:00<00:00,  8.70it/s]\n",
            "Evaluate Train: 100%|██████████| 3/3 [00:00<00:00,  5.99it/s]\n",
            "Evaluate Validation: 100%|██████████| 1/1 [00:00<00:00, 13.43it/s]\n"
          ]
        },
        {
          "name": "stdout",
          "output_type": "stream",
          "text": [
            "Epoch 13/50\n",
            "Train - Loss: 4.2520, Accuracy: 0.7928, Precision: 0.7159, Recall: 0.9574, AUC: 0.9104\n",
            "Val - Loss: 4.7070, Accuracy: 0.7348, Precision: 0.6667, Recall: 0.9231, AUC: 0.8549\n"
          ]
        },
        {
          "name": "stderr",
          "output_type": "stream",
          "text": [
            "Epoch 14/50, Train: 100%|██████████| 3/3 [00:02<00:00,  1.38it/s]\n",
            "Epoch 14/50, Validation: 100%|██████████| 1/1 [00:00<00:00,  8.71it/s]\n",
            "Evaluate Train: 100%|██████████| 3/3 [00:00<00:00, 10.28it/s]\n",
            "Evaluate Validation: 100%|██████████| 1/1 [00:00<00:00, 13.83it/s]\n"
          ]
        },
        {
          "name": "stdout",
          "output_type": "stream",
          "text": [
            "Epoch 14/50\n",
            "Train - Loss: 4.1790, Accuracy: 0.8251, Precision: 0.9940, Recall: 0.6473, AUC: 0.2389\n",
            "Val - Loss: 4.6562, Accuracy: 0.8258, Precision: 1.0000, Recall: 0.6462, AUC: 0.4048\n"
          ]
        },
        {
          "name": "stderr",
          "output_type": "stream",
          "text": [
            "Epoch 15/50, Train: 100%|██████████| 3/3 [00:01<00:00,  1.92it/s]\n",
            "Epoch 15/50, Validation: 100%|██████████| 1/1 [00:00<00:00,  8.65it/s]\n",
            "Evaluate Train: 100%|██████████| 3/3 [00:00<00:00, 10.20it/s]\n",
            "Evaluate Validation: 100%|██████████| 1/1 [00:00<00:00, 13.80it/s]\n"
          ]
        },
        {
          "name": "stdout",
          "output_type": "stream",
          "text": [
            "Epoch 15/50\n",
            "Train - Loss: 4.2344, Accuracy: 0.8213, Precision: 0.7455, Recall: 0.9651, AUC: 0.9356\n",
            "Val - Loss: 4.6641, Accuracy: 0.7121, Precision: 0.6517, Recall: 0.8923, AUC: 0.8656\n"
          ]
        },
        {
          "name": "stderr",
          "output_type": "stream",
          "text": [
            "Epoch 16/50, Train: 100%|██████████| 3/3 [00:01<00:00,  1.91it/s]\n",
            "Epoch 16/50, Validation: 100%|██████████| 1/1 [00:00<00:00,  8.68it/s]\n",
            "Evaluate Train: 100%|██████████| 3/3 [00:00<00:00, 10.17it/s]\n",
            "Evaluate Validation: 100%|██████████| 1/1 [00:00<00:00, 13.57it/s]\n"
          ]
        },
        {
          "name": "stdout",
          "output_type": "stream",
          "text": [
            "Epoch 16/50\n",
            "Train - Loss: 4.1693, Accuracy: 0.8916, Precision: 0.9951, Recall: 0.7829, AUC: 0.6375\n",
            "Val - Loss: 4.5938, Accuracy: 0.8409, Precision: 0.9583, Recall: 0.7077, AUC: 0.7279\n"
          ]
        },
        {
          "name": "stderr",
          "output_type": "stream",
          "text": [
            "Epoch 17/50, Train: 100%|██████████| 3/3 [00:00<00:00,  3.79it/s]\n",
            "Epoch 17/50, Validation: 100%|██████████| 1/1 [00:00<00:00,  8.71it/s]\n",
            "Evaluate Train: 100%|██████████| 3/3 [00:01<00:00,  1.52it/s]\n",
            "Evaluate Validation: 100%|██████████| 1/1 [00:00<00:00, 13.31it/s]\n"
          ]
        },
        {
          "name": "stdout",
          "output_type": "stream",
          "text": [
            "Epoch 17/50\n",
            "Train - Loss: 4.1829, Accuracy: 0.9373, Precision: 0.9956, Recall: 0.8760, AUC: 0.7218\n",
            "Val - Loss: 4.5820, Accuracy: 0.8409, Precision: 0.9074, Recall: 0.7538, AUC: 0.7644\n"
          ]
        },
        {
          "name": "stderr",
          "output_type": "stream",
          "text": [
            "Epoch 18/50, Train: 100%|██████████| 3/3 [00:01<00:00,  2.19it/s]\n",
            "Epoch 18/50, Validation: 100%|██████████| 1/1 [00:00<00:00,  8.69it/s]\n",
            "Evaluate Train: 100%|██████████| 3/3 [00:00<00:00, 10.23it/s]\n",
            "Evaluate Validation: 100%|██████████| 1/1 [00:00<00:00, 13.71it/s]\n"
          ]
        },
        {
          "name": "stdout",
          "output_type": "stream",
          "text": [
            "Epoch 18/50\n",
            "Train - Loss: 4.1276, Accuracy: 0.9430, Precision: 0.9222, Recall: 0.9651, AUC: 0.8879\n",
            "Val - Loss: 4.6406, Accuracy: 0.8030, Precision: 0.7671, Recall: 0.8615, AUC: 0.8388\n"
          ]
        },
        {
          "name": "stderr",
          "output_type": "stream",
          "text": [
            "Epoch 19/50, Train: 100%|██████████| 3/3 [00:00<00:00,  3.63it/s]\n",
            "Epoch 19/50, Validation: 100%|██████████| 1/1 [00:00<00:00,  8.85it/s]\n",
            "Evaluate Train: 100%|██████████| 3/3 [00:00<00:00, 10.20it/s]\n",
            "Evaluate Validation: 100%|██████████| 1/1 [00:00<00:00, 13.41it/s]\n"
          ]
        },
        {
          "name": "stdout",
          "output_type": "stream",
          "text": [
            "Epoch 19/50\n",
            "Train - Loss: 4.0326, Accuracy: 0.8840, Precision: 0.9950, Recall: 0.7674, AUC: 0.3939\n",
            "Val - Loss: 4.7344, Accuracy: 0.8333, Precision: 0.9778, Recall: 0.6769, AUC: 0.5727\n"
          ]
        },
        {
          "name": "stderr",
          "output_type": "stream",
          "text": [
            "Epoch 20/50, Train: 100%|██████████| 3/3 [00:00<00:00,  3.66it/s]\n",
            "Epoch 20/50, Validation: 100%|██████████| 1/1 [00:00<00:00,  8.76it/s]\n",
            "Evaluate Train: 100%|██████████| 3/3 [00:00<00:00,  5.98it/s]\n",
            "Evaluate Validation: 100%|██████████| 1/1 [00:00<00:00, 13.72it/s]\n"
          ]
        },
        {
          "name": "stdout",
          "output_type": "stream",
          "text": [
            "Epoch 20/50\n",
            "Train - Loss: 4.0664, Accuracy: 0.8422, Precision: 0.7566, Recall: 1.0000, AUC: 0.9905\n",
            "Val - Loss: 4.8984, Accuracy: 0.6439, Precision: 0.5900, Recall: 0.9077, AUC: 0.8596\n"
          ]
        },
        {
          "name": "stderr",
          "output_type": "stream",
          "text": [
            "Epoch 21/50, Train: 100%|██████████| 3/3 [00:01<00:00,  2.19it/s]\n",
            "Epoch 21/50, Validation: 100%|██████████| 1/1 [00:00<00:00,  8.77it/s]\n",
            "Evaluate Train: 100%|██████████| 3/3 [00:00<00:00, 10.20it/s]\n",
            "Evaluate Validation: 100%|██████████| 1/1 [00:00<00:00, 13.62it/s]\n"
          ]
        },
        {
          "name": "stdout",
          "output_type": "stream",
          "text": [
            "Epoch 21/50\n",
            "Train - Loss: 4.0443, Accuracy: 0.9125, Precision: 1.0000, Recall: 0.8217, AUC: 0.3149\n",
            "Val - Loss: 4.7617, Accuracy: 0.8409, Precision: 0.9783, Recall: 0.6923, AUC: 0.5279\n"
          ]
        },
        {
          "name": "stderr",
          "output_type": "stream",
          "text": [
            "Epoch 22/50, Train: 100%|██████████| 3/3 [00:00<00:00,  3.66it/s]\n",
            "Epoch 22/50, Validation: 100%|██████████| 1/1 [00:00<00:00,  8.78it/s]\n",
            "Evaluate Train: 100%|██████████| 3/3 [00:00<00:00,  5.81it/s]\n",
            "Evaluate Validation: 100%|██████████| 1/1 [00:00<00:00, 13.77it/s]\n"
          ]
        },
        {
          "name": "stdout",
          "output_type": "stream",
          "text": [
            "Epoch 22/50\n",
            "Train - Loss: 4.0221, Accuracy: 0.9848, Precision: 0.9960, Recall: 0.9729, AUC: 0.8614\n",
            "Val - Loss: 4.6484, Accuracy: 0.8258, Precision: 0.8281, Recall: 0.8154, AUC: 0.8197\n"
          ]
        },
        {
          "name": "stderr",
          "output_type": "stream",
          "text": [
            "Epoch 23/50, Train: 100%|██████████| 3/3 [00:00<00:00,  3.63it/s]\n",
            "Epoch 23/50, Validation: 100%|██████████| 1/1 [00:00<00:00,  8.88it/s]\n",
            "Evaluate Train: 100%|██████████| 3/3 [00:00<00:00,  6.13it/s]\n",
            "Evaluate Validation: 100%|██████████| 1/1 [00:00<00:00, 13.30it/s]\n"
          ]
        },
        {
          "name": "stdout",
          "output_type": "stream",
          "text": [
            "Epoch 23/50\n",
            "Train - Loss: 3.9935, Accuracy: 0.9905, Precision: 1.0000, Recall: 0.9806, AUC: 0.8833\n",
            "Val - Loss: 4.6641, Accuracy: 0.8258, Precision: 0.8281, Recall: 0.8154, AUC: 0.8096\n"
          ]
        },
        {
          "name": "stderr",
          "output_type": "stream",
          "text": [
            "Epoch 24/50, Train: 100%|██████████| 3/3 [00:01<00:00,  2.13it/s]\n",
            "Epoch 24/50, Validation: 100%|██████████| 1/1 [00:00<00:00,  8.84it/s]\n",
            "Evaluate Train: 100%|██████████| 3/3 [00:00<00:00, 10.17it/s]\n",
            "Evaluate Validation: 100%|██████████| 1/1 [00:00<00:00, 13.76it/s]\n"
          ]
        },
        {
          "name": "stdout",
          "output_type": "stream",
          "text": [
            "Epoch 24/50\n",
            "Train - Loss: 3.9473, Accuracy: 0.9791, Precision: 1.0000, Recall: 0.9574, AUC: 0.6206\n",
            "Val - Loss: 4.8047, Accuracy: 0.8258, Precision: 0.9200, Recall: 0.7077, AUC: 0.6855\n"
          ]
        },
        {
          "name": "stderr",
          "output_type": "stream",
          "text": [
            "Epoch 25/50, Train: 100%|██████████| 3/3 [00:01<00:00,  2.13it/s]\n",
            "Epoch 25/50, Validation: 100%|██████████| 1/1 [00:00<00:00,  7.66it/s]\n",
            "Evaluate Train: 100%|██████████| 3/3 [00:00<00:00, 10.00it/s]\n",
            "Evaluate Validation: 100%|██████████| 1/1 [00:00<00:00, 13.55it/s]\n"
          ]
        },
        {
          "name": "stdout",
          "output_type": "stream",
          "text": [
            "Epoch 25/50\n",
            "Train - Loss: 3.9430, Accuracy: 0.9981, Precision: 1.0000, Recall: 0.9961, AUC: 0.8779\n",
            "Val - Loss: 4.7539, Accuracy: 0.8258, Precision: 0.8750, Recall: 0.7538, AUC: 0.7785\n"
          ]
        },
        {
          "name": "stderr",
          "output_type": "stream",
          "text": [
            "Epoch 26/50, Train: 100%|██████████| 3/3 [00:01<00:00,  2.18it/s]\n",
            "Epoch 26/50, Validation: 100%|██████████| 1/1 [00:00<00:00,  8.63it/s]\n",
            "Evaluate Train: 100%|██████████| 3/3 [00:00<00:00, 10.09it/s]\n",
            "Evaluate Validation: 100%|██████████| 1/1 [00:00<00:00, 13.91it/s]\n"
          ]
        },
        {
          "name": "stdout",
          "output_type": "stream",
          "text": [
            "Epoch 26/50\n",
            "Train - Loss: 3.9167, Accuracy: 1.0000, Precision: 1.0000, Recall: 1.0000, AUC: 0.9771\n",
            "Val - Loss: 4.8125, Accuracy: 0.7500, Precision: 0.7222, Recall: 0.8000, AUC: 0.8000\n"
          ]
        },
        {
          "name": "stderr",
          "output_type": "stream",
          "text": [
            "Epoch 27/50, Train: 100%|██████████| 3/3 [00:01<00:00,  2.06it/s]\n",
            "Epoch 27/50, Validation: 100%|██████████| 1/1 [00:00<00:00,  8.60it/s]\n",
            "Evaluate Train: 100%|██████████| 3/3 [00:00<00:00, 10.14it/s]\n",
            "Evaluate Validation: 100%|██████████| 1/1 [00:00<00:00, 13.30it/s]\n"
          ]
        },
        {
          "name": "stdout",
          "output_type": "stream",
          "text": [
            "Epoch 27/50\n",
            "Train - Loss: 3.9124, Accuracy: 1.0000, Precision: 1.0000, Recall: 1.0000, AUC: 0.8047\n",
            "Val - Loss: 4.8672, Accuracy: 0.8258, Precision: 0.9200, Recall: 0.7077, AUC: 0.7549\n"
          ]
        },
        {
          "name": "stderr",
          "output_type": "stream",
          "text": [
            "Epoch 28/50, Train: 100%|██████████| 3/3 [00:00<00:00,  3.78it/s]\n",
            "Epoch 28/50, Validation: 100%|██████████| 1/1 [00:00<00:00,  8.57it/s]\n",
            "Evaluate Train: 100%|██████████| 3/3 [00:00<00:00, 10.22it/s]\n",
            "Evaluate Validation: 100%|██████████| 1/1 [00:00<00:00, 13.73it/s]\n"
          ]
        },
        {
          "name": "stdout",
          "output_type": "stream",
          "text": [
            "Epoch 28/50\n",
            "Train - Loss: 3.9115, Accuracy: 0.9981, Precision: 1.0000, Recall: 0.9961, AUC: 0.4369\n",
            "Val - Loss: 5.0469, Accuracy: 0.8106, Precision: 0.9167, Recall: 0.6769, AUC: 0.6414\n"
          ]
        },
        {
          "name": "stderr",
          "output_type": "stream",
          "text": [
            "Epoch 29/50, Train: 100%|██████████| 3/3 [00:01<00:00,  1.50it/s]\n",
            "Epoch 29/50, Validation: 100%|██████████| 1/1 [00:00<00:00,  8.59it/s]\n",
            "Evaluate Train: 100%|██████████| 3/3 [00:00<00:00, 10.20it/s]\n",
            "Evaluate Validation: 100%|██████████| 1/1 [00:00<00:00, 13.83it/s]\n"
          ]
        },
        {
          "name": "stdout",
          "output_type": "stream",
          "text": [
            "Epoch 29/50\n",
            "Train - Loss: 3.9043, Accuracy: 1.0000, Precision: 1.0000, Recall: 1.0000, AUC: 0.5219\n",
            "Val - Loss: 5.0195, Accuracy: 0.8182, Precision: 0.9184, Recall: 0.6923, AUC: 0.6661\n"
          ]
        },
        {
          "name": "stderr",
          "output_type": "stream",
          "text": [
            "Epoch 30/50, Train: 100%|██████████| 3/3 [00:00<00:00,  3.62it/s]\n",
            "Epoch 30/50, Validation: 100%|██████████| 1/1 [00:00<00:00,  8.43it/s]\n",
            "Evaluate Train: 100%|██████████| 3/3 [00:00<00:00,  6.06it/s]\n",
            "Evaluate Validation: 100%|██████████| 1/1 [00:00<00:00, 13.71it/s]\n"
          ]
        },
        {
          "name": "stdout",
          "output_type": "stream",
          "text": [
            "Epoch 30/50\n",
            "Train - Loss: 3.9245, Accuracy: 1.0000, Precision: 1.0000, Recall: 1.0000, AUC: 0.7063\n",
            "Val - Loss: 4.9531, Accuracy: 0.8258, Precision: 0.9038, Recall: 0.7231, AUC: 0.7309\n"
          ]
        },
        {
          "name": "stderr",
          "output_type": "stream",
          "text": [
            "Epoch 31/50, Train: 100%|██████████| 3/3 [00:01<00:00,  2.12it/s]\n",
            "Epoch 31/50, Validation: 100%|██████████| 1/1 [00:00<00:00,  8.46it/s]\n",
            "Evaluate Train: 100%|██████████| 3/3 [00:00<00:00, 10.02it/s]\n",
            "Evaluate Validation: 100%|██████████| 1/1 [00:00<00:00, 13.50it/s]\n"
          ]
        },
        {
          "name": "stdout",
          "output_type": "stream",
          "text": [
            "Epoch 31/50\n",
            "Train - Loss: 3.9466, Accuracy: 1.0000, Precision: 1.0000, Recall: 1.0000, AUC: 0.7868\n",
            "Val - Loss: 4.9336, Accuracy: 0.8333, Precision: 0.8909, Recall: 0.7538, AUC: 0.7573\n",
            "Early stopping triggered.\n"
          ]
        },
        {
          "name": "stderr",
          "output_type": "stream",
          "text": [
            "Evaluate Test: 100%|██████████| 1/1 [00:00<00:00, 10.62it/s]"
          ]
        },
        {
          "name": "stdout",
          "output_type": "stream",
          "text": [
            "\n",
            "Accuracy: 0.7758, Precision: 0.8667, Recall: 0.6420, AUC: 0.7204\n",
            "Results saved to results/finetune/ori/clip/classification_results.txt\n"
          ]
        },
        {
          "name": "stderr",
          "output_type": "stream",
          "text": [
            "\n"
          ]
        },
        {
          "data": {
            "text/plain": [
              "<Figure size 640x480 with 0 Axes>"
            ]
          },
          "metadata": {},
          "output_type": "display_data"
        }
      ],
      "source": [
        "%run MedCLIP-pediatric/t_clip.py"
      ]
    },
    {
      "cell_type": "code",
      "execution_count": 1,
      "metadata": {
        "colab": {
          "base_uri": "https://localhost:8080/",
          "height": 1000
        },
        "id": "XL4amIgw6aaP",
        "outputId": "295cfddd-ceb3-4117-a823-fca639d8a536"
      },
      "outputs": [
        {
          "name": "stdout",
          "output_type": "stream",
          "text": [
            "Google Drive is already mounted.\n"
          ]
        },
        {
          "name": "stderr",
          "output_type": "stream",
          "text": [
            "/usr/local/lib/python3.10/dist-packages/huggingface_hub/utils/_token.py:88: UserWarning: \n",
            "The secret `HF_TOKEN` does not exist in your Colab secrets.\n",
            "To authenticate with the Hugging Face Hub, create a token in your settings tab (https://huggingface.co/settings/tokens), set it as secret in your Google Colab and restart your session.\n",
            "You will be able to reuse this secret in all of your notebooks.\n",
            "Please note that authentication is recommended but still optional to access public models or datasets.\n",
            "  warnings.warn(\n",
            "/usr/local/lib/python3.10/dist-packages/keras/src/preprocessing/image.py:766: UserWarning: NumpyArrayIterator is set to use the data format convention \"channels_last\" (channels on axis 3), i.e. expected either 1, 3, or 4 channels on axis 3. However, it was passed an array with shape (1967, 1, 224, 224) (224 channels).\n",
            "  warnings.warn(\n",
            "/usr/local/lib/python3.10/dist-packages/keras/src/preprocessing/image.py:766: UserWarning: NumpyArrayIterator is set to use the data format convention \"channels_last\" (channels on axis 3), i.e. expected either 1, 3, or 4 channels on axis 3. However, it was passed an array with shape (493, 1, 224, 224) (224 channels).\n",
            "  warnings.warn(\n",
            "/usr/local/lib/python3.10/dist-packages/keras/src/preprocessing/image.py:766: UserWarning: NumpyArrayIterator is set to use the data format convention \"channels_last\" (channels on axis 3), i.e. expected either 1, 3, or 4 channels on axis 3. However, it was passed an array with shape (616, 1, 224, 224) (224 channels).\n",
            "  warnings.warn(\n",
            "/usr/local/lib/python3.10/dist-packages/torch/functional.py:507: UserWarning: torch.meshgrid: in an upcoming release, it will be required to pass the indexing argument. (Triggered internally at ../aten/src/ATen/native/TensorShape.cpp:3549.)\n",
            "  return _VF.meshgrid(tensors, **kwargs)  # type: ignore[attr-defined]\n",
            "Some weights of the model checkpoint at microsoft/swin-tiny-patch4-window7-224 were not used when initializing SwinModel: ['classifier.bias', 'classifier.weight']\n",
            "- This IS expected if you are initializing SwinModel from the checkpoint of a model trained on another task or with another architecture (e.g. initializing a BertForSequenceClassification model from a BertForPreTraining model).\n",
            "- This IS NOT expected if you are initializing SwinModel from the checkpoint of a model that you expect to be exactly identical (initializing a BertForSequenceClassification model from a BertForSequenceClassification model).\n"
          ]
        },
        {
          "name": "stdout",
          "output_type": "stream",
          "text": [
            "Results saved to results/visualization/fine_tune/ucsd/medclip/images/cxr_images.png\n",
            "NVIDIA library configured successfully.\n"
          ]
        },
        {
          "name": "stderr",
          "output_type": "stream",
          "text": [
            "Some weights of the model checkpoint at emilyalsentzer/Bio_ClinicalBERT were not used when initializing BertModel: ['cls.predictions.transform.LayerNorm.bias', 'cls.predictions.transform.dense.bias', 'cls.predictions.bias', 'cls.predictions.decoder.weight', 'cls.predictions.transform.LayerNorm.weight', 'cls.seq_relationship.weight', 'cls.predictions.transform.dense.weight', 'cls.seq_relationship.bias']\n",
            "- This IS expected if you are initializing BertModel from the checkpoint of a model trained on another task or with another architecture (e.g. initializing a BertForSequenceClassification model from a BertForPreTraining model).\n",
            "- This IS NOT expected if you are initializing BertModel from the checkpoint of a model that you expect to be exactly identical (initializing a BertForSequenceClassification model from a BertForSequenceClassification model).\n"
          ]
        },
        {
          "name": "stdout",
          "output_type": "stream",
          "text": [
            "load model weight from: ./pretrained/medclip-vit\n"
          ]
        },
        {
          "name": "stderr",
          "output_type": "stream",
          "text": [
            "Epoch 1/50, Train: 100%|██████████| 8/8 [00:08<00:00,  1.08s/it]\n",
            "Epoch 1/50, Validation: 100%|██████████| 2/2 [00:01<00:00,  1.58it/s]\n",
            "Evaluate Train: 100%|██████████| 8/8 [00:04<00:00,  1.83it/s]\n",
            "Evaluate Validation: 100%|██████████| 2/2 [00:00<00:00,  2.61it/s]\n"
          ]
        },
        {
          "name": "stdout",
          "output_type": "stream",
          "text": [
            "Epoch 1/50\n",
            "Train - Loss: 5.5039, Accuracy: 0.3147, Precision: 0.2418, Recall: 0.1927, AUC: 0.2967\n",
            "Val - Loss: 5.5082, Accuracy: 0.3448, Precision: 0.2529, Recall: 0.1799, AUC: 0.3093\n"
          ]
        },
        {
          "name": "stderr",
          "output_type": "stream",
          "text": [
            "Epoch 2/50, Train: 100%|██████████| 8/8 [00:07<00:00,  1.04it/s]\n",
            "Epoch 2/50, Validation: 100%|██████████| 2/2 [00:00<00:00,  2.16it/s]\n",
            "Evaluate Train: 100%|██████████| 8/8 [00:05<00:00,  1.37it/s]\n",
            "Evaluate Validation: 100%|██████████| 2/2 [00:01<00:00,  1.64it/s]\n"
          ]
        },
        {
          "name": "stdout",
          "output_type": "stream",
          "text": [
            "Epoch 2/50\n",
            "Train - Loss: 5.4966, Accuracy: 0.3884, Precision: 0.3121, Recall: 0.2157, AUC: 0.4067\n",
            "Val - Loss: 5.5033, Accuracy: 0.4057, Precision: 0.3099, Recall: 0.1841, AUC: 0.4345\n"
          ]
        },
        {
          "name": "stderr",
          "output_type": "stream",
          "text": [
            "Epoch 3/50, Train: 100%|██████████| 8/8 [00:06<00:00,  1.23it/s]\n",
            "Epoch 3/50, Validation: 100%|██████████| 2/2 [00:00<00:00,  2.03it/s]\n",
            "Evaluate Train: 100%|██████████| 8/8 [00:04<00:00,  1.80it/s]\n",
            "Evaluate Validation: 100%|██████████| 2/2 [00:00<00:00,  2.66it/s]\n"
          ]
        },
        {
          "name": "stdout",
          "output_type": "stream",
          "text": [
            "Epoch 3/50\n",
            "Train - Loss: 5.4929, Accuracy: 0.4011, Precision: 0.3391, Recall: 0.2461, AUC: 0.4212\n",
            "Val - Loss: 5.4999, Accuracy: 0.4280, Precision: 0.3595, Recall: 0.2301, AUC: 0.4529\n"
          ]
        },
        {
          "name": "stderr",
          "output_type": "stream",
          "text": [
            "Epoch 4/50, Train: 100%|██████████| 8/8 [00:06<00:00,  1.33it/s]\n",
            "Epoch 4/50, Validation: 100%|██████████| 2/2 [00:02<00:00,  1.04s/it]\n",
            "Evaluate Train: 100%|██████████| 8/8 [00:05<00:00,  1.58it/s]\n",
            "Evaluate Validation: 100%|██████████| 2/2 [00:01<00:00,  1.55it/s]\n"
          ]
        },
        {
          "name": "stdout",
          "output_type": "stream",
          "text": [
            "Epoch 4/50\n",
            "Train - Loss: 5.4898, Accuracy: 0.3772, Precision: 0.3308, Recall: 0.2764, AUC: 0.3759\n",
            "Val - Loss: 5.4956, Accuracy: 0.4097, Precision: 0.3617, Recall: 0.2845, AUC: 0.4052\n"
          ]
        },
        {
          "name": "stderr",
          "output_type": "stream",
          "text": [
            "Epoch 5/50, Train: 100%|██████████| 8/8 [00:05<00:00,  1.35it/s]\n",
            "Epoch 5/50, Validation: 100%|██████████| 2/2 [00:00<00:00,  2.43it/s]\n",
            "Evaluate Train: 100%|██████████| 8/8 [00:04<00:00,  1.93it/s]\n",
            "Evaluate Validation: 100%|██████████| 2/2 [00:01<00:00,  1.48it/s]\n"
          ]
        },
        {
          "name": "stdout",
          "output_type": "stream",
          "text": [
            "Epoch 5/50\n",
            "Train - Loss: 5.4853, Accuracy: 0.3671, Precision: 0.3532, Recall: 0.3654, AUC: 0.3188\n",
            "Val - Loss: 5.4890, Accuracy: 0.3712, Precision: 0.3515, Recall: 0.3515, AUC: 0.3364\n"
          ]
        },
        {
          "name": "stderr",
          "output_type": "stream",
          "text": [
            "Epoch 6/50, Train: 100%|██████████| 8/8 [00:05<00:00,  1.37it/s]\n",
            "Epoch 6/50, Validation: 100%|██████████| 2/2 [00:01<00:00,  1.47it/s]\n",
            "Evaluate Train: 100%|██████████| 8/8 [00:04<00:00,  1.73it/s]\n",
            "Evaluate Validation: 100%|██████████| 2/2 [00:00<00:00,  2.61it/s]\n"
          ]
        },
        {
          "name": "stdout",
          "output_type": "stream",
          "text": [
            "Epoch 6/50\n",
            "Train - Loss: 5.4774, Accuracy: 0.3935, Precision: 0.4062, Recall: 0.5393, AUC: 0.2765\n",
            "Val - Loss: 5.4775, Accuracy: 0.3996, Precision: 0.4123, Recall: 0.5607, AUC: 0.2894\n"
          ]
        },
        {
          "name": "stderr",
          "output_type": "stream",
          "text": [
            "Epoch 7/50, Train: 100%|██████████| 8/8 [00:06<00:00,  1.14it/s]\n",
            "Epoch 7/50, Validation: 100%|██████████| 2/2 [00:00<00:00,  2.19it/s]\n",
            "Evaluate Train: 100%|██████████| 8/8 [00:03<00:00,  2.09it/s]\n",
            "Evaluate Validation: 100%|██████████| 2/2 [00:02<00:00,  1.11s/it]\n"
          ]
        },
        {
          "name": "stdout",
          "output_type": "stream",
          "text": [
            "Epoch 7/50\n",
            "Train - Loss: 5.4641, Accuracy: 0.4672, Precision: 0.4705, Recall: 0.7770, AUC: 0.3277\n",
            "Val - Loss: 5.4568, Accuracy: 0.4726, Precision: 0.4730, Recall: 0.7699, AUC: 0.3383\n"
          ]
        },
        {
          "name": "stderr",
          "output_type": "stream",
          "text": [
            "Epoch 8/50, Train: 100%|██████████| 8/8 [00:05<00:00,  1.39it/s]\n",
            "Epoch 8/50, Validation: 100%|██████████| 2/2 [00:00<00:00,  2.47it/s]\n",
            "Evaluate Train: 100%|██████████| 8/8 [00:05<00:00,  1.54it/s]\n",
            "Evaluate Validation: 100%|██████████| 2/2 [00:01<00:00,  1.54it/s]\n"
          ]
        },
        {
          "name": "stdout",
          "output_type": "stream",
          "text": [
            "Epoch 8/50\n",
            "Train - Loss: 5.4384, Accuracy: 0.6009, Precision: 0.5533, Recall: 0.9236, AUC: 0.7337\n",
            "Val - Loss: 5.4157, Accuracy: 0.5943, Precision: 0.5494, Recall: 0.9079, AUC: 0.7329\n"
          ]
        },
        {
          "name": "stderr",
          "output_type": "stream",
          "text": [
            "Epoch 9/50, Train: 100%|██████████| 8/8 [00:06<00:00,  1.16it/s]\n",
            "Epoch 9/50, Validation: 100%|██████████| 2/2 [00:00<00:00,  2.61it/s]\n",
            "Evaluate Train: 100%|██████████| 8/8 [00:05<00:00,  1.53it/s]\n",
            "Evaluate Validation: 100%|██████████| 2/2 [00:00<00:00,  2.66it/s]\n"
          ]
        },
        {
          "name": "stdout",
          "output_type": "stream",
          "text": [
            "Epoch 9/50\n",
            "Train - Loss: 5.3886, Accuracy: 0.8943, Precision: 0.8739, Recall: 0.9141, AUC: 0.9642\n",
            "Val - Loss: 5.3301, Accuracy: 0.9087, Precision: 0.8880, Recall: 0.9289, AUC: 0.9625\n"
          ]
        },
        {
          "name": "stderr",
          "output_type": "stream",
          "text": [
            "Epoch 10/50, Train: 100%|██████████| 8/8 [00:06<00:00,  1.15it/s]\n",
            "Epoch 10/50, Validation: 100%|██████████| 2/2 [00:01<00:00,  1.49it/s]\n",
            "Evaluate Train: 100%|██████████| 8/8 [00:03<00:00,  2.17it/s]\n",
            "Evaluate Validation: 100%|██████████| 2/2 [00:01<00:00,  1.06it/s]\n"
          ]
        },
        {
          "name": "stdout",
          "output_type": "stream",
          "text": [
            "Epoch 10/50\n",
            "Train - Loss: 5.2881, Accuracy: 0.9390, Precision: 0.9353, Recall: 0.9393, AUC: 0.9786\n",
            "Val - Loss: 5.1958, Accuracy: 0.9391, Precision: 0.9336, Recall: 0.9414, AUC: 0.9782\n"
          ]
        },
        {
          "name": "stderr",
          "output_type": "stream",
          "text": [
            "Epoch 11/50, Train: 100%|██████████| 8/8 [00:07<00:00,  1.11it/s]\n",
            "Epoch 11/50, Validation: 100%|██████████| 2/2 [00:00<00:00,  2.56it/s]\n",
            "Evaluate Train: 100%|██████████| 8/8 [00:04<00:00,  1.65it/s]\n",
            "Evaluate Validation: 100%|██████████| 2/2 [00:00<00:00,  2.48it/s]\n"
          ]
        },
        {
          "name": "stdout",
          "output_type": "stream",
          "text": [
            "Epoch 11/50\n",
            "Train - Loss: 5.1673, Accuracy: 0.9558, Precision: 0.9597, Recall: 0.9487, AUC: 0.9818\n",
            "Val - Loss: 5.0883, Accuracy: 0.9513, Precision: 0.9461, Recall: 0.9540, AUC: 0.9801\n"
          ]
        },
        {
          "name": "stderr",
          "output_type": "stream",
          "text": [
            "Epoch 12/50, Train: 100%|██████████| 8/8 [00:06<00:00,  1.26it/s]\n",
            "Epoch 12/50, Validation: 100%|██████████| 2/2 [00:01<00:00,  1.29it/s]\n",
            "Evaluate Train: 100%|██████████| 8/8 [00:04<00:00,  1.61it/s]\n",
            "Evaluate Validation: 100%|██████████| 2/2 [00:01<00:00,  1.22it/s]\n"
          ]
        },
        {
          "name": "stdout",
          "output_type": "stream",
          "text": [
            "Epoch 12/50\n",
            "Train - Loss: 5.0734, Accuracy: 0.9629, Precision: 0.9783, Recall: 0.9445, AUC: 0.9879\n",
            "Val - Loss: 5.0018, Accuracy: 0.9554, Precision: 0.9657, Recall: 0.9414, AUC: 0.9812\n"
          ]
        },
        {
          "name": "stderr",
          "output_type": "stream",
          "text": [
            "Epoch 13/50, Train: 100%|██████████| 8/8 [00:06<00:00,  1.31it/s]\n",
            "Epoch 13/50, Validation: 100%|██████████| 2/2 [00:01<00:00,  1.55it/s]\n",
            "Evaluate Train: 100%|██████████| 8/8 [00:03<00:00,  2.00it/s]\n",
            "Evaluate Validation: 100%|██████████| 2/2 [00:01<00:00,  1.52it/s]\n"
          ]
        },
        {
          "name": "stdout",
          "output_type": "stream",
          "text": [
            "Epoch 13/50\n",
            "Train - Loss: 4.9896, Accuracy: 0.9680, Precision: 0.9636, Recall: 0.9707, AUC: 0.9902\n",
            "Val - Loss: 4.9615, Accuracy: 0.9655, Precision: 0.9549, Recall: 0.9749, AUC: 0.9844\n"
          ]
        },
        {
          "name": "stderr",
          "output_type": "stream",
          "text": [
            "Epoch 14/50, Train: 100%|██████████| 8/8 [00:07<00:00,  1.10it/s]\n",
            "Epoch 14/50, Validation: 100%|██████████| 2/2 [00:00<00:00,  2.50it/s]\n",
            "Evaluate Train: 100%|██████████| 8/8 [00:04<00:00,  1.70it/s]\n",
            "Evaluate Validation: 100%|██████████| 2/2 [00:01<00:00,  1.55it/s]\n"
          ]
        },
        {
          "name": "stdout",
          "output_type": "stream",
          "text": [
            "Epoch 14/50\n",
            "Train - Loss: 4.9580, Accuracy: 0.9725, Precision: 0.9707, Recall: 0.9728, AUC: 0.9925\n",
            "Val - Loss: 4.9503, Accuracy: 0.9675, Precision: 0.9627, Recall: 0.9707, AUC: 0.9867\n"
          ]
        },
        {
          "name": "stderr",
          "output_type": "stream",
          "text": [
            "Epoch 15/50, Train: 100%|██████████| 8/8 [00:06<00:00,  1.24it/s]\n",
            "Epoch 15/50, Validation: 100%|██████████| 2/2 [00:01<00:00,  1.99it/s]\n",
            "Evaluate Train: 100%|██████████| 8/8 [00:04<00:00,  1.68it/s]\n",
            "Evaluate Validation: 100%|██████████| 2/2 [00:01<00:00,  1.27it/s]\n"
          ]
        },
        {
          "name": "stdout",
          "output_type": "stream",
          "text": [
            "Epoch 15/50\n",
            "Train - Loss: 4.9379, Accuracy: 0.9761, Precision: 0.9759, Recall: 0.9749, AUC: 0.9939\n",
            "Val - Loss: 4.9424, Accuracy: 0.9716, Precision: 0.9668, Recall: 0.9749, AUC: 0.9871\n"
          ]
        },
        {
          "name": "stderr",
          "output_type": "stream",
          "text": [
            "Epoch 16/50, Train: 100%|██████████| 8/8 [00:07<00:00,  1.11it/s]\n",
            "Epoch 16/50, Validation: 100%|██████████| 2/2 [00:01<00:00,  1.23it/s]\n",
            "Evaluate Train: 100%|██████████| 8/8 [00:04<00:00,  1.82it/s]\n",
            "Evaluate Validation: 100%|██████████| 2/2 [00:01<00:00,  1.26it/s]\n"
          ]
        },
        {
          "name": "stdout",
          "output_type": "stream",
          "text": [
            "Epoch 16/50\n",
            "Train - Loss: 4.9245, Accuracy: 0.9786, Precision: 0.9750, Recall: 0.9812, AUC: 0.9948\n",
            "Val - Loss: 4.9319, Accuracy: 0.9736, Precision: 0.9631, Recall: 0.9833, AUC: 0.9873\n"
          ]
        },
        {
          "name": "stderr",
          "output_type": "stream",
          "text": [
            "Epoch 17/50, Train: 100%|██████████| 8/8 [00:07<00:00,  1.07it/s]\n",
            "Epoch 17/50, Validation: 100%|██████████| 2/2 [00:01<00:00,  1.42it/s]\n",
            "Evaluate Train: 100%|██████████| 8/8 [00:04<00:00,  1.73it/s]\n",
            "Evaluate Validation: 100%|██████████| 2/2 [00:01<00:00,  1.54it/s]\n"
          ]
        },
        {
          "name": "stdout",
          "output_type": "stream",
          "text": [
            "Epoch 17/50\n",
            "Train - Loss: 4.9098, Accuracy: 0.9837, Precision: 0.9873, Recall: 0.9791, AUC: 0.9957\n",
            "Val - Loss: 4.9409, Accuracy: 0.9736, Precision: 0.9669, Recall: 0.9791, AUC: 0.9878\n"
          ]
        },
        {
          "name": "stderr",
          "output_type": "stream",
          "text": [
            "Epoch 18/50, Train: 100%|██████████| 8/8 [00:06<00:00,  1.25it/s]\n",
            "Epoch 18/50, Validation: 100%|██████████| 2/2 [00:01<00:00,  1.22it/s]\n",
            "Evaluate Train: 100%|██████████| 8/8 [00:05<00:00,  1.51it/s]\n",
            "Evaluate Validation: 100%|██████████| 2/2 [00:01<00:00,  1.25it/s]\n"
          ]
        },
        {
          "name": "stdout",
          "output_type": "stream",
          "text": [
            "Epoch 18/50\n",
            "Train - Loss: 4.8979, Accuracy: 0.9837, Precision: 0.9763, Recall: 0.9906, AUC: 0.9960\n",
            "Val - Loss: 4.9247, Accuracy: 0.9716, Precision: 0.9592, Recall: 0.9833, AUC: 0.9880\n"
          ]
        },
        {
          "name": "stderr",
          "output_type": "stream",
          "text": [
            "Epoch 19/50, Train: 100%|██████████| 8/8 [00:07<00:00,  1.11it/s]\n",
            "Epoch 19/50, Validation: 100%|██████████| 2/2 [00:00<00:00,  2.33it/s]\n",
            "Evaluate Train: 100%|██████████| 8/8 [00:04<00:00,  1.68it/s]\n",
            "Evaluate Validation: 100%|██████████| 2/2 [00:00<00:00,  2.25it/s]\n"
          ]
        },
        {
          "name": "stdout",
          "output_type": "stream",
          "text": [
            "Epoch 19/50\n",
            "Train - Loss: 4.8900, Accuracy: 0.9873, Precision: 0.9854, Recall: 0.9885, AUC: 0.9964\n",
            "Val - Loss: 4.9304, Accuracy: 0.9716, Precision: 0.9630, Recall: 0.9791, AUC: 0.9887\n"
          ]
        },
        {
          "name": "stderr",
          "output_type": "stream",
          "text": [
            "Epoch 20/50, Train: 100%|██████████| 8/8 [00:05<00:00,  1.41it/s]\n",
            "Epoch 20/50, Validation: 100%|██████████| 2/2 [00:01<00:00,  1.65it/s]\n",
            "Evaluate Train: 100%|██████████| 8/8 [00:04<00:00,  1.85it/s]\n",
            "Evaluate Validation: 100%|██████████| 2/2 [00:00<00:00,  2.72it/s]\n"
          ]
        },
        {
          "name": "stdout",
          "output_type": "stream",
          "text": [
            "Epoch 20/50\n",
            "Train - Loss: 4.8857, Accuracy: 0.9873, Precision: 0.9804, Recall: 0.9937, AUC: 0.9966\n",
            "Val - Loss: 4.9206, Accuracy: 0.9675, Precision: 0.9551, Recall: 0.9791, AUC: 0.9886\n"
          ]
        },
        {
          "name": "stderr",
          "output_type": "stream",
          "text": [
            "Epoch 21/50, Train: 100%|██████████| 8/8 [00:07<00:00,  1.02it/s]\n",
            "Epoch 21/50, Validation: 100%|██████████| 2/2 [00:01<00:00,  1.51it/s]\n",
            "Evaluate Train: 100%|██████████| 8/8 [00:05<00:00,  1.41it/s]\n",
            "Evaluate Validation: 100%|██████████| 2/2 [00:00<00:00,  2.31it/s]\n"
          ]
        },
        {
          "name": "stdout",
          "output_type": "stream",
          "text": [
            "Epoch 21/50\n",
            "Train - Loss: 4.8787, Accuracy: 0.9908, Precision: 0.9875, Recall: 0.9937, AUC: 0.9973\n",
            "Val - Loss: 4.9256, Accuracy: 0.9716, Precision: 0.9630, Recall: 0.9791, AUC: 0.9891\n"
          ]
        },
        {
          "name": "stderr",
          "output_type": "stream",
          "text": [
            "Epoch 22/50, Train: 100%|██████████| 8/8 [00:06<00:00,  1.16it/s]\n",
            "Epoch 22/50, Validation: 100%|██████████| 2/2 [00:00<00:00,  2.44it/s]\n",
            "Evaluate Train: 100%|██████████| 8/8 [00:04<00:00,  1.82it/s]\n",
            "Evaluate Validation: 100%|██████████| 2/2 [00:01<00:00,  1.76it/s]\n"
          ]
        },
        {
          "name": "stdout",
          "output_type": "stream",
          "text": [
            "Epoch 22/50\n",
            "Train - Loss: 4.8781, Accuracy: 0.9919, Precision: 0.9886, Recall: 0.9948, AUC: 0.9976\n",
            "Val - Loss: 4.9209, Accuracy: 0.9696, Precision: 0.9553, Recall: 0.9833, AUC: 0.9892\n"
          ]
        },
        {
          "name": "stderr",
          "output_type": "stream",
          "text": [
            "Epoch 23/50, Train: 100%|██████████| 8/8 [00:06<00:00,  1.31it/s]\n",
            "Epoch 23/50, Validation: 100%|██████████| 2/2 [00:01<00:00,  1.91it/s]\n",
            "Evaluate Train: 100%|██████████| 8/8 [00:04<00:00,  1.68it/s]\n",
            "Evaluate Validation: 100%|██████████| 2/2 [00:00<00:00,  2.14it/s]\n"
          ]
        },
        {
          "name": "stdout",
          "output_type": "stream",
          "text": [
            "Epoch 23/50\n",
            "Train - Loss: 4.8715, Accuracy: 0.9934, Precision: 0.9916, Recall: 0.9948, AUC: 0.9979\n",
            "Val - Loss: 4.9263, Accuracy: 0.9757, Precision: 0.9671, Recall: 0.9833, AUC: 0.9898\n"
          ]
        },
        {
          "name": "stderr",
          "output_type": "stream",
          "text": [
            "Epoch 24/50, Train: 100%|██████████| 8/8 [00:06<00:00,  1.17it/s]\n",
            "Epoch 24/50, Validation: 100%|██████████| 2/2 [00:00<00:00,  2.57it/s]\n",
            "Evaluate Train: 100%|██████████| 8/8 [00:05<00:00,  1.35it/s]\n",
            "Evaluate Validation: 100%|██████████| 2/2 [00:00<00:00,  2.05it/s]\n"
          ]
        },
        {
          "name": "stdout",
          "output_type": "stream",
          "text": [
            "Epoch 24/50\n",
            "Train - Loss: 4.8723, Accuracy: 0.9914, Precision: 0.9875, Recall: 0.9948, AUC: 0.9981\n",
            "Val - Loss: 4.9194, Accuracy: 0.9716, Precision: 0.9518, Recall: 0.9916, AUC: 0.9901\n"
          ]
        },
        {
          "name": "stderr",
          "output_type": "stream",
          "text": [
            "Epoch 25/50, Train: 100%|██████████| 8/8 [00:06<00:00,  1.26it/s]\n",
            "Epoch 25/50, Validation: 100%|██████████| 2/2 [00:00<00:00,  2.40it/s]\n",
            "Evaluate Train: 100%|██████████| 8/8 [00:04<00:00,  1.88it/s]\n",
            "Evaluate Validation: 100%|██████████| 2/2 [00:00<00:00,  2.12it/s]\n"
          ]
        },
        {
          "name": "stdout",
          "output_type": "stream",
          "text": [
            "Epoch 25/50\n",
            "Train - Loss: 4.8614, Accuracy: 0.9939, Precision: 0.9927, Recall: 0.9948, AUC: 0.9984\n",
            "Val - Loss: 4.9263, Accuracy: 0.9696, Precision: 0.9590, Recall: 0.9791, AUC: 0.9904\n"
          ]
        },
        {
          "name": "stderr",
          "output_type": "stream",
          "text": [
            "Epoch 26/50, Train: 100%|██████████| 8/8 [00:06<00:00,  1.20it/s]\n",
            "Epoch 26/50, Validation: 100%|██████████| 2/2 [00:01<00:00,  1.41it/s]\n",
            "Evaluate Train: 100%|██████████| 8/8 [00:05<00:00,  1.49it/s]\n",
            "Evaluate Validation: 100%|██████████| 2/2 [00:01<00:00,  1.25it/s]\n"
          ]
        },
        {
          "name": "stdout",
          "output_type": "stream",
          "text": [
            "Epoch 26/50\n",
            "Train - Loss: 4.8598, Accuracy: 0.9949, Precision: 0.9927, Recall: 0.9969, AUC: 0.9986\n",
            "Val - Loss: 4.9231, Accuracy: 0.9696, Precision: 0.9590, Recall: 0.9791, AUC: 0.9905\n"
          ]
        },
        {
          "name": "stderr",
          "output_type": "stream",
          "text": [
            "Epoch 27/50, Train: 100%|██████████| 8/8 [00:07<00:00,  1.07it/s]\n",
            "Epoch 27/50, Validation: 100%|██████████| 2/2 [00:01<00:00,  1.35it/s]\n",
            "Evaluate Train: 100%|██████████| 8/8 [00:05<00:00,  1.51it/s]\n",
            "Evaluate Validation: 100%|██████████| 2/2 [00:00<00:00,  2.70it/s]\n"
          ]
        },
        {
          "name": "stdout",
          "output_type": "stream",
          "text": [
            "Epoch 27/50\n",
            "Train - Loss: 4.8551, Accuracy: 0.9939, Precision: 0.9906, Recall: 0.9969, AUC: 0.9987\n",
            "Val - Loss: 4.9215, Accuracy: 0.9716, Precision: 0.9555, Recall: 0.9874, AUC: 0.9900\n"
          ]
        },
        {
          "name": "stderr",
          "output_type": "stream",
          "text": [
            "Epoch 28/50, Train: 100%|██████████| 8/8 [00:06<00:00,  1.20it/s]\n",
            "Epoch 28/50, Validation: 100%|██████████| 2/2 [00:00<00:00,  2.38it/s]\n",
            "Evaluate Train: 100%|██████████| 8/8 [00:04<00:00,  1.90it/s]\n",
            "Evaluate Validation: 100%|██████████| 2/2 [00:01<00:00,  1.07it/s]\n"
          ]
        },
        {
          "name": "stdout",
          "output_type": "stream",
          "text": [
            "Epoch 28/50\n",
            "Train - Loss: 4.8531, Accuracy: 0.9959, Precision: 0.9948, Recall: 0.9969, AUC: 0.9990\n",
            "Val - Loss: 4.9363, Accuracy: 0.9716, Precision: 0.9630, Recall: 0.9791, AUC: 0.9902\n"
          ]
        },
        {
          "name": "stderr",
          "output_type": "stream",
          "text": [
            "Epoch 29/50, Train: 100%|██████████| 8/8 [00:06<00:00,  1.28it/s]\n",
            "Epoch 29/50, Validation: 100%|██████████| 2/2 [00:01<00:00,  1.66it/s]\n",
            "Evaluate Train: 100%|██████████| 8/8 [00:04<00:00,  1.86it/s]\n",
            "Evaluate Validation: 100%|██████████| 2/2 [00:01<00:00,  1.53it/s]\n"
          ]
        },
        {
          "name": "stdout",
          "output_type": "stream",
          "text": [
            "Epoch 29/50\n",
            "Train - Loss: 4.8491, Accuracy: 0.9924, Precision: 0.9865, Recall: 0.9979, AUC: 0.9988\n",
            "Val - Loss: 4.9245, Accuracy: 0.9655, Precision: 0.9440, Recall: 0.9874, AUC: 0.9900\n",
            "Early stopping triggered.\n"
          ]
        },
        {
          "name": "stderr",
          "output_type": "stream",
          "text": [
            "Evaluate Test: 100%|██████████| 3/3 [00:02<00:00,  1.32it/s]\n"
          ]
        },
        {
          "name": "stdout",
          "output_type": "stream",
          "text": [
            "\n",
            "Accuracy: 0.9627, Precision: 0.9481, Recall: 0.9766, AUC: 0.9917\n",
            "Results saved to results/finetune/ucsd/medclip/classification_results.txt\n"
          ]
        },
        {
          "name": "stderr",
          "output_type": "stream",
          "text": [
            "/usr/local/lib/python3.10/dist-packages/keras/src/preprocessing/image.py:766: UserWarning: NumpyArrayIterator is set to use the data format convention \"channels_last\" (channels on axis 3), i.e. expected either 1, 3, or 4 channels on axis 3. However, it was passed an array with shape (526, 1, 224, 224) (224 channels).\n",
            "  warnings.warn(\n",
            "/usr/local/lib/python3.10/dist-packages/keras/src/preprocessing/image.py:766: UserWarning: NumpyArrayIterator is set to use the data format convention \"channels_last\" (channels on axis 3), i.e. expected either 1, 3, or 4 channels on axis 3. However, it was passed an array with shape (132, 1, 224, 224) (224 channels).\n",
            "  warnings.warn(\n",
            "/usr/local/lib/python3.10/dist-packages/keras/src/preprocessing/image.py:766: UserWarning: NumpyArrayIterator is set to use the data format convention \"channels_last\" (channels on axis 3), i.e. expected either 1, 3, or 4 channels on axis 3. However, it was passed an array with shape (165, 1, 224, 224) (224 channels).\n",
            "  warnings.warn(\n"
          ]
        },
        {
          "name": "stdout",
          "output_type": "stream",
          "text": [
            "Results saved to results/visualization/fine_tune/ori/medclip/images/cxr_images.png\n",
            "NVIDIA library configured successfully.\n"
          ]
        },
        {
          "name": "stderr",
          "output_type": "stream",
          "text": [
            "Some weights of the model checkpoint at microsoft/swin-tiny-patch4-window7-224 were not used when initializing SwinModel: ['classifier.bias', 'classifier.weight']\n",
            "- This IS expected if you are initializing SwinModel from the checkpoint of a model trained on another task or with another architecture (e.g. initializing a BertForSequenceClassification model from a BertForPreTraining model).\n",
            "- This IS NOT expected if you are initializing SwinModel from the checkpoint of a model that you expect to be exactly identical (initializing a BertForSequenceClassification model from a BertForSequenceClassification model).\n",
            "Some weights of the model checkpoint at emilyalsentzer/Bio_ClinicalBERT were not used when initializing BertModel: ['cls.predictions.transform.LayerNorm.bias', 'cls.predictions.transform.dense.bias', 'cls.predictions.bias', 'cls.predictions.decoder.weight', 'cls.predictions.transform.LayerNorm.weight', 'cls.seq_relationship.weight', 'cls.predictions.transform.dense.weight', 'cls.seq_relationship.bias']\n",
            "- This IS expected if you are initializing BertModel from the checkpoint of a model trained on another task or with another architecture (e.g. initializing a BertForSequenceClassification model from a BertForPreTraining model).\n",
            "- This IS NOT expected if you are initializing BertModel from the checkpoint of a model that you expect to be exactly identical (initializing a BertForSequenceClassification model from a BertForSequenceClassification model).\n"
          ]
        },
        {
          "name": "stdout",
          "output_type": "stream",
          "text": [
            "load model weight from: ./pretrained/medclip-vit\n"
          ]
        },
        {
          "name": "stderr",
          "output_type": "stream",
          "text": [
            "Epoch 1/50, Train: 100%|██████████| 3/3 [00:02<00:00,  1.01it/s]\n",
            "Epoch 1/50, Validation: 100%|██████████| 1/1 [00:00<00:00,  2.60it/s]\n",
            "Evaluate Train: 100%|██████████| 3/3 [00:01<00:00,  1.83it/s]\n",
            "Evaluate Validation: 100%|██████████| 1/1 [00:00<00:00,  2.77it/s]\n"
          ]
        },
        {
          "name": "stdout",
          "output_type": "stream",
          "text": [
            "Epoch 1/50\n",
            "Train - Loss: 4.5963, Accuracy: 0.4163, Precision: 0.4169, Recall: 0.4767, AUC: 0.3799\n",
            "Val - Loss: 4.8957, Accuracy: 0.4394, Precision: 0.4348, Recall: 0.4615, AUC: 0.4147\n"
          ]
        },
        {
          "name": "stderr",
          "output_type": "stream",
          "text": [
            "Epoch 2/50, Train: 100%|██████████| 3/3 [00:02<00:00,  1.32it/s]\n",
            "Epoch 2/50, Validation: 100%|██████████| 1/1 [00:00<00:00,  2.98it/s]\n",
            "Evaluate Train: 100%|██████████| 3/3 [00:01<00:00,  2.42it/s]\n",
            "Evaluate Validation: 100%|██████████| 1/1 [00:01<00:00,  1.08s/it]\n"
          ]
        },
        {
          "name": "stdout",
          "output_type": "stream",
          "text": [
            "Epoch 2/50\n",
            "Train - Loss: 4.5851, Accuracy: 0.4278, Precision: 0.4170, Recall: 0.4186, AUC: 0.3989\n",
            "Val - Loss: 4.8865, Accuracy: 0.4394, Precision: 0.4286, Recall: 0.4154, AUC: 0.4327\n"
          ]
        },
        {
          "name": "stderr",
          "output_type": "stream",
          "text": [
            "Epoch 3/50, Train: 100%|██████████| 3/3 [00:02<00:00,  1.41it/s]\n",
            "Epoch 3/50, Validation: 100%|██████████| 1/1 [00:00<00:00,  2.02it/s]\n",
            "Evaluate Train: 100%|██████████| 3/3 [00:02<00:00,  1.18it/s]\n",
            "Evaluate Validation: 100%|██████████| 1/1 [00:00<00:00,  3.02it/s]\n"
          ]
        },
        {
          "name": "stdout",
          "output_type": "stream",
          "text": [
            "Epoch 3/50\n",
            "Train - Loss: 4.5789, Accuracy: 0.4487, Precision: 0.4231, Recall: 0.3411, AUC: 0.4231\n",
            "Val - Loss: 4.8816, Accuracy: 0.4773, Precision: 0.4615, Recall: 0.3692, AUC: 0.4750\n"
          ]
        },
        {
          "name": "stderr",
          "output_type": "stream",
          "text": [
            "Epoch 4/50, Train: 100%|██████████| 3/3 [00:02<00:00,  1.02it/s]\n",
            "Epoch 4/50, Validation: 100%|██████████| 1/1 [00:00<00:00,  2.60it/s]\n",
            "Evaluate Train: 100%|██████████| 3/3 [00:01<00:00,  1.76it/s]\n",
            "Evaluate Validation: 100%|██████████| 1/1 [00:00<00:00,  1.95it/s]\n"
          ]
        },
        {
          "name": "stdout",
          "output_type": "stream",
          "text": [
            "Epoch 4/50\n",
            "Train - Loss: 4.5736, Accuracy: 0.4772, Precision: 0.4472, Recall: 0.2791, AUC: 0.4780\n",
            "Val - Loss: 4.8788, Accuracy: 0.5227, Precision: 0.5263, Recall: 0.3077, AUC: 0.5366\n"
          ]
        },
        {
          "name": "stderr",
          "output_type": "stream",
          "text": [
            "Epoch 5/50, Train: 100%|██████████| 3/3 [00:02<00:00,  1.36it/s]\n",
            "Epoch 5/50, Validation: 100%|██████████| 1/1 [00:00<00:00,  2.25it/s]\n",
            "Evaluate Train: 100%|██████████| 3/3 [00:02<00:00,  1.45it/s]\n",
            "Evaluate Validation: 100%|██████████| 1/1 [00:00<00:00,  2.65it/s]\n"
          ]
        },
        {
          "name": "stdout",
          "output_type": "stream",
          "text": [
            "Epoch 5/50\n",
            "Train - Loss: 4.5709, Accuracy: 0.5304, Precision: 0.5390, Recall: 0.2946, AUC: 0.5455\n",
            "Val - Loss: 4.8762, Accuracy: 0.5606, Precision: 0.5854, Recall: 0.3692, AUC: 0.5916\n"
          ]
        },
        {
          "name": "stderr",
          "output_type": "stream",
          "text": [
            "Epoch 6/50, Train: 100%|██████████| 3/3 [00:01<00:00,  1.57it/s]\n",
            "Epoch 6/50, Validation: 100%|██████████| 1/1 [00:00<00:00,  1.02it/s]\n",
            "Evaluate Train: 100%|██████████| 3/3 [00:01<00:00,  1.87it/s]\n",
            "Evaluate Validation: 100%|██████████| 1/1 [00:00<00:00,  3.20it/s]\n"
          ]
        },
        {
          "name": "stdout",
          "output_type": "stream",
          "text": [
            "Epoch 6/50\n",
            "Train - Loss: 4.5712, Accuracy: 0.6008, Precision: 0.6558, Recall: 0.3915, AUC: 0.6129\n",
            "Val - Loss: 4.8725, Accuracy: 0.6061, Precision: 0.6667, Recall: 0.4000, AUC: 0.6420\n"
          ]
        },
        {
          "name": "stderr",
          "output_type": "stream",
          "text": [
            "Epoch 7/50, Train: 100%|██████████| 3/3 [00:01<00:00,  1.66it/s]\n",
            "Epoch 7/50, Validation: 100%|██████████| 1/1 [00:00<00:00,  2.38it/s]\n",
            "Evaluate Train: 100%|██████████| 3/3 [00:01<00:00,  1.73it/s]\n",
            "Evaluate Validation: 100%|██████████| 1/1 [00:00<00:00,  1.12it/s]\n"
          ]
        },
        {
          "name": "stdout",
          "output_type": "stream",
          "text": [
            "Epoch 7/50\n",
            "Train - Loss: 4.5665, Accuracy: 0.6616, Precision: 0.7222, Recall: 0.5039, AUC: 0.6936\n",
            "Val - Loss: 4.8605, Accuracy: 0.6667, Precision: 0.7143, Recall: 0.5385, AUC: 0.7132\n"
          ]
        },
        {
          "name": "stderr",
          "output_type": "stream",
          "text": [
            "Epoch 8/50, Train: 100%|██████████| 3/3 [00:01<00:00,  1.57it/s]\n",
            "Epoch 8/50, Validation: 100%|██████████| 1/1 [00:00<00:00,  1.08it/s]\n",
            "Evaluate Train: 100%|██████████| 3/3 [00:01<00:00,  1.77it/s]\n",
            "Evaluate Validation: 100%|██████████| 1/1 [00:00<00:00,  3.14it/s]\n"
          ]
        },
        {
          "name": "stdout",
          "output_type": "stream",
          "text": [
            "Epoch 8/50\n",
            "Train - Loss: 4.5646, Accuracy: 0.6673, Precision: 0.6640, Recall: 0.6512, AUC: 0.7242\n",
            "Val - Loss: 4.8381, Accuracy: 0.7045, Precision: 0.7097, Recall: 0.6769, AUC: 0.7427\n"
          ]
        },
        {
          "name": "stderr",
          "output_type": "stream",
          "text": [
            "Epoch 9/50, Train: 100%|██████████| 3/3 [00:02<00:00,  1.39it/s]\n",
            "Epoch 9/50, Validation: 100%|██████████| 1/1 [00:00<00:00,  2.04it/s]\n",
            "Evaluate Train: 100%|██████████| 3/3 [00:01<00:00,  2.67it/s]\n",
            "Evaluate Validation: 100%|██████████| 1/1 [00:00<00:00,  2.96it/s]\n"
          ]
        },
        {
          "name": "stdout",
          "output_type": "stream",
          "text": [
            "Epoch 9/50\n",
            "Train - Loss: 4.5449, Accuracy: 0.6768, Precision: 0.6594, Recall: 0.7054, AUC: 0.7409\n",
            "Val - Loss: 4.8200, Accuracy: 0.6894, Precision: 0.6765, Recall: 0.7077, AUC: 0.7552\n"
          ]
        },
        {
          "name": "stderr",
          "output_type": "stream",
          "text": [
            "Epoch 10/50, Train: 100%|██████████| 3/3 [00:02<00:00,  1.30it/s]\n",
            "Epoch 10/50, Validation: 100%|██████████| 1/1 [00:00<00:00,  1.08it/s]\n",
            "Evaluate Train: 100%|██████████| 3/3 [00:01<00:00,  2.32it/s]\n",
            "Evaluate Validation: 100%|██████████| 1/1 [00:00<00:00,  1.60it/s]\n"
          ]
        },
        {
          "name": "stdout",
          "output_type": "stream",
          "text": [
            "Epoch 10/50\n",
            "Train - Loss: 4.5230, Accuracy: 0.7167, Precision: 0.7401, Recall: 0.6512, AUC: 0.7751\n",
            "Val - Loss: 4.8008, Accuracy: 0.7121, Precision: 0.7368, Recall: 0.6462, AUC: 0.7767\n"
          ]
        },
        {
          "name": "stderr",
          "output_type": "stream",
          "text": [
            "Epoch 11/50, Train: 100%|██████████| 3/3 [00:02<00:00,  1.22it/s]\n",
            "Epoch 11/50, Validation: 100%|██████████| 1/1 [00:00<00:00,  2.77it/s]\n",
            "Evaluate Train: 100%|██████████| 3/3 [00:02<00:00,  1.33it/s]\n",
            "Evaluate Validation: 100%|██████████| 1/1 [00:00<00:00,  1.09it/s]\n"
          ]
        },
        {
          "name": "stdout",
          "output_type": "stream",
          "text": [
            "Epoch 11/50\n",
            "Train - Loss: 4.4744, Accuracy: 0.7395, Precision: 0.7923, Recall: 0.6357, AUC: 0.8104\n",
            "Val - Loss: 4.7767, Accuracy: 0.7348, Precision: 0.7679, Recall: 0.6615, AUC: 0.8030\n"
          ]
        },
        {
          "name": "stderr",
          "output_type": "stream",
          "text": [
            "Epoch 12/50, Train: 100%|██████████| 3/3 [00:02<00:00,  1.37it/s]\n",
            "Epoch 12/50, Validation: 100%|██████████| 1/1 [00:00<00:00,  2.66it/s]\n",
            "Evaluate Train: 100%|██████████| 3/3 [00:02<00:00,  1.34it/s]\n",
            "Evaluate Validation: 100%|██████████| 1/1 [00:00<00:00,  2.68it/s]\n"
          ]
        },
        {
          "name": "stdout",
          "output_type": "stream",
          "text": [
            "Epoch 12/50\n",
            "Train - Loss: 4.4462, Accuracy: 0.7605, Precision: 0.8474, Recall: 0.6240, AUC: 0.8359\n",
            "Val - Loss: 4.7527, Accuracy: 0.7576, Precision: 0.8367, Recall: 0.6308, AUC: 0.8266\n"
          ]
        },
        {
          "name": "stderr",
          "output_type": "stream",
          "text": [
            "Epoch 13/50, Train: 100%|██████████| 3/3 [00:02<00:00,  1.17it/s]\n",
            "Epoch 13/50, Validation: 100%|██████████| 1/1 [00:00<00:00,  2.63it/s]\n",
            "Evaluate Train: 100%|██████████| 3/3 [00:01<00:00,  2.29it/s]\n",
            "Evaluate Validation: 100%|██████████| 1/1 [00:00<00:00,  3.12it/s]\n"
          ]
        },
        {
          "name": "stdout",
          "output_type": "stream",
          "text": [
            "Epoch 13/50\n",
            "Train - Loss: 4.4427, Accuracy: 0.7795, Precision: 0.8737, Recall: 0.6434, AUC: 0.8545\n",
            "Val - Loss: 4.7319, Accuracy: 0.7727, Precision: 0.8723, Recall: 0.6308, AUC: 0.8342\n"
          ]
        },
        {
          "name": "stderr",
          "output_type": "stream",
          "text": [
            "Epoch 14/50, Train: 100%|██████████| 3/3 [00:02<00:00,  1.30it/s]\n",
            "Epoch 14/50, Validation: 100%|██████████| 1/1 [00:00<00:00,  2.82it/s]\n",
            "Evaluate Train: 100%|██████████| 3/3 [00:01<00:00,  2.16it/s]\n",
            "Evaluate Validation: 100%|██████████| 1/1 [00:00<00:00,  1.26it/s]\n"
          ]
        },
        {
          "name": "stdout",
          "output_type": "stream",
          "text": [
            "Epoch 14/50\n",
            "Train - Loss: 4.3952, Accuracy: 0.8080, Precision: 0.8720, Recall: 0.7132, AUC: 0.8692\n",
            "Val - Loss: 4.7127, Accuracy: 0.7879, Precision: 0.8246, Recall: 0.7231, AUC: 0.8409\n"
          ]
        },
        {
          "name": "stderr",
          "output_type": "stream",
          "text": [
            "Epoch 15/50, Train: 100%|██████████| 3/3 [00:02<00:00,  1.40it/s]\n",
            "Epoch 15/50, Validation: 100%|██████████| 1/1 [00:00<00:00,  2.64it/s]\n",
            "Evaluate Train: 100%|██████████| 3/3 [00:01<00:00,  1.84it/s]\n",
            "Evaluate Validation: 100%|██████████| 1/1 [00:00<00:00,  3.06it/s]\n"
          ]
        },
        {
          "name": "stdout",
          "output_type": "stream",
          "text": [
            "Epoch 15/50\n",
            "Train - Loss: 4.3866, Accuracy: 0.8270, Precision: 0.8615, Recall: 0.7713, AUC: 0.8838\n",
            "Val - Loss: 4.6952, Accuracy: 0.7879, Precision: 0.8033, Recall: 0.7538, AUC: 0.8466\n"
          ]
        },
        {
          "name": "stderr",
          "output_type": "stream",
          "text": [
            "Epoch 16/50, Train: 100%|██████████| 3/3 [00:02<00:00,  1.13it/s]\n",
            "Epoch 16/50, Validation: 100%|██████████| 1/1 [00:00<00:00,  2.63it/s]\n",
            "Evaluate Train: 100%|██████████| 3/3 [00:01<00:00,  1.90it/s]\n",
            "Evaluate Validation: 100%|██████████| 1/1 [00:00<00:00,  3.10it/s]\n"
          ]
        },
        {
          "name": "stdout",
          "output_type": "stream",
          "text": [
            "Epoch 16/50\n",
            "Train - Loss: 4.3458, Accuracy: 0.8346, Precision: 0.8462, Recall: 0.8101, AUC: 0.8973\n",
            "Val - Loss: 4.6760, Accuracy: 0.7955, Precision: 0.7879, Recall: 0.8000, AUC: 0.8536\n"
          ]
        },
        {
          "name": "stderr",
          "output_type": "stream",
          "text": [
            "Epoch 17/50, Train: 100%|██████████| 3/3 [00:02<00:00,  1.38it/s]\n",
            "Epoch 17/50, Validation: 100%|██████████| 1/1 [00:00<00:00,  2.83it/s]\n",
            "Evaluate Train: 100%|██████████| 3/3 [00:02<00:00,  1.13it/s]\n",
            "Evaluate Validation: 100%|██████████| 1/1 [00:00<00:00,  2.98it/s]\n"
          ]
        },
        {
          "name": "stdout",
          "output_type": "stream",
          "text": [
            "Epoch 17/50\n",
            "Train - Loss: 4.3730, Accuracy: 0.8441, Precision: 0.8492, Recall: 0.8295, AUC: 0.9113\n",
            "Val - Loss: 4.6541, Accuracy: 0.7955, Precision: 0.7879, Recall: 0.8000, AUC: 0.8634\n"
          ]
        },
        {
          "name": "stderr",
          "output_type": "stream",
          "text": [
            "Epoch 18/50, Train: 100%|██████████| 3/3 [00:02<00:00,  1.25it/s]\n",
            "Epoch 18/50, Validation: 100%|██████████| 1/1 [00:00<00:00,  2.57it/s]\n",
            "Evaluate Train: 100%|██████████| 3/3 [00:01<00:00,  1.85it/s]\n",
            "Evaluate Validation: 100%|██████████| 1/1 [00:00<00:00,  3.05it/s]\n"
          ]
        },
        {
          "name": "stdout",
          "output_type": "stream",
          "text": [
            "Epoch 18/50\n",
            "Train - Loss: 4.3200, Accuracy: 0.8669, Precision: 0.8821, Recall: 0.8411, AUC: 0.9239\n",
            "Val - Loss: 4.6331, Accuracy: 0.7955, Precision: 0.7879, Recall: 0.8000, AUC: 0.8704\n"
          ]
        },
        {
          "name": "stderr",
          "output_type": "stream",
          "text": [
            "Epoch 19/50, Train: 100%|██████████| 3/3 [00:01<00:00,  1.63it/s]\n",
            "Epoch 19/50, Validation: 100%|██████████| 1/1 [00:00<00:00,  2.89it/s]\n",
            "Evaluate Train: 100%|██████████| 3/3 [00:01<00:00,  2.32it/s]\n",
            "Evaluate Validation: 100%|██████████| 1/1 [00:01<00:00,  1.01s/it]\n"
          ]
        },
        {
          "name": "stdout",
          "output_type": "stream",
          "text": [
            "Epoch 19/50\n",
            "Train - Loss: 4.2082, Accuracy: 0.8745, Precision: 0.8902, Recall: 0.8488, AUC: 0.9348\n",
            "Val - Loss: 4.6191, Accuracy: 0.8106, Precision: 0.8030, Recall: 0.8154, AUC: 0.8765\n"
          ]
        },
        {
          "name": "stderr",
          "output_type": "stream",
          "text": [
            "Epoch 20/50, Train: 100%|██████████| 3/3 [00:02<00:00,  1.08it/s]\n",
            "Epoch 20/50, Validation: 100%|██████████| 1/1 [00:00<00:00,  2.65it/s]\n",
            "Evaluate Train: 100%|██████████| 3/3 [00:01<00:00,  1.55it/s]\n",
            "Evaluate Validation: 100%|██████████| 1/1 [00:00<00:00,  2.99it/s]\n"
          ]
        },
        {
          "name": "stdout",
          "output_type": "stream",
          "text": [
            "Epoch 20/50\n",
            "Train - Loss: 4.2254, Accuracy: 0.8821, Precision: 0.9016, Recall: 0.8527, AUC: 0.9441\n",
            "Val - Loss: 4.6112, Accuracy: 0.8258, Precision: 0.8281, Recall: 0.8154, AUC: 0.8831\n"
          ]
        },
        {
          "name": "stderr",
          "output_type": "stream",
          "text": [
            "Epoch 21/50, Train: 100%|██████████| 3/3 [00:03<00:00,  1.00s/it]\n",
            "Epoch 21/50, Validation: 100%|██████████| 1/1 [00:00<00:00,  2.97it/s]\n",
            "Evaluate Train: 100%|██████████| 3/3 [00:01<00:00,  2.79it/s]\n",
            "Evaluate Validation: 100%|██████████| 1/1 [00:00<00:00,  3.12it/s]\n"
          ]
        },
        {
          "name": "stdout",
          "output_type": "stream",
          "text": [
            "Epoch 21/50\n",
            "Train - Loss: 4.2225, Accuracy: 0.8916, Precision: 0.9136, Recall: 0.8605, AUC: 0.9532\n",
            "Val - Loss: 4.6057, Accuracy: 0.8106, Precision: 0.8030, Recall: 0.8154, AUC: 0.8884\n"
          ]
        },
        {
          "name": "stderr",
          "output_type": "stream",
          "text": [
            "Epoch 22/50, Train: 100%|██████████| 3/3 [00:02<00:00,  1.30it/s]\n",
            "Epoch 22/50, Validation: 100%|██████████| 1/1 [00:00<00:00,  2.80it/s]\n",
            "Evaluate Train: 100%|██████████| 3/3 [00:01<00:00,  2.13it/s]\n",
            "Evaluate Validation: 100%|██████████| 1/1 [00:00<00:00,  2.99it/s]\n"
          ]
        },
        {
          "name": "stdout",
          "output_type": "stream",
          "text": [
            "Epoch 22/50\n",
            "Train - Loss: 4.2048, Accuracy: 0.8935, Precision: 0.8945, Recall: 0.8876, AUC: 0.9612\n",
            "Val - Loss: 4.6011, Accuracy: 0.8030, Precision: 0.7910, Recall: 0.8154, AUC: 0.8918\n"
          ]
        },
        {
          "name": "stderr",
          "output_type": "stream",
          "text": [
            "Epoch 23/50, Train: 100%|██████████| 3/3 [00:02<00:00,  1.49it/s]\n",
            "Epoch 23/50, Validation: 100%|██████████| 1/1 [00:00<00:00,  2.93it/s]\n",
            "Evaluate Train: 100%|██████████| 3/3 [00:01<00:00,  2.51it/s]\n",
            "Evaluate Validation: 100%|██████████| 1/1 [00:00<00:00,  1.04it/s]\n"
          ]
        },
        {
          "name": "stdout",
          "output_type": "stream",
          "text": [
            "Epoch 23/50\n",
            "Train - Loss: 4.1554, Accuracy: 0.8840, Precision: 0.8582, Recall: 0.9147, AUC: 0.9682\n",
            "Val - Loss: 4.6020, Accuracy: 0.7652, Precision: 0.7297, Recall: 0.8308, AUC: 0.8951\n"
          ]
        },
        {
          "name": "stderr",
          "output_type": "stream",
          "text": [
            "Epoch 24/50, Train: 100%|██████████| 3/3 [00:02<00:00,  1.46it/s]\n",
            "Epoch 24/50, Validation: 100%|██████████| 1/1 [00:00<00:00,  1.06it/s]\n",
            "Evaluate Train: 100%|██████████| 3/3 [00:01<00:00,  2.57it/s]\n",
            "Evaluate Validation: 100%|██████████| 1/1 [00:00<00:00,  1.26it/s]\n"
          ]
        },
        {
          "name": "stdout",
          "output_type": "stream",
          "text": [
            "Epoch 24/50\n",
            "Train - Loss: 4.1684, Accuracy: 0.9087, Precision: 0.8947, Recall: 0.9225, AUC: 0.9757\n",
            "Val - Loss: 4.6000, Accuracy: 0.7727, Precision: 0.7465, Recall: 0.8154, AUC: 0.8970\n"
          ]
        },
        {
          "name": "stderr",
          "output_type": "stream",
          "text": [
            "Epoch 25/50, Train: 100%|██████████| 3/3 [00:01<00:00,  1.63it/s]\n",
            "Epoch 25/50, Validation: 100%|██████████| 1/1 [00:01<00:00,  1.08s/it]\n",
            "Evaluate Train: 100%|██████████| 3/3 [00:01<00:00,  1.74it/s]\n",
            "Evaluate Validation: 100%|██████████| 1/1 [00:00<00:00,  1.70it/s]\n"
          ]
        },
        {
          "name": "stdout",
          "output_type": "stream",
          "text": [
            "Epoch 25/50\n",
            "Train - Loss: 4.1163, Accuracy: 0.9316, Precision: 0.9205, Recall: 0.9419, AUC: 0.9818\n",
            "Val - Loss: 4.5990, Accuracy: 0.7803, Precision: 0.7571, Recall: 0.8154, AUC: 0.9000\n"
          ]
        },
        {
          "name": "stderr",
          "output_type": "stream",
          "text": [
            "Epoch 26/50, Train: 100%|██████████| 3/3 [00:02<00:00,  1.17it/s]\n",
            "Epoch 26/50, Validation: 100%|██████████| 1/1 [00:00<00:00,  2.59it/s]\n",
            "Evaluate Train: 100%|██████████| 3/3 [00:01<00:00,  2.30it/s]\n",
            "Evaluate Validation: 100%|██████████| 1/1 [00:00<00:00,  1.87it/s]\n"
          ]
        },
        {
          "name": "stdout",
          "output_type": "stream",
          "text": [
            "Epoch 26/50\n",
            "Train - Loss: 4.1585, Accuracy: 0.9506, Precision: 0.9496, Recall: 0.9496, AUC: 0.9866\n",
            "Val - Loss: 4.6035, Accuracy: 0.7803, Precision: 0.7571, Recall: 0.8154, AUC: 0.9016\n"
          ]
        },
        {
          "name": "stderr",
          "output_type": "stream",
          "text": [
            "Epoch 27/50, Train: 100%|██████████| 3/3 [00:02<00:00,  1.49it/s]\n",
            "Epoch 27/50, Validation: 100%|██████████| 1/1 [00:00<00:00,  1.09it/s]\n",
            "Evaluate Train: 100%|██████████| 3/3 [00:03<00:00,  1.00s/it]\n",
            "Evaluate Validation: 100%|██████████| 1/1 [00:00<00:00,  1.07it/s]\n"
          ]
        },
        {
          "name": "stdout",
          "output_type": "stream",
          "text": [
            "Epoch 27/50\n",
            "Train - Loss: 4.0792, Accuracy: 0.9582, Precision: 0.9574, Recall: 0.9574, AUC: 0.9903\n",
            "Val - Loss: 4.6167, Accuracy: 0.7879, Precision: 0.7534, Recall: 0.8462, AUC: 0.9003\n"
          ]
        },
        {
          "name": "stderr",
          "output_type": "stream",
          "text": [
            "Epoch 28/50, Train: 100%|██████████| 3/3 [00:02<00:00,  1.25it/s]\n",
            "Epoch 28/50, Validation: 100%|██████████| 1/1 [00:00<00:00,  2.82it/s]\n",
            "Evaluate Train: 100%|██████████| 3/3 [00:01<00:00,  2.07it/s]\n",
            "Evaluate Validation: 100%|██████████| 1/1 [00:00<00:00,  1.07it/s]\n"
          ]
        },
        {
          "name": "stdout",
          "output_type": "stream",
          "text": [
            "Epoch 28/50\n",
            "Train - Loss: 4.0696, Accuracy: 0.9620, Precision: 0.9542, Recall: 0.9690, AUC: 0.9927\n",
            "Val - Loss: 4.6402, Accuracy: 0.7727, Precision: 0.7333, Recall: 0.8462, AUC: 0.9001\n"
          ]
        },
        {
          "name": "stderr",
          "output_type": "stream",
          "text": [
            "Epoch 29/50, Train: 100%|██████████| 3/3 [00:02<00:00,  1.38it/s]\n",
            "Epoch 29/50, Validation: 100%|██████████| 1/1 [00:00<00:00,  2.85it/s]\n",
            "Evaluate Train: 100%|██████████| 3/3 [00:03<00:00,  1.18s/it]\n",
            "Evaluate Validation: 100%|██████████| 1/1 [00:00<00:00,  2.94it/s]\n"
          ]
        },
        {
          "name": "stdout",
          "output_type": "stream",
          "text": [
            "Epoch 29/50\n",
            "Train - Loss: 4.0825, Accuracy: 0.9658, Precision: 0.9615, Recall: 0.9690, AUC: 0.9944\n",
            "Val - Loss: 4.6639, Accuracy: 0.7879, Precision: 0.7403, Recall: 0.8769, AUC: 0.8994\n"
          ]
        },
        {
          "name": "stderr",
          "output_type": "stream",
          "text": [
            "Epoch 30/50, Train: 100%|██████████| 3/3 [00:01<00:00,  1.73it/s]\n",
            "Epoch 30/50, Validation: 100%|██████████| 1/1 [00:00<00:00,  2.92it/s]\n",
            "Evaluate Train: 100%|██████████| 3/3 [00:01<00:00,  2.38it/s]\n",
            "Evaluate Validation: 100%|██████████| 1/1 [00:00<00:00,  2.06it/s]\n"
          ]
        },
        {
          "name": "stdout",
          "output_type": "stream",
          "text": [
            "Epoch 30/50\n",
            "Train - Loss: 4.0682, Accuracy: 0.9753, Precision: 0.9767, Recall: 0.9729, AUC: 0.9963\n",
            "Val - Loss: 4.6761, Accuracy: 0.7879, Precision: 0.7534, Recall: 0.8462, AUC: 0.9006\n",
            "Early stopping triggered.\n"
          ]
        },
        {
          "name": "stderr",
          "output_type": "stream",
          "text": [
            "Evaluate Test: 100%|██████████| 1/1 [00:00<00:00,  2.68it/s]"
          ]
        },
        {
          "name": "stdout",
          "output_type": "stream",
          "text": [
            "\n",
            "Accuracy: 0.7273, Precision: 0.7000, Recall: 0.7778, AUC: 0.8369\n",
            "Results saved to results/finetune/ori/medclip/classification_results.txt\n"
          ]
        },
        {
          "name": "stderr",
          "output_type": "stream",
          "text": [
            "\n"
          ]
        },
        {
          "data": {
            "text/plain": [
              "<Figure size 640x480 with 0 Axes>"
            ]
          },
          "metadata": {},
          "output_type": "display_data"
        }
      ],
      "source": [
        "%run MedCLIP-pediatric/t_medclip.py"
      ]
    },
    {
      "cell_type": "code",
      "execution_count": null,
      "metadata": {
        "id": "CT4w7dG9gmCY"
      },
      "outputs": [],
      "source": [
        "import torch\n",
        "torch.cuda.empty_cache()\n",
        "!nvidia-smi"
      ]
    },
    {
      "cell_type": "code",
      "execution_count": null,
      "metadata": {},
      "outputs": [],
      "source": [
        "%run MedCLIP-pediatric/zs_clip_finetune.py"
      ]
    },
    {
      "cell_type": "code",
      "execution_count": null,
      "metadata": {},
      "outputs": [],
      "source": [
        "%run MedCLIP-pediatric/zs_medclip_finetune.py"
      ]
    }
  ],
  "metadata": {
    "accelerator": "GPU",
    "colab": {
      "gpuType": "A100",
      "machine_shape": "hm",
      "provenance": []
    },
    "kernelspec": {
      "display_name": "Python 3",
      "name": "python3"
    },
    "language_info": {
      "name": "python"
    },
    "widgets": {
      "application/vnd.jupyter.widget-state+json": {
        "122459795afa4a579e86164b2e93a4c7": {
          "model_module": "@jupyter-widgets/controls",
          "model_module_version": "1.5.0",
          "model_name": "FloatProgressModel",
          "state": {
            "_dom_classes": [],
            "_model_module": "@jupyter-widgets/controls",
            "_model_module_version": "1.5.0",
            "_model_name": "FloatProgressModel",
            "_view_count": null,
            "_view_module": "@jupyter-widgets/controls",
            "_view_module_version": "1.5.0",
            "_view_name": "ProgressView",
            "bar_style": "success",
            "description": "",
            "description_tooltip": null,
            "layout": "IPY_MODEL_9233be22c5b9498f93bc4385196381cd",
            "max": 435778770,
            "min": 0,
            "orientation": "horizontal",
            "style": "IPY_MODEL_d3e43dcbad9b4304917ebc8857f2e3a8",
            "value": 435778770
          }
        },
        "12499662fcdc43da914aecba3caeaab7": {
          "model_module": "@jupyter-widgets/controls",
          "model_module_version": "1.5.0",
          "model_name": "DescriptionStyleModel",
          "state": {
            "_model_module": "@jupyter-widgets/controls",
            "_model_module_version": "1.5.0",
            "_model_name": "DescriptionStyleModel",
            "_view_count": null,
            "_view_module": "@jupyter-widgets/base",
            "_view_module_version": "1.2.0",
            "_view_name": "StyleView",
            "description_width": ""
          }
        },
        "13456fd82a614fe5a021f3bb06acfac6": {
          "model_module": "@jupyter-widgets/base",
          "model_module_version": "1.2.0",
          "model_name": "LayoutModel",
          "state": {
            "_model_module": "@jupyter-widgets/base",
            "_model_module_version": "1.2.0",
            "_model_name": "LayoutModel",
            "_view_count": null,
            "_view_module": "@jupyter-widgets/base",
            "_view_module_version": "1.2.0",
            "_view_name": "LayoutView",
            "align_content": null,
            "align_items": null,
            "align_self": null,
            "border": null,
            "bottom": null,
            "display": null,
            "flex": null,
            "flex_flow": null,
            "grid_area": null,
            "grid_auto_columns": null,
            "grid_auto_flow": null,
            "grid_auto_rows": null,
            "grid_column": null,
            "grid_gap": null,
            "grid_row": null,
            "grid_template_areas": null,
            "grid_template_columns": null,
            "grid_template_rows": null,
            "height": null,
            "justify_content": null,
            "justify_items": null,
            "left": null,
            "margin": null,
            "max_height": null,
            "max_width": null,
            "min_height": null,
            "min_width": null,
            "object_fit": null,
            "object_position": null,
            "order": null,
            "overflow": null,
            "overflow_x": null,
            "overflow_y": null,
            "padding": null,
            "right": null,
            "top": null,
            "visibility": null,
            "width": null
          }
        },
        "14ce94ae708b40bab00dbe0308eb77a3": {
          "model_module": "@jupyter-widgets/controls",
          "model_module_version": "1.5.0",
          "model_name": "HTMLModel",
          "state": {
            "_dom_classes": [],
            "_model_module": "@jupyter-widgets/controls",
            "_model_module_version": "1.5.0",
            "_model_name": "HTMLModel",
            "_view_count": null,
            "_view_module": "@jupyter-widgets/controls",
            "_view_module_version": "1.5.0",
            "_view_name": "HTMLView",
            "description": "",
            "description_tooltip": null,
            "layout": "IPY_MODEL_d4fbeff048104329a575905c4a73628e",
            "placeholder": "​",
            "style": "IPY_MODEL_ca9a8d267d9c41f29abc59406f1681f5",
            "value": "pytorch_model.bin: 100%"
          }
        },
        "16f8a99d20574fa08305c58fd9fe45ac": {
          "model_module": "@jupyter-widgets/base",
          "model_module_version": "1.2.0",
          "model_name": "LayoutModel",
          "state": {
            "_model_module": "@jupyter-widgets/base",
            "_model_module_version": "1.2.0",
            "_model_name": "LayoutModel",
            "_view_count": null,
            "_view_module": "@jupyter-widgets/base",
            "_view_module_version": "1.2.0",
            "_view_name": "LayoutView",
            "align_content": null,
            "align_items": null,
            "align_self": null,
            "border": null,
            "bottom": null,
            "display": null,
            "flex": null,
            "flex_flow": null,
            "grid_area": null,
            "grid_auto_columns": null,
            "grid_auto_flow": null,
            "grid_auto_rows": null,
            "grid_column": null,
            "grid_gap": null,
            "grid_row": null,
            "grid_template_areas": null,
            "grid_template_columns": null,
            "grid_template_rows": null,
            "height": null,
            "justify_content": null,
            "justify_items": null,
            "left": null,
            "margin": null,
            "max_height": null,
            "max_width": null,
            "min_height": null,
            "min_width": null,
            "object_fit": null,
            "object_position": null,
            "order": null,
            "overflow": null,
            "overflow_x": null,
            "overflow_y": null,
            "padding": null,
            "right": null,
            "top": null,
            "visibility": null,
            "width": null
          }
        },
        "1c7beddf2f9d46b48f75dbd886f042f3": {
          "model_module": "@jupyter-widgets/controls",
          "model_module_version": "1.5.0",
          "model_name": "FloatProgressModel",
          "state": {
            "_dom_classes": [],
            "_model_module": "@jupyter-widgets/controls",
            "_model_module_version": "1.5.0",
            "_model_name": "FloatProgressModel",
            "_view_count": null,
            "_view_module": "@jupyter-widgets/controls",
            "_view_module_version": "1.5.0",
            "_view_name": "ProgressView",
            "bar_style": "success",
            "description": "",
            "description_tooltip": null,
            "layout": "IPY_MODEL_67bc887de41440e6830e20a1ad291d84",
            "max": 385,
            "min": 0,
            "orientation": "horizontal",
            "style": "IPY_MODEL_457e150fbe7f4a31ae50a22bb1c1c221",
            "value": 385
          }
        },
        "1e445c167b344080ae63f7f42f662563": {
          "model_module": "@jupyter-widgets/controls",
          "model_module_version": "1.5.0",
          "model_name": "DescriptionStyleModel",
          "state": {
            "_model_module": "@jupyter-widgets/controls",
            "_model_module_version": "1.5.0",
            "_model_name": "DescriptionStyleModel",
            "_view_count": null,
            "_view_module": "@jupyter-widgets/base",
            "_view_module_version": "1.2.0",
            "_view_name": "StyleView",
            "description_width": ""
          }
        },
        "1f47baa926b247008a3a2eb885b08d1c": {
          "model_module": "@jupyter-widgets/controls",
          "model_module_version": "1.5.0",
          "model_name": "HBoxModel",
          "state": {
            "_dom_classes": [],
            "_model_module": "@jupyter-widgets/controls",
            "_model_module_version": "1.5.0",
            "_model_name": "HBoxModel",
            "_view_count": null,
            "_view_module": "@jupyter-widgets/controls",
            "_view_module_version": "1.5.0",
            "_view_name": "HBoxView",
            "box_style": "",
            "children": [
              "IPY_MODEL_bd561ba85f654d1f9cd9b6d5f025c36a",
              "IPY_MODEL_a101ca3a54904130ba670cf2f1c12a27",
              "IPY_MODEL_52aeb33b40774aec93dff3a0cfe88022"
            ],
            "layout": "IPY_MODEL_47f1a7f908da4cd3b48e8fa1139e7735"
          }
        },
        "21cf8a13148141368953eadfda10cd52": {
          "model_module": "@jupyter-widgets/base",
          "model_module_version": "1.2.0",
          "model_name": "LayoutModel",
          "state": {
            "_model_module": "@jupyter-widgets/base",
            "_model_module_version": "1.2.0",
            "_model_name": "LayoutModel",
            "_view_count": null,
            "_view_module": "@jupyter-widgets/base",
            "_view_module_version": "1.2.0",
            "_view_name": "LayoutView",
            "align_content": null,
            "align_items": null,
            "align_self": null,
            "border": null,
            "bottom": null,
            "display": null,
            "flex": null,
            "flex_flow": null,
            "grid_area": null,
            "grid_auto_columns": null,
            "grid_auto_flow": null,
            "grid_auto_rows": null,
            "grid_column": null,
            "grid_gap": null,
            "grid_row": null,
            "grid_template_areas": null,
            "grid_template_columns": null,
            "grid_template_rows": null,
            "height": null,
            "justify_content": null,
            "justify_items": null,
            "left": null,
            "margin": null,
            "max_height": null,
            "max_width": null,
            "min_height": null,
            "min_width": null,
            "object_fit": null,
            "object_position": null,
            "order": null,
            "overflow": null,
            "overflow_x": null,
            "overflow_y": null,
            "padding": null,
            "right": null,
            "top": null,
            "visibility": null,
            "width": null
          }
        },
        "2a6314d870cd4019a84f2536990be4ed": {
          "model_module": "@jupyter-widgets/controls",
          "model_module_version": "1.5.0",
          "model_name": "DescriptionStyleModel",
          "state": {
            "_model_module": "@jupyter-widgets/controls",
            "_model_module_version": "1.5.0",
            "_model_name": "DescriptionStyleModel",
            "_view_count": null,
            "_view_module": "@jupyter-widgets/base",
            "_view_module_version": "1.2.0",
            "_view_name": "StyleView",
            "description_width": ""
          }
        },
        "2b2119168784442dbb11499f21f0c490": {
          "model_module": "@jupyter-widgets/controls",
          "model_module_version": "1.5.0",
          "model_name": "DescriptionStyleModel",
          "state": {
            "_model_module": "@jupyter-widgets/controls",
            "_model_module_version": "1.5.0",
            "_model_name": "DescriptionStyleModel",
            "_view_count": null,
            "_view_module": "@jupyter-widgets/base",
            "_view_module_version": "1.2.0",
            "_view_name": "StyleView",
            "description_width": ""
          }
        },
        "3fce5bb9dc5f4040a6553b5afc573291": {
          "model_module": "@jupyter-widgets/controls",
          "model_module_version": "1.5.0",
          "model_name": "DescriptionStyleModel",
          "state": {
            "_model_module": "@jupyter-widgets/controls",
            "_model_module_version": "1.5.0",
            "_model_name": "DescriptionStyleModel",
            "_view_count": null,
            "_view_module": "@jupyter-widgets/base",
            "_view_module_version": "1.2.0",
            "_view_name": "StyleView",
            "description_width": ""
          }
        },
        "457e150fbe7f4a31ae50a22bb1c1c221": {
          "model_module": "@jupyter-widgets/controls",
          "model_module_version": "1.5.0",
          "model_name": "ProgressStyleModel",
          "state": {
            "_model_module": "@jupyter-widgets/controls",
            "_model_module_version": "1.5.0",
            "_model_name": "ProgressStyleModel",
            "_view_count": null,
            "_view_module": "@jupyter-widgets/base",
            "_view_module_version": "1.2.0",
            "_view_name": "StyleView",
            "bar_color": null,
            "description_width": ""
          }
        },
        "45975b8f9e034c45b286ce68c3a7a71e": {
          "model_module": "@jupyter-widgets/controls",
          "model_module_version": "1.5.0",
          "model_name": "HTMLModel",
          "state": {
            "_dom_classes": [],
            "_model_module": "@jupyter-widgets/controls",
            "_model_module_version": "1.5.0",
            "_model_name": "HTMLModel",
            "_view_count": null,
            "_view_module": "@jupyter-widgets/controls",
            "_view_module_version": "1.5.0",
            "_view_name": "HTMLView",
            "description": "",
            "description_tooltip": null,
            "layout": "IPY_MODEL_8f3e9bcff5784de7872ab6a9d0318444",
            "placeholder": "​",
            "style": "IPY_MODEL_fe0d2725ef52458eab9710db5106290a",
            "value": "model.safetensors: 100%"
          }
        },
        "4747959cfc9a4d5d9f0994229674afff": {
          "model_module": "@jupyter-widgets/controls",
          "model_module_version": "1.5.0",
          "model_name": "DescriptionStyleModel",
          "state": {
            "_model_module": "@jupyter-widgets/controls",
            "_model_module_version": "1.5.0",
            "_model_name": "DescriptionStyleModel",
            "_view_count": null,
            "_view_module": "@jupyter-widgets/base",
            "_view_module_version": "1.2.0",
            "_view_name": "StyleView",
            "description_width": ""
          }
        },
        "47f1a7f908da4cd3b48e8fa1139e7735": {
          "model_module": "@jupyter-widgets/base",
          "model_module_version": "1.2.0",
          "model_name": "LayoutModel",
          "state": {
            "_model_module": "@jupyter-widgets/base",
            "_model_module_version": "1.2.0",
            "_model_name": "LayoutModel",
            "_view_count": null,
            "_view_module": "@jupyter-widgets/base",
            "_view_module_version": "1.2.0",
            "_view_name": "LayoutView",
            "align_content": null,
            "align_items": null,
            "align_self": null,
            "border": null,
            "bottom": null,
            "display": null,
            "flex": null,
            "flex_flow": null,
            "grid_area": null,
            "grid_auto_columns": null,
            "grid_auto_flow": null,
            "grid_auto_rows": null,
            "grid_column": null,
            "grid_gap": null,
            "grid_row": null,
            "grid_template_areas": null,
            "grid_template_columns": null,
            "grid_template_rows": null,
            "height": null,
            "justify_content": null,
            "justify_items": null,
            "left": null,
            "margin": null,
            "max_height": null,
            "max_width": null,
            "min_height": null,
            "min_width": null,
            "object_fit": null,
            "object_position": null,
            "order": null,
            "overflow": null,
            "overflow_x": null,
            "overflow_y": null,
            "padding": null,
            "right": null,
            "top": null,
            "visibility": null,
            "width": null
          }
        },
        "52aeb33b40774aec93dff3a0cfe88022": {
          "model_module": "@jupyter-widgets/controls",
          "model_module_version": "1.5.0",
          "model_name": "HTMLModel",
          "state": {
            "_dom_classes": [],
            "_model_module": "@jupyter-widgets/controls",
            "_model_module_version": "1.5.0",
            "_model_name": "HTMLModel",
            "_view_count": null,
            "_view_module": "@jupyter-widgets/controls",
            "_view_module_version": "1.5.0",
            "_view_name": "HTMLView",
            "description": "",
            "description_tooltip": null,
            "layout": "IPY_MODEL_905fcc6ae4724ff0a794b3c4afdf91a2",
            "placeholder": "​",
            "style": "IPY_MODEL_4747959cfc9a4d5d9f0994229674afff",
            "value": " 213k/213k [00:00&lt;00:00, 260kB/s]"
          }
        },
        "561769caf9d64b669b84e14c1180557e": {
          "model_module": "@jupyter-widgets/controls",
          "model_module_version": "1.5.0",
          "model_name": "HTMLModel",
          "state": {
            "_dom_classes": [],
            "_model_module": "@jupyter-widgets/controls",
            "_model_module_version": "1.5.0",
            "_model_name": "HTMLModel",
            "_view_count": null,
            "_view_module": "@jupyter-widgets/controls",
            "_view_module_version": "1.5.0",
            "_view_name": "HTMLView",
            "description": "",
            "description_tooltip": null,
            "layout": "IPY_MODEL_b39ec70fcb5f46fda4357c8e16414de7",
            "placeholder": "​",
            "style": "IPY_MODEL_3fce5bb9dc5f4040a6553b5afc573291",
            "value": " 71.8k/71.8k [00:00&lt;00:00, 236kB/s]"
          }
        },
        "56343ea9ad8c448f9dc14a04d09a7649": {
          "model_module": "@jupyter-widgets/base",
          "model_module_version": "1.2.0",
          "model_name": "LayoutModel",
          "state": {
            "_model_module": "@jupyter-widgets/base",
            "_model_module_version": "1.2.0",
            "_model_name": "LayoutModel",
            "_view_count": null,
            "_view_module": "@jupyter-widgets/base",
            "_view_module_version": "1.2.0",
            "_view_name": "LayoutView",
            "align_content": null,
            "align_items": null,
            "align_self": null,
            "border": null,
            "bottom": null,
            "display": null,
            "flex": null,
            "flex_flow": null,
            "grid_area": null,
            "grid_auto_columns": null,
            "grid_auto_flow": null,
            "grid_auto_rows": null,
            "grid_column": null,
            "grid_gap": null,
            "grid_row": null,
            "grid_template_areas": null,
            "grid_template_columns": null,
            "grid_template_rows": null,
            "height": null,
            "justify_content": null,
            "justify_items": null,
            "left": null,
            "margin": null,
            "max_height": null,
            "max_width": null,
            "min_height": null,
            "min_width": null,
            "object_fit": null,
            "object_position": null,
            "order": null,
            "overflow": null,
            "overflow_x": null,
            "overflow_y": null,
            "padding": null,
            "right": null,
            "top": null,
            "visibility": null,
            "width": null
          }
        },
        "58ed5bbb8d754a1aa400218b997e2e49": {
          "model_module": "@jupyter-widgets/controls",
          "model_module_version": "1.5.0",
          "model_name": "HTMLModel",
          "state": {
            "_dom_classes": [],
            "_model_module": "@jupyter-widgets/controls",
            "_model_module_version": "1.5.0",
            "_model_name": "HTMLModel",
            "_view_count": null,
            "_view_module": "@jupyter-widgets/controls",
            "_view_module_version": "1.5.0",
            "_view_name": "HTMLView",
            "description": "",
            "description_tooltip": null,
            "layout": "IPY_MODEL_f012fef890bd4b7494e096cad7faff4f",
            "placeholder": "​",
            "style": "IPY_MODEL_12499662fcdc43da914aecba3caeaab7",
            "value": " 385/385 [00:00&lt;00:00, 488B/s]"
          }
        },
        "5a3ce015245846f0a78ab49cdbd3724e": {
          "model_module": "@jupyter-widgets/controls",
          "model_module_version": "1.5.0",
          "model_name": "FloatProgressModel",
          "state": {
            "_dom_classes": [],
            "_model_module": "@jupyter-widgets/controls",
            "_model_module_version": "1.5.0",
            "_model_name": "FloatProgressModel",
            "_view_count": null,
            "_view_module": "@jupyter-widgets/controls",
            "_view_module_version": "1.5.0",
            "_view_name": "ProgressView",
            "bar_style": "success",
            "description": "",
            "description_tooltip": null,
            "layout": "IPY_MODEL_a79cab0f18744824bc4bd8f0f2300d02",
            "max": 113412768,
            "min": 0,
            "orientation": "horizontal",
            "style": "IPY_MODEL_cc9b616026bc4be0af7ddc4a97d6cacf",
            "value": 113412768
          }
        },
        "6213bbc6538a47acb4bc6d668f622642": {
          "model_module": "@jupyter-widgets/controls",
          "model_module_version": "1.5.0",
          "model_name": "HBoxModel",
          "state": {
            "_dom_classes": [],
            "_model_module": "@jupyter-widgets/controls",
            "_model_module_version": "1.5.0",
            "_model_name": "HBoxModel",
            "_view_count": null,
            "_view_module": "@jupyter-widgets/controls",
            "_view_module_version": "1.5.0",
            "_view_name": "HBoxView",
            "box_style": "",
            "children": [
              "IPY_MODEL_14ce94ae708b40bab00dbe0308eb77a3",
              "IPY_MODEL_122459795afa4a579e86164b2e93a4c7",
              "IPY_MODEL_c184769edf1b4e4fbad3bed3226137d4"
            ],
            "layout": "IPY_MODEL_8b9c4a79318b4c24955814d0a10c404d"
          }
        },
        "67bc887de41440e6830e20a1ad291d84": {
          "model_module": "@jupyter-widgets/base",
          "model_module_version": "1.2.0",
          "model_name": "LayoutModel",
          "state": {
            "_model_module": "@jupyter-widgets/base",
            "_model_module_version": "1.2.0",
            "_model_name": "LayoutModel",
            "_view_count": null,
            "_view_module": "@jupyter-widgets/base",
            "_view_module_version": "1.2.0",
            "_view_name": "LayoutView",
            "align_content": null,
            "align_items": null,
            "align_self": null,
            "border": null,
            "bottom": null,
            "display": null,
            "flex": null,
            "flex_flow": null,
            "grid_area": null,
            "grid_auto_columns": null,
            "grid_auto_flow": null,
            "grid_auto_rows": null,
            "grid_column": null,
            "grid_gap": null,
            "grid_row": null,
            "grid_template_areas": null,
            "grid_template_columns": null,
            "grid_template_rows": null,
            "height": null,
            "justify_content": null,
            "justify_items": null,
            "left": null,
            "margin": null,
            "max_height": null,
            "max_width": null,
            "min_height": null,
            "min_width": null,
            "object_fit": null,
            "object_position": null,
            "order": null,
            "overflow": null,
            "overflow_x": null,
            "overflow_y": null,
            "padding": null,
            "right": null,
            "top": null,
            "visibility": null,
            "width": null
          }
        },
        "6824aa684b514b218541ba9925f3dfb7": {
          "model_module": "@jupyter-widgets/controls",
          "model_module_version": "1.5.0",
          "model_name": "HBoxModel",
          "state": {
            "_dom_classes": [],
            "_model_module": "@jupyter-widgets/controls",
            "_model_module_version": "1.5.0",
            "_model_name": "HBoxModel",
            "_view_count": null,
            "_view_module": "@jupyter-widgets/controls",
            "_view_module_version": "1.5.0",
            "_view_name": "HBoxView",
            "box_style": "",
            "children": [
              "IPY_MODEL_eddf6673e3c54fd6991cbae336a6ef2a",
              "IPY_MODEL_d8ddbc8923ad41fdaa332d92c2ad6d86",
              "IPY_MODEL_561769caf9d64b669b84e14c1180557e"
            ],
            "layout": "IPY_MODEL_f47e4db611f643b78a62d1cf30202e54"
          }
        },
        "8b9c4a79318b4c24955814d0a10c404d": {
          "model_module": "@jupyter-widgets/base",
          "model_module_version": "1.2.0",
          "model_name": "LayoutModel",
          "state": {
            "_model_module": "@jupyter-widgets/base",
            "_model_module_version": "1.2.0",
            "_model_name": "LayoutModel",
            "_view_count": null,
            "_view_module": "@jupyter-widgets/base",
            "_view_module_version": "1.2.0",
            "_view_name": "LayoutView",
            "align_content": null,
            "align_items": null,
            "align_self": null,
            "border": null,
            "bottom": null,
            "display": null,
            "flex": null,
            "flex_flow": null,
            "grid_area": null,
            "grid_auto_columns": null,
            "grid_auto_flow": null,
            "grid_auto_rows": null,
            "grid_column": null,
            "grid_gap": null,
            "grid_row": null,
            "grid_template_areas": null,
            "grid_template_columns": null,
            "grid_template_rows": null,
            "height": null,
            "justify_content": null,
            "justify_items": null,
            "left": null,
            "margin": null,
            "max_height": null,
            "max_width": null,
            "min_height": null,
            "min_width": null,
            "object_fit": null,
            "object_position": null,
            "order": null,
            "overflow": null,
            "overflow_x": null,
            "overflow_y": null,
            "padding": null,
            "right": null,
            "top": null,
            "visibility": null,
            "width": null
          }
        },
        "8f3e9bcff5784de7872ab6a9d0318444": {
          "model_module": "@jupyter-widgets/base",
          "model_module_version": "1.2.0",
          "model_name": "LayoutModel",
          "state": {
            "_model_module": "@jupyter-widgets/base",
            "_model_module_version": "1.2.0",
            "_model_name": "LayoutModel",
            "_view_count": null,
            "_view_module": "@jupyter-widgets/base",
            "_view_module_version": "1.2.0",
            "_view_name": "LayoutView",
            "align_content": null,
            "align_items": null,
            "align_self": null,
            "border": null,
            "bottom": null,
            "display": null,
            "flex": null,
            "flex_flow": null,
            "grid_area": null,
            "grid_auto_columns": null,
            "grid_auto_flow": null,
            "grid_auto_rows": null,
            "grid_column": null,
            "grid_gap": null,
            "grid_row": null,
            "grid_template_areas": null,
            "grid_template_columns": null,
            "grid_template_rows": null,
            "height": null,
            "justify_content": null,
            "justify_items": null,
            "left": null,
            "margin": null,
            "max_height": null,
            "max_width": null,
            "min_height": null,
            "min_width": null,
            "object_fit": null,
            "object_position": null,
            "order": null,
            "overflow": null,
            "overflow_x": null,
            "overflow_y": null,
            "padding": null,
            "right": null,
            "top": null,
            "visibility": null,
            "width": null
          }
        },
        "905fcc6ae4724ff0a794b3c4afdf91a2": {
          "model_module": "@jupyter-widgets/base",
          "model_module_version": "1.2.0",
          "model_name": "LayoutModel",
          "state": {
            "_model_module": "@jupyter-widgets/base",
            "_model_module_version": "1.2.0",
            "_model_name": "LayoutModel",
            "_view_count": null,
            "_view_module": "@jupyter-widgets/base",
            "_view_module_version": "1.2.0",
            "_view_name": "LayoutView",
            "align_content": null,
            "align_items": null,
            "align_self": null,
            "border": null,
            "bottom": null,
            "display": null,
            "flex": null,
            "flex_flow": null,
            "grid_area": null,
            "grid_auto_columns": null,
            "grid_auto_flow": null,
            "grid_auto_rows": null,
            "grid_column": null,
            "grid_gap": null,
            "grid_row": null,
            "grid_template_areas": null,
            "grid_template_columns": null,
            "grid_template_rows": null,
            "height": null,
            "justify_content": null,
            "justify_items": null,
            "left": null,
            "margin": null,
            "max_height": null,
            "max_width": null,
            "min_height": null,
            "min_width": null,
            "object_fit": null,
            "object_position": null,
            "order": null,
            "overflow": null,
            "overflow_x": null,
            "overflow_y": null,
            "padding": null,
            "right": null,
            "top": null,
            "visibility": null,
            "width": null
          }
        },
        "9233be22c5b9498f93bc4385196381cd": {
          "model_module": "@jupyter-widgets/base",
          "model_module_version": "1.2.0",
          "model_name": "LayoutModel",
          "state": {
            "_model_module": "@jupyter-widgets/base",
            "_model_module_version": "1.2.0",
            "_model_name": "LayoutModel",
            "_view_count": null,
            "_view_module": "@jupyter-widgets/base",
            "_view_module_version": "1.2.0",
            "_view_name": "LayoutView",
            "align_content": null,
            "align_items": null,
            "align_self": null,
            "border": null,
            "bottom": null,
            "display": null,
            "flex": null,
            "flex_flow": null,
            "grid_area": null,
            "grid_auto_columns": null,
            "grid_auto_flow": null,
            "grid_auto_rows": null,
            "grid_column": null,
            "grid_gap": null,
            "grid_row": null,
            "grid_template_areas": null,
            "grid_template_columns": null,
            "grid_template_rows": null,
            "height": null,
            "justify_content": null,
            "justify_items": null,
            "left": null,
            "margin": null,
            "max_height": null,
            "max_width": null,
            "min_height": null,
            "min_width": null,
            "object_fit": null,
            "object_position": null,
            "order": null,
            "overflow": null,
            "overflow_x": null,
            "overflow_y": null,
            "padding": null,
            "right": null,
            "top": null,
            "visibility": null,
            "width": null
          }
        },
        "955548a77f5c457dba02f7538226f992": {
          "model_module": "@jupyter-widgets/controls",
          "model_module_version": "1.5.0",
          "model_name": "HBoxModel",
          "state": {
            "_dom_classes": [],
            "_model_module": "@jupyter-widgets/controls",
            "_model_module_version": "1.5.0",
            "_model_name": "HBoxModel",
            "_view_count": null,
            "_view_module": "@jupyter-widgets/controls",
            "_view_module_version": "1.5.0",
            "_view_name": "HBoxView",
            "box_style": "",
            "children": [
              "IPY_MODEL_45975b8f9e034c45b286ce68c3a7a71e",
              "IPY_MODEL_5a3ce015245846f0a78ab49cdbd3724e",
              "IPY_MODEL_bd59de3e5d4a42d9b0d72973175caaf6"
            ],
            "layout": "IPY_MODEL_21cf8a13148141368953eadfda10cd52"
          }
        },
        "a101ca3a54904130ba670cf2f1c12a27": {
          "model_module": "@jupyter-widgets/controls",
          "model_module_version": "1.5.0",
          "model_name": "FloatProgressModel",
          "state": {
            "_dom_classes": [],
            "_model_module": "@jupyter-widgets/controls",
            "_model_module_version": "1.5.0",
            "_model_name": "FloatProgressModel",
            "_view_count": null,
            "_view_module": "@jupyter-widgets/controls",
            "_view_module_version": "1.5.0",
            "_view_name": "ProgressView",
            "bar_style": "success",
            "description": "",
            "description_tooltip": null,
            "layout": "IPY_MODEL_56343ea9ad8c448f9dc14a04d09a7649",
            "max": 213450,
            "min": 0,
            "orientation": "horizontal",
            "style": "IPY_MODEL_e97237c057c14d00886b36b3c5fcfd59",
            "value": 213450
          }
        },
        "a3beb6cee8204ca4a603206ce6177346": {
          "model_module": "@jupyter-widgets/controls",
          "model_module_version": "1.5.0",
          "model_name": "DescriptionStyleModel",
          "state": {
            "_model_module": "@jupyter-widgets/controls",
            "_model_module_version": "1.5.0",
            "_model_name": "DescriptionStyleModel",
            "_view_count": null,
            "_view_module": "@jupyter-widgets/base",
            "_view_module_version": "1.2.0",
            "_view_name": "StyleView",
            "description_width": ""
          }
        },
        "a79cab0f18744824bc4bd8f0f2300d02": {
          "model_module": "@jupyter-widgets/base",
          "model_module_version": "1.2.0",
          "model_name": "LayoutModel",
          "state": {
            "_model_module": "@jupyter-widgets/base",
            "_model_module_version": "1.2.0",
            "_model_name": "LayoutModel",
            "_view_count": null,
            "_view_module": "@jupyter-widgets/base",
            "_view_module_version": "1.2.0",
            "_view_name": "LayoutView",
            "align_content": null,
            "align_items": null,
            "align_self": null,
            "border": null,
            "bottom": null,
            "display": null,
            "flex": null,
            "flex_flow": null,
            "grid_area": null,
            "grid_auto_columns": null,
            "grid_auto_flow": null,
            "grid_auto_rows": null,
            "grid_column": null,
            "grid_gap": null,
            "grid_row": null,
            "grid_template_areas": null,
            "grid_template_columns": null,
            "grid_template_rows": null,
            "height": null,
            "justify_content": null,
            "justify_items": null,
            "left": null,
            "margin": null,
            "max_height": null,
            "max_width": null,
            "min_height": null,
            "min_width": null,
            "object_fit": null,
            "object_position": null,
            "order": null,
            "overflow": null,
            "overflow_x": null,
            "overflow_y": null,
            "padding": null,
            "right": null,
            "top": null,
            "visibility": null,
            "width": null
          }
        },
        "ad1213958e274b3c81db97bd69b44617": {
          "model_module": "@jupyter-widgets/base",
          "model_module_version": "1.2.0",
          "model_name": "LayoutModel",
          "state": {
            "_model_module": "@jupyter-widgets/base",
            "_model_module_version": "1.2.0",
            "_model_name": "LayoutModel",
            "_view_count": null,
            "_view_module": "@jupyter-widgets/base",
            "_view_module_version": "1.2.0",
            "_view_name": "LayoutView",
            "align_content": null,
            "align_items": null,
            "align_self": null,
            "border": null,
            "bottom": null,
            "display": null,
            "flex": null,
            "flex_flow": null,
            "grid_area": null,
            "grid_auto_columns": null,
            "grid_auto_flow": null,
            "grid_auto_rows": null,
            "grid_column": null,
            "grid_gap": null,
            "grid_row": null,
            "grid_template_areas": null,
            "grid_template_columns": null,
            "grid_template_rows": null,
            "height": null,
            "justify_content": null,
            "justify_items": null,
            "left": null,
            "margin": null,
            "max_height": null,
            "max_width": null,
            "min_height": null,
            "min_width": null,
            "object_fit": null,
            "object_position": null,
            "order": null,
            "overflow": null,
            "overflow_x": null,
            "overflow_y": null,
            "padding": null,
            "right": null,
            "top": null,
            "visibility": null,
            "width": null
          }
        },
        "afea45b6ede14ff5be800a314624a270": {
          "model_module": "@jupyter-widgets/controls",
          "model_module_version": "1.5.0",
          "model_name": "HTMLModel",
          "state": {
            "_dom_classes": [],
            "_model_module": "@jupyter-widgets/controls",
            "_model_module_version": "1.5.0",
            "_model_name": "HTMLModel",
            "_view_count": null,
            "_view_module": "@jupyter-widgets/controls",
            "_view_module_version": "1.5.0",
            "_view_name": "HTMLView",
            "description": "",
            "description_tooltip": null,
            "layout": "IPY_MODEL_fb8e1a7ba44c4823812b5bd110b72473",
            "placeholder": "​",
            "style": "IPY_MODEL_a3beb6cee8204ca4a603206ce6177346",
            "value": "config.json: 100%"
          }
        },
        "b39ec70fcb5f46fda4357c8e16414de7": {
          "model_module": "@jupyter-widgets/base",
          "model_module_version": "1.2.0",
          "model_name": "LayoutModel",
          "state": {
            "_model_module": "@jupyter-widgets/base",
            "_model_module_version": "1.2.0",
            "_model_name": "LayoutModel",
            "_view_count": null,
            "_view_module": "@jupyter-widgets/base",
            "_view_module_version": "1.2.0",
            "_view_name": "LayoutView",
            "align_content": null,
            "align_items": null,
            "align_self": null,
            "border": null,
            "bottom": null,
            "display": null,
            "flex": null,
            "flex_flow": null,
            "grid_area": null,
            "grid_auto_columns": null,
            "grid_auto_flow": null,
            "grid_auto_rows": null,
            "grid_column": null,
            "grid_gap": null,
            "grid_row": null,
            "grid_template_areas": null,
            "grid_template_columns": null,
            "grid_template_rows": null,
            "height": null,
            "justify_content": null,
            "justify_items": null,
            "left": null,
            "margin": null,
            "max_height": null,
            "max_width": null,
            "min_height": null,
            "min_width": null,
            "object_fit": null,
            "object_position": null,
            "order": null,
            "overflow": null,
            "overflow_x": null,
            "overflow_y": null,
            "padding": null,
            "right": null,
            "top": null,
            "visibility": null,
            "width": null
          }
        },
        "b53d887f2be14ab0b5c4be090ede64da": {
          "model_module": "@jupyter-widgets/controls",
          "model_module_version": "1.5.0",
          "model_name": "DescriptionStyleModel",
          "state": {
            "_model_module": "@jupyter-widgets/controls",
            "_model_module_version": "1.5.0",
            "_model_name": "DescriptionStyleModel",
            "_view_count": null,
            "_view_module": "@jupyter-widgets/base",
            "_view_module_version": "1.2.0",
            "_view_name": "StyleView",
            "description_width": ""
          }
        },
        "bd561ba85f654d1f9cd9b6d5f025c36a": {
          "model_module": "@jupyter-widgets/controls",
          "model_module_version": "1.5.0",
          "model_name": "HTMLModel",
          "state": {
            "_dom_classes": [],
            "_model_module": "@jupyter-widgets/controls",
            "_model_module_version": "1.5.0",
            "_model_name": "HTMLModel",
            "_view_count": null,
            "_view_module": "@jupyter-widgets/controls",
            "_view_module_version": "1.5.0",
            "_view_name": "HTMLView",
            "description": "",
            "description_tooltip": null,
            "layout": "IPY_MODEL_d273d1a108fd48b4a20512ba5caa5694",
            "placeholder": "​",
            "style": "IPY_MODEL_b53d887f2be14ab0b5c4be090ede64da",
            "value": "vocab.txt: 100%"
          }
        },
        "bd59de3e5d4a42d9b0d72973175caaf6": {
          "model_module": "@jupyter-widgets/controls",
          "model_module_version": "1.5.0",
          "model_name": "HTMLModel",
          "state": {
            "_dom_classes": [],
            "_model_module": "@jupyter-widgets/controls",
            "_model_module_version": "1.5.0",
            "_model_name": "HTMLModel",
            "_view_count": null,
            "_view_module": "@jupyter-widgets/controls",
            "_view_module_version": "1.5.0",
            "_view_name": "HTMLView",
            "description": "",
            "description_tooltip": null,
            "layout": "IPY_MODEL_16f8a99d20574fa08305c58fd9fe45ac",
            "placeholder": "​",
            "style": "IPY_MODEL_1e445c167b344080ae63f7f42f662563",
            "value": " 113M/113M [00:00&lt;00:00, 192MB/s]"
          }
        },
        "bea2315a8dd8465988f6cef83355a336": {
          "model_module": "@jupyter-widgets/controls",
          "model_module_version": "1.5.0",
          "model_name": "HBoxModel",
          "state": {
            "_dom_classes": [],
            "_model_module": "@jupyter-widgets/controls",
            "_model_module_version": "1.5.0",
            "_model_name": "HBoxModel",
            "_view_count": null,
            "_view_module": "@jupyter-widgets/controls",
            "_view_module_version": "1.5.0",
            "_view_name": "HBoxView",
            "box_style": "",
            "children": [
              "IPY_MODEL_afea45b6ede14ff5be800a314624a270",
              "IPY_MODEL_1c7beddf2f9d46b48f75dbd886f042f3",
              "IPY_MODEL_58ed5bbb8d754a1aa400218b997e2e49"
            ],
            "layout": "IPY_MODEL_ad1213958e274b3c81db97bd69b44617"
          }
        },
        "c184769edf1b4e4fbad3bed3226137d4": {
          "model_module": "@jupyter-widgets/controls",
          "model_module_version": "1.5.0",
          "model_name": "HTMLModel",
          "state": {
            "_dom_classes": [],
            "_model_module": "@jupyter-widgets/controls",
            "_model_module_version": "1.5.0",
            "_model_name": "HTMLModel",
            "_view_count": null,
            "_view_module": "@jupyter-widgets/controls",
            "_view_module_version": "1.5.0",
            "_view_name": "HTMLView",
            "description": "",
            "description_tooltip": null,
            "layout": "IPY_MODEL_fc744a9883a44f40ac0d78d8b0fd07fa",
            "placeholder": "​",
            "style": "IPY_MODEL_2a6314d870cd4019a84f2536990be4ed",
            "value": " 436M/436M [00:02&lt;00:00, 212MB/s]"
          }
        },
        "ca9a8d267d9c41f29abc59406f1681f5": {
          "model_module": "@jupyter-widgets/controls",
          "model_module_version": "1.5.0",
          "model_name": "DescriptionStyleModel",
          "state": {
            "_model_module": "@jupyter-widgets/controls",
            "_model_module_version": "1.5.0",
            "_model_name": "DescriptionStyleModel",
            "_view_count": null,
            "_view_module": "@jupyter-widgets/base",
            "_view_module_version": "1.2.0",
            "_view_name": "StyleView",
            "description_width": ""
          }
        },
        "cc9b616026bc4be0af7ddc4a97d6cacf": {
          "model_module": "@jupyter-widgets/controls",
          "model_module_version": "1.5.0",
          "model_name": "ProgressStyleModel",
          "state": {
            "_model_module": "@jupyter-widgets/controls",
            "_model_module_version": "1.5.0",
            "_model_name": "ProgressStyleModel",
            "_view_count": null,
            "_view_module": "@jupyter-widgets/base",
            "_view_module_version": "1.2.0",
            "_view_name": "StyleView",
            "bar_color": null,
            "description_width": ""
          }
        },
        "d273d1a108fd48b4a20512ba5caa5694": {
          "model_module": "@jupyter-widgets/base",
          "model_module_version": "1.2.0",
          "model_name": "LayoutModel",
          "state": {
            "_model_module": "@jupyter-widgets/base",
            "_model_module_version": "1.2.0",
            "_model_name": "LayoutModel",
            "_view_count": null,
            "_view_module": "@jupyter-widgets/base",
            "_view_module_version": "1.2.0",
            "_view_name": "LayoutView",
            "align_content": null,
            "align_items": null,
            "align_self": null,
            "border": null,
            "bottom": null,
            "display": null,
            "flex": null,
            "flex_flow": null,
            "grid_area": null,
            "grid_auto_columns": null,
            "grid_auto_flow": null,
            "grid_auto_rows": null,
            "grid_column": null,
            "grid_gap": null,
            "grid_row": null,
            "grid_template_areas": null,
            "grid_template_columns": null,
            "grid_template_rows": null,
            "height": null,
            "justify_content": null,
            "justify_items": null,
            "left": null,
            "margin": null,
            "max_height": null,
            "max_width": null,
            "min_height": null,
            "min_width": null,
            "object_fit": null,
            "object_position": null,
            "order": null,
            "overflow": null,
            "overflow_x": null,
            "overflow_y": null,
            "padding": null,
            "right": null,
            "top": null,
            "visibility": null,
            "width": null
          }
        },
        "d3e43dcbad9b4304917ebc8857f2e3a8": {
          "model_module": "@jupyter-widgets/controls",
          "model_module_version": "1.5.0",
          "model_name": "ProgressStyleModel",
          "state": {
            "_model_module": "@jupyter-widgets/controls",
            "_model_module_version": "1.5.0",
            "_model_name": "ProgressStyleModel",
            "_view_count": null,
            "_view_module": "@jupyter-widgets/base",
            "_view_module_version": "1.2.0",
            "_view_name": "StyleView",
            "bar_color": null,
            "description_width": ""
          }
        },
        "d4fbeff048104329a575905c4a73628e": {
          "model_module": "@jupyter-widgets/base",
          "model_module_version": "1.2.0",
          "model_name": "LayoutModel",
          "state": {
            "_model_module": "@jupyter-widgets/base",
            "_model_module_version": "1.2.0",
            "_model_name": "LayoutModel",
            "_view_count": null,
            "_view_module": "@jupyter-widgets/base",
            "_view_module_version": "1.2.0",
            "_view_name": "LayoutView",
            "align_content": null,
            "align_items": null,
            "align_self": null,
            "border": null,
            "bottom": null,
            "display": null,
            "flex": null,
            "flex_flow": null,
            "grid_area": null,
            "grid_auto_columns": null,
            "grid_auto_flow": null,
            "grid_auto_rows": null,
            "grid_column": null,
            "grid_gap": null,
            "grid_row": null,
            "grid_template_areas": null,
            "grid_template_columns": null,
            "grid_template_rows": null,
            "height": null,
            "justify_content": null,
            "justify_items": null,
            "left": null,
            "margin": null,
            "max_height": null,
            "max_width": null,
            "min_height": null,
            "min_width": null,
            "object_fit": null,
            "object_position": null,
            "order": null,
            "overflow": null,
            "overflow_x": null,
            "overflow_y": null,
            "padding": null,
            "right": null,
            "top": null,
            "visibility": null,
            "width": null
          }
        },
        "d8ddbc8923ad41fdaa332d92c2ad6d86": {
          "model_module": "@jupyter-widgets/controls",
          "model_module_version": "1.5.0",
          "model_name": "FloatProgressModel",
          "state": {
            "_dom_classes": [],
            "_model_module": "@jupyter-widgets/controls",
            "_model_module_version": "1.5.0",
            "_model_name": "FloatProgressModel",
            "_view_count": null,
            "_view_module": "@jupyter-widgets/controls",
            "_view_module_version": "1.5.0",
            "_view_name": "ProgressView",
            "bar_style": "success",
            "description": "",
            "description_tooltip": null,
            "layout": "IPY_MODEL_13456fd82a614fe5a021f3bb06acfac6",
            "max": 71813,
            "min": 0,
            "orientation": "horizontal",
            "style": "IPY_MODEL_f57e3f0572474ab4a2925aac7bd916d5",
            "value": 71813
          }
        },
        "e97237c057c14d00886b36b3c5fcfd59": {
          "model_module": "@jupyter-widgets/controls",
          "model_module_version": "1.5.0",
          "model_name": "ProgressStyleModel",
          "state": {
            "_model_module": "@jupyter-widgets/controls",
            "_model_module_version": "1.5.0",
            "_model_name": "ProgressStyleModel",
            "_view_count": null,
            "_view_module": "@jupyter-widgets/base",
            "_view_module_version": "1.2.0",
            "_view_name": "StyleView",
            "bar_color": null,
            "description_width": ""
          }
        },
        "eddf6673e3c54fd6991cbae336a6ef2a": {
          "model_module": "@jupyter-widgets/controls",
          "model_module_version": "1.5.0",
          "model_name": "HTMLModel",
          "state": {
            "_dom_classes": [],
            "_model_module": "@jupyter-widgets/controls",
            "_model_module_version": "1.5.0",
            "_model_name": "HTMLModel",
            "_view_count": null,
            "_view_module": "@jupyter-widgets/controls",
            "_view_module_version": "1.5.0",
            "_view_name": "HTMLView",
            "description": "",
            "description_tooltip": null,
            "layout": "IPY_MODEL_fa2fdaf9a2f74ef3b674cad94b38ae09",
            "placeholder": "​",
            "style": "IPY_MODEL_2b2119168784442dbb11499f21f0c490",
            "value": "config.json: 100%"
          }
        },
        "f012fef890bd4b7494e096cad7faff4f": {
          "model_module": "@jupyter-widgets/base",
          "model_module_version": "1.2.0",
          "model_name": "LayoutModel",
          "state": {
            "_model_module": "@jupyter-widgets/base",
            "_model_module_version": "1.2.0",
            "_model_name": "LayoutModel",
            "_view_count": null,
            "_view_module": "@jupyter-widgets/base",
            "_view_module_version": "1.2.0",
            "_view_name": "LayoutView",
            "align_content": null,
            "align_items": null,
            "align_self": null,
            "border": null,
            "bottom": null,
            "display": null,
            "flex": null,
            "flex_flow": null,
            "grid_area": null,
            "grid_auto_columns": null,
            "grid_auto_flow": null,
            "grid_auto_rows": null,
            "grid_column": null,
            "grid_gap": null,
            "grid_row": null,
            "grid_template_areas": null,
            "grid_template_columns": null,
            "grid_template_rows": null,
            "height": null,
            "justify_content": null,
            "justify_items": null,
            "left": null,
            "margin": null,
            "max_height": null,
            "max_width": null,
            "min_height": null,
            "min_width": null,
            "object_fit": null,
            "object_position": null,
            "order": null,
            "overflow": null,
            "overflow_x": null,
            "overflow_y": null,
            "padding": null,
            "right": null,
            "top": null,
            "visibility": null,
            "width": null
          }
        },
        "f47e4db611f643b78a62d1cf30202e54": {
          "model_module": "@jupyter-widgets/base",
          "model_module_version": "1.2.0",
          "model_name": "LayoutModel",
          "state": {
            "_model_module": "@jupyter-widgets/base",
            "_model_module_version": "1.2.0",
            "_model_name": "LayoutModel",
            "_view_count": null,
            "_view_module": "@jupyter-widgets/base",
            "_view_module_version": "1.2.0",
            "_view_name": "LayoutView",
            "align_content": null,
            "align_items": null,
            "align_self": null,
            "border": null,
            "bottom": null,
            "display": null,
            "flex": null,
            "flex_flow": null,
            "grid_area": null,
            "grid_auto_columns": null,
            "grid_auto_flow": null,
            "grid_auto_rows": null,
            "grid_column": null,
            "grid_gap": null,
            "grid_row": null,
            "grid_template_areas": null,
            "grid_template_columns": null,
            "grid_template_rows": null,
            "height": null,
            "justify_content": null,
            "justify_items": null,
            "left": null,
            "margin": null,
            "max_height": null,
            "max_width": null,
            "min_height": null,
            "min_width": null,
            "object_fit": null,
            "object_position": null,
            "order": null,
            "overflow": null,
            "overflow_x": null,
            "overflow_y": null,
            "padding": null,
            "right": null,
            "top": null,
            "visibility": null,
            "width": null
          }
        },
        "f57e3f0572474ab4a2925aac7bd916d5": {
          "model_module": "@jupyter-widgets/controls",
          "model_module_version": "1.5.0",
          "model_name": "ProgressStyleModel",
          "state": {
            "_model_module": "@jupyter-widgets/controls",
            "_model_module_version": "1.5.0",
            "_model_name": "ProgressStyleModel",
            "_view_count": null,
            "_view_module": "@jupyter-widgets/base",
            "_view_module_version": "1.2.0",
            "_view_name": "StyleView",
            "bar_color": null,
            "description_width": ""
          }
        },
        "fa2fdaf9a2f74ef3b674cad94b38ae09": {
          "model_module": "@jupyter-widgets/base",
          "model_module_version": "1.2.0",
          "model_name": "LayoutModel",
          "state": {
            "_model_module": "@jupyter-widgets/base",
            "_model_module_version": "1.2.0",
            "_model_name": "LayoutModel",
            "_view_count": null,
            "_view_module": "@jupyter-widgets/base",
            "_view_module_version": "1.2.0",
            "_view_name": "LayoutView",
            "align_content": null,
            "align_items": null,
            "align_self": null,
            "border": null,
            "bottom": null,
            "display": null,
            "flex": null,
            "flex_flow": null,
            "grid_area": null,
            "grid_auto_columns": null,
            "grid_auto_flow": null,
            "grid_auto_rows": null,
            "grid_column": null,
            "grid_gap": null,
            "grid_row": null,
            "grid_template_areas": null,
            "grid_template_columns": null,
            "grid_template_rows": null,
            "height": null,
            "justify_content": null,
            "justify_items": null,
            "left": null,
            "margin": null,
            "max_height": null,
            "max_width": null,
            "min_height": null,
            "min_width": null,
            "object_fit": null,
            "object_position": null,
            "order": null,
            "overflow": null,
            "overflow_x": null,
            "overflow_y": null,
            "padding": null,
            "right": null,
            "top": null,
            "visibility": null,
            "width": null
          }
        },
        "fb8e1a7ba44c4823812b5bd110b72473": {
          "model_module": "@jupyter-widgets/base",
          "model_module_version": "1.2.0",
          "model_name": "LayoutModel",
          "state": {
            "_model_module": "@jupyter-widgets/base",
            "_model_module_version": "1.2.0",
            "_model_name": "LayoutModel",
            "_view_count": null,
            "_view_module": "@jupyter-widgets/base",
            "_view_module_version": "1.2.0",
            "_view_name": "LayoutView",
            "align_content": null,
            "align_items": null,
            "align_self": null,
            "border": null,
            "bottom": null,
            "display": null,
            "flex": null,
            "flex_flow": null,
            "grid_area": null,
            "grid_auto_columns": null,
            "grid_auto_flow": null,
            "grid_auto_rows": null,
            "grid_column": null,
            "grid_gap": null,
            "grid_row": null,
            "grid_template_areas": null,
            "grid_template_columns": null,
            "grid_template_rows": null,
            "height": null,
            "justify_content": null,
            "justify_items": null,
            "left": null,
            "margin": null,
            "max_height": null,
            "max_width": null,
            "min_height": null,
            "min_width": null,
            "object_fit": null,
            "object_position": null,
            "order": null,
            "overflow": null,
            "overflow_x": null,
            "overflow_y": null,
            "padding": null,
            "right": null,
            "top": null,
            "visibility": null,
            "width": null
          }
        },
        "fc744a9883a44f40ac0d78d8b0fd07fa": {
          "model_module": "@jupyter-widgets/base",
          "model_module_version": "1.2.0",
          "model_name": "LayoutModel",
          "state": {
            "_model_module": "@jupyter-widgets/base",
            "_model_module_version": "1.2.0",
            "_model_name": "LayoutModel",
            "_view_count": null,
            "_view_module": "@jupyter-widgets/base",
            "_view_module_version": "1.2.0",
            "_view_name": "LayoutView",
            "align_content": null,
            "align_items": null,
            "align_self": null,
            "border": null,
            "bottom": null,
            "display": null,
            "flex": null,
            "flex_flow": null,
            "grid_area": null,
            "grid_auto_columns": null,
            "grid_auto_flow": null,
            "grid_auto_rows": null,
            "grid_column": null,
            "grid_gap": null,
            "grid_row": null,
            "grid_template_areas": null,
            "grid_template_columns": null,
            "grid_template_rows": null,
            "height": null,
            "justify_content": null,
            "justify_items": null,
            "left": null,
            "margin": null,
            "max_height": null,
            "max_width": null,
            "min_height": null,
            "min_width": null,
            "object_fit": null,
            "object_position": null,
            "order": null,
            "overflow": null,
            "overflow_x": null,
            "overflow_y": null,
            "padding": null,
            "right": null,
            "top": null,
            "visibility": null,
            "width": null
          }
        },
        "fe0d2725ef52458eab9710db5106290a": {
          "model_module": "@jupyter-widgets/controls",
          "model_module_version": "1.5.0",
          "model_name": "DescriptionStyleModel",
          "state": {
            "_model_module": "@jupyter-widgets/controls",
            "_model_module_version": "1.5.0",
            "_model_name": "DescriptionStyleModel",
            "_view_count": null,
            "_view_module": "@jupyter-widgets/base",
            "_view_module_version": "1.2.0",
            "_view_name": "StyleView",
            "description_width": ""
          }
        }
      }
    }
  },
  "nbformat": 4,
  "nbformat_minor": 0
}
